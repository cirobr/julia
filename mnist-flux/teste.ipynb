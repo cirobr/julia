{
 "cells": [
  {
   "cell_type": "code",
   "execution_count": 1,
   "id": "d48763e4",
   "metadata": {},
   "outputs": [],
   "source": [
    "using CUDA\n",
    "using Flux              # the julia ml library\n"
   ]
  },
  {
   "cell_type": "code",
   "execution_count": 2,
   "id": "05093dc5",
   "metadata": {},
   "outputs": [],
   "source": [
    "# fake data\n",
    "N = 60000\n",
    "\n",
    "X_true = randn((28, 28, N))\n",
    "y_true = rand(1:10, N)\n",
    "\n",
    "function preprocess(X, y)\n",
    "    Xs = Float32.(X) |> Flux.flatten\n",
    "    ys = Flux.onehotbatch( Float32.(y), 1:10 )\n",
    "    \n",
    "    return (Xs, ys)\n",
    "end\n",
    "\n",
    "h, v, N = size(X_true); d = h * v\n",
    "X, y = preprocess(X_true, y_true);"
   ]
  },
  {
   "cell_type": "code",
   "execution_count": 3,
   "id": "43ff24a8",
   "metadata": {},
   "outputs": [
    {
     "data": {
      "text/plain": [
       "(784, 60000, (784, 60000), (10, 60000))"
      ]
     },
     "execution_count": 3,
     "metadata": {},
     "output_type": "execute_result"
    }
   ],
   "source": [
    "d, N, size(X), size(y)"
   ]
  },
  {
   "cell_type": "code",
   "execution_count": 8,
   "id": "bd029ab1",
   "metadata": {},
   "outputs": [
    {
     "data": {
      "text/plain": [
       "Flux.Data.DataLoader{Tuple{CuArray{Float32, 2, CUDA.Mem.DeviceBuffer}, Flux.OneHotArray{UInt32, 10, 1, 2, CuArray{UInt32, 1, CUDA.Mem.DeviceBuffer}}}, Random._GLOBAL_RNG}((Float32[0.19320646 1.8693867 … 0.10007166 -1.0638701; -0.26152492 -1.6822407 … 0.113506675 0.37112305; … ; -0.69257283 2.568404 … -1.6768019 0.2516955; -1.3831296 -0.9397052 … 0.3330867 0.4828851], Bool[0 0 … 0 0; 0 1 … 0 0; … ; 0 0 … 0 0; 0 0 … 0 0]), 10000, 60000, true, 60000, [1, 2, 3, 4, 5, 6, 7, 8, 9, 10  …  59991, 59992, 59993, 59994, 59995, 59996, 59997, 59998, 59999, 60000], false, Random._GLOBAL_RNG())"
      ]
     },
     "execution_count": 8,
     "metadata": {},
     "output_type": "execute_result"
    }
   ],
   "source": [
    "#CUDA.allowscalar(false)\n",
    "\n",
    "X_d = X |> gpu   # data on gpu\n",
    "y_d = y |> gpu   # data on gpu\n",
    "\n",
    "# model configuration\n",
    "nInputs  = d\n",
    "nOutputs = 10\n",
    "model = Flux.Dense(nInputs, nOutputs, relu) |> gpu   # weights on gpu\n",
    "\n",
    "losses(X, y)    = Flux.crossentropy( model(X), y )\n",
    "modelParameters = Flux.params(model)\n",
    "dataLoader = @CUDA.allowscalar Flux.DataLoader((X_d, y_d), batchsize=10000)\n"
   ]
  },
  {
   "cell_type": "code",
   "execution_count": 20,
   "id": "d0e2acf2",
   "metadata": {},
   "outputs": [
    {
     "name": "stdout",
     "output_type": "stream",
     "text": [
      "  0.061832 seconds (6.22 k allocations: 823.656 KiB)\n"
     ]
    }
   ],
   "source": [
    "# Flux.train!(loss, params, data, opt; cb)\n",
    "@time Flux.train!(losses, modelParameters, dataLoader, Descent())"
   ]
  }
 ],
 "metadata": {
  "kernelspec": {
   "display_name": "Julia 1.6.5",
   "language": "julia",
   "name": "julia-1.6"
  },
  "language_info": {
   "file_extension": ".jl",
   "mimetype": "application/julia",
   "name": "julia",
   "version": "1.6.5"
  }
 },
 "nbformat": 4,
 "nbformat_minor": 5
}
