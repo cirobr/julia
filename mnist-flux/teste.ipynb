{
 "cells": [
  {
   "cell_type": "code",
   "execution_count": null,
   "id": "d48763e4",
   "metadata": {},
   "outputs": [],
   "source": [
    "using CUDA\n",
    "using Flux              # the julia ml library\n"
   ]
  },
  {
   "cell_type": "code",
   "execution_count": null,
   "id": "05093dc5",
   "metadata": {},
   "outputs": [],
   "source": [
    "# fake data\n",
    "N = 60000\n",
    "\n",
    "X_true = randn((28, 28, N))\n",
    "y_true = rand(1:10, N)\n",
    "\n",
    "function preprocess(X, y)\n",
    "    Xs = Float32.(X) |> Flux.flatten\n",
    "    ys = Flux.onehotbatch( Float32.(y), 1:10 )\n",
    "    \n",
    "    return (Xs, ys)\n",
    "end\n",
    "\n",
    "h, v, N = size(X_true); d = h * v\n",
    "X, y = preprocess(X_true, y_true);"
   ]
  },
  {
   "cell_type": "code",
   "execution_count": null,
   "id": "43ff24a8",
   "metadata": {},
   "outputs": [],
   "source": [
    "d, N, size(X), size(y)"
   ]
  },
  {
   "cell_type": "code",
   "execution_count": null,
   "id": "bd029ab1",
   "metadata": {},
   "outputs": [],
   "source": [
    "#CUDA.allowscalar(false)\n",
    "\n",
    "X_d = X |> gpu   # data on gpu\n",
    "y_d = y |> gpu   # data on gpu\n",
    "\n",
    "# model configuration\n",
    "nInputs  = d\n",
    "nOutputs = 10\n",
    "model = Flux.Dense(nInputs, nOutputs, relu) |> gpu   # weights on gpu\n",
    "\n",
    "losses(X, y)    = Flux.crossentropy( model(X), y )\n",
    "modelParameters = Flux.params(model)\n",
    "dataLoader = @CUDA.allowscalar Flux.DataLoader((X_d, y_d), batchsize=10000)\n"
   ]
  },
  {
   "cell_type": "code",
   "execution_count": null,
   "id": "d0e2acf2",
   "metadata": {},
   "outputs": [],
   "source": [
    "# Flux.train!(loss, params, data, opt; cb)\n",
    "@time Flux.train!(losses, modelParameters, dataLoader, Descent())"
   ]
  }
 ],
 "metadata": {
  "kernelspec": {
   "display_name": "Julia 1.6.6",
   "language": "julia",
   "name": "julia-1.6"
  },
  "language_info": {
   "file_extension": ".jl",
   "mimetype": "application/julia",
   "name": "julia",
   "version": "1.6.6"
  }
 },
 "nbformat": 4,
 "nbformat_minor": 5
}
