{
 "cells": [
  {
   "cell_type": "markdown",
   "id": "e145f758",
   "metadata": {},
   "source": [
    "#### Flux with MNIST and GPU\n"
   ]
  },
  {
   "cell_type": "markdown",
   "id": "5f262ba3",
   "metadata": {},
   "source": [
    "##### Libraries"
   ]
  },
  {
   "cell_type": "code",
   "execution_count": 1,
   "id": "d63e87f2",
   "metadata": {},
   "outputs": [],
   "source": [
    "using CUDA\n",
    "\n",
    "using MLDatasets           # mnist\n",
    "using Images\n",
    "using PreprocessingImages; pim = PreprocessingImages\n",
    "using PreprocessingArrays; pa  = PreprocessingArrays\n",
    "\n",
    "using MLJ                  # make_blobs, rmse, confmat, f1score, coerce\n",
    "using MLDataUtils          # label, nlabel, labelfreq, stratifiedobs\n",
    "using Flux                 # the julia ml library\n",
    "\n",
    "using Plots\n",
    "using Random\n",
    "using DataFrames"
   ]
  },
  {
   "cell_type": "code",
   "execution_count": 2,
   "id": "5545d1b2",
   "metadata": {},
   "outputs": [
    {
     "data": {
      "text/plain": [
       "trainModel! (generic function with 1 method)"
      ]
     },
     "metadata": {},
     "output_type": "display_data"
    }
   ],
   "source": [
    "include(\"../libs/libml.jl\")"
   ]
  },
  {
   "cell_type": "markdown",
   "id": "8903cf71",
   "metadata": {},
   "source": [
    "##### MNIST"
   ]
  },
  {
   "cell_type": "code",
   "execution_count": 3,
   "id": "4d7603a2",
   "metadata": {},
   "outputs": [
    {
     "data": {
      "text/plain": [
       "(28, 28, 60000)"
      ]
     },
     "metadata": {},
     "output_type": "display_data"
    },
    {
     "data": {
      "text/plain": [
       "1×5 adjoint(::Vector{Int64}) with eltype Int64:\n",
       " 5  0  4  1  9"
      ]
     },
     "metadata": {},
     "output_type": "display_data"
    },
    {
     "data": {
      "image/png": "[encoded data removed]",
      "text/html": [
       "<img src=\"data:image/png;base64,iVBORw0KGgoAAAANSUhEUgAAARgAAAA4CAAAAAADPrjSAAAABGdBTUEAALGPC/xhBQAAAAFzUkdCAK7OHOkAAAAgY0hSTQAAeiYAAICEAAD6AAAAgOgAAHUwAADqYAAAOpgAABdwnLpRPAAABPJJREFUaAXtwX2M1nUBAPDPc34HHjmOeOlgOUSNaKPggqHpCCheckgGUSIpiJW6UGQrmViXO6cwEvgDGE4nE+TFXS3CQ51DJnHGoJsn6pwEkTQccBGi58FF3vJ52rPjFnf3fV44tNX8fT5BIipIRAWJqCARFSSigkRUkIgKElHBJ2Kku8223ip7/X8KElFBDhcpk3W3Hoa4yzIz/dMSDyqswnY9Zcxygz66ZrxNxjrgfFR6UIlxal24IBEVdDBQN9carZfp2hyx0jSnvKFWYVfZrEzGKS36uMarWnQ2Rh9b5DZKvfMzx0JpZHwcgkRU0M5XvaRMe2mVmj3tmPcdkF8PI2w0QNZBj6i2yy8t1tk4g22RS4nLDZRyPi7TXfGuNssYQ3GvY75ugzrnChJRQTuHnVSmTZ1G39Big2I9bqY2I1yi1jhfETPbHrkNcLuN9iveBPOw3xTHFTbDCn2l7NTPUqT0dZNzBYmooJ33LDDFa1bidRM1G2q+Yo10vRRqPWepBq953zelxJTIZw0OKt5o65RhqcMKCUZ5Qg8ve8gu3f3GJNRrL0hEBR08Y4dThvuR5ZrxljsUp8J2PWW8YKaxKq1xwhvSrjfCXu0NUy6fMmxXvFsNwE7rFXaLNdhuhibMMAlHPKW9IBEVdNKED/Bj1dKK9UULlHlXg6ec9rzntSn1Mzdrb7JSuZW7HEcVq68fSmu0SGEPu1/Goyo1yfqFrHuc0F6QiAqiqow01gQvKk53y0x2ymz1SnU0UEdD8JZclin3Z6cUZ5DNslbZoZAH3K/FNvc5g4tNMlDKw2p0FCSigqhmt9vrCb9Xb7WMQkaYjO+oVbxXdNbTdW4xCQ9pVJzrDMNLViikl7kytpkq6ws2GYnfekRnQSIqyOFtc6w1yyyfsV6D/JZLqVWrsxJpKTG9tRquxHiX6uZmJc6o86HgVcWZagl2udUHCummL+7xObe5wZddIiNjo2adBYmoIKct/mK58Ra7zCJH5TZFhYytYtIyXtfRGRmP+bmsYVL+5R/2eVK9WscdUWq/YgyyWdYhxxXW4oR+/ioj65gmA7zrWTFBIirI4003+ra17jTYRLmV6ubvfq2j7qqww0IdzXXYtVq9o8Y+f9TmDv0cUpz7pGUtUYxGUz2nt7fVWOc91QaoFhckooK8Gm2wRjDGODvl86EG7XVXaYEjljuts1/JZTw2K0aFSbJqHFCcOv20GWOstEPigkRUkMcw3zNKwD4vy2+r9iosMEON6briGcV40WdRZ46uKJWWUS0uSEQFOQwxzzT9ZX2kQVpuKSlTzfcfP1WpzCazfZL6SGO107pim3yCRFQQ0d8P3GWQVvUW2SqfjIz+VnrSSV8zy3CXesc2j+qalMH2KGStElm7dc235BMkooIOyg21ype0qrNUjbTCLjLXdE0Gy9pjhwd0VUaJQipMlNZiteO65kr5BImo4By9Pa7CFVrtttw2ZxS2xytGob9ynFRtvgtzjXXy66UcR92rq/6gRFouQSIqOOtqC1zl81qdscJizYpzxHfdqVLWCo856MKk/De86aArXOmEmCARFZw1zTRZf/KsjyzT6Hw0qFLl4/GC7ytsv91GuzCLrbHIPPt0FiSigrMWWuh/wzrrFPY3Y12o37nJBFVu06yjIBEVfIo1udEiP1Fln46CRFTwqdZknnligkTUvwF5x1NZIErsDQAAAABJRU5ErkJg\">"
      ],
      "text/plain": [
       "28×140 MosaicView{Gray{Float32}, 4, Base.ReshapedArray{Gray{Float32}, 4, PaddedView{Gray{Float32}, 3, Tuple{Base.OneTo{Int64}, Base.OneTo{Int64}, Base.OneTo{Int64}}, Array{Gray{Float32}, 3}}, Tuple{Base.MultiplicativeInverses.SignedMultiplicativeInverse{Int64}, Base.MultiplicativeInverses.SignedMultiplicativeInverse{Int64}}}}:\n",
       " Gray{Float32}(0.0)  Gray{Float32}(0.0)  …  Gray{Float32}(0.0)\n",
       " Gray{Float32}(0.0)  Gray{Float32}(0.0)     Gray{Float32}(0.0)\n",
       " Gray{Float32}(0.0)  Gray{Float32}(0.0)     Gray{Float32}(0.0)\n",
       " Gray{Float32}(0.0)  Gray{Float32}(0.0)     Gray{Float32}(0.0)\n",
       " Gray{Float32}(0.0)  Gray{Float32}(0.0)     Gray{Float32}(0.0)\n",
       " Gray{Float32}(0.0)  Gray{Float32}(0.0)  …  Gray{Float32}(0.0)\n",
       " Gray{Float32}(0.0)  Gray{Float32}(0.0)     Gray{Float32}(0.0)\n",
       " Gray{Float32}(0.0)  Gray{Float32}(0.0)     Gray{Float32}(0.0)\n",
       " Gray{Float32}(0.0)  Gray{Float32}(0.0)     Gray{Float32}(0.0)\n",
       " Gray{Float32}(0.0)  Gray{Float32}(0.0)     Gray{Float32}(0.0)\n",
       " ⋮                                       ⋱  \n",
       " Gray{Float32}(0.0)  Gray{Float32}(0.0)     Gray{Float32}(0.0)\n",
       " Gray{Float32}(0.0)  Gray{Float32}(0.0)  …  Gray{Float32}(0.0)\n",
       " Gray{Float32}(0.0)  Gray{Float32}(0.0)     Gray{Float32}(0.0)\n",
       " Gray{Float32}(0.0)  Gray{Float32}(0.0)     Gray{Float32}(0.0)\n",
       " Gray{Float32}(0.0)  Gray{Float32}(0.0)     Gray{Float32}(0.0)\n",
       " Gray{Float32}(0.0)  Gray{Float32}(0.0)     Gray{Float32}(0.0)\n",
       " Gray{Float32}(0.0)  Gray{Float32}(0.0)  …  Gray{Float32}(0.0)\n",
       " Gray{Float32}(0.0)  Gray{Float32}(0.0)     Gray{Float32}(0.0)\n",
       " Gray{Float32}(0.0)  Gray{Float32}(0.0)     Gray{Float32}(0.0)"
      ]
     },
     "metadata": {},
     "output_type": "display_data"
    }
   ],
   "source": [
    "# load mnist\n",
    "datasetX,    datasetY    = MNIST(:train)[:]\n",
    "validationX, validationY = MNIST(:test)[:]\n",
    "\n",
    "display( size(datasetX) )\n",
    "\n",
    "img  = datasetX[:, :, 1:5]\n",
    "img2 = permutedims(img, (2, 1, 3))\n",
    "\n",
    "display(datasetY[1:5]')\n",
    "mosaicview( Gray.(img2)  ; nrow=1)"
   ]
  },
  {
   "cell_type": "code",
   "execution_count": 4,
   "id": "2ecbb1f6",
   "metadata": {},
   "outputs": [
    {
     "data": {
      "text/plain": [
       "((28, 28, 42001), (28, 28, 17999), (28, 28, 10000))"
      ]
     },
     "metadata": {},
     "output_type": "display_data"
    }
   ],
   "source": [
    "# split trainset, testset from dataset\n",
    "Random.seed!(1)\n",
    "(trainX, trainY), (testX, testY) = MLDataUtils.stratifiedobs((datasetX, datasetY), p = 0.7)\n",
    "size(trainX), size(testX), size(validationX)"
   ]
  },
  {
   "cell_type": "markdown",
   "id": "b8b9c3b0",
   "metadata": {},
   "source": [
    "##### Preprocessing\n",
    "\n",
    "Flux primarily works with matrices and vectors"
   ]
  },
  {
   "cell_type": "code",
   "execution_count": 5,
   "id": "f76c815d",
   "metadata": {},
   "outputs": [
    {
     "data": {
      "text/plain": [
       "(784, 42001, (784, 42001), (10, 42001))"
      ]
     },
     "metadata": {},
     "output_type": "display_data"
    }
   ],
   "source": [
    "function preprocess(X, y)\n",
    "    Xs = Float32.(X) |> Flux.flatten\n",
    "    ys = Flux.onehotbatch( Float32.(y), 0:9 )\n",
    "    \n",
    "    return (Xs, ys)\n",
    "end\n",
    "\n",
    "h, v, N = size(trainX); d = h * v\n",
    "tr_X, tr_y = preprocess(trainX, trainY)\n",
    "d, N, size(tr_X), size(tr_y)"
   ]
  },
  {
   "cell_type": "markdown",
   "id": "b9f2d81e",
   "metadata": {},
   "source": [
    "##### Model"
   ]
  },
  {
   "cell_type": "code",
   "execution_count": 6,
   "id": "4d606cd7",
   "metadata": {},
   "outputs": [],
   "source": [
    "# data on gpu\n",
    "X_d = tr_X |> gpu\n",
    "y_d = tr_y |> gpu;"
   ]
  },
  {
   "cell_type": "code",
   "execution_count": 7,
   "id": "eb1374e8",
   "metadata": {},
   "outputs": [],
   "source": [
    "# model configuration\n",
    "nInputs  = d\n",
    "nOutputs = 10\n",
    "\n",
    "model = Chain( Flux.Dense(nInputs, 256, tanh),\n",
    "               Flux.Dense(256, nOutputs, relu),\n",
    "               softmax ) |> gpu                                      # weights on gpu\n",
    "\n",
    "lossFunction(X, y) = Flux.mse( model(X), y )\n",
    "modelParameters    = Flux.params(model)\n",
    "data               = Flux.DataLoader((X_d, y_d), batchsize=1)      # batchsize=1 => SGD, batch size > 1 => batch gradient descent\n",
    "modelOptimizer     = Flux.Descent()\n",
    "callBack           = Flux.throttle(() -> println(\"training\"), 10);   # print every 10s"
   ]
  },
  {
   "cell_type": "markdown",
   "id": "ea26fddb",
   "metadata": {},
   "source": [
    "##### Training"
   ]
  },
  {
   "cell_type": "code",
   "execution_count": 8,
   "id": "445003d8",
   "metadata": {},
   "outputs": [],
   "source": [
    "# trainModel!( lossFunction, modelParameters, data, modelOptimizer )   # libml"
   ]
  },
  {
   "cell_type": "code",
   "execution_count": 9,
   "id": "467e2940",
   "metadata": {},
   "outputs": [
    {
     "data": {
      "text/plain": [
       "500"
      ]
     },
     "metadata": {},
     "output_type": "display_data"
    }
   ],
   "source": [
    "numberOfEpochs = 500"
   ]
  },
  {
   "cell_type": "code",
   "execution_count": 18,
   "id": "5837527a",
   "metadata": {},
   "outputs": [
    {
     "data": {
      "text/plain": [
       "stopCriteria (generic function with 1 method)"
      ]
     },
     "metadata": {},
     "output_type": "display_data"
    }
   ],
   "source": [
    "function stopCriteria(epoch::Int, tailLosses::Vector{Float64}, minDeltaLoss::Float64)\n",
    "    if epoch < 3   return(false)   end\n",
    "\n",
    "    if tailLosses[3] > tailLosses[2] && tailLosses[2] > tailLosses[1]\n",
    "        # ver como voltar o modelo em 2 epochs\n",
    "        return(true)\n",
    "    end\n",
    "\n",
    "    deltas = zeros(3)\n",
    "    dt = abs( tailLosses[end-1] - tailLosses[end] )\n",
    "    deltas[1] = deltas[2]\n",
    "    deltas[2] = deltas[3]\n",
    "    deltas[3] = dt\n",
    "    display( (epoch, deltas) )\n",
    "    if deltas[3] > deltas[2] && deltas[2] > deltas[1]   return(true)   end   # delta loss growing\n",
    "    if dt < minDeltaLoss   return(true)   end                                # delta loss too small\n",
    "end"
   ]
  },
  {
   "cell_type": "markdown",
   "id": "1f8a4dbe",
   "metadata": {},
   "source": [
    "Training epoch with plotting, with the aid of homemade function trainModel!"
   ]
  },
  {
   "cell_type": "code",
   "execution_count": 11,
   "id": "0a8fe48d",
   "metadata": {},
   "outputs": [],
   "source": [
    "# epochs      = 1 : numberOfEpochs\n",
    "# epochLosses = Vector{Float32}()\n",
    "\n",
    "# deltas = zeros(3)\n",
    "# for epoch in epochs\n",
    "#     l = trainModel!( lossFunction, modelParameters, data, modelOptimizer )   # libml\n",
    "#     push!(epochLosses, l)\n",
    "\n",
    "#     # exit criteria\n",
    "#     if     epoch == 2\n",
    "#         deltas[2] = abs( epochLosses[1] - epochLosses[2] )\n",
    "#     elseif epoch == 3\n",
    "#         deltas[3] = abs( epochLosses[2] - epochLosses[3] )\n",
    "#     elseif epoch > 3\n",
    "#         if epochLosses[end] > epochLosses[end-1]  &&  epochLosses[end-1] > epochLosses[end-2]   # loss function growing\n",
    "#             # ver como voltar o modelo em 2 epochs\n",
    "#             break\n",
    "#         end\n",
    "\n",
    "#         dt = abs( epochLosses[epoch-1] - epochLosses[epoch] )\n",
    "#         deltas[1] = deltas[2]\n",
    "#         deltas[2] = deltas[3]\n",
    "#         deltas[3] = dt\n",
    "#         # display( (epoch, deltas) )\n",
    "#         if deltas[3] > deltas[2] && deltas[2] > deltas[1]   break   end   # delta loss growing\n",
    "#         if dt < 1e-7   break   end                                        # delta loss too small\n",
    "#     end\n",
    "\n",
    "# end"
   ]
  },
  {
   "cell_type": "code",
   "execution_count": 19,
   "id": "38bb5cc2",
   "metadata": {},
   "outputs": [
    {
     "data": {
      "text/plain": [
       "(3, [0.0, 0.0, 0.00028694234788417816])"
      ]
     },
     "metadata": {},
     "output_type": "display_data"
    },
    {
     "ename": "TypeError",
     "evalue": "TypeError: non-boolean (Nothing) used in boolean context",
     "output_type": "error",
     "traceback": [
      "TypeError: non-boolean (Nothing) used in boolean context\n",
      "\n",
      "Stacktrace:\n",
      "  [1] top-level scope\n",
      "    @ ~/projects/julia/mnist-flux/teste.ipynb:12\n",
      "  [2] eval\n",
      "    @ ./boot.jl:360 [inlined]\n",
      "  [3] include_string(mapexpr::typeof(REPL.softscope), mod::Module, code::String, filename::String)\n",
      "    @ Base ./loading.jl:1116\n",
      "  [4] #invokelatest#2\n",
      "    @ ./essentials.jl:708 [inlined]\n",
      "  [5] invokelatest\n",
      "    @ ./essentials.jl:706 [inlined]\n",
      "  [6] (::VSCodeServer.var\"#160#161\"{VSCodeServer.NotebookRunCellArguments, String})()\n",
      "    @ VSCodeServer ~/.vscode/extensions/julialang.language-julia-1.6.17/scripts/packages/VSCodeServer/src/serve_notebook.jl:19\n",
      "  [7] withpath(f::VSCodeServer.var\"#160#161\"{VSCodeServer.NotebookRunCellArguments, String}, path::String)\n",
      "    @ VSCodeServer ~/.vscode/extensions/julialang.language-julia-1.6.17/scripts/packages/VSCodeServer/src/repl.jl:184\n",
      "  [8] notebook_runcell_request(conn::VSCodeServer.JSONRPC.JSONRPCEndpoint{Base.PipeEndpoint, Base.PipeEndpoint}, params::VSCodeServer.NotebookRunCellArguments)\n",
      "    @ VSCodeServer ~/.vscode/extensions/julialang.language-julia-1.6.17/scripts/packages/VSCodeServer/src/serve_notebook.jl:13\n",
      "  [9] dispatch_msg(x::VSCodeServer.JSONRPC.JSONRPCEndpoint{Base.PipeEndpoint, Base.PipeEndpoint}, dispatcher::VSCodeServer.JSONRPC.MsgDispatcher, msg::Dict{String, Any})\n",
      "    @ VSCodeServer.JSONRPC ~/.vscode/extensions/julialang.language-julia-1.6.17/scripts/packages/JSONRPC/src/typed.jl:67\n",
      " [10] serve_notebook(pipename::String, outputchannel_logger::Base.CoreLogging.SimpleLogger; crashreporting_pipename::String)\n",
      "    @ VSCodeServer ~/.vscode/extensions/julialang.language-julia-1.6.17/scripts/packages/VSCodeServer/src/serve_notebook.jl:136\n",
      " [11] top-level scope\n",
      "    @ ~/.vscode/extensions/julialang.language-julia-1.6.17/scripts/notebook/notebook.jl:32\n",
      " [12] include(mod::Module, _path::String)\n",
      "    @ Base ./Base.jl:384\n",
      " [13] exec_options(opts::Base.JLOptions)\n",
      "    @ Base ./client.jl:285\n",
      " [14] _start()\n",
      "    @ Base ./client.jl:485"
     ]
    }
   ],
   "source": [
    "epochs       = 1 : numberOfEpochs\n",
    "epochLosses  = Vector{Float64}()\n",
    "tailLosses   = zeros(3)\n",
    "minDeltaLoss = 1e-7\n",
    "\n",
    "for epoch in epochs\n",
    "    l = trainModel!( lossFunction, modelParameters, data, modelOptimizer )   # libml\n",
    "    push!(epochLosses, l)\n",
    "\n",
    "    # exit criteria\n",
    "    if epoch >= 3   tailLosses = epochLosses[end-2: end]   end\n",
    "    if stopCriteria(epoch, tailLosses, minDeltaLoss)   break   end\n",
    "end"
   ]
  },
  {
   "cell_type": "code",
   "execution_count": 13,
   "id": "07065db1",
   "metadata": {},
   "outputs": [
    {
     "data": {
      "image/png": "[encoded data removed]",
      "image/svg+xml": "<?xml version=\"1.0\" encoding=\"utf-8\"?>\n<svg xmlns=\"http://www.w3.org/2000/svg\" xmlns:xlink=\"http://www.w3.org/1999/xlink\" width=\"300\" height=\"200\" viewBox=\"0 0 1200 800\">\n<defs>\n  <clipPath id=\"clip650\">\n    <rect x=\"0\" y=\"0\" width=\"1200\" height=\"800\"/>\n  </clipPath>\n</defs>\n<path clip-path=\"url(#clip650)\" d=\"\nM0 800 L1200 800 L1200 0 L0 0  Z\n  \" fill=\"#ffffff\" fill-rule=\"evenodd\" fill-opacity=\"1\"/>\n<defs>\n  <clipPath id=\"clip651\">\n    <rect x=\"240\" y=\"0\" width=\"841\" height=\"800\"/>\n  </clipPath>\n</defs>\n<path clip-path=\"url(#clip650)\" d=\"\nM174.274 694.448 L1152.76 694.448 L1152.76 47.2441 L174.274 47.2441  Z\n  \" fill=\"#ffffff\" fill-rule=\"evenodd\" fill-opacity=\"1\"/>\n<defs>\n  <clipPath id=\"clip652\">\n    <rect x=\"174\" y=\"47\" width=\"979\" height=\"648\"/>\n  </clipPath>\n</defs>\n<polyline clip-path=\"url(#clip652)\" style=\"stroke:#000000; stroke-linecap:butt; stroke-linejoin:round; stroke-width:2; stroke-opacity:0.1; fill:none\" points=\"\n  201.967,694.448 201.967,47.2441 \n  \"/>\n<polyline clip-path=\"url(#clip652)\" style=\"stroke:#000000; stroke-linecap:butt; stroke-linejoin:round; stroke-width:2; stroke-opacity:0.1; fill:none\" points=\"\n  432.741,694.448 432.741,47.2441 \n  \"/>\n<polyline clip-path=\"url(#clip652)\" style=\"stroke:#000000; stroke-linecap:butt; stroke-linejoin:round; stroke-width:2; stroke-opacity:0.1; fill:none\" points=\"\n  663.515,694.448 663.515,47.2441 \n  \"/>\n<polyline clip-path=\"url(#clip652)\" style=\"stroke:#000000; stroke-linecap:butt; stroke-linejoin:round; stroke-width:2; stroke-opacity:0.1; fill:none\" points=\"\n  894.289,694.448 894.289,47.2441 \n  \"/>\n<polyline clip-path=\"url(#clip652)\" style=\"stroke:#000000; stroke-linecap:butt; stroke-linejoin:round; stroke-width:2; stroke-opacity:0.1; fill:none\" points=\"\n  1125.06,694.448 1125.06,47.2441 \n  \"/>\n<polyline clip-path=\"url(#clip650)\" style=\"stroke:#000000; stroke-linecap:butt; stroke-linejoin:round; stroke-width:4; stroke-opacity:1; fill:none\" points=\"\n  174.274,694.448 1152.76,694.448 \n  \"/>\n<polyline clip-path=\"url(#clip650)\" style=\"stroke:#000000; stroke-linecap:butt; stroke-linejoin:round; stroke-width:4; stroke-opacity:1; fill:none\" points=\"\n  201.967,694.448 201.967,675.55 \n  \"/>\n<polyline clip-path=\"url(#clip650)\" style=\"stroke:#000000; stroke-linecap:butt; stroke-linejoin:round; stroke-width:4; stroke-opacity:1; fill:none\" points=\"\n  432.741,694.448 432.741,675.55 \n  \"/>\n<polyline clip-path=\"url(#clip650)\" style=\"stroke:#000000; stroke-linecap:butt; stroke-linejoin:round; stroke-width:4; stroke-opacity:1; fill:none\" points=\"\n  663.515,694.448 663.515,675.55 \n  \"/>\n<polyline clip-path=\"url(#clip650)\" style=\"stroke:#000000; stroke-linecap:butt; stroke-linejoin:round; stroke-width:4; stroke-opacity:1; fill:none\" points=\"\n  894.289,694.448 894.289,675.55 \n  \"/>\n<polyline clip-path=\"url(#clip650)\" style=\"stroke:#000000; stroke-linecap:butt; stroke-linejoin:round; stroke-width:4; stroke-opacity:1; fill:none\" points=\"\n  1125.06,694.448 1125.06,675.55 \n  \"/>\n<path clip-path=\"url(#clip650)\" d=\"M154.039 743.313 L161.678 743.313 L161.678 716.947 L153.368 718.614 L153.368 714.355 L161.631 712.688 L166.307 712.688 L166.307 743.313 L173.946 743.313 L173.946 747.248 L154.039 747.248 L154.039 743.313 Z\" fill=\"#000000\" fill-rule=\"evenodd\" fill-opacity=\"1\" /><path clip-path=\"url(#clip650)\" d=\"M183.391 741.368 L188.275 741.368 L188.275 747.248 L183.391 747.248 L183.391 741.368 Z\" fill=\"#000000\" fill-rule=\"evenodd\" fill-opacity=\"1\" /><path clip-path=\"url(#clip650)\" d=\"M208.46 715.767 Q204.849 715.767 203.02 719.331 Q201.215 722.873 201.215 730.003 Q201.215 737.109 203.02 740.674 Q204.849 744.215 208.46 744.215 Q212.094 744.215 213.9 740.674 Q215.728 737.109 215.728 730.003 Q215.728 722.873 213.9 719.331 Q212.094 715.767 208.46 715.767 M208.46 712.063 Q214.27 712.063 217.326 716.669 Q220.404 721.253 220.404 730.003 Q220.404 738.729 217.326 743.336 Q214.27 747.919 208.46 747.919 Q202.65 747.919 199.571 743.336 Q196.516 738.729 196.516 730.003 Q196.516 721.253 199.571 716.669 Q202.65 712.063 208.46 712.063 Z\" fill=\"#000000\" fill-rule=\"evenodd\" fill-opacity=\"1\" /><path clip-path=\"url(#clip650)\" d=\"M238.622 715.767 Q235.011 715.767 233.182 719.331 Q231.376 722.873 231.376 730.003 Q231.376 737.109 233.182 740.674 Q235.011 744.215 238.622 744.215 Q242.256 744.215 244.062 740.674 Q245.89 737.109 245.89 730.003 Q245.89 722.873 244.062 719.331 Q242.256 715.767 238.622 715.767 M238.622 712.063 Q244.432 712.063 247.487 716.669 Q250.566 721.253 250.566 730.003 Q250.566 738.729 247.487 743.336 Q244.432 747.919 238.622 747.919 Q232.812 747.919 229.733 743.336 Q226.677 738.729 226.677 730.003 Q226.677 721.253 229.733 716.669 Q232.812 712.063 238.622 712.063 Z\" fill=\"#000000\" fill-rule=\"evenodd\" fill-opacity=\"1\" /><path clip-path=\"url(#clip650)\" d=\"M385.311 743.313 L392.949 743.313 L392.949 716.947 L384.639 718.614 L384.639 714.355 L392.903 712.688 L397.579 712.688 L397.579 743.313 L405.218 743.313 L405.218 747.248 L385.311 747.248 L385.311 743.313 Z\" fill=\"#000000\" fill-rule=\"evenodd\" fill-opacity=\"1\" /><path clip-path=\"url(#clip650)\" d=\"M414.662 741.368 L419.547 741.368 L419.547 747.248 L414.662 747.248 L414.662 741.368 Z\" fill=\"#000000\" fill-rule=\"evenodd\" fill-opacity=\"1\" /><path clip-path=\"url(#clip650)\" d=\"M433.759 743.313 L450.079 743.313 L450.079 747.248 L428.134 747.248 L428.134 743.313 Q430.796 740.558 435.38 735.928 Q439.986 731.276 441.167 729.933 Q443.412 727.41 444.292 725.674 Q445.195 723.915 445.195 722.225 Q445.195 719.47 443.25 717.734 Q441.329 715.998 438.227 715.998 Q436.028 715.998 433.574 716.762 Q431.144 717.526 428.366 719.077 L428.366 714.355 Q431.19 713.22 433.644 712.642 Q436.097 712.063 438.134 712.063 Q443.505 712.063 446.699 714.748 Q449.894 717.433 449.894 721.924 Q449.894 724.054 449.083 725.975 Q448.296 727.873 446.19 730.466 Q445.611 731.137 442.509 734.354 Q439.408 737.549 433.759 743.313 Z\" fill=\"#000000\" fill-rule=\"evenodd\" fill-opacity=\"1\" /><path clip-path=\"url(#clip650)\" d=\"M459.94 712.688 L478.296 712.688 L478.296 716.623 L464.222 716.623 L464.222 725.095 Q465.241 724.748 466.259 724.586 Q467.278 724.401 468.296 724.401 Q474.083 724.401 477.463 727.572 Q480.843 730.743 480.843 736.16 Q480.843 741.739 477.37 744.84 Q473.898 747.919 467.579 747.919 Q465.403 747.919 463.134 747.549 Q460.889 747.178 458.482 746.438 L458.482 741.739 Q460.565 742.873 462.787 743.428 Q465.009 743.984 467.486 743.984 Q471.491 743.984 473.829 741.878 Q476.167 739.771 476.167 736.16 Q476.167 732.549 473.829 730.442 Q471.491 728.336 467.486 728.336 Q465.611 728.336 463.736 728.753 Q461.884 729.169 459.94 730.049 L459.94 712.688 Z\" fill=\"#000000\" fill-rule=\"evenodd\" fill-opacity=\"1\" /><path clip-path=\"url(#clip650)\" d=\"M615.587 743.313 L623.226 743.313 L623.226 716.947 L614.916 718.614 L614.916 714.355 L623.18 712.688 L627.855 712.688 L627.855 743.313 L635.494 743.313 L635.494 747.248 L615.587 747.248 L615.587 743.313 Z\" fill=\"#000000\" fill-rule=\"evenodd\" fill-opacity=\"1\" /><path clip-path=\"url(#clip650)\" d=\"M644.939 741.368 L649.823 741.368 L649.823 747.248 L644.939 747.248 L644.939 741.368 Z\" fill=\"#000000\" fill-rule=\"evenodd\" fill-opacity=\"1\" /><path clip-path=\"url(#clip650)\" d=\"M660.054 712.688 L678.411 712.688 L678.411 716.623 L664.337 716.623 L664.337 725.095 Q665.355 724.748 666.374 724.586 Q667.392 724.401 668.411 724.401 Q674.198 724.401 677.577 727.572 Q680.957 730.743 680.957 736.16 Q680.957 741.739 677.485 744.84 Q674.013 747.919 667.693 747.919 Q665.517 747.919 663.249 747.549 Q661.003 747.178 658.596 746.438 L658.596 741.739 Q660.679 742.873 662.902 743.428 Q665.124 743.984 667.601 743.984 Q671.605 743.984 673.943 741.878 Q676.281 739.771 676.281 736.16 Q676.281 732.549 673.943 730.442 Q671.605 728.336 667.601 728.336 Q665.726 728.336 663.851 728.753 Q661.999 729.169 660.054 730.049 L660.054 712.688 Z\" fill=\"#000000\" fill-rule=\"evenodd\" fill-opacity=\"1\" /><path clip-path=\"url(#clip650)\" d=\"M700.17 715.767 Q696.559 715.767 694.73 719.331 Q692.925 722.873 692.925 730.003 Q692.925 737.109 694.73 740.674 Q696.559 744.215 700.17 744.215 Q703.804 744.215 705.61 740.674 Q707.438 737.109 707.438 730.003 Q707.438 722.873 705.61 719.331 Q703.804 715.767 700.17 715.767 M700.17 712.063 Q705.98 712.063 709.036 716.669 Q712.114 721.253 712.114 730.003 Q712.114 738.729 709.036 743.336 Q705.98 747.919 700.17 747.919 Q694.36 747.919 691.281 743.336 Q688.225 738.729 688.225 730.003 Q688.225 721.253 691.281 716.669 Q694.36 712.063 700.17 712.063 Z\" fill=\"#000000\" fill-rule=\"evenodd\" fill-opacity=\"1\" /><path clip-path=\"url(#clip650)\" d=\"M846.859 743.313 L854.498 743.313 L854.498 716.947 L846.187 718.614 L846.187 714.355 L854.451 712.688 L859.127 712.688 L859.127 743.313 L866.766 743.313 L866.766 747.248 L846.859 747.248 L846.859 743.313 Z\" fill=\"#000000\" fill-rule=\"evenodd\" fill-opacity=\"1\" /><path clip-path=\"url(#clip650)\" d=\"M876.21 741.368 L881.095 741.368 L881.095 747.248 L876.21 747.248 L876.21 741.368 Z\" fill=\"#000000\" fill-rule=\"evenodd\" fill-opacity=\"1\" /><path clip-path=\"url(#clip650)\" d=\"M890.099 712.688 L912.321 712.688 L912.321 714.679 L899.775 747.248 L894.891 747.248 L906.696 716.623 L890.099 716.623 L890.099 712.688 Z\" fill=\"#000000\" fill-rule=\"evenodd\" fill-opacity=\"1\" /><path clip-path=\"url(#clip650)\" d=\"M921.488 712.688 L939.844 712.688 L939.844 716.623 L925.77 716.623 L925.77 725.095 Q926.789 724.748 927.807 724.586 Q928.826 724.401 929.844 724.401 Q935.631 724.401 939.011 727.572 Q942.391 730.743 942.391 736.16 Q942.391 741.739 938.918 744.84 Q935.446 747.919 929.127 747.919 Q926.951 747.919 924.682 747.549 Q922.437 747.178 920.03 746.438 L920.03 741.739 Q922.113 742.873 924.335 743.428 Q926.557 743.984 929.034 743.984 Q933.039 743.984 935.377 741.878 Q937.715 739.771 937.715 736.16 Q937.715 732.549 935.377 730.442 Q933.039 728.336 929.034 728.336 Q927.159 728.336 925.284 728.753 Q923.432 729.169 921.488 730.049 L921.488 712.688 Z\" fill=\"#000000\" fill-rule=\"evenodd\" fill-opacity=\"1\" /><path clip-path=\"url(#clip650)\" d=\"M1081.22 743.313 L1097.54 743.313 L1097.54 747.248 L1075.6 747.248 L1075.6 743.313 Q1078.26 740.558 1082.84 735.928 Q1087.45 731.276 1088.63 729.933 Q1090.87 727.41 1091.75 725.674 Q1092.66 723.915 1092.66 722.225 Q1092.66 719.47 1090.71 717.734 Q1088.79 715.998 1085.69 715.998 Q1083.49 715.998 1081.04 716.762 Q1078.6 717.526 1075.83 719.077 L1075.83 714.355 Q1078.65 713.22 1081.1 712.642 Q1083.56 712.063 1085.6 712.063 Q1090.97 712.063 1094.16 714.748 Q1097.35 717.433 1097.35 721.924 Q1097.35 724.054 1096.54 725.975 Q1095.76 727.873 1093.65 730.466 Q1093.07 731.137 1089.97 734.354 Q1086.87 737.549 1081.22 743.313 Z\" fill=\"#000000\" fill-rule=\"evenodd\" fill-opacity=\"1\" /><path clip-path=\"url(#clip650)\" d=\"M1107.35 741.368 L1112.24 741.368 L1112.24 747.248 L1107.35 747.248 L1107.35 741.368 Z\" fill=\"#000000\" fill-rule=\"evenodd\" fill-opacity=\"1\" /><path clip-path=\"url(#clip650)\" d=\"M1132.42 715.767 Q1128.81 715.767 1126.98 719.331 Q1125.18 722.873 1125.18 730.003 Q1125.18 737.109 1126.98 740.674 Q1128.81 744.215 1132.42 744.215 Q1136.06 744.215 1137.86 740.674 Q1139.69 737.109 1139.69 730.003 Q1139.69 722.873 1137.86 719.331 Q1136.06 715.767 1132.42 715.767 M1132.42 712.063 Q1138.23 712.063 1141.29 716.669 Q1144.37 721.253 1144.37 730.003 Q1144.37 738.729 1141.29 743.336 Q1138.23 747.919 1132.42 747.919 Q1126.61 747.919 1123.54 743.336 Q1120.48 738.729 1120.48 730.003 Q1120.48 721.253 1123.54 716.669 Q1126.61 712.063 1132.42 712.063 Z\" fill=\"#000000\" fill-rule=\"evenodd\" fill-opacity=\"1\" /><path clip-path=\"url(#clip650)\" d=\"M1162.59 715.767 Q1158.97 715.767 1157.15 719.331 Q1155.34 722.873 1155.34 730.003 Q1155.34 737.109 1157.15 740.674 Q1158.97 744.215 1162.59 744.215 Q1166.22 744.215 1168.03 740.674 Q1169.85 737.109 1169.85 730.003 Q1169.85 722.873 1168.03 719.331 Q1166.22 715.767 1162.59 715.767 M1162.59 712.063 Q1168.4 712.063 1171.45 716.669 Q1174.53 721.253 1174.53 730.003 Q1174.53 738.729 1171.45 743.336 Q1168.4 747.919 1162.59 747.919 Q1156.78 747.919 1153.7 743.336 Q1150.64 738.729 1150.64 730.003 Q1150.64 721.253 1153.7 716.669 Q1156.78 712.063 1162.59 712.063 Z\" fill=\"#000000\" fill-rule=\"evenodd\" fill-opacity=\"1\" /><polyline clip-path=\"url(#clip652)\" style=\"stroke:#000000; stroke-linecap:butt; stroke-linejoin:round; stroke-width:2; stroke-opacity:0.1; fill:none\" points=\"\n  174.274,686.086 1152.76,686.086 \n  \"/>\n<polyline clip-path=\"url(#clip652)\" style=\"stroke:#000000; stroke-linecap:butt; stroke-linejoin:round; stroke-width:2; stroke-opacity:0.1; fill:none\" points=\"\n  174.274,533.443 1152.76,533.443 \n  \"/>\n<polyline clip-path=\"url(#clip652)\" style=\"stroke:#000000; stroke-linecap:butt; stroke-linejoin:round; stroke-width:2; stroke-opacity:0.1; fill:none\" points=\"\n  174.274,380.801 1152.76,380.801 \n  \"/>\n<polyline clip-path=\"url(#clip652)\" style=\"stroke:#000000; stroke-linecap:butt; stroke-linejoin:round; stroke-width:2; stroke-opacity:0.1; fill:none\" points=\"\n  174.274,228.159 1152.76,228.159 \n  \"/>\n<polyline clip-path=\"url(#clip652)\" style=\"stroke:#000000; stroke-linecap:butt; stroke-linejoin:round; stroke-width:2; stroke-opacity:0.1; fill:none\" points=\"\n  174.274,75.5163 1152.76,75.5163 \n  \"/>\n<polyline clip-path=\"url(#clip650)\" style=\"stroke:#000000; stroke-linecap:butt; stroke-linejoin:round; stroke-width:4; stroke-opacity:1; fill:none\" points=\"\n  174.274,694.448 174.274,47.2441 \n  \"/>\n<polyline clip-path=\"url(#clip650)\" style=\"stroke:#000000; stroke-linecap:butt; stroke-linejoin:round; stroke-width:4; stroke-opacity:1; fill:none\" points=\"\n  174.274,686.086 193.172,686.086 \n  \"/>\n<polyline clip-path=\"url(#clip650)\" style=\"stroke:#000000; stroke-linecap:butt; stroke-linejoin:round; stroke-width:4; stroke-opacity:1; fill:none\" points=\"\n  174.274,533.443 193.172,533.443 \n  \"/>\n<polyline clip-path=\"url(#clip650)\" style=\"stroke:#000000; stroke-linecap:butt; stroke-linejoin:round; stroke-width:4; stroke-opacity:1; fill:none\" points=\"\n  174.274,380.801 193.172,380.801 \n  \"/>\n<polyline clip-path=\"url(#clip650)\" style=\"stroke:#000000; stroke-linecap:butt; stroke-linejoin:round; stroke-width:4; stroke-opacity:1; fill:none\" points=\"\n  174.274,228.159 193.172,228.159 \n  \"/>\n<polyline clip-path=\"url(#clip650)\" style=\"stroke:#000000; stroke-linecap:butt; stroke-linejoin:round; stroke-width:4; stroke-opacity:1; fill:none\" points=\"\n  174.274,75.5163 193.172,75.5163 \n  \"/>\n<path clip-path=\"url(#clip650)\" d=\"M68.9365 671.885 Q65.3254 671.885 63.4967 675.449 Q61.6912 678.991 61.6912 686.121 Q61.6912 693.227 63.4967 696.792 Q65.3254 700.333 68.9365 700.333 Q72.5707 700.333 74.3763 696.792 Q76.205 693.227 76.205 686.121 Q76.205 678.991 74.3763 675.449 Q72.5707 671.885 68.9365 671.885 M68.9365 668.181 Q74.7467 668.181 77.8022 672.787 Q80.8809 677.371 80.8809 686.121 Q80.8809 694.847 77.8022 699.454 Q74.7467 704.037 68.9365 704.037 Q63.1264 704.037 60.0477 699.454 Q56.9921 694.847 56.9921 686.121 Q56.9921 677.371 60.0477 672.787 Q63.1264 668.181 68.9365 668.181 Z\" fill=\"#000000\" fill-rule=\"evenodd\" fill-opacity=\"1\" /><path clip-path=\"url(#clip650)\" d=\"M89.0984 697.486 L93.9827 697.486 L93.9827 703.366 L89.0984 703.366 L89.0984 697.486 Z\" fill=\"#000000\" fill-rule=\"evenodd\" fill-opacity=\"1\" /><path clip-path=\"url(#clip650)\" d=\"M114.168 671.885 Q110.557 671.885 108.728 675.449 Q106.922 678.991 106.922 686.121 Q106.922 693.227 108.728 696.792 Q110.557 700.333 114.168 700.333 Q117.802 700.333 119.608 696.792 Q121.436 693.227 121.436 686.121 Q121.436 678.991 119.608 675.449 Q117.802 671.885 114.168 671.885 M114.168 668.181 Q119.978 668.181 123.033 672.787 Q126.112 677.371 126.112 686.121 Q126.112 694.847 123.033 699.454 Q119.978 704.037 114.168 704.037 Q108.358 704.037 105.279 699.454 Q102.223 694.847 102.223 686.121 Q102.223 677.371 105.279 672.787 Q108.358 668.181 114.168 668.181 Z\" fill=\"#000000\" fill-rule=\"evenodd\" fill-opacity=\"1\" /><path clip-path=\"url(#clip650)\" d=\"M144.33 671.885 Q140.719 671.885 138.89 675.449 Q137.084 678.991 137.084 686.121 Q137.084 693.227 138.89 696.792 Q140.719 700.333 144.33 700.333 Q147.964 700.333 149.769 696.792 Q151.598 693.227 151.598 686.121 Q151.598 678.991 149.769 675.449 Q147.964 671.885 144.33 671.885 M144.33 668.181 Q150.14 668.181 153.195 672.787 Q156.274 677.371 156.274 686.121 Q156.274 694.847 153.195 699.454 Q150.14 704.037 144.33 704.037 Q138.519 704.037 135.441 699.454 Q132.385 694.847 132.385 686.121 Q132.385 677.371 135.441 672.787 Q138.519 668.181 144.33 668.181 Z\" fill=\"#000000\" fill-rule=\"evenodd\" fill-opacity=\"1\" /><path clip-path=\"url(#clip650)\" d=\"M69.9319 519.242 Q66.3208 519.242 64.4921 522.807 Q62.6865 526.349 62.6865 533.478 Q62.6865 540.585 64.4921 544.149 Q66.3208 547.691 69.9319 547.691 Q73.5661 547.691 75.3717 544.149 Q77.2004 540.585 77.2004 533.478 Q77.2004 526.349 75.3717 522.807 Q73.5661 519.242 69.9319 519.242 M69.9319 515.538 Q75.742 515.538 78.7976 520.145 Q81.8763 524.728 81.8763 533.478 Q81.8763 542.205 78.7976 546.811 Q75.742 551.395 69.9319 551.395 Q64.1217 551.395 61.043 546.811 Q57.9875 542.205 57.9875 533.478 Q57.9875 524.728 61.043 520.145 Q64.1217 515.538 69.9319 515.538 Z\" fill=\"#000000\" fill-rule=\"evenodd\" fill-opacity=\"1\" /><path clip-path=\"url(#clip650)\" d=\"M90.0938 544.844 L94.978 544.844 L94.978 550.723 L90.0938 550.723 L90.0938 544.844 Z\" fill=\"#000000\" fill-rule=\"evenodd\" fill-opacity=\"1\" /><path clip-path=\"url(#clip650)\" d=\"M109.191 546.788 L125.51 546.788 L125.51 550.723 L103.566 550.723 L103.566 546.788 Q106.228 544.034 110.811 539.404 Q115.418 534.751 116.598 533.409 Q118.844 530.886 119.723 529.15 Q120.626 527.39 120.626 525.7 Q120.626 522.946 118.682 521.21 Q116.76 519.474 113.658 519.474 Q111.459 519.474 109.006 520.238 Q106.575 521.001 103.797 522.552 L103.797 517.83 Q106.621 516.696 109.075 516.117 Q111.529 515.538 113.566 515.538 Q118.936 515.538 122.131 518.224 Q125.325 520.909 125.325 525.4 Q125.325 527.529 124.515 529.45 Q123.728 531.349 121.621 533.941 Q121.043 534.612 117.941 537.83 Q114.839 541.024 109.191 546.788 Z\" fill=\"#000000\" fill-rule=\"evenodd\" fill-opacity=\"1\" /><path clip-path=\"url(#clip650)\" d=\"M135.371 516.163 L153.728 516.163 L153.728 520.099 L139.654 520.099 L139.654 528.571 Q140.672 528.224 141.691 528.062 Q142.709 527.876 143.728 527.876 Q149.515 527.876 152.894 531.048 Q156.274 534.219 156.274 539.636 Q156.274 545.214 152.802 548.316 Q149.33 551.395 143.01 551.395 Q140.834 551.395 138.566 551.024 Q136.32 550.654 133.913 549.913 L133.913 545.214 Q135.996 546.348 138.219 546.904 Q140.441 547.46 142.918 547.46 Q146.922 547.46 149.26 545.353 Q151.598 543.247 151.598 539.636 Q151.598 536.024 149.26 533.918 Q146.922 531.812 142.918 531.812 Q141.043 531.812 139.168 532.228 Q137.316 532.645 135.371 533.524 L135.371 516.163 Z\" fill=\"#000000\" fill-rule=\"evenodd\" fill-opacity=\"1\" /><path clip-path=\"url(#clip650)\" d=\"M68.9365 366.6 Q65.3254 366.6 63.4967 370.165 Q61.6912 373.706 61.6912 380.836 Q61.6912 387.942 63.4967 391.507 Q65.3254 395.049 68.9365 395.049 Q72.5707 395.049 74.3763 391.507 Q76.205 387.942 76.205 380.836 Q76.205 373.706 74.3763 370.165 Q72.5707 366.6 68.9365 366.6 M68.9365 362.896 Q74.7467 362.896 77.8022 367.503 Q80.8809 372.086 80.8809 380.836 Q80.8809 389.563 77.8022 394.169 Q74.7467 398.752 68.9365 398.752 Q63.1264 398.752 60.0477 394.169 Q56.9921 389.563 56.9921 380.836 Q56.9921 372.086 60.0477 367.503 Q63.1264 362.896 68.9365 362.896 Z\" fill=\"#000000\" fill-rule=\"evenodd\" fill-opacity=\"1\" /><path clip-path=\"url(#clip650)\" d=\"M89.0984 392.201 L93.9827 392.201 L93.9827 398.081 L89.0984 398.081 L89.0984 392.201 Z\" fill=\"#000000\" fill-rule=\"evenodd\" fill-opacity=\"1\" /><path clip-path=\"url(#clip650)\" d=\"M104.214 363.521 L122.57 363.521 L122.57 367.456 L108.496 367.456 L108.496 375.928 Q109.515 375.581 110.534 375.419 Q111.552 375.234 112.571 375.234 Q118.358 375.234 121.737 378.405 Q125.117 381.577 125.117 386.993 Q125.117 392.572 121.645 395.674 Q118.172 398.752 111.853 398.752 Q109.677 398.752 107.409 398.382 Q105.163 398.012 102.756 397.271 L102.756 392.572 Q104.839 393.706 107.061 394.262 Q109.284 394.817 111.76 394.817 Q115.765 394.817 118.103 392.711 Q120.441 390.604 120.441 386.993 Q120.441 383.382 118.103 381.276 Q115.765 379.169 111.76 379.169 Q109.885 379.169 108.01 379.586 Q106.159 380.002 104.214 380.882 L104.214 363.521 Z\" fill=\"#000000\" fill-rule=\"evenodd\" fill-opacity=\"1\" /><path clip-path=\"url(#clip650)\" d=\"M144.33 366.6 Q140.719 366.6 138.89 370.165 Q137.084 373.706 137.084 380.836 Q137.084 387.942 138.89 391.507 Q140.719 395.049 144.33 395.049 Q147.964 395.049 149.769 391.507 Q151.598 387.942 151.598 380.836 Q151.598 373.706 149.769 370.165 Q147.964 366.6 144.33 366.6 M144.33 362.896 Q150.14 362.896 153.195 367.503 Q156.274 372.086 156.274 380.836 Q156.274 389.563 153.195 394.169 Q150.14 398.752 144.33 398.752 Q138.519 398.752 135.441 394.169 Q132.385 389.563 132.385 380.836 Q132.385 372.086 135.441 367.503 Q138.519 362.896 144.33 362.896 Z\" fill=\"#000000\" fill-rule=\"evenodd\" fill-opacity=\"1\" /><path clip-path=\"url(#clip650)\" d=\"M69.9319 213.957 Q66.3208 213.957 64.4921 217.522 Q62.6865 221.064 62.6865 228.193 Q62.6865 235.3 64.4921 238.865 Q66.3208 242.406 69.9319 242.406 Q73.5661 242.406 75.3717 238.865 Q77.2004 235.3 77.2004 228.193 Q77.2004 221.064 75.3717 217.522 Q73.5661 213.957 69.9319 213.957 M69.9319 210.254 Q75.742 210.254 78.7976 214.86 Q81.8763 219.443 81.8763 228.193 Q81.8763 236.92 78.7976 241.527 Q75.742 246.11 69.9319 246.11 Q64.1217 246.11 61.043 241.527 Q57.9875 236.92 57.9875 228.193 Q57.9875 219.443 61.043 214.86 Q64.1217 210.254 69.9319 210.254 Z\" fill=\"#000000\" fill-rule=\"evenodd\" fill-opacity=\"1\" /><path clip-path=\"url(#clip650)\" d=\"M90.0938 239.559 L94.978 239.559 L94.978 245.439 L90.0938 245.439 L90.0938 239.559 Z\" fill=\"#000000\" fill-rule=\"evenodd\" fill-opacity=\"1\" /><path clip-path=\"url(#clip650)\" d=\"M103.983 210.879 L126.205 210.879 L126.205 212.869 L113.658 245.439 L108.774 245.439 L120.58 214.814 L103.983 214.814 L103.983 210.879 Z\" fill=\"#000000\" fill-rule=\"evenodd\" fill-opacity=\"1\" /><path clip-path=\"url(#clip650)\" d=\"M135.371 210.879 L153.728 210.879 L153.728 214.814 L139.654 214.814 L139.654 223.286 Q140.672 222.939 141.691 222.777 Q142.709 222.592 143.728 222.592 Q149.515 222.592 152.894 225.763 Q156.274 228.934 156.274 234.351 Q156.274 239.929 152.802 243.031 Q149.33 246.11 143.01 246.11 Q140.834 246.11 138.566 245.74 Q136.32 245.369 133.913 244.628 L133.913 239.929 Q135.996 241.064 138.219 241.619 Q140.441 242.175 142.918 242.175 Q146.922 242.175 149.26 240.068 Q151.598 237.962 151.598 234.351 Q151.598 230.74 149.26 228.633 Q146.922 226.527 142.918 226.527 Q141.043 226.527 139.168 226.943 Q137.316 227.36 135.371 228.24 L135.371 210.879 Z\" fill=\"#000000\" fill-rule=\"evenodd\" fill-opacity=\"1\" /><path clip-path=\"url(#clip650)\" d=\"M59.7467 88.8611 L67.3856 88.8611 L67.3856 62.4955 L59.0754 64.1622 L59.0754 59.9029 L67.3393 58.2363 L72.0152 58.2363 L72.0152 88.8611 L79.654 88.8611 L79.654 92.7963 L59.7467 92.7963 L59.7467 88.8611 Z\" fill=\"#000000\" fill-rule=\"evenodd\" fill-opacity=\"1\" /><path clip-path=\"url(#clip650)\" d=\"M89.0984 86.9167 L93.9827 86.9167 L93.9827 92.7963 L89.0984 92.7963 L89.0984 86.9167 Z\" fill=\"#000000\" fill-rule=\"evenodd\" fill-opacity=\"1\" /><path clip-path=\"url(#clip650)\" d=\"M114.168 61.315 Q110.557 61.315 108.728 64.8798 Q106.922 68.4214 106.922 75.551 Q106.922 82.6574 108.728 86.2222 Q110.557 89.7639 114.168 89.7639 Q117.802 89.7639 119.608 86.2222 Q121.436 82.6574 121.436 75.551 Q121.436 68.4214 119.608 64.8798 Q117.802 61.315 114.168 61.315 M114.168 57.6113 Q119.978 57.6113 123.033 62.2177 Q126.112 66.801 126.112 75.551 Q126.112 84.2778 123.033 88.8843 Q119.978 93.4676 114.168 93.4676 Q108.358 93.4676 105.279 88.8843 Q102.223 84.2778 102.223 75.551 Q102.223 66.801 105.279 62.2177 Q108.358 57.6113 114.168 57.6113 Z\" fill=\"#000000\" fill-rule=\"evenodd\" fill-opacity=\"1\" /><path clip-path=\"url(#clip650)\" d=\"M144.33 61.315 Q140.719 61.315 138.89 64.8798 Q137.084 68.4214 137.084 75.551 Q137.084 82.6574 138.89 86.2222 Q140.719 89.7639 144.33 89.7639 Q147.964 89.7639 149.769 86.2222 Q151.598 82.6574 151.598 75.551 Q151.598 68.4214 149.769 64.8798 Q147.964 61.315 144.33 61.315 M144.33 57.6113 Q150.14 57.6113 153.195 62.2177 Q156.274 66.801 156.274 75.551 Q156.274 84.2778 153.195 88.8843 Q150.14 93.4676 144.33 93.4676 Q138.519 93.4676 135.441 88.8843 Q132.385 84.2778 132.385 75.551 Q132.385 66.801 135.441 62.2177 Q138.519 57.6113 144.33 57.6113 Z\" fill=\"#000000\" fill-rule=\"evenodd\" fill-opacity=\"1\" /></svg>\n",
      "text/html": [
       "<?xml version=\"1.0\" encoding=\"utf-8\"?>\n",
       "<svg xmlns=\"http://www.w3.org/2000/svg\" xmlns:xlink=\"http://www.w3.org/1999/xlink\" width=\"300\" height=\"200\" viewBox=\"0 0 1200 800\">\n",
       "<defs>\n",
       "  <clipPath id=\"clip700\">\n",
       "    <rect x=\"0\" y=\"0\" width=\"1200\" height=\"800\"/>\n",
       "  </clipPath>\n",
       "</defs>\n",
       "<path clip-path=\"url(#clip700)\" d=\"\n",
       "M0 800 L1200 800 L1200 0 L0 0  Z\n",
       "  \" fill=\"#ffffff\" fill-rule=\"evenodd\" fill-opacity=\"1\"/>\n",
       "<defs>\n",
       "  <clipPath id=\"clip701\">\n",
       "    <rect x=\"240\" y=\"0\" width=\"841\" height=\"800\"/>\n",
       "  </clipPath>\n",
       "</defs>\n",
       "<path clip-path=\"url(#clip700)\" d=\"\n",
       "M174.274 694.448 L1152.76 694.448 L1152.76 47.2441 L174.274 47.2441  Z\n",
       "  \" fill=\"#ffffff\" fill-rule=\"evenodd\" fill-opacity=\"1\"/>\n",
       "<defs>\n",
       "  <clipPath id=\"clip702\">\n",
       "    <rect x=\"174\" y=\"47\" width=\"979\" height=\"648\"/>\n",
       "  </clipPath>\n",
       "</defs>\n",
       "<polyline clip-path=\"url(#clip702)\" style=\"stroke:#000000; stroke-linecap:butt; stroke-linejoin:round; stroke-width:2; stroke-opacity:0.1; fill:none\" points=\"\n",
       "  201.967,694.448 201.967,47.2441 \n",
       "  \"/>\n",
       "<polyline clip-path=\"url(#clip702)\" style=\"stroke:#000000; stroke-linecap:butt; stroke-linejoin:round; stroke-width:2; stroke-opacity:0.1; fill:none\" points=\"\n",
       "  432.741,694.448 432.741,47.2441 \n",
       "  \"/>\n",
       "<polyline clip-path=\"url(#clip702)\" style=\"stroke:#000000; stroke-linecap:butt; stroke-linejoin:round; stroke-width:2; stroke-opacity:0.1; fill:none\" points=\"\n",
       "  663.515,694.448 663.515,47.2441 \n",
       "  \"/>\n",
       "<polyline clip-path=\"url(#clip702)\" style=\"stroke:#000000; stroke-linecap:butt; stroke-linejoin:round; stroke-width:2; stroke-opacity:0.1; fill:none\" points=\"\n",
       "  894.289,694.448 894.289,47.2441 \n",
       "  \"/>\n",
       "<polyline clip-path=\"url(#clip702)\" style=\"stroke:#000000; stroke-linecap:butt; stroke-linejoin:round; stroke-width:2; stroke-opacity:0.1; fill:none\" points=\"\n",
       "  1125.06,694.448 1125.06,47.2441 \n",
       "  \"/>\n",
       "<polyline clip-path=\"url(#clip700)\" style=\"stroke:#000000; stroke-linecap:butt; stroke-linejoin:round; stroke-width:4; stroke-opacity:1; fill:none\" points=\"\n",
       "  174.274,694.448 1152.76,694.448 \n",
       "  \"/>\n",
       "<polyline clip-path=\"url(#clip700)\" style=\"stroke:#000000; stroke-linecap:butt; stroke-linejoin:round; stroke-width:4; stroke-opacity:1; fill:none\" points=\"\n",
       "  201.967,694.448 201.967,675.55 \n",
       "  \"/>\n",
       "<polyline clip-path=\"url(#clip700)\" style=\"stroke:#000000; stroke-linecap:butt; stroke-linejoin:round; stroke-width:4; stroke-opacity:1; fill:none\" points=\"\n",
       "  432.741,694.448 432.741,675.55 \n",
       "  \"/>\n",
       "<polyline clip-path=\"url(#clip700)\" style=\"stroke:#000000; stroke-linecap:butt; stroke-linejoin:round; stroke-width:4; stroke-opacity:1; fill:none\" points=\"\n",
       "  663.515,694.448 663.515,675.55 \n",
       "  \"/>\n",
       "<polyline clip-path=\"url(#clip700)\" style=\"stroke:#000000; stroke-linecap:butt; stroke-linejoin:round; stroke-width:4; stroke-opacity:1; fill:none\" points=\"\n",
       "  894.289,694.448 894.289,675.55 \n",
       "  \"/>\n",
       "<polyline clip-path=\"url(#clip700)\" style=\"stroke:#000000; stroke-linecap:butt; stroke-linejoin:round; stroke-width:4; stroke-opacity:1; fill:none\" points=\"\n",
       "  1125.06,694.448 1125.06,675.55 \n",
       "  \"/>\n",
       "<path clip-path=\"url(#clip700)\" d=\"M154.039 743.313 L161.678 743.313 L161.678 716.947 L153.368 718.614 L153.368 714.355 L161.631 712.688 L166.307 712.688 L166.307 743.313 L173.946 743.313 L173.946 747.248 L154.039 747.248 L154.039 743.313 Z\" fill=\"#000000\" fill-rule=\"evenodd\" fill-opacity=\"1\" /><path clip-path=\"url(#clip700)\" d=\"M183.391 741.368 L188.275 741.368 L188.275 747.248 L183.391 747.248 L183.391 741.368 Z\" fill=\"#000000\" fill-rule=\"evenodd\" fill-opacity=\"1\" /><path clip-path=\"url(#clip700)\" d=\"M208.46 715.767 Q204.849 715.767 203.02 719.331 Q201.215 722.873 201.215 730.003 Q201.215 737.109 203.02 740.674 Q204.849 744.215 208.46 744.215 Q212.094 744.215 213.9 740.674 Q215.728 737.109 215.728 730.003 Q215.728 722.873 213.9 719.331 Q212.094 715.767 208.46 715.767 M208.46 712.063 Q214.27 712.063 217.326 716.669 Q220.404 721.253 220.404 730.003 Q220.404 738.729 217.326 743.336 Q214.27 747.919 208.46 747.919 Q202.65 747.919 199.571 743.336 Q196.516 738.729 196.516 730.003 Q196.516 721.253 199.571 716.669 Q202.65 712.063 208.46 712.063 Z\" fill=\"#000000\" fill-rule=\"evenodd\" fill-opacity=\"1\" /><path clip-path=\"url(#clip700)\" d=\"M238.622 715.767 Q235.011 715.767 233.182 719.331 Q231.376 722.873 231.376 730.003 Q231.376 737.109 233.182 740.674 Q235.011 744.215 238.622 744.215 Q242.256 744.215 244.062 740.674 Q245.89 737.109 245.89 730.003 Q245.89 722.873 244.062 719.331 Q242.256 715.767 238.622 715.767 M238.622 712.063 Q244.432 712.063 247.487 716.669 Q250.566 721.253 250.566 730.003 Q250.566 738.729 247.487 743.336 Q244.432 747.919 238.622 747.919 Q232.812 747.919 229.733 743.336 Q226.677 738.729 226.677 730.003 Q226.677 721.253 229.733 716.669 Q232.812 712.063 238.622 712.063 Z\" fill=\"#000000\" fill-rule=\"evenodd\" fill-opacity=\"1\" /><path clip-path=\"url(#clip700)\" d=\"M385.311 743.313 L392.949 743.313 L392.949 716.947 L384.639 718.614 L384.639 714.355 L392.903 712.688 L397.579 712.688 L397.579 743.313 L405.218 743.313 L405.218 747.248 L385.311 747.248 L385.311 743.313 Z\" fill=\"#000000\" fill-rule=\"evenodd\" fill-opacity=\"1\" /><path clip-path=\"url(#clip700)\" d=\"M414.662 741.368 L419.547 741.368 L419.547 747.248 L414.662 747.248 L414.662 741.368 Z\" fill=\"#000000\" fill-rule=\"evenodd\" fill-opacity=\"1\" /><path clip-path=\"url(#clip700)\" d=\"M433.759 743.313 L450.079 743.313 L450.079 747.248 L428.134 747.248 L428.134 743.313 Q430.796 740.558 435.38 735.928 Q439.986 731.276 441.167 729.933 Q443.412 727.41 444.292 725.674 Q445.195 723.915 445.195 722.225 Q445.195 719.47 443.25 717.734 Q441.329 715.998 438.227 715.998 Q436.028 715.998 433.574 716.762 Q431.144 717.526 428.366 719.077 L428.366 714.355 Q431.19 713.22 433.644 712.642 Q436.097 712.063 438.134 712.063 Q443.505 712.063 446.699 714.748 Q449.894 717.433 449.894 721.924 Q449.894 724.054 449.083 725.975 Q448.296 727.873 446.19 730.466 Q445.611 731.137 442.509 734.354 Q439.408 737.549 433.759 743.313 Z\" fill=\"#000000\" fill-rule=\"evenodd\" fill-opacity=\"1\" /><path clip-path=\"url(#clip700)\" d=\"M459.94 712.688 L478.296 712.688 L478.296 716.623 L464.222 716.623 L464.222 725.095 Q465.241 724.748 466.259 724.586 Q467.278 724.401 468.296 724.401 Q474.083 724.401 477.463 727.572 Q480.843 730.743 480.843 736.16 Q480.843 741.739 477.37 744.84 Q473.898 747.919 467.579 747.919 Q465.403 747.919 463.134 747.549 Q460.889 747.178 458.482 746.438 L458.482 741.739 Q460.565 742.873 462.787 743.428 Q465.009 743.984 467.486 743.984 Q471.491 743.984 473.829 741.878 Q476.167 739.771 476.167 736.16 Q476.167 732.549 473.829 730.442 Q471.491 728.336 467.486 728.336 Q465.611 728.336 463.736 728.753 Q461.884 729.169 459.94 730.049 L459.94 712.688 Z\" fill=\"#000000\" fill-rule=\"evenodd\" fill-opacity=\"1\" /><path clip-path=\"url(#clip700)\" d=\"M615.587 743.313 L623.226 743.313 L623.226 716.947 L614.916 718.614 L614.916 714.355 L623.18 712.688 L627.855 712.688 L627.855 743.313 L635.494 743.313 L635.494 747.248 L615.587 747.248 L615.587 743.313 Z\" fill=\"#000000\" fill-rule=\"evenodd\" fill-opacity=\"1\" /><path clip-path=\"url(#clip700)\" d=\"M644.939 741.368 L649.823 741.368 L649.823 747.248 L644.939 747.248 L644.939 741.368 Z\" fill=\"#000000\" fill-rule=\"evenodd\" fill-opacity=\"1\" /><path clip-path=\"url(#clip700)\" d=\"M660.054 712.688 L678.411 712.688 L678.411 716.623 L664.337 716.623 L664.337 725.095 Q665.355 724.748 666.374 724.586 Q667.392 724.401 668.411 724.401 Q674.198 724.401 677.577 727.572 Q680.957 730.743 680.957 736.16 Q680.957 741.739 677.485 744.84 Q674.013 747.919 667.693 747.919 Q665.517 747.919 663.249 747.549 Q661.003 747.178 658.596 746.438 L658.596 741.739 Q660.679 742.873 662.902 743.428 Q665.124 743.984 667.601 743.984 Q671.605 743.984 673.943 741.878 Q676.281 739.771 676.281 736.16 Q676.281 732.549 673.943 730.442 Q671.605 728.336 667.601 728.336 Q665.726 728.336 663.851 728.753 Q661.999 729.169 660.054 730.049 L660.054 712.688 Z\" fill=\"#000000\" fill-rule=\"evenodd\" fill-opacity=\"1\" /><path clip-path=\"url(#clip700)\" d=\"M700.17 715.767 Q696.559 715.767 694.73 719.331 Q692.925 722.873 692.925 730.003 Q692.925 737.109 694.73 740.674 Q696.559 744.215 700.17 744.215 Q703.804 744.215 705.61 740.674 Q707.438 737.109 707.438 730.003 Q707.438 722.873 705.61 719.331 Q703.804 715.767 700.17 715.767 M700.17 712.063 Q705.98 712.063 709.036 716.669 Q712.114 721.253 712.114 730.003 Q712.114 738.729 709.036 743.336 Q705.98 747.919 700.17 747.919 Q694.36 747.919 691.281 743.336 Q688.225 738.729 688.225 730.003 Q688.225 721.253 691.281 716.669 Q694.36 712.063 700.17 712.063 Z\" fill=\"#000000\" fill-rule=\"evenodd\" fill-opacity=\"1\" /><path clip-path=\"url(#clip700)\" d=\"M846.859 743.313 L854.498 743.313 L854.498 716.947 L846.187 718.614 L846.187 714.355 L854.451 712.688 L859.127 712.688 L859.127 743.313 L866.766 743.313 L866.766 747.248 L846.859 747.248 L846.859 743.313 Z\" fill=\"#000000\" fill-rule=\"evenodd\" fill-opacity=\"1\" /><path clip-path=\"url(#clip700)\" d=\"M876.21 741.368 L881.095 741.368 L881.095 747.248 L876.21 747.248 L876.21 741.368 Z\" fill=\"#000000\" fill-rule=\"evenodd\" fill-opacity=\"1\" /><path clip-path=\"url(#clip700)\" d=\"M890.099 712.688 L912.321 712.688 L912.321 714.679 L899.775 747.248 L894.891 747.248 L906.696 716.623 L890.099 716.623 L890.099 712.688 Z\" fill=\"#000000\" fill-rule=\"evenodd\" fill-opacity=\"1\" /><path clip-path=\"url(#clip700)\" d=\"M921.488 712.688 L939.844 712.688 L939.844 716.623 L925.77 716.623 L925.77 725.095 Q926.789 724.748 927.807 724.586 Q928.826 724.401 929.844 724.401 Q935.631 724.401 939.011 727.572 Q942.391 730.743 942.391 736.16 Q942.391 741.739 938.918 744.84 Q935.446 747.919 929.127 747.919 Q926.951 747.919 924.682 747.549 Q922.437 747.178 920.03 746.438 L920.03 741.739 Q922.113 742.873 924.335 743.428 Q926.557 743.984 929.034 743.984 Q933.039 743.984 935.377 741.878 Q937.715 739.771 937.715 736.16 Q937.715 732.549 935.377 730.442 Q933.039 728.336 929.034 728.336 Q927.159 728.336 925.284 728.753 Q923.432 729.169 921.488 730.049 L921.488 712.688 Z\" fill=\"#000000\" fill-rule=\"evenodd\" fill-opacity=\"1\" /><path clip-path=\"url(#clip700)\" d=\"M1081.22 743.313 L1097.54 743.313 L1097.54 747.248 L1075.6 747.248 L1075.6 743.313 Q1078.26 740.558 1082.84 735.928 Q1087.45 731.276 1088.63 729.933 Q1090.87 727.41 1091.75 725.674 Q1092.66 723.915 1092.66 722.225 Q1092.66 719.47 1090.71 717.734 Q1088.79 715.998 1085.69 715.998 Q1083.49 715.998 1081.04 716.762 Q1078.6 717.526 1075.83 719.077 L1075.83 714.355 Q1078.65 713.22 1081.1 712.642 Q1083.56 712.063 1085.6 712.063 Q1090.97 712.063 1094.16 714.748 Q1097.35 717.433 1097.35 721.924 Q1097.35 724.054 1096.54 725.975 Q1095.76 727.873 1093.65 730.466 Q1093.07 731.137 1089.97 734.354 Q1086.87 737.549 1081.22 743.313 Z\" fill=\"#000000\" fill-rule=\"evenodd\" fill-opacity=\"1\" /><path clip-path=\"url(#clip700)\" d=\"M1107.35 741.368 L1112.24 741.368 L1112.24 747.248 L1107.35 747.248 L1107.35 741.368 Z\" fill=\"#000000\" fill-rule=\"evenodd\" fill-opacity=\"1\" /><path clip-path=\"url(#clip700)\" d=\"M1132.42 715.767 Q1128.81 715.767 1126.98 719.331 Q1125.18 722.873 1125.18 730.003 Q1125.18 737.109 1126.98 740.674 Q1128.81 744.215 1132.42 744.215 Q1136.06 744.215 1137.86 740.674 Q1139.69 737.109 1139.69 730.003 Q1139.69 722.873 1137.86 719.331 Q1136.06 715.767 1132.42 715.767 M1132.42 712.063 Q1138.23 712.063 1141.29 716.669 Q1144.37 721.253 1144.37 730.003 Q1144.37 738.729 1141.29 743.336 Q1138.23 747.919 1132.42 747.919 Q1126.61 747.919 1123.54 743.336 Q1120.48 738.729 1120.48 730.003 Q1120.48 721.253 1123.54 716.669 Q1126.61 712.063 1132.42 712.063 Z\" fill=\"#000000\" fill-rule=\"evenodd\" fill-opacity=\"1\" /><path clip-path=\"url(#clip700)\" d=\"M1162.59 715.767 Q1158.97 715.767 1157.15 719.331 Q1155.34 722.873 1155.34 730.003 Q1155.34 737.109 1157.15 740.674 Q1158.97 744.215 1162.59 744.215 Q1166.22 744.215 1168.03 740.674 Q1169.85 737.109 1169.85 730.003 Q1169.85 722.873 1168.03 719.331 Q1166.22 715.767 1162.59 715.767 M1162.59 712.063 Q1168.4 712.063 1171.45 716.669 Q1174.53 721.253 1174.53 730.003 Q1174.53 738.729 1171.45 743.336 Q1168.4 747.919 1162.59 747.919 Q1156.78 747.919 1153.7 743.336 Q1150.64 738.729 1150.64 730.003 Q1150.64 721.253 1153.7 716.669 Q1156.78 712.063 1162.59 712.063 Z\" fill=\"#000000\" fill-rule=\"evenodd\" fill-opacity=\"1\" /><polyline clip-path=\"url(#clip702)\" style=\"stroke:#000000; stroke-linecap:butt; stroke-linejoin:round; stroke-width:2; stroke-opacity:0.1; fill:none\" points=\"\n",
       "  174.274,686.086 1152.76,686.086 \n",
       "  \"/>\n",
       "<polyline clip-path=\"url(#clip702)\" style=\"stroke:#000000; stroke-linecap:butt; stroke-linejoin:round; stroke-width:2; stroke-opacity:0.1; fill:none\" points=\"\n",
       "  174.274,533.443 1152.76,533.443 \n",
       "  \"/>\n",
       "<polyline clip-path=\"url(#clip702)\" style=\"stroke:#000000; stroke-linecap:butt; stroke-linejoin:round; stroke-width:2; stroke-opacity:0.1; fill:none\" points=\"\n",
       "  174.274,380.801 1152.76,380.801 \n",
       "  \"/>\n",
       "<polyline clip-path=\"url(#clip702)\" style=\"stroke:#000000; stroke-linecap:butt; stroke-linejoin:round; stroke-width:2; stroke-opacity:0.1; fill:none\" points=\"\n",
       "  174.274,228.159 1152.76,228.159 \n",
       "  \"/>\n",
       "<polyline clip-path=\"url(#clip702)\" style=\"stroke:#000000; stroke-linecap:butt; stroke-linejoin:round; stroke-width:2; stroke-opacity:0.1; fill:none\" points=\"\n",
       "  174.274,75.5163 1152.76,75.5163 \n",
       "  \"/>\n",
       "<polyline clip-path=\"url(#clip700)\" style=\"stroke:#000000; stroke-linecap:butt; stroke-linejoin:round; stroke-width:4; stroke-opacity:1; fill:none\" points=\"\n",
       "  174.274,694.448 174.274,47.2441 \n",
       "  \"/>\n",
       "<polyline clip-path=\"url(#clip700)\" style=\"stroke:#000000; stroke-linecap:butt; stroke-linejoin:round; stroke-width:4; stroke-opacity:1; fill:none\" points=\"\n",
       "  174.274,686.086 193.172,686.086 \n",
       "  \"/>\n",
       "<polyline clip-path=\"url(#clip700)\" style=\"stroke:#000000; stroke-linecap:butt; stroke-linejoin:round; stroke-width:4; stroke-opacity:1; fill:none\" points=\"\n",
       "  174.274,533.443 193.172,533.443 \n",
       "  \"/>\n",
       "<polyline clip-path=\"url(#clip700)\" style=\"stroke:#000000; stroke-linecap:butt; stroke-linejoin:round; stroke-width:4; stroke-opacity:1; fill:none\" points=\"\n",
       "  174.274,380.801 193.172,380.801 \n",
       "  \"/>\n",
       "<polyline clip-path=\"url(#clip700)\" style=\"stroke:#000000; stroke-linecap:butt; stroke-linejoin:round; stroke-width:4; stroke-opacity:1; fill:none\" points=\"\n",
       "  174.274,228.159 193.172,228.159 \n",
       "  \"/>\n",
       "<polyline clip-path=\"url(#clip700)\" style=\"stroke:#000000; stroke-linecap:butt; stroke-linejoin:round; stroke-width:4; stroke-opacity:1; fill:none\" points=\"\n",
       "  174.274,75.5163 193.172,75.5163 \n",
       "  \"/>\n",
       "<path clip-path=\"url(#clip700)\" d=\"M68.9365 671.885 Q65.3254 671.885 63.4967 675.449 Q61.6912 678.991 61.6912 686.121 Q61.6912 693.227 63.4967 696.792 Q65.3254 700.333 68.9365 700.333 Q72.5707 700.333 74.3763 696.792 Q76.205 693.227 76.205 686.121 Q76.205 678.991 74.3763 675.449 Q72.5707 671.885 68.9365 671.885 M68.9365 668.181 Q74.7467 668.181 77.8022 672.787 Q80.8809 677.371 80.8809 686.121 Q80.8809 694.847 77.8022 699.454 Q74.7467 704.037 68.9365 704.037 Q63.1264 704.037 60.0477 699.454 Q56.9921 694.847 56.9921 686.121 Q56.9921 677.371 60.0477 672.787 Q63.1264 668.181 68.9365 668.181 Z\" fill=\"#000000\" fill-rule=\"evenodd\" fill-opacity=\"1\" /><path clip-path=\"url(#clip700)\" d=\"M89.0984 697.486 L93.9827 697.486 L93.9827 703.366 L89.0984 703.366 L89.0984 697.486 Z\" fill=\"#000000\" fill-rule=\"evenodd\" fill-opacity=\"1\" /><path clip-path=\"url(#clip700)\" d=\"M114.168 671.885 Q110.557 671.885 108.728 675.449 Q106.922 678.991 106.922 686.121 Q106.922 693.227 108.728 696.792 Q110.557 700.333 114.168 700.333 Q117.802 700.333 119.608 696.792 Q121.436 693.227 121.436 686.121 Q121.436 678.991 119.608 675.449 Q117.802 671.885 114.168 671.885 M114.168 668.181 Q119.978 668.181 123.033 672.787 Q126.112 677.371 126.112 686.121 Q126.112 694.847 123.033 699.454 Q119.978 704.037 114.168 704.037 Q108.358 704.037 105.279 699.454 Q102.223 694.847 102.223 686.121 Q102.223 677.371 105.279 672.787 Q108.358 668.181 114.168 668.181 Z\" fill=\"#000000\" fill-rule=\"evenodd\" fill-opacity=\"1\" /><path clip-path=\"url(#clip700)\" d=\"M144.33 671.885 Q140.719 671.885 138.89 675.449 Q137.084 678.991 137.084 686.121 Q137.084 693.227 138.89 696.792 Q140.719 700.333 144.33 700.333 Q147.964 700.333 149.769 696.792 Q151.598 693.227 151.598 686.121 Q151.598 678.991 149.769 675.449 Q147.964 671.885 144.33 671.885 M144.33 668.181 Q150.14 668.181 153.195 672.787 Q156.274 677.371 156.274 686.121 Q156.274 694.847 153.195 699.454 Q150.14 704.037 144.33 704.037 Q138.519 704.037 135.441 699.454 Q132.385 694.847 132.385 686.121 Q132.385 677.371 135.441 672.787 Q138.519 668.181 144.33 668.181 Z\" fill=\"#000000\" fill-rule=\"evenodd\" fill-opacity=\"1\" /><path clip-path=\"url(#clip700)\" d=\"M69.9319 519.242 Q66.3208 519.242 64.4921 522.807 Q62.6865 526.349 62.6865 533.478 Q62.6865 540.585 64.4921 544.149 Q66.3208 547.691 69.9319 547.691 Q73.5661 547.691 75.3717 544.149 Q77.2004 540.585 77.2004 533.478 Q77.2004 526.349 75.3717 522.807 Q73.5661 519.242 69.9319 519.242 M69.9319 515.538 Q75.742 515.538 78.7976 520.145 Q81.8763 524.728 81.8763 533.478 Q81.8763 542.205 78.7976 546.811 Q75.742 551.395 69.9319 551.395 Q64.1217 551.395 61.043 546.811 Q57.9875 542.205 57.9875 533.478 Q57.9875 524.728 61.043 520.145 Q64.1217 515.538 69.9319 515.538 Z\" fill=\"#000000\" fill-rule=\"evenodd\" fill-opacity=\"1\" /><path clip-path=\"url(#clip700)\" d=\"M90.0938 544.844 L94.978 544.844 L94.978 550.723 L90.0938 550.723 L90.0938 544.844 Z\" fill=\"#000000\" fill-rule=\"evenodd\" fill-opacity=\"1\" /><path clip-path=\"url(#clip700)\" d=\"M109.191 546.788 L125.51 546.788 L125.51 550.723 L103.566 550.723 L103.566 546.788 Q106.228 544.034 110.811 539.404 Q115.418 534.751 116.598 533.409 Q118.844 530.886 119.723 529.15 Q120.626 527.39 120.626 525.7 Q120.626 522.946 118.682 521.21 Q116.76 519.474 113.658 519.474 Q111.459 519.474 109.006 520.238 Q106.575 521.001 103.797 522.552 L103.797 517.83 Q106.621 516.696 109.075 516.117 Q111.529 515.538 113.566 515.538 Q118.936 515.538 122.131 518.224 Q125.325 520.909 125.325 525.4 Q125.325 527.529 124.515 529.45 Q123.728 531.349 121.621 533.941 Q121.043 534.612 117.941 537.83 Q114.839 541.024 109.191 546.788 Z\" fill=\"#000000\" fill-rule=\"evenodd\" fill-opacity=\"1\" /><path clip-path=\"url(#clip700)\" d=\"M135.371 516.163 L153.728 516.163 L153.728 520.099 L139.654 520.099 L139.654 528.571 Q140.672 528.224 141.691 528.062 Q142.709 527.876 143.728 527.876 Q149.515 527.876 152.894 531.048 Q156.274 534.219 156.274 539.636 Q156.274 545.214 152.802 548.316 Q149.33 551.395 143.01 551.395 Q140.834 551.395 138.566 551.024 Q136.32 550.654 133.913 549.913 L133.913 545.214 Q135.996 546.348 138.219 546.904 Q140.441 547.46 142.918 547.46 Q146.922 547.46 149.26 545.353 Q151.598 543.247 151.598 539.636 Q151.598 536.024 149.26 533.918 Q146.922 531.812 142.918 531.812 Q141.043 531.812 139.168 532.228 Q137.316 532.645 135.371 533.524 L135.371 516.163 Z\" fill=\"#000000\" fill-rule=\"evenodd\" fill-opacity=\"1\" /><path clip-path=\"url(#clip700)\" d=\"M68.9365 366.6 Q65.3254 366.6 63.4967 370.165 Q61.6912 373.706 61.6912 380.836 Q61.6912 387.942 63.4967 391.507 Q65.3254 395.049 68.9365 395.049 Q72.5707 395.049 74.3763 391.507 Q76.205 387.942 76.205 380.836 Q76.205 373.706 74.3763 370.165 Q72.5707 366.6 68.9365 366.6 M68.9365 362.896 Q74.7467 362.896 77.8022 367.503 Q80.8809 372.086 80.8809 380.836 Q80.8809 389.563 77.8022 394.169 Q74.7467 398.752 68.9365 398.752 Q63.1264 398.752 60.0477 394.169 Q56.9921 389.563 56.9921 380.836 Q56.9921 372.086 60.0477 367.503 Q63.1264 362.896 68.9365 362.896 Z\" fill=\"#000000\" fill-rule=\"evenodd\" fill-opacity=\"1\" /><path clip-path=\"url(#clip700)\" d=\"M89.0984 392.201 L93.9827 392.201 L93.9827 398.081 L89.0984 398.081 L89.0984 392.201 Z\" fill=\"#000000\" fill-rule=\"evenodd\" fill-opacity=\"1\" /><path clip-path=\"url(#clip700)\" d=\"M104.214 363.521 L122.57 363.521 L122.57 367.456 L108.496 367.456 L108.496 375.928 Q109.515 375.581 110.534 375.419 Q111.552 375.234 112.571 375.234 Q118.358 375.234 121.737 378.405 Q125.117 381.577 125.117 386.993 Q125.117 392.572 121.645 395.674 Q118.172 398.752 111.853 398.752 Q109.677 398.752 107.409 398.382 Q105.163 398.012 102.756 397.271 L102.756 392.572 Q104.839 393.706 107.061 394.262 Q109.284 394.817 111.76 394.817 Q115.765 394.817 118.103 392.711 Q120.441 390.604 120.441 386.993 Q120.441 383.382 118.103 381.276 Q115.765 379.169 111.76 379.169 Q109.885 379.169 108.01 379.586 Q106.159 380.002 104.214 380.882 L104.214 363.521 Z\" fill=\"#000000\" fill-rule=\"evenodd\" fill-opacity=\"1\" /><path clip-path=\"url(#clip700)\" d=\"M144.33 366.6 Q140.719 366.6 138.89 370.165 Q137.084 373.706 137.084 380.836 Q137.084 387.942 138.89 391.507 Q140.719 395.049 144.33 395.049 Q147.964 395.049 149.769 391.507 Q151.598 387.942 151.598 380.836 Q151.598 373.706 149.769 370.165 Q147.964 366.6 144.33 366.6 M144.33 362.896 Q150.14 362.896 153.195 367.503 Q156.274 372.086 156.274 380.836 Q156.274 389.563 153.195 394.169 Q150.14 398.752 144.33 398.752 Q138.519 398.752 135.441 394.169 Q132.385 389.563 132.385 380.836 Q132.385 372.086 135.441 367.503 Q138.519 362.896 144.33 362.896 Z\" fill=\"#000000\" fill-rule=\"evenodd\" fill-opacity=\"1\" /><path clip-path=\"url(#clip700)\" d=\"M69.9319 213.957 Q66.3208 213.957 64.4921 217.522 Q62.6865 221.064 62.6865 228.193 Q62.6865 235.3 64.4921 238.865 Q66.3208 242.406 69.9319 242.406 Q73.5661 242.406 75.3717 238.865 Q77.2004 235.3 77.2004 228.193 Q77.2004 221.064 75.3717 217.522 Q73.5661 213.957 69.9319 213.957 M69.9319 210.254 Q75.742 210.254 78.7976 214.86 Q81.8763 219.443 81.8763 228.193 Q81.8763 236.92 78.7976 241.527 Q75.742 246.11 69.9319 246.11 Q64.1217 246.11 61.043 241.527 Q57.9875 236.92 57.9875 228.193 Q57.9875 219.443 61.043 214.86 Q64.1217 210.254 69.9319 210.254 Z\" fill=\"#000000\" fill-rule=\"evenodd\" fill-opacity=\"1\" /><path clip-path=\"url(#clip700)\" d=\"M90.0938 239.559 L94.978 239.559 L94.978 245.439 L90.0938 245.439 L90.0938 239.559 Z\" fill=\"#000000\" fill-rule=\"evenodd\" fill-opacity=\"1\" /><path clip-path=\"url(#clip700)\" d=\"M103.983 210.879 L126.205 210.879 L126.205 212.869 L113.658 245.439 L108.774 245.439 L120.58 214.814 L103.983 214.814 L103.983 210.879 Z\" fill=\"#000000\" fill-rule=\"evenodd\" fill-opacity=\"1\" /><path clip-path=\"url(#clip700)\" d=\"M135.371 210.879 L153.728 210.879 L153.728 214.814 L139.654 214.814 L139.654 223.286 Q140.672 222.939 141.691 222.777 Q142.709 222.592 143.728 222.592 Q149.515 222.592 152.894 225.763 Q156.274 228.934 156.274 234.351 Q156.274 239.929 152.802 243.031 Q149.33 246.11 143.01 246.11 Q140.834 246.11 138.566 245.74 Q136.32 245.369 133.913 244.628 L133.913 239.929 Q135.996 241.064 138.219 241.619 Q140.441 242.175 142.918 242.175 Q146.922 242.175 149.26 240.068 Q151.598 237.962 151.598 234.351 Q151.598 230.74 149.26 228.633 Q146.922 226.527 142.918 226.527 Q141.043 226.527 139.168 226.943 Q137.316 227.36 135.371 228.24 L135.371 210.879 Z\" fill=\"#000000\" fill-rule=\"evenodd\" fill-opacity=\"1\" /><path clip-path=\"url(#clip700)\" d=\"M59.7467 88.8611 L67.3856 88.8611 L67.3856 62.4955 L59.0754 64.1622 L59.0754 59.9029 L67.3393 58.2363 L72.0152 58.2363 L72.0152 88.8611 L79.654 88.8611 L79.654 92.7963 L59.7467 92.7963 L59.7467 88.8611 Z\" fill=\"#000000\" fill-rule=\"evenodd\" fill-opacity=\"1\" /><path clip-path=\"url(#clip700)\" d=\"M89.0984 86.9167 L93.9827 86.9167 L93.9827 92.7963 L89.0984 92.7963 L89.0984 86.9167 Z\" fill=\"#000000\" fill-rule=\"evenodd\" fill-opacity=\"1\" /><path clip-path=\"url(#clip700)\" d=\"M114.168 61.315 Q110.557 61.315 108.728 64.8798 Q106.922 68.4214 106.922 75.551 Q106.922 82.6574 108.728 86.2222 Q110.557 89.7639 114.168 89.7639 Q117.802 89.7639 119.608 86.2222 Q121.436 82.6574 121.436 75.551 Q121.436 68.4214 119.608 64.8798 Q117.802 61.315 114.168 61.315 M114.168 57.6113 Q119.978 57.6113 123.033 62.2177 Q126.112 66.801 126.112 75.551 Q126.112 84.2778 123.033 88.8843 Q119.978 93.4676 114.168 93.4676 Q108.358 93.4676 105.279 88.8843 Q102.223 84.2778 102.223 75.551 Q102.223 66.801 105.279 62.2177 Q108.358 57.6113 114.168 57.6113 Z\" fill=\"#000000\" fill-rule=\"evenodd\" fill-opacity=\"1\" /><path clip-path=\"url(#clip700)\" d=\"M144.33 61.315 Q140.719 61.315 138.89 64.8798 Q137.084 68.4214 137.084 75.551 Q137.084 82.6574 138.89 86.2222 Q140.719 89.7639 144.33 89.7639 Q147.964 89.7639 149.769 86.2222 Q151.598 82.6574 151.598 75.551 Q151.598 68.4214 149.769 64.8798 Q147.964 61.315 144.33 61.315 M144.33 57.6113 Q150.14 57.6113 153.195 62.2177 Q156.274 66.801 156.274 75.551 Q156.274 84.2778 153.195 88.8843 Q150.14 93.4676 144.33 93.4676 Q138.519 93.4676 135.441 88.8843 Q132.385 84.2778 132.385 75.551 Q132.385 66.801 135.441 62.2177 Q138.519 57.6113 144.33 57.6113 Z\" fill=\"#000000\" fill-rule=\"evenodd\" fill-opacity=\"1\" /></svg>\n"
      ]
     },
     "metadata": {},
     "output_type": "display_data"
    }
   ],
   "source": [
    "n = size(epochLosses)[1]\n",
    "plot(epochs[1:n], epochLosses, size=(300,200), linewidth=2, legend=false)"
   ]
  },
  {
   "cell_type": "markdown",
   "id": "a77111b8",
   "metadata": {},
   "source": [
    "##### Testing"
   ]
  },
  {
   "cell_type": "code",
   "execution_count": 14,
   "id": "287287b6",
   "metadata": {},
   "outputs": [
    {
     "data": {
      "text/plain": [
       "predictOutcome (generic function with 1 method)"
      ]
     },
     "metadata": {},
     "output_type": "display_data"
    }
   ],
   "source": [
    "function predictOutcome(X)\n",
    "    ŷ = Flux.onecold( model(X), [0:9;] )\n",
    "end"
   ]
  },
  {
   "cell_type": "code",
   "execution_count": 15,
   "id": "4cd546f6",
   "metadata": {},
   "outputs": [
    {
     "data": {
      "text/plain": [
       "10×10 Matrix{Int64}:\n",
       " 1737     0    20    12     6    32    24     4    29    18\n",
       "    1  1953     5     1     5     7     1     4    36     2\n",
       "    3    10  1616    24    15    16     6    25    47     7\n",
       "   10    29    57  1728     7   133     0    11   333    47\n",
       "    2     3    13     0  1537    28     3    12     2    19\n",
       "    4     5     1    21     0  1333    15     1    52     6\n",
       "   13     1    23     6    24    47  1725     1    28     2\n",
       "    5    10    39    27    25    16     0  1803    31   170\n",
       "    2     7     5     4     6     4     0     1  1166     3\n",
       "    0     5     8    16   128    10     1    17    31  1511"
      ]
     },
     "metadata": {},
     "output_type": "display_data"
    },
    {
     "name": "stdout",
     "output_type": "stream",
     "text": [
      "accuracy: 0.895\n",
      "f1-score: "
     ]
    },
    {
     "name": "stdout",
     "output_type": "stream",
     "text": [
      "0.893\n"
     ]
    }
   ],
   "source": [
    "# preprocessing\n",
    "ts_X, ts_y = preprocess(testX, testY)\n",
    "X_d        = ts_X |> gpu\n",
    "\n",
    "# predict\n",
    "ŷ = predictOutcome(X_d)\n",
    "\n",
    "# result\n",
    "printMetrics( ŷ, coerce(testY, OrderedFactor) )"
   ]
  }
 ],
 "metadata": {
  "kernelspec": {
   "display_name": "Julia 1.6.6",
   "language": "julia",
   "name": "julia-1.6"
  },
  "language_info": {
   "file_extension": ".jl",
   "mimetype": "application/julia",
   "name": "julia",
   "version": "1.6.6"
  }
 },
 "nbformat": 4,
 "nbformat_minor": 5
}
