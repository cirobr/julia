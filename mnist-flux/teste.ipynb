{
 "cells": [
  {
   "cell_type": "markdown",
   "id": "e145f758",
   "metadata": {},
   "source": [
    "#### Flux with MNIST and GPU\n"
   ]
  },
  {
   "cell_type": "markdown",
   "id": "5f262ba3",
   "metadata": {},
   "source": [
    "##### Libraries"
   ]
  },
  {
   "cell_type": "code",
   "execution_count": 1,
   "id": "d63e87f2",
   "metadata": {},
   "outputs": [],
   "source": [
    "using CUDA\n",
    "\n",
    "using MLDatasets           # mnist\n",
    "using Images\n",
    "using PreprocessingImages; pim = PreprocessingImages\n",
    "using PreprocessingArrays; pa  = PreprocessingArrays\n",
    "\n",
    "using MLJ                  # make_blobs, rmse, confmat, f1score, coerce\n",
    "using MLDataUtils          # label, nlabel, labelfreq, stratifiedobs\n",
    "using Flux                 # the julia ml library\n",
    "\n",
    "using Plots\n",
    "using Random\n",
    "using DataFrames"
   ]
  },
  {
   "cell_type": "code",
   "execution_count": 2,
   "id": "5545d1b2",
   "metadata": {},
   "outputs": [
    {
     "data": {
      "text/plain": [
       "trainModel! (generic function with 1 method)"
      ]
     },
     "metadata": {},
     "output_type": "display_data"
    }
   ],
   "source": [
    "include(\"../libs/libml.jl\")"
   ]
  },
  {
   "cell_type": "markdown",
   "id": "8903cf71",
   "metadata": {},
   "source": [
    "##### MNIST"
   ]
  },
  {
   "cell_type": "code",
   "execution_count": 3,
   "id": "4d7603a2",
   "metadata": {},
   "outputs": [
    {
     "data": {
      "text/plain": [
       "(28, 28, 60000)"
      ]
     },
     "metadata": {},
     "output_type": "display_data"
    },
    {
     "data": {
      "text/plain": [
       "1×5 adjoint(::Vector{Int64}) with eltype Int64:\n",
       " 5  0  4  1  9"
      ]
     },
     "metadata": {},
     "output_type": "display_data"
    },
    {
     "data": {
      "image/png": "[encoded data removed]",
      "text/html": [
       "<img src=\"data:image/png;base64,iVBORw0KGgoAAAANSUhEUgAAARgAAAA4CAAAAAADPrjSAAAABGdBTUEAALGPC/xhBQAAAAFzUkdCAK7OHOkAAAAgY0hSTQAAeiYAAICEAAD6AAAAgOgAAHUwAADqYAAAOpgAABdwnLpRPAAABPJJREFUaAXtwX2M1nUBAPDPc34HHjmOeOlgOUSNaKPggqHpCCheckgGUSIpiJW6UGQrmViXO6cwEvgDGE4nE+TFXS3CQ51DJnHGoJsn6pwEkTQccBGi58FF3vJ52rPjFnf3fV44tNX8fT5BIipIRAWJqCARFSSigkRUkIgKElHBJ2Kku8223ip7/X8KElFBDhcpk3W3Hoa4yzIz/dMSDyqswnY9Zcxygz66ZrxNxjrgfFR6UIlxal24IBEVdDBQN9carZfp2hyx0jSnvKFWYVfZrEzGKS36uMarWnQ2Rh9b5DZKvfMzx0JpZHwcgkRU0M5XvaRMe2mVmj3tmPcdkF8PI2w0QNZBj6i2yy8t1tk4g22RS4nLDZRyPi7TXfGuNssYQ3GvY75ugzrnChJRQTuHnVSmTZ1G39Big2I9bqY2I1yi1jhfETPbHrkNcLuN9iveBPOw3xTHFTbDCn2l7NTPUqT0dZNzBYmooJ33LDDFa1bidRM1G2q+Yo10vRRqPWepBq953zelxJTIZw0OKt5o65RhqcMKCUZ5Qg8ve8gu3f3GJNRrL0hEBR08Y4dThvuR5ZrxljsUp8J2PWW8YKaxKq1xwhvSrjfCXu0NUy6fMmxXvFsNwE7rFXaLNdhuhibMMAlHPKW9IBEVdNKED/Bj1dKK9UULlHlXg6ec9rzntSn1Mzdrb7JSuZW7HEcVq68fSmu0SGEPu1/Goyo1yfqFrHuc0F6QiAqiqow01gQvKk53y0x2ymz1SnU0UEdD8JZclin3Z6cUZ5DNslbZoZAH3K/FNvc5g4tNMlDKw2p0FCSigqhmt9vrCb9Xb7WMQkaYjO+oVbxXdNbTdW4xCQ9pVJzrDMNLViikl7kytpkq6ws2GYnfekRnQSIqyOFtc6w1yyyfsV6D/JZLqVWrsxJpKTG9tRquxHiX6uZmJc6o86HgVcWZagl2udUHCummL+7xObe5wZddIiNjo2adBYmoIKct/mK58Ra7zCJH5TZFhYytYtIyXtfRGRmP+bmsYVL+5R/2eVK9WscdUWq/YgyyWdYhxxXW4oR+/ioj65gmA7zrWTFBIirI4003+ra17jTYRLmV6ubvfq2j7qqww0IdzXXYtVq9o8Y+f9TmDv0cUpz7pGUtUYxGUz2nt7fVWOc91QaoFhckooK8Gm2wRjDGODvl86EG7XVXaYEjljuts1/JZTw2K0aFSbJqHFCcOv20GWOstEPigkRUkMcw3zNKwD4vy2+r9iosMEON6briGcV40WdRZ46uKJWWUS0uSEQFOQwxzzT9ZX2kQVpuKSlTzfcfP1WpzCazfZL6SGO107pim3yCRFQQ0d8P3GWQVvUW2SqfjIz+VnrSSV8zy3CXesc2j+qalMH2KGStElm7dc235BMkooIOyg21ype0qrNUjbTCLjLXdE0Gy9pjhwd0VUaJQipMlNZiteO65kr5BImo4By9Pa7CFVrtttw2ZxS2xytGob9ynFRtvgtzjXXy66UcR92rq/6gRFouQSIqOOtqC1zl81qdscJizYpzxHfdqVLWCo856MKk/De86aArXOmEmCARFZw1zTRZf/KsjyzT6Hw0qFLl4/GC7ytsv91GuzCLrbHIPPt0FiSigrMWWuh/wzrrFPY3Y12o37nJBFVu06yjIBEVfIo1udEiP1Fln46CRFTwqdZknnligkTUvwF5x1NZIErsDQAAAABJRU5ErkJg\">"
      ],
      "text/plain": [
       "28×140 MosaicView{Gray{Float32}, 4, Base.ReshapedArray{Gray{Float32}, 4, PaddedView{Gray{Float32}, 3, Tuple{Base.OneTo{Int64}, Base.OneTo{Int64}, Base.OneTo{Int64}}, Array{Gray{Float32}, 3}}, Tuple{Base.MultiplicativeInverses.SignedMultiplicativeInverse{Int64}, Base.MultiplicativeInverses.SignedMultiplicativeInverse{Int64}}}}:\n",
       " Gray{Float32}(0.0)  Gray{Float32}(0.0)  …  Gray{Float32}(0.0)\n",
       " Gray{Float32}(0.0)  Gray{Float32}(0.0)     Gray{Float32}(0.0)\n",
       " Gray{Float32}(0.0)  Gray{Float32}(0.0)     Gray{Float32}(0.0)\n",
       " Gray{Float32}(0.0)  Gray{Float32}(0.0)     Gray{Float32}(0.0)\n",
       " Gray{Float32}(0.0)  Gray{Float32}(0.0)     Gray{Float32}(0.0)\n",
       " Gray{Float32}(0.0)  Gray{Float32}(0.0)  …  Gray{Float32}(0.0)\n",
       " Gray{Float32}(0.0)  Gray{Float32}(0.0)     Gray{Float32}(0.0)\n",
       " Gray{Float32}(0.0)  Gray{Float32}(0.0)     Gray{Float32}(0.0)\n",
       " Gray{Float32}(0.0)  Gray{Float32}(0.0)     Gray{Float32}(0.0)\n",
       " Gray{Float32}(0.0)  Gray{Float32}(0.0)     Gray{Float32}(0.0)\n",
       " ⋮                                       ⋱  \n",
       " Gray{Float32}(0.0)  Gray{Float32}(0.0)     Gray{Float32}(0.0)\n",
       " Gray{Float32}(0.0)  Gray{Float32}(0.0)  …  Gray{Float32}(0.0)\n",
       " Gray{Float32}(0.0)  Gray{Float32}(0.0)     Gray{Float32}(0.0)\n",
       " Gray{Float32}(0.0)  Gray{Float32}(0.0)     Gray{Float32}(0.0)\n",
       " Gray{Float32}(0.0)  Gray{Float32}(0.0)     Gray{Float32}(0.0)\n",
       " Gray{Float32}(0.0)  Gray{Float32}(0.0)     Gray{Float32}(0.0)\n",
       " Gray{Float32}(0.0)  Gray{Float32}(0.0)  …  Gray{Float32}(0.0)\n",
       " Gray{Float32}(0.0)  Gray{Float32}(0.0)     Gray{Float32}(0.0)\n",
       " Gray{Float32}(0.0)  Gray{Float32}(0.0)     Gray{Float32}(0.0)"
      ]
     },
     "metadata": {},
     "output_type": "display_data"
    }
   ],
   "source": [
    "# load mnist\n",
    "datasetX,    datasetY    = MNIST(:train)[:]\n",
    "validationX, validationY = MNIST(:test)[:]\n",
    "\n",
    "display( size(datasetX) )\n",
    "\n",
    "img  = datasetX[:, :, 1:5]\n",
    "img2 = permutedims(img, (2, 1, 3))\n",
    "\n",
    "display(datasetY[1:5]')\n",
    "mosaicview( Gray.(img2)  ; nrow=1)"
   ]
  },
  {
   "cell_type": "code",
   "execution_count": 4,
   "id": "2ecbb1f6",
   "metadata": {},
   "outputs": [
    {
     "data": {
      "text/plain": [
       "((28, 28, 42001), (28, 28, 17999), (28, 28, 10000))"
      ]
     },
     "metadata": {},
     "output_type": "display_data"
    }
   ],
   "source": [
    "# split trainset, testset from dataset\n",
    "Random.seed!(1)\n",
    "(trainX, trainY), (testX, testY) = MLDataUtils.stratifiedobs((datasetX, datasetY), p = 0.7)\n",
    "size(trainX), size(testX), size(validationX)"
   ]
  },
  {
   "cell_type": "markdown",
   "id": "b8b9c3b0",
   "metadata": {},
   "source": [
    "##### Preprocessing\n",
    "\n",
    "Flux primarily works with matrices and vectors"
   ]
  },
  {
   "cell_type": "code",
   "execution_count": 5,
   "id": "f76c815d",
   "metadata": {},
   "outputs": [
    {
     "data": {
      "text/plain": [
       "(784, 42001, (784, 42001), (10, 42001))"
      ]
     },
     "metadata": {},
     "output_type": "display_data"
    }
   ],
   "source": [
    "function preprocess(X, y)\n",
    "    Xs = Float32.(X) |> Flux.flatten\n",
    "    ys = Flux.onehotbatch( Float32.(y), 0:9 )\n",
    "    \n",
    "    return (Xs, ys)\n",
    "end\n",
    "\n",
    "h, v, N = size(trainX); d = h * v\n",
    "tr_X, tr_y = preprocess(trainX, trainY)\n",
    "d, N, size(tr_X), size(tr_y)"
   ]
  },
  {
   "cell_type": "markdown",
   "id": "b9f2d81e",
   "metadata": {},
   "source": [
    "##### Model"
   ]
  },
  {
   "cell_type": "code",
   "execution_count": 6,
   "id": "4d606cd7",
   "metadata": {},
   "outputs": [],
   "source": [
    "# data on gpu\n",
    "X_d = tr_X |> gpu\n",
    "y_d = tr_y |> gpu;"
   ]
  },
  {
   "cell_type": "code",
   "execution_count": 7,
   "id": "eb1374e8",
   "metadata": {},
   "outputs": [],
   "source": [
    "# model configuration\n",
    "nInputs  = d\n",
    "nOutputs = 10\n",
    "\n",
    "model = Chain( Flux.Dense(nInputs, 256, tanh),\n",
    "               Flux.Dense(256, nOutputs, relu),\n",
    "               softmax ) |> gpu                                      # weights on gpu\n",
    "\n",
    "lossFunction(X, y) = Flux.mse( model(X), y )\n",
    "modelParameters    = Flux.params(model)\n",
    "data               = Flux.DataLoader((X_d, y_d), batchsize=1)      # batchsize=1 => SGD, batch size > 1 => batch gradient descent\n",
    "modelOptimizer     = Flux.Descent()\n",
    "callBack           = Flux.throttle(() -> println(\"training\"), 10);   # print every 10s"
   ]
  },
  {
   "cell_type": "markdown",
   "id": "ea26fddb",
   "metadata": {},
   "source": [
    "##### Training"
   ]
  },
  {
   "cell_type": "code",
   "execution_count": 8,
   "id": "445003d8",
   "metadata": {},
   "outputs": [],
   "source": [
    "# trainModel!( lossFunction, modelParameters, data, modelOptimizer )   # libml"
   ]
  },
  {
   "cell_type": "code",
   "execution_count": 9,
   "id": "467e2940",
   "metadata": {},
   "outputs": [
    {
     "data": {
      "text/plain": [
       "500"
      ]
     },
     "metadata": {},
     "output_type": "display_data"
    }
   ],
   "source": [
    "numberOfEpochs = 500"
   ]
  },
  {
   "cell_type": "code",
   "execution_count": 10,
   "id": "5837527a",
   "metadata": {},
   "outputs": [
    {
     "data": {
      "text/plain": [
       "stopCriteria (generic function with 1 method)"
      ]
     },
     "metadata": {},
     "output_type": "display_data"
    }
   ],
   "source": [
    "function stopCriteria(epoch::Int, tailLosses::Vector{Float64}, minDeltaLoss::Float64)\n",
    "    if epoch < 4   return(false)   end\n",
    "\n",
    "    if tailLosses[3] > tailLosses[2] && tailLosses[2] > tailLosses[1]\n",
    "        # ver como voltar o modelo em 2 epochs\n",
    "        return(true)\n",
    "    end\n",
    "\n",
    "    # deltas = zeros(3)\n",
    "    deltas = [abs( tailLosses[i-1] - tailLosses[i] for i in 2:4) ]\n",
    "    # dt = abs( tailLosses[end-1] - tailLosses[end] )\n",
    "    # deltas[1] = deltas[2]\n",
    "    # deltas[2] = deltas[3]\n",
    "    # deltas[3] = dt\n",
    "    display( (epoch, deltas) )\n",
    "    if deltas[3] > deltas[2] && deltas[2] > deltas[1]   return(true)   end   # delta loss growing\n",
    "    if deltas[3] < minDeltaLoss   return(true)   end                         # delta loss too small\n",
    "end"
   ]
  },
  {
   "cell_type": "markdown",
   "id": "1f8a4dbe",
   "metadata": {},
   "source": [
    "Training epoch with plotting, with the aid of homemade function trainModel!"
   ]
  },
  {
   "cell_type": "code",
   "execution_count": 11,
   "id": "0a8fe48d",
   "metadata": {},
   "outputs": [],
   "source": [
    "# epochs      = 1 : numberOfEpochs\n",
    "# epochLosses = Vector{Float32}()\n",
    "\n",
    "# deltas = zeros(3)\n",
    "# for epoch in epochs\n",
    "#     l = trainModel!( lossFunction, modelParameters, data, modelOptimizer )   # libml\n",
    "#     push!(epochLosses, l)\n",
    "\n",
    "#     # exit criteria\n",
    "#     if     epoch == 2\n",
    "#         deltas[2] = abs( epochLosses[1] - epochLosses[2] )\n",
    "#     elseif epoch == 3\n",
    "#         deltas[3] = abs( epochLosses[2] - epochLosses[3] )\n",
    "#     elseif epoch > 3\n",
    "#         if epochLosses[end] > epochLosses[end-1]  &&  epochLosses[end-1] > epochLosses[end-2]   # loss function growing\n",
    "#             # ver como voltar o modelo em 2 epochs\n",
    "#             break\n",
    "#         end\n",
    "\n",
    "#         dt = abs( epochLosses[epoch-1] - epochLosses[epoch] )\n",
    "#         deltas[1] = deltas[2]\n",
    "#         deltas[2] = deltas[3]\n",
    "#         deltas[3] = dt\n",
    "#         # display( (epoch, deltas) )\n",
    "#         if deltas[3] > deltas[2] && deltas[2] > deltas[1]   break   end   # delta loss growing\n",
    "#         if dt < 1e-7   break   end                                        # delta loss too small\n",
    "#     end\n",
    "\n",
    "# end"
   ]
  },
  {
   "cell_type": "code",
   "execution_count": 12,
   "id": "38bb5cc2",
   "metadata": {},
   "outputs": [
    {
     "ename": "MethodError",
     "evalue": "MethodError: no method matching abs(::Base.Generator{UnitRange{Int64}, var\"#13#14\"{Vector{Float64}}})\nClosest candidates are:\n  abs(!Matched::T) where T<:GeometryBasics.OffsetInteger at /home/ciro/.julia/packages/GeometryBasics/3PqdK/src/offsetintegers.jl:58\n  abs(!Matched::ForwardDiff.Dual{T, V, N} where {V, N}) where T at /home/ciro/.julia/packages/ForwardDiff/wAaVJ/src/dual.jl:238\n  abs(!Matched::T) where T<:Dates.Period at /buildworker/worker/package_linux64/build/usr/share/julia/stdlib/v1.6/Dates/src/periods.jl:102\n  ...",
     "output_type": "error",
     "traceback": [
      "MethodError: no method matching abs(::Base.Generator{UnitRange{Int64}, var\"#13#14\"{Vector{Float64}}})\n",
      "Closest candidates are:\n",
      "  abs(!Matched::T) where T<:GeometryBasics.OffsetInteger at /home/ciro/.julia/packages/GeometryBasics/3PqdK/src/offsetintegers.jl:58\n",
      "  abs(!Matched::ForwardDiff.Dual{T, V, N} where {V, N}) where T at /home/ciro/.julia/packages/ForwardDiff/wAaVJ/src/dual.jl:238\n",
      "  abs(!Matched::T) where T<:Dates.Period at /buildworker/worker/package_linux64/build/usr/share/julia/stdlib/v1.6/Dates/src/periods.jl:102\n",
      "  ...\n",
      "\n",
      "Stacktrace:\n",
      "  [1] stopCriteria\n",
      "    @ ~/projects/julia/mnist-flux/teste.ipynb:10 [inlined]\n",
      "  [2] top-level scope\n",
      "    @ ~/projects/julia/mnist-flux/teste.ipynb:12\n",
      "  [3] eval\n",
      "    @ ./boot.jl:360 [inlined]\n",
      "  [4] include_string(mapexpr::typeof(REPL.softscope), mod::Module, code::String, filename::String)\n",
      "    @ Base ./loading.jl:1116\n",
      "  [5] #invokelatest#2\n",
      "    @ ./essentials.jl:708 [inlined]\n",
      "  [6] invokelatest\n",
      "    @ ./essentials.jl:706 [inlined]\n",
      "  [7] (::VSCodeServer.var\"#160#161\"{VSCodeServer.NotebookRunCellArguments, String})()\n",
      "    @ VSCodeServer ~/.vscode/extensions/julialang.language-julia-1.6.17/scripts/packages/VSCodeServer/src/serve_notebook.jl:19\n",
      "  [8] withpath(f::VSCodeServer.var\"#160#161\"{VSCodeServer.NotebookRunCellArguments, String}, path::String)\n",
      "    @ VSCodeServer ~/.vscode/extensions/julialang.language-julia-1.6.17/scripts/packages/VSCodeServer/src/repl.jl:184\n",
      "  [9] notebook_runcell_request(conn::VSCodeServer.JSONRPC.JSONRPCEndpoint{Base.PipeEndpoint, Base.PipeEndpoint}, params::VSCodeServer.NotebookRunCellArguments)\n",
      "    @ VSCodeServer ~/.vscode/extensions/julialang.language-julia-1.6.17/scripts/packages/VSCodeServer/src/serve_notebook.jl:13\n",
      " [10] dispatch_msg(x::VSCodeServer.JSONRPC.JSONRPCEndpoint{Base.PipeEndpoint, Base.PipeEndpoint}, dispatcher::VSCodeServer.JSONRPC.MsgDispatcher, msg::Dict{String, Any})\n",
      "    @ VSCodeServer.JSONRPC ~/.vscode/extensions/julialang.language-julia-1.6.17/scripts/packages/JSONRPC/src/typed.jl:67\n",
      " [11] serve_notebook(pipename::String, outputchannel_logger::Base.CoreLogging.SimpleLogger; crashreporting_pipename::String)\n",
      "    @ VSCodeServer ~/.vscode/extensions/julialang.language-julia-1.6.17/scripts/packages/VSCodeServer/src/serve_notebook.jl:136\n",
      " [12] top-level scope\n",
      "    @ ~/.vscode/extensions/julialang.language-julia-1.6.17/scripts/notebook/notebook.jl:32\n",
      " [13] include(mod::Module, _path::String)\n",
      "    @ Base ./Base.jl:384\n",
      " [14] exec_options(opts::Base.JLOptions)\n",
      "    @ Base ./client.jl:285\n",
      " [15] _start()\n",
      "    @ Base ./client.jl:485"
     ]
    }
   ],
   "source": [
    "epochs       = 1 : numberOfEpochs\n",
    "epochLosses  = Vector{Float64}()\n",
    "tailLosses   = zeros(4)\n",
    "minDeltaLoss = 1e-7\n",
    "\n",
    "for epoch in epochs\n",
    "    l = trainModel!( lossFunction, modelParameters, data, modelOptimizer )   # libml\n",
    "    push!(epochLosses, l)\n",
    "\n",
    "    # exit criteria\n",
    "    if epoch >= 4   tailLosses = epochLosses[end-3: end]   end\n",
    "    if stopCriteria(epoch, tailLosses, minDeltaLoss)   break   end\n",
    "end"
   ]
  },
  {
   "cell_type": "code",
   "execution_count": 13,
   "id": "07065db1",
   "metadata": {},
   "outputs": [
    {
     "data": {
      "image/png": "[encoded data removed]",
      "image/svg+xml": "<?xml version=\"1.0\" encoding=\"utf-8\"?>\n<svg xmlns=\"http://www.w3.org/2000/svg\" xmlns:xlink=\"http://www.w3.org/1999/xlink\" width=\"300\" height=\"200\" viewBox=\"0 0 1200 800\">\n<defs>\n  <clipPath id=\"clip620\">\n    <rect x=\"0\" y=\"0\" width=\"1200\" height=\"800\"/>\n  </clipPath>\n</defs>\n<path clip-path=\"url(#clip620)\" d=\"\nM0 800 L1200 800 L1200 0 L0 0  Z\n  \" fill=\"#ffffff\" fill-rule=\"evenodd\" fill-opacity=\"1\"/>\n<defs>\n  <clipPath id=\"clip621\">\n    <rect x=\"240\" y=\"0\" width=\"841\" height=\"800\"/>\n  </clipPath>\n</defs>\n<path clip-path=\"url(#clip620)\" d=\"\nM234.598 694.448 L1152.76 694.448 L1152.76 47.2441 L234.598 47.2441  Z\n  \" fill=\"#ffffff\" fill-rule=\"evenodd\" fill-opacity=\"1\"/>\n<defs>\n  <clipPath id=\"clip622\">\n    <rect x=\"234\" y=\"47\" width=\"919\" height=\"648\"/>\n  </clipPath>\n</defs>\n<polyline clip-path=\"url(#clip622)\" style=\"stroke:#000000; stroke-linecap:butt; stroke-linejoin:round; stroke-width:2; stroke-opacity:0.1; fill:none\" points=\"\n  260.583,694.448 260.583,47.2441 \n  \"/>\n<polyline clip-path=\"url(#clip622)\" style=\"stroke:#000000; stroke-linecap:butt; stroke-linejoin:round; stroke-width:2; stroke-opacity:0.1; fill:none\" points=\"\n  549.312,694.448 549.312,47.2441 \n  \"/>\n<polyline clip-path=\"url(#clip622)\" style=\"stroke:#000000; stroke-linecap:butt; stroke-linejoin:round; stroke-width:2; stroke-opacity:0.1; fill:none\" points=\"\n  838.041,694.448 838.041,47.2441 \n  \"/>\n<polyline clip-path=\"url(#clip622)\" style=\"stroke:#000000; stroke-linecap:butt; stroke-linejoin:round; stroke-width:2; stroke-opacity:0.1; fill:none\" points=\"\n  1126.77,694.448 1126.77,47.2441 \n  \"/>\n<polyline clip-path=\"url(#clip620)\" style=\"stroke:#000000; stroke-linecap:butt; stroke-linejoin:round; stroke-width:4; stroke-opacity:1; fill:none\" points=\"\n  234.598,694.448 1152.76,694.448 \n  \"/>\n<polyline clip-path=\"url(#clip620)\" style=\"stroke:#000000; stroke-linecap:butt; stroke-linejoin:round; stroke-width:4; stroke-opacity:1; fill:none\" points=\"\n  260.583,694.448 260.583,675.55 \n  \"/>\n<polyline clip-path=\"url(#clip620)\" style=\"stroke:#000000; stroke-linecap:butt; stroke-linejoin:round; stroke-width:4; stroke-opacity:1; fill:none\" points=\"\n  549.312,694.448 549.312,675.55 \n  \"/>\n<polyline clip-path=\"url(#clip620)\" style=\"stroke:#000000; stroke-linecap:butt; stroke-linejoin:round; stroke-width:4; stroke-opacity:1; fill:none\" points=\"\n  838.041,694.448 838.041,675.55 \n  \"/>\n<polyline clip-path=\"url(#clip620)\" style=\"stroke:#000000; stroke-linecap:butt; stroke-linejoin:round; stroke-width:4; stroke-opacity:1; fill:none\" points=\"\n  1126.77,694.448 1126.77,675.55 \n  \"/>\n<path clip-path=\"url(#clip620)\" d=\"M250.965 743.313 L258.604 743.313 L258.604 716.947 L250.294 718.614 L250.294 714.355 L258.558 712.688 L263.234 712.688 L263.234 743.313 L270.873 743.313 L270.873 747.248 L250.965 747.248 L250.965 743.313 Z\" fill=\"#000000\" fill-rule=\"evenodd\" fill-opacity=\"1\" /><path clip-path=\"url(#clip620)\" d=\"M543.965 743.313 L560.285 743.313 L560.285 747.248 L538.34 747.248 L538.34 743.313 Q541.002 740.558 545.586 735.928 Q550.192 731.276 551.373 729.933 Q553.618 727.41 554.497 725.674 Q555.4 723.915 555.4 722.225 Q555.4 719.47 553.456 717.734 Q551.535 715.998 548.433 715.998 Q546.234 715.998 543.78 716.762 Q541.349 717.526 538.572 719.077 L538.572 714.355 Q541.396 713.22 543.849 712.642 Q546.303 712.063 548.34 712.063 Q553.71 712.063 556.905 714.748 Q560.099 717.433 560.099 721.924 Q560.099 724.054 559.289 725.975 Q558.502 727.873 556.396 730.466 Q555.817 731.137 552.715 734.354 Q549.613 737.549 543.965 743.313 Z\" fill=\"#000000\" fill-rule=\"evenodd\" fill-opacity=\"1\" /><path clip-path=\"url(#clip620)\" d=\"M842.289 728.614 Q845.645 729.331 847.52 731.6 Q849.419 733.868 849.419 737.202 Q849.419 742.317 845.9 745.118 Q842.382 747.919 835.9 747.919 Q833.724 747.919 831.409 747.479 Q829.118 747.063 826.664 746.206 L826.664 741.692 Q828.608 742.827 830.923 743.405 Q833.238 743.984 835.761 743.984 Q840.159 743.984 842.451 742.248 Q844.766 740.512 844.766 737.202 Q844.766 734.146 842.613 732.433 Q840.483 730.697 836.664 730.697 L832.636 730.697 L832.636 726.854 L836.849 726.854 Q840.298 726.854 842.127 725.489 Q843.956 724.1 843.956 721.507 Q843.956 718.845 842.058 717.433 Q840.183 715.998 836.664 715.998 Q834.743 715.998 832.544 716.415 Q830.345 716.831 827.706 717.711 L827.706 713.544 Q830.368 712.804 832.683 712.433 Q835.021 712.063 837.081 712.063 Q842.405 712.063 845.507 714.493 Q848.608 716.901 848.608 721.021 Q848.608 723.892 846.965 725.882 Q845.321 727.85 842.289 728.614 Z\" fill=\"#000000\" fill-rule=\"evenodd\" fill-opacity=\"1\" /><path clip-path=\"url(#clip620)\" d=\"M1129.78 716.762 L1117.97 735.211 L1129.78 735.211 L1129.78 716.762 M1128.55 712.688 L1134.43 712.688 L1134.43 735.211 L1139.36 735.211 L1139.36 739.1 L1134.43 739.1 L1134.43 747.248 L1129.78 747.248 L1129.78 739.1 L1114.18 739.1 L1114.18 734.586 L1128.55 712.688 Z\" fill=\"#000000\" fill-rule=\"evenodd\" fill-opacity=\"1\" /><polyline clip-path=\"url(#clip622)\" style=\"stroke:#000000; stroke-linecap:butt; stroke-linejoin:round; stroke-width:2; stroke-opacity:0.1; fill:none\" points=\"\n  234.598,569.682 1152.76,569.682 \n  \"/>\n<polyline clip-path=\"url(#clip622)\" style=\"stroke:#000000; stroke-linecap:butt; stroke-linejoin:round; stroke-width:2; stroke-opacity:0.1; fill:none\" points=\"\n  234.598,426.54 1152.76,426.54 \n  \"/>\n<polyline clip-path=\"url(#clip622)\" style=\"stroke:#000000; stroke-linecap:butt; stroke-linejoin:round; stroke-width:2; stroke-opacity:0.1; fill:none\" points=\"\n  234.598,283.399 1152.76,283.399 \n  \"/>\n<polyline clip-path=\"url(#clip622)\" style=\"stroke:#000000; stroke-linecap:butt; stroke-linejoin:round; stroke-width:2; stroke-opacity:0.1; fill:none\" points=\"\n  234.598,140.258 1152.76,140.258 \n  \"/>\n<polyline clip-path=\"url(#clip620)\" style=\"stroke:#000000; stroke-linecap:butt; stroke-linejoin:round; stroke-width:4; stroke-opacity:1; fill:none\" points=\"\n  234.598,694.448 234.598,47.2441 \n  \"/>\n<polyline clip-path=\"url(#clip620)\" style=\"stroke:#000000; stroke-linecap:butt; stroke-linejoin:round; stroke-width:4; stroke-opacity:1; fill:none\" points=\"\n  234.598,569.682 253.495,569.682 \n  \"/>\n<polyline clip-path=\"url(#clip620)\" style=\"stroke:#000000; stroke-linecap:butt; stroke-linejoin:round; stroke-width:4; stroke-opacity:1; fill:none\" points=\"\n  234.598,426.54 253.495,426.54 \n  \"/>\n<polyline clip-path=\"url(#clip620)\" style=\"stroke:#000000; stroke-linecap:butt; stroke-linejoin:round; stroke-width:4; stroke-opacity:1; fill:none\" points=\"\n  234.598,283.399 253.495,283.399 \n  \"/>\n<polyline clip-path=\"url(#clip620)\" style=\"stroke:#000000; stroke-linecap:butt; stroke-linejoin:round; stroke-width:4; stroke-opacity:1; fill:none\" points=\"\n  234.598,140.258 253.495,140.258 \n  \"/>\n<path clip-path=\"url(#clip620)\" d=\"M69.9319 555.48 Q66.3208 555.48 64.4921 559.045 Q62.6865 562.587 62.6865 569.717 Q62.6865 576.823 64.4921 580.388 Q66.3208 583.929 69.9319 583.929 Q73.5661 583.929 75.3717 580.388 Q77.2004 576.823 77.2004 569.717 Q77.2004 562.587 75.3717 559.045 Q73.5661 555.48 69.9319 555.48 M69.9319 551.777 Q75.742 551.777 78.7976 556.383 Q81.8763 560.967 81.8763 569.717 Q81.8763 578.443 78.7976 583.05 Q75.742 587.633 69.9319 587.633 Q64.1217 587.633 61.043 583.05 Q57.9875 578.443 57.9875 569.717 Q57.9875 560.967 61.043 556.383 Q64.1217 551.777 69.9319 551.777 Z\" fill=\"#000000\" fill-rule=\"evenodd\" fill-opacity=\"1\" /><path clip-path=\"url(#clip620)\" d=\"M90.0938 581.082 L94.978 581.082 L94.978 586.962 L90.0938 586.962 L90.0938 581.082 Z\" fill=\"#000000\" fill-rule=\"evenodd\" fill-opacity=\"1\" /><path clip-path=\"url(#clip620)\" d=\"M115.163 555.48 Q111.552 555.48 109.723 559.045 Q107.918 562.587 107.918 569.717 Q107.918 576.823 109.723 580.388 Q111.552 583.929 115.163 583.929 Q118.797 583.929 120.603 580.388 Q122.432 576.823 122.432 569.717 Q122.432 562.587 120.603 559.045 Q118.797 555.48 115.163 555.48 M115.163 551.777 Q120.973 551.777 124.029 556.383 Q127.107 560.967 127.107 569.717 Q127.107 578.443 124.029 583.05 Q120.973 587.633 115.163 587.633 Q109.353 587.633 106.274 583.05 Q103.219 578.443 103.219 569.717 Q103.219 560.967 106.274 556.383 Q109.353 551.777 115.163 551.777 Z\" fill=\"#000000\" fill-rule=\"evenodd\" fill-opacity=\"1\" /><path clip-path=\"url(#clip620)\" d=\"M145.325 555.48 Q141.714 555.48 139.885 559.045 Q138.08 562.587 138.08 569.717 Q138.08 576.823 139.885 580.388 Q141.714 583.929 145.325 583.929 Q148.959 583.929 150.765 580.388 Q152.593 576.823 152.593 569.717 Q152.593 562.587 150.765 559.045 Q148.959 555.48 145.325 555.48 M145.325 551.777 Q151.135 551.777 154.191 556.383 Q157.269 560.967 157.269 569.717 Q157.269 578.443 154.191 583.05 Q151.135 587.633 145.325 587.633 Q139.515 587.633 136.436 583.05 Q133.381 578.443 133.381 569.717 Q133.381 560.967 136.436 556.383 Q139.515 551.777 145.325 551.777 Z\" fill=\"#000000\" fill-rule=\"evenodd\" fill-opacity=\"1\" /><path clip-path=\"url(#clip620)\" d=\"M164.306 552.402 L186.528 552.402 L186.528 554.393 L173.982 586.962 L169.098 586.962 L180.903 556.337 L164.306 556.337 L164.306 552.402 Z\" fill=\"#000000\" fill-rule=\"evenodd\" fill-opacity=\"1\" /><path clip-path=\"url(#clip620)\" d=\"M195.695 552.402 L214.051 552.402 L214.051 556.337 L199.977 556.337 L199.977 564.809 Q200.996 564.462 202.014 564.3 Q203.033 564.115 204.052 564.115 Q209.839 564.115 213.218 567.286 Q216.598 570.457 216.598 575.874 Q216.598 581.453 213.126 584.554 Q209.653 587.633 203.334 587.633 Q201.158 587.633 198.89 587.263 Q196.644 586.892 194.237 586.152 L194.237 581.453 Q196.32 582.587 198.542 583.142 Q200.765 583.698 203.241 583.698 Q207.246 583.698 209.584 581.591 Q211.922 579.485 211.922 575.874 Q211.922 572.263 209.584 570.156 Q207.246 568.05 203.241 568.05 Q201.366 568.05 199.491 568.467 Q197.64 568.883 195.695 569.763 L195.695 552.402 Z\" fill=\"#000000\" fill-rule=\"evenodd\" fill-opacity=\"1\" /><path clip-path=\"url(#clip620)\" d=\"M68.9365 412.339 Q65.3254 412.339 63.4967 415.904 Q61.6912 419.446 61.6912 426.575 Q61.6912 433.682 63.4967 437.246 Q65.3254 440.788 68.9365 440.788 Q72.5707 440.788 74.3763 437.246 Q76.205 433.682 76.205 426.575 Q76.205 419.446 74.3763 415.904 Q72.5707 412.339 68.9365 412.339 M68.9365 408.635 Q74.7467 408.635 77.8022 413.242 Q80.8809 417.825 80.8809 426.575 Q80.8809 435.302 77.8022 439.908 Q74.7467 444.492 68.9365 444.492 Q63.1264 444.492 60.0477 439.908 Q56.9921 435.302 56.9921 426.575 Q56.9921 417.825 60.0477 413.242 Q63.1264 408.635 68.9365 408.635 Z\" fill=\"#000000\" fill-rule=\"evenodd\" fill-opacity=\"1\" /><path clip-path=\"url(#clip620)\" d=\"M89.0984 437.941 L93.9827 437.941 L93.9827 443.82 L89.0984 443.82 L89.0984 437.941 Z\" fill=\"#000000\" fill-rule=\"evenodd\" fill-opacity=\"1\" /><path clip-path=\"url(#clip620)\" d=\"M114.168 412.339 Q110.557 412.339 108.728 415.904 Q106.922 419.446 106.922 426.575 Q106.922 433.682 108.728 437.246 Q110.557 440.788 114.168 440.788 Q117.802 440.788 119.608 437.246 Q121.436 433.682 121.436 426.575 Q121.436 419.446 119.608 415.904 Q117.802 412.339 114.168 412.339 M114.168 408.635 Q119.978 408.635 123.033 413.242 Q126.112 417.825 126.112 426.575 Q126.112 435.302 123.033 439.908 Q119.978 444.492 114.168 444.492 Q108.358 444.492 105.279 439.908 Q102.223 435.302 102.223 426.575 Q102.223 417.825 105.279 413.242 Q108.358 408.635 114.168 408.635 Z\" fill=\"#000000\" fill-rule=\"evenodd\" fill-opacity=\"1\" /><path clip-path=\"url(#clip620)\" d=\"M135.14 439.885 L142.779 439.885 L142.779 413.52 L134.469 415.186 L134.469 410.927 L142.732 409.26 L147.408 409.26 L147.408 439.885 L155.047 439.885 L155.047 443.82 L135.14 443.82 L135.14 439.885 Z\" fill=\"#000000\" fill-rule=\"evenodd\" fill-opacity=\"1\" /><path clip-path=\"url(#clip620)\" d=\"M174.491 412.339 Q170.88 412.339 169.052 415.904 Q167.246 419.446 167.246 426.575 Q167.246 433.682 169.052 437.246 Q170.88 440.788 174.491 440.788 Q178.126 440.788 179.931 437.246 Q181.76 433.682 181.76 426.575 Q181.76 419.446 179.931 415.904 Q178.126 412.339 174.491 412.339 M174.491 408.635 Q180.302 408.635 183.357 413.242 Q186.436 417.825 186.436 426.575 Q186.436 435.302 183.357 439.908 Q180.302 444.492 174.491 444.492 Q168.681 444.492 165.603 439.908 Q162.547 435.302 162.547 426.575 Q162.547 417.825 165.603 413.242 Q168.681 408.635 174.491 408.635 Z\" fill=\"#000000\" fill-rule=\"evenodd\" fill-opacity=\"1\" /><path clip-path=\"url(#clip620)\" d=\"M204.653 412.339 Q201.042 412.339 199.214 415.904 Q197.408 419.446 197.408 426.575 Q197.408 433.682 199.214 437.246 Q201.042 440.788 204.653 440.788 Q208.288 440.788 210.093 437.246 Q211.922 433.682 211.922 426.575 Q211.922 419.446 210.093 415.904 Q208.288 412.339 204.653 412.339 M204.653 408.635 Q210.464 408.635 213.519 413.242 Q216.598 417.825 216.598 426.575 Q216.598 435.302 213.519 439.908 Q210.464 444.492 204.653 444.492 Q198.843 444.492 195.765 439.908 Q192.709 435.302 192.709 426.575 Q192.709 417.825 195.765 413.242 Q198.843 408.635 204.653 408.635 Z\" fill=\"#000000\" fill-rule=\"evenodd\" fill-opacity=\"1\" /><path clip-path=\"url(#clip620)\" d=\"M69.9319 269.198 Q66.3208 269.198 64.4921 272.763 Q62.6865 276.304 62.6865 283.434 Q62.6865 290.54 64.4921 294.105 Q66.3208 297.647 69.9319 297.647 Q73.5661 297.647 75.3717 294.105 Q77.2004 290.54 77.2004 283.434 Q77.2004 276.304 75.3717 272.763 Q73.5661 269.198 69.9319 269.198 M69.9319 265.494 Q75.742 265.494 78.7976 270.101 Q81.8763 274.684 81.8763 283.434 Q81.8763 292.161 78.7976 296.767 Q75.742 301.35 69.9319 301.35 Q64.1217 301.35 61.043 296.767 Q57.9875 292.161 57.9875 283.434 Q57.9875 274.684 61.043 270.101 Q64.1217 265.494 69.9319 265.494 Z\" fill=\"#000000\" fill-rule=\"evenodd\" fill-opacity=\"1\" /><path clip-path=\"url(#clip620)\" d=\"M90.0938 294.799 L94.978 294.799 L94.978 300.679 L90.0938 300.679 L90.0938 294.799 Z\" fill=\"#000000\" fill-rule=\"evenodd\" fill-opacity=\"1\" /><path clip-path=\"url(#clip620)\" d=\"M115.163 269.198 Q111.552 269.198 109.723 272.763 Q107.918 276.304 107.918 283.434 Q107.918 290.54 109.723 294.105 Q111.552 297.647 115.163 297.647 Q118.797 297.647 120.603 294.105 Q122.432 290.54 122.432 283.434 Q122.432 276.304 120.603 272.763 Q118.797 269.198 115.163 269.198 M115.163 265.494 Q120.973 265.494 124.029 270.101 Q127.107 274.684 127.107 283.434 Q127.107 292.161 124.029 296.767 Q120.973 301.35 115.163 301.35 Q109.353 301.35 106.274 296.767 Q103.219 292.161 103.219 283.434 Q103.219 274.684 106.274 270.101 Q109.353 265.494 115.163 265.494 Z\" fill=\"#000000\" fill-rule=\"evenodd\" fill-opacity=\"1\" /><path clip-path=\"url(#clip620)\" d=\"M136.135 296.744 L143.774 296.744 L143.774 270.378 L135.464 272.045 L135.464 267.786 L143.728 266.119 L148.404 266.119 L148.404 296.744 L156.043 296.744 L156.043 300.679 L136.135 300.679 L136.135 296.744 Z\" fill=\"#000000\" fill-rule=\"evenodd\" fill-opacity=\"1\" /><path clip-path=\"url(#clip620)\" d=\"M169.515 296.744 L185.834 296.744 L185.834 300.679 L163.89 300.679 L163.89 296.744 Q166.552 293.989 171.135 289.36 Q175.741 284.707 176.922 283.364 Q179.167 280.841 180.047 279.105 Q180.95 277.346 180.95 275.656 Q180.95 272.901 179.005 271.165 Q177.084 269.429 173.982 269.429 Q171.783 269.429 169.329 270.193 Q166.899 270.957 164.121 272.508 L164.121 267.786 Q166.945 266.651 169.399 266.073 Q171.853 265.494 173.89 265.494 Q179.26 265.494 182.454 268.179 Q185.649 270.864 185.649 275.355 Q185.649 277.485 184.839 279.406 Q184.052 281.304 181.945 283.897 Q181.366 284.568 178.265 287.786 Q175.163 290.98 169.515 296.744 Z\" fill=\"#000000\" fill-rule=\"evenodd\" fill-opacity=\"1\" /><path clip-path=\"url(#clip620)\" d=\"M195.695 266.119 L214.051 266.119 L214.051 270.054 L199.977 270.054 L199.977 278.526 Q200.996 278.179 202.014 278.017 Q203.033 277.832 204.052 277.832 Q209.839 277.832 213.218 281.003 Q216.598 284.175 216.598 289.591 Q216.598 295.17 213.126 298.272 Q209.653 301.35 203.334 301.35 Q201.158 301.35 198.89 300.98 Q196.644 300.61 194.237 299.869 L194.237 295.17 Q196.32 296.304 198.542 296.86 Q200.765 297.415 203.241 297.415 Q207.246 297.415 209.584 295.309 Q211.922 293.202 211.922 289.591 Q211.922 285.98 209.584 283.874 Q207.246 281.767 203.241 281.767 Q201.366 281.767 199.491 282.184 Q197.64 282.6 195.695 283.48 L195.695 266.119 Z\" fill=\"#000000\" fill-rule=\"evenodd\" fill-opacity=\"1\" /><path clip-path=\"url(#clip620)\" d=\"M68.9365 126.056 Q65.3254 126.056 63.4967 129.621 Q61.6912 133.163 61.6912 140.292 Q61.6912 147.399 63.4967 150.964 Q65.3254 154.505 68.9365 154.505 Q72.5707 154.505 74.3763 150.964 Q76.205 147.399 76.205 140.292 Q76.205 133.163 74.3763 129.621 Q72.5707 126.056 68.9365 126.056 M68.9365 122.353 Q74.7467 122.353 77.8022 126.959 Q80.8809 131.542 80.8809 140.292 Q80.8809 149.019 77.8022 153.626 Q74.7467 158.209 68.9365 158.209 Q63.1264 158.209 60.0477 153.626 Q56.9921 149.019 56.9921 140.292 Q56.9921 131.542 60.0477 126.959 Q63.1264 122.353 68.9365 122.353 Z\" fill=\"#000000\" fill-rule=\"evenodd\" fill-opacity=\"1\" /><path clip-path=\"url(#clip620)\" d=\"M89.0984 151.658 L93.9827 151.658 L93.9827 157.538 L89.0984 157.538 L89.0984 151.658 Z\" fill=\"#000000\" fill-rule=\"evenodd\" fill-opacity=\"1\" /><path clip-path=\"url(#clip620)\" d=\"M114.168 126.056 Q110.557 126.056 108.728 129.621 Q106.922 133.163 106.922 140.292 Q106.922 147.399 108.728 150.964 Q110.557 154.505 114.168 154.505 Q117.802 154.505 119.608 150.964 Q121.436 147.399 121.436 140.292 Q121.436 133.163 119.608 129.621 Q117.802 126.056 114.168 126.056 M114.168 122.353 Q119.978 122.353 123.033 126.959 Q126.112 131.542 126.112 140.292 Q126.112 149.019 123.033 153.626 Q119.978 158.209 114.168 158.209 Q108.358 158.209 105.279 153.626 Q102.223 149.019 102.223 140.292 Q102.223 131.542 105.279 126.959 Q108.358 122.353 114.168 122.353 Z\" fill=\"#000000\" fill-rule=\"evenodd\" fill-opacity=\"1\" /><path clip-path=\"url(#clip620)\" d=\"M135.14 153.603 L142.779 153.603 L142.779 127.237 L134.469 128.904 L134.469 124.644 L142.732 122.978 L147.408 122.978 L147.408 153.603 L155.047 153.603 L155.047 157.538 L135.14 157.538 L135.14 153.603 Z\" fill=\"#000000\" fill-rule=\"evenodd\" fill-opacity=\"1\" /><path clip-path=\"url(#clip620)\" d=\"M164.538 122.978 L182.894 122.978 L182.894 126.913 L168.82 126.913 L168.82 135.385 Q169.839 135.038 170.857 134.876 Q171.876 134.691 172.894 134.691 Q178.681 134.691 182.061 137.862 Q185.441 141.033 185.441 146.45 Q185.441 152.028 181.968 155.13 Q178.496 158.209 172.177 158.209 Q170.001 158.209 167.732 157.839 Q165.487 157.468 163.08 156.728 L163.08 152.028 Q165.163 153.163 167.385 153.718 Q169.607 154.274 172.084 154.274 Q176.089 154.274 178.427 152.167 Q180.765 150.061 180.765 146.45 Q180.765 142.839 178.427 140.732 Q176.089 138.626 172.084 138.626 Q170.209 138.626 168.334 139.042 Q166.482 139.459 164.538 140.339 L164.538 122.978 Z\" fill=\"#000000\" fill-rule=\"evenodd\" fill-opacity=\"1\" /><path clip-path=\"url(#clip620)\" d=\"M204.653 126.056 Q201.042 126.056 199.214 129.621 Q197.408 133.163 197.408 140.292 Q197.408 147.399 199.214 150.964 Q201.042 154.505 204.653 154.505 Q208.288 154.505 210.093 150.964 Q211.922 147.399 211.922 140.292 Q211.922 133.163 210.093 129.621 Q208.288 126.056 204.653 126.056 M204.653 122.353 Q210.464 122.353 213.519 126.959 Q216.598 131.542 216.598 140.292 Q216.598 149.019 213.519 153.626 Q210.464 158.209 204.653 158.209 Q198.843 158.209 195.765 153.626 Q192.709 149.019 192.709 140.292 Q192.709 131.542 195.765 126.959 Q198.843 122.353 204.653 122.353 Z\" fill=\"#000000\" fill-rule=\"evenodd\" fill-opacity=\"1\" /><polyline clip-path=\"url(#clip622)\" style=\"stroke:#009af9; stroke-linecap:butt; stroke-linejoin:round; stroke-width:8; stroke-opacity:1; fill:none\" points=\"\n  260.583,65.5612 549.312,440.5 838.041,585.894 1126.77,676.131 \n  \"/>\n</svg>\n",
      "text/html": [
       "<?xml version=\"1.0\" encoding=\"utf-8\"?>\n",
       "<svg xmlns=\"http://www.w3.org/2000/svg\" xmlns:xlink=\"http://www.w3.org/1999/xlink\" width=\"300\" height=\"200\" viewBox=\"0 0 1200 800\">\n",
       "<defs>\n",
       "  <clipPath id=\"clip670\">\n",
       "    <rect x=\"0\" y=\"0\" width=\"1200\" height=\"800\"/>\n",
       "  </clipPath>\n",
       "</defs>\n",
       "<path clip-path=\"url(#clip670)\" d=\"\n",
       "M0 800 L1200 800 L1200 0 L0 0  Z\n",
       "  \" fill=\"#ffffff\" fill-rule=\"evenodd\" fill-opacity=\"1\"/>\n",
       "<defs>\n",
       "  <clipPath id=\"clip671\">\n",
       "    <rect x=\"240\" y=\"0\" width=\"841\" height=\"800\"/>\n",
       "  </clipPath>\n",
       "</defs>\n",
       "<path clip-path=\"url(#clip670)\" d=\"\n",
       "M234.598 694.448 L1152.76 694.448 L1152.76 47.2441 L234.598 47.2441  Z\n",
       "  \" fill=\"#ffffff\" fill-rule=\"evenodd\" fill-opacity=\"1\"/>\n",
       "<defs>\n",
       "  <clipPath id=\"clip672\">\n",
       "    <rect x=\"234\" y=\"47\" width=\"919\" height=\"648\"/>\n",
       "  </clipPath>\n",
       "</defs>\n",
       "<polyline clip-path=\"url(#clip672)\" style=\"stroke:#000000; stroke-linecap:butt; stroke-linejoin:round; stroke-width:2; stroke-opacity:0.1; fill:none\" points=\"\n",
       "  260.583,694.448 260.583,47.2441 \n",
       "  \"/>\n",
       "<polyline clip-path=\"url(#clip672)\" style=\"stroke:#000000; stroke-linecap:butt; stroke-linejoin:round; stroke-width:2; stroke-opacity:0.1; fill:none\" points=\"\n",
       "  549.312,694.448 549.312,47.2441 \n",
       "  \"/>\n",
       "<polyline clip-path=\"url(#clip672)\" style=\"stroke:#000000; stroke-linecap:butt; stroke-linejoin:round; stroke-width:2; stroke-opacity:0.1; fill:none\" points=\"\n",
       "  838.041,694.448 838.041,47.2441 \n",
       "  \"/>\n",
       "<polyline clip-path=\"url(#clip672)\" style=\"stroke:#000000; stroke-linecap:butt; stroke-linejoin:round; stroke-width:2; stroke-opacity:0.1; fill:none\" points=\"\n",
       "  1126.77,694.448 1126.77,47.2441 \n",
       "  \"/>\n",
       "<polyline clip-path=\"url(#clip670)\" style=\"stroke:#000000; stroke-linecap:butt; stroke-linejoin:round; stroke-width:4; stroke-opacity:1; fill:none\" points=\"\n",
       "  234.598,694.448 1152.76,694.448 \n",
       "  \"/>\n",
       "<polyline clip-path=\"url(#clip670)\" style=\"stroke:#000000; stroke-linecap:butt; stroke-linejoin:round; stroke-width:4; stroke-opacity:1; fill:none\" points=\"\n",
       "  260.583,694.448 260.583,675.55 \n",
       "  \"/>\n",
       "<polyline clip-path=\"url(#clip670)\" style=\"stroke:#000000; stroke-linecap:butt; stroke-linejoin:round; stroke-width:4; stroke-opacity:1; fill:none\" points=\"\n",
       "  549.312,694.448 549.312,675.55 \n",
       "  \"/>\n",
       "<polyline clip-path=\"url(#clip670)\" style=\"stroke:#000000; stroke-linecap:butt; stroke-linejoin:round; stroke-width:4; stroke-opacity:1; fill:none\" points=\"\n",
       "  838.041,694.448 838.041,675.55 \n",
       "  \"/>\n",
       "<polyline clip-path=\"url(#clip670)\" style=\"stroke:#000000; stroke-linecap:butt; stroke-linejoin:round; stroke-width:4; stroke-opacity:1; fill:none\" points=\"\n",
       "  1126.77,694.448 1126.77,675.55 \n",
       "  \"/>\n",
       "<path clip-path=\"url(#clip670)\" d=\"M250.965 743.313 L258.604 743.313 L258.604 716.947 L250.294 718.614 L250.294 714.355 L258.558 712.688 L263.234 712.688 L263.234 743.313 L270.873 743.313 L270.873 747.248 L250.965 747.248 L250.965 743.313 Z\" fill=\"#000000\" fill-rule=\"evenodd\" fill-opacity=\"1\" /><path clip-path=\"url(#clip670)\" d=\"M543.965 743.313 L560.285 743.313 L560.285 747.248 L538.34 747.248 L538.34 743.313 Q541.002 740.558 545.586 735.928 Q550.192 731.276 551.373 729.933 Q553.618 727.41 554.497 725.674 Q555.4 723.915 555.4 722.225 Q555.4 719.47 553.456 717.734 Q551.535 715.998 548.433 715.998 Q546.234 715.998 543.78 716.762 Q541.349 717.526 538.572 719.077 L538.572 714.355 Q541.396 713.22 543.849 712.642 Q546.303 712.063 548.34 712.063 Q553.71 712.063 556.905 714.748 Q560.099 717.433 560.099 721.924 Q560.099 724.054 559.289 725.975 Q558.502 727.873 556.396 730.466 Q555.817 731.137 552.715 734.354 Q549.613 737.549 543.965 743.313 Z\" fill=\"#000000\" fill-rule=\"evenodd\" fill-opacity=\"1\" /><path clip-path=\"url(#clip670)\" d=\"M842.289 728.614 Q845.645 729.331 847.52 731.6 Q849.419 733.868 849.419 737.202 Q849.419 742.317 845.9 745.118 Q842.382 747.919 835.9 747.919 Q833.724 747.919 831.409 747.479 Q829.118 747.063 826.664 746.206 L826.664 741.692 Q828.608 742.827 830.923 743.405 Q833.238 743.984 835.761 743.984 Q840.159 743.984 842.451 742.248 Q844.766 740.512 844.766 737.202 Q844.766 734.146 842.613 732.433 Q840.483 730.697 836.664 730.697 L832.636 730.697 L832.636 726.854 L836.849 726.854 Q840.298 726.854 842.127 725.489 Q843.956 724.1 843.956 721.507 Q843.956 718.845 842.058 717.433 Q840.183 715.998 836.664 715.998 Q834.743 715.998 832.544 716.415 Q830.345 716.831 827.706 717.711 L827.706 713.544 Q830.368 712.804 832.683 712.433 Q835.021 712.063 837.081 712.063 Q842.405 712.063 845.507 714.493 Q848.608 716.901 848.608 721.021 Q848.608 723.892 846.965 725.882 Q845.321 727.85 842.289 728.614 Z\" fill=\"#000000\" fill-rule=\"evenodd\" fill-opacity=\"1\" /><path clip-path=\"url(#clip670)\" d=\"M1129.78 716.762 L1117.97 735.211 L1129.78 735.211 L1129.78 716.762 M1128.55 712.688 L1134.43 712.688 L1134.43 735.211 L1139.36 735.211 L1139.36 739.1 L1134.43 739.1 L1134.43 747.248 L1129.78 747.248 L1129.78 739.1 L1114.18 739.1 L1114.18 734.586 L1128.55 712.688 Z\" fill=\"#000000\" fill-rule=\"evenodd\" fill-opacity=\"1\" /><polyline clip-path=\"url(#clip672)\" style=\"stroke:#000000; stroke-linecap:butt; stroke-linejoin:round; stroke-width:2; stroke-opacity:0.1; fill:none\" points=\"\n",
       "  234.598,569.682 1152.76,569.682 \n",
       "  \"/>\n",
       "<polyline clip-path=\"url(#clip672)\" style=\"stroke:#000000; stroke-linecap:butt; stroke-linejoin:round; stroke-width:2; stroke-opacity:0.1; fill:none\" points=\"\n",
       "  234.598,426.54 1152.76,426.54 \n",
       "  \"/>\n",
       "<polyline clip-path=\"url(#clip672)\" style=\"stroke:#000000; stroke-linecap:butt; stroke-linejoin:round; stroke-width:2; stroke-opacity:0.1; fill:none\" points=\"\n",
       "  234.598,283.399 1152.76,283.399 \n",
       "  \"/>\n",
       "<polyline clip-path=\"url(#clip672)\" style=\"stroke:#000000; stroke-linecap:butt; stroke-linejoin:round; stroke-width:2; stroke-opacity:0.1; fill:none\" points=\"\n",
       "  234.598,140.258 1152.76,140.258 \n",
       "  \"/>\n",
       "<polyline clip-path=\"url(#clip670)\" style=\"stroke:#000000; stroke-linecap:butt; stroke-linejoin:round; stroke-width:4; stroke-opacity:1; fill:none\" points=\"\n",
       "  234.598,694.448 234.598,47.2441 \n",
       "  \"/>\n",
       "<polyline clip-path=\"url(#clip670)\" style=\"stroke:#000000; stroke-linecap:butt; stroke-linejoin:round; stroke-width:4; stroke-opacity:1; fill:none\" points=\"\n",
       "  234.598,569.682 253.495,569.682 \n",
       "  \"/>\n",
       "<polyline clip-path=\"url(#clip670)\" style=\"stroke:#000000; stroke-linecap:butt; stroke-linejoin:round; stroke-width:4; stroke-opacity:1; fill:none\" points=\"\n",
       "  234.598,426.54 253.495,426.54 \n",
       "  \"/>\n",
       "<polyline clip-path=\"url(#clip670)\" style=\"stroke:#000000; stroke-linecap:butt; stroke-linejoin:round; stroke-width:4; stroke-opacity:1; fill:none\" points=\"\n",
       "  234.598,283.399 253.495,283.399 \n",
       "  \"/>\n",
       "<polyline clip-path=\"url(#clip670)\" style=\"stroke:#000000; stroke-linecap:butt; stroke-linejoin:round; stroke-width:4; stroke-opacity:1; fill:none\" points=\"\n",
       "  234.598,140.258 253.495,140.258 \n",
       "  \"/>\n",
       "<path clip-path=\"url(#clip670)\" d=\"M69.9319 555.48 Q66.3208 555.48 64.4921 559.045 Q62.6865 562.587 62.6865 569.717 Q62.6865 576.823 64.4921 580.388 Q66.3208 583.929 69.9319 583.929 Q73.5661 583.929 75.3717 580.388 Q77.2004 576.823 77.2004 569.717 Q77.2004 562.587 75.3717 559.045 Q73.5661 555.48 69.9319 555.48 M69.9319 551.777 Q75.742 551.777 78.7976 556.383 Q81.8763 560.967 81.8763 569.717 Q81.8763 578.443 78.7976 583.05 Q75.742 587.633 69.9319 587.633 Q64.1217 587.633 61.043 583.05 Q57.9875 578.443 57.9875 569.717 Q57.9875 560.967 61.043 556.383 Q64.1217 551.777 69.9319 551.777 Z\" fill=\"#000000\" fill-rule=\"evenodd\" fill-opacity=\"1\" /><path clip-path=\"url(#clip670)\" d=\"M90.0938 581.082 L94.978 581.082 L94.978 586.962 L90.0938 586.962 L90.0938 581.082 Z\" fill=\"#000000\" fill-rule=\"evenodd\" fill-opacity=\"1\" /><path clip-path=\"url(#clip670)\" d=\"M115.163 555.48 Q111.552 555.48 109.723 559.045 Q107.918 562.587 107.918 569.717 Q107.918 576.823 109.723 580.388 Q111.552 583.929 115.163 583.929 Q118.797 583.929 120.603 580.388 Q122.432 576.823 122.432 569.717 Q122.432 562.587 120.603 559.045 Q118.797 555.48 115.163 555.48 M115.163 551.777 Q120.973 551.777 124.029 556.383 Q127.107 560.967 127.107 569.717 Q127.107 578.443 124.029 583.05 Q120.973 587.633 115.163 587.633 Q109.353 587.633 106.274 583.05 Q103.219 578.443 103.219 569.717 Q103.219 560.967 106.274 556.383 Q109.353 551.777 115.163 551.777 Z\" fill=\"#000000\" fill-rule=\"evenodd\" fill-opacity=\"1\" /><path clip-path=\"url(#clip670)\" d=\"M145.325 555.48 Q141.714 555.48 139.885 559.045 Q138.08 562.587 138.08 569.717 Q138.08 576.823 139.885 580.388 Q141.714 583.929 145.325 583.929 Q148.959 583.929 150.765 580.388 Q152.593 576.823 152.593 569.717 Q152.593 562.587 150.765 559.045 Q148.959 555.48 145.325 555.48 M145.325 551.777 Q151.135 551.777 154.191 556.383 Q157.269 560.967 157.269 569.717 Q157.269 578.443 154.191 583.05 Q151.135 587.633 145.325 587.633 Q139.515 587.633 136.436 583.05 Q133.381 578.443 133.381 569.717 Q133.381 560.967 136.436 556.383 Q139.515 551.777 145.325 551.777 Z\" fill=\"#000000\" fill-rule=\"evenodd\" fill-opacity=\"1\" /><path clip-path=\"url(#clip670)\" d=\"M164.306 552.402 L186.528 552.402 L186.528 554.393 L173.982 586.962 L169.098 586.962 L180.903 556.337 L164.306 556.337 L164.306 552.402 Z\" fill=\"#000000\" fill-rule=\"evenodd\" fill-opacity=\"1\" /><path clip-path=\"url(#clip670)\" d=\"M195.695 552.402 L214.051 552.402 L214.051 556.337 L199.977 556.337 L199.977 564.809 Q200.996 564.462 202.014 564.3 Q203.033 564.115 204.052 564.115 Q209.839 564.115 213.218 567.286 Q216.598 570.457 216.598 575.874 Q216.598 581.453 213.126 584.554 Q209.653 587.633 203.334 587.633 Q201.158 587.633 198.89 587.263 Q196.644 586.892 194.237 586.152 L194.237 581.453 Q196.32 582.587 198.542 583.142 Q200.765 583.698 203.241 583.698 Q207.246 583.698 209.584 581.591 Q211.922 579.485 211.922 575.874 Q211.922 572.263 209.584 570.156 Q207.246 568.05 203.241 568.05 Q201.366 568.05 199.491 568.467 Q197.64 568.883 195.695 569.763 L195.695 552.402 Z\" fill=\"#000000\" fill-rule=\"evenodd\" fill-opacity=\"1\" /><path clip-path=\"url(#clip670)\" d=\"M68.9365 412.339 Q65.3254 412.339 63.4967 415.904 Q61.6912 419.446 61.6912 426.575 Q61.6912 433.682 63.4967 437.246 Q65.3254 440.788 68.9365 440.788 Q72.5707 440.788 74.3763 437.246 Q76.205 433.682 76.205 426.575 Q76.205 419.446 74.3763 415.904 Q72.5707 412.339 68.9365 412.339 M68.9365 408.635 Q74.7467 408.635 77.8022 413.242 Q80.8809 417.825 80.8809 426.575 Q80.8809 435.302 77.8022 439.908 Q74.7467 444.492 68.9365 444.492 Q63.1264 444.492 60.0477 439.908 Q56.9921 435.302 56.9921 426.575 Q56.9921 417.825 60.0477 413.242 Q63.1264 408.635 68.9365 408.635 Z\" fill=\"#000000\" fill-rule=\"evenodd\" fill-opacity=\"1\" /><path clip-path=\"url(#clip670)\" d=\"M89.0984 437.941 L93.9827 437.941 L93.9827 443.82 L89.0984 443.82 L89.0984 437.941 Z\" fill=\"#000000\" fill-rule=\"evenodd\" fill-opacity=\"1\" /><path clip-path=\"url(#clip670)\" d=\"M114.168 412.339 Q110.557 412.339 108.728 415.904 Q106.922 419.446 106.922 426.575 Q106.922 433.682 108.728 437.246 Q110.557 440.788 114.168 440.788 Q117.802 440.788 119.608 437.246 Q121.436 433.682 121.436 426.575 Q121.436 419.446 119.608 415.904 Q117.802 412.339 114.168 412.339 M114.168 408.635 Q119.978 408.635 123.033 413.242 Q126.112 417.825 126.112 426.575 Q126.112 435.302 123.033 439.908 Q119.978 444.492 114.168 444.492 Q108.358 444.492 105.279 439.908 Q102.223 435.302 102.223 426.575 Q102.223 417.825 105.279 413.242 Q108.358 408.635 114.168 408.635 Z\" fill=\"#000000\" fill-rule=\"evenodd\" fill-opacity=\"1\" /><path clip-path=\"url(#clip670)\" d=\"M135.14 439.885 L142.779 439.885 L142.779 413.52 L134.469 415.186 L134.469 410.927 L142.732 409.26 L147.408 409.26 L147.408 439.885 L155.047 439.885 L155.047 443.82 L135.14 443.82 L135.14 439.885 Z\" fill=\"#000000\" fill-rule=\"evenodd\" fill-opacity=\"1\" /><path clip-path=\"url(#clip670)\" d=\"M174.491 412.339 Q170.88 412.339 169.052 415.904 Q167.246 419.446 167.246 426.575 Q167.246 433.682 169.052 437.246 Q170.88 440.788 174.491 440.788 Q178.126 440.788 179.931 437.246 Q181.76 433.682 181.76 426.575 Q181.76 419.446 179.931 415.904 Q178.126 412.339 174.491 412.339 M174.491 408.635 Q180.302 408.635 183.357 413.242 Q186.436 417.825 186.436 426.575 Q186.436 435.302 183.357 439.908 Q180.302 444.492 174.491 444.492 Q168.681 444.492 165.603 439.908 Q162.547 435.302 162.547 426.575 Q162.547 417.825 165.603 413.242 Q168.681 408.635 174.491 408.635 Z\" fill=\"#000000\" fill-rule=\"evenodd\" fill-opacity=\"1\" /><path clip-path=\"url(#clip670)\" d=\"M204.653 412.339 Q201.042 412.339 199.214 415.904 Q197.408 419.446 197.408 426.575 Q197.408 433.682 199.214 437.246 Q201.042 440.788 204.653 440.788 Q208.288 440.788 210.093 437.246 Q211.922 433.682 211.922 426.575 Q211.922 419.446 210.093 415.904 Q208.288 412.339 204.653 412.339 M204.653 408.635 Q210.464 408.635 213.519 413.242 Q216.598 417.825 216.598 426.575 Q216.598 435.302 213.519 439.908 Q210.464 444.492 204.653 444.492 Q198.843 444.492 195.765 439.908 Q192.709 435.302 192.709 426.575 Q192.709 417.825 195.765 413.242 Q198.843 408.635 204.653 408.635 Z\" fill=\"#000000\" fill-rule=\"evenodd\" fill-opacity=\"1\" /><path clip-path=\"url(#clip670)\" d=\"M69.9319 269.198 Q66.3208 269.198 64.4921 272.763 Q62.6865 276.304 62.6865 283.434 Q62.6865 290.54 64.4921 294.105 Q66.3208 297.647 69.9319 297.647 Q73.5661 297.647 75.3717 294.105 Q77.2004 290.54 77.2004 283.434 Q77.2004 276.304 75.3717 272.763 Q73.5661 269.198 69.9319 269.198 M69.9319 265.494 Q75.742 265.494 78.7976 270.101 Q81.8763 274.684 81.8763 283.434 Q81.8763 292.161 78.7976 296.767 Q75.742 301.35 69.9319 301.35 Q64.1217 301.35 61.043 296.767 Q57.9875 292.161 57.9875 283.434 Q57.9875 274.684 61.043 270.101 Q64.1217 265.494 69.9319 265.494 Z\" fill=\"#000000\" fill-rule=\"evenodd\" fill-opacity=\"1\" /><path clip-path=\"url(#clip670)\" d=\"M90.0938 294.799 L94.978 294.799 L94.978 300.679 L90.0938 300.679 L90.0938 294.799 Z\" fill=\"#000000\" fill-rule=\"evenodd\" fill-opacity=\"1\" /><path clip-path=\"url(#clip670)\" d=\"M115.163 269.198 Q111.552 269.198 109.723 272.763 Q107.918 276.304 107.918 283.434 Q107.918 290.54 109.723 294.105 Q111.552 297.647 115.163 297.647 Q118.797 297.647 120.603 294.105 Q122.432 290.54 122.432 283.434 Q122.432 276.304 120.603 272.763 Q118.797 269.198 115.163 269.198 M115.163 265.494 Q120.973 265.494 124.029 270.101 Q127.107 274.684 127.107 283.434 Q127.107 292.161 124.029 296.767 Q120.973 301.35 115.163 301.35 Q109.353 301.35 106.274 296.767 Q103.219 292.161 103.219 283.434 Q103.219 274.684 106.274 270.101 Q109.353 265.494 115.163 265.494 Z\" fill=\"#000000\" fill-rule=\"evenodd\" fill-opacity=\"1\" /><path clip-path=\"url(#clip670)\" d=\"M136.135 296.744 L143.774 296.744 L143.774 270.378 L135.464 272.045 L135.464 267.786 L143.728 266.119 L148.404 266.119 L148.404 296.744 L156.043 296.744 L156.043 300.679 L136.135 300.679 L136.135 296.744 Z\" fill=\"#000000\" fill-rule=\"evenodd\" fill-opacity=\"1\" /><path clip-path=\"url(#clip670)\" d=\"M169.515 296.744 L185.834 296.744 L185.834 300.679 L163.89 300.679 L163.89 296.744 Q166.552 293.989 171.135 289.36 Q175.741 284.707 176.922 283.364 Q179.167 280.841 180.047 279.105 Q180.95 277.346 180.95 275.656 Q180.95 272.901 179.005 271.165 Q177.084 269.429 173.982 269.429 Q171.783 269.429 169.329 270.193 Q166.899 270.957 164.121 272.508 L164.121 267.786 Q166.945 266.651 169.399 266.073 Q171.853 265.494 173.89 265.494 Q179.26 265.494 182.454 268.179 Q185.649 270.864 185.649 275.355 Q185.649 277.485 184.839 279.406 Q184.052 281.304 181.945 283.897 Q181.366 284.568 178.265 287.786 Q175.163 290.98 169.515 296.744 Z\" fill=\"#000000\" fill-rule=\"evenodd\" fill-opacity=\"1\" /><path clip-path=\"url(#clip670)\" d=\"M195.695 266.119 L214.051 266.119 L214.051 270.054 L199.977 270.054 L199.977 278.526 Q200.996 278.179 202.014 278.017 Q203.033 277.832 204.052 277.832 Q209.839 277.832 213.218 281.003 Q216.598 284.175 216.598 289.591 Q216.598 295.17 213.126 298.272 Q209.653 301.35 203.334 301.35 Q201.158 301.35 198.89 300.98 Q196.644 300.61 194.237 299.869 L194.237 295.17 Q196.32 296.304 198.542 296.86 Q200.765 297.415 203.241 297.415 Q207.246 297.415 209.584 295.309 Q211.922 293.202 211.922 289.591 Q211.922 285.98 209.584 283.874 Q207.246 281.767 203.241 281.767 Q201.366 281.767 199.491 282.184 Q197.64 282.6 195.695 283.48 L195.695 266.119 Z\" fill=\"#000000\" fill-rule=\"evenodd\" fill-opacity=\"1\" /><path clip-path=\"url(#clip670)\" d=\"M68.9365 126.056 Q65.3254 126.056 63.4967 129.621 Q61.6912 133.163 61.6912 140.292 Q61.6912 147.399 63.4967 150.964 Q65.3254 154.505 68.9365 154.505 Q72.5707 154.505 74.3763 150.964 Q76.205 147.399 76.205 140.292 Q76.205 133.163 74.3763 129.621 Q72.5707 126.056 68.9365 126.056 M68.9365 122.353 Q74.7467 122.353 77.8022 126.959 Q80.8809 131.542 80.8809 140.292 Q80.8809 149.019 77.8022 153.626 Q74.7467 158.209 68.9365 158.209 Q63.1264 158.209 60.0477 153.626 Q56.9921 149.019 56.9921 140.292 Q56.9921 131.542 60.0477 126.959 Q63.1264 122.353 68.9365 122.353 Z\" fill=\"#000000\" fill-rule=\"evenodd\" fill-opacity=\"1\" /><path clip-path=\"url(#clip670)\" d=\"M89.0984 151.658 L93.9827 151.658 L93.9827 157.538 L89.0984 157.538 L89.0984 151.658 Z\" fill=\"#000000\" fill-rule=\"evenodd\" fill-opacity=\"1\" /><path clip-path=\"url(#clip670)\" d=\"M114.168 126.056 Q110.557 126.056 108.728 129.621 Q106.922 133.163 106.922 140.292 Q106.922 147.399 108.728 150.964 Q110.557 154.505 114.168 154.505 Q117.802 154.505 119.608 150.964 Q121.436 147.399 121.436 140.292 Q121.436 133.163 119.608 129.621 Q117.802 126.056 114.168 126.056 M114.168 122.353 Q119.978 122.353 123.033 126.959 Q126.112 131.542 126.112 140.292 Q126.112 149.019 123.033 153.626 Q119.978 158.209 114.168 158.209 Q108.358 158.209 105.279 153.626 Q102.223 149.019 102.223 140.292 Q102.223 131.542 105.279 126.959 Q108.358 122.353 114.168 122.353 Z\" fill=\"#000000\" fill-rule=\"evenodd\" fill-opacity=\"1\" /><path clip-path=\"url(#clip670)\" d=\"M135.14 153.603 L142.779 153.603 L142.779 127.237 L134.469 128.904 L134.469 124.644 L142.732 122.978 L147.408 122.978 L147.408 153.603 L155.047 153.603 L155.047 157.538 L135.14 157.538 L135.14 153.603 Z\" fill=\"#000000\" fill-rule=\"evenodd\" fill-opacity=\"1\" /><path clip-path=\"url(#clip670)\" d=\"M164.538 122.978 L182.894 122.978 L182.894 126.913 L168.82 126.913 L168.82 135.385 Q169.839 135.038 170.857 134.876 Q171.876 134.691 172.894 134.691 Q178.681 134.691 182.061 137.862 Q185.441 141.033 185.441 146.45 Q185.441 152.028 181.968 155.13 Q178.496 158.209 172.177 158.209 Q170.001 158.209 167.732 157.839 Q165.487 157.468 163.08 156.728 L163.08 152.028 Q165.163 153.163 167.385 153.718 Q169.607 154.274 172.084 154.274 Q176.089 154.274 178.427 152.167 Q180.765 150.061 180.765 146.45 Q180.765 142.839 178.427 140.732 Q176.089 138.626 172.084 138.626 Q170.209 138.626 168.334 139.042 Q166.482 139.459 164.538 140.339 L164.538 122.978 Z\" fill=\"#000000\" fill-rule=\"evenodd\" fill-opacity=\"1\" /><path clip-path=\"url(#clip670)\" d=\"M204.653 126.056 Q201.042 126.056 199.214 129.621 Q197.408 133.163 197.408 140.292 Q197.408 147.399 199.214 150.964 Q201.042 154.505 204.653 154.505 Q208.288 154.505 210.093 150.964 Q211.922 147.399 211.922 140.292 Q211.922 133.163 210.093 129.621 Q208.288 126.056 204.653 126.056 M204.653 122.353 Q210.464 122.353 213.519 126.959 Q216.598 131.542 216.598 140.292 Q216.598 149.019 213.519 153.626 Q210.464 158.209 204.653 158.209 Q198.843 158.209 195.765 153.626 Q192.709 149.019 192.709 140.292 Q192.709 131.542 195.765 126.959 Q198.843 122.353 204.653 122.353 Z\" fill=\"#000000\" fill-rule=\"evenodd\" fill-opacity=\"1\" /><polyline clip-path=\"url(#clip672)\" style=\"stroke:#009af9; stroke-linecap:butt; stroke-linejoin:round; stroke-width:8; stroke-opacity:1; fill:none\" points=\"\n",
       "  260.583,65.5612 549.312,440.5 838.041,585.894 1126.77,676.131 \n",
       "  \"/>\n",
       "</svg>\n"
      ]
     },
     "metadata": {},
     "output_type": "display_data"
    }
   ],
   "source": [
    "n = size(epochLosses)[1]\n",
    "plot(epochs[1:n], epochLosses, size=(300,200), linewidth=2, legend=false)"
   ]
  },
  {
   "cell_type": "markdown",
   "id": "a77111b8",
   "metadata": {},
   "source": [
    "##### Testing"
   ]
  },
  {
   "cell_type": "code",
   "execution_count": 14,
   "id": "287287b6",
   "metadata": {},
   "outputs": [
    {
     "data": {
      "text/plain": [
       "predictOutcome (generic function with 1 method)"
      ]
     },
     "metadata": {},
     "output_type": "display_data"
    }
   ],
   "source": [
    "function predictOutcome(X)\n",
    "    ŷ = Flux.onecold( model(X), [0:9;] )\n",
    "end"
   ]
  },
  {
   "cell_type": "code",
   "execution_count": 15,
   "id": "4cd546f6",
   "metadata": {},
   "outputs": [
    {
     "data": {
      "text/plain": [
       "10×10 Matrix{Int64}:\n",
       " 1736     0     4     4     1     8     8     1     5     9\n",
       "    0  1964     3     0     2     0     0     4     9     2\n",
       "    3    13  1698    14     6     7     2    20    12     2\n",
       "    2    10    19  1738     2    25     0     3    29    21\n",
       "    5     5    13     1  1696    10     5    11     3    69\n",
       "    4     0     4    26     0  1542    14     1    23     6\n",
       "   15     5    11     6    16    23  1742     1    17     1\n",
       "    4     9    25    23     6     3     0  1825     6    53\n",
       "    6    13     6    11     4     4     4     3  1640     7\n",
       "    2     4     4    16    20     4     0    10    11  1615"
      ]
     },
     "metadata": {},
     "output_type": "display_data"
    },
    {
     "name": "stdout",
     "output_type": "stream",
     "text": [
      "accuracy: 0.955\n",
      "f1-score: "
     ]
    },
    {
     "name": "stdout",
     "output_type": "stream",
     "text": [
      "0.955\n"
     ]
    }
   ],
   "source": [
    "# preprocessing\n",
    "ts_X, ts_y = preprocess(testX, testY)\n",
    "X_d        = ts_X |> gpu\n",
    "\n",
    "# predict\n",
    "ŷ = predictOutcome(X_d)\n",
    "\n",
    "# result\n",
    "printMetrics( ŷ, coerce(testY, OrderedFactor) )"
   ]
  }
 ],
 "metadata": {
  "kernelspec": {
   "display_name": "Julia 1.6.6",
   "language": "julia",
   "name": "julia-1.6"
  },
  "language_info": {
   "file_extension": ".jl",
   "mimetype": "application/julia",
   "name": "julia",
   "version": "1.6.6"
  }
 },
 "nbformat": 4,
 "nbformat_minor": 5
}
