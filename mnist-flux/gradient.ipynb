{
 "cells": [
  {
   "cell_type": "code",
   "execution_count": null,
   "id": "284d8eee",
   "metadata": {},
   "outputs": [],
   "source": [
    "using Flux"
   ]
  },
  {
   "cell_type": "code",
   "execution_count": null,
   "id": "21075b67",
   "metadata": {},
   "outputs": [],
   "source": [
    "f(x,y) = 3x^2 + 2x + 1 + x*y^2;"
   ]
  },
  {
   "cell_type": "code",
   "execution_count": null,
   "id": "155182ba",
   "metadata": {},
   "outputs": [],
   "source": [
    "df(x,y) = gradient(f, x, y)\n"
   ]
  },
  {
   "cell_type": "code",
   "execution_count": null,
   "id": "88ff8545",
   "metadata": {},
   "outputs": [],
   "source": [
    "df(1,1)"
   ]
  }
 ],
 "metadata": {
  "kernelspec": {
   "display_name": "Julia 1.6.6",
   "language": "julia",
   "name": "julia-1.6"
  },
  "language_info": {
   "file_extension": ".jl",
   "mimetype": "application/julia",
   "name": "julia",
   "version": "1.6.6"
  }
 },
 "nbformat": 4,
 "nbformat_minor": 5
}
