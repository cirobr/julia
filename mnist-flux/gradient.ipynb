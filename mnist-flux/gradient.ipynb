{
 "cells": [
  {
   "cell_type": "code",
   "execution_count": 1,
   "id": "284d8eee",
   "metadata": {},
   "outputs": [],
   "source": [
    "using Flux"
   ]
  },
  {
   "cell_type": "code",
   "execution_count": 2,
   "id": "21075b67",
   "metadata": {},
   "outputs": [],
   "source": [
    "f(x,y) = 3x^2 + 2x + 1 + x*y^2;"
   ]
  },
  {
   "cell_type": "code",
   "execution_count": 3,
   "id": "155182ba",
   "metadata": {},
   "outputs": [
    {
     "data": {
      "text/plain": [
       "df (generic function with 1 method)"
      ]
     },
     "execution_count": 3,
     "metadata": {},
     "output_type": "execute_result"
    }
   ],
   "source": [
    "df(x,y) = gradient(f, x, y)\n"
   ]
  },
  {
   "cell_type": "code",
   "execution_count": 8,
   "id": "88ff8545",
   "metadata": {},
   "outputs": [
    {
     "data": {
      "text/plain": [
       "(9.0, 2.0)"
      ]
     },
     "execution_count": 8,
     "metadata": {},
     "output_type": "execute_result"
    }
   ],
   "source": [
    "df(1,1)"
   ]
  },
  {
   "cell_type": "code",
   "execution_count": 12,
   "id": "19dc2e07",
   "metadata": {},
   "outputs": [
    {
     "ename": "LoadError",
     "evalue": "MethodError: no method matching (::var\"#9#10\")(::Int64, ::Int64)",
     "output_type": "error",
     "traceback": [
      "MethodError: no method matching (::var\"#9#10\")(::Int64, ::Int64)",
      "",
      "Stacktrace:",
      " [1] macro expansion",
      "   @ ~/.julia/packages/Zygote/FPUm3/src/compiler/interface2.jl:0 [inlined]",
      " [2] _pullback(::Zygote.Context, ::var\"#9#10\", ::Int64, ::Int64)",
      "   @ Zygote ~/.julia/packages/Zygote/FPUm3/src/compiler/interface2.jl:9",
      " [3] _pullback(::Function, ::Int64, ::Int64)",
      "   @ Zygote ~/.julia/packages/Zygote/FPUm3/src/compiler/interface.jl:34",
      " [4] pullback(::Function, ::Int64, ::Int64)",
      "   @ Zygote ~/.julia/packages/Zygote/FPUm3/src/compiler/interface.jl:40",
      " [5] gradient(::Function, ::Int64, ::Vararg{Int64, N} where N)",
      "   @ Zygote ~/.julia/packages/Zygote/FPUm3/src/compiler/interface.jl:75",
      " [6] top-level scope",
      "   @ In[12]:1",
      " [7] eval",
      "   @ ./boot.jl:360 [inlined]",
      " [8] include_string(mapexpr::typeof(REPL.softscope), mod::Module, code::String, filename::String)",
      "   @ Base ./loading.jl:1116"
     ]
    }
   ],
   "source": [
    "Flux.gradient(1, 1) do\n",
    "    f(x...)\n",
    "end\n"
   ]
  }
 ],
 "metadata": {
  "kernelspec": {
   "display_name": "Julia 1.6.5",
   "language": "julia",
   "name": "julia-1.6"
  },
  "language_info": {
   "file_extension": ".jl",
   "mimetype": "application/julia",
   "name": "julia",
   "version": "1.6.5"
  }
 },
 "nbformat": 4,
 "nbformat_minor": 5
}
