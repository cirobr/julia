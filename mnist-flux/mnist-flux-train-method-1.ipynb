{
 "cells": [
  {
   "cell_type": "markdown",
   "id": "e145f758",
   "metadata": {},
   "source": [
    "# Flux with MNIST\n"
   ]
  },
  {
   "cell_type": "markdown",
   "id": "5f262ba3",
   "metadata": {},
   "source": [
    "## Libraries"
   ]
  },
  {
   "cell_type": "code",
   "execution_count": null,
   "id": "d63e87f2",
   "metadata": {},
   "outputs": [],
   "source": [
    "using Flux              # the julia ml library\n",
    "using MLJ               # make_blobs, rmse, confmat, f1score, coerce\n",
    "using MLDataUtils       # label, nlabel, labelfreq, stratifiedobs\n",
    "using MLDatasets        # mnist\n",
    "using Random\n",
    "using Plots; gr()"
   ]
  },
  {
   "cell_type": "markdown",
   "id": "d53a09fe",
   "metadata": {},
   "source": [
    "## Functions"
   ]
  },
  {
   "cell_type": "code",
   "execution_count": null,
   "id": "66ccdfa6",
   "metadata": {},
   "outputs": [],
   "source": [
    "# metrics\n",
    "function printMetrics(ŷ, y)\n",
    "    display(confmat(ŷ, y))\n",
    "    println(\"accuracy: \", round(accuracy(ŷ, y); digits=3))\n",
    "    println(\"f1-score: \", round(multiclass_f1score(ŷ, y); digits=3))\n",
    "end\n"
   ]
  },
  {
   "cell_type": "markdown",
   "id": "8903cf71",
   "metadata": {},
   "source": [
    "## Dataset"
   ]
  },
  {
   "cell_type": "code",
   "execution_count": null,
   "id": "4bd90da6",
   "metadata": {},
   "outputs": [],
   "source": [
    "# load mnist from MLDatasets\n",
    "trainX_original,      trainY_original      = MNIST.traindata()\n",
    "validationX_original, validationY_original = MNIST.testdata();\n"
   ]
  },
  {
   "cell_type": "code",
   "execution_count": null,
   "id": "7f2acc6e",
   "metadata": {},
   "outputs": [],
   "source": [
    "# split trainset, testset, validation set\n",
    "Random.seed!(1)\n",
    "(trainX, trainY), (testX, testY) = stratifiedobs((trainX_original, trainY_original), p = 0.7)\n",
    "validationX = copy(validationX_original); validationY = copy(validationY_original)\n",
    "\n",
    "size(trainX), size(testX), size(validationX)"
   ]
  },
  {
   "cell_type": "markdown",
   "id": "b8b9c3b0",
   "metadata": {},
   "source": [
    "## Preprocessing\n",
    "\n",
    "Flux primarily works with matrices and vectors"
   ]
  },
  {
   "cell_type": "code",
   "execution_count": null,
   "id": "f76c815d",
   "metadata": {},
   "outputs": [],
   "source": [
    "function preprocess(X, y)\n",
    "    Xs = Float32.(X) |> Flux.flatten\n",
    "    ys = Flux.onehotbatch( Float32.(y), 0:9 )\n",
    "    \n",
    "    return (Xs, ys)\n",
    "end\n",
    "\n",
    "h, v, N = size(trainX); d = h * v\n",
    "X, y = preprocess(trainX, trainY);"
   ]
  },
  {
   "cell_type": "code",
   "execution_count": null,
   "id": "67d36968",
   "metadata": {},
   "outputs": [],
   "source": [
    "d, N, size(X), size(y)"
   ]
  },
  {
   "cell_type": "markdown",
   "id": "67b2b3d1",
   "metadata": {},
   "source": [
    "### tanh"
   ]
  },
  {
   "cell_type": "code",
   "execution_count": null,
   "id": "7d4b4daf",
   "metadata": {},
   "outputs": [],
   "source": [
    "plot(-5:5, tanh.(-5:5), size=(300,200), linewidth=2, legend=false)\n"
   ]
  },
  {
   "cell_type": "markdown",
   "id": "b9f2d81e",
   "metadata": {},
   "source": [
    "### Model"
   ]
  },
  {
   "cell_type": "markdown",
   "id": "93a518e1",
   "metadata": {},
   "source": [
    "Stochastic Gradient Descent (SGD) means batchsize=1.\n",
    "\n",
    "The error on every and each data line is computed, then weights are recalculated towards the negative of the gradient.\n",
    "\n",
    "For this reason, calculation is done at CPU (sequencial computation over one data point at a time)."
   ]
  },
  {
   "cell_type": "code",
   "execution_count": null,
   "id": "eb1374e8",
   "metadata": {},
   "outputs": [],
   "source": [
    "# model configuration\n",
    "nInputs  = d\n",
    "nOutputs = 10\n",
    "model = Chain( Flux.Dense(nInputs, nOutputs, tanh),   # tanh is chosen as nonlinearity (Prof Mostafa lecture)\n",
    "               softmax )                              # softmax scales the output to sum to one\n",
    "\n",
    "lossFunction(X, y) = Flux.mse( model(X), y )\n",
    "modelParameters    = Flux.params(model)\n",
    "data               = Flux.DataLoader((X, y), batchsize=1)             # default batchsize=1\n",
    "callBack           = Flux.throttle(() -> println(\"training\"), 10);    # print every 10s\n"
   ]
  },
  {
   "cell_type": "markdown",
   "id": "55058dfc",
   "metadata": {},
   "source": [
    "### Train method 1"
   ]
  },
  {
   "cell_type": "code",
   "execution_count": null,
   "id": "e724cfc1",
   "metadata": {},
   "outputs": [],
   "source": [
    "numberOfEpochs = 10;"
   ]
  },
  {
   "cell_type": "code",
   "execution_count": null,
   "id": "ac0f3500",
   "metadata": {},
   "outputs": [],
   "source": [
    "# Flux.train!(loss, params, data, opt; cb)\n",
    "@time Flux.train!(lossFunction, modelParameters, data, Flux.Descent())   # single epoch, η = 0.1 (default)\n",
    "# cpu time (batchsize=1): 3-4s"
   ]
  },
  {
   "cell_type": "code",
   "execution_count": null,
   "id": "1107ddc1",
   "metadata": {},
   "outputs": [],
   "source": [
    "Flux.@epochs 10 Flux.train!(lossFunction, modelParameters, data, Flux.Descent(); cb=callBack);   # multiple epochs"
   ]
  },
  {
   "cell_type": "code",
   "execution_count": null,
   "id": "be1e8ca6",
   "metadata": {},
   "outputs": [],
   "source": [
    "# preferred for multiple epochs\n",
    "epochs = 1:numberOfEpochs\n",
    "@time for epoch in epochs Flux.train!(lossFunction, modelParameters, data, Flux.Descent(); cb=callBack) end"
   ]
  },
  {
   "cell_type": "markdown",
   "id": "abef050c",
   "metadata": {},
   "source": [
    "### Predict"
   ]
  },
  {
   "cell_type": "code",
   "execution_count": null,
   "id": "48f2e3c8",
   "metadata": {},
   "outputs": [],
   "source": [
    "function predictOutcome(X)\n",
    "    ŷ = Flux.onecold( model(X), [0:9;] )\n",
    "end\n",
    "\n",
    "ŷ = predictOutcome(X);\n"
   ]
  },
  {
   "cell_type": "code",
   "execution_count": null,
   "id": "9f9dd472",
   "metadata": {},
   "outputs": [],
   "source": [
    "printMetrics( coerce(ŷ, OrderedFactor), coerce(trainY, OrderedFactor) )"
   ]
  },
  {
   "cell_type": "markdown",
   "id": "741e9ca6",
   "metadata": {},
   "source": [
    "### Demo ML\n",
    "\n",
    "Press CTRL-ENTER on the cell to change."
   ]
  },
  {
   "cell_type": "code",
   "execution_count": null,
   "id": "20abc856",
   "metadata": {},
   "outputs": [],
   "source": [
    "v = rand(1:N, 8)\n",
    "display([MNIST.convert2image(trainX[:,:,i]) for i in v])\n",
    "ŷ[v]'"
   ]
  }
 ],
 "metadata": {
  "kernelspec": {
   "display_name": "Julia 1.6.6",
   "language": "julia",
   "name": "julia-1.6"
  },
  "language_info": {
   "file_extension": ".jl",
   "mimetype": "application/julia",
   "name": "julia",
   "version": "1.6.6"
  }
 },
 "nbformat": 4,
 "nbformat_minor": 5
}
