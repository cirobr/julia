{
 "cells": [
  {
   "cell_type": "markdown",
   "id": "e145f758",
   "metadata": {},
   "source": [
    "# Flux with MNIST and GPU\n"
   ]
  },
  {
   "cell_type": "markdown",
   "id": "5f262ba3",
   "metadata": {},
   "source": [
    "## Libraries"
   ]
  },
  {
   "cell_type": "code",
   "execution_count": 1,
   "id": "d63e87f2",
   "metadata": {},
   "outputs": [],
   "source": [
    "using CUDA\n",
    "\n",
    "using Flux              # the julia ml library\n",
    "using Images            # image processing and machine vision for julia\n",
    "\n",
    "using MLJ               # make_blobs, rmse, confmat, f1score, coerce\n",
    "#using MLJFlux           # NeuralNetworkClassifier, CUDALibs\n",
    "using MLDataUtils       # label, nlabel, labelfreq, stratifiedobs\n",
    "using MLDatasets        # mnist\n",
    "\n",
    "using LinearAlgebra     # pinv pseudo-inverse matrix\n",
    "#using Metrics           # r2-score\n",
    "using Random\n",
    "using StatsBase         # standardize (normalization)\n",
    "using Distributions\n",
    "\n",
    "using Plots; gr()\n",
    "using StatsPlots\n",
    "using Printf\n",
    "\n",
    "#using CSV\n",
    "using DataFrames\n"
   ]
  },
  {
   "cell_type": "markdown",
   "id": "d53a09fe",
   "metadata": {},
   "source": [
    "## Functions"
   ]
  },
  {
   "cell_type": "code",
   "execution_count": 2,
   "id": "66ccdfa6",
   "metadata": {},
   "outputs": [
    {
     "data": {
      "text/plain": [
       "printMetrics (generic function with 1 method)"
      ]
     },
     "execution_count": 2,
     "metadata": {},
     "output_type": "execute_result"
    }
   ],
   "source": [
    "# metrics\n",
    "function printMetrics(ŷ, y)\n",
    "    display(confmat(ŷ, y))\n",
    "    println(\"accuracy: \", round(accuracy(ŷ, y); digits=3))\n",
    "    println(\"f1-score: \", round(multiclass_f1score(ŷ, y); digits=3))\n",
    "end\n"
   ]
  },
  {
   "cell_type": "markdown",
   "id": "8903cf71",
   "metadata": {},
   "source": [
    "## Dataset"
   ]
  },
  {
   "cell_type": "code",
   "execution_count": 3,
   "id": "4bd90da6",
   "metadata": {},
   "outputs": [],
   "source": [
    "# load mnist from MLDatasets\n",
    "trainX_original,      trainY_original      = MNIST.traindata()\n",
    "validationX_original, validationY_original = MNIST.testdata();\n"
   ]
  },
  {
   "cell_type": "code",
   "execution_count": 4,
   "id": "7f2acc6e",
   "metadata": {},
   "outputs": [
    {
     "data": {
      "text/plain": [
       "((28, 28, 42001), (28, 28, 17999), (28, 28, 10000))"
      ]
     },
     "execution_count": 4,
     "metadata": {},
     "output_type": "execute_result"
    }
   ],
   "source": [
    "# split trainset, testset, validation set\n",
    "Random.seed!(1)\n",
    "(trainX, trainY), (testX, testY) = stratifiedobs((trainX_original, trainY_original), p = 0.7)\n",
    "validationX = copy(validationX_original); validationY = copy(validationY_original)\n",
    "\n",
    "size(trainX), size(testX), size(validationX)"
   ]
  },
  {
   "cell_type": "markdown",
   "id": "b8b9c3b0",
   "metadata": {},
   "source": [
    "## Preprocessing\n",
    "\n",
    "Flux primarily works with matrices and vectors"
   ]
  },
  {
   "cell_type": "code",
   "execution_count": 5,
   "id": "f76c815d",
   "metadata": {},
   "outputs": [],
   "source": [
    "function preprocess(X, y)\n",
    "    Xs = Float32.(X) |> Flux.flatten\n",
    "    ys = Flux.onehotbatch( Float32.(y), 0:9 )\n",
    "    \n",
    "    return (Xs, ys)\n",
    "end\n",
    "\n",
    "h, v, N = size(trainX); d = h * v\n",
    "X, y = preprocess(trainX, trainY);"
   ]
  },
  {
   "cell_type": "code",
   "execution_count": 6,
   "id": "67d36968",
   "metadata": {},
   "outputs": [
    {
     "data": {
      "text/plain": [
       "(784, 42001, (784, 42001), (10, 42001))"
      ]
     },
     "execution_count": 6,
     "metadata": {},
     "output_type": "execute_result"
    }
   ],
   "source": [
    "d, N, size(X), size(y)"
   ]
  },
  {
   "cell_type": "markdown",
   "id": "b9f2d81e",
   "metadata": {},
   "source": [
    "### Model"
   ]
  },
  {
   "cell_type": "code",
   "execution_count": 7,
   "id": "4d606cd7",
   "metadata": {},
   "outputs": [],
   "source": [
    "# data on gpu\n",
    "X_d = X |> gpu\n",
    "y_d = y |> gpu;\n"
   ]
  },
  {
   "cell_type": "code",
   "execution_count": 8,
   "id": "eb1374e8",
   "metadata": {},
   "outputs": [],
   "source": [
    "# model configuration\n",
    "nInputs  = d\n",
    "nOutputs = 10\n",
    "\n",
    "model = Chain( Flux.Dense(nInputs, nOutputs, tanh), softmax ) |> gpu   # weights on gpu\n",
    "\n",
    "lossFunction(X, y) = Flux.mse( model(X), y )\n",
    "modelParameters    = Flux.params(model)\n",
    "data               = Flux.DataLoader((X_d, y_d), batchsize=256)        # default batchsize=1\n",
    "callBack           = Flux.throttle(() -> println(\"training\"), 10);     # print every 10s\n"
   ]
  },
  {
   "cell_type": "markdown",
   "id": "ea26fddb",
   "metadata": {},
   "source": [
    "### Train"
   ]
  },
  {
   "cell_type": "code",
   "execution_count": 9,
   "id": "9173a024",
   "metadata": {},
   "outputs": [
    {
     "data": {
      "text/plain": [
       "trainModel! (generic function with 1 method)"
      ]
     },
     "execution_count": 9,
     "metadata": {},
     "output_type": "execute_result"
    }
   ],
   "source": [
    "# custom made function that provides access to loss function outcome\n",
    "function trainModel!(loss, ps, data, opt)\n",
    "    dataLosses = Vector{Float32}()\n",
    "        \n",
    "    for d in data\n",
    "        l = loss(d...)\n",
    "        gs = gradient(ps) do\n",
    "            loss(d...)\n",
    "        end\n",
    "        Flux.update!(opt, ps, gs)\n",
    "            \n",
    "        push!(dataLosses, l)\n",
    "    end\n",
    "    \n",
    "    return mean(dataLosses)\n",
    "end\n"
   ]
  },
  {
   "cell_type": "raw",
   "id": "445003d8",
   "metadata": {},
   "source": [
    "@time trainModel!( lossFunction, modelParameters, data, Flux.Descent() )"
   ]
  },
  {
   "cell_type": "code",
   "execution_count": 10,
   "id": "467e2940",
   "metadata": {},
   "outputs": [],
   "source": [
    "numberOfEpochs = 100;"
   ]
  },
  {
   "cell_type": "code",
   "execution_count": 11,
   "id": "0a8fe48d",
   "metadata": {},
   "outputs": [],
   "source": [
    "epochs = 1:numberOfEpochs\n",
    "epochLosses = Vector{Float32}()\n",
    "\n",
    "for epoch in epochs\n",
    "    l = trainModel!( lossFunction, modelParameters, data, Flux.Descent() )\n",
    "    push!(epochLosses, l)\n",
    "end\n"
   ]
  },
  {
   "cell_type": "code",
   "execution_count": 12,
   "id": "07065db1",
   "metadata": {},
   "outputs": [
    {
     "data": {
      "image/svg+xml": [
       "<?xml version=\"1.0\" encoding=\"utf-8\"?>\n",
       "<svg xmlns=\"http://www.w3.org/2000/svg\" xmlns:xlink=\"http://www.w3.org/1999/xlink\" width=\"300\" height=\"200\" viewBox=\"0 0 1200 800\">\n",
       "<defs>\n",
       "  <clipPath id=\"clip940\">\n",
       "    <rect x=\"0\" y=\"0\" width=\"1200\" height=\"800\"/>\n",
       "  </clipPath>\n",
       "</defs>\n",
       "<path clip-path=\"url(#clip940)\" d=\"\n",
       "M0 800 L1200 800 L1200 0 L0 0  Z\n",
       "  \" fill=\"#ffffff\" fill-rule=\"evenodd\" fill-opacity=\"1\"/>\n",
       "<defs>\n",
       "  <clipPath id=\"clip941\">\n",
       "    <rect x=\"240\" y=\"0\" width=\"841\" height=\"800\"/>\n",
       "  </clipPath>\n",
       "</defs>\n",
       "<path clip-path=\"url(#clip940)\" d=\"\n",
       "M174.436 694.448 L1152.76 694.448 L1152.76 47.2441 L174.436 47.2441  Z\n",
       "  \" fill=\"#ffffff\" fill-rule=\"evenodd\" fill-opacity=\"1\"/>\n",
       "<defs>\n",
       "  <clipPath id=\"clip942\">\n",
       "    <rect x=\"174\" y=\"47\" width=\"979\" height=\"648\"/>\n",
       "  </clipPath>\n",
       "</defs>\n",
       "<polyline clip-path=\"url(#clip942)\" style=\"stroke:#000000; stroke-linecap:butt; stroke-linejoin:round; stroke-width:2; stroke-opacity:0.1; fill:none\" points=\"\n",
       "  192.802,694.448 192.802,47.2441 \n",
       "  \"/>\n",
       "<polyline clip-path=\"url(#clip942)\" style=\"stroke:#000000; stroke-linecap:butt; stroke-linejoin:round; stroke-width:2; stroke-opacity:0.1; fill:none\" points=\"\n",
       "  425.868,694.448 425.868,47.2441 \n",
       "  \"/>\n",
       "<polyline clip-path=\"url(#clip942)\" style=\"stroke:#000000; stroke-linecap:butt; stroke-linejoin:round; stroke-width:2; stroke-opacity:0.1; fill:none\" points=\"\n",
       "  658.935,694.448 658.935,47.2441 \n",
       "  \"/>\n",
       "<polyline clip-path=\"url(#clip942)\" style=\"stroke:#000000; stroke-linecap:butt; stroke-linejoin:round; stroke-width:2; stroke-opacity:0.1; fill:none\" points=\"\n",
       "  892.001,694.448 892.001,47.2441 \n",
       "  \"/>\n",
       "<polyline clip-path=\"url(#clip942)\" style=\"stroke:#000000; stroke-linecap:butt; stroke-linejoin:round; stroke-width:2; stroke-opacity:0.1; fill:none\" points=\"\n",
       "  1125.07,694.448 1125.07,47.2441 \n",
       "  \"/>\n",
       "<polyline clip-path=\"url(#clip940)\" style=\"stroke:#000000; stroke-linecap:butt; stroke-linejoin:round; stroke-width:4; stroke-opacity:1; fill:none\" points=\"\n",
       "  174.436,694.448 1152.76,694.448 \n",
       "  \"/>\n",
       "<polyline clip-path=\"url(#clip940)\" style=\"stroke:#000000; stroke-linecap:butt; stroke-linejoin:round; stroke-width:4; stroke-opacity:1; fill:none\" points=\"\n",
       "  192.802,694.448 192.802,675.55 \n",
       "  \"/>\n",
       "<polyline clip-path=\"url(#clip940)\" style=\"stroke:#000000; stroke-linecap:butt; stroke-linejoin:round; stroke-width:4; stroke-opacity:1; fill:none\" points=\"\n",
       "  425.868,694.448 425.868,675.55 \n",
       "  \"/>\n",
       "<polyline clip-path=\"url(#clip940)\" style=\"stroke:#000000; stroke-linecap:butt; stroke-linejoin:round; stroke-width:4; stroke-opacity:1; fill:none\" points=\"\n",
       "  658.935,694.448 658.935,675.55 \n",
       "  \"/>\n",
       "<polyline clip-path=\"url(#clip940)\" style=\"stroke:#000000; stroke-linecap:butt; stroke-linejoin:round; stroke-width:4; stroke-opacity:1; fill:none\" points=\"\n",
       "  892.001,694.448 892.001,675.55 \n",
       "  \"/>\n",
       "<polyline clip-path=\"url(#clip940)\" style=\"stroke:#000000; stroke-linecap:butt; stroke-linejoin:round; stroke-width:4; stroke-opacity:1; fill:none\" points=\"\n",
       "  1125.07,694.448 1125.07,675.55 \n",
       "  \"/>\n",
       "<path clip-path=\"url(#clip940)\" d=\"M192.802 715.767 Q189.191 715.767 187.362 719.331 Q185.556 722.873 185.556 730.003 Q185.556 737.109 187.362 740.674 Q189.191 744.215 192.802 744.215 Q196.436 744.215 198.241 740.674 Q200.07 737.109 200.07 730.003 Q200.07 722.873 198.241 719.331 Q196.436 715.767 192.802 715.767 M192.802 712.063 Q198.612 712.063 201.667 716.669 Q204.746 721.253 204.746 730.003 Q204.746 738.729 201.667 743.336 Q198.612 747.919 192.802 747.919 Q186.992 747.919 183.913 743.336 Q180.857 738.729 180.857 730.003 Q180.857 721.253 183.913 716.669 Q186.992 712.063 192.802 712.063 Z\" fill=\"#000000\" fill-rule=\"evenodd\" fill-opacity=\"1\" /><path clip-path=\"url(#clip940)\" d=\"M405.139 743.313 L421.458 743.313 L421.458 747.248 L399.514 747.248 L399.514 743.313 Q402.176 740.558 406.759 735.928 Q411.366 731.276 412.546 729.933 Q414.792 727.41 415.671 725.674 Q416.574 723.915 416.574 722.225 Q416.574 719.47 414.63 717.734 Q412.709 715.998 409.607 715.998 Q407.408 715.998 404.954 716.762 Q402.523 717.526 399.746 719.077 L399.746 714.355 Q402.57 713.22 405.023 712.642 Q407.477 712.063 409.514 712.063 Q414.884 712.063 418.079 714.748 Q421.273 717.433 421.273 721.924 Q421.273 724.054 420.463 725.975 Q419.676 727.873 417.57 730.466 Q416.991 731.137 413.889 734.354 Q410.787 737.549 405.139 743.313 Z\" fill=\"#000000\" fill-rule=\"evenodd\" fill-opacity=\"1\" /><path clip-path=\"url(#clip940)\" d=\"M431.32 712.688 L449.676 712.688 L449.676 716.623 L435.602 716.623 L435.602 725.095 Q436.62 724.748 437.639 724.586 Q438.657 724.401 439.676 724.401 Q445.463 724.401 448.843 727.572 Q452.222 730.743 452.222 736.16 Q452.222 741.739 448.75 744.84 Q445.278 747.919 438.958 747.919 Q436.782 747.919 434.514 747.549 Q432.269 747.178 429.861 746.438 L429.861 741.739 Q431.945 742.873 434.167 743.428 Q436.389 743.984 438.866 743.984 Q442.87 743.984 445.208 741.878 Q447.546 739.771 447.546 736.16 Q447.546 732.549 445.208 730.442 Q442.87 728.336 438.866 728.336 Q436.991 728.336 435.116 728.753 Q433.264 729.169 431.32 730.049 L431.32 712.688 Z\" fill=\"#000000\" fill-rule=\"evenodd\" fill-opacity=\"1\" /><path clip-path=\"url(#clip940)\" d=\"M633.634 712.688 L651.99 712.688 L651.99 716.623 L637.916 716.623 L637.916 725.095 Q638.935 724.748 639.953 724.586 Q640.972 724.401 641.99 724.401 Q647.777 724.401 651.157 727.572 Q654.537 730.743 654.537 736.16 Q654.537 741.739 651.064 744.84 Q647.592 747.919 641.273 747.919 Q639.097 747.919 636.828 747.549 Q634.583 747.178 632.176 746.438 L632.176 741.739 Q634.259 742.873 636.481 743.428 Q638.703 743.984 641.18 743.984 Q645.185 743.984 647.523 741.878 Q649.861 739.771 649.861 736.16 Q649.861 732.549 647.523 730.442 Q645.185 728.336 641.18 728.336 Q639.305 728.336 637.43 728.753 Q635.578 729.169 633.634 730.049 L633.634 712.688 Z\" fill=\"#000000\" fill-rule=\"evenodd\" fill-opacity=\"1\" /><path clip-path=\"url(#clip940)\" d=\"M673.749 715.767 Q670.138 715.767 668.31 719.331 Q666.504 722.873 666.504 730.003 Q666.504 737.109 668.31 740.674 Q670.138 744.215 673.749 744.215 Q677.384 744.215 679.189 740.674 Q681.018 737.109 681.018 730.003 Q681.018 722.873 679.189 719.331 Q677.384 715.767 673.749 715.767 M673.749 712.063 Q679.56 712.063 682.615 716.669 Q685.694 721.253 685.694 730.003 Q685.694 738.729 682.615 743.336 Q679.56 747.919 673.749 747.919 Q667.939 747.919 664.861 743.336 Q661.805 738.729 661.805 730.003 Q661.805 721.253 664.861 716.669 Q667.939 712.063 673.749 712.063 Z\" fill=\"#000000\" fill-rule=\"evenodd\" fill-opacity=\"1\" /><path clip-path=\"url(#clip940)\" d=\"M865.855 712.688 L888.078 712.688 L888.078 714.679 L875.531 747.248 L870.647 747.248 L882.453 716.623 L865.855 716.623 L865.855 712.688 Z\" fill=\"#000000\" fill-rule=\"evenodd\" fill-opacity=\"1\" /><path clip-path=\"url(#clip940)\" d=\"M897.244 712.688 L915.601 712.688 L915.601 716.623 L901.527 716.623 L901.527 725.095 Q902.545 724.748 903.564 724.586 Q904.582 724.401 905.601 724.401 Q911.388 724.401 914.767 727.572 Q918.147 730.743 918.147 736.16 Q918.147 741.739 914.675 744.84 Q911.202 747.919 904.883 747.919 Q902.707 747.919 900.439 747.549 Q898.193 747.178 895.786 746.438 L895.786 741.739 Q897.869 742.873 900.091 743.428 Q902.314 743.984 904.79 743.984 Q908.795 743.984 911.133 741.878 Q913.471 739.771 913.471 736.16 Q913.471 732.549 911.133 730.442 Q908.795 728.336 904.79 728.336 Q902.915 728.336 901.04 728.753 Q899.189 729.169 897.244 730.049 L897.244 712.688 Z\" fill=\"#000000\" fill-rule=\"evenodd\" fill-opacity=\"1\" /><path clip-path=\"url(#clip940)\" d=\"M1084.67 743.313 L1092.31 743.313 L1092.31 716.947 L1084 718.614 L1084 714.355 L1092.27 712.688 L1096.94 712.688 L1096.94 743.313 L1104.58 743.313 L1104.58 747.248 L1084.67 747.248 L1084.67 743.313 Z\" fill=\"#000000\" fill-rule=\"evenodd\" fill-opacity=\"1\" /><path clip-path=\"url(#clip940)\" d=\"M1124.03 715.767 Q1120.41 715.767 1118.59 719.331 Q1116.78 722.873 1116.78 730.003 Q1116.78 737.109 1118.59 740.674 Q1120.41 744.215 1124.03 744.215 Q1127.66 744.215 1129.47 740.674 Q1131.29 737.109 1131.29 730.003 Q1131.29 722.873 1129.47 719.331 Q1127.66 715.767 1124.03 715.767 M1124.03 712.063 Q1129.84 712.063 1132.89 716.669 Q1135.97 721.253 1135.97 730.003 Q1135.97 738.729 1132.89 743.336 Q1129.84 747.919 1124.03 747.919 Q1118.22 747.919 1115.14 743.336 Q1112.08 738.729 1112.08 730.003 Q1112.08 721.253 1115.14 716.669 Q1118.22 712.063 1124.03 712.063 Z\" fill=\"#000000\" fill-rule=\"evenodd\" fill-opacity=\"1\" /><path clip-path=\"url(#clip940)\" d=\"M1154.19 715.767 Q1150.58 715.767 1148.75 719.331 Q1146.94 722.873 1146.94 730.003 Q1146.94 737.109 1148.75 740.674 Q1150.58 744.215 1154.19 744.215 Q1157.82 744.215 1159.63 740.674 Q1161.46 737.109 1161.46 730.003 Q1161.46 722.873 1159.63 719.331 Q1157.82 715.767 1154.19 715.767 M1154.19 712.063 Q1160 712.063 1163.05 716.669 Q1166.13 721.253 1166.13 730.003 Q1166.13 738.729 1163.05 743.336 Q1160 747.919 1154.19 747.919 Q1148.38 747.919 1145.3 743.336 Q1142.24 738.729 1142.24 730.003 Q1142.24 721.253 1145.3 716.669 Q1148.38 712.063 1154.19 712.063 Z\" fill=\"#000000\" fill-rule=\"evenodd\" fill-opacity=\"1\" /><polyline clip-path=\"url(#clip942)\" style=\"stroke:#000000; stroke-linecap:butt; stroke-linejoin:round; stroke-width:2; stroke-opacity:0.1; fill:none\" points=\"\n",
       "  174.436,631.852 1152.76,631.852 \n",
       "  \"/>\n",
       "<polyline clip-path=\"url(#clip942)\" style=\"stroke:#000000; stroke-linecap:butt; stroke-linejoin:round; stroke-width:2; stroke-opacity:0.1; fill:none\" points=\"\n",
       "  174.436,485.655 1152.76,485.655 \n",
       "  \"/>\n",
       "<polyline clip-path=\"url(#clip942)\" style=\"stroke:#000000; stroke-linecap:butt; stroke-linejoin:round; stroke-width:2; stroke-opacity:0.1; fill:none\" points=\"\n",
       "  174.436,339.459 1152.76,339.459 \n",
       "  \"/>\n",
       "<polyline clip-path=\"url(#clip942)\" style=\"stroke:#000000; stroke-linecap:butt; stroke-linejoin:round; stroke-width:2; stroke-opacity:0.1; fill:none\" points=\"\n",
       "  174.436,193.262 1152.76,193.262 \n",
       "  \"/>\n",
       "<polyline clip-path=\"url(#clip940)\" style=\"stroke:#000000; stroke-linecap:butt; stroke-linejoin:round; stroke-width:4; stroke-opacity:1; fill:none\" points=\"\n",
       "  174.436,694.448 174.436,47.2441 \n",
       "  \"/>\n",
       "<polyline clip-path=\"url(#clip940)\" style=\"stroke:#000000; stroke-linecap:butt; stroke-linejoin:round; stroke-width:4; stroke-opacity:1; fill:none\" points=\"\n",
       "  174.436,631.852 193.334,631.852 \n",
       "  \"/>\n",
       "<polyline clip-path=\"url(#clip940)\" style=\"stroke:#000000; stroke-linecap:butt; stroke-linejoin:round; stroke-width:4; stroke-opacity:1; fill:none\" points=\"\n",
       "  174.436,485.655 193.334,485.655 \n",
       "  \"/>\n",
       "<polyline clip-path=\"url(#clip940)\" style=\"stroke:#000000; stroke-linecap:butt; stroke-linejoin:round; stroke-width:4; stroke-opacity:1; fill:none\" points=\"\n",
       "  174.436,339.459 193.334,339.459 \n",
       "  \"/>\n",
       "<polyline clip-path=\"url(#clip940)\" style=\"stroke:#000000; stroke-linecap:butt; stroke-linejoin:round; stroke-width:4; stroke-opacity:1; fill:none\" points=\"\n",
       "  174.436,193.262 193.334,193.262 \n",
       "  \"/>\n",
       "<path clip-path=\"url(#clip940)\" d=\"M70.0939 617.65 Q66.4828 617.65 64.6541 621.215 Q62.8486 624.757 62.8486 631.886 Q62.8486 638.993 64.6541 642.557 Q66.4828 646.099 70.0939 646.099 Q73.7281 646.099 75.5337 642.557 Q77.3624 638.993 77.3624 631.886 Q77.3624 624.757 75.5337 621.215 Q73.7281 617.65 70.0939 617.65 M70.0939 613.947 Q75.9041 613.947 78.9596 618.553 Q82.0383 623.136 82.0383 631.886 Q82.0383 640.613 78.9596 645.22 Q75.9041 649.803 70.0939 649.803 Q64.2838 649.803 61.2051 645.22 Q58.1495 640.613 58.1495 631.886 Q58.1495 623.136 61.2051 618.553 Q64.2838 613.947 70.0939 613.947 Z\" fill=\"#000000\" fill-rule=\"evenodd\" fill-opacity=\"1\" /><path clip-path=\"url(#clip940)\" d=\"M90.2558 643.252 L95.1401 643.252 L95.1401 649.132 L90.2558 649.132 L90.2558 643.252 Z\" fill=\"#000000\" fill-rule=\"evenodd\" fill-opacity=\"1\" /><path clip-path=\"url(#clip940)\" d=\"M115.325 617.65 Q111.714 617.65 109.885 621.215 Q108.08 624.757 108.08 631.886 Q108.08 638.993 109.885 642.557 Q111.714 646.099 115.325 646.099 Q118.959 646.099 120.765 642.557 Q122.594 638.993 122.594 631.886 Q122.594 624.757 120.765 621.215 Q118.959 617.65 115.325 617.65 M115.325 613.947 Q121.135 613.947 124.191 618.553 Q127.27 623.136 127.27 631.886 Q127.27 640.613 124.191 645.22 Q121.135 649.803 115.325 649.803 Q109.515 649.803 106.436 645.22 Q103.381 640.613 103.381 631.886 Q103.381 623.136 106.436 618.553 Q109.515 613.947 115.325 613.947 Z\" fill=\"#000000\" fill-rule=\"evenodd\" fill-opacity=\"1\" /><path clip-path=\"url(#clip940)\" d=\"M135.533 614.572 L153.89 614.572 L153.89 618.507 L139.816 618.507 L139.816 626.979 Q140.834 626.632 141.853 626.47 Q142.871 626.284 143.89 626.284 Q149.677 626.284 153.056 629.456 Q156.436 632.627 156.436 638.044 Q156.436 643.622 152.964 646.724 Q149.492 649.803 143.172 649.803 Q140.996 649.803 138.728 649.432 Q136.482 649.062 134.075 648.321 L134.075 643.622 Q136.158 644.757 138.381 645.312 Q140.603 645.868 143.08 645.868 Q147.084 645.868 149.422 643.761 Q151.76 641.655 151.76 638.044 Q151.76 634.433 149.422 632.326 Q147.084 630.22 143.08 630.22 Q141.205 630.22 139.33 630.636 Q137.478 631.053 135.533 631.933 L135.533 614.572 Z\" fill=\"#000000\" fill-rule=\"evenodd\" fill-opacity=\"1\" /><path clip-path=\"url(#clip940)\" d=\"M68.9365 471.454 Q65.3254 471.454 63.4967 475.019 Q61.6912 478.56 61.6912 485.69 Q61.6912 492.796 63.4967 496.361 Q65.3254 499.903 68.9365 499.903 Q72.5707 499.903 74.3763 496.361 Q76.205 492.796 76.205 485.69 Q76.205 478.56 74.3763 475.019 Q72.5707 471.454 68.9365 471.454 M68.9365 467.75 Q74.7467 467.75 77.8022 472.357 Q80.8809 476.94 80.8809 485.69 Q80.8809 494.417 77.8022 499.023 Q74.7467 503.606 68.9365 503.606 Q63.1264 503.606 60.0477 499.023 Q56.9921 494.417 56.9921 485.69 Q56.9921 476.94 60.0477 472.357 Q63.1264 467.75 68.9365 467.75 Z\" fill=\"#000000\" fill-rule=\"evenodd\" fill-opacity=\"1\" /><path clip-path=\"url(#clip940)\" d=\"M89.0984 497.055 L93.9827 497.055 L93.9827 502.935 L89.0984 502.935 L89.0984 497.055 Z\" fill=\"#000000\" fill-rule=\"evenodd\" fill-opacity=\"1\" /><path clip-path=\"url(#clip940)\" d=\"M114.168 471.454 Q110.557 471.454 108.728 475.019 Q106.922 478.56 106.922 485.69 Q106.922 492.796 108.728 496.361 Q110.557 499.903 114.168 499.903 Q117.802 499.903 119.608 496.361 Q121.436 492.796 121.436 485.69 Q121.436 478.56 119.608 475.019 Q117.802 471.454 114.168 471.454 M114.168 467.75 Q119.978 467.75 123.033 472.357 Q126.112 476.94 126.112 485.69 Q126.112 494.417 123.033 499.023 Q119.978 503.606 114.168 503.606 Q108.358 503.606 105.279 499.023 Q102.223 494.417 102.223 485.69 Q102.223 476.94 105.279 472.357 Q108.358 467.75 114.168 467.75 Z\" fill=\"#000000\" fill-rule=\"evenodd\" fill-opacity=\"1\" /><path clip-path=\"url(#clip940)\" d=\"M144.908 483.792 Q141.76 483.792 139.908 485.944 Q138.08 488.097 138.08 491.847 Q138.08 495.574 139.908 497.75 Q141.76 499.903 144.908 499.903 Q148.056 499.903 149.885 497.75 Q151.737 495.574 151.737 491.847 Q151.737 488.097 149.885 485.944 Q148.056 483.792 144.908 483.792 M154.191 469.139 L154.191 473.398 Q152.431 472.565 150.626 472.125 Q148.843 471.685 147.084 471.685 Q142.455 471.685 140.001 474.81 Q137.57 477.935 137.223 484.255 Q138.589 482.241 140.649 481.176 Q142.709 480.088 145.186 480.088 Q150.394 480.088 153.404 483.259 Q156.436 486.407 156.436 491.847 Q156.436 497.171 153.288 500.389 Q150.14 503.606 144.908 503.606 Q138.913 503.606 135.742 499.023 Q132.57 494.417 132.57 485.69 Q132.57 477.495 136.459 472.634 Q140.348 467.75 146.899 467.75 Q148.658 467.75 150.441 468.097 Q152.246 468.444 154.191 469.139 Z\" fill=\"#000000\" fill-rule=\"evenodd\" fill-opacity=\"1\" /><path clip-path=\"url(#clip940)\" d=\"M70.0013 325.257 Q66.3902 325.257 64.5615 328.822 Q62.756 332.364 62.756 339.493 Q62.756 346.6 64.5615 350.165 Q66.3902 353.706 70.0013 353.706 Q73.6356 353.706 75.4411 350.165 Q77.2698 346.6 77.2698 339.493 Q77.2698 332.364 75.4411 328.822 Q73.6356 325.257 70.0013 325.257 M70.0013 321.554 Q75.8115 321.554 78.867 326.16 Q81.9457 330.743 81.9457 339.493 Q81.9457 348.22 78.867 352.827 Q75.8115 357.41 70.0013 357.41 Q64.1912 357.41 61.1125 352.827 Q58.0569 348.22 58.0569 339.493 Q58.0569 330.743 61.1125 326.16 Q64.1912 321.554 70.0013 321.554 Z\" fill=\"#000000\" fill-rule=\"evenodd\" fill-opacity=\"1\" /><path clip-path=\"url(#clip940)\" d=\"M90.1632 350.859 L95.0475 350.859 L95.0475 356.739 L90.1632 356.739 L90.1632 350.859 Z\" fill=\"#000000\" fill-rule=\"evenodd\" fill-opacity=\"1\" /><path clip-path=\"url(#clip940)\" d=\"M115.233 325.257 Q111.621 325.257 109.793 328.822 Q107.987 332.364 107.987 339.493 Q107.987 346.6 109.793 350.165 Q111.621 353.706 115.233 353.706 Q118.867 353.706 120.672 350.165 Q122.501 346.6 122.501 339.493 Q122.501 332.364 120.672 328.822 Q118.867 325.257 115.233 325.257 M115.233 321.554 Q121.043 321.554 124.098 326.16 Q127.177 330.743 127.177 339.493 Q127.177 348.22 124.098 352.827 Q121.043 357.41 115.233 357.41 Q109.422 357.41 106.344 352.827 Q103.288 348.22 103.288 339.493 Q103.288 330.743 106.344 326.16 Q109.422 321.554 115.233 321.554 Z\" fill=\"#000000\" fill-rule=\"evenodd\" fill-opacity=\"1\" /><path clip-path=\"url(#clip940)\" d=\"M134.214 322.179 L156.436 322.179 L156.436 324.169 L143.89 356.739 L139.006 356.739 L150.811 326.114 L134.214 326.114 L134.214 322.179 Z\" fill=\"#000000\" fill-rule=\"evenodd\" fill-opacity=\"1\" /><path clip-path=\"url(#clip940)\" d=\"M69.1911 179.061 Q65.58 179.061 63.7513 182.626 Q61.9458 186.167 61.9458 193.297 Q61.9458 200.403 63.7513 203.968 Q65.58 207.51 69.1911 207.51 Q72.8254 207.51 74.6309 203.968 Q76.4596 200.403 76.4596 193.297 Q76.4596 186.167 74.6309 182.626 Q72.8254 179.061 69.1911 179.061 M69.1911 175.357 Q75.0013 175.357 78.0568 179.964 Q81.1355 184.547 81.1355 193.297 Q81.1355 202.024 78.0568 206.63 Q75.0013 211.213 69.1911 211.213 Q63.381 211.213 60.3023 206.63 Q57.2468 202.024 57.2468 193.297 Q57.2468 184.547 60.3023 179.964 Q63.381 175.357 69.1911 175.357 Z\" fill=\"#000000\" fill-rule=\"evenodd\" fill-opacity=\"1\" /><path clip-path=\"url(#clip940)\" d=\"M89.3531 204.662 L94.2373 204.662 L94.2373 210.542 L89.3531 210.542 L89.3531 204.662 Z\" fill=\"#000000\" fill-rule=\"evenodd\" fill-opacity=\"1\" /><path clip-path=\"url(#clip940)\" d=\"M114.422 179.061 Q110.811 179.061 108.983 182.626 Q107.177 186.167 107.177 193.297 Q107.177 200.403 108.983 203.968 Q110.811 207.51 114.422 207.51 Q118.057 207.51 119.862 203.968 Q121.691 200.403 121.691 193.297 Q121.691 186.167 119.862 182.626 Q118.057 179.061 114.422 179.061 M114.422 175.357 Q120.233 175.357 123.288 179.964 Q126.367 184.547 126.367 193.297 Q126.367 202.024 123.288 206.63 Q120.233 211.213 114.422 211.213 Q108.612 211.213 105.534 206.63 Q102.478 202.024 102.478 193.297 Q102.478 184.547 105.534 179.964 Q108.612 175.357 114.422 175.357 Z\" fill=\"#000000\" fill-rule=\"evenodd\" fill-opacity=\"1\" /><path clip-path=\"url(#clip940)\" d=\"M144.584 194.13 Q141.251 194.13 139.33 195.913 Q137.432 197.695 137.432 200.82 Q137.432 203.945 139.33 205.727 Q141.251 207.51 144.584 207.51 Q147.918 207.51 149.839 205.727 Q151.76 203.922 151.76 200.82 Q151.76 197.695 149.839 195.913 Q147.941 194.13 144.584 194.13 M139.908 192.139 Q136.899 191.399 135.209 189.338 Q133.543 187.278 133.543 184.315 Q133.543 180.172 136.482 177.764 Q139.445 175.357 144.584 175.357 Q149.746 175.357 152.686 177.764 Q155.626 180.172 155.626 184.315 Q155.626 187.278 153.936 189.338 Q152.269 191.399 149.283 192.139 Q152.663 192.926 154.538 195.218 Q156.436 197.51 156.436 200.82 Q156.436 205.843 153.357 208.528 Q150.302 211.213 144.584 211.213 Q138.867 211.213 135.788 208.528 Q132.732 205.843 132.732 200.82 Q132.732 197.51 134.631 195.218 Q136.529 192.926 139.908 192.139 M138.195 184.755 Q138.195 187.44 139.862 188.945 Q141.552 190.45 144.584 190.45 Q147.593 190.45 149.283 188.945 Q150.996 187.44 150.996 184.755 Q150.996 182.07 149.283 180.565 Q147.593 179.061 144.584 179.061 Q141.552 179.061 139.862 180.565 Q138.195 182.07 138.195 184.755 Z\" fill=\"#000000\" fill-rule=\"evenodd\" fill-opacity=\"1\" /><polyline clip-path=\"url(#clip942)\" style=\"stroke:#009af9; stroke-linecap:butt; stroke-linejoin:round; stroke-width:8; stroke-opacity:1; fill:none\" points=\"\n",
       "  202.124,65.5612 211.447,149.4 220.77,237.699 230.092,311.722 239.415,365.774 248.738,405.416 258.06,435.51 267.383,459.144 276.706,478.247 286.028,494.065 \n",
       "  295.351,507.428 304.674,518.905 313.996,528.902 323.319,537.712 332.642,545.554 341.964,552.594 351.287,558.963 360.61,564.76 369.932,570.068 379.255,574.952 \n",
       "  388.578,579.467 397.9,583.656 407.223,587.558 416.545,591.204 425.868,594.621 435.191,597.833 444.513,600.859 453.836,603.716 463.159,606.42 472.481,608.984 \n",
       "  481.804,611.42 491.127,613.737 500.449,615.947 509.772,618.056 519.095,620.072 528.417,622.001 537.74,623.851 547.063,625.625 556.385,627.33 565.708,628.97 \n",
       "  575.031,630.548 584.353,632.068 593.676,633.535 602.999,634.951 612.321,636.318 621.644,637.641 630.967,638.92 640.289,640.159 649.612,641.36 658.935,642.524 \n",
       "  668.257,643.653 677.58,644.75 686.903,645.815 696.225,646.85 705.548,647.857 714.871,648.836 724.193,649.79 733.516,650.719 742.839,651.624 752.161,652.506 \n",
       "  761.484,653.366 770.807,654.206 780.129,655.026 789.452,655.826 798.775,656.608 808.097,657.372 817.42,658.119 826.743,658.849 836.065,659.564 845.388,660.263 \n",
       "  854.71,660.948 864.033,661.618 873.356,662.275 882.678,662.918 892.001,663.549 901.324,664.167 910.646,664.773 919.969,665.368 929.292,665.952 938.614,666.524 \n",
       "  947.937,667.086 957.26,667.638 966.582,668.18 975.905,668.713 985.228,669.236 994.55,669.75 1003.87,670.255 1013.2,670.752 1022.52,671.241 1031.84,671.722 \n",
       "  1041.16,672.194 1050.49,672.66 1059.81,673.117 1069.13,673.568 1078.45,674.011 1087.78,674.448 1097.1,674.878 1106.42,675.302 1115.74,675.72 1125.07,676.131 \n",
       "  \n",
       "  \"/>\n",
       "</svg>\n"
      ]
     },
     "execution_count": 12,
     "metadata": {},
     "output_type": "execute_result"
    }
   ],
   "source": [
    "plot(epochs, epochLosses, size=(300,200), linewidth=2, legend=false)"
   ]
  },
  {
   "cell_type": "markdown",
   "id": "a77111b8",
   "metadata": {},
   "source": [
    "### Predict"
   ]
  },
  {
   "cell_type": "code",
   "execution_count": 13,
   "id": "4cd546f6",
   "metadata": {},
   "outputs": [
    {
     "data": {
      "text/plain": [
       "10×10 Matrix{Int64}:\n",
       " 4010     0    33    31     7   119    33    38    45    38\n",
       "    0  4551    60    29    24    65    18    69   130    30\n",
       "   12    19  3542   140    25    24    35    56    56    33\n",
       "   14    20    64  3668     2   186     4    16   151    78\n",
       "   12     4   101    11  3658    90    30    69    41   169\n",
       "   10    37     6   150     4  2908    54     6   142    26\n",
       "   34     9    92    48    53    93  3932     5    42     2\n",
       "    5    11   105    58    11    32     3  3960    24   164\n",
       "   45    61   137    95    59   188    32    21  3369    39\n",
       "    4     7    31    62   246    90     2   146    96  3585"
      ]
     },
     "metadata": {},
     "output_type": "display_data"
    },
    {
     "name": "stdout",
     "output_type": "stream",
     "text": [
      "accuracy: 0.885\n",
      "f1-score: 0.883\n"
     ]
    }
   ],
   "source": [
    "function predictOutcome(X)\n",
    "    ŷ = Flux.onecold( model(X), [0:9;] )\n",
    "end\n",
    "\n",
    "ŷ = predictOutcome(X_d)\n",
    "printMetrics( coerce(ŷ, OrderedFactor), coerce(trainY, OrderedFactor) )"
   ]
  }
 ],
 "metadata": {
  "kernelspec": {
   "display_name": "Julia 1.6.5",
   "language": "julia",
   "name": "julia-1.6"
  },
  "language_info": {
   "file_extension": ".jl",
   "mimetype": "application/julia",
   "name": "julia",
   "version": "1.6.5"
  }
 },
 "nbformat": 4,
 "nbformat_minor": 5
}
