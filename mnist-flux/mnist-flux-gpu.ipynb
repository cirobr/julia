{
 "cells": [
  {
   "cell_type": "markdown",
   "id": "e145f758",
   "metadata": {},
   "source": [
    "Flux with MNIST and GPU\n"
   ]
  },
  {
   "cell_type": "markdown",
   "id": "5f262ba3",
   "metadata": {},
   "source": [
    "Libraries"
   ]
  },
  {
   "cell_type": "code",
   "execution_count": 57,
   "id": "d63e87f2",
   "metadata": {},
   "outputs": [],
   "source": [
    "using CUDA\n",
    "\n",
    "using MLDatasets           # mnist\n",
    "using PreprocessingImages; pim = PreprocessingImages\n",
    "\n",
    "using MLDataUtils          # label, nlabel, labelfreq, stratifiedobs\n",
    "using Flux                 # the julia ml library\n",
    "\n",
    "using Random"
   ]
  },
  {
   "cell_type": "code",
   "execution_count": 58,
   "id": "5545d1b2",
   "metadata": {},
   "outputs": [
    {
     "data": {
      "text/plain": [
       "df2FluxMatrix (generic function with 1 method)"
      ]
     },
     "metadata": {},
     "output_type": "display_data"
    }
   ],
   "source": [
    "include( expanduser(\"~/projects/pesquisa/libs/libml.jl\") )"
   ]
  },
  {
   "cell_type": "markdown",
   "id": "8903cf71",
   "metadata": {},
   "source": [
    "MNIST"
   ]
  },
  {
   "cell_type": "code",
   "execution_count": 59,
   "id": "4d7603a2",
   "metadata": {},
   "outputs": [],
   "source": [
    "# load mnist\n",
    "datasetX,    datasetY    = MNIST(:train)[:]\n",
    "validationX, validationY = MNIST(:test)[:];"
   ]
  },
  {
   "cell_type": "code",
   "execution_count": 60,
   "id": "2ecbb1f6",
   "metadata": {},
   "outputs": [
    {
     "data": {
      "text/plain": [
       "((28, 28, 42001), (28, 28, 17999), (28, 28, 10000))"
      ]
     },
     "metadata": {},
     "output_type": "display_data"
    }
   ],
   "source": [
    "# split trainset, testset from dataset\n",
    "Random.seed!(1)\n",
    "(trainX, trainY), (testX, testY) = MLDataUtils.stratifiedobs((datasetX, datasetY), p = 0.7)\n",
    "size(trainX), size(testX), size(validationX)"
   ]
  },
  {
   "cell_type": "markdown",
   "id": "b8b9c3b0",
   "metadata": {},
   "source": [
    "Preprocessing\n",
    "\n",
    "Flux primarily works with matrices and vectors"
   ]
  },
  {
   "cell_type": "code",
   "execution_count": 61,
   "id": "f76c815d",
   "metadata": {},
   "outputs": [
    {
     "data": {
      "text/plain": [
       "(784, 42001, Matrix{Float32}, (784, 42001), (10, 42001))"
      ]
     },
     "metadata": {},
     "output_type": "display_data"
    }
   ],
   "source": [
    "function preprocess(X, y)\n",
    "    Xs = permutedims(X, (2, 1, 3))\n",
    "    Xs = Xs |> Flux.flatten\n",
    "    \n",
    "    ys = Flux.onehotbatch( Float32.(y), 0:9 )\n",
    "    \n",
    "    return (Xs, ys)\n",
    "end\n",
    "\n",
    "h, v, N = size(trainX); d = h * v\n",
    "X_c, y_c = preprocess(trainX, trainY)\n",
    "d, N, typeof(X_c), size(X_c), size(y_c)"
   ]
  },
  {
   "cell_type": "markdown",
   "id": "b9f2d81e",
   "metadata": {},
   "source": [
    "Model"
   ]
  },
  {
   "cell_type": "code",
   "execution_count": 62,
   "id": "4d606cd7",
   "metadata": {},
   "outputs": [
    {
     "data": {
      "text/plain": [
       "(CuArray{Float32, 2, CUDA.Mem.DeviceBuffer}, (784, 42001), (10, 42001))"
      ]
     },
     "metadata": {},
     "output_type": "display_data"
    }
   ],
   "source": [
    "# data on gpu\n",
    "X_g = X_c |> gpu\n",
    "y_g = y_c |> gpu\n",
    "typeof(X_g), size(X_g), size(y_g)"
   ]
  },
  {
   "cell_type": "code",
   "execution_count": 63,
   "id": "ab500493",
   "metadata": {},
   "outputs": [
    {
     "data": {
      "text/plain": [
       "Chain(\n",
       "  Dense(784 => 128, relu),              \u001b[90m# 100_480 parameters\u001b[39m\n",
       "  Dense(128 => 32, relu),               \u001b[90m# 4_128 parameters\u001b[39m\n",
       "  Dense(32 => 10),                      \u001b[90m# 330 parameters\u001b[39m\n",
       "  NNlib.softmax,\n",
       ") \u001b[90m                  # Total: 6 arrays, \u001b[39m104_938 parameters, 856 bytes."
      ]
     },
     "metadata": {},
     "output_type": "display_data"
    }
   ],
   "source": [
    "# model configuration\n",
    "nInputs  = d\n",
    "nOutputs = 10\n",
    "\n",
    "# Flux.Dense(nInputs, 256, tanh)\n",
    "model = Chain( Dense(nInputs => 128, relu),\n",
    "               Dense(128     => 32,  relu),\n",
    "               Dense(32      => nOutputs),\n",
    "               softmax)      |> gpu           # weights on gpu"
   ]
  },
  {
   "cell_type": "code",
   "execution_count": 64,
   "id": "eb1374e8",
   "metadata": {},
   "outputs": [],
   "source": [
    "lossFunction(X, y) = Flux.mse( model(X), y )\n",
    "modelParameters    = Flux.params(model)\n",
    "dataset            = Flux.DataLoader((X_g, y_g), batchsize=32)       # batchsize=1 => SGD, batch size > 1 => batch gradient descent\n",
    "modelOptimizer     = Flux.Descent()\n",
    "callBack           = Flux.throttle(() -> println(\".\"), 10);   # print every 10s"
   ]
  },
  {
   "cell_type": "markdown",
   "id": "ea26fddb",
   "metadata": {},
   "source": [
    "Training"
   ]
  },
  {
   "cell_type": "code",
   "execution_count": 65,
   "id": "467e2940",
   "metadata": {},
   "outputs": [
    {
     "data": {
      "text/plain": [
       "5"
      ]
     },
     "metadata": {},
     "output_type": "display_data"
    }
   ],
   "source": [
    "numberOfEpochs = 5"
   ]
  },
  {
   "cell_type": "markdown",
   "id": "04cc04da",
   "metadata": {},
   "source": [
    "Training method without plotting epochs"
   ]
  },
  {
   "cell_type": "code",
   "execution_count": 66,
   "id": "be1e8ca6",
   "metadata": {},
   "outputs": [],
   "source": [
    "# # https://fluxml.ai/Flux.jl/stable/training/training/\n",
    "\n",
    "# # preferred for multiple epochs\n",
    "# epochs = 1:numberOfEpochs\n",
    "# for epoch in epochs\n",
    "#     Flux.train!(lossFunction, modelParameters, data, modelOptimizer; cb=callBack)\n",
    "# end"
   ]
  },
  {
   "cell_type": "markdown",
   "id": "1f8a4dbe",
   "metadata": {},
   "source": [
    "Training epoch with plotting, with the aid of homemade function trainModel!"
   ]
  },
  {
   "cell_type": "code",
   "execution_count": 67,
   "id": "38bb5cc2",
   "metadata": {},
   "outputs": [
    {
     "name": "stdout",
     "output_type": "stream",
     "text": [
      "."
     ]
    },
    {
     "name": "stdout",
     "output_type": "stream",
     "text": [
      "."
     ]
    },
    {
     "name": "stdout",
     "output_type": "stream",
     "text": [
      "."
     ]
    },
    {
     "name": "stdout",
     "output_type": "stream",
     "text": [
      ".."
     ]
    }
   ],
   "source": [
    "# https://fluxml.ai/Flux.jl/stable/training/training/\n",
    "\n",
    "epochs     = 1 : numberOfEpochs\n",
    "lossVector = Vector{Float64}()\n",
    "minLoss    = 1e-6   # hint: start at 1e-2, then go lower for more epochs (5e-4)\n",
    "nearZero   = minLoss / 25\n",
    "\n",
    "for epoch in epochs\n",
    "    # train epoch\n",
    "    loss = trainModel!( lossFunction, modelParameters, dataset, modelOptimizer )   # libml\n",
    "    push!(lossVector, loss)\n",
    "    print(\".\")   # \"epoch completed\" indicator\n",
    "\n",
    "    # exit criteria\n",
    "    if stopTrainingCriteria(lossVector, minLoss, nearZero)   break   end\n",
    "end"
   ]
  },
  {
   "cell_type": "code",
   "execution_count": 68,
   "id": "ac0ae32d",
   "metadata": {},
   "outputs": [
    {
     "data": {
      "image/png": "[encoded data removed]",
      "image/svg+xml": "<?xml version=\"1.0\" encoding=\"utf-8\"?>\n<svg xmlns=\"http://www.w3.org/2000/svg\" xmlns:xlink=\"http://www.w3.org/1999/xlink\" width=\"500\" height=\"300\" viewBox=\"0 0 2000 1200\">\n<defs>\n  <clipPath id=\"clip550\">\n    <rect x=\"0\" y=\"0\" width=\"2000\" height=\"1200\"/>\n  </clipPath>\n</defs>\n<path clip-path=\"url(#clip550)\" d=\"\nM0 1200 L2000 1200 L2000 0 L0 0  Z\n  \" fill=\"#ffffff\" fill-rule=\"evenodd\" fill-opacity=\"1\"/>\n<defs>\n  <clipPath id=\"clip551\">\n    <rect x=\"400\" y=\"0\" width=\"1401\" height=\"1200\"/>\n  </clipPath>\n</defs>\n<path clip-path=\"url(#clip550)\" d=\"\nM246.358 1035.39 L1952.76 1035.39 L1952.76 117.424 L246.358 117.424  Z\n  \" fill=\"#ffffff\" fill-rule=\"evenodd\" fill-opacity=\"1\"/>\n<defs>\n  <clipPath id=\"clip552\">\n    <rect x=\"246\" y=\"117\" width=\"1707\" height=\"919\"/>\n  </clipPath>\n</defs>\n<polyline clip-path=\"url(#clip552)\" style=\"stroke:#000000; stroke-linecap:butt; stroke-linejoin:round; stroke-width:2; stroke-opacity:0.1; fill:none\" points=\"\n  294.652,1035.39 294.652,117.424 \n  \"/>\n<polyline clip-path=\"url(#clip552)\" style=\"stroke:#000000; stroke-linecap:butt; stroke-linejoin:round; stroke-width:2; stroke-opacity:0.1; fill:none\" points=\"\n  697.105,1035.39 697.105,117.424 \n  \"/>\n<polyline clip-path=\"url(#clip552)\" style=\"stroke:#000000; stroke-linecap:butt; stroke-linejoin:round; stroke-width:2; stroke-opacity:0.1; fill:none\" points=\"\n  1099.56,1035.39 1099.56,117.424 \n  \"/>\n<polyline clip-path=\"url(#clip552)\" style=\"stroke:#000000; stroke-linecap:butt; stroke-linejoin:round; stroke-width:2; stroke-opacity:0.1; fill:none\" points=\"\n  1502.01,1035.39 1502.01,117.424 \n  \"/>\n<polyline clip-path=\"url(#clip552)\" style=\"stroke:#000000; stroke-linecap:butt; stroke-linejoin:round; stroke-width:2; stroke-opacity:0.1; fill:none\" points=\"\n  1904.46,1035.39 1904.46,117.424 \n  \"/>\n<polyline clip-path=\"url(#clip550)\" style=\"stroke:#000000; stroke-linecap:butt; stroke-linejoin:round; stroke-width:4; stroke-opacity:1; fill:none\" points=\"\n  246.358,1035.39 1952.76,1035.39 \n  \"/>\n<polyline clip-path=\"url(#clip550)\" style=\"stroke:#000000; stroke-linecap:butt; stroke-linejoin:round; stroke-width:4; stroke-opacity:1; fill:none\" points=\"\n  294.652,1035.39 294.652,1016.49 \n  \"/>\n<polyline clip-path=\"url(#clip550)\" style=\"stroke:#000000; stroke-linecap:butt; stroke-linejoin:round; stroke-width:4; stroke-opacity:1; fill:none\" points=\"\n  697.105,1035.39 697.105,1016.49 \n  \"/>\n<polyline clip-path=\"url(#clip550)\" style=\"stroke:#000000; stroke-linecap:butt; stroke-linejoin:round; stroke-width:4; stroke-opacity:1; fill:none\" points=\"\n  1099.56,1035.39 1099.56,1016.49 \n  \"/>\n<polyline clip-path=\"url(#clip550)\" style=\"stroke:#000000; stroke-linecap:butt; stroke-linejoin:round; stroke-width:4; stroke-opacity:1; fill:none\" points=\"\n  1502.01,1035.39 1502.01,1016.49 \n  \"/>\n<polyline clip-path=\"url(#clip550)\" style=\"stroke:#000000; stroke-linecap:butt; stroke-linejoin:round; stroke-width:4; stroke-opacity:1; fill:none\" points=\"\n  1904.46,1035.39 1904.46,1016.49 \n  \"/>\n<path clip-path=\"url(#clip550)\" d=\"M285.034 1090.65 L292.673 1090.65 L292.673 1064.29 L284.363 1065.95 L284.363 1061.69 L292.627 1060.03 L297.303 1060.03 L297.303 1090.65 L304.941 1090.65 L304.941 1094.59 L285.034 1094.59 L285.034 1090.65 Z\" fill=\"#000000\" fill-rule=\"evenodd\" fill-opacity=\"1\" /><path clip-path=\"url(#clip550)\" d=\"M691.757 1090.65 L708.077 1090.65 L708.077 1094.59 L686.132 1094.59 L686.132 1090.65 Q688.794 1087.9 693.378 1083.27 Q697.984 1078.62 699.165 1077.27 Q701.41 1074.75 702.29 1073.01 Q703.192 1071.25 703.192 1069.56 Q703.192 1066.81 701.248 1065.07 Q699.327 1063.34 696.225 1063.34 Q694.026 1063.34 691.572 1064.1 Q689.142 1064.87 686.364 1066.42 L686.364 1061.69 Q689.188 1060.56 691.642 1059.98 Q694.095 1059.4 696.132 1059.4 Q701.503 1059.4 704.697 1062.09 Q707.891 1064.77 707.891 1069.26 Q707.891 1071.39 707.081 1073.31 Q706.294 1075.21 704.188 1077.81 Q703.609 1078.48 700.507 1081.69 Q697.405 1084.89 691.757 1090.65 Z\" fill=\"#000000\" fill-rule=\"evenodd\" fill-opacity=\"1\" /><path clip-path=\"url(#clip550)\" d=\"M1103.8 1075.95 Q1107.16 1076.67 1109.04 1078.94 Q1110.93 1081.21 1110.93 1084.54 Q1110.93 1089.66 1107.42 1092.46 Q1103.9 1095.26 1097.42 1095.26 Q1095.24 1095.26 1092.92 1094.82 Q1090.63 1094.4 1088.18 1093.55 L1088.18 1089.03 Q1090.12 1090.17 1092.44 1090.75 Q1094.75 1091.32 1097.28 1091.32 Q1101.67 1091.32 1103.97 1089.59 Q1106.28 1087.85 1106.28 1084.54 Q1106.28 1081.49 1104.13 1079.77 Q1102 1078.04 1098.18 1078.04 L1094.15 1078.04 L1094.15 1074.19 L1098.36 1074.19 Q1101.81 1074.19 1103.64 1072.83 Q1105.47 1071.44 1105.47 1068.85 Q1105.47 1066.19 1103.57 1064.77 Q1101.7 1063.34 1098.18 1063.34 Q1096.26 1063.34 1094.06 1063.75 Q1091.86 1064.17 1089.22 1065.05 L1089.22 1060.88 Q1091.88 1060.14 1094.2 1059.77 Q1096.54 1059.4 1098.6 1059.4 Q1103.92 1059.4 1107.02 1061.83 Q1110.12 1064.24 1110.12 1068.36 Q1110.12 1071.23 1108.48 1073.22 Q1106.84 1075.19 1103.8 1075.95 Z\" fill=\"#000000\" fill-rule=\"evenodd\" fill-opacity=\"1\" /><path clip-path=\"url(#clip550)\" d=\"M1505.02 1064.1 L1493.21 1082.55 L1505.02 1082.55 L1505.02 1064.1 M1503.79 1060.03 L1509.67 1060.03 L1509.67 1082.55 L1514.6 1082.55 L1514.6 1086.44 L1509.67 1086.44 L1509.67 1094.59 L1505.02 1094.59 L1505.02 1086.44 L1489.42 1086.44 L1489.42 1081.93 L1503.79 1060.03 Z\" fill=\"#000000\" fill-rule=\"evenodd\" fill-opacity=\"1\" /><path clip-path=\"url(#clip550)\" d=\"M1894.74 1060.03 L1913.1 1060.03 L1913.1 1063.96 L1899.02 1063.96 L1899.02 1072.44 Q1900.04 1072.09 1901.06 1071.93 Q1902.08 1071.74 1903.1 1071.74 Q1908.88 1071.74 1912.26 1074.91 Q1915.64 1078.08 1915.64 1083.5 Q1915.64 1089.08 1912.17 1092.18 Q1908.7 1095.26 1902.38 1095.26 Q1900.2 1095.26 1897.93 1094.89 Q1895.69 1094.52 1893.28 1093.78 L1893.28 1089.08 Q1895.36 1090.21 1897.59 1090.77 Q1899.81 1091.32 1902.29 1091.32 Q1906.29 1091.32 1908.63 1089.22 Q1910.97 1087.11 1910.97 1083.5 Q1910.97 1079.89 1908.63 1077.78 Q1906.29 1075.68 1902.29 1075.68 Q1900.41 1075.68 1898.54 1076.09 Q1896.68 1076.51 1894.74 1077.39 L1894.74 1060.03 Z\" fill=\"#000000\" fill-rule=\"evenodd\" fill-opacity=\"1\" /><path clip-path=\"url(#clip550)\" d=\"M1019.75 1154.96 L1019.75 1157.83 L992.82 1157.83 Q993.202 1163.88 996.448 1167.06 Q999.727 1170.21 1005.55 1170.21 Q1008.93 1170.21 1012.08 1169.38 Q1015.26 1168.55 1018.38 1166.9 L1018.38 1172.44 Q1015.23 1173.77 1011.92 1174.47 Q1008.61 1175.17 1005.2 1175.17 Q996.671 1175.17 991.674 1170.21 Q986.709 1165.24 986.709 1156.78 Q986.709 1148.03 991.419 1142.9 Q996.162 1137.74 1004.18 1137.74 Q1011.38 1137.74 1015.55 1142.39 Q1019.75 1147.01 1019.75 1154.96 M1013.89 1153.25 Q1013.83 1148.44 1011.18 1145.57 Q1008.58 1142.71 1004.25 1142.71 Q999.345 1142.71 996.385 1145.48 Q993.456 1148.25 993.011 1153.28 L1013.89 1153.25 Z\" fill=\"#000000\" fill-rule=\"evenodd\" fill-opacity=\"1\" /><path clip-path=\"url(#clip550)\" d=\"M1035.02 1168.9 L1035.02 1187.81 L1029.14 1187.81 L1029.14 1138.6 L1035.02 1138.6 L1035.02 1144.01 Q1036.87 1140.83 1039.67 1139.3 Q1042.5 1137.74 1046.42 1137.74 Q1052.91 1137.74 1056.95 1142.9 Q1061.03 1148.06 1061.03 1156.46 Q1061.03 1164.86 1056.95 1170.02 Q1052.91 1175.17 1046.42 1175.17 Q1042.5 1175.17 1039.67 1173.65 Q1036.87 1172.09 1035.02 1168.9 M1054.95 1156.46 Q1054.95 1150 1052.28 1146.34 Q1049.63 1142.65 1044.99 1142.65 Q1040.34 1142.65 1037.67 1146.34 Q1035.02 1150 1035.02 1156.46 Q1035.02 1162.92 1037.67 1166.61 Q1040.34 1170.27 1044.99 1170.27 Q1049.63 1170.27 1052.28 1166.61 Q1054.95 1162.92 1054.95 1156.46 Z\" fill=\"#000000\" fill-rule=\"evenodd\" fill-opacity=\"1\" /><path clip-path=\"url(#clip550)\" d=\"M1084.55 1142.71 Q1079.84 1142.71 1077.1 1146.4 Q1074.36 1150.06 1074.36 1156.46 Q1074.36 1162.86 1077.07 1166.55 Q1079.81 1170.21 1084.55 1170.21 Q1089.23 1170.21 1091.97 1166.52 Q1094.7 1162.83 1094.7 1156.46 Q1094.7 1150.13 1091.97 1146.43 Q1089.23 1142.71 1084.55 1142.71 M1084.55 1137.74 Q1092.19 1137.74 1096.55 1142.71 Q1100.91 1147.68 1100.91 1156.46 Q1100.91 1165.21 1096.55 1170.21 Q1092.19 1175.17 1084.55 1175.17 Q1076.88 1175.17 1072.52 1170.21 Q1068.19 1165.21 1068.19 1156.46 Q1068.19 1147.68 1072.52 1142.71 Q1076.88 1137.74 1084.55 1137.74 Z\" fill=\"#000000\" fill-rule=\"evenodd\" fill-opacity=\"1\" /><path clip-path=\"url(#clip550)\" d=\"M1136.27 1139.97 L1136.27 1145.45 Q1133.79 1144.08 1131.27 1143.41 Q1128.79 1142.71 1126.25 1142.71 Q1120.55 1142.71 1117.4 1146.34 Q1114.25 1149.93 1114.25 1156.46 Q1114.25 1162.98 1117.4 1166.61 Q1120.55 1170.21 1126.25 1170.21 Q1128.79 1170.21 1131.27 1169.54 Q1133.79 1168.84 1136.27 1167.47 L1136.27 1172.88 Q1133.82 1174.03 1131.18 1174.6 Q1128.57 1175.17 1125.61 1175.17 Q1117.56 1175.17 1112.81 1170.11 Q1108.07 1165.05 1108.07 1156.46 Q1108.07 1147.74 1112.85 1142.74 Q1117.65 1137.74 1125.99 1137.74 Q1128.7 1137.74 1131.27 1138.32 Q1133.85 1138.86 1136.27 1139.97 Z\" fill=\"#000000\" fill-rule=\"evenodd\" fill-opacity=\"1\" /><path clip-path=\"url(#clip550)\" d=\"M1176.09 1152.74 L1176.09 1174.25 L1170.23 1174.25 L1170.23 1152.93 Q1170.23 1147.87 1168.26 1145.35 Q1166.29 1142.84 1162.34 1142.84 Q1157.6 1142.84 1154.86 1145.86 Q1152.12 1148.88 1152.12 1154.1 L1152.12 1174.25 L1146.23 1174.25 L1146.23 1124.73 L1152.12 1124.73 L1152.12 1144.14 Q1154.22 1140.93 1157.06 1139.34 Q1159.92 1137.74 1163.64 1137.74 Q1169.79 1137.74 1172.94 1141.56 Q1176.09 1145.35 1176.09 1152.74 Z\" fill=\"#000000\" fill-rule=\"evenodd\" fill-opacity=\"1\" /><path clip-path=\"url(#clip550)\" d=\"M1210.5 1139.65 L1210.5 1145.19 Q1208.01 1143.92 1205.34 1143.28 Q1202.67 1142.65 1199.8 1142.65 Q1195.44 1142.65 1193.24 1143.98 Q1191.08 1145.32 1191.08 1147.99 Q1191.08 1150.03 1192.64 1151.21 Q1194.2 1152.35 1198.91 1153.4 L1200.91 1153.85 Q1207.15 1155.19 1209.76 1157.64 Q1212.4 1160.06 1212.4 1164.42 Q1212.4 1169.38 1208.46 1172.28 Q1204.54 1175.17 1197.67 1175.17 Q1194.8 1175.17 1191.68 1174.6 Q1188.6 1174.06 1185.16 1172.95 L1185.16 1166.9 Q1188.41 1168.59 1191.56 1169.45 Q1194.71 1170.27 1197.8 1170.27 Q1201.93 1170.27 1204.16 1168.87 Q1206.39 1167.44 1206.39 1164.86 Q1206.39 1162.48 1204.77 1161.2 Q1203.17 1159.93 1197.73 1158.75 L1195.69 1158.27 Q1190.25 1157.13 1187.83 1154.77 Q1185.41 1152.39 1185.41 1148.25 Q1185.41 1143.22 1188.98 1140.48 Q1192.54 1137.74 1199.1 1137.74 Q1202.35 1137.74 1205.21 1138.22 Q1208.08 1138.7 1210.5 1139.65 Z\" fill=\"#000000\" fill-rule=\"evenodd\" fill-opacity=\"1\" /><polyline clip-path=\"url(#clip552)\" style=\"stroke:#000000; stroke-linecap:butt; stroke-linejoin:round; stroke-width:2; stroke-opacity:0.1; fill:none\" points=\"\n  246.358,830.853 1952.76,830.853 \n  \"/>\n<polyline clip-path=\"url(#clip552)\" style=\"stroke:#000000; stroke-linecap:butt; stroke-linejoin:round; stroke-width:2; stroke-opacity:0.1; fill:none\" points=\"\n  246.358,511.618 1952.76,511.618 \n  \"/>\n<polyline clip-path=\"url(#clip552)\" style=\"stroke:#000000; stroke-linecap:butt; stroke-linejoin:round; stroke-width:2; stroke-opacity:0.1; fill:none\" points=\"\n  246.358,192.382 1952.76,192.382 \n  \"/>\n<polyline clip-path=\"url(#clip550)\" style=\"stroke:#000000; stroke-linecap:butt; stroke-linejoin:round; stroke-width:4; stroke-opacity:1; fill:none\" points=\"\n  246.358,1035.39 246.358,117.424 \n  \"/>\n<polyline clip-path=\"url(#clip550)\" style=\"stroke:#000000; stroke-linecap:butt; stroke-linejoin:round; stroke-width:4; stroke-opacity:1; fill:none\" points=\"\n  246.358,830.853 265.255,830.853 \n  \"/>\n<polyline clip-path=\"url(#clip550)\" style=\"stroke:#000000; stroke-linecap:butt; stroke-linejoin:round; stroke-width:4; stroke-opacity:1; fill:none\" points=\"\n  246.358,511.618 265.255,511.618 \n  \"/>\n<polyline clip-path=\"url(#clip550)\" style=\"stroke:#000000; stroke-linecap:butt; stroke-linejoin:round; stroke-width:4; stroke-opacity:1; fill:none\" points=\"\n  246.358,192.382 265.255,192.382 \n  \"/>\n<path clip-path=\"url(#clip550)\" d=\"M54.4722 850.646 L62.111 850.646 L62.111 824.28 L53.8009 825.947 L53.8009 821.688 L62.0647 820.021 L66.7406 820.021 L66.7406 850.646 L74.3795 850.646 L74.3795 854.581 L54.4722 854.581 L54.4722 850.646 Z\" fill=\"#000000\" fill-rule=\"evenodd\" fill-opacity=\"1\" /><path clip-path=\"url(#clip550)\" d=\"M93.8238 823.1 Q90.2127 823.1 88.384 826.664 Q86.5785 830.206 86.5785 837.336 Q86.5785 844.442 88.384 848.007 Q90.2127 851.548 93.8238 851.548 Q97.458 851.548 99.2636 848.007 Q101.092 844.442 101.092 837.336 Q101.092 830.206 99.2636 826.664 Q97.458 823.1 93.8238 823.1 M93.8238 819.396 Q99.6339 819.396 102.689 824.002 Q105.768 828.586 105.768 837.336 Q105.768 846.062 102.689 850.669 Q99.6339 855.252 93.8238 855.252 Q88.0136 855.252 84.935 850.669 Q81.8794 846.062 81.8794 837.336 Q81.8794 828.586 84.935 824.002 Q88.0136 819.396 93.8238 819.396 Z\" fill=\"#000000\" fill-rule=\"evenodd\" fill-opacity=\"1\" /><path clip-path=\"url(#clip550)\" d=\"M105.768 813.497 L129.88 813.497 L129.88 816.695 L105.768 816.695 L105.768 813.497 Z\" fill=\"#000000\" fill-rule=\"evenodd\" fill-opacity=\"1\" /><path clip-path=\"url(#clip550)\" d=\"M138.738 823.973 L144.945 823.973 L144.945 802.551 L138.193 803.905 L138.193 800.445 L144.907 799.09 L148.706 799.09 L148.706 823.973 L154.913 823.973 L154.913 827.17 L138.738 827.17 L138.738 823.973 Z\" fill=\"#000000\" fill-rule=\"evenodd\" fill-opacity=\"1\" /><path clip-path=\"url(#clip550)\" d=\"M162.586 822.393 L166.555 822.393 L166.555 827.17 L162.586 827.17 L162.586 822.393 Z\" fill=\"#000000\" fill-rule=\"evenodd\" fill-opacity=\"1\" /><path clip-path=\"url(#clip550)\" d=\"M173.871 799.09 L191.927 799.09 L191.927 800.708 L181.733 827.17 L177.764 827.17 L187.356 802.288 L173.871 802.288 L173.871 799.09 Z\" fill=\"#000000\" fill-rule=\"evenodd\" fill-opacity=\"1\" /><path clip-path=\"url(#clip550)\" d=\"M199.374 799.09 L214.289 799.09 L214.289 802.288 L202.854 802.288 L202.854 809.171 Q203.681 808.889 204.509 808.758 Q205.337 808.607 206.164 808.607 Q210.866 808.607 213.612 811.184 Q216.358 813.761 216.358 818.162 Q216.358 822.694 213.537 825.214 Q210.716 827.716 205.581 827.716 Q203.813 827.716 201.97 827.415 Q200.146 827.114 198.19 826.512 L198.19 822.694 Q199.882 823.616 201.688 824.067 Q203.493 824.519 205.506 824.519 Q208.76 824.519 210.659 822.807 Q212.559 821.096 212.559 818.162 Q212.559 815.228 210.659 813.516 Q208.76 811.805 205.506 811.805 Q203.982 811.805 202.459 812.143 Q200.954 812.482 199.374 813.196 L199.374 799.09 Z\" fill=\"#000000\" fill-rule=\"evenodd\" fill-opacity=\"1\" /><path clip-path=\"url(#clip550)\" d=\"M53.6634 531.41 L61.3023 531.41 L61.3023 505.044 L52.9921 506.711 L52.9921 502.452 L61.256 500.785 L65.9319 500.785 L65.9319 531.41 L73.5707 531.41 L73.5707 535.345 L53.6634 535.345 L53.6634 531.41 Z\" fill=\"#000000\" fill-rule=\"evenodd\" fill-opacity=\"1\" /><path clip-path=\"url(#clip550)\" d=\"M93.0151 503.864 Q89.404 503.864 87.5753 507.429 Q85.7697 510.97 85.7697 518.1 Q85.7697 525.206 87.5753 528.771 Q89.404 532.313 93.0151 532.313 Q96.6493 532.313 98.4548 528.771 Q100.284 525.206 100.284 518.1 Q100.284 510.97 98.4548 507.429 Q96.6493 503.864 93.0151 503.864 M93.0151 500.16 Q98.8252 500.16 101.881 504.767 Q104.959 509.35 104.959 518.1 Q104.959 526.827 101.881 531.433 Q98.8252 536.016 93.0151 536.016 Q87.2049 536.016 84.1262 531.433 Q81.0707 526.827 81.0707 518.1 Q81.0707 509.35 84.1262 504.767 Q87.2049 500.16 93.0151 500.16 Z\" fill=\"#000000\" fill-rule=\"evenodd\" fill-opacity=\"1\" /><path clip-path=\"url(#clip550)\" d=\"M104.959 494.262 L129.071 494.262 L129.071 497.459 L104.959 497.459 L104.959 494.262 Z\" fill=\"#000000\" fill-rule=\"evenodd\" fill-opacity=\"1\" /><path clip-path=\"url(#clip550)\" d=\"M137.929 504.737 L144.136 504.737 L144.136 483.315 L137.384 484.67 L137.384 481.209 L144.098 479.855 L147.898 479.855 L147.898 504.737 L154.104 504.737 L154.104 507.935 L137.929 507.935 L137.929 504.737 Z\" fill=\"#000000\" fill-rule=\"evenodd\" fill-opacity=\"1\" /><path clip-path=\"url(#clip550)\" d=\"M161.778 503.158 L165.746 503.158 L165.746 507.935 L161.778 507.935 L161.778 503.158 Z\" fill=\"#000000\" fill-rule=\"evenodd\" fill-opacity=\"1\" /><path clip-path=\"url(#clip550)\" d=\"M174.059 479.855 L188.974 479.855 L188.974 483.052 L177.539 483.052 L177.539 489.936 Q178.366 489.654 179.194 489.522 Q180.021 489.372 180.849 489.372 Q185.551 489.372 188.297 491.948 Q191.043 494.525 191.043 498.926 Q191.043 503.459 188.221 505.979 Q185.4 508.48 180.266 508.48 Q178.498 508.48 176.655 508.179 Q174.83 507.878 172.874 507.276 L172.874 503.459 Q174.567 504.38 176.373 504.831 Q178.178 505.283 180.191 505.283 Q183.444 505.283 185.344 503.571 Q187.243 501.86 187.243 498.926 Q187.243 495.992 185.344 494.28 Q183.444 492.569 180.191 492.569 Q178.667 492.569 177.144 492.907 Q175.639 493.246 174.059 493.961 L174.059 479.855 Z\" fill=\"#000000\" fill-rule=\"evenodd\" fill-opacity=\"1\" /><path clip-path=\"url(#clip550)\" d=\"M206.653 482.356 Q203.719 482.356 202.233 485.253 Q200.766 488.13 200.766 493.923 Q200.766 499.697 202.233 502.593 Q203.719 505.471 206.653 505.471 Q209.606 505.471 211.073 502.593 Q212.559 499.697 212.559 493.923 Q212.559 488.13 211.073 485.253 Q209.606 482.356 206.653 482.356 M206.653 479.347 Q211.374 479.347 213.856 483.09 Q216.358 486.814 216.358 493.923 Q216.358 501.014 213.856 504.756 Q211.374 508.48 206.653 508.48 Q201.932 508.48 199.431 504.756 Q196.948 501.014 196.948 493.923 Q196.948 486.814 199.431 483.09 Q201.932 479.347 206.653 479.347 Z\" fill=\"#000000\" fill-rule=\"evenodd\" fill-opacity=\"1\" /><path clip-path=\"url(#clip550)\" d=\"M54.4722 212.174 L62.111 212.174 L62.111 185.809 L53.8009 187.475 L53.8009 183.216 L62.0647 181.549 L66.7406 181.549 L66.7406 212.174 L74.3795 212.174 L74.3795 216.109 L54.4722 216.109 L54.4722 212.174 Z\" fill=\"#000000\" fill-rule=\"evenodd\" fill-opacity=\"1\" /><path clip-path=\"url(#clip550)\" d=\"M93.8238 184.628 Q90.2127 184.628 88.384 188.193 Q86.5785 191.735 86.5785 198.864 Q86.5785 205.971 88.384 209.535 Q90.2127 213.077 93.8238 213.077 Q97.458 213.077 99.2636 209.535 Q101.092 205.971 101.092 198.864 Q101.092 191.735 99.2636 188.193 Q97.458 184.628 93.8238 184.628 M93.8238 180.924 Q99.6339 180.924 102.689 185.531 Q105.768 190.114 105.768 198.864 Q105.768 207.591 102.689 212.197 Q99.6339 216.781 93.8238 216.781 Q88.0136 216.781 84.935 212.197 Q81.8794 207.591 81.8794 198.864 Q81.8794 190.114 84.935 185.531 Q88.0136 180.924 93.8238 180.924 Z\" fill=\"#000000\" fill-rule=\"evenodd\" fill-opacity=\"1\" /><path clip-path=\"url(#clip550)\" d=\"M105.768 175.026 L129.88 175.026 L129.88 178.223 L105.768 178.223 L105.768 175.026 Z\" fill=\"#000000\" fill-rule=\"evenodd\" fill-opacity=\"1\" /><path clip-path=\"url(#clip550)\" d=\"M138.738 185.502 L144.945 185.502 L144.945 164.08 L138.193 165.434 L138.193 161.973 L144.907 160.619 L148.706 160.619 L148.706 185.502 L154.913 185.502 L154.913 188.699 L138.738 188.699 L138.738 185.502 Z\" fill=\"#000000\" fill-rule=\"evenodd\" fill-opacity=\"1\" /><path clip-path=\"url(#clip550)\" d=\"M162.586 183.922 L166.555 183.922 L166.555 188.699 L162.586 188.699 L162.586 183.922 Z\" fill=\"#000000\" fill-rule=\"evenodd\" fill-opacity=\"1\" /><path clip-path=\"url(#clip550)\" d=\"M178.103 185.502 L191.362 185.502 L191.362 188.699 L173.533 188.699 L173.533 185.502 Q175.695 183.264 179.419 179.502 Q183.162 175.722 184.121 174.631 Q185.946 172.581 186.66 171.17 Q187.394 169.741 187.394 168.368 Q187.394 166.13 185.814 164.719 Q184.253 163.309 181.733 163.309 Q179.946 163.309 177.952 163.929 Q175.978 164.55 173.721 165.81 L173.721 161.973 Q176.015 161.052 178.009 160.581 Q180.002 160.111 181.658 160.111 Q186.021 160.111 188.616 162.293 Q191.212 164.475 191.212 168.123 Q191.212 169.854 190.554 171.415 Q189.914 172.957 188.203 175.063 Q187.732 175.609 185.212 178.223 Q182.692 180.819 178.103 185.502 Z\" fill=\"#000000\" fill-rule=\"evenodd\" fill-opacity=\"1\" /><path clip-path=\"url(#clip550)\" d=\"M199.374 160.619 L214.289 160.619 L214.289 163.816 L202.854 163.816 L202.854 170.7 Q203.681 170.418 204.509 170.286 Q205.337 170.136 206.164 170.136 Q210.866 170.136 213.612 172.712 Q216.358 175.289 216.358 179.69 Q216.358 184.223 213.537 186.743 Q210.716 189.244 205.581 189.244 Q203.813 189.244 201.97 188.944 Q200.146 188.643 198.19 188.041 L198.19 184.223 Q199.882 185.144 201.688 185.596 Q203.493 186.047 205.506 186.047 Q208.76 186.047 210.659 184.336 Q212.559 182.624 212.559 179.69 Q212.559 176.756 210.659 175.045 Q208.76 173.333 205.506 173.333 Q203.982 173.333 202.459 173.672 Q200.954 174.01 199.374 174.725 L199.374 160.619 Z\" fill=\"#000000\" fill-rule=\"evenodd\" fill-opacity=\"1\" /><path clip-path=\"url(#clip550)\" d=\"M833.534 12.096 L841.717 12.096 L841.717 65.6895 L871.167 65.6895 L871.167 72.576 L833.534 72.576 L833.534 12.096 Z\" fill=\"#000000\" fill-rule=\"evenodd\" fill-opacity=\"1\" /><path clip-path=\"url(#clip550)\" d=\"M895.553 32.4315 Q889.558 32.4315 886.074 37.1306 Q882.59 41.7891 882.59 49.9314 Q882.59 58.0738 886.034 62.7728 Q889.517 67.4314 895.553 67.4314 Q901.508 67.4314 904.992 62.7323 Q908.476 58.0333 908.476 49.9314 Q908.476 41.8701 904.992 37.1711 Q901.508 32.4315 895.553 32.4315 M895.553 26.1121 Q905.276 26.1121 910.825 32.4315 Q916.375 38.7509 916.375 49.9314 Q916.375 61.0714 910.825 67.4314 Q905.276 73.7508 895.553 73.7508 Q885.791 73.7508 880.241 67.4314 Q874.732 61.0714 874.732 49.9314 Q874.732 38.7509 880.241 32.4315 Q885.791 26.1121 895.553 26.1121 Z\" fill=\"#000000\" fill-rule=\"evenodd\" fill-opacity=\"1\" /><path clip-path=\"url(#clip550)\" d=\"M957.654 28.5427 L957.654 35.5912 Q954.494 33.9709 951.091 33.1607 Q947.688 32.3505 944.043 32.3505 Q938.493 32.3505 935.698 34.0519 Q932.943 35.7533 932.943 39.156 Q932.943 41.7486 934.928 43.2475 Q936.913 44.7058 942.908 46.0426 L945.46 46.6097 Q953.4 48.3111 956.722 51.4303 Q960.084 54.509 960.084 60.0587 Q960.084 66.3781 955.061 70.0644 Q950.079 73.7508 941.329 73.7508 Q937.683 73.7508 933.713 73.0216 Q929.783 72.3329 925.409 70.9151 L925.409 63.2184 Q929.54 65.3654 933.551 66.4591 Q937.561 67.5124 941.491 67.5124 Q946.757 67.5124 949.592 65.73 Q952.428 63.9071 952.428 60.6258 Q952.428 57.5877 950.362 55.9673 Q948.337 54.3469 941.41 52.8481 L938.817 52.2405 Q931.89 50.7821 928.811 47.7845 Q925.733 44.7463 925.733 39.4801 Q925.733 33.0797 930.27 29.5959 Q934.807 26.1121 943.151 26.1121 Q947.283 26.1121 950.929 26.7198 Q954.575 27.3274 957.654 28.5427 Z\" fill=\"#000000\" fill-rule=\"evenodd\" fill-opacity=\"1\" /><path clip-path=\"url(#clip550)\" d=\"M1000.88 28.5427 L1000.88 35.5912 Q997.717 33.9709 994.314 33.1607 Q990.912 32.3505 987.266 32.3505 Q981.716 32.3505 978.921 34.0519 Q976.166 35.7533 976.166 39.156 Q976.166 41.7486 978.151 43.2475 Q980.136 44.7058 986.132 46.0426 L988.684 46.6097 Q996.623 48.3111 999.945 51.4303 Q1003.31 54.509 1003.31 60.0587 Q1003.31 66.3781 998.284 70.0644 Q993.302 73.7508 984.552 73.7508 Q980.906 73.7508 976.936 73.0216 Q973.007 72.3329 968.632 70.9151 L968.632 63.2184 Q972.764 65.3654 976.774 66.4591 Q980.784 67.5124 984.714 67.5124 Q989.98 67.5124 992.816 65.73 Q995.651 63.9071 995.651 60.6258 Q995.651 57.5877 993.585 55.9673 Q991.56 54.3469 984.633 52.8481 L982.04 52.2405 Q975.113 50.7821 972.034 47.7845 Q968.956 44.7463 968.956 39.4801 Q968.956 33.0797 973.493 29.5959 Q978.03 26.1121 986.375 26.1121 Q990.507 26.1121 994.152 26.7198 Q997.798 27.3274 1000.88 28.5427 Z\" fill=\"#000000\" fill-rule=\"evenodd\" fill-opacity=\"1\" /><path clip-path=\"url(#clip550)\" d=\"M1064.52 9.54393 L1064.52 15.7418 L1057.39 15.7418 Q1053.38 15.7418 1051.8 17.3622 Q1050.26 18.9825 1050.26 23.1955 L1050.26 27.2059 L1062.53 27.2059 L1062.53 32.9987 L1050.26 32.9987 L1050.26 72.576 L1042.76 72.576 L1042.76 32.9987 L1035.63 32.9987 L1035.63 27.2059 L1042.76 27.2059 L1042.76 24.0462 Q1042.76 16.471 1046.29 13.0277 Q1049.81 9.54393 1057.47 9.54393 L1064.52 9.54393 Z\" fill=\"#000000\" fill-rule=\"evenodd\" fill-opacity=\"1\" /><path clip-path=\"url(#clip550)\" d=\"M1069.99 54.671 L1069.99 27.2059 L1077.44 27.2059 L1077.44 54.3874 Q1077.44 60.8284 1079.95 64.0691 Q1082.46 67.2693 1087.49 67.2693 Q1093.52 67.2693 1097 63.421 Q1100.53 59.5726 1100.53 52.9291 L1100.53 27.2059 L1107.98 27.2059 L1107.98 72.576 L1100.53 72.576 L1100.53 65.6084 Q1097.81 69.7404 1094.21 71.7658 Q1090.64 73.7508 1085.91 73.7508 Q1078.09 73.7508 1074.04 68.8897 Q1069.99 64.0286 1069.99 54.671 M1088.74 26.1121 L1088.74 26.1121 Z\" fill=\"#000000\" fill-rule=\"evenodd\" fill-opacity=\"1\" /><path clip-path=\"url(#clip550)\" d=\"M1161.05 45.1919 L1161.05 72.576 L1153.6 72.576 L1153.6 45.4349 Q1153.6 38.994 1151.08 35.7938 Q1148.57 32.5936 1143.55 32.5936 Q1137.51 32.5936 1134.03 36.4419 Q1130.55 40.2903 1130.55 46.9338 L1130.55 72.576 L1123.05 72.576 L1123.05 27.2059 L1130.55 27.2059 L1130.55 34.2544 Q1133.22 30.163 1136.83 28.1376 Q1140.47 26.1121 1145.21 26.1121 Q1153.03 26.1121 1157.04 30.9732 Q1161.05 35.7938 1161.05 45.1919 Z\" fill=\"#000000\" fill-rule=\"evenodd\" fill-opacity=\"1\" /><path clip-path=\"url(#clip550)\" d=\"M1208.57 28.9478 L1208.57 35.9153 Q1205.41 34.1734 1202.21 33.3227 Q1199.05 32.4315 1195.81 32.4315 Q1188.56 32.4315 1184.54 37.0496 Q1180.53 41.6271 1180.53 49.9314 Q1180.53 58.2358 1184.54 62.8538 Q1188.56 67.4314 1195.81 67.4314 Q1199.05 67.4314 1202.21 66.5807 Q1205.41 65.6895 1208.57 63.9476 L1208.57 70.8341 Q1205.45 72.2924 1202.09 73.0216 Q1198.76 73.7508 1195 73.7508 Q1184.75 73.7508 1178.71 67.3098 Q1172.68 60.8689 1172.68 49.9314 Q1172.68 38.832 1178.75 32.472 Q1184.87 26.1121 1195.48 26.1121 Q1198.93 26.1121 1202.21 26.8413 Q1205.49 27.5299 1208.57 28.9478 Z\" fill=\"#000000\" fill-rule=\"evenodd\" fill-opacity=\"1\" /><path clip-path=\"url(#clip550)\" d=\"M1228.9 14.324 L1228.9 27.2059 L1244.26 27.2059 L1244.26 32.9987 L1228.9 32.9987 L1228.9 57.6282 Q1228.9 63.1779 1230.4 64.7578 Q1231.94 66.3376 1236.6 66.3376 L1244.26 66.3376 L1244.26 72.576 L1236.6 72.576 Q1227.97 72.576 1224.69 69.3758 Q1221.41 66.1351 1221.41 57.6282 L1221.41 32.9987 L1215.94 32.9987 L1215.94 27.2059 L1221.41 27.2059 L1221.41 14.324 L1228.9 14.324 Z\" fill=\"#000000\" fill-rule=\"evenodd\" fill-opacity=\"1\" /><path clip-path=\"url(#clip550)\" d=\"M1254.06 27.2059 L1261.51 27.2059 L1261.51 72.576 L1254.06 72.576 L1254.06 27.2059 M1254.06 9.54393 L1261.51 9.54393 L1261.51 18.9825 L1254.06 18.9825 L1254.06 9.54393 Z\" fill=\"#000000\" fill-rule=\"evenodd\" fill-opacity=\"1\" /><path clip-path=\"url(#clip550)\" d=\"M1294.69 32.4315 Q1288.69 32.4315 1285.21 37.1306 Q1281.73 41.7891 1281.73 49.9314 Q1281.73 58.0738 1285.17 62.7728 Q1288.65 67.4314 1294.69 67.4314 Q1300.64 67.4314 1304.13 62.7323 Q1307.61 58.0333 1307.61 49.9314 Q1307.61 41.8701 1304.13 37.1711 Q1300.64 32.4315 1294.69 32.4315 M1294.69 26.1121 Q1304.41 26.1121 1309.96 32.4315 Q1315.51 38.7509 1315.51 49.9314 Q1315.51 61.0714 1309.96 67.4314 Q1304.41 73.7508 1294.69 73.7508 Q1284.93 73.7508 1279.38 67.4314 Q1273.87 61.0714 1273.87 49.9314 Q1273.87 38.7509 1279.38 32.4315 Q1284.93 26.1121 1294.69 26.1121 Z\" fill=\"#000000\" fill-rule=\"evenodd\" fill-opacity=\"1\" /><path clip-path=\"url(#clip550)\" d=\"M1365.58 45.1919 L1365.58 72.576 L1358.13 72.576 L1358.13 45.4349 Q1358.13 38.994 1355.61 35.7938 Q1353.1 32.5936 1348.08 32.5936 Q1342.04 32.5936 1338.56 36.4419 Q1335.08 40.2903 1335.08 46.9338 L1335.08 72.576 L1327.58 72.576 L1327.58 27.2059 L1335.08 27.2059 L1335.08 34.2544 Q1337.75 30.163 1341.36 28.1376 Q1345 26.1121 1349.74 26.1121 Q1357.56 26.1121 1361.57 30.9732 Q1365.58 35.7938 1365.58 45.1919 Z\" fill=\"#000000\" fill-rule=\"evenodd\" fill-opacity=\"1\" /><polyline clip-path=\"url(#clip552)\" style=\"stroke:#009af9; stroke-linecap:butt; stroke-linejoin:round; stroke-width:8; stroke-opacity:1; fill:none\" points=\"\n  294.652,143.404 697.105,686.335 1099.56,870.968 1502.01,953.896 1904.46,1009.41 \n  \"/>\n</svg>\n",
      "text/html": [
       "<?xml version=\"1.0\" encoding=\"utf-8\"?>\n",
       "<svg xmlns=\"http://www.w3.org/2000/svg\" xmlns:xlink=\"http://www.w3.org/1999/xlink\" width=\"500\" height=\"300\" viewBox=\"0 0 2000 1200\">\n",
       "<defs>\n",
       "  <clipPath id=\"clip600\">\n",
       "    <rect x=\"0\" y=\"0\" width=\"2000\" height=\"1200\"/>\n",
       "  </clipPath>\n",
       "</defs>\n",
       "<path clip-path=\"url(#clip600)\" d=\"\n",
       "M0 1200 L2000 1200 L2000 0 L0 0  Z\n",
       "  \" fill=\"#ffffff\" fill-rule=\"evenodd\" fill-opacity=\"1\"/>\n",
       "<defs>\n",
       "  <clipPath id=\"clip601\">\n",
       "    <rect x=\"400\" y=\"0\" width=\"1401\" height=\"1200\"/>\n",
       "  </clipPath>\n",
       "</defs>\n",
       "<path clip-path=\"url(#clip600)\" d=\"\n",
       "M246.358 1035.39 L1952.76 1035.39 L1952.76 117.424 L246.358 117.424  Z\n",
       "  \" fill=\"#ffffff\" fill-rule=\"evenodd\" fill-opacity=\"1\"/>\n",
       "<defs>\n",
       "  <clipPath id=\"clip602\">\n",
       "    <rect x=\"246\" y=\"117\" width=\"1707\" height=\"919\"/>\n",
       "  </clipPath>\n",
       "</defs>\n",
       "<polyline clip-path=\"url(#clip602)\" style=\"stroke:#000000; stroke-linecap:butt; stroke-linejoin:round; stroke-width:2; stroke-opacity:0.1; fill:none\" points=\"\n",
       "  294.652,1035.39 294.652,117.424 \n",
       "  \"/>\n",
       "<polyline clip-path=\"url(#clip602)\" style=\"stroke:#000000; stroke-linecap:butt; stroke-linejoin:round; stroke-width:2; stroke-opacity:0.1; fill:none\" points=\"\n",
       "  697.105,1035.39 697.105,117.424 \n",
       "  \"/>\n",
       "<polyline clip-path=\"url(#clip602)\" style=\"stroke:#000000; stroke-linecap:butt; stroke-linejoin:round; stroke-width:2; stroke-opacity:0.1; fill:none\" points=\"\n",
       "  1099.56,1035.39 1099.56,117.424 \n",
       "  \"/>\n",
       "<polyline clip-path=\"url(#clip602)\" style=\"stroke:#000000; stroke-linecap:butt; stroke-linejoin:round; stroke-width:2; stroke-opacity:0.1; fill:none\" points=\"\n",
       "  1502.01,1035.39 1502.01,117.424 \n",
       "  \"/>\n",
       "<polyline clip-path=\"url(#clip602)\" style=\"stroke:#000000; stroke-linecap:butt; stroke-linejoin:round; stroke-width:2; stroke-opacity:0.1; fill:none\" points=\"\n",
       "  1904.46,1035.39 1904.46,117.424 \n",
       "  \"/>\n",
       "<polyline clip-path=\"url(#clip600)\" style=\"stroke:#000000; stroke-linecap:butt; stroke-linejoin:round; stroke-width:4; stroke-opacity:1; fill:none\" points=\"\n",
       "  246.358,1035.39 1952.76,1035.39 \n",
       "  \"/>\n",
       "<polyline clip-path=\"url(#clip600)\" style=\"stroke:#000000; stroke-linecap:butt; stroke-linejoin:round; stroke-width:4; stroke-opacity:1; fill:none\" points=\"\n",
       "  294.652,1035.39 294.652,1016.49 \n",
       "  \"/>\n",
       "<polyline clip-path=\"url(#clip600)\" style=\"stroke:#000000; stroke-linecap:butt; stroke-linejoin:round; stroke-width:4; stroke-opacity:1; fill:none\" points=\"\n",
       "  697.105,1035.39 697.105,1016.49 \n",
       "  \"/>\n",
       "<polyline clip-path=\"url(#clip600)\" style=\"stroke:#000000; stroke-linecap:butt; stroke-linejoin:round; stroke-width:4; stroke-opacity:1; fill:none\" points=\"\n",
       "  1099.56,1035.39 1099.56,1016.49 \n",
       "  \"/>\n",
       "<polyline clip-path=\"url(#clip600)\" style=\"stroke:#000000; stroke-linecap:butt; stroke-linejoin:round; stroke-width:4; stroke-opacity:1; fill:none\" points=\"\n",
       "  1502.01,1035.39 1502.01,1016.49 \n",
       "  \"/>\n",
       "<polyline clip-path=\"url(#clip600)\" style=\"stroke:#000000; stroke-linecap:butt; stroke-linejoin:round; stroke-width:4; stroke-opacity:1; fill:none\" points=\"\n",
       "  1904.46,1035.39 1904.46,1016.49 \n",
       "  \"/>\n",
       "<path clip-path=\"url(#clip600)\" d=\"M285.034 1090.65 L292.673 1090.65 L292.673 1064.29 L284.363 1065.95 L284.363 1061.69 L292.627 1060.03 L297.303 1060.03 L297.303 1090.65 L304.941 1090.65 L304.941 1094.59 L285.034 1094.59 L285.034 1090.65 Z\" fill=\"#000000\" fill-rule=\"evenodd\" fill-opacity=\"1\" /><path clip-path=\"url(#clip600)\" d=\"M691.757 1090.65 L708.077 1090.65 L708.077 1094.59 L686.132 1094.59 L686.132 1090.65 Q688.794 1087.9 693.378 1083.27 Q697.984 1078.62 699.165 1077.27 Q701.41 1074.75 702.29 1073.01 Q703.192 1071.25 703.192 1069.56 Q703.192 1066.81 701.248 1065.07 Q699.327 1063.34 696.225 1063.34 Q694.026 1063.34 691.572 1064.1 Q689.142 1064.87 686.364 1066.42 L686.364 1061.69 Q689.188 1060.56 691.642 1059.98 Q694.095 1059.4 696.132 1059.4 Q701.503 1059.4 704.697 1062.09 Q707.891 1064.77 707.891 1069.26 Q707.891 1071.39 707.081 1073.31 Q706.294 1075.21 704.188 1077.81 Q703.609 1078.48 700.507 1081.69 Q697.405 1084.89 691.757 1090.65 Z\" fill=\"#000000\" fill-rule=\"evenodd\" fill-opacity=\"1\" /><path clip-path=\"url(#clip600)\" d=\"M1103.8 1075.95 Q1107.16 1076.67 1109.04 1078.94 Q1110.93 1081.21 1110.93 1084.54 Q1110.93 1089.66 1107.42 1092.46 Q1103.9 1095.26 1097.42 1095.26 Q1095.24 1095.26 1092.92 1094.82 Q1090.63 1094.4 1088.18 1093.55 L1088.18 1089.03 Q1090.12 1090.17 1092.44 1090.75 Q1094.75 1091.32 1097.28 1091.32 Q1101.67 1091.32 1103.97 1089.59 Q1106.28 1087.85 1106.28 1084.54 Q1106.28 1081.49 1104.13 1079.77 Q1102 1078.04 1098.18 1078.04 L1094.15 1078.04 L1094.15 1074.19 L1098.36 1074.19 Q1101.81 1074.19 1103.64 1072.83 Q1105.47 1071.44 1105.47 1068.85 Q1105.47 1066.19 1103.57 1064.77 Q1101.7 1063.34 1098.18 1063.34 Q1096.26 1063.34 1094.06 1063.75 Q1091.86 1064.17 1089.22 1065.05 L1089.22 1060.88 Q1091.88 1060.14 1094.2 1059.77 Q1096.54 1059.4 1098.6 1059.4 Q1103.92 1059.4 1107.02 1061.83 Q1110.12 1064.24 1110.12 1068.36 Q1110.12 1071.23 1108.48 1073.22 Q1106.84 1075.19 1103.8 1075.95 Z\" fill=\"#000000\" fill-rule=\"evenodd\" fill-opacity=\"1\" /><path clip-path=\"url(#clip600)\" d=\"M1505.02 1064.1 L1493.21 1082.55 L1505.02 1082.55 L1505.02 1064.1 M1503.79 1060.03 L1509.67 1060.03 L1509.67 1082.55 L1514.6 1082.55 L1514.6 1086.44 L1509.67 1086.44 L1509.67 1094.59 L1505.02 1094.59 L1505.02 1086.44 L1489.42 1086.44 L1489.42 1081.93 L1503.79 1060.03 Z\" fill=\"#000000\" fill-rule=\"evenodd\" fill-opacity=\"1\" /><path clip-path=\"url(#clip600)\" d=\"M1894.74 1060.03 L1913.1 1060.03 L1913.1 1063.96 L1899.02 1063.96 L1899.02 1072.44 Q1900.04 1072.09 1901.06 1071.93 Q1902.08 1071.74 1903.1 1071.74 Q1908.88 1071.74 1912.26 1074.91 Q1915.64 1078.08 1915.64 1083.5 Q1915.64 1089.08 1912.17 1092.18 Q1908.7 1095.26 1902.38 1095.26 Q1900.2 1095.26 1897.93 1094.89 Q1895.69 1094.52 1893.28 1093.78 L1893.28 1089.08 Q1895.36 1090.21 1897.59 1090.77 Q1899.81 1091.32 1902.29 1091.32 Q1906.29 1091.32 1908.63 1089.22 Q1910.97 1087.11 1910.97 1083.5 Q1910.97 1079.89 1908.63 1077.78 Q1906.29 1075.68 1902.29 1075.68 Q1900.41 1075.68 1898.54 1076.09 Q1896.68 1076.51 1894.74 1077.39 L1894.74 1060.03 Z\" fill=\"#000000\" fill-rule=\"evenodd\" fill-opacity=\"1\" /><path clip-path=\"url(#clip600)\" d=\"M1019.75 1154.96 L1019.75 1157.83 L992.82 1157.83 Q993.202 1163.88 996.448 1167.06 Q999.727 1170.21 1005.55 1170.21 Q1008.93 1170.21 1012.08 1169.38 Q1015.26 1168.55 1018.38 1166.9 L1018.38 1172.44 Q1015.23 1173.77 1011.92 1174.47 Q1008.61 1175.17 1005.2 1175.17 Q996.671 1175.17 991.674 1170.21 Q986.709 1165.24 986.709 1156.78 Q986.709 1148.03 991.419 1142.9 Q996.162 1137.74 1004.18 1137.74 Q1011.38 1137.74 1015.55 1142.39 Q1019.75 1147.01 1019.75 1154.96 M1013.89 1153.25 Q1013.83 1148.44 1011.18 1145.57 Q1008.58 1142.71 1004.25 1142.71 Q999.345 1142.71 996.385 1145.48 Q993.456 1148.25 993.011 1153.28 L1013.89 1153.25 Z\" fill=\"#000000\" fill-rule=\"evenodd\" fill-opacity=\"1\" /><path clip-path=\"url(#clip600)\" d=\"M1035.02 1168.9 L1035.02 1187.81 L1029.14 1187.81 L1029.14 1138.6 L1035.02 1138.6 L1035.02 1144.01 Q1036.87 1140.83 1039.67 1139.3 Q1042.5 1137.74 1046.42 1137.74 Q1052.91 1137.74 1056.95 1142.9 Q1061.03 1148.06 1061.03 1156.46 Q1061.03 1164.86 1056.95 1170.02 Q1052.91 1175.17 1046.42 1175.17 Q1042.5 1175.17 1039.67 1173.65 Q1036.87 1172.09 1035.02 1168.9 M1054.95 1156.46 Q1054.95 1150 1052.28 1146.34 Q1049.63 1142.65 1044.99 1142.65 Q1040.34 1142.65 1037.67 1146.34 Q1035.02 1150 1035.02 1156.46 Q1035.02 1162.92 1037.67 1166.61 Q1040.34 1170.27 1044.99 1170.27 Q1049.63 1170.27 1052.28 1166.61 Q1054.95 1162.92 1054.95 1156.46 Z\" fill=\"#000000\" fill-rule=\"evenodd\" fill-opacity=\"1\" /><path clip-path=\"url(#clip600)\" d=\"M1084.55 1142.71 Q1079.84 1142.71 1077.1 1146.4 Q1074.36 1150.06 1074.36 1156.46 Q1074.36 1162.86 1077.07 1166.55 Q1079.81 1170.21 1084.55 1170.21 Q1089.23 1170.21 1091.97 1166.52 Q1094.7 1162.83 1094.7 1156.46 Q1094.7 1150.13 1091.97 1146.43 Q1089.23 1142.71 1084.55 1142.71 M1084.55 1137.74 Q1092.19 1137.74 1096.55 1142.71 Q1100.91 1147.68 1100.91 1156.46 Q1100.91 1165.21 1096.55 1170.21 Q1092.19 1175.17 1084.55 1175.17 Q1076.88 1175.17 1072.52 1170.21 Q1068.19 1165.21 1068.19 1156.46 Q1068.19 1147.68 1072.52 1142.71 Q1076.88 1137.74 1084.55 1137.74 Z\" fill=\"#000000\" fill-rule=\"evenodd\" fill-opacity=\"1\" /><path clip-path=\"url(#clip600)\" d=\"M1136.27 1139.97 L1136.27 1145.45 Q1133.79 1144.08 1131.27 1143.41 Q1128.79 1142.71 1126.25 1142.71 Q1120.55 1142.71 1117.4 1146.34 Q1114.25 1149.93 1114.25 1156.46 Q1114.25 1162.98 1117.4 1166.61 Q1120.55 1170.21 1126.25 1170.21 Q1128.79 1170.21 1131.27 1169.54 Q1133.79 1168.84 1136.27 1167.47 L1136.27 1172.88 Q1133.82 1174.03 1131.18 1174.6 Q1128.57 1175.17 1125.61 1175.17 Q1117.56 1175.17 1112.81 1170.11 Q1108.07 1165.05 1108.07 1156.46 Q1108.07 1147.74 1112.85 1142.74 Q1117.65 1137.74 1125.99 1137.74 Q1128.7 1137.74 1131.27 1138.32 Q1133.85 1138.86 1136.27 1139.97 Z\" fill=\"#000000\" fill-rule=\"evenodd\" fill-opacity=\"1\" /><path clip-path=\"url(#clip600)\" d=\"M1176.09 1152.74 L1176.09 1174.25 L1170.23 1174.25 L1170.23 1152.93 Q1170.23 1147.87 1168.26 1145.35 Q1166.29 1142.84 1162.34 1142.84 Q1157.6 1142.84 1154.86 1145.86 Q1152.12 1148.88 1152.12 1154.1 L1152.12 1174.25 L1146.23 1174.25 L1146.23 1124.73 L1152.12 1124.73 L1152.12 1144.14 Q1154.22 1140.93 1157.06 1139.34 Q1159.92 1137.74 1163.64 1137.74 Q1169.79 1137.74 1172.94 1141.56 Q1176.09 1145.35 1176.09 1152.74 Z\" fill=\"#000000\" fill-rule=\"evenodd\" fill-opacity=\"1\" /><path clip-path=\"url(#clip600)\" d=\"M1210.5 1139.65 L1210.5 1145.19 Q1208.01 1143.92 1205.34 1143.28 Q1202.67 1142.65 1199.8 1142.65 Q1195.44 1142.65 1193.24 1143.98 Q1191.08 1145.32 1191.08 1147.99 Q1191.08 1150.03 1192.64 1151.21 Q1194.2 1152.35 1198.91 1153.4 L1200.91 1153.85 Q1207.15 1155.19 1209.76 1157.64 Q1212.4 1160.06 1212.4 1164.42 Q1212.4 1169.38 1208.46 1172.28 Q1204.54 1175.17 1197.67 1175.17 Q1194.8 1175.17 1191.68 1174.6 Q1188.6 1174.06 1185.16 1172.95 L1185.16 1166.9 Q1188.41 1168.59 1191.56 1169.45 Q1194.71 1170.27 1197.8 1170.27 Q1201.93 1170.27 1204.16 1168.87 Q1206.39 1167.44 1206.39 1164.86 Q1206.39 1162.48 1204.77 1161.2 Q1203.17 1159.93 1197.73 1158.75 L1195.69 1158.27 Q1190.25 1157.13 1187.83 1154.77 Q1185.41 1152.39 1185.41 1148.25 Q1185.41 1143.22 1188.98 1140.48 Q1192.54 1137.74 1199.1 1137.74 Q1202.35 1137.74 1205.21 1138.22 Q1208.08 1138.7 1210.5 1139.65 Z\" fill=\"#000000\" fill-rule=\"evenodd\" fill-opacity=\"1\" /><polyline clip-path=\"url(#clip602)\" style=\"stroke:#000000; stroke-linecap:butt; stroke-linejoin:round; stroke-width:2; stroke-opacity:0.1; fill:none\" points=\"\n",
       "  246.358,830.853 1952.76,830.853 \n",
       "  \"/>\n",
       "<polyline clip-path=\"url(#clip602)\" style=\"stroke:#000000; stroke-linecap:butt; stroke-linejoin:round; stroke-width:2; stroke-opacity:0.1; fill:none\" points=\"\n",
       "  246.358,511.618 1952.76,511.618 \n",
       "  \"/>\n",
       "<polyline clip-path=\"url(#clip602)\" style=\"stroke:#000000; stroke-linecap:butt; stroke-linejoin:round; stroke-width:2; stroke-opacity:0.1; fill:none\" points=\"\n",
       "  246.358,192.382 1952.76,192.382 \n",
       "  \"/>\n",
       "<polyline clip-path=\"url(#clip600)\" style=\"stroke:#000000; stroke-linecap:butt; stroke-linejoin:round; stroke-width:4; stroke-opacity:1; fill:none\" points=\"\n",
       "  246.358,1035.39 246.358,117.424 \n",
       "  \"/>\n",
       "<polyline clip-path=\"url(#clip600)\" style=\"stroke:#000000; stroke-linecap:butt; stroke-linejoin:round; stroke-width:4; stroke-opacity:1; fill:none\" points=\"\n",
       "  246.358,830.853 265.255,830.853 \n",
       "  \"/>\n",
       "<polyline clip-path=\"url(#clip600)\" style=\"stroke:#000000; stroke-linecap:butt; stroke-linejoin:round; stroke-width:4; stroke-opacity:1; fill:none\" points=\"\n",
       "  246.358,511.618 265.255,511.618 \n",
       "  \"/>\n",
       "<polyline clip-path=\"url(#clip600)\" style=\"stroke:#000000; stroke-linecap:butt; stroke-linejoin:round; stroke-width:4; stroke-opacity:1; fill:none\" points=\"\n",
       "  246.358,192.382 265.255,192.382 \n",
       "  \"/>\n",
       "<path clip-path=\"url(#clip600)\" d=\"M54.4722 850.646 L62.111 850.646 L62.111 824.28 L53.8009 825.947 L53.8009 821.688 L62.0647 820.021 L66.7406 820.021 L66.7406 850.646 L74.3795 850.646 L74.3795 854.581 L54.4722 854.581 L54.4722 850.646 Z\" fill=\"#000000\" fill-rule=\"evenodd\" fill-opacity=\"1\" /><path clip-path=\"url(#clip600)\" d=\"M93.8238 823.1 Q90.2127 823.1 88.384 826.664 Q86.5785 830.206 86.5785 837.336 Q86.5785 844.442 88.384 848.007 Q90.2127 851.548 93.8238 851.548 Q97.458 851.548 99.2636 848.007 Q101.092 844.442 101.092 837.336 Q101.092 830.206 99.2636 826.664 Q97.458 823.1 93.8238 823.1 M93.8238 819.396 Q99.6339 819.396 102.689 824.002 Q105.768 828.586 105.768 837.336 Q105.768 846.062 102.689 850.669 Q99.6339 855.252 93.8238 855.252 Q88.0136 855.252 84.935 850.669 Q81.8794 846.062 81.8794 837.336 Q81.8794 828.586 84.935 824.002 Q88.0136 819.396 93.8238 819.396 Z\" fill=\"#000000\" fill-rule=\"evenodd\" fill-opacity=\"1\" /><path clip-path=\"url(#clip600)\" d=\"M105.768 813.497 L129.88 813.497 L129.88 816.695 L105.768 816.695 L105.768 813.497 Z\" fill=\"#000000\" fill-rule=\"evenodd\" fill-opacity=\"1\" /><path clip-path=\"url(#clip600)\" d=\"M138.738 823.973 L144.945 823.973 L144.945 802.551 L138.193 803.905 L138.193 800.445 L144.907 799.09 L148.706 799.09 L148.706 823.973 L154.913 823.973 L154.913 827.17 L138.738 827.17 L138.738 823.973 Z\" fill=\"#000000\" fill-rule=\"evenodd\" fill-opacity=\"1\" /><path clip-path=\"url(#clip600)\" d=\"M162.586 822.393 L166.555 822.393 L166.555 827.17 L162.586 827.17 L162.586 822.393 Z\" fill=\"#000000\" fill-rule=\"evenodd\" fill-opacity=\"1\" /><path clip-path=\"url(#clip600)\" d=\"M173.871 799.09 L191.927 799.09 L191.927 800.708 L181.733 827.17 L177.764 827.17 L187.356 802.288 L173.871 802.288 L173.871 799.09 Z\" fill=\"#000000\" fill-rule=\"evenodd\" fill-opacity=\"1\" /><path clip-path=\"url(#clip600)\" d=\"M199.374 799.09 L214.289 799.09 L214.289 802.288 L202.854 802.288 L202.854 809.171 Q203.681 808.889 204.509 808.758 Q205.337 808.607 206.164 808.607 Q210.866 808.607 213.612 811.184 Q216.358 813.761 216.358 818.162 Q216.358 822.694 213.537 825.214 Q210.716 827.716 205.581 827.716 Q203.813 827.716 201.97 827.415 Q200.146 827.114 198.19 826.512 L198.19 822.694 Q199.882 823.616 201.688 824.067 Q203.493 824.519 205.506 824.519 Q208.76 824.519 210.659 822.807 Q212.559 821.096 212.559 818.162 Q212.559 815.228 210.659 813.516 Q208.76 811.805 205.506 811.805 Q203.982 811.805 202.459 812.143 Q200.954 812.482 199.374 813.196 L199.374 799.09 Z\" fill=\"#000000\" fill-rule=\"evenodd\" fill-opacity=\"1\" /><path clip-path=\"url(#clip600)\" d=\"M53.6634 531.41 L61.3023 531.41 L61.3023 505.044 L52.9921 506.711 L52.9921 502.452 L61.256 500.785 L65.9319 500.785 L65.9319 531.41 L73.5707 531.41 L73.5707 535.345 L53.6634 535.345 L53.6634 531.41 Z\" fill=\"#000000\" fill-rule=\"evenodd\" fill-opacity=\"1\" /><path clip-path=\"url(#clip600)\" d=\"M93.0151 503.864 Q89.404 503.864 87.5753 507.429 Q85.7697 510.97 85.7697 518.1 Q85.7697 525.206 87.5753 528.771 Q89.404 532.313 93.0151 532.313 Q96.6493 532.313 98.4548 528.771 Q100.284 525.206 100.284 518.1 Q100.284 510.97 98.4548 507.429 Q96.6493 503.864 93.0151 503.864 M93.0151 500.16 Q98.8252 500.16 101.881 504.767 Q104.959 509.35 104.959 518.1 Q104.959 526.827 101.881 531.433 Q98.8252 536.016 93.0151 536.016 Q87.2049 536.016 84.1262 531.433 Q81.0707 526.827 81.0707 518.1 Q81.0707 509.35 84.1262 504.767 Q87.2049 500.16 93.0151 500.16 Z\" fill=\"#000000\" fill-rule=\"evenodd\" fill-opacity=\"1\" /><path clip-path=\"url(#clip600)\" d=\"M104.959 494.262 L129.071 494.262 L129.071 497.459 L104.959 497.459 L104.959 494.262 Z\" fill=\"#000000\" fill-rule=\"evenodd\" fill-opacity=\"1\" /><path clip-path=\"url(#clip600)\" d=\"M137.929 504.737 L144.136 504.737 L144.136 483.315 L137.384 484.67 L137.384 481.209 L144.098 479.855 L147.898 479.855 L147.898 504.737 L154.104 504.737 L154.104 507.935 L137.929 507.935 L137.929 504.737 Z\" fill=\"#000000\" fill-rule=\"evenodd\" fill-opacity=\"1\" /><path clip-path=\"url(#clip600)\" d=\"M161.778 503.158 L165.746 503.158 L165.746 507.935 L161.778 507.935 L161.778 503.158 Z\" fill=\"#000000\" fill-rule=\"evenodd\" fill-opacity=\"1\" /><path clip-path=\"url(#clip600)\" d=\"M174.059 479.855 L188.974 479.855 L188.974 483.052 L177.539 483.052 L177.539 489.936 Q178.366 489.654 179.194 489.522 Q180.021 489.372 180.849 489.372 Q185.551 489.372 188.297 491.948 Q191.043 494.525 191.043 498.926 Q191.043 503.459 188.221 505.979 Q185.4 508.48 180.266 508.48 Q178.498 508.48 176.655 508.179 Q174.83 507.878 172.874 507.276 L172.874 503.459 Q174.567 504.38 176.373 504.831 Q178.178 505.283 180.191 505.283 Q183.444 505.283 185.344 503.571 Q187.243 501.86 187.243 498.926 Q187.243 495.992 185.344 494.28 Q183.444 492.569 180.191 492.569 Q178.667 492.569 177.144 492.907 Q175.639 493.246 174.059 493.961 L174.059 479.855 Z\" fill=\"#000000\" fill-rule=\"evenodd\" fill-opacity=\"1\" /><path clip-path=\"url(#clip600)\" d=\"M206.653 482.356 Q203.719 482.356 202.233 485.253 Q200.766 488.13 200.766 493.923 Q200.766 499.697 202.233 502.593 Q203.719 505.471 206.653 505.471 Q209.606 505.471 211.073 502.593 Q212.559 499.697 212.559 493.923 Q212.559 488.13 211.073 485.253 Q209.606 482.356 206.653 482.356 M206.653 479.347 Q211.374 479.347 213.856 483.09 Q216.358 486.814 216.358 493.923 Q216.358 501.014 213.856 504.756 Q211.374 508.48 206.653 508.48 Q201.932 508.48 199.431 504.756 Q196.948 501.014 196.948 493.923 Q196.948 486.814 199.431 483.09 Q201.932 479.347 206.653 479.347 Z\" fill=\"#000000\" fill-rule=\"evenodd\" fill-opacity=\"1\" /><path clip-path=\"url(#clip600)\" d=\"M54.4722 212.174 L62.111 212.174 L62.111 185.809 L53.8009 187.475 L53.8009 183.216 L62.0647 181.549 L66.7406 181.549 L66.7406 212.174 L74.3795 212.174 L74.3795 216.109 L54.4722 216.109 L54.4722 212.174 Z\" fill=\"#000000\" fill-rule=\"evenodd\" fill-opacity=\"1\" /><path clip-path=\"url(#clip600)\" d=\"M93.8238 184.628 Q90.2127 184.628 88.384 188.193 Q86.5785 191.735 86.5785 198.864 Q86.5785 205.971 88.384 209.535 Q90.2127 213.077 93.8238 213.077 Q97.458 213.077 99.2636 209.535 Q101.092 205.971 101.092 198.864 Q101.092 191.735 99.2636 188.193 Q97.458 184.628 93.8238 184.628 M93.8238 180.924 Q99.6339 180.924 102.689 185.531 Q105.768 190.114 105.768 198.864 Q105.768 207.591 102.689 212.197 Q99.6339 216.781 93.8238 216.781 Q88.0136 216.781 84.935 212.197 Q81.8794 207.591 81.8794 198.864 Q81.8794 190.114 84.935 185.531 Q88.0136 180.924 93.8238 180.924 Z\" fill=\"#000000\" fill-rule=\"evenodd\" fill-opacity=\"1\" /><path clip-path=\"url(#clip600)\" d=\"M105.768 175.026 L129.88 175.026 L129.88 178.223 L105.768 178.223 L105.768 175.026 Z\" fill=\"#000000\" fill-rule=\"evenodd\" fill-opacity=\"1\" /><path clip-path=\"url(#clip600)\" d=\"M138.738 185.502 L144.945 185.502 L144.945 164.08 L138.193 165.434 L138.193 161.973 L144.907 160.619 L148.706 160.619 L148.706 185.502 L154.913 185.502 L154.913 188.699 L138.738 188.699 L138.738 185.502 Z\" fill=\"#000000\" fill-rule=\"evenodd\" fill-opacity=\"1\" /><path clip-path=\"url(#clip600)\" d=\"M162.586 183.922 L166.555 183.922 L166.555 188.699 L162.586 188.699 L162.586 183.922 Z\" fill=\"#000000\" fill-rule=\"evenodd\" fill-opacity=\"1\" /><path clip-path=\"url(#clip600)\" d=\"M178.103 185.502 L191.362 185.502 L191.362 188.699 L173.533 188.699 L173.533 185.502 Q175.695 183.264 179.419 179.502 Q183.162 175.722 184.121 174.631 Q185.946 172.581 186.66 171.17 Q187.394 169.741 187.394 168.368 Q187.394 166.13 185.814 164.719 Q184.253 163.309 181.733 163.309 Q179.946 163.309 177.952 163.929 Q175.978 164.55 173.721 165.81 L173.721 161.973 Q176.015 161.052 178.009 160.581 Q180.002 160.111 181.658 160.111 Q186.021 160.111 188.616 162.293 Q191.212 164.475 191.212 168.123 Q191.212 169.854 190.554 171.415 Q189.914 172.957 188.203 175.063 Q187.732 175.609 185.212 178.223 Q182.692 180.819 178.103 185.502 Z\" fill=\"#000000\" fill-rule=\"evenodd\" fill-opacity=\"1\" /><path clip-path=\"url(#clip600)\" d=\"M199.374 160.619 L214.289 160.619 L214.289 163.816 L202.854 163.816 L202.854 170.7 Q203.681 170.418 204.509 170.286 Q205.337 170.136 206.164 170.136 Q210.866 170.136 213.612 172.712 Q216.358 175.289 216.358 179.69 Q216.358 184.223 213.537 186.743 Q210.716 189.244 205.581 189.244 Q203.813 189.244 201.97 188.944 Q200.146 188.643 198.19 188.041 L198.19 184.223 Q199.882 185.144 201.688 185.596 Q203.493 186.047 205.506 186.047 Q208.76 186.047 210.659 184.336 Q212.559 182.624 212.559 179.69 Q212.559 176.756 210.659 175.045 Q208.76 173.333 205.506 173.333 Q203.982 173.333 202.459 173.672 Q200.954 174.01 199.374 174.725 L199.374 160.619 Z\" fill=\"#000000\" fill-rule=\"evenodd\" fill-opacity=\"1\" /><path clip-path=\"url(#clip600)\" d=\"M833.534 12.096 L841.717 12.096 L841.717 65.6895 L871.167 65.6895 L871.167 72.576 L833.534 72.576 L833.534 12.096 Z\" fill=\"#000000\" fill-rule=\"evenodd\" fill-opacity=\"1\" /><path clip-path=\"url(#clip600)\" d=\"M895.553 32.4315 Q889.558 32.4315 886.074 37.1306 Q882.59 41.7891 882.59 49.9314 Q882.59 58.0738 886.034 62.7728 Q889.517 67.4314 895.553 67.4314 Q901.508 67.4314 904.992 62.7323 Q908.476 58.0333 908.476 49.9314 Q908.476 41.8701 904.992 37.1711 Q901.508 32.4315 895.553 32.4315 M895.553 26.1121 Q905.276 26.1121 910.825 32.4315 Q916.375 38.7509 916.375 49.9314 Q916.375 61.0714 910.825 67.4314 Q905.276 73.7508 895.553 73.7508 Q885.791 73.7508 880.241 67.4314 Q874.732 61.0714 874.732 49.9314 Q874.732 38.7509 880.241 32.4315 Q885.791 26.1121 895.553 26.1121 Z\" fill=\"#000000\" fill-rule=\"evenodd\" fill-opacity=\"1\" /><path clip-path=\"url(#clip600)\" d=\"M957.654 28.5427 L957.654 35.5912 Q954.494 33.9709 951.091 33.1607 Q947.688 32.3505 944.043 32.3505 Q938.493 32.3505 935.698 34.0519 Q932.943 35.7533 932.943 39.156 Q932.943 41.7486 934.928 43.2475 Q936.913 44.7058 942.908 46.0426 L945.46 46.6097 Q953.4 48.3111 956.722 51.4303 Q960.084 54.509 960.084 60.0587 Q960.084 66.3781 955.061 70.0644 Q950.079 73.7508 941.329 73.7508 Q937.683 73.7508 933.713 73.0216 Q929.783 72.3329 925.409 70.9151 L925.409 63.2184 Q929.54 65.3654 933.551 66.4591 Q937.561 67.5124 941.491 67.5124 Q946.757 67.5124 949.592 65.73 Q952.428 63.9071 952.428 60.6258 Q952.428 57.5877 950.362 55.9673 Q948.337 54.3469 941.41 52.8481 L938.817 52.2405 Q931.89 50.7821 928.811 47.7845 Q925.733 44.7463 925.733 39.4801 Q925.733 33.0797 930.27 29.5959 Q934.807 26.1121 943.151 26.1121 Q947.283 26.1121 950.929 26.7198 Q954.575 27.3274 957.654 28.5427 Z\" fill=\"#000000\" fill-rule=\"evenodd\" fill-opacity=\"1\" /><path clip-path=\"url(#clip600)\" d=\"M1000.88 28.5427 L1000.88 35.5912 Q997.717 33.9709 994.314 33.1607 Q990.912 32.3505 987.266 32.3505 Q981.716 32.3505 978.921 34.0519 Q976.166 35.7533 976.166 39.156 Q976.166 41.7486 978.151 43.2475 Q980.136 44.7058 986.132 46.0426 L988.684 46.6097 Q996.623 48.3111 999.945 51.4303 Q1003.31 54.509 1003.31 60.0587 Q1003.31 66.3781 998.284 70.0644 Q993.302 73.7508 984.552 73.7508 Q980.906 73.7508 976.936 73.0216 Q973.007 72.3329 968.632 70.9151 L968.632 63.2184 Q972.764 65.3654 976.774 66.4591 Q980.784 67.5124 984.714 67.5124 Q989.98 67.5124 992.816 65.73 Q995.651 63.9071 995.651 60.6258 Q995.651 57.5877 993.585 55.9673 Q991.56 54.3469 984.633 52.8481 L982.04 52.2405 Q975.113 50.7821 972.034 47.7845 Q968.956 44.7463 968.956 39.4801 Q968.956 33.0797 973.493 29.5959 Q978.03 26.1121 986.375 26.1121 Q990.507 26.1121 994.152 26.7198 Q997.798 27.3274 1000.88 28.5427 Z\" fill=\"#000000\" fill-rule=\"evenodd\" fill-opacity=\"1\" /><path clip-path=\"url(#clip600)\" d=\"M1064.52 9.54393 L1064.52 15.7418 L1057.39 15.7418 Q1053.38 15.7418 1051.8 17.3622 Q1050.26 18.9825 1050.26 23.1955 L1050.26 27.2059 L1062.53 27.2059 L1062.53 32.9987 L1050.26 32.9987 L1050.26 72.576 L1042.76 72.576 L1042.76 32.9987 L1035.63 32.9987 L1035.63 27.2059 L1042.76 27.2059 L1042.76 24.0462 Q1042.76 16.471 1046.29 13.0277 Q1049.81 9.54393 1057.47 9.54393 L1064.52 9.54393 Z\" fill=\"#000000\" fill-rule=\"evenodd\" fill-opacity=\"1\" /><path clip-path=\"url(#clip600)\" d=\"M1069.99 54.671 L1069.99 27.2059 L1077.44 27.2059 L1077.44 54.3874 Q1077.44 60.8284 1079.95 64.0691 Q1082.46 67.2693 1087.49 67.2693 Q1093.52 67.2693 1097 63.421 Q1100.53 59.5726 1100.53 52.9291 L1100.53 27.2059 L1107.98 27.2059 L1107.98 72.576 L1100.53 72.576 L1100.53 65.6084 Q1097.81 69.7404 1094.21 71.7658 Q1090.64 73.7508 1085.91 73.7508 Q1078.09 73.7508 1074.04 68.8897 Q1069.99 64.0286 1069.99 54.671 M1088.74 26.1121 L1088.74 26.1121 Z\" fill=\"#000000\" fill-rule=\"evenodd\" fill-opacity=\"1\" /><path clip-path=\"url(#clip600)\" d=\"M1161.05 45.1919 L1161.05 72.576 L1153.6 72.576 L1153.6 45.4349 Q1153.6 38.994 1151.08 35.7938 Q1148.57 32.5936 1143.55 32.5936 Q1137.51 32.5936 1134.03 36.4419 Q1130.55 40.2903 1130.55 46.9338 L1130.55 72.576 L1123.05 72.576 L1123.05 27.2059 L1130.55 27.2059 L1130.55 34.2544 Q1133.22 30.163 1136.83 28.1376 Q1140.47 26.1121 1145.21 26.1121 Q1153.03 26.1121 1157.04 30.9732 Q1161.05 35.7938 1161.05 45.1919 Z\" fill=\"#000000\" fill-rule=\"evenodd\" fill-opacity=\"1\" /><path clip-path=\"url(#clip600)\" d=\"M1208.57 28.9478 L1208.57 35.9153 Q1205.41 34.1734 1202.21 33.3227 Q1199.05 32.4315 1195.81 32.4315 Q1188.56 32.4315 1184.54 37.0496 Q1180.53 41.6271 1180.53 49.9314 Q1180.53 58.2358 1184.54 62.8538 Q1188.56 67.4314 1195.81 67.4314 Q1199.05 67.4314 1202.21 66.5807 Q1205.41 65.6895 1208.57 63.9476 L1208.57 70.8341 Q1205.45 72.2924 1202.09 73.0216 Q1198.76 73.7508 1195 73.7508 Q1184.75 73.7508 1178.71 67.3098 Q1172.68 60.8689 1172.68 49.9314 Q1172.68 38.832 1178.75 32.472 Q1184.87 26.1121 1195.48 26.1121 Q1198.93 26.1121 1202.21 26.8413 Q1205.49 27.5299 1208.57 28.9478 Z\" fill=\"#000000\" fill-rule=\"evenodd\" fill-opacity=\"1\" /><path clip-path=\"url(#clip600)\" d=\"M1228.9 14.324 L1228.9 27.2059 L1244.26 27.2059 L1244.26 32.9987 L1228.9 32.9987 L1228.9 57.6282 Q1228.9 63.1779 1230.4 64.7578 Q1231.94 66.3376 1236.6 66.3376 L1244.26 66.3376 L1244.26 72.576 L1236.6 72.576 Q1227.97 72.576 1224.69 69.3758 Q1221.41 66.1351 1221.41 57.6282 L1221.41 32.9987 L1215.94 32.9987 L1215.94 27.2059 L1221.41 27.2059 L1221.41 14.324 L1228.9 14.324 Z\" fill=\"#000000\" fill-rule=\"evenodd\" fill-opacity=\"1\" /><path clip-path=\"url(#clip600)\" d=\"M1254.06 27.2059 L1261.51 27.2059 L1261.51 72.576 L1254.06 72.576 L1254.06 27.2059 M1254.06 9.54393 L1261.51 9.54393 L1261.51 18.9825 L1254.06 18.9825 L1254.06 9.54393 Z\" fill=\"#000000\" fill-rule=\"evenodd\" fill-opacity=\"1\" /><path clip-path=\"url(#clip600)\" d=\"M1294.69 32.4315 Q1288.69 32.4315 1285.21 37.1306 Q1281.73 41.7891 1281.73 49.9314 Q1281.73 58.0738 1285.17 62.7728 Q1288.65 67.4314 1294.69 67.4314 Q1300.64 67.4314 1304.13 62.7323 Q1307.61 58.0333 1307.61 49.9314 Q1307.61 41.8701 1304.13 37.1711 Q1300.64 32.4315 1294.69 32.4315 M1294.69 26.1121 Q1304.41 26.1121 1309.96 32.4315 Q1315.51 38.7509 1315.51 49.9314 Q1315.51 61.0714 1309.96 67.4314 Q1304.41 73.7508 1294.69 73.7508 Q1284.93 73.7508 1279.38 67.4314 Q1273.87 61.0714 1273.87 49.9314 Q1273.87 38.7509 1279.38 32.4315 Q1284.93 26.1121 1294.69 26.1121 Z\" fill=\"#000000\" fill-rule=\"evenodd\" fill-opacity=\"1\" /><path clip-path=\"url(#clip600)\" d=\"M1365.58 45.1919 L1365.58 72.576 L1358.13 72.576 L1358.13 45.4349 Q1358.13 38.994 1355.61 35.7938 Q1353.1 32.5936 1348.08 32.5936 Q1342.04 32.5936 1338.56 36.4419 Q1335.08 40.2903 1335.08 46.9338 L1335.08 72.576 L1327.58 72.576 L1327.58 27.2059 L1335.08 27.2059 L1335.08 34.2544 Q1337.75 30.163 1341.36 28.1376 Q1345 26.1121 1349.74 26.1121 Q1357.56 26.1121 1361.57 30.9732 Q1365.58 35.7938 1365.58 45.1919 Z\" fill=\"#000000\" fill-rule=\"evenodd\" fill-opacity=\"1\" /><polyline clip-path=\"url(#clip602)\" style=\"stroke:#009af9; stroke-linecap:butt; stroke-linejoin:round; stroke-width:8; stroke-opacity:1; fill:none\" points=\"\n",
       "  294.652,143.404 697.105,686.335 1099.56,870.968 1502.01,953.896 1904.46,1009.41 \n",
       "  \"/>\n",
       "</svg>\n"
      ]
     },
     "metadata": {},
     "output_type": "display_data"
    }
   ],
   "source": [
    "# plot training\n",
    "plotLoss(lossVector, (500,300))"
   ]
  },
  {
   "cell_type": "markdown",
   "id": "a77111b8",
   "metadata": {},
   "source": [
    "Testing"
   ]
  },
  {
   "cell_type": "code",
   "execution_count": 69,
   "id": "287287b6",
   "metadata": {},
   "outputs": [
    {
     "data": {
      "text/plain": [
       "predictOutcome (generic function with 1 method)"
      ]
     },
     "metadata": {},
     "output_type": "display_data"
    }
   ],
   "source": [
    "function predictOutcome(X)\n",
    "    ŷ = Flux.onecold( model(X), [0:9;] )\n",
    "end"
   ]
  },
  {
   "cell_type": "code",
   "execution_count": 70,
   "id": "4cd546f6",
   "metadata": {},
   "outputs": [
    {
     "data": {
      "text/plain": [
       "10×10 Matrix{Int64}:\n",
       " 1711     0    16     7     2    20    17     4    10    11\n",
       "    0  1964     8     4     4    15     2    11    34     3\n",
       "    5    14  1587    39     5    14    11    26    28     6\n",
       "    7     8    37  1650     6    67     0    16    78    38\n",
       "    6     2    25     0  1623    32    12    23     7    42\n",
       "    8     8     9    62     1  1389    21     2    53    12\n",
       "   17     3    37     6    23    36  1705     1    25     1\n",
       "    3     7    30    33     5    13     0  1759    17    51\n",
       "   15    13    25    19    14    30     7     1  1467    11\n",
       "    5     4    13    19    70    10     0    36    36  1610"
      ]
     },
     "metadata": {},
     "output_type": "display_data"
    },
    {
     "name": "stdout",
     "output_type": "stream",
     "text": [
      "accuracy: 0.915\n",
      "f1-score: 0.913\n"
     ]
    }
   ],
   "source": [
    "# preprocessing\n",
    "ts_X, ts_y = preprocess(testX, testY)\n",
    "X_g        = ts_X |> gpu\n",
    "\n",
    "# predict\n",
    "ŷ = predictOutcome(X_g)\n",
    "\n",
    "# result\n",
    "printMetrics( ŷ, coerce(testY, OrderedFactor) )"
   ]
  }
 ],
 "metadata": {
  "kernelspec": {
   "display_name": "Julia 1.6.7",
   "language": "julia",
   "name": "julia-1.6"
  },
  "language_info": {
   "file_extension": ".jl",
   "mimetype": "application/julia",
   "name": "julia",
   "version": "1.6.7"
  }
 },
 "nbformat": 4,
 "nbformat_minor": 5
}
