{
 "cells": [
  {
   "cell_type": "markdown",
   "id": "e145f758",
   "metadata": {},
   "source": [
    "#### Flux with MNIST and GPU\n"
   ]
  },
  {
   "cell_type": "markdown",
   "id": "5f262ba3",
   "metadata": {},
   "source": [
    "##### Libraries"
   ]
  },
  {
   "cell_type": "code",
   "execution_count": 1,
   "id": "d63e87f2",
   "metadata": {},
   "outputs": [],
   "source": [
    "using CUDA\n",
    "\n",
    "using MLDatasets           # mnist\n",
    "using Images\n",
    "using PreprocessingImages; pim = PreprocessingImages\n",
    "using PreprocessingArrays; pa  = PreprocessingArrays\n",
    "\n",
    "using MLJ                  # make_blobs, rmse, confmat, f1score, coerce\n",
    "using MLDataUtils          # label, nlabel, labelfreq, stratifiedobs\n",
    "using Flux                 # the julia ml library\n",
    "\n",
    "using Plots\n",
    "using Random\n",
    "using DataFrames"
   ]
  },
  {
   "cell_type": "code",
   "execution_count": 2,
   "id": "5545d1b2",
   "metadata": {},
   "outputs": [
    {
     "data": {
      "text/plain": [
       "stopTrainingCriteria (generic function with 1 method)"
      ]
     },
     "metadata": {},
     "output_type": "display_data"
    }
   ],
   "source": [
    "include(\"../libs/libml.jl\")"
   ]
  },
  {
   "cell_type": "markdown",
   "id": "8903cf71",
   "metadata": {},
   "source": [
    "##### MNIST"
   ]
  },
  {
   "cell_type": "code",
   "execution_count": 3,
   "id": "4d7603a2",
   "metadata": {},
   "outputs": [
    {
     "data": {
      "text/plain": [
       "(28, 28, 60000)"
      ]
     },
     "metadata": {},
     "output_type": "display_data"
    },
    {
     "data": {
      "text/plain": [
       "1×5 adjoint(::Vector{Int64}) with eltype Int64:\n",
       " 5  0  4  1  9"
      ]
     },
     "metadata": {},
     "output_type": "display_data"
    },
    {
     "data": {
      "image/png": "[encoded data removed]",
      "text/html": [
       "<img src=\"data:image/png;base64,iVBORw0KGgoAAAANSUhEUgAAARgAAAA4CAAAAAADPrjSAAAABGdBTUEAALGPC/xhBQAAAAFzUkdCAK7OHOkAAAAgY0hSTQAAeiYAAICEAAD6AAAAgOgAAHUwAADqYAAAOpgAABdwnLpRPAAABPJJREFUaAXtwX2M1nUBAPDPc34HHjmOeOlgOUSNaKPggqHpCCheckgGUSIpiJW6UGQrmViXO6cwEvgDGE4nE+TFXS3CQ51DJnHGoJsn6pwEkTQccBGi58FF3vJ52rPjFnf3fV44tNX8fT5BIipIRAWJqCARFSSigkRUkIgKElHBJ2Kku8223ip7/X8KElFBDhcpk3W3Hoa4yzIz/dMSDyqswnY9Zcxygz66ZrxNxjrgfFR6UIlxal24IBEVdDBQN9carZfp2hyx0jSnvKFWYVfZrEzGKS36uMarWnQ2Rh9b5DZKvfMzx0JpZHwcgkRU0M5XvaRMe2mVmj3tmPcdkF8PI2w0QNZBj6i2yy8t1tk4g22RS4nLDZRyPi7TXfGuNssYQ3GvY75ugzrnChJRQTuHnVSmTZ1G39Big2I9bqY2I1yi1jhfETPbHrkNcLuN9iveBPOw3xTHFTbDCn2l7NTPUqT0dZNzBYmooJ33LDDFa1bidRM1G2q+Yo10vRRqPWepBq953zelxJTIZw0OKt5o65RhqcMKCUZ5Qg8ve8gu3f3GJNRrL0hEBR08Y4dThvuR5ZrxljsUp8J2PWW8YKaxKq1xwhvSrjfCXu0NUy6fMmxXvFsNwE7rFXaLNdhuhibMMAlHPKW9IBEVdNKED/Bj1dKK9UULlHlXg6ec9rzntSn1Mzdrb7JSuZW7HEcVq68fSmu0SGEPu1/Goyo1yfqFrHuc0F6QiAqiqow01gQvKk53y0x2ymz1SnU0UEdD8JZclin3Z6cUZ5DNslbZoZAH3K/FNvc5g4tNMlDKw2p0FCSigqhmt9vrCb9Xb7WMQkaYjO+oVbxXdNbTdW4xCQ9pVJzrDMNLViikl7kytpkq6ws2GYnfekRnQSIqyOFtc6w1yyyfsV6D/JZLqVWrsxJpKTG9tRquxHiX6uZmJc6o86HgVcWZagl2udUHCummL+7xObe5wZddIiNjo2adBYmoIKct/mK58Ra7zCJH5TZFhYytYtIyXtfRGRmP+bmsYVL+5R/2eVK9WscdUWq/YgyyWdYhxxXW4oR+/ioj65gmA7zrWTFBIirI4003+ra17jTYRLmV6ubvfq2j7qqww0IdzXXYtVq9o8Y+f9TmDv0cUpz7pGUtUYxGUz2nt7fVWOc91QaoFhckooK8Gm2wRjDGODvl86EG7XVXaYEjljuts1/JZTw2K0aFSbJqHFCcOv20GWOstEPigkRUkMcw3zNKwD4vy2+r9iosMEON6briGcV40WdRZ46uKJWWUS0uSEQFOQwxzzT9ZX2kQVpuKSlTzfcfP1WpzCazfZL6SGO107pim3yCRFQQ0d8P3GWQVvUW2SqfjIz+VnrSSV8zy3CXesc2j+qalMH2KGStElm7dc235BMkooIOyg21ype0qrNUjbTCLjLXdE0Gy9pjhwd0VUaJQipMlNZiteO65kr5BImo4By9Pa7CFVrtttw2ZxS2xytGob9ynFRtvgtzjXXy66UcR92rq/6gRFouQSIqOOtqC1zl81qdscJizYpzxHfdqVLWCo856MKk/De86aArXOmEmCARFZw1zTRZf/KsjyzT6Hw0qFLl4/GC7ytsv91GuzCLrbHIPPt0FiSigrMWWuh/wzrrFPY3Y12o37nJBFVu06yjIBEVfIo1udEiP1Fln46CRFTwqdZknnligkTUvwF5x1NZIErsDQAAAABJRU5ErkJg\">"
      ],
      "text/plain": [
       "28×140 MosaicView{Gray{Float32}, 4, Base.ReshapedArray{Gray{Float32}, 4, PaddedView{Gray{Float32}, 3, Tuple{Base.OneTo{Int64}, Base.OneTo{Int64}, Base.OneTo{Int64}}, Array{Gray{Float32}, 3}}, Tuple{Base.MultiplicativeInverses.SignedMultiplicativeInverse{Int64}, Base.MultiplicativeInverses.SignedMultiplicativeInverse{Int64}}}}:\n",
       " Gray{Float32}(0.0)  Gray{Float32}(0.0)  …  Gray{Float32}(0.0)\n",
       " Gray{Float32}(0.0)  Gray{Float32}(0.0)     Gray{Float32}(0.0)\n",
       " Gray{Float32}(0.0)  Gray{Float32}(0.0)     Gray{Float32}(0.0)\n",
       " Gray{Float32}(0.0)  Gray{Float32}(0.0)     Gray{Float32}(0.0)\n",
       " Gray{Float32}(0.0)  Gray{Float32}(0.0)     Gray{Float32}(0.0)\n",
       " Gray{Float32}(0.0)  Gray{Float32}(0.0)  …  Gray{Float32}(0.0)\n",
       " Gray{Float32}(0.0)  Gray{Float32}(0.0)     Gray{Float32}(0.0)\n",
       " Gray{Float32}(0.0)  Gray{Float32}(0.0)     Gray{Float32}(0.0)\n",
       " Gray{Float32}(0.0)  Gray{Float32}(0.0)     Gray{Float32}(0.0)\n",
       " Gray{Float32}(0.0)  Gray{Float32}(0.0)     Gray{Float32}(0.0)\n",
       " ⋮                                       ⋱  \n",
       " Gray{Float32}(0.0)  Gray{Float32}(0.0)     Gray{Float32}(0.0)\n",
       " Gray{Float32}(0.0)  Gray{Float32}(0.0)  …  Gray{Float32}(0.0)\n",
       " Gray{Float32}(0.0)  Gray{Float32}(0.0)     Gray{Float32}(0.0)\n",
       " Gray{Float32}(0.0)  Gray{Float32}(0.0)     Gray{Float32}(0.0)\n",
       " Gray{Float32}(0.0)  Gray{Float32}(0.0)     Gray{Float32}(0.0)\n",
       " Gray{Float32}(0.0)  Gray{Float32}(0.0)     Gray{Float32}(0.0)\n",
       " Gray{Float32}(0.0)  Gray{Float32}(0.0)  …  Gray{Float32}(0.0)\n",
       " Gray{Float32}(0.0)  Gray{Float32}(0.0)     Gray{Float32}(0.0)\n",
       " Gray{Float32}(0.0)  Gray{Float32}(0.0)     Gray{Float32}(0.0)"
      ]
     },
     "metadata": {},
     "output_type": "display_data"
    }
   ],
   "source": [
    "# load mnist\n",
    "datasetX,    datasetY    = MNIST(:train)[:]\n",
    "validationX, validationY = MNIST(:test)[:]\n",
    "\n",
    "display( size(datasetX) )\n",
    "\n",
    "img  = datasetX[:, :, 1:5]\n",
    "img2 = permutedims(img, (2, 1, 3))\n",
    "\n",
    "display(datasetY[1:5]')\n",
    "mosaicview( Gray.(img2)  ; nrow=1)"
   ]
  },
  {
   "cell_type": "code",
   "execution_count": 4,
   "id": "2ecbb1f6",
   "metadata": {},
   "outputs": [
    {
     "data": {
      "text/plain": [
       "((28, 28, 42001), (28, 28, 17999), (28, 28, 10000))"
      ]
     },
     "metadata": {},
     "output_type": "display_data"
    }
   ],
   "source": [
    "# split trainset, testset from dataset\n",
    "Random.seed!(1)\n",
    "(trainX, trainY), (testX, testY) = MLDataUtils.stratifiedobs((datasetX, datasetY), p = 0.7)\n",
    "size(trainX), size(testX), size(validationX)"
   ]
  },
  {
   "cell_type": "markdown",
   "id": "b8b9c3b0",
   "metadata": {},
   "source": [
    "##### Preprocessing\n",
    "\n",
    "Flux primarily works with matrices and vectors"
   ]
  },
  {
   "cell_type": "code",
   "execution_count": 5,
   "id": "f76c815d",
   "metadata": {},
   "outputs": [
    {
     "data": {
      "text/plain": [
       "(784, 42001, (784, 42001), (10, 42001))"
      ]
     },
     "metadata": {},
     "output_type": "display_data"
    }
   ],
   "source": [
    "function preprocess(X, y)\n",
    "    Xs = Float32.(X) |> Flux.flatten\n",
    "    ys = Flux.onehotbatch( Float32.(y), 0:9 )\n",
    "    \n",
    "    return (Xs, ys)\n",
    "end\n",
    "\n",
    "h, v, N = size(trainX); d = h * v\n",
    "tr_X, tr_y = preprocess(trainX, trainY)\n",
    "d, N, size(tr_X), size(tr_y)"
   ]
  },
  {
   "cell_type": "markdown",
   "id": "b9f2d81e",
   "metadata": {},
   "source": [
    "##### Model"
   ]
  },
  {
   "cell_type": "code",
   "execution_count": 6,
   "id": "4d606cd7",
   "metadata": {},
   "outputs": [],
   "source": [
    "# data on gpu\n",
    "X_d = tr_X |> gpu\n",
    "y_d = tr_y |> gpu;"
   ]
  },
  {
   "cell_type": "code",
   "execution_count": 7,
   "id": "ab500493",
   "metadata": {},
   "outputs": [
    {
     "data": {
      "text/plain": [
       "Chain(\n",
       "  Dense(784 => 128, relu),              \u001b[90m# 100_480 parameters\u001b[39m\n",
       "  Dense(128 => 32, relu),               \u001b[90m# 4_128 parameters\u001b[39m\n",
       "  Dense(32 => 10),                      \u001b[90m# 330 parameters\u001b[39m\n",
       "  NNlib.softmax,\n",
       ") \u001b[90m                  # Total: 6 arrays, \u001b[39m104_938 parameters, 856 bytes."
      ]
     },
     "metadata": {},
     "output_type": "display_data"
    }
   ],
   "source": [
    "# model configuration\n",
    "nInputs  = d\n",
    "nOutputs = 10\n",
    "\n",
    "# model = Chain( Flux.Dense(nInputs, 256, tanh),\n",
    "#                Flux.Dense(256, nOutputs, relu),\n",
    "#                softmax ) |> gpu                                      # weights on gpu\n",
    "\n",
    "model = Chain( Dense(nInputs => 128, relu),\n",
    "               Dense(128     => 32,  relu),\n",
    "               Dense(32      => nOutputs),\n",
    "               softmax)      |> gpu                                   # weights on gpu"
   ]
  },
  {
   "cell_type": "code",
   "execution_count": 8,
   "id": "eb1374e8",
   "metadata": {},
   "outputs": [],
   "source": [
    "lossFunction(X, y) = Flux.mse( model(X), y )\n",
    "modelParameters    = Flux.params(model)\n",
    "data               = Flux.DataLoader((X_d, y_d), batchsize=1)        # batchsize=1 => SGD, batch size > 1 => batch gradient descent\n",
    "modelOptimizer     = Flux.Descent()\n",
    "callBack           = Flux.throttle(() -> println(\"training\"), 10);   # print every 10s"
   ]
  },
  {
   "cell_type": "markdown",
   "id": "ea26fddb",
   "metadata": {},
   "source": [
    "##### Training"
   ]
  },
  {
   "cell_type": "code",
   "execution_count": 9,
   "id": "467e2940",
   "metadata": {},
   "outputs": [
    {
     "data": {
      "text/plain": [
       "500"
      ]
     },
     "metadata": {},
     "output_type": "display_data"
    }
   ],
   "source": [
    "numberOfEpochs = 500"
   ]
  },
  {
   "cell_type": "markdown",
   "id": "04cc04da",
   "metadata": {},
   "source": [
    "Training method without plotting epochs"
   ]
  },
  {
   "cell_type": "code",
   "execution_count": 10,
   "id": "be1e8ca6",
   "metadata": {},
   "outputs": [],
   "source": [
    "# # https://fluxml.ai/Flux.jl/stable/training/training/\n",
    "\n",
    "# # preferred for multiple epochs\n",
    "# epochs = 1:numberOfEpochs\n",
    "# for epoch in epochs\n",
    "#     Flux.train!(lossFunction, modelParameters, data, modelOptimizer; cb=callBack)\n",
    "# end"
   ]
  },
  {
   "cell_type": "markdown",
   "id": "1f8a4dbe",
   "metadata": {},
   "source": [
    "Training epoch with plotting, with the aid of homemade function trainModel!"
   ]
  },
  {
   "cell_type": "code",
   "execution_count": 11,
   "id": "38bb5cc2",
   "metadata": {},
   "outputs": [
    {
     "name": "stdout",
     "output_type": "stream",
     "text": [
      "."
     ]
    },
    {
     "name": "stdout",
     "output_type": "stream",
     "text": [
      "."
     ]
    },
    {
     "name": "stdout",
     "output_type": "stream",
     "text": [
      "."
     ]
    },
    {
     "name": "stdout",
     "output_type": "stream",
     "text": [
      "."
     ]
    },
    {
     "name": "stdout",
     "output_type": "stream",
     "text": [
      "."
     ]
    },
    {
     "name": "stdout",
     "output_type": "stream",
     "text": [
      "."
     ]
    },
    {
     "name": "stdout",
     "output_type": "stream",
     "text": [
      "."
     ]
    },
    {
     "name": "stdout",
     "output_type": "stream",
     "text": [
      "."
     ]
    },
    {
     "name": "stdout",
     "output_type": "stream",
     "text": [
      "."
     ]
    },
    {
     "name": "stdout",
     "output_type": "stream",
     "text": [
      "."
     ]
    },
    {
     "name": "stdout",
     "output_type": "stream",
     "text": [
      "."
     ]
    },
    {
     "name": "stdout",
     "output_type": "stream",
     "text": [
      "."
     ]
    },
    {
     "name": "stdout",
     "output_type": "stream",
     "text": [
      "."
     ]
    },
    {
     "name": "stdout",
     "output_type": "stream",
     "text": [
      "."
     ]
    },
    {
     "name": "stdout",
     "output_type": "stream",
     "text": [
      "."
     ]
    },
    {
     "name": "stdout",
     "output_type": "stream",
     "text": [
      "."
     ]
    },
    {
     "name": "stdout",
     "output_type": "stream",
     "text": [
      "."
     ]
    },
    {
     "name": "stdout",
     "output_type": "stream",
     "text": [
      "."
     ]
    },
    {
     "name": "stdout",
     "output_type": "stream",
     "text": [
      "."
     ]
    },
    {
     "name": "stdout",
     "output_type": "stream",
     "text": [
      "."
     ]
    },
    {
     "name": "stdout",
     "output_type": "stream",
     "text": [
      "."
     ]
    },
    {
     "name": "stdout",
     "output_type": "stream",
     "text": [
      "."
     ]
    },
    {
     "name": "stdout",
     "output_type": "stream",
     "text": [
      "."
     ]
    },
    {
     "name": "stdout",
     "output_type": "stream",
     "text": [
      "."
     ]
    }
   ],
   "source": [
    "# https://fluxml.ai/Flux.jl/stable/training/training/\n",
    "\n",
    "epochs       = 1 : numberOfEpochs\n",
    "epochLosses  = Vector{Float64}()\n",
    "deltaLosses  = Vector{Float64}()\n",
    "minDeltaLoss = 1e-5   # hint: start at 1e-2, then go lower for more epochs (1e-5)\n",
    "\n",
    "for epoch in epochs\n",
    "    # train epoch\n",
    "    l = trainModel!( lossFunction, modelParameters, data, modelOptimizer )   # libml\n",
    "\n",
    "    # store results\n",
    "    push!(epochLosses, l)\n",
    "    if epoch > 1\n",
    "        d = abs( epochLosses[end-1] - epochLosses[end] )\n",
    "        push!(deltaLosses, d)\n",
    "    end\n",
    "\n",
    "    # exit criteria\n",
    "    print(\".\")   # \"epoch completed\" indicator\n",
    "    if stopTrainingCriteria(epochLosses, deltaLosses, minDeltaLoss)   break   end\n",
    "end"
   ]
  },
  {
   "cell_type": "code",
   "execution_count": 12,
   "id": "7d0da258",
   "metadata": {},
   "outputs": [
    {
     "data": {
      "image/png": "[encoded data removed]",
      "image/svg+xml": "<?xml version=\"1.0\" encoding=\"utf-8\"?>\n<svg xmlns=\"http://www.w3.org/2000/svg\" xmlns:xlink=\"http://www.w3.org/1999/xlink\" width=\"900\" height=\"300\" viewBox=\"0 0 3600 1200\">\n<defs>\n  <clipPath id=\"clip880\">\n    <rect x=\"0\" y=\"0\" width=\"3600\" height=\"1200\"/>\n  </clipPath>\n</defs>\n<path clip-path=\"url(#clip880)\" d=\"\nM0 1200 L3600 1200 L3600 0 L0 0  Z\n  \" fill=\"#ffffff\" fill-rule=\"evenodd\" fill-opacity=\"1\"/>\n<defs>\n  <clipPath id=\"clip881\">\n    <rect x=\"720\" y=\"0\" width=\"2521\" height=\"1200\"/>\n  </clipPath>\n</defs>\n<path clip-path=\"url(#clip880)\" d=\"\nM237.851 1107.73 L1770.93 1107.73 L1770.93 93.2321 L237.851 93.2321  Z\n  \" fill=\"#ffffff\" fill-rule=\"evenodd\" fill-opacity=\"1\"/>\n<defs>\n  <clipPath id=\"clip882\">\n    <rect x=\"237\" y=\"93\" width=\"1534\" height=\"1015\"/>\n  </clipPath>\n</defs>\n<polyline clip-path=\"url(#clip882)\" style=\"stroke:#000000; stroke-linecap:butt; stroke-linejoin:round; stroke-width:2; stroke-opacity:0.1; fill:none\" points=\"\n  532.772,1107.73 532.772,93.2321 \n  \"/>\n<polyline clip-path=\"url(#clip882)\" style=\"stroke:#000000; stroke-linecap:butt; stroke-linejoin:round; stroke-width:2; stroke-opacity:0.1; fill:none\" points=\"\n  847.186,1107.73 847.186,93.2321 \n  \"/>\n<polyline clip-path=\"url(#clip882)\" style=\"stroke:#000000; stroke-linecap:butt; stroke-linejoin:round; stroke-width:2; stroke-opacity:0.1; fill:none\" points=\"\n  1161.6,1107.73 1161.6,93.2321 \n  \"/>\n<polyline clip-path=\"url(#clip882)\" style=\"stroke:#000000; stroke-linecap:butt; stroke-linejoin:round; stroke-width:2; stroke-opacity:0.1; fill:none\" points=\"\n  1476.01,1107.73 1476.01,93.2321 \n  \"/>\n<polyline clip-path=\"url(#clip880)\" style=\"stroke:#000000; stroke-linecap:butt; stroke-linejoin:round; stroke-width:4; stroke-opacity:1; fill:none\" points=\"\n  237.851,1107.73 1770.93,1107.73 \n  \"/>\n<polyline clip-path=\"url(#clip880)\" style=\"stroke:#000000; stroke-linecap:butt; stroke-linejoin:round; stroke-width:4; stroke-opacity:1; fill:none\" points=\"\n  532.772,1107.73 532.772,1088.83 \n  \"/>\n<polyline clip-path=\"url(#clip880)\" style=\"stroke:#000000; stroke-linecap:butt; stroke-linejoin:round; stroke-width:4; stroke-opacity:1; fill:none\" points=\"\n  847.186,1107.73 847.186,1088.83 \n  \"/>\n<polyline clip-path=\"url(#clip880)\" style=\"stroke:#000000; stroke-linecap:butt; stroke-linejoin:round; stroke-width:4; stroke-opacity:1; fill:none\" points=\"\n  1161.6,1107.73 1161.6,1088.83 \n  \"/>\n<polyline clip-path=\"url(#clip880)\" style=\"stroke:#000000; stroke-linecap:butt; stroke-linejoin:round; stroke-width:4; stroke-opacity:1; fill:none\" points=\"\n  1476.01,1107.73 1476.01,1088.83 \n  \"/>\n<path clip-path=\"url(#clip880)\" d=\"M523.049 1145.17 L541.406 1145.17 L541.406 1149.1 L527.332 1149.1 L527.332 1157.58 Q528.35 1157.23 529.369 1157.07 Q530.387 1156.88 531.406 1156.88 Q537.193 1156.88 540.572 1160.05 Q543.952 1163.22 543.952 1168.64 Q543.952 1174.22 540.48 1177.32 Q537.008 1180.4 530.688 1180.4 Q528.512 1180.4 526.244 1180.03 Q523.998 1179.66 521.591 1178.92 L521.591 1174.22 Q523.674 1175.35 525.897 1175.91 Q528.119 1176.46 530.596 1176.46 Q534.6 1176.46 536.938 1174.36 Q539.276 1172.25 539.276 1168.64 Q539.276 1165.03 536.938 1162.92 Q534.6 1160.82 530.596 1160.82 Q528.721 1160.82 526.846 1161.23 Q524.994 1161.65 523.049 1162.53 L523.049 1145.17 Z\" fill=\"#000000\" fill-rule=\"evenodd\" fill-opacity=\"1\" /><path clip-path=\"url(#clip880)\" d=\"M821.873 1175.79 L829.512 1175.79 L829.512 1149.43 L821.202 1151.09 L821.202 1146.83 L829.466 1145.17 L834.142 1145.17 L834.142 1175.79 L841.78 1175.79 L841.78 1179.73 L821.873 1179.73 L821.873 1175.79 Z\" fill=\"#000000\" fill-rule=\"evenodd\" fill-opacity=\"1\" /><path clip-path=\"url(#clip880)\" d=\"M861.225 1148.25 Q857.614 1148.25 855.785 1151.81 Q853.979 1155.35 853.979 1162.48 Q853.979 1169.59 855.785 1173.15 Q857.614 1176.7 861.225 1176.7 Q864.859 1176.7 866.665 1173.15 Q868.493 1169.59 868.493 1162.48 Q868.493 1155.35 866.665 1151.81 Q864.859 1148.25 861.225 1148.25 M861.225 1144.54 Q867.035 1144.54 870.09 1149.15 Q873.169 1153.73 873.169 1162.48 Q873.169 1171.21 870.09 1175.82 Q867.035 1180.4 861.225 1180.4 Q855.415 1180.4 852.336 1175.82 Q849.28 1171.21 849.28 1162.48 Q849.28 1153.73 852.336 1149.15 Q855.415 1144.54 861.225 1144.54 Z\" fill=\"#000000\" fill-rule=\"evenodd\" fill-opacity=\"1\" /><path clip-path=\"url(#clip880)\" d=\"M1136.78 1175.79 L1144.42 1175.79 L1144.42 1149.43 L1136.11 1151.09 L1136.11 1146.83 L1144.38 1145.17 L1149.05 1145.17 L1149.05 1175.79 L1156.69 1175.79 L1156.69 1179.73 L1136.78 1179.73 L1136.78 1175.79 Z\" fill=\"#000000\" fill-rule=\"evenodd\" fill-opacity=\"1\" /><path clip-path=\"url(#clip880)\" d=\"M1166.18 1145.17 L1184.54 1145.17 L1184.54 1149.1 L1170.47 1149.1 L1170.47 1157.58 Q1171.48 1157.23 1172.5 1157.07 Q1173.52 1156.88 1174.54 1156.88 Q1180.33 1156.88 1183.71 1160.05 Q1187.09 1163.22 1187.09 1168.64 Q1187.09 1174.22 1183.61 1177.32 Q1180.14 1180.4 1173.82 1180.4 Q1171.65 1180.4 1169.38 1180.03 Q1167.13 1179.66 1164.72 1178.92 L1164.72 1174.22 Q1166.81 1175.35 1169.03 1175.91 Q1171.25 1176.46 1173.73 1176.46 Q1177.73 1176.46 1180.07 1174.36 Q1182.41 1172.25 1182.41 1168.64 Q1182.41 1165.03 1180.07 1162.92 Q1177.73 1160.82 1173.73 1160.82 Q1171.85 1160.82 1169.98 1161.23 Q1168.13 1161.65 1166.18 1162.53 L1166.18 1145.17 Z\" fill=\"#000000\" fill-rule=\"evenodd\" fill-opacity=\"1\" /><path clip-path=\"url(#clip880)\" d=\"M1454.79 1175.79 L1471.11 1175.79 L1471.11 1179.73 L1449.16 1179.73 L1449.16 1175.79 Q1451.82 1173.04 1456.41 1168.41 Q1461.01 1163.76 1462.19 1162.41 Q1464.44 1159.89 1465.32 1158.15 Q1466.22 1156.39 1466.22 1154.7 Q1466.22 1151.95 1464.28 1150.21 Q1462.36 1148.48 1459.25 1148.48 Q1457.06 1148.48 1454.6 1149.24 Q1452.17 1150.01 1449.39 1151.56 L1449.39 1146.83 Q1452.22 1145.7 1454.67 1145.12 Q1457.12 1144.54 1459.16 1144.54 Q1464.53 1144.54 1467.73 1147.23 Q1470.92 1149.91 1470.92 1154.4 Q1470.92 1156.53 1470.11 1158.45 Q1469.32 1160.35 1467.22 1162.95 Q1466.64 1163.62 1463.54 1166.83 Q1460.43 1170.03 1454.79 1175.79 Z\" fill=\"#000000\" fill-rule=\"evenodd\" fill-opacity=\"1\" /><path clip-path=\"url(#clip880)\" d=\"M1490.92 1148.25 Q1487.31 1148.25 1485.48 1151.81 Q1483.68 1155.35 1483.68 1162.48 Q1483.68 1169.59 1485.48 1173.15 Q1487.31 1176.7 1490.92 1176.7 Q1494.55 1176.7 1496.36 1173.15 Q1498.19 1169.59 1498.19 1162.48 Q1498.19 1155.35 1496.36 1151.81 Q1494.55 1148.25 1490.92 1148.25 M1490.92 1144.54 Q1496.73 1144.54 1499.79 1149.15 Q1502.87 1153.73 1502.87 1162.48 Q1502.87 1171.21 1499.79 1175.82 Q1496.73 1180.4 1490.92 1180.4 Q1485.11 1180.4 1482.03 1175.82 Q1478.98 1171.21 1478.98 1162.48 Q1478.98 1153.73 1482.03 1149.15 Q1485.11 1144.54 1490.92 1144.54 Z\" fill=\"#000000\" fill-rule=\"evenodd\" fill-opacity=\"1\" /><polyline clip-path=\"url(#clip882)\" style=\"stroke:#000000; stroke-linecap:butt; stroke-linejoin:round; stroke-width:2; stroke-opacity:0.1; fill:none\" points=\"\n  237.851,698.705 1770.93,698.705 \n  \"/>\n<polyline clip-path=\"url(#clip882)\" style=\"stroke:#000000; stroke-linecap:butt; stroke-linejoin:round; stroke-width:2; stroke-opacity:0.1; fill:none\" points=\"\n  237.851,268.459 1770.93,268.459 \n  \"/>\n<polyline clip-path=\"url(#clip880)\" style=\"stroke:#000000; stroke-linecap:butt; stroke-linejoin:round; stroke-width:4; stroke-opacity:1; fill:none\" points=\"\n  237.851,1107.73 237.851,93.2321 \n  \"/>\n<polyline clip-path=\"url(#clip880)\" style=\"stroke:#000000; stroke-linecap:butt; stroke-linejoin:round; stroke-width:4; stroke-opacity:1; fill:none\" points=\"\n  237.851,698.705 256.749,698.705 \n  \"/>\n<polyline clip-path=\"url(#clip880)\" style=\"stroke:#000000; stroke-linecap:butt; stroke-linejoin:round; stroke-width:4; stroke-opacity:1; fill:none\" points=\"\n  237.851,268.459 256.749,268.459 \n  \"/>\n<path clip-path=\"url(#clip880)\" d=\"M46.4722 718.497 L54.111 718.497 L54.111 692.132 L45.8009 693.798 L45.8009 689.539 L54.0647 687.873 L58.7406 687.873 L58.7406 718.497 L66.3795 718.497 L66.3795 722.433 L46.4722 722.433 L46.4722 718.497 Z\" fill=\"#000000\" fill-rule=\"evenodd\" fill-opacity=\"1\" /><path clip-path=\"url(#clip880)\" d=\"M85.8238 690.951 Q82.2127 690.951 80.384 694.516 Q78.5785 698.058 78.5785 705.187 Q78.5785 712.294 80.384 715.858 Q82.2127 719.4 85.8238 719.4 Q89.458 719.4 91.2636 715.858 Q93.0923 712.294 93.0923 705.187 Q93.0923 698.058 91.2636 694.516 Q89.458 690.951 85.8238 690.951 M85.8238 687.248 Q91.6339 687.248 94.6895 691.854 Q97.7682 696.437 97.7682 705.187 Q97.7682 713.914 94.6895 718.52 Q91.6339 723.104 85.8238 723.104 Q80.0136 723.104 76.935 718.52 Q73.8794 713.914 73.8794 705.187 Q73.8794 696.437 76.935 691.854 Q80.0136 687.248 85.8238 687.248 Z\" fill=\"#000000\" fill-rule=\"evenodd\" fill-opacity=\"1\" /><path clip-path=\"url(#clip880)\" d=\"M97.7682 681.349 L121.88 681.349 L121.88 684.546 L97.7682 684.546 L97.7682 681.349 Z\" fill=\"#000000\" fill-rule=\"evenodd\" fill-opacity=\"1\" /><path clip-path=\"url(#clip880)\" d=\"M133.352 691.825 L146.612 691.825 L146.612 695.022 L128.782 695.022 L128.782 691.825 Q130.945 689.587 134.669 685.825 Q138.412 682.045 139.371 680.954 Q141.195 678.904 141.91 677.493 Q142.644 676.064 142.644 674.691 Q142.644 672.453 141.064 671.042 Q139.503 669.632 136.982 669.632 Q135.196 669.632 133.202 670.252 Q131.227 670.873 128.97 672.133 L128.97 668.296 Q131.265 667.375 133.258 666.905 Q135.252 666.434 136.907 666.434 Q141.271 666.434 143.866 668.616 Q146.461 670.798 146.461 674.446 Q146.461 676.177 145.803 677.738 Q145.164 679.28 143.452 681.386 Q142.982 681.932 140.462 684.546 Q137.942 687.142 133.352 691.825 Z\" fill=\"#000000\" fill-rule=\"evenodd\" fill-opacity=\"1\" /><path clip-path=\"url(#clip880)\" d=\"M154.586 690.245 L158.555 690.245 L158.555 695.022 L154.586 695.022 L154.586 690.245 Z\" fill=\"#000000\" fill-rule=\"evenodd\" fill-opacity=\"1\" /><path clip-path=\"url(#clip880)\" d=\"M166.868 666.942 L181.782 666.942 L181.782 670.139 L170.347 670.139 L170.347 677.023 Q171.175 676.741 172.002 676.609 Q172.83 676.459 173.658 676.459 Q178.359 676.459 181.105 679.036 Q183.851 681.612 183.851 686.013 Q183.851 690.546 181.03 693.066 Q178.209 695.568 173.074 695.568 Q171.307 695.568 169.463 695.267 Q167.639 694.966 165.683 694.364 L165.683 690.546 Q167.376 691.467 169.181 691.919 Q170.987 692.37 172.999 692.37 Q176.253 692.37 178.153 690.659 Q180.052 688.947 180.052 686.013 Q180.052 683.079 178.153 681.368 Q176.253 679.656 172.999 679.656 Q171.476 679.656 169.952 679.995 Q168.448 680.333 166.868 681.048 L166.868 666.942 Z\" fill=\"#000000\" fill-rule=\"evenodd\" fill-opacity=\"1\" /><path clip-path=\"url(#clip880)\" d=\"M45.6634 288.252 L53.3023 288.252 L53.3023 261.886 L44.9921 263.553 L44.9921 259.294 L53.256 257.627 L57.9319 257.627 L57.9319 288.252 L65.5707 288.252 L65.5707 292.187 L45.6634 292.187 L45.6634 288.252 Z\" fill=\"#000000\" fill-rule=\"evenodd\" fill-opacity=\"1\" /><path clip-path=\"url(#clip880)\" d=\"M85.0151 260.706 Q81.404 260.706 79.5753 264.27 Q77.7697 267.812 77.7697 274.942 Q77.7697 282.048 79.5753 285.613 Q81.404 289.154 85.0151 289.154 Q88.6493 289.154 90.4548 285.613 Q92.2835 282.048 92.2835 274.942 Q92.2835 267.812 90.4548 264.27 Q88.6493 260.706 85.0151 260.706 M85.0151 257.002 Q90.8252 257.002 93.8808 261.608 Q96.9594 266.192 96.9594 274.942 Q96.9594 283.668 93.8808 288.275 Q90.8252 292.858 85.0151 292.858 Q79.2049 292.858 76.1262 288.275 Q73.0707 283.668 73.0707 274.942 Q73.0707 266.192 76.1262 261.608 Q79.2049 257.002 85.0151 257.002 Z\" fill=\"#000000\" fill-rule=\"evenodd\" fill-opacity=\"1\" /><path clip-path=\"url(#clip880)\" d=\"M96.9594 251.103 L121.071 251.103 L121.071 254.301 L96.9594 254.301 L96.9594 251.103 Z\" fill=\"#000000\" fill-rule=\"evenodd\" fill-opacity=\"1\" /><path clip-path=\"url(#clip880)\" d=\"M132.544 261.579 L145.803 261.579 L145.803 264.776 L127.973 264.776 L127.973 261.579 Q130.136 259.341 133.86 255.579 Q137.603 251.799 138.562 250.708 Q140.387 248.658 141.101 247.248 Q141.835 245.818 141.835 244.445 Q141.835 242.207 140.255 240.797 Q138.694 239.386 136.174 239.386 Q134.387 239.386 132.393 240.007 Q130.418 240.627 128.162 241.887 L128.162 238.051 Q130.456 237.129 132.45 236.659 Q134.443 236.189 136.098 236.189 Q140.462 236.189 143.057 238.37 Q145.653 240.552 145.653 244.201 Q145.653 245.931 144.994 247.492 Q144.355 249.034 142.644 251.141 Q142.173 251.686 139.653 254.301 Q137.133 256.896 132.544 261.579 Z\" fill=\"#000000\" fill-rule=\"evenodd\" fill-opacity=\"1\" /><path clip-path=\"url(#clip880)\" d=\"M153.778 259.999 L157.746 259.999 L157.746 264.776 L153.778 264.776 L153.778 259.999 Z\" fill=\"#000000\" fill-rule=\"evenodd\" fill-opacity=\"1\" /><path clip-path=\"url(#clip880)\" d=\"M174.147 239.198 Q171.213 239.198 169.727 242.094 Q168.26 244.972 168.26 250.765 Q168.26 256.539 169.727 259.435 Q171.213 262.313 174.147 262.313 Q177.099 262.313 178.566 259.435 Q180.052 256.539 180.052 250.765 Q180.052 244.972 178.566 242.094 Q177.099 239.198 174.147 239.198 M174.147 236.189 Q178.867 236.189 181.35 239.931 Q183.851 243.655 183.851 250.765 Q183.851 257.855 181.35 261.598 Q178.867 265.322 174.147 265.322 Q169.426 265.322 166.924 261.598 Q164.442 257.855 164.442 250.765 Q164.442 243.655 166.924 239.931 Q169.426 236.189 174.147 236.189 Z\" fill=\"#000000\" fill-rule=\"evenodd\" fill-opacity=\"1\" /><path clip-path=\"url(#clip880)\" d=\"M738.37 12.096 L746.552 12.096 L746.552 65.6895 L776.002 65.6895 L776.002 72.576 L738.37 72.576 L738.37 12.096 Z\" fill=\"#000000\" fill-rule=\"evenodd\" fill-opacity=\"1\" /><path clip-path=\"url(#clip880)\" d=\"M800.389 32.4315 Q794.394 32.4315 790.91 37.1306 Q787.426 41.7891 787.426 49.9314 Q787.426 58.0738 790.869 62.7728 Q794.353 67.4314 800.389 67.4314 Q806.344 67.4314 809.828 62.7323 Q813.311 58.0333 813.311 49.9314 Q813.311 41.8701 809.828 37.1711 Q806.344 32.4315 800.389 32.4315 M800.389 26.1121 Q810.111 26.1121 815.661 32.4315 Q821.211 38.7509 821.211 49.9314 Q821.211 61.0714 815.661 67.4314 Q810.111 73.7508 800.389 73.7508 Q790.626 73.7508 785.077 67.4314 Q779.567 61.0714 779.567 49.9314 Q779.567 38.7509 785.077 32.4315 Q790.626 26.1121 800.389 26.1121 Z\" fill=\"#000000\" fill-rule=\"evenodd\" fill-opacity=\"1\" /><path clip-path=\"url(#clip880)\" d=\"M862.489 28.5427 L862.489 35.5912 Q859.33 33.9709 855.927 33.1607 Q852.524 32.3505 848.878 32.3505 Q843.329 32.3505 840.533 34.0519 Q837.779 35.7533 837.779 39.156 Q837.779 41.7486 839.764 43.2475 Q841.749 44.7058 847.744 46.0426 L850.296 46.6097 Q858.236 48.3111 861.558 51.4303 Q864.92 54.509 864.92 60.0587 Q864.92 66.3781 859.897 70.0644 Q854.914 73.7508 846.164 73.7508 Q842.518 73.7508 838.548 73.0216 Q834.619 72.3329 830.244 70.9151 L830.244 63.2184 Q834.376 65.3654 838.386 66.4591 Q842.397 67.5124 846.326 67.5124 Q851.592 67.5124 854.428 65.73 Q857.264 63.9071 857.264 60.6258 Q857.264 57.5877 855.198 55.9673 Q853.172 54.3469 846.245 52.8481 L843.653 52.2405 Q836.726 50.7821 833.647 47.7845 Q830.568 44.7463 830.568 39.4801 Q830.568 33.0797 835.105 29.5959 Q839.642 26.1121 847.987 26.1121 Q852.119 26.1121 855.765 26.7198 Q859.411 27.3274 862.489 28.5427 Z\" fill=\"#000000\" fill-rule=\"evenodd\" fill-opacity=\"1\" /><path clip-path=\"url(#clip880)\" d=\"M905.712 28.5427 L905.712 35.5912 Q902.553 33.9709 899.15 33.1607 Q895.747 32.3505 892.101 32.3505 Q886.552 32.3505 883.757 34.0519 Q881.002 35.7533 881.002 39.156 Q881.002 41.7486 882.987 43.2475 Q884.972 44.7058 890.967 46.0426 L893.519 46.6097 Q901.459 48.3111 904.781 51.4303 Q908.143 54.509 908.143 60.0587 Q908.143 66.3781 903.12 70.0644 Q898.137 73.7508 889.387 73.7508 Q885.741 73.7508 881.772 73.0216 Q877.842 72.3329 873.467 70.9151 L873.467 63.2184 Q877.599 65.3654 881.61 66.4591 Q885.62 67.5124 889.549 67.5124 Q894.816 67.5124 897.651 65.73 Q900.487 63.9071 900.487 60.6258 Q900.487 57.5877 898.421 55.9673 Q896.395 54.3469 889.468 52.8481 L886.876 52.2405 Q879.949 50.7821 876.87 47.7845 Q873.791 44.7463 873.791 39.4801 Q873.791 33.0797 878.328 29.5959 Q882.865 26.1121 891.21 26.1121 Q895.342 26.1121 898.988 26.7198 Q902.634 27.3274 905.712 28.5427 Z\" fill=\"#000000\" fill-rule=\"evenodd\" fill-opacity=\"1\" /><path clip-path=\"url(#clip880)\" d=\"M969.352 9.54393 L969.352 15.7418 L962.223 15.7418 Q958.212 15.7418 956.632 17.3622 Q955.093 18.9825 955.093 23.1955 L955.093 27.2059 L967.367 27.2059 L967.367 32.9987 L955.093 32.9987 L955.093 72.576 L947.599 72.576 L947.599 32.9987 L940.469 32.9987 L940.469 27.2059 L947.599 27.2059 L947.599 24.0462 Q947.599 16.471 951.123 13.0277 Q954.647 9.54393 962.304 9.54393 L969.352 9.54393 Z\" fill=\"#000000\" fill-rule=\"evenodd\" fill-opacity=\"1\" /><path clip-path=\"url(#clip880)\" d=\"M974.821 54.671 L974.821 27.2059 L982.275 27.2059 L982.275 54.3874 Q982.275 60.8284 984.786 64.0691 Q987.298 67.2693 992.321 67.2693 Q998.357 67.2693 1001.84 63.421 Q1005.36 59.5726 1005.36 52.9291 L1005.36 27.2059 L1012.82 27.2059 L1012.82 72.576 L1005.36 72.576 L1005.36 65.6084 Q1002.65 69.7404 999.045 71.7658 Q995.48 73.7508 990.741 73.7508 Q982.923 73.7508 978.872 68.8897 Q974.821 64.0286 974.821 54.671 M993.577 26.1121 L993.577 26.1121 Z\" fill=\"#000000\" fill-rule=\"evenodd\" fill-opacity=\"1\" /><path clip-path=\"url(#clip880)\" d=\"M1065.89 45.1919 L1065.89 72.576 L1058.43 72.576 L1058.43 45.4349 Q1058.43 38.994 1055.92 35.7938 Q1053.41 32.5936 1048.39 32.5936 Q1042.35 32.5936 1038.87 36.4419 Q1035.38 40.2903 1035.38 46.9338 L1035.38 72.576 L1027.89 72.576 L1027.89 27.2059 L1035.38 27.2059 L1035.38 34.2544 Q1038.06 30.163 1041.66 28.1376 Q1045.31 26.1121 1050.05 26.1121 Q1057.86 26.1121 1061.87 30.9732 Q1065.89 35.7938 1065.89 45.1919 Z\" fill=\"#000000\" fill-rule=\"evenodd\" fill-opacity=\"1\" /><path clip-path=\"url(#clip880)\" d=\"M1113.4 28.9478 L1113.4 35.9153 Q1110.24 34.1734 1107.04 33.3227 Q1103.88 32.4315 1100.64 32.4315 Q1093.39 32.4315 1089.38 37.0496 Q1085.37 41.6271 1085.37 49.9314 Q1085.37 58.2358 1089.38 62.8538 Q1093.39 67.4314 1100.64 67.4314 Q1103.88 67.4314 1107.04 66.5807 Q1110.24 65.6895 1113.4 63.9476 L1113.4 70.8341 Q1110.28 72.2924 1106.92 73.0216 Q1103.6 73.7508 1099.83 73.7508 Q1089.58 73.7508 1083.55 67.3098 Q1077.51 60.8689 1077.51 49.9314 Q1077.51 38.832 1083.59 32.472 Q1089.7 26.1121 1100.32 26.1121 Q1103.76 26.1121 1107.04 26.8413 Q1110.32 27.5299 1113.4 28.9478 Z\" fill=\"#000000\" fill-rule=\"evenodd\" fill-opacity=\"1\" /><path clip-path=\"url(#clip880)\" d=\"M1133.74 14.324 L1133.74 27.2059 L1149.09 27.2059 L1149.09 32.9987 L1133.74 32.9987 L1133.74 57.6282 Q1133.74 63.1779 1135.24 64.7578 Q1136.78 66.3376 1141.43 66.3376 L1149.09 66.3376 L1149.09 72.576 L1141.43 72.576 Q1132.81 72.576 1129.52 69.3758 Q1126.24 66.1351 1126.24 57.6282 L1126.24 32.9987 L1120.77 32.9987 L1120.77 27.2059 L1126.24 27.2059 L1126.24 14.324 L1133.74 14.324 Z\" fill=\"#000000\" fill-rule=\"evenodd\" fill-opacity=\"1\" /><path clip-path=\"url(#clip880)\" d=\"M1158.89 27.2059 L1166.35 27.2059 L1166.35 72.576 L1158.89 72.576 L1158.89 27.2059 M1158.89 9.54393 L1166.35 9.54393 L1166.35 18.9825 L1158.89 18.9825 L1158.89 9.54393 Z\" fill=\"#000000\" fill-rule=\"evenodd\" fill-opacity=\"1\" /><path clip-path=\"url(#clip880)\" d=\"M1199.52 32.4315 Q1193.53 32.4315 1190.05 37.1306 Q1186.56 41.7891 1186.56 49.9314 Q1186.56 58.0738 1190 62.7728 Q1193.49 67.4314 1199.52 67.4314 Q1205.48 67.4314 1208.96 62.7323 Q1212.45 58.0333 1212.45 49.9314 Q1212.45 41.8701 1208.96 37.1711 Q1205.48 32.4315 1199.52 32.4315 M1199.52 26.1121 Q1209.25 26.1121 1214.8 32.4315 Q1220.35 38.7509 1220.35 49.9314 Q1220.35 61.0714 1214.8 67.4314 Q1209.25 73.7508 1199.52 73.7508 Q1189.76 73.7508 1184.21 67.4314 Q1178.7 61.0714 1178.7 49.9314 Q1178.7 38.7509 1184.21 32.4315 Q1189.76 26.1121 1199.52 26.1121 Z\" fill=\"#000000\" fill-rule=\"evenodd\" fill-opacity=\"1\" /><path clip-path=\"url(#clip880)\" d=\"M1270.42 45.1919 L1270.42 72.576 L1262.96 72.576 L1262.96 45.4349 Q1262.96 38.994 1260.45 35.7938 Q1257.94 32.5936 1252.92 32.5936 Q1246.88 32.5936 1243.4 36.4419 Q1239.91 40.2903 1239.91 46.9338 L1239.91 72.576 L1232.42 72.576 L1232.42 27.2059 L1239.91 27.2059 L1239.91 34.2544 Q1242.59 30.163 1246.19 28.1376 Q1249.84 26.1121 1254.58 26.1121 Q1262.39 26.1121 1266.4 30.9732 Q1270.42 35.7938 1270.42 45.1919 Z\" fill=\"#000000\" fill-rule=\"evenodd\" fill-opacity=\"1\" /><polyline clip-path=\"url(#clip882)\" style=\"stroke:#009af9; stroke-linecap:butt; stroke-linejoin:round; stroke-width:8; stroke-opacity:1; fill:none\" points=\"\n  281.24,121.944 344.123,407.484 407.006,523.922 469.889,594.243 532.772,647.312 595.654,696.375 658.537,743.408 721.42,784.277 784.303,821.818 847.186,847.405 \n  910.068,839.538 972.951,870.547 1035.83,875.069 1098.72,911.235 1161.6,936.29 1224.48,939.847 1287.37,999.531 1350.25,961.734 1413.13,1022.7 1476.01,1000.76 \n  1538.9,1059.6 1601.78,1067.64 1664.66,1079.02 1727.54,1050.57 \n  \"/>\n<path clip-path=\"url(#clip880)\" d=\"\nM2019.67 1107.73 L3552.76 1107.73 L3552.76 93.2321 L2019.67 93.2321  Z\n  \" fill=\"#ffffff\" fill-rule=\"evenodd\" fill-opacity=\"1\"/>\n<defs>\n  <clipPath id=\"clip883\">\n    <rect x=\"2019\" y=\"93\" width=\"1534\" height=\"1015\"/>\n  </clipPath>\n</defs>\n<polyline clip-path=\"url(#clip883)\" style=\"stroke:#000000; stroke-linecap:butt; stroke-linejoin:round; stroke-width:2; stroke-opacity:0.1; fill:none\" points=\"\n  2260.29,1107.73 2260.29,93.2321 \n  \"/>\n<polyline clip-path=\"url(#clip883)\" style=\"stroke:#000000; stroke-linecap:butt; stroke-linejoin:round; stroke-width:2; stroke-opacity:0.1; fill:none\" points=\"\n  2588.99,1107.73 2588.99,93.2321 \n  \"/>\n<polyline clip-path=\"url(#clip883)\" style=\"stroke:#000000; stroke-linecap:butt; stroke-linejoin:round; stroke-width:2; stroke-opacity:0.1; fill:none\" points=\"\n  2917.7,1107.73 2917.7,93.2321 \n  \"/>\n<polyline clip-path=\"url(#clip883)\" style=\"stroke:#000000; stroke-linecap:butt; stroke-linejoin:round; stroke-width:2; stroke-opacity:0.1; fill:none\" points=\"\n  3246.4,1107.73 3246.4,93.2321 \n  \"/>\n<polyline clip-path=\"url(#clip880)\" style=\"stroke:#000000; stroke-linecap:butt; stroke-linejoin:round; stroke-width:4; stroke-opacity:1; fill:none\" points=\"\n  2019.67,1107.73 3552.76,1107.73 \n  \"/>\n<polyline clip-path=\"url(#clip880)\" style=\"stroke:#000000; stroke-linecap:butt; stroke-linejoin:round; stroke-width:4; stroke-opacity:1; fill:none\" points=\"\n  2260.29,1107.73 2260.29,1088.83 \n  \"/>\n<polyline clip-path=\"url(#clip880)\" style=\"stroke:#000000; stroke-linecap:butt; stroke-linejoin:round; stroke-width:4; stroke-opacity:1; fill:none\" points=\"\n  2588.99,1107.73 2588.99,1088.83 \n  \"/>\n<polyline clip-path=\"url(#clip880)\" style=\"stroke:#000000; stroke-linecap:butt; stroke-linejoin:round; stroke-width:4; stroke-opacity:1; fill:none\" points=\"\n  2917.7,1107.73 2917.7,1088.83 \n  \"/>\n<polyline clip-path=\"url(#clip880)\" style=\"stroke:#000000; stroke-linecap:butt; stroke-linejoin:round; stroke-width:4; stroke-opacity:1; fill:none\" points=\"\n  3246.4,1107.73 3246.4,1088.83 \n  \"/>\n<path clip-path=\"url(#clip880)\" d=\"M2250.56 1145.17 L2268.92 1145.17 L2268.92 1149.1 L2254.85 1149.1 L2254.85 1157.58 Q2255.86 1157.23 2256.88 1157.07 Q2257.9 1156.88 2258.92 1156.88 Q2264.71 1156.88 2268.09 1160.05 Q2271.47 1163.22 2271.47 1168.64 Q2271.47 1174.22 2267.99 1177.32 Q2264.52 1180.4 2258.2 1180.4 Q2256.03 1180.4 2253.76 1180.03 Q2251.51 1179.66 2249.11 1178.92 L2249.11 1174.22 Q2251.19 1175.35 2253.41 1175.91 Q2255.63 1176.46 2258.11 1176.46 Q2262.11 1176.46 2264.45 1174.36 Q2266.79 1172.25 2266.79 1168.64 Q2266.79 1165.03 2264.45 1162.92 Q2262.11 1160.82 2258.11 1160.82 Q2256.24 1160.82 2254.36 1161.23 Q2252.51 1161.65 2250.56 1162.53 L2250.56 1145.17 Z\" fill=\"#000000\" fill-rule=\"evenodd\" fill-opacity=\"1\" /><path clip-path=\"url(#clip880)\" d=\"M2563.68 1175.79 L2571.32 1175.79 L2571.32 1149.43 L2563.01 1151.09 L2563.01 1146.83 L2571.27 1145.17 L2575.95 1145.17 L2575.95 1175.79 L2583.59 1175.79 L2583.59 1179.73 L2563.68 1179.73 L2563.68 1175.79 Z\" fill=\"#000000\" fill-rule=\"evenodd\" fill-opacity=\"1\" /><path clip-path=\"url(#clip880)\" d=\"M2603.03 1148.25 Q2599.42 1148.25 2597.59 1151.81 Q2595.79 1155.35 2595.79 1162.48 Q2595.79 1169.59 2597.59 1173.15 Q2599.42 1176.7 2603.03 1176.7 Q2606.67 1176.7 2608.47 1173.15 Q2610.3 1169.59 2610.3 1162.48 Q2610.3 1155.35 2608.47 1151.81 Q2606.67 1148.25 2603.03 1148.25 M2603.03 1144.54 Q2608.84 1144.54 2611.9 1149.15 Q2614.98 1153.73 2614.98 1162.48 Q2614.98 1171.21 2611.9 1175.82 Q2608.84 1180.4 2603.03 1180.4 Q2597.22 1180.4 2594.14 1175.82 Q2591.09 1171.21 2591.09 1162.48 Q2591.09 1153.73 2594.14 1149.15 Q2597.22 1144.54 2603.03 1144.54 Z\" fill=\"#000000\" fill-rule=\"evenodd\" fill-opacity=\"1\" /><path clip-path=\"url(#clip880)\" d=\"M2892.88 1175.79 L2900.52 1175.79 L2900.52 1149.43 L2892.21 1151.09 L2892.21 1146.83 L2900.47 1145.17 L2905.15 1145.17 L2905.15 1175.79 L2912.79 1175.79 L2912.79 1179.73 L2892.88 1179.73 L2892.88 1175.79 Z\" fill=\"#000000\" fill-rule=\"evenodd\" fill-opacity=\"1\" /><path clip-path=\"url(#clip880)\" d=\"M2922.28 1145.17 L2940.64 1145.17 L2940.64 1149.1 L2926.56 1149.1 L2926.56 1157.58 Q2927.58 1157.23 2928.6 1157.07 Q2929.62 1156.88 2930.64 1156.88 Q2936.42 1156.88 2939.8 1160.05 Q2943.18 1163.22 2943.18 1168.64 Q2943.18 1174.22 2939.71 1177.32 Q2936.24 1180.4 2929.92 1180.4 Q2927.74 1180.4 2925.47 1180.03 Q2923.23 1179.66 2920.82 1178.92 L2920.82 1174.22 Q2922.91 1175.35 2925.13 1175.91 Q2927.35 1176.46 2929.83 1176.46 Q2933.83 1176.46 2936.17 1174.36 Q2938.51 1172.25 2938.51 1168.64 Q2938.51 1165.03 2936.17 1162.92 Q2933.83 1160.82 2929.83 1160.82 Q2927.95 1160.82 2926.08 1161.23 Q2924.22 1161.65 2922.28 1162.53 L2922.28 1145.17 Z\" fill=\"#000000\" fill-rule=\"evenodd\" fill-opacity=\"1\" /><path clip-path=\"url(#clip880)\" d=\"M3225.18 1175.79 L3241.5 1175.79 L3241.5 1179.73 L3219.55 1179.73 L3219.55 1175.79 Q3222.21 1173.04 3226.8 1168.41 Q3231.4 1163.76 3232.58 1162.41 Q3234.83 1159.89 3235.71 1158.15 Q3236.61 1156.39 3236.61 1154.7 Q3236.61 1151.95 3234.67 1150.21 Q3232.75 1148.48 3229.64 1148.48 Q3227.44 1148.48 3224.99 1149.24 Q3222.56 1150.01 3219.78 1151.56 L3219.78 1146.83 Q3222.61 1145.7 3225.06 1145.12 Q3227.51 1144.54 3229.55 1144.54 Q3234.92 1144.54 3238.12 1147.23 Q3241.31 1149.91 3241.31 1154.4 Q3241.31 1156.53 3240.5 1158.45 Q3239.71 1160.35 3237.61 1162.95 Q3237.03 1163.62 3233.93 1166.83 Q3230.82 1170.03 3225.18 1175.79 Z\" fill=\"#000000\" fill-rule=\"evenodd\" fill-opacity=\"1\" /><path clip-path=\"url(#clip880)\" d=\"M3261.31 1148.25 Q3257.7 1148.25 3255.87 1151.81 Q3254.06 1155.35 3254.06 1162.48 Q3254.06 1169.59 3255.87 1173.15 Q3257.7 1176.7 3261.31 1176.7 Q3264.94 1176.7 3266.75 1173.15 Q3268.58 1169.59 3268.58 1162.48 Q3268.58 1155.35 3266.75 1151.81 Q3264.94 1148.25 3261.31 1148.25 M3261.31 1144.54 Q3267.12 1144.54 3270.18 1149.15 Q3273.25 1153.73 3273.25 1162.48 Q3273.25 1171.21 3270.18 1175.82 Q3267.12 1180.4 3261.31 1180.4 Q3255.5 1180.4 3252.42 1175.82 Q3249.37 1171.21 3249.37 1162.48 Q3249.37 1153.73 3252.42 1149.15 Q3255.5 1144.54 3261.31 1144.54 Z\" fill=\"#000000\" fill-rule=\"evenodd\" fill-opacity=\"1\" /><polyline clip-path=\"url(#clip883)\" style=\"stroke:#000000; stroke-linecap:butt; stroke-linejoin:round; stroke-width:2; stroke-opacity:0.1; fill:none\" points=\"\n  2019.67,795.301 3552.76,795.301 \n  \"/>\n<polyline clip-path=\"url(#clip883)\" style=\"stroke:#000000; stroke-linecap:butt; stroke-linejoin:round; stroke-width:2; stroke-opacity:0.1; fill:none\" points=\"\n  2019.67,440.53 3552.76,440.53 \n  \"/>\n<polyline clip-path=\"url(#clip880)\" style=\"stroke:#000000; stroke-linecap:butt; stroke-linejoin:round; stroke-width:4; stroke-opacity:1; fill:none\" points=\"\n  2019.67,1107.73 2019.67,93.2321 \n  \"/>\n<polyline clip-path=\"url(#clip880)\" style=\"stroke:#000000; stroke-linecap:butt; stroke-linejoin:round; stroke-width:4; stroke-opacity:1; fill:none\" points=\"\n  2019.67,795.301 2038.57,795.301 \n  \"/>\n<polyline clip-path=\"url(#clip880)\" style=\"stroke:#000000; stroke-linecap:butt; stroke-linejoin:round; stroke-width:4; stroke-opacity:1; fill:none\" points=\"\n  2019.67,440.53 2038.57,440.53 \n  \"/>\n<path clip-path=\"url(#clip880)\" d=\"M1863.84 815.094 L1871.48 815.094 L1871.48 788.728 L1863.17 790.395 L1863.17 786.135 L1871.43 784.469 L1876.11 784.469 L1876.11 815.094 L1883.75 815.094 L1883.75 819.029 L1863.84 819.029 L1863.84 815.094 Z\" fill=\"#000000\" fill-rule=\"evenodd\" fill-opacity=\"1\" /><path clip-path=\"url(#clip880)\" d=\"M1903.19 787.547 Q1899.58 787.547 1897.75 791.112 Q1895.95 794.654 1895.95 801.783 Q1895.95 808.89 1897.75 812.455 Q1899.58 815.996 1903.19 815.996 Q1906.83 815.996 1908.63 812.455 Q1910.46 808.89 1910.46 801.783 Q1910.46 794.654 1908.63 791.112 Q1906.83 787.547 1903.19 787.547 M1903.19 783.844 Q1909 783.844 1912.06 788.45 Q1915.14 793.033 1915.14 801.783 Q1915.14 810.51 1912.06 815.117 Q1909 819.7 1903.19 819.7 Q1897.38 819.7 1894.3 815.117 Q1891.25 810.51 1891.25 801.783 Q1891.25 793.033 1894.3 788.45 Q1897.38 783.844 1903.19 783.844 Z\" fill=\"#000000\" fill-rule=\"evenodd\" fill-opacity=\"1\" /><path clip-path=\"url(#clip880)\" d=\"M1915.14 777.945 L1939.25 777.945 L1939.25 781.142 L1915.14 781.142 L1915.14 777.945 Z\" fill=\"#000000\" fill-rule=\"evenodd\" fill-opacity=\"1\" /><path clip-path=\"url(#clip880)\" d=\"M1957.89 766.848 L1948.3 781.838 L1957.89 781.838 L1957.89 766.848 M1956.89 763.538 L1961.67 763.538 L1961.67 781.838 L1965.67 781.838 L1965.67 784.998 L1961.67 784.998 L1961.67 791.618 L1957.89 791.618 L1957.89 784.998 L1945.21 784.998 L1945.21 781.33 L1956.89 763.538 Z\" fill=\"#000000\" fill-rule=\"evenodd\" fill-opacity=\"1\" /><path clip-path=\"url(#clip880)\" d=\"M1864.76 460.322 L1872.4 460.322 L1872.4 433.956 L1864.09 435.623 L1864.09 431.364 L1872.36 429.697 L1877.03 429.697 L1877.03 460.322 L1884.67 460.322 L1884.67 464.257 L1864.76 464.257 L1864.76 460.322 Z\" fill=\"#000000\" fill-rule=\"evenodd\" fill-opacity=\"1\" /><path clip-path=\"url(#clip880)\" d=\"M1904.11 432.776 Q1900.5 432.776 1898.67 436.341 Q1896.87 439.882 1896.87 447.012 Q1896.87 454.118 1898.67 457.683 Q1900.5 461.225 1904.11 461.225 Q1907.75 461.225 1909.55 457.683 Q1911.38 454.118 1911.38 447.012 Q1911.38 439.882 1909.55 436.341 Q1907.75 432.776 1904.11 432.776 M1904.11 429.072 Q1909.92 429.072 1912.98 433.679 Q1916.06 438.262 1916.06 447.012 Q1916.06 455.739 1912.98 460.345 Q1909.92 464.928 1904.11 464.928 Q1898.3 464.928 1895.23 460.345 Q1892.17 455.739 1892.17 447.012 Q1892.17 438.262 1895.23 433.679 Q1898.3 429.072 1904.11 429.072 Z\" fill=\"#000000\" fill-rule=\"evenodd\" fill-opacity=\"1\" /><path clip-path=\"url(#clip880)\" d=\"M1916.06 423.173 L1940.17 423.173 L1940.17 426.371 L1916.06 426.371 L1916.06 423.173 Z\" fill=\"#000000\" fill-rule=\"evenodd\" fill-opacity=\"1\" /><path clip-path=\"url(#clip880)\" d=\"M1959.88 421.706 Q1962.61 422.29 1964.13 424.133 Q1965.67 425.976 1965.67 428.684 Q1965.67 432.841 1962.81 435.116 Q1959.96 437.392 1954.69 437.392 Q1952.92 437.392 1951.04 437.035 Q1949.18 436.696 1947.19 436 L1947.19 432.333 Q1948.77 433.254 1950.65 433.725 Q1952.53 434.195 1954.58 434.195 Q1958.15 434.195 1960.01 432.784 Q1961.89 431.374 1961.89 428.684 Q1961.89 426.202 1960.14 424.81 Q1958.41 423.399 1955.31 423.399 L1952.04 423.399 L1952.04 420.277 L1955.46 420.277 Q1958.26 420.277 1959.75 419.167 Q1961.23 418.039 1961.23 415.933 Q1961.23 413.77 1959.69 412.622 Q1958.17 411.456 1955.31 411.456 Q1953.75 411.456 1951.96 411.795 Q1950.18 412.133 1948.03 412.848 L1948.03 409.463 Q1950.19 408.861 1952.08 408.56 Q1953.98 408.259 1955.65 408.259 Q1959.97 408.259 1962.5 410.234 Q1965.02 412.19 1965.02 415.538 Q1965.02 417.87 1963.68 419.487 Q1962.34 421.086 1959.88 421.706 Z\" fill=\"#000000\" fill-rule=\"evenodd\" fill-opacity=\"1\" /><path clip-path=\"url(#clip880)\" d=\"M2297.43 12.096 L2305.62 12.096 L2305.62 65.6895 L2335.07 65.6895 L2335.07 72.576 L2297.43 72.576 L2297.43 12.096 Z\" fill=\"#000000\" fill-rule=\"evenodd\" fill-opacity=\"1\" /><path clip-path=\"url(#clip880)\" d=\"M2359.45 32.4315 Q2353.46 32.4315 2349.97 37.1306 Q2346.49 41.7891 2346.49 49.9314 Q2346.49 58.0738 2349.93 62.7728 Q2353.42 67.4314 2359.45 67.4314 Q2365.41 67.4314 2368.89 62.7323 Q2372.37 58.0333 2372.37 49.9314 Q2372.37 41.8701 2368.89 37.1711 Q2365.41 32.4315 2359.45 32.4315 M2359.45 26.1121 Q2369.17 26.1121 2374.72 32.4315 Q2380.27 38.7509 2380.27 49.9314 Q2380.27 61.0714 2374.72 67.4314 Q2369.17 73.7508 2359.45 73.7508 Q2349.69 73.7508 2344.14 67.4314 Q2338.63 61.0714 2338.63 49.9314 Q2338.63 38.7509 2344.14 32.4315 Q2349.69 26.1121 2359.45 26.1121 Z\" fill=\"#000000\" fill-rule=\"evenodd\" fill-opacity=\"1\" /><path clip-path=\"url(#clip880)\" d=\"M2421.55 28.5427 L2421.55 35.5912 Q2418.39 33.9709 2414.99 33.1607 Q2411.59 32.3505 2407.94 32.3505 Q2402.39 32.3505 2399.6 34.0519 Q2396.84 35.7533 2396.84 39.156 Q2396.84 41.7486 2398.83 43.2475 Q2400.81 44.7058 2406.81 46.0426 L2409.36 46.6097 Q2417.3 48.3111 2420.62 51.4303 Q2423.98 54.509 2423.98 60.0587 Q2423.98 66.3781 2418.96 70.0644 Q2413.98 73.7508 2405.23 73.7508 Q2401.58 73.7508 2397.61 73.0216 Q2393.68 72.3329 2389.31 70.9151 L2389.31 63.2184 Q2393.44 65.3654 2397.45 66.4591 Q2401.46 67.5124 2405.39 67.5124 Q2410.66 67.5124 2413.49 65.73 Q2416.33 63.9071 2416.33 60.6258 Q2416.33 57.5877 2414.26 55.9673 Q2412.24 54.3469 2405.31 52.8481 L2402.72 52.2405 Q2395.79 50.7821 2392.71 47.7845 Q2389.63 44.7463 2389.63 39.4801 Q2389.63 33.0797 2394.17 29.5959 Q2398.71 26.1121 2407.05 26.1121 Q2411.18 26.1121 2414.83 26.7198 Q2418.47 27.3274 2421.55 28.5427 Z\" fill=\"#000000\" fill-rule=\"evenodd\" fill-opacity=\"1\" /><path clip-path=\"url(#clip880)\" d=\"M2464.78 28.5427 L2464.78 35.5912 Q2461.62 33.9709 2458.21 33.1607 Q2454.81 32.3505 2451.16 32.3505 Q2445.61 32.3505 2442.82 34.0519 Q2440.07 35.7533 2440.07 39.156 Q2440.07 41.7486 2442.05 43.2475 Q2444.03 44.7058 2450.03 46.0426 L2452.58 46.6097 Q2460.52 48.3111 2463.84 51.4303 Q2467.21 54.509 2467.21 60.0587 Q2467.21 66.3781 2462.18 70.0644 Q2457.2 73.7508 2448.45 73.7508 Q2444.8 73.7508 2440.83 73.0216 Q2436.91 72.3329 2432.53 70.9151 L2432.53 63.2184 Q2436.66 65.3654 2440.67 66.4591 Q2444.68 67.5124 2448.61 67.5124 Q2453.88 67.5124 2456.71 65.73 Q2459.55 63.9071 2459.55 60.6258 Q2459.55 57.5877 2457.48 55.9673 Q2455.46 54.3469 2448.53 52.8481 L2445.94 52.2405 Q2439.01 50.7821 2435.93 47.7845 Q2432.85 44.7463 2432.85 39.4801 Q2432.85 33.0797 2437.39 29.5959 Q2441.93 26.1121 2450.27 26.1121 Q2454.41 26.1121 2458.05 26.7198 Q2461.7 27.3274 2464.78 28.5427 Z\" fill=\"#000000\" fill-rule=\"evenodd\" fill-opacity=\"1\" /><path clip-path=\"url(#clip880)\" d=\"M2528.42 9.54393 L2528.42 15.7418 L2521.29 15.7418 Q2517.28 15.7418 2515.7 17.3622 Q2514.16 18.9825 2514.16 23.1955 L2514.16 27.2059 L2526.43 27.2059 L2526.43 32.9987 L2514.16 32.9987 L2514.16 72.576 L2506.66 72.576 L2506.66 32.9987 L2499.53 32.9987 L2499.53 27.2059 L2506.66 27.2059 L2506.66 24.0462 Q2506.66 16.471 2510.19 13.0277 Q2513.71 9.54393 2521.37 9.54393 L2528.42 9.54393 Z\" fill=\"#000000\" fill-rule=\"evenodd\" fill-opacity=\"1\" /><path clip-path=\"url(#clip880)\" d=\"M2533.88 54.671 L2533.88 27.2059 L2541.34 27.2059 L2541.34 54.3874 Q2541.34 60.8284 2543.85 64.0691 Q2546.36 67.2693 2551.38 67.2693 Q2557.42 67.2693 2560.9 63.421 Q2564.43 59.5726 2564.43 52.9291 L2564.43 27.2059 L2571.88 27.2059 L2571.88 72.576 L2564.43 72.576 L2564.43 65.6084 Q2561.71 69.7404 2558.11 71.7658 Q2554.54 73.7508 2549.8 73.7508 Q2541.99 73.7508 2537.93 68.8897 Q2533.88 64.0286 2533.88 54.671 M2552.64 26.1121 L2552.64 26.1121 Z\" fill=\"#000000\" fill-rule=\"evenodd\" fill-opacity=\"1\" /><path clip-path=\"url(#clip880)\" d=\"M2624.95 45.1919 L2624.95 72.576 L2617.49 72.576 L2617.49 45.4349 Q2617.49 38.994 2614.98 35.7938 Q2612.47 32.5936 2607.45 32.5936 Q2601.41 32.5936 2597.93 36.4419 Q2594.44 40.2903 2594.44 46.9338 L2594.44 72.576 L2586.95 72.576 L2586.95 27.2059 L2594.44 27.2059 L2594.44 34.2544 Q2597.12 30.163 2600.72 28.1376 Q2604.37 26.1121 2609.11 26.1121 Q2616.93 26.1121 2620.94 30.9732 Q2624.95 35.7938 2624.95 45.1919 Z\" fill=\"#000000\" fill-rule=\"evenodd\" fill-opacity=\"1\" /><path clip-path=\"url(#clip880)\" d=\"M2672.47 28.9478 L2672.47 35.9153 Q2669.31 34.1734 2666.11 33.3227 Q2662.95 32.4315 2659.71 32.4315 Q2652.45 32.4315 2648.44 37.0496 Q2644.43 41.6271 2644.43 49.9314 Q2644.43 58.2358 2648.44 62.8538 Q2652.45 67.4314 2659.71 67.4314 Q2662.95 67.4314 2666.11 66.5807 Q2669.31 65.6895 2672.47 63.9476 L2672.47 70.8341 Q2669.35 72.2924 2665.98 73.0216 Q2662.66 73.7508 2658.89 73.7508 Q2648.65 73.7508 2642.61 67.3098 Q2636.57 60.8689 2636.57 49.9314 Q2636.57 38.832 2642.65 32.472 Q2648.77 26.1121 2659.38 26.1121 Q2662.82 26.1121 2666.11 26.8413 Q2669.39 27.5299 2672.47 28.9478 Z\" fill=\"#000000\" fill-rule=\"evenodd\" fill-opacity=\"1\" /><path clip-path=\"url(#clip880)\" d=\"M2692.8 14.324 L2692.8 27.2059 L2708.15 27.2059 L2708.15 32.9987 L2692.8 32.9987 L2692.8 57.6282 Q2692.8 63.1779 2694.3 64.7578 Q2695.84 66.3376 2700.5 66.3376 L2708.15 66.3376 L2708.15 72.576 L2700.5 72.576 Q2691.87 72.576 2688.59 69.3758 Q2685.31 66.1351 2685.31 57.6282 L2685.31 32.9987 L2679.84 32.9987 L2679.84 27.2059 L2685.31 27.2059 L2685.31 14.324 L2692.8 14.324 Z\" fill=\"#000000\" fill-rule=\"evenodd\" fill-opacity=\"1\" /><path clip-path=\"url(#clip880)\" d=\"M2717.96 27.2059 L2725.41 27.2059 L2725.41 72.576 L2717.96 72.576 L2717.96 27.2059 M2717.96 9.54393 L2725.41 9.54393 L2725.41 18.9825 L2717.96 18.9825 L2717.96 9.54393 Z\" fill=\"#000000\" fill-rule=\"evenodd\" fill-opacity=\"1\" /><path clip-path=\"url(#clip880)\" d=\"M2758.59 32.4315 Q2752.59 32.4315 2749.11 37.1306 Q2745.62 41.7891 2745.62 49.9314 Q2745.62 58.0738 2749.07 62.7728 Q2752.55 67.4314 2758.59 67.4314 Q2764.54 67.4314 2768.03 62.7323 Q2771.51 58.0333 2771.51 49.9314 Q2771.51 41.8701 2768.03 37.1711 Q2764.54 32.4315 2758.59 32.4315 M2758.59 26.1121 Q2768.31 26.1121 2773.86 32.4315 Q2779.41 38.7509 2779.41 49.9314 Q2779.41 61.0714 2773.86 67.4314 Q2768.31 73.7508 2758.59 73.7508 Q2748.82 73.7508 2743.28 67.4314 Q2737.77 61.0714 2737.77 49.9314 Q2737.77 38.7509 2743.28 32.4315 Q2748.82 26.1121 2758.59 26.1121 Z\" fill=\"#000000\" fill-rule=\"evenodd\" fill-opacity=\"1\" /><path clip-path=\"url(#clip880)\" d=\"M2829.48 45.1919 L2829.48 72.576 L2822.02 72.576 L2822.02 45.4349 Q2822.02 38.994 2819.51 35.7938 Q2817 32.5936 2811.98 32.5936 Q2805.94 32.5936 2802.46 36.4419 Q2798.98 40.2903 2798.98 46.9338 L2798.98 72.576 L2791.48 72.576 L2791.48 27.2059 L2798.98 27.2059 L2798.98 34.2544 Q2801.65 30.163 2805.25 28.1376 Q2808.9 26.1121 2813.64 26.1121 Q2821.46 26.1121 2825.47 30.9732 Q2829.48 35.7938 2829.48 45.1919 Z\" fill=\"#000000\" fill-rule=\"evenodd\" fill-opacity=\"1\" /><path clip-path=\"url(#clip880)\" d=\"M2900.57 34.0924 L2900.57 9.54393 L2908.03 9.54393 L2908.03 72.576 L2900.57 72.576 L2900.57 65.7705 Q2898.22 69.8214 2894.62 71.8063 Q2891.05 73.7508 2886.03 73.7508 Q2877.81 73.7508 2872.62 67.1883 Q2867.48 60.6258 2867.48 49.9314 Q2867.48 39.2371 2872.62 32.6746 Q2877.81 26.1121 2886.03 26.1121 Q2891.05 26.1121 2894.62 28.0971 Q2898.22 30.0415 2900.57 34.0924 M2875.17 49.9314 Q2875.17 58.1548 2878.53 62.8538 Q2881.94 67.5124 2887.85 67.5124 Q2893.77 67.5124 2897.17 62.8538 Q2900.57 58.1548 2900.57 49.9314 Q2900.57 41.7081 2897.17 37.0496 Q2893.77 32.3505 2887.85 32.3505 Q2881.94 32.3505 2878.53 37.0496 Q2875.17 41.7081 2875.17 49.9314 Z\" fill=\"#000000\" fill-rule=\"evenodd\" fill-opacity=\"1\" /><path clip-path=\"url(#clip880)\" d=\"M2962.19 48.0275 L2962.19 51.6733 L2927.92 51.6733 Q2928.4 59.3701 2932.53 63.421 Q2936.71 67.4314 2944.12 67.4314 Q2948.41 67.4314 2952.42 66.3781 Q2956.47 65.3249 2960.44 63.2184 L2960.44 70.267 Q2956.43 71.9684 2952.22 72.8596 Q2948.01 73.7508 2943.67 73.7508 Q2932.82 73.7508 2926.46 67.4314 Q2920.14 61.1119 2920.14 50.3365 Q2920.14 39.1965 2926.13 32.6746 Q2932.17 26.1121 2942.38 26.1121 Q2951.53 26.1121 2956.84 32.0264 Q2962.19 37.9003 2962.19 48.0275 M2954.73 45.84 Q2954.65 39.7232 2951.29 36.0774 Q2947.97 32.4315 2942.46 32.4315 Q2936.22 32.4315 2932.45 35.9558 Q2928.73 39.4801 2928.16 45.8805 L2954.73 45.84 Z\" fill=\"#000000\" fill-rule=\"evenodd\" fill-opacity=\"1\" /><path clip-path=\"url(#clip880)\" d=\"M3000.71 34.1734 Q2999.45 33.4443 2997.96 33.1202 Q2996.5 32.7556 2994.71 32.7556 Q2988.4 32.7556 2984.99 36.8875 Q2981.63 40.9789 2981.63 48.6757 L2981.63 72.576 L2974.14 72.576 L2974.14 27.2059 L2981.63 27.2059 L2981.63 34.2544 Q2983.98 30.1225 2987.75 28.1376 Q2991.51 26.1121 2996.9 26.1121 Q2997.67 26.1121 2998.6 26.2337 Q2999.54 26.3147 3000.67 26.5172 L3000.71 34.1734 Z\" fill=\"#000000\" fill-rule=\"evenodd\" fill-opacity=\"1\" /><path clip-path=\"url(#clip880)\" d=\"M3008.53 27.2059 L3015.98 27.2059 L3015.98 72.576 L3008.53 72.576 L3008.53 27.2059 M3008.53 9.54393 L3015.98 9.54393 L3015.98 18.9825 L3008.53 18.9825 L3008.53 9.54393 Z\" fill=\"#000000\" fill-rule=\"evenodd\" fill-opacity=\"1\" /><path clip-path=\"url(#clip880)\" d=\"M3026.23 27.2059 L3034.13 27.2059 L3048.31 65.2844 L3062.49 27.2059 L3070.39 27.2059 L3053.37 72.576 L3043.24 72.576 L3026.23 27.2059 Z\" fill=\"#000000\" fill-rule=\"evenodd\" fill-opacity=\"1\" /><path clip-path=\"url(#clip880)\" d=\"M3101.29 49.7694 Q3092.26 49.7694 3088.78 51.8354 Q3085.29 53.9013 3085.29 58.8839 Q3085.29 62.8538 3087.89 65.2034 Q3090.52 67.5124 3095.02 67.5124 Q3101.21 67.5124 3104.94 63.1374 Q3108.71 58.7219 3108.71 51.4303 L3108.71 49.7694 L3101.29 49.7694 M3116.16 46.6907 L3116.16 72.576 L3108.71 72.576 L3108.71 65.6895 Q3106.16 69.8214 3102.35 71.8063 Q3098.54 73.7508 3093.03 73.7508 Q3086.06 73.7508 3081.93 69.8619 Q3077.84 65.9325 3077.84 59.3701 Q3077.84 51.7138 3082.94 47.825 Q3088.09 43.9361 3098.26 43.9361 L3108.71 43.9361 L3108.71 43.2069 Q3108.71 38.0623 3105.3 35.2672 Q3101.94 32.4315 3095.83 32.4315 Q3091.94 32.4315 3088.25 33.3632 Q3084.56 34.295 3081.16 36.1584 L3081.16 29.2718 Q3085.25 27.692 3089.1 26.9223 Q3092.95 26.1121 3096.6 26.1121 Q3106.44 26.1121 3111.3 31.2163 Q3116.16 36.3204 3116.16 46.6907 Z\" fill=\"#000000\" fill-rule=\"evenodd\" fill-opacity=\"1\" /><path clip-path=\"url(#clip880)\" d=\"M3138.89 14.324 L3138.89 27.2059 L3154.24 27.2059 L3154.24 32.9987 L3138.89 32.9987 L3138.89 57.6282 Q3138.89 63.1779 3140.39 64.7578 Q3141.92 66.3376 3146.58 66.3376 L3154.24 66.3376 L3154.24 72.576 L3146.58 72.576 Q3137.95 72.576 3134.67 69.3758 Q3131.39 66.1351 3131.39 57.6282 L3131.39 32.9987 L3125.92 32.9987 L3125.92 27.2059 L3131.39 27.2059 L3131.39 14.324 L3138.89 14.324 Z\" fill=\"#000000\" fill-rule=\"evenodd\" fill-opacity=\"1\" /><path clip-path=\"url(#clip880)\" d=\"M3164.04 27.2059 L3171.5 27.2059 L3171.5 72.576 L3164.04 72.576 L3164.04 27.2059 M3164.04 9.54393 L3171.5 9.54393 L3171.5 18.9825 L3164.04 18.9825 L3164.04 9.54393 Z\" fill=\"#000000\" fill-rule=\"evenodd\" fill-opacity=\"1\" /><path clip-path=\"url(#clip880)\" d=\"M3181.75 27.2059 L3189.64 27.2059 L3203.82 65.2844 L3218 27.2059 L3225.9 27.2059 L3208.89 72.576 L3198.76 72.576 L3181.75 27.2059 Z\" fill=\"#000000\" fill-rule=\"evenodd\" fill-opacity=\"1\" /><path clip-path=\"url(#clip880)\" d=\"M3275 48.0275 L3275 51.6733 L3240.73 51.6733 Q3241.21 59.3701 3245.34 63.421 Q3249.52 67.4314 3256.93 67.4314 Q3261.22 67.4314 3265.23 66.3781 Q3269.29 65.3249 3273.25 63.2184 L3273.25 70.267 Q3269.24 71.9684 3265.03 72.8596 Q3260.82 73.7508 3256.48 73.7508 Q3245.63 73.7508 3239.27 67.4314 Q3232.95 61.1119 3232.95 50.3365 Q3232.95 39.1965 3238.94 32.6746 Q3244.98 26.1121 3255.19 26.1121 Q3264.34 26.1121 3269.65 32.0264 Q3275 37.9003 3275 48.0275 M3267.54 45.84 Q3267.46 39.7232 3264.1 36.0774 Q3260.78 32.4315 3255.27 32.4315 Q3249.03 32.4315 3245.26 35.9558 Q3241.54 39.4801 3240.97 45.8805 L3267.54 45.84 Z\" fill=\"#000000\" fill-rule=\"evenodd\" fill-opacity=\"1\" /><polyline clip-path=\"url(#clip883)\" style=\"stroke:#009af9; stroke-linecap:butt; stroke-linejoin:round; stroke-width:8; stroke-opacity:1; fill:none\" points=\"\n  2063.06,121.944 2128.8,346.125 2194.54,462.719 2260.29,531.623 2326.03,564.788 2391.77,591.115 2457.51,630.907 2523.25,660.17 2588.99,732.284 2654.73,917.689 \n  2720.47,711.082 2786.21,1015.07 2851.96,703.073 2917.7,772.276 2983.44,1079.02 3049.18,657.34 3114.92,732.34 3180.66,663.352 3246.4,828.984 3312.14,684.465 \n  3377.88,1005.03 3443.63,955.668 3509.37,810.873 \n  \"/>\n</svg>\n",
      "text/html": [
       "<?xml version=\"1.0\" encoding=\"utf-8\"?>\n",
       "<svg xmlns=\"http://www.w3.org/2000/svg\" xmlns:xlink=\"http://www.w3.org/1999/xlink\" width=\"900\" height=\"300\" viewBox=\"0 0 3600 1200\">\n",
       "<defs>\n",
       "  <clipPath id=\"clip930\">\n",
       "    <rect x=\"0\" y=\"0\" width=\"3600\" height=\"1200\"/>\n",
       "  </clipPath>\n",
       "</defs>\n",
       "<path clip-path=\"url(#clip930)\" d=\"\n",
       "M0 1200 L3600 1200 L3600 0 L0 0  Z\n",
       "  \" fill=\"#ffffff\" fill-rule=\"evenodd\" fill-opacity=\"1\"/>\n",
       "<defs>\n",
       "  <clipPath id=\"clip931\">\n",
       "    <rect x=\"720\" y=\"0\" width=\"2521\" height=\"1200\"/>\n",
       "  </clipPath>\n",
       "</defs>\n",
       "<path clip-path=\"url(#clip930)\" d=\"\n",
       "M237.851 1107.73 L1770.93 1107.73 L1770.93 93.2321 L237.851 93.2321  Z\n",
       "  \" fill=\"#ffffff\" fill-rule=\"evenodd\" fill-opacity=\"1\"/>\n",
       "<defs>\n",
       "  <clipPath id=\"clip932\">\n",
       "    <rect x=\"237\" y=\"93\" width=\"1534\" height=\"1015\"/>\n",
       "  </clipPath>\n",
       "</defs>\n",
       "<polyline clip-path=\"url(#clip932)\" style=\"stroke:#000000; stroke-linecap:butt; stroke-linejoin:round; stroke-width:2; stroke-opacity:0.1; fill:none\" points=\"\n",
       "  532.772,1107.73 532.772,93.2321 \n",
       "  \"/>\n",
       "<polyline clip-path=\"url(#clip932)\" style=\"stroke:#000000; stroke-linecap:butt; stroke-linejoin:round; stroke-width:2; stroke-opacity:0.1; fill:none\" points=\"\n",
       "  847.186,1107.73 847.186,93.2321 \n",
       "  \"/>\n",
       "<polyline clip-path=\"url(#clip932)\" style=\"stroke:#000000; stroke-linecap:butt; stroke-linejoin:round; stroke-width:2; stroke-opacity:0.1; fill:none\" points=\"\n",
       "  1161.6,1107.73 1161.6,93.2321 \n",
       "  \"/>\n",
       "<polyline clip-path=\"url(#clip932)\" style=\"stroke:#000000; stroke-linecap:butt; stroke-linejoin:round; stroke-width:2; stroke-opacity:0.1; fill:none\" points=\"\n",
       "  1476.01,1107.73 1476.01,93.2321 \n",
       "  \"/>\n",
       "<polyline clip-path=\"url(#clip930)\" style=\"stroke:#000000; stroke-linecap:butt; stroke-linejoin:round; stroke-width:4; stroke-opacity:1; fill:none\" points=\"\n",
       "  237.851,1107.73 1770.93,1107.73 \n",
       "  \"/>\n",
       "<polyline clip-path=\"url(#clip930)\" style=\"stroke:#000000; stroke-linecap:butt; stroke-linejoin:round; stroke-width:4; stroke-opacity:1; fill:none\" points=\"\n",
       "  532.772,1107.73 532.772,1088.83 \n",
       "  \"/>\n",
       "<polyline clip-path=\"url(#clip930)\" style=\"stroke:#000000; stroke-linecap:butt; stroke-linejoin:round; stroke-width:4; stroke-opacity:1; fill:none\" points=\"\n",
       "  847.186,1107.73 847.186,1088.83 \n",
       "  \"/>\n",
       "<polyline clip-path=\"url(#clip930)\" style=\"stroke:#000000; stroke-linecap:butt; stroke-linejoin:round; stroke-width:4; stroke-opacity:1; fill:none\" points=\"\n",
       "  1161.6,1107.73 1161.6,1088.83 \n",
       "  \"/>\n",
       "<polyline clip-path=\"url(#clip930)\" style=\"stroke:#000000; stroke-linecap:butt; stroke-linejoin:round; stroke-width:4; stroke-opacity:1; fill:none\" points=\"\n",
       "  1476.01,1107.73 1476.01,1088.83 \n",
       "  \"/>\n",
       "<path clip-path=\"url(#clip930)\" d=\"M523.049 1145.17 L541.406 1145.17 L541.406 1149.1 L527.332 1149.1 L527.332 1157.58 Q528.35 1157.23 529.369 1157.07 Q530.387 1156.88 531.406 1156.88 Q537.193 1156.88 540.572 1160.05 Q543.952 1163.22 543.952 1168.64 Q543.952 1174.22 540.48 1177.32 Q537.008 1180.4 530.688 1180.4 Q528.512 1180.4 526.244 1180.03 Q523.998 1179.66 521.591 1178.92 L521.591 1174.22 Q523.674 1175.35 525.897 1175.91 Q528.119 1176.46 530.596 1176.46 Q534.6 1176.46 536.938 1174.36 Q539.276 1172.25 539.276 1168.64 Q539.276 1165.03 536.938 1162.92 Q534.6 1160.82 530.596 1160.82 Q528.721 1160.82 526.846 1161.23 Q524.994 1161.65 523.049 1162.53 L523.049 1145.17 Z\" fill=\"#000000\" fill-rule=\"evenodd\" fill-opacity=\"1\" /><path clip-path=\"url(#clip930)\" d=\"M821.873 1175.79 L829.512 1175.79 L829.512 1149.43 L821.202 1151.09 L821.202 1146.83 L829.466 1145.17 L834.142 1145.17 L834.142 1175.79 L841.78 1175.79 L841.78 1179.73 L821.873 1179.73 L821.873 1175.79 Z\" fill=\"#000000\" fill-rule=\"evenodd\" fill-opacity=\"1\" /><path clip-path=\"url(#clip930)\" d=\"M861.225 1148.25 Q857.614 1148.25 855.785 1151.81 Q853.979 1155.35 853.979 1162.48 Q853.979 1169.59 855.785 1173.15 Q857.614 1176.7 861.225 1176.7 Q864.859 1176.7 866.665 1173.15 Q868.493 1169.59 868.493 1162.48 Q868.493 1155.35 866.665 1151.81 Q864.859 1148.25 861.225 1148.25 M861.225 1144.54 Q867.035 1144.54 870.09 1149.15 Q873.169 1153.73 873.169 1162.48 Q873.169 1171.21 870.09 1175.82 Q867.035 1180.4 861.225 1180.4 Q855.415 1180.4 852.336 1175.82 Q849.28 1171.21 849.28 1162.48 Q849.28 1153.73 852.336 1149.15 Q855.415 1144.54 861.225 1144.54 Z\" fill=\"#000000\" fill-rule=\"evenodd\" fill-opacity=\"1\" /><path clip-path=\"url(#clip930)\" d=\"M1136.78 1175.79 L1144.42 1175.79 L1144.42 1149.43 L1136.11 1151.09 L1136.11 1146.83 L1144.38 1145.17 L1149.05 1145.17 L1149.05 1175.79 L1156.69 1175.79 L1156.69 1179.73 L1136.78 1179.73 L1136.78 1175.79 Z\" fill=\"#000000\" fill-rule=\"evenodd\" fill-opacity=\"1\" /><path clip-path=\"url(#clip930)\" d=\"M1166.18 1145.17 L1184.54 1145.17 L1184.54 1149.1 L1170.47 1149.1 L1170.47 1157.58 Q1171.48 1157.23 1172.5 1157.07 Q1173.52 1156.88 1174.54 1156.88 Q1180.33 1156.88 1183.71 1160.05 Q1187.09 1163.22 1187.09 1168.64 Q1187.09 1174.22 1183.61 1177.32 Q1180.14 1180.4 1173.82 1180.4 Q1171.65 1180.4 1169.38 1180.03 Q1167.13 1179.66 1164.72 1178.92 L1164.72 1174.22 Q1166.81 1175.35 1169.03 1175.91 Q1171.25 1176.46 1173.73 1176.46 Q1177.73 1176.46 1180.07 1174.36 Q1182.41 1172.25 1182.41 1168.64 Q1182.41 1165.03 1180.07 1162.92 Q1177.73 1160.82 1173.73 1160.82 Q1171.85 1160.82 1169.98 1161.23 Q1168.13 1161.65 1166.18 1162.53 L1166.18 1145.17 Z\" fill=\"#000000\" fill-rule=\"evenodd\" fill-opacity=\"1\" /><path clip-path=\"url(#clip930)\" d=\"M1454.79 1175.79 L1471.11 1175.79 L1471.11 1179.73 L1449.16 1179.73 L1449.16 1175.79 Q1451.82 1173.04 1456.41 1168.41 Q1461.01 1163.76 1462.19 1162.41 Q1464.44 1159.89 1465.32 1158.15 Q1466.22 1156.39 1466.22 1154.7 Q1466.22 1151.95 1464.28 1150.21 Q1462.36 1148.48 1459.25 1148.48 Q1457.06 1148.48 1454.6 1149.24 Q1452.17 1150.01 1449.39 1151.56 L1449.39 1146.83 Q1452.22 1145.7 1454.67 1145.12 Q1457.12 1144.54 1459.16 1144.54 Q1464.53 1144.54 1467.73 1147.23 Q1470.92 1149.91 1470.92 1154.4 Q1470.92 1156.53 1470.11 1158.45 Q1469.32 1160.35 1467.22 1162.95 Q1466.64 1163.62 1463.54 1166.83 Q1460.43 1170.03 1454.79 1175.79 Z\" fill=\"#000000\" fill-rule=\"evenodd\" fill-opacity=\"1\" /><path clip-path=\"url(#clip930)\" d=\"M1490.92 1148.25 Q1487.31 1148.25 1485.48 1151.81 Q1483.68 1155.35 1483.68 1162.48 Q1483.68 1169.59 1485.48 1173.15 Q1487.31 1176.7 1490.92 1176.7 Q1494.55 1176.7 1496.36 1173.15 Q1498.19 1169.59 1498.19 1162.48 Q1498.19 1155.35 1496.36 1151.81 Q1494.55 1148.25 1490.92 1148.25 M1490.92 1144.54 Q1496.73 1144.54 1499.79 1149.15 Q1502.87 1153.73 1502.87 1162.48 Q1502.87 1171.21 1499.79 1175.82 Q1496.73 1180.4 1490.92 1180.4 Q1485.11 1180.4 1482.03 1175.82 Q1478.98 1171.21 1478.98 1162.48 Q1478.98 1153.73 1482.03 1149.15 Q1485.11 1144.54 1490.92 1144.54 Z\" fill=\"#000000\" fill-rule=\"evenodd\" fill-opacity=\"1\" /><polyline clip-path=\"url(#clip932)\" style=\"stroke:#000000; stroke-linecap:butt; stroke-linejoin:round; stroke-width:2; stroke-opacity:0.1; fill:none\" points=\"\n",
       "  237.851,698.705 1770.93,698.705 \n",
       "  \"/>\n",
       "<polyline clip-path=\"url(#clip932)\" style=\"stroke:#000000; stroke-linecap:butt; stroke-linejoin:round; stroke-width:2; stroke-opacity:0.1; fill:none\" points=\"\n",
       "  237.851,268.459 1770.93,268.459 \n",
       "  \"/>\n",
       "<polyline clip-path=\"url(#clip930)\" style=\"stroke:#000000; stroke-linecap:butt; stroke-linejoin:round; stroke-width:4; stroke-opacity:1; fill:none\" points=\"\n",
       "  237.851,1107.73 237.851,93.2321 \n",
       "  \"/>\n",
       "<polyline clip-path=\"url(#clip930)\" style=\"stroke:#000000; stroke-linecap:butt; stroke-linejoin:round; stroke-width:4; stroke-opacity:1; fill:none\" points=\"\n",
       "  237.851,698.705 256.749,698.705 \n",
       "  \"/>\n",
       "<polyline clip-path=\"url(#clip930)\" style=\"stroke:#000000; stroke-linecap:butt; stroke-linejoin:round; stroke-width:4; stroke-opacity:1; fill:none\" points=\"\n",
       "  237.851,268.459 256.749,268.459 \n",
       "  \"/>\n",
       "<path clip-path=\"url(#clip930)\" d=\"M46.4722 718.497 L54.111 718.497 L54.111 692.132 L45.8009 693.798 L45.8009 689.539 L54.0647 687.873 L58.7406 687.873 L58.7406 718.497 L66.3795 718.497 L66.3795 722.433 L46.4722 722.433 L46.4722 718.497 Z\" fill=\"#000000\" fill-rule=\"evenodd\" fill-opacity=\"1\" /><path clip-path=\"url(#clip930)\" d=\"M85.8238 690.951 Q82.2127 690.951 80.384 694.516 Q78.5785 698.058 78.5785 705.187 Q78.5785 712.294 80.384 715.858 Q82.2127 719.4 85.8238 719.4 Q89.458 719.4 91.2636 715.858 Q93.0923 712.294 93.0923 705.187 Q93.0923 698.058 91.2636 694.516 Q89.458 690.951 85.8238 690.951 M85.8238 687.248 Q91.6339 687.248 94.6895 691.854 Q97.7682 696.437 97.7682 705.187 Q97.7682 713.914 94.6895 718.52 Q91.6339 723.104 85.8238 723.104 Q80.0136 723.104 76.935 718.52 Q73.8794 713.914 73.8794 705.187 Q73.8794 696.437 76.935 691.854 Q80.0136 687.248 85.8238 687.248 Z\" fill=\"#000000\" fill-rule=\"evenodd\" fill-opacity=\"1\" /><path clip-path=\"url(#clip930)\" d=\"M97.7682 681.349 L121.88 681.349 L121.88 684.546 L97.7682 684.546 L97.7682 681.349 Z\" fill=\"#000000\" fill-rule=\"evenodd\" fill-opacity=\"1\" /><path clip-path=\"url(#clip930)\" d=\"M133.352 691.825 L146.612 691.825 L146.612 695.022 L128.782 695.022 L128.782 691.825 Q130.945 689.587 134.669 685.825 Q138.412 682.045 139.371 680.954 Q141.195 678.904 141.91 677.493 Q142.644 676.064 142.644 674.691 Q142.644 672.453 141.064 671.042 Q139.503 669.632 136.982 669.632 Q135.196 669.632 133.202 670.252 Q131.227 670.873 128.97 672.133 L128.97 668.296 Q131.265 667.375 133.258 666.905 Q135.252 666.434 136.907 666.434 Q141.271 666.434 143.866 668.616 Q146.461 670.798 146.461 674.446 Q146.461 676.177 145.803 677.738 Q145.164 679.28 143.452 681.386 Q142.982 681.932 140.462 684.546 Q137.942 687.142 133.352 691.825 Z\" fill=\"#000000\" fill-rule=\"evenodd\" fill-opacity=\"1\" /><path clip-path=\"url(#clip930)\" d=\"M154.586 690.245 L158.555 690.245 L158.555 695.022 L154.586 695.022 L154.586 690.245 Z\" fill=\"#000000\" fill-rule=\"evenodd\" fill-opacity=\"1\" /><path clip-path=\"url(#clip930)\" d=\"M166.868 666.942 L181.782 666.942 L181.782 670.139 L170.347 670.139 L170.347 677.023 Q171.175 676.741 172.002 676.609 Q172.83 676.459 173.658 676.459 Q178.359 676.459 181.105 679.036 Q183.851 681.612 183.851 686.013 Q183.851 690.546 181.03 693.066 Q178.209 695.568 173.074 695.568 Q171.307 695.568 169.463 695.267 Q167.639 694.966 165.683 694.364 L165.683 690.546 Q167.376 691.467 169.181 691.919 Q170.987 692.37 172.999 692.37 Q176.253 692.37 178.153 690.659 Q180.052 688.947 180.052 686.013 Q180.052 683.079 178.153 681.368 Q176.253 679.656 172.999 679.656 Q171.476 679.656 169.952 679.995 Q168.448 680.333 166.868 681.048 L166.868 666.942 Z\" fill=\"#000000\" fill-rule=\"evenodd\" fill-opacity=\"1\" /><path clip-path=\"url(#clip930)\" d=\"M45.6634 288.252 L53.3023 288.252 L53.3023 261.886 L44.9921 263.553 L44.9921 259.294 L53.256 257.627 L57.9319 257.627 L57.9319 288.252 L65.5707 288.252 L65.5707 292.187 L45.6634 292.187 L45.6634 288.252 Z\" fill=\"#000000\" fill-rule=\"evenodd\" fill-opacity=\"1\" /><path clip-path=\"url(#clip930)\" d=\"M85.0151 260.706 Q81.404 260.706 79.5753 264.27 Q77.7697 267.812 77.7697 274.942 Q77.7697 282.048 79.5753 285.613 Q81.404 289.154 85.0151 289.154 Q88.6493 289.154 90.4548 285.613 Q92.2835 282.048 92.2835 274.942 Q92.2835 267.812 90.4548 264.27 Q88.6493 260.706 85.0151 260.706 M85.0151 257.002 Q90.8252 257.002 93.8808 261.608 Q96.9594 266.192 96.9594 274.942 Q96.9594 283.668 93.8808 288.275 Q90.8252 292.858 85.0151 292.858 Q79.2049 292.858 76.1262 288.275 Q73.0707 283.668 73.0707 274.942 Q73.0707 266.192 76.1262 261.608 Q79.2049 257.002 85.0151 257.002 Z\" fill=\"#000000\" fill-rule=\"evenodd\" fill-opacity=\"1\" /><path clip-path=\"url(#clip930)\" d=\"M96.9594 251.103 L121.071 251.103 L121.071 254.301 L96.9594 254.301 L96.9594 251.103 Z\" fill=\"#000000\" fill-rule=\"evenodd\" fill-opacity=\"1\" /><path clip-path=\"url(#clip930)\" d=\"M132.544 261.579 L145.803 261.579 L145.803 264.776 L127.973 264.776 L127.973 261.579 Q130.136 259.341 133.86 255.579 Q137.603 251.799 138.562 250.708 Q140.387 248.658 141.101 247.248 Q141.835 245.818 141.835 244.445 Q141.835 242.207 140.255 240.797 Q138.694 239.386 136.174 239.386 Q134.387 239.386 132.393 240.007 Q130.418 240.627 128.162 241.887 L128.162 238.051 Q130.456 237.129 132.45 236.659 Q134.443 236.189 136.098 236.189 Q140.462 236.189 143.057 238.37 Q145.653 240.552 145.653 244.201 Q145.653 245.931 144.994 247.492 Q144.355 249.034 142.644 251.141 Q142.173 251.686 139.653 254.301 Q137.133 256.896 132.544 261.579 Z\" fill=\"#000000\" fill-rule=\"evenodd\" fill-opacity=\"1\" /><path clip-path=\"url(#clip930)\" d=\"M153.778 259.999 L157.746 259.999 L157.746 264.776 L153.778 264.776 L153.778 259.999 Z\" fill=\"#000000\" fill-rule=\"evenodd\" fill-opacity=\"1\" /><path clip-path=\"url(#clip930)\" d=\"M174.147 239.198 Q171.213 239.198 169.727 242.094 Q168.26 244.972 168.26 250.765 Q168.26 256.539 169.727 259.435 Q171.213 262.313 174.147 262.313 Q177.099 262.313 178.566 259.435 Q180.052 256.539 180.052 250.765 Q180.052 244.972 178.566 242.094 Q177.099 239.198 174.147 239.198 M174.147 236.189 Q178.867 236.189 181.35 239.931 Q183.851 243.655 183.851 250.765 Q183.851 257.855 181.35 261.598 Q178.867 265.322 174.147 265.322 Q169.426 265.322 166.924 261.598 Q164.442 257.855 164.442 250.765 Q164.442 243.655 166.924 239.931 Q169.426 236.189 174.147 236.189 Z\" fill=\"#000000\" fill-rule=\"evenodd\" fill-opacity=\"1\" /><path clip-path=\"url(#clip930)\" d=\"M738.37 12.096 L746.552 12.096 L746.552 65.6895 L776.002 65.6895 L776.002 72.576 L738.37 72.576 L738.37 12.096 Z\" fill=\"#000000\" fill-rule=\"evenodd\" fill-opacity=\"1\" /><path clip-path=\"url(#clip930)\" d=\"M800.389 32.4315 Q794.394 32.4315 790.91 37.1306 Q787.426 41.7891 787.426 49.9314 Q787.426 58.0738 790.869 62.7728 Q794.353 67.4314 800.389 67.4314 Q806.344 67.4314 809.828 62.7323 Q813.311 58.0333 813.311 49.9314 Q813.311 41.8701 809.828 37.1711 Q806.344 32.4315 800.389 32.4315 M800.389 26.1121 Q810.111 26.1121 815.661 32.4315 Q821.211 38.7509 821.211 49.9314 Q821.211 61.0714 815.661 67.4314 Q810.111 73.7508 800.389 73.7508 Q790.626 73.7508 785.077 67.4314 Q779.567 61.0714 779.567 49.9314 Q779.567 38.7509 785.077 32.4315 Q790.626 26.1121 800.389 26.1121 Z\" fill=\"#000000\" fill-rule=\"evenodd\" fill-opacity=\"1\" /><path clip-path=\"url(#clip930)\" d=\"M862.489 28.5427 L862.489 35.5912 Q859.33 33.9709 855.927 33.1607 Q852.524 32.3505 848.878 32.3505 Q843.329 32.3505 840.533 34.0519 Q837.779 35.7533 837.779 39.156 Q837.779 41.7486 839.764 43.2475 Q841.749 44.7058 847.744 46.0426 L850.296 46.6097 Q858.236 48.3111 861.558 51.4303 Q864.92 54.509 864.92 60.0587 Q864.92 66.3781 859.897 70.0644 Q854.914 73.7508 846.164 73.7508 Q842.518 73.7508 838.548 73.0216 Q834.619 72.3329 830.244 70.9151 L830.244 63.2184 Q834.376 65.3654 838.386 66.4591 Q842.397 67.5124 846.326 67.5124 Q851.592 67.5124 854.428 65.73 Q857.264 63.9071 857.264 60.6258 Q857.264 57.5877 855.198 55.9673 Q853.172 54.3469 846.245 52.8481 L843.653 52.2405 Q836.726 50.7821 833.647 47.7845 Q830.568 44.7463 830.568 39.4801 Q830.568 33.0797 835.105 29.5959 Q839.642 26.1121 847.987 26.1121 Q852.119 26.1121 855.765 26.7198 Q859.411 27.3274 862.489 28.5427 Z\" fill=\"#000000\" fill-rule=\"evenodd\" fill-opacity=\"1\" /><path clip-path=\"url(#clip930)\" d=\"M905.712 28.5427 L905.712 35.5912 Q902.553 33.9709 899.15 33.1607 Q895.747 32.3505 892.101 32.3505 Q886.552 32.3505 883.757 34.0519 Q881.002 35.7533 881.002 39.156 Q881.002 41.7486 882.987 43.2475 Q884.972 44.7058 890.967 46.0426 L893.519 46.6097 Q901.459 48.3111 904.781 51.4303 Q908.143 54.509 908.143 60.0587 Q908.143 66.3781 903.12 70.0644 Q898.137 73.7508 889.387 73.7508 Q885.741 73.7508 881.772 73.0216 Q877.842 72.3329 873.467 70.9151 L873.467 63.2184 Q877.599 65.3654 881.61 66.4591 Q885.62 67.5124 889.549 67.5124 Q894.816 67.5124 897.651 65.73 Q900.487 63.9071 900.487 60.6258 Q900.487 57.5877 898.421 55.9673 Q896.395 54.3469 889.468 52.8481 L886.876 52.2405 Q879.949 50.7821 876.87 47.7845 Q873.791 44.7463 873.791 39.4801 Q873.791 33.0797 878.328 29.5959 Q882.865 26.1121 891.21 26.1121 Q895.342 26.1121 898.988 26.7198 Q902.634 27.3274 905.712 28.5427 Z\" fill=\"#000000\" fill-rule=\"evenodd\" fill-opacity=\"1\" /><path clip-path=\"url(#clip930)\" d=\"M969.352 9.54393 L969.352 15.7418 L962.223 15.7418 Q958.212 15.7418 956.632 17.3622 Q955.093 18.9825 955.093 23.1955 L955.093 27.2059 L967.367 27.2059 L967.367 32.9987 L955.093 32.9987 L955.093 72.576 L947.599 72.576 L947.599 32.9987 L940.469 32.9987 L940.469 27.2059 L947.599 27.2059 L947.599 24.0462 Q947.599 16.471 951.123 13.0277 Q954.647 9.54393 962.304 9.54393 L969.352 9.54393 Z\" fill=\"#000000\" fill-rule=\"evenodd\" fill-opacity=\"1\" /><path clip-path=\"url(#clip930)\" d=\"M974.821 54.671 L974.821 27.2059 L982.275 27.2059 L982.275 54.3874 Q982.275 60.8284 984.786 64.0691 Q987.298 67.2693 992.321 67.2693 Q998.357 67.2693 1001.84 63.421 Q1005.36 59.5726 1005.36 52.9291 L1005.36 27.2059 L1012.82 27.2059 L1012.82 72.576 L1005.36 72.576 L1005.36 65.6084 Q1002.65 69.7404 999.045 71.7658 Q995.48 73.7508 990.741 73.7508 Q982.923 73.7508 978.872 68.8897 Q974.821 64.0286 974.821 54.671 M993.577 26.1121 L993.577 26.1121 Z\" fill=\"#000000\" fill-rule=\"evenodd\" fill-opacity=\"1\" /><path clip-path=\"url(#clip930)\" d=\"M1065.89 45.1919 L1065.89 72.576 L1058.43 72.576 L1058.43 45.4349 Q1058.43 38.994 1055.92 35.7938 Q1053.41 32.5936 1048.39 32.5936 Q1042.35 32.5936 1038.87 36.4419 Q1035.38 40.2903 1035.38 46.9338 L1035.38 72.576 L1027.89 72.576 L1027.89 27.2059 L1035.38 27.2059 L1035.38 34.2544 Q1038.06 30.163 1041.66 28.1376 Q1045.31 26.1121 1050.05 26.1121 Q1057.86 26.1121 1061.87 30.9732 Q1065.89 35.7938 1065.89 45.1919 Z\" fill=\"#000000\" fill-rule=\"evenodd\" fill-opacity=\"1\" /><path clip-path=\"url(#clip930)\" d=\"M1113.4 28.9478 L1113.4 35.9153 Q1110.24 34.1734 1107.04 33.3227 Q1103.88 32.4315 1100.64 32.4315 Q1093.39 32.4315 1089.38 37.0496 Q1085.37 41.6271 1085.37 49.9314 Q1085.37 58.2358 1089.38 62.8538 Q1093.39 67.4314 1100.64 67.4314 Q1103.88 67.4314 1107.04 66.5807 Q1110.24 65.6895 1113.4 63.9476 L1113.4 70.8341 Q1110.28 72.2924 1106.92 73.0216 Q1103.6 73.7508 1099.83 73.7508 Q1089.58 73.7508 1083.55 67.3098 Q1077.51 60.8689 1077.51 49.9314 Q1077.51 38.832 1083.59 32.472 Q1089.7 26.1121 1100.32 26.1121 Q1103.76 26.1121 1107.04 26.8413 Q1110.32 27.5299 1113.4 28.9478 Z\" fill=\"#000000\" fill-rule=\"evenodd\" fill-opacity=\"1\" /><path clip-path=\"url(#clip930)\" d=\"M1133.74 14.324 L1133.74 27.2059 L1149.09 27.2059 L1149.09 32.9987 L1133.74 32.9987 L1133.74 57.6282 Q1133.74 63.1779 1135.24 64.7578 Q1136.78 66.3376 1141.43 66.3376 L1149.09 66.3376 L1149.09 72.576 L1141.43 72.576 Q1132.81 72.576 1129.52 69.3758 Q1126.24 66.1351 1126.24 57.6282 L1126.24 32.9987 L1120.77 32.9987 L1120.77 27.2059 L1126.24 27.2059 L1126.24 14.324 L1133.74 14.324 Z\" fill=\"#000000\" fill-rule=\"evenodd\" fill-opacity=\"1\" /><path clip-path=\"url(#clip930)\" d=\"M1158.89 27.2059 L1166.35 27.2059 L1166.35 72.576 L1158.89 72.576 L1158.89 27.2059 M1158.89 9.54393 L1166.35 9.54393 L1166.35 18.9825 L1158.89 18.9825 L1158.89 9.54393 Z\" fill=\"#000000\" fill-rule=\"evenodd\" fill-opacity=\"1\" /><path clip-path=\"url(#clip930)\" d=\"M1199.52 32.4315 Q1193.53 32.4315 1190.05 37.1306 Q1186.56 41.7891 1186.56 49.9314 Q1186.56 58.0738 1190 62.7728 Q1193.49 67.4314 1199.52 67.4314 Q1205.48 67.4314 1208.96 62.7323 Q1212.45 58.0333 1212.45 49.9314 Q1212.45 41.8701 1208.96 37.1711 Q1205.48 32.4315 1199.52 32.4315 M1199.52 26.1121 Q1209.25 26.1121 1214.8 32.4315 Q1220.35 38.7509 1220.35 49.9314 Q1220.35 61.0714 1214.8 67.4314 Q1209.25 73.7508 1199.52 73.7508 Q1189.76 73.7508 1184.21 67.4314 Q1178.7 61.0714 1178.7 49.9314 Q1178.7 38.7509 1184.21 32.4315 Q1189.76 26.1121 1199.52 26.1121 Z\" fill=\"#000000\" fill-rule=\"evenodd\" fill-opacity=\"1\" /><path clip-path=\"url(#clip930)\" d=\"M1270.42 45.1919 L1270.42 72.576 L1262.96 72.576 L1262.96 45.4349 Q1262.96 38.994 1260.45 35.7938 Q1257.94 32.5936 1252.92 32.5936 Q1246.88 32.5936 1243.4 36.4419 Q1239.91 40.2903 1239.91 46.9338 L1239.91 72.576 L1232.42 72.576 L1232.42 27.2059 L1239.91 27.2059 L1239.91 34.2544 Q1242.59 30.163 1246.19 28.1376 Q1249.84 26.1121 1254.58 26.1121 Q1262.39 26.1121 1266.4 30.9732 Q1270.42 35.7938 1270.42 45.1919 Z\" fill=\"#000000\" fill-rule=\"evenodd\" fill-opacity=\"1\" /><polyline clip-path=\"url(#clip932)\" style=\"stroke:#009af9; stroke-linecap:butt; stroke-linejoin:round; stroke-width:8; stroke-opacity:1; fill:none\" points=\"\n",
       "  281.24,121.944 344.123,407.484 407.006,523.922 469.889,594.243 532.772,647.312 595.654,696.375 658.537,743.408 721.42,784.277 784.303,821.818 847.186,847.405 \n",
       "  910.068,839.538 972.951,870.547 1035.83,875.069 1098.72,911.235 1161.6,936.29 1224.48,939.847 1287.37,999.531 1350.25,961.734 1413.13,1022.7 1476.01,1000.76 \n",
       "  1538.9,1059.6 1601.78,1067.64 1664.66,1079.02 1727.54,1050.57 \n",
       "  \"/>\n",
       "<path clip-path=\"url(#clip930)\" d=\"\n",
       "M2019.67 1107.73 L3552.76 1107.73 L3552.76 93.2321 L2019.67 93.2321  Z\n",
       "  \" fill=\"#ffffff\" fill-rule=\"evenodd\" fill-opacity=\"1\"/>\n",
       "<defs>\n",
       "  <clipPath id=\"clip933\">\n",
       "    <rect x=\"2019\" y=\"93\" width=\"1534\" height=\"1015\"/>\n",
       "  </clipPath>\n",
       "</defs>\n",
       "<polyline clip-path=\"url(#clip933)\" style=\"stroke:#000000; stroke-linecap:butt; stroke-linejoin:round; stroke-width:2; stroke-opacity:0.1; fill:none\" points=\"\n",
       "  2260.29,1107.73 2260.29,93.2321 \n",
       "  \"/>\n",
       "<polyline clip-path=\"url(#clip933)\" style=\"stroke:#000000; stroke-linecap:butt; stroke-linejoin:round; stroke-width:2; stroke-opacity:0.1; fill:none\" points=\"\n",
       "  2588.99,1107.73 2588.99,93.2321 \n",
       "  \"/>\n",
       "<polyline clip-path=\"url(#clip933)\" style=\"stroke:#000000; stroke-linecap:butt; stroke-linejoin:round; stroke-width:2; stroke-opacity:0.1; fill:none\" points=\"\n",
       "  2917.7,1107.73 2917.7,93.2321 \n",
       "  \"/>\n",
       "<polyline clip-path=\"url(#clip933)\" style=\"stroke:#000000; stroke-linecap:butt; stroke-linejoin:round; stroke-width:2; stroke-opacity:0.1; fill:none\" points=\"\n",
       "  3246.4,1107.73 3246.4,93.2321 \n",
       "  \"/>\n",
       "<polyline clip-path=\"url(#clip930)\" style=\"stroke:#000000; stroke-linecap:butt; stroke-linejoin:round; stroke-width:4; stroke-opacity:1; fill:none\" points=\"\n",
       "  2019.67,1107.73 3552.76,1107.73 \n",
       "  \"/>\n",
       "<polyline clip-path=\"url(#clip930)\" style=\"stroke:#000000; stroke-linecap:butt; stroke-linejoin:round; stroke-width:4; stroke-opacity:1; fill:none\" points=\"\n",
       "  2260.29,1107.73 2260.29,1088.83 \n",
       "  \"/>\n",
       "<polyline clip-path=\"url(#clip930)\" style=\"stroke:#000000; stroke-linecap:butt; stroke-linejoin:round; stroke-width:4; stroke-opacity:1; fill:none\" points=\"\n",
       "  2588.99,1107.73 2588.99,1088.83 \n",
       "  \"/>\n",
       "<polyline clip-path=\"url(#clip930)\" style=\"stroke:#000000; stroke-linecap:butt; stroke-linejoin:round; stroke-width:4; stroke-opacity:1; fill:none\" points=\"\n",
       "  2917.7,1107.73 2917.7,1088.83 \n",
       "  \"/>\n",
       "<polyline clip-path=\"url(#clip930)\" style=\"stroke:#000000; stroke-linecap:butt; stroke-linejoin:round; stroke-width:4; stroke-opacity:1; fill:none\" points=\"\n",
       "  3246.4,1107.73 3246.4,1088.83 \n",
       "  \"/>\n",
       "<path clip-path=\"url(#clip930)\" d=\"M2250.56 1145.17 L2268.92 1145.17 L2268.92 1149.1 L2254.85 1149.1 L2254.85 1157.58 Q2255.86 1157.23 2256.88 1157.07 Q2257.9 1156.88 2258.92 1156.88 Q2264.71 1156.88 2268.09 1160.05 Q2271.47 1163.22 2271.47 1168.64 Q2271.47 1174.22 2267.99 1177.32 Q2264.52 1180.4 2258.2 1180.4 Q2256.03 1180.4 2253.76 1180.03 Q2251.51 1179.66 2249.11 1178.92 L2249.11 1174.22 Q2251.19 1175.35 2253.41 1175.91 Q2255.63 1176.46 2258.11 1176.46 Q2262.11 1176.46 2264.45 1174.36 Q2266.79 1172.25 2266.79 1168.64 Q2266.79 1165.03 2264.45 1162.92 Q2262.11 1160.82 2258.11 1160.82 Q2256.24 1160.82 2254.36 1161.23 Q2252.51 1161.65 2250.56 1162.53 L2250.56 1145.17 Z\" fill=\"#000000\" fill-rule=\"evenodd\" fill-opacity=\"1\" /><path clip-path=\"url(#clip930)\" d=\"M2563.68 1175.79 L2571.32 1175.79 L2571.32 1149.43 L2563.01 1151.09 L2563.01 1146.83 L2571.27 1145.17 L2575.95 1145.17 L2575.95 1175.79 L2583.59 1175.79 L2583.59 1179.73 L2563.68 1179.73 L2563.68 1175.79 Z\" fill=\"#000000\" fill-rule=\"evenodd\" fill-opacity=\"1\" /><path clip-path=\"url(#clip930)\" d=\"M2603.03 1148.25 Q2599.42 1148.25 2597.59 1151.81 Q2595.79 1155.35 2595.79 1162.48 Q2595.79 1169.59 2597.59 1173.15 Q2599.42 1176.7 2603.03 1176.7 Q2606.67 1176.7 2608.47 1173.15 Q2610.3 1169.59 2610.3 1162.48 Q2610.3 1155.35 2608.47 1151.81 Q2606.67 1148.25 2603.03 1148.25 M2603.03 1144.54 Q2608.84 1144.54 2611.9 1149.15 Q2614.98 1153.73 2614.98 1162.48 Q2614.98 1171.21 2611.9 1175.82 Q2608.84 1180.4 2603.03 1180.4 Q2597.22 1180.4 2594.14 1175.82 Q2591.09 1171.21 2591.09 1162.48 Q2591.09 1153.73 2594.14 1149.15 Q2597.22 1144.54 2603.03 1144.54 Z\" fill=\"#000000\" fill-rule=\"evenodd\" fill-opacity=\"1\" /><path clip-path=\"url(#clip930)\" d=\"M2892.88 1175.79 L2900.52 1175.79 L2900.52 1149.43 L2892.21 1151.09 L2892.21 1146.83 L2900.47 1145.17 L2905.15 1145.17 L2905.15 1175.79 L2912.79 1175.79 L2912.79 1179.73 L2892.88 1179.73 L2892.88 1175.79 Z\" fill=\"#000000\" fill-rule=\"evenodd\" fill-opacity=\"1\" /><path clip-path=\"url(#clip930)\" d=\"M2922.28 1145.17 L2940.64 1145.17 L2940.64 1149.1 L2926.56 1149.1 L2926.56 1157.58 Q2927.58 1157.23 2928.6 1157.07 Q2929.62 1156.88 2930.64 1156.88 Q2936.42 1156.88 2939.8 1160.05 Q2943.18 1163.22 2943.18 1168.64 Q2943.18 1174.22 2939.71 1177.32 Q2936.24 1180.4 2929.92 1180.4 Q2927.74 1180.4 2925.47 1180.03 Q2923.23 1179.66 2920.82 1178.92 L2920.82 1174.22 Q2922.91 1175.35 2925.13 1175.91 Q2927.35 1176.46 2929.83 1176.46 Q2933.83 1176.46 2936.17 1174.36 Q2938.51 1172.25 2938.51 1168.64 Q2938.51 1165.03 2936.17 1162.92 Q2933.83 1160.82 2929.83 1160.82 Q2927.95 1160.82 2926.08 1161.23 Q2924.22 1161.65 2922.28 1162.53 L2922.28 1145.17 Z\" fill=\"#000000\" fill-rule=\"evenodd\" fill-opacity=\"1\" /><path clip-path=\"url(#clip930)\" d=\"M3225.18 1175.79 L3241.5 1175.79 L3241.5 1179.73 L3219.55 1179.73 L3219.55 1175.79 Q3222.21 1173.04 3226.8 1168.41 Q3231.4 1163.76 3232.58 1162.41 Q3234.83 1159.89 3235.71 1158.15 Q3236.61 1156.39 3236.61 1154.7 Q3236.61 1151.95 3234.67 1150.21 Q3232.75 1148.48 3229.64 1148.48 Q3227.44 1148.48 3224.99 1149.24 Q3222.56 1150.01 3219.78 1151.56 L3219.78 1146.83 Q3222.61 1145.7 3225.06 1145.12 Q3227.51 1144.54 3229.55 1144.54 Q3234.92 1144.54 3238.12 1147.23 Q3241.31 1149.91 3241.31 1154.4 Q3241.31 1156.53 3240.5 1158.45 Q3239.71 1160.35 3237.61 1162.95 Q3237.03 1163.62 3233.93 1166.83 Q3230.82 1170.03 3225.18 1175.79 Z\" fill=\"#000000\" fill-rule=\"evenodd\" fill-opacity=\"1\" /><path clip-path=\"url(#clip930)\" d=\"M3261.31 1148.25 Q3257.7 1148.25 3255.87 1151.81 Q3254.06 1155.35 3254.06 1162.48 Q3254.06 1169.59 3255.87 1173.15 Q3257.7 1176.7 3261.31 1176.7 Q3264.94 1176.7 3266.75 1173.15 Q3268.58 1169.59 3268.58 1162.48 Q3268.58 1155.35 3266.75 1151.81 Q3264.94 1148.25 3261.31 1148.25 M3261.31 1144.54 Q3267.12 1144.54 3270.18 1149.15 Q3273.25 1153.73 3273.25 1162.48 Q3273.25 1171.21 3270.18 1175.82 Q3267.12 1180.4 3261.31 1180.4 Q3255.5 1180.4 3252.42 1175.82 Q3249.37 1171.21 3249.37 1162.48 Q3249.37 1153.73 3252.42 1149.15 Q3255.5 1144.54 3261.31 1144.54 Z\" fill=\"#000000\" fill-rule=\"evenodd\" fill-opacity=\"1\" /><polyline clip-path=\"url(#clip933)\" style=\"stroke:#000000; stroke-linecap:butt; stroke-linejoin:round; stroke-width:2; stroke-opacity:0.1; fill:none\" points=\"\n",
       "  2019.67,795.301 3552.76,795.301 \n",
       "  \"/>\n",
       "<polyline clip-path=\"url(#clip933)\" style=\"stroke:#000000; stroke-linecap:butt; stroke-linejoin:round; stroke-width:2; stroke-opacity:0.1; fill:none\" points=\"\n",
       "  2019.67,440.53 3552.76,440.53 \n",
       "  \"/>\n",
       "<polyline clip-path=\"url(#clip930)\" style=\"stroke:#000000; stroke-linecap:butt; stroke-linejoin:round; stroke-width:4; stroke-opacity:1; fill:none\" points=\"\n",
       "  2019.67,1107.73 2019.67,93.2321 \n",
       "  \"/>\n",
       "<polyline clip-path=\"url(#clip930)\" style=\"stroke:#000000; stroke-linecap:butt; stroke-linejoin:round; stroke-width:4; stroke-opacity:1; fill:none\" points=\"\n",
       "  2019.67,795.301 2038.57,795.301 \n",
       "  \"/>\n",
       "<polyline clip-path=\"url(#clip930)\" style=\"stroke:#000000; stroke-linecap:butt; stroke-linejoin:round; stroke-width:4; stroke-opacity:1; fill:none\" points=\"\n",
       "  2019.67,440.53 2038.57,440.53 \n",
       "  \"/>\n",
       "<path clip-path=\"url(#clip930)\" d=\"M1863.84 815.094 L1871.48 815.094 L1871.48 788.728 L1863.17 790.395 L1863.17 786.135 L1871.43 784.469 L1876.11 784.469 L1876.11 815.094 L1883.75 815.094 L1883.75 819.029 L1863.84 819.029 L1863.84 815.094 Z\" fill=\"#000000\" fill-rule=\"evenodd\" fill-opacity=\"1\" /><path clip-path=\"url(#clip930)\" d=\"M1903.19 787.547 Q1899.58 787.547 1897.75 791.112 Q1895.95 794.654 1895.95 801.783 Q1895.95 808.89 1897.75 812.455 Q1899.58 815.996 1903.19 815.996 Q1906.83 815.996 1908.63 812.455 Q1910.46 808.89 1910.46 801.783 Q1910.46 794.654 1908.63 791.112 Q1906.83 787.547 1903.19 787.547 M1903.19 783.844 Q1909 783.844 1912.06 788.45 Q1915.14 793.033 1915.14 801.783 Q1915.14 810.51 1912.06 815.117 Q1909 819.7 1903.19 819.7 Q1897.38 819.7 1894.3 815.117 Q1891.25 810.51 1891.25 801.783 Q1891.25 793.033 1894.3 788.45 Q1897.38 783.844 1903.19 783.844 Z\" fill=\"#000000\" fill-rule=\"evenodd\" fill-opacity=\"1\" /><path clip-path=\"url(#clip930)\" d=\"M1915.14 777.945 L1939.25 777.945 L1939.25 781.142 L1915.14 781.142 L1915.14 777.945 Z\" fill=\"#000000\" fill-rule=\"evenodd\" fill-opacity=\"1\" /><path clip-path=\"url(#clip930)\" d=\"M1957.89 766.848 L1948.3 781.838 L1957.89 781.838 L1957.89 766.848 M1956.89 763.538 L1961.67 763.538 L1961.67 781.838 L1965.67 781.838 L1965.67 784.998 L1961.67 784.998 L1961.67 791.618 L1957.89 791.618 L1957.89 784.998 L1945.21 784.998 L1945.21 781.33 L1956.89 763.538 Z\" fill=\"#000000\" fill-rule=\"evenodd\" fill-opacity=\"1\" /><path clip-path=\"url(#clip930)\" d=\"M1864.76 460.322 L1872.4 460.322 L1872.4 433.956 L1864.09 435.623 L1864.09 431.364 L1872.36 429.697 L1877.03 429.697 L1877.03 460.322 L1884.67 460.322 L1884.67 464.257 L1864.76 464.257 L1864.76 460.322 Z\" fill=\"#000000\" fill-rule=\"evenodd\" fill-opacity=\"1\" /><path clip-path=\"url(#clip930)\" d=\"M1904.11 432.776 Q1900.5 432.776 1898.67 436.341 Q1896.87 439.882 1896.87 447.012 Q1896.87 454.118 1898.67 457.683 Q1900.5 461.225 1904.11 461.225 Q1907.75 461.225 1909.55 457.683 Q1911.38 454.118 1911.38 447.012 Q1911.38 439.882 1909.55 436.341 Q1907.75 432.776 1904.11 432.776 M1904.11 429.072 Q1909.92 429.072 1912.98 433.679 Q1916.06 438.262 1916.06 447.012 Q1916.06 455.739 1912.98 460.345 Q1909.92 464.928 1904.11 464.928 Q1898.3 464.928 1895.23 460.345 Q1892.17 455.739 1892.17 447.012 Q1892.17 438.262 1895.23 433.679 Q1898.3 429.072 1904.11 429.072 Z\" fill=\"#000000\" fill-rule=\"evenodd\" fill-opacity=\"1\" /><path clip-path=\"url(#clip930)\" d=\"M1916.06 423.173 L1940.17 423.173 L1940.17 426.371 L1916.06 426.371 L1916.06 423.173 Z\" fill=\"#000000\" fill-rule=\"evenodd\" fill-opacity=\"1\" /><path clip-path=\"url(#clip930)\" d=\"M1959.88 421.706 Q1962.61 422.29 1964.13 424.133 Q1965.67 425.976 1965.67 428.684 Q1965.67 432.841 1962.81 435.116 Q1959.96 437.392 1954.69 437.392 Q1952.92 437.392 1951.04 437.035 Q1949.18 436.696 1947.19 436 L1947.19 432.333 Q1948.77 433.254 1950.65 433.725 Q1952.53 434.195 1954.58 434.195 Q1958.15 434.195 1960.01 432.784 Q1961.89 431.374 1961.89 428.684 Q1961.89 426.202 1960.14 424.81 Q1958.41 423.399 1955.31 423.399 L1952.04 423.399 L1952.04 420.277 L1955.46 420.277 Q1958.26 420.277 1959.75 419.167 Q1961.23 418.039 1961.23 415.933 Q1961.23 413.77 1959.69 412.622 Q1958.17 411.456 1955.31 411.456 Q1953.75 411.456 1951.96 411.795 Q1950.18 412.133 1948.03 412.848 L1948.03 409.463 Q1950.19 408.861 1952.08 408.56 Q1953.98 408.259 1955.65 408.259 Q1959.97 408.259 1962.5 410.234 Q1965.02 412.19 1965.02 415.538 Q1965.02 417.87 1963.68 419.487 Q1962.34 421.086 1959.88 421.706 Z\" fill=\"#000000\" fill-rule=\"evenodd\" fill-opacity=\"1\" /><path clip-path=\"url(#clip930)\" d=\"M2297.43 12.096 L2305.62 12.096 L2305.62 65.6895 L2335.07 65.6895 L2335.07 72.576 L2297.43 72.576 L2297.43 12.096 Z\" fill=\"#000000\" fill-rule=\"evenodd\" fill-opacity=\"1\" /><path clip-path=\"url(#clip930)\" d=\"M2359.45 32.4315 Q2353.46 32.4315 2349.97 37.1306 Q2346.49 41.7891 2346.49 49.9314 Q2346.49 58.0738 2349.93 62.7728 Q2353.42 67.4314 2359.45 67.4314 Q2365.41 67.4314 2368.89 62.7323 Q2372.37 58.0333 2372.37 49.9314 Q2372.37 41.8701 2368.89 37.1711 Q2365.41 32.4315 2359.45 32.4315 M2359.45 26.1121 Q2369.17 26.1121 2374.72 32.4315 Q2380.27 38.7509 2380.27 49.9314 Q2380.27 61.0714 2374.72 67.4314 Q2369.17 73.7508 2359.45 73.7508 Q2349.69 73.7508 2344.14 67.4314 Q2338.63 61.0714 2338.63 49.9314 Q2338.63 38.7509 2344.14 32.4315 Q2349.69 26.1121 2359.45 26.1121 Z\" fill=\"#000000\" fill-rule=\"evenodd\" fill-opacity=\"1\" /><path clip-path=\"url(#clip930)\" d=\"M2421.55 28.5427 L2421.55 35.5912 Q2418.39 33.9709 2414.99 33.1607 Q2411.59 32.3505 2407.94 32.3505 Q2402.39 32.3505 2399.6 34.0519 Q2396.84 35.7533 2396.84 39.156 Q2396.84 41.7486 2398.83 43.2475 Q2400.81 44.7058 2406.81 46.0426 L2409.36 46.6097 Q2417.3 48.3111 2420.62 51.4303 Q2423.98 54.509 2423.98 60.0587 Q2423.98 66.3781 2418.96 70.0644 Q2413.98 73.7508 2405.23 73.7508 Q2401.58 73.7508 2397.61 73.0216 Q2393.68 72.3329 2389.31 70.9151 L2389.31 63.2184 Q2393.44 65.3654 2397.45 66.4591 Q2401.46 67.5124 2405.39 67.5124 Q2410.66 67.5124 2413.49 65.73 Q2416.33 63.9071 2416.33 60.6258 Q2416.33 57.5877 2414.26 55.9673 Q2412.24 54.3469 2405.31 52.8481 L2402.72 52.2405 Q2395.79 50.7821 2392.71 47.7845 Q2389.63 44.7463 2389.63 39.4801 Q2389.63 33.0797 2394.17 29.5959 Q2398.71 26.1121 2407.05 26.1121 Q2411.18 26.1121 2414.83 26.7198 Q2418.47 27.3274 2421.55 28.5427 Z\" fill=\"#000000\" fill-rule=\"evenodd\" fill-opacity=\"1\" /><path clip-path=\"url(#clip930)\" d=\"M2464.78 28.5427 L2464.78 35.5912 Q2461.62 33.9709 2458.21 33.1607 Q2454.81 32.3505 2451.16 32.3505 Q2445.61 32.3505 2442.82 34.0519 Q2440.07 35.7533 2440.07 39.156 Q2440.07 41.7486 2442.05 43.2475 Q2444.03 44.7058 2450.03 46.0426 L2452.58 46.6097 Q2460.52 48.3111 2463.84 51.4303 Q2467.21 54.509 2467.21 60.0587 Q2467.21 66.3781 2462.18 70.0644 Q2457.2 73.7508 2448.45 73.7508 Q2444.8 73.7508 2440.83 73.0216 Q2436.91 72.3329 2432.53 70.9151 L2432.53 63.2184 Q2436.66 65.3654 2440.67 66.4591 Q2444.68 67.5124 2448.61 67.5124 Q2453.88 67.5124 2456.71 65.73 Q2459.55 63.9071 2459.55 60.6258 Q2459.55 57.5877 2457.48 55.9673 Q2455.46 54.3469 2448.53 52.8481 L2445.94 52.2405 Q2439.01 50.7821 2435.93 47.7845 Q2432.85 44.7463 2432.85 39.4801 Q2432.85 33.0797 2437.39 29.5959 Q2441.93 26.1121 2450.27 26.1121 Q2454.41 26.1121 2458.05 26.7198 Q2461.7 27.3274 2464.78 28.5427 Z\" fill=\"#000000\" fill-rule=\"evenodd\" fill-opacity=\"1\" /><path clip-path=\"url(#clip930)\" d=\"M2528.42 9.54393 L2528.42 15.7418 L2521.29 15.7418 Q2517.28 15.7418 2515.7 17.3622 Q2514.16 18.9825 2514.16 23.1955 L2514.16 27.2059 L2526.43 27.2059 L2526.43 32.9987 L2514.16 32.9987 L2514.16 72.576 L2506.66 72.576 L2506.66 32.9987 L2499.53 32.9987 L2499.53 27.2059 L2506.66 27.2059 L2506.66 24.0462 Q2506.66 16.471 2510.19 13.0277 Q2513.71 9.54393 2521.37 9.54393 L2528.42 9.54393 Z\" fill=\"#000000\" fill-rule=\"evenodd\" fill-opacity=\"1\" /><path clip-path=\"url(#clip930)\" d=\"M2533.88 54.671 L2533.88 27.2059 L2541.34 27.2059 L2541.34 54.3874 Q2541.34 60.8284 2543.85 64.0691 Q2546.36 67.2693 2551.38 67.2693 Q2557.42 67.2693 2560.9 63.421 Q2564.43 59.5726 2564.43 52.9291 L2564.43 27.2059 L2571.88 27.2059 L2571.88 72.576 L2564.43 72.576 L2564.43 65.6084 Q2561.71 69.7404 2558.11 71.7658 Q2554.54 73.7508 2549.8 73.7508 Q2541.99 73.7508 2537.93 68.8897 Q2533.88 64.0286 2533.88 54.671 M2552.64 26.1121 L2552.64 26.1121 Z\" fill=\"#000000\" fill-rule=\"evenodd\" fill-opacity=\"1\" /><path clip-path=\"url(#clip930)\" d=\"M2624.95 45.1919 L2624.95 72.576 L2617.49 72.576 L2617.49 45.4349 Q2617.49 38.994 2614.98 35.7938 Q2612.47 32.5936 2607.45 32.5936 Q2601.41 32.5936 2597.93 36.4419 Q2594.44 40.2903 2594.44 46.9338 L2594.44 72.576 L2586.95 72.576 L2586.95 27.2059 L2594.44 27.2059 L2594.44 34.2544 Q2597.12 30.163 2600.72 28.1376 Q2604.37 26.1121 2609.11 26.1121 Q2616.93 26.1121 2620.94 30.9732 Q2624.95 35.7938 2624.95 45.1919 Z\" fill=\"#000000\" fill-rule=\"evenodd\" fill-opacity=\"1\" /><path clip-path=\"url(#clip930)\" d=\"M2672.47 28.9478 L2672.47 35.9153 Q2669.31 34.1734 2666.11 33.3227 Q2662.95 32.4315 2659.71 32.4315 Q2652.45 32.4315 2648.44 37.0496 Q2644.43 41.6271 2644.43 49.9314 Q2644.43 58.2358 2648.44 62.8538 Q2652.45 67.4314 2659.71 67.4314 Q2662.95 67.4314 2666.11 66.5807 Q2669.31 65.6895 2672.47 63.9476 L2672.47 70.8341 Q2669.35 72.2924 2665.98 73.0216 Q2662.66 73.7508 2658.89 73.7508 Q2648.65 73.7508 2642.61 67.3098 Q2636.57 60.8689 2636.57 49.9314 Q2636.57 38.832 2642.65 32.472 Q2648.77 26.1121 2659.38 26.1121 Q2662.82 26.1121 2666.11 26.8413 Q2669.39 27.5299 2672.47 28.9478 Z\" fill=\"#000000\" fill-rule=\"evenodd\" fill-opacity=\"1\" /><path clip-path=\"url(#clip930)\" d=\"M2692.8 14.324 L2692.8 27.2059 L2708.15 27.2059 L2708.15 32.9987 L2692.8 32.9987 L2692.8 57.6282 Q2692.8 63.1779 2694.3 64.7578 Q2695.84 66.3376 2700.5 66.3376 L2708.15 66.3376 L2708.15 72.576 L2700.5 72.576 Q2691.87 72.576 2688.59 69.3758 Q2685.31 66.1351 2685.31 57.6282 L2685.31 32.9987 L2679.84 32.9987 L2679.84 27.2059 L2685.31 27.2059 L2685.31 14.324 L2692.8 14.324 Z\" fill=\"#000000\" fill-rule=\"evenodd\" fill-opacity=\"1\" /><path clip-path=\"url(#clip930)\" d=\"M2717.96 27.2059 L2725.41 27.2059 L2725.41 72.576 L2717.96 72.576 L2717.96 27.2059 M2717.96 9.54393 L2725.41 9.54393 L2725.41 18.9825 L2717.96 18.9825 L2717.96 9.54393 Z\" fill=\"#000000\" fill-rule=\"evenodd\" fill-opacity=\"1\" /><path clip-path=\"url(#clip930)\" d=\"M2758.59 32.4315 Q2752.59 32.4315 2749.11 37.1306 Q2745.62 41.7891 2745.62 49.9314 Q2745.62 58.0738 2749.07 62.7728 Q2752.55 67.4314 2758.59 67.4314 Q2764.54 67.4314 2768.03 62.7323 Q2771.51 58.0333 2771.51 49.9314 Q2771.51 41.8701 2768.03 37.1711 Q2764.54 32.4315 2758.59 32.4315 M2758.59 26.1121 Q2768.31 26.1121 2773.86 32.4315 Q2779.41 38.7509 2779.41 49.9314 Q2779.41 61.0714 2773.86 67.4314 Q2768.31 73.7508 2758.59 73.7508 Q2748.82 73.7508 2743.28 67.4314 Q2737.77 61.0714 2737.77 49.9314 Q2737.77 38.7509 2743.28 32.4315 Q2748.82 26.1121 2758.59 26.1121 Z\" fill=\"#000000\" fill-rule=\"evenodd\" fill-opacity=\"1\" /><path clip-path=\"url(#clip930)\" d=\"M2829.48 45.1919 L2829.48 72.576 L2822.02 72.576 L2822.02 45.4349 Q2822.02 38.994 2819.51 35.7938 Q2817 32.5936 2811.98 32.5936 Q2805.94 32.5936 2802.46 36.4419 Q2798.98 40.2903 2798.98 46.9338 L2798.98 72.576 L2791.48 72.576 L2791.48 27.2059 L2798.98 27.2059 L2798.98 34.2544 Q2801.65 30.163 2805.25 28.1376 Q2808.9 26.1121 2813.64 26.1121 Q2821.46 26.1121 2825.47 30.9732 Q2829.48 35.7938 2829.48 45.1919 Z\" fill=\"#000000\" fill-rule=\"evenodd\" fill-opacity=\"1\" /><path clip-path=\"url(#clip930)\" d=\"M2900.57 34.0924 L2900.57 9.54393 L2908.03 9.54393 L2908.03 72.576 L2900.57 72.576 L2900.57 65.7705 Q2898.22 69.8214 2894.62 71.8063 Q2891.05 73.7508 2886.03 73.7508 Q2877.81 73.7508 2872.62 67.1883 Q2867.48 60.6258 2867.48 49.9314 Q2867.48 39.2371 2872.62 32.6746 Q2877.81 26.1121 2886.03 26.1121 Q2891.05 26.1121 2894.62 28.0971 Q2898.22 30.0415 2900.57 34.0924 M2875.17 49.9314 Q2875.17 58.1548 2878.53 62.8538 Q2881.94 67.5124 2887.85 67.5124 Q2893.77 67.5124 2897.17 62.8538 Q2900.57 58.1548 2900.57 49.9314 Q2900.57 41.7081 2897.17 37.0496 Q2893.77 32.3505 2887.85 32.3505 Q2881.94 32.3505 2878.53 37.0496 Q2875.17 41.7081 2875.17 49.9314 Z\" fill=\"#000000\" fill-rule=\"evenodd\" fill-opacity=\"1\" /><path clip-path=\"url(#clip930)\" d=\"M2962.19 48.0275 L2962.19 51.6733 L2927.92 51.6733 Q2928.4 59.3701 2932.53 63.421 Q2936.71 67.4314 2944.12 67.4314 Q2948.41 67.4314 2952.42 66.3781 Q2956.47 65.3249 2960.44 63.2184 L2960.44 70.267 Q2956.43 71.9684 2952.22 72.8596 Q2948.01 73.7508 2943.67 73.7508 Q2932.82 73.7508 2926.46 67.4314 Q2920.14 61.1119 2920.14 50.3365 Q2920.14 39.1965 2926.13 32.6746 Q2932.17 26.1121 2942.38 26.1121 Q2951.53 26.1121 2956.84 32.0264 Q2962.19 37.9003 2962.19 48.0275 M2954.73 45.84 Q2954.65 39.7232 2951.29 36.0774 Q2947.97 32.4315 2942.46 32.4315 Q2936.22 32.4315 2932.45 35.9558 Q2928.73 39.4801 2928.16 45.8805 L2954.73 45.84 Z\" fill=\"#000000\" fill-rule=\"evenodd\" fill-opacity=\"1\" /><path clip-path=\"url(#clip930)\" d=\"M3000.71 34.1734 Q2999.45 33.4443 2997.96 33.1202 Q2996.5 32.7556 2994.71 32.7556 Q2988.4 32.7556 2984.99 36.8875 Q2981.63 40.9789 2981.63 48.6757 L2981.63 72.576 L2974.14 72.576 L2974.14 27.2059 L2981.63 27.2059 L2981.63 34.2544 Q2983.98 30.1225 2987.75 28.1376 Q2991.51 26.1121 2996.9 26.1121 Q2997.67 26.1121 2998.6 26.2337 Q2999.54 26.3147 3000.67 26.5172 L3000.71 34.1734 Z\" fill=\"#000000\" fill-rule=\"evenodd\" fill-opacity=\"1\" /><path clip-path=\"url(#clip930)\" d=\"M3008.53 27.2059 L3015.98 27.2059 L3015.98 72.576 L3008.53 72.576 L3008.53 27.2059 M3008.53 9.54393 L3015.98 9.54393 L3015.98 18.9825 L3008.53 18.9825 L3008.53 9.54393 Z\" fill=\"#000000\" fill-rule=\"evenodd\" fill-opacity=\"1\" /><path clip-path=\"url(#clip930)\" d=\"M3026.23 27.2059 L3034.13 27.2059 L3048.31 65.2844 L3062.49 27.2059 L3070.39 27.2059 L3053.37 72.576 L3043.24 72.576 L3026.23 27.2059 Z\" fill=\"#000000\" fill-rule=\"evenodd\" fill-opacity=\"1\" /><path clip-path=\"url(#clip930)\" d=\"M3101.29 49.7694 Q3092.26 49.7694 3088.78 51.8354 Q3085.29 53.9013 3085.29 58.8839 Q3085.29 62.8538 3087.89 65.2034 Q3090.52 67.5124 3095.02 67.5124 Q3101.21 67.5124 3104.94 63.1374 Q3108.71 58.7219 3108.71 51.4303 L3108.71 49.7694 L3101.29 49.7694 M3116.16 46.6907 L3116.16 72.576 L3108.71 72.576 L3108.71 65.6895 Q3106.16 69.8214 3102.35 71.8063 Q3098.54 73.7508 3093.03 73.7508 Q3086.06 73.7508 3081.93 69.8619 Q3077.84 65.9325 3077.84 59.3701 Q3077.84 51.7138 3082.94 47.825 Q3088.09 43.9361 3098.26 43.9361 L3108.71 43.9361 L3108.71 43.2069 Q3108.71 38.0623 3105.3 35.2672 Q3101.94 32.4315 3095.83 32.4315 Q3091.94 32.4315 3088.25 33.3632 Q3084.56 34.295 3081.16 36.1584 L3081.16 29.2718 Q3085.25 27.692 3089.1 26.9223 Q3092.95 26.1121 3096.6 26.1121 Q3106.44 26.1121 3111.3 31.2163 Q3116.16 36.3204 3116.16 46.6907 Z\" fill=\"#000000\" fill-rule=\"evenodd\" fill-opacity=\"1\" /><path clip-path=\"url(#clip930)\" d=\"M3138.89 14.324 L3138.89 27.2059 L3154.24 27.2059 L3154.24 32.9987 L3138.89 32.9987 L3138.89 57.6282 Q3138.89 63.1779 3140.39 64.7578 Q3141.92 66.3376 3146.58 66.3376 L3154.24 66.3376 L3154.24 72.576 L3146.58 72.576 Q3137.95 72.576 3134.67 69.3758 Q3131.39 66.1351 3131.39 57.6282 L3131.39 32.9987 L3125.92 32.9987 L3125.92 27.2059 L3131.39 27.2059 L3131.39 14.324 L3138.89 14.324 Z\" fill=\"#000000\" fill-rule=\"evenodd\" fill-opacity=\"1\" /><path clip-path=\"url(#clip930)\" d=\"M3164.04 27.2059 L3171.5 27.2059 L3171.5 72.576 L3164.04 72.576 L3164.04 27.2059 M3164.04 9.54393 L3171.5 9.54393 L3171.5 18.9825 L3164.04 18.9825 L3164.04 9.54393 Z\" fill=\"#000000\" fill-rule=\"evenodd\" fill-opacity=\"1\" /><path clip-path=\"url(#clip930)\" d=\"M3181.75 27.2059 L3189.64 27.2059 L3203.82 65.2844 L3218 27.2059 L3225.9 27.2059 L3208.89 72.576 L3198.76 72.576 L3181.75 27.2059 Z\" fill=\"#000000\" fill-rule=\"evenodd\" fill-opacity=\"1\" /><path clip-path=\"url(#clip930)\" d=\"M3275 48.0275 L3275 51.6733 L3240.73 51.6733 Q3241.21 59.3701 3245.34 63.421 Q3249.52 67.4314 3256.93 67.4314 Q3261.22 67.4314 3265.23 66.3781 Q3269.29 65.3249 3273.25 63.2184 L3273.25 70.267 Q3269.24 71.9684 3265.03 72.8596 Q3260.82 73.7508 3256.48 73.7508 Q3245.63 73.7508 3239.27 67.4314 Q3232.95 61.1119 3232.95 50.3365 Q3232.95 39.1965 3238.94 32.6746 Q3244.98 26.1121 3255.19 26.1121 Q3264.34 26.1121 3269.65 32.0264 Q3275 37.9003 3275 48.0275 M3267.54 45.84 Q3267.46 39.7232 3264.1 36.0774 Q3260.78 32.4315 3255.27 32.4315 Q3249.03 32.4315 3245.26 35.9558 Q3241.54 39.4801 3240.97 45.8805 L3267.54 45.84 Z\" fill=\"#000000\" fill-rule=\"evenodd\" fill-opacity=\"1\" /><polyline clip-path=\"url(#clip933)\" style=\"stroke:#009af9; stroke-linecap:butt; stroke-linejoin:round; stroke-width:8; stroke-opacity:1; fill:none\" points=\"\n",
       "  2063.06,121.944 2128.8,346.125 2194.54,462.719 2260.29,531.623 2326.03,564.788 2391.77,591.115 2457.51,630.907 2523.25,660.17 2588.99,732.284 2654.73,917.689 \n",
       "  2720.47,711.082 2786.21,1015.07 2851.96,703.073 2917.7,772.276 2983.44,1079.02 3049.18,657.34 3114.92,732.34 3180.66,663.352 3246.4,828.984 3312.14,684.465 \n",
       "  3377.88,1005.03 3443.63,955.668 3509.37,810.873 \n",
       "  \"/>\n",
       "</svg>\n"
      ]
     },
     "metadata": {},
     "output_type": "display_data"
    }
   ],
   "source": [
    "# plot evolution\n",
    "plotTrainingEvolution(epochLosses, deltaLosses)"
   ]
  },
  {
   "cell_type": "markdown",
   "id": "a77111b8",
   "metadata": {},
   "source": [
    "##### Testing"
   ]
  },
  {
   "cell_type": "code",
   "execution_count": 13,
   "id": "287287b6",
   "metadata": {},
   "outputs": [
    {
     "data": {
      "text/plain": [
       "predictOutcome (generic function with 1 method)"
      ]
     },
     "metadata": {},
     "output_type": "display_data"
    }
   ],
   "source": [
    "function predictOutcome(X)\n",
    "    ŷ = Flux.onecold( model(X), [0:9;] )\n",
    "end"
   ]
  },
  {
   "cell_type": "code",
   "execution_count": 14,
   "id": "4cd546f6",
   "metadata": {},
   "outputs": [
    {
     "data": {
      "text/plain": [
       "10×10 Matrix{Int64}:\n",
       " 1743     0     4     0     1     3     6     1     6     5\n",
       "    1  1990     1     0     2     2     0     5     6     2\n",
       "    7    13  1744    12     4     1     3    15    12     0\n",
       "    4     2    11  1787     2    17     0     1    38    11\n",
       "    1     2     4     0  1692     1     1     4     5     6\n",
       "    3     1     0    18     0  1563     2     2    16     4\n",
       "   10     4     5     0     9    11  1760     1    12     0\n",
       "    2     7    11     8     6     2     0  1834     3    12\n",
       "    4     3     3     3     2     8     2     2  1621     5\n",
       "    2     1     4    11    35    18     1    14    36  1740"
      ]
     },
     "metadata": {},
     "output_type": "display_data"
    },
    {
     "name": "stdout",
     "output_type": "stream",
     "text": [
      "accuracy: 0.971\n",
      "f1-score: "
     ]
    },
    {
     "name": "stdout",
     "output_type": "stream",
     "text": [
      "0.971\n"
     ]
    }
   ],
   "source": [
    "# preprocessing\n",
    "ts_X, ts_y = preprocess(testX, testY)\n",
    "X_d        = ts_X |> gpu\n",
    "\n",
    "# predict\n",
    "ŷ = predictOutcome(X_d)\n",
    "\n",
    "# result\n",
    "printMetrics( ŷ, coerce(testY, OrderedFactor) )"
   ]
  }
 ],
 "metadata": {
  "kernelspec": {
   "display_name": "Julia 1.6.6",
   "language": "julia",
   "name": "julia-1.6"
  },
  "language_info": {
   "file_extension": ".jl",
   "mimetype": "application/julia",
   "name": "julia",
   "version": "1.6.6"
  }
 },
 "nbformat": 4,
 "nbformat_minor": 5
}
