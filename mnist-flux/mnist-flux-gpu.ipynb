{
 "cells": [
  {
   "cell_type": "markdown",
   "id": "e145f758",
   "metadata": {},
   "source": [
    "Flux with MNIST and GPU\n"
   ]
  },
  {
   "cell_type": "markdown",
   "id": "5f262ba3",
   "metadata": {},
   "source": [
    "Libraries"
   ]
  },
  {
   "cell_type": "code",
   "execution_count": null,
   "id": "d63e87f2",
   "metadata": {},
   "outputs": [],
   "source": [
    "using CUDA\n",
    "\n",
    "using MLDatasets           # mnist\n",
    "using PreprocessingImages; pim = PreprocessingImages\n",
    "\n",
    "using MLDataUtils          # label, nlabel, labelfreq, stratifiedobs\n",
    "using Flux                 # the julia ml library\n",
    "\n",
    "using Random\n",
    "using Plots; gr()"
   ]
  },
  {
   "cell_type": "code",
   "execution_count": null,
   "id": "5545d1b2",
   "metadata": {},
   "outputs": [],
   "source": [
    "include( expanduser(\"~/projects/pesquisa/libs/libml.jl\") )\n",
    "include( expanduser(\"~/projects/pesquisa/libs/misc.jl\") )"
   ]
  },
  {
   "cell_type": "markdown",
   "id": "8903cf71",
   "metadata": {},
   "source": [
    "MNIST"
   ]
  },
  {
   "cell_type": "code",
   "execution_count": null,
   "id": "4d7603a2",
   "metadata": {},
   "outputs": [],
   "source": [
    "# load mnist\n",
    "trX,   trY   = MNIST(:train)[:]\n",
    "testX, testY = MNIST(:test)[:];"
   ]
  },
  {
   "cell_type": "code",
   "execution_count": null,
   "id": "2ecbb1f6",
   "metadata": {},
   "outputs": [],
   "source": [
    "# split train, validation, test sets\n",
    "Random.seed!(1)\n",
    "(trainX, trainY), (validationX, validationY) = stratifiedobs((trX, trY), p = 0.7)\n",
    "size(trainX), size(validationX), size(testX)"
   ]
  },
  {
   "cell_type": "markdown",
   "id": "b8b9c3b0",
   "metadata": {},
   "source": [
    "Preprocessing"
   ]
  },
  {
   "cell_type": "code",
   "execution_count": null,
   "id": "f76c815d",
   "metadata": {},
   "outputs": [],
   "source": [
    "function preprocess(X, y)\n",
    "    Xs = permutedims(X, (2, 1, 3))\n",
    "    Xs = Xs |> Flux.flatten\n",
    "    \n",
    "    ys = Flux.onehotbatch( Float32.(y), 0:9 )\n",
    "    \n",
    "    return (Xs, ys)\n",
    "end\n",
    "\n",
    "h, v, N  = size(trainX); d = h * v\n",
    "\n",
    "X_c, y_c = preprocess(trainX, trainY)\n",
    "X_tr     = X_c |> gpu\n",
    "y_tr     = y_c |> gpu\n",
    "\n",
    "X_c, y_c = preprocess(validationX, validationY)   # não cabe na gpu\n",
    "X_val    = X_c |> gpu;"
   ]
  },
  {
   "cell_type": "markdown",
   "id": "b9f2d81e",
   "metadata": {},
   "source": [
    "Model"
   ]
  },
  {
   "cell_type": "code",
   "execution_count": null,
   "id": "ab500493",
   "metadata": {},
   "outputs": [],
   "source": [
    "# model configuration\n",
    "nInputs  = d\n",
    "nOutputs = 10\n",
    "\n",
    "# Flux.Dense(nInputs, 256, tanh)\n",
    "model = Chain( Dense(nInputs => 128, relu),\n",
    "               Dense(128     => 32,  relu),\n",
    "               Dense(32      => nOutputs),\n",
    "               softmax)      |> gpu           # weights on gpu"
   ]
  },
  {
   "cell_type": "code",
   "execution_count": null,
   "id": "eb1374e8",
   "metadata": {},
   "outputs": [],
   "source": [
    "lossFunction(X, y) = Flux.mse( model(X), y )\n",
    "modelParameters    = Flux.params(model)\n",
    "dataset            = Flux.DataLoader((X_tr, y_tr), batchsize=32)   # batchsize=1 => SGD, batch size > 1 => batch gradient descent\n",
    "modelOptimizer     = Flux.Descent();\n",
    "# callBack           = Flux.throttle(() -> println(\".\"), 10);        # print every 10s"
   ]
  },
  {
   "cell_type": "markdown",
   "id": "ea26fddb",
   "metadata": {},
   "source": [
    "Training"
   ]
  },
  {
   "cell_type": "code",
   "execution_count": null,
   "id": "467e2940",
   "metadata": {},
   "outputs": [],
   "source": [
    "numberOfEpochs = 1000"
   ]
  },
  {
   "cell_type": "code",
   "execution_count": null,
   "id": "287287b6",
   "metadata": {},
   "outputs": [],
   "source": [
    "function predictOutcome(X)\n",
    "    ŷ = Flux.onecold( model(X), [0:9;] )\n",
    "end"
   ]
  },
  {
   "cell_type": "markdown",
   "id": "04cc04da",
   "metadata": {},
   "source": [
    "Training method without plotting epochs"
   ]
  },
  {
   "cell_type": "code",
   "execution_count": null,
   "id": "be1e8ca6",
   "metadata": {},
   "outputs": [],
   "source": [
    "# # https://fluxml.ai/Flux.jl/stable/training/training/\n",
    "\n",
    "# # preferred for multiple epochs\n",
    "# epochs = 1:numberOfEpochs\n",
    "# for epoch in epochs\n",
    "#     Flux.train!(lossFunction, modelParameters, data, modelOptimizer; cb=callBack)\n",
    "# end"
   ]
  },
  {
   "cell_type": "markdown",
   "id": "1f8a4dbe",
   "metadata": {},
   "source": [
    "Training epoch with plotting, with the aid of homemade function trainModel!"
   ]
  },
  {
   "cell_type": "code",
   "execution_count": null,
   "id": "38bb5cc2",
   "metadata": {},
   "outputs": [],
   "source": [
    "# https://fluxml.ai/Flux.jl/stable/training/training/\n",
    "\n",
    "epochs   = 1 : numberOfEpochs\n",
    "loss_tr  = Vector{Float64}()\n",
    "acc_val  = Vector{Float64}()\n",
    "minLoss  = 1e-6   # hint: start at 1e-2, then go lower for more epochs (5e-4)\n",
    "nearZero = minLoss / 25\n",
    "\n",
    "for epoch in epochs\n",
    "    # train\n",
    "    loss = trainModel!( lossFunction, modelParameters, dataset, modelOptimizer )   # libml\n",
    "    push!(loss_tr, loss)\n",
    "    # print(\".\")   # \"epoch completed\" indicator\n",
    "\n",
    "    # predict\n",
    "    ŷ  = predictOutcome(X_val)\n",
    "    f1 = MLJ.multiclass_f1score(ŷ, coerce(validationY, OrderedFactor))\n",
    "    push!(acc_val, f1)\n",
    "\n",
    "    # exit criteria\n",
    "    # if stopTrainingCriteria(loss_tr, minLoss, nearZero)   break   end\n",
    "end"
   ]
  },
  {
   "cell_type": "code",
   "execution_count": null,
   "id": "f8eae2df",
   "metadata": {},
   "outputs": [],
   "source": [
    "# clean gpu memory\n",
    "X_tr  = nothing\n",
    "y_tr  = nothing\n",
    "X_val = nothing\n",
    "cleanCUDA()"
   ]
  },
  {
   "cell_type": "code",
   "execution_count": null,
   "id": "ac0ae32d",
   "metadata": {},
   "outputs": [],
   "source": [
    "# plot training\n",
    "s = (500, 500)\n",
    "p1 = plotVector(loss_tr, s, :log10, \"Loss function\")\n",
    "p2 = plotVector(acc_val, s, :none,  \"f1-score\")\n",
    "plot(p1, p2, layout=(2,1), size=s)"
   ]
  },
  {
   "cell_type": "markdown",
   "id": "a77111b8",
   "metadata": {},
   "source": [
    "Testing"
   ]
  },
  {
   "cell_type": "code",
   "execution_count": null,
   "id": "4cd546f6",
   "metadata": {},
   "outputs": [],
   "source": [
    "# preprocessing\n",
    "X_c, y_c = preprocess(testX, testY)\n",
    "X_tst    = X_c |> gpu\n",
    "\n",
    "# predict\n",
    "ŷ = predictOutcome(X_tst)\n",
    "\n",
    "# result\n",
    "printMetrics( ŷ, coerce(testY, OrderedFactor) )"
   ]
  },
  {
   "cell_type": "code",
   "execution_count": null,
   "id": "880cbd77",
   "metadata": {},
   "outputs": [],
   "source": [
    "# clean gpu memory\n",
    "X_tst = nothing\n",
    "cleanCUDA()"
   ]
  }
 ],
 "metadata": {
  "kernelspec": {
   "display_name": "Julia 1.6.7",
   "language": "julia",
   "name": "julia-1.6"
  },
  "language_info": {
   "file_extension": ".jl",
   "mimetype": "application/julia",
   "name": "julia",
   "version": "1.6.7"
  }
 },
 "nbformat": 4,
 "nbformat_minor": 5
}
