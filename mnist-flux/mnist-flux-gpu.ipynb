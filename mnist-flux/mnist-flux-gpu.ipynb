{
 "cells": [
  {
   "cell_type": "markdown",
   "id": "e145f758",
   "metadata": {},
   "source": [
    "### Flux with MNIST and GPU\n"
   ]
  },
  {
   "cell_type": "markdown",
   "id": "5f262ba3",
   "metadata": {},
   "source": [
    "### Libraries"
   ]
  },
  {
   "cell_type": "code",
   "execution_count": null,
   "id": "d63e87f2",
   "metadata": {},
   "outputs": [],
   "source": [
    "using CUDA\n",
    "using Flux              # dense, softmax, sigmoid\n",
    "using MLJ               # make_blobs, rmse, confmat, f1score, coerce\n",
    "using MLDataUtils       # label, nlabel, labelfreq, stratifiedobs\n",
    "using MLDatasets        # mnist\n",
    "using Random\n",
    "using Plots; gr()"
   ]
  },
  {
   "cell_type": "markdown",
   "id": "d53a09fe",
   "metadata": {},
   "source": [
    "### Functions"
   ]
  },
  {
   "cell_type": "code",
   "execution_count": null,
   "id": "66ccdfa6",
   "metadata": {},
   "outputs": [],
   "source": [
    "# metrics\n",
    "function printMetrics(ŷ, y)\n",
    "    display(confmat(ŷ, y))\n",
    "    println(\"accuracy: \", round(accuracy(ŷ, y); digits=3))\n",
    "    println(\"f1-score: \", round(multiclass_f1score(ŷ, y); digits=3))\n",
    "end"
   ]
  },
  {
   "cell_type": "markdown",
   "id": "8903cf71",
   "metadata": {},
   "source": [
    "### Dataset"
   ]
  },
  {
   "cell_type": "code",
   "execution_count": null,
   "id": "4bd90da6",
   "metadata": {},
   "outputs": [],
   "source": [
    "# load mnist from MLDatasets\n",
    "trainX_original,      trainY_original      = MNIST.traindata()\n",
    "validationX_original, validationY_original = MNIST.testdata();"
   ]
  },
  {
   "cell_type": "code",
   "execution_count": null,
   "id": "7f2acc6e",
   "metadata": {},
   "outputs": [],
   "source": [
    "# split trainset, testset, validation set\n",
    "Random.seed!(1)\n",
    "(trainX, trainY), (testX, testY) = stratifiedobs((trainX_original, trainY_original), p = 0.7)\n",
    "validationX = copy(validationX_original); validationY = copy(validationY_original)\n",
    "\n",
    "size(trainX), size(testX), size(validationX)"
   ]
  },
  {
   "cell_type": "markdown",
   "id": "b8b9c3b0",
   "metadata": {},
   "source": [
    "### Preprocessing\n",
    "\n",
    "Flux primarily works with matrices and vectors"
   ]
  },
  {
   "cell_type": "code",
   "execution_count": null,
   "id": "f76c815d",
   "metadata": {},
   "outputs": [],
   "source": [
    "function preprocess(X, y)\n",
    "    Xs = Float32.(X) |> Flux.flatten\n",
    "    ys = Flux.onehotbatch( Float32.(y), 0:9 )\n",
    "    \n",
    "    return (Xs, ys)\n",
    "end\n",
    "\n",
    "h, v, N = size(trainX); d = h * v\n",
    "X, y = preprocess(trainX, trainY);"
   ]
  },
  {
   "cell_type": "code",
   "execution_count": null,
   "id": "67d36968",
   "metadata": {},
   "outputs": [],
   "source": [
    "d, N, size(X), size(y)"
   ]
  },
  {
   "cell_type": "markdown",
   "id": "b9f2d81e",
   "metadata": {},
   "source": [
    "### Model"
   ]
  },
  {
   "cell_type": "code",
   "execution_count": null,
   "id": "4d606cd7",
   "metadata": {},
   "outputs": [],
   "source": [
    "# data on gpu\n",
    "X_d = X |> gpu\n",
    "y_d = y |> gpu;"
   ]
  },
  {
   "cell_type": "code",
   "execution_count": null,
   "id": "eb1374e8",
   "metadata": {},
   "outputs": [],
   "source": [
    "# model configuration\n",
    "nInputs  = d\n",
    "nOutputs = 10\n",
    "\n",
    "model = Chain( Flux.Dense(nInputs, nOutputs, tanh), softmax ) |> gpu   # weights on gpu\n",
    "\n",
    "lossFunction(X, y) = Flux.mse( model(X), y )\n",
    "modelParameters    = Flux.params(model)\n",
    "data               = Flux.DataLoader((X_d, y_d), batchsize=256)        # default batchsize=1\n",
    "callBack           = Flux.throttle(() -> println(\"training\"), 10);     # print every 10s"
   ]
  },
  {
   "cell_type": "markdown",
   "id": "ea26fddb",
   "metadata": {},
   "source": [
    "### Train"
   ]
  },
  {
   "cell_type": "code",
   "execution_count": null,
   "id": "9173a024",
   "metadata": {},
   "outputs": [],
   "source": [
    "# custom made function that provides access to loss function outcome\n",
    "function trainModel!(loss, ps, data, opt)\n",
    "    dataLosses = Vector{Float32}()\n",
    "        \n",
    "    for d in data\n",
    "        l = loss(d...)\n",
    "        gs = gradient(ps) do\n",
    "            loss(d...)\n",
    "        end\n",
    "        Flux.update!(opt, ps, gs)\n",
    "            \n",
    "        push!(dataLosses, l)\n",
    "    end\n",
    "    \n",
    "    return mean(dataLosses)\n",
    "end"
   ]
  },
  {
   "cell_type": "code",
   "execution_count": null,
   "id": "445003d8",
   "metadata": {},
   "outputs": [],
   "source": [
    "@time trainModel!( lossFunction, modelParameters, data, Flux.Descent() )"
   ]
  },
  {
   "cell_type": "code",
   "execution_count": null,
   "id": "467e2940",
   "metadata": {},
   "outputs": [],
   "source": [
    "numberOfEpochs = 100;"
   ]
  },
  {
   "cell_type": "code",
   "execution_count": null,
   "id": "0a8fe48d",
   "metadata": {},
   "outputs": [],
   "source": [
    "epochs = 1 : numberOfEpochs\n",
    "epochLosses = Vector{Float32}()\n",
    "\n",
    "for epoch in epochs\n",
    "    l = trainModel!( lossFunction, modelParameters, data, Flux.Descent() )\n",
    "    push!(epochLosses, l)\n",
    "end"
   ]
  },
  {
   "cell_type": "code",
   "execution_count": null,
   "id": "07065db1",
   "metadata": {},
   "outputs": [],
   "source": [
    "plot(epochs, epochLosses, size=(300,200), linewidth=2, legend=false)"
   ]
  },
  {
   "cell_type": "markdown",
   "id": "a77111b8",
   "metadata": {},
   "source": [
    "### Predict"
   ]
  },
  {
   "cell_type": "code",
   "execution_count": null,
   "id": "4cd546f6",
   "metadata": {},
   "outputs": [],
   "source": [
    "function predictOutcome(X)\n",
    "    ŷ = Flux.onecold( model(X), [0:9;] )\n",
    "end\n",
    "\n",
    "ŷ = predictOutcome(X_d)\n",
    "printMetrics( coerce(ŷ, OrderedFactor), coerce(trainY, OrderedFactor) )"
   ]
  }
 ],
 "metadata": {
  "kernelspec": {
   "display_name": "Julia 1.6.6",
   "language": "julia",
   "name": "julia-1.6"
  },
  "language_info": {
   "file_extension": ".jl",
   "mimetype": "application/julia",
   "name": "julia",
   "version": "1.6.6"
  }
 },
 "nbformat": 4,
 "nbformat_minor": 5
}
