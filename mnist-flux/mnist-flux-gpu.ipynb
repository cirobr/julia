{
 "cells": [
  {
   "cell_type": "markdown",
   "id": "e145f758",
   "metadata": {},
   "source": [
    "#### Flux with MNIST and GPU\n"
   ]
  },
  {
   "cell_type": "markdown",
   "id": "5f262ba3",
   "metadata": {},
   "source": [
    "##### Libraries"
   ]
  },
  {
   "cell_type": "code",
   "execution_count": 1,
   "id": "d63e87f2",
   "metadata": {},
   "outputs": [],
   "source": [
    "using CUDA\n",
    "\n",
    "using MLDatasets           # mnist\n",
    "using Images\n",
    "using PreprocessingImages; pim = PreprocessingImages\n",
    "using PreprocessingArrays; pa  = PreprocessingArrays\n",
    "\n",
    "using MLJ                  # make_blobs, rmse, confmat, f1score, coerce\n",
    "using MLDataUtils          # label, nlabel, labelfreq, stratifiedobs\n",
    "using Flux                 # the julia ml library\n",
    "\n",
    "using Plots\n",
    "using Random\n",
    "using DataFrames"
   ]
  },
  {
   "cell_type": "code",
   "execution_count": 2,
   "id": "5545d1b2",
   "metadata": {},
   "outputs": [
    {
     "data": {
      "text/plain": [
       "stopTrainingCriteria (generic function with 1 method)"
      ]
     },
     "metadata": {},
     "output_type": "display_data"
    }
   ],
   "source": [
    "include(\"../libs/libml.jl\")"
   ]
  },
  {
   "cell_type": "markdown",
   "id": "8903cf71",
   "metadata": {},
   "source": [
    "##### MNIST"
   ]
  },
  {
   "cell_type": "code",
   "execution_count": 3,
   "id": "4d7603a2",
   "metadata": {},
   "outputs": [
    {
     "data": {
      "text/plain": [
       "(28, 28, 60000)"
      ]
     },
     "metadata": {},
     "output_type": "display_data"
    },
    {
     "data": {
      "text/plain": [
       "1×5 adjoint(::Vector{Int64}) with eltype Int64:\n",
       " 5  0  4  1  9"
      ]
     },
     "metadata": {},
     "output_type": "display_data"
    },
    {
     "data": {
      "image/png": "[encoded data removed]",
      "text/html": [
       "<img src=\"data:image/png;base64,iVBORw0KGgoAAAANSUhEUgAAARgAAAA4CAAAAAADPrjSAAAABGdBTUEAALGPC/xhBQAAAAFzUkdCAK7OHOkAAAAgY0hSTQAAeiYAAICEAAD6AAAAgOgAAHUwAADqYAAAOpgAABdwnLpRPAAABPJJREFUaAXtwX2M1nUBAPDPc34HHjmOeOlgOUSNaKPggqHpCCheckgGUSIpiJW6UGQrmViXO6cwEvgDGE4nE+TFXS3CQ51DJnHGoJsn6pwEkTQccBGi58FF3vJ52rPjFnf3fV44tNX8fT5BIipIRAWJqCARFSSigkRUkIgKElHBJ2Kku8223ip7/X8KElFBDhcpk3W3Hoa4yzIz/dMSDyqswnY9Zcxygz66ZrxNxjrgfFR6UIlxal24IBEVdDBQN9carZfp2hyx0jSnvKFWYVfZrEzGKS36uMarWnQ2Rh9b5DZKvfMzx0JpZHwcgkRU0M5XvaRMe2mVmj3tmPcdkF8PI2w0QNZBj6i2yy8t1tk4g22RS4nLDZRyPi7TXfGuNssYQ3GvY75ugzrnChJRQTuHnVSmTZ1G39Big2I9bqY2I1yi1jhfETPbHrkNcLuN9iveBPOw3xTHFTbDCn2l7NTPUqT0dZNzBYmooJ33LDDFa1bidRM1G2q+Yo10vRRqPWepBq953zelxJTIZw0OKt5o65RhqcMKCUZ5Qg8ve8gu3f3GJNRrL0hEBR08Y4dThvuR5ZrxljsUp8J2PWW8YKaxKq1xwhvSrjfCXu0NUy6fMmxXvFsNwE7rFXaLNdhuhibMMAlHPKW9IBEVdNKED/Bj1dKK9UULlHlXg6ec9rzntSn1Mzdrb7JSuZW7HEcVq68fSmu0SGEPu1/Goyo1yfqFrHuc0F6QiAqiqow01gQvKk53y0x2ymz1SnU0UEdD8JZclin3Z6cUZ5DNslbZoZAH3K/FNvc5g4tNMlDKw2p0FCSigqhmt9vrCb9Xb7WMQkaYjO+oVbxXdNbTdW4xCQ9pVJzrDMNLViikl7kytpkq6ws2GYnfekRnQSIqyOFtc6w1yyyfsV6D/JZLqVWrsxJpKTG9tRquxHiX6uZmJc6o86HgVcWZagl2udUHCummL+7xObe5wZddIiNjo2adBYmoIKct/mK58Ra7zCJH5TZFhYytYtIyXtfRGRmP+bmsYVL+5R/2eVK9WscdUWq/YgyyWdYhxxXW4oR+/ioj65gmA7zrWTFBIirI4003+ra17jTYRLmV6ubvfq2j7qqww0IdzXXYtVq9o8Y+f9TmDv0cUpz7pGUtUYxGUz2nt7fVWOc91QaoFhckooK8Gm2wRjDGODvl86EG7XVXaYEjljuts1/JZTw2K0aFSbJqHFCcOv20GWOstEPigkRUkMcw3zNKwD4vy2+r9iosMEON6briGcV40WdRZ46uKJWWUS0uSEQFOQwxzzT9ZX2kQVpuKSlTzfcfP1WpzCazfZL6SGO107pim3yCRFQQ0d8P3GWQVvUW2SqfjIz+VnrSSV8zy3CXesc2j+qalMH2KGStElm7dc235BMkooIOyg21ype0qrNUjbTCLjLXdE0Gy9pjhwd0VUaJQipMlNZiteO65kr5BImo4By9Pa7CFVrtttw2ZxS2xytGob9ynFRtvgtzjXXy66UcR92rq/6gRFouQSIqOOtqC1zl81qdscJizYpzxHfdqVLWCo856MKk/De86aArXOmEmCARFZw1zTRZf/KsjyzT6Hw0qFLl4/GC7ytsv91GuzCLrbHIPPt0FiSigrMWWuh/wzrrFPY3Y12o37nJBFVu06yjIBEVfIo1udEiP1Fln46CRFTwqdZknnligkTUvwF5x1NZIErsDQAAAABJRU5ErkJg\">"
      ],
      "text/plain": [
       "28×140 MosaicView{Gray{Float32}, 4, Base.ReshapedArray{Gray{Float32}, 4, PaddedView{Gray{Float32}, 3, Tuple{Base.OneTo{Int64}, Base.OneTo{Int64}, Base.OneTo{Int64}}, Array{Gray{Float32}, 3}}, Tuple{Base.MultiplicativeInverses.SignedMultiplicativeInverse{Int64}, Base.MultiplicativeInverses.SignedMultiplicativeInverse{Int64}}}}:\n",
       " Gray{Float32}(0.0)  Gray{Float32}(0.0)  …  Gray{Float32}(0.0)\n",
       " Gray{Float32}(0.0)  Gray{Float32}(0.0)     Gray{Float32}(0.0)\n",
       " Gray{Float32}(0.0)  Gray{Float32}(0.0)     Gray{Float32}(0.0)\n",
       " Gray{Float32}(0.0)  Gray{Float32}(0.0)     Gray{Float32}(0.0)\n",
       " Gray{Float32}(0.0)  Gray{Float32}(0.0)     Gray{Float32}(0.0)\n",
       " Gray{Float32}(0.0)  Gray{Float32}(0.0)  …  Gray{Float32}(0.0)\n",
       " Gray{Float32}(0.0)  Gray{Float32}(0.0)     Gray{Float32}(0.0)\n",
       " Gray{Float32}(0.0)  Gray{Float32}(0.0)     Gray{Float32}(0.0)\n",
       " Gray{Float32}(0.0)  Gray{Float32}(0.0)     Gray{Float32}(0.0)\n",
       " Gray{Float32}(0.0)  Gray{Float32}(0.0)     Gray{Float32}(0.0)\n",
       " ⋮                                       ⋱  \n",
       " Gray{Float32}(0.0)  Gray{Float32}(0.0)     Gray{Float32}(0.0)\n",
       " Gray{Float32}(0.0)  Gray{Float32}(0.0)  …  Gray{Float32}(0.0)\n",
       " Gray{Float32}(0.0)  Gray{Float32}(0.0)     Gray{Float32}(0.0)\n",
       " Gray{Float32}(0.0)  Gray{Float32}(0.0)     Gray{Float32}(0.0)\n",
       " Gray{Float32}(0.0)  Gray{Float32}(0.0)     Gray{Float32}(0.0)\n",
       " Gray{Float32}(0.0)  Gray{Float32}(0.0)     Gray{Float32}(0.0)\n",
       " Gray{Float32}(0.0)  Gray{Float32}(0.0)  …  Gray{Float32}(0.0)\n",
       " Gray{Float32}(0.0)  Gray{Float32}(0.0)     Gray{Float32}(0.0)\n",
       " Gray{Float32}(0.0)  Gray{Float32}(0.0)     Gray{Float32}(0.0)"
      ]
     },
     "metadata": {},
     "output_type": "display_data"
    }
   ],
   "source": [
    "# load mnist\n",
    "datasetX,    datasetY    = MNIST(:train)[:]\n",
    "validationX, validationY = MNIST(:test)[:]\n",
    "\n",
    "display( size(datasetX) )\n",
    "\n",
    "img  = datasetX[:, :, 1:5]\n",
    "img2 = permutedims(img, (2, 1, 3))\n",
    "\n",
    "display(datasetY[1:5]')\n",
    "mosaicview( Gray.(img2)  ; nrow=1)"
   ]
  },
  {
   "cell_type": "code",
   "execution_count": 4,
   "id": "2ecbb1f6",
   "metadata": {},
   "outputs": [
    {
     "data": {
      "text/plain": [
       "((28, 28, 42001), (28, 28, 17999), (28, 28, 10000))"
      ]
     },
     "metadata": {},
     "output_type": "display_data"
    }
   ],
   "source": [
    "# split trainset, testset from dataset\n",
    "Random.seed!(1)\n",
    "(trainX, trainY), (testX, testY) = MLDataUtils.stratifiedobs((datasetX, datasetY), p = 0.7)\n",
    "size(trainX), size(testX), size(validationX)"
   ]
  },
  {
   "cell_type": "markdown",
   "id": "b8b9c3b0",
   "metadata": {},
   "source": [
    "##### Preprocessing\n",
    "\n",
    "Flux primarily works with matrices and vectors"
   ]
  },
  {
   "cell_type": "code",
   "execution_count": 5,
   "id": "f76c815d",
   "metadata": {},
   "outputs": [
    {
     "data": {
      "text/plain": [
       "(784, 42001, (784, 42001), (10, 42001))"
      ]
     },
     "metadata": {},
     "output_type": "display_data"
    }
   ],
   "source": [
    "function preprocess(X, y)\n",
    "    Xs = Float32.(X) |> Flux.flatten\n",
    "    ys = Flux.onehotbatch( Float32.(y), 0:9 )\n",
    "    \n",
    "    return (Xs, ys)\n",
    "end\n",
    "\n",
    "h, v, N = size(trainX); d = h * v\n",
    "tr_X, tr_y = preprocess(trainX, trainY)\n",
    "d, N, size(tr_X), size(tr_y)"
   ]
  },
  {
   "cell_type": "markdown",
   "id": "b9f2d81e",
   "metadata": {},
   "source": [
    "##### Model"
   ]
  },
  {
   "cell_type": "code",
   "execution_count": 6,
   "id": "4d606cd7",
   "metadata": {},
   "outputs": [],
   "source": [
    "# data on gpu\n",
    "X_d = tr_X |> gpu\n",
    "y_d = tr_y |> gpu;"
   ]
  },
  {
   "cell_type": "code",
   "execution_count": 7,
   "id": "eb1374e8",
   "metadata": {},
   "outputs": [],
   "source": [
    "# model configuration\n",
    "nInputs  = d\n",
    "nOutputs = 10\n",
    "\n",
    "model = Chain( Flux.Dense(nInputs, 256, tanh),\n",
    "               Flux.Dense(256, nOutputs, relu),\n",
    "               softmax ) |> gpu                                      # weights on gpu\n",
    "\n",
    "lossFunction(X, y) = Flux.mse( model(X), y )\n",
    "modelParameters    = Flux.params(model)\n",
    "data               = Flux.DataLoader((X_d, y_d), batchsize=1)      # batchsize=1 => SGD, batch size > 1 => batch gradient descent\n",
    "modelOptimizer     = Flux.Descent()\n",
    "callBack           = Flux.throttle(() -> println(\"training\"), 10);   # print every 10s"
   ]
  },
  {
   "cell_type": "markdown",
   "id": "ea26fddb",
   "metadata": {},
   "source": [
    "##### Training"
   ]
  },
  {
   "cell_type": "code",
   "execution_count": 8,
   "id": "445003d8",
   "metadata": {},
   "outputs": [],
   "source": [
    "# trainModel!( lossFunction, modelParameters, data, modelOptimizer )   # libml"
   ]
  },
  {
   "cell_type": "code",
   "execution_count": 9,
   "id": "467e2940",
   "metadata": {},
   "outputs": [
    {
     "data": {
      "text/plain": [
       "500"
      ]
     },
     "metadata": {},
     "output_type": "display_data"
    }
   ],
   "source": [
    "numberOfEpochs = 500"
   ]
  },
  {
   "cell_type": "markdown",
   "id": "1f8a4dbe",
   "metadata": {},
   "source": [
    "Training epoch with plotting, with the aid of homemade function trainModel!"
   ]
  },
  {
   "cell_type": "code",
   "execution_count": 10,
   "id": "38bb5cc2",
   "metadata": {},
   "outputs": [
    {
     "name": "stdout",
     "output_type": "stream",
     "text": [
      "."
     ]
    },
    {
     "name": "stdout",
     "output_type": "stream",
     "text": [
      "."
     ]
    },
    {
     "name": "stdout",
     "output_type": "stream",
     "text": [
      "."
     ]
    },
    {
     "name": "stdout",
     "output_type": "stream",
     "text": [
      "."
     ]
    },
    {
     "name": "stdout",
     "output_type": "stream",
     "text": [
      "."
     ]
    },
    {
     "name": "stdout",
     "output_type": "stream",
     "text": [
      "."
     ]
    },
    {
     "name": "stdout",
     "output_type": "stream",
     "text": [
      "."
     ]
    },
    {
     "name": "stdout",
     "output_type": "stream",
     "text": [
      "."
     ]
    },
    {
     "name": "stdout",
     "output_type": "stream",
     "text": [
      "."
     ]
    },
    {
     "name": "stdout",
     "output_type": "stream",
     "text": [
      "."
     ]
    },
    {
     "name": "stdout",
     "output_type": "stream",
     "text": [
      "."
     ]
    },
    {
     "name": "stdout",
     "output_type": "stream",
     "text": [
      "."
     ]
    },
    {
     "name": "stdout",
     "output_type": "stream",
     "text": [
      "."
     ]
    },
    {
     "name": "stdout",
     "output_type": "stream",
     "text": [
      "."
     ]
    },
    {
     "name": "stdout",
     "output_type": "stream",
     "text": [
      "."
     ]
    },
    {
     "name": "stdout",
     "output_type": "stream",
     "text": [
      "."
     ]
    },
    {
     "name": "stdout",
     "output_type": "stream",
     "text": [
      "."
     ]
    },
    {
     "name": "stdout",
     "output_type": "stream",
     "text": [
      "."
     ]
    },
    {
     "name": "stdout",
     "output_type": "stream",
     "text": [
      "."
     ]
    },
    {
     "name": "stdout",
     "output_type": "stream",
     "text": [
      "."
     ]
    },
    {
     "name": "stdout",
     "output_type": "stream",
     "text": [
      "."
     ]
    },
    {
     "name": "stdout",
     "output_type": "stream",
     "text": [
      "."
     ]
    },
    {
     "name": "stdout",
     "output_type": "stream",
     "text": [
      "."
     ]
    },
    {
     "name": "stdout",
     "output_type": "stream",
     "text": [
      "."
     ]
    },
    {
     "name": "stdout",
     "output_type": "stream",
     "text": [
      "."
     ]
    },
    {
     "name": "stdout",
     "output_type": "stream",
     "text": [
      "."
     ]
    },
    {
     "name": "stdout",
     "output_type": "stream",
     "text": [
      "."
     ]
    },
    {
     "name": "stdout",
     "output_type": "stream",
     "text": [
      "."
     ]
    },
    {
     "name": "stdout",
     "output_type": "stream",
     "text": [
      "."
     ]
    },
    {
     "name": "stdout",
     "output_type": "stream",
     "text": [
      "."
     ]
    },
    {
     "name": "stdout",
     "output_type": "stream",
     "text": [
      "."
     ]
    },
    {
     "name": "stdout",
     "output_type": "stream",
     "text": [
      "."
     ]
    },
    {
     "name": "stdout",
     "output_type": "stream",
     "text": [
      "."
     ]
    },
    {
     "name": "stdout",
     "output_type": "stream",
     "text": [
      "."
     ]
    },
    {
     "name": "stdout",
     "output_type": "stream",
     "text": [
      "."
     ]
    },
    {
     "name": "stdout",
     "output_type": "stream",
     "text": [
      "."
     ]
    },
    {
     "name": "stdout",
     "output_type": "stream",
     "text": [
      "."
     ]
    },
    {
     "name": "stdout",
     "output_type": "stream",
     "text": [
      "."
     ]
    }
   ],
   "source": [
    "epochs       = 1 : numberOfEpochs\n",
    "epochLosses  = Vector{Float64}()\n",
    "deltaLosses  = Vector{Float64}()\n",
    "minDeltaLoss = 1e-6\n",
    "\n",
    "for epoch in epochs\n",
    "    # train epoch\n",
    "    l = trainModel!( lossFunction, modelParameters, data, modelOptimizer )   # libml\n",
    "\n",
    "    # store results\n",
    "    push!(epochLosses, l)\n",
    "    if epoch > 1\n",
    "        d = abs( epochLosses[end-1] - epochLosses[end] )\n",
    "        push!(deltaLosses, d)\n",
    "    end\n",
    "\n",
    "    # exit criteria\n",
    "    print(\".\")   # \"epoch completed\" indicator\n",
    "    if stopTrainingCriteria(epochLosses, deltaLosses, minDeltaLoss)   break   end\n",
    "end"
   ]
  },
  {
   "cell_type": "code",
   "execution_count": 11,
   "id": "7d0da258",
   "metadata": {},
   "outputs": [
    {
     "data": {
      "image/png": "[encoded data removed]",
      "image/svg+xml": "<?xml version=\"1.0\" encoding=\"utf-8\"?>\n<svg xmlns=\"http://www.w3.org/2000/svg\" xmlns:xlink=\"http://www.w3.org/1999/xlink\" width=\"900\" height=\"300\" viewBox=\"0 0 3600 1200\">\n<defs>\n  <clipPath id=\"clip560\">\n    <rect x=\"0\" y=\"0\" width=\"3600\" height=\"1200\"/>\n  </clipPath>\n</defs>\n<path clip-path=\"url(#clip560)\" d=\"\nM0 1200 L3600 1200 L3600 0 L0 0  Z\n  \" fill=\"#ffffff\" fill-rule=\"evenodd\" fill-opacity=\"1\"/>\n<defs>\n  <clipPath id=\"clip561\">\n    <rect x=\"720\" y=\"0\" width=\"2521\" height=\"1200\"/>\n  </clipPath>\n</defs>\n<path clip-path=\"url(#clip560)\" d=\"\nM200.574 1107.73 L1752.3 1107.73 L1752.3 93.2321 L200.574 93.2321  Z\n  \" fill=\"#ffffff\" fill-rule=\"evenodd\" fill-opacity=\"1\"/>\n<defs>\n  <clipPath id=\"clip562\">\n    <rect x=\"200\" y=\"93\" width=\"1553\" height=\"1015\"/>\n  </clipPath>\n</defs>\n<polyline clip-path=\"url(#clip562)\" style=\"stroke:#000000; stroke-linecap:butt; stroke-linejoin:round; stroke-width:2; stroke-opacity:0.1; fill:none\" points=\"\n  204.926,1107.73 204.926,93.2321 \n  \"/>\n<polyline clip-path=\"url(#clip562)\" style=\"stroke:#000000; stroke-linecap:butt; stroke-linejoin:round; stroke-width:2; stroke-opacity:0.1; fill:none\" points=\"\n  600.572,1107.73 600.572,93.2321 \n  \"/>\n<polyline clip-path=\"url(#clip562)\" style=\"stroke:#000000; stroke-linecap:butt; stroke-linejoin:round; stroke-width:2; stroke-opacity:0.1; fill:none\" points=\"\n  996.217,1107.73 996.217,93.2321 \n  \"/>\n<polyline clip-path=\"url(#clip562)\" style=\"stroke:#000000; stroke-linecap:butt; stroke-linejoin:round; stroke-width:2; stroke-opacity:0.1; fill:none\" points=\"\n  1391.86,1107.73 1391.86,93.2321 \n  \"/>\n<polyline clip-path=\"url(#clip560)\" style=\"stroke:#000000; stroke-linecap:butt; stroke-linejoin:round; stroke-width:4; stroke-opacity:1; fill:none\" points=\"\n  200.574,1107.73 1752.3,1107.73 \n  \"/>\n<polyline clip-path=\"url(#clip560)\" style=\"stroke:#000000; stroke-linecap:butt; stroke-linejoin:round; stroke-width:4; stroke-opacity:1; fill:none\" points=\"\n  204.926,1107.73 204.926,1088.83 \n  \"/>\n<polyline clip-path=\"url(#clip560)\" style=\"stroke:#000000; stroke-linecap:butt; stroke-linejoin:round; stroke-width:4; stroke-opacity:1; fill:none\" points=\"\n  600.572,1107.73 600.572,1088.83 \n  \"/>\n<polyline clip-path=\"url(#clip560)\" style=\"stroke:#000000; stroke-linecap:butt; stroke-linejoin:round; stroke-width:4; stroke-opacity:1; fill:none\" points=\"\n  996.217,1107.73 996.217,1088.83 \n  \"/>\n<polyline clip-path=\"url(#clip560)\" style=\"stroke:#000000; stroke-linecap:butt; stroke-linejoin:round; stroke-width:4; stroke-opacity:1; fill:none\" points=\"\n  1391.86,1107.73 1391.86,1088.83 \n  \"/>\n<path clip-path=\"url(#clip560)\" d=\"M204.926 1148.25 Q201.315 1148.25 199.487 1151.81 Q197.681 1155.35 197.681 1162.48 Q197.681 1169.59 199.487 1173.15 Q201.315 1176.7 204.926 1176.7 Q208.561 1176.7 210.366 1173.15 Q212.195 1169.59 212.195 1162.48 Q212.195 1155.35 210.366 1151.81 Q208.561 1148.25 204.926 1148.25 M204.926 1144.54 Q210.737 1144.54 213.792 1149.15 Q216.871 1153.73 216.871 1162.48 Q216.871 1171.21 213.792 1175.82 Q210.737 1180.4 204.926 1180.4 Q199.116 1180.4 196.038 1175.82 Q192.982 1171.21 192.982 1162.48 Q192.982 1153.73 196.038 1149.15 Q199.116 1144.54 204.926 1144.54 Z\" fill=\"#000000\" fill-rule=\"evenodd\" fill-opacity=\"1\" /><path clip-path=\"url(#clip560)\" d=\"M575.259 1175.79 L582.898 1175.79 L582.898 1149.43 L574.588 1151.09 L574.588 1146.83 L582.852 1145.17 L587.528 1145.17 L587.528 1175.79 L595.167 1175.79 L595.167 1179.73 L575.259 1179.73 L575.259 1175.79 Z\" fill=\"#000000\" fill-rule=\"evenodd\" fill-opacity=\"1\" /><path clip-path=\"url(#clip560)\" d=\"M614.611 1148.25 Q611 1148.25 609.171 1151.81 Q607.366 1155.35 607.366 1162.48 Q607.366 1169.59 609.171 1173.15 Q611 1176.7 614.611 1176.7 Q618.245 1176.7 620.051 1173.15 Q621.879 1169.59 621.879 1162.48 Q621.879 1155.35 620.051 1151.81 Q618.245 1148.25 614.611 1148.25 M614.611 1144.54 Q620.421 1144.54 623.477 1149.15 Q626.555 1153.73 626.555 1162.48 Q626.555 1171.21 623.477 1175.82 Q620.421 1180.4 614.611 1180.4 Q608.801 1180.4 605.722 1175.82 Q602.667 1171.21 602.667 1162.48 Q602.667 1153.73 605.722 1149.15 Q608.801 1144.54 614.611 1144.54 Z\" fill=\"#000000\" fill-rule=\"evenodd\" fill-opacity=\"1\" /><path clip-path=\"url(#clip560)\" d=\"M974.99 1175.79 L991.31 1175.79 L991.31 1179.73 L969.365 1179.73 L969.365 1175.79 Q972.027 1173.04 976.611 1168.41 Q981.217 1163.76 982.398 1162.41 Q984.643 1159.89 985.523 1158.15 Q986.425 1156.39 986.425 1154.7 Q986.425 1151.95 984.481 1150.21 Q982.56 1148.48 979.458 1148.48 Q977.259 1148.48 974.805 1149.24 Q972.375 1150.01 969.597 1151.56 L969.597 1146.83 Q972.421 1145.7 974.875 1145.12 Q977.328 1144.54 979.365 1144.54 Q984.736 1144.54 987.93 1147.23 Q991.124 1149.91 991.124 1154.4 Q991.124 1156.53 990.314 1158.45 Q989.527 1160.35 987.421 1162.95 Q986.842 1163.62 983.74 1166.83 Q980.638 1170.03 974.99 1175.79 Z\" fill=\"#000000\" fill-rule=\"evenodd\" fill-opacity=\"1\" /><path clip-path=\"url(#clip560)\" d=\"M1011.12 1148.25 Q1007.51 1148.25 1005.68 1151.81 Q1003.88 1155.35 1003.88 1162.48 Q1003.88 1169.59 1005.68 1173.15 Q1007.51 1176.7 1011.12 1176.7 Q1014.76 1176.7 1016.56 1173.15 Q1018.39 1169.59 1018.39 1162.48 Q1018.39 1155.35 1016.56 1151.81 Q1014.76 1148.25 1011.12 1148.25 M1011.12 1144.54 Q1016.93 1144.54 1019.99 1149.15 Q1023.07 1153.73 1023.07 1162.48 Q1023.07 1171.21 1019.99 1175.82 Q1016.93 1180.4 1011.12 1180.4 Q1005.31 1180.4 1002.24 1175.82 Q999.18 1171.21 999.18 1162.48 Q999.18 1153.73 1002.24 1149.15 Q1005.31 1144.54 1011.12 1144.54 Z\" fill=\"#000000\" fill-rule=\"evenodd\" fill-opacity=\"1\" /><path clip-path=\"url(#clip560)\" d=\"M1380.7 1161.09 Q1384.06 1161.81 1385.94 1164.08 Q1387.83 1166.35 1387.83 1169.68 Q1387.83 1174.8 1384.32 1177.6 Q1380.8 1180.4 1374.32 1180.4 Q1372.14 1180.4 1369.83 1179.96 Q1367.53 1179.54 1365.08 1178.69 L1365.08 1174.17 Q1367.02 1175.31 1369.34 1175.89 Q1371.65 1176.46 1374.18 1176.46 Q1378.58 1176.46 1380.87 1174.73 Q1383.18 1172.99 1383.18 1169.68 Q1383.18 1166.63 1381.03 1164.91 Q1378.9 1163.18 1375.08 1163.18 L1371.05 1163.18 L1371.05 1159.33 L1375.27 1159.33 Q1378.71 1159.33 1380.54 1157.97 Q1382.37 1156.58 1382.37 1153.99 Q1382.37 1151.33 1380.47 1149.91 Q1378.6 1148.48 1375.08 1148.48 Q1373.16 1148.48 1370.96 1148.89 Q1368.76 1149.31 1366.12 1150.19 L1366.12 1146.02 Q1368.78 1145.28 1371.1 1144.91 Q1373.44 1144.54 1375.5 1144.54 Q1380.82 1144.54 1383.92 1146.97 Q1387.02 1149.38 1387.02 1153.5 Q1387.02 1156.37 1385.38 1158.36 Q1383.74 1160.33 1380.7 1161.09 Z\" fill=\"#000000\" fill-rule=\"evenodd\" fill-opacity=\"1\" /><path clip-path=\"url(#clip560)\" d=\"M1406.7 1148.25 Q1403.09 1148.25 1401.26 1151.81 Q1399.45 1155.35 1399.45 1162.48 Q1399.45 1169.59 1401.26 1173.15 Q1403.09 1176.7 1406.7 1176.7 Q1410.33 1176.7 1412.14 1173.15 Q1413.97 1169.59 1413.97 1162.48 Q1413.97 1155.35 1412.14 1151.81 Q1410.33 1148.25 1406.7 1148.25 M1406.7 1144.54 Q1412.51 1144.54 1415.57 1149.15 Q1418.64 1153.73 1418.64 1162.48 Q1418.64 1171.21 1415.57 1175.82 Q1412.51 1180.4 1406.7 1180.4 Q1400.89 1180.4 1397.81 1175.82 Q1394.76 1171.21 1394.76 1162.48 Q1394.76 1153.73 1397.81 1149.15 Q1400.89 1144.54 1406.7 1144.54 Z\" fill=\"#000000\" fill-rule=\"evenodd\" fill-opacity=\"1\" /><polyline clip-path=\"url(#clip562)\" style=\"stroke:#000000; stroke-linecap:butt; stroke-linejoin:round; stroke-width:2; stroke-opacity:0.1; fill:none\" points=\"\n  200.574,842.119 1752.3,842.119 \n  \"/>\n<polyline clip-path=\"url(#clip562)\" style=\"stroke:#000000; stroke-linecap:butt; stroke-linejoin:round; stroke-width:2; stroke-opacity:0.1; fill:none\" points=\"\n  200.574,248.067 1752.3,248.067 \n  \"/>\n<polyline clip-path=\"url(#clip560)\" style=\"stroke:#000000; stroke-linecap:butt; stroke-linejoin:round; stroke-width:4; stroke-opacity:1; fill:none\" points=\"\n  200.574,1107.73 200.574,93.2321 \n  \"/>\n<polyline clip-path=\"url(#clip560)\" style=\"stroke:#000000; stroke-linecap:butt; stroke-linejoin:round; stroke-width:4; stroke-opacity:1; fill:none\" points=\"\n  200.574,842.119 219.472,842.119 \n  \"/>\n<polyline clip-path=\"url(#clip560)\" style=\"stroke:#000000; stroke-linecap:butt; stroke-linejoin:round; stroke-width:4; stroke-opacity:1; fill:none\" points=\"\n  200.574,248.067 219.472,248.067 \n  \"/>\n<path clip-path=\"url(#clip560)\" d=\"M45.6634 861.911 L53.3023 861.911 L53.3023 835.546 L44.9921 837.212 L44.9921 832.953 L53.256 831.287 L57.9319 831.287 L57.9319 861.911 L65.5707 861.911 L65.5707 865.847 L45.6634 865.847 L45.6634 861.911 Z\" fill=\"#000000\" fill-rule=\"evenodd\" fill-opacity=\"1\" /><path clip-path=\"url(#clip560)\" d=\"M85.0151 834.365 Q81.404 834.365 79.5753 837.93 Q77.7697 841.472 77.7697 848.601 Q77.7697 855.708 79.5753 859.273 Q81.404 862.814 85.0151 862.814 Q88.6493 862.814 90.4548 859.273 Q92.2835 855.708 92.2835 848.601 Q92.2835 841.472 90.4548 837.93 Q88.6493 834.365 85.0151 834.365 M85.0151 830.662 Q90.8252 830.662 93.8808 835.268 Q96.9594 839.851 96.9594 848.601 Q96.9594 857.328 93.8808 861.935 Q90.8252 866.518 85.0151 866.518 Q79.2049 866.518 76.1262 861.935 Q73.0707 857.328 73.0707 848.601 Q73.0707 839.851 76.1262 835.268 Q79.2049 830.662 85.0151 830.662 Z\" fill=\"#000000\" fill-rule=\"evenodd\" fill-opacity=\"1\" /><path clip-path=\"url(#clip560)\" d=\"M96.9594 824.763 L121.071 824.763 L121.071 827.96 L96.9594 827.96 L96.9594 824.763 Z\" fill=\"#000000\" fill-rule=\"evenodd\" fill-opacity=\"1\" /><path clip-path=\"url(#clip560)\" d=\"M140.782 823.296 Q143.509 823.879 145.032 825.722 Q146.574 827.565 146.574 830.274 Q146.574 834.43 143.716 836.706 Q140.857 838.982 135.591 838.982 Q133.823 838.982 131.942 838.624 Q130.08 838.286 128.086 837.59 L128.086 833.922 Q129.666 834.844 131.547 835.314 Q133.428 835.784 135.478 835.784 Q139.051 835.784 140.913 834.374 Q142.794 832.963 142.794 830.274 Q142.794 827.791 141.045 826.399 Q139.315 824.989 136.211 824.989 L132.939 824.989 L132.939 821.867 L136.362 821.867 Q139.164 821.867 140.65 820.757 Q142.136 819.628 142.136 817.522 Q142.136 815.359 140.593 814.212 Q139.07 813.046 136.211 813.046 Q134.65 813.046 132.863 813.384 Q131.077 813.723 128.933 814.437 L128.933 811.052 Q131.096 810.45 132.976 810.149 Q134.876 809.848 136.55 809.848 Q140.876 809.848 143.396 811.823 Q145.916 813.779 145.916 817.127 Q145.916 819.459 144.581 821.077 Q143.245 822.675 140.782 823.296 Z\" fill=\"#000000\" fill-rule=\"evenodd\" fill-opacity=\"1\" /><path clip-path=\"url(#clip560)\" d=\"M46.4345 267.86 L54.0734 267.86 L54.0734 241.494 L45.7632 243.161 L45.7632 238.902 L54.0271 237.235 L58.703 237.235 L58.703 267.86 L66.3418 267.86 L66.3418 271.795 L46.4345 271.795 L46.4345 267.86 Z\" fill=\"#000000\" fill-rule=\"evenodd\" fill-opacity=\"1\" /><path clip-path=\"url(#clip560)\" d=\"M85.7862 240.314 Q82.1751 240.314 80.3464 243.878 Q78.5408 247.42 78.5408 254.55 Q78.5408 261.656 80.3464 265.221 Q82.1751 268.763 85.7862 268.763 Q89.4204 268.763 91.226 265.221 Q93.0547 261.656 93.0547 254.55 Q93.0547 247.42 91.226 243.878 Q89.4204 240.314 85.7862 240.314 M85.7862 236.61 Q91.5963 236.61 94.6519 241.216 Q97.7306 245.8 97.7306 254.55 Q97.7306 263.276 94.6519 267.883 Q91.5963 272.466 85.7862 272.466 Q79.976 272.466 76.8973 267.883 Q73.8418 263.276 73.8418 254.55 Q73.8418 245.8 76.8973 241.216 Q79.976 236.61 85.7862 236.61 Z\" fill=\"#000000\" fill-rule=\"evenodd\" fill-opacity=\"1\" /><path clip-path=\"url(#clip560)\" d=\"M97.7306 230.711 L121.842 230.711 L121.842 233.909 L97.7306 233.909 L97.7306 230.711 Z\" fill=\"#000000\" fill-rule=\"evenodd\" fill-opacity=\"1\" /><path clip-path=\"url(#clip560)\" d=\"M133.315 241.187 L146.574 241.187 L146.574 244.385 L128.745 244.385 L128.745 241.187 Q130.907 238.949 134.631 235.188 Q138.374 231.407 139.333 230.316 Q141.158 228.266 141.872 226.856 Q142.606 225.426 142.606 224.053 Q142.606 221.815 141.026 220.405 Q139.465 218.994 136.945 218.994 Q135.158 218.994 133.164 219.615 Q131.19 220.235 128.933 221.495 L128.933 217.659 Q131.227 216.737 133.221 216.267 Q135.214 215.797 136.87 215.797 Q141.233 215.797 143.828 217.978 Q146.424 220.16 146.424 223.809 Q146.424 225.539 145.766 227.1 Q145.126 228.642 143.415 230.749 Q142.944 231.294 140.424 233.909 Q137.904 236.504 133.315 241.187 Z\" fill=\"#000000\" fill-rule=\"evenodd\" fill-opacity=\"1\" /><path clip-path=\"url(#clip560)\" d=\"M710.412 12.096 L718.595 12.096 L718.595 65.6895 L748.045 65.6895 L748.045 72.576 L710.412 72.576 L710.412 12.096 Z\" fill=\"#000000\" fill-rule=\"evenodd\" fill-opacity=\"1\" /><path clip-path=\"url(#clip560)\" d=\"M772.431 32.4315 Q766.436 32.4315 762.952 37.1306 Q759.468 41.7891 759.468 49.9314 Q759.468 58.0738 762.912 62.7728 Q766.395 67.4314 772.431 67.4314 Q778.386 67.4314 781.87 62.7323 Q785.354 58.0333 785.354 49.9314 Q785.354 41.8701 781.87 37.1711 Q778.386 32.4315 772.431 32.4315 M772.431 26.1121 Q782.153 26.1121 787.703 32.4315 Q793.253 38.7509 793.253 49.9314 Q793.253 61.0714 787.703 67.4314 Q782.153 73.7508 772.431 73.7508 Q762.669 73.7508 757.119 67.4314 Q751.61 61.0714 751.61 49.9314 Q751.61 38.7509 757.119 32.4315 Q762.669 26.1121 772.431 26.1121 Z\" fill=\"#000000\" fill-rule=\"evenodd\" fill-opacity=\"1\" /><path clip-path=\"url(#clip560)\" d=\"M834.532 28.5427 L834.532 35.5912 Q831.372 33.9709 827.969 33.1607 Q824.566 32.3505 820.921 32.3505 Q815.371 32.3505 812.576 34.0519 Q809.821 35.7533 809.821 39.156 Q809.821 41.7486 811.806 43.2475 Q813.791 44.7058 819.786 46.0426 L822.338 46.6097 Q830.278 48.3111 833.6 51.4303 Q836.962 54.509 836.962 60.0587 Q836.962 66.3781 831.939 70.0644 Q826.956 73.7508 818.206 73.7508 Q814.561 73.7508 810.591 73.0216 Q806.661 72.3329 802.286 70.9151 L802.286 63.2184 Q806.418 65.3654 810.429 66.4591 Q814.439 67.5124 818.368 67.5124 Q823.635 67.5124 826.47 65.73 Q829.306 63.9071 829.306 60.6258 Q829.306 57.5877 827.24 55.9673 Q825.214 54.3469 818.287 52.8481 L815.695 52.2405 Q808.768 50.7821 805.689 47.7845 Q802.61 44.7463 802.61 39.4801 Q802.61 33.0797 807.147 29.5959 Q811.684 26.1121 820.029 26.1121 Q824.161 26.1121 827.807 26.7198 Q831.453 27.3274 834.532 28.5427 Z\" fill=\"#000000\" fill-rule=\"evenodd\" fill-opacity=\"1\" /><path clip-path=\"url(#clip560)\" d=\"M877.755 28.5427 L877.755 35.5912 Q874.595 33.9709 871.192 33.1607 Q867.789 32.3505 864.144 32.3505 Q858.594 32.3505 855.799 34.0519 Q853.044 35.7533 853.044 39.156 Q853.044 41.7486 855.029 43.2475 Q857.014 44.7058 863.009 46.0426 L865.561 46.6097 Q873.501 48.3111 876.823 51.4303 Q880.185 54.509 880.185 60.0587 Q880.185 66.3781 875.162 70.0644 Q870.18 73.7508 861.43 73.7508 Q857.784 73.7508 853.814 73.0216 Q849.884 72.3329 845.51 70.9151 L845.51 63.2184 Q849.641 65.3654 853.652 66.4591 Q857.662 67.5124 861.592 67.5124 Q866.858 67.5124 869.693 65.73 Q872.529 63.9071 872.529 60.6258 Q872.529 57.5877 870.463 55.9673 Q868.438 54.3469 861.511 52.8481 L858.918 52.2405 Q851.991 50.7821 848.912 47.7845 Q845.834 44.7463 845.834 39.4801 Q845.834 33.0797 850.371 29.5959 Q854.908 26.1121 863.252 26.1121 Q867.384 26.1121 871.03 26.7198 Q874.676 27.3274 877.755 28.5427 Z\" fill=\"#000000\" fill-rule=\"evenodd\" fill-opacity=\"1\" /><path clip-path=\"url(#clip560)\" d=\"M941.394 9.54393 L941.394 15.7418 L934.265 15.7418 Q930.254 15.7418 928.675 17.3622 Q927.135 18.9825 927.135 23.1955 L927.135 27.2059 L939.409 27.2059 L939.409 32.9987 L927.135 32.9987 L927.135 72.576 L919.641 72.576 L919.641 32.9987 L912.511 32.9987 L912.511 27.2059 L919.641 27.2059 L919.641 24.0462 Q919.641 16.471 923.165 13.0277 Q926.69 9.54393 934.346 9.54393 L941.394 9.54393 Z\" fill=\"#000000\" fill-rule=\"evenodd\" fill-opacity=\"1\" /><path clip-path=\"url(#clip560)\" d=\"M946.863 54.671 L946.863 27.2059 L954.317 27.2059 L954.317 54.3874 Q954.317 60.8284 956.828 64.0691 Q959.34 67.2693 964.363 67.2693 Q970.399 67.2693 973.883 63.421 Q977.407 59.5726 977.407 52.9291 L977.407 27.2059 L984.861 27.2059 L984.861 72.576 L977.407 72.576 L977.407 65.6084 Q974.693 69.7404 971.088 71.7658 Q967.523 73.7508 962.783 73.7508 Q954.965 73.7508 950.914 68.8897 Q946.863 64.0286 946.863 54.671 M965.619 26.1121 L965.619 26.1121 Z\" fill=\"#000000\" fill-rule=\"evenodd\" fill-opacity=\"1\" /><path clip-path=\"url(#clip560)\" d=\"M1037.93 45.1919 L1037.93 72.576 L1030.47 72.576 L1030.47 45.4349 Q1030.47 38.994 1027.96 35.7938 Q1025.45 32.5936 1020.43 32.5936 Q1014.39 32.5936 1010.91 36.4419 Q1007.42 40.2903 1007.42 46.9338 L1007.42 72.576 L999.93 72.576 L999.93 27.2059 L1007.42 27.2059 L1007.42 34.2544 Q1010.1 30.163 1013.7 28.1376 Q1017.35 26.1121 1022.09 26.1121 Q1029.91 26.1121 1033.92 30.9732 Q1037.93 35.7938 1037.93 45.1919 Z\" fill=\"#000000\" fill-rule=\"evenodd\" fill-opacity=\"1\" /><path clip-path=\"url(#clip560)\" d=\"M1085.44 28.9478 L1085.44 35.9153 Q1082.28 34.1734 1079.08 33.3227 Q1075.92 32.4315 1072.68 32.4315 Q1065.43 32.4315 1061.42 37.0496 Q1057.41 41.6271 1057.41 49.9314 Q1057.41 58.2358 1061.42 62.8538 Q1065.43 67.4314 1072.68 67.4314 Q1075.92 67.4314 1079.08 66.5807 Q1082.28 65.6895 1085.44 63.9476 L1085.44 70.8341 Q1082.33 72.2924 1078.96 73.0216 Q1075.64 73.7508 1071.87 73.7508 Q1061.63 73.7508 1055.59 67.3098 Q1049.55 60.8689 1049.55 49.9314 Q1049.55 38.832 1055.63 32.472 Q1061.75 26.1121 1072.36 26.1121 Q1075.8 26.1121 1079.08 26.8413 Q1082.37 27.5299 1085.44 28.9478 Z\" fill=\"#000000\" fill-rule=\"evenodd\" fill-opacity=\"1\" /><path clip-path=\"url(#clip560)\" d=\"M1105.78 14.324 L1105.78 27.2059 L1121.13 27.2059 L1121.13 32.9987 L1105.78 32.9987 L1105.78 57.6282 Q1105.78 63.1779 1107.28 64.7578 Q1108.82 66.3376 1113.48 66.3376 L1121.13 66.3376 L1121.13 72.576 L1113.48 72.576 Q1104.85 72.576 1101.57 69.3758 Q1098.29 66.1351 1098.29 57.6282 L1098.29 32.9987 L1092.82 32.9987 L1092.82 27.2059 L1098.29 27.2059 L1098.29 14.324 L1105.78 14.324 Z\" fill=\"#000000\" fill-rule=\"evenodd\" fill-opacity=\"1\" /><path clip-path=\"url(#clip560)\" d=\"M1130.94 27.2059 L1138.39 27.2059 L1138.39 72.576 L1130.94 72.576 L1130.94 27.2059 M1130.94 9.54393 L1138.39 9.54393 L1138.39 18.9825 L1130.94 18.9825 L1130.94 9.54393 Z\" fill=\"#000000\" fill-rule=\"evenodd\" fill-opacity=\"1\" /><path clip-path=\"url(#clip560)\" d=\"M1171.57 32.4315 Q1165.57 32.4315 1162.09 37.1306 Q1158.6 41.7891 1158.6 49.9314 Q1158.6 58.0738 1162.05 62.7728 Q1165.53 67.4314 1171.57 67.4314 Q1177.52 67.4314 1181.01 62.7323 Q1184.49 58.0333 1184.49 49.9314 Q1184.49 41.8701 1181.01 37.1711 Q1177.52 32.4315 1171.57 32.4315 M1171.57 26.1121 Q1181.29 26.1121 1186.84 32.4315 Q1192.39 38.7509 1192.39 49.9314 Q1192.39 61.0714 1186.84 67.4314 Q1181.29 73.7508 1171.57 73.7508 Q1161.8 73.7508 1156.25 67.4314 Q1150.75 61.0714 1150.75 49.9314 Q1150.75 38.7509 1156.25 32.4315 Q1161.8 26.1121 1171.57 26.1121 Z\" fill=\"#000000\" fill-rule=\"evenodd\" fill-opacity=\"1\" /><path clip-path=\"url(#clip560)\" d=\"M1242.46 45.1919 L1242.46 72.576 L1235 72.576 L1235 45.4349 Q1235 38.994 1232.49 35.7938 Q1229.98 32.5936 1224.96 32.5936 Q1218.92 32.5936 1215.44 36.4419 Q1211.95 40.2903 1211.95 46.9338 L1211.95 72.576 L1204.46 72.576 L1204.46 27.2059 L1211.95 27.2059 L1211.95 34.2544 Q1214.63 30.163 1218.23 28.1376 Q1221.88 26.1121 1226.62 26.1121 Q1234.44 26.1121 1238.45 30.9732 Q1242.46 35.7938 1242.46 45.1919 Z\" fill=\"#000000\" fill-rule=\"evenodd\" fill-opacity=\"1\" /><polyline clip-path=\"url(#clip562)\" style=\"stroke:#009af9; stroke-linecap:butt; stroke-linejoin:round; stroke-width:8; stroke-opacity:1; fill:none\" points=\"\n  244.491,121.944 284.055,254.435 323.62,332.216 363.185,395.782 402.749,449.386 442.314,493.164 481.878,532.583 521.443,569.879 561.007,606.639 600.572,638.211 \n  640.136,666.141 679.701,693.194 719.265,718.476 758.83,743.332 798.394,767.982 837.959,792.864 877.523,812.667 917.088,834.345 956.652,857.085 996.217,879.378 \n  1035.78,900.418 1075.35,920.102 1114.91,937.416 1154.48,954.353 1194.04,970.237 1233.6,982.25 1273.17,993.732 1312.73,1004.1 1352.3,1012.88 1391.86,1021.2 \n  1431.43,1029.62 1470.99,1036.02 1510.56,1043.08 1550.12,1050.02 1589.68,1060.07 1629.25,1064.77 1668.81,1070.44 1708.38,1079.02 \n  \"/>\n<path clip-path=\"url(#clip560)\" d=\"\nM2001.04 1107.73 L3552.76 1107.73 L3552.76 93.2321 L2001.04 93.2321  Z\n  \" fill=\"#ffffff\" fill-rule=\"evenodd\" fill-opacity=\"1\"/>\n<defs>\n  <clipPath id=\"clip563\">\n    <rect x=\"2001\" y=\"93\" width=\"1553\" height=\"1015\"/>\n  </clipPath>\n</defs>\n<polyline clip-path=\"url(#clip563)\" style=\"stroke:#000000; stroke-linecap:butt; stroke-linejoin:round; stroke-width:2; stroke-opacity:0.1; fill:none\" points=\"\n  2166.94,1107.73 2166.94,93.2321 \n  \"/>\n<polyline clip-path=\"url(#clip563)\" style=\"stroke:#000000; stroke-linecap:butt; stroke-linejoin:round; stroke-width:2; stroke-opacity:0.1; fill:none\" points=\"\n  2370.26,1107.73 2370.26,93.2321 \n  \"/>\n<polyline clip-path=\"url(#clip563)\" style=\"stroke:#000000; stroke-linecap:butt; stroke-linejoin:round; stroke-width:2; stroke-opacity:0.1; fill:none\" points=\"\n  2573.58,1107.73 2573.58,93.2321 \n  \"/>\n<polyline clip-path=\"url(#clip563)\" style=\"stroke:#000000; stroke-linecap:butt; stroke-linejoin:round; stroke-width:2; stroke-opacity:0.1; fill:none\" points=\"\n  2776.9,1107.73 2776.9,93.2321 \n  \"/>\n<polyline clip-path=\"url(#clip563)\" style=\"stroke:#000000; stroke-linecap:butt; stroke-linejoin:round; stroke-width:2; stroke-opacity:0.1; fill:none\" points=\"\n  2980.21,1107.73 2980.21,93.2321 \n  \"/>\n<polyline clip-path=\"url(#clip563)\" style=\"stroke:#000000; stroke-linecap:butt; stroke-linejoin:round; stroke-width:2; stroke-opacity:0.1; fill:none\" points=\"\n  3183.53,1107.73 3183.53,93.2321 \n  \"/>\n<polyline clip-path=\"url(#clip563)\" style=\"stroke:#000000; stroke-linecap:butt; stroke-linejoin:round; stroke-width:2; stroke-opacity:0.1; fill:none\" points=\"\n  3386.85,1107.73 3386.85,93.2321 \n  \"/>\n<polyline clip-path=\"url(#clip560)\" style=\"stroke:#000000; stroke-linecap:butt; stroke-linejoin:round; stroke-width:4; stroke-opacity:1; fill:none\" points=\"\n  2001.04,1107.73 3552.76,1107.73 \n  \"/>\n<polyline clip-path=\"url(#clip560)\" style=\"stroke:#000000; stroke-linecap:butt; stroke-linejoin:round; stroke-width:4; stroke-opacity:1; fill:none\" points=\"\n  2166.94,1107.73 2166.94,1088.83 \n  \"/>\n<polyline clip-path=\"url(#clip560)\" style=\"stroke:#000000; stroke-linecap:butt; stroke-linejoin:round; stroke-width:4; stroke-opacity:1; fill:none\" points=\"\n  2370.26,1107.73 2370.26,1088.83 \n  \"/>\n<polyline clip-path=\"url(#clip560)\" style=\"stroke:#000000; stroke-linecap:butt; stroke-linejoin:round; stroke-width:4; stroke-opacity:1; fill:none\" points=\"\n  2573.58,1107.73 2573.58,1088.83 \n  \"/>\n<polyline clip-path=\"url(#clip560)\" style=\"stroke:#000000; stroke-linecap:butt; stroke-linejoin:round; stroke-width:4; stroke-opacity:1; fill:none\" points=\"\n  2776.9,1107.73 2776.9,1088.83 \n  \"/>\n<polyline clip-path=\"url(#clip560)\" style=\"stroke:#000000; stroke-linecap:butt; stroke-linejoin:round; stroke-width:4; stroke-opacity:1; fill:none\" points=\"\n  2980.21,1107.73 2980.21,1088.83 \n  \"/>\n<polyline clip-path=\"url(#clip560)\" style=\"stroke:#000000; stroke-linecap:butt; stroke-linejoin:round; stroke-width:4; stroke-opacity:1; fill:none\" points=\"\n  3183.53,1107.73 3183.53,1088.83 \n  \"/>\n<polyline clip-path=\"url(#clip560)\" style=\"stroke:#000000; stroke-linecap:butt; stroke-linejoin:round; stroke-width:4; stroke-opacity:1; fill:none\" points=\"\n  3386.85,1107.73 3386.85,1088.83 \n  \"/>\n<path clip-path=\"url(#clip560)\" d=\"M2157.22 1145.17 L2175.58 1145.17 L2175.58 1149.1 L2161.5 1149.1 L2161.5 1157.58 Q2162.52 1157.23 2163.54 1157.07 Q2164.56 1156.88 2165.58 1156.88 Q2171.36 1156.88 2174.74 1160.05 Q2178.12 1163.22 2178.12 1168.64 Q2178.12 1174.22 2174.65 1177.32 Q2171.18 1180.4 2164.86 1180.4 Q2162.68 1180.4 2160.41 1180.03 Q2158.17 1179.66 2155.76 1178.92 L2155.76 1174.22 Q2157.85 1175.35 2160.07 1175.91 Q2162.29 1176.46 2164.77 1176.46 Q2168.77 1176.46 2171.11 1174.36 Q2173.45 1172.25 2173.45 1168.64 Q2173.45 1165.03 2171.11 1162.92 Q2168.77 1160.82 2164.77 1160.82 Q2162.89 1160.82 2161.02 1161.23 Q2159.16 1161.65 2157.22 1162.53 L2157.22 1145.17 Z\" fill=\"#000000\" fill-rule=\"evenodd\" fill-opacity=\"1\" /><path clip-path=\"url(#clip560)\" d=\"M2344.95 1175.79 L2352.59 1175.79 L2352.59 1149.43 L2344.28 1151.09 L2344.28 1146.83 L2352.54 1145.17 L2357.22 1145.17 L2357.22 1175.79 L2364.86 1175.79 L2364.86 1179.73 L2344.95 1179.73 L2344.95 1175.79 Z\" fill=\"#000000\" fill-rule=\"evenodd\" fill-opacity=\"1\" /><path clip-path=\"url(#clip560)\" d=\"M2384.3 1148.25 Q2380.69 1148.25 2378.86 1151.81 Q2377.05 1155.35 2377.05 1162.48 Q2377.05 1169.59 2378.86 1173.15 Q2380.69 1176.7 2384.3 1176.7 Q2387.93 1176.7 2389.74 1173.15 Q2391.57 1169.59 2391.57 1162.48 Q2391.57 1155.35 2389.74 1151.81 Q2387.93 1148.25 2384.3 1148.25 M2384.3 1144.54 Q2390.11 1144.54 2393.17 1149.15 Q2396.24 1153.73 2396.24 1162.48 Q2396.24 1171.21 2393.17 1175.82 Q2390.11 1180.4 2384.3 1180.4 Q2378.49 1180.4 2375.41 1175.82 Q2372.35 1171.21 2372.35 1162.48 Q2372.35 1153.73 2375.41 1149.15 Q2378.49 1144.54 2384.3 1144.54 Z\" fill=\"#000000\" fill-rule=\"evenodd\" fill-opacity=\"1\" /><path clip-path=\"url(#clip560)\" d=\"M2548.76 1175.79 L2556.4 1175.79 L2556.4 1149.43 L2548.09 1151.09 L2548.09 1146.83 L2556.36 1145.17 L2561.03 1145.17 L2561.03 1175.79 L2568.67 1175.79 L2568.67 1179.73 L2548.76 1179.73 L2548.76 1175.79 Z\" fill=\"#000000\" fill-rule=\"evenodd\" fill-opacity=\"1\" /><path clip-path=\"url(#clip560)\" d=\"M2578.16 1145.17 L2596.52 1145.17 L2596.52 1149.1 L2582.44 1149.1 L2582.44 1157.58 Q2583.46 1157.23 2584.48 1157.07 Q2585.5 1156.88 2586.52 1156.88 Q2592.3 1156.88 2595.68 1160.05 Q2599.06 1163.22 2599.06 1168.64 Q2599.06 1174.22 2595.59 1177.32 Q2592.12 1180.4 2585.8 1180.4 Q2583.62 1180.4 2581.36 1180.03 Q2579.11 1179.66 2576.7 1178.92 L2576.7 1174.22 Q2578.79 1175.35 2581.01 1175.91 Q2583.23 1176.46 2585.71 1176.46 Q2589.71 1176.46 2592.05 1174.36 Q2594.39 1172.25 2594.39 1168.64 Q2594.39 1165.03 2592.05 1162.92 Q2589.71 1160.82 2585.71 1160.82 Q2583.83 1160.82 2581.96 1161.23 Q2580.11 1161.65 2578.16 1162.53 L2578.16 1145.17 Z\" fill=\"#000000\" fill-rule=\"evenodd\" fill-opacity=\"1\" /><path clip-path=\"url(#clip560)\" d=\"M2755.67 1175.79 L2771.99 1175.79 L2771.99 1179.73 L2750.04 1179.73 L2750.04 1175.79 Q2752.71 1173.04 2757.29 1168.41 Q2761.9 1163.76 2763.08 1162.41 Q2765.32 1159.89 2766.2 1158.15 Q2767.1 1156.39 2767.1 1154.7 Q2767.1 1151.95 2765.16 1150.21 Q2763.24 1148.48 2760.14 1148.48 Q2757.94 1148.48 2755.48 1149.24 Q2753.05 1150.01 2750.28 1151.56 L2750.28 1146.83 Q2753.1 1145.7 2755.55 1145.12 Q2758.01 1144.54 2760.04 1144.54 Q2765.41 1144.54 2768.61 1147.23 Q2771.8 1149.91 2771.8 1154.4 Q2771.8 1156.53 2770.99 1158.45 Q2770.21 1160.35 2768.1 1162.95 Q2767.52 1163.62 2764.42 1166.83 Q2761.32 1170.03 2755.67 1175.79 Z\" fill=\"#000000\" fill-rule=\"evenodd\" fill-opacity=\"1\" /><path clip-path=\"url(#clip560)\" d=\"M2791.8 1148.25 Q2788.19 1148.25 2786.36 1151.81 Q2784.56 1155.35 2784.56 1162.48 Q2784.56 1169.59 2786.36 1173.15 Q2788.19 1176.7 2791.8 1176.7 Q2795.44 1176.7 2797.24 1173.15 Q2799.07 1169.59 2799.07 1162.48 Q2799.07 1155.35 2797.24 1151.81 Q2795.44 1148.25 2791.8 1148.25 M2791.8 1144.54 Q2797.61 1144.54 2800.67 1149.15 Q2803.75 1153.73 2803.75 1162.48 Q2803.75 1171.21 2800.67 1175.82 Q2797.61 1180.4 2791.8 1180.4 Q2785.99 1180.4 2782.91 1175.82 Q2779.86 1171.21 2779.86 1162.48 Q2779.86 1153.73 2782.91 1149.15 Q2785.99 1144.54 2791.8 1144.54 Z\" fill=\"#000000\" fill-rule=\"evenodd\" fill-opacity=\"1\" /><path clip-path=\"url(#clip560)\" d=\"M2959.48 1175.79 L2975.8 1175.79 L2975.8 1179.73 L2953.86 1179.73 L2953.86 1175.79 Q2956.52 1173.04 2961.1 1168.41 Q2965.71 1163.76 2966.89 1162.41 Q2969.14 1159.89 2970.02 1158.15 Q2970.92 1156.39 2970.92 1154.7 Q2970.92 1151.95 2968.97 1150.21 Q2967.05 1148.48 2963.95 1148.48 Q2961.75 1148.48 2959.3 1149.24 Q2956.87 1150.01 2954.09 1151.56 L2954.09 1146.83 Q2956.91 1145.7 2959.37 1145.12 Q2961.82 1144.54 2963.86 1144.54 Q2969.23 1144.54 2972.42 1147.23 Q2975.62 1149.91 2975.62 1154.4 Q2975.62 1156.53 2974.81 1158.45 Q2974.02 1160.35 2971.91 1162.95 Q2971.34 1163.62 2968.23 1166.83 Q2965.13 1170.03 2959.48 1175.79 Z\" fill=\"#000000\" fill-rule=\"evenodd\" fill-opacity=\"1\" /><path clip-path=\"url(#clip560)\" d=\"M2985.66 1145.17 L3004.02 1145.17 L3004.02 1149.1 L2989.95 1149.1 L2989.95 1157.58 Q2990.97 1157.23 2991.98 1157.07 Q2993 1156.88 2994.02 1156.88 Q2999.81 1156.88 3003.19 1160.05 Q3006.57 1163.22 3006.57 1168.64 Q3006.57 1174.22 3003.1 1177.32 Q2999.62 1180.4 2993.3 1180.4 Q2991.13 1180.4 2988.86 1180.03 Q2986.61 1179.66 2984.21 1178.92 L2984.21 1174.22 Q2986.29 1175.35 2988.51 1175.91 Q2990.73 1176.46 2993.21 1176.46 Q2997.22 1176.46 2999.55 1174.36 Q3001.89 1172.25 3001.89 1168.64 Q3001.89 1165.03 2999.55 1162.92 Q2997.22 1160.82 2993.21 1160.82 Q2991.34 1160.82 2989.46 1161.23 Q2987.61 1161.65 2985.66 1162.53 L2985.66 1145.17 Z\" fill=\"#000000\" fill-rule=\"evenodd\" fill-opacity=\"1\" /><path clip-path=\"url(#clip560)\" d=\"M3172.37 1161.09 Q3175.73 1161.81 3177.61 1164.08 Q3179.5 1166.35 3179.5 1169.68 Q3179.5 1174.8 3175.98 1177.6 Q3172.47 1180.4 3165.98 1180.4 Q3163.81 1180.4 3161.49 1179.96 Q3159.2 1179.54 3156.75 1178.69 L3156.75 1174.17 Q3158.69 1175.31 3161.01 1175.89 Q3163.32 1176.46 3165.85 1176.46 Q3170.24 1176.46 3172.54 1174.73 Q3174.85 1172.99 3174.85 1169.68 Q3174.85 1166.63 3172.7 1164.91 Q3170.57 1163.18 3166.75 1163.18 L3162.72 1163.18 L3162.72 1159.33 L3166.93 1159.33 Q3170.38 1159.33 3172.21 1157.97 Q3174.04 1156.58 3174.04 1153.99 Q3174.04 1151.33 3172.14 1149.91 Q3170.27 1148.48 3166.75 1148.48 Q3164.83 1148.48 3162.63 1148.89 Q3160.43 1149.31 3157.79 1150.19 L3157.79 1146.02 Q3160.45 1145.28 3162.77 1144.91 Q3165.11 1144.54 3167.17 1144.54 Q3172.49 1144.54 3175.59 1146.97 Q3178.69 1149.38 3178.69 1153.5 Q3178.69 1156.37 3177.05 1158.36 Q3175.41 1160.33 3172.37 1161.09 Z\" fill=\"#000000\" fill-rule=\"evenodd\" fill-opacity=\"1\" /><path clip-path=\"url(#clip560)\" d=\"M3198.37 1148.25 Q3194.76 1148.25 3192.93 1151.81 Q3191.12 1155.35 3191.12 1162.48 Q3191.12 1169.59 3192.93 1173.15 Q3194.76 1176.7 3198.37 1176.7 Q3202 1176.7 3203.81 1173.15 Q3205.64 1169.59 3205.64 1162.48 Q3205.64 1155.35 3203.81 1151.81 Q3202 1148.25 3198.37 1148.25 M3198.37 1144.54 Q3204.18 1144.54 3207.23 1149.15 Q3210.31 1153.73 3210.31 1162.48 Q3210.31 1171.21 3207.23 1175.82 Q3204.18 1180.4 3198.37 1180.4 Q3192.56 1180.4 3189.48 1175.82 Q3186.42 1171.21 3186.42 1162.48 Q3186.42 1153.73 3189.48 1149.15 Q3192.56 1144.54 3198.37 1144.54 Z\" fill=\"#000000\" fill-rule=\"evenodd\" fill-opacity=\"1\" /><path clip-path=\"url(#clip560)\" d=\"M3376.19 1161.09 Q3379.55 1161.81 3381.42 1164.08 Q3383.32 1166.35 3383.32 1169.68 Q3383.32 1174.8 3379.8 1177.6 Q3376.28 1180.4 3369.8 1180.4 Q3367.62 1180.4 3365.31 1179.96 Q3363.02 1179.54 3360.56 1178.69 L3360.56 1174.17 Q3362.51 1175.31 3364.82 1175.89 Q3367.14 1176.46 3369.66 1176.46 Q3374.06 1176.46 3376.35 1174.73 Q3378.67 1172.99 3378.67 1169.68 Q3378.67 1166.63 3376.51 1164.91 Q3374.38 1163.18 3370.56 1163.18 L3366.54 1163.18 L3366.54 1159.33 L3370.75 1159.33 Q3374.2 1159.33 3376.03 1157.97 Q3377.86 1156.58 3377.86 1153.99 Q3377.86 1151.33 3375.96 1149.91 Q3374.08 1148.48 3370.56 1148.48 Q3368.64 1148.48 3366.44 1148.89 Q3364.24 1149.31 3361.61 1150.19 L3361.61 1146.02 Q3364.27 1145.28 3366.58 1144.91 Q3368.92 1144.54 3370.98 1144.54 Q3376.3 1144.54 3379.41 1146.97 Q3382.51 1149.38 3382.51 1153.5 Q3382.51 1156.37 3380.86 1158.36 Q3379.22 1160.33 3376.19 1161.09 Z\" fill=\"#000000\" fill-rule=\"evenodd\" fill-opacity=\"1\" /><path clip-path=\"url(#clip560)\" d=\"M3392.23 1145.17 L3410.59 1145.17 L3410.59 1149.1 L3396.51 1149.1 L3396.51 1157.58 Q3397.53 1157.23 3398.55 1157.07 Q3399.57 1156.88 3400.59 1156.88 Q3406.37 1156.88 3409.75 1160.05 Q3413.13 1163.22 3413.13 1168.64 Q3413.13 1174.22 3409.66 1177.32 Q3406.19 1180.4 3399.87 1180.4 Q3397.69 1180.4 3395.42 1180.03 Q3393.18 1179.66 3390.77 1178.92 L3390.77 1174.22 Q3392.86 1175.35 3395.08 1175.91 Q3397.3 1176.46 3399.78 1176.46 Q3403.78 1176.46 3406.12 1174.36 Q3408.46 1172.25 3408.46 1168.64 Q3408.46 1165.03 3406.12 1162.92 Q3403.78 1160.82 3399.78 1160.82 Q3397.9 1160.82 3396.03 1161.23 Q3394.18 1161.65 3392.23 1162.53 L3392.23 1145.17 Z\" fill=\"#000000\" fill-rule=\"evenodd\" fill-opacity=\"1\" /><polyline clip-path=\"url(#clip563)\" style=\"stroke:#000000; stroke-linecap:butt; stroke-linejoin:round; stroke-width:2; stroke-opacity:0.1; fill:none\" points=\"\n  2001.04,1042.91 3552.76,1042.91 \n  \"/>\n<polyline clip-path=\"url(#clip563)\" style=\"stroke:#000000; stroke-linecap:butt; stroke-linejoin:round; stroke-width:2; stroke-opacity:0.1; fill:none\" points=\"\n  2001.04,715.879 3552.76,715.879 \n  \"/>\n<polyline clip-path=\"url(#clip563)\" style=\"stroke:#000000; stroke-linecap:butt; stroke-linejoin:round; stroke-width:2; stroke-opacity:0.1; fill:none\" points=\"\n  2001.04,388.847 3552.76,388.847 \n  \"/>\n<polyline clip-path=\"url(#clip560)\" style=\"stroke:#000000; stroke-linecap:butt; stroke-linejoin:round; stroke-width:4; stroke-opacity:1; fill:none\" points=\"\n  2001.04,1107.73 2001.04,93.2321 \n  \"/>\n<polyline clip-path=\"url(#clip560)\" style=\"stroke:#000000; stroke-linecap:butt; stroke-linejoin:round; stroke-width:4; stroke-opacity:1; fill:none\" points=\"\n  2001.04,1042.91 2019.93,1042.91 \n  \"/>\n<polyline clip-path=\"url(#clip560)\" style=\"stroke:#000000; stroke-linecap:butt; stroke-linejoin:round; stroke-width:4; stroke-opacity:1; fill:none\" points=\"\n  2001.04,715.879 2019.93,715.879 \n  \"/>\n<polyline clip-path=\"url(#clip560)\" style=\"stroke:#000000; stroke-linecap:butt; stroke-linejoin:round; stroke-width:4; stroke-opacity:1; fill:none\" points=\"\n  2001.04,388.847 2019.93,388.847 \n  \"/>\n<path clip-path=\"url(#clip560)\" d=\"M1846.41 1062.7 L1854.05 1062.7 L1854.05 1036.34 L1845.74 1038 L1845.74 1033.75 L1854 1032.08 L1858.67 1032.08 L1858.67 1062.7 L1866.31 1062.7 L1866.31 1066.64 L1846.41 1066.64 L1846.41 1062.7 Z\" fill=\"#000000\" fill-rule=\"evenodd\" fill-opacity=\"1\" /><path clip-path=\"url(#clip560)\" d=\"M1885.76 1035.16 Q1882.15 1035.16 1880.32 1038.72 Q1878.51 1042.26 1878.51 1049.39 Q1878.51 1056.5 1880.32 1060.06 Q1882.15 1063.61 1885.76 1063.61 Q1889.39 1063.61 1891.2 1060.06 Q1893.03 1056.5 1893.03 1049.39 Q1893.03 1042.26 1891.2 1038.72 Q1889.39 1035.16 1885.76 1035.16 M1885.76 1031.45 Q1891.57 1031.45 1894.62 1036.06 Q1897.7 1040.64 1897.7 1049.39 Q1897.7 1058.12 1894.62 1062.73 Q1891.57 1067.31 1885.76 1067.31 Q1879.95 1067.31 1876.87 1062.73 Q1873.81 1058.12 1873.81 1049.39 Q1873.81 1040.64 1876.87 1036.06 Q1879.95 1031.45 1885.76 1031.45 Z\" fill=\"#000000\" fill-rule=\"evenodd\" fill-opacity=\"1\" /><path clip-path=\"url(#clip560)\" d=\"M1897.7 1025.56 L1921.81 1025.56 L1921.81 1028.75 L1897.7 1028.75 L1897.7 1025.56 Z\" fill=\"#000000\" fill-rule=\"evenodd\" fill-opacity=\"1\" /><path clip-path=\"url(#clip560)\" d=\"M1930.05 1011.15 L1944.97 1011.15 L1944.97 1014.35 L1933.53 1014.35 L1933.53 1021.23 Q1934.36 1020.95 1935.19 1020.82 Q1936.01 1020.67 1936.84 1020.67 Q1941.54 1020.67 1944.29 1023.24 Q1947.04 1025.82 1947.04 1030.22 Q1947.04 1034.75 1944.21 1037.27 Q1941.39 1039.77 1936.26 1039.77 Q1934.49 1039.77 1932.65 1039.47 Q1930.82 1039.17 1928.87 1038.57 L1928.87 1034.75 Q1930.56 1035.67 1932.37 1036.13 Q1934.17 1036.58 1936.18 1036.58 Q1939.44 1036.58 1941.34 1034.87 Q1943.24 1033.15 1943.24 1030.22 Q1943.24 1027.29 1941.34 1025.57 Q1939.44 1023.86 1936.18 1023.86 Q1934.66 1023.86 1933.14 1024.2 Q1931.63 1024.54 1930.05 1025.25 L1930.05 1011.15 Z\" fill=\"#000000\" fill-rule=\"evenodd\" fill-opacity=\"1\" /><path clip-path=\"url(#clip560)\" d=\"M1845.2 735.672 L1852.84 735.672 L1852.84 709.306 L1844.53 710.973 L1844.53 706.713 L1852.8 705.047 L1857.47 705.047 L1857.47 735.672 L1865.11 735.672 L1865.11 739.607 L1845.2 739.607 L1845.2 735.672 Z\" fill=\"#000000\" fill-rule=\"evenodd\" fill-opacity=\"1\" /><path clip-path=\"url(#clip560)\" d=\"M1884.55 708.125 Q1880.94 708.125 1879.11 711.69 Q1877.31 715.232 1877.31 722.361 Q1877.31 729.468 1879.11 733.033 Q1880.94 736.574 1884.55 736.574 Q1888.19 736.574 1889.99 733.033 Q1891.82 729.468 1891.82 722.361 Q1891.82 715.232 1889.99 711.69 Q1888.19 708.125 1884.55 708.125 M1884.55 704.422 Q1890.36 704.422 1893.42 709.028 Q1896.5 713.612 1896.5 722.361 Q1896.5 731.088 1893.42 735.695 Q1890.36 740.278 1884.55 740.278 Q1878.74 740.278 1875.67 735.695 Q1872.61 731.088 1872.61 722.361 Q1872.61 713.612 1875.67 709.028 Q1878.74 704.422 1884.55 704.422 Z\" fill=\"#000000\" fill-rule=\"evenodd\" fill-opacity=\"1\" /><path clip-path=\"url(#clip560)\" d=\"M1896.5 698.523 L1920.61 698.523 L1920.61 701.72 L1896.5 701.72 L1896.5 698.523 Z\" fill=\"#000000\" fill-rule=\"evenodd\" fill-opacity=\"1\" /><path clip-path=\"url(#clip560)\" d=\"M1939.25 687.427 L1929.66 702.416 L1939.25 702.416 L1939.25 687.427 M1938.25 684.116 L1943.03 684.116 L1943.03 702.416 L1947.04 702.416 L1947.04 705.576 L1943.03 705.576 L1943.03 712.196 L1939.25 712.196 L1939.25 705.576 L1926.57 705.576 L1926.57 701.908 L1938.25 684.116 Z\" fill=\"#000000\" fill-rule=\"evenodd\" fill-opacity=\"1\" /><path clip-path=\"url(#clip560)\" d=\"M1846.12 408.639 L1853.76 408.639 L1853.76 382.274 L1845.45 383.94 L1845.45 379.681 L1853.72 378.014 L1858.39 378.014 L1858.39 408.639 L1866.03 408.639 L1866.03 412.574 L1846.12 412.574 L1846.12 408.639 Z\" fill=\"#000000\" fill-rule=\"evenodd\" fill-opacity=\"1\" /><path clip-path=\"url(#clip560)\" d=\"M1885.48 381.093 Q1881.86 381.093 1880.04 384.658 Q1878.23 388.2 1878.23 395.329 Q1878.23 402.436 1880.04 406 Q1881.86 409.542 1885.48 409.542 Q1889.11 409.542 1890.92 406 Q1892.74 402.436 1892.74 395.329 Q1892.74 388.2 1890.92 384.658 Q1889.11 381.093 1885.48 381.093 M1885.48 377.389 Q1891.29 377.389 1894.34 381.996 Q1897.42 386.579 1897.42 395.329 Q1897.42 404.056 1894.34 408.662 Q1891.29 413.246 1885.48 413.246 Q1879.67 413.246 1876.59 408.662 Q1873.53 404.056 1873.53 395.329 Q1873.53 386.579 1876.59 381.996 Q1879.67 377.389 1885.48 377.389 Z\" fill=\"#000000\" fill-rule=\"evenodd\" fill-opacity=\"1\" /><path clip-path=\"url(#clip560)\" d=\"M1897.42 371.491 L1921.53 371.491 L1921.53 374.688 L1897.42 374.688 L1897.42 371.491 Z\" fill=\"#000000\" fill-rule=\"evenodd\" fill-opacity=\"1\" /><path clip-path=\"url(#clip560)\" d=\"M1941.24 370.024 Q1943.97 370.607 1945.49 372.45 Q1947.04 374.293 1947.04 377.002 Q1947.04 381.158 1944.18 383.434 Q1941.32 385.709 1936.05 385.709 Q1934.28 385.709 1932.4 385.352 Q1930.54 385.014 1928.55 384.318 L1928.55 380.65 Q1930.13 381.572 1932.01 382.042 Q1933.89 382.512 1935.94 382.512 Q1939.51 382.512 1941.37 381.102 Q1943.25 379.691 1943.25 377.002 Q1943.25 374.519 1941.51 373.127 Q1939.78 371.717 1936.67 371.717 L1933.4 371.717 L1933.4 368.594 L1936.82 368.594 Q1939.62 368.594 1941.11 367.485 Q1942.6 366.356 1942.6 364.25 Q1942.6 362.087 1941.05 360.94 Q1939.53 359.774 1936.67 359.774 Q1935.11 359.774 1933.32 360.112 Q1931.54 360.451 1929.39 361.165 L1929.39 357.78 Q1931.56 357.178 1933.44 356.877 Q1935.34 356.576 1937.01 356.576 Q1941.34 356.576 1943.86 358.551 Q1946.38 360.507 1946.38 363.855 Q1946.38 366.187 1945.04 367.805 Q1943.71 369.403 1941.24 370.024 Z\" fill=\"#000000\" fill-rule=\"evenodd\" fill-opacity=\"1\" /><path clip-path=\"url(#clip560)\" d=\"M2288.11 12.096 L2296.3 12.096 L2296.3 65.6895 L2325.75 65.6895 L2325.75 72.576 L2288.11 72.576 L2288.11 12.096 Z\" fill=\"#000000\" fill-rule=\"evenodd\" fill-opacity=\"1\" /><path clip-path=\"url(#clip560)\" d=\"M2350.13 32.4315 Q2344.14 32.4315 2340.65 37.1306 Q2337.17 41.7891 2337.17 49.9314 Q2337.17 58.0738 2340.61 62.7728 Q2344.1 67.4314 2350.13 67.4314 Q2356.09 67.4314 2359.57 62.7323 Q2363.06 58.0333 2363.06 49.9314 Q2363.06 41.8701 2359.57 37.1711 Q2356.09 32.4315 2350.13 32.4315 M2350.13 26.1121 Q2359.85 26.1121 2365.4 32.4315 Q2370.95 38.7509 2370.95 49.9314 Q2370.95 61.0714 2365.4 67.4314 Q2359.85 73.7508 2350.13 73.7508 Q2340.37 73.7508 2334.82 67.4314 Q2329.31 61.0714 2329.31 49.9314 Q2329.31 38.7509 2334.82 32.4315 Q2340.37 26.1121 2350.13 26.1121 Z\" fill=\"#000000\" fill-rule=\"evenodd\" fill-opacity=\"1\" /><path clip-path=\"url(#clip560)\" d=\"M2412.23 28.5427 L2412.23 35.5912 Q2409.07 33.9709 2405.67 33.1607 Q2402.27 32.3505 2398.62 32.3505 Q2393.07 32.3505 2390.28 34.0519 Q2387.52 35.7533 2387.52 39.156 Q2387.52 41.7486 2389.51 43.2475 Q2391.49 44.7058 2397.49 46.0426 L2400.04 46.6097 Q2407.98 48.3111 2411.3 51.4303 Q2414.66 54.509 2414.66 60.0587 Q2414.66 66.3781 2409.64 70.0644 Q2404.66 73.7508 2395.91 73.7508 Q2392.26 73.7508 2388.29 73.0216 Q2384.36 72.3329 2379.99 70.9151 L2379.99 63.2184 Q2384.12 65.3654 2388.13 66.4591 Q2392.14 67.5124 2396.07 67.5124 Q2401.34 67.5124 2404.17 65.73 Q2407.01 63.9071 2407.01 60.6258 Q2407.01 57.5877 2404.94 55.9673 Q2402.92 54.3469 2395.99 52.8481 L2393.4 52.2405 Q2386.47 50.7821 2383.39 47.7845 Q2380.31 44.7463 2380.31 39.4801 Q2380.31 33.0797 2384.85 29.5959 Q2389.39 26.1121 2397.73 26.1121 Q2401.86 26.1121 2405.51 26.7198 Q2409.15 27.3274 2412.23 28.5427 Z\" fill=\"#000000\" fill-rule=\"evenodd\" fill-opacity=\"1\" /><path clip-path=\"url(#clip560)\" d=\"M2455.46 28.5427 L2455.46 35.5912 Q2452.3 33.9709 2448.89 33.1607 Q2445.49 32.3505 2441.85 32.3505 Q2436.3 32.3505 2433.5 34.0519 Q2430.75 35.7533 2430.75 39.156 Q2430.75 41.7486 2432.73 43.2475 Q2434.72 44.7058 2440.71 46.0426 L2443.26 46.6097 Q2451.2 48.3111 2454.52 51.4303 Q2457.89 54.509 2457.89 60.0587 Q2457.89 66.3781 2452.86 70.0644 Q2447.88 73.7508 2439.13 73.7508 Q2435.49 73.7508 2431.52 73.0216 Q2427.59 72.3329 2423.21 70.9151 L2423.21 63.2184 Q2427.34 65.3654 2431.35 66.4591 Q2435.36 67.5124 2439.29 67.5124 Q2444.56 67.5124 2447.39 65.73 Q2450.23 63.9071 2450.23 60.6258 Q2450.23 57.5877 2448.16 55.9673 Q2446.14 54.3469 2439.21 52.8481 L2436.62 52.2405 Q2429.69 50.7821 2426.61 47.7845 Q2423.54 44.7463 2423.54 39.4801 Q2423.54 33.0797 2428.07 29.5959 Q2432.61 26.1121 2440.95 26.1121 Q2445.09 26.1121 2448.73 26.7198 Q2452.38 27.3274 2455.46 28.5427 Z\" fill=\"#000000\" fill-rule=\"evenodd\" fill-opacity=\"1\" /><path clip-path=\"url(#clip560)\" d=\"M2519.1 9.54393 L2519.1 15.7418 L2511.97 15.7418 Q2507.96 15.7418 2506.38 17.3622 Q2504.84 18.9825 2504.84 23.1955 L2504.84 27.2059 L2517.11 27.2059 L2517.11 32.9987 L2504.84 32.9987 L2504.84 72.576 L2497.34 72.576 L2497.34 32.9987 L2490.21 32.9987 L2490.21 27.2059 L2497.34 27.2059 L2497.34 24.0462 Q2497.34 16.471 2500.87 13.0277 Q2504.39 9.54393 2512.05 9.54393 L2519.1 9.54393 Z\" fill=\"#000000\" fill-rule=\"evenodd\" fill-opacity=\"1\" /><path clip-path=\"url(#clip560)\" d=\"M2524.56 54.671 L2524.56 27.2059 L2532.02 27.2059 L2532.02 54.3874 Q2532.02 60.8284 2534.53 64.0691 Q2537.04 67.2693 2542.06 67.2693 Q2548.1 67.2693 2551.58 63.421 Q2555.11 59.5726 2555.11 52.9291 L2555.11 27.2059 L2562.56 27.2059 L2562.56 72.576 L2555.11 72.576 L2555.11 65.6084 Q2552.39 69.7404 2548.79 71.7658 Q2545.22 73.7508 2540.48 73.7508 Q2532.67 73.7508 2528.62 68.8897 Q2524.56 64.0286 2524.56 54.671 M2543.32 26.1121 L2543.32 26.1121 Z\" fill=\"#000000\" fill-rule=\"evenodd\" fill-opacity=\"1\" /><path clip-path=\"url(#clip560)\" d=\"M2615.63 45.1919 L2615.63 72.576 L2608.18 72.576 L2608.18 45.4349 Q2608.18 38.994 2605.66 35.7938 Q2603.15 32.5936 2598.13 32.5936 Q2592.09 32.5936 2588.61 36.4419 Q2585.13 40.2903 2585.13 46.9338 L2585.13 72.576 L2577.63 72.576 L2577.63 27.2059 L2585.13 27.2059 L2585.13 34.2544 Q2587.8 30.163 2591.4 28.1376 Q2595.05 26.1121 2599.79 26.1121 Q2607.61 26.1121 2611.62 30.9732 Q2615.63 35.7938 2615.63 45.1919 Z\" fill=\"#000000\" fill-rule=\"evenodd\" fill-opacity=\"1\" /><path clip-path=\"url(#clip560)\" d=\"M2663.15 28.9478 L2663.15 35.9153 Q2659.99 34.1734 2656.79 33.3227 Q2653.63 32.4315 2650.39 32.4315 Q2643.13 32.4315 2639.12 37.0496 Q2635.11 41.6271 2635.11 49.9314 Q2635.11 58.2358 2639.12 62.8538 Q2643.13 67.4314 2650.39 67.4314 Q2653.63 67.4314 2656.79 66.5807 Q2659.99 65.6895 2663.15 63.9476 L2663.15 70.8341 Q2660.03 72.2924 2656.66 73.0216 Q2653.34 73.7508 2649.58 73.7508 Q2639.33 73.7508 2633.29 67.3098 Q2627.26 60.8689 2627.26 49.9314 Q2627.26 38.832 2633.33 32.472 Q2639.45 26.1121 2650.06 26.1121 Q2653.5 26.1121 2656.79 26.8413 Q2660.07 27.5299 2663.15 28.9478 Z\" fill=\"#000000\" fill-rule=\"evenodd\" fill-opacity=\"1\" /><path clip-path=\"url(#clip560)\" d=\"M2683.48 14.324 L2683.48 27.2059 L2698.83 27.2059 L2698.83 32.9987 L2683.48 32.9987 L2683.48 57.6282 Q2683.48 63.1779 2684.98 64.7578 Q2686.52 66.3376 2691.18 66.3376 L2698.83 66.3376 L2698.83 72.576 L2691.18 72.576 Q2682.55 72.576 2679.27 69.3758 Q2675.99 66.1351 2675.99 57.6282 L2675.99 32.9987 L2670.52 32.9987 L2670.52 27.2059 L2675.99 27.2059 L2675.99 14.324 L2683.48 14.324 Z\" fill=\"#000000\" fill-rule=\"evenodd\" fill-opacity=\"1\" /><path clip-path=\"url(#clip560)\" d=\"M2708.64 27.2059 L2716.09 27.2059 L2716.09 72.576 L2708.64 72.576 L2708.64 27.2059 M2708.64 9.54393 L2716.09 9.54393 L2716.09 18.9825 L2708.64 18.9825 L2708.64 9.54393 Z\" fill=\"#000000\" fill-rule=\"evenodd\" fill-opacity=\"1\" /><path clip-path=\"url(#clip560)\" d=\"M2749.27 32.4315 Q2743.27 32.4315 2739.79 37.1306 Q2736.31 41.7891 2736.31 49.9314 Q2736.31 58.0738 2739.75 62.7728 Q2743.23 67.4314 2749.27 67.4314 Q2755.22 67.4314 2758.71 62.7323 Q2762.19 58.0333 2762.19 49.9314 Q2762.19 41.8701 2758.71 37.1711 Q2755.22 32.4315 2749.27 32.4315 M2749.27 26.1121 Q2758.99 26.1121 2764.54 32.4315 Q2770.09 38.7509 2770.09 49.9314 Q2770.09 61.0714 2764.54 67.4314 Q2758.99 73.7508 2749.27 73.7508 Q2739.51 73.7508 2733.96 67.4314 Q2728.45 61.0714 2728.45 49.9314 Q2728.45 38.7509 2733.96 32.4315 Q2739.51 26.1121 2749.27 26.1121 Z\" fill=\"#000000\" fill-rule=\"evenodd\" fill-opacity=\"1\" /><path clip-path=\"url(#clip560)\" d=\"M2820.16 45.1919 L2820.16 72.576 L2812.71 72.576 L2812.71 45.4349 Q2812.71 38.994 2810.19 35.7938 Q2807.68 32.5936 2802.66 32.5936 Q2796.62 32.5936 2793.14 36.4419 Q2789.66 40.2903 2789.66 46.9338 L2789.66 72.576 L2782.16 72.576 L2782.16 27.2059 L2789.66 27.2059 L2789.66 34.2544 Q2792.33 30.163 2795.93 28.1376 Q2799.58 26.1121 2804.32 26.1121 Q2812.14 26.1121 2816.15 30.9732 Q2820.16 35.7938 2820.16 45.1919 Z\" fill=\"#000000\" fill-rule=\"evenodd\" fill-opacity=\"1\" /><path clip-path=\"url(#clip560)\" d=\"M2891.25 34.0924 L2891.25 9.54393 L2898.71 9.54393 L2898.71 72.576 L2891.25 72.576 L2891.25 65.7705 Q2888.9 69.8214 2885.3 71.8063 Q2881.73 73.7508 2876.71 73.7508 Q2868.49 73.7508 2863.3 67.1883 Q2858.16 60.6258 2858.16 49.9314 Q2858.16 39.2371 2863.3 32.6746 Q2868.49 26.1121 2876.71 26.1121 Q2881.73 26.1121 2885.3 28.0971 Q2888.9 30.0415 2891.25 34.0924 M2865.85 49.9314 Q2865.85 58.1548 2869.22 62.8538 Q2872.62 67.5124 2878.53 67.5124 Q2884.45 67.5124 2887.85 62.8538 Q2891.25 58.1548 2891.25 49.9314 Q2891.25 41.7081 2887.85 37.0496 Q2884.45 32.3505 2878.53 32.3505 Q2872.62 32.3505 2869.22 37.0496 Q2865.85 41.7081 2865.85 49.9314 Z\" fill=\"#000000\" fill-rule=\"evenodd\" fill-opacity=\"1\" /><path clip-path=\"url(#clip560)\" d=\"M2952.87 48.0275 L2952.87 51.6733 L2918.6 51.6733 Q2919.08 59.3701 2923.21 63.421 Q2927.39 67.4314 2934.8 67.4314 Q2939.09 67.4314 2943.1 66.3781 Q2947.16 65.3249 2951.12 63.2184 L2951.12 70.267 Q2947.11 71.9684 2942.9 72.8596 Q2938.69 73.7508 2934.35 73.7508 Q2923.5 73.7508 2917.14 67.4314 Q2910.82 61.1119 2910.82 50.3365 Q2910.82 39.1965 2916.81 32.6746 Q2922.85 26.1121 2933.06 26.1121 Q2942.21 26.1121 2947.52 32.0264 Q2952.87 37.9003 2952.87 48.0275 M2945.41 45.84 Q2945.33 39.7232 2941.97 36.0774 Q2938.65 32.4315 2933.14 32.4315 Q2926.9 32.4315 2923.13 35.9558 Q2919.41 39.4801 2918.84 45.8805 L2945.41 45.84 Z\" fill=\"#000000\" fill-rule=\"evenodd\" fill-opacity=\"1\" /><path clip-path=\"url(#clip560)\" d=\"M2991.39 34.1734 Q2990.14 33.4443 2988.64 33.1202 Q2987.18 32.7556 2985.4 32.7556 Q2979.08 32.7556 2975.67 36.8875 Q2972.31 40.9789 2972.31 48.6757 L2972.31 72.576 L2964.82 72.576 L2964.82 27.2059 L2972.31 27.2059 L2972.31 34.2544 Q2974.66 30.1225 2978.43 28.1376 Q2982.2 26.1121 2987.58 26.1121 Q2988.35 26.1121 2989.28 26.2337 Q2990.22 26.3147 2991.35 26.5172 L2991.39 34.1734 Z\" fill=\"#000000\" fill-rule=\"evenodd\" fill-opacity=\"1\" /><path clip-path=\"url(#clip560)\" d=\"M2999.21 27.2059 L3006.66 27.2059 L3006.66 72.576 L2999.21 72.576 L2999.21 27.2059 M2999.21 9.54393 L3006.66 9.54393 L3006.66 18.9825 L2999.21 18.9825 L2999.21 9.54393 Z\" fill=\"#000000\" fill-rule=\"evenodd\" fill-opacity=\"1\" /><path clip-path=\"url(#clip560)\" d=\"M3016.91 27.2059 L3024.81 27.2059 L3038.99 65.2844 L3053.17 27.2059 L3061.07 27.2059 L3044.05 72.576 L3033.93 72.576 L3016.91 27.2059 Z\" fill=\"#000000\" fill-rule=\"evenodd\" fill-opacity=\"1\" /><path clip-path=\"url(#clip560)\" d=\"M3091.97 49.7694 Q3082.94 49.7694 3079.46 51.8354 Q3075.97 53.9013 3075.97 58.8839 Q3075.97 62.8538 3078.57 65.2034 Q3081.2 67.5124 3085.7 67.5124 Q3091.89 67.5124 3095.62 63.1374 Q3099.39 58.7219 3099.39 51.4303 L3099.39 49.7694 L3091.97 49.7694 M3106.84 46.6907 L3106.84 72.576 L3099.39 72.576 L3099.39 65.6895 Q3096.84 69.8214 3093.03 71.8063 Q3089.22 73.7508 3083.71 73.7508 Q3076.74 73.7508 3072.61 69.8619 Q3068.52 65.9325 3068.52 59.3701 Q3068.52 51.7138 3073.62 47.825 Q3078.77 43.9361 3088.94 43.9361 L3099.39 43.9361 L3099.39 43.2069 Q3099.39 38.0623 3095.99 35.2672 Q3092.62 32.4315 3086.51 32.4315 Q3082.62 32.4315 3078.93 33.3632 Q3075.24 34.295 3071.84 36.1584 L3071.84 29.2718 Q3075.93 27.692 3079.78 26.9223 Q3083.63 26.1121 3087.28 26.1121 Q3097.12 26.1121 3101.98 31.2163 Q3106.84 36.3204 3106.84 46.6907 Z\" fill=\"#000000\" fill-rule=\"evenodd\" fill-opacity=\"1\" /><path clip-path=\"url(#clip560)\" d=\"M3129.57 14.324 L3129.57 27.2059 L3144.92 27.2059 L3144.92 32.9987 L3129.57 32.9987 L3129.57 57.6282 Q3129.57 63.1779 3131.07 64.7578 Q3132.61 66.3376 3137.26 66.3376 L3144.92 66.3376 L3144.92 72.576 L3137.26 72.576 Q3128.64 72.576 3125.35 69.3758 Q3122.07 66.1351 3122.07 57.6282 L3122.07 32.9987 L3116.6 32.9987 L3116.6 27.2059 L3122.07 27.2059 L3122.07 14.324 L3129.57 14.324 Z\" fill=\"#000000\" fill-rule=\"evenodd\" fill-opacity=\"1\" /><path clip-path=\"url(#clip560)\" d=\"M3154.72 27.2059 L3162.18 27.2059 L3162.18 72.576 L3154.72 72.576 L3154.72 27.2059 M3154.72 9.54393 L3162.18 9.54393 L3162.18 18.9825 L3154.72 18.9825 L3154.72 9.54393 Z\" fill=\"#000000\" fill-rule=\"evenodd\" fill-opacity=\"1\" /><path clip-path=\"url(#clip560)\" d=\"M3172.43 27.2059 L3180.33 27.2059 L3194.5 65.2844 L3208.68 27.2059 L3216.58 27.2059 L3199.57 72.576 L3189.44 72.576 L3172.43 27.2059 Z\" fill=\"#000000\" fill-rule=\"evenodd\" fill-opacity=\"1\" /><path clip-path=\"url(#clip560)\" d=\"M3265.68 48.0275 L3265.68 51.6733 L3231.41 51.6733 Q3231.89 59.3701 3236.03 63.421 Q3240.2 67.4314 3247.61 67.4314 Q3251.9 67.4314 3255.91 66.3781 Q3259.97 65.3249 3263.94 63.2184 L3263.94 70.267 Q3259.93 71.9684 3255.71 72.8596 Q3251.5 73.7508 3247.16 73.7508 Q3236.31 73.7508 3229.95 67.4314 Q3223.63 61.1119 3223.63 50.3365 Q3223.63 39.1965 3229.62 32.6746 Q3235.66 26.1121 3245.87 26.1121 Q3255.02 26.1121 3260.33 32.0264 Q3265.68 37.9003 3265.68 48.0275 M3258.22 45.84 Q3258.14 39.7232 3254.78 36.0774 Q3251.46 32.4315 3245.95 32.4315 Q3239.71 32.4315 3235.94 35.9558 Q3232.22 39.4801 3231.65 45.8805 L3258.22 45.84 Z\" fill=\"#000000\" fill-rule=\"evenodd\" fill-opacity=\"1\" /><polyline clip-path=\"url(#clip563)\" style=\"stroke:#009af9; stroke-linecap:butt; stroke-linejoin:round; stroke-width:8; stroke-opacity:1; fill:none\" points=\"\n  2044.95,121.944 2085.62,256.49 2126.28,324.239 2166.94,380.803 2207.61,436.453 2248.27,474.282 2288.93,503.274 2329.6,525.721 2370.26,566.166 2410.92,599.978 \n  2451.59,619.641 2492.25,643.672 2532.91,659.889 2573.58,674.703 2614.24,687.002 2654.9,731.743 2695.57,730.315 2736.23,735.737 2776.9,750.958 2817.56,771.106 \n  2858.22,791.783 2898.89,820.195 2939.55,832.746 2980.21,850.907 3020.88,898.264 3061.54,911.152 3102.2,931.614 3142.87,960.657 3183.53,972.867 3224.19,975.874 \n  3264.86,1018.74 3305.52,1008.54 3346.19,1015.01 3386.85,966.939 3427.51,1079.02 3468.18,1055.29 3508.84,1000.34 \n  \"/>\n</svg>\n",
      "text/html": [
       "<?xml version=\"1.0\" encoding=\"utf-8\"?>\n",
       "<svg xmlns=\"http://www.w3.org/2000/svg\" xmlns:xlink=\"http://www.w3.org/1999/xlink\" width=\"900\" height=\"300\" viewBox=\"0 0 3600 1200\">\n",
       "<defs>\n",
       "  <clipPath id=\"clip610\">\n",
       "    <rect x=\"0\" y=\"0\" width=\"3600\" height=\"1200\"/>\n",
       "  </clipPath>\n",
       "</defs>\n",
       "<path clip-path=\"url(#clip610)\" d=\"\n",
       "M0 1200 L3600 1200 L3600 0 L0 0  Z\n",
       "  \" fill=\"#ffffff\" fill-rule=\"evenodd\" fill-opacity=\"1\"/>\n",
       "<defs>\n",
       "  <clipPath id=\"clip611\">\n",
       "    <rect x=\"720\" y=\"0\" width=\"2521\" height=\"1200\"/>\n",
       "  </clipPath>\n",
       "</defs>\n",
       "<path clip-path=\"url(#clip610)\" d=\"\n",
       "M200.574 1107.73 L1752.3 1107.73 L1752.3 93.2321 L200.574 93.2321  Z\n",
       "  \" fill=\"#ffffff\" fill-rule=\"evenodd\" fill-opacity=\"1\"/>\n",
       "<defs>\n",
       "  <clipPath id=\"clip612\">\n",
       "    <rect x=\"200\" y=\"93\" width=\"1553\" height=\"1015\"/>\n",
       "  </clipPath>\n",
       "</defs>\n",
       "<polyline clip-path=\"url(#clip612)\" style=\"stroke:#000000; stroke-linecap:butt; stroke-linejoin:round; stroke-width:2; stroke-opacity:0.1; fill:none\" points=\"\n",
       "  204.926,1107.73 204.926,93.2321 \n",
       "  \"/>\n",
       "<polyline clip-path=\"url(#clip612)\" style=\"stroke:#000000; stroke-linecap:butt; stroke-linejoin:round; stroke-width:2; stroke-opacity:0.1; fill:none\" points=\"\n",
       "  600.572,1107.73 600.572,93.2321 \n",
       "  \"/>\n",
       "<polyline clip-path=\"url(#clip612)\" style=\"stroke:#000000; stroke-linecap:butt; stroke-linejoin:round; stroke-width:2; stroke-opacity:0.1; fill:none\" points=\"\n",
       "  996.217,1107.73 996.217,93.2321 \n",
       "  \"/>\n",
       "<polyline clip-path=\"url(#clip612)\" style=\"stroke:#000000; stroke-linecap:butt; stroke-linejoin:round; stroke-width:2; stroke-opacity:0.1; fill:none\" points=\"\n",
       "  1391.86,1107.73 1391.86,93.2321 \n",
       "  \"/>\n",
       "<polyline clip-path=\"url(#clip610)\" style=\"stroke:#000000; stroke-linecap:butt; stroke-linejoin:round; stroke-width:4; stroke-opacity:1; fill:none\" points=\"\n",
       "  200.574,1107.73 1752.3,1107.73 \n",
       "  \"/>\n",
       "<polyline clip-path=\"url(#clip610)\" style=\"stroke:#000000; stroke-linecap:butt; stroke-linejoin:round; stroke-width:4; stroke-opacity:1; fill:none\" points=\"\n",
       "  204.926,1107.73 204.926,1088.83 \n",
       "  \"/>\n",
       "<polyline clip-path=\"url(#clip610)\" style=\"stroke:#000000; stroke-linecap:butt; stroke-linejoin:round; stroke-width:4; stroke-opacity:1; fill:none\" points=\"\n",
       "  600.572,1107.73 600.572,1088.83 \n",
       "  \"/>\n",
       "<polyline clip-path=\"url(#clip610)\" style=\"stroke:#000000; stroke-linecap:butt; stroke-linejoin:round; stroke-width:4; stroke-opacity:1; fill:none\" points=\"\n",
       "  996.217,1107.73 996.217,1088.83 \n",
       "  \"/>\n",
       "<polyline clip-path=\"url(#clip610)\" style=\"stroke:#000000; stroke-linecap:butt; stroke-linejoin:round; stroke-width:4; stroke-opacity:1; fill:none\" points=\"\n",
       "  1391.86,1107.73 1391.86,1088.83 \n",
       "  \"/>\n",
       "<path clip-path=\"url(#clip610)\" d=\"M204.926 1148.25 Q201.315 1148.25 199.487 1151.81 Q197.681 1155.35 197.681 1162.48 Q197.681 1169.59 199.487 1173.15 Q201.315 1176.7 204.926 1176.7 Q208.561 1176.7 210.366 1173.15 Q212.195 1169.59 212.195 1162.48 Q212.195 1155.35 210.366 1151.81 Q208.561 1148.25 204.926 1148.25 M204.926 1144.54 Q210.737 1144.54 213.792 1149.15 Q216.871 1153.73 216.871 1162.48 Q216.871 1171.21 213.792 1175.82 Q210.737 1180.4 204.926 1180.4 Q199.116 1180.4 196.038 1175.82 Q192.982 1171.21 192.982 1162.48 Q192.982 1153.73 196.038 1149.15 Q199.116 1144.54 204.926 1144.54 Z\" fill=\"#000000\" fill-rule=\"evenodd\" fill-opacity=\"1\" /><path clip-path=\"url(#clip610)\" d=\"M575.259 1175.79 L582.898 1175.79 L582.898 1149.43 L574.588 1151.09 L574.588 1146.83 L582.852 1145.17 L587.528 1145.17 L587.528 1175.79 L595.167 1175.79 L595.167 1179.73 L575.259 1179.73 L575.259 1175.79 Z\" fill=\"#000000\" fill-rule=\"evenodd\" fill-opacity=\"1\" /><path clip-path=\"url(#clip610)\" d=\"M614.611 1148.25 Q611 1148.25 609.171 1151.81 Q607.366 1155.35 607.366 1162.48 Q607.366 1169.59 609.171 1173.15 Q611 1176.7 614.611 1176.7 Q618.245 1176.7 620.051 1173.15 Q621.879 1169.59 621.879 1162.48 Q621.879 1155.35 620.051 1151.81 Q618.245 1148.25 614.611 1148.25 M614.611 1144.54 Q620.421 1144.54 623.477 1149.15 Q626.555 1153.73 626.555 1162.48 Q626.555 1171.21 623.477 1175.82 Q620.421 1180.4 614.611 1180.4 Q608.801 1180.4 605.722 1175.82 Q602.667 1171.21 602.667 1162.48 Q602.667 1153.73 605.722 1149.15 Q608.801 1144.54 614.611 1144.54 Z\" fill=\"#000000\" fill-rule=\"evenodd\" fill-opacity=\"1\" /><path clip-path=\"url(#clip610)\" d=\"M974.99 1175.79 L991.31 1175.79 L991.31 1179.73 L969.365 1179.73 L969.365 1175.79 Q972.027 1173.04 976.611 1168.41 Q981.217 1163.76 982.398 1162.41 Q984.643 1159.89 985.523 1158.15 Q986.425 1156.39 986.425 1154.7 Q986.425 1151.95 984.481 1150.21 Q982.56 1148.48 979.458 1148.48 Q977.259 1148.48 974.805 1149.24 Q972.375 1150.01 969.597 1151.56 L969.597 1146.83 Q972.421 1145.7 974.875 1145.12 Q977.328 1144.54 979.365 1144.54 Q984.736 1144.54 987.93 1147.23 Q991.124 1149.91 991.124 1154.4 Q991.124 1156.53 990.314 1158.45 Q989.527 1160.35 987.421 1162.95 Q986.842 1163.62 983.74 1166.83 Q980.638 1170.03 974.99 1175.79 Z\" fill=\"#000000\" fill-rule=\"evenodd\" fill-opacity=\"1\" /><path clip-path=\"url(#clip610)\" d=\"M1011.12 1148.25 Q1007.51 1148.25 1005.68 1151.81 Q1003.88 1155.35 1003.88 1162.48 Q1003.88 1169.59 1005.68 1173.15 Q1007.51 1176.7 1011.12 1176.7 Q1014.76 1176.7 1016.56 1173.15 Q1018.39 1169.59 1018.39 1162.48 Q1018.39 1155.35 1016.56 1151.81 Q1014.76 1148.25 1011.12 1148.25 M1011.12 1144.54 Q1016.93 1144.54 1019.99 1149.15 Q1023.07 1153.73 1023.07 1162.48 Q1023.07 1171.21 1019.99 1175.82 Q1016.93 1180.4 1011.12 1180.4 Q1005.31 1180.4 1002.24 1175.82 Q999.18 1171.21 999.18 1162.48 Q999.18 1153.73 1002.24 1149.15 Q1005.31 1144.54 1011.12 1144.54 Z\" fill=\"#000000\" fill-rule=\"evenodd\" fill-opacity=\"1\" /><path clip-path=\"url(#clip610)\" d=\"M1380.7 1161.09 Q1384.06 1161.81 1385.94 1164.08 Q1387.83 1166.35 1387.83 1169.68 Q1387.83 1174.8 1384.32 1177.6 Q1380.8 1180.4 1374.32 1180.4 Q1372.14 1180.4 1369.83 1179.96 Q1367.53 1179.54 1365.08 1178.69 L1365.08 1174.17 Q1367.02 1175.31 1369.34 1175.89 Q1371.65 1176.46 1374.18 1176.46 Q1378.58 1176.46 1380.87 1174.73 Q1383.18 1172.99 1383.18 1169.68 Q1383.18 1166.63 1381.03 1164.91 Q1378.9 1163.18 1375.08 1163.18 L1371.05 1163.18 L1371.05 1159.33 L1375.27 1159.33 Q1378.71 1159.33 1380.54 1157.97 Q1382.37 1156.58 1382.37 1153.99 Q1382.37 1151.33 1380.47 1149.91 Q1378.6 1148.48 1375.08 1148.48 Q1373.16 1148.48 1370.96 1148.89 Q1368.76 1149.31 1366.12 1150.19 L1366.12 1146.02 Q1368.78 1145.28 1371.1 1144.91 Q1373.44 1144.54 1375.5 1144.54 Q1380.82 1144.54 1383.92 1146.97 Q1387.02 1149.38 1387.02 1153.5 Q1387.02 1156.37 1385.38 1158.36 Q1383.74 1160.33 1380.7 1161.09 Z\" fill=\"#000000\" fill-rule=\"evenodd\" fill-opacity=\"1\" /><path clip-path=\"url(#clip610)\" d=\"M1406.7 1148.25 Q1403.09 1148.25 1401.26 1151.81 Q1399.45 1155.35 1399.45 1162.48 Q1399.45 1169.59 1401.26 1173.15 Q1403.09 1176.7 1406.7 1176.7 Q1410.33 1176.7 1412.14 1173.15 Q1413.97 1169.59 1413.97 1162.48 Q1413.97 1155.35 1412.14 1151.81 Q1410.33 1148.25 1406.7 1148.25 M1406.7 1144.54 Q1412.51 1144.54 1415.57 1149.15 Q1418.64 1153.73 1418.64 1162.48 Q1418.64 1171.21 1415.57 1175.82 Q1412.51 1180.4 1406.7 1180.4 Q1400.89 1180.4 1397.81 1175.82 Q1394.76 1171.21 1394.76 1162.48 Q1394.76 1153.73 1397.81 1149.15 Q1400.89 1144.54 1406.7 1144.54 Z\" fill=\"#000000\" fill-rule=\"evenodd\" fill-opacity=\"1\" /><polyline clip-path=\"url(#clip612)\" style=\"stroke:#000000; stroke-linecap:butt; stroke-linejoin:round; stroke-width:2; stroke-opacity:0.1; fill:none\" points=\"\n",
       "  200.574,842.119 1752.3,842.119 \n",
       "  \"/>\n",
       "<polyline clip-path=\"url(#clip612)\" style=\"stroke:#000000; stroke-linecap:butt; stroke-linejoin:round; stroke-width:2; stroke-opacity:0.1; fill:none\" points=\"\n",
       "  200.574,248.067 1752.3,248.067 \n",
       "  \"/>\n",
       "<polyline clip-path=\"url(#clip610)\" style=\"stroke:#000000; stroke-linecap:butt; stroke-linejoin:round; stroke-width:4; stroke-opacity:1; fill:none\" points=\"\n",
       "  200.574,1107.73 200.574,93.2321 \n",
       "  \"/>\n",
       "<polyline clip-path=\"url(#clip610)\" style=\"stroke:#000000; stroke-linecap:butt; stroke-linejoin:round; stroke-width:4; stroke-opacity:1; fill:none\" points=\"\n",
       "  200.574,842.119 219.472,842.119 \n",
       "  \"/>\n",
       "<polyline clip-path=\"url(#clip610)\" style=\"stroke:#000000; stroke-linecap:butt; stroke-linejoin:round; stroke-width:4; stroke-opacity:1; fill:none\" points=\"\n",
       "  200.574,248.067 219.472,248.067 \n",
       "  \"/>\n",
       "<path clip-path=\"url(#clip610)\" d=\"M45.6634 861.911 L53.3023 861.911 L53.3023 835.546 L44.9921 837.212 L44.9921 832.953 L53.256 831.287 L57.9319 831.287 L57.9319 861.911 L65.5707 861.911 L65.5707 865.847 L45.6634 865.847 L45.6634 861.911 Z\" fill=\"#000000\" fill-rule=\"evenodd\" fill-opacity=\"1\" /><path clip-path=\"url(#clip610)\" d=\"M85.0151 834.365 Q81.404 834.365 79.5753 837.93 Q77.7697 841.472 77.7697 848.601 Q77.7697 855.708 79.5753 859.273 Q81.404 862.814 85.0151 862.814 Q88.6493 862.814 90.4548 859.273 Q92.2835 855.708 92.2835 848.601 Q92.2835 841.472 90.4548 837.93 Q88.6493 834.365 85.0151 834.365 M85.0151 830.662 Q90.8252 830.662 93.8808 835.268 Q96.9594 839.851 96.9594 848.601 Q96.9594 857.328 93.8808 861.935 Q90.8252 866.518 85.0151 866.518 Q79.2049 866.518 76.1262 861.935 Q73.0707 857.328 73.0707 848.601 Q73.0707 839.851 76.1262 835.268 Q79.2049 830.662 85.0151 830.662 Z\" fill=\"#000000\" fill-rule=\"evenodd\" fill-opacity=\"1\" /><path clip-path=\"url(#clip610)\" d=\"M96.9594 824.763 L121.071 824.763 L121.071 827.96 L96.9594 827.96 L96.9594 824.763 Z\" fill=\"#000000\" fill-rule=\"evenodd\" fill-opacity=\"1\" /><path clip-path=\"url(#clip610)\" d=\"M140.782 823.296 Q143.509 823.879 145.032 825.722 Q146.574 827.565 146.574 830.274 Q146.574 834.43 143.716 836.706 Q140.857 838.982 135.591 838.982 Q133.823 838.982 131.942 838.624 Q130.08 838.286 128.086 837.59 L128.086 833.922 Q129.666 834.844 131.547 835.314 Q133.428 835.784 135.478 835.784 Q139.051 835.784 140.913 834.374 Q142.794 832.963 142.794 830.274 Q142.794 827.791 141.045 826.399 Q139.315 824.989 136.211 824.989 L132.939 824.989 L132.939 821.867 L136.362 821.867 Q139.164 821.867 140.65 820.757 Q142.136 819.628 142.136 817.522 Q142.136 815.359 140.593 814.212 Q139.07 813.046 136.211 813.046 Q134.65 813.046 132.863 813.384 Q131.077 813.723 128.933 814.437 L128.933 811.052 Q131.096 810.45 132.976 810.149 Q134.876 809.848 136.55 809.848 Q140.876 809.848 143.396 811.823 Q145.916 813.779 145.916 817.127 Q145.916 819.459 144.581 821.077 Q143.245 822.675 140.782 823.296 Z\" fill=\"#000000\" fill-rule=\"evenodd\" fill-opacity=\"1\" /><path clip-path=\"url(#clip610)\" d=\"M46.4345 267.86 L54.0734 267.86 L54.0734 241.494 L45.7632 243.161 L45.7632 238.902 L54.0271 237.235 L58.703 237.235 L58.703 267.86 L66.3418 267.86 L66.3418 271.795 L46.4345 271.795 L46.4345 267.86 Z\" fill=\"#000000\" fill-rule=\"evenodd\" fill-opacity=\"1\" /><path clip-path=\"url(#clip610)\" d=\"M85.7862 240.314 Q82.1751 240.314 80.3464 243.878 Q78.5408 247.42 78.5408 254.55 Q78.5408 261.656 80.3464 265.221 Q82.1751 268.763 85.7862 268.763 Q89.4204 268.763 91.226 265.221 Q93.0547 261.656 93.0547 254.55 Q93.0547 247.42 91.226 243.878 Q89.4204 240.314 85.7862 240.314 M85.7862 236.61 Q91.5963 236.61 94.6519 241.216 Q97.7306 245.8 97.7306 254.55 Q97.7306 263.276 94.6519 267.883 Q91.5963 272.466 85.7862 272.466 Q79.976 272.466 76.8973 267.883 Q73.8418 263.276 73.8418 254.55 Q73.8418 245.8 76.8973 241.216 Q79.976 236.61 85.7862 236.61 Z\" fill=\"#000000\" fill-rule=\"evenodd\" fill-opacity=\"1\" /><path clip-path=\"url(#clip610)\" d=\"M97.7306 230.711 L121.842 230.711 L121.842 233.909 L97.7306 233.909 L97.7306 230.711 Z\" fill=\"#000000\" fill-rule=\"evenodd\" fill-opacity=\"1\" /><path clip-path=\"url(#clip610)\" d=\"M133.315 241.187 L146.574 241.187 L146.574 244.385 L128.745 244.385 L128.745 241.187 Q130.907 238.949 134.631 235.188 Q138.374 231.407 139.333 230.316 Q141.158 228.266 141.872 226.856 Q142.606 225.426 142.606 224.053 Q142.606 221.815 141.026 220.405 Q139.465 218.994 136.945 218.994 Q135.158 218.994 133.164 219.615 Q131.19 220.235 128.933 221.495 L128.933 217.659 Q131.227 216.737 133.221 216.267 Q135.214 215.797 136.87 215.797 Q141.233 215.797 143.828 217.978 Q146.424 220.16 146.424 223.809 Q146.424 225.539 145.766 227.1 Q145.126 228.642 143.415 230.749 Q142.944 231.294 140.424 233.909 Q137.904 236.504 133.315 241.187 Z\" fill=\"#000000\" fill-rule=\"evenodd\" fill-opacity=\"1\" /><path clip-path=\"url(#clip610)\" d=\"M710.412 12.096 L718.595 12.096 L718.595 65.6895 L748.045 65.6895 L748.045 72.576 L710.412 72.576 L710.412 12.096 Z\" fill=\"#000000\" fill-rule=\"evenodd\" fill-opacity=\"1\" /><path clip-path=\"url(#clip610)\" d=\"M772.431 32.4315 Q766.436 32.4315 762.952 37.1306 Q759.468 41.7891 759.468 49.9314 Q759.468 58.0738 762.912 62.7728 Q766.395 67.4314 772.431 67.4314 Q778.386 67.4314 781.87 62.7323 Q785.354 58.0333 785.354 49.9314 Q785.354 41.8701 781.87 37.1711 Q778.386 32.4315 772.431 32.4315 M772.431 26.1121 Q782.153 26.1121 787.703 32.4315 Q793.253 38.7509 793.253 49.9314 Q793.253 61.0714 787.703 67.4314 Q782.153 73.7508 772.431 73.7508 Q762.669 73.7508 757.119 67.4314 Q751.61 61.0714 751.61 49.9314 Q751.61 38.7509 757.119 32.4315 Q762.669 26.1121 772.431 26.1121 Z\" fill=\"#000000\" fill-rule=\"evenodd\" fill-opacity=\"1\" /><path clip-path=\"url(#clip610)\" d=\"M834.532 28.5427 L834.532 35.5912 Q831.372 33.9709 827.969 33.1607 Q824.566 32.3505 820.921 32.3505 Q815.371 32.3505 812.576 34.0519 Q809.821 35.7533 809.821 39.156 Q809.821 41.7486 811.806 43.2475 Q813.791 44.7058 819.786 46.0426 L822.338 46.6097 Q830.278 48.3111 833.6 51.4303 Q836.962 54.509 836.962 60.0587 Q836.962 66.3781 831.939 70.0644 Q826.956 73.7508 818.206 73.7508 Q814.561 73.7508 810.591 73.0216 Q806.661 72.3329 802.286 70.9151 L802.286 63.2184 Q806.418 65.3654 810.429 66.4591 Q814.439 67.5124 818.368 67.5124 Q823.635 67.5124 826.47 65.73 Q829.306 63.9071 829.306 60.6258 Q829.306 57.5877 827.24 55.9673 Q825.214 54.3469 818.287 52.8481 L815.695 52.2405 Q808.768 50.7821 805.689 47.7845 Q802.61 44.7463 802.61 39.4801 Q802.61 33.0797 807.147 29.5959 Q811.684 26.1121 820.029 26.1121 Q824.161 26.1121 827.807 26.7198 Q831.453 27.3274 834.532 28.5427 Z\" fill=\"#000000\" fill-rule=\"evenodd\" fill-opacity=\"1\" /><path clip-path=\"url(#clip610)\" d=\"M877.755 28.5427 L877.755 35.5912 Q874.595 33.9709 871.192 33.1607 Q867.789 32.3505 864.144 32.3505 Q858.594 32.3505 855.799 34.0519 Q853.044 35.7533 853.044 39.156 Q853.044 41.7486 855.029 43.2475 Q857.014 44.7058 863.009 46.0426 L865.561 46.6097 Q873.501 48.3111 876.823 51.4303 Q880.185 54.509 880.185 60.0587 Q880.185 66.3781 875.162 70.0644 Q870.18 73.7508 861.43 73.7508 Q857.784 73.7508 853.814 73.0216 Q849.884 72.3329 845.51 70.9151 L845.51 63.2184 Q849.641 65.3654 853.652 66.4591 Q857.662 67.5124 861.592 67.5124 Q866.858 67.5124 869.693 65.73 Q872.529 63.9071 872.529 60.6258 Q872.529 57.5877 870.463 55.9673 Q868.438 54.3469 861.511 52.8481 L858.918 52.2405 Q851.991 50.7821 848.912 47.7845 Q845.834 44.7463 845.834 39.4801 Q845.834 33.0797 850.371 29.5959 Q854.908 26.1121 863.252 26.1121 Q867.384 26.1121 871.03 26.7198 Q874.676 27.3274 877.755 28.5427 Z\" fill=\"#000000\" fill-rule=\"evenodd\" fill-opacity=\"1\" /><path clip-path=\"url(#clip610)\" d=\"M941.394 9.54393 L941.394 15.7418 L934.265 15.7418 Q930.254 15.7418 928.675 17.3622 Q927.135 18.9825 927.135 23.1955 L927.135 27.2059 L939.409 27.2059 L939.409 32.9987 L927.135 32.9987 L927.135 72.576 L919.641 72.576 L919.641 32.9987 L912.511 32.9987 L912.511 27.2059 L919.641 27.2059 L919.641 24.0462 Q919.641 16.471 923.165 13.0277 Q926.69 9.54393 934.346 9.54393 L941.394 9.54393 Z\" fill=\"#000000\" fill-rule=\"evenodd\" fill-opacity=\"1\" /><path clip-path=\"url(#clip610)\" d=\"M946.863 54.671 L946.863 27.2059 L954.317 27.2059 L954.317 54.3874 Q954.317 60.8284 956.828 64.0691 Q959.34 67.2693 964.363 67.2693 Q970.399 67.2693 973.883 63.421 Q977.407 59.5726 977.407 52.9291 L977.407 27.2059 L984.861 27.2059 L984.861 72.576 L977.407 72.576 L977.407 65.6084 Q974.693 69.7404 971.088 71.7658 Q967.523 73.7508 962.783 73.7508 Q954.965 73.7508 950.914 68.8897 Q946.863 64.0286 946.863 54.671 M965.619 26.1121 L965.619 26.1121 Z\" fill=\"#000000\" fill-rule=\"evenodd\" fill-opacity=\"1\" /><path clip-path=\"url(#clip610)\" d=\"M1037.93 45.1919 L1037.93 72.576 L1030.47 72.576 L1030.47 45.4349 Q1030.47 38.994 1027.96 35.7938 Q1025.45 32.5936 1020.43 32.5936 Q1014.39 32.5936 1010.91 36.4419 Q1007.42 40.2903 1007.42 46.9338 L1007.42 72.576 L999.93 72.576 L999.93 27.2059 L1007.42 27.2059 L1007.42 34.2544 Q1010.1 30.163 1013.7 28.1376 Q1017.35 26.1121 1022.09 26.1121 Q1029.91 26.1121 1033.92 30.9732 Q1037.93 35.7938 1037.93 45.1919 Z\" fill=\"#000000\" fill-rule=\"evenodd\" fill-opacity=\"1\" /><path clip-path=\"url(#clip610)\" d=\"M1085.44 28.9478 L1085.44 35.9153 Q1082.28 34.1734 1079.08 33.3227 Q1075.92 32.4315 1072.68 32.4315 Q1065.43 32.4315 1061.42 37.0496 Q1057.41 41.6271 1057.41 49.9314 Q1057.41 58.2358 1061.42 62.8538 Q1065.43 67.4314 1072.68 67.4314 Q1075.92 67.4314 1079.08 66.5807 Q1082.28 65.6895 1085.44 63.9476 L1085.44 70.8341 Q1082.33 72.2924 1078.96 73.0216 Q1075.64 73.7508 1071.87 73.7508 Q1061.63 73.7508 1055.59 67.3098 Q1049.55 60.8689 1049.55 49.9314 Q1049.55 38.832 1055.63 32.472 Q1061.75 26.1121 1072.36 26.1121 Q1075.8 26.1121 1079.08 26.8413 Q1082.37 27.5299 1085.44 28.9478 Z\" fill=\"#000000\" fill-rule=\"evenodd\" fill-opacity=\"1\" /><path clip-path=\"url(#clip610)\" d=\"M1105.78 14.324 L1105.78 27.2059 L1121.13 27.2059 L1121.13 32.9987 L1105.78 32.9987 L1105.78 57.6282 Q1105.78 63.1779 1107.28 64.7578 Q1108.82 66.3376 1113.48 66.3376 L1121.13 66.3376 L1121.13 72.576 L1113.48 72.576 Q1104.85 72.576 1101.57 69.3758 Q1098.29 66.1351 1098.29 57.6282 L1098.29 32.9987 L1092.82 32.9987 L1092.82 27.2059 L1098.29 27.2059 L1098.29 14.324 L1105.78 14.324 Z\" fill=\"#000000\" fill-rule=\"evenodd\" fill-opacity=\"1\" /><path clip-path=\"url(#clip610)\" d=\"M1130.94 27.2059 L1138.39 27.2059 L1138.39 72.576 L1130.94 72.576 L1130.94 27.2059 M1130.94 9.54393 L1138.39 9.54393 L1138.39 18.9825 L1130.94 18.9825 L1130.94 9.54393 Z\" fill=\"#000000\" fill-rule=\"evenodd\" fill-opacity=\"1\" /><path clip-path=\"url(#clip610)\" d=\"M1171.57 32.4315 Q1165.57 32.4315 1162.09 37.1306 Q1158.6 41.7891 1158.6 49.9314 Q1158.6 58.0738 1162.05 62.7728 Q1165.53 67.4314 1171.57 67.4314 Q1177.52 67.4314 1181.01 62.7323 Q1184.49 58.0333 1184.49 49.9314 Q1184.49 41.8701 1181.01 37.1711 Q1177.52 32.4315 1171.57 32.4315 M1171.57 26.1121 Q1181.29 26.1121 1186.84 32.4315 Q1192.39 38.7509 1192.39 49.9314 Q1192.39 61.0714 1186.84 67.4314 Q1181.29 73.7508 1171.57 73.7508 Q1161.8 73.7508 1156.25 67.4314 Q1150.75 61.0714 1150.75 49.9314 Q1150.75 38.7509 1156.25 32.4315 Q1161.8 26.1121 1171.57 26.1121 Z\" fill=\"#000000\" fill-rule=\"evenodd\" fill-opacity=\"1\" /><path clip-path=\"url(#clip610)\" d=\"M1242.46 45.1919 L1242.46 72.576 L1235 72.576 L1235 45.4349 Q1235 38.994 1232.49 35.7938 Q1229.98 32.5936 1224.96 32.5936 Q1218.92 32.5936 1215.44 36.4419 Q1211.95 40.2903 1211.95 46.9338 L1211.95 72.576 L1204.46 72.576 L1204.46 27.2059 L1211.95 27.2059 L1211.95 34.2544 Q1214.63 30.163 1218.23 28.1376 Q1221.88 26.1121 1226.62 26.1121 Q1234.44 26.1121 1238.45 30.9732 Q1242.46 35.7938 1242.46 45.1919 Z\" fill=\"#000000\" fill-rule=\"evenodd\" fill-opacity=\"1\" /><polyline clip-path=\"url(#clip612)\" style=\"stroke:#009af9; stroke-linecap:butt; stroke-linejoin:round; stroke-width:8; stroke-opacity:1; fill:none\" points=\"\n",
       "  244.491,121.944 284.055,254.435 323.62,332.216 363.185,395.782 402.749,449.386 442.314,493.164 481.878,532.583 521.443,569.879 561.007,606.639 600.572,638.211 \n",
       "  640.136,666.141 679.701,693.194 719.265,718.476 758.83,743.332 798.394,767.982 837.959,792.864 877.523,812.667 917.088,834.345 956.652,857.085 996.217,879.378 \n",
       "  1035.78,900.418 1075.35,920.102 1114.91,937.416 1154.48,954.353 1194.04,970.237 1233.6,982.25 1273.17,993.732 1312.73,1004.1 1352.3,1012.88 1391.86,1021.2 \n",
       "  1431.43,1029.62 1470.99,1036.02 1510.56,1043.08 1550.12,1050.02 1589.68,1060.07 1629.25,1064.77 1668.81,1070.44 1708.38,1079.02 \n",
       "  \"/>\n",
       "<path clip-path=\"url(#clip610)\" d=\"\n",
       "M2001.04 1107.73 L3552.76 1107.73 L3552.76 93.2321 L2001.04 93.2321  Z\n",
       "  \" fill=\"#ffffff\" fill-rule=\"evenodd\" fill-opacity=\"1\"/>\n",
       "<defs>\n",
       "  <clipPath id=\"clip613\">\n",
       "    <rect x=\"2001\" y=\"93\" width=\"1553\" height=\"1015\"/>\n",
       "  </clipPath>\n",
       "</defs>\n",
       "<polyline clip-path=\"url(#clip613)\" style=\"stroke:#000000; stroke-linecap:butt; stroke-linejoin:round; stroke-width:2; stroke-opacity:0.1; fill:none\" points=\"\n",
       "  2166.94,1107.73 2166.94,93.2321 \n",
       "  \"/>\n",
       "<polyline clip-path=\"url(#clip613)\" style=\"stroke:#000000; stroke-linecap:butt; stroke-linejoin:round; stroke-width:2; stroke-opacity:0.1; fill:none\" points=\"\n",
       "  2370.26,1107.73 2370.26,93.2321 \n",
       "  \"/>\n",
       "<polyline clip-path=\"url(#clip613)\" style=\"stroke:#000000; stroke-linecap:butt; stroke-linejoin:round; stroke-width:2; stroke-opacity:0.1; fill:none\" points=\"\n",
       "  2573.58,1107.73 2573.58,93.2321 \n",
       "  \"/>\n",
       "<polyline clip-path=\"url(#clip613)\" style=\"stroke:#000000; stroke-linecap:butt; stroke-linejoin:round; stroke-width:2; stroke-opacity:0.1; fill:none\" points=\"\n",
       "  2776.9,1107.73 2776.9,93.2321 \n",
       "  \"/>\n",
       "<polyline clip-path=\"url(#clip613)\" style=\"stroke:#000000; stroke-linecap:butt; stroke-linejoin:round; stroke-width:2; stroke-opacity:0.1; fill:none\" points=\"\n",
       "  2980.21,1107.73 2980.21,93.2321 \n",
       "  \"/>\n",
       "<polyline clip-path=\"url(#clip613)\" style=\"stroke:#000000; stroke-linecap:butt; stroke-linejoin:round; stroke-width:2; stroke-opacity:0.1; fill:none\" points=\"\n",
       "  3183.53,1107.73 3183.53,93.2321 \n",
       "  \"/>\n",
       "<polyline clip-path=\"url(#clip613)\" style=\"stroke:#000000; stroke-linecap:butt; stroke-linejoin:round; stroke-width:2; stroke-opacity:0.1; fill:none\" points=\"\n",
       "  3386.85,1107.73 3386.85,93.2321 \n",
       "  \"/>\n",
       "<polyline clip-path=\"url(#clip610)\" style=\"stroke:#000000; stroke-linecap:butt; stroke-linejoin:round; stroke-width:4; stroke-opacity:1; fill:none\" points=\"\n",
       "  2001.04,1107.73 3552.76,1107.73 \n",
       "  \"/>\n",
       "<polyline clip-path=\"url(#clip610)\" style=\"stroke:#000000; stroke-linecap:butt; stroke-linejoin:round; stroke-width:4; stroke-opacity:1; fill:none\" points=\"\n",
       "  2166.94,1107.73 2166.94,1088.83 \n",
       "  \"/>\n",
       "<polyline clip-path=\"url(#clip610)\" style=\"stroke:#000000; stroke-linecap:butt; stroke-linejoin:round; stroke-width:4; stroke-opacity:1; fill:none\" points=\"\n",
       "  2370.26,1107.73 2370.26,1088.83 \n",
       "  \"/>\n",
       "<polyline clip-path=\"url(#clip610)\" style=\"stroke:#000000; stroke-linecap:butt; stroke-linejoin:round; stroke-width:4; stroke-opacity:1; fill:none\" points=\"\n",
       "  2573.58,1107.73 2573.58,1088.83 \n",
       "  \"/>\n",
       "<polyline clip-path=\"url(#clip610)\" style=\"stroke:#000000; stroke-linecap:butt; stroke-linejoin:round; stroke-width:4; stroke-opacity:1; fill:none\" points=\"\n",
       "  2776.9,1107.73 2776.9,1088.83 \n",
       "  \"/>\n",
       "<polyline clip-path=\"url(#clip610)\" style=\"stroke:#000000; stroke-linecap:butt; stroke-linejoin:round; stroke-width:4; stroke-opacity:1; fill:none\" points=\"\n",
       "  2980.21,1107.73 2980.21,1088.83 \n",
       "  \"/>\n",
       "<polyline clip-path=\"url(#clip610)\" style=\"stroke:#000000; stroke-linecap:butt; stroke-linejoin:round; stroke-width:4; stroke-opacity:1; fill:none\" points=\"\n",
       "  3183.53,1107.73 3183.53,1088.83 \n",
       "  \"/>\n",
       "<polyline clip-path=\"url(#clip610)\" style=\"stroke:#000000; stroke-linecap:butt; stroke-linejoin:round; stroke-width:4; stroke-opacity:1; fill:none\" points=\"\n",
       "  3386.85,1107.73 3386.85,1088.83 \n",
       "  \"/>\n",
       "<path clip-path=\"url(#clip610)\" d=\"M2157.22 1145.17 L2175.58 1145.17 L2175.58 1149.1 L2161.5 1149.1 L2161.5 1157.58 Q2162.52 1157.23 2163.54 1157.07 Q2164.56 1156.88 2165.58 1156.88 Q2171.36 1156.88 2174.74 1160.05 Q2178.12 1163.22 2178.12 1168.64 Q2178.12 1174.22 2174.65 1177.32 Q2171.18 1180.4 2164.86 1180.4 Q2162.68 1180.4 2160.41 1180.03 Q2158.17 1179.66 2155.76 1178.92 L2155.76 1174.22 Q2157.85 1175.35 2160.07 1175.91 Q2162.29 1176.46 2164.77 1176.46 Q2168.77 1176.46 2171.11 1174.36 Q2173.45 1172.25 2173.45 1168.64 Q2173.45 1165.03 2171.11 1162.92 Q2168.77 1160.82 2164.77 1160.82 Q2162.89 1160.82 2161.02 1161.23 Q2159.16 1161.65 2157.22 1162.53 L2157.22 1145.17 Z\" fill=\"#000000\" fill-rule=\"evenodd\" fill-opacity=\"1\" /><path clip-path=\"url(#clip610)\" d=\"M2344.95 1175.79 L2352.59 1175.79 L2352.59 1149.43 L2344.28 1151.09 L2344.28 1146.83 L2352.54 1145.17 L2357.22 1145.17 L2357.22 1175.79 L2364.86 1175.79 L2364.86 1179.73 L2344.95 1179.73 L2344.95 1175.79 Z\" fill=\"#000000\" fill-rule=\"evenodd\" fill-opacity=\"1\" /><path clip-path=\"url(#clip610)\" d=\"M2384.3 1148.25 Q2380.69 1148.25 2378.86 1151.81 Q2377.05 1155.35 2377.05 1162.48 Q2377.05 1169.59 2378.86 1173.15 Q2380.69 1176.7 2384.3 1176.7 Q2387.93 1176.7 2389.74 1173.15 Q2391.57 1169.59 2391.57 1162.48 Q2391.57 1155.35 2389.74 1151.81 Q2387.93 1148.25 2384.3 1148.25 M2384.3 1144.54 Q2390.11 1144.54 2393.17 1149.15 Q2396.24 1153.73 2396.24 1162.48 Q2396.24 1171.21 2393.17 1175.82 Q2390.11 1180.4 2384.3 1180.4 Q2378.49 1180.4 2375.41 1175.82 Q2372.35 1171.21 2372.35 1162.48 Q2372.35 1153.73 2375.41 1149.15 Q2378.49 1144.54 2384.3 1144.54 Z\" fill=\"#000000\" fill-rule=\"evenodd\" fill-opacity=\"1\" /><path clip-path=\"url(#clip610)\" d=\"M2548.76 1175.79 L2556.4 1175.79 L2556.4 1149.43 L2548.09 1151.09 L2548.09 1146.83 L2556.36 1145.17 L2561.03 1145.17 L2561.03 1175.79 L2568.67 1175.79 L2568.67 1179.73 L2548.76 1179.73 L2548.76 1175.79 Z\" fill=\"#000000\" fill-rule=\"evenodd\" fill-opacity=\"1\" /><path clip-path=\"url(#clip610)\" d=\"M2578.16 1145.17 L2596.52 1145.17 L2596.52 1149.1 L2582.44 1149.1 L2582.44 1157.58 Q2583.46 1157.23 2584.48 1157.07 Q2585.5 1156.88 2586.52 1156.88 Q2592.3 1156.88 2595.68 1160.05 Q2599.06 1163.22 2599.06 1168.64 Q2599.06 1174.22 2595.59 1177.32 Q2592.12 1180.4 2585.8 1180.4 Q2583.62 1180.4 2581.36 1180.03 Q2579.11 1179.66 2576.7 1178.92 L2576.7 1174.22 Q2578.79 1175.35 2581.01 1175.91 Q2583.23 1176.46 2585.71 1176.46 Q2589.71 1176.46 2592.05 1174.36 Q2594.39 1172.25 2594.39 1168.64 Q2594.39 1165.03 2592.05 1162.92 Q2589.71 1160.82 2585.71 1160.82 Q2583.83 1160.82 2581.96 1161.23 Q2580.11 1161.65 2578.16 1162.53 L2578.16 1145.17 Z\" fill=\"#000000\" fill-rule=\"evenodd\" fill-opacity=\"1\" /><path clip-path=\"url(#clip610)\" d=\"M2755.67 1175.79 L2771.99 1175.79 L2771.99 1179.73 L2750.04 1179.73 L2750.04 1175.79 Q2752.71 1173.04 2757.29 1168.41 Q2761.9 1163.76 2763.08 1162.41 Q2765.32 1159.89 2766.2 1158.15 Q2767.1 1156.39 2767.1 1154.7 Q2767.1 1151.95 2765.16 1150.21 Q2763.24 1148.48 2760.14 1148.48 Q2757.94 1148.48 2755.48 1149.24 Q2753.05 1150.01 2750.28 1151.56 L2750.28 1146.83 Q2753.1 1145.7 2755.55 1145.12 Q2758.01 1144.54 2760.04 1144.54 Q2765.41 1144.54 2768.61 1147.23 Q2771.8 1149.91 2771.8 1154.4 Q2771.8 1156.53 2770.99 1158.45 Q2770.21 1160.35 2768.1 1162.95 Q2767.52 1163.62 2764.42 1166.83 Q2761.32 1170.03 2755.67 1175.79 Z\" fill=\"#000000\" fill-rule=\"evenodd\" fill-opacity=\"1\" /><path clip-path=\"url(#clip610)\" d=\"M2791.8 1148.25 Q2788.19 1148.25 2786.36 1151.81 Q2784.56 1155.35 2784.56 1162.48 Q2784.56 1169.59 2786.36 1173.15 Q2788.19 1176.7 2791.8 1176.7 Q2795.44 1176.7 2797.24 1173.15 Q2799.07 1169.59 2799.07 1162.48 Q2799.07 1155.35 2797.24 1151.81 Q2795.44 1148.25 2791.8 1148.25 M2791.8 1144.54 Q2797.61 1144.54 2800.67 1149.15 Q2803.75 1153.73 2803.75 1162.48 Q2803.75 1171.21 2800.67 1175.82 Q2797.61 1180.4 2791.8 1180.4 Q2785.99 1180.4 2782.91 1175.82 Q2779.86 1171.21 2779.86 1162.48 Q2779.86 1153.73 2782.91 1149.15 Q2785.99 1144.54 2791.8 1144.54 Z\" fill=\"#000000\" fill-rule=\"evenodd\" fill-opacity=\"1\" /><path clip-path=\"url(#clip610)\" d=\"M2959.48 1175.79 L2975.8 1175.79 L2975.8 1179.73 L2953.86 1179.73 L2953.86 1175.79 Q2956.52 1173.04 2961.1 1168.41 Q2965.71 1163.76 2966.89 1162.41 Q2969.14 1159.89 2970.02 1158.15 Q2970.92 1156.39 2970.92 1154.7 Q2970.92 1151.95 2968.97 1150.21 Q2967.05 1148.48 2963.95 1148.48 Q2961.75 1148.48 2959.3 1149.24 Q2956.87 1150.01 2954.09 1151.56 L2954.09 1146.83 Q2956.91 1145.7 2959.37 1145.12 Q2961.82 1144.54 2963.86 1144.54 Q2969.23 1144.54 2972.42 1147.23 Q2975.62 1149.91 2975.62 1154.4 Q2975.62 1156.53 2974.81 1158.45 Q2974.02 1160.35 2971.91 1162.95 Q2971.34 1163.62 2968.23 1166.83 Q2965.13 1170.03 2959.48 1175.79 Z\" fill=\"#000000\" fill-rule=\"evenodd\" fill-opacity=\"1\" /><path clip-path=\"url(#clip610)\" d=\"M2985.66 1145.17 L3004.02 1145.17 L3004.02 1149.1 L2989.95 1149.1 L2989.95 1157.58 Q2990.97 1157.23 2991.98 1157.07 Q2993 1156.88 2994.02 1156.88 Q2999.81 1156.88 3003.19 1160.05 Q3006.57 1163.22 3006.57 1168.64 Q3006.57 1174.22 3003.1 1177.32 Q2999.62 1180.4 2993.3 1180.4 Q2991.13 1180.4 2988.86 1180.03 Q2986.61 1179.66 2984.21 1178.92 L2984.21 1174.22 Q2986.29 1175.35 2988.51 1175.91 Q2990.73 1176.46 2993.21 1176.46 Q2997.22 1176.46 2999.55 1174.36 Q3001.89 1172.25 3001.89 1168.64 Q3001.89 1165.03 2999.55 1162.92 Q2997.22 1160.82 2993.21 1160.82 Q2991.34 1160.82 2989.46 1161.23 Q2987.61 1161.65 2985.66 1162.53 L2985.66 1145.17 Z\" fill=\"#000000\" fill-rule=\"evenodd\" fill-opacity=\"1\" /><path clip-path=\"url(#clip610)\" d=\"M3172.37 1161.09 Q3175.73 1161.81 3177.61 1164.08 Q3179.5 1166.35 3179.5 1169.68 Q3179.5 1174.8 3175.98 1177.6 Q3172.47 1180.4 3165.98 1180.4 Q3163.81 1180.4 3161.49 1179.96 Q3159.2 1179.54 3156.75 1178.69 L3156.75 1174.17 Q3158.69 1175.31 3161.01 1175.89 Q3163.32 1176.46 3165.85 1176.46 Q3170.24 1176.46 3172.54 1174.73 Q3174.85 1172.99 3174.85 1169.68 Q3174.85 1166.63 3172.7 1164.91 Q3170.57 1163.18 3166.75 1163.18 L3162.72 1163.18 L3162.72 1159.33 L3166.93 1159.33 Q3170.38 1159.33 3172.21 1157.97 Q3174.04 1156.58 3174.04 1153.99 Q3174.04 1151.33 3172.14 1149.91 Q3170.27 1148.48 3166.75 1148.48 Q3164.83 1148.48 3162.63 1148.89 Q3160.43 1149.31 3157.79 1150.19 L3157.79 1146.02 Q3160.45 1145.28 3162.77 1144.91 Q3165.11 1144.54 3167.17 1144.54 Q3172.49 1144.54 3175.59 1146.97 Q3178.69 1149.38 3178.69 1153.5 Q3178.69 1156.37 3177.05 1158.36 Q3175.41 1160.33 3172.37 1161.09 Z\" fill=\"#000000\" fill-rule=\"evenodd\" fill-opacity=\"1\" /><path clip-path=\"url(#clip610)\" d=\"M3198.37 1148.25 Q3194.76 1148.25 3192.93 1151.81 Q3191.12 1155.35 3191.12 1162.48 Q3191.12 1169.59 3192.93 1173.15 Q3194.76 1176.7 3198.37 1176.7 Q3202 1176.7 3203.81 1173.15 Q3205.64 1169.59 3205.64 1162.48 Q3205.64 1155.35 3203.81 1151.81 Q3202 1148.25 3198.37 1148.25 M3198.37 1144.54 Q3204.18 1144.54 3207.23 1149.15 Q3210.31 1153.73 3210.31 1162.48 Q3210.31 1171.21 3207.23 1175.82 Q3204.18 1180.4 3198.37 1180.4 Q3192.56 1180.4 3189.48 1175.82 Q3186.42 1171.21 3186.42 1162.48 Q3186.42 1153.73 3189.48 1149.15 Q3192.56 1144.54 3198.37 1144.54 Z\" fill=\"#000000\" fill-rule=\"evenodd\" fill-opacity=\"1\" /><path clip-path=\"url(#clip610)\" d=\"M3376.19 1161.09 Q3379.55 1161.81 3381.42 1164.08 Q3383.32 1166.35 3383.32 1169.68 Q3383.32 1174.8 3379.8 1177.6 Q3376.28 1180.4 3369.8 1180.4 Q3367.62 1180.4 3365.31 1179.96 Q3363.02 1179.54 3360.56 1178.69 L3360.56 1174.17 Q3362.51 1175.31 3364.82 1175.89 Q3367.14 1176.46 3369.66 1176.46 Q3374.06 1176.46 3376.35 1174.73 Q3378.67 1172.99 3378.67 1169.68 Q3378.67 1166.63 3376.51 1164.91 Q3374.38 1163.18 3370.56 1163.18 L3366.54 1163.18 L3366.54 1159.33 L3370.75 1159.33 Q3374.2 1159.33 3376.03 1157.97 Q3377.86 1156.58 3377.86 1153.99 Q3377.86 1151.33 3375.96 1149.91 Q3374.08 1148.48 3370.56 1148.48 Q3368.64 1148.48 3366.44 1148.89 Q3364.24 1149.31 3361.61 1150.19 L3361.61 1146.02 Q3364.27 1145.28 3366.58 1144.91 Q3368.92 1144.54 3370.98 1144.54 Q3376.3 1144.54 3379.41 1146.97 Q3382.51 1149.38 3382.51 1153.5 Q3382.51 1156.37 3380.86 1158.36 Q3379.22 1160.33 3376.19 1161.09 Z\" fill=\"#000000\" fill-rule=\"evenodd\" fill-opacity=\"1\" /><path clip-path=\"url(#clip610)\" d=\"M3392.23 1145.17 L3410.59 1145.17 L3410.59 1149.1 L3396.51 1149.1 L3396.51 1157.58 Q3397.53 1157.23 3398.55 1157.07 Q3399.57 1156.88 3400.59 1156.88 Q3406.37 1156.88 3409.75 1160.05 Q3413.13 1163.22 3413.13 1168.64 Q3413.13 1174.22 3409.66 1177.32 Q3406.19 1180.4 3399.87 1180.4 Q3397.69 1180.4 3395.42 1180.03 Q3393.18 1179.66 3390.77 1178.92 L3390.77 1174.22 Q3392.86 1175.35 3395.08 1175.91 Q3397.3 1176.46 3399.78 1176.46 Q3403.78 1176.46 3406.12 1174.36 Q3408.46 1172.25 3408.46 1168.64 Q3408.46 1165.03 3406.12 1162.92 Q3403.78 1160.82 3399.78 1160.82 Q3397.9 1160.82 3396.03 1161.23 Q3394.18 1161.65 3392.23 1162.53 L3392.23 1145.17 Z\" fill=\"#000000\" fill-rule=\"evenodd\" fill-opacity=\"1\" /><polyline clip-path=\"url(#clip613)\" style=\"stroke:#000000; stroke-linecap:butt; stroke-linejoin:round; stroke-width:2; stroke-opacity:0.1; fill:none\" points=\"\n",
       "  2001.04,1042.91 3552.76,1042.91 \n",
       "  \"/>\n",
       "<polyline clip-path=\"url(#clip613)\" style=\"stroke:#000000; stroke-linecap:butt; stroke-linejoin:round; stroke-width:2; stroke-opacity:0.1; fill:none\" points=\"\n",
       "  2001.04,715.879 3552.76,715.879 \n",
       "  \"/>\n",
       "<polyline clip-path=\"url(#clip613)\" style=\"stroke:#000000; stroke-linecap:butt; stroke-linejoin:round; stroke-width:2; stroke-opacity:0.1; fill:none\" points=\"\n",
       "  2001.04,388.847 3552.76,388.847 \n",
       "  \"/>\n",
       "<polyline clip-path=\"url(#clip610)\" style=\"stroke:#000000; stroke-linecap:butt; stroke-linejoin:round; stroke-width:4; stroke-opacity:1; fill:none\" points=\"\n",
       "  2001.04,1107.73 2001.04,93.2321 \n",
       "  \"/>\n",
       "<polyline clip-path=\"url(#clip610)\" style=\"stroke:#000000; stroke-linecap:butt; stroke-linejoin:round; stroke-width:4; stroke-opacity:1; fill:none\" points=\"\n",
       "  2001.04,1042.91 2019.93,1042.91 \n",
       "  \"/>\n",
       "<polyline clip-path=\"url(#clip610)\" style=\"stroke:#000000; stroke-linecap:butt; stroke-linejoin:round; stroke-width:4; stroke-opacity:1; fill:none\" points=\"\n",
       "  2001.04,715.879 2019.93,715.879 \n",
       "  \"/>\n",
       "<polyline clip-path=\"url(#clip610)\" style=\"stroke:#000000; stroke-linecap:butt; stroke-linejoin:round; stroke-width:4; stroke-opacity:1; fill:none\" points=\"\n",
       "  2001.04,388.847 2019.93,388.847 \n",
       "  \"/>\n",
       "<path clip-path=\"url(#clip610)\" d=\"M1846.41 1062.7 L1854.05 1062.7 L1854.05 1036.34 L1845.74 1038 L1845.74 1033.75 L1854 1032.08 L1858.67 1032.08 L1858.67 1062.7 L1866.31 1062.7 L1866.31 1066.64 L1846.41 1066.64 L1846.41 1062.7 Z\" fill=\"#000000\" fill-rule=\"evenodd\" fill-opacity=\"1\" /><path clip-path=\"url(#clip610)\" d=\"M1885.76 1035.16 Q1882.15 1035.16 1880.32 1038.72 Q1878.51 1042.26 1878.51 1049.39 Q1878.51 1056.5 1880.32 1060.06 Q1882.15 1063.61 1885.76 1063.61 Q1889.39 1063.61 1891.2 1060.06 Q1893.03 1056.5 1893.03 1049.39 Q1893.03 1042.26 1891.2 1038.72 Q1889.39 1035.16 1885.76 1035.16 M1885.76 1031.45 Q1891.57 1031.45 1894.62 1036.06 Q1897.7 1040.64 1897.7 1049.39 Q1897.7 1058.12 1894.62 1062.73 Q1891.57 1067.31 1885.76 1067.31 Q1879.95 1067.31 1876.87 1062.73 Q1873.81 1058.12 1873.81 1049.39 Q1873.81 1040.64 1876.87 1036.06 Q1879.95 1031.45 1885.76 1031.45 Z\" fill=\"#000000\" fill-rule=\"evenodd\" fill-opacity=\"1\" /><path clip-path=\"url(#clip610)\" d=\"M1897.7 1025.56 L1921.81 1025.56 L1921.81 1028.75 L1897.7 1028.75 L1897.7 1025.56 Z\" fill=\"#000000\" fill-rule=\"evenodd\" fill-opacity=\"1\" /><path clip-path=\"url(#clip610)\" d=\"M1930.05 1011.15 L1944.97 1011.15 L1944.97 1014.35 L1933.53 1014.35 L1933.53 1021.23 Q1934.36 1020.95 1935.19 1020.82 Q1936.01 1020.67 1936.84 1020.67 Q1941.54 1020.67 1944.29 1023.24 Q1947.04 1025.82 1947.04 1030.22 Q1947.04 1034.75 1944.21 1037.27 Q1941.39 1039.77 1936.26 1039.77 Q1934.49 1039.77 1932.65 1039.47 Q1930.82 1039.17 1928.87 1038.57 L1928.87 1034.75 Q1930.56 1035.67 1932.37 1036.13 Q1934.17 1036.58 1936.18 1036.58 Q1939.44 1036.58 1941.34 1034.87 Q1943.24 1033.15 1943.24 1030.22 Q1943.24 1027.29 1941.34 1025.57 Q1939.44 1023.86 1936.18 1023.86 Q1934.66 1023.86 1933.14 1024.2 Q1931.63 1024.54 1930.05 1025.25 L1930.05 1011.15 Z\" fill=\"#000000\" fill-rule=\"evenodd\" fill-opacity=\"1\" /><path clip-path=\"url(#clip610)\" d=\"M1845.2 735.672 L1852.84 735.672 L1852.84 709.306 L1844.53 710.973 L1844.53 706.713 L1852.8 705.047 L1857.47 705.047 L1857.47 735.672 L1865.11 735.672 L1865.11 739.607 L1845.2 739.607 L1845.2 735.672 Z\" fill=\"#000000\" fill-rule=\"evenodd\" fill-opacity=\"1\" /><path clip-path=\"url(#clip610)\" d=\"M1884.55 708.125 Q1880.94 708.125 1879.11 711.69 Q1877.31 715.232 1877.31 722.361 Q1877.31 729.468 1879.11 733.033 Q1880.94 736.574 1884.55 736.574 Q1888.19 736.574 1889.99 733.033 Q1891.82 729.468 1891.82 722.361 Q1891.82 715.232 1889.99 711.69 Q1888.19 708.125 1884.55 708.125 M1884.55 704.422 Q1890.36 704.422 1893.42 709.028 Q1896.5 713.612 1896.5 722.361 Q1896.5 731.088 1893.42 735.695 Q1890.36 740.278 1884.55 740.278 Q1878.74 740.278 1875.67 735.695 Q1872.61 731.088 1872.61 722.361 Q1872.61 713.612 1875.67 709.028 Q1878.74 704.422 1884.55 704.422 Z\" fill=\"#000000\" fill-rule=\"evenodd\" fill-opacity=\"1\" /><path clip-path=\"url(#clip610)\" d=\"M1896.5 698.523 L1920.61 698.523 L1920.61 701.72 L1896.5 701.72 L1896.5 698.523 Z\" fill=\"#000000\" fill-rule=\"evenodd\" fill-opacity=\"1\" /><path clip-path=\"url(#clip610)\" d=\"M1939.25 687.427 L1929.66 702.416 L1939.25 702.416 L1939.25 687.427 M1938.25 684.116 L1943.03 684.116 L1943.03 702.416 L1947.04 702.416 L1947.04 705.576 L1943.03 705.576 L1943.03 712.196 L1939.25 712.196 L1939.25 705.576 L1926.57 705.576 L1926.57 701.908 L1938.25 684.116 Z\" fill=\"#000000\" fill-rule=\"evenodd\" fill-opacity=\"1\" /><path clip-path=\"url(#clip610)\" d=\"M1846.12 408.639 L1853.76 408.639 L1853.76 382.274 L1845.45 383.94 L1845.45 379.681 L1853.72 378.014 L1858.39 378.014 L1858.39 408.639 L1866.03 408.639 L1866.03 412.574 L1846.12 412.574 L1846.12 408.639 Z\" fill=\"#000000\" fill-rule=\"evenodd\" fill-opacity=\"1\" /><path clip-path=\"url(#clip610)\" d=\"M1885.48 381.093 Q1881.86 381.093 1880.04 384.658 Q1878.23 388.2 1878.23 395.329 Q1878.23 402.436 1880.04 406 Q1881.86 409.542 1885.48 409.542 Q1889.11 409.542 1890.92 406 Q1892.74 402.436 1892.74 395.329 Q1892.74 388.2 1890.92 384.658 Q1889.11 381.093 1885.48 381.093 M1885.48 377.389 Q1891.29 377.389 1894.34 381.996 Q1897.42 386.579 1897.42 395.329 Q1897.42 404.056 1894.34 408.662 Q1891.29 413.246 1885.48 413.246 Q1879.67 413.246 1876.59 408.662 Q1873.53 404.056 1873.53 395.329 Q1873.53 386.579 1876.59 381.996 Q1879.67 377.389 1885.48 377.389 Z\" fill=\"#000000\" fill-rule=\"evenodd\" fill-opacity=\"1\" /><path clip-path=\"url(#clip610)\" d=\"M1897.42 371.491 L1921.53 371.491 L1921.53 374.688 L1897.42 374.688 L1897.42 371.491 Z\" fill=\"#000000\" fill-rule=\"evenodd\" fill-opacity=\"1\" /><path clip-path=\"url(#clip610)\" d=\"M1941.24 370.024 Q1943.97 370.607 1945.49 372.45 Q1947.04 374.293 1947.04 377.002 Q1947.04 381.158 1944.18 383.434 Q1941.32 385.709 1936.05 385.709 Q1934.28 385.709 1932.4 385.352 Q1930.54 385.014 1928.55 384.318 L1928.55 380.65 Q1930.13 381.572 1932.01 382.042 Q1933.89 382.512 1935.94 382.512 Q1939.51 382.512 1941.37 381.102 Q1943.25 379.691 1943.25 377.002 Q1943.25 374.519 1941.51 373.127 Q1939.78 371.717 1936.67 371.717 L1933.4 371.717 L1933.4 368.594 L1936.82 368.594 Q1939.62 368.594 1941.11 367.485 Q1942.6 366.356 1942.6 364.25 Q1942.6 362.087 1941.05 360.94 Q1939.53 359.774 1936.67 359.774 Q1935.11 359.774 1933.32 360.112 Q1931.54 360.451 1929.39 361.165 L1929.39 357.78 Q1931.56 357.178 1933.44 356.877 Q1935.34 356.576 1937.01 356.576 Q1941.34 356.576 1943.86 358.551 Q1946.38 360.507 1946.38 363.855 Q1946.38 366.187 1945.04 367.805 Q1943.71 369.403 1941.24 370.024 Z\" fill=\"#000000\" fill-rule=\"evenodd\" fill-opacity=\"1\" /><path clip-path=\"url(#clip610)\" d=\"M2288.11 12.096 L2296.3 12.096 L2296.3 65.6895 L2325.75 65.6895 L2325.75 72.576 L2288.11 72.576 L2288.11 12.096 Z\" fill=\"#000000\" fill-rule=\"evenodd\" fill-opacity=\"1\" /><path clip-path=\"url(#clip610)\" d=\"M2350.13 32.4315 Q2344.14 32.4315 2340.65 37.1306 Q2337.17 41.7891 2337.17 49.9314 Q2337.17 58.0738 2340.61 62.7728 Q2344.1 67.4314 2350.13 67.4314 Q2356.09 67.4314 2359.57 62.7323 Q2363.06 58.0333 2363.06 49.9314 Q2363.06 41.8701 2359.57 37.1711 Q2356.09 32.4315 2350.13 32.4315 M2350.13 26.1121 Q2359.85 26.1121 2365.4 32.4315 Q2370.95 38.7509 2370.95 49.9314 Q2370.95 61.0714 2365.4 67.4314 Q2359.85 73.7508 2350.13 73.7508 Q2340.37 73.7508 2334.82 67.4314 Q2329.31 61.0714 2329.31 49.9314 Q2329.31 38.7509 2334.82 32.4315 Q2340.37 26.1121 2350.13 26.1121 Z\" fill=\"#000000\" fill-rule=\"evenodd\" fill-opacity=\"1\" /><path clip-path=\"url(#clip610)\" d=\"M2412.23 28.5427 L2412.23 35.5912 Q2409.07 33.9709 2405.67 33.1607 Q2402.27 32.3505 2398.62 32.3505 Q2393.07 32.3505 2390.28 34.0519 Q2387.52 35.7533 2387.52 39.156 Q2387.52 41.7486 2389.51 43.2475 Q2391.49 44.7058 2397.49 46.0426 L2400.04 46.6097 Q2407.98 48.3111 2411.3 51.4303 Q2414.66 54.509 2414.66 60.0587 Q2414.66 66.3781 2409.64 70.0644 Q2404.66 73.7508 2395.91 73.7508 Q2392.26 73.7508 2388.29 73.0216 Q2384.36 72.3329 2379.99 70.9151 L2379.99 63.2184 Q2384.12 65.3654 2388.13 66.4591 Q2392.14 67.5124 2396.07 67.5124 Q2401.34 67.5124 2404.17 65.73 Q2407.01 63.9071 2407.01 60.6258 Q2407.01 57.5877 2404.94 55.9673 Q2402.92 54.3469 2395.99 52.8481 L2393.4 52.2405 Q2386.47 50.7821 2383.39 47.7845 Q2380.31 44.7463 2380.31 39.4801 Q2380.31 33.0797 2384.85 29.5959 Q2389.39 26.1121 2397.73 26.1121 Q2401.86 26.1121 2405.51 26.7198 Q2409.15 27.3274 2412.23 28.5427 Z\" fill=\"#000000\" fill-rule=\"evenodd\" fill-opacity=\"1\" /><path clip-path=\"url(#clip610)\" d=\"M2455.46 28.5427 L2455.46 35.5912 Q2452.3 33.9709 2448.89 33.1607 Q2445.49 32.3505 2441.85 32.3505 Q2436.3 32.3505 2433.5 34.0519 Q2430.75 35.7533 2430.75 39.156 Q2430.75 41.7486 2432.73 43.2475 Q2434.72 44.7058 2440.71 46.0426 L2443.26 46.6097 Q2451.2 48.3111 2454.52 51.4303 Q2457.89 54.509 2457.89 60.0587 Q2457.89 66.3781 2452.86 70.0644 Q2447.88 73.7508 2439.13 73.7508 Q2435.49 73.7508 2431.52 73.0216 Q2427.59 72.3329 2423.21 70.9151 L2423.21 63.2184 Q2427.34 65.3654 2431.35 66.4591 Q2435.36 67.5124 2439.29 67.5124 Q2444.56 67.5124 2447.39 65.73 Q2450.23 63.9071 2450.23 60.6258 Q2450.23 57.5877 2448.16 55.9673 Q2446.14 54.3469 2439.21 52.8481 L2436.62 52.2405 Q2429.69 50.7821 2426.61 47.7845 Q2423.54 44.7463 2423.54 39.4801 Q2423.54 33.0797 2428.07 29.5959 Q2432.61 26.1121 2440.95 26.1121 Q2445.09 26.1121 2448.73 26.7198 Q2452.38 27.3274 2455.46 28.5427 Z\" fill=\"#000000\" fill-rule=\"evenodd\" fill-opacity=\"1\" /><path clip-path=\"url(#clip610)\" d=\"M2519.1 9.54393 L2519.1 15.7418 L2511.97 15.7418 Q2507.96 15.7418 2506.38 17.3622 Q2504.84 18.9825 2504.84 23.1955 L2504.84 27.2059 L2517.11 27.2059 L2517.11 32.9987 L2504.84 32.9987 L2504.84 72.576 L2497.34 72.576 L2497.34 32.9987 L2490.21 32.9987 L2490.21 27.2059 L2497.34 27.2059 L2497.34 24.0462 Q2497.34 16.471 2500.87 13.0277 Q2504.39 9.54393 2512.05 9.54393 L2519.1 9.54393 Z\" fill=\"#000000\" fill-rule=\"evenodd\" fill-opacity=\"1\" /><path clip-path=\"url(#clip610)\" d=\"M2524.56 54.671 L2524.56 27.2059 L2532.02 27.2059 L2532.02 54.3874 Q2532.02 60.8284 2534.53 64.0691 Q2537.04 67.2693 2542.06 67.2693 Q2548.1 67.2693 2551.58 63.421 Q2555.11 59.5726 2555.11 52.9291 L2555.11 27.2059 L2562.56 27.2059 L2562.56 72.576 L2555.11 72.576 L2555.11 65.6084 Q2552.39 69.7404 2548.79 71.7658 Q2545.22 73.7508 2540.48 73.7508 Q2532.67 73.7508 2528.62 68.8897 Q2524.56 64.0286 2524.56 54.671 M2543.32 26.1121 L2543.32 26.1121 Z\" fill=\"#000000\" fill-rule=\"evenodd\" fill-opacity=\"1\" /><path clip-path=\"url(#clip610)\" d=\"M2615.63 45.1919 L2615.63 72.576 L2608.18 72.576 L2608.18 45.4349 Q2608.18 38.994 2605.66 35.7938 Q2603.15 32.5936 2598.13 32.5936 Q2592.09 32.5936 2588.61 36.4419 Q2585.13 40.2903 2585.13 46.9338 L2585.13 72.576 L2577.63 72.576 L2577.63 27.2059 L2585.13 27.2059 L2585.13 34.2544 Q2587.8 30.163 2591.4 28.1376 Q2595.05 26.1121 2599.79 26.1121 Q2607.61 26.1121 2611.62 30.9732 Q2615.63 35.7938 2615.63 45.1919 Z\" fill=\"#000000\" fill-rule=\"evenodd\" fill-opacity=\"1\" /><path clip-path=\"url(#clip610)\" d=\"M2663.15 28.9478 L2663.15 35.9153 Q2659.99 34.1734 2656.79 33.3227 Q2653.63 32.4315 2650.39 32.4315 Q2643.13 32.4315 2639.12 37.0496 Q2635.11 41.6271 2635.11 49.9314 Q2635.11 58.2358 2639.12 62.8538 Q2643.13 67.4314 2650.39 67.4314 Q2653.63 67.4314 2656.79 66.5807 Q2659.99 65.6895 2663.15 63.9476 L2663.15 70.8341 Q2660.03 72.2924 2656.66 73.0216 Q2653.34 73.7508 2649.58 73.7508 Q2639.33 73.7508 2633.29 67.3098 Q2627.26 60.8689 2627.26 49.9314 Q2627.26 38.832 2633.33 32.472 Q2639.45 26.1121 2650.06 26.1121 Q2653.5 26.1121 2656.79 26.8413 Q2660.07 27.5299 2663.15 28.9478 Z\" fill=\"#000000\" fill-rule=\"evenodd\" fill-opacity=\"1\" /><path clip-path=\"url(#clip610)\" d=\"M2683.48 14.324 L2683.48 27.2059 L2698.83 27.2059 L2698.83 32.9987 L2683.48 32.9987 L2683.48 57.6282 Q2683.48 63.1779 2684.98 64.7578 Q2686.52 66.3376 2691.18 66.3376 L2698.83 66.3376 L2698.83 72.576 L2691.18 72.576 Q2682.55 72.576 2679.27 69.3758 Q2675.99 66.1351 2675.99 57.6282 L2675.99 32.9987 L2670.52 32.9987 L2670.52 27.2059 L2675.99 27.2059 L2675.99 14.324 L2683.48 14.324 Z\" fill=\"#000000\" fill-rule=\"evenodd\" fill-opacity=\"1\" /><path clip-path=\"url(#clip610)\" d=\"M2708.64 27.2059 L2716.09 27.2059 L2716.09 72.576 L2708.64 72.576 L2708.64 27.2059 M2708.64 9.54393 L2716.09 9.54393 L2716.09 18.9825 L2708.64 18.9825 L2708.64 9.54393 Z\" fill=\"#000000\" fill-rule=\"evenodd\" fill-opacity=\"1\" /><path clip-path=\"url(#clip610)\" d=\"M2749.27 32.4315 Q2743.27 32.4315 2739.79 37.1306 Q2736.31 41.7891 2736.31 49.9314 Q2736.31 58.0738 2739.75 62.7728 Q2743.23 67.4314 2749.27 67.4314 Q2755.22 67.4314 2758.71 62.7323 Q2762.19 58.0333 2762.19 49.9314 Q2762.19 41.8701 2758.71 37.1711 Q2755.22 32.4315 2749.27 32.4315 M2749.27 26.1121 Q2758.99 26.1121 2764.54 32.4315 Q2770.09 38.7509 2770.09 49.9314 Q2770.09 61.0714 2764.54 67.4314 Q2758.99 73.7508 2749.27 73.7508 Q2739.51 73.7508 2733.96 67.4314 Q2728.45 61.0714 2728.45 49.9314 Q2728.45 38.7509 2733.96 32.4315 Q2739.51 26.1121 2749.27 26.1121 Z\" fill=\"#000000\" fill-rule=\"evenodd\" fill-opacity=\"1\" /><path clip-path=\"url(#clip610)\" d=\"M2820.16 45.1919 L2820.16 72.576 L2812.71 72.576 L2812.71 45.4349 Q2812.71 38.994 2810.19 35.7938 Q2807.68 32.5936 2802.66 32.5936 Q2796.62 32.5936 2793.14 36.4419 Q2789.66 40.2903 2789.66 46.9338 L2789.66 72.576 L2782.16 72.576 L2782.16 27.2059 L2789.66 27.2059 L2789.66 34.2544 Q2792.33 30.163 2795.93 28.1376 Q2799.58 26.1121 2804.32 26.1121 Q2812.14 26.1121 2816.15 30.9732 Q2820.16 35.7938 2820.16 45.1919 Z\" fill=\"#000000\" fill-rule=\"evenodd\" fill-opacity=\"1\" /><path clip-path=\"url(#clip610)\" d=\"M2891.25 34.0924 L2891.25 9.54393 L2898.71 9.54393 L2898.71 72.576 L2891.25 72.576 L2891.25 65.7705 Q2888.9 69.8214 2885.3 71.8063 Q2881.73 73.7508 2876.71 73.7508 Q2868.49 73.7508 2863.3 67.1883 Q2858.16 60.6258 2858.16 49.9314 Q2858.16 39.2371 2863.3 32.6746 Q2868.49 26.1121 2876.71 26.1121 Q2881.73 26.1121 2885.3 28.0971 Q2888.9 30.0415 2891.25 34.0924 M2865.85 49.9314 Q2865.85 58.1548 2869.22 62.8538 Q2872.62 67.5124 2878.53 67.5124 Q2884.45 67.5124 2887.85 62.8538 Q2891.25 58.1548 2891.25 49.9314 Q2891.25 41.7081 2887.85 37.0496 Q2884.45 32.3505 2878.53 32.3505 Q2872.62 32.3505 2869.22 37.0496 Q2865.85 41.7081 2865.85 49.9314 Z\" fill=\"#000000\" fill-rule=\"evenodd\" fill-opacity=\"1\" /><path clip-path=\"url(#clip610)\" d=\"M2952.87 48.0275 L2952.87 51.6733 L2918.6 51.6733 Q2919.08 59.3701 2923.21 63.421 Q2927.39 67.4314 2934.8 67.4314 Q2939.09 67.4314 2943.1 66.3781 Q2947.16 65.3249 2951.12 63.2184 L2951.12 70.267 Q2947.11 71.9684 2942.9 72.8596 Q2938.69 73.7508 2934.35 73.7508 Q2923.5 73.7508 2917.14 67.4314 Q2910.82 61.1119 2910.82 50.3365 Q2910.82 39.1965 2916.81 32.6746 Q2922.85 26.1121 2933.06 26.1121 Q2942.21 26.1121 2947.52 32.0264 Q2952.87 37.9003 2952.87 48.0275 M2945.41 45.84 Q2945.33 39.7232 2941.97 36.0774 Q2938.65 32.4315 2933.14 32.4315 Q2926.9 32.4315 2923.13 35.9558 Q2919.41 39.4801 2918.84 45.8805 L2945.41 45.84 Z\" fill=\"#000000\" fill-rule=\"evenodd\" fill-opacity=\"1\" /><path clip-path=\"url(#clip610)\" d=\"M2991.39 34.1734 Q2990.14 33.4443 2988.64 33.1202 Q2987.18 32.7556 2985.4 32.7556 Q2979.08 32.7556 2975.67 36.8875 Q2972.31 40.9789 2972.31 48.6757 L2972.31 72.576 L2964.82 72.576 L2964.82 27.2059 L2972.31 27.2059 L2972.31 34.2544 Q2974.66 30.1225 2978.43 28.1376 Q2982.2 26.1121 2987.58 26.1121 Q2988.35 26.1121 2989.28 26.2337 Q2990.22 26.3147 2991.35 26.5172 L2991.39 34.1734 Z\" fill=\"#000000\" fill-rule=\"evenodd\" fill-opacity=\"1\" /><path clip-path=\"url(#clip610)\" d=\"M2999.21 27.2059 L3006.66 27.2059 L3006.66 72.576 L2999.21 72.576 L2999.21 27.2059 M2999.21 9.54393 L3006.66 9.54393 L3006.66 18.9825 L2999.21 18.9825 L2999.21 9.54393 Z\" fill=\"#000000\" fill-rule=\"evenodd\" fill-opacity=\"1\" /><path clip-path=\"url(#clip610)\" d=\"M3016.91 27.2059 L3024.81 27.2059 L3038.99 65.2844 L3053.17 27.2059 L3061.07 27.2059 L3044.05 72.576 L3033.93 72.576 L3016.91 27.2059 Z\" fill=\"#000000\" fill-rule=\"evenodd\" fill-opacity=\"1\" /><path clip-path=\"url(#clip610)\" d=\"M3091.97 49.7694 Q3082.94 49.7694 3079.46 51.8354 Q3075.97 53.9013 3075.97 58.8839 Q3075.97 62.8538 3078.57 65.2034 Q3081.2 67.5124 3085.7 67.5124 Q3091.89 67.5124 3095.62 63.1374 Q3099.39 58.7219 3099.39 51.4303 L3099.39 49.7694 L3091.97 49.7694 M3106.84 46.6907 L3106.84 72.576 L3099.39 72.576 L3099.39 65.6895 Q3096.84 69.8214 3093.03 71.8063 Q3089.22 73.7508 3083.71 73.7508 Q3076.74 73.7508 3072.61 69.8619 Q3068.52 65.9325 3068.52 59.3701 Q3068.52 51.7138 3073.62 47.825 Q3078.77 43.9361 3088.94 43.9361 L3099.39 43.9361 L3099.39 43.2069 Q3099.39 38.0623 3095.99 35.2672 Q3092.62 32.4315 3086.51 32.4315 Q3082.62 32.4315 3078.93 33.3632 Q3075.24 34.295 3071.84 36.1584 L3071.84 29.2718 Q3075.93 27.692 3079.78 26.9223 Q3083.63 26.1121 3087.28 26.1121 Q3097.12 26.1121 3101.98 31.2163 Q3106.84 36.3204 3106.84 46.6907 Z\" fill=\"#000000\" fill-rule=\"evenodd\" fill-opacity=\"1\" /><path clip-path=\"url(#clip610)\" d=\"M3129.57 14.324 L3129.57 27.2059 L3144.92 27.2059 L3144.92 32.9987 L3129.57 32.9987 L3129.57 57.6282 Q3129.57 63.1779 3131.07 64.7578 Q3132.61 66.3376 3137.26 66.3376 L3144.92 66.3376 L3144.92 72.576 L3137.26 72.576 Q3128.64 72.576 3125.35 69.3758 Q3122.07 66.1351 3122.07 57.6282 L3122.07 32.9987 L3116.6 32.9987 L3116.6 27.2059 L3122.07 27.2059 L3122.07 14.324 L3129.57 14.324 Z\" fill=\"#000000\" fill-rule=\"evenodd\" fill-opacity=\"1\" /><path clip-path=\"url(#clip610)\" d=\"M3154.72 27.2059 L3162.18 27.2059 L3162.18 72.576 L3154.72 72.576 L3154.72 27.2059 M3154.72 9.54393 L3162.18 9.54393 L3162.18 18.9825 L3154.72 18.9825 L3154.72 9.54393 Z\" fill=\"#000000\" fill-rule=\"evenodd\" fill-opacity=\"1\" /><path clip-path=\"url(#clip610)\" d=\"M3172.43 27.2059 L3180.33 27.2059 L3194.5 65.2844 L3208.68 27.2059 L3216.58 27.2059 L3199.57 72.576 L3189.44 72.576 L3172.43 27.2059 Z\" fill=\"#000000\" fill-rule=\"evenodd\" fill-opacity=\"1\" /><path clip-path=\"url(#clip610)\" d=\"M3265.68 48.0275 L3265.68 51.6733 L3231.41 51.6733 Q3231.89 59.3701 3236.03 63.421 Q3240.2 67.4314 3247.61 67.4314 Q3251.9 67.4314 3255.91 66.3781 Q3259.97 65.3249 3263.94 63.2184 L3263.94 70.267 Q3259.93 71.9684 3255.71 72.8596 Q3251.5 73.7508 3247.16 73.7508 Q3236.31 73.7508 3229.95 67.4314 Q3223.63 61.1119 3223.63 50.3365 Q3223.63 39.1965 3229.62 32.6746 Q3235.66 26.1121 3245.87 26.1121 Q3255.02 26.1121 3260.33 32.0264 Q3265.68 37.9003 3265.68 48.0275 M3258.22 45.84 Q3258.14 39.7232 3254.78 36.0774 Q3251.46 32.4315 3245.95 32.4315 Q3239.71 32.4315 3235.94 35.9558 Q3232.22 39.4801 3231.65 45.8805 L3258.22 45.84 Z\" fill=\"#000000\" fill-rule=\"evenodd\" fill-opacity=\"1\" /><polyline clip-path=\"url(#clip613)\" style=\"stroke:#009af9; stroke-linecap:butt; stroke-linejoin:round; stroke-width:8; stroke-opacity:1; fill:none\" points=\"\n",
       "  2044.95,121.944 2085.62,256.49 2126.28,324.239 2166.94,380.803 2207.61,436.453 2248.27,474.282 2288.93,503.274 2329.6,525.721 2370.26,566.166 2410.92,599.978 \n",
       "  2451.59,619.641 2492.25,643.672 2532.91,659.889 2573.58,674.703 2614.24,687.002 2654.9,731.743 2695.57,730.315 2736.23,735.737 2776.9,750.958 2817.56,771.106 \n",
       "  2858.22,791.783 2898.89,820.195 2939.55,832.746 2980.21,850.907 3020.88,898.264 3061.54,911.152 3102.2,931.614 3142.87,960.657 3183.53,972.867 3224.19,975.874 \n",
       "  3264.86,1018.74 3305.52,1008.54 3346.19,1015.01 3386.85,966.939 3427.51,1079.02 3468.18,1055.29 3508.84,1000.34 \n",
       "  \"/>\n",
       "</svg>\n"
      ]
     },
     "metadata": {},
     "output_type": "display_data"
    }
   ],
   "source": [
    "# plot evolution\n",
    "plotTrainingEvolution(epochLosses, deltaLosses)"
   ]
  },
  {
   "cell_type": "markdown",
   "id": "a77111b8",
   "metadata": {},
   "source": [
    "##### Testing"
   ]
  },
  {
   "cell_type": "code",
   "execution_count": 12,
   "id": "287287b6",
   "metadata": {},
   "outputs": [
    {
     "data": {
      "text/plain": [
       "predictOutcome (generic function with 1 method)"
      ]
     },
     "metadata": {},
     "output_type": "display_data"
    }
   ],
   "source": [
    "function predictOutcome(X)\n",
    "    ŷ = Flux.onecold( model(X), [0:9;] )\n",
    "end"
   ]
  },
  {
   "cell_type": "code",
   "execution_count": 13,
   "id": "4cd546f6",
   "metadata": {},
   "outputs": [
    {
     "data": {
      "text/plain": [
       "10×10 Matrix{Int64}:\n",
       " 1748     0     0     2     1     3     7     1     5     2\n",
       "    2  1992     4     1     3     2     0     5    11     4\n",
       "    4     8  1751    14     2     2     3    13     9     0\n",
       "    1     0     0  1774     1    18     0     0    11     9\n",
       "    2     1     8     1  1719     3     6     4     0    10\n",
       "    4     0     2    15     0  1572     4     2     8     7\n",
       "    7     4     4     1     5    10  1750     1     6     1\n",
       "    1    10    12    10     5     0     1  1840     2    24\n",
       "    4     5     3    12     3     8     4     5  1698    10\n",
       "    4     3     3     9    14     8     0     8     5  1718"
      ]
     },
     "metadata": {},
     "output_type": "display_data"
    },
    {
     "name": "stdout",
     "output_type": "stream",
     "text": [
      "accuracy: 0.976\n",
      "f1-score: "
     ]
    },
    {
     "name": "stdout",
     "output_type": "stream",
     "text": [
      "0.976\n"
     ]
    }
   ],
   "source": [
    "# preprocessing\n",
    "ts_X, ts_y = preprocess(testX, testY)\n",
    "X_d        = ts_X |> gpu\n",
    "\n",
    "# predict\n",
    "ŷ = predictOutcome(X_d)\n",
    "\n",
    "# result\n",
    "printMetrics( ŷ, coerce(testY, OrderedFactor) )"
   ]
  }
 ],
 "metadata": {
  "kernelspec": {
   "display_name": "Julia 1.6.6",
   "language": "julia",
   "name": "julia-1.6"
  },
  "language_info": {
   "file_extension": ".jl",
   "mimetype": "application/julia",
   "name": "julia",
   "version": "1.6.6"
  }
 },
 "nbformat": 4,
 "nbformat_minor": 5
}
