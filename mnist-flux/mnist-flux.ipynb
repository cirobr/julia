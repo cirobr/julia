{
 "cells": [
  {
   "cell_type": "markdown",
   "id": "e145f758",
   "metadata": {},
   "source": [
    "# Flux with MNIST\n"
   ]
  },
  {
   "cell_type": "markdown",
   "id": "5f262ba3",
   "metadata": {},
   "source": [
    "## Libraries"
   ]
  },
  {
   "cell_type": "code",
   "execution_count": 1,
   "id": "d63e87f2",
   "metadata": {},
   "outputs": [],
   "source": [
    "#using CUDA\n",
    "\n",
    "using Flux              # the julia ml library\n",
    "using Images            # image processing and machine vision for julia\n",
    "\n",
    "using MLJ               # make_blobs, rmse, confmat, f1score, coerce\n",
    "#using MLJFlux           # NeuralNetworkClassifier, CUDALibs\n",
    "using MLDataUtils       # label, nlabel, labelfreq, stratifiedobs\n",
    "using MLDatasets        # mnist\n",
    "\n",
    "using LinearAlgebra     # pinv pseudo-inverse matrix\n",
    "#using Metrics           # r2-score\n",
    "using Random\n",
    "using StatsBase         # standardize (normalization)\n",
    "using Distributions\n",
    "\n",
    "using Plots; gr()\n",
    "using StatsPlots\n",
    "using Printf\n",
    "\n",
    "#using CSV\n",
    "using DataFrames\n"
   ]
  },
  {
   "cell_type": "markdown",
   "id": "d53a09fe",
   "metadata": {},
   "source": [
    "## Functions"
   ]
  },
  {
   "cell_type": "code",
   "execution_count": 2,
   "id": "66ccdfa6",
   "metadata": {},
   "outputs": [
    {
     "data": {
      "text/plain": [
       "printMetrics (generic function with 1 method)"
      ]
     },
     "execution_count": 2,
     "metadata": {},
     "output_type": "execute_result"
    }
   ],
   "source": [
    "# metrics\n",
    "function printMetrics(ŷ, y)\n",
    "    display(confmat(ŷ, y))\n",
    "    println(\"accuracy: \", round(accuracy(ŷ, y); digits=3))\n",
    "    println(\"f1-score: \", round(multiclass_f1score(ŷ, y); digits=3))\n",
    "end\n"
   ]
  },
  {
   "cell_type": "markdown",
   "id": "8903cf71",
   "metadata": {},
   "source": [
    "## Dataset"
   ]
  },
  {
   "cell_type": "code",
   "execution_count": 3,
   "id": "4bd90da6",
   "metadata": {},
   "outputs": [
    {
     "data": {
      "text/html": [
       "<table><tbody><tr><td style='text-align:center;vertical-align:middle; margin: 0.5em;border:1px #90999f solid;border-collapse:collapse'><img style='max-width: 100px; max-height:100px;display:inline' src=\"data:image/png;base64,iVBORw0KGgoAAAANSUhEUgAAAHAAAABwCAAAAADji6uXAAAABGdBTUEAALGPC/xhBQAAAAFzUkdCAK7OHOkAAAAgY0hSTQAAeiYAAICEAAD6AAAAgOgAAHUwAADqYAAAOpgAABdwnLpRPAAAAiVJREFUaAW9wT2IFgQABuAHemnI4aJFISgJwkDIIiqIsMLcajiKIEEIshosmgSHhhoUIW/IcIgCISHa+psKsp8hEKSSSAlyECon61Q+jMDT4RuO7w6/n5Pe54myKIuyKIuyKIuyKIuyKIuyKIuyKIuyKIuyKIuyKIsZ3YQ5y17FLdiE3TiI5/EvDuAto6IsyqIsJrgDN+MRPIpb8YzV/sAhzOMSTuI7q0VZlEVZjHE/vsac8ZbwBgb4CH/hH/xmtSiLsiiLMc7iPOasdhyLeAL/4ajpRFmURVmM8Tf24Cn8hEOGfsZ2DLAZr5telEVZlMUEn+IYLmELXsQCBoZ+xcumF2VRFmUxhYuGLhjahY+xZHZRFmVRFjN4Ew/gMTyJr8wuyqIsymIGA7yEH/E+vsEJHMZV04myKIuymNEZvIAj2ImdWIcPcc5kURZlURZr8Al+xwK2YT/uxD78abwoi7IoizX6Bc/haRzBK7gb240XZVEWZXEDFnEUHyDYisfxreuLsiiLslije/EsHkQMncL3xouyKIuymNEmvIZ5bLDsCs5hyXhRFmVRFlPagB3YjY1GncA+fG6yKIuyKIsJ1mMz3sU9Rh3H2/gMS6YTZVEWZXEdt+E93Ie7jPoBC/gSl80myqIsymKFh7EHD+F2oy7jHezHwNpEWZRFWawwj3nLTuMLXMFBLLoxURZlURYr7MVe/58oi7Ioi7Ioi7Ioi7Ioi7IouwZsVVgTmd3ynQAAAABJRU5ErkJg\"></td><td style='text-align:center;vertical-align:middle; margin: 0.5em;border:1px #90999f solid;border-collapse:collapse'><img style='max-width: 100px; max-height:100px;display:inline' src=\"data:image/png;base64,iVBORw0KGgoAAAANSUhEUgAAAHAAAABwCAAAAADji6uXAAAABGdBTUEAALGPC/xhBQAAAAFzUkdCAK7OHOkAAAAgY0hSTQAAeiYAAICEAAD6AAAAgOgAAHUwAADqYAAAOpgAABdwnLpRPAAAAjJJREFUaAW9wT1oHAQABtB3+mGISDN0sIK46SaGFEUnxbEVFTtIkWYVRCgoAYcomRzUDlYQBREUhTo4WCwihcKB0EGtOneTQkAtgu1ih5zDDRlyf0nley/KoizKoizKoizKoizKoizKoizKoizKoixuw1G8inV8jg9wxWxRFmVRFge0ios4hBFO4VkcNluURVmUxQE8hq+xghFu4BYO4wn8jFsmi7Ioi7LYh7uxhi9wn11X8Q7O4Qe8ibdNFmVRFmWxDx/jpL3WcA+GeAoPmy7KoizKYkFHcRwDY0N8i3exjV/wN57GwHRRFmVRFgtYxUUcwgjf4SSexCY+wZ/4DTs4jjVcsVeURVmUxRwPYQMr+Avb+Aw3cQEX7LWM1/GSvaIsyqIsZljCeziGG1jHT1g23wMmi7Ioi7KYYQ3HjD2HodsXZVEWZTHDGQwwxNBi7sAOBiaLsiiLspjiGaxihPMWt4MRfjVZlEVZlMUUy7gLf+Ar8y1hy9glvGGyKIuyKIs5/sW22ZawiQ1cwxncNFmURVmUxRznzbaKDbyIb3DCbFEWZVEWUwwwwPM4bbLXsIkVfIl180VZlEVZTDHCCEdwFp/iOh7HKTyC+/E7vseHFhNlURZlMcedeAUn8A8etOsyLuEti4uyKIuymOIyfsSjxo7gXmPXcQ6n7V+URVmUxRTX8AJexqZd7+MjXHUwURZlURYzbGMLW/4/URZlURZlURZlURZlURZlURZlURZlUfYfqPxYlL4fzGQAAAAASUVORK5C\"></td><td style='text-align:center;vertical-align:middle; margin: 0.5em;border:1px #90999f solid;border-collapse:collapse'><img style='max-width: 100px; max-height:100px;display:inline' src=\"data:image/png;base64,iVBORw0KGgoAAAANSUhEUgAAAHAAAABwCAAAAADji6uXAAAABGdBTUEAALGPC/xhBQAAAAFzUkdCAK7OHOkAAAAgY0hSTQAAeiYAAICEAAD6AAAAgOgAAHUwAADqYAAAOpgAABdwnLpRPAAAAbVJREFUaAW9wT2rDQAABuDnnN6UhSLdlNQdbrZrMjCgbkl2E9kY/ASrSfkBBukOjMJkMJkQRvJRihhsSpFSDGdw7nHP/Tid3ueJsiiLsiiLsiiLsiiLsiiLsiiLsiiLsiiLsiiLsiiLOVvBHZzAW/+LsiiLsphwHHtxz2yO4IXpoizKoiwmnMQS7tm+IRZxEAPri7Ioi7KYcAFPzGY/LuI23lhflEVZlMWEodndNPLedFEWZVEWY5axYHa7jTwyXZRFWZTFmDPYaTYLWDTyxXRRFmVRFmMOGXll+65jAe/w3XRRFmVRFut4bmt24TTO45SRq/hmuiiLsiiLdeyx1mEMsYID2IFzGOInnuEXgpc2FmVRFmUx5if+4Aau+GcZA/zGD7zGLbzAY3zFZ+zEGxuLsiiLshhzGR9xzFqf8ACv8dT/LmEfPthclEVZlMWEa7Zvxchdm4uyKIuymKP7NhdlURZlURZlURZlMScDLOGJjUVZlEVZzMkfDG0uyqIsymKOjmLVxqIsyqIs5mRga6IsyqIs5uAhztqaKIuyKIs5WMWqrYmyKIuyKIuyKIuyKIuyKIuyv/irMYSJ7ydGAAAAAElFTkSuQmCC\"></td><td style='text-align:center;vertical-align:middle; margin: 0.5em;border:1px #90999f solid;border-collapse:collapse'><img style='max-width: 100px; max-height:100px;display:inline' src=\"data:image/png;base64,iVBORw0KGgoAAAANSUhEUgAAAHAAAABwCAAAAADji6uXAAAABGdBTUEAALGPC/xhBQAAAAFzUkdCAK7OHOkAAAAgY0hSTQAAeiYAAICEAAD6AAAAgOgAAHUwAADqYAAAOpgAABdwnLpRPAAAAYtJREFUaAW9waFqVQEABuCP8YNRRUFM7glkDzDQoGIw+AYbdpugYcUgDEwiy4p9wSooCjLwDWYRDIJrCibD1XDCLc577rmX//uiLMqiLMqiLMqiLMqiLMqiLMqiLMqiLMqiLMqiLMpiTfbwGBu4jg/+LcqiLMpiDXbxCDODP04XZVEWZbEGV3DGOFEWZVEWK7qB+wbHuIMTp4uyKIuyWME2XuKswVN89X9RFmVRFivYwWWD93hlsSiLsiiLiS7iHmb4gSfGibIoi7KYYBOH5p7jnXGiLMqiLCa4jasGb/HMeFEWZVEWS7qLfYOP2MFP40VZlEVZLGETh+a+4MRyoizKoiyW8BAzc/uWF2VRFmUx0hZumXuNz5YXZVEWZTHSG5w3+IRd00RZlEVZjHQBM4MD/DJNlEVZlMUIL7Bh7sh0URZlURYLbOEmZviNA5yYLsqiLMpigXO4ZPAND6wmyqIsyqIsyqIsymKBYxxh23pEWZRFWSzwHdesT5RFWZRFWZRFWZRFWZRFWZT9BXYjLFSLepVZAAAAAElFTkSuQmCC\"></td><td style='text-align:center;vertical-align:middle; margin: 0.5em;border:1px #90999f solid;border-collapse:collapse'><img style='max-width: 100px; max-height:100px;display:inline' src=\"data:image/png;base64,iVBORw0KGgoAAAANSUhEUgAAAHAAAABwCAAAAADji6uXAAAABGdBTUEAALGPC/xhBQAAAAFzUkdCAK7OHOkAAAAgY0hSTQAAeiYAAICEAAD6AAAAgOgAAHUwAADqYAAAOpgAABdwnLpRPAAAAf5JREFUaAW9wT+I1QUAB/DPxRf7Q4PEXeDikG22STRlS1xbOHkOOTganFMQooSgNtTU0pJDosEhIogtR0uUi9AmuES1iMtFxAMJHO45/IYb5L177xd8P58oi7Ioi7Ioi7Ioi7Ioi7Ioi7Ioi7Ioi7Ioi7Ioi7Ioi7Ioi7Ioi7Ioi7JY0ns4jeM4avAZnuB93MADs0VZlEVZLGED32AVK/gZa/jaYAWrOGW2KIuyKIsFBO/iO7yGX3AZ9/EybmHd4DfzRVmURVks4BNcM/gJG5gYbGDd4DGumy/KoizKYh9XcB5TfIuLmNhzwZ5z2DFflEVZlMUcX+A8nmEbn+M/g1ewjsNYwRXctb8oi7IoixkO4lNMsY0T9ryNH3DM4Da+spgoi7IoixkOYNXgHN7EGXyMd/A6ppjiJp5aTJRFWZTFDM+wgzX8hak9TzDBIfyNexYXZVEWZTHDvziBH/EG/sBdfI9/sIVD2LKcKIuyKIs5HmDNi47jA+ziT8uJsiiLshjhVexiii3LibIoi7IYYdt4URZlURYjfGS8KIuyKIsRjhgvyqIsymKEX/ESdi0vyqIsymKEh/gdb+EIdiwuyqIsymKkL3ENV7GJRxYTZVEWZTHSHZzCh7iEM3hqf1EWZVEWI01wEldxFpfwyP6iLMqiLP6HCTaxaXFRFmVR9hxr7UyvfehgBAAAAABJRU5ErkJg\"></td></tr></tbody></table><div><small>(a vector displayed as a row to save space)</small></div>"
      ],
      "text/plain": [
       "5-element Vector{Base.ReinterpretArray{Gray{N0f8}, 2, N0f8, Matrix{N0f8}, true}}:\n",
       " [Gray{N0f8}(0.0) Gray{N0f8}(0.0) … Gray{N0f8}(0.0) Gray{N0f8}(0.0); Gray{N0f8}(0.0) Gray{N0f8}(0.0) … Gray{N0f8}(0.0) Gray{N0f8}(0.0); … ; Gray{N0f8}(0.0) Gray{N0f8}(0.0) … Gray{N0f8}(0.0) Gray{N0f8}(0.0); Gray{N0f8}(0.0) Gray{N0f8}(0.0) … Gray{N0f8}(0.0) Gray{N0f8}(0.0)]\n",
       " [Gray{N0f8}(0.0) Gray{N0f8}(0.0) … Gray{N0f8}(0.0) Gray{N0f8}(0.0); Gray{N0f8}(0.0) Gray{N0f8}(0.0) … Gray{N0f8}(0.0) Gray{N0f8}(0.0); … ; Gray{N0f8}(0.0) Gray{N0f8}(0.0) … Gray{N0f8}(0.0) Gray{N0f8}(0.0); Gray{N0f8}(0.0) Gray{N0f8}(0.0) … Gray{N0f8}(0.0) Gray{N0f8}(0.0)]\n",
       " [Gray{N0f8}(0.0) Gray{N0f8}(0.0) … Gray{N0f8}(0.0) Gray{N0f8}(0.0); Gray{N0f8}(0.0) Gray{N0f8}(0.0) … Gray{N0f8}(0.0) Gray{N0f8}(0.0); … ; Gray{N0f8}(0.0) Gray{N0f8}(0.0) … Gray{N0f8}(0.0) Gray{N0f8}(0.0); Gray{N0f8}(0.0) Gray{N0f8}(0.0) … Gray{N0f8}(0.0) Gray{N0f8}(0.0)]\n",
       " [Gray{N0f8}(0.0) Gray{N0f8}(0.0) … Gray{N0f8}(0.0) Gray{N0f8}(0.0); Gray{N0f8}(0.0) Gray{N0f8}(0.0) … Gray{N0f8}(0.0) Gray{N0f8}(0.0); … ; Gray{N0f8}(0.0) Gray{N0f8}(0.0) … Gray{N0f8}(0.0) Gray{N0f8}(0.0); Gray{N0f8}(0.0) Gray{N0f8}(0.0) … Gray{N0f8}(0.0) Gray{N0f8}(0.0)]\n",
       " [Gray{N0f8}(0.0) Gray{N0f8}(0.0) … Gray{N0f8}(0.0) Gray{N0f8}(0.0); Gray{N0f8}(0.0) Gray{N0f8}(0.0) … Gray{N0f8}(0.0) Gray{N0f8}(0.0); … ; Gray{N0f8}(0.0) Gray{N0f8}(0.0) … Gray{N0f8}(0.0) Gray{N0f8}(0.0); Gray{N0f8}(0.0) Gray{N0f8}(0.0) … Gray{N0f8}(0.0) Gray{N0f8}(0.0)]"
      ]
     },
     "metadata": {},
     "output_type": "display_data"
    },
    {
     "data": {
      "text/plain": [
       "1×5 adjoint(::Vector{Int64}) with eltype Int64:\n",
       " 5  0  4  1  9"
      ]
     },
     "execution_count": 3,
     "metadata": {},
     "output_type": "execute_result"
    }
   ],
   "source": [
    "# load mnist from MLDatasets\n",
    "trainX_original,      trainY_original      = MNIST.traindata()\n",
    "validationX_original, validationY_original = MNIST.testdata();\n",
    "\n",
    "display([MNIST.convert2image(MNIST.traintensor(i)) for i in 1:5])\n",
    "trainY_original[1:5]'"
   ]
  },
  {
   "cell_type": "code",
   "execution_count": 4,
   "id": "7f2acc6e",
   "metadata": {},
   "outputs": [
    {
     "data": {
      "text/plain": [
       "((28, 28, 42001), (28, 28, 17999), (28, 28, 10000))"
      ]
     },
     "execution_count": 4,
     "metadata": {},
     "output_type": "execute_result"
    }
   ],
   "source": [
    "# split trainset, testset, validation set\n",
    "Random.seed!(1)\n",
    "(trainX, trainY), (testX, testY) = stratifiedobs((trainX_original, trainY_original), p = 0.7)\n",
    "validationX = copy(validationX_original); validationY = copy(validationY_original)\n",
    "\n",
    "size(trainX), size(testX), size(validationX)"
   ]
  },
  {
   "cell_type": "markdown",
   "id": "b8b9c3b0",
   "metadata": {},
   "source": [
    "## Preprocessing\n",
    "\n",
    "Flux primarily works with matrices and vectors"
   ]
  },
  {
   "cell_type": "code",
   "execution_count": 5,
   "id": "f76c815d",
   "metadata": {},
   "outputs": [],
   "source": [
    "function preprocess(X, y)\n",
    "    Xs = Float32.(X) |> Flux.flatten\n",
    "    ys = Flux.onehotbatch( Float32.(y), 0:9 )\n",
    "    \n",
    "    return (Xs, ys)\n",
    "end\n",
    "\n",
    "h, v, N = size(trainX); d = h * v\n",
    "X, y = preprocess(trainX, trainY);"
   ]
  },
  {
   "cell_type": "code",
   "execution_count": 6,
   "id": "67d36968",
   "metadata": {},
   "outputs": [
    {
     "data": {
      "text/plain": [
       "(784, 42001, (784, 42001), (10, 42001))"
      ]
     },
     "execution_count": 6,
     "metadata": {},
     "output_type": "execute_result"
    }
   ],
   "source": [
    "d, N, size(X), size(y)"
   ]
  },
  {
   "cell_type": "markdown",
   "id": "67b2b3d1",
   "metadata": {},
   "source": [
    "### tanh"
   ]
  },
  {
   "cell_type": "code",
   "execution_count": 8,
   "id": "7d4b4daf",
   "metadata": {},
   "outputs": [
    {
     "data": {
      "image/svg+xml": [
       "<?xml version=\"1.0\" encoding=\"utf-8\"?>\n",
       "<svg xmlns=\"http://www.w3.org/2000/svg\" xmlns:xlink=\"http://www.w3.org/1999/xlink\" width=\"300\" height=\"200\" viewBox=\"0 0 1200 800\">\n",
       "<defs>\n",
       "  <clipPath id=\"clip360\">\n",
       "    <rect x=\"0\" y=\"0\" width=\"1200\" height=\"800\"/>\n",
       "  </clipPath>\n",
       "</defs>\n",
       "<path clip-path=\"url(#clip360)\" d=\"\n",
       "M0 800 L1200 800 L1200 0 L0 0  Z\n",
       "  \" fill=\"#ffffff\" fill-rule=\"evenodd\" fill-opacity=\"1\"/>\n",
       "<defs>\n",
       "  <clipPath id=\"clip361\">\n",
       "    <rect x=\"240\" y=\"0\" width=\"841\" height=\"800\"/>\n",
       "  </clipPath>\n",
       "</defs>\n",
       "<path clip-path=\"url(#clip360)\" d=\"\n",
       "M181.936 694.448 L1152.76 694.448 L1152.76 47.2441 L181.936 47.2441  Z\n",
       "  \" fill=\"#ffffff\" fill-rule=\"evenodd\" fill-opacity=\"1\"/>\n",
       "<defs>\n",
       "  <clipPath id=\"clip362\">\n",
       "    <rect x=\"181\" y=\"47\" width=\"972\" height=\"648\"/>\n",
       "  </clipPath>\n",
       "</defs>\n",
       "<polyline clip-path=\"url(#clip362)\" style=\"stroke:#000000; stroke-linecap:butt; stroke-linejoin:round; stroke-width:2; stroke-opacity:0.1; fill:none\" points=\"\n",
       "  300.999,694.448 300.999,47.2441 \n",
       "  \"/>\n",
       "<polyline clip-path=\"url(#clip362)\" style=\"stroke:#000000; stroke-linecap:butt; stroke-linejoin:round; stroke-width:2; stroke-opacity:0.1; fill:none\" points=\"\n",
       "  484.172,694.448 484.172,47.2441 \n",
       "  \"/>\n",
       "<polyline clip-path=\"url(#clip362)\" style=\"stroke:#000000; stroke-linecap:butt; stroke-linejoin:round; stroke-width:2; stroke-opacity:0.1; fill:none\" points=\"\n",
       "  667.346,694.448 667.346,47.2441 \n",
       "  \"/>\n",
       "<polyline clip-path=\"url(#clip362)\" style=\"stroke:#000000; stroke-linecap:butt; stroke-linejoin:round; stroke-width:2; stroke-opacity:0.1; fill:none\" points=\"\n",
       "  850.52,694.448 850.52,47.2441 \n",
       "  \"/>\n",
       "<polyline clip-path=\"url(#clip362)\" style=\"stroke:#000000; stroke-linecap:butt; stroke-linejoin:round; stroke-width:2; stroke-opacity:0.1; fill:none\" points=\"\n",
       "  1033.69,694.448 1033.69,47.2441 \n",
       "  \"/>\n",
       "<polyline clip-path=\"url(#clip360)\" style=\"stroke:#000000; stroke-linecap:butt; stroke-linejoin:round; stroke-width:4; stroke-opacity:1; fill:none\" points=\"\n",
       "  181.936,694.448 1152.76,694.448 \n",
       "  \"/>\n",
       "<polyline clip-path=\"url(#clip360)\" style=\"stroke:#000000; stroke-linecap:butt; stroke-linejoin:round; stroke-width:4; stroke-opacity:1; fill:none\" points=\"\n",
       "  300.999,694.448 300.999,675.55 \n",
       "  \"/>\n",
       "<polyline clip-path=\"url(#clip360)\" style=\"stroke:#000000; stroke-linecap:butt; stroke-linejoin:round; stroke-width:4; stroke-opacity:1; fill:none\" points=\"\n",
       "  484.172,694.448 484.172,675.55 \n",
       "  \"/>\n",
       "<polyline clip-path=\"url(#clip360)\" style=\"stroke:#000000; stroke-linecap:butt; stroke-linejoin:round; stroke-width:4; stroke-opacity:1; fill:none\" points=\"\n",
       "  667.346,694.448 667.346,675.55 \n",
       "  \"/>\n",
       "<polyline clip-path=\"url(#clip360)\" style=\"stroke:#000000; stroke-linecap:butt; stroke-linejoin:round; stroke-width:4; stroke-opacity:1; fill:none\" points=\"\n",
       "  850.52,694.448 850.52,675.55 \n",
       "  \"/>\n",
       "<polyline clip-path=\"url(#clip360)\" style=\"stroke:#000000; stroke-linecap:butt; stroke-linejoin:round; stroke-width:4; stroke-opacity:1; fill:none\" points=\"\n",
       "  1033.69,694.448 1033.69,675.55 \n",
       "  \"/>\n",
       "<path clip-path=\"url(#clip360)\" d=\"M269.899 730.419 L299.575 730.419 L299.575 734.354 L269.899 734.354 L269.899 730.419 Z\" fill=\"#000000\" fill-rule=\"evenodd\" fill-opacity=\"1\" /><path clip-path=\"url(#clip360)\" d=\"M322.515 716.762 L310.709 735.211 L322.515 735.211 L322.515 716.762 M321.288 712.688 L327.168 712.688 L327.168 735.211 L332.098 735.211 L332.098 739.1 L327.168 739.1 L327.168 747.248 L322.515 747.248 L322.515 739.1 L306.913 739.1 L306.913 734.586 L321.288 712.688 Z\" fill=\"#000000\" fill-rule=\"evenodd\" fill-opacity=\"1\" /><path clip-path=\"url(#clip360)\" d=\"M454.115 730.419 L483.79 730.419 L483.79 734.354 L454.115 734.354 L454.115 730.419 Z\" fill=\"#000000\" fill-rule=\"evenodd\" fill-opacity=\"1\" /><path clip-path=\"url(#clip360)\" d=\"M497.911 743.313 L514.23 743.313 L514.23 747.248 L492.286 747.248 L492.286 743.313 Q494.948 740.558 499.531 735.928 Q504.138 731.276 505.318 729.933 Q507.563 727.41 508.443 725.674 Q509.346 723.915 509.346 722.225 Q509.346 719.47 507.401 717.734 Q505.48 715.998 502.378 715.998 Q500.179 715.998 497.726 716.762 Q495.295 717.526 492.517 719.077 L492.517 714.355 Q495.341 713.22 497.795 712.642 Q500.249 712.063 502.286 712.063 Q507.656 712.063 510.85 714.748 Q514.045 717.433 514.045 721.924 Q514.045 724.054 513.235 725.975 Q512.448 727.873 510.341 730.466 Q509.763 731.137 506.661 734.354 Q503.559 737.549 497.911 743.313 Z\" fill=\"#000000\" fill-rule=\"evenodd\" fill-opacity=\"1\" /><path clip-path=\"url(#clip360)\" d=\"M667.346 715.767 Q663.735 715.767 661.906 719.331 Q660.101 722.873 660.101 730.003 Q660.101 737.109 661.906 740.674 Q663.735 744.215 667.346 744.215 Q670.98 744.215 672.786 740.674 Q674.614 737.109 674.614 730.003 Q674.614 722.873 672.786 719.331 Q670.98 715.767 667.346 715.767 M667.346 712.063 Q673.156 712.063 676.212 716.669 Q679.29 721.253 679.29 730.003 Q679.29 738.729 676.212 743.336 Q673.156 747.919 667.346 747.919 Q661.536 747.919 658.457 743.336 Q655.402 738.729 655.402 730.003 Q655.402 721.253 658.457 716.669 Q661.536 712.063 667.346 712.063 Z\" fill=\"#000000\" fill-rule=\"evenodd\" fill-opacity=\"1\" /><path clip-path=\"url(#clip360)\" d=\"M845.172 743.313 L861.492 743.313 L861.492 747.248 L839.547 747.248 L839.547 743.313 Q842.209 740.558 846.793 735.928 Q851.399 731.276 852.58 729.933 Q854.825 727.41 855.705 725.674 Q856.607 723.915 856.607 722.225 Q856.607 719.47 854.663 717.734 Q852.742 715.998 849.64 715.998 Q847.441 715.998 844.987 716.762 Q842.557 717.526 839.779 719.077 L839.779 714.355 Q842.603 713.22 845.057 712.642 Q847.51 712.063 849.547 712.063 Q854.918 712.063 858.112 714.748 Q861.306 717.433 861.306 721.924 Q861.306 724.054 860.496 725.975 Q859.709 727.873 857.603 730.466 Q857.024 731.137 853.922 734.354 Q850.82 737.549 845.172 743.313 Z\" fill=\"#000000\" fill-rule=\"evenodd\" fill-opacity=\"1\" /><path clip-path=\"url(#clip360)\" d=\"M1036.7 716.762 L1024.9 735.211 L1036.7 735.211 L1036.7 716.762 M1035.48 712.688 L1041.36 712.688 L1041.36 735.211 L1046.29 735.211 L1046.29 739.1 L1041.36 739.1 L1041.36 747.248 L1036.7 747.248 L1036.7 739.1 L1021.1 739.1 L1021.1 734.586 L1035.48 712.688 Z\" fill=\"#000000\" fill-rule=\"evenodd\" fill-opacity=\"1\" /><polyline clip-path=\"url(#clip362)\" style=\"stroke:#000000; stroke-linecap:butt; stroke-linejoin:round; stroke-width:2; stroke-opacity:0.1; fill:none\" points=\"\n",
       "  181.936,676.159 1152.76,676.159 \n",
       "  \"/>\n",
       "<polyline clip-path=\"url(#clip362)\" style=\"stroke:#000000; stroke-linecap:butt; stroke-linejoin:round; stroke-width:2; stroke-opacity:0.1; fill:none\" points=\"\n",
       "  181.936,523.502 1152.76,523.502 \n",
       "  \"/>\n",
       "<polyline clip-path=\"url(#clip362)\" style=\"stroke:#000000; stroke-linecap:butt; stroke-linejoin:round; stroke-width:2; stroke-opacity:0.1; fill:none\" points=\"\n",
       "  181.936,370.846 1152.76,370.846 \n",
       "  \"/>\n",
       "<polyline clip-path=\"url(#clip362)\" style=\"stroke:#000000; stroke-linecap:butt; stroke-linejoin:round; stroke-width:2; stroke-opacity:0.1; fill:none\" points=\"\n",
       "  181.936,218.19 1152.76,218.19 \n",
       "  \"/>\n",
       "<polyline clip-path=\"url(#clip362)\" style=\"stroke:#000000; stroke-linecap:butt; stroke-linejoin:round; stroke-width:2; stroke-opacity:0.1; fill:none\" points=\"\n",
       "  181.936,65.5335 1152.76,65.5335 \n",
       "  \"/>\n",
       "<polyline clip-path=\"url(#clip360)\" style=\"stroke:#000000; stroke-linecap:butt; stroke-linejoin:round; stroke-width:4; stroke-opacity:1; fill:none\" points=\"\n",
       "  181.936,694.448 181.936,47.2441 \n",
       "  \"/>\n",
       "<polyline clip-path=\"url(#clip360)\" style=\"stroke:#000000; stroke-linecap:butt; stroke-linejoin:round; stroke-width:4; stroke-opacity:1; fill:none\" points=\"\n",
       "  181.936,676.159 200.834,676.159 \n",
       "  \"/>\n",
       "<polyline clip-path=\"url(#clip360)\" style=\"stroke:#000000; stroke-linecap:butt; stroke-linejoin:round; stroke-width:4; stroke-opacity:1; fill:none\" points=\"\n",
       "  181.936,523.502 200.834,523.502 \n",
       "  \"/>\n",
       "<polyline clip-path=\"url(#clip360)\" style=\"stroke:#000000; stroke-linecap:butt; stroke-linejoin:round; stroke-width:4; stroke-opacity:1; fill:none\" points=\"\n",
       "  181.936,370.846 200.834,370.846 \n",
       "  \"/>\n",
       "<polyline clip-path=\"url(#clip360)\" style=\"stroke:#000000; stroke-linecap:butt; stroke-linejoin:round; stroke-width:4; stroke-opacity:1; fill:none\" points=\"\n",
       "  181.936,218.19 200.834,218.19 \n",
       "  \"/>\n",
       "<polyline clip-path=\"url(#clip360)\" style=\"stroke:#000000; stroke-linecap:butt; stroke-linejoin:round; stroke-width:4; stroke-opacity:1; fill:none\" points=\"\n",
       "  181.936,65.5335 200.834,65.5335 \n",
       "  \"/>\n",
       "<path clip-path=\"url(#clip360)\" d=\"M56.9921 676.61 L86.6679 676.61 L86.6679 680.545 L56.9921 680.545 L56.9921 676.61 Z\" fill=\"#000000\" fill-rule=\"evenodd\" fill-opacity=\"1\" /><path clip-path=\"url(#clip360)\" d=\"M97.5706 689.503 L105.209 689.503 L105.209 663.138 L96.8993 664.804 L96.8993 660.545 L105.163 658.879 L109.839 658.879 L109.839 689.503 L117.478 689.503 L117.478 693.439 L97.5706 693.439 L97.5706 689.503 Z\" fill=\"#000000\" fill-rule=\"evenodd\" fill-opacity=\"1\" /><path clip-path=\"url(#clip360)\" d=\"M126.922 687.559 L131.807 687.559 L131.807 693.439 L126.922 693.439 L126.922 687.559 Z\" fill=\"#000000\" fill-rule=\"evenodd\" fill-opacity=\"1\" /><path clip-path=\"url(#clip360)\" d=\"M151.992 661.957 Q148.381 661.957 146.552 665.522 Q144.746 669.064 144.746 676.193 Q144.746 683.3 146.552 686.864 Q148.381 690.406 151.992 690.406 Q155.626 690.406 157.431 686.864 Q159.26 683.3 159.26 676.193 Q159.26 669.064 157.431 665.522 Q155.626 661.957 151.992 661.957 M151.992 658.254 Q157.802 658.254 160.857 662.86 Q163.936 667.443 163.936 676.193 Q163.936 684.92 160.857 689.526 Q157.802 694.11 151.992 694.11 Q146.181 694.11 143.103 689.526 Q140.047 684.92 140.047 676.193 Q140.047 667.443 143.103 662.86 Q146.181 658.254 151.992 658.254 Z\" fill=\"#000000\" fill-rule=\"evenodd\" fill-opacity=\"1\" /><path clip-path=\"url(#clip360)\" d=\"M57.9875 523.954 L87.6633 523.954 L87.6633 527.889 L57.9875 527.889 L57.9875 523.954 Z\" fill=\"#000000\" fill-rule=\"evenodd\" fill-opacity=\"1\" /><path clip-path=\"url(#clip360)\" d=\"M107.756 509.301 Q104.145 509.301 102.316 512.866 Q100.51 516.407 100.51 523.537 Q100.51 530.643 102.316 534.208 Q104.145 537.75 107.756 537.75 Q111.39 537.75 113.196 534.208 Q115.024 530.643 115.024 523.537 Q115.024 516.407 113.196 512.866 Q111.39 509.301 107.756 509.301 M107.756 505.597 Q113.566 505.597 116.621 510.204 Q119.7 514.787 119.7 523.537 Q119.7 532.264 116.621 536.87 Q113.566 541.454 107.756 541.454 Q101.946 541.454 98.8669 536.87 Q95.8114 532.264 95.8114 523.537 Q95.8114 514.787 98.8669 510.204 Q101.946 505.597 107.756 505.597 Z\" fill=\"#000000\" fill-rule=\"evenodd\" fill-opacity=\"1\" /><path clip-path=\"url(#clip360)\" d=\"M127.918 534.903 L132.802 534.903 L132.802 540.782 L127.918 540.782 L127.918 534.903 Z\" fill=\"#000000\" fill-rule=\"evenodd\" fill-opacity=\"1\" /><path clip-path=\"url(#clip360)\" d=\"M143.033 506.222 L161.39 506.222 L161.39 510.157 L147.316 510.157 L147.316 518.63 Q148.334 518.282 149.353 518.12 Q150.371 517.935 151.39 517.935 Q157.177 517.935 160.556 521.106 Q163.936 524.278 163.936 529.694 Q163.936 535.273 160.464 538.375 Q156.992 541.454 150.672 541.454 Q148.496 541.454 146.228 541.083 Q143.982 540.713 141.575 539.972 L141.575 535.273 Q143.658 536.407 145.881 536.963 Q148.103 537.518 150.58 537.518 Q154.584 537.518 156.922 535.412 Q159.26 533.305 159.26 529.694 Q159.26 526.083 156.922 523.977 Q154.584 521.87 150.58 521.87 Q148.705 521.87 146.83 522.287 Q144.978 522.704 143.033 523.583 L143.033 506.222 Z\" fill=\"#000000\" fill-rule=\"evenodd\" fill-opacity=\"1\" /><path clip-path=\"url(#clip360)\" d=\"M106.76 356.645 Q103.149 356.645 101.321 360.209 Q99.515 363.751 99.515 370.881 Q99.515 377.987 101.321 381.552 Q103.149 385.094 106.76 385.094 Q110.395 385.094 112.2 381.552 Q114.029 377.987 114.029 370.881 Q114.029 363.751 112.2 360.209 Q110.395 356.645 106.76 356.645 M106.76 352.941 Q112.571 352.941 115.626 357.547 Q118.705 362.131 118.705 370.881 Q118.705 379.608 115.626 384.214 Q112.571 388.797 106.76 388.797 Q100.95 388.797 97.8715 384.214 Q94.816 379.608 94.816 370.881 Q94.816 362.131 97.8715 357.547 Q100.95 352.941 106.76 352.941 Z\" fill=\"#000000\" fill-rule=\"evenodd\" fill-opacity=\"1\" /><path clip-path=\"url(#clip360)\" d=\"M126.922 382.246 L131.807 382.246 L131.807 388.126 L126.922 388.126 L126.922 382.246 Z\" fill=\"#000000\" fill-rule=\"evenodd\" fill-opacity=\"1\" /><path clip-path=\"url(#clip360)\" d=\"M151.992 356.645 Q148.381 356.645 146.552 360.209 Q144.746 363.751 144.746 370.881 Q144.746 377.987 146.552 381.552 Q148.381 385.094 151.992 385.094 Q155.626 385.094 157.431 381.552 Q159.26 377.987 159.26 370.881 Q159.26 363.751 157.431 360.209 Q155.626 356.645 151.992 356.645 M151.992 352.941 Q157.802 352.941 160.857 357.547 Q163.936 362.131 163.936 370.881 Q163.936 379.608 160.857 384.214 Q157.802 388.797 151.992 388.797 Q146.181 388.797 143.103 384.214 Q140.047 379.608 140.047 370.881 Q140.047 362.131 143.103 357.547 Q146.181 352.941 151.992 352.941 Z\" fill=\"#000000\" fill-rule=\"evenodd\" fill-opacity=\"1\" /><path clip-path=\"url(#clip360)\" d=\"M107.756 203.988 Q104.145 203.988 102.316 207.553 Q100.51 211.095 100.51 218.224 Q100.51 225.331 102.316 228.896 Q104.145 232.437 107.756 232.437 Q111.39 232.437 113.196 228.896 Q115.024 225.331 115.024 218.224 Q115.024 211.095 113.196 207.553 Q111.39 203.988 107.756 203.988 M107.756 200.285 Q113.566 200.285 116.621 204.891 Q119.7 209.474 119.7 218.224 Q119.7 226.951 116.621 231.558 Q113.566 236.141 107.756 236.141 Q101.946 236.141 98.8669 231.558 Q95.8114 226.951 95.8114 218.224 Q95.8114 209.474 98.8669 204.891 Q101.946 200.285 107.756 200.285 Z\" fill=\"#000000\" fill-rule=\"evenodd\" fill-opacity=\"1\" /><path clip-path=\"url(#clip360)\" d=\"M127.918 229.59 L132.802 229.59 L132.802 235.47 L127.918 235.47 L127.918 229.59 Z\" fill=\"#000000\" fill-rule=\"evenodd\" fill-opacity=\"1\" /><path clip-path=\"url(#clip360)\" d=\"M143.033 200.91 L161.39 200.91 L161.39 204.845 L147.316 204.845 L147.316 213.317 Q148.334 212.97 149.353 212.808 Q150.371 212.623 151.39 212.623 Q157.177 212.623 160.556 215.794 Q163.936 218.965 163.936 224.382 Q163.936 229.96 160.464 233.062 Q156.992 236.141 150.672 236.141 Q148.496 236.141 146.228 235.771 Q143.982 235.4 141.575 234.66 L141.575 229.96 Q143.658 231.095 145.881 231.65 Q148.103 232.206 150.58 232.206 Q154.584 232.206 156.922 230.099 Q159.26 227.993 159.26 224.382 Q159.26 220.771 156.922 218.664 Q154.584 216.558 150.58 216.558 Q148.705 216.558 146.83 216.974 Q144.978 217.391 143.033 218.271 L143.033 200.91 Z\" fill=\"#000000\" fill-rule=\"evenodd\" fill-opacity=\"1\" /><path clip-path=\"url(#clip360)\" d=\"M97.5706 78.8783 L105.209 78.8783 L105.209 52.5127 L96.8993 54.1794 L96.8993 49.9201 L105.163 48.2535 L109.839 48.2535 L109.839 78.8783 L117.478 78.8783 L117.478 82.8135 L97.5706 82.8135 L97.5706 78.8783 Z\" fill=\"#000000\" fill-rule=\"evenodd\" fill-opacity=\"1\" /><path clip-path=\"url(#clip360)\" d=\"M126.922 76.9339 L131.807 76.9339 L131.807 82.8135 L126.922 82.8135 L126.922 76.9339 Z\" fill=\"#000000\" fill-rule=\"evenodd\" fill-opacity=\"1\" /><path clip-path=\"url(#clip360)\" d=\"M151.992 51.3321 Q148.381 51.3321 146.552 54.8969 Q144.746 58.4386 144.746 65.5682 Q144.746 72.6746 146.552 76.2394 Q148.381 79.7811 151.992 79.7811 Q155.626 79.7811 157.431 76.2394 Q159.26 72.6746 159.26 65.5682 Q159.26 58.4386 157.431 54.8969 Q155.626 51.3321 151.992 51.3321 M151.992 47.6285 Q157.802 47.6285 160.857 52.2349 Q163.936 56.8182 163.936 65.5682 Q163.936 74.295 160.857 78.9014 Q157.802 83.4848 151.992 83.4848 Q146.181 83.4848 143.103 78.9014 Q140.047 74.295 140.047 65.5682 Q140.047 56.8182 143.103 52.2349 Q146.181 47.6285 151.992 47.6285 Z\" fill=\"#000000\" fill-rule=\"evenodd\" fill-opacity=\"1\" /><polyline clip-path=\"url(#clip362)\" style=\"stroke:#009af9; stroke-linecap:butt; stroke-linejoin:round; stroke-width:8; stroke-opacity:1; fill:none\" points=\"\n",
       "  209.412,676.131 300.999,675.954 392.586,674.649 484.172,665.176 575.759,603.37 667.346,370.846 758.933,138.322 850.52,76.5163 942.106,67.0433 1033.69,65.7382 \n",
       "  1125.28,65.5612 \n",
       "  \"/>\n",
       "</svg>\n"
      ]
     },
     "execution_count": 8,
     "metadata": {},
     "output_type": "execute_result"
    }
   ],
   "source": [
    "plot(-5:5, tanh.(-5:5), size=(300,200), linewidth=2, legend=false)\n"
   ]
  },
  {
   "cell_type": "markdown",
   "id": "b9f2d81e",
   "metadata": {},
   "source": [
    "### Model"
   ]
  },
  {
   "cell_type": "markdown",
   "id": "93a518e1",
   "metadata": {},
   "source": [
    "Stochastic Gradient Descent(SGD) means batchsize=1\n",
    "\n",
    "The error on every and each data line is computed and weights are recalculated towards the negative of the gradient.\n",
    "\n",
    "For this reason, calculation remains on CPU."
   ]
  },
  {
   "cell_type": "code",
   "execution_count": 21,
   "id": "eb1374e8",
   "metadata": {},
   "outputs": [],
   "source": [
    "# model configuration\n",
    "nInputs  = d\n",
    "nOutputs = 10\n",
    "model = Chain( Flux.Dense(nInputs, nOutputs, tanh), softmax )\n",
    "\n",
    "losses(X, y)    = Flux.crossentropy( model(X), y )\n",
    "modelParameters = Flux.params(model)\n",
    "dataLoader      = Flux.DataLoader((X, y), batchsize=1)             # default batchsize=1\n",
    "callBack        = Flux.throttle(() -> println(\"training\"), 10);    # print every 10s\n"
   ]
  },
  {
   "cell_type": "markdown",
   "id": "ea26fddb",
   "metadata": {},
   "source": [
    "### Train"
   ]
  },
  {
   "cell_type": "code",
   "execution_count": 22,
   "id": "57d65169",
   "metadata": {},
   "outputs": [
    {
     "name": "stdout",
     "output_type": "stream",
     "text": [
      "  3.365817 seconds (8.72 M allocations: 2.073 GiB, 4.31% gc time, 2.33% compilation time)\n"
     ]
    }
   ],
   "source": [
    "# Flux.train!(loss, params, data, opt; cb)\n",
    "@time Flux.train!(losses, modelParameters, dataLoader, Flux.Descent())   # single epoch\n",
    "\n",
    "# cpu time (batchsize=1): 3-4s"
   ]
  },
  {
   "cell_type": "raw",
   "id": "1107ddc1",
   "metadata": {},
   "source": [
    "Flux.@epochs 10 Flux.train!(losses, modelParameters, dataLoader, Descent(); cb=callBack);   # multiple epochs"
   ]
  },
  {
   "cell_type": "code",
   "execution_count": 23,
   "id": "70b05650",
   "metadata": {},
   "outputs": [
    {
     "name": "stdout",
     "output_type": "stream",
     "text": [
      "training\n",
      "training\n",
      "training\n",
      "training\n",
      " 34.135957 seconds (85.54 M allocations: 20.656 GiB, 3.75% gc time, 0.59% compilation time)\n"
     ]
    }
   ],
   "source": [
    "# preferred for multiple epochs\n",
    "epochs = 10\n",
    "@time for i in 1:epochs Flux.train!(losses, modelParameters, dataLoader, Flux.Descent(); cb=callBack) end"
   ]
  },
  {
   "cell_type": "markdown",
   "id": "abef050c",
   "metadata": {},
   "source": [
    "### Predict"
   ]
  },
  {
   "cell_type": "code",
   "execution_count": 24,
   "id": "48f2e3c8",
   "metadata": {},
   "outputs": [
    {
     "data": {
      "text/plain": [
       "predictOutcome (generic function with 1 method)"
      ]
     },
     "execution_count": 24,
     "metadata": {},
     "output_type": "execute_result"
    }
   ],
   "source": [
    "function predictOutcome(X)\n",
    "    ŷ = Flux.onecold( model(X), [0:9;] )\n",
    "end\n"
   ]
  },
  {
   "cell_type": "code",
   "execution_count": 25,
   "id": "20abc856",
   "metadata": {},
   "outputs": [
    {
     "data": {
      "text/html": [
       "<table><tbody><tr><td style='text-align:center;vertical-align:middle; margin: 0.5em;border:1px #90999f solid;border-collapse:collapse'><img style='max-width: 100px; max-height:100px;display:inline' src=\"data:image/png;base64,iVBORw0KGgoAAAANSUhEUgAAAHAAAABwCAAAAADji6uXAAAABGdBTUEAALGPC/xhBQAAAAFzUkdCAK7OHOkAAAAgY0hSTQAAeiYAAICEAAD6AAAAgOgAAHUwAADqYAAAOpgAABdwnLpRPAAAAmhJREFUaAW9wT2I1gUAB+Cn+FGTRdiSg7p4Dn1o9CVEGbgZnSBlRmUQOTRES4LR0hbRVA5NDYmRBzYYXghOB4FBUDcFEYnUkRA5iOAQdG/Df3g57nzf14Lf80RZlEVZlEVZlEVZlEVZlEVZlEVZlEVZlEVZlEVZlMX/sBePYIS3sA1n8S1+xqL1oizKoixuwRxexRGDu7EJI4MR5nEAN/ADXsaKsSiLsiiLGW3HeWy13lVcwAmDL7EVT2IPzhiLsiiLspjiTryDV7ANI4Nf8Z7BCr4zdgIf2ViURVmUxQS7cQwvGlvGKSziFxubd3NRFmVRFhPM4bCxgzjr5jbhazyDVRuLsiiLsphghJGxs25uM07iKaziNyxg0VpRFmVRFrdgOy5bawvm8SbuN7aA49aLsiiLspjgIr7HYwbnsR+XsBmH8QYeNPgHf+AYFm0syqIsymKCFRzEOezCDpzDN3gWO3AbRriMD/CZyaIsyqIspriCfbiAR7ETO439iE9w0myiLMqiLGbwN65gFSNjy9iHa2YXZVEWZTGD97HfevfgmlsTZVEWZTHF4zhkcB2f4yjuwDYs4F1cMpsoi7Ioiwl24yvcZ3AAS7iIY9iF57GKl8wmyqIsymKCOWwxtmRwGvfiY9yOQ1jGh6aLsiiLspjgd/yFzQYvGFzFp3gARzHCa/gCKyaLsiiLspjgIt7GKYPTGOE6fsJWY3PYgzMmi7Ioi7KY4gIW8TTuMtiEJ6z1J26YLsqiLMpiiqs4gL14GA/hiLWW8RyumC7KoizKYkZLWDJ43X8XZVEWZVEWZVEWZVEWZVEWZf8CyMxqntkOSq8AAAAASUVORK5C\"></td><td style='text-align:center;vertical-align:middle; margin: 0.5em;border:1px #90999f solid;border-collapse:collapse'><img style='max-width: 100px; max-height:100px;display:inline' src=\"data:image/png;base64,iVBORw0KGgoAAAANSUhEUgAAAHAAAABwCAAAAADji6uXAAAABGdBTUEAALGPC/xhBQAAAAFzUkdCAK7OHOkAAAAgY0hSTQAAeiYAAICEAAD6AAAAgOgAAHUwAADqYAAAOpgAABdwnLpRPAAAAj5JREFUaAW9weFNW2cYBtBzr54xcMbAdsUWxECmwELqFBWQMUhL2CJgs0av1/huf/ADYYMpEXrPiWJRLIpFsSgWxaJYFItiUSyKRbEoFsWiWBSL3zTBDH+joUdDhxFrnGDwUhSLYlEsfsMFjnGIhuZJQ4+GKaYYvBTFolgUiw+Y4xdGdBjRYY0NRnSYYYLOrigWxaJYfMA5RjT0uMQjVhg8u8EBlrj1UhSLYlEsPqBDhzXucGXXAgt0+G5XFItiUSw+4Br/YIXB2xp6jHZFsSgWxeIDVvab4wdGdOjsimJRLIrFJzrHiIYeo11RLIpFsXjHBDNPHjB43QILdOjxJ37aFcWiWBSLPS5wjEP0eMAG11h5doFjNPS4xJXXRbEoFsXiFXN8xRId7rHBDH/gK47wgAmOMceIDe68LYpFsSgWrzjHAg1rnGHADQ7QcINTXOIQIxrusfK2KBbFolhsucQCHdY48uwMXzDFBL/QYUSHb7i1XxSLYlEstizR0OParhPcYI6GHg3fsPK+KBbFolhs6T25xU+75ujQoUeH79hg8L4oFsWiWGxpaBjtusBfaBjR0GOJEzzgzH5RLIpFsdiyxhQn+BePWGKOER16bHCPL5higgN0OPW2KBbFolhsOcEN5liiR8OIhh6XuMMKB5iiw4iN/aJYFItisWXAEX5ghgnW2GDEI648GzD4/6JYFIti8YZTzHCAFQafI4pFsSgWe6x8vigWxaJYFItiUSyKRbEoFsWiWBSLYlEsiv0Hkrx6lKe+nYMAAAAASUVORK5C\"></td><td style='text-align:center;vertical-align:middle; margin: 0.5em;border:1px #90999f solid;border-collapse:collapse'><img style='max-width: 100px; max-height:100px;display:inline' src=\"data:image/png;base64,iVBORw0KGgoAAAANSUhEUgAAAHAAAABwCAAAAADji6uXAAAABGdBTUEAALGPC/xhBQAAAAFzUkdCAK7OHOkAAAAgY0hSTQAAeiYAAICEAAD6AAAAgOgAAHUwAADqYAAAOpgAABdwnLpRPAAAAi5JREFUaAW9wT/I5wMAB+DnXp9s3iumq5NB15XBezmDK6EuUcKibnKL/CnEQAqHO06R9FqkG2RgUhbddDmL9cVssCnL1b1dhtfw+xre4duv398XfZ4nyqIsyqIsyqIsyqIsyqIsyqIs/oOTuILreBS/WS3KoizK4l96B69iE5v4FltWi7Ioi7I4oFtwP57FYQz2bVpPlEVZlMUBfYTnTNvDJeuJsiiLsjiAE3jcrPP42HqiLMqiLNZ0Eldw2GgDR/GH9UVZlEVZrOklbGIwehF/Opgoi7IoizW8grMYjD7D57gND+Nl+17DDv42X5RFWZTFCnfiBaM9fIKvcTu+wCNGP+EiLmLPrCiLsiiLFT7EMaOf8S6exHcYzHoTN+Ets6IsyqIsljiFp+zbwASf4j2cwwYmpm1gggfNF2VRFmWxxBYG+yb4CudwNwZMMOAarmILxzFgMF+URVmUxRJPm/YQ7jBtB+fxA77EcctFWZRFWSxwCseMLuM+077B85jgbZwx2jVflEVZlMUCR3Gr0RHcbNpZnMDrOGP0Pi6ZL8qiLMpigUM4ZHQvJqYNmJj2C7axa74oi7IoiwUGDEYTDKZNMBj9itPYtViURVmUxQJXcRmPWe0G3sD32LVclEVZlMUC13AB9+CIWdfxFy7gd/xoPVEWZVEWS+zgLjyDB/CE0QfYdnBRFmVRFivcwDa2/T+iLMqiLMqiLMqiLMqiLMqiLMqiLMqiLMqiLMqi7B+dVFrhvX7+SwAAAABJRU5ErkJg\"></td><td style='text-align:center;vertical-align:middle; margin: 0.5em;border:1px #90999f solid;border-collapse:collapse'><img style='max-width: 100px; max-height:100px;display:inline' src=\"data:image/png;base64,iVBORw0KGgoAAAANSUhEUgAAAHAAAABwCAAAAADji6uXAAAABGdBTUEAALGPC/xhBQAAAAFzUkdCAK7OHOkAAAAgY0hSTQAAeiYAAICEAAD6AAAAgOgAAHUwAADqYAAAOpgAABdwnLpRPAAAAlFJREFUaAW9wU2IJgIABuCnvLYtyh44KFqlPW2TNgcHJYbauYhS2mnKZnMhP+3BjtoNWZZwoLXaUXtQe5yLn5ScuCj52RywhZKYix0HdsMM4/Adppmdb+Zrhvd5oizKoizKoizKoizKoizKoizKYot24hTG8QX24hfDRVmURVlswT04hl0G9uBFHDBclEVZlMUmTeEUtuFvLGA7xhAsWluURVmUxSZci2exDd/hfvyOz3EjLsWitUVZlEVZbMLz2InXMY3zOGngDBYMF2VRFmWxCY/iJXyFBdyCA/gHs1g0XJRFWZTFJsxj3rK7EZzDMeuLsiiLstiicTxi4BUbi7Ioi7LYgitwBJfgM7xsY1EWZVEWW/A4bsWPmMSfNhZlURZlMYJdOGzZB7gZD2IJ7+Nbo4myKIuyWMflOIr92GHZfQaWcALTRhdlURZlMUTwEB7DEr7Gh9iHHZZ9igtGF2VRFmUxxFM4bOBL7MHtmLLSEVyNF4wmyqIsymIN+zBt4C3sx104jcswj+fwMK7H0xjDIfxkfVEWZVEWa7gXwUkcxAM4buAjHMInOIvXcB0mcQdO4wzexa8uFmVRFmWxyg2YwFkcxQSOGziHScwZeA+3YQKv4iocNDCPMcxZKcqiLMpilSuxHYt4A3sNfIOb8JuVfsAM3sGdGMc1eAZzLhZlURZlscrH+B67sRt/4W1M4bzhfsYMZqwvyqIsymKVC3gCJ/AHnsSb/jtRFmVRFmuYxaz/R5RFWZRFWZRFWZRFWZRFWZRFWZRFWZRFWZRFWZT9C/25ZHSSJdyjAAAAAElFTkSuQmCC\"></td><td style='text-align:center;vertical-align:middle; margin: 0.5em;border:1px #90999f solid;border-collapse:collapse'><img style='max-width: 100px; max-height:100px;display:inline' src=\"data:image/png;base64,iVBORw0KGgoAAAANSUhEUgAAAHAAAABwCAAAAADji6uXAAAABGdBTUEAALGPC/xhBQAAAAFzUkdCAK7OHOkAAAAgY0hSTQAAeiYAAICEAAD6AAAAgOgAAHUwAADqYAAAOpgAABdwnLpRPAAAAblJREFUaAW9waGPjgEAB+AHP3MCM4F6JMF2SbtEQNFsik0xbEYQzE4gMoLAFNEEhWAkNn8AoqBJZpjCME544+187/ed/Z4nyqIsyqIsyqIsyqIsyqIsyqIsyqIsyqIsyqIsyqIsyqIsyqIsRtqGo9iORazDMg5iIz5gF777tyiLsiiLEebwAgtW+ohN2IH9eOLfoizKoixGWMICvuEivuCJwS88wyJ2mizKoizKYoLjWDK4gttW985kURZlURYTLBlcwC0rbcU+g5cmi7Ioi7KY4CpO4B7+WOks5rBsnCiLsiiLCR7ggdUtYhmPjBNlURZlsQZ7ccDgunGiLMqiLNbgNDbiDV4bJ8qiLMpiRntwzOAmfhgnyqIsymJGJ7Adr/DUeFEWZVEWM9iDMwaX8dl4URZlURZT2oDz2ILneG46URZlURZTOoJTWIe7+Gk6URZlURZT2IwbBm/xwvSiLMqiLKZwH7vxHXfxyfSiLMqiLEaax2Es4yFumU2URVmUxQjrcQeb8B7nzC7KoizKYoRLOITfuIavZhdlURZlMcJJg8e4Y22iLMqiLEaY9/9EWZRFWZRFWZRF2V8iITczoEb4oAAAAABJRU5ErkJg\"></td><td style='text-align:center;vertical-align:middle; margin: 0.5em;border:1px #90999f solid;border-collapse:collapse'><img style='max-width: 100px; max-height:100px;display:inline' src=\"data:image/png;base64,iVBORw0KGgoAAAANSUhEUgAAAHAAAABwCAAAAADji6uXAAAABGdBTUEAALGPC/xhBQAAAAFzUkdCAK7OHOkAAAAgY0hSTQAAeiYAAICEAAD6AAAAgOgAAHUwAADqYAAAOpgAABdwnLpRPAAAAVhJREFUaAW9wbHO33MAxtHzyocBiaGRGDrpFVgMZmnCNbgGi8VaO9fQBqOIGLpYLFyCRDqYNXaTGHoD/+/vTZ5zMpaxjGUsYxnLWMYylrGMZSxjGctYxjKWsYxlLAfewgu8wId4jF+dyVjGMpYbfYBf8A7exR2+x0NnMpaxjOVG7+ElXuIR7lyTsYxlLDd6jude+ROP8Doe4B+3y1jGMpYLvsIzPMC3+NTtMpaxjOWC7/AMv+F9ZzKWsYzlHj7Cz85kLGMZyz395EzGMpaxjGUsYxnLWMYylrFc9Br+wlNnMpaxjOWCx/gPXzuXsYxlLBd87LqMZSxjOfQJPnddxjKWsRx6E3deeehcxjKWsRz6Af/ibXyGL53JWMYylnv4w7mMZSxjuYe/nctYxjKWi37HG85lLGMZywXf4Av86FzGMpaxXPAET1yTsYxlLGMZy1jGMpaxjGXsfwGZHj6g8Cd1AAAAAElFTkSuQmCC\"></td><td style='text-align:center;vertical-align:middle; margin: 0.5em;border:1px #90999f solid;border-collapse:collapse'><img style='max-width: 100px; max-height:100px;display:inline' src=\"data:image/png;base64,iVBORw0KGgoAAAANSUhEUgAAAHAAAABwCAAAAADji6uXAAAABGdBTUEAALGPC/xhBQAAAAFzUkdCAK7OHOkAAAAgY0hSTQAAeiYAAICEAAD6AAAAgOgAAHUwAADqYAAAOpgAABdwnLpRPAAAATVJREFUaAW9wTHOJlIAhtHzy5NIVBIFC6BWTGyCBZjeeljHLMAK9EyiHBUFteh9itmAe7/kPSdjGctYxjKWsYxlLGMZy1jGMpaxjGUsYxnLWMZy6SP8hu/xg/8vYxnLWC59g0/xcCZjGctYLn3rTsYylrFceIWv3clYxjKWC5/gQ++9OJOxjGUsF77DA3/hR2cylrGM5Qlv8M6ZjGUsY3nCW+cylrGM5dDH+BIv+Mm5jGUsYzn0Gp/j4U7GMpaxHPrCczKWsYzl0jv841zGMpaxXHjBr/jbuYxlLGO58HAvYxnLWA699t4bdzKWsYzl0Gf4E2/dyVjGMpZDH+AP/O5OxjKWsRx4hX/xcC9jGctYDvzseRnLWMZy6BfPyVjGMpZDX3lOxjKWsYxlLGMZy1jGMpax/wBrMBsjsc3gvQAAAABJRU5ErkJg\"></td><td style='text-align:center;vertical-align:middle; margin: 0.5em;border:1px #90999f solid;border-collapse:collapse'><img style='max-width: 100px; max-height:100px;display:inline' src=\"data:image/png;base64,iVBORw0KGgoAAAANSUhEUgAAAHAAAABwCAAAAADji6uXAAAABGdBTUEAALGPC/xhBQAAAAFzUkdCAK7OHOkAAAAgY0hSTQAAeiYAAICEAAD6AAAAgOgAAHUwAADqYAAAOpgAABdwnLpRPAAAAS5JREFUaAW9wUG15VQARcHKY4sCI4AL1kJIYwMG6PgtpHUkWCB3cKoylrGMZSxjGctYxjKWsYxlLGMZy1jGMpaxjGUsBx7c+Ml7GctYxnLgxu1MxjKWsRy48MEv+PJOxjKWsRx4cOMPfHknYxnLWA5c+ODyXsYylrEceHDj8V7GMpaxHLjwweW9jGUsYznw4MbjvYxlLGM5cOGDy3sZy1jGcuDBjcd7GctYxnLgwgeX9zKWsYzlwIMbf3kvYxnLWA5c+OC79zKWsYzlwIPbmYxlLGM5cOHjTMYylrEceHDjT3zzTsYylrEcuPBxJmMZy1gOPLjxzXsZy1jGcuB3/I1/8Jt3MpaxjOXAF37FN/yM7/6/jGUsYznwAz/wr/cylrGMZSxjGctYxjKWsYz9BxDJJPmPPHClAAAAAElFTkSuQmCC\"></td></tr></tbody></table><div><small>(a vector displayed as a row to save space)</small></div>"
      ],
      "text/plain": [
       "8-element Vector{Base.ReinterpretArray{Gray{N0f8}, 2, N0f8, Matrix{N0f8}, true}}:\n",
       " [Gray{N0f8}(0.0) Gray{N0f8}(0.0) … Gray{N0f8}(0.0) Gray{N0f8}(0.0); Gray{N0f8}(0.0) Gray{N0f8}(0.0) … Gray{N0f8}(0.0) Gray{N0f8}(0.0); … ; Gray{N0f8}(0.0) Gray{N0f8}(0.0) … Gray{N0f8}(0.0) Gray{N0f8}(0.0); Gray{N0f8}(0.0) Gray{N0f8}(0.0) … Gray{N0f8}(0.0) Gray{N0f8}(0.0)]\n",
       " [Gray{N0f8}(0.0) Gray{N0f8}(0.0) … Gray{N0f8}(0.0) Gray{N0f8}(0.0); Gray{N0f8}(0.0) Gray{N0f8}(0.0) … Gray{N0f8}(0.0) Gray{N0f8}(0.0); … ; Gray{N0f8}(0.0) Gray{N0f8}(0.0) … Gray{N0f8}(0.0) Gray{N0f8}(0.0); Gray{N0f8}(0.0) Gray{N0f8}(0.0) … Gray{N0f8}(0.0) Gray{N0f8}(0.0)]\n",
       " [Gray{N0f8}(0.0) Gray{N0f8}(0.0) … Gray{N0f8}(0.0) Gray{N0f8}(0.0); Gray{N0f8}(0.0) Gray{N0f8}(0.0) … Gray{N0f8}(0.0) Gray{N0f8}(0.0); … ; Gray{N0f8}(0.0) Gray{N0f8}(0.0) … Gray{N0f8}(0.0) Gray{N0f8}(0.0); Gray{N0f8}(0.0) Gray{N0f8}(0.0) … Gray{N0f8}(0.0) Gray{N0f8}(0.0)]\n",
       " [Gray{N0f8}(0.0) Gray{N0f8}(0.0) … Gray{N0f8}(0.0) Gray{N0f8}(0.0); Gray{N0f8}(0.0) Gray{N0f8}(0.0) … Gray{N0f8}(0.0) Gray{N0f8}(0.0); … ; Gray{N0f8}(0.0) Gray{N0f8}(0.0) … Gray{N0f8}(0.0) Gray{N0f8}(0.0); Gray{N0f8}(0.0) Gray{N0f8}(0.0) … Gray{N0f8}(0.0) Gray{N0f8}(0.0)]\n",
       " [Gray{N0f8}(0.0) Gray{N0f8}(0.0) … Gray{N0f8}(0.0) Gray{N0f8}(0.0); Gray{N0f8}(0.0) Gray{N0f8}(0.0) … Gray{N0f8}(0.0) Gray{N0f8}(0.0); … ; Gray{N0f8}(0.0) Gray{N0f8}(0.0) … Gray{N0f8}(0.0) Gray{N0f8}(0.0); Gray{N0f8}(0.0) Gray{N0f8}(0.0) … Gray{N0f8}(0.0) Gray{N0f8}(0.0)]\n",
       " [Gray{N0f8}(0.0) Gray{N0f8}(0.0) … Gray{N0f8}(0.0) Gray{N0f8}(0.0); Gray{N0f8}(0.0) Gray{N0f8}(0.0) … Gray{N0f8}(0.0) Gray{N0f8}(0.0); … ; Gray{N0f8}(0.0) Gray{N0f8}(0.0) … Gray{N0f8}(0.0) Gray{N0f8}(0.0); Gray{N0f8}(0.0) Gray{N0f8}(0.0) … Gray{N0f8}(0.0) Gray{N0f8}(0.0)]\n",
       " [Gray{N0f8}(0.0) Gray{N0f8}(0.0) … Gray{N0f8}(0.0) Gray{N0f8}(0.0); Gray{N0f8}(0.0) Gray{N0f8}(0.0) … Gray{N0f8}(0.0) Gray{N0f8}(0.0); … ; Gray{N0f8}(0.0) Gray{N0f8}(0.0) … Gray{N0f8}(0.0) Gray{N0f8}(0.0); Gray{N0f8}(0.0) Gray{N0f8}(0.0) … Gray{N0f8}(0.0) Gray{N0f8}(0.0)]\n",
       " [Gray{N0f8}(0.0) Gray{N0f8}(0.0) … Gray{N0f8}(0.0) Gray{N0f8}(0.0); Gray{N0f8}(0.0) Gray{N0f8}(0.0) … Gray{N0f8}(0.0) Gray{N0f8}(0.0); … ; Gray{N0f8}(0.0) Gray{N0f8}(0.0) … Gray{N0f8}(0.0) Gray{N0f8}(0.0); Gray{N0f8}(0.0) Gray{N0f8}(0.0) … Gray{N0f8}(0.0) Gray{N0f8}(0.0)]"
      ]
     },
     "metadata": {},
     "output_type": "display_data"
    },
    {
     "data": {
      "text/plain": [
       "1×8 adjoint(::Vector{Int64}) with eltype Int64:\n",
       " 8  2  6  2  7  1  1  1"
      ]
     },
     "execution_count": 25,
     "metadata": {},
     "output_type": "execute_result"
    }
   ],
   "source": [
    "ŷ = predictOutcome(X)\n",
    "\n",
    "display([MNIST.convert2image(trainX[:,:,i]) for i in 1:8])\n",
    "ŷ[1:8]'"
   ]
  },
  {
   "cell_type": "code",
   "execution_count": 26,
   "id": "9f9dd472",
   "metadata": {},
   "outputs": [
    {
     "data": {
      "text/plain": [
       "10×10 Matrix{Int64}:\n",
       " 4069     3    53    41    24    70    39    29    59    44\n",
       "    0  4389     8     9     7     7     9     6    27     6\n",
       "    7    33  3707    85    15    20    10    42    36    13\n",
       "    4    10    52  3822     2   148     0     4    72    62\n",
       "    6     4    66     7  3637    50    46    44    23    68\n",
       "    9    37    15   101     5  3181    50     6    77    23\n",
       "   18     9    41    30    25    75  3933     2    30     2\n",
       "    4    12    56    41    12    16     2  4113    11   121\n",
       "   25   207   152   106    54   164    50    24  3721    52\n",
       "    4    15    21    50   308    64     4   116    40  3773"
      ]
     },
     "metadata": {},
     "output_type": "display_data"
    },
    {
     "name": "stdout",
     "output_type": "stream",
     "text": [
      "accuracy: 0.913\n",
      "f1-score: 0.912\n"
     ]
    }
   ],
   "source": [
    "printMetrics( coerce(ŷ, OrderedFactor), coerce(trainY, OrderedFactor) )"
   ]
  },
  {
   "cell_type": "code",
   "execution_count": null,
   "id": "df4081dc",
   "metadata": {},
   "outputs": [],
   "source": []
  }
 ],
 "metadata": {
  "kernelspec": {
   "display_name": "Julia 1.6.5",
   "language": "julia",
   "name": "julia-1.6"
  },
  "language_info": {
   "file_extension": ".jl",
   "mimetype": "application/julia",
   "name": "julia",
   "version": "1.6.5"
  }
 },
 "nbformat": 4,
 "nbformat_minor": 5
}
