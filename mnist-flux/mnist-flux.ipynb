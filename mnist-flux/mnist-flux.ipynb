{
 "cells": [
  {
   "cell_type": "markdown",
   "id": "e145f758",
   "metadata": {},
   "source": [
    "# Flux with MNIST\n"
   ]
  },
  {
   "cell_type": "markdown",
   "id": "5f262ba3",
   "metadata": {},
   "source": [
    "## Libraries"
   ]
  },
  {
   "cell_type": "code",
   "execution_count": 1,
   "id": "d63e87f2",
   "metadata": {},
   "outputs": [],
   "source": [
    "#using CUDA\n",
    "\n",
    "using Flux              # the julia ml library\n",
    "using Images            # image processing and machine vision for julia\n",
    "\n",
    "using MLJ               # make_blobs, rmse, confmat, f1score, coerce\n",
    "#using MLJFlux           # NeuralNetworkClassifier, CUDALibs\n",
    "using MLDataUtils       # label, nlabel, labelfreq, stratifiedobs\n",
    "using MLDatasets        # mnist\n",
    "\n",
    "using LinearAlgebra     # pinv pseudo-inverse matrix\n",
    "#using Metrics           # r2-score\n",
    "using Random\n",
    "using StatsBase         # standardize (normalization)\n",
    "using Distributions\n",
    "\n",
    "using Plots; gr()\n",
    "using StatsPlots\n",
    "using Printf\n",
    "\n",
    "#using CSV\n",
    "using DataFrames\n"
   ]
  },
  {
   "cell_type": "markdown",
   "id": "d53a09fe",
   "metadata": {},
   "source": [
    "## Functions"
   ]
  },
  {
   "cell_type": "code",
   "execution_count": 2,
   "id": "66ccdfa6",
   "metadata": {},
   "outputs": [
    {
     "data": {
      "text/plain": [
       "printMetrics (generic function with 1 method)"
      ]
     },
     "execution_count": 2,
     "metadata": {},
     "output_type": "execute_result"
    }
   ],
   "source": [
    "# metrics\n",
    "function printMetrics(ŷ, y)\n",
    "    display(confmat(ŷ, y))\n",
    "    println(\"accuracy: \", round(accuracy(ŷ, y); digits=3))\n",
    "    println(\"f1-score: \", round(multiclass_f1score(ŷ, y); digits=3))\n",
    "end\n"
   ]
  },
  {
   "cell_type": "markdown",
   "id": "8903cf71",
   "metadata": {},
   "source": [
    "## Dataset"
   ]
  },
  {
   "cell_type": "code",
   "execution_count": 3,
   "id": "4bd90da6",
   "metadata": {},
   "outputs": [
    {
     "data": {
      "text/html": [
       "<table><tbody><tr><td style='text-align:center;vertical-align:middle; margin: 0.5em;border:1px #90999f solid;border-collapse:collapse'><img style='max-width: 100px; max-height:100px;display:inline' src=\"data:image/png;base64,iVBORw0KGgoAAAANSUhEUgAAAHAAAABwCAAAAADji6uXAAAABGdBTUEAALGPC/xhBQAAAAFzUkdCAK7OHOkAAAAgY0hSTQAAeiYAAICEAAD6AAAAgOgAAHUwAADqYAAAOpgAABdwnLpRPAAAAiVJREFUaAW9wT2IFgQABuAHemnI4aJFISgJwkDIIiqIsMLcajiKIEEIshosmgSHhhoUIW/IcIgCISHa+psKsp8hEKSSSAlyECon61Q+jMDT4RuO7w6/n5Pe54myKIuyKIuyKIuyKIuyKIuyKIuyKIuyKIuyKIuyKIsZ3YQ5y17FLdiE3TiI5/EvDuAto6IsyqIsJrgDN+MRPIpb8YzV/sAhzOMSTuI7q0VZlEVZjHE/vsac8ZbwBgb4CH/hH/xmtSiLsiiLMc7iPOasdhyLeAL/4ajpRFmURVmM8Tf24Cn8hEOGfsZ2DLAZr5telEVZlMUEn+IYLmELXsQCBoZ+xcumF2VRFmUxhYuGLhjahY+xZHZRFmVRFjN4Ew/gMTyJr8wuyqIsymIGA7yEH/E+vsEJHMZV04myKIuymNEZvIAj2ImdWIcPcc5kURZlURZr8Al+xwK2YT/uxD78abwoi7IoizX6Bc/haRzBK7gb240XZVEWZXEDFnEUHyDYisfxreuLsiiLslije/EsHkQMncL3xouyKIuymNEmvIZ5bLDsCs5hyXhRFmVRFlPagB3YjY1GncA+fG6yKIuyKIsJ1mMz3sU9Rh3H2/gMS6YTZVEWZXEdt+E93Ie7jPoBC/gSl80myqIsymKFh7EHD+F2oy7jHezHwNpEWZRFWawwj3nLTuMLXMFBLLoxURZlURYr7MVe/58oi7Ioi7Ioi7Ioi7Ioi7IouwZsVVgTmd3ynQAAAABJRU5ErkJg\"></td><td style='text-align:center;vertical-align:middle; margin: 0.5em;border:1px #90999f solid;border-collapse:collapse'><img style='max-width: 100px; max-height:100px;display:inline' src=\"data:image/png;base64,iVBORw0KGgoAAAANSUhEUgAAAHAAAABwCAAAAADji6uXAAAABGdBTUEAALGPC/xhBQAAAAFzUkdCAK7OHOkAAAAgY0hSTQAAeiYAAICEAAD6AAAAgOgAAHUwAADqYAAAOpgAABdwnLpRPAAAAjJJREFUaAW9wT1oHAQABtB3+mGISDN0sIK46SaGFEUnxbEVFTtIkWYVRCgoAYcomRzUDlYQBREUhTo4WCwihcKB0EGtOneTQkAtgu1ih5zDDRlyf0nley/KoizKoizKoizKoizKoizKoizKoizKoixuw1G8inV8jg9wxWxRFmVRFge0ios4hBFO4VkcNluURVmUxQE8hq+xghFu4BYO4wn8jFsmi7Ioi7LYh7uxhi9wn11X8Q7O4Qe8ibdNFmVRFmWxDx/jpL3WcA+GeAoPmy7KoizKYkFHcRwDY0N8i3exjV/wN57GwHRRFmVRFgtYxUUcwgjf4SSexCY+wZ/4DTs4jjVcsVeURVmUxRwPYQMr+Avb+Aw3cQEX7LWM1/GSvaIsyqIsZljCeziGG1jHT1g23wMmi7Ioi7KYYQ3HjD2HodsXZVEWZTHDGQwwxNBi7sAOBiaLsiiLspjiGaxihPMWt4MRfjVZlEVZlMUUy7gLf+Ar8y1hy9glvGGyKIuyKIs5/sW22ZawiQ1cwxncNFmURVmUxRznzbaKDbyIb3DCbFEWZVEWUwwwwPM4bbLXsIkVfIl180VZlEVZTDHCCEdwFp/iOh7HKTyC+/E7vseHFhNlURZlMcedeAUn8A8etOsyLuEti4uyKIuymOIyfsSjxo7gXmPXcQ6n7V+URVmUxRTX8AJexqZd7+MjXHUwURZlURYzbGMLW/4/URZlURZlURZlURZlURZlURZlURZlUfYfqPxYlL4fzGQAAAAASUVORK5C\"></td><td style='text-align:center;vertical-align:middle; margin: 0.5em;border:1px #90999f solid;border-collapse:collapse'><img style='max-width: 100px; max-height:100px;display:inline' src=\"data:image/png;base64,iVBORw0KGgoAAAANSUhEUgAAAHAAAABwCAAAAADji6uXAAAABGdBTUEAALGPC/xhBQAAAAFzUkdCAK7OHOkAAAAgY0hSTQAAeiYAAICEAAD6AAAAgOgAAHUwAADqYAAAOpgAABdwnLpRPAAAAbVJREFUaAW9wT2rDQAABuDnnN6UhSLdlNQdbrZrMjCgbkl2E9kY/ASrSfkBBukOjMJkMJkQRvJRihhsSpFSDGdw7nHP/Tid3ueJsiiLsiiLsiiLsiiLsiiLsiiLsiiLsiiLsiiLsiiLOVvBHZzAW/+LsiiLsphwHHtxz2yO4IXpoizKoiwmnMQS7tm+IRZxEAPri7Ioi7KYcAFPzGY/LuI23lhflEVZlMWEodndNPLedFEWZVEWY5axYHa7jTwyXZRFWZTFmDPYaTYLWDTyxXRRFmVRFmMOGXll+65jAe/w3XRRFmVRFut4bmt24TTO45SRq/hmuiiLsiiLdeyx1mEMsYID2IFzGOInnuEXgpc2FmVRFmUx5if+4Aau+GcZA/zGD7zGLbzAY3zFZ+zEGxuLsiiLshhzGR9xzFqf8ACv8dT/LmEfPthclEVZlMWEa7Zvxchdm4uyKIuymKP7NhdlURZlURZlURZlMScDLOGJjUVZlEVZzMkfDG0uyqIsymKOjmLVxqIsyqIs5mRga6IsyqIs5uAhztqaKIuyKIs5WMWqrYmyKIuyKIuyKIuyKIuyKIuyv/irMYSJ7ydGAAAAAElFTkSuQmCC\"></td><td style='text-align:center;vertical-align:middle; margin: 0.5em;border:1px #90999f solid;border-collapse:collapse'><img style='max-width: 100px; max-height:100px;display:inline' src=\"data:image/png;base64,iVBORw0KGgoAAAANSUhEUgAAAHAAAABwCAAAAADji6uXAAAABGdBTUEAALGPC/xhBQAAAAFzUkdCAK7OHOkAAAAgY0hSTQAAeiYAAICEAAD6AAAAgOgAAHUwAADqYAAAOpgAABdwnLpRPAAAAYtJREFUaAW9waFqVQEABuCP8YNRRUFM7glkDzDQoGIw+AYbdpugYcUgDEwiy4p9wSooCjLwDWYRDIJrCibD1XDCLc577rmX//uiLMqiLMqiLMqiLMqiLMqiLMqiLMqiLMqiLMqiLMpiTfbwGBu4jg/+LcqiLMpiDXbxCDODP04XZVEWZbEGV3DGOFEWZVEWK7qB+wbHuIMTp4uyKIuyWME2XuKswVN89X9RFmVRFivYwWWD93hlsSiLsiiLiS7iHmb4gSfGibIoi7KYYBOH5p7jnXGiLMqiLCa4jasGb/HMeFEWZVEWS7qLfYOP2MFP40VZlEVZLGETh+a+4MRyoizKoiyW8BAzc/uWF2VRFmUx0hZumXuNz5YXZVEWZTHSG5w3+IRd00RZlEVZjHQBM4MD/DJNlEVZlMUIL7Bh7sh0URZlURYLbOEmZviNA5yYLsqiLMpigXO4ZPAND6wmyqIsyqIsyqIsymKBYxxh23pEWZRFWSzwHdesT5RFWZRFWZRFWZRFWZRFWZT9BXYjLFSLepVZAAAAAElFTkSuQmCC\"></td><td style='text-align:center;vertical-align:middle; margin: 0.5em;border:1px #90999f solid;border-collapse:collapse'><img style='max-width: 100px; max-height:100px;display:inline' src=\"data:image/png;base64,iVBORw0KGgoAAAANSUhEUgAAAHAAAABwCAAAAADji6uXAAAABGdBTUEAALGPC/xhBQAAAAFzUkdCAK7OHOkAAAAgY0hSTQAAeiYAAICEAAD6AAAAgOgAAHUwAADqYAAAOpgAABdwnLpRPAAAAf5JREFUaAW9wT+I1QUAB/DPxRf7Q4PEXeDikG22STRlS1xbOHkOOTganFMQooSgNtTU0pJDosEhIogtR0uUi9AmuES1iMtFxAMJHO45/IYb5L177xd8P58oi7Ioi7Ioi7Ioi7Ioi7Ioi7Ioi7Ioi7Ioi7Ioi7Ioi7Ioi7Ioi7Ioi7JY0ns4jeM4avAZnuB93MADs0VZlEVZLGED32AVK/gZa/jaYAWrOGW2KIuyKIsFBO/iO7yGX3AZ9/EybmHd4DfzRVmURVks4BNcM/gJG5gYbGDd4DGumy/KoizKYh9XcB5TfIuLmNhzwZ5z2DFflEVZlMUcX+A8nmEbn+M/g1ewjsNYwRXctb8oi7IoixkO4lNMsY0T9ryNH3DM4Da+spgoi7IoixkOYNXgHN7EGXyMd/A6ppjiJp5aTJRFWZTFDM+wgzX8hak9TzDBIfyNexYXZVEWZTHDvziBH/EG/sBdfI9/sIVD2LKcKIuyKIs5HmDNi47jA+ziT8uJsiiLshjhVexiii3LibIoi7IYYdt4URZlURYjfGS8KIuyKIsRjhgvyqIsymKEX/ESdi0vyqIsymKEh/gdb+EIdiwuyqIsymKkL3ENV7GJRxYTZVEWZTHSHZzCh7iEM3hqf1EWZVEWI01wEldxFpfwyP6iLMqiLP6HCTaxaXFRFmVR9hxr7UyvfehgBAAAAABJRU5ErkJg\"></td></tr></tbody></table><div><small>(a vector displayed as a row to save space)</small></div>"
      ],
      "text/plain": [
       "5-element Vector{Base.ReinterpretArray{Gray{N0f8}, 2, N0f8, Matrix{N0f8}, true}}:\n",
       " [Gray{N0f8}(0.0) Gray{N0f8}(0.0) … Gray{N0f8}(0.0) Gray{N0f8}(0.0); Gray{N0f8}(0.0) Gray{N0f8}(0.0) … Gray{N0f8}(0.0) Gray{N0f8}(0.0); … ; Gray{N0f8}(0.0) Gray{N0f8}(0.0) … Gray{N0f8}(0.0) Gray{N0f8}(0.0); Gray{N0f8}(0.0) Gray{N0f8}(0.0) … Gray{N0f8}(0.0) Gray{N0f8}(0.0)]\n",
       " [Gray{N0f8}(0.0) Gray{N0f8}(0.0) … Gray{N0f8}(0.0) Gray{N0f8}(0.0); Gray{N0f8}(0.0) Gray{N0f8}(0.0) … Gray{N0f8}(0.0) Gray{N0f8}(0.0); … ; Gray{N0f8}(0.0) Gray{N0f8}(0.0) … Gray{N0f8}(0.0) Gray{N0f8}(0.0); Gray{N0f8}(0.0) Gray{N0f8}(0.0) … Gray{N0f8}(0.0) Gray{N0f8}(0.0)]\n",
       " [Gray{N0f8}(0.0) Gray{N0f8}(0.0) … Gray{N0f8}(0.0) Gray{N0f8}(0.0); Gray{N0f8}(0.0) Gray{N0f8}(0.0) … Gray{N0f8}(0.0) Gray{N0f8}(0.0); … ; Gray{N0f8}(0.0) Gray{N0f8}(0.0) … Gray{N0f8}(0.0) Gray{N0f8}(0.0); Gray{N0f8}(0.0) Gray{N0f8}(0.0) … Gray{N0f8}(0.0) Gray{N0f8}(0.0)]\n",
       " [Gray{N0f8}(0.0) Gray{N0f8}(0.0) … Gray{N0f8}(0.0) Gray{N0f8}(0.0); Gray{N0f8}(0.0) Gray{N0f8}(0.0) … Gray{N0f8}(0.0) Gray{N0f8}(0.0); … ; Gray{N0f8}(0.0) Gray{N0f8}(0.0) … Gray{N0f8}(0.0) Gray{N0f8}(0.0); Gray{N0f8}(0.0) Gray{N0f8}(0.0) … Gray{N0f8}(0.0) Gray{N0f8}(0.0)]\n",
       " [Gray{N0f8}(0.0) Gray{N0f8}(0.0) … Gray{N0f8}(0.0) Gray{N0f8}(0.0); Gray{N0f8}(0.0) Gray{N0f8}(0.0) … Gray{N0f8}(0.0) Gray{N0f8}(0.0); … ; Gray{N0f8}(0.0) Gray{N0f8}(0.0) … Gray{N0f8}(0.0) Gray{N0f8}(0.0); Gray{N0f8}(0.0) Gray{N0f8}(0.0) … Gray{N0f8}(0.0) Gray{N0f8}(0.0)]"
      ]
     },
     "metadata": {},
     "output_type": "display_data"
    },
    {
     "data": {
      "text/plain": [
       "1×5 adjoint(::Vector{Int64}) with eltype Int64:\n",
       " 5  0  4  1  9"
      ]
     },
     "execution_count": 3,
     "metadata": {},
     "output_type": "execute_result"
    }
   ],
   "source": [
    "# load mnist from MLDatasets\n",
    "trainX_original,      trainY_original      = MNIST.traindata()\n",
    "validationX_original, validationY_original = MNIST.testdata();\n",
    "\n",
    "display([MNIST.convert2image(MNIST.traintensor(i)) for i in 1:5])\n",
    "trainY_original[1:5]'"
   ]
  },
  {
   "cell_type": "code",
   "execution_count": 4,
   "id": "7f2acc6e",
   "metadata": {},
   "outputs": [
    {
     "data": {
      "text/plain": [
       "((28, 28, 42001), (28, 28, 17999), (28, 28, 10000))"
      ]
     },
     "execution_count": 4,
     "metadata": {},
     "output_type": "execute_result"
    }
   ],
   "source": [
    "# split trainset, testset, validation set\n",
    "Random.seed!(1)\n",
    "(trainX, trainY), (testX, testY) = stratifiedobs((trainX_original, trainY_original), p = 0.7)\n",
    "validationX = copy(validationX_original); validationY = copy(validationY_original)\n",
    "\n",
    "size(trainX), size(testX), size(validationX)"
   ]
  },
  {
   "cell_type": "markdown",
   "id": "b8b9c3b0",
   "metadata": {},
   "source": [
    "## Preprocessing\n",
    "\n",
    "Flux primarily works with matrices and vectors"
   ]
  },
  {
   "cell_type": "code",
   "execution_count": 5,
   "id": "f76c815d",
   "metadata": {},
   "outputs": [],
   "source": [
    "function preprocess(X, y)\n",
    "    Xs = Float32.(X) |> Flux.flatten\n",
    "    ys = Flux.onehotbatch( Float32.(y), 0:9 )\n",
    "    \n",
    "    return (Xs, ys)\n",
    "end\n",
    "\n",
    "h, v, N = size(trainX); d = h * v\n",
    "X, y = preprocess(trainX, trainY);"
   ]
  },
  {
   "cell_type": "code",
   "execution_count": 6,
   "id": "67d36968",
   "metadata": {},
   "outputs": [
    {
     "data": {
      "text/plain": [
       "(784, 42001, (784, 42001), (10, 42001))"
      ]
     },
     "execution_count": 6,
     "metadata": {},
     "output_type": "execute_result"
    }
   ],
   "source": [
    "d, N, size(X), size(y)"
   ]
  },
  {
   "cell_type": "markdown",
   "id": "67b2b3d1",
   "metadata": {},
   "source": [
    "### Built-in Sigmoid"
   ]
  },
  {
   "cell_type": "code",
   "execution_count": 7,
   "id": "7d4b4daf",
   "metadata": {},
   "outputs": [
    {
     "data": {
      "image/svg+xml": [
       "<?xml version=\"1.0\" encoding=\"utf-8\"?>\n",
       "<svg xmlns=\"http://www.w3.org/2000/svg\" xmlns:xlink=\"http://www.w3.org/1999/xlink\" width=\"300\" height=\"200\" viewBox=\"0 0 1200 800\">\n",
       "<defs>\n",
       "  <clipPath id=\"clip940\">\n",
       "    <rect x=\"0\" y=\"0\" width=\"1200\" height=\"800\"/>\n",
       "  </clipPath>\n",
       "</defs>\n",
       "<path clip-path=\"url(#clip940)\" d=\"\n",
       "M0 800 L1200 800 L1200 0 L0 0  Z\n",
       "  \" fill=\"#ffffff\" fill-rule=\"evenodd\" fill-opacity=\"1\"/>\n",
       "<defs>\n",
       "  <clipPath id=\"clip941\">\n",
       "    <rect x=\"240\" y=\"0\" width=\"841\" height=\"800\"/>\n",
       "  </clipPath>\n",
       "</defs>\n",
       "<path clip-path=\"url(#clip940)\" d=\"\n",
       "M174.274 694.448 L1152.76 694.448 L1152.76 47.2441 L174.274 47.2441  Z\n",
       "  \" fill=\"#ffffff\" fill-rule=\"evenodd\" fill-opacity=\"1\"/>\n",
       "<defs>\n",
       "  <clipPath id=\"clip942\">\n",
       "    <rect x=\"174\" y=\"47\" width=\"979\" height=\"648\"/>\n",
       "  </clipPath>\n",
       "</defs>\n",
       "<polyline clip-path=\"url(#clip942)\" style=\"stroke:#000000; stroke-linecap:butt; stroke-linejoin:round; stroke-width:2; stroke-opacity:0.1; fill:none\" points=\"\n",
       "  294.276,694.448 294.276,47.2441 \n",
       "  \"/>\n",
       "<polyline clip-path=\"url(#clip942)\" style=\"stroke:#000000; stroke-linecap:butt; stroke-linejoin:round; stroke-width:2; stroke-opacity:0.1; fill:none\" points=\"\n",
       "  478.896,694.448 478.896,47.2441 \n",
       "  \"/>\n",
       "<polyline clip-path=\"url(#clip942)\" style=\"stroke:#000000; stroke-linecap:butt; stroke-linejoin:round; stroke-width:2; stroke-opacity:0.1; fill:none\" points=\"\n",
       "  663.515,694.448 663.515,47.2441 \n",
       "  \"/>\n",
       "<polyline clip-path=\"url(#clip942)\" style=\"stroke:#000000; stroke-linecap:butt; stroke-linejoin:round; stroke-width:2; stroke-opacity:0.1; fill:none\" points=\"\n",
       "  848.134,694.448 848.134,47.2441 \n",
       "  \"/>\n",
       "<polyline clip-path=\"url(#clip942)\" style=\"stroke:#000000; stroke-linecap:butt; stroke-linejoin:round; stroke-width:2; stroke-opacity:0.1; fill:none\" points=\"\n",
       "  1032.75,694.448 1032.75,47.2441 \n",
       "  \"/>\n",
       "<polyline clip-path=\"url(#clip940)\" style=\"stroke:#000000; stroke-linecap:butt; stroke-linejoin:round; stroke-width:4; stroke-opacity:1; fill:none\" points=\"\n",
       "  174.274,694.448 1152.76,694.448 \n",
       "  \"/>\n",
       "<polyline clip-path=\"url(#clip940)\" style=\"stroke:#000000; stroke-linecap:butt; stroke-linejoin:round; stroke-width:4; stroke-opacity:1; fill:none\" points=\"\n",
       "  294.276,694.448 294.276,675.55 \n",
       "  \"/>\n",
       "<polyline clip-path=\"url(#clip940)\" style=\"stroke:#000000; stroke-linecap:butt; stroke-linejoin:round; stroke-width:4; stroke-opacity:1; fill:none\" points=\"\n",
       "  478.896,694.448 478.896,675.55 \n",
       "  \"/>\n",
       "<polyline clip-path=\"url(#clip940)\" style=\"stroke:#000000; stroke-linecap:butt; stroke-linejoin:round; stroke-width:4; stroke-opacity:1; fill:none\" points=\"\n",
       "  663.515,694.448 663.515,675.55 \n",
       "  \"/>\n",
       "<polyline clip-path=\"url(#clip940)\" style=\"stroke:#000000; stroke-linecap:butt; stroke-linejoin:round; stroke-width:4; stroke-opacity:1; fill:none\" points=\"\n",
       "  848.134,694.448 848.134,675.55 \n",
       "  \"/>\n",
       "<polyline clip-path=\"url(#clip940)\" style=\"stroke:#000000; stroke-linecap:butt; stroke-linejoin:round; stroke-width:4; stroke-opacity:1; fill:none\" points=\"\n",
       "  1032.75,694.448 1032.75,675.55 \n",
       "  \"/>\n",
       "<path clip-path=\"url(#clip940)\" d=\"M263.177 730.419 L292.853 730.419 L292.853 734.354 L263.177 734.354 L263.177 730.419 Z\" fill=\"#000000\" fill-rule=\"evenodd\" fill-opacity=\"1\" /><path clip-path=\"url(#clip940)\" d=\"M315.793 716.762 L303.987 735.211 L315.793 735.211 L315.793 716.762 M314.566 712.688 L320.445 712.688 L320.445 735.211 L325.376 735.211 L325.376 739.1 L320.445 739.1 L320.445 747.248 L315.793 747.248 L315.793 739.1 L300.191 739.1 L300.191 734.586 L314.566 712.688 Z\" fill=\"#000000\" fill-rule=\"evenodd\" fill-opacity=\"1\" /><path clip-path=\"url(#clip940)\" d=\"M448.838 730.419 L478.514 730.419 L478.514 734.354 L448.838 734.354 L448.838 730.419 Z\" fill=\"#000000\" fill-rule=\"evenodd\" fill-opacity=\"1\" /><path clip-path=\"url(#clip940)\" d=\"M492.634 743.313 L508.953 743.313 L508.953 747.248 L487.009 747.248 L487.009 743.313 Q489.671 740.558 494.254 735.928 Q498.861 731.276 500.041 729.933 Q502.287 727.41 503.166 725.674 Q504.069 723.915 504.069 722.225 Q504.069 719.47 502.125 717.734 Q500.203 715.998 497.102 715.998 Q494.903 715.998 492.449 716.762 Q490.018 717.526 487.241 719.077 L487.241 714.355 Q490.065 713.22 492.518 712.642 Q494.972 712.063 497.009 712.063 Q502.379 712.063 505.574 714.748 Q508.768 717.433 508.768 721.924 Q508.768 724.054 507.958 725.975 Q507.171 727.873 505.065 730.466 Q504.486 731.137 501.384 734.354 Q498.282 737.549 492.634 743.313 Z\" fill=\"#000000\" fill-rule=\"evenodd\" fill-opacity=\"1\" /><path clip-path=\"url(#clip940)\" d=\"M663.515 715.767 Q659.904 715.767 658.075 719.331 Q656.27 722.873 656.27 730.003 Q656.27 737.109 658.075 740.674 Q659.904 744.215 663.515 744.215 Q667.149 744.215 668.955 740.674 Q670.783 737.109 670.783 730.003 Q670.783 722.873 668.955 719.331 Q667.149 715.767 663.515 715.767 M663.515 712.063 Q669.325 712.063 672.381 716.669 Q675.459 721.253 675.459 730.003 Q675.459 738.729 672.381 743.336 Q669.325 747.919 663.515 747.919 Q657.705 747.919 654.626 743.336 Q651.571 738.729 651.571 730.003 Q651.571 721.253 654.626 716.669 Q657.705 712.063 663.515 712.063 Z\" fill=\"#000000\" fill-rule=\"evenodd\" fill-opacity=\"1\" /><path clip-path=\"url(#clip940)\" d=\"M842.787 743.313 L859.106 743.313 L859.106 747.248 L837.162 747.248 L837.162 743.313 Q839.824 740.558 844.407 735.928 Q849.014 731.276 850.194 729.933 Q852.44 727.41 853.319 725.674 Q854.222 723.915 854.222 722.225 Q854.222 719.47 852.278 717.734 Q850.356 715.998 847.255 715.998 Q845.055 715.998 842.602 716.762 Q840.171 717.526 837.393 719.077 L837.393 714.355 Q840.218 713.22 842.671 712.642 Q845.125 712.063 847.162 712.063 Q852.532 712.063 855.727 714.748 Q858.921 717.433 858.921 721.924 Q858.921 724.054 858.111 725.975 Q857.324 727.873 855.217 730.466 Q854.639 731.137 851.537 734.354 Q848.435 737.549 842.787 743.313 Z\" fill=\"#000000\" fill-rule=\"evenodd\" fill-opacity=\"1\" /><path clip-path=\"url(#clip940)\" d=\"M1035.76 716.762 L1023.96 735.211 L1035.76 735.211 L1035.76 716.762 M1034.54 712.688 L1040.42 712.688 L1040.42 735.211 L1045.35 735.211 L1045.35 739.1 L1040.42 739.1 L1040.42 747.248 L1035.76 747.248 L1035.76 739.1 L1020.16 739.1 L1020.16 734.586 L1034.54 712.688 Z\" fill=\"#000000\" fill-rule=\"evenodd\" fill-opacity=\"1\" /><polyline clip-path=\"url(#clip942)\" style=\"stroke:#000000; stroke-linecap:butt; stroke-linejoin:round; stroke-width:2; stroke-opacity:0.1; fill:none\" points=\"\n",
       "  174.274,680.273 1152.76,680.273 \n",
       "  \"/>\n",
       "<polyline clip-path=\"url(#clip942)\" style=\"stroke:#000000; stroke-linecap:butt; stroke-linejoin:round; stroke-width:2; stroke-opacity:0.1; fill:none\" points=\"\n",
       "  174.274,525.559 1152.76,525.559 \n",
       "  \"/>\n",
       "<polyline clip-path=\"url(#clip942)\" style=\"stroke:#000000; stroke-linecap:butt; stroke-linejoin:round; stroke-width:2; stroke-opacity:0.1; fill:none\" points=\"\n",
       "  174.274,370.846 1152.76,370.846 \n",
       "  \"/>\n",
       "<polyline clip-path=\"url(#clip942)\" style=\"stroke:#000000; stroke-linecap:butt; stroke-linejoin:round; stroke-width:2; stroke-opacity:0.1; fill:none\" points=\"\n",
       "  174.274,216.133 1152.76,216.133 \n",
       "  \"/>\n",
       "<polyline clip-path=\"url(#clip942)\" style=\"stroke:#000000; stroke-linecap:butt; stroke-linejoin:round; stroke-width:2; stroke-opacity:0.1; fill:none\" points=\"\n",
       "  174.274,61.4193 1152.76,61.4193 \n",
       "  \"/>\n",
       "<polyline clip-path=\"url(#clip940)\" style=\"stroke:#000000; stroke-linecap:butt; stroke-linejoin:round; stroke-width:4; stroke-opacity:1; fill:none\" points=\"\n",
       "  174.274,694.448 174.274,47.2441 \n",
       "  \"/>\n",
       "<polyline clip-path=\"url(#clip940)\" style=\"stroke:#000000; stroke-linecap:butt; stroke-linejoin:round; stroke-width:4; stroke-opacity:1; fill:none\" points=\"\n",
       "  174.274,680.273 193.172,680.273 \n",
       "  \"/>\n",
       "<polyline clip-path=\"url(#clip940)\" style=\"stroke:#000000; stroke-linecap:butt; stroke-linejoin:round; stroke-width:4; stroke-opacity:1; fill:none\" points=\"\n",
       "  174.274,525.559 193.172,525.559 \n",
       "  \"/>\n",
       "<polyline clip-path=\"url(#clip940)\" style=\"stroke:#000000; stroke-linecap:butt; stroke-linejoin:round; stroke-width:4; stroke-opacity:1; fill:none\" points=\"\n",
       "  174.274,370.846 193.172,370.846 \n",
       "  \"/>\n",
       "<polyline clip-path=\"url(#clip940)\" style=\"stroke:#000000; stroke-linecap:butt; stroke-linejoin:round; stroke-width:4; stroke-opacity:1; fill:none\" points=\"\n",
       "  174.274,216.133 193.172,216.133 \n",
       "  \"/>\n",
       "<polyline clip-path=\"url(#clip940)\" style=\"stroke:#000000; stroke-linecap:butt; stroke-linejoin:round; stroke-width:4; stroke-opacity:1; fill:none\" points=\"\n",
       "  174.274,61.4193 193.172,61.4193 \n",
       "  \"/>\n",
       "<path clip-path=\"url(#clip940)\" d=\"M68.9365 666.071 Q65.3254 666.071 63.4967 669.636 Q61.6912 673.178 61.6912 680.307 Q61.6912 687.414 63.4967 690.979 Q65.3254 694.52 68.9365 694.52 Q72.5707 694.52 74.3763 690.979 Q76.205 687.414 76.205 680.307 Q76.205 673.178 74.3763 669.636 Q72.5707 666.071 68.9365 666.071 M68.9365 662.368 Q74.7467 662.368 77.8022 666.974 Q80.8809 671.557 80.8809 680.307 Q80.8809 689.034 77.8022 693.641 Q74.7467 698.224 68.9365 698.224 Q63.1264 698.224 60.0477 693.641 Q56.9921 689.034 56.9921 680.307 Q56.9921 671.557 60.0477 666.974 Q63.1264 662.368 68.9365 662.368 Z\" fill=\"#000000\" fill-rule=\"evenodd\" fill-opacity=\"1\" /><path clip-path=\"url(#clip940)\" d=\"M89.0984 691.673 L93.9827 691.673 L93.9827 697.553 L89.0984 697.553 L89.0984 691.673 Z\" fill=\"#000000\" fill-rule=\"evenodd\" fill-opacity=\"1\" /><path clip-path=\"url(#clip940)\" d=\"M114.168 666.071 Q110.557 666.071 108.728 669.636 Q106.922 673.178 106.922 680.307 Q106.922 687.414 108.728 690.979 Q110.557 694.52 114.168 694.52 Q117.802 694.52 119.608 690.979 Q121.436 687.414 121.436 680.307 Q121.436 673.178 119.608 669.636 Q117.802 666.071 114.168 666.071 M114.168 662.368 Q119.978 662.368 123.033 666.974 Q126.112 671.557 126.112 680.307 Q126.112 689.034 123.033 693.641 Q119.978 698.224 114.168 698.224 Q108.358 698.224 105.279 693.641 Q102.223 689.034 102.223 680.307 Q102.223 671.557 105.279 666.974 Q108.358 662.368 114.168 662.368 Z\" fill=\"#000000\" fill-rule=\"evenodd\" fill-opacity=\"1\" /><path clip-path=\"url(#clip940)\" d=\"M144.33 666.071 Q140.719 666.071 138.89 669.636 Q137.084 673.178 137.084 680.307 Q137.084 687.414 138.89 690.979 Q140.719 694.52 144.33 694.52 Q147.964 694.52 149.769 690.979 Q151.598 687.414 151.598 680.307 Q151.598 673.178 149.769 669.636 Q147.964 666.071 144.33 666.071 M144.33 662.368 Q150.14 662.368 153.195 666.974 Q156.274 671.557 156.274 680.307 Q156.274 689.034 153.195 693.641 Q150.14 698.224 144.33 698.224 Q138.519 698.224 135.441 693.641 Q132.385 689.034 132.385 680.307 Q132.385 671.557 135.441 666.974 Q138.519 662.368 144.33 662.368 Z\" fill=\"#000000\" fill-rule=\"evenodd\" fill-opacity=\"1\" /><path clip-path=\"url(#clip940)\" d=\"M69.9319 511.358 Q66.3208 511.358 64.4921 514.923 Q62.6865 518.464 62.6865 525.594 Q62.6865 532.7 64.4921 536.265 Q66.3208 539.807 69.9319 539.807 Q73.5661 539.807 75.3717 536.265 Q77.2004 532.7 77.2004 525.594 Q77.2004 518.464 75.3717 514.923 Q73.5661 511.358 69.9319 511.358 M69.9319 507.654 Q75.742 507.654 78.7976 512.261 Q81.8763 516.844 81.8763 525.594 Q81.8763 534.321 78.7976 538.927 Q75.742 543.511 69.9319 543.511 Q64.1217 543.511 61.043 538.927 Q57.9875 534.321 57.9875 525.594 Q57.9875 516.844 61.043 512.261 Q64.1217 507.654 69.9319 507.654 Z\" fill=\"#000000\" fill-rule=\"evenodd\" fill-opacity=\"1\" /><path clip-path=\"url(#clip940)\" d=\"M90.0938 536.96 L94.978 536.96 L94.978 542.839 L90.0938 542.839 L90.0938 536.96 Z\" fill=\"#000000\" fill-rule=\"evenodd\" fill-opacity=\"1\" /><path clip-path=\"url(#clip940)\" d=\"M109.191 538.904 L125.51 538.904 L125.51 542.839 L103.566 542.839 L103.566 538.904 Q106.228 536.15 110.811 531.52 Q115.418 526.867 116.598 525.525 Q118.844 523.001 119.723 521.265 Q120.626 519.506 120.626 517.816 Q120.626 515.062 118.682 513.326 Q116.76 511.589 113.658 511.589 Q111.459 511.589 109.006 512.353 Q106.575 513.117 103.797 514.668 L103.797 509.946 Q106.621 508.812 109.075 508.233 Q111.529 507.654 113.566 507.654 Q118.936 507.654 122.131 510.34 Q125.325 513.025 125.325 517.515 Q125.325 519.645 124.515 521.566 Q123.728 523.464 121.621 526.057 Q121.043 526.728 117.941 529.946 Q114.839 533.14 109.191 538.904 Z\" fill=\"#000000\" fill-rule=\"evenodd\" fill-opacity=\"1\" /><path clip-path=\"url(#clip940)\" d=\"M135.371 508.279 L153.728 508.279 L153.728 512.214 L139.654 512.214 L139.654 520.687 Q140.672 520.339 141.691 520.177 Q142.709 519.992 143.728 519.992 Q149.515 519.992 152.894 523.164 Q156.274 526.335 156.274 531.751 Q156.274 537.33 152.802 540.432 Q149.33 543.511 143.01 543.511 Q140.834 543.511 138.566 543.14 Q136.32 542.77 133.913 542.029 L133.913 537.33 Q135.996 538.464 138.219 539.02 Q140.441 539.575 142.918 539.575 Q146.922 539.575 149.26 537.469 Q151.598 535.363 151.598 531.751 Q151.598 528.14 149.26 526.034 Q146.922 523.927 142.918 523.927 Q141.043 523.927 139.168 524.344 Q137.316 524.761 135.371 525.64 L135.371 508.279 Z\" fill=\"#000000\" fill-rule=\"evenodd\" fill-opacity=\"1\" /><path clip-path=\"url(#clip940)\" d=\"M68.9365 356.645 Q65.3254 356.645 63.4967 360.209 Q61.6912 363.751 61.6912 370.881 Q61.6912 377.987 63.4967 381.552 Q65.3254 385.094 68.9365 385.094 Q72.5707 385.094 74.3763 381.552 Q76.205 377.987 76.205 370.881 Q76.205 363.751 74.3763 360.209 Q72.5707 356.645 68.9365 356.645 M68.9365 352.941 Q74.7467 352.941 77.8022 357.547 Q80.8809 362.131 80.8809 370.881 Q80.8809 379.608 77.8022 384.214 Q74.7467 388.797 68.9365 388.797 Q63.1264 388.797 60.0477 384.214 Q56.9921 379.608 56.9921 370.881 Q56.9921 362.131 60.0477 357.547 Q63.1264 352.941 68.9365 352.941 Z\" fill=\"#000000\" fill-rule=\"evenodd\" fill-opacity=\"1\" /><path clip-path=\"url(#clip940)\" d=\"M89.0984 382.246 L93.9827 382.246 L93.9827 388.126 L89.0984 388.126 L89.0984 382.246 Z\" fill=\"#000000\" fill-rule=\"evenodd\" fill-opacity=\"1\" /><path clip-path=\"url(#clip940)\" d=\"M104.214 353.566 L122.57 353.566 L122.57 357.501 L108.496 357.501 L108.496 365.973 Q109.515 365.626 110.534 365.464 Q111.552 365.279 112.571 365.279 Q118.358 365.279 121.737 368.45 Q125.117 371.621 125.117 377.038 Q125.117 382.617 121.645 385.719 Q118.172 388.797 111.853 388.797 Q109.677 388.797 107.409 388.427 Q105.163 388.057 102.756 387.316 L102.756 382.617 Q104.839 383.751 107.061 384.307 Q109.284 384.862 111.76 384.862 Q115.765 384.862 118.103 382.756 Q120.441 380.649 120.441 377.038 Q120.441 373.427 118.103 371.321 Q115.765 369.214 111.76 369.214 Q109.885 369.214 108.01 369.631 Q106.159 370.047 104.214 370.927 L104.214 353.566 Z\" fill=\"#000000\" fill-rule=\"evenodd\" fill-opacity=\"1\" /><path clip-path=\"url(#clip940)\" d=\"M144.33 356.645 Q140.719 356.645 138.89 360.209 Q137.084 363.751 137.084 370.881 Q137.084 377.987 138.89 381.552 Q140.719 385.094 144.33 385.094 Q147.964 385.094 149.769 381.552 Q151.598 377.987 151.598 370.881 Q151.598 363.751 149.769 360.209 Q147.964 356.645 144.33 356.645 M144.33 352.941 Q150.14 352.941 153.195 357.547 Q156.274 362.131 156.274 370.881 Q156.274 379.608 153.195 384.214 Q150.14 388.797 144.33 388.797 Q138.519 388.797 135.441 384.214 Q132.385 379.608 132.385 370.881 Q132.385 362.131 135.441 357.547 Q138.519 352.941 144.33 352.941 Z\" fill=\"#000000\" fill-rule=\"evenodd\" fill-opacity=\"1\" /><path clip-path=\"url(#clip940)\" d=\"M69.9319 201.931 Q66.3208 201.931 64.4921 205.496 Q62.6865 209.038 62.6865 216.167 Q62.6865 223.274 64.4921 226.839 Q66.3208 230.38 69.9319 230.38 Q73.5661 230.38 75.3717 226.839 Q77.2004 223.274 77.2004 216.167 Q77.2004 209.038 75.3717 205.496 Q73.5661 201.931 69.9319 201.931 M69.9319 198.228 Q75.742 198.228 78.7976 202.834 Q81.8763 207.417 81.8763 216.167 Q81.8763 224.894 78.7976 229.501 Q75.742 234.084 69.9319 234.084 Q64.1217 234.084 61.043 229.501 Q57.9875 224.894 57.9875 216.167 Q57.9875 207.417 61.043 202.834 Q64.1217 198.228 69.9319 198.228 Z\" fill=\"#000000\" fill-rule=\"evenodd\" fill-opacity=\"1\" /><path clip-path=\"url(#clip940)\" d=\"M90.0938 227.533 L94.978 227.533 L94.978 233.413 L90.0938 233.413 L90.0938 227.533 Z\" fill=\"#000000\" fill-rule=\"evenodd\" fill-opacity=\"1\" /><path clip-path=\"url(#clip940)\" d=\"M103.983 198.853 L126.205 198.853 L126.205 200.843 L113.658 233.413 L108.774 233.413 L120.58 202.788 L103.983 202.788 L103.983 198.853 Z\" fill=\"#000000\" fill-rule=\"evenodd\" fill-opacity=\"1\" /><path clip-path=\"url(#clip940)\" d=\"M135.371 198.853 L153.728 198.853 L153.728 202.788 L139.654 202.788 L139.654 211.26 Q140.672 210.913 141.691 210.751 Q142.709 210.566 143.728 210.566 Q149.515 210.566 152.894 213.737 Q156.274 216.908 156.274 222.325 Q156.274 227.903 152.802 231.005 Q149.33 234.084 143.01 234.084 Q140.834 234.084 138.566 233.714 Q136.32 233.343 133.913 232.602 L133.913 227.903 Q135.996 229.038 138.219 229.593 Q140.441 230.149 142.918 230.149 Q146.922 230.149 149.26 228.042 Q151.598 225.936 151.598 222.325 Q151.598 218.714 149.26 216.607 Q146.922 214.501 142.918 214.501 Q141.043 214.501 139.168 214.917 Q137.316 215.334 135.371 216.214 L135.371 198.853 Z\" fill=\"#000000\" fill-rule=\"evenodd\" fill-opacity=\"1\" /><path clip-path=\"url(#clip940)\" d=\"M59.7467 74.7641 L67.3856 74.7641 L67.3856 48.3985 L59.0754 50.0652 L59.0754 45.8059 L67.3393 44.1393 L72.0152 44.1393 L72.0152 74.7641 L79.654 74.7641 L79.654 78.6993 L59.7467 78.6993 L59.7467 74.7641 Z\" fill=\"#000000\" fill-rule=\"evenodd\" fill-opacity=\"1\" /><path clip-path=\"url(#clip940)\" d=\"M89.0984 72.8197 L93.9827 72.8197 L93.9827 78.6993 L89.0984 78.6993 L89.0984 72.8197 Z\" fill=\"#000000\" fill-rule=\"evenodd\" fill-opacity=\"1\" /><path clip-path=\"url(#clip940)\" d=\"M114.168 47.218 Q110.557 47.218 108.728 50.7828 Q106.922 54.3244 106.922 61.454 Q106.922 68.5605 108.728 72.1253 Q110.557 75.6669 114.168 75.6669 Q117.802 75.6669 119.608 72.1253 Q121.436 68.5605 121.436 61.454 Q121.436 54.3244 119.608 50.7828 Q117.802 47.218 114.168 47.218 M114.168 43.5143 Q119.978 43.5143 123.033 48.1207 Q126.112 52.7041 126.112 61.454 Q126.112 70.1808 123.033 74.7873 Q119.978 79.3706 114.168 79.3706 Q108.358 79.3706 105.279 74.7873 Q102.223 70.1808 102.223 61.454 Q102.223 52.7041 105.279 48.1207 Q108.358 43.5143 114.168 43.5143 Z\" fill=\"#000000\" fill-rule=\"evenodd\" fill-opacity=\"1\" /><path clip-path=\"url(#clip940)\" d=\"M144.33 47.218 Q140.719 47.218 138.89 50.7828 Q137.084 54.3244 137.084 61.454 Q137.084 68.5605 138.89 72.1253 Q140.719 75.6669 144.33 75.6669 Q147.964 75.6669 149.769 72.1253 Q151.598 68.5605 151.598 61.454 Q151.598 54.3244 149.769 50.7828 Q147.964 47.218 144.33 47.218 M144.33 43.5143 Q150.14 43.5143 153.195 48.1207 Q156.274 52.7041 156.274 61.454 Q156.274 70.1808 153.195 74.7873 Q150.14 79.3706 144.33 79.3706 Q138.519 79.3706 135.441 74.7873 Q132.385 70.1808 132.385 61.454 Q132.385 52.7041 135.441 48.1207 Q138.519 43.5143 144.33 43.5143 Z\" fill=\"#000000\" fill-rule=\"evenodd\" fill-opacity=\"1\" /><polyline clip-path=\"url(#clip942)\" style=\"stroke:#009af9; stroke-linecap:butt; stroke-linejoin:round; stroke-width:8; stroke-opacity:1; fill:none\" points=\"\n",
       "  201.967,676.131 294.276,669.142 386.586,650.923 478.896,606.504 571.205,513.837 663.515,370.846 755.825,227.855 848.134,135.188 940.444,90.769 1032.75,72.5501 \n",
       "  1125.06,65.5612 \n",
       "  \"/>\n",
       "</svg>\n"
      ]
     },
     "execution_count": 7,
     "metadata": {},
     "output_type": "execute_result"
    }
   ],
   "source": [
    "# built-in sigmoid function \"\\sigma<tab>\"\n",
    "plot(-5:5, σ.(-5:5), size=(300,200), linewidth=2, legend=false)\n",
    "#plot(-5:5, relu.(-5:5), size=(300,200), linewidth=2, legend=false)"
   ]
  },
  {
   "cell_type": "markdown",
   "id": "b9f2d81e",
   "metadata": {},
   "source": [
    "### Model"
   ]
  },
  {
   "cell_type": "code",
   "execution_count": 8,
   "id": "eb1374e8",
   "metadata": {},
   "outputs": [],
   "source": [
    "# model configuration\n",
    "nInputs  = d\n",
    "nOutputs = 10\n",
    "model = Flux.Dense(nInputs, nOutputs, relu)\n",
    "#model = Chain( Flux.Dense(nInputs, nOutputs, identity), softmax)\n",
    "\n",
    "losses(X, y)    = Flux.crossentropy( model(X), y )\n",
    "modelParameters = Flux.params(model)\n",
    "dataLoader      = Flux.DataLoader((X, y), batchsize=512)           # default batchsize=1\n",
    "callBack        = Flux.throttle(() -> println(\"training\"), 10);    # print every 10s\n"
   ]
  },
  {
   "cell_type": "markdown",
   "id": "ea26fddb",
   "metadata": {},
   "source": [
    "### Train"
   ]
  },
  {
   "cell_type": "code",
   "execution_count": 9,
   "id": "57d65169",
   "metadata": {},
   "outputs": [
    {
     "name": "stdout",
     "output_type": "stream",
     "text": [
      " 27.768466 seconds (50.05 M allocations: 3.171 GiB, 3.09% gc time, 98.74% compilation time)\n",
      "  0.249216 seconds (16.59 k allocations: 270.696 MiB, 15.68% gc time)\n"
     ]
    }
   ],
   "source": [
    "# Flux.train!(loss, params, data, opt; cb)\n",
    "@time Flux.train!(losses, modelParameters, dataLoader, Descent())   # single epoch\n",
    "@time Flux.train!(losses, modelParameters, dataLoader, Descent())   # single epoch\n",
    "\n",
    "# cpu time (batchsize=1): 2-3s"
   ]
  },
  {
   "cell_type": "raw",
   "id": "1107ddc1",
   "metadata": {},
   "source": [
    "Flux.@epochs 10 Flux.train!(losses, modelParameters, dataLoader, Descent(); cb=callBack);   # multiple epochs"
   ]
  },
  {
   "cell_type": "code",
   "execution_count": 10,
   "id": "70b05650",
   "metadata": {},
   "outputs": [
    {
     "name": "stdout",
     "output_type": "stream",
     "text": [
      "training\n",
      "  2.241246 seconds (471.26 k allocations: 2.660 GiB, 4.13% gc time, 13.23% compilation time)\n"
     ]
    }
   ],
   "source": [
    "# preferred for multiple epochs\n",
    "epochs = 10\n",
    "@time for i in 1:epochs Flux.train!(losses, modelParameters, dataLoader, Descent(); cb=callBack) end"
   ]
  },
  {
   "cell_type": "markdown",
   "id": "abef050c",
   "metadata": {},
   "source": [
    "### Predict"
   ]
  },
  {
   "cell_type": "code",
   "execution_count": 11,
   "id": "48f2e3c8",
   "metadata": {},
   "outputs": [
    {
     "data": {
      "text/plain": [
       "predictOutcome (generic function with 1 method)"
      ]
     },
     "execution_count": 11,
     "metadata": {},
     "output_type": "execute_result"
    }
   ],
   "source": [
    "function predictOutcome(X)\n",
    "    ŷ = Flux.onecold( model(X), [0:9;] )\n",
    "end\n"
   ]
  },
  {
   "cell_type": "code",
   "execution_count": 12,
   "id": "20abc856",
   "metadata": {},
   "outputs": [
    {
     "data": {
      "text/html": [
       "<table><tbody><tr><td style='text-align:center;vertical-align:middle; margin: 0.5em;border:1px #90999f solid;border-collapse:collapse'><img style='max-width: 100px; max-height:100px;display:inline' src=\"data:image/png;base64,iVBORw0KGgoAAAANSUhEUgAAAHAAAABwCAAAAADji6uXAAAABGdBTUEAALGPC/xhBQAAAAFzUkdCAK7OHOkAAAAgY0hSTQAAeiYAAICEAAD6AAAAgOgAAHUwAADqYAAAOpgAABdwnLpRPAAAAmhJREFUaAW9wT2I1gUAB+Cn+FGTRdiSg7p4Dn1o9CVEGbgZnSBlRmUQOTRES4LR0hbRVA5NDYmRBzYYXghOB4FBUDcFEYnUkRA5iOAQdG/Df3g57nzf14Lf80RZlEVZlEVZlEVZlEVZlEVZlEVZlEVZlEVZlEVZlMX/sBePYIS3sA1n8S1+xqL1oizKoixuwRxexRGDu7EJI4MR5nEAN/ADXsaKsSiLsiiLGW3HeWy13lVcwAmDL7EVT2IPzhiLsiiLspjiTryDV7ANI4Nf8Z7BCr4zdgIf2ViURVmUxQS7cQwvGlvGKSziFxubd3NRFmVRFhPM4bCxgzjr5jbhazyDVRuLsiiLsphghJGxs25uM07iKaziNyxg0VpRFmVRFrdgOy5bawvm8SbuN7aA49aLsiiLspjgIr7HYwbnsR+XsBmH8QYeNPgHf+AYFm0syqIsymKCFRzEOezCDpzDN3gWO3AbRriMD/CZyaIsyqIspriCfbiAR7ETO439iE9w0myiLMqiLGbwN65gFSNjy9iHa2YXZVEWZTGD97HfevfgmlsTZVEWZTHF4zhkcB2f4yjuwDYs4F1cMpsoi7Ioiwl24yvcZ3AAS7iIY9iF57GKl8wmyqIsymKCOWwxtmRwGvfiY9yOQ1jGh6aLsiiLspjgd/yFzQYvGFzFp3gARzHCa/gCKyaLsiiLspjgIt7GKYPTGOE6fsJWY3PYgzMmi7Ioi7KY4gIW8TTuMtiEJ6z1J26YLsqiLMpiiqs4gL14GA/hiLWW8RyumC7KoizKYkZLWDJ43X8XZVEWZVEWZVEWZVEWZVEWZf8CyMxqntkOSq8AAAAASUVORK5C\"></td><td style='text-align:center;vertical-align:middle; margin: 0.5em;border:1px #90999f solid;border-collapse:collapse'><img style='max-width: 100px; max-height:100px;display:inline' src=\"data:image/png;base64,iVBORw0KGgoAAAANSUhEUgAAAHAAAABwCAAAAADji6uXAAAABGdBTUEAALGPC/xhBQAAAAFzUkdCAK7OHOkAAAAgY0hSTQAAeiYAAICEAAD6AAAAgOgAAHUwAADqYAAAOpgAABdwnLpRPAAAAj5JREFUaAW9weFNW2cYBtBzr54xcMbAdsUWxECmwELqFBWQMUhL2CJgs0av1/huf/ADYYMpEXrPiWJRLIpFsSgWxaJYFItiUSyKRbEoFsWiWBSL3zTBDH+joUdDhxFrnGDwUhSLYlEsfsMFjnGIhuZJQ4+GKaYYvBTFolgUiw+Y4xdGdBjRYY0NRnSYYYLOrigWxaJYfMA5RjT0uMQjVhg8u8EBlrj1UhSLYlEsPqBDhzXucGXXAgt0+G5XFItiUSw+4Br/YIXB2xp6jHZFsSgWxeIDVvab4wdGdOjsimJRLIrFJzrHiIYeo11RLIpFsXjHBDNPHjB43QILdOjxJ37aFcWiWBSLPS5wjEP0eMAG11h5doFjNPS4xJXXRbEoFsXiFXN8xRId7rHBDH/gK47wgAmOMceIDe68LYpFsSgWrzjHAg1rnGHADQ7QcINTXOIQIxrusfK2KBbFolhsucQCHdY48uwMXzDFBL/QYUSHb7i1XxSLYlEstizR0OParhPcYI6GHg3fsPK+KBbFolhs6T25xU+75ujQoUeH79hg8L4oFsWiWGxpaBjtusBfaBjR0GOJEzzgzH5RLIpFsdiyxhQn+BePWGKOER16bHCPL5higgN0OPW2KBbFolhsOcEN5liiR8OIhh6XuMMKB5iiw4iN/aJYFItisWXAEX5ghgnW2GDEI648GzD4/6JYFIti8YZTzHCAFQafI4pFsSgWe6x8vigWxaJYFItiUSyKRbEoFsWiWBSLYlEsiv0Hkrx6lKe+nYMAAAAASUVORK5C\"></td><td style='text-align:center;vertical-align:middle; margin: 0.5em;border:1px #90999f solid;border-collapse:collapse'><img style='max-width: 100px; max-height:100px;display:inline' src=\"data:image/png;base64,iVBORw0KGgoAAAANSUhEUgAAAHAAAABwCAAAAADji6uXAAAABGdBTUEAALGPC/xhBQAAAAFzUkdCAK7OHOkAAAAgY0hSTQAAeiYAAICEAAD6AAAAgOgAAHUwAADqYAAAOpgAABdwnLpRPAAAAi5JREFUaAW9wT/I5wMAB+DnXp9s3iumq5NB15XBezmDK6EuUcKibnKL/CnEQAqHO06R9FqkG2RgUhbddDmL9cVssCnL1b1dhtfw+xre4duv398XfZ4nyqIsyqIsyqIsyqIsyqIsyqIs/oOTuILreBS/WS3KoizK4l96B69iE5v4FltWi7Ioi7I4oFtwP57FYQz2bVpPlEVZlMUBfYTnTNvDJeuJsiiLsjiAE3jcrPP42HqiLMqiLNZ0Eldw2GgDR/GH9UVZlEVZrOklbGIwehF/Opgoi7IoizW8grMYjD7D57gND+Nl+17DDv42X5RFWZTFCnfiBaM9fIKvcTu+wCNGP+EiLmLPrCiLsiiLFT7EMaOf8S6exHcYzHoTN+Ets6IsyqIsljiFp+zbwASf4j2cwwYmpm1gggfNF2VRFmWxxBYG+yb4CudwNwZMMOAarmILxzFgMF+URVmUxRJPm/YQ7jBtB+fxA77EcctFWZRFWSxwCseMLuM+077B85jgbZwx2jVflEVZlMUCR3Gr0RHcbNpZnMDrOGP0Pi6ZL8qiLMpigUM4ZHQvJqYNmJj2C7axa74oi7IoiwUGDEYTDKZNMBj9itPYtViURVmUxQJXcRmPWe0G3sD32LVclEVZlMUC13AB9+CIWdfxFy7gd/xoPVEWZVEWS+zgLjyDB/CE0QfYdnBRFmVRFivcwDa2/T+iLMqiLMqiLMqiLMqiLMqiLMqiLMqiLMqiLMqi7B+dVFrhvX7+SwAAAABJRU5ErkJg\"></td><td style='text-align:center;vertical-align:middle; margin: 0.5em;border:1px #90999f solid;border-collapse:collapse'><img style='max-width: 100px; max-height:100px;display:inline' src=\"data:image/png;base64,iVBORw0KGgoAAAANSUhEUgAAAHAAAABwCAAAAADji6uXAAAABGdBTUEAALGPC/xhBQAAAAFzUkdCAK7OHOkAAAAgY0hSTQAAeiYAAICEAAD6AAAAgOgAAHUwAADqYAAAOpgAABdwnLpRPAAAAlFJREFUaAW9wU2IJgIABuCnvLYtyh44KFqlPW2TNgcHJYbauYhS2mnKZnMhP+3BjtoNWZZwoLXaUXtQe5yLn5ScuCj52RywhZKYix0HdsMM4/Adppmdb+Zrhvd5oizKoizKoizKoizKoizKoizKYot24hTG8QX24hfDRVmURVlswT04hl0G9uBFHDBclEVZlMUmTeEUtuFvLGA7xhAsWluURVmUxSZci2exDd/hfvyOz3EjLsWitUVZlEVZbMLz2InXMY3zOGngDBYMF2VRFmWxCY/iJXyFBdyCA/gHs1g0XJRFWZTFJsxj3rK7EZzDMeuLsiiLstiicTxi4BUbi7Ioi7LYgitwBJfgM7xsY1EWZVEWW/A4bsWPmMSfNhZlURZlMYJdOGzZB7gZD2IJ7+Nbo4myKIuyWMflOIr92GHZfQaWcALTRhdlURZlMUTwEB7DEr7Gh9iHHZZ9igtGF2VRFmUxxFM4bOBL7MHtmLLSEVyNF4wmyqIsymIN+zBt4C3sx104jcswj+fwMK7H0xjDIfxkfVEWZVEWa7gXwUkcxAM4buAjHMInOIvXcB0mcQdO4wzexa8uFmVRFmWxyg2YwFkcxQSOGziHScwZeA+3YQKv4iocNDCPMcxZKcqiLMpilSuxHYt4A3sNfIOb8JuVfsAM3sGdGMc1eAZzLhZlURZlscrH+B67sRt/4W1M4bzhfsYMZqwvyqIsymKVC3gCJ/AHnsSb/jtRFmVRFmuYxaz/R5RFWZRFWZRFWZRFWZRFWZRFWZRFWZRFWZRFWZT9C/25ZHSSJdyjAAAAAElFTkSuQmCC\"></td><td style='text-align:center;vertical-align:middle; margin: 0.5em;border:1px #90999f solid;border-collapse:collapse'><img style='max-width: 100px; max-height:100px;display:inline' src=\"data:image/png;base64,iVBORw0KGgoAAAANSUhEUgAAAHAAAABwCAAAAADji6uXAAAABGdBTUEAALGPC/xhBQAAAAFzUkdCAK7OHOkAAAAgY0hSTQAAeiYAAICEAAD6AAAAgOgAAHUwAADqYAAAOpgAABdwnLpRPAAAAblJREFUaAW9waGPjgEAB+AHP3MCM4F6JMF2SbtEQNFsik0xbEYQzE4gMoLAFNEEhWAkNn8AoqBJZpjCME544+187/ed/Z4nyqIsyqIsyqIsyqIsyqIsyqIsyqIsyqIsyqIsyqIsyqIsyqIsRtqGo9iORazDMg5iIz5gF777tyiLsiiLEebwAgtW+ohN2IH9eOLfoizKoixGWMICvuEivuCJwS88wyJ2mizKoizKYoLjWDK4gttW985kURZlURYTLBlcwC0rbcU+g5cmi7Ioi7KY4CpO4B7+WOks5rBsnCiLsiiLCR7ggdUtYhmPjBNlURZlsQZ7ccDgunGiLMqiLNbgNDbiDV4bJ8qiLMpiRntwzOAmfhgnyqIsymJGJ7Adr/DUeFEWZVEWM9iDMwaX8dl4URZlURZT2oDz2ILneG46URZlURZTOoJTWIe7+Gk6URZlURZT2IwbBm/xwvSiLMqiLKZwH7vxHXfxyfSiLMqiLEaax2Es4yFumU2URVmUxQjrcQeb8B7nzC7KoizKYoRLOITfuIavZhdlURZlMcJJg8e4Y22iLMqiLEaY9/9EWZRFWZRFWZRF2V8iITczoEb4oAAAAABJRU5ErkJg\"></td><td style='text-align:center;vertical-align:middle; margin: 0.5em;border:1px #90999f solid;border-collapse:collapse'><img style='max-width: 100px; max-height:100px;display:inline' src=\"data:image/png;base64,iVBORw0KGgoAAAANSUhEUgAAAHAAAABwCAAAAADji6uXAAAABGdBTUEAALGPC/xhBQAAAAFzUkdCAK7OHOkAAAAgY0hSTQAAeiYAAICEAAD6AAAAgOgAAHUwAADqYAAAOpgAABdwnLpRPAAAAVhJREFUaAW9wbHO33MAxtHzyocBiaGRGDrpFVgMZmnCNbgGi8VaO9fQBqOIGLpYLFyCRDqYNXaTGHoD/+/vTZ5zMpaxjGUsYxnLWMYylrGMZSxjGctYxjKWsYxlLAfewgu8wId4jF+dyVjGMpYbfYBf8A7exR2+x0NnMpaxjOVG7+ElXuIR7lyTsYxlLDd6jude+ROP8Doe4B+3y1jGMpYLvsIzPMC3+NTtMpaxjOWC7/AMv+F9ZzKWsYzlHj7Cz85kLGMZyz395EzGMpaxjGUsYxnLWMYylrFc9Br+wlNnMpaxjOWCx/gPXzuXsYxlLBd87LqMZSxjOfQJPnddxjKWsRx6E3deeehcxjKWsRz6Af/ibXyGL53JWMYylnv4w7mMZSxjuYe/nctYxjKWi37HG85lLGMZywXf4Av86FzGMpaxXPAET1yTsYxlLGMZy1jGMpaxjGXsfwGZHj6g8Cd1AAAAAElFTkSuQmCC\"></td><td style='text-align:center;vertical-align:middle; margin: 0.5em;border:1px #90999f solid;border-collapse:collapse'><img style='max-width: 100px; max-height:100px;display:inline' src=\"data:image/png;base64,iVBORw0KGgoAAAANSUhEUgAAAHAAAABwCAAAAADji6uXAAAABGdBTUEAALGPC/xhBQAAAAFzUkdCAK7OHOkAAAAgY0hSTQAAeiYAAICEAAD6AAAAgOgAAHUwAADqYAAAOpgAABdwnLpRPAAAATVJREFUaAW9wTHOJlIAhtHzy5NIVBIFC6BWTGyCBZjeeljHLMAK9EyiHBUFteh9itmAe7/kPSdjGctYxjKWsYxlLGMZy1jGMpaxjGUsYxnLWMZy6SP8hu/xg/8vYxnLWC59g0/xcCZjGctYLn3rTsYylrFceIWv3clYxjKWC5/gQ++9OJOxjGUsF77DA3/hR2cylrGM5Qlv8M6ZjGUsY3nCW+cylrGM5dDH+BIv+Mm5jGUsYzn0Gp/j4U7GMpaxHPrCczKWsYzl0jv841zGMpaxXHjBr/jbuYxlLGO58HAvYxnLWA699t4bdzKWsYzl0Gf4E2/dyVjGMpZDH+AP/O5OxjKWsRx4hX/xcC9jGctYDvzseRnLWMZy6BfPyVjGMpZDX3lOxjKWsYxlLGMZy1jGMpax/wBrMBsjsc3gvQAAAABJRU5ErkJg\"></td><td style='text-align:center;vertical-align:middle; margin: 0.5em;border:1px #90999f solid;border-collapse:collapse'><img style='max-width: 100px; max-height:100px;display:inline' src=\"data:image/png;base64,iVBORw0KGgoAAAANSUhEUgAAAHAAAABwCAAAAADji6uXAAAABGdBTUEAALGPC/xhBQAAAAFzUkdCAK7OHOkAAAAgY0hSTQAAeiYAAICEAAD6AAAAgOgAAHUwAADqYAAAOpgAABdwnLpRPAAAAS5JREFUaAW9wUG15VQARcHKY4sCI4AL1kJIYwMG6PgtpHUkWCB3cKoylrGMZSxjGctYxjKWsYxlLGMZy1jGMpaxjGUsBx7c+Ml7GctYxnLgxu1MxjKWsRy48MEv+PJOxjKWsRx4cOMPfHknYxnLWA5c+ODyXsYylrEceHDj8V7GMpaxHLjwweW9jGUsYznw4MbjvYxlLGM5cOGDy3sZy1jGcuDBjcd7GctYxnLgwgeX9zKWsYzlwIMbf3kvYxnLWA5c+OC79zKWsYzlwIPbmYxlLGM5cOHjTMYylrEceHDjT3zzTsYylrEcuPBxJmMZy1gOPLjxzXsZy1jGcuB3/I1/8Jt3MpaxjOXAF37FN/yM7/6/jGUsYznwAz/wr/cylrGMZSxjGctYxjKWsYz9BxDJJPmPPHClAAAAAElFTkSuQmCC\"></td></tr></tbody></table><div><small>(a vector displayed as a row to save space)</small></div>"
      ],
      "text/plain": [
       "8-element Vector{Base.ReinterpretArray{Gray{N0f8}, 2, N0f8, Matrix{N0f8}, true}}:\n",
       " [Gray{N0f8}(0.0) Gray{N0f8}(0.0) … Gray{N0f8}(0.0) Gray{N0f8}(0.0); Gray{N0f8}(0.0) Gray{N0f8}(0.0) … Gray{N0f8}(0.0) Gray{N0f8}(0.0); … ; Gray{N0f8}(0.0) Gray{N0f8}(0.0) … Gray{N0f8}(0.0) Gray{N0f8}(0.0); Gray{N0f8}(0.0) Gray{N0f8}(0.0) … Gray{N0f8}(0.0) Gray{N0f8}(0.0)]\n",
       " [Gray{N0f8}(0.0) Gray{N0f8}(0.0) … Gray{N0f8}(0.0) Gray{N0f8}(0.0); Gray{N0f8}(0.0) Gray{N0f8}(0.0) … Gray{N0f8}(0.0) Gray{N0f8}(0.0); … ; Gray{N0f8}(0.0) Gray{N0f8}(0.0) … Gray{N0f8}(0.0) Gray{N0f8}(0.0); Gray{N0f8}(0.0) Gray{N0f8}(0.0) … Gray{N0f8}(0.0) Gray{N0f8}(0.0)]\n",
       " [Gray{N0f8}(0.0) Gray{N0f8}(0.0) … Gray{N0f8}(0.0) Gray{N0f8}(0.0); Gray{N0f8}(0.0) Gray{N0f8}(0.0) … Gray{N0f8}(0.0) Gray{N0f8}(0.0); … ; Gray{N0f8}(0.0) Gray{N0f8}(0.0) … Gray{N0f8}(0.0) Gray{N0f8}(0.0); Gray{N0f8}(0.0) Gray{N0f8}(0.0) … Gray{N0f8}(0.0) Gray{N0f8}(0.0)]\n",
       " [Gray{N0f8}(0.0) Gray{N0f8}(0.0) … Gray{N0f8}(0.0) Gray{N0f8}(0.0); Gray{N0f8}(0.0) Gray{N0f8}(0.0) … Gray{N0f8}(0.0) Gray{N0f8}(0.0); … ; Gray{N0f8}(0.0) Gray{N0f8}(0.0) … Gray{N0f8}(0.0) Gray{N0f8}(0.0); Gray{N0f8}(0.0) Gray{N0f8}(0.0) … Gray{N0f8}(0.0) Gray{N0f8}(0.0)]\n",
       " [Gray{N0f8}(0.0) Gray{N0f8}(0.0) … Gray{N0f8}(0.0) Gray{N0f8}(0.0); Gray{N0f8}(0.0) Gray{N0f8}(0.0) … Gray{N0f8}(0.0) Gray{N0f8}(0.0); … ; Gray{N0f8}(0.0) Gray{N0f8}(0.0) … Gray{N0f8}(0.0) Gray{N0f8}(0.0); Gray{N0f8}(0.0) Gray{N0f8}(0.0) … Gray{N0f8}(0.0) Gray{N0f8}(0.0)]\n",
       " [Gray{N0f8}(0.0) Gray{N0f8}(0.0) … Gray{N0f8}(0.0) Gray{N0f8}(0.0); Gray{N0f8}(0.0) Gray{N0f8}(0.0) … Gray{N0f8}(0.0) Gray{N0f8}(0.0); … ; Gray{N0f8}(0.0) Gray{N0f8}(0.0) … Gray{N0f8}(0.0) Gray{N0f8}(0.0); Gray{N0f8}(0.0) Gray{N0f8}(0.0) … Gray{N0f8}(0.0) Gray{N0f8}(0.0)]\n",
       " [Gray{N0f8}(0.0) Gray{N0f8}(0.0) … Gray{N0f8}(0.0) Gray{N0f8}(0.0); Gray{N0f8}(0.0) Gray{N0f8}(0.0) … Gray{N0f8}(0.0) Gray{N0f8}(0.0); … ; Gray{N0f8}(0.0) Gray{N0f8}(0.0) … Gray{N0f8}(0.0) Gray{N0f8}(0.0); Gray{N0f8}(0.0) Gray{N0f8}(0.0) … Gray{N0f8}(0.0) Gray{N0f8}(0.0)]\n",
       " [Gray{N0f8}(0.0) Gray{N0f8}(0.0) … Gray{N0f8}(0.0) Gray{N0f8}(0.0); Gray{N0f8}(0.0) Gray{N0f8}(0.0) … Gray{N0f8}(0.0) Gray{N0f8}(0.0); … ; Gray{N0f8}(0.0) Gray{N0f8}(0.0) … Gray{N0f8}(0.0) Gray{N0f8}(0.0); Gray{N0f8}(0.0) Gray{N0f8}(0.0) … Gray{N0f8}(0.0) Gray{N0f8}(0.0)]"
      ]
     },
     "metadata": {},
     "output_type": "display_data"
    },
    {
     "data": {
      "text/plain": [
       "1×8 adjoint(::Vector{Int64}) with eltype Int64:\n",
       " 8  2  6  2  7  1  1  1"
      ]
     },
     "execution_count": 12,
     "metadata": {},
     "output_type": "execute_result"
    }
   ],
   "source": [
    "ŷ = predictOutcome(X)\n",
    "\n",
    "display([MNIST.convert2image(trainX[:,:,i]) for i in 1:8])\n",
    "ŷ[1:8]'"
   ]
  },
  {
   "cell_type": "code",
   "execution_count": 13,
   "id": "9f9dd472",
   "metadata": {},
   "outputs": [
    {
     "data": {
      "text/plain": [
       "10×10 Matrix{Int64}:\n",
       " 3814     0   100    49    21   156   103    71    40    60\n",
       "    0  4579   353   114   112   272   116   263   461   153\n",
       "   29    34  3112   113    28    55   133    55    82    40\n",
       "   68    25   164  3665     5  1041    21     9   551    89\n",
       "    8     2    81     7  3020    94    34    49    33   271\n",
       "   70    13     4    27     0  1710    63     1    65     8\n",
       "  106     7   130    36    66    97  3652     4    38     5\n",
       "    4     6    91    69    31    58     1  3764    46   327\n",
       "   33    43   115   116    42    84    19    21  2569    43\n",
       "   14    10    21    96   764   228     1   149   211  3168"
      ]
     },
     "metadata": {},
     "output_type": "display_data"
    },
    {
     "name": "stdout",
     "output_type": "stream",
     "text": [
      "accuracy: 0.787\n",
      "f1-score: 0.78\n"
     ]
    }
   ],
   "source": [
    "printMetrics( coerce(ŷ, OrderedFactor), coerce(trainY, OrderedFactor) )"
   ]
  },
  {
   "cell_type": "code",
   "execution_count": null,
   "id": "df4081dc",
   "metadata": {},
   "outputs": [],
   "source": []
  }
 ],
 "metadata": {
  "kernelspec": {
   "display_name": "Julia 1.6.5",
   "language": "julia",
   "name": "julia-1.6"
  },
  "language_info": {
   "file_extension": ".jl",
   "mimetype": "application/julia",
   "name": "julia",
   "version": "1.6.5"
  }
 },
 "nbformat": 4,
 "nbformat_minor": 5
}
