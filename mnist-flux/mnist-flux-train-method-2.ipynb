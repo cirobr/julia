{
 "cells": [
  {
   "cell_type": "markdown",
   "id": "e145f758",
   "metadata": {},
   "source": [
    "# Flux with MNIST\n"
   ]
  },
  {
   "cell_type": "markdown",
   "id": "5f262ba3",
   "metadata": {},
   "source": [
    "## Libraries"
   ]
  },
  {
   "cell_type": "code",
   "execution_count": 1,
   "id": "d63e87f2",
   "metadata": {},
   "outputs": [],
   "source": [
    "#using CUDA\n",
    "\n",
    "using Flux              # the julia ml library\n",
    "using Images            # image processing and machine vision for julia\n",
    "\n",
    "using MLJ               # make_blobs, rmse, confmat, f1score, coerce\n",
    "#using MLJFlux           # NeuralNetworkClassifier, CUDALibs\n",
    "using MLDataUtils       # label, nlabel, labelfreq, stratifiedobs\n",
    "using MLDatasets        # mnist\n",
    "\n",
    "using LinearAlgebra     # pinv pseudo-inverse matrix\n",
    "#using Metrics           # r2-score\n",
    "using Random\n",
    "using StatsBase         # standardize (normalization)\n",
    "using Distributions\n",
    "\n",
    "using Plots; gr()\n",
    "using StatsPlots\n",
    "using Printf\n",
    "\n",
    "#using CSV\n",
    "using DataFrames\n"
   ]
  },
  {
   "cell_type": "markdown",
   "id": "d53a09fe",
   "metadata": {},
   "source": [
    "## Functions"
   ]
  },
  {
   "cell_type": "code",
   "execution_count": 2,
   "id": "66ccdfa6",
   "metadata": {},
   "outputs": [
    {
     "data": {
      "text/plain": [
       "printMetrics (generic function with 1 method)"
      ]
     },
     "execution_count": 2,
     "metadata": {},
     "output_type": "execute_result"
    }
   ],
   "source": [
    "# metrics\n",
    "function printMetrics(ŷ, y)\n",
    "    display(confmat(ŷ, y))\n",
    "    println(\"accuracy: \", round(accuracy(ŷ, y); digits=3))\n",
    "    println(\"f1-score: \", round(multiclass_f1score(ŷ, y); digits=3))\n",
    "end\n"
   ]
  },
  {
   "cell_type": "markdown",
   "id": "8903cf71",
   "metadata": {},
   "source": [
    "## Dataset"
   ]
  },
  {
   "cell_type": "code",
   "execution_count": 3,
   "id": "4bd90da6",
   "metadata": {},
   "outputs": [],
   "source": [
    "# load mnist from MLDatasets\n",
    "trainX_original,      trainY_original      = MNIST.traindata()\n",
    "validationX_original, validationY_original = MNIST.testdata();\n"
   ]
  },
  {
   "cell_type": "code",
   "execution_count": 4,
   "id": "7f2acc6e",
   "metadata": {},
   "outputs": [
    {
     "data": {
      "text/plain": [
       "((28, 28, 42001), (28, 28, 17999), (28, 28, 10000))"
      ]
     },
     "execution_count": 4,
     "metadata": {},
     "output_type": "execute_result"
    }
   ],
   "source": [
    "# split trainset, testset, validation set\n",
    "Random.seed!(1)\n",
    "(trainX, trainY), (testX, testY) = stratifiedobs((trainX_original, trainY_original), p = 0.7)\n",
    "validationX = copy(validationX_original); validationY = copy(validationY_original)\n",
    "\n",
    "size(trainX), size(testX), size(validationX)"
   ]
  },
  {
   "cell_type": "markdown",
   "id": "b8b9c3b0",
   "metadata": {},
   "source": [
    "## Preprocessing\n",
    "\n",
    "Flux primarily works with matrices and vectors"
   ]
  },
  {
   "cell_type": "code",
   "execution_count": 5,
   "id": "f76c815d",
   "metadata": {},
   "outputs": [],
   "source": [
    "function preprocess(X, y)\n",
    "    Xs = Float32.(X) |> Flux.flatten\n",
    "    ys = Flux.onehotbatch( Float32.(y), 0:9 )\n",
    "    \n",
    "    return (Xs, ys)\n",
    "end\n",
    "\n",
    "h, v, N = size(trainX); d = h * v\n",
    "X, y = preprocess(trainX, trainY);"
   ]
  },
  {
   "cell_type": "code",
   "execution_count": 6,
   "id": "67d36968",
   "metadata": {},
   "outputs": [
    {
     "data": {
      "text/plain": [
       "(784, 42001, (784, 42001), (10, 42001))"
      ]
     },
     "execution_count": 6,
     "metadata": {},
     "output_type": "execute_result"
    }
   ],
   "source": [
    "d, N, size(X), size(y)"
   ]
  },
  {
   "cell_type": "markdown",
   "id": "67b2b3d1",
   "metadata": {},
   "source": [
    "### tanh"
   ]
  },
  {
   "cell_type": "code",
   "execution_count": 7,
   "id": "7d4b4daf",
   "metadata": {},
   "outputs": [
    {
     "data": {
      "image/svg+xml": [
       "<?xml version=\"1.0\" encoding=\"utf-8\"?>\n",
       "<svg xmlns=\"http://www.w3.org/2000/svg\" xmlns:xlink=\"http://www.w3.org/1999/xlink\" width=\"300\" height=\"200\" viewBox=\"0 0 1200 800\">\n",
       "<defs>\n",
       "  <clipPath id=\"clip150\">\n",
       "    <rect x=\"0\" y=\"0\" width=\"1200\" height=\"800\"/>\n",
       "  </clipPath>\n",
       "</defs>\n",
       "<path clip-path=\"url(#clip150)\" d=\"\n",
       "M0 800 L1200 800 L1200 0 L0 0  Z\n",
       "  \" fill=\"#ffffff\" fill-rule=\"evenodd\" fill-opacity=\"1\"/>\n",
       "<defs>\n",
       "  <clipPath id=\"clip151\">\n",
       "    <rect x=\"240\" y=\"0\" width=\"841\" height=\"800\"/>\n",
       "  </clipPath>\n",
       "</defs>\n",
       "<path clip-path=\"url(#clip150)\" d=\"\n",
       "M181.936 694.448 L1152.76 694.448 L1152.76 47.2441 L181.936 47.2441  Z\n",
       "  \" fill=\"#ffffff\" fill-rule=\"evenodd\" fill-opacity=\"1\"/>\n",
       "<defs>\n",
       "  <clipPath id=\"clip152\">\n",
       "    <rect x=\"181\" y=\"47\" width=\"972\" height=\"648\"/>\n",
       "  </clipPath>\n",
       "</defs>\n",
       "<polyline clip-path=\"url(#clip152)\" style=\"stroke:#000000; stroke-linecap:butt; stroke-linejoin:round; stroke-width:2; stroke-opacity:0.1; fill:none\" points=\"\n",
       "  300.999,694.448 300.999,47.2441 \n",
       "  \"/>\n",
       "<polyline clip-path=\"url(#clip152)\" style=\"stroke:#000000; stroke-linecap:butt; stroke-linejoin:round; stroke-width:2; stroke-opacity:0.1; fill:none\" points=\"\n",
       "  484.172,694.448 484.172,47.2441 \n",
       "  \"/>\n",
       "<polyline clip-path=\"url(#clip152)\" style=\"stroke:#000000; stroke-linecap:butt; stroke-linejoin:round; stroke-width:2; stroke-opacity:0.1; fill:none\" points=\"\n",
       "  667.346,694.448 667.346,47.2441 \n",
       "  \"/>\n",
       "<polyline clip-path=\"url(#clip152)\" style=\"stroke:#000000; stroke-linecap:butt; stroke-linejoin:round; stroke-width:2; stroke-opacity:0.1; fill:none\" points=\"\n",
       "  850.52,694.448 850.52,47.2441 \n",
       "  \"/>\n",
       "<polyline clip-path=\"url(#clip152)\" style=\"stroke:#000000; stroke-linecap:butt; stroke-linejoin:round; stroke-width:2; stroke-opacity:0.1; fill:none\" points=\"\n",
       "  1033.69,694.448 1033.69,47.2441 \n",
       "  \"/>\n",
       "<polyline clip-path=\"url(#clip150)\" style=\"stroke:#000000; stroke-linecap:butt; stroke-linejoin:round; stroke-width:4; stroke-opacity:1; fill:none\" points=\"\n",
       "  181.936,694.448 1152.76,694.448 \n",
       "  \"/>\n",
       "<polyline clip-path=\"url(#clip150)\" style=\"stroke:#000000; stroke-linecap:butt; stroke-linejoin:round; stroke-width:4; stroke-opacity:1; fill:none\" points=\"\n",
       "  300.999,694.448 300.999,675.55 \n",
       "  \"/>\n",
       "<polyline clip-path=\"url(#clip150)\" style=\"stroke:#000000; stroke-linecap:butt; stroke-linejoin:round; stroke-width:4; stroke-opacity:1; fill:none\" points=\"\n",
       "  484.172,694.448 484.172,675.55 \n",
       "  \"/>\n",
       "<polyline clip-path=\"url(#clip150)\" style=\"stroke:#000000; stroke-linecap:butt; stroke-linejoin:round; stroke-width:4; stroke-opacity:1; fill:none\" points=\"\n",
       "  667.346,694.448 667.346,675.55 \n",
       "  \"/>\n",
       "<polyline clip-path=\"url(#clip150)\" style=\"stroke:#000000; stroke-linecap:butt; stroke-linejoin:round; stroke-width:4; stroke-opacity:1; fill:none\" points=\"\n",
       "  850.52,694.448 850.52,675.55 \n",
       "  \"/>\n",
       "<polyline clip-path=\"url(#clip150)\" style=\"stroke:#000000; stroke-linecap:butt; stroke-linejoin:round; stroke-width:4; stroke-opacity:1; fill:none\" points=\"\n",
       "  1033.69,694.448 1033.69,675.55 \n",
       "  \"/>\n",
       "<path clip-path=\"url(#clip150)\" d=\"M269.899 730.419 L299.575 730.419 L299.575 734.354 L269.899 734.354 L269.899 730.419 Z\" fill=\"#000000\" fill-rule=\"evenodd\" fill-opacity=\"1\" /><path clip-path=\"url(#clip150)\" d=\"M322.515 716.762 L310.709 735.211 L322.515 735.211 L322.515 716.762 M321.288 712.688 L327.168 712.688 L327.168 735.211 L332.098 735.211 L332.098 739.1 L327.168 739.1 L327.168 747.248 L322.515 747.248 L322.515 739.1 L306.913 739.1 L306.913 734.586 L321.288 712.688 Z\" fill=\"#000000\" fill-rule=\"evenodd\" fill-opacity=\"1\" /><path clip-path=\"url(#clip150)\" d=\"M454.115 730.419 L483.79 730.419 L483.79 734.354 L454.115 734.354 L454.115 730.419 Z\" fill=\"#000000\" fill-rule=\"evenodd\" fill-opacity=\"1\" /><path clip-path=\"url(#clip150)\" d=\"M497.911 743.313 L514.23 743.313 L514.23 747.248 L492.286 747.248 L492.286 743.313 Q494.948 740.558 499.531 735.928 Q504.138 731.276 505.318 729.933 Q507.563 727.41 508.443 725.674 Q509.346 723.915 509.346 722.225 Q509.346 719.47 507.401 717.734 Q505.48 715.998 502.378 715.998 Q500.179 715.998 497.726 716.762 Q495.295 717.526 492.517 719.077 L492.517 714.355 Q495.341 713.22 497.795 712.642 Q500.249 712.063 502.286 712.063 Q507.656 712.063 510.85 714.748 Q514.045 717.433 514.045 721.924 Q514.045 724.054 513.235 725.975 Q512.448 727.873 510.341 730.466 Q509.763 731.137 506.661 734.354 Q503.559 737.549 497.911 743.313 Z\" fill=\"#000000\" fill-rule=\"evenodd\" fill-opacity=\"1\" /><path clip-path=\"url(#clip150)\" d=\"M667.346 715.767 Q663.735 715.767 661.906 719.331 Q660.101 722.873 660.101 730.003 Q660.101 737.109 661.906 740.674 Q663.735 744.215 667.346 744.215 Q670.98 744.215 672.786 740.674 Q674.614 737.109 674.614 730.003 Q674.614 722.873 672.786 719.331 Q670.98 715.767 667.346 715.767 M667.346 712.063 Q673.156 712.063 676.212 716.669 Q679.29 721.253 679.29 730.003 Q679.29 738.729 676.212 743.336 Q673.156 747.919 667.346 747.919 Q661.536 747.919 658.457 743.336 Q655.402 738.729 655.402 730.003 Q655.402 721.253 658.457 716.669 Q661.536 712.063 667.346 712.063 Z\" fill=\"#000000\" fill-rule=\"evenodd\" fill-opacity=\"1\" /><path clip-path=\"url(#clip150)\" d=\"M845.172 743.313 L861.492 743.313 L861.492 747.248 L839.547 747.248 L839.547 743.313 Q842.209 740.558 846.793 735.928 Q851.399 731.276 852.58 729.933 Q854.825 727.41 855.705 725.674 Q856.607 723.915 856.607 722.225 Q856.607 719.47 854.663 717.734 Q852.742 715.998 849.64 715.998 Q847.441 715.998 844.987 716.762 Q842.557 717.526 839.779 719.077 L839.779 714.355 Q842.603 713.22 845.057 712.642 Q847.51 712.063 849.547 712.063 Q854.918 712.063 858.112 714.748 Q861.306 717.433 861.306 721.924 Q861.306 724.054 860.496 725.975 Q859.709 727.873 857.603 730.466 Q857.024 731.137 853.922 734.354 Q850.82 737.549 845.172 743.313 Z\" fill=\"#000000\" fill-rule=\"evenodd\" fill-opacity=\"1\" /><path clip-path=\"url(#clip150)\" d=\"M1036.7 716.762 L1024.9 735.211 L1036.7 735.211 L1036.7 716.762 M1035.48 712.688 L1041.36 712.688 L1041.36 735.211 L1046.29 735.211 L1046.29 739.1 L1041.36 739.1 L1041.36 747.248 L1036.7 747.248 L1036.7 739.1 L1021.1 739.1 L1021.1 734.586 L1035.48 712.688 Z\" fill=\"#000000\" fill-rule=\"evenodd\" fill-opacity=\"1\" /><polyline clip-path=\"url(#clip152)\" style=\"stroke:#000000; stroke-linecap:butt; stroke-linejoin:round; stroke-width:2; stroke-opacity:0.1; fill:none\" points=\"\n",
       "  181.936,676.159 1152.76,676.159 \n",
       "  \"/>\n",
       "<polyline clip-path=\"url(#clip152)\" style=\"stroke:#000000; stroke-linecap:butt; stroke-linejoin:round; stroke-width:2; stroke-opacity:0.1; fill:none\" points=\"\n",
       "  181.936,523.502 1152.76,523.502 \n",
       "  \"/>\n",
       "<polyline clip-path=\"url(#clip152)\" style=\"stroke:#000000; stroke-linecap:butt; stroke-linejoin:round; stroke-width:2; stroke-opacity:0.1; fill:none\" points=\"\n",
       "  181.936,370.846 1152.76,370.846 \n",
       "  \"/>\n",
       "<polyline clip-path=\"url(#clip152)\" style=\"stroke:#000000; stroke-linecap:butt; stroke-linejoin:round; stroke-width:2; stroke-opacity:0.1; fill:none\" points=\"\n",
       "  181.936,218.19 1152.76,218.19 \n",
       "  \"/>\n",
       "<polyline clip-path=\"url(#clip152)\" style=\"stroke:#000000; stroke-linecap:butt; stroke-linejoin:round; stroke-width:2; stroke-opacity:0.1; fill:none\" points=\"\n",
       "  181.936,65.5335 1152.76,65.5335 \n",
       "  \"/>\n",
       "<polyline clip-path=\"url(#clip150)\" style=\"stroke:#000000; stroke-linecap:butt; stroke-linejoin:round; stroke-width:4; stroke-opacity:1; fill:none\" points=\"\n",
       "  181.936,694.448 181.936,47.2441 \n",
       "  \"/>\n",
       "<polyline clip-path=\"url(#clip150)\" style=\"stroke:#000000; stroke-linecap:butt; stroke-linejoin:round; stroke-width:4; stroke-opacity:1; fill:none\" points=\"\n",
       "  181.936,676.159 200.834,676.159 \n",
       "  \"/>\n",
       "<polyline clip-path=\"url(#clip150)\" style=\"stroke:#000000; stroke-linecap:butt; stroke-linejoin:round; stroke-width:4; stroke-opacity:1; fill:none\" points=\"\n",
       "  181.936,523.502 200.834,523.502 \n",
       "  \"/>\n",
       "<polyline clip-path=\"url(#clip150)\" style=\"stroke:#000000; stroke-linecap:butt; stroke-linejoin:round; stroke-width:4; stroke-opacity:1; fill:none\" points=\"\n",
       "  181.936,370.846 200.834,370.846 \n",
       "  \"/>\n",
       "<polyline clip-path=\"url(#clip150)\" style=\"stroke:#000000; stroke-linecap:butt; stroke-linejoin:round; stroke-width:4; stroke-opacity:1; fill:none\" points=\"\n",
       "  181.936,218.19 200.834,218.19 \n",
       "  \"/>\n",
       "<polyline clip-path=\"url(#clip150)\" style=\"stroke:#000000; stroke-linecap:butt; stroke-linejoin:round; stroke-width:4; stroke-opacity:1; fill:none\" points=\"\n",
       "  181.936,65.5335 200.834,65.5335 \n",
       "  \"/>\n",
       "<path clip-path=\"url(#clip150)\" d=\"M56.9921 676.61 L86.6679 676.61 L86.6679 680.545 L56.9921 680.545 L56.9921 676.61 Z\" fill=\"#000000\" fill-rule=\"evenodd\" fill-opacity=\"1\" /><path clip-path=\"url(#clip150)\" d=\"M97.5706 689.503 L105.209 689.503 L105.209 663.138 L96.8993 664.804 L96.8993 660.545 L105.163 658.879 L109.839 658.879 L109.839 689.503 L117.478 689.503 L117.478 693.439 L97.5706 693.439 L97.5706 689.503 Z\" fill=\"#000000\" fill-rule=\"evenodd\" fill-opacity=\"1\" /><path clip-path=\"url(#clip150)\" d=\"M126.922 687.559 L131.807 687.559 L131.807 693.439 L126.922 693.439 L126.922 687.559 Z\" fill=\"#000000\" fill-rule=\"evenodd\" fill-opacity=\"1\" /><path clip-path=\"url(#clip150)\" d=\"M151.992 661.957 Q148.381 661.957 146.552 665.522 Q144.746 669.064 144.746 676.193 Q144.746 683.3 146.552 686.864 Q148.381 690.406 151.992 690.406 Q155.626 690.406 157.431 686.864 Q159.26 683.3 159.26 676.193 Q159.26 669.064 157.431 665.522 Q155.626 661.957 151.992 661.957 M151.992 658.254 Q157.802 658.254 160.857 662.86 Q163.936 667.443 163.936 676.193 Q163.936 684.92 160.857 689.526 Q157.802 694.11 151.992 694.11 Q146.181 694.11 143.103 689.526 Q140.047 684.92 140.047 676.193 Q140.047 667.443 143.103 662.86 Q146.181 658.254 151.992 658.254 Z\" fill=\"#000000\" fill-rule=\"evenodd\" fill-opacity=\"1\" /><path clip-path=\"url(#clip150)\" d=\"M57.9875 523.954 L87.6633 523.954 L87.6633 527.889 L57.9875 527.889 L57.9875 523.954 Z\" fill=\"#000000\" fill-rule=\"evenodd\" fill-opacity=\"1\" /><path clip-path=\"url(#clip150)\" d=\"M107.756 509.301 Q104.145 509.301 102.316 512.866 Q100.51 516.407 100.51 523.537 Q100.51 530.643 102.316 534.208 Q104.145 537.75 107.756 537.75 Q111.39 537.75 113.196 534.208 Q115.024 530.643 115.024 523.537 Q115.024 516.407 113.196 512.866 Q111.39 509.301 107.756 509.301 M107.756 505.597 Q113.566 505.597 116.621 510.204 Q119.7 514.787 119.7 523.537 Q119.7 532.264 116.621 536.87 Q113.566 541.454 107.756 541.454 Q101.946 541.454 98.8669 536.87 Q95.8114 532.264 95.8114 523.537 Q95.8114 514.787 98.8669 510.204 Q101.946 505.597 107.756 505.597 Z\" fill=\"#000000\" fill-rule=\"evenodd\" fill-opacity=\"1\" /><path clip-path=\"url(#clip150)\" d=\"M127.918 534.903 L132.802 534.903 L132.802 540.782 L127.918 540.782 L127.918 534.903 Z\" fill=\"#000000\" fill-rule=\"evenodd\" fill-opacity=\"1\" /><path clip-path=\"url(#clip150)\" d=\"M143.033 506.222 L161.39 506.222 L161.39 510.157 L147.316 510.157 L147.316 518.63 Q148.334 518.282 149.353 518.12 Q150.371 517.935 151.39 517.935 Q157.177 517.935 160.556 521.106 Q163.936 524.278 163.936 529.694 Q163.936 535.273 160.464 538.375 Q156.992 541.454 150.672 541.454 Q148.496 541.454 146.228 541.083 Q143.982 540.713 141.575 539.972 L141.575 535.273 Q143.658 536.407 145.881 536.963 Q148.103 537.518 150.58 537.518 Q154.584 537.518 156.922 535.412 Q159.26 533.305 159.26 529.694 Q159.26 526.083 156.922 523.977 Q154.584 521.87 150.58 521.87 Q148.705 521.87 146.83 522.287 Q144.978 522.704 143.033 523.583 L143.033 506.222 Z\" fill=\"#000000\" fill-rule=\"evenodd\" fill-opacity=\"1\" /><path clip-path=\"url(#clip150)\" d=\"M106.76 356.645 Q103.149 356.645 101.321 360.209 Q99.515 363.751 99.515 370.881 Q99.515 377.987 101.321 381.552 Q103.149 385.094 106.76 385.094 Q110.395 385.094 112.2 381.552 Q114.029 377.987 114.029 370.881 Q114.029 363.751 112.2 360.209 Q110.395 356.645 106.76 356.645 M106.76 352.941 Q112.571 352.941 115.626 357.547 Q118.705 362.131 118.705 370.881 Q118.705 379.608 115.626 384.214 Q112.571 388.797 106.76 388.797 Q100.95 388.797 97.8715 384.214 Q94.816 379.608 94.816 370.881 Q94.816 362.131 97.8715 357.547 Q100.95 352.941 106.76 352.941 Z\" fill=\"#000000\" fill-rule=\"evenodd\" fill-opacity=\"1\" /><path clip-path=\"url(#clip150)\" d=\"M126.922 382.246 L131.807 382.246 L131.807 388.126 L126.922 388.126 L126.922 382.246 Z\" fill=\"#000000\" fill-rule=\"evenodd\" fill-opacity=\"1\" /><path clip-path=\"url(#clip150)\" d=\"M151.992 356.645 Q148.381 356.645 146.552 360.209 Q144.746 363.751 144.746 370.881 Q144.746 377.987 146.552 381.552 Q148.381 385.094 151.992 385.094 Q155.626 385.094 157.431 381.552 Q159.26 377.987 159.26 370.881 Q159.26 363.751 157.431 360.209 Q155.626 356.645 151.992 356.645 M151.992 352.941 Q157.802 352.941 160.857 357.547 Q163.936 362.131 163.936 370.881 Q163.936 379.608 160.857 384.214 Q157.802 388.797 151.992 388.797 Q146.181 388.797 143.103 384.214 Q140.047 379.608 140.047 370.881 Q140.047 362.131 143.103 357.547 Q146.181 352.941 151.992 352.941 Z\" fill=\"#000000\" fill-rule=\"evenodd\" fill-opacity=\"1\" /><path clip-path=\"url(#clip150)\" d=\"M107.756 203.988 Q104.145 203.988 102.316 207.553 Q100.51 211.095 100.51 218.224 Q100.51 225.331 102.316 228.896 Q104.145 232.437 107.756 232.437 Q111.39 232.437 113.196 228.896 Q115.024 225.331 115.024 218.224 Q115.024 211.095 113.196 207.553 Q111.39 203.988 107.756 203.988 M107.756 200.285 Q113.566 200.285 116.621 204.891 Q119.7 209.474 119.7 218.224 Q119.7 226.951 116.621 231.558 Q113.566 236.141 107.756 236.141 Q101.946 236.141 98.8669 231.558 Q95.8114 226.951 95.8114 218.224 Q95.8114 209.474 98.8669 204.891 Q101.946 200.285 107.756 200.285 Z\" fill=\"#000000\" fill-rule=\"evenodd\" fill-opacity=\"1\" /><path clip-path=\"url(#clip150)\" d=\"M127.918 229.59 L132.802 229.59 L132.802 235.47 L127.918 235.47 L127.918 229.59 Z\" fill=\"#000000\" fill-rule=\"evenodd\" fill-opacity=\"1\" /><path clip-path=\"url(#clip150)\" d=\"M143.033 200.91 L161.39 200.91 L161.39 204.845 L147.316 204.845 L147.316 213.317 Q148.334 212.97 149.353 212.808 Q150.371 212.623 151.39 212.623 Q157.177 212.623 160.556 215.794 Q163.936 218.965 163.936 224.382 Q163.936 229.96 160.464 233.062 Q156.992 236.141 150.672 236.141 Q148.496 236.141 146.228 235.771 Q143.982 235.4 141.575 234.66 L141.575 229.96 Q143.658 231.095 145.881 231.65 Q148.103 232.206 150.58 232.206 Q154.584 232.206 156.922 230.099 Q159.26 227.993 159.26 224.382 Q159.26 220.771 156.922 218.664 Q154.584 216.558 150.58 216.558 Q148.705 216.558 146.83 216.974 Q144.978 217.391 143.033 218.271 L143.033 200.91 Z\" fill=\"#000000\" fill-rule=\"evenodd\" fill-opacity=\"1\" /><path clip-path=\"url(#clip150)\" d=\"M97.5706 78.8783 L105.209 78.8783 L105.209 52.5127 L96.8993 54.1794 L96.8993 49.9201 L105.163 48.2535 L109.839 48.2535 L109.839 78.8783 L117.478 78.8783 L117.478 82.8135 L97.5706 82.8135 L97.5706 78.8783 Z\" fill=\"#000000\" fill-rule=\"evenodd\" fill-opacity=\"1\" /><path clip-path=\"url(#clip150)\" d=\"M126.922 76.9339 L131.807 76.9339 L131.807 82.8135 L126.922 82.8135 L126.922 76.9339 Z\" fill=\"#000000\" fill-rule=\"evenodd\" fill-opacity=\"1\" /><path clip-path=\"url(#clip150)\" d=\"M151.992 51.3321 Q148.381 51.3321 146.552 54.8969 Q144.746 58.4386 144.746 65.5682 Q144.746 72.6746 146.552 76.2394 Q148.381 79.7811 151.992 79.7811 Q155.626 79.7811 157.431 76.2394 Q159.26 72.6746 159.26 65.5682 Q159.26 58.4386 157.431 54.8969 Q155.626 51.3321 151.992 51.3321 M151.992 47.6285 Q157.802 47.6285 160.857 52.2349 Q163.936 56.8182 163.936 65.5682 Q163.936 74.295 160.857 78.9014 Q157.802 83.4848 151.992 83.4848 Q146.181 83.4848 143.103 78.9014 Q140.047 74.295 140.047 65.5682 Q140.047 56.8182 143.103 52.2349 Q146.181 47.6285 151.992 47.6285 Z\" fill=\"#000000\" fill-rule=\"evenodd\" fill-opacity=\"1\" /><polyline clip-path=\"url(#clip152)\" style=\"stroke:#009af9; stroke-linecap:butt; stroke-linejoin:round; stroke-width:8; stroke-opacity:1; fill:none\" points=\"\n",
       "  209.412,676.131 300.999,675.954 392.586,674.649 484.172,665.176 575.759,603.37 667.346,370.846 758.933,138.322 850.52,76.5163 942.106,67.0433 1033.69,65.7382 \n",
       "  1125.28,65.5612 \n",
       "  \"/>\n",
       "</svg>\n"
      ]
     },
     "execution_count": 7,
     "metadata": {},
     "output_type": "execute_result"
    }
   ],
   "source": [
    "plot(-5:5, tanh.(-5:5), size=(300,200), linewidth=2, legend=false)\n"
   ]
  },
  {
   "cell_type": "markdown",
   "id": "b9f2d81e",
   "metadata": {},
   "source": [
    "### Model"
   ]
  },
  {
   "cell_type": "markdown",
   "id": "93a518e1",
   "metadata": {},
   "source": [
    "Stochastic Gradient Descent (SGD) means batchsize=1.\n",
    "\n",
    "The error on every and each data line is computed, then weights are recalculated towards the negative of the gradient.\n",
    "\n",
    "For this reason, calculation is done at CPU (sequencial computation over one data point at a time)."
   ]
  },
  {
   "cell_type": "code",
   "execution_count": 8,
   "id": "eb1374e8",
   "metadata": {},
   "outputs": [],
   "source": [
    "# model configuration\n",
    "nInputs  = d\n",
    "nOutputs = 10\n",
    "model = Chain( Flux.Dense(nInputs, nOutputs, tanh),   # tanh is chosen as nonlinearity (Prof Mostafa lecture)\n",
    "               softmax )                              # softmax scales the output to sum to one\n",
    "\n",
    "lossFunction(X, y) = Flux.mse( model(X), y )\n",
    "modelParameters    = Flux.params(model)\n",
    "data               = Flux.DataLoader((X, y), batchsize=1)             # default batchsize=1\n",
    "callBack           = Flux.throttle(() -> println(\"training\"), 10);    # print every 10s\n"
   ]
  },
  {
   "cell_type": "markdown",
   "id": "ea26fddb",
   "metadata": {},
   "source": [
    "### Train method 2"
   ]
  },
  {
   "cell_type": "code",
   "execution_count": 9,
   "id": "e724cfc1",
   "metadata": {},
   "outputs": [],
   "source": [
    "numberOfEpochs = 10;"
   ]
  },
  {
   "cell_type": "code",
   "execution_count": 10,
   "id": "612fbc82",
   "metadata": {},
   "outputs": [
    {
     "data": {
      "text/plain": [
       "trainModel! (generic function with 1 method)"
      ]
     },
     "execution_count": 10,
     "metadata": {},
     "output_type": "execute_result"
    }
   ],
   "source": [
    "# custom made function that provides access to loss function outcome\n",
    "function trainModel!(loss, ps, data, opt)\n",
    "    dataLosses = Vector{Float32}()\n",
    "        \n",
    "    for d in data\n",
    "        l = loss(d...)\n",
    "        gs = gradient(ps) do\n",
    "            loss(d...)\n",
    "        end\n",
    "        Flux.update!(opt, ps, gs)\n",
    "            \n",
    "        push!(dataLosses, l)\n",
    "    end\n",
    "    \n",
    "    return mean(dataLosses)\n",
    "end\n"
   ]
  },
  {
   "cell_type": "code",
   "execution_count": 11,
   "id": "1cc02cac",
   "metadata": {},
   "outputs": [],
   "source": [
    "epochs = 1:numberOfEpochs\n",
    "epochLosses = Vector{Float32}()\n",
    "\n",
    "for epoch in epochs\n",
    "    l = trainModel!( lossFunction, modelParameters, data, Flux.Descent() )\n",
    "    push!(epochLosses, l)\n",
    "end\n"
   ]
  },
  {
   "cell_type": "code",
   "execution_count": 12,
   "id": "789ce60d",
   "metadata": {},
   "outputs": [
    {
     "data": {
      "image/svg+xml": [
       "<?xml version=\"1.0\" encoding=\"utf-8\"?>\n",
       "<svg xmlns=\"http://www.w3.org/2000/svg\" xmlns:xlink=\"http://www.w3.org/1999/xlink\" width=\"300\" height=\"200\" viewBox=\"0 0 1200 800\">\n",
       "<defs>\n",
       "  <clipPath id=\"clip190\">\n",
       "    <rect x=\"0\" y=\"0\" width=\"1200\" height=\"800\"/>\n",
       "  </clipPath>\n",
       "</defs>\n",
       "<path clip-path=\"url(#clip190)\" d=\"\n",
       "M0 800 L1200 800 L1200 0 L0 0  Z\n",
       "  \" fill=\"#ffffff\" fill-rule=\"evenodd\" fill-opacity=\"1\"/>\n",
       "<defs>\n",
       "  <clipPath id=\"clip191\">\n",
       "    <rect x=\"240\" y=\"0\" width=\"841\" height=\"800\"/>\n",
       "  </clipPath>\n",
       "</defs>\n",
       "<path clip-path=\"url(#clip190)\" d=\"\n",
       "M204.922 694.448 L1152.76 694.448 L1152.76 47.2441 L204.922 47.2441  Z\n",
       "  \" fill=\"#ffffff\" fill-rule=\"evenodd\" fill-opacity=\"1\"/>\n",
       "<defs>\n",
       "  <clipPath id=\"clip192\">\n",
       "    <rect x=\"204\" y=\"47\" width=\"949\" height=\"648\"/>\n",
       "  </clipPath>\n",
       "</defs>\n",
       "<polyline clip-path=\"url(#clip192)\" style=\"stroke:#000000; stroke-linecap:butt; stroke-linejoin:round; stroke-width:2; stroke-opacity:0.1; fill:none\" points=\"\n",
       "  331.101,694.448 331.101,47.2441 \n",
       "  \"/>\n",
       "<polyline clip-path=\"url(#clip192)\" style=\"stroke:#000000; stroke-linecap:butt; stroke-linejoin:round; stroke-width:2; stroke-opacity:0.1; fill:none\" points=\"\n",
       "  529.808,694.448 529.808,47.2441 \n",
       "  \"/>\n",
       "<polyline clip-path=\"url(#clip192)\" style=\"stroke:#000000; stroke-linecap:butt; stroke-linejoin:round; stroke-width:2; stroke-opacity:0.1; fill:none\" points=\"\n",
       "  728.516,694.448 728.516,47.2441 \n",
       "  \"/>\n",
       "<polyline clip-path=\"url(#clip192)\" style=\"stroke:#000000; stroke-linecap:butt; stroke-linejoin:round; stroke-width:2; stroke-opacity:0.1; fill:none\" points=\"\n",
       "  927.223,694.448 927.223,47.2441 \n",
       "  \"/>\n",
       "<polyline clip-path=\"url(#clip192)\" style=\"stroke:#000000; stroke-linecap:butt; stroke-linejoin:round; stroke-width:2; stroke-opacity:0.1; fill:none\" points=\"\n",
       "  1125.93,694.448 1125.93,47.2441 \n",
       "  \"/>\n",
       "<polyline clip-path=\"url(#clip190)\" style=\"stroke:#000000; stroke-linecap:butt; stroke-linejoin:round; stroke-width:4; stroke-opacity:1; fill:none\" points=\"\n",
       "  204.922,694.448 1152.76,694.448 \n",
       "  \"/>\n",
       "<polyline clip-path=\"url(#clip190)\" style=\"stroke:#000000; stroke-linecap:butt; stroke-linejoin:round; stroke-width:4; stroke-opacity:1; fill:none\" points=\"\n",
       "  331.101,694.448 331.101,675.55 \n",
       "  \"/>\n",
       "<polyline clip-path=\"url(#clip190)\" style=\"stroke:#000000; stroke-linecap:butt; stroke-linejoin:round; stroke-width:4; stroke-opacity:1; fill:none\" points=\"\n",
       "  529.808,694.448 529.808,675.55 \n",
       "  \"/>\n",
       "<polyline clip-path=\"url(#clip190)\" style=\"stroke:#000000; stroke-linecap:butt; stroke-linejoin:round; stroke-width:4; stroke-opacity:1; fill:none\" points=\"\n",
       "  728.516,694.448 728.516,675.55 \n",
       "  \"/>\n",
       "<polyline clip-path=\"url(#clip190)\" style=\"stroke:#000000; stroke-linecap:butt; stroke-linejoin:round; stroke-width:4; stroke-opacity:1; fill:none\" points=\"\n",
       "  927.223,694.448 927.223,675.55 \n",
       "  \"/>\n",
       "<polyline clip-path=\"url(#clip190)\" style=\"stroke:#000000; stroke-linecap:butt; stroke-linejoin:round; stroke-width:4; stroke-opacity:1; fill:none\" points=\"\n",
       "  1125.93,694.448 1125.93,675.55 \n",
       "  \"/>\n",
       "<path clip-path=\"url(#clip190)\" d=\"M325.754 743.313 L342.073 743.313 L342.073 747.248 L320.129 747.248 L320.129 743.313 Q322.791 740.558 327.374 735.928 Q331.981 731.276 333.161 729.933 Q335.407 727.41 336.286 725.674 Q337.189 723.915 337.189 722.225 Q337.189 719.47 335.245 717.734 Q333.323 715.998 330.222 715.998 Q328.022 715.998 325.569 716.762 Q323.138 717.526 320.36 719.077 L320.36 714.355 Q323.185 713.22 325.638 712.642 Q328.092 712.063 330.129 712.063 Q335.499 712.063 338.694 714.748 Q341.888 717.433 341.888 721.924 Q341.888 724.054 341.078 725.975 Q340.291 727.873 338.184 730.466 Q337.606 731.137 334.504 734.354 Q331.402 737.549 325.754 743.313 Z\" fill=\"#000000\" fill-rule=\"evenodd\" fill-opacity=\"1\" /><path clip-path=\"url(#clip190)\" d=\"M532.818 716.762 L521.012 735.211 L532.818 735.211 L532.818 716.762 M531.591 712.688 L537.47 712.688 L537.47 735.211 L542.401 735.211 L542.401 739.1 L537.47 739.1 L537.47 747.248 L532.818 747.248 L532.818 739.1 L517.216 739.1 L517.216 734.586 L531.591 712.688 Z\" fill=\"#000000\" fill-rule=\"evenodd\" fill-opacity=\"1\" /><path clip-path=\"url(#clip190)\" d=\"M728.921 728.104 Q725.773 728.104 723.921 730.257 Q722.092 732.41 722.092 736.16 Q722.092 739.887 723.921 742.063 Q725.773 744.215 728.921 744.215 Q732.069 744.215 733.898 742.063 Q735.75 739.887 735.75 736.16 Q735.75 732.41 733.898 730.257 Q732.069 728.104 728.921 728.104 M738.203 713.452 L738.203 717.711 Q736.444 716.878 734.638 716.438 Q732.856 715.998 731.097 715.998 Q726.467 715.998 724.013 719.123 Q721.583 722.248 721.236 728.567 Q722.601 726.554 724.662 725.489 Q726.722 724.401 729.199 724.401 Q734.407 724.401 737.416 727.572 Q740.449 730.72 740.449 736.16 Q740.449 741.484 737.3 744.702 Q734.152 747.919 728.921 747.919 Q722.926 747.919 719.754 743.336 Q716.583 738.729 716.583 730.003 Q716.583 721.808 720.472 716.947 Q724.361 712.063 730.912 712.063 Q732.671 712.063 734.453 712.41 Q736.259 712.757 738.203 713.452 Z\" fill=\"#000000\" fill-rule=\"evenodd\" fill-opacity=\"1\" /><path clip-path=\"url(#clip190)\" d=\"M927.223 730.836 Q923.89 730.836 921.968 732.618 Q920.07 734.401 920.07 737.526 Q920.07 740.651 921.968 742.433 Q923.89 744.215 927.223 744.215 Q930.556 744.215 932.478 742.433 Q934.399 740.628 934.399 737.526 Q934.399 734.401 932.478 732.618 Q930.58 730.836 927.223 730.836 M922.547 728.845 Q919.538 728.104 917.848 726.044 Q916.181 723.984 916.181 721.021 Q916.181 716.878 919.121 714.47 Q922.084 712.063 927.223 712.063 Q932.385 712.063 935.325 714.47 Q938.265 716.878 938.265 721.021 Q938.265 723.984 936.575 726.044 Q934.908 728.104 931.922 728.845 Q935.302 729.632 937.177 731.924 Q939.075 734.216 939.075 737.526 Q939.075 742.549 935.996 745.234 Q932.941 747.919 927.223 747.919 Q921.506 747.919 918.427 745.234 Q915.371 742.549 915.371 737.526 Q915.371 734.216 917.269 731.924 Q919.168 729.632 922.547 728.845 M920.834 721.461 Q920.834 724.146 922.501 725.651 Q924.191 727.155 927.223 727.155 Q930.232 727.155 931.922 725.651 Q933.635 724.146 933.635 721.461 Q933.635 718.776 931.922 717.271 Q930.232 715.767 927.223 715.767 Q924.191 715.767 922.501 717.271 Q920.834 718.776 920.834 721.461 Z\" fill=\"#000000\" fill-rule=\"evenodd\" fill-opacity=\"1\" /><path clip-path=\"url(#clip190)\" d=\"M1100.62 743.313 L1108.26 743.313 L1108.26 716.947 L1099.95 718.614 L1099.95 714.355 L1108.21 712.688 L1112.89 712.688 L1112.89 743.313 L1120.53 743.313 L1120.53 747.248 L1100.62 747.248 L1100.62 743.313 Z\" fill=\"#000000\" fill-rule=\"evenodd\" fill-opacity=\"1\" /><path clip-path=\"url(#clip190)\" d=\"M1139.97 715.767 Q1136.36 715.767 1134.53 719.331 Q1132.72 722.873 1132.72 730.003 Q1132.72 737.109 1134.53 740.674 Q1136.36 744.215 1139.97 744.215 Q1143.6 744.215 1145.41 740.674 Q1147.24 737.109 1147.24 730.003 Q1147.24 722.873 1145.41 719.331 Q1143.6 715.767 1139.97 715.767 M1139.97 712.063 Q1145.78 712.063 1148.84 716.669 Q1151.91 721.253 1151.91 730.003 Q1151.91 738.729 1148.84 743.336 Q1145.78 747.919 1139.97 747.919 Q1134.16 747.919 1131.08 743.336 Q1128.03 738.729 1128.03 730.003 Q1128.03 721.253 1131.08 716.669 Q1134.16 712.063 1139.97 712.063 Z\" fill=\"#000000\" fill-rule=\"evenodd\" fill-opacity=\"1\" /><polyline clip-path=\"url(#clip192)\" style=\"stroke:#000000; stroke-linecap:butt; stroke-linejoin:round; stroke-width:2; stroke-opacity:0.1; fill:none\" points=\"\n",
       "  204.922,677.59 1152.76,677.59 \n",
       "  \"/>\n",
       "<polyline clip-path=\"url(#clip192)\" style=\"stroke:#000000; stroke-linecap:butt; stroke-linejoin:round; stroke-width:2; stroke-opacity:0.1; fill:none\" points=\"\n",
       "  204.922,583.475 1152.76,583.475 \n",
       "  \"/>\n",
       "<polyline clip-path=\"url(#clip192)\" style=\"stroke:#000000; stroke-linecap:butt; stroke-linejoin:round; stroke-width:2; stroke-opacity:0.1; fill:none\" points=\"\n",
       "  204.922,489.36 1152.76,489.36 \n",
       "  \"/>\n",
       "<polyline clip-path=\"url(#clip192)\" style=\"stroke:#000000; stroke-linecap:butt; stroke-linejoin:round; stroke-width:2; stroke-opacity:0.1; fill:none\" points=\"\n",
       "  204.922,395.245 1152.76,395.245 \n",
       "  \"/>\n",
       "<polyline clip-path=\"url(#clip192)\" style=\"stroke:#000000; stroke-linecap:butt; stroke-linejoin:round; stroke-width:2; stroke-opacity:0.1; fill:none\" points=\"\n",
       "  204.922,301.13 1152.76,301.13 \n",
       "  \"/>\n",
       "<polyline clip-path=\"url(#clip192)\" style=\"stroke:#000000; stroke-linecap:butt; stroke-linejoin:round; stroke-width:2; stroke-opacity:0.1; fill:none\" points=\"\n",
       "  204.922,207.015 1152.76,207.015 \n",
       "  \"/>\n",
       "<polyline clip-path=\"url(#clip192)\" style=\"stroke:#000000; stroke-linecap:butt; stroke-linejoin:round; stroke-width:2; stroke-opacity:0.1; fill:none\" points=\"\n",
       "  204.922,112.9 1152.76,112.9 \n",
       "  \"/>\n",
       "<polyline clip-path=\"url(#clip190)\" style=\"stroke:#000000; stroke-linecap:butt; stroke-linejoin:round; stroke-width:4; stroke-opacity:1; fill:none\" points=\"\n",
       "  204.922,694.448 204.922,47.2441 \n",
       "  \"/>\n",
       "<polyline clip-path=\"url(#clip190)\" style=\"stroke:#000000; stroke-linecap:butt; stroke-linejoin:round; stroke-width:4; stroke-opacity:1; fill:none\" points=\"\n",
       "  204.922,677.59 223.82,677.59 \n",
       "  \"/>\n",
       "<polyline clip-path=\"url(#clip190)\" style=\"stroke:#000000; stroke-linecap:butt; stroke-linejoin:round; stroke-width:4; stroke-opacity:1; fill:none\" points=\"\n",
       "  204.922,583.475 223.82,583.475 \n",
       "  \"/>\n",
       "<polyline clip-path=\"url(#clip190)\" style=\"stroke:#000000; stroke-linecap:butt; stroke-linejoin:round; stroke-width:4; stroke-opacity:1; fill:none\" points=\"\n",
       "  204.922,489.36 223.82,489.36 \n",
       "  \"/>\n",
       "<polyline clip-path=\"url(#clip190)\" style=\"stroke:#000000; stroke-linecap:butt; stroke-linejoin:round; stroke-width:4; stroke-opacity:1; fill:none\" points=\"\n",
       "  204.922,395.245 223.82,395.245 \n",
       "  \"/>\n",
       "<polyline clip-path=\"url(#clip190)\" style=\"stroke:#000000; stroke-linecap:butt; stroke-linejoin:round; stroke-width:4; stroke-opacity:1; fill:none\" points=\"\n",
       "  204.922,301.13 223.82,301.13 \n",
       "  \"/>\n",
       "<polyline clip-path=\"url(#clip190)\" style=\"stroke:#000000; stroke-linecap:butt; stroke-linejoin:round; stroke-width:4; stroke-opacity:1; fill:none\" points=\"\n",
       "  204.922,207.015 223.82,207.015 \n",
       "  \"/>\n",
       "<polyline clip-path=\"url(#clip190)\" style=\"stroke:#000000; stroke-linecap:butt; stroke-linejoin:round; stroke-width:4; stroke-opacity:1; fill:none\" points=\"\n",
       "  204.922,112.9 223.82,112.9 \n",
       "  \"/>\n",
       "<path clip-path=\"url(#clip190)\" d=\"M71.0198 663.389 Q67.4087 663.389 65.58 666.953 Q63.7745 670.495 63.7745 677.625 Q63.7745 684.731 65.58 688.296 Q67.4087 691.838 71.0198 691.838 Q74.6541 691.838 76.4596 688.296 Q78.2883 684.731 78.2883 677.625 Q78.2883 670.495 76.4596 666.953 Q74.6541 663.389 71.0198 663.389 M71.0198 659.685 Q76.83 659.685 79.8855 664.291 Q82.9642 668.875 82.9642 677.625 Q82.9642 686.351 79.8855 690.958 Q76.83 695.541 71.0198 695.541 Q65.2097 695.541 62.131 690.958 Q59.0754 686.351 59.0754 677.625 Q59.0754 668.875 62.131 664.291 Q65.2097 659.685 71.0198 659.685 Z\" fill=\"#000000\" fill-rule=\"evenodd\" fill-opacity=\"1\" /><path clip-path=\"url(#clip190)\" d=\"M91.1818 688.99 L96.066 688.99 L96.066 694.87 L91.1818 694.87 L91.1818 688.99 Z\" fill=\"#000000\" fill-rule=\"evenodd\" fill-opacity=\"1\" /><path clip-path=\"url(#clip190)\" d=\"M116.251 663.389 Q112.64 663.389 110.811 666.953 Q109.006 670.495 109.006 677.625 Q109.006 684.731 110.811 688.296 Q112.64 691.838 116.251 691.838 Q119.885 691.838 121.691 688.296 Q123.52 684.731 123.52 677.625 Q123.52 670.495 121.691 666.953 Q119.885 663.389 116.251 663.389 M116.251 659.685 Q122.061 659.685 125.117 664.291 Q128.195 668.875 128.195 677.625 Q128.195 686.351 125.117 690.958 Q122.061 695.541 116.251 695.541 Q110.441 695.541 107.362 690.958 Q104.307 686.351 104.307 677.625 Q104.307 668.875 107.362 664.291 Q110.441 659.685 116.251 659.685 Z\" fill=\"#000000\" fill-rule=\"evenodd\" fill-opacity=\"1\" /><path clip-path=\"url(#clip190)\" d=\"M149.26 664.384 L137.455 682.833 L149.26 682.833 L149.26 664.384 M148.033 660.31 L153.913 660.31 L153.913 682.833 L158.843 682.833 L158.843 686.722 L153.913 686.722 L153.913 694.87 L149.26 694.87 L149.26 686.722 L133.658 686.722 L133.658 682.208 L148.033 660.31 Z\" fill=\"#000000\" fill-rule=\"evenodd\" fill-opacity=\"1\" /><path clip-path=\"url(#clip190)\" d=\"M170.603 690.935 L186.922 690.935 L186.922 694.87 L164.978 694.87 L164.978 690.935 Q167.64 688.18 172.223 683.551 Q176.829 678.898 178.01 677.555 Q180.255 675.032 181.135 673.296 Q182.038 671.537 182.038 669.847 Q182.038 667.092 180.093 665.356 Q178.172 663.62 175.07 663.62 Q172.871 663.62 170.417 664.384 Q167.987 665.148 165.209 666.699 L165.209 661.977 Q168.033 660.842 170.487 660.264 Q172.941 659.685 174.978 659.685 Q180.348 659.685 183.542 662.37 Q186.737 665.055 186.737 669.546 Q186.737 671.676 185.927 673.597 Q185.14 675.495 183.033 678.088 Q182.454 678.759 179.353 681.977 Q176.251 685.171 170.603 690.935 Z\" fill=\"#000000\" fill-rule=\"evenodd\" fill-opacity=\"1\" /><path clip-path=\"url(#clip190)\" d=\"M70.0708 569.274 Q66.4597 569.274 64.631 572.838 Q62.8254 576.38 62.8254 583.51 Q62.8254 590.616 64.631 594.181 Q66.4597 597.723 70.0708 597.723 Q73.705 597.723 75.5105 594.181 Q77.3392 590.616 77.3392 583.51 Q77.3392 576.38 75.5105 572.838 Q73.705 569.274 70.0708 569.274 M70.0708 565.57 Q75.8809 565.57 78.9365 570.176 Q82.0151 574.76 82.0151 583.51 Q82.0151 592.236 78.9365 596.843 Q75.8809 601.426 70.0708 601.426 Q64.2606 601.426 61.1819 596.843 Q58.1264 592.236 58.1264 583.51 Q58.1264 574.76 61.1819 570.176 Q64.2606 565.57 70.0708 565.57 Z\" fill=\"#000000\" fill-rule=\"evenodd\" fill-opacity=\"1\" /><path clip-path=\"url(#clip190)\" d=\"M90.2327 594.875 L95.1169 594.875 L95.1169 600.755 L90.2327 600.755 L90.2327 594.875 Z\" fill=\"#000000\" fill-rule=\"evenodd\" fill-opacity=\"1\" /><path clip-path=\"url(#clip190)\" d=\"M115.302 569.274 Q111.691 569.274 109.862 572.838 Q108.057 576.38 108.057 583.51 Q108.057 590.616 109.862 594.181 Q111.691 597.723 115.302 597.723 Q118.936 597.723 120.742 594.181 Q122.57 590.616 122.57 583.51 Q122.57 576.38 120.742 572.838 Q118.936 569.274 115.302 569.274 M115.302 565.57 Q121.112 565.57 124.168 570.176 Q127.246 574.76 127.246 583.51 Q127.246 592.236 124.168 596.843 Q121.112 601.426 115.302 601.426 Q109.492 601.426 106.413 596.843 Q103.358 592.236 103.358 583.51 Q103.358 574.76 106.413 570.176 Q109.492 565.57 115.302 565.57 Z\" fill=\"#000000\" fill-rule=\"evenodd\" fill-opacity=\"1\" /><path clip-path=\"url(#clip190)\" d=\"M148.311 570.269 L136.506 588.718 L148.311 588.718 L148.311 570.269 M147.084 566.195 L152.964 566.195 L152.964 588.718 L157.894 588.718 L157.894 592.607 L152.964 592.607 L152.964 600.755 L148.311 600.755 L148.311 592.607 L132.709 592.607 L132.709 588.093 L147.084 566.195 Z\" fill=\"#000000\" fill-rule=\"evenodd\" fill-opacity=\"1\" /><path clip-path=\"url(#clip190)\" d=\"M179.792 582.121 Q183.149 582.838 185.024 585.107 Q186.922 587.375 186.922 590.709 Q186.922 595.824 183.403 598.625 Q179.885 601.426 173.404 601.426 Q171.228 601.426 168.913 600.986 Q166.621 600.57 164.167 599.713 L164.167 595.199 Q166.112 596.334 168.427 596.912 Q170.742 597.491 173.265 597.491 Q177.663 597.491 179.954 595.755 Q182.269 594.019 182.269 590.709 Q182.269 587.653 180.116 585.94 Q177.987 584.204 174.167 584.204 L170.14 584.204 L170.14 580.361 L174.353 580.361 Q177.802 580.361 179.63 578.996 Q181.459 577.607 181.459 575.014 Q181.459 572.352 179.561 570.94 Q177.686 569.505 174.167 569.505 Q172.246 569.505 170.047 569.922 Q167.848 570.338 165.209 571.218 L165.209 567.051 Q167.871 566.311 170.186 565.94 Q172.524 565.57 174.584 565.57 Q179.908 565.57 183.01 568 Q186.112 570.408 186.112 574.528 Q186.112 577.399 184.468 579.389 Q182.825 581.357 179.792 582.121 Z\" fill=\"#000000\" fill-rule=\"evenodd\" fill-opacity=\"1\" /><path clip-path=\"url(#clip190)\" d=\"M68.9365 475.159 Q65.3254 475.159 63.4967 478.723 Q61.6912 482.265 61.6912 489.395 Q61.6912 496.501 63.4967 500.066 Q65.3254 503.607 68.9365 503.607 Q72.5707 503.607 74.3763 500.066 Q76.205 496.501 76.205 489.395 Q76.205 482.265 74.3763 478.723 Q72.5707 475.159 68.9365 475.159 M68.9365 471.455 Q74.7467 471.455 77.8022 476.061 Q80.8809 480.645 80.8809 489.395 Q80.8809 498.121 77.8022 502.728 Q74.7467 507.311 68.9365 507.311 Q63.1264 507.311 60.0477 502.728 Q56.9921 498.121 56.9921 489.395 Q56.9921 480.645 60.0477 476.061 Q63.1264 471.455 68.9365 471.455 Z\" fill=\"#000000\" fill-rule=\"evenodd\" fill-opacity=\"1\" /><path clip-path=\"url(#clip190)\" d=\"M89.0984 500.76 L93.9827 500.76 L93.9827 506.64 L89.0984 506.64 L89.0984 500.76 Z\" fill=\"#000000\" fill-rule=\"evenodd\" fill-opacity=\"1\" /><path clip-path=\"url(#clip190)\" d=\"M114.168 475.159 Q110.557 475.159 108.728 478.723 Q106.922 482.265 106.922 489.395 Q106.922 496.501 108.728 500.066 Q110.557 503.607 114.168 503.607 Q117.802 503.607 119.608 500.066 Q121.436 496.501 121.436 489.395 Q121.436 482.265 119.608 478.723 Q117.802 475.159 114.168 475.159 M114.168 471.455 Q119.978 471.455 123.033 476.061 Q126.112 480.645 126.112 489.395 Q126.112 498.121 123.033 502.728 Q119.978 507.311 114.168 507.311 Q108.358 507.311 105.279 502.728 Q102.223 498.121 102.223 489.395 Q102.223 480.645 105.279 476.061 Q108.358 471.455 114.168 471.455 Z\" fill=\"#000000\" fill-rule=\"evenodd\" fill-opacity=\"1\" /><path clip-path=\"url(#clip190)\" d=\"M147.177 476.154 L135.371 494.603 L147.177 494.603 L147.177 476.154 M145.95 472.08 L151.83 472.08 L151.83 494.603 L156.76 494.603 L156.76 498.492 L151.83 498.492 L151.83 506.64 L147.177 506.64 L147.177 498.492 L131.575 498.492 L131.575 493.978 L145.95 472.08 Z\" fill=\"#000000\" fill-rule=\"evenodd\" fill-opacity=\"1\" /><path clip-path=\"url(#clip190)\" d=\"M177.339 476.154 L165.533 494.603 L177.339 494.603 L177.339 476.154 M176.112 472.08 L181.991 472.08 L181.991 494.603 L186.922 494.603 L186.922 498.492 L181.991 498.492 L181.991 506.64 L177.339 506.64 L177.339 498.492 L161.737 498.492 L161.737 493.978 L176.112 472.08 Z\" fill=\"#000000\" fill-rule=\"evenodd\" fill-opacity=\"1\" /><path clip-path=\"url(#clip190)\" d=\"M70.418 381.044 Q66.8069 381.044 64.9782 384.608 Q63.1726 388.15 63.1726 395.28 Q63.1726 402.386 64.9782 405.951 Q66.8069 409.492 70.418 409.492 Q74.0522 409.492 75.8578 405.951 Q77.6865 402.386 77.6865 395.28 Q77.6865 388.15 75.8578 384.608 Q74.0522 381.044 70.418 381.044 M70.418 377.34 Q76.2281 377.34 79.2837 381.946 Q82.3624 386.53 82.3624 395.28 Q82.3624 404.006 79.2837 408.613 Q76.2281 413.196 70.418 413.196 Q64.6078 413.196 61.5291 408.613 Q58.4736 404.006 58.4736 395.28 Q58.4736 386.53 61.5291 381.946 Q64.6078 377.34 70.418 377.34 Z\" fill=\"#000000\" fill-rule=\"evenodd\" fill-opacity=\"1\" /><path clip-path=\"url(#clip190)\" d=\"M90.5799 406.645 L95.4641 406.645 L95.4641 412.525 L90.5799 412.525 L90.5799 406.645 Z\" fill=\"#000000\" fill-rule=\"evenodd\" fill-opacity=\"1\" /><path clip-path=\"url(#clip190)\" d=\"M115.649 381.044 Q112.038 381.044 110.209 384.608 Q108.404 388.15 108.404 395.28 Q108.404 402.386 110.209 405.951 Q112.038 409.492 115.649 409.492 Q119.283 409.492 121.089 405.951 Q122.918 402.386 122.918 395.28 Q122.918 388.15 121.089 384.608 Q119.283 381.044 115.649 381.044 M115.649 377.34 Q121.459 377.34 124.515 381.946 Q127.594 386.53 127.594 395.28 Q127.594 404.006 124.515 408.613 Q121.459 413.196 115.649 413.196 Q109.839 413.196 106.76 408.613 Q103.705 404.006 103.705 395.28 Q103.705 386.53 106.76 381.946 Q109.839 377.34 115.649 377.34 Z\" fill=\"#000000\" fill-rule=\"evenodd\" fill-opacity=\"1\" /><path clip-path=\"url(#clip190)\" d=\"M148.658 382.039 L136.853 400.488 L148.658 400.488 L148.658 382.039 M147.431 377.965 L153.311 377.965 L153.311 400.488 L158.242 400.488 L158.242 404.377 L153.311 404.377 L153.311 412.525 L148.658 412.525 L148.658 404.377 L133.057 404.377 L133.057 399.863 L147.431 377.965 Z\" fill=\"#000000\" fill-rule=\"evenodd\" fill-opacity=\"1\" /><path clip-path=\"url(#clip190)\" d=\"M166.019 377.965 L184.376 377.965 L184.376 381.9 L170.302 381.9 L170.302 390.372 Q171.32 390.025 172.339 389.863 Q173.357 389.678 174.376 389.678 Q180.163 389.678 183.542 392.849 Q186.922 396.02 186.922 401.437 Q186.922 407.016 183.45 410.117 Q179.978 413.196 173.658 413.196 Q171.482 413.196 169.214 412.826 Q166.968 412.455 164.561 411.715 L164.561 407.016 Q166.644 408.15 168.867 408.705 Q171.089 409.261 173.566 409.261 Q177.57 409.261 179.908 407.154 Q182.246 405.048 182.246 401.437 Q182.246 397.826 179.908 395.719 Q177.57 393.613 173.566 393.613 Q171.691 393.613 169.816 394.03 Q167.964 394.446 166.019 395.326 L166.019 377.965 Z\" fill=\"#000000\" fill-rule=\"evenodd\" fill-opacity=\"1\" /><path clip-path=\"url(#clip190)\" d=\"M69.2606 286.928 Q65.6495 286.928 63.8208 290.493 Q62.0152 294.035 62.0152 301.164 Q62.0152 308.271 63.8208 311.836 Q65.6495 315.377 69.2606 315.377 Q72.8948 315.377 74.7004 311.836 Q76.5291 308.271 76.5291 301.164 Q76.5291 294.035 74.7004 290.493 Q72.8948 286.928 69.2606 286.928 M69.2606 283.225 Q75.0707 283.225 78.1263 287.831 Q81.205 292.415 81.205 301.164 Q81.205 309.891 78.1263 314.498 Q75.0707 319.081 69.2606 319.081 Q63.4504 319.081 60.3717 314.498 Q57.3162 309.891 57.3162 301.164 Q57.3162 292.415 60.3717 287.831 Q63.4504 283.225 69.2606 283.225 Z\" fill=\"#000000\" fill-rule=\"evenodd\" fill-opacity=\"1\" /><path clip-path=\"url(#clip190)\" d=\"M89.4225 312.53 L94.3067 312.53 L94.3067 318.41 L89.4225 318.41 L89.4225 312.53 Z\" fill=\"#000000\" fill-rule=\"evenodd\" fill-opacity=\"1\" /><path clip-path=\"url(#clip190)\" d=\"M114.492 286.928 Q110.881 286.928 109.052 290.493 Q107.246 294.035 107.246 301.164 Q107.246 308.271 109.052 311.836 Q110.881 315.377 114.492 315.377 Q118.126 315.377 119.932 311.836 Q121.76 308.271 121.76 301.164 Q121.76 294.035 119.932 290.493 Q118.126 286.928 114.492 286.928 M114.492 283.225 Q120.302 283.225 123.358 287.831 Q126.436 292.415 126.436 301.164 Q126.436 309.891 123.358 314.498 Q120.302 319.081 114.492 319.081 Q108.682 319.081 105.603 314.498 Q102.547 309.891 102.547 301.164 Q102.547 292.415 105.603 287.831 Q108.682 283.225 114.492 283.225 Z\" fill=\"#000000\" fill-rule=\"evenodd\" fill-opacity=\"1\" /><path clip-path=\"url(#clip190)\" d=\"M147.501 287.924 L135.695 306.373 L147.501 306.373 L147.501 287.924 M146.274 283.85 L152.154 283.85 L152.154 306.373 L157.084 306.373 L157.084 310.262 L152.154 310.262 L152.154 318.41 L147.501 318.41 L147.501 310.262 L131.899 310.262 L131.899 305.748 L146.274 283.85 Z\" fill=\"#000000\" fill-rule=\"evenodd\" fill-opacity=\"1\" /><path clip-path=\"url(#clip190)\" d=\"M175.394 299.266 Q172.246 299.266 170.394 301.419 Q168.566 303.572 168.566 307.322 Q168.566 311.049 170.394 313.225 Q172.246 315.377 175.394 315.377 Q178.542 315.377 180.371 313.225 Q182.223 311.049 182.223 307.322 Q182.223 303.572 180.371 301.419 Q178.542 299.266 175.394 299.266 M184.677 284.614 L184.677 288.873 Q182.917 288.04 181.112 287.6 Q179.329 287.16 177.57 287.16 Q172.941 287.16 170.487 290.285 Q168.056 293.41 167.709 299.729 Q169.075 297.715 171.135 296.651 Q173.195 295.563 175.672 295.563 Q180.88 295.563 183.89 298.734 Q186.922 301.882 186.922 307.322 Q186.922 312.646 183.774 315.863 Q180.626 319.081 175.394 319.081 Q169.399 319.081 166.228 314.498 Q163.056 309.891 163.056 301.164 Q163.056 292.97 166.945 288.109 Q170.834 283.225 177.385 283.225 Q179.144 283.225 180.927 283.572 Q182.732 283.919 184.677 284.614 Z\" fill=\"#000000\" fill-rule=\"evenodd\" fill-opacity=\"1\" /><path clip-path=\"url(#clip190)\" d=\"M70.3254 192.813 Q66.7143 192.813 64.8856 196.378 Q63.0801 199.92 63.0801 207.049 Q63.0801 214.156 64.8856 217.721 Q66.7143 221.262 70.3254 221.262 Q73.9596 221.262 75.7652 217.721 Q77.5939 214.156 77.5939 207.049 Q77.5939 199.92 75.7652 196.378 Q73.9596 192.813 70.3254 192.813 M70.3254 189.11 Q76.1355 189.11 79.1911 193.716 Q82.2698 198.299 82.2698 207.049 Q82.2698 215.776 79.1911 220.383 Q76.1355 224.966 70.3254 224.966 Q64.5152 224.966 61.4365 220.383 Q58.381 215.776 58.381 207.049 Q58.381 198.299 61.4365 193.716 Q64.5152 189.11 70.3254 189.11 Z\" fill=\"#000000\" fill-rule=\"evenodd\" fill-opacity=\"1\" /><path clip-path=\"url(#clip190)\" d=\"M90.4873 218.415 L95.3715 218.415 L95.3715 224.295 L90.4873 224.295 L90.4873 218.415 Z\" fill=\"#000000\" fill-rule=\"evenodd\" fill-opacity=\"1\" /><path clip-path=\"url(#clip190)\" d=\"M115.557 192.813 Q111.946 192.813 110.117 196.378 Q108.311 199.92 108.311 207.049 Q108.311 214.156 110.117 217.721 Q111.946 221.262 115.557 221.262 Q119.191 221.262 120.996 217.721 Q122.825 214.156 122.825 207.049 Q122.825 199.92 120.996 196.378 Q119.191 192.813 115.557 192.813 M115.557 189.11 Q121.367 189.11 124.422 193.716 Q127.501 198.299 127.501 207.049 Q127.501 215.776 124.422 220.383 Q121.367 224.966 115.557 224.966 Q109.746 224.966 106.668 220.383 Q103.612 215.776 103.612 207.049 Q103.612 198.299 106.668 193.716 Q109.746 189.11 115.557 189.11 Z\" fill=\"#000000\" fill-rule=\"evenodd\" fill-opacity=\"1\" /><path clip-path=\"url(#clip190)\" d=\"M148.566 193.809 L136.76 212.258 L148.566 212.258 L148.566 193.809 M147.339 189.735 L153.218 189.735 L153.218 212.258 L158.149 212.258 L158.149 216.147 L153.218 216.147 L153.218 224.295 L148.566 224.295 L148.566 216.147 L132.964 216.147 L132.964 211.633 L147.339 189.735 Z\" fill=\"#000000\" fill-rule=\"evenodd\" fill-opacity=\"1\" /><path clip-path=\"url(#clip190)\" d=\"M164.7 189.735 L186.922 189.735 L186.922 191.725 L174.376 224.295 L169.492 224.295 L181.297 193.67 L164.7 193.67 L164.7 189.735 Z\" fill=\"#000000\" fill-rule=\"evenodd\" fill-opacity=\"1\" /><path clip-path=\"url(#clip190)\" d=\"M69.5152 98.6984 Q65.9041 98.6984 64.0754 102.263 Q62.2699 105.805 62.2699 112.934 Q62.2699 120.041 64.0754 123.606 Q65.9041 127.147 69.5152 127.147 Q73.1494 127.147 74.955 123.606 Q76.7837 120.041 76.7837 112.934 Q76.7837 105.805 74.955 102.263 Q73.1494 98.6984 69.5152 98.6984 M69.5152 94.9947 Q75.3254 94.9947 78.3809 99.6011 Q81.4596 104.184 81.4596 112.934 Q81.4596 121.661 78.3809 126.268 Q75.3254 130.851 69.5152 130.851 Q63.7051 130.851 60.6264 126.268 Q57.5708 121.661 57.5708 112.934 Q57.5708 104.184 60.6264 99.6011 Q63.7051 94.9947 69.5152 94.9947 Z\" fill=\"#000000\" fill-rule=\"evenodd\" fill-opacity=\"1\" /><path clip-path=\"url(#clip190)\" d=\"M89.6771 124.3 L94.5614 124.3 L94.5614 130.18 L89.6771 130.18 L89.6771 124.3 Z\" fill=\"#000000\" fill-rule=\"evenodd\" fill-opacity=\"1\" /><path clip-path=\"url(#clip190)\" d=\"M114.746 98.6984 Q111.135 98.6984 109.307 102.263 Q107.501 105.805 107.501 112.934 Q107.501 120.041 109.307 123.606 Q111.135 127.147 114.746 127.147 Q118.381 127.147 120.186 123.606 Q122.015 120.041 122.015 112.934 Q122.015 105.805 120.186 102.263 Q118.381 98.6984 114.746 98.6984 M114.746 94.9947 Q120.557 94.9947 123.612 99.6011 Q126.691 104.184 126.691 112.934 Q126.691 121.661 123.612 126.268 Q120.557 130.851 114.746 130.851 Q108.936 130.851 105.858 126.268 Q102.802 121.661 102.802 112.934 Q102.802 104.184 105.858 99.6011 Q108.936 94.9947 114.746 94.9947 Z\" fill=\"#000000\" fill-rule=\"evenodd\" fill-opacity=\"1\" /><path clip-path=\"url(#clip190)\" d=\"M147.756 99.6937 L135.95 118.143 L147.756 118.143 L147.756 99.6937 M146.529 95.6197 L152.408 95.6197 L152.408 118.143 L157.339 118.143 L157.339 122.032 L152.408 122.032 L152.408 130.18 L147.756 130.18 L147.756 122.032 L132.154 122.032 L132.154 117.518 L146.529 95.6197 Z\" fill=\"#000000\" fill-rule=\"evenodd\" fill-opacity=\"1\" /><path clip-path=\"url(#clip190)\" d=\"M175.07 113.768 Q171.737 113.768 169.816 115.55 Q167.917 117.333 167.917 120.458 Q167.917 123.582 169.816 125.365 Q171.737 127.147 175.07 127.147 Q178.404 127.147 180.325 125.365 Q182.246 123.559 182.246 120.458 Q182.246 117.333 180.325 115.55 Q178.427 113.768 175.07 113.768 M170.394 111.777 Q167.385 111.036 165.695 108.976 Q164.029 106.916 164.029 103.953 Q164.029 99.8095 166.968 97.4021 Q169.931 94.9947 175.07 94.9947 Q180.232 94.9947 183.172 97.4021 Q186.112 99.8095 186.112 103.953 Q186.112 106.916 184.422 108.976 Q182.755 111.036 179.769 111.777 Q183.149 112.564 185.024 114.856 Q186.922 117.147 186.922 120.458 Q186.922 125.481 183.843 128.166 Q180.788 130.851 175.07 130.851 Q169.353 130.851 166.274 128.166 Q163.218 125.481 163.218 120.458 Q163.218 117.147 165.117 114.856 Q167.015 112.564 170.394 111.777 M168.681 104.393 Q168.681 107.078 170.348 108.583 Q172.038 110.087 175.07 110.087 Q178.079 110.087 179.769 108.583 Q181.482 107.078 181.482 104.393 Q181.482 101.708 179.769 100.203 Q178.079 98.6984 175.07 98.6984 Q172.038 98.6984 170.348 100.203 Q168.681 101.708 168.681 104.393 Z\" fill=\"#000000\" fill-rule=\"evenodd\" fill-opacity=\"1\" /><polyline clip-path=\"url(#clip192)\" style=\"stroke:#009af9; stroke-linecap:butt; stroke-linejoin:round; stroke-width:8; stroke-opacity:1; fill:none\" points=\"\n",
       "  231.747,65.5612 331.101,451.565 430.455,528.087 529.808,570.782 629.162,599.891 728.516,621.773 827.869,639.202 927.223,653.581 1026.58,665.711 1125.93,676.131 \n",
       "  \n",
       "  \"/>\n",
       "</svg>\n"
      ]
     },
     "execution_count": 12,
     "metadata": {},
     "output_type": "execute_result"
    }
   ],
   "source": [
    "plot(epochs, epochLosses, size=(300,200), linewidth=2, legend=false)"
   ]
  },
  {
   "cell_type": "markdown",
   "id": "abef050c",
   "metadata": {},
   "source": [
    "### Predict"
   ]
  },
  {
   "cell_type": "code",
   "execution_count": 13,
   "id": "48f2e3c8",
   "metadata": {},
   "outputs": [],
   "source": [
    "function predictOutcome(X)\n",
    "    ŷ = Flux.onecold( model(X), [0:9;] )\n",
    "end\n",
    "\n",
    "ŷ = predictOutcome(X);\n"
   ]
  },
  {
   "cell_type": "code",
   "execution_count": 14,
   "id": "9f9dd472",
   "metadata": {},
   "outputs": [
    {
     "data": {
      "text/plain": [
       "10×10 Matrix{Int64}:\n",
       " 4061     2    35    18    20    76    25    19    46    40\n",
       "    0  4581    24    12    15    21    14    25    75    17\n",
       "    5    27  3698   100    21    22    17    44    54    24\n",
       "    9    13    56  3857     5   154     4    13   107    84\n",
       "    6     3    84     7  3786    65    24    56    39   144\n",
       "   11    25    14   103     3  3187    46     7   114    30\n",
       "   26    10    60    37    38    99  3985     5    40     3\n",
       "    4    11    79    44     8    24     4  4115    23   160\n",
       "   21    42   103    70    35    99    23    11  3551    44\n",
       "    3     5    18    44   158    48     1    91    47  3618"
      ]
     },
     "metadata": {},
     "output_type": "display_data"
    },
    {
     "name": "stdout",
     "output_type": "stream",
     "text": [
      "accuracy: 0.915\n",
      "f1-score: 0.914\n"
     ]
    }
   ],
   "source": [
    "printMetrics( coerce(ŷ, OrderedFactor), coerce(trainY, OrderedFactor) )"
   ]
  },
  {
   "cell_type": "markdown",
   "id": "741e9ca6",
   "metadata": {},
   "source": [
    "### Demo ML\n",
    "\n",
    "Press CTRL-ENTER on the cell to change."
   ]
  },
  {
   "cell_type": "code",
   "execution_count": 15,
   "id": "20abc856",
   "metadata": {},
   "outputs": [
    {
     "data": {
      "text/html": [
       "<table><tbody><tr><td style='text-align:center;vertical-align:middle; margin: 0.5em;border:1px #90999f solid;border-collapse:collapse'><img style='max-width: 100px; max-height:100px;display:inline' src=\"data:image/png;base64,iVBORw0KGgoAAAANSUhEUgAAAHAAAABwCAAAAADji6uXAAAABGdBTUEAALGPC/xhBQAAAAFzUkdCAK7OHOkAAAAgY0hSTQAAeiYAAICEAAD6AAAAgOgAAHUwAADqYAAAOpgAABdwnLpRPAAAAhxJREFUaAW9wTGrlQUABuCneA0ELaigQmivlhAaXEQIoxoSHVwMhbguDRXB5dJgQ2SBBQWXkPoHioMOIg0uLRVNSiAOLYGFiCQ0RMW1hjN8fPhdzzmXep8nyqIsyqIsyqIsyqIsyqIsyqIsyqIsyqIsyqIsyqIs/ieP4w0zpwyiLMqiLJawG9vwvflexcdmThlEWZRFWSzoBVzEg3gON23uKNZNi7Ioi7JYwC6cx2NmYtoTeA2fYIeZ08aiLMqiLObYhXfwpPlW8IHBLVwxFmVRFmVxH9twBnsMLuGOsQdwECcMfsWLuG4syqIsymITu7GKPQaXcQAbBo9gDWvGzuC6e0VZlEVZbOJNHDb4Ha9gw9g6jhjbi29Ni7Ioi7KY8CWOGQuewY8Gr+OQsZP4AXdNi7Ioi7KYcBz/GNuOd7GCuziKdWw3OIeT+MvmoizKoiwm/IKn3OsYfsYFvIcdBjfxEf50f1EWZVEWE/bjeYNHsWbmLZwwdhsv46r5oizKoiwmXMM1Y18g+Br7DG5jP65aTJRFWZTFEt7HPmNv44rFRVmURVks6CWsGvsK5ywnyqIsymIBT+MsHjI4jVX8bTlRFmVRFnM8jA+x0+A7fI4/LC/KoizKYo5nccTYYdywNVEWZVEWc/yEb7DXzHn8ZuuiLMqiLOa4hYNYMfMZNmxdlEVZlMUC7uBT/40oi7Ioi7Ioi7Ioi7Ioi7Io+xe1fkuO+TLmxgAAAABJRU5ErkJg\"></td><td style='text-align:center;vertical-align:middle; margin: 0.5em;border:1px #90999f solid;border-collapse:collapse'><img style='max-width: 100px; max-height:100px;display:inline' src=\"data:image/png;base64,iVBORw0KGgoAAAANSUhEUgAAAHAAAABwCAAAAADji6uXAAAABGdBTUEAALGPC/xhBQAAAAFzUkdCAK7OHOkAAAAgY0hSTQAAeiYAAICEAAD6AAAAgOgAAHUwAADqYAAAOpgAABdwnLpRPAAAAeZJREFUaAW9wT+IlwUABuBneCHRIF1MIQQHoUXBRaFBQRykIbDBMDhRGk5QcJGmwMWpTRyc1FFQECGhVRSSrDGIQ1ehG0o3xT+cwzf8OM78Pu+O93miLMqiLMqiLMqiLMqiLMqiLMqiLMqiLMqiLMqiLMpinRzEPWzEC/8vyqIsymIdbMI1LBkXZVEWZTHRVpzA73hg5hNcxk78hdc+LMqiLMpiou/xM27hgZldOIm3mMcbHxZlURZlMcFmzOENrljuvMHfeGhclEVZlMUEx7AXd3HPzC58iyXcNE2URVmUxYgtOGXwp+Wu4VP8h4umibIoi7IYcQn7DbbhiMERfGXwFF/jO9zHAfyIRStFWZRFWYw4ZOY0TltpN+4azBl8gxP4xXJRFmVRFiOeI1g0+Aw7zLzCgvd7bKUoi7IoixGHsYRFg1O4ipc4g9+wYLooi7IoixH/mNmEcwYPcd3Hi7Ioi7L4CMexB08xb3WiLMqiLCbagLMGv+KJ1YmyKIuymOgn7MEfOGP1oizKoiwm+BI/GNzGa6sXZVEWZTHBMXyOf3HH2kRZlEVZjDiKeYMbWLA2URZlURYj5rAdj3DB2kVZlEVZjNhncAPPrF2URVmUxYgvrK8oi7Ioi7Ioi7Ioi7Ioi7Ioewex60FyKf+7nwAAAABJRU5ErkJg\"></td><td style='text-align:center;vertical-align:middle; margin: 0.5em;border:1px #90999f solid;border-collapse:collapse'><img style='max-width: 100px; max-height:100px;display:inline' src=\"data:image/png;base64,iVBORw0KGgoAAAANSUhEUgAAAHAAAABwCAAAAADji6uXAAAABGdBTUEAALGPC/xhBQAAAAFzUkdCAK7OHOkAAAAgY0hSTQAAeiYAAICEAAD6AAAAgOgAAHUwAADqYAAAOpgAABdwnLpRPAAAAg5JREFUaAW9wb+rlQUABuDnxDtcaXHUQxFUQzU01CZNgYv0B9TQouEm5BAYYb+olqIbDQU3GgNRoUWQCGpwuZOD1eJwl6C7KWZDcIav4RsO1zze754L7/NEWZRFWZRFWZRFWZRFWZRFWZTFGp7HFl7BZfyIS6aJsiiLsljDMZzAgBP41HRRFmVRFmuYW/oKt0wXZVEWZbGGa9jF3MFFWZRFWazhHv7AHJ/jd/xkmiiLsiiLNV3FSQz4Bs+YJsqiLMpiTVdxFi/hCZzB9/YXZVEWZbGmuziNbWzgI/yKHY8WZVEWZXEIv+EivsAcN/AC7lktyqIsyuKQruFjHMFxnMMnVouyKIuyOIBj/u9vvIcvjS7gMm57uCiLsiiLfTyNt4wuYLA0w2CvI9iwWpRFWZTFPnZwCi8azew1s3QHW/jTalEWZVEWE3yHrzHDYOksjmIDR/EZ7nq0KIuyKIsJtnAD7+B1PGb0Pq7gXSxME2VRFmUxwQK38CZu4g28jCdxHs/hNdNEWZRFWRzQJjbxAT40OoWT+Nn+oizKoiweMMfbRr/gVUszDEYbGDBggfumibIoi7J4iF1cxDks8LjRDIO9FriObdNEWZRFWTzgL2ziEo7jHzxl9C3u4F/s4Afcx7bpoizKoixW2MWu0W2jZx1elEVZlEVZlEVZlEVZlEVZlEVZlEVZlEVZlEVZlP0HmWtRxDDm3oUAAAAASUVORK5C\"></td><td style='text-align:center;vertical-align:middle; margin: 0.5em;border:1px #90999f solid;border-collapse:collapse'><img style='max-width: 100px; max-height:100px;display:inline' src=\"data:image/png;base64,iVBORw0KGgoAAAANSUhEUgAAAHAAAABwCAAAAADji6uXAAAABGdBTUEAALGPC/xhBQAAAAFzUkdCAK7OHOkAAAAgY0hSTQAAeiYAAICEAAD6AAAAgOgAAHUwAADqYAAAOpgAABdwnLpRPAAAAbFJREFUaAW9wTGrDWAABuDn5CV1J5uyuGWkdPMHZGCSzWYxSBIpN5NBV6k7mAwyURaTbP4Af0AZSCKFGBQpN13DmU6G85176n2eKIuyKIuyKIuyKIuyKIuyKIuyKIuyKIuyWFJwDQdwxXxRFmVRFku6hRu4b0yURVmUxRL244Kp18ZEWZRFWcyxF0fxEZ/Muox9eIR7xkRZlEVZzHEAL3ATG2atmvqAv8ZEWZRFWQw6jbv45X9/jIuyKIuyGHQMt3HVrD/YMC7KoizKYo4feIXDZh3FWWxZTJRFWZTFHN/wAodxHnfwGWuYYA+uY9OYKIuyKIsBb0yt4Di+45KpbXw1LsqiLMpiwANsmnps1hYeGhdlURZlMeA3nuKMqQm2MbG4KIuyKIsBW9jESezCBLuxbXFRFmVRFoNeYsXUITzHqsVFWZRFWezAW7zDqsVFWZRFWSxhYnFRFmVRFkvYxgQH8d6YKIuyKIsl7cY6LuOv+aIsyqIsdugJTpg6h3X8NF+URVmUxQ49w0UcwSn8NCbKoizKYoe+YM3ioizKoizKoizKoizKoizKoizKoizKouwfMyE2kxr2CAMAAAAASUVORK5C\"></td><td style='text-align:center;vertical-align:middle; margin: 0.5em;border:1px #90999f solid;border-collapse:collapse'><img style='max-width: 100px; max-height:100px;display:inline' src=\"data:image/png;base64,iVBORw0KGgoAAAANSUhEUgAAAHAAAABwCAAAAADji6uXAAAABGdBTUEAALGPC/xhBQAAAAFzUkdCAK7OHOkAAAAgY0hSTQAAeiYAAICEAAD6AAAAgOgAAHUwAADqYAAAOpgAABdwnLpRPAAAAgNJREFUaAW9wbGL13UABuAnfO+QGwyiwYZAhMTBxcgGC8obxMT/QBKkFnETQ7oQB6VGSVq8oSVwOIJqaZIwCO0gWpSjpalokKAisejSa/gNDZ71/Vi8zxNlURZlURZlURZlURZlURZlURZlURZlURZlURZlURb/wQF8hg2s4hhuYx13bS7KoizK4hHM4zTO4R5+wvM4jaP4AbtsLsqiLMriESzhLD7GJ7iBVbxu5ik8iR89KMqiLMpi0Ks4gy9xFms4jsfNfIEFDxdlURZlMWAOb2Ae72INC7hg5gpewwbWbS7KoizKYsCb2IPLWMGLWMF2fIAT+MM/i7Ioi7IYsB8b+BBP4B1sx7dYwl3/LsqiLMpiogM4iK9wHe9jP37FXtwxTZRFWZTFRLvNfIp9OGTmIO6YLsqiLMpi0Ct4CdtwHqvGRFmURVlMtIrvsM/Mb7hoXJRFWZTFRF9jBafMLOEX46IsyqIsBlzFKTNH8B7uGRNlURZlMeBlf1vESVwyJsqiLMpiomdxBh/hc1zEC7hkTJRFWZTFRG/jT5zD03gMC8ZFWZRFWUy0E7/je9zHOg4bF2VRFmUxwXPYgWX8jF24j2+Mi7Ioi7KY4BlswU7swTLm8ZZxURZlURYT3MQ6DmERc7iJa8ZFWZRFWUxwC1v9P6IsyqIsyqIsyqIsyqIsyqLsL+IVTmwZU/pNAAAAAElFTkSuQmCC\"></td><td style='text-align:center;vertical-align:middle; margin: 0.5em;border:1px #90999f solid;border-collapse:collapse'><img style='max-width: 100px; max-height:100px;display:inline' src=\"data:image/png;base64,iVBORw0KGgoAAAANSUhEUgAAAHAAAABwCAAAAADji6uXAAAABGdBTUEAALGPC/xhBQAAAAFzUkdCAK7OHOkAAAAgY0hSTQAAeiYAAICEAAD6AAAAgOgAAHUwAADqYAAAOpgAABdwnLpRPAAAAjNJREFUaAW9wTlongUABuAHfL0oiKMgLh7YoaSLoJMEh4oHzebg0MEDHHQRQYcoeBbRQk07xQMEBweLiwm4qOgWFKwOCh0j2A5WtBWCmtThG35C/qsW3ueJsiiLsiiLsiiLsiiLsiiLsiiLsiiLsiiL/yHYwFV4DedwAh/gHdNFWZRFWVymffgIBw0+NvIGzmDdZFEWZVEWl+FaPILDxrsOj2PdZFEWZVEWc7oTR7Fkt9M4h0MG9+AG/Gm8KIuyKIs5vYIlI7/jQyzjGpw3+B4XTRZlURZlMaefDS7gBFaxabDfyBZ2TBZlURZlMaejOIYdXLTbfUY2TBdlURZlMactbBnvYYPf8K7poizKoiyu0PO41+BLnDddlEVZlMUVWMCSwS9YNluURVmUxQxX4248iuuxgR8N3sMd2MbrOGO2KIuyKIsJ9uFlHMZtRo7YaxWr5hNlURZlMcaNOIVF8/kLN+Gs2aIsyqIsxngTiwabeAuX8AJuttdzOIQH8avpoizKoizGeBKXDI7jCO4y8g3exn48jVuwgHU8gLMGi1jAipEoi7IoixmOGfyLr/Ap3sc/+Aw/4ThuxUF8jjU8hNvxLVaMRFmURVmMsYJnjHyNV/GFvdbwA17CYziAAwZ/YNluURZlURZjPIsXcT/W8De2TbaJp3AaTxis4xS+s1uURVmUxRg7uIBPzG8bJ3HSdFEWZVEWZVEWZVEWZVEWZVEWZVEWZVEWZVEWZVEWZVEWZVH2Hz2ZXeWaIuPrAAAAAElFTkSuQmCC\"></td><td style='text-align:center;vertical-align:middle; margin: 0.5em;border:1px #90999f solid;border-collapse:collapse'><img style='max-width: 100px; max-height:100px;display:inline' src=\"data:image/png;base64,iVBORw0KGgoAAAANSUhEUgAAAHAAAABwCAAAAADji6uXAAAABGdBTUEAALGPC/xhBQAAAAFzUkdCAK7OHOkAAAAgY0hSTQAAeiYAAICEAAD6AAAAgOgAAHUwAADqYAAAOpgAABdwnLpRPAAAAj1JREFUaAW9wT+I1QUAB/DP1Zf+TElElEgSCsURDScZFQXBhYXVlgTRchBNwbU1OARKEtTQUA2FLQ1FEUGDYNRySFRroIc0RSgHGemgEpwNv+FxvOu9d3fw/XyiLMqiLMqiLMqiLMqiLMqiLMpiG+7DUziII7gbc1jGByaLsiiLstiC4FW8h11GbuASbpguyqIsymJGN+FjLBms4xRW8Qmu4ILpoizKoixmtIQlg8t4ESu2LsqiLMpiBot41+AfHMGK7YmyKIuymOJmHMMuXMWDWLN9URZlURZT3IODBmtYszNRFmVRFlMcNXLczkVZlEVZTHHI4By+tnNRFmVRFjM6i8vG3YV9eBb78BO+xCWbi7Ioi7KY4Enca7Bqo5fwPJ7A/UZewTJW8D7O2ijKoizKYoI7cIvBGczhZRzFA5izuf3Yj8cxb6Moi7Ioiwn+xnXciiWcx+cGf+BXfIXbsQfncSc+NPjLuCiLsiiLCc7gIvZiL94x8ha+MO4ZI98YF2VRFmUxxWm8hgUsGLlq3CP41uBHfGRclEVZlMUUb+AwdtvobfyMiwYP4RhuM1jGdeOiLMqiLKb4F8/hFHYbeRjf4TCu4CQOGJzE7zYXZVEWZTGD37CI09hjZAE/YAUHDH7B61i3uSiLsiiLGa3iED7FY0bmMW/wJ57Guv8XZVEWZbEF57CIN/ECHsUqvscFfIZrJouyKIuy2KJrOIETtifKoizKoizKoizKoizKoizKoizKoizKoizKoizK/gPQMldrnvtOvAAAAABJRU5ErkJg\"></td><td style='text-align:center;vertical-align:middle; margin: 0.5em;border:1px #90999f solid;border-collapse:collapse'><img style='max-width: 100px; max-height:100px;display:inline' src=\"data:image/png;base64,iVBORw0KGgoAAAANSUhEUgAAAHAAAABwCAAAAADji6uXAAAABGdBTUEAALGPC/xhBQAAAAFzUkdCAK7OHOkAAAAgY0hSTQAAeiYAAICEAAD6AAAAgOgAAHUwAADqYAAAOpgAABdwnLpRPAAAAk9JREFUaAW9wU2I5gMAB+Bn218YEorUpuxhpz0hLUkZotSM1orUcrQpuUgtsRfJx9yEpeQjHwfNwZZSDuQkBxcprWldHGbaKaWW1RJhHd7Dv5n3na9Nv+eJsiiLsiiLsiiLsiiLsiiLsiiLsiiLsiiLc3QejuMLHMYftibKoizK4hxM43XswR5ci1tsTZRFWZTFNk3hKdxp8CeuxE82F2VRFmWxTUdwyGq340ucxBJexbcmi7Ioi7LYhincZrJpTBu5Bw/gM+OiLMqiLLZoJxYwY9wb+BeX4yAuwTFchV+tFmVRFmWxBTvxMfYbWcb7+B6f4necxS7chN24CIfxjNWiLMqiLDYxhQXsN/IP3sS8cQ9it8FXxkVZlEVZbOJtHDB4GfMm22fwC742LsqiLMpiA/twt8FxvGay63GrwSs4bVyURVmUxTouw/O42MgJzGLFuOAF7DL40GRRFmVRFuu4D7MGz2LFZBdgzuBzLJssyqIsymKCS/GYwXv4yPo+MFjG4/jLZFEWZVEWa+zAS7jGyDd4AmdNdgz3GizihPVFWZRFWaxxNR4yeBinjLsQT2POyA4s4hEbi7Ioi7JY41GD77Bk3F68hRmDRdyFJRuLsiiLstjAUZwyOB8vYgY3GvyAOSzZXJRFWZTFBu7HaSM34w5cZ7UFPIkVWxNlURZlscZRHMBezGLWZJ9gHj/iZ1sXZVEWZbHGSdyAg5jGIVxh5Ayewzv4DX/bviiLsiiLCc7gXSNH/L+iLMqiLMqiLMqiLMqiLMqiLMqiLMqi7D/55VhsS2J5pQAAAABJRU5ErkJg\"></td></tr></tbody></table><div><small>(a vector displayed as a row to save space)</small></div>"
      ],
      "text/plain": [
       "8-element Vector{Base.ReinterpretArray{Gray{N0f8}, 2, N0f8, Matrix{N0f8}, true}}:\n",
       " [Gray{N0f8}(0.0) Gray{N0f8}(0.0) … Gray{N0f8}(0.0) Gray{N0f8}(0.0); Gray{N0f8}(0.0) Gray{N0f8}(0.0) … Gray{N0f8}(0.0) Gray{N0f8}(0.0); … ; Gray{N0f8}(0.0) Gray{N0f8}(0.0) … Gray{N0f8}(0.0) Gray{N0f8}(0.0); Gray{N0f8}(0.0) Gray{N0f8}(0.0) … Gray{N0f8}(0.0) Gray{N0f8}(0.0)]\n",
       " [Gray{N0f8}(0.0) Gray{N0f8}(0.0) … Gray{N0f8}(0.0) Gray{N0f8}(0.0); Gray{N0f8}(0.0) Gray{N0f8}(0.0) … Gray{N0f8}(0.0) Gray{N0f8}(0.0); … ; Gray{N0f8}(0.0) Gray{N0f8}(0.0) … Gray{N0f8}(0.0) Gray{N0f8}(0.0); Gray{N0f8}(0.0) Gray{N0f8}(0.0) … Gray{N0f8}(0.0) Gray{N0f8}(0.0)]\n",
       " [Gray{N0f8}(0.0) Gray{N0f8}(0.0) … Gray{N0f8}(0.0) Gray{N0f8}(0.0); Gray{N0f8}(0.0) Gray{N0f8}(0.0) … Gray{N0f8}(0.0) Gray{N0f8}(0.0); … ; Gray{N0f8}(0.0) Gray{N0f8}(0.0) … Gray{N0f8}(0.0) Gray{N0f8}(0.0); Gray{N0f8}(0.0) Gray{N0f8}(0.0) … Gray{N0f8}(0.0) Gray{N0f8}(0.0)]\n",
       " [Gray{N0f8}(0.0) Gray{N0f8}(0.0) … Gray{N0f8}(0.0) Gray{N0f8}(0.0); Gray{N0f8}(0.0) Gray{N0f8}(0.0) … Gray{N0f8}(0.0) Gray{N0f8}(0.0); … ; Gray{N0f8}(0.0) Gray{N0f8}(0.0) … Gray{N0f8}(0.0) Gray{N0f8}(0.0); Gray{N0f8}(0.0) Gray{N0f8}(0.0) … Gray{N0f8}(0.0) Gray{N0f8}(0.0)]\n",
       " [Gray{N0f8}(0.0) Gray{N0f8}(0.0) … Gray{N0f8}(0.0) Gray{N0f8}(0.0); Gray{N0f8}(0.0) Gray{N0f8}(0.0) … Gray{N0f8}(0.0) Gray{N0f8}(0.0); … ; Gray{N0f8}(0.0) Gray{N0f8}(0.0) … Gray{N0f8}(0.0) Gray{N0f8}(0.0); Gray{N0f8}(0.0) Gray{N0f8}(0.0) … Gray{N0f8}(0.0) Gray{N0f8}(0.0)]\n",
       " [Gray{N0f8}(0.0) Gray{N0f8}(0.0) … Gray{N0f8}(0.0) Gray{N0f8}(0.0); Gray{N0f8}(0.0) Gray{N0f8}(0.0) … Gray{N0f8}(0.0) Gray{N0f8}(0.0); … ; Gray{N0f8}(0.0) Gray{N0f8}(0.0) … Gray{N0f8}(0.0) Gray{N0f8}(0.0); Gray{N0f8}(0.0) Gray{N0f8}(0.0) … Gray{N0f8}(0.0) Gray{N0f8}(0.0)]\n",
       " [Gray{N0f8}(0.0) Gray{N0f8}(0.0) … Gray{N0f8}(0.0) Gray{N0f8}(0.0); Gray{N0f8}(0.0) Gray{N0f8}(0.0) … Gray{N0f8}(0.0) Gray{N0f8}(0.0); … ; Gray{N0f8}(0.0) Gray{N0f8}(0.0) … Gray{N0f8}(0.0) Gray{N0f8}(0.0); Gray{N0f8}(0.0) Gray{N0f8}(0.0) … Gray{N0f8}(0.0) Gray{N0f8}(0.0)]\n",
       " [Gray{N0f8}(0.0) Gray{N0f8}(0.0) … Gray{N0f8}(0.0) Gray{N0f8}(0.0); Gray{N0f8}(0.0) Gray{N0f8}(0.0) … Gray{N0f8}(0.0) Gray{N0f8}(0.0); … ; Gray{N0f8}(0.0) Gray{N0f8}(0.0) … Gray{N0f8}(0.0) Gray{N0f8}(0.0); Gray{N0f8}(0.0) Gray{N0f8}(0.0) … Gray{N0f8}(0.0) Gray{N0f8}(0.0)]"
      ]
     },
     "metadata": {},
     "output_type": "display_data"
    },
    {
     "data": {
      "text/plain": [
       "1×8 adjoint(::Vector{Int64}) with eltype Int64:\n",
       " 4  4  2  4  8  2  6  0"
      ]
     },
     "execution_count": 15,
     "metadata": {},
     "output_type": "execute_result"
    }
   ],
   "source": [
    "v = rand(1:N, 8)\n",
    "display([MNIST.convert2image(trainX[:,:,i]) for i in v])\n",
    "ŷ[v]'"
   ]
  },
  {
   "cell_type": "code",
   "execution_count": null,
   "id": "df4081dc",
   "metadata": {},
   "outputs": [],
   "source": []
  }
 ],
 "metadata": {
  "kernelspec": {
   "display_name": "Julia 1.6.5",
   "language": "julia",
   "name": "julia-1.6"
  },
  "language_info": {
   "file_extension": ".jl",
   "mimetype": "application/julia",
   "name": "julia",
   "version": "1.6.5"
  }
 },
 "nbformat": 4,
 "nbformat_minor": 5
}
