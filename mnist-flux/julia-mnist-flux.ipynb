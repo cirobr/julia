{
 "cells": [
  {
   "cell_type": "markdown",
   "id": "e145f758",
   "metadata": {},
   "source": [
    "# Flux with MNIST\n"
   ]
  },
  {
   "cell_type": "markdown",
   "id": "5f262ba3",
   "metadata": {},
   "source": [
    "## Libraries"
   ]
  },
  {
   "cell_type": "code",
   "execution_count": 1,
   "id": "d63e87f2",
   "metadata": {},
   "outputs": [],
   "source": [
    "# libraries\n",
    "using Flux              # the julia ml library\n",
    "using Images            # image processing and machine vision for julia\n",
    "using MLJ               # make_blobs, rmse, confmat, f1score, coerce\n",
    "using MLJFlux           # NeuralNetworkClassifier, CUDALibs\n",
    "using MLDataUtils       # label, nlabel, labelfreq\n",
    "using MLDatasets        # mnist\n",
    "\n",
    "#using LinearAlgebra     # pinv pseudo-inverse matrix\n",
    "#using Metrics           # r2-score\n",
    "using Random\n",
    "using StatsBase         # standardize (normalization)\n",
    "#using Distributions\n",
    "\n",
    "using Plots; gr()\n",
    "#using StatsPlots\n",
    "using Printf\n",
    "\n",
    "#using CSV\n",
    "using DataFrames\n"
   ]
  },
  {
   "cell_type": "markdown",
   "id": "d53a09fe",
   "metadata": {},
   "source": [
    "## Functions"
   ]
  },
  {
   "cell_type": "code",
   "execution_count": 2,
   "id": "66ccdfa6",
   "metadata": {},
   "outputs": [
    {
     "data": {
      "text/plain": [
       "printMetrics (generic function with 1 method)"
      ]
     },
     "execution_count": 2,
     "metadata": {},
     "output_type": "execute_result"
    }
   ],
   "source": [
    "# metrics\n",
    "function printMetrics(ŷ, y)\n",
    "    display(confmat(ŷ, y))\n",
    "    println(\"accuracy: \", round(accuracy(ŷ, y); digits=3))\n",
    "    println(\"f1-score: \", round(multiclass_f1score(ŷ, y); digits=3))\n",
    "end\n"
   ]
  },
  {
   "cell_type": "markdown",
   "id": "8903cf71",
   "metadata": {},
   "source": [
    "## Loading the data"
   ]
  },
  {
   "cell_type": "code",
   "execution_count": 3,
   "id": "4bd90da6",
   "metadata": {},
   "outputs": [
    {
     "data": {
      "text/html": [
       "<table><tbody><tr><td style='text-align:center;vertical-align:middle; margin: 0.5em;border:1px #90999f solid;border-collapse:collapse'><img style='max-width: 100px; max-height:100px;display:inline' src=\"data:image/png;base64,iVBORw0KGgoAAAANSUhEUgAAAHAAAABwCAAAAADji6uXAAAABGdBTUEAALGPC/xhBQAAAAFzUkdCAK7OHOkAAAAgY0hSTQAAeiYAAICEAAD6AAAAgOgAAHUwAADqYAAAOpgAABdwnLpRPAAAAiVJREFUaAW9wT2IFgQABuAHemnI4aJFISgJwkDIIiqIsMLcajiKIEEIshosmgSHhhoUIW/IcIgCISHa+psKsp8hEKSSSAlyECon61Q+jMDT4RuO7w6/n5Pe54myKIuyKIuyKIuyKIuyKIuyKIuyKIuyKIuyKIuyKIsZ3YQ5y17FLdiE3TiI5/EvDuAto6IsyqIsJrgDN+MRPIpb8YzV/sAhzOMSTuI7q0VZlEVZjHE/vsac8ZbwBgb4CH/hH/xmtSiLsiiLMc7iPOasdhyLeAL/4ajpRFmURVmM8Tf24Cn8hEOGfsZ2DLAZr5telEVZlMUEn+IYLmELXsQCBoZ+xcumF2VRFmUxhYuGLhjahY+xZHZRFmVRFjN4Ew/gMTyJr8wuyqIsymIGA7yEH/E+vsEJHMZV04myKIuymNEZvIAj2ImdWIcPcc5kURZlURZr8Al+xwK2YT/uxD78abwoi7IoizX6Bc/haRzBK7gb240XZVEWZXEDFnEUHyDYisfxreuLsiiLslije/EsHkQMncL3xouyKIuymNEmvIZ5bLDsCs5hyXhRFmVRFlPagB3YjY1GncA+fG6yKIuyKIsJ1mMz3sU9Rh3H2/gMS6YTZVEWZXEdt+E93Ie7jPoBC/gSl80myqIsymKFh7EHD+F2oy7jHezHwNpEWZRFWawwj3nLTuMLXMFBLLoxURZlURYr7MVe/58oi7Ioi7Ioi7Ioi7Ioi7IouwZsVVgTmd3ynQAAAABJRU5ErkJg\"></td><td style='text-align:center;vertical-align:middle; margin: 0.5em;border:1px #90999f solid;border-collapse:collapse'><img style='max-width: 100px; max-height:100px;display:inline' src=\"data:image/png;base64,iVBORw0KGgoAAAANSUhEUgAAAHAAAABwCAAAAADji6uXAAAABGdBTUEAALGPC/xhBQAAAAFzUkdCAK7OHOkAAAAgY0hSTQAAeiYAAICEAAD6AAAAgOgAAHUwAADqYAAAOpgAABdwnLpRPAAAAjJJREFUaAW9wT1oHAQABtB3+mGISDN0sIK46SaGFEUnxbEVFTtIkWYVRCgoAYcomRzUDlYQBREUhTo4WCwihcKB0EGtOneTQkAtgu1ih5zDDRlyf0nley/KoizKoizKoizKoizKoizKoizKoizKoixuw1G8inV8jg9wxWxRFmVRFge0ios4hBFO4VkcNluURVmUxQE8hq+xghFu4BYO4wn8jFsmi7Ioi7LYh7uxhi9wn11X8Q7O4Qe8ibdNFmVRFmWxDx/jpL3WcA+GeAoPmy7KoizKYkFHcRwDY0N8i3exjV/wN57GwHRRFmVRFgtYxUUcwgjf4SSexCY+wZ/4DTs4jjVcsVeURVmUxRwPYQMr+Avb+Aw3cQEX7LWM1/GSvaIsyqIsZljCeziGG1jHT1g23wMmi7Ioi7KYYQ3HjD2HodsXZVEWZTHDGQwwxNBi7sAOBiaLsiiLspjiGaxihPMWt4MRfjVZlEVZlMUUy7gLf+Ar8y1hy9glvGGyKIuyKIs5/sW22ZawiQ1cwxncNFmURVmUxRznzbaKDbyIb3DCbFEWZVEWUwwwwPM4bbLXsIkVfIl180VZlEVZTDHCCEdwFp/iOh7HKTyC+/E7vseHFhNlURZlMcedeAUn8A8etOsyLuEti4uyKIuymOIyfsSjxo7gXmPXcQ6n7V+URVmUxRTX8AJexqZd7+MjXHUwURZlURYzbGMLW/4/URZlURZlURZlURZlURZlURZlURZlUfYfqPxYlL4fzGQAAAAASUVORK5C\"></td><td style='text-align:center;vertical-align:middle; margin: 0.5em;border:1px #90999f solid;border-collapse:collapse'><img style='max-width: 100px; max-height:100px;display:inline' src=\"data:image/png;base64,iVBORw0KGgoAAAANSUhEUgAAAHAAAABwCAAAAADji6uXAAAABGdBTUEAALGPC/xhBQAAAAFzUkdCAK7OHOkAAAAgY0hSTQAAeiYAAICEAAD6AAAAgOgAAHUwAADqYAAAOpgAABdwnLpRPAAAAbVJREFUaAW9wT2rDQAABuDnnN6UhSLdlNQdbrZrMjCgbkl2E9kY/ASrSfkBBukOjMJkMJkQRvJRihhsSpFSDGdw7nHP/Tid3ueJsiiLsiiLsiiLsiiLsiiLsiiLsiiLsiiLsiiLsiiLOVvBHZzAW/+LsiiLsphwHHtxz2yO4IXpoizKoiwmnMQS7tm+IRZxEAPri7Ioi7KYcAFPzGY/LuI23lhflEVZlMWEodndNPLedFEWZVEWY5axYHa7jTwyXZRFWZTFmDPYaTYLWDTyxXRRFmVRFmMOGXll+65jAe/w3XRRFmVRFut4bmt24TTO45SRq/hmuiiLsiiLdeyx1mEMsYID2IFzGOInnuEXgpc2FmVRFmUx5if+4Aau+GcZA/zGD7zGLbzAY3zFZ+zEGxuLsiiLshhzGR9xzFqf8ACv8dT/LmEfPthclEVZlMWEa7Zvxchdm4uyKIuymKP7NhdlURZlURZlURZlMScDLOGJjUVZlEVZzMkfDG0uyqIsymKOjmLVxqIsyqIs5mRga6IsyqIs5uAhztqaKIuyKIs5WMWqrYmyKIuyKIuyKIuyKIuyKIuyv/irMYSJ7ydGAAAAAElFTkSuQmCC\"></td><td style='text-align:center;vertical-align:middle; margin: 0.5em;border:1px #90999f solid;border-collapse:collapse'><img style='max-width: 100px; max-height:100px;display:inline' src=\"data:image/png;base64,iVBORw0KGgoAAAANSUhEUgAAAHAAAABwCAAAAADji6uXAAAABGdBTUEAALGPC/xhBQAAAAFzUkdCAK7OHOkAAAAgY0hSTQAAeiYAAICEAAD6AAAAgOgAAHUwAADqYAAAOpgAABdwnLpRPAAAAYtJREFUaAW9waFqVQEABuCP8YNRRUFM7glkDzDQoGIw+AYbdpugYcUgDEwiy4p9wSooCjLwDWYRDIJrCibD1XDCLc577rmX//uiLMqiLMqiLMqiLMqiLMqiLMqiLMqiLMqiLMqiLMpiTfbwGBu4jg/+LcqiLMpiDXbxCDODP04XZVEWZbEGV3DGOFEWZVEWK7qB+wbHuIMTp4uyKIuyWME2XuKswVN89X9RFmVRFivYwWWD93hlsSiLsiiLiS7iHmb4gSfGibIoi7KYYBOH5p7jnXGiLMqiLCa4jasGb/HMeFEWZVEWS7qLfYOP2MFP40VZlEVZLGETh+a+4MRyoizKoiyW8BAzc/uWF2VRFmUx0hZumXuNz5YXZVEWZTHSG5w3+IRd00RZlEVZjHQBM4MD/DJNlEVZlMUIL7Bh7sh0URZlURYLbOEmZviNA5yYLsqiLMpigXO4ZPAND6wmyqIsyqIsyqIsymKBYxxh23pEWZRFWSzwHdesT5RFWZRFWZRFWZRFWZRFWZT9BXYjLFSLepVZAAAAAElFTkSuQmCC\"></td><td style='text-align:center;vertical-align:middle; margin: 0.5em;border:1px #90999f solid;border-collapse:collapse'><img style='max-width: 100px; max-height:100px;display:inline' src=\"data:image/png;base64,iVBORw0KGgoAAAANSUhEUgAAAHAAAABwCAAAAADji6uXAAAABGdBTUEAALGPC/xhBQAAAAFzUkdCAK7OHOkAAAAgY0hSTQAAeiYAAICEAAD6AAAAgOgAAHUwAADqYAAAOpgAABdwnLpRPAAAAf5JREFUaAW9wT+I1QUAB/DPxRf7Q4PEXeDikG22STRlS1xbOHkOOTganFMQooSgNtTU0pJDosEhIogtR0uUi9AmuES1iMtFxAMJHO45/IYb5L177xd8P58oi7Ioi7Ioi7Ioi7Ioi7Ioi7Ioi7Ioi7Ioi7Ioi7Ioi7Ioi7Ioi7Ioi7JY0ns4jeM4avAZnuB93MADs0VZlEVZLGED32AVK/gZa/jaYAWrOGW2KIuyKIsFBO/iO7yGX3AZ9/EybmHd4DfzRVmURVks4BNcM/gJG5gYbGDd4DGumy/KoizKYh9XcB5TfIuLmNhzwZ5z2DFflEVZlMUcX+A8nmEbn+M/g1ewjsNYwRXctb8oi7IoixkO4lNMsY0T9ryNH3DM4Da+spgoi7IoixkOYNXgHN7EGXyMd/A6ppjiJp5aTJRFWZTFDM+wgzX8hak9TzDBIfyNexYXZVEWZTHDvziBH/EG/sBdfI9/sIVD2LKcKIuyKIs5HmDNi47jA+ziT8uJsiiLshjhVexiii3LibIoi7IYYdt4URZlURYjfGS8KIuyKIsRjhgvyqIsymKEX/ESdi0vyqIsymKEh/gdb+EIdiwuyqIsymKkL3ENV7GJRxYTZVEWZTHSHZzCh7iEM3hqf1EWZVEWI01wEldxFpfwyP6iLMqiLP6HCTaxaXFRFmVR9hxr7UyvfehgBAAAAABJRU5ErkJg\"></td></tr></tbody></table><div><small>(a vector displayed as a row to save space)</small></div>"
      ],
      "text/plain": [
       "5-element Vector{Base.ReinterpretArray{Gray{N0f8}, 2, N0f8, Matrix{N0f8}, true}}:\n",
       " [Gray{N0f8}(0.0) Gray{N0f8}(0.0) … Gray{N0f8}(0.0) Gray{N0f8}(0.0); Gray{N0f8}(0.0) Gray{N0f8}(0.0) … Gray{N0f8}(0.0) Gray{N0f8}(0.0); … ; Gray{N0f8}(0.0) Gray{N0f8}(0.0) … Gray{N0f8}(0.0) Gray{N0f8}(0.0); Gray{N0f8}(0.0) Gray{N0f8}(0.0) … Gray{N0f8}(0.0) Gray{N0f8}(0.0)]\n",
       " [Gray{N0f8}(0.0) Gray{N0f8}(0.0) … Gray{N0f8}(0.0) Gray{N0f8}(0.0); Gray{N0f8}(0.0) Gray{N0f8}(0.0) … Gray{N0f8}(0.0) Gray{N0f8}(0.0); … ; Gray{N0f8}(0.0) Gray{N0f8}(0.0) … Gray{N0f8}(0.0) Gray{N0f8}(0.0); Gray{N0f8}(0.0) Gray{N0f8}(0.0) … Gray{N0f8}(0.0) Gray{N0f8}(0.0)]\n",
       " [Gray{N0f8}(0.0) Gray{N0f8}(0.0) … Gray{N0f8}(0.0) Gray{N0f8}(0.0); Gray{N0f8}(0.0) Gray{N0f8}(0.0) … Gray{N0f8}(0.0) Gray{N0f8}(0.0); … ; Gray{N0f8}(0.0) Gray{N0f8}(0.0) … Gray{N0f8}(0.0) Gray{N0f8}(0.0); Gray{N0f8}(0.0) Gray{N0f8}(0.0) … Gray{N0f8}(0.0) Gray{N0f8}(0.0)]\n",
       " [Gray{N0f8}(0.0) Gray{N0f8}(0.0) … Gray{N0f8}(0.0) Gray{N0f8}(0.0); Gray{N0f8}(0.0) Gray{N0f8}(0.0) … Gray{N0f8}(0.0) Gray{N0f8}(0.0); … ; Gray{N0f8}(0.0) Gray{N0f8}(0.0) … Gray{N0f8}(0.0) Gray{N0f8}(0.0); Gray{N0f8}(0.0) Gray{N0f8}(0.0) … Gray{N0f8}(0.0) Gray{N0f8}(0.0)]\n",
       " [Gray{N0f8}(0.0) Gray{N0f8}(0.0) … Gray{N0f8}(0.0) Gray{N0f8}(0.0); Gray{N0f8}(0.0) Gray{N0f8}(0.0) … Gray{N0f8}(0.0) Gray{N0f8}(0.0); … ; Gray{N0f8}(0.0) Gray{N0f8}(0.0) … Gray{N0f8}(0.0) Gray{N0f8}(0.0); Gray{N0f8}(0.0) Gray{N0f8}(0.0) … Gray{N0f8}(0.0) Gray{N0f8}(0.0)]"
      ]
     },
     "metadata": {},
     "output_type": "display_data"
    },
    {
     "data": {
      "text/plain": [
       "1×5 adjoint(::Vector{Int64}) with eltype Int64:\n",
       " 5  0  4  1  9"
      ]
     },
     "execution_count": 3,
     "metadata": {},
     "output_type": "execute_result"
    }
   ],
   "source": [
    "# load mnist from MLDatasets\n",
    "trainX_original,      trainY_original      = MNIST.traindata()\n",
    "validationX_original, validationY_original = MNIST.testdata();\n",
    "\n",
    "display([MNIST.convert2image(MNIST.traintensor(i)) for i in 1:5])\n",
    "trainY_original[1:5]'"
   ]
  },
  {
   "cell_type": "code",
   "execution_count": 4,
   "id": "7f2acc6e",
   "metadata": {},
   "outputs": [
    {
     "data": {
      "text/plain": [
       "((28, 28, 42001), (28, 28, 17999), (28, 28, 10000))"
      ]
     },
     "execution_count": 4,
     "metadata": {},
     "output_type": "execute_result"
    }
   ],
   "source": [
    "# split trainset, testset, validation set\n",
    "Random.seed!(1)\n",
    "(trainX, trainY), (testX, testY) = stratifiedobs((trainX_original, trainY_original), p = 0.7)\n",
    "validationX = copy(validationX_original); validationY = copy(validationY_original)\n",
    "\n",
    "size(trainX), size(testX), size(validationX)"
   ]
  },
  {
   "cell_type": "markdown",
   "id": "b8b9c3b0",
   "metadata": {},
   "source": [
    "## Data preprocessing\n",
    "\n",
    "Flux primarily works with matrices and vectors"
   ]
  },
  {
   "cell_type": "code",
   "execution_count": 5,
   "id": "f76c815d",
   "metadata": {},
   "outputs": [],
   "source": [
    "function preprocessing(X, y)\n",
    "    Xs = Flux.flatten( Float32.(X) )\n",
    "    ys = Flux.onehotbatch( Float32.(y), 0:9 )\n",
    "    \n",
    "    # add here pca and standardize ???\n",
    "    \n",
    "    #Xs = Flux.batch(Xs)\n",
    "    #ys = Flux.batch(ys)\n",
    "    \n",
    "    return (Xs, ys)\n",
    "end\n",
    "\n",
    "h, v, N = size(trainX); d = h * v\n",
    "X, y = preprocessing(trainX, trainY);"
   ]
  },
  {
   "cell_type": "code",
   "execution_count": 67,
   "id": "67d36968",
   "metadata": {},
   "outputs": [
    {
     "data": {
      "text/plain": [
       "(784, 42001, (784, 42001), (10, 42001))"
      ]
     },
     "execution_count": 67,
     "metadata": {},
     "output_type": "execute_result"
    }
   ],
   "source": [
    "d, N, size(X), size(y)"
   ]
  },
  {
   "cell_type": "markdown",
   "id": "67b2b3d1",
   "metadata": {},
   "source": [
    "### Exemplo preliminar DNN"
   ]
  },
  {
   "cell_type": "code",
   "execution_count": 7,
   "id": "7d4b4daf",
   "metadata": {},
   "outputs": [
    {
     "data": {
      "image/svg+xml": [
       "<?xml version=\"1.0\" encoding=\"utf-8\"?>\n",
       "<svg xmlns=\"http://www.w3.org/2000/svg\" xmlns:xlink=\"http://www.w3.org/1999/xlink\" width=\"400\" height=\"300\" viewBox=\"0 0 1600 1200\">\n",
       "<defs>\n",
       "  <clipPath id=\"clip180\">\n",
       "    <rect x=\"0\" y=\"0\" width=\"1600\" height=\"1200\"/>\n",
       "  </clipPath>\n",
       "</defs>\n",
       "<path clip-path=\"url(#clip180)\" d=\"\n",
       "M0 1200 L1600 1200 L1600 0 L0 0  Z\n",
       "  \" fill=\"#ffffff\" fill-rule=\"evenodd\" fill-opacity=\"1\"/>\n",
       "<defs>\n",
       "  <clipPath id=\"clip181\">\n",
       "    <rect x=\"320\" y=\"0\" width=\"1121\" height=\"1121\"/>\n",
       "  </clipPath>\n",
       "</defs>\n",
       "<path clip-path=\"url(#clip180)\" d=\"\n",
       "M178.274 1086.13 L1552.76 1086.13 L1552.76 47.2441 L178.274 47.2441  Z\n",
       "  \" fill=\"#ffffff\" fill-rule=\"evenodd\" fill-opacity=\"1\"/>\n",
       "<defs>\n",
       "  <clipPath id=\"clip182\">\n",
       "    <rect x=\"178\" y=\"47\" width=\"1375\" height=\"1040\"/>\n",
       "  </clipPath>\n",
       "</defs>\n",
       "<polyline clip-path=\"url(#clip182)\" style=\"stroke:#000000; stroke-linecap:butt; stroke-linejoin:round; stroke-width:2; stroke-opacity:0.1; fill:none\" points=\"\n",
       "  346.843,1086.13 346.843,47.2441 \n",
       "  \"/>\n",
       "<polyline clip-path=\"url(#clip182)\" style=\"stroke:#000000; stroke-linecap:butt; stroke-linejoin:round; stroke-width:2; stroke-opacity:0.1; fill:none\" points=\"\n",
       "  606.179,1086.13 606.179,47.2441 \n",
       "  \"/>\n",
       "<polyline clip-path=\"url(#clip182)\" style=\"stroke:#000000; stroke-linecap:butt; stroke-linejoin:round; stroke-width:2; stroke-opacity:0.1; fill:none\" points=\"\n",
       "  865.515,1086.13 865.515,47.2441 \n",
       "  \"/>\n",
       "<polyline clip-path=\"url(#clip182)\" style=\"stroke:#000000; stroke-linecap:butt; stroke-linejoin:round; stroke-width:2; stroke-opacity:0.1; fill:none\" points=\"\n",
       "  1124.85,1086.13 1124.85,47.2441 \n",
       "  \"/>\n",
       "<polyline clip-path=\"url(#clip182)\" style=\"stroke:#000000; stroke-linecap:butt; stroke-linejoin:round; stroke-width:2; stroke-opacity:0.1; fill:none\" points=\"\n",
       "  1384.19,1086.13 1384.19,47.2441 \n",
       "  \"/>\n",
       "<polyline clip-path=\"url(#clip180)\" style=\"stroke:#000000; stroke-linecap:butt; stroke-linejoin:round; stroke-width:4; stroke-opacity:1; fill:none\" points=\"\n",
       "  178.274,1086.13 1552.76,1086.13 \n",
       "  \"/>\n",
       "<polyline clip-path=\"url(#clip180)\" style=\"stroke:#000000; stroke-linecap:butt; stroke-linejoin:round; stroke-width:4; stroke-opacity:1; fill:none\" points=\"\n",
       "  346.843,1086.13 346.843,1067.23 \n",
       "  \"/>\n",
       "<polyline clip-path=\"url(#clip180)\" style=\"stroke:#000000; stroke-linecap:butt; stroke-linejoin:round; stroke-width:4; stroke-opacity:1; fill:none\" points=\"\n",
       "  606.179,1086.13 606.179,1067.23 \n",
       "  \"/>\n",
       "<polyline clip-path=\"url(#clip180)\" style=\"stroke:#000000; stroke-linecap:butt; stroke-linejoin:round; stroke-width:4; stroke-opacity:1; fill:none\" points=\"\n",
       "  865.515,1086.13 865.515,1067.23 \n",
       "  \"/>\n",
       "<polyline clip-path=\"url(#clip180)\" style=\"stroke:#000000; stroke-linecap:butt; stroke-linejoin:round; stroke-width:4; stroke-opacity:1; fill:none\" points=\"\n",
       "  1124.85,1086.13 1124.85,1067.23 \n",
       "  \"/>\n",
       "<polyline clip-path=\"url(#clip180)\" style=\"stroke:#000000; stroke-linecap:butt; stroke-linejoin:round; stroke-width:4; stroke-opacity:1; fill:none\" points=\"\n",
       "  1384.19,1086.13 1384.19,1067.23 \n",
       "  \"/>\n",
       "<path clip-path=\"url(#clip180)\" d=\"M315.743 1125.3 L345.419 1125.3 L345.419 1129.23 L315.743 1129.23 L315.743 1125.3 Z\" fill=\"#000000\" fill-rule=\"evenodd\" fill-opacity=\"1\" /><path clip-path=\"url(#clip180)\" d=\"M368.359 1111.64 L356.553 1130.09 L368.359 1130.09 L368.359 1111.64 M367.132 1107.57 L373.011 1107.57 L373.011 1130.09 L377.942 1130.09 L377.942 1133.98 L373.011 1133.98 L373.011 1142.13 L368.359 1142.13 L368.359 1133.98 L352.757 1133.98 L352.757 1129.47 L367.132 1107.57 Z\" fill=\"#000000\" fill-rule=\"evenodd\" fill-opacity=\"1\" /><path clip-path=\"url(#clip180)\" d=\"M576.121 1125.3 L605.797 1125.3 L605.797 1129.23 L576.121 1129.23 L576.121 1125.3 Z\" fill=\"#000000\" fill-rule=\"evenodd\" fill-opacity=\"1\" /><path clip-path=\"url(#clip180)\" d=\"M619.917 1138.19 L636.236 1138.19 L636.236 1142.13 L614.292 1142.13 L614.292 1138.19 Q616.954 1135.44 621.537 1130.81 Q626.144 1126.16 627.324 1124.81 Q629.57 1122.29 630.449 1120.55 Q631.352 1118.79 631.352 1117.1 Q631.352 1114.35 629.408 1112.61 Q627.487 1110.88 624.385 1110.88 Q622.186 1110.88 619.732 1111.64 Q617.301 1112.41 614.524 1113.96 L614.524 1109.23 Q617.348 1108.1 619.801 1107.52 Q622.255 1106.94 624.292 1106.94 Q629.662 1106.94 632.857 1109.63 Q636.051 1112.31 636.051 1116.8 Q636.051 1118.93 635.241 1120.85 Q634.454 1122.75 632.348 1125.35 Q631.769 1126.02 628.667 1129.23 Q625.565 1132.43 619.917 1138.19 Z\" fill=\"#000000\" fill-rule=\"evenodd\" fill-opacity=\"1\" /><path clip-path=\"url(#clip180)\" d=\"M865.515 1110.65 Q861.904 1110.65 860.075 1114.21 Q858.27 1117.75 858.27 1124.88 Q858.27 1131.99 860.075 1135.55 Q861.904 1139.1 865.515 1139.1 Q869.149 1139.1 870.955 1135.55 Q872.783 1131.99 872.783 1124.88 Q872.783 1117.75 870.955 1114.21 Q869.149 1110.65 865.515 1110.65 M865.515 1106.94 Q871.325 1106.94 874.381 1111.55 Q877.459 1116.13 877.459 1124.88 Q877.459 1133.61 874.381 1138.22 Q871.325 1142.8 865.515 1142.8 Q859.705 1142.8 856.626 1138.22 Q853.571 1133.61 853.571 1124.88 Q853.571 1116.13 856.626 1111.55 Q859.705 1106.94 865.515 1106.94 Z\" fill=\"#000000\" fill-rule=\"evenodd\" fill-opacity=\"1\" /><path clip-path=\"url(#clip180)\" d=\"M1119.5 1138.19 L1135.82 1138.19 L1135.82 1142.13 L1113.88 1142.13 L1113.88 1138.19 Q1116.54 1135.44 1121.12 1130.81 Q1125.73 1126.16 1126.91 1124.81 Q1129.16 1122.29 1130.04 1120.55 Q1130.94 1118.79 1130.94 1117.1 Q1130.94 1114.35 1128.99 1112.61 Q1127.07 1110.88 1123.97 1110.88 Q1121.77 1110.88 1119.32 1111.64 Q1116.89 1112.41 1114.11 1113.96 L1114.11 1109.23 Q1116.93 1108.1 1119.39 1107.52 Q1121.84 1106.94 1123.88 1106.94 Q1129.25 1106.94 1132.44 1109.63 Q1135.64 1112.31 1135.64 1116.8 Q1135.64 1118.93 1134.83 1120.85 Q1134.04 1122.75 1131.93 1125.35 Q1131.36 1126.02 1128.25 1129.23 Q1125.15 1132.43 1119.5 1138.19 Z\" fill=\"#000000\" fill-rule=\"evenodd\" fill-opacity=\"1\" /><path clip-path=\"url(#clip180)\" d=\"M1387.2 1111.64 L1375.39 1130.09 L1387.2 1130.09 L1387.2 1111.64 M1385.97 1107.57 L1391.85 1107.57 L1391.85 1130.09 L1396.78 1130.09 L1396.78 1133.98 L1391.85 1133.98 L1391.85 1142.13 L1387.2 1142.13 L1387.2 1133.98 L1371.59 1133.98 L1371.59 1129.47 L1385.97 1107.57 Z\" fill=\"#000000\" fill-rule=\"evenodd\" fill-opacity=\"1\" /><polyline clip-path=\"url(#clip182)\" style=\"stroke:#000000; stroke-linecap:butt; stroke-linejoin:round; stroke-width:2; stroke-opacity:0.1; fill:none\" points=\"\n",
       "  178.274,1063.37 1552.76,1063.37 \n",
       "  \"/>\n",
       "<polyline clip-path=\"url(#clip182)\" style=\"stroke:#000000; stroke-linecap:butt; stroke-linejoin:round; stroke-width:2; stroke-opacity:0.1; fill:none\" points=\"\n",
       "  178.274,815.03 1552.76,815.03 \n",
       "  \"/>\n",
       "<polyline clip-path=\"url(#clip182)\" style=\"stroke:#000000; stroke-linecap:butt; stroke-linejoin:round; stroke-width:2; stroke-opacity:0.1; fill:none\" points=\"\n",
       "  178.274,566.686 1552.76,566.686 \n",
       "  \"/>\n",
       "<polyline clip-path=\"url(#clip182)\" style=\"stroke:#000000; stroke-linecap:butt; stroke-linejoin:round; stroke-width:2; stroke-opacity:0.1; fill:none\" points=\"\n",
       "  178.274,318.342 1552.76,318.342 \n",
       "  \"/>\n",
       "<polyline clip-path=\"url(#clip182)\" style=\"stroke:#000000; stroke-linecap:butt; stroke-linejoin:round; stroke-width:2; stroke-opacity:0.1; fill:none\" points=\"\n",
       "  178.274,69.9979 1552.76,69.9979 \n",
       "  \"/>\n",
       "<polyline clip-path=\"url(#clip180)\" style=\"stroke:#000000; stroke-linecap:butt; stroke-linejoin:round; stroke-width:4; stroke-opacity:1; fill:none\" points=\"\n",
       "  178.274,1086.13 178.274,47.2441 \n",
       "  \"/>\n",
       "<polyline clip-path=\"url(#clip180)\" style=\"stroke:#000000; stroke-linecap:butt; stroke-linejoin:round; stroke-width:4; stroke-opacity:1; fill:none\" points=\"\n",
       "  178.274,1063.37 197.172,1063.37 \n",
       "  \"/>\n",
       "<polyline clip-path=\"url(#clip180)\" style=\"stroke:#000000; stroke-linecap:butt; stroke-linejoin:round; stroke-width:4; stroke-opacity:1; fill:none\" points=\"\n",
       "  178.274,815.03 197.172,815.03 \n",
       "  \"/>\n",
       "<polyline clip-path=\"url(#clip180)\" style=\"stroke:#000000; stroke-linecap:butt; stroke-linejoin:round; stroke-width:4; stroke-opacity:1; fill:none\" points=\"\n",
       "  178.274,566.686 197.172,566.686 \n",
       "  \"/>\n",
       "<polyline clip-path=\"url(#clip180)\" style=\"stroke:#000000; stroke-linecap:butt; stroke-linejoin:round; stroke-width:4; stroke-opacity:1; fill:none\" points=\"\n",
       "  178.274,318.342 197.172,318.342 \n",
       "  \"/>\n",
       "<polyline clip-path=\"url(#clip180)\" style=\"stroke:#000000; stroke-linecap:butt; stroke-linejoin:round; stroke-width:4; stroke-opacity:1; fill:none\" points=\"\n",
       "  178.274,69.9979 197.172,69.9979 \n",
       "  \"/>\n",
       "<path clip-path=\"url(#clip180)\" d=\"M66.9365 1049.17 Q63.3254 1049.17 61.4967 1052.74 Q59.6912 1056.28 59.6912 1063.41 Q59.6912 1070.52 61.4967 1074.08 Q63.3254 1077.62 66.9365 1077.62 Q70.5707 1077.62 72.3763 1074.08 Q74.205 1070.52 74.205 1063.41 Q74.205 1056.28 72.3763 1052.74 Q70.5707 1049.17 66.9365 1049.17 M66.9365 1045.47 Q72.7467 1045.47 75.8022 1050.08 Q78.8809 1054.66 78.8809 1063.41 Q78.8809 1072.14 75.8022 1076.74 Q72.7467 1081.33 66.9365 1081.33 Q61.1264 1081.33 58.0477 1076.74 Q54.9921 1072.14 54.9921 1063.41 Q54.9921 1054.66 58.0477 1050.08 Q61.1264 1045.47 66.9365 1045.47 Z\" fill=\"#000000\" fill-rule=\"evenodd\" fill-opacity=\"1\" /><path clip-path=\"url(#clip180)\" d=\"M87.0984 1074.77 L91.9827 1074.77 L91.9827 1080.65 L87.0984 1080.65 L87.0984 1074.77 Z\" fill=\"#000000\" fill-rule=\"evenodd\" fill-opacity=\"1\" /><path clip-path=\"url(#clip180)\" d=\"M112.168 1049.17 Q108.557 1049.17 106.728 1052.74 Q104.922 1056.28 104.922 1063.41 Q104.922 1070.52 106.728 1074.08 Q108.557 1077.62 112.168 1077.62 Q115.802 1077.62 117.608 1074.08 Q119.436 1070.52 119.436 1063.41 Q119.436 1056.28 117.608 1052.74 Q115.802 1049.17 112.168 1049.17 M112.168 1045.47 Q117.978 1045.47 121.033 1050.08 Q124.112 1054.66 124.112 1063.41 Q124.112 1072.14 121.033 1076.74 Q117.978 1081.33 112.168 1081.33 Q106.358 1081.33 103.279 1076.74 Q100.223 1072.14 100.223 1063.41 Q100.223 1054.66 103.279 1050.08 Q106.358 1045.47 112.168 1045.47 Z\" fill=\"#000000\" fill-rule=\"evenodd\" fill-opacity=\"1\" /><path clip-path=\"url(#clip180)\" d=\"M142.33 1049.17 Q138.719 1049.17 136.89 1052.74 Q135.084 1056.28 135.084 1063.41 Q135.084 1070.52 136.89 1074.08 Q138.719 1077.62 142.33 1077.62 Q145.964 1077.62 147.769 1074.08 Q149.598 1070.52 149.598 1063.41 Q149.598 1056.28 147.769 1052.74 Q145.964 1049.17 142.33 1049.17 M142.33 1045.47 Q148.14 1045.47 151.195 1050.08 Q154.274 1054.66 154.274 1063.41 Q154.274 1072.14 151.195 1076.74 Q148.14 1081.33 142.33 1081.33 Q136.519 1081.33 133.441 1076.74 Q130.385 1072.14 130.385 1063.41 Q130.385 1054.66 133.441 1050.08 Q136.519 1045.47 142.33 1045.47 Z\" fill=\"#000000\" fill-rule=\"evenodd\" fill-opacity=\"1\" /><path clip-path=\"url(#clip180)\" d=\"M67.9319 800.829 Q64.3208 800.829 62.4921 804.393 Q60.6865 807.935 60.6865 815.065 Q60.6865 822.171 62.4921 825.736 Q64.3208 829.278 67.9319 829.278 Q71.5661 829.278 73.3717 825.736 Q75.2004 822.171 75.2004 815.065 Q75.2004 807.935 73.3717 804.393 Q71.5661 800.829 67.9319 800.829 M67.9319 797.125 Q73.742 797.125 76.7976 801.731 Q79.8763 806.315 79.8763 815.065 Q79.8763 823.792 76.7976 828.398 Q73.742 832.981 67.9319 832.981 Q62.1217 832.981 59.043 828.398 Q55.9875 823.792 55.9875 815.065 Q55.9875 806.315 59.043 801.731 Q62.1217 797.125 67.9319 797.125 Z\" fill=\"#000000\" fill-rule=\"evenodd\" fill-opacity=\"1\" /><path clip-path=\"url(#clip180)\" d=\"M88.0938 826.43 L92.978 826.43 L92.978 832.31 L88.0938 832.31 L88.0938 826.43 Z\" fill=\"#000000\" fill-rule=\"evenodd\" fill-opacity=\"1\" /><path clip-path=\"url(#clip180)\" d=\"M107.191 828.375 L123.51 828.375 L123.51 832.31 L101.566 832.31 L101.566 828.375 Q104.228 825.62 108.811 820.991 Q113.418 816.338 114.598 814.995 Q116.844 812.472 117.723 810.736 Q118.626 808.977 118.626 807.287 Q118.626 804.532 116.682 802.796 Q114.76 801.06 111.658 801.06 Q109.459 801.06 107.006 801.824 Q104.575 802.588 101.797 804.139 L101.797 799.417 Q104.621 798.282 107.075 797.704 Q109.529 797.125 111.566 797.125 Q116.936 797.125 120.131 799.81 Q123.325 802.495 123.325 806.986 Q123.325 809.116 122.515 811.037 Q121.728 812.935 119.621 815.528 Q119.043 816.199 115.941 819.417 Q112.839 822.611 107.191 828.375 Z\" fill=\"#000000\" fill-rule=\"evenodd\" fill-opacity=\"1\" /><path clip-path=\"url(#clip180)\" d=\"M133.371 797.75 L151.728 797.75 L151.728 801.685 L137.654 801.685 L137.654 810.157 Q138.672 809.81 139.691 809.648 Q140.709 809.463 141.728 809.463 Q147.515 809.463 150.894 812.634 Q154.274 815.805 154.274 821.222 Q154.274 826.801 150.802 829.903 Q147.33 832.981 141.01 832.981 Q138.834 832.981 136.566 832.611 Q134.32 832.241 131.913 831.5 L131.913 826.801 Q133.996 827.935 136.219 828.491 Q138.441 829.046 140.918 829.046 Q144.922 829.046 147.26 826.94 Q149.598 824.833 149.598 821.222 Q149.598 817.611 147.26 815.505 Q144.922 813.398 140.918 813.398 Q139.043 813.398 137.168 813.815 Q135.316 814.231 133.371 815.111 L133.371 797.75 Z\" fill=\"#000000\" fill-rule=\"evenodd\" fill-opacity=\"1\" /><path clip-path=\"url(#clip180)\" d=\"M66.9365 552.485 Q63.3254 552.485 61.4967 556.049 Q59.6912 559.591 59.6912 566.721 Q59.6912 573.827 61.4967 577.392 Q63.3254 580.934 66.9365 580.934 Q70.5707 580.934 72.3763 577.392 Q74.205 573.827 74.205 566.721 Q74.205 559.591 72.3763 556.049 Q70.5707 552.485 66.9365 552.485 M66.9365 548.781 Q72.7467 548.781 75.8022 553.387 Q78.8809 557.971 78.8809 566.721 Q78.8809 575.448 75.8022 580.054 Q72.7467 584.637 66.9365 584.637 Q61.1264 584.637 58.0477 580.054 Q54.9921 575.448 54.9921 566.721 Q54.9921 557.971 58.0477 553.387 Q61.1264 548.781 66.9365 548.781 Z\" fill=\"#000000\" fill-rule=\"evenodd\" fill-opacity=\"1\" /><path clip-path=\"url(#clip180)\" d=\"M87.0984 578.086 L91.9827 578.086 L91.9827 583.966 L87.0984 583.966 L87.0984 578.086 Z\" fill=\"#000000\" fill-rule=\"evenodd\" fill-opacity=\"1\" /><path clip-path=\"url(#clip180)\" d=\"M102.214 549.406 L120.57 549.406 L120.57 553.341 L106.496 553.341 L106.496 561.813 Q107.515 561.466 108.534 561.304 Q109.552 561.119 110.571 561.119 Q116.358 561.119 119.737 564.29 Q123.117 567.461 123.117 572.878 Q123.117 578.457 119.645 581.559 Q116.172 584.637 109.853 584.637 Q107.677 584.637 105.409 584.267 Q103.163 583.897 100.756 583.156 L100.756 578.457 Q102.839 579.591 105.061 580.147 Q107.284 580.702 109.76 580.702 Q113.765 580.702 116.103 578.596 Q118.441 576.489 118.441 572.878 Q118.441 569.267 116.103 567.161 Q113.765 565.054 109.76 565.054 Q107.885 565.054 106.01 565.471 Q104.159 565.887 102.214 566.767 L102.214 549.406 Z\" fill=\"#000000\" fill-rule=\"evenodd\" fill-opacity=\"1\" /><path clip-path=\"url(#clip180)\" d=\"M142.33 552.485 Q138.719 552.485 136.89 556.049 Q135.084 559.591 135.084 566.721 Q135.084 573.827 136.89 577.392 Q138.719 580.934 142.33 580.934 Q145.964 580.934 147.769 577.392 Q149.598 573.827 149.598 566.721 Q149.598 559.591 147.769 556.049 Q145.964 552.485 142.33 552.485 M142.33 548.781 Q148.14 548.781 151.195 553.387 Q154.274 557.971 154.274 566.721 Q154.274 575.448 151.195 580.054 Q148.14 584.637 142.33 584.637 Q136.519 584.637 133.441 580.054 Q130.385 575.448 130.385 566.721 Q130.385 557.971 133.441 553.387 Q136.519 548.781 142.33 548.781 Z\" fill=\"#000000\" fill-rule=\"evenodd\" fill-opacity=\"1\" /><path clip-path=\"url(#clip180)\" d=\"M67.9319 304.141 Q64.3208 304.141 62.4921 307.705 Q60.6865 311.247 60.6865 318.377 Q60.6865 325.483 62.4921 329.048 Q64.3208 332.59 67.9319 332.59 Q71.5661 332.59 73.3717 329.048 Q75.2004 325.483 75.2004 318.377 Q75.2004 311.247 73.3717 307.705 Q71.5661 304.141 67.9319 304.141 M67.9319 300.437 Q73.742 300.437 76.7976 305.043 Q79.8763 309.627 79.8763 318.377 Q79.8763 327.103 76.7976 331.71 Q73.742 336.293 67.9319 336.293 Q62.1217 336.293 59.043 331.71 Q55.9875 327.103 55.9875 318.377 Q55.9875 309.627 59.043 305.043 Q62.1217 300.437 67.9319 300.437 Z\" fill=\"#000000\" fill-rule=\"evenodd\" fill-opacity=\"1\" /><path clip-path=\"url(#clip180)\" d=\"M88.0938 329.742 L92.978 329.742 L92.978 335.622 L88.0938 335.622 L88.0938 329.742 Z\" fill=\"#000000\" fill-rule=\"evenodd\" fill-opacity=\"1\" /><path clip-path=\"url(#clip180)\" d=\"M101.983 301.062 L124.205 301.062 L124.205 303.053 L111.658 335.622 L106.774 335.622 L118.58 304.997 L101.983 304.997 L101.983 301.062 Z\" fill=\"#000000\" fill-rule=\"evenodd\" fill-opacity=\"1\" /><path clip-path=\"url(#clip180)\" d=\"M133.371 301.062 L151.728 301.062 L151.728 304.997 L137.654 304.997 L137.654 313.469 Q138.672 313.122 139.691 312.96 Q140.709 312.775 141.728 312.775 Q147.515 312.775 150.894 315.946 Q154.274 319.117 154.274 324.534 Q154.274 330.113 150.802 333.215 Q147.33 336.293 141.01 336.293 Q138.834 336.293 136.566 335.923 Q134.32 335.553 131.913 334.812 L131.913 330.113 Q133.996 331.247 136.219 331.803 Q138.441 332.358 140.918 332.358 Q144.922 332.358 147.26 330.252 Q149.598 328.145 149.598 324.534 Q149.598 320.923 147.26 318.817 Q144.922 316.71 140.918 316.71 Q139.043 316.71 137.168 317.127 Q135.316 317.543 133.371 318.423 L133.371 301.062 Z\" fill=\"#000000\" fill-rule=\"evenodd\" fill-opacity=\"1\" /><path clip-path=\"url(#clip180)\" d=\"M57.7467 83.3428 L65.3856 83.3428 L65.3856 56.9772 L57.0754 58.6438 L57.0754 54.3846 L65.3393 52.7179 L70.0152 52.7179 L70.0152 83.3428 L77.654 83.3428 L77.654 87.2779 L57.7467 87.2779 L57.7467 83.3428 Z\" fill=\"#000000\" fill-rule=\"evenodd\" fill-opacity=\"1\" /><path clip-path=\"url(#clip180)\" d=\"M87.0984 81.3983 L91.9827 81.3983 L91.9827 87.2779 L87.0984 87.2779 L87.0984 81.3983 Z\" fill=\"#000000\" fill-rule=\"evenodd\" fill-opacity=\"1\" /><path clip-path=\"url(#clip180)\" d=\"M112.168 55.7966 Q108.557 55.7966 106.728 59.3614 Q104.922 62.9031 104.922 70.0327 Q104.922 77.1391 106.728 80.7039 Q108.557 84.2456 112.168 84.2456 Q115.802 84.2456 117.608 80.7039 Q119.436 77.1391 119.436 70.0327 Q119.436 62.9031 117.608 59.3614 Q115.802 55.7966 112.168 55.7966 M112.168 52.093 Q117.978 52.093 121.033 56.6994 Q124.112 61.2827 124.112 70.0327 Q124.112 78.7595 121.033 83.3659 Q117.978 87.9492 112.168 87.9492 Q106.358 87.9492 103.279 83.3659 Q100.223 78.7595 100.223 70.0327 Q100.223 61.2827 103.279 56.6994 Q106.358 52.093 112.168 52.093 Z\" fill=\"#000000\" fill-rule=\"evenodd\" fill-opacity=\"1\" /><path clip-path=\"url(#clip180)\" d=\"M142.33 55.7966 Q138.719 55.7966 136.89 59.3614 Q135.084 62.9031 135.084 70.0327 Q135.084 77.1391 136.89 80.7039 Q138.719 84.2456 142.33 84.2456 Q145.964 84.2456 147.769 80.7039 Q149.598 77.1391 149.598 70.0327 Q149.598 62.9031 147.769 59.3614 Q145.964 55.7966 142.33 55.7966 M142.33 52.093 Q148.14 52.093 151.195 56.6994 Q154.274 61.2827 154.274 70.0327 Q154.274 78.7595 151.195 83.3659 Q148.14 87.9492 142.33 87.9492 Q136.519 87.9492 133.441 83.3659 Q130.385 78.7595 130.385 70.0327 Q130.385 61.2827 133.441 56.6994 Q136.519 52.093 142.33 52.093 Z\" fill=\"#000000\" fill-rule=\"evenodd\" fill-opacity=\"1\" /><polyline clip-path=\"url(#clip182)\" style=\"stroke:#009af9; stroke-linecap:butt; stroke-linejoin:round; stroke-width:8; stroke-opacity:1; fill:none\" points=\"\n",
       "  217.174,1056.73 346.843,1045.51 476.511,1016.26 606.179,944.961 735.847,796.214 865.515,566.686 995.183,337.158 1124.85,188.411 1254.52,117.11 1384.19,87.865 \n",
       "  1513.86,76.6465 \n",
       "  \"/>\n",
       "</svg>\n"
      ]
     },
     "execution_count": 7,
     "metadata": {},
     "output_type": "execute_result"
    }
   ],
   "source": [
    "# built-in sigmoid function\n",
    "plot(-5:5, σ.(-5:5), size=(400,300), linewidth=2, legend=false)"
   ]
  },
  {
   "cell_type": "code",
   "execution_count": 45,
   "id": "eb1374e8",
   "metadata": {},
   "outputs": [
    {
     "data": {
      "text/plain": [
       "Flux.Data.DataLoader{Tuple{Matrix{Float32}, Flux.OneHotArray{UInt32, 10, 1, 2, Vector{UInt32}}}, Random._GLOBAL_RNG}((Float32[0.0 0.0 … 0.0 0.0; 0.0 0.0 … 0.0 0.0; … ; 0.0 0.0 … 0.0 0.0; 0.0 0.0 … 0.0 0.0], Bool[0 0 … 0 0; 0 0 … 0 0; … ; 1 0 … 0 0; 0 0 … 0 0]), 1, 42001, true, 42001, [1, 2, 3, 4, 5, 6, 7, 8, 9, 10  …  41992, 41993, 41994, 41995, 41996, 41997, 41998, 41999, 42000, 42001], false, Random._GLOBAL_RNG())"
      ]
     },
     "execution_count": 45,
     "metadata": {},
     "output_type": "execute_result"
    }
   ],
   "source": [
    "model = Chain( Flux.Dense(d, 10, identity), softmax)\n",
    "\n",
    "losses(X, y)    = Flux.crossentropy( model(X), y )\n",
    "modelParameters = Flux.params(model)\n",
    "dataLoader      = Flux.DataLoader((X, y))\n"
   ]
  },
  {
   "cell_type": "code",
   "execution_count": 84,
   "id": "57d65169",
   "metadata": {},
   "outputs": [
    {
     "name": "stdout",
     "output_type": "stream",
     "text": [
      "  4.108260 seconds (8.48 M allocations: 2.042 GiB, 3.83% gc time)\n"
     ]
    },
    {
     "name": "stderr",
     "output_type": "stream",
     "text": [
      "┌ Info: Epoch 1\n",
      "└ @ Main /home/ciro/.julia/packages/Flux/qAdFM/src/optimise/train.jl:143\n",
      "┌ Info: Epoch 2\n",
      "└ @ Main /home/ciro/.julia/packages/Flux/qAdFM/src/optimise/train.jl:143\n",
      "┌ Info: Epoch 3\n",
      "└ @ Main /home/ciro/.julia/packages/Flux/qAdFM/src/optimise/train.jl:143\n",
      "┌ Info: Epoch 4\n",
      "└ @ Main /home/ciro/.julia/packages/Flux/qAdFM/src/optimise/train.jl:143\n",
      "┌ Info: Epoch 5\n",
      "└ @ Main /home/ciro/.julia/packages/Flux/qAdFM/src/optimise/train.jl:143\n",
      "┌ Info: Epoch 6\n",
      "└ @ Main /home/ciro/.julia/packages/Flux/qAdFM/src/optimise/train.jl:143\n",
      "┌ Info: Epoch 7\n",
      "└ @ Main /home/ciro/.julia/packages/Flux/qAdFM/src/optimise/train.jl:143\n",
      "┌ Info: Epoch 8\n",
      "└ @ Main /home/ciro/.julia/packages/Flux/qAdFM/src/optimise/train.jl:143\n",
      "┌ Info: Epoch 9\n",
      "└ @ Main /home/ciro/.julia/packages/Flux/qAdFM/src/optimise/train.jl:143\n",
      "┌ Info: Epoch 10\n",
      "└ @ Main /home/ciro/.julia/packages/Flux/qAdFM/src/optimise/train.jl:143\n",
      "┌ Info: Epoch 11\n",
      "└ @ Main /home/ciro/.julia/packages/Flux/qAdFM/src/optimise/train.jl:143\n",
      "┌ Info: Epoch 12\n",
      "└ @ Main /home/ciro/.julia/packages/Flux/qAdFM/src/optimise/train.jl:143\n",
      "┌ Info: Epoch 13\n",
      "└ @ Main /home/ciro/.julia/packages/Flux/qAdFM/src/optimise/train.jl:143\n",
      "┌ Info: Epoch 14\n",
      "└ @ Main /home/ciro/.julia/packages/Flux/qAdFM/src/optimise/train.jl:143\n",
      "┌ Info: Epoch 15\n",
      "└ @ Main /home/ciro/.julia/packages/Flux/qAdFM/src/optimise/train.jl:143\n",
      "┌ Info: Epoch 16\n",
      "└ @ Main /home/ciro/.julia/packages/Flux/qAdFM/src/optimise/train.jl:143\n",
      "┌ Info: Epoch 17\n",
      "└ @ Main /home/ciro/.julia/packages/Flux/qAdFM/src/optimise/train.jl:143\n",
      "┌ Info: Epoch 18\n",
      "└ @ Main /home/ciro/.julia/packages/Flux/qAdFM/src/optimise/train.jl:143\n",
      "┌ Info: Epoch 19\n",
      "└ @ Main /home/ciro/.julia/packages/Flux/qAdFM/src/optimise/train.jl:143\n",
      "┌ Info: Epoch 20\n",
      "└ @ Main /home/ciro/.julia/packages/Flux/qAdFM/src/optimise/train.jl:143\n",
      "┌ Info: Epoch 21\n",
      "└ @ Main /home/ciro/.julia/packages/Flux/qAdFM/src/optimise/train.jl:143\n",
      "┌ Info: Epoch 22\n",
      "└ @ Main /home/ciro/.julia/packages/Flux/qAdFM/src/optimise/train.jl:143\n",
      "┌ Info: Epoch 23\n",
      "└ @ Main /home/ciro/.julia/packages/Flux/qAdFM/src/optimise/train.jl:143\n",
      "┌ Info: Epoch 24\n",
      "└ @ Main /home/ciro/.julia/packages/Flux/qAdFM/src/optimise/train.jl:143\n",
      "┌ Info: Epoch 25\n",
      "└ @ Main /home/ciro/.julia/packages/Flux/qAdFM/src/optimise/train.jl:143\n",
      "┌ Info: Epoch 26\n",
      "└ @ Main /home/ciro/.julia/packages/Flux/qAdFM/src/optimise/train.jl:143\n",
      "┌ Info: Epoch 27\n",
      "└ @ Main /home/ciro/.julia/packages/Flux/qAdFM/src/optimise/train.jl:143\n",
      "┌ Info: Epoch 28\n",
      "└ @ Main /home/ciro/.julia/packages/Flux/qAdFM/src/optimise/train.jl:143\n",
      "┌ Info: Epoch 29\n",
      "└ @ Main /home/ciro/.julia/packages/Flux/qAdFM/src/optimise/train.jl:143\n",
      "┌ Info: Epoch 30\n",
      "└ @ Main /home/ciro/.julia/packages/Flux/qAdFM/src/optimise/train.jl:143\n",
      "┌ Info: Epoch 31\n",
      "└ @ Main /home/ciro/.julia/packages/Flux/qAdFM/src/optimise/train.jl:143\n",
      "┌ Info: Epoch 32\n",
      "└ @ Main /home/ciro/.julia/packages/Flux/qAdFM/src/optimise/train.jl:143\n",
      "┌ Info: Epoch 33\n",
      "└ @ Main /home/ciro/.julia/packages/Flux/qAdFM/src/optimise/train.jl:143\n",
      "┌ Info: Epoch 34\n",
      "└ @ Main /home/ciro/.julia/packages/Flux/qAdFM/src/optimise/train.jl:143\n",
      "┌ Info: Epoch 35\n",
      "└ @ Main /home/ciro/.julia/packages/Flux/qAdFM/src/optimise/train.jl:143\n",
      "┌ Info: Epoch 36\n",
      "└ @ Main /home/ciro/.julia/packages/Flux/qAdFM/src/optimise/train.jl:143\n",
      "┌ Info: Epoch 37\n",
      "└ @ Main /home/ciro/.julia/packages/Flux/qAdFM/src/optimise/train.jl:143\n",
      "┌ Info: Epoch 38\n",
      "└ @ Main /home/ciro/.julia/packages/Flux/qAdFM/src/optimise/train.jl:143\n",
      "┌ Info: Epoch 39\n",
      "└ @ Main /home/ciro/.julia/packages/Flux/qAdFM/src/optimise/train.jl:143\n",
      "┌ Info: Epoch 40\n",
      "└ @ Main /home/ciro/.julia/packages/Flux/qAdFM/src/optimise/train.jl:143\n",
      "┌ Info: Epoch 41\n",
      "└ @ Main /home/ciro/.julia/packages/Flux/qAdFM/src/optimise/train.jl:143\n",
      "┌ Info: Epoch 42\n",
      "└ @ Main /home/ciro/.julia/packages/Flux/qAdFM/src/optimise/train.jl:143\n",
      "┌ Info: Epoch 43\n",
      "└ @ Main /home/ciro/.julia/packages/Flux/qAdFM/src/optimise/train.jl:143\n",
      "┌ Info: Epoch 44\n",
      "└ @ Main /home/ciro/.julia/packages/Flux/qAdFM/src/optimise/train.jl:143\n",
      "┌ Info: Epoch 45\n",
      "└ @ Main /home/ciro/.julia/packages/Flux/qAdFM/src/optimise/train.jl:143\n",
      "┌ Info: Epoch 46\n",
      "└ @ Main /home/ciro/.julia/packages/Flux/qAdFM/src/optimise/train.jl:143\n",
      "┌ Info: Epoch 47\n",
      "└ @ Main /home/ciro/.julia/packages/Flux/qAdFM/src/optimise/train.jl:143\n",
      "┌ Info: Epoch 48\n",
      "└ @ Main /home/ciro/.julia/packages/Flux/qAdFM/src/optimise/train.jl:143\n",
      "┌ Info: Epoch 49\n",
      "└ @ Main /home/ciro/.julia/packages/Flux/qAdFM/src/optimise/train.jl:143\n",
      "┌ Info: Epoch 50\n",
      "└ @ Main /home/ciro/.julia/packages/Flux/qAdFM/src/optimise/train.jl:143\n",
      "┌ Info: Epoch 51\n",
      "└ @ Main /home/ciro/.julia/packages/Flux/qAdFM/src/optimise/train.jl:143\n",
      "┌ Info: Epoch 52\n",
      "└ @ Main /home/ciro/.julia/packages/Flux/qAdFM/src/optimise/train.jl:143\n",
      "┌ Info: Epoch 53\n",
      "└ @ Main /home/ciro/.julia/packages/Flux/qAdFM/src/optimise/train.jl:143\n",
      "┌ Info: Epoch 54\n",
      "└ @ Main /home/ciro/.julia/packages/Flux/qAdFM/src/optimise/train.jl:143\n",
      "┌ Info: Epoch 55\n",
      "└ @ Main /home/ciro/.julia/packages/Flux/qAdFM/src/optimise/train.jl:143\n",
      "┌ Info: Epoch 56\n",
      "└ @ Main /home/ciro/.julia/packages/Flux/qAdFM/src/optimise/train.jl:143\n",
      "┌ Info: Epoch 57\n",
      "└ @ Main /home/ciro/.julia/packages/Flux/qAdFM/src/optimise/train.jl:143\n",
      "┌ Info: Epoch 58\n",
      "└ @ Main /home/ciro/.julia/packages/Flux/qAdFM/src/optimise/train.jl:143\n",
      "┌ Info: Epoch 59\n",
      "└ @ Main /home/ciro/.julia/packages/Flux/qAdFM/src/optimise/train.jl:143\n",
      "┌ Info: Epoch 60\n",
      "└ @ Main /home/ciro/.julia/packages/Flux/qAdFM/src/optimise/train.jl:143\n",
      "┌ Info: Epoch 61\n",
      "└ @ Main /home/ciro/.julia/packages/Flux/qAdFM/src/optimise/train.jl:143\n",
      "┌ Info: Epoch 62\n",
      "└ @ Main /home/ciro/.julia/packages/Flux/qAdFM/src/optimise/train.jl:143\n",
      "┌ Info: Epoch 63\n",
      "└ @ Main /home/ciro/.julia/packages/Flux/qAdFM/src/optimise/train.jl:143\n",
      "┌ Info: Epoch 64\n",
      "└ @ Main /home/ciro/.julia/packages/Flux/qAdFM/src/optimise/train.jl:143\n",
      "┌ Info: Epoch 65\n",
      "└ @ Main /home/ciro/.julia/packages/Flux/qAdFM/src/optimise/train.jl:143\n",
      "┌ Info: Epoch 66\n",
      "└ @ Main /home/ciro/.julia/packages/Flux/qAdFM/src/optimise/train.jl:143\n",
      "┌ Info: Epoch 67\n",
      "└ @ Main /home/ciro/.julia/packages/Flux/qAdFM/src/optimise/train.jl:143\n",
      "┌ Info: Epoch 68\n",
      "└ @ Main /home/ciro/.julia/packages/Flux/qAdFM/src/optimise/train.jl:143\n",
      "┌ Info: Epoch 69\n",
      "└ @ Main /home/ciro/.julia/packages/Flux/qAdFM/src/optimise/train.jl:143\n",
      "┌ Info: Epoch 70\n",
      "└ @ Main /home/ciro/.julia/packages/Flux/qAdFM/src/optimise/train.jl:143\n",
      "┌ Info: Epoch 71\n",
      "└ @ Main /home/ciro/.julia/packages/Flux/qAdFM/src/optimise/train.jl:143\n",
      "┌ Info: Epoch 72\n",
      "└ @ Main /home/ciro/.julia/packages/Flux/qAdFM/src/optimise/train.jl:143\n",
      "┌ Info: Epoch 73\n",
      "└ @ Main /home/ciro/.julia/packages/Flux/qAdFM/src/optimise/train.jl:143\n",
      "┌ Info: Epoch 74\n",
      "└ @ Main /home/ciro/.julia/packages/Flux/qAdFM/src/optimise/train.jl:143\n",
      "┌ Info: Epoch 75\n",
      "└ @ Main /home/ciro/.julia/packages/Flux/qAdFM/src/optimise/train.jl:143\n",
      "┌ Info: Epoch 76\n",
      "└ @ Main /home/ciro/.julia/packages/Flux/qAdFM/src/optimise/train.jl:143\n",
      "┌ Info: Epoch 77\n",
      "└ @ Main /home/ciro/.julia/packages/Flux/qAdFM/src/optimise/train.jl:143\n",
      "┌ Info: Epoch 78\n",
      "└ @ Main /home/ciro/.julia/packages/Flux/qAdFM/src/optimise/train.jl:143\n",
      "┌ Info: Epoch 79\n",
      "└ @ Main /home/ciro/.julia/packages/Flux/qAdFM/src/optimise/train.jl:143\n",
      "┌ Info: Epoch 80\n",
      "└ @ Main /home/ciro/.julia/packages/Flux/qAdFM/src/optimise/train.jl:143\n",
      "┌ Info: Epoch 81\n",
      "└ @ Main /home/ciro/.julia/packages/Flux/qAdFM/src/optimise/train.jl:143\n",
      "┌ Info: Epoch 82\n",
      "└ @ Main /home/ciro/.julia/packages/Flux/qAdFM/src/optimise/train.jl:143\n",
      "┌ Info: Epoch 83\n",
      "└ @ Main /home/ciro/.julia/packages/Flux/qAdFM/src/optimise/train.jl:143\n",
      "┌ Info: Epoch 84\n",
      "└ @ Main /home/ciro/.julia/packages/Flux/qAdFM/src/optimise/train.jl:143\n",
      "┌ Info: Epoch 85\n",
      "└ @ Main /home/ciro/.julia/packages/Flux/qAdFM/src/optimise/train.jl:143\n",
      "┌ Info: Epoch 86\n",
      "└ @ Main /home/ciro/.julia/packages/Flux/qAdFM/src/optimise/train.jl:143\n",
      "┌ Info: Epoch 87\n",
      "└ @ Main /home/ciro/.julia/packages/Flux/qAdFM/src/optimise/train.jl:143\n",
      "┌ Info: Epoch 88\n",
      "└ @ Main /home/ciro/.julia/packages/Flux/qAdFM/src/optimise/train.jl:143\n",
      "┌ Info: Epoch 89\n",
      "└ @ Main /home/ciro/.julia/packages/Flux/qAdFM/src/optimise/train.jl:143\n",
      "┌ Info: Epoch 90\n",
      "└ @ Main /home/ciro/.julia/packages/Flux/qAdFM/src/optimise/train.jl:143\n",
      "┌ Info: Epoch 91\n",
      "└ @ Main /home/ciro/.julia/packages/Flux/qAdFM/src/optimise/train.jl:143\n",
      "┌ Info: Epoch 92\n",
      "└ @ Main /home/ciro/.julia/packages/Flux/qAdFM/src/optimise/train.jl:143\n"
     ]
    },
    {
     "name": "stderr",
     "output_type": "stream",
     "text": [
      "┌ Info: Epoch 93\n",
      "└ @ Main /home/ciro/.julia/packages/Flux/qAdFM/src/optimise/train.jl:143\n",
      "┌ Info: Epoch 94\n",
      "└ @ Main /home/ciro/.julia/packages/Flux/qAdFM/src/optimise/train.jl:143\n",
      "┌ Info: Epoch 95\n",
      "└ @ Main /home/ciro/.julia/packages/Flux/qAdFM/src/optimise/train.jl:143\n",
      "┌ Info: Epoch 96\n",
      "└ @ Main /home/ciro/.julia/packages/Flux/qAdFM/src/optimise/train.jl:143\n",
      "┌ Info: Epoch 97\n",
      "└ @ Main /home/ciro/.julia/packages/Flux/qAdFM/src/optimise/train.jl:143\n",
      "┌ Info: Epoch 98\n",
      "└ @ Main /home/ciro/.julia/packages/Flux/qAdFM/src/optimise/train.jl:143\n",
      "┌ Info: Epoch 99\n",
      "└ @ Main /home/ciro/.julia/packages/Flux/qAdFM/src/optimise/train.jl:143\n",
      "┌ Info: Epoch 100\n",
      "└ @ Main /home/ciro/.julia/packages/Flux/qAdFM/src/optimise/train.jl:143\n"
     ]
    },
    {
     "name": "stdout",
     "output_type": "stream",
     "text": [
      "402.178230 seconds (848.43 M allocations: 204.157 GiB, 3.00% gc time)\n"
     ]
    }
   ],
   "source": [
    "# single epoch\n",
    "@time Flux.train!(losses, modelParameters, dataLoader, Descent())\n",
    "@time Flux.@epochs 100 Flux.train!(losses, modelParameters, dataLoader, Descent());"
   ]
  },
  {
   "cell_type": "code",
   "execution_count": 85,
   "id": "20abc856",
   "metadata": {},
   "outputs": [],
   "source": [
    "ŷ = [findmax(model(X[:,i]))[2] for i in 1:N];"
   ]
  },
  {
   "cell_type": "code",
   "execution_count": null,
   "id": "b5f8449b",
   "metadata": {},
   "outputs": [],
   "source": []
  },
  {
   "cell_type": "code",
   "execution_count": 86,
   "id": "155b5494",
   "metadata": {},
   "outputs": [
    {
     "data": {
      "text/plain": [
       "10×10 Matrix{Int64}:\n",
       " 4064     2    21     6     7    24    10     4     9    16\n",
       "    0  4523     8     7     6     4     0     2    11     3\n",
       "    6    42  3882    75    23    25     7    28    29     2\n",
       "    0    17    46  3858     1    56     0     4    24    20\n",
       "    6     3    22     5  3747    22     5    29     4    54\n",
       "    5     6     6   117     1  3371    12     1    51     9\n",
       "   33    12    54    28    65    96  4091     4    19     4\n",
       "    7    14    34    46    27    17     2  4207    14   164\n",
       "   21    92    86    92    38   136    14     8  3875    27\n",
       "    4     8    12    58   174    44     2    99    60  3865"
      ]
     },
     "metadata": {},
     "output_type": "display_data"
    },
    {
     "name": "stdout",
     "output_type": "stream",
     "text": [
      "accuracy: 0.94\n",
      "f1-score: 0.939\n"
     ]
    },
    {
     "name": "stderr",
     "output_type": "stream",
     "text": [
      "┌ Warning: The classes are un-ordered,\n",
      "│ using order: [0, 1, 2, 3, 4, 5, 6, 7, 8, 9].\n",
      "│ To suppress this warning, consider coercing to OrderedFactor.\n",
      "└ @ MLJBase /home/ciro/.julia/packages/MLJBase/pCiRR/src/measures/confusion_matrix.jl:118\n"
     ]
    }
   ],
   "source": [
    "printMetrics(ŷ .- 1, trainY)"
   ]
  }
 ],
 "metadata": {
  "kernelspec": {
   "display_name": "Julia 1.6.5",
   "language": "julia",
   "name": "julia-1.6"
  },
  "language_info": {
   "file_extension": ".jl",
   "mimetype": "application/julia",
   "name": "julia",
   "version": "1.6.5"
  }
 },
 "nbformat": 4,
 "nbformat_minor": 5
}
