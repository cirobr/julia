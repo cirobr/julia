{
 "cells": [
  {
   "cell_type": "markdown",
   "id": "06c36e25",
   "metadata": {},
   "source": [
    "## Flux with PCA"
   ]
  },
  {
   "cell_type": "markdown",
   "id": "5f262ba3",
   "metadata": {},
   "source": [
    "### Libraries"
   ]
  },
  {
   "cell_type": "code",
   "execution_count": null,
   "id": "d63e87f2",
   "metadata": {},
   "outputs": [],
   "source": [
    "#using CUDA\n",
    "\n",
    "using Flux              # the julia ml library\n",
    "using Images            # image processing and machine vision for julia\n",
    "\n",
    "using MLJ               # make_blobs, rmse, confmat, f1score, coerce\n",
    "#using MLJFlux           # NeuralNetworkClassifier, CUDALibs\n",
    "using MLDataUtils       # label, nlabel, labelfreq, stratifiedobs\n",
    "using MLDatasets        # mnist\n",
    "\n",
    "using LinearAlgebra     # pinv pseudo-inverse matrix\n",
    "#using Metrics           # r2-score\n",
    "using Random\n",
    "using StatsBase         # standardize (normalization)\n",
    "using Distributions\n",
    "\n",
    "using Plots; gr()\n",
    "using StatsPlots\n",
    "using Printf\n",
    "\n",
    "#using CSV\n",
    "using DataFrames\n"
   ]
  },
  {
   "cell_type": "markdown",
   "id": "d53a09fe",
   "metadata": {},
   "source": [
    "### Functions"
   ]
  },
  {
   "cell_type": "code",
   "execution_count": null,
   "id": "66ccdfa6",
   "metadata": {},
   "outputs": [],
   "source": [
    "# metrics\n",
    "function printMetrics(ŷ, y)\n",
    "    display(confmat(ŷ, y))\n",
    "    println(\"accuracy: \", round(accuracy(ŷ, y); digits=3))\n",
    "    println(\"f1-score: \", round(multiclass_f1score(ŷ, y); digits=3))\n",
    "end\n"
   ]
  },
  {
   "cell_type": "code",
   "execution_count": null,
   "id": "c143741a",
   "metadata": {},
   "outputs": [],
   "source": [
    "image2Vector(M) = vec( Float32.(M) )   # 32-bits is faster on GPU\n",
    "\n",
    "function batchImage2Vector(imagesArray3D)\n",
    "    h, v, N = size(imagesArray3D)\n",
    "    vectorOfImageVectors = [ image2Vector( imagesArray3D[:, :, i] ) for i in 1:N]\n",
    "end\n",
    "\n",
    "function batchImage2Matrix(imagesArray3D)\n",
    "    vectorOfImageVectors = batchImage2Vector(imagesArray3D)\n",
    "    M = reduce(hcat, vectorOfImageVectors)\n",
    "    M'\n",
    "end\n",
    "\n",
    "function batchImage2DF(imagesArray3D)\n",
    "    M = batchImage2Matrix(imagesArray3D)\n",
    "    DataFrame(M, :auto)\n",
    "end\n"
   ]
  },
  {
   "cell_type": "markdown",
   "id": "8903cf71",
   "metadata": {},
   "source": [
    "### Dataset"
   ]
  },
  {
   "cell_type": "code",
   "execution_count": null,
   "id": "4bd90da6",
   "metadata": {},
   "outputs": [],
   "source": [
    "# load mnist from MLDatasets\n",
    "trainX_original,      trainY_original      = MNIST.traindata()\n",
    "validationX_original, validationY_original = MNIST.testdata();\n"
   ]
  },
  {
   "cell_type": "code",
   "execution_count": null,
   "id": "7f2acc6e",
   "metadata": {},
   "outputs": [],
   "source": [
    "# split trainset, testset, validation set\n",
    "Random.seed!(1)\n",
    "(trainX, trainY), (testX, testY) = stratifiedobs((trainX_original, trainY_original), p = 0.7)\n",
    "validationX = copy(validationX_original); validationY = copy(validationY_original)\n",
    "\n",
    "size(trainX), size(testX), size(validationX)"
   ]
  },
  {
   "cell_type": "markdown",
   "id": "b8b9c3b0",
   "metadata": {},
   "source": [
    "### Preprocessing\n"
   ]
  },
  {
   "cell_type": "code",
   "execution_count": null,
   "id": "f76c815d",
   "metadata": {},
   "outputs": [],
   "source": [
    "function preprocess(X)\n",
    "    newX = batchImage2DF(X)\n",
    "    #coerce!(newX)   # no need, all scitypes are Continuous in this example\n",
    "    #new_y = coerce(y, OrderedFactor)\n",
    "    \n",
    "    return newX\n",
    "end\n",
    "\n",
    "X = preprocess(trainX);"
   ]
  },
  {
   "cell_type": "code",
   "execution_count": null,
   "id": "84b424c5",
   "metadata": {},
   "outputs": [],
   "source": [
    "# reduce predictors\n",
    "PCA = @load PCA pkg=MultivariateStats verbosity=0\n",
    "reducer = PCA(pratio = 0.95)\n",
    "\n",
    "# standardize predictors\n",
    "std = Standardizer()\n",
    "\n",
    "# execute\n",
    "pipe = @pipeline reducer std\n",
    "mach = MLJ.machine(pipe, X) |> fit!\n",
    "X_til = MLJ.transform(mach, X);"
   ]
  },
  {
   "cell_type": "code",
   "execution_count": null,
   "id": "a9916c05",
   "metadata": {},
   "outputs": [],
   "source": [
    "function preprocess2(X, y)\n",
    "    N, d = size(X)\n",
    "    Xs = X |> Matrix \n",
    "    Xs = Float32.(Xs) |> Flux.flatten\n",
    "    Xs = [Xs[i,:] for i in 1:N]\n",
    "    Xs = Flux.batch(Xs)\n",
    "    ys = Flux.onehotbatch( Float32.(y), 0:9 )\n",
    "    \n",
    "    return (Xs, ys)\n",
    "end\n",
    "\n",
    "X, y = preprocess2(X_til, trainY);"
   ]
  },
  {
   "cell_type": "markdown",
   "id": "0f9b0fa5",
   "metadata": {},
   "source": [
    "### Model"
   ]
  },
  {
   "cell_type": "code",
   "execution_count": null,
   "id": "eb1374e8",
   "metadata": {},
   "outputs": [],
   "source": [
    "# model configuration\n",
    "nInputs  = size(X_til)[2]\n",
    "nOutputs = 10\n",
    "model = Chain( Flux.Dense(nInputs, nOutputs, tanh),   # tanh is chosen as nonlinearity (Prof Mostafa lecture)\n",
    "               softmax )                              # softmax scales the output to sum to one\n",
    "\n",
    "lossFunction(X, y) = Flux.mse( model(X), y )\n",
    "modelParameters    = Flux.params(model)\n",
    "data               = Flux.DataLoader((X, y), batchsize=1)             # default batchsize=1\n",
    "callBack           = Flux.throttle(() -> println(\"training\"), 10);    # print every 10s\n"
   ]
  },
  {
   "cell_type": "code",
   "execution_count": null,
   "id": "b20aa010",
   "metadata": {},
   "outputs": [],
   "source": [
    "numberOfEpochs = 10;"
   ]
  },
  {
   "cell_type": "code",
   "execution_count": null,
   "id": "be1e8ca6",
   "metadata": {},
   "outputs": [],
   "source": [
    "# preferred for multiple epochs\n",
    "epochs = 1:numberOfEpochs\n",
    "@time for epoch in epochs Flux.train!(lossFunction, modelParameters, data, Flux.Descent(); cb=callBack) end"
   ]
  },
  {
   "cell_type": "markdown",
   "id": "2ad25cf6",
   "metadata": {},
   "source": [
    "### Predict"
   ]
  },
  {
   "cell_type": "code",
   "execution_count": null,
   "id": "48f2e3c8",
   "metadata": {},
   "outputs": [],
   "source": [
    "function predictOutcome(X)\n",
    "    ŷ = Flux.onecold( model(X), [0:9;] )\n",
    "end\n",
    "\n",
    "ŷ = predictOutcome(X);\n"
   ]
  },
  {
   "cell_type": "code",
   "execution_count": null,
   "id": "9f9dd472",
   "metadata": {},
   "outputs": [],
   "source": [
    "printMetrics( coerce(ŷ, OrderedFactor), coerce(trainY, OrderedFactor) )"
   ]
  }
 ],
 "metadata": {
  "kernelspec": {
   "display_name": "Julia 1.6.5",
   "language": "julia",
   "name": "julia-1.6"
  },
  "language_info": {
   "file_extension": ".jl",
   "mimetype": "application/julia",
   "name": "julia",
   "version": "1.6.5"
  }
 },
 "nbformat": 4,
 "nbformat_minor": 5
}
