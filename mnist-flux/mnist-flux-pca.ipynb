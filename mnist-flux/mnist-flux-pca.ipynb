{
 "cells": [
  {
   "cell_type": "markdown",
   "id": "06c36e25",
   "metadata": {},
   "source": [
    "Flux with PCA"
   ]
  },
  {
   "cell_type": "markdown",
   "id": "5f262ba3",
   "metadata": {},
   "source": [
    "Libraries"
   ]
  },
  {
   "cell_type": "code",
   "execution_count": null,
   "id": "d63e87f2",
   "metadata": {},
   "outputs": [],
   "source": [
    "using MLDatasets           # mnist\n",
    "using Images\n",
    "using PreprocessingImages; pim = PreprocessingImages\n",
    "using PreprocessingArrays; pa  = PreprocessingArrays\n",
    "\n",
    "using MLJ                  # make_blobs, rmse, confmat, f1score, coerce\n",
    "using MLDataUtils          # label, nlabel, labelfreq, stratifiedobs\n",
    "using Flux                 # the julia ml library\n",
    "\n",
    "using Random\n",
    "using DataFrames"
   ]
  },
  {
   "cell_type": "code",
   "execution_count": null,
   "id": "5545d1b2",
   "metadata": {},
   "outputs": [],
   "source": [
    "include( expanduser(\"~/projects/pesquisa/libs/libml.jl\") )"
   ]
  },
  {
   "cell_type": "markdown",
   "id": "8903cf71",
   "metadata": {},
   "source": [
    "MNIST"
   ]
  },
  {
   "cell_type": "code",
   "execution_count": null,
   "id": "4d7603a2",
   "metadata": {},
   "outputs": [],
   "source": [
    "# load mnist\n",
    "datasetX,    datasetY    = MNIST(:train)[:]\n",
    "validationX, validationY = MNIST(:test)[:]\n",
    "\n",
    "display( size(datasetX) )\n",
    "\n",
    "img  = datasetX[:, :, 1:5]\n",
    "img2 = permutedims(img, (2, 1, 3))\n",
    "\n",
    "display(datasetY[1:5]')\n",
    "mosaicview( Gray.(img2)  ; nrow=1)"
   ]
  },
  {
   "cell_type": "code",
   "execution_count": null,
   "id": "2ecbb1f6",
   "metadata": {},
   "outputs": [],
   "source": [
    "# split trainset, testset from dataset\n",
    "Random.seed!(1)\n",
    "(trainX, trainY), (testX, testY) = stratifiedobs((datasetX, datasetY), p = 0.7)\n",
    "size(trainX), size(testX), size(validationX)"
   ]
  },
  {
   "cell_type": "markdown",
   "id": "b8b9c3b0",
   "metadata": {},
   "source": [
    "Preprocessing"
   ]
  },
  {
   "cell_type": "code",
   "execution_count": null,
   "id": "f76c815d",
   "metadata": {},
   "outputs": [],
   "source": [
    "# MLJ works with dataframes\n",
    "function preprocess1(X, y)\n",
    "    Xs = permutedims(X, (2, 1, 3))\n",
    "    Xs = pim.batchImage2DF(Xs)\n",
    "    ys = Int32.(y)\n",
    "\n",
    "    return (Xs, ys)\n",
    "end\n",
    "\n",
    "h, v, N = size(trainX); d = h * v\n",
    "X_c, y_c = preprocess1(trainX, trainY)\n",
    "d, N, size(X_c), size(y_c)"
   ]
  },
  {
   "cell_type": "code",
   "execution_count": null,
   "id": "84b424c5",
   "metadata": {},
   "outputs": [],
   "source": [
    "# reduce predictors\n",
    "PCA = @load PCA pkg=MultivariateStats verbosity=0\n",
    "reducer = PCA(pratio = 0.95)\n",
    "\n",
    "# standardize predictors\n",
    "std = Standardizer()\n",
    "\n",
    "# execute\n",
    "pipe = @pipeline reducer std\n",
    "mach = MLJ.machine(pipe, X_c) |> fit!\n",
    "X_c = MLJ.transform(mach, X_c) .|> Float32   # transform(unsupervised) vs predict(supervised)\n",
    "typeof(X_c)"
   ]
  },
  {
   "cell_type": "code",
   "execution_count": null,
   "id": "a9916c05",
   "metadata": {},
   "outputs": [],
   "source": [
    "# Flux works with matices and vectors\n",
    "function preprocess2(X, y)\n",
    "    N, d = size(X)\n",
    "    Xs = X |> Matrix \n",
    "    Xs = Float32.(Xs) |> Flux.flatten\n",
    "    Xs = [Xs[i,:] for i in 1:N]\n",
    "    Xs = Flux.batch(Xs)\n",
    "    \n",
    "    ys = Flux.onehotbatch( Float32.(y), 0:9 )\n",
    "    \n",
    "    return (Xs, ys)\n",
    "end\n",
    "\n",
    "X_c, y_c = preprocess2(X_c, y_c)\n",
    "typeof(X_c)"
   ]
  },
  {
   "cell_type": "markdown",
   "id": "0f9b0fa5",
   "metadata": {},
   "source": [
    "Model"
   ]
  },
  {
   "cell_type": "markdown",
   "id": "c2d64011",
   "metadata": {},
   "source": [
    "Stochastic Gradient Descent (SGD) means batchsize=1.\n",
    "\n",
    "The error on every and each data line is computed, then weights are recalculated towards the negative of the gradient.\n",
    "\n",
    "*** check *** For this reason, calculation is done at CPU (sequencial computation over one data point at a time)."
   ]
  },
  {
   "cell_type": "code",
   "execution_count": null,
   "id": "eb1374e8",
   "metadata": {},
   "outputs": [],
   "source": [
    "# model configuration\n",
    "nInputs  = size(X_c)[1]\n",
    "nOutputs = 10\n",
    "\n",
    "model              = Chain( Flux.Dense(nInputs, nOutputs, tanh),   # tanh is chosen as nonlinearity (Prof Mostafa lecture)\n",
    "                            softmax )                              # softmax scales the output to sum to one\n",
    "lossFunction(X, y) = Flux.mse( model(X), y )\n",
    "modelParameters    = Flux.params(model)\n",
    "dataset            = Flux.DataLoader((X_c, y_c), batchsize=1)  # batchsize=1 => SGD, batch size > 1 => batch gradient descent\n",
    "modelOptimizer     = Flux.Descent()\n",
    "callBack           = Flux.throttle(() -> println(\".\"), 10); # print every 10s"
   ]
  },
  {
   "cell_type": "markdown",
   "id": "8bce196a",
   "metadata": {},
   "source": [
    "##### Training"
   ]
  },
  {
   "cell_type": "code",
   "execution_count": null,
   "id": "b20aa010",
   "metadata": {},
   "outputs": [],
   "source": [
    "numberOfEpochs = 100"
   ]
  },
  {
   "cell_type": "markdown",
   "id": "04cc04da",
   "metadata": {},
   "source": [
    "Training method without plotting epochs"
   ]
  },
  {
   "cell_type": "code",
   "execution_count": null,
   "id": "be1e8ca6",
   "metadata": {},
   "outputs": [],
   "source": [
    "# # preferred for multiple epochs\n",
    "# epochs = 1:numberOfEpochs\n",
    "# for epoch in epochs\n",
    "#     Flux.train!(lossFunction, modelParameters, data, modelOptimizer; cb=callBack)\n",
    "# end"
   ]
  },
  {
   "cell_type": "markdown",
   "id": "1f8a4dbe",
   "metadata": {},
   "source": [
    "Training method with plotting, with the aid of homemade function trainModel!"
   ]
  },
  {
   "cell_type": "code",
   "execution_count": null,
   "id": "43ae4dab",
   "metadata": {},
   "outputs": [],
   "source": [
    "# https://fluxml.ai/Flux.jl/stable/training/training/\n",
    "\n",
    "epochs     = 1 : numberOfEpochs\n",
    "lossVector = Vector{Float64}()\n",
    "minLoss    = 1e-5   # hint: start at 1e-2, then go lower for more epochs (5e-4)\n",
    "nearZero   = minLoss / 25\n",
    "\n",
    "for epoch in epochs\n",
    "    # train epoch\n",
    "    loss = trainModel!( lossFunction, modelParameters, dataset, modelOptimizer )   # libml\n",
    "    push!(lossVector, loss)\n",
    "    print(\".\")   # \"epoch completed\" indicator\n",
    "\n",
    "    # exit criteria\n",
    "    if stopTrainingCriteria(lossVector, minLoss, nearZero)   break   end\n",
    "end"
   ]
  },
  {
   "cell_type": "code",
   "execution_count": null,
   "id": "4560289c",
   "metadata": {},
   "outputs": [],
   "source": [
    "# plot training\n",
    "plotLoss(lossVector, (800,500))"
   ]
  },
  {
   "cell_type": "markdown",
   "id": "2ad25cf6",
   "metadata": {},
   "source": [
    "##### Testing"
   ]
  },
  {
   "cell_type": "code",
   "execution_count": null,
   "id": "48f2e3c8",
   "metadata": {},
   "outputs": [],
   "source": [
    "function predictOutcome(X)\n",
    "    ŷ = Flux.onecold( model(X), [0:9;] )\n",
    "end"
   ]
  },
  {
   "cell_type": "code",
   "execution_count": null,
   "id": "a21c115d",
   "metadata": {},
   "outputs": [],
   "source": [
    "# preprocessing\n",
    "X_ts, y_ts = preprocess1(testX, testY)\n",
    "X_ts       = MLJ.transform(mach, X_ts)\n",
    "X_ts, y_ts = preprocess2(X_ts, y_ts)\n",
    "\n",
    "# predict\n",
    "ŷ = predictOutcome(X_ts)\n",
    "\n",
    "# result\n",
    "printMetrics( ŷ, coerce(testY, OrderedFactor) )"
   ]
  }
 ],
 "metadata": {
  "kernelspec": {
   "display_name": "Julia 1.6.6",
   "language": "julia",
   "name": "julia-1.6"
  },
  "language_info": {
   "file_extension": ".jl",
   "mimetype": "application/julia",
   "name": "julia",
   "version": "1.6.7"
  }
 },
 "nbformat": 4,
 "nbformat_minor": 5
}
