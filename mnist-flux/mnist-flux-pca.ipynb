{
 "cells": [
  {
   "cell_type": "markdown",
   "id": "06c36e25",
   "metadata": {},
   "source": [
    "Flux with PCA\n",
    "* Runs on CPU only, no CUDA call\n",
    "* Multithreads, if any, are hidden by the Flux library implementation\n",
    "* SGD (one data point per epoch)"
   ]
  },
  {
   "cell_type": "markdown",
   "id": "5f262ba3",
   "metadata": {},
   "source": [
    "Libraries"
   ]
  },
  {
   "cell_type": "code",
   "execution_count": null,
   "id": "d63e87f2",
   "metadata": {},
   "outputs": [],
   "source": [
    "using MLDatasets           # mnist\n",
    "using PreprocessingImages; pim = PreprocessingImages\n",
    "\n",
    "using MLJ                  # make_blobs, rmse, confmat, f1score, coerce\n",
    "using MLDataUtils          # label, nlabel, labelfreq, stratifiedobs\n",
    "using Flux                 # the julia ml library\n",
    "\n",
    "using Random\n",
    "using DataFrames"
   ]
  },
  {
   "cell_type": "code",
   "execution_count": null,
   "id": "5545d1b2",
   "metadata": {},
   "outputs": [],
   "source": [
    "include( expanduser(\"~/projects/pesquisa/libs/libml.jl\") )"
   ]
  },
  {
   "cell_type": "markdown",
   "id": "8903cf71",
   "metadata": {},
   "source": [
    "MNIST"
   ]
  },
  {
   "cell_type": "code",
   "execution_count": null,
   "id": "4d7603a2",
   "metadata": {},
   "outputs": [],
   "source": [
    "# load mnist\n",
    "trX,   trY   = MNIST(:train)[:]\n",
    "testX, testY = MNIST(:test)[:];"
   ]
  },
  {
   "cell_type": "code",
   "execution_count": null,
   "id": "2ecbb1f6",
   "metadata": {},
   "outputs": [],
   "source": [
    "# split train, validation, test sets\n",
    "Random.seed!(1)\n",
    "(trainX, trainY), (validationX, validationY) = stratifiedobs((trX, trY), p = 0.7)\n",
    "size(trainX), size(validationX), size(testX)"
   ]
  },
  {
   "cell_type": "markdown",
   "id": "b8b9c3b0",
   "metadata": {},
   "source": [
    "Preprocessing"
   ]
  },
  {
   "cell_type": "code",
   "execution_count": null,
   "id": "f76c815d",
   "metadata": {},
   "outputs": [],
   "source": [
    "# MLJ works with dataframes\n",
    "function preprocess1(X, y)\n",
    "    Xs = permutedims(X, (2, 1, 3))   # needed to adjust visualization of digits\n",
    "    Xs = pim.batchImage2DF(Xs)\n",
    "    \n",
    "    ys = Int32.(y)\n",
    "\n",
    "    return (Xs, ys)\n",
    "end\n",
    "\n",
    "h, v, N = size(trainX); d = h * v\n",
    "X_c, y_c = preprocess1(trainX, trainY)\n",
    "typeof(X_c), size(X_c), size(y_c)"
   ]
  },
  {
   "cell_type": "code",
   "execution_count": null,
   "id": "84b424c5",
   "metadata": {},
   "outputs": [],
   "source": [
    "# reduce predictors\n",
    "PCA = @load PCA pkg=MultivariateStats verbosity=0\n",
    "reducer = PCA(pratio = 0.95)\n",
    "\n",
    "# standardize predictors\n",
    "std = Standardizer()\n",
    "\n",
    "# execute\n",
    "pipe = @pipeline reducer std\n",
    "mach = MLJ.machine(pipe, X_c) |> fit!\n",
    "X_c  = MLJ.transform(mach, X_c) .|> Float32   # transform(unsupervised) vs predict(supervised)\n",
    "N, d = size(X_c)\n",
    "typeof(X_c), size(X_c)"
   ]
  },
  {
   "cell_type": "code",
   "execution_count": null,
   "id": "a9916c05",
   "metadata": {},
   "outputs": [],
   "source": [
    "# Flux works with matices and vectors\n",
    "function preprocess2(X, y)\n",
    "    Xs = df2FluxMatrix(X)\n",
    "    ys = Flux.onehotbatch( Float32.(y), 0:9 )\n",
    "    return (Xs, ys)\n",
    "end\n",
    "\n",
    "X_c, y_c = preprocess2(X_c, y_c)\n",
    "typeof(X_c), size(X_c), size(y_c)"
   ]
  },
  {
   "cell_type": "markdown",
   "id": "0f9b0fa5",
   "metadata": {},
   "source": [
    "Model"
   ]
  },
  {
   "cell_type": "code",
   "execution_count": null,
   "id": "eb1374e8",
   "metadata": {},
   "outputs": [],
   "source": [
    "# model configuration\n",
    "nInputs  = d\n",
    "nOutputs = 10\n",
    "\n",
    "model              = Chain( Flux.Dense(nInputs, nOutputs, tanh),   # tanh is chosen as nonlinearity (Prof Mostafa lecture)\n",
    "                            softmax )                              # softmax scales the output to sum to one\n",
    "lossFunction(X, y) = Flux.mse( model(X), y )\n",
    "modelParameters    = Flux.params(model)\n",
    "dataset            = Flux.DataLoader((X_c, y_c), batchsize=1)  # batchsize=1 => SGD, batch size > 1 => batch gradient descent\n",
    "modelOptimizer     = Flux.Descent()\n",
    "callBack           = Flux.throttle(() -> println(\".\"), 10); # print every 10s"
   ]
  },
  {
   "cell_type": "markdown",
   "id": "8bce196a",
   "metadata": {},
   "source": [
    "Training"
   ]
  },
  {
   "cell_type": "code",
   "execution_count": null,
   "id": "b20aa010",
   "metadata": {},
   "outputs": [],
   "source": [
    "numberOfEpochs = 5"
   ]
  },
  {
   "cell_type": "markdown",
   "id": "04cc04da",
   "metadata": {},
   "source": [
    "Training method without plotting epochs"
   ]
  },
  {
   "cell_type": "code",
   "execution_count": null,
   "id": "be1e8ca6",
   "metadata": {},
   "outputs": [],
   "source": [
    "# # preferred for multiple epochs\n",
    "# epochs = 1:numberOfEpochs\n",
    "# for epoch in epochs\n",
    "#     Flux.train!(lossFunction, modelParameters, data, modelOptimizer; cb=callBack)\n",
    "# end"
   ]
  },
  {
   "cell_type": "markdown",
   "id": "1f8a4dbe",
   "metadata": {},
   "source": [
    "Training method with plotting, with the aid of homemade function trainModel!"
   ]
  },
  {
   "cell_type": "code",
   "execution_count": null,
   "id": "43ae4dab",
   "metadata": {},
   "outputs": [],
   "source": [
    "# https://fluxml.ai/Flux.jl/stable/training/training/\n",
    "\n",
    "epochs     = 1 : numberOfEpochs\n",
    "lossVector = Vector{Float64}()\n",
    "minLoss    = 1e-5   # hint: start at 1e-2, then go lower for more epochs (5e-4)\n",
    "nearZero   = minLoss / 25\n",
    "\n",
    "for epoch in epochs\n",
    "    # train epoch\n",
    "    loss = trainModel!( lossFunction, modelParameters, dataset, modelOptimizer )   # libml\n",
    "    push!(lossVector, loss)\n",
    "    print(\".\")   # \"epoch completed\" indicator\n",
    "\n",
    "    # exit criteria\n",
    "    if stopTrainingCriteria(lossVector, minLoss, nearZero)   break   end\n",
    "end"
   ]
  },
  {
   "cell_type": "code",
   "execution_count": null,
   "id": "4560289c",
   "metadata": {},
   "outputs": [],
   "source": [
    "# plot training\n",
    "plotLoss(lossVector, (500,300))"
   ]
  },
  {
   "cell_type": "markdown",
   "id": "2ad25cf6",
   "metadata": {},
   "source": [
    "Validation"
   ]
  },
  {
   "cell_type": "code",
   "execution_count": null,
   "id": "48f2e3c8",
   "metadata": {},
   "outputs": [],
   "source": [
    "function predictOutcome(X)\n",
    "    ŷ = Flux.onecold( model(X), [0:9;] )\n",
    "end"
   ]
  },
  {
   "cell_type": "code",
   "execution_count": null,
   "id": "a21c115d",
   "metadata": {},
   "outputs": [],
   "source": [
    "# preprocessing\n",
    "X_c, y_c = preprocess1(validationX, validationY)\n",
    "X_c      = MLJ.transform(mach, X_c)\n",
    "X_c, y_c = preprocess2(X_c, y_c)\n",
    "\n",
    "# predict\n",
    "ŷ = predictOutcome(X_c)\n",
    "\n",
    "# result\n",
    "printMetrics( ŷ, coerce(validationY, OrderedFactor) )"
   ]
  }
 ],
 "metadata": {
  "kernelspec": {
   "display_name": "Julia 1.6.7",
   "language": "julia",
   "name": "julia-1.6"
  },
  "language_info": {
   "file_extension": ".jl",
   "mimetype": "application/julia",
   "name": "julia",
   "version": "1.6.7"
  }
 },
 "nbformat": 4,
 "nbformat_minor": 5
}
