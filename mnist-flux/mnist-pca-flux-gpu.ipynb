{
 "cells": [
  {
   "cell_type": "markdown",
   "id": "e145f758",
   "metadata": {},
   "source": [
    "Flux with MNIST and GPU\n",
    "* Pre-treatment with PCA"
   ]
  },
  {
   "cell_type": "markdown",
   "id": "5f262ba3",
   "metadata": {},
   "source": [
    "Libraries"
   ]
  },
  {
   "cell_type": "code",
   "execution_count": 1,
   "id": "d63e87f2",
   "metadata": {},
   "outputs": [
    {
     "data": {
      "text/plain": [
       "Plots.GRBackend()"
      ]
     },
     "execution_count": 1,
     "metadata": {},
     "output_type": "execute_result"
    }
   ],
   "source": [
    "using CUDA\n",
    "using MLDatasets:          MNIST\n",
    "using Flux                 # the julia ml library\n",
    "using PreprocessingImages; pim = PreprocessingImages\n",
    "using MLDataUtils:         stratifiedobs\n",
    "using MLJ\n",
    "using Random\n",
    "using Plots; gr()"
   ]
  },
  {
   "cell_type": "code",
   "execution_count": 2,
   "id": "5545d1b2",
   "metadata": {},
   "outputs": [
    {
     "data": {
      "text/plain": [
       "cleanCUDA (generic function with 1 method)"
      ]
     },
     "execution_count": 2,
     "metadata": {},
     "output_type": "execute_result"
    }
   ],
   "source": [
    "include( expanduser(\"~/projects/pesquisa/libs/libml.jl\") )\n",
    "include( expanduser(\"~/projects/pesquisa/libs/misc.jl\") )"
   ]
  },
  {
   "cell_type": "markdown",
   "id": "8903cf71",
   "metadata": {},
   "source": [
    "MNIST"
   ]
  },
  {
   "cell_type": "code",
   "execution_count": 3,
   "id": "4d7603a2",
   "metadata": {},
   "outputs": [],
   "source": [
    "# load mnist\n",
    "trX,   trY   = MNIST(:train)[:]\n",
    "testX, testY = MNIST(:test)[:];"
   ]
  },
  {
   "cell_type": "code",
   "execution_count": 4,
   "id": "2ecbb1f6",
   "metadata": {},
   "outputs": [
    {
     "data": {
      "text/plain": [
       "((28, 28, 42001), (28, 28, 17999), (28, 28, 10000))"
      ]
     },
     "execution_count": 4,
     "metadata": {},
     "output_type": "execute_result"
    }
   ],
   "source": [
    "# split train, validation, test sets\n",
    "Random.seed!(1)\n",
    "(trainX, trainY), (validationX, validationY) = stratifiedobs((trX, trY), p = 0.7)\n",
    "size(trainX), size(validationX), size(testX)"
   ]
  },
  {
   "cell_type": "markdown",
   "id": "b8b9c3b0",
   "metadata": {},
   "source": [
    "Preprocessing functions"
   ]
  },
  {
   "cell_type": "code",
   "execution_count": 5,
   "id": "0ffcbbd8",
   "metadata": {},
   "outputs": [
    {
     "data": {
      "text/plain": [
       "preprocess1 (generic function with 1 method)"
      ]
     },
     "execution_count": 5,
     "metadata": {},
     "output_type": "execute_result"
    }
   ],
   "source": [
    "# MLJ works with dataframes\n",
    "function preprocess1(X, y)\n",
    "    Xs = permutedims(X, (2, 1, 3))   # needed to adjust visualization of digits\n",
    "    Xs = pim.batchImage2DF(Xs)\n",
    "    \n",
    "    ys = Int32.(y)\n",
    "\n",
    "    return (Xs, ys)\n",
    "end"
   ]
  },
  {
   "cell_type": "code",
   "execution_count": 6,
   "id": "a656be1c",
   "metadata": {},
   "outputs": [],
   "source": [
    "# models(\"PCA\")[2]"
   ]
  },
  {
   "cell_type": "code",
   "execution_count": 7,
   "id": "c24ad8b1",
   "metadata": {},
   "outputs": [
    {
     "data": {
      "text/plain": [
       "Pipeline285(\n",
       "  pca = PCA(\n",
       "        maxoutdim = 0, \n",
       "        method = :auto, \n",
       "        variance_ratio = 0.9, \n",
       "        mean = nothing), \n",
       "  standardizer = Standardizer(\n",
       "        features = Symbol[], \n",
       "        ignore = false, \n",
       "        ordered_factor = false, \n",
       "        count = false))"
      ]
     },
     "execution_count": 7,
     "metadata": {},
     "output_type": "execute_result"
    }
   ],
   "source": [
    "# reduce predictors\n",
    "PCA = @load PCA pkg=MultivariateStats verbosity=0\n",
    "reducer = PCA(variance_ratio = 0.9)   # mensagem de erro diz que pratio não existe !!!!! e sugere variance_ratio\n",
    "\n",
    "# standardize predictors\n",
    "std = Standardizer()\n",
    "\n",
    "# machine\n",
    "pipe = @pipeline reducer std"
   ]
  },
  {
   "cell_type": "markdown",
   "id": "604e8101",
   "metadata": {},
   "source": [
    "Data preprocessing"
   ]
  },
  {
   "cell_type": "code",
   "execution_count": 8,
   "id": "de59f8aa",
   "metadata": {},
   "outputs": [
    {
     "data": {
      "text/plain": [
       "(DataFrames.DataFrame, (42001, 784), (42001,))"
      ]
     },
     "execution_count": 8,
     "metadata": {},
     "output_type": "execute_result"
    }
   ],
   "source": [
    "# convert to dataframe\n",
    "X_tr , y_tr  = preprocess1(trainX, trainY)\n",
    "X_val, y_val = preprocess1(validationX, validationY)\n",
    "\n",
    "typeof(X_tr), size(X_tr), size(y_tr)"
   ]
  },
  {
   "cell_type": "code",
   "execution_count": 9,
   "id": "aa2e706f",
   "metadata": {},
   "outputs": [
    {
     "name": "stderr",
     "output_type": "stream",
     "text": [
      "┌ Info: Training machine(Pipeline285(pca = PCA(maxoutdim = 0, …), …), …).\n",
      "└ @ MLJBase /home/ciro/.julia/packages/MLJBase/6ooqv/src/machines.jl:496\n",
      "┌ Info: Training machine(PCA(maxoutdim = 0, …), …).\n",
      "└ @ MLJBase /home/ciro/.julia/packages/MLJBase/6ooqv/src/machines.jl:496\n",
      "┌ Info: Training machine(Standardizer(features = Symbol[], …), …).\n",
      "└ @ MLJBase /home/ciro/.julia/packages/MLJBase/6ooqv/src/machines.jl:496\n"
     ]
    },
    {
     "data": {
      "text/plain": [
       "(DataFrames.DataFrame, (42001, 87), (42001,))"
      ]
     },
     "execution_count": 9,
     "metadata": {},
     "output_type": "execute_result"
    }
   ],
   "source": [
    "# pca dimensionality reduction\n",
    "mach = MLJ.machine(pipe, X_tr) |> fit!\n",
    "X_tr  = MLJ.transform(mach, X_tr)  .|> Float32   # transform(unsupervised) vs predict(supervised)\n",
    "X_val = MLJ.transform(mach, X_val) .|> Float32   # transform(unsupervised) vs predict(supervised)\n",
    "\n",
    "typeof(X_tr), size(X_tr), size(y_tr)"
   ]
  },
  {
   "cell_type": "code",
   "execution_count": 12,
   "id": "096135d0",
   "metadata": {},
   "outputs": [
    {
     "data": {
      "text/plain": [
       "preprocess2 (generic function with 1 method)"
      ]
     },
     "execution_count": 12,
     "metadata": {},
     "output_type": "execute_result"
    }
   ],
   "source": [
    "# Flux works with matrices and vectors\n",
    "function preprocess2(df, y)\n",
    "    N, d = size(df)\n",
    "    Xs = pim.df2Matrix(df)            # convert dataframe to matrix\n",
    "    Xs = Xs |> Flux.flatten       # convert n-dimensional array to matrix (adequacy to Flux); last dimension is preserved\n",
    "    Xs = [Xs[i,:] for i in 1:N]   # individualize each data point on a vector of vectors\n",
    "    Xs = Flux.batch(Xs)           # batch the dataset, with each data point individualized\n",
    "\n",
    "    ys = Flux.onehotbatch( Float32.(y), 0:9 )\n",
    "    return (Xs, ys)\n",
    "end"
   ]
  },
  {
   "cell_type": "code",
   "execution_count": 13,
   "id": "493d6497",
   "metadata": {},
   "outputs": [
    {
     "data": {
      "text/plain": [
       "(Matrix{Float32}, (87, 42001), (10, 42001))"
      ]
     },
     "execution_count": 13,
     "metadata": {},
     "output_type": "execute_result"
    }
   ],
   "source": [
    "# convert to flux matrix\n",
    "X_tr , y_tr  = preprocess2(X_tr, y_tr)\n",
    "X_val, y_val = preprocess2(X_val, y_val)\n",
    "\n",
    "d, N         = size(X_tr)\n",
    "typeof(X_tr), size(X_tr), size(y_tr)"
   ]
  },
  {
   "cell_type": "code",
   "execution_count": 14,
   "id": "3520810b",
   "metadata": {},
   "outputs": [
    {
     "name": "stderr",
     "output_type": "stream",
     "text": [
      "┌ Info: The GPU function is being called but the GPU is not accessible. \n",
      "│ Defaulting back to the CPU. (No action is required if you want to run on the CPU).\n",
      "└ @ Flux /home/ciro/.julia/packages/Flux/KkC79/src/functor.jl:192\n"
     ]
    }
   ],
   "source": [
    "# data on gpu\n",
    "X_tr_g  = X_tr |> gpu\n",
    "y_tr_g  = y_tr |> gpu\n",
    "X_val_g = X_val |> gpu;"
   ]
  },
  {
   "cell_type": "markdown",
   "id": "b9f2d81e",
   "metadata": {},
   "source": [
    "Model"
   ]
  },
  {
   "cell_type": "code",
   "execution_count": 15,
   "id": "ab500493",
   "metadata": {},
   "outputs": [
    {
     "data": {
      "text/plain": [
       "Chain(\n",
       "  Dense(87 => 16, relu),                \u001b[90m# 1_408 parameters\u001b[39m\n",
       "  Dense(16 => 10, relu),                \u001b[90m# 170 parameters\u001b[39m\n",
       "  NNlib.softmax,\n",
       ") \u001b[90m                  # Total: 4 arrays, \u001b[39m1_578 parameters, 6.414 KiB."
      ]
     },
     "execution_count": 15,
     "metadata": {},
     "output_type": "execute_result"
    }
   ],
   "source": [
    "# model architecture\n",
    "nInputs  = d\n",
    "nOutputs = 10\n",
    "\n",
    "# Flux.Dense(nInputs, 256, tanh)\n",
    "model = Chain( Dense(nInputs => 16, relu),\n",
    "               Dense(16      => nOutputs, relu),\n",
    "               softmax)      |> gpu                # weights on gpu"
   ]
  },
  {
   "cell_type": "code",
   "execution_count": 16,
   "id": "eb1374e8",
   "metadata": {},
   "outputs": [],
   "source": [
    "# training parameters\n",
    "η = 0.2            # learning rate (\\eta<tab>)\n",
    "lossFunction(X, y) = Flux.mse( model(X), y )\n",
    "modelParameters    = Flux.params(model)\n",
    "dataset            = Flux.DataLoader((X_tr_g, y_tr_g), batchsize=32) # batchsize=1 => SGD, batch size > 1 => batch gradient descent\n",
    "modelOptimizer     = Flux.Descent(η);\n",
    "# callBack           = Flux.throttle(() -> println(\".\"), 10);        # print every 10s"
   ]
  },
  {
   "cell_type": "markdown",
   "id": "ea26fddb",
   "metadata": {},
   "source": [
    "Training"
   ]
  },
  {
   "cell_type": "code",
   "execution_count": 18,
   "id": "467e2940",
   "metadata": {},
   "outputs": [
    {
     "data": {
      "text/plain": [
       "5000"
      ]
     },
     "execution_count": 18,
     "metadata": {},
     "output_type": "execute_result"
    }
   ],
   "source": [
    "epochs = 5000"
   ]
  },
  {
   "cell_type": "code",
   "execution_count": 19,
   "id": "287287b6",
   "metadata": {},
   "outputs": [
    {
     "data": {
      "text/plain": [
       "predictOutcome (generic function with 1 method)"
      ]
     },
     "execution_count": 19,
     "metadata": {},
     "output_type": "execute_result"
    }
   ],
   "source": [
    "function predictOutcome(X)\n",
    "    ŷ = Flux.onecold( model(X), [0:9;] )\n",
    "end"
   ]
  },
  {
   "cell_type": "code",
   "execution_count": 20,
   "id": "be1e8ca6",
   "metadata": {},
   "outputs": [],
   "source": [
    "# # https://fluxml.ai/Flux.jl/stable/training/training/\n",
    "\n",
    "# # preferred for multiple epochs\n",
    "# for epoch in 1:epochs\n",
    "#     Flux.train!(lossFunction, modelParameters, dataset, modelOptimizer; cb=callBack)\n",
    "# end"
   ]
  },
  {
   "cell_type": "code",
   "execution_count": 21,
   "id": "38bb5cc2",
   "metadata": {},
   "outputs": [
    {
     "ename": "LoadError",
     "evalue": "InterruptException:",
     "output_type": "error",
     "traceback": [
      "InterruptException:",
      "",
      "Stacktrace:",
      " [1] pullback(f::Function, ps::Zygote.Params{Zygote.Buffer{Any, Vector{Any}}})",
      "   @ Zygote ~/.julia/packages/Zygote/dABKa/src/compiler/interface.jl:373",
      " [2] gradient(f::Function, args::Zygote.Params{Zygote.Buffer{Any, Vector{Any}}})",
      "   @ Zygote ~/.julia/packages/Zygote/dABKa/src/compiler/interface.jl:96",
      " [3] trainModel!(lossfunction::Function, parameters::Zygote.Params{Zygote.Buffer{Any, Vector{Any}}}, datapoints::MLUtils.DataLoader{Tuple{Matrix{Float32}, Flux.OneHotArray{UInt32, 10, 1, 2, Vector{UInt32}}}, Random._GLOBAL_RNG, Val{nothing}}, opt::Descent)",
      "   @ Main ~/projects/pesquisa/libs/libml.jl:26",
      " [4] top-level scope",
      "   @ ./In[21]:11",
      " [5] eval",
      "   @ ./boot.jl:360 [inlined]",
      " [6] include_string(mapexpr::typeof(REPL.softscope), mod::Module, code::String, filename::String)",
      "   @ Base ./loading.jl:1116"
     ]
    },
    {
     "name": "stderr",
     "output_type": "stream",
     "text": [
      "WARNING: both Losses and NNlib export \"ctc_loss\"; uses of it in module Flux must be qualified\n"
     ]
    }
   ],
   "source": [
    "# https://fluxml.ai/Flux.jl/stable/training/training/\n",
    "\n",
    "loss_tr           = Vector{Float64}()\n",
    "acc_val           = Vector{Float64}()\n",
    "maxLoss           = 1e-4   # hint: start at 1e-2, then go lower for more epochs\n",
    "nearDeltaZeroLoss = maxLoss / 25\n",
    "nearDeltaZeroAcc  = 1e-5\n",
    "\n",
    "for epoch in 1:epochs\n",
    "    # train\n",
    "    loss = trainModel!( lossFunction, modelParameters, dataset, modelOptimizer )   # libml\n",
    "    push!(loss_tr, loss)\n",
    "    # print(\".\")   # \"epoch completed\" indicator\n",
    "\n",
    "    # predict\n",
    "    ŷ  = predictOutcome(X_val_g)\n",
    "    f1 = MLJ.multiclass_f1score(ŷ, coerce(validationY, OrderedFactor))\n",
    "    push!(acc_val, f1)\n",
    "\n",
    "    # exit criteria\n",
    "    if earlyStopLossCriteria(loss_tr, maxLoss, nearDeltaZeroLoss)   break   end\n",
    "    if earlyStopAccuracyCriteria(acc_val, nearDeltaZeroAcc)         break   end\n",
    "end"
   ]
  },
  {
   "cell_type": "code",
   "execution_count": null,
   "id": "ac0ae32d",
   "metadata": {},
   "outputs": [],
   "source": [
    "# plot training\n",
    "s = (500, 500)\n",
    "p1 = plotVector(loss_tr, s, :log10, \"Loss function\")\n",
    "p2 = plotVector(acc_val, s, :none,  \"f1-score\")\n",
    "display( plot(p1, p2, layout=(2,1), size=s) )"
   ]
  },
  {
   "cell_type": "code",
   "execution_count": null,
   "id": "56058bfe",
   "metadata": {},
   "outputs": [],
   "source": [
    "# print metrics\n",
    "ŷ = predictOutcome(X_val_g)\n",
    "accuracyValidation, _ = printMetrics( ŷ, coerce(validationY, OrderedFactor) );"
   ]
  },
  {
   "cell_type": "code",
   "execution_count": null,
   "id": "f8eae2df",
   "metadata": {},
   "outputs": [],
   "source": [
    "# clean gpu memory\n",
    "X_tr  = nothing\n",
    "y_tr  = nothing\n",
    "X_val = nothing\n",
    "cleanCUDA()"
   ]
  },
  {
   "cell_type": "markdown",
   "id": "a77111b8",
   "metadata": {},
   "source": [
    "Testing"
   ]
  },
  {
   "cell_type": "code",
   "execution_count": null,
   "id": "4cd546f6",
   "metadata": {},
   "outputs": [],
   "source": [
    "# preprocessing\n",
    "X_tst, y_tst = preprocess1(testX, testY)\n",
    "X_tst        = MLJ.transform(mach, X_tst) .|> Float32   # transform(unsupervised) vs predict(supervised)\n",
    "X_tst, y_tst = preprocess2(X_tst, y_tst)\n",
    "X_tst_g      = X_tst |> gpu\n",
    "\n",
    "# predict\n",
    "ŷ = predictOutcome(X_tst_g)\n",
    "\n",
    "# result\n",
    "accuracyTest, _ = printMetrics( ŷ, coerce(testY, OrderedFactor) );"
   ]
  },
  {
   "cell_type": "code",
   "execution_count": null,
   "id": "30de0123",
   "metadata": {},
   "outputs": [],
   "source": [
    "accuracyValidation > accuracyTest ? \"fit ok\" : \"overfitting\""
   ]
  },
  {
   "cell_type": "code",
   "execution_count": null,
   "id": "880cbd77",
   "metadata": {},
   "outputs": [],
   "source": [
    "# clean gpu memory\n",
    "X_tst = nothing\n",
    "cleanCUDA()"
   ]
  }
 ],
 "metadata": {
  "kernelspec": {
   "display_name": "Julia 1.6.7",
   "language": "julia",
   "name": "julia-1.6"
  },
  "language_info": {
   "file_extension": ".jl",
   "mimetype": "application/julia",
   "name": "julia",
   "version": "1.6.7"
  }
 },
 "nbformat": 4,
 "nbformat_minor": 5
}
