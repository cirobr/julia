{
 "cells": [
  {
   "cell_type": "markdown",
   "id": "e145f758",
   "metadata": {},
   "source": [
    "Flux with MNIST and GPU\n",
    "* Pre-treatment with PCA"
   ]
  },
  {
   "cell_type": "markdown",
   "id": "5f262ba3",
   "metadata": {},
   "source": [
    "Libraries"
   ]
  },
  {
   "cell_type": "code",
   "execution_count": null,
   "id": "d63e87f2",
   "metadata": {},
   "outputs": [],
   "source": [
    "using CUDA\n",
    "\n",
    "using MLDatasets           # mnist\n",
    "using PreprocessingImages; pim = PreprocessingImages\n",
    "\n",
    "using MLJ                  # make_blobs, rmse, confmat, f1score, coerce\n",
    "using MLDataUtils          # label, nlabel, labelfreq, stratifiedobs\n",
    "using Flux                 # the julia ml library\n",
    "\n",
    "using Random\n",
    "using Plots; gr()"
   ]
  },
  {
   "cell_type": "code",
   "execution_count": null,
   "id": "5545d1b2",
   "metadata": {},
   "outputs": [],
   "source": [
    "include( expanduser(\"~/projects/pesquisa/libs/libml.jl\") )\n",
    "include( expanduser(\"~/projects/pesquisa/libs/misc.jl\") )"
   ]
  },
  {
   "cell_type": "markdown",
   "id": "8903cf71",
   "metadata": {},
   "source": [
    "MNIST"
   ]
  },
  {
   "cell_type": "code",
   "execution_count": null,
   "id": "4d7603a2",
   "metadata": {},
   "outputs": [],
   "source": [
    "# load mnist\n",
    "trX,   trY   = MNIST(:train)[:]\n",
    "testX, testY = MNIST(:test)[:];"
   ]
  },
  {
   "cell_type": "code",
   "execution_count": null,
   "id": "2ecbb1f6",
   "metadata": {},
   "outputs": [],
   "source": [
    "# split train, validation, test sets\n",
    "Random.seed!(1)\n",
    "(trainX, trainY), (validationX, validationY) = stratifiedobs((trX, trY), p = 0.7)\n",
    "size(trainX), size(validationX), size(testX)"
   ]
  },
  {
   "cell_type": "markdown",
   "id": "b8b9c3b0",
   "metadata": {},
   "source": [
    "Preprocessing functions"
   ]
  },
  {
   "cell_type": "code",
   "execution_count": null,
   "id": "0ffcbbd8",
   "metadata": {},
   "outputs": [],
   "source": [
    "# MLJ works with dataframes\n",
    "function preprocess1(X, y)\n",
    "    Xs = permutedims(X, (2, 1, 3))   # needed to adjust visualization of digits\n",
    "    Xs = pim.batchImage2DF(Xs)\n",
    "    \n",
    "    ys = Int32.(y)\n",
    "\n",
    "    return (Xs, ys)\n",
    "end"
   ]
  },
  {
   "cell_type": "code",
   "execution_count": null,
   "id": "c24ad8b1",
   "metadata": {},
   "outputs": [],
   "source": [
    "# reduce predictors\n",
    "PCA = @load PCA pkg=MultivariateStats verbosity=0\n",
    "reducer = PCA(pratio = 0.9)\n",
    "\n",
    "# standardize predictors\n",
    "std = Standardizer()\n",
    "\n",
    "# machine\n",
    "pipe = @pipeline reducer std"
   ]
  },
  {
   "cell_type": "code",
   "execution_count": null,
   "id": "096135d0",
   "metadata": {},
   "outputs": [],
   "source": [
    "# Flux works with matrices and vectors\n",
    "function preprocess2(X, y)\n",
    "    Xs = df2FluxMatrix(X)\n",
    "    ys = Flux.onehotbatch( Float32.(y), 0:9 )\n",
    "    return (Xs, ys)\n",
    "end"
   ]
  },
  {
   "cell_type": "markdown",
   "id": "604e8101",
   "metadata": {},
   "source": [
    "Data preprocessing"
   ]
  },
  {
   "cell_type": "code",
   "execution_count": null,
   "id": "de59f8aa",
   "metadata": {},
   "outputs": [],
   "source": [
    "X_tr , y_tr  = preprocess1(trainX, trainY)\n",
    "X_val, y_val = preprocess1(validationX, validationY)\n",
    "\n",
    "typeof(X_tr), size(X_tr), size(y_tr)"
   ]
  },
  {
   "cell_type": "code",
   "execution_count": null,
   "id": "aa2e706f",
   "metadata": {},
   "outputs": [],
   "source": [
    "mach = MLJ.machine(pipe, X_tr) |> fit!\n",
    "X_tr  = MLJ.transform(mach, X_tr)  .|> Float32   # transform(unsupervised) vs predict(supervised)\n",
    "X_val = MLJ.transform(mach, X_val) .|> Float32   # transform(unsupervised) vs predict(supervised)\n",
    "\n",
    "typeof(X_tr), size(X_tr), size(y_tr)"
   ]
  },
  {
   "cell_type": "code",
   "execution_count": null,
   "id": "493d6497",
   "metadata": {},
   "outputs": [],
   "source": [
    "X_tr , y_tr  = preprocess2(X_tr, y_tr)\n",
    "X_val, y_val = preprocess2(X_val, y_val)\n",
    "\n",
    "d, N         = size(X_tr)\n",
    "typeof(X_tr), size(X_tr), size(y_tr)"
   ]
  },
  {
   "cell_type": "code",
   "execution_count": null,
   "id": "3520810b",
   "metadata": {},
   "outputs": [],
   "source": [
    "# data on gpu\n",
    "X_tr_g  = X_tr |> gpu\n",
    "y_tr_g  = y_tr |> gpu\n",
    "X_val_g = X_val |> gpu;"
   ]
  },
  {
   "cell_type": "markdown",
   "id": "b9f2d81e",
   "metadata": {},
   "source": [
    "Model"
   ]
  },
  {
   "cell_type": "code",
   "execution_count": null,
   "id": "ab500493",
   "metadata": {},
   "outputs": [],
   "source": [
    "# model architecture\n",
    "nInputs  = d\n",
    "nOutputs = 10\n",
    "\n",
    "# Flux.Dense(nInputs, 256, tanh)\n",
    "model = Chain( Dense(nInputs => 16, relu),\n",
    "               Dense(16      => nOutputs, relu),\n",
    "               softmax)      |> gpu                # weights on gpu"
   ]
  },
  {
   "cell_type": "code",
   "execution_count": null,
   "id": "eb1374e8",
   "metadata": {},
   "outputs": [],
   "source": [
    "# training parameters\n",
    "η = 0.2           # learning rate (\\eta<tab>)\n",
    "lossFunction(X, y) = Flux.mse( model(X), y )\n",
    "modelParameters    = Flux.params(model)\n",
    "dataset            = Flux.DataLoader((X_tr_g, y_tr_g), batchsize=32) # batchsize=1 => SGD, batch size > 1 => batch gradient descent\n",
    "modelOptimizer     = Flux.Descent(η);\n",
    "# callBack           = Flux.throttle(() -> println(\".\"), 10);        # print every 10s"
   ]
  },
  {
   "cell_type": "markdown",
   "id": "ea26fddb",
   "metadata": {},
   "source": [
    "Training"
   ]
  },
  {
   "cell_type": "code",
   "execution_count": null,
   "id": "467e2940",
   "metadata": {},
   "outputs": [],
   "source": [
    "numberOfEpochs = 5000"
   ]
  },
  {
   "cell_type": "code",
   "execution_count": null,
   "id": "287287b6",
   "metadata": {},
   "outputs": [],
   "source": [
    "function predictOutcome(X)\n",
    "    ŷ = Flux.onecold( model(X), [0:9;] )\n",
    "end"
   ]
  },
  {
   "cell_type": "code",
   "execution_count": null,
   "id": "be1e8ca6",
   "metadata": {},
   "outputs": [],
   "source": [
    "# # https://fluxml.ai/Flux.jl/stable/training/training/\n",
    "\n",
    "# # preferred for multiple epochs\n",
    "# epochs = 1:numberOfEpochs\n",
    "# for epoch in epochs\n",
    "#     Flux.train!(lossFunction, modelParameters, data, modelOptimizer; cb=callBack)\n",
    "# end"
   ]
  },
  {
   "cell_type": "code",
   "execution_count": null,
   "id": "38bb5cc2",
   "metadata": {},
   "outputs": [],
   "source": [
    "# https://fluxml.ai/Flux.jl/stable/training/training/\n",
    "\n",
    "epochs            = 1 : numberOfEpochs\n",
    "loss_tr           = Vector{Float64}()\n",
    "acc_val           = Vector{Float64}()\n",
    "maxLoss           = 1e-4   # hint: start at 1e-2, then go lower for more epochs\n",
    "nearDeltaZeroLoss = maxLoss / 25\n",
    "nearDeltaZeroAcc  = 1e-5\n",
    "\n",
    "for epoch in epochs\n",
    "    # train\n",
    "    loss = trainModel!( lossFunction, modelParameters, dataset, modelOptimizer )   # libml\n",
    "    push!(loss_tr, loss)\n",
    "    # print(\".\")   # \"epoch completed\" indicator\n",
    "\n",
    "    # predict\n",
    "    ŷ  = predictOutcome(X_val_g)\n",
    "    f1 = MLJ.multiclass_f1score(ŷ, coerce(validationY, OrderedFactor))\n",
    "    push!(acc_val, f1)\n",
    "\n",
    "    # exit criteria\n",
    "    if stopTrainingLossCriteria(loss_tr, maxLoss, nearDeltaZeroLoss)   break   end\n",
    "    # if stopTrainingAccuracyCriteria(acc_val, nearDeltaZeroAcc)         break   end\n",
    "end"
   ]
  },
  {
   "cell_type": "code",
   "execution_count": null,
   "id": "ac0ae32d",
   "metadata": {},
   "outputs": [],
   "source": [
    "# plot training\n",
    "s = (500, 500)\n",
    "p1 = plotVector(loss_tr, s, :log10, \"Loss function\")\n",
    "p2 = plotVector(acc_val, s, :none,  \"f1-score\")\n",
    "display( plot(p1, p2, layout=(2,1), size=s) )"
   ]
  },
  {
   "cell_type": "code",
   "execution_count": null,
   "id": "56058bfe",
   "metadata": {},
   "outputs": [],
   "source": [
    "# print metrics\n",
    "ŷ = predictOutcome(X_val_g)\n",
    "accuracyValidation, _ = printMetrics( ŷ, coerce(validationY, OrderedFactor) );"
   ]
  },
  {
   "cell_type": "code",
   "execution_count": null,
   "id": "f8eae2df",
   "metadata": {},
   "outputs": [],
   "source": [
    "# clean gpu memory\n",
    "X_tr  = nothing\n",
    "y_tr  = nothing\n",
    "X_val = nothing\n",
    "cleanCUDA()"
   ]
  },
  {
   "cell_type": "markdown",
   "id": "a77111b8",
   "metadata": {},
   "source": [
    "Testing"
   ]
  },
  {
   "cell_type": "code",
   "execution_count": null,
   "id": "4cd546f6",
   "metadata": {},
   "outputs": [],
   "source": [
    "# preprocessing\n",
    "X_tst, y_tst = preprocess1(testX, testY)\n",
    "X_tst        = MLJ.transform(mach, X_tst) .|> Float32   # transform(unsupervised) vs predict(supervised)\n",
    "X_tst, y_tst = preprocess2(X_tst, y_tst)\n",
    "X_tst_g      = X_tst |> gpu\n",
    "\n",
    "# predict\n",
    "ŷ = predictOutcome(X_tst_g)\n",
    "\n",
    "# result\n",
    "accuracyTest, _ = printMetrics( ŷ, coerce(testY, OrderedFactor) );"
   ]
  },
  {
   "cell_type": "code",
   "execution_count": null,
   "id": "30de0123",
   "metadata": {},
   "outputs": [],
   "source": [
    "accuracyValidation > accuracyTest ? \"fit ok\" : \"overfitting\""
   ]
  },
  {
   "cell_type": "code",
   "execution_count": null,
   "id": "880cbd77",
   "metadata": {},
   "outputs": [],
   "source": [
    "# clean gpu memory\n",
    "X_tst = nothing\n",
    "cleanCUDA()"
   ]
  }
 ],
 "metadata": {
  "kernelspec": {
   "display_name": "Julia 1.6.7",
   "language": "julia",
   "name": "julia-1.6"
  },
  "language_info": {
   "file_extension": ".jl",
   "mimetype": "application/julia",
   "name": "julia",
   "version": "1.6.7"
  }
 },
 "nbformat": 4,
 "nbformat_minor": 5
}
