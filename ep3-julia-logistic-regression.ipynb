{
 "cells": [
  {
   "cell_type": "code",
   "execution_count": 1,
   "id": "dab29adf",
   "metadata": {},
   "outputs": [],
   "source": [
    "# libraries\n",
    "using Metrics          # r2-score\n",
    "using Random\n",
    "using Distributions\n",
    "using Plots; gr()\n",
    "using Printf\n",
    "\n",
    "using CSV\n",
    "using DataFrames\n",
    "using MLJ              # blobs"
   ]
  },
  {
   "cell_type": "markdown",
   "id": "f642bd34",
   "metadata": {},
   "source": [
    "# The algorithm\n",
    "\n",
    "We will use the formulation described in the textbook (<i>Learning from data</i>, Abu-Mostafa <i>et al.</i>). Positive class label equals +1 and negative equals -1.\n",
    "\n",
    "The loss (or error) function to be minimized is\n",
    "$$\n",
    "E_{in}(\\mathbf{w}) = \\frac{1}{N} \\sum_{i=1}^{N} \\ln(1 + e^{-y^{(i)} \\mathbf{w}^T \\mathbf{x}^{(i)}}) \\tag{1}\n",
    "$$\n",
    "\n",
    "Its descent gradient (note the minus sign) is given by\n",
    "\n",
    "$$\\nabla E_{in}(\\mathbf{w}) = - \\frac{1}{N}\\sum_{i=1}^{N} \\frac{y^{(i)} \\mathbf{x}^{(i)}}{1 + e^{y^{(i)} \\mathbf{w}^T \\mathbf{x}^{(i)}}}  \\tag{2}$$\n",
    "\n",
    "The logistic (sigmoid) function is\n",
    "$$\\sigma(z) = \\frac{1}{1 + e^{-z}}  \\tag{3}$$"
   ]
  },
  {
   "cell_type": "code",
   "execution_count": 2,
   "id": "7fe0ab62",
   "metadata": {},
   "outputs": [
    {
     "data": {
      "text/plain": [
       "3-element Array{Float64,1}:\n",
       "  0.2972879845354616\n",
       "  0.3823959677906078\n",
       " -0.5976344767282311"
      ]
     },
     "metadata": {},
     "output_type": "display_data"
    },
    {
     "data": {
      "text/plain": [
       "1.5673053843772515"
      ]
     },
     "execution_count": 2,
     "metadata": {},
     "output_type": "execute_result"
    }
   ],
   "source": [
    "function cross_entropy_loss(w, X, y)\n",
    "    xpn = -y .* (X * w)\n",
    "    res = log.(1 .+ exp.(xpn))\n",
    "    loss = mean(res)\n",
    "end\n",
    "\n",
    "# teste da função\n",
    "X_teste = [1 2 4;\n",
    "           3 2 6;\n",
    "           7 9 3;\n",
    "           12 1 7]\n",
    "N, d = size(X_teste)\n",
    "\n",
    "y_teste = [1;\n",
    "           -1;\n",
    "           -1;\n",
    "           1]\n",
    "\n",
    "rng = Random.seed!(1)            # generate seed\n",
    "w_teste = randn(rng, d)          # generate initial w vector\n",
    "display(w_teste)\n",
    "\n",
    "cross_entropy_loss(w_teste, X_teste, y_teste)\n"
   ]
  },
  {
   "cell_type": "code",
   "execution_count": 3,
   "id": "1f023c70",
   "metadata": {},
   "outputs": [
    {
     "data": {
      "text/plain": [
       "3×1 LinearAlgebra.Adjoint{Float64,Array{Float64,2}}:\n",
       " -0.6820705486989405\n",
       "  0.274139435204393\n",
       "  0.3446304039513245"
      ]
     },
     "execution_count": 3,
     "metadata": {},
     "output_type": "execute_result"
    }
   ],
   "source": [
    "# computes the gradient (ascent)\n",
    "# Note: gradient descent = - gradient ascent\n",
    "function cross_entropy_gradient(w, X, y)\n",
    "    xpn = -y .* (X * w)\n",
    "\n",
    "    numerator = (y .* X)\n",
    "    denominator = 1 .+ exp.(xpn)\n",
    "    res = numerator ./ denominator\n",
    "    grad = -mean(res, dims=1)'\n",
    "end\n",
    "\n",
    "# teste da função\n",
    "cross_entropy_gradient(w_teste, X_teste, y_teste)"
   ]
  },
  {
   "cell_type": "code",
   "execution_count": 4,
   "id": "02d52438",
   "metadata": {},
   "outputs": [
    {
     "data": {
      "image/svg+xml": [
       "<?xml version=\"1.0\" encoding=\"utf-8\"?>\n",
       "<svg xmlns=\"http://www.w3.org/2000/svg\" xmlns:xlink=\"http://www.w3.org/1999/xlink\" width=\"300\" height=\"300\" viewBox=\"0 0 1200 1200\">\n",
       "<defs>\n",
       "  <clipPath id=\"clip600\">\n",
       "    <rect x=\"0\" y=\"0\" width=\"1200\" height=\"1200\"/>\n",
       "  </clipPath>\n",
       "</defs>\n",
       "<path clip-path=\"url(#clip600)\" d=\"\n",
       "M0 1200 L1200 1200 L1200 0 L0 0  Z\n",
       "  \" fill=\"#ffffff\" fill-rule=\"evenodd\" fill-opacity=\"1\"/>\n",
       "<defs>\n",
       "  <clipPath id=\"clip601\">\n",
       "    <rect x=\"240\" y=\"120\" width=\"841\" height=\"841\"/>\n",
       "  </clipPath>\n",
       "</defs>\n",
       "<path clip-path=\"url(#clip600)\" d=\"\n",
       "M162.862 1073.17 L1152.76 1073.17 L1152.76 47.2441 L162.862 47.2441  Z\n",
       "  \" fill=\"#ffffff\" fill-rule=\"evenodd\" fill-opacity=\"1\"/>\n",
       "<defs>\n",
       "  <clipPath id=\"clip602\">\n",
       "    <rect x=\"162\" y=\"47\" width=\"991\" height=\"1027\"/>\n",
       "  </clipPath>\n",
       "</defs>\n",
       "<polyline clip-path=\"url(#clip602)\" style=\"stroke:#000000; stroke-width:2; stroke-opacity:0.1; fill:none\" points=\"\n",
       "  190.878,1073.17 190.878,47.2441 \n",
       "  \"/>\n",
       "<polyline clip-path=\"url(#clip602)\" style=\"stroke:#000000; stroke-width:2; stroke-opacity:0.1; fill:none\" points=\"\n",
       "  424.343,1073.17 424.343,47.2441 \n",
       "  \"/>\n",
       "<polyline clip-path=\"url(#clip602)\" style=\"stroke:#000000; stroke-width:2; stroke-opacity:0.1; fill:none\" points=\"\n",
       "  657.809,1073.17 657.809,47.2441 \n",
       "  \"/>\n",
       "<polyline clip-path=\"url(#clip602)\" style=\"stroke:#000000; stroke-width:2; stroke-opacity:0.1; fill:none\" points=\"\n",
       "  891.275,1073.17 891.275,47.2441 \n",
       "  \"/>\n",
       "<polyline clip-path=\"url(#clip602)\" style=\"stroke:#000000; stroke-width:2; stroke-opacity:0.1; fill:none\" points=\"\n",
       "  1124.74,1073.17 1124.74,47.2441 \n",
       "  \"/>\n",
       "<polyline clip-path=\"url(#clip600)\" style=\"stroke:#000000; stroke-width:4; stroke-opacity:1; fill:none\" points=\"\n",
       "  162.862,1073.17 1152.76,1073.17 \n",
       "  \"/>\n",
       "<polyline clip-path=\"url(#clip600)\" style=\"stroke:#000000; stroke-width:4; stroke-opacity:1; fill:none\" points=\"\n",
       "  190.878,1073.17 190.878,1060.86 \n",
       "  \"/>\n",
       "<polyline clip-path=\"url(#clip600)\" style=\"stroke:#000000; stroke-width:4; stroke-opacity:1; fill:none\" points=\"\n",
       "  424.343,1073.17 424.343,1060.86 \n",
       "  \"/>\n",
       "<polyline clip-path=\"url(#clip600)\" style=\"stroke:#000000; stroke-width:4; stroke-opacity:1; fill:none\" points=\"\n",
       "  657.809,1073.17 657.809,1060.86 \n",
       "  \"/>\n",
       "<polyline clip-path=\"url(#clip600)\" style=\"stroke:#000000; stroke-width:4; stroke-opacity:1; fill:none\" points=\"\n",
       "  891.275,1073.17 891.275,1060.86 \n",
       "  \"/>\n",
       "<polyline clip-path=\"url(#clip600)\" style=\"stroke:#000000; stroke-width:4; stroke-opacity:1; fill:none\" points=\"\n",
       "  1124.74,1073.17 1124.74,1060.86 \n",
       "  \"/>\n",
       "<path clip-path=\"url(#clip600)\" d=\"M 0 0 M149.64 1107.41 L179.315 1107.41 L179.315 1111.35 L149.64 1111.35 L149.64 1107.41 Z\" fill=\"#000000\" fill-rule=\"evenodd\" fill-opacity=\"1\" /><path clip-path=\"url(#clip600)\" d=\"M 0 0 M185.195 1120.3 L192.834 1120.3 L192.834 1093.94 L184.524 1095.61 L184.524 1091.35 L192.788 1089.68 L197.464 1089.68 L197.464 1120.3 L205.102 1120.3 L205.102 1124.24 L185.195 1124.24 L185.195 1120.3 Z\" fill=\"#000000\" fill-rule=\"evenodd\" fill-opacity=\"1\" /><path clip-path=\"url(#clip600)\" d=\"M 0 0 M220.172 1092.76 Q216.561 1092.76 214.732 1096.32 Q212.926 1099.87 212.926 1106.99 Q212.926 1114.1 214.732 1117.67 Q216.561 1121.21 220.172 1121.21 Q223.806 1121.21 225.612 1117.67 Q227.44 1114.1 227.44 1106.99 Q227.44 1099.87 225.612 1096.32 Q223.806 1092.76 220.172 1092.76 M220.172 1089.05 Q225.982 1089.05 229.037 1093.66 Q232.116 1098.24 232.116 1106.99 Q232.116 1115.72 229.037 1120.33 Q225.982 1124.91 220.172 1124.91 Q214.362 1124.91 211.283 1120.33 Q208.227 1115.72 208.227 1106.99 Q208.227 1098.24 211.283 1093.66 Q214.362 1089.05 220.172 1089.05 Z\" fill=\"#000000\" fill-rule=\"evenodd\" fill-opacity=\"1\" /><path clip-path=\"url(#clip600)\" d=\"M 0 0 M396.496 1107.41 L426.172 1107.41 L426.172 1111.35 L396.496 1111.35 L396.496 1107.41 Z\" fill=\"#000000\" fill-rule=\"evenodd\" fill-opacity=\"1\" /><path clip-path=\"url(#clip600)\" d=\"M 0 0 M431.288 1089.68 L449.644 1089.68 L449.644 1093.62 L435.57 1093.62 L435.57 1102.09 Q436.589 1101.74 437.607 1101.58 Q438.626 1101.39 439.644 1101.39 Q445.431 1101.39 448.811 1104.56 Q452.191 1107.74 452.191 1113.15 Q452.191 1118.73 448.718 1121.83 Q445.246 1124.91 438.927 1124.91 Q436.751 1124.91 434.482 1124.54 Q432.237 1124.17 429.83 1123.43 L429.83 1118.73 Q431.913 1119.86 434.135 1120.42 Q436.357 1120.98 438.834 1120.98 Q442.839 1120.98 445.177 1118.87 Q447.515 1116.76 447.515 1113.15 Q447.515 1109.54 445.177 1107.43 Q442.839 1105.33 438.834 1105.33 Q436.959 1105.33 435.084 1105.74 Q433.232 1106.16 431.288 1107.04 L431.288 1089.68 Z\" fill=\"#000000\" fill-rule=\"evenodd\" fill-opacity=\"1\" /><path clip-path=\"url(#clip600)\" d=\"M 0 0 M657.809 1092.76 Q654.198 1092.76 652.369 1096.32 Q650.564 1099.87 650.564 1106.99 Q650.564 1114.1 652.369 1117.67 Q654.198 1121.21 657.809 1121.21 Q661.443 1121.21 663.249 1117.67 Q665.077 1114.1 665.077 1106.99 Q665.077 1099.87 663.249 1096.32 Q661.443 1092.76 657.809 1092.76 M657.809 1089.05 Q663.619 1089.05 666.675 1093.66 Q669.753 1098.24 669.753 1106.99 Q669.753 1115.72 666.675 1120.33 Q663.619 1124.91 657.809 1124.91 Q651.999 1124.91 648.92 1120.33 Q645.865 1115.72 645.865 1106.99 Q645.865 1098.24 648.92 1093.66 Q651.999 1089.05 657.809 1089.05 Z\" fill=\"#000000\" fill-rule=\"evenodd\" fill-opacity=\"1\" /><path clip-path=\"url(#clip600)\" d=\"M 0 0 M881.552 1089.68 L899.909 1089.68 L899.909 1093.62 L885.835 1093.62 L885.835 1102.09 Q886.853 1101.74 887.872 1101.58 Q888.89 1101.39 889.909 1101.39 Q895.696 1101.39 899.075 1104.56 Q902.455 1107.74 902.455 1113.15 Q902.455 1118.73 898.983 1121.83 Q895.511 1124.91 889.191 1124.91 Q887.015 1124.91 884.747 1124.54 Q882.501 1124.17 880.094 1123.43 L880.094 1118.73 Q882.177 1119.86 884.4 1120.42 Q886.622 1120.98 889.099 1120.98 Q893.103 1120.98 895.441 1118.87 Q897.779 1116.76 897.779 1113.15 Q897.779 1109.54 895.441 1107.43 Q893.103 1105.33 889.099 1105.33 Q887.224 1105.33 885.349 1105.74 Q883.497 1106.16 881.552 1107.04 L881.552 1089.68 Z\" fill=\"#000000\" fill-rule=\"evenodd\" fill-opacity=\"1\" /><path clip-path=\"url(#clip600)\" d=\"M 0 0 M1101.62 1120.3 L1109.25 1120.3 L1109.25 1093.94 L1100.94 1095.61 L1100.94 1091.35 L1109.21 1089.68 L1113.88 1089.68 L1113.88 1120.3 L1121.52 1120.3 L1121.52 1124.24 L1101.62 1124.24 L1101.62 1120.3 Z\" fill=\"#000000\" fill-rule=\"evenodd\" fill-opacity=\"1\" /><path clip-path=\"url(#clip600)\" d=\"M 0 0 M1136.59 1092.76 Q1132.98 1092.76 1131.15 1096.32 Q1129.35 1099.87 1129.35 1106.99 Q1129.35 1114.1 1131.15 1117.67 Q1132.98 1121.21 1136.59 1121.21 Q1140.23 1121.21 1142.03 1117.67 Q1143.86 1114.1 1143.86 1106.99 Q1143.86 1099.87 1142.03 1096.32 Q1140.23 1092.76 1136.59 1092.76 M1136.59 1089.05 Q1142.4 1089.05 1145.46 1093.66 Q1148.54 1098.24 1148.54 1106.99 Q1148.54 1115.72 1145.46 1120.33 Q1142.4 1124.91 1136.59 1124.91 Q1130.78 1124.91 1127.7 1120.33 Q1124.65 1115.72 1124.65 1106.99 Q1124.65 1098.24 1127.7 1093.66 Q1130.78 1089.05 1136.59 1089.05 Z\" fill=\"#000000\" fill-rule=\"evenodd\" fill-opacity=\"1\" /><polyline clip-path=\"url(#clip602)\" style=\"stroke:#000000; stroke-width:2; stroke-opacity:0.1; fill:none\" points=\"\n",
       "  162.862,1044.18 1152.76,1044.18 \n",
       "  \"/>\n",
       "<polyline clip-path=\"url(#clip602)\" style=\"stroke:#000000; stroke-width:2; stroke-opacity:0.1; fill:none\" points=\"\n",
       "  162.862,802.191 1152.76,802.191 \n",
       "  \"/>\n",
       "<polyline clip-path=\"url(#clip602)\" style=\"stroke:#000000; stroke-width:2; stroke-opacity:0.1; fill:none\" points=\"\n",
       "  162.862,560.206 1152.76,560.206 \n",
       "  \"/>\n",
       "<polyline clip-path=\"url(#clip602)\" style=\"stroke:#000000; stroke-width:2; stroke-opacity:0.1; fill:none\" points=\"\n",
       "  162.862,318.221 1152.76,318.221 \n",
       "  \"/>\n",
       "<polyline clip-path=\"url(#clip602)\" style=\"stroke:#000000; stroke-width:2; stroke-opacity:0.1; fill:none\" points=\"\n",
       "  162.862,76.2357 1152.76,76.2357 \n",
       "  \"/>\n",
       "<polyline clip-path=\"url(#clip600)\" style=\"stroke:#000000; stroke-width:4; stroke-opacity:1; fill:none\" points=\"\n",
       "  162.862,1073.17 162.862,47.2441 \n",
       "  \"/>\n",
       "<polyline clip-path=\"url(#clip600)\" style=\"stroke:#000000; stroke-width:4; stroke-opacity:1; fill:none\" points=\"\n",
       "  162.862,1044.18 174.741,1044.18 \n",
       "  \"/>\n",
       "<polyline clip-path=\"url(#clip600)\" style=\"stroke:#000000; stroke-width:4; stroke-opacity:1; fill:none\" points=\"\n",
       "  162.862,802.191 174.741,802.191 \n",
       "  \"/>\n",
       "<polyline clip-path=\"url(#clip600)\" style=\"stroke:#000000; stroke-width:4; stroke-opacity:1; fill:none\" points=\"\n",
       "  162.862,560.206 174.741,560.206 \n",
       "  \"/>\n",
       "<polyline clip-path=\"url(#clip600)\" style=\"stroke:#000000; stroke-width:4; stroke-opacity:1; fill:none\" points=\"\n",
       "  162.862,318.221 174.741,318.221 \n",
       "  \"/>\n",
       "<polyline clip-path=\"url(#clip600)\" style=\"stroke:#000000; stroke-width:4; stroke-opacity:1; fill:none\" points=\"\n",
       "  162.862,76.2357 174.741,76.2357 \n",
       "  \"/>\n",
       "<path clip-path=\"url(#clip600)\" d=\"M 0 0 M68.9365 1029.97 Q65.3254 1029.97 63.4967 1033.54 Q61.6912 1037.08 61.6912 1044.21 Q61.6912 1051.32 63.4967 1054.88 Q65.3254 1058.42 68.9365 1058.42 Q72.5707 1058.42 74.3763 1054.88 Q76.205 1051.32 76.205 1044.21 Q76.205 1037.08 74.3763 1033.54 Q72.5707 1029.97 68.9365 1029.97 M68.9365 1026.27 Q74.7467 1026.27 77.8022 1030.88 Q80.8809 1035.46 80.8809 1044.21 Q80.8809 1052.94 77.8022 1057.54 Q74.7467 1062.13 68.9365 1062.13 Q63.1264 1062.13 60.0477 1057.54 Q56.9921 1052.94 56.9921 1044.21 Q56.9921 1035.46 60.0477 1030.88 Q63.1264 1026.27 68.9365 1026.27 Z\" fill=\"#000000\" fill-rule=\"evenodd\" fill-opacity=\"1\" /><path clip-path=\"url(#clip600)\" d=\"M 0 0 M85.9503 1055.58 L90.8345 1055.58 L90.8345 1061.46 L85.9503 1061.46 L85.9503 1055.58 Z\" fill=\"#000000\" fill-rule=\"evenodd\" fill-opacity=\"1\" /><path clip-path=\"url(#clip600)\" d=\"M 0 0 M105.904 1029.97 Q102.293 1029.97 100.464 1033.54 Q98.6586 1037.08 98.6586 1044.21 Q98.6586 1051.32 100.464 1054.88 Q102.293 1058.42 105.904 1058.42 Q109.538 1058.42 111.344 1054.88 Q113.172 1051.32 113.172 1044.21 Q113.172 1037.08 111.344 1033.54 Q109.538 1029.97 105.904 1029.97 M105.904 1026.27 Q111.714 1026.27 114.77 1030.88 Q117.848 1035.46 117.848 1044.21 Q117.848 1052.94 114.77 1057.54 Q111.714 1062.13 105.904 1062.13 Q100.094 1062.13 97.0151 1057.54 Q93.9595 1052.94 93.9595 1044.21 Q93.9595 1035.46 97.0151 1030.88 Q100.094 1026.27 105.904 1026.27 Z\" fill=\"#000000\" fill-rule=\"evenodd\" fill-opacity=\"1\" /><path clip-path=\"url(#clip600)\" d=\"M 0 0 M132.918 1029.97 Q129.307 1029.97 127.478 1033.54 Q125.672 1037.08 125.672 1044.21 Q125.672 1051.32 127.478 1054.88 Q129.307 1058.42 132.918 1058.42 Q136.552 1058.42 138.357 1054.88 Q140.186 1051.32 140.186 1044.21 Q140.186 1037.08 138.357 1033.54 Q136.552 1029.97 132.918 1029.97 M132.918 1026.27 Q138.728 1026.27 141.783 1030.88 Q144.862 1035.46 144.862 1044.21 Q144.862 1052.94 141.783 1057.54 Q138.728 1062.13 132.918 1062.13 Q127.107 1062.13 124.029 1057.54 Q120.973 1052.94 120.973 1044.21 Q120.973 1035.46 124.029 1030.88 Q127.107 1026.27 132.918 1026.27 Z\" fill=\"#000000\" fill-rule=\"evenodd\" fill-opacity=\"1\" /><path clip-path=\"url(#clip600)\" d=\"M 0 0 M71.5291 787.99 Q67.918 787.99 66.0893 791.555 Q64.2838 795.096 64.2838 802.226 Q64.2838 809.332 66.0893 812.897 Q67.918 816.439 71.5291 816.439 Q75.1633 816.439 76.9689 812.897 Q78.7976 809.332 78.7976 802.226 Q78.7976 795.096 76.9689 791.555 Q75.1633 787.99 71.5291 787.99 M71.5291 784.286 Q77.3392 784.286 80.3948 788.893 Q83.4735 793.476 83.4735 802.226 Q83.4735 810.953 80.3948 815.559 Q77.3392 820.142 71.5291 820.142 Q65.7189 820.142 62.6402 815.559 Q59.5847 810.953 59.5847 802.226 Q59.5847 793.476 62.6402 788.893 Q65.7189 784.286 71.5291 784.286 Z\" fill=\"#000000\" fill-rule=\"evenodd\" fill-opacity=\"1\" /><path clip-path=\"url(#clip600)\" d=\"M 0 0 M88.5429 813.592 L93.4271 813.592 L93.4271 819.471 L88.5429 819.471 L88.5429 813.592 Z\" fill=\"#000000\" fill-rule=\"evenodd\" fill-opacity=\"1\" /><path clip-path=\"url(#clip600)\" d=\"M 0 0 M102.524 815.536 L118.844 815.536 L118.844 819.471 L96.8993 819.471 L96.8993 815.536 Q99.5613 812.781 104.145 808.152 Q108.751 803.499 109.932 802.156 Q112.177 799.633 113.057 797.897 Q113.959 796.138 113.959 794.448 Q113.959 791.693 112.015 789.957 Q110.094 788.221 106.992 788.221 Q104.793 788.221 102.339 788.985 Q99.9086 789.749 97.1308 791.3 L97.1308 786.578 Q99.9549 785.444 102.409 784.865 Q104.862 784.286 106.899 784.286 Q112.27 784.286 115.464 786.971 Q118.658 789.656 118.658 794.147 Q118.658 796.277 117.848 798.198 Q117.061 800.096 114.955 802.689 Q114.376 803.36 111.274 806.578 Q108.172 809.772 102.524 815.536 Z\" fill=\"#000000\" fill-rule=\"evenodd\" fill-opacity=\"1\" /><path clip-path=\"url(#clip600)\" d=\"M 0 0 M123.959 784.911 L142.316 784.911 L142.316 788.846 L128.242 788.846 L128.242 797.318 Q129.26 796.971 130.279 796.809 Q131.297 796.624 132.316 796.624 Q138.103 796.624 141.482 799.795 Q144.862 802.967 144.862 808.383 Q144.862 813.962 141.39 817.064 Q137.918 820.142 131.598 820.142 Q129.422 820.142 127.154 819.772 Q124.908 819.402 122.501 818.661 L122.501 813.962 Q124.584 815.096 126.807 815.652 Q129.029 816.207 131.506 816.207 Q135.51 816.207 137.848 814.101 Q140.186 811.994 140.186 808.383 Q140.186 804.772 137.848 802.666 Q135.51 800.559 131.506 800.559 Q129.631 800.559 127.756 800.976 Q125.904 801.393 123.959 802.272 L123.959 784.911 Z\" fill=\"#000000\" fill-rule=\"evenodd\" fill-opacity=\"1\" /><path clip-path=\"url(#clip600)\" d=\"M 0 0 M69.9319 546.005 Q66.3208 546.005 64.4921 549.569 Q62.6865 553.111 62.6865 560.241 Q62.6865 567.347 64.4921 570.912 Q66.3208 574.454 69.9319 574.454 Q73.5661 574.454 75.3717 570.912 Q77.2004 567.347 77.2004 560.241 Q77.2004 553.111 75.3717 549.569 Q73.5661 546.005 69.9319 546.005 M69.9319 542.301 Q75.742 542.301 78.7976 546.907 Q81.8763 551.491 81.8763 560.241 Q81.8763 568.968 78.7976 573.574 Q75.742 578.157 69.9319 578.157 Q64.1217 578.157 61.043 573.574 Q57.9875 568.968 57.9875 560.241 Q57.9875 551.491 61.043 546.907 Q64.1217 542.301 69.9319 542.301 Z\" fill=\"#000000\" fill-rule=\"evenodd\" fill-opacity=\"1\" /><path clip-path=\"url(#clip600)\" d=\"M 0 0 M86.9457 571.606 L91.8299 571.606 L91.8299 577.486 L86.9457 577.486 L86.9457 571.606 Z\" fill=\"#000000\" fill-rule=\"evenodd\" fill-opacity=\"1\" /><path clip-path=\"url(#clip600)\" d=\"M 0 0 M96.9456 542.926 L115.302 542.926 L115.302 546.861 L101.228 546.861 L101.228 555.333 Q102.247 554.986 103.265 554.824 Q104.284 554.639 105.302 554.639 Q111.089 554.639 114.469 557.81 Q117.848 560.981 117.848 566.398 Q117.848 571.977 114.376 575.079 Q110.904 578.157 104.584 578.157 Q102.409 578.157 100.14 577.787 Q97.8947 577.417 95.4873 576.676 L95.4873 571.977 Q97.5706 573.111 99.7928 573.667 Q102.015 574.222 104.492 574.222 Q108.496 574.222 110.834 572.116 Q113.172 570.009 113.172 566.398 Q113.172 562.787 110.834 560.681 Q108.496 558.574 104.492 558.574 Q102.617 558.574 100.742 558.991 Q98.89 559.407 96.9456 560.287 L96.9456 542.926 Z\" fill=\"#000000\" fill-rule=\"evenodd\" fill-opacity=\"1\" /><path clip-path=\"url(#clip600)\" d=\"M 0 0 M132.918 546.005 Q129.307 546.005 127.478 549.569 Q125.672 553.111 125.672 560.241 Q125.672 567.347 127.478 570.912 Q129.307 574.454 132.918 574.454 Q136.552 574.454 138.357 570.912 Q140.186 567.347 140.186 560.241 Q140.186 553.111 138.357 549.569 Q136.552 546.005 132.918 546.005 M132.918 542.301 Q138.728 542.301 141.783 546.907 Q144.862 551.491 144.862 560.241 Q144.862 568.968 141.783 573.574 Q138.728 578.157 132.918 578.157 Q127.107 578.157 124.029 573.574 Q120.973 568.968 120.973 560.241 Q120.973 551.491 124.029 546.907 Q127.107 542.301 132.918 542.301 Z\" fill=\"#000000\" fill-rule=\"evenodd\" fill-opacity=\"1\" /><path clip-path=\"url(#clip600)\" d=\"M 0 0 M70.8346 304.02 Q67.2236 304.02 65.3949 307.584 Q63.5893 311.126 63.5893 318.256 Q63.5893 325.362 65.3949 328.927 Q67.2236 332.468 70.8346 332.468 Q74.4689 332.468 76.2744 328.927 Q78.1031 325.362 78.1031 318.256 Q78.1031 311.126 76.2744 307.584 Q74.4689 304.02 70.8346 304.02 M70.8346 300.316 Q76.6448 300.316 79.7003 304.922 Q82.779 309.506 82.779 318.256 Q82.779 326.982 79.7003 331.589 Q76.6448 336.172 70.8346 336.172 Q65.0245 336.172 61.9458 331.589 Q58.8903 326.982 58.8903 318.256 Q58.8903 309.506 61.9458 304.922 Q65.0245 300.316 70.8346 300.316 Z\" fill=\"#000000\" fill-rule=\"evenodd\" fill-opacity=\"1\" /><path clip-path=\"url(#clip600)\" d=\"M 0 0 M87.8484 329.621 L92.7327 329.621 L92.7327 335.501 L87.8484 335.501 L87.8484 329.621 Z\" fill=\"#000000\" fill-rule=\"evenodd\" fill-opacity=\"1\" /><path clip-path=\"url(#clip600)\" d=\"M 0 0 M96.6215 300.941 L118.844 300.941 L118.844 302.932 L106.297 335.501 L101.413 335.501 L113.219 304.876 L96.6215 304.876 L96.6215 300.941 Z\" fill=\"#000000\" fill-rule=\"evenodd\" fill-opacity=\"1\" /><path clip-path=\"url(#clip600)\" d=\"M 0 0 M123.959 300.941 L142.316 300.941 L142.316 304.876 L128.242 304.876 L128.242 313.348 Q129.26 313.001 130.279 312.839 Q131.297 312.654 132.316 312.654 Q138.103 312.654 141.482 315.825 Q144.862 318.996 144.862 324.413 Q144.862 329.992 141.39 333.093 Q137.918 336.172 131.598 336.172 Q129.422 336.172 127.154 335.802 Q124.908 335.431 122.501 334.691 L122.501 329.992 Q124.584 331.126 126.807 331.681 Q129.029 332.237 131.506 332.237 Q135.51 332.237 137.848 330.131 Q140.186 328.024 140.186 324.413 Q140.186 320.802 137.848 318.695 Q135.51 316.589 131.506 316.589 Q129.631 316.589 127.756 317.006 Q125.904 317.422 123.959 318.302 L123.959 300.941 Z\" fill=\"#000000\" fill-rule=\"evenodd\" fill-opacity=\"1\" /><path clip-path=\"url(#clip600)\" d=\"M 0 0 M60.9736 89.5806 L68.6124 89.5806 L68.6124 63.215 L60.3023 64.8816 L60.3023 60.6224 L68.5661 58.9557 L73.242 58.9557 L73.242 89.5806 L80.8809 89.5806 L80.8809 93.5157 L60.9736 93.5157 L60.9736 89.5806 Z\" fill=\"#000000\" fill-rule=\"evenodd\" fill-opacity=\"1\" /><path clip-path=\"url(#clip600)\" d=\"M 0 0 M85.9503 87.6361 L90.8345 87.6361 L90.8345 93.5157 L85.9503 93.5157 L85.9503 87.6361 Z\" fill=\"#000000\" fill-rule=\"evenodd\" fill-opacity=\"1\" /><path clip-path=\"url(#clip600)\" d=\"M 0 0 M105.904 62.0344 Q102.293 62.0344 100.464 65.5992 Q98.6586 69.1409 98.6586 76.2705 Q98.6586 83.3769 100.464 86.9417 Q102.293 90.4833 105.904 90.4833 Q109.538 90.4833 111.344 86.9417 Q113.172 83.3769 113.172 76.2705 Q113.172 69.1409 111.344 65.5992 Q109.538 62.0344 105.904 62.0344 M105.904 58.3307 Q111.714 58.3307 114.77 62.9372 Q117.848 67.5205 117.848 76.2705 Q117.848 84.9973 114.77 89.6037 Q111.714 94.187 105.904 94.187 Q100.094 94.187 97.0151 89.6037 Q93.9595 84.9973 93.9595 76.2705 Q93.9595 67.5205 97.0151 62.9372 Q100.094 58.3307 105.904 58.3307 Z\" fill=\"#000000\" fill-rule=\"evenodd\" fill-opacity=\"1\" /><path clip-path=\"url(#clip600)\" d=\"M 0 0 M132.918 62.0344 Q129.307 62.0344 127.478 65.5992 Q125.672 69.1409 125.672 76.2705 Q125.672 83.3769 127.478 86.9417 Q129.307 90.4833 132.918 90.4833 Q136.552 90.4833 138.357 86.9417 Q140.186 83.3769 140.186 76.2705 Q140.186 69.1409 138.357 65.5992 Q136.552 62.0344 132.918 62.0344 M132.918 58.3307 Q138.728 58.3307 141.783 62.9372 Q144.862 67.5205 144.862 76.2705 Q144.862 84.9973 141.783 89.6037 Q138.728 94.187 132.918 94.187 Q127.107 94.187 124.029 89.6037 Q120.973 84.9973 120.973 76.2705 Q120.973 67.5205 124.029 62.9372 Q127.107 58.3307 132.918 58.3307 Z\" fill=\"#000000\" fill-rule=\"evenodd\" fill-opacity=\"1\" /><polyline clip-path=\"url(#clip602)\" style=\"stroke:#009af9; stroke-width:4; stroke-opacity:1; fill:none\" points=\"\n",
       "  190.878,1044.13 237.571,1044.06 284.264,1043.85 330.957,1043.29 377.65,1041.78 424.343,1037.7 471.037,1026.77 517.73,998.271 564.423,928.795 611.116,783.857 \n",
       "  657.809,560.206 704.502,336.555 751.195,191.617 797.888,122.141 844.581,93.6453 891.275,82.714 937.968,78.6291 984.661,77.1176 1031.35,76.5603 1078.05,76.3552 \n",
       "  1124.74,76.2797 \n",
       "  \"/>\n",
       "</svg>\n"
      ]
     },
     "execution_count": 4,
     "metadata": {},
     "output_type": "execute_result"
    }
   ],
   "source": [
    "sigmoid(z) = 1 ./ (1 .+ exp.(-z))\n",
    "\n",
    "# teste da função\n",
    "a = -10:10\n",
    "b = sigmoid(a)\n",
    "plot(a, b, legend=false, size=(300,300))"
   ]
  },
  {
   "cell_type": "code",
   "execution_count": 5,
   "id": "08b15fac",
   "metadata": {},
   "outputs": [
    {
     "data": {
      "text/plain": [
       "10-element Array{Any,1}:\n",
       "  0.9423306842377435\n",
       "  1.7134921714900784\n",
       "  3.086508186303156\n",
       "  4.698948573118682\n",
       "  6.354064329552007\n",
       "  8.015403008216946\n",
       "  9.67771010330214\n",
       " 11.340177197658974\n",
       " 13.002671521428283\n",
       " 14.665170537878698"
      ]
     },
     "metadata": {},
     "output_type": "display_data"
    }
   ],
   "source": [
    "function train_logistic(X, y, learning_rate = 0.1, epochs = 5000)\n",
    "\n",
    "    N, d = size(X)\n",
    "    Xe = hcat(ones(N), X)      # add ones to first column\n",
    "\n",
    "    rng = Random.seed!(9)      # generate seed\n",
    "    w0 = randn(rng, d+1)       # generate random initial w vector\n",
    "    \n",
    "    wt = copy(w0)\n",
    "    w_history = Vector{Matrix{Float64}}()\n",
    "    cross_entropy_loss_history = []         # = Vector{Float64}()\n",
    "    \n",
    "    for t in 1:epochs\n",
    "        loss_t = cross_entropy_loss(wt, Xe, y)   # calculate the error\n",
    "        \n",
    "        push!(w_history, wt')\n",
    "        push!(cross_entropy_loss_history, loss_t)\n",
    "        \n",
    "        gt = cross_entropy_gradient(wt, Xe, y)   # get the gradient\n",
    "        vt = -gt                                 # get the descent gradient\n",
    "        wt = wt + learning_rate .* vt            # compute the weight\n",
    "    end\n",
    "    \n",
    "    w = w_history[argmin(cross_entropy_loss_history)]'   # get the final weight which equals minimum error\n",
    "    \n",
    "    return (w, w_history, cross_entropy_loss_history)\n",
    "end\n",
    "\n",
    "# teste da função\n",
    "w_logistic, w_history, cross_entropy_loss_history = train_logistic(X_teste, y_teste, 0.1, 10)\n",
    "#display(w_logistic)\n",
    "#display(w_history)\n",
    "display(cross_entropy_loss_history)"
   ]
  },
  {
   "cell_type": "code",
   "execution_count": 6,
   "id": "028b80f4",
   "metadata": {},
   "outputs": [
    {
     "data": {
      "text/plain": [
       "4-element Array{Float64,1}:\n",
       " 0.36415713997313365\n",
       " 0.5464991148634797\n",
       " 0.08046940511407982\n",
       " 0.9854468597627305"
      ]
     },
     "execution_count": 6,
     "metadata": {},
     "output_type": "execute_result"
    }
   ],
   "source": [
    "function predict_logistic(w, X)\n",
    "    N  = size(X)[1]\n",
    "    Xe = hcat(ones(N), X)\n",
    "    p  = sigmoid(Xe * w)\n",
    "end\n",
    "\n",
    "# teste da função\n",
    "rng = Random.seed!(1)\n",
    "w_teste = randn(rng, d+1)\n",
    "predict_logistic(w_teste, X_teste)"
   ]
  },
  {
   "cell_type": "markdown",
   "id": "efd755cd",
   "metadata": {},
   "source": [
    "### Create blobs"
   ]
  },
  {
   "cell_type": "code",
   "execution_count": null,
   "id": "33d16077",
   "metadata": {},
   "outputs": [],
   "source": [
    "N = 300\n",
    "X, y = make_blobs(N, 2; centers=2, cluster_std = 1, rng=6)\n",
    "X = DataFrame(X) |> Array\n",
    "y[ y .== 2 ] .= -1\n",
    "y = y |> Array\n",
    "y = y * 1.0\n",
    "\n",
    "scatter(X[y .== 1, 1], X[y .== 1, 2], markercolor = \"blue\", label = \"+1\", legend = :topleft, size=(300,300))\n",
    "scatter!(X[y .== -1, 1], X[y .== -1, 2],  markercolor = \"red\",  label = \"-1\")"
   ]
  },
  {
   "cell_type": "code",
   "execution_count": null,
   "id": "5fbc6b38",
   "metadata": {},
   "outputs": [],
   "source": [
    "epochs = 500\n",
    "wl, w_history, loss_history = train_logistic(X, y, 1e-2, epochs)\n",
    "ind = argmin(loss_history)\n",
    "\n",
    "println(\"Iteração p/ erro mínimo: \", ind)\n",
    "println(\"Erro mínimo: \", loss_history[ind])\n",
    "println(\"Weight para erro mínimo: \", wl)\n",
    "\n",
    "plot(1:epochs, loss_history, legend=false, xlabel = \"Epochs\", ylabel = \"Error\", size=(400,400))"
   ]
  },
  {
   "cell_type": "code",
   "execution_count": null,
   "id": "088470ac",
   "metadata": {},
   "outputs": [],
   "source": [
    "function p_to_y(p, threshold = 0.5)\n",
    "    ŷ = [ (i > threshold ? 1 : -1) for i in p]\n",
    "    ŷ = vec(ŷ)  # transforma array (N,1) em (N,)\n",
    "end\n",
    "\n",
    "p = predict_logistic(wl, X)\n",
    "ŷ = p_to_y(p)\n",
    "size(ŷ)"
   ]
  },
  {
   "cell_type": "code",
   "execution_count": null,
   "id": "c0abdd8d",
   "metadata": {},
   "outputs": [],
   "source": [
    "# ground truth plot\n",
    "p1 = scatter(X[y .== 1, 1], X[y .== 1, 2], markercolor = \"blue\", label = \"+1\", )\n",
    "p1 = scatter!(X[y .== -1, 1], X[y .== -1, 2],  markercolor = \"red\",  label = \"-1\")\n",
    "p1 = title!(\"Ground truth\")\n",
    "\n",
    "# prediction plot\n",
    "p2 = scatter(X[ŷ .== 1, 1], X[ŷ .== 1, 2], markercolor = \"blue\", label = \"+1\")\n",
    "p2 = scatter!(X[ŷ .== -1, 1], X[ŷ .== -1, 2],  markercolor = \"red\",  label = \"-1\")\n",
    "p2 = title!(\"Prediction\")\n",
    "\n",
    "# add hyperplane to prediction plot\n",
    "x1min = minimum(X[:,1])   # min() max() não funciona com arrays, apenas com listas\n",
    "x1max = maximum(X[:,1])\n",
    "x2min = minimum(X[:,2])\n",
    "x2max = maximum(X[:,2])\n",
    "\n",
    "d1 = (x1min, -(wl[1] + (x1min)*wl[2])/wl[3])\n",
    "d2 = (x1max, -(wl[1] + (x1max)*wl[2])/wl[3])\n",
    "p2 = plot!([d1, d2], width=2, label=false)\n",
    "\n",
    "# show all plots\n",
    "plot(p1, p2, layout=(1,2), legend=:topleft)"
   ]
  },
  {
   "cell_type": "code",
   "execution_count": null,
   "id": "8c90ddf5",
   "metadata": {},
   "outputs": [],
   "source": []
  }
 ],
 "metadata": {
  "kernelspec": {
   "display_name": "Julia 1.4.1",
   "language": "julia",
   "name": "julia-1.4"
  },
  "language_info": {
   "file_extension": ".jl",
   "mimetype": "application/julia",
   "name": "julia",
   "version": "1.4.1"
  }
 },
 "nbformat": 4,
 "nbformat_minor": 5
}
