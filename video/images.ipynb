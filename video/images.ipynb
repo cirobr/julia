{
 "cells": [
  {
   "cell_type": "markdown",
   "id": "f199b238",
   "metadata": {},
   "source": [
    "### Images"
   ]
  },
  {
   "cell_type": "code",
   "execution_count": null,
   "id": "c98c6618",
   "metadata": {},
   "outputs": [],
   "source": [
    "#libraries\n",
    "using Images\n",
    "using OpenCV;                 cv  = OpenCV\n",
    "using PreprocessingImages;    pim = PreprocessingImages\n",
    "\n",
    "using PyCall\n",
    "ros = pyimport(\"rosbag\")      # ros.Bag.read_messages()\n",
    "cvb = pyimport(\"cv_bridge\")   # cvb.CvBridge.imgmsg_to_cv2()"
   ]
  },
  {
   "cell_type": "code",
   "execution_count": null,
   "id": "fa05ff2f",
   "metadata": {},
   "outputs": [],
   "source": [
    "# open bagfile\n",
    "folder   = expanduser(\"~/bags/\")\n",
    "bagfile  = \"video1.bag\"\n",
    "fullpathBagfile = folder * bagfile"
   ]
  },
  {
   "cell_type": "code",
   "execution_count": null,
   "id": "34a008a3",
   "metadata": {},
   "outputs": [],
   "source": [
    "# extract first frame from bagfile\n",
    "desiredTopic  = \"/device_0/sensor_1/Color_0/image/data\"\n",
    "bag    = ros.Bag(fullpathBagfile, \"r\")   # read file\n",
    "bridge = cvb.CvBridge()\n",
    "\n",
    "global imgrgb, imgcv\n",
    "for (topic, msg, t) in bag.read_messages()\n",
    "    if topic != desiredTopic   continue   end\n",
    "\n",
    "    img = bridge.imgmsg_to_cv2(msg, desired_encoding=\"rgb8\")   # Array{UInt8, 3} HWC\n",
    "    imgrgb = pim.rs2rgb(img)\n",
    "    imgcv  = pim.rs2opencv(img)\n",
    "    break\n",
    "end\n",
    "\n",
    "bag.close()"
   ]
  },
  {
   "cell_type": "markdown",
   "id": "62f08fe1",
   "metadata": {},
   "source": [
    "#### rgb"
   ]
  },
  {
   "cell_type": "code",
   "execution_count": null,
   "id": "40288086",
   "metadata": {},
   "outputs": [],
   "source": [
    "size(imgrgb), typeof(imgrgb), eltype(imgrgb)"
   ]
  },
  {
   "cell_type": "code",
   "execution_count": null,
   "id": "b1736441",
   "metadata": {},
   "outputs": [],
   "source": [
    "# save as png\n",
    "save(\"pict.png\", imgrgb)"
   ]
  },
  {
   "cell_type": "code",
   "execution_count": null,
   "id": "74fd5fa2",
   "metadata": {},
   "outputs": [],
   "source": [
    "# load png file\n",
    "imgload = load(\"pict.png\")\n",
    "size(imgload), typeof(imgload)"
   ]
  },
  {
   "cell_type": "code",
   "execution_count": null,
   "id": "b00a7774",
   "metadata": {},
   "outputs": [],
   "source": [
    "mosaicview(imgrgb, imgload; nrow=1)"
   ]
  },
  {
   "cell_type": "markdown",
   "id": "0e366aff",
   "metadata": {},
   "source": [
    "#### opencv"
   ]
  },
  {
   "cell_type": "code",
   "execution_count": null,
   "id": "3881cfd1",
   "metadata": {},
   "outputs": [],
   "source": [
    "size(imgcv), typeof(imgcv), eltype(imgcv)"
   ]
  },
  {
   "cell_type": "code",
   "execution_count": null,
   "id": "e2001c77",
   "metadata": {},
   "outputs": [],
   "source": [
    "# show opencv file\n",
    "cv.imshow(\"Vakinha\", imgcv)\n",
    "cv.waitKey( Int32(0) )\n",
    "cv.destroyWindow(\"Vakinha\")"
   ]
  },
  {
   "cell_type": "code",
   "execution_count": null,
   "id": "89a4e3c2",
   "metadata": {},
   "outputs": [],
   "source": [
    "im=pim.rgb2opencv(imgload)\n",
    "size(im), typeof(im), eltype(im)"
   ]
  },
  {
   "cell_type": "code",
   "execution_count": null,
   "id": "f073813e",
   "metadata": {},
   "outputs": [],
   "source": [
    "# show opencv file\n",
    "cv.imshow(\"Vakinha\", im)\n",
    "cv.waitKey( Int32(0) )\n",
    "cv.destroyWindow(\"Vakinha\")"
   ]
  }
 ],
 "metadata": {
  "kernelspec": {
   "display_name": "Julia 1.6.7",
   "language": "julia",
   "name": "julia-1.6"
  },
  "language_info": {
   "file_extension": ".jl",
   "mimetype": "application/julia",
   "name": "julia",
   "version": "1.6.7"
  }
 },
 "nbformat": 4,
 "nbformat_minor": 5
}
