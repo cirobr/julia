{
 "cells": [
  {
   "cell_type": "markdown",
   "id": "417f0150",
   "metadata": {},
   "source": [
    "## ffmpeg"
   ]
  },
  {
   "cell_type": "code",
   "execution_count": null,
   "id": "fa05ff2f",
   "metadata": {},
   "outputs": [],
   "source": [
    "folder  = \"../../bags/video\"\n",
    "pngFile = \"img1.png\"\n",
    "fullPath = string.(folder, \"/\", pngFile)"
   ]
  },
  {
   "cell_type": "code",
   "execution_count": null,
   "id": "57800429",
   "metadata": {},
   "outputs": [],
   "source": [
    "# type on terminal:\n",
    "# ffmpeg -framerate 25 -i ./bags/video/img%d.png -y video.mp4"
   ]
  },
  {
   "cell_type": "code",
   "execution_count": null,
   "id": "3b653ea3",
   "metadata": {},
   "outputs": [],
   "source": [
    "# execute ffmpeg externally\n",
    "cmd = `ffmpeg -framerate 25 -i ../../bags/video/img%d.png -y video.mp4`   # crase\n",
    "run(cmd);"
   ]
  }
 ],
 "metadata": {
  "kernelspec": {
   "display_name": "Julia 1.6.5",
   "language": "julia",
   "name": "julia-1.6"
  },
  "language_info": {
   "file_extension": ".jl",
   "mimetype": "application/julia",
   "name": "julia",
   "version": "1.6.5"
  }
 },
 "nbformat": 4,
 "nbformat_minor": 5
}
