{
 "cells": [
  {
   "cell_type": "markdown",
   "id": "099ce03b",
   "metadata": {},
   "source": [
    "### Distributions"
   ]
  },
  {
   "cell_type": "code",
   "execution_count": null,
   "id": "7561f657",
   "metadata": {},
   "outputs": [],
   "source": [
    "# using Pkg\n",
    "using Distributions\n",
    "using Plots\n",
    "using Random\n"
   ]
  },
  {
   "cell_type": "code",
   "execution_count": null,
   "id": "f5195864",
   "metadata": {},
   "outputs": [],
   "source": [
    "Random.seed!(123)\n",
    "\n",
    "d = Normal(0, 1)\n",
    "x = rand(d, 500)\n",
    "histogram(x, title = \"My Histogram\")\n"
   ]
  },
  {
   "cell_type": "code",
   "execution_count": null,
   "id": "228d8ed9",
   "metadata": {},
   "outputs": [],
   "source": [
    "y = rand(Normal(0, 1), 500)\n",
    "scatter(x, y)\n",
    "\n",
    "gr()\n",
    "x = 1:100; y = rand(100, 4)\n",
    "plot(x, y, seriestype = :scatter, title = \"My Scatter Plot\")\n"
   ]
  }
 ],
 "metadata": {
  "kernelspec": {
   "display_name": "Julia 1.6.6",
   "language": "julia",
   "name": "julia-1.6"
  },
  "language_info": {
   "file_extension": ".jl",
   "mimetype": "application/julia",
   "name": "julia",
   "version": "1.6.6"
  }
 },
 "nbformat": 4,
 "nbformat_minor": 5
}
