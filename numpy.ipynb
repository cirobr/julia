{
 "cells": [
  {
   "cell_type": "markdown",
   "id": "9d2534bc",
   "metadata": {},
   "source": [
    "### Numpy call"
   ]
  },
  {
   "cell_type": "code",
   "execution_count": null,
   "id": "f899e2a9",
   "metadata": {},
   "outputs": [],
   "source": [
    "# Pkg.add(\"PyCall\")\n",
    "using PyCall\n",
    "np = pyimport(\"numpy\")\n",
    "\n",
    "a = np.ones(100)\n",
    "s = np.sum(a)\n",
    "println(\"Soma do vetor a: \", s)"
   ]
  },
  {
   "cell_type": "code",
   "execution_count": null,
   "id": "b543d3eb",
   "metadata": {},
   "outputs": [],
   "source": [
    "b = np.ones((10, 10))\n"
   ]
  }
 ],
 "metadata": {
  "kernelspec": {
   "display_name": "Julia 1.6.6",
   "language": "julia",
   "name": "julia-1.6"
  },
  "language_info": {
   "file_extension": ".jl",
   "mimetype": "application/julia",
   "name": "julia",
   "version": "1.4.1"
  }
 },
 "nbformat": 4,
 "nbformat_minor": 5
}
