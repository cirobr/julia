{
 "cells": [
  {
   "cell_type": "markdown",
   "id": "e145f758",
   "metadata": {},
   "source": [
    "# PCA + Standardizer with MNIST\n"
   ]
  },
  {
   "cell_type": "markdown",
   "id": "5f262ba3",
   "metadata": {},
   "source": [
    "## Libraries"
   ]
  },
  {
   "cell_type": "code",
   "execution_count": 1,
   "id": "d63e87f2",
   "metadata": {},
   "outputs": [],
   "source": [
    "# libraries\n",
    "#using CUDA\n",
    "\n",
    "using Flux              # the julia ml library\n",
    "using Images            # image processing and machine vision for julia\n",
    "\n",
    "using MLJ               # make_blobs, rmse, confmat, f1score, coerce\n",
    "#using MLJFlux           # NeuralNetworkClassifier, CUDALibs\n",
    "using MLDataUtils       # label, nlabel, labelfreq, stratifiedobs\n",
    "using MLDatasets        # mnist\n",
    "\n",
    "#using LinearAlgebra     # pinv pseudo-inverse matrix\n",
    "#using Metrics           # r2-score\n",
    "using Random\n",
    "#using StatsBase         # standardize (normalization)\n",
    "#using Distributions\n",
    "\n",
    "using Plots; gr()\n",
    "using StatsPlots\n",
    "using Printf\n",
    "\n",
    "using CSV\n",
    "using DataFrames\n"
   ]
  },
  {
   "cell_type": "markdown",
   "id": "d53a09fe",
   "metadata": {},
   "source": [
    "## Functions"
   ]
  },
  {
   "cell_type": "code",
   "execution_count": 2,
   "id": "53255360",
   "metadata": {},
   "outputs": [
    {
     "data": {
      "text/plain": [
       "batchImage2DF (generic function with 1 method)"
      ]
     },
     "execution_count": 2,
     "metadata": {},
     "output_type": "execute_result"
    }
   ],
   "source": [
    "image2Vector(M) = vec( Float32.(M) )   # 32-bits is faster on GPU\n",
    "\n",
    "function batchImage2Vector(imagesArray3D)\n",
    "    h, v, N = size(imagesArray3D)\n",
    "    vectorOfImageVectors = [ image2Vector( imagesArray3D[:, :, i] ) for i in 1:N]\n",
    "end\n",
    "\n",
    "function batchImage2Matrix(imagesArray3D)\n",
    "    vectorOfImageVectors = batchImage2Vector(imagesArray3D)\n",
    "    M = reduce(hcat, vectorOfImageVectors)\n",
    "    M'\n",
    "end\n",
    "\n",
    "function batchImage2DF(imagesArray3D)\n",
    "    M = batchImage2Matrix(imagesArray3D)\n",
    "    DataFrame(M, :auto)\n",
    "end\n"
   ]
  },
  {
   "cell_type": "code",
   "execution_count": 3,
   "id": "66ccdfa6",
   "metadata": {},
   "outputs": [
    {
     "data": {
      "text/plain": [
       "printMetrics (generic function with 1 method)"
      ]
     },
     "execution_count": 3,
     "metadata": {},
     "output_type": "execute_result"
    }
   ],
   "source": [
    "# metrics\n",
    "function printMetrics(ŷ, y)\n",
    "    display(confmat(ŷ, y))\n",
    "    println(\"accuracy: \", round(accuracy(ŷ, y); digits=3))\n",
    "    println(\"f1-score: \", round(multiclass_f1score(ŷ, y); digits=3))\n",
    "end\n"
   ]
  },
  {
   "cell_type": "markdown",
   "id": "8903cf71",
   "metadata": {},
   "source": [
    "## Dataset"
   ]
  },
  {
   "cell_type": "code",
   "execution_count": 4,
   "id": "4bd90da6",
   "metadata": {},
   "outputs": [],
   "source": [
    "# load mnist from MLDatasets\n",
    "trainX_original,      trainY_original      = MNIST.traindata()\n",
    "validationX_original, validationY_original = MNIST.testdata();\n"
   ]
  },
  {
   "cell_type": "code",
   "execution_count": 5,
   "id": "7f2acc6e",
   "metadata": {},
   "outputs": [
    {
     "data": {
      "text/plain": [
       "((28, 28, 42001), (28, 28, 17999), (28, 28, 10000))"
      ]
     },
     "execution_count": 5,
     "metadata": {},
     "output_type": "execute_result"
    }
   ],
   "source": [
    "# split trainset, testset, validation set\n",
    "Random.seed!(1)\n",
    "(trainX, trainY), (testX, testY) = stratifiedobs((trainX_original, trainY_original), p = 0.7)\n",
    "validationX = copy(validationX_original); validationY = copy(validationY_original)\n",
    "\n",
    "size(trainX), size(testX), size(validationX)"
   ]
  },
  {
   "cell_type": "markdown",
   "id": "b8b9c3b0",
   "metadata": {},
   "source": [
    "## Preprocessing\n"
   ]
  },
  {
   "cell_type": "code",
   "execution_count": 6,
   "id": "f76c815d",
   "metadata": {},
   "outputs": [],
   "source": [
    "function preprocess(X, y)\n",
    "    newX = batchImage2DF(X)\n",
    "    #coerce!(newX)   # no need, all scitypes are Continuous in this example\n",
    "    new_y = coerce(y, OrderedFactor)\n",
    "    \n",
    "    return (newX, new_y)\n",
    "end\n",
    "\n",
    "X, y = preprocess(trainX, trainY);"
   ]
  },
  {
   "cell_type": "code",
   "execution_count": 7,
   "id": "a82db1c6",
   "metadata": {},
   "outputs": [
    {
     "data": {
      "text/plain": [
       "Table{AbstractVector{Continuous}}"
      ]
     },
     "execution_count": 7,
     "metadata": {},
     "output_type": "execute_result"
    }
   ],
   "source": [
    "scitype(X)"
   ]
  },
  {
   "cell_type": "code",
   "execution_count": 8,
   "id": "4724874c",
   "metadata": {},
   "outputs": [
    {
     "data": {
      "text/plain": [
       "AbstractVector{OrderedFactor{10}} (alias for AbstractArray{OrderedFactor{10}, 1})"
      ]
     },
     "execution_count": 8,
     "metadata": {},
     "output_type": "execute_result"
    }
   ],
   "source": [
    "scitype(y)"
   ]
  },
  {
   "cell_type": "markdown",
   "id": "e26954e9",
   "metadata": {},
   "source": [
    "## Reduce dimensions and standardize"
   ]
  },
  {
   "cell_type": "code",
   "execution_count": 9,
   "id": "45c625d9",
   "metadata": {
    "scrolled": true
   },
   "outputs": [
    {
     "data": {
      "text/plain": [
       "\u001b[35mC-Support Vector Classification.\u001b[39m\n",
       "\u001b[35m→ based on [ScikitLearn](https://github.com/cstjean/ScikitLearn.jl).\u001b[39m\n",
       "\u001b[35m→ do `@load SVMClassifier pkg=\"ScikitLearn\"` to use the model.\u001b[39m\n",
       "\u001b[35m→ do `?SVMClassifier` for documentation.\u001b[39m\n",
       "(name = \"SVMClassifier\",\n",
       " package_name = \"ScikitLearn\",\n",
       " is_supervised = true,\n",
       " abstract_type = Deterministic,\n",
       " deep_properties = (),\n",
       " docstring =\n",
       "     \"\"\"\n",
       "     C-Support Vector Classification.\n",
       "     → based on [ScikitLearn](https://github.com/cstjean/ScikitLearn.jl).\n",
       "     → do `@load SVMClassifier pkg=\"ScikitLearn\"` to use the model.\n",
       "     → do `?SVMClassifier` for documentation.\"\"\",\n",
       " fit_data_scitype =\n",
       "     Tuple{Table{_s28} where _s28<:(AbstractVector{_s29} where _s29<:Continuous), AbstractVector{_s1162} where _s1162<:Finite},\n",
       " hyperparameter_ranges = (nothing,\n",
       "                          nothing,\n",
       "                          nothing,\n",
       "                          nothing,\n",
       "                          nothing,\n",
       "                          nothing,\n",
       "                          nothing,\n",
       "                          nothing,\n",
       "                          nothing,\n",
       "                          nothing,\n",
       "                          nothing),\n",
       " hyperparameter_types = (\"Float64\",\n",
       "                         \"Union{Function, String}\",\n",
       "                         \"Int64\",\n",
       "                         \"Union{Float64, String}\",\n",
       "                         \"Float64\",\n",
       "                         \"Bool\",\n",
       "                         \"Float64\",\n",
       "                         \"Int64\",\n",
       "                         \"Int64\",\n",
       "                         \"String\",\n",
       "                         \"Any\"),\n",
       " hyperparameters = (:C,\n",
       "                    :kernel,\n",
       "                    :degree,\n",
       "                    :gamma,\n",
       "                    :coef0,\n",
       "                    :shrinking,\n",
       "                    :tol,\n",
       "                    :cache_size,\n",
       "                    :max_iter,\n",
       "                    :decision_function_shape,\n",
       "                    :random_state),\n",
       " implemented_methods = [:clean!, :fit, :fitted_params, :predict],\n",
       " inverse_transform_scitype = Unknown,\n",
       " is_pure_julia = false,\n",
       " is_wrapper = false,\n",
       " iteration_parameter = nothing,\n",
       " load_path = \"MLJScikitLearnInterface.SVMClassifier\",\n",
       " package_license = \"BSD\",\n",
       " package_url = \"https://github.com/cstjean/ScikitLearn.jl\",\n",
       " package_uuid = \"3646fa90-6ef7-5e7e-9f22-8aca16db6324\",\n",
       " predict_scitype = AbstractVector{_s1162} where _s1162<:Finite,\n",
       " prediction_type = :deterministic,\n",
       " supports_class_weights = false,\n",
       " supports_online = false,\n",
       " supports_training_losses = false,\n",
       " supports_weights = false,\n",
       " transform_scitype = Unknown,\n",
       " input_scitype =\n",
       "     Table{_s28} where _s28<:(AbstractVector{_s29} where _s29<:Continuous),\n",
       " target_scitype = AbstractVector{_s1162} where _s1162<:Finite,\n",
       " output_scitype = Unknown)"
      ]
     },
     "execution_count": 9,
     "metadata": {},
     "output_type": "execute_result"
    }
   ],
   "source": [
    "models(\"SVMClass\")[1]"
   ]
  },
  {
   "cell_type": "code",
   "execution_count": 14,
   "id": "84b424c5",
   "metadata": {},
   "outputs": [
    {
     "name": "stdout",
     "output_type": "stream",
     "text": [
      "import MLJScikitLearnInterface ✔\n"
     ]
    },
    {
     "name": "stderr",
     "output_type": "stream",
     "text": [
      "┌ Info: For silent loading, specify `verbosity=0`. \n",
      "└ @ Main /home/ciro/.julia/packages/MLJModels/EhaRK/src/loading.jl:168\n"
     ]
    },
    {
     "data": {
      "text/plain": [
       "SVMClassifier(\n",
       "    C = 1.0,\n",
       "    kernel = \"rbf\",\n",
       "    degree = 3,\n",
       "    gamma = \"auto\",\n",
       "    coef0 = 0.0,\n",
       "    shrinking = true,\n",
       "    tol = 0.001,\n",
       "    cache_size = 200,\n",
       "    max_iter = -1,\n",
       "    decision_function_shape = \"ovr\",\n",
       "    random_state = nothing)"
      ]
     },
     "execution_count": 14,
     "metadata": {},
     "output_type": "execute_result"
    }
   ],
   "source": [
    "# reduce predictors\n",
    "PCA = @load PCA pkg=MultivariateStats verbosity=0\n",
    "reducer = PCA(pratio = 0.9)\n",
    "\n",
    "# standardize predictors\n",
    "std = Standardizer()\n",
    "\n",
    "# svm scikitlearn\n",
    "SVMC = @load SVMClassifier pkg=\"ScikitLearn\"\n",
    "svm = SVMC()\n"
   ]
  },
  {
   "cell_type": "code",
   "execution_count": 36,
   "id": "5495eedf",
   "metadata": {},
   "outputs": [
    {
     "data": {
      "text/plain": [
       "DeterministicPipeline(\n",
       "    pca = PCA(\n",
       "            maxoutdim = 0,\n",
       "            method = :auto,\n",
       "            pratio = 0.9,\n",
       "            mean = nothing),\n",
       "    standardizer = Standardizer(\n",
       "            features = Symbol[],\n",
       "            ignore = false,\n",
       "            ordered_factor = false,\n",
       "            count = false),\n",
       "    f = var\"#42#43\"(),\n",
       "    svm_classifier = SVMClassifier(\n",
       "            C = 1.0,\n",
       "            kernel = \"rbf\",\n",
       "            degree = 3,\n",
       "            gamma = \"auto\",\n",
       "            coef0 = 0.0,\n",
       "            shrinking = true,\n",
       "            tol = 0.001,\n",
       "            cache_size = 200,\n",
       "            max_iter = -1,\n",
       "            decision_function_shape = \"ovr\",\n",
       "            random_state = nothing),\n",
       "    cache = true)"
      ]
     },
     "execution_count": 36,
     "metadata": {},
     "output_type": "execute_result"
    }
   ],
   "source": [
    "#pipe = @pipeline reducer std svm\n",
    "pipe = reducer |> std |> (X -> Matrix(X)) |> svm   # (X -> Matrix(X)) |>\n"
   ]
  },
  {
   "cell_type": "code",
   "execution_count": 25,
   "id": "f5f2780b",
   "metadata": {},
   "outputs": [
    {
     "name": "stderr",
     "output_type": "stream",
     "text": [
      "┌ Info: Training Machine{DeterministicPipeline{NamedTuple{,…},…},…}.\n",
      "└ @ MLJBase /home/ciro/.julia/packages/MLJBase/pCiRR/src/machines.jl:464\n",
      "┌ Info: Training Machine{PCA,…}.\n",
      "└ @ MLJBase /home/ciro/.julia/packages/MLJBase/pCiRR/src/machines.jl:464\n",
      "┌ Info: Training Machine{Standardizer,…}.\n",
      "└ @ MLJBase /home/ciro/.julia/packages/MLJBase/pCiRR/src/machines.jl:464\n",
      "┌ Error: Problem fitting Machine{SVMClassifier,…}\n",
      "└ @ MLJBase /home/ciro/.julia/packages/MLJBase/pCiRR/src/machines.jl:684\n",
      "┌ Error: Problem fitting the machine Machine{DeterministicPipeline{NamedTuple{,…},…},…}. \n",
      "└ @ MLJBase /home/ciro/.julia/packages/MLJBase/pCiRR/src/machines.jl:594\n",
      "┌ Info: Running type checks... \n",
      "└ @ MLJBase /home/ciro/.julia/packages/MLJBase/pCiRR/src/machines.jl:600\n",
      "┌ Info: Type checks okay. \n",
      "└ @ MLJBase /home/ciro/.julia/packages/MLJBase/pCiRR/src/machines.jl:603\n"
     ]
    },
    {
     "ename": "LoadError",
     "evalue": "TaskFailedException\n\n\u001b[91m    nested task error: \u001b[39mtype Nothing has no field model\n    Stacktrace:\n     [1] \u001b[0m\u001b[1mfit_only!\u001b[22m\u001b[0m\u001b[1m(\u001b[22m\u001b[90mmach\u001b[39m::\u001b[0mMachine\u001b[90m{MLJScikitLearnInterface.SVMClassifier, true}\u001b[39m, \u001b[90mwait_on_downstream\u001b[39m::\u001b[0mBool; \u001b[90mkwargs\u001b[39m::\u001b[0mBase.Iterators.Pairs\u001b[90m{Symbol, Int64, Tuple{Symbol}, NamedTuple{(:verbosity,), Tuple{Int64}}}\u001b[39m\u001b[0m\u001b[1m)\u001b[22m\n    \u001b[90m   @ \u001b[39m\u001b[35mMLJBase\u001b[39m \u001b[90m~/.julia/packages/MLJBase/pCiRR/src/\u001b[39m\u001b[90;4mmachines.jl:685\u001b[0m\n     [2] \u001b[0m\u001b[1m(::MLJBase.var\"#67#69\"{Base.Iterators.Pairs{Symbol, Int64, Tuple{Symbol}, NamedTuple{(:verbosity,), Tuple{Int64}}}, Machine{MLJScikitLearnInterface.SVMClassifier, true}})\u001b[22m\u001b[0m\u001b[1m(\u001b[22m\u001b[0m\u001b[1m)\u001b[22m\n    \u001b[90m   @ \u001b[39m\u001b[35mMLJBase\u001b[39m \u001b[90m./\u001b[39m\u001b[90;4mtask.jl:411\u001b[0m\n    \n    \u001b[91mcaused by: \u001b[39mtype Nothing has no field model\n    Stacktrace:\n      [1] \u001b[0m\u001b[1mgetproperty\u001b[22m\u001b[0m\u001b[1m(\u001b[22m\u001b[90mx\u001b[39m::\u001b[0mNothing, \u001b[90mf\u001b[39m::\u001b[0mSymbol\u001b[0m\u001b[1m)\u001b[22m\n    \u001b[90m    @ \u001b[39m\u001b[90mBase\u001b[39m \u001b[90m./\u001b[39m\u001b[90;4mBase.jl:33\u001b[0m\n      [2] \u001b[0m\u001b[1mdiagnostics\u001b[22m\u001b[0m\u001b[1m(\u001b[22m::\u001b[0mNode\u001b[90m{Nothing}\u001b[39m; \u001b[90mkwargs\u001b[39m::\u001b[0mBase.Iterators.Pairs\u001b[90m{Symbol, Colon, Tuple{Symbol}, NamedTuple{(:rows,), Tuple{Colon}}}\u001b[39m\u001b[0m\u001b[1m)\u001b[22m\n    \u001b[90m    @ \u001b[39m\u001b[35mMLJBase\u001b[39m \u001b[90m~/.julia/packages/MLJBase/pCiRR/src/\u001b[39m\u001b[90;4msources.jl:79\u001b[0m\n      [3] \u001b[0m\u001b[1mmacro expansion\u001b[22m\n    \u001b[90m    @ \u001b[39m\u001b[90m./\u001b[39m\u001b[90;4mlogging.jl:340\u001b[0m\u001b[90m [inlined]\u001b[39m\n      [4] \u001b[0m\u001b[1m_apply\u001b[22m\u001b[0m\u001b[1m(\u001b[22m::\u001b[0mTuple\u001b[90m{Node{Nothing}}\u001b[39m; \u001b[90mkwargs\u001b[39m::\u001b[0mBase.Iterators.Pairs\u001b[90m{Symbol, Colon, Tuple{Symbol}, NamedTuple{(:rows,), Tuple{Colon}}}\u001b[39m\u001b[0m\u001b[1m)\u001b[22m\n    \u001b[90m    @ \u001b[39m\u001b[35mMLJBase\u001b[39m \u001b[90m~/.julia/packages/MLJBase/pCiRR/src/composition/learning_networks/\u001b[39m\u001b[90;4mnodes.jl:126\u001b[0m\n      [5] \u001b[0m\u001b[1m#_#59\u001b[22m\n    \u001b[90m    @ \u001b[39m\u001b[90m~/.julia/packages/MLJBase/pCiRR/src/composition/learning_networks/\u001b[39m\u001b[90;4mnodes.jl:114\u001b[0m\u001b[90m [inlined]\u001b[39m\n      [6] \u001b[0m\u001b[1mNode\u001b[22m\n    \u001b[90m    @ \u001b[39m\u001b[90m~/.julia/packages/MLJBase/pCiRR/src/composition/learning_networks/\u001b[39m\u001b[90;4mnodes.jl:114\u001b[0m\u001b[90m [inlined]\u001b[39m\n      [7] \u001b[0m\u001b[1m#52\u001b[22m\n    \u001b[90m    @ \u001b[39m\u001b[90m~/.julia/packages/MLJBase/pCiRR/src/\u001b[39m\u001b[90;4mmachines.jl:573\u001b[0m\u001b[90m [inlined]\u001b[39m\n      [8] \u001b[0m\u001b[1mmap\u001b[22m\u001b[0m\u001b[1m(\u001b[22m\u001b[90mf\u001b[39m::\u001b[0mMLJBase.var\"#52#54\", \u001b[90mt\u001b[39m::\u001b[0mTuple\u001b[90m{Node{Nothing}, MLJBase.Source}\u001b[39m\u001b[0m\u001b[1m)\u001b[22m\n    \u001b[90m    @ \u001b[39m\u001b[90mBase\u001b[39m \u001b[90m./\u001b[39m\u001b[90;4mtuple.jl:214\u001b[0m\n      [9] \u001b[0m\u001b[1mfit_only!\u001b[22m\u001b[0m\u001b[1m(\u001b[22m\u001b[90mmach\u001b[39m::\u001b[0mMachine\u001b[90m{MLJScikitLearnInterface.SVMClassifier, true}\u001b[39m; \u001b[90mrows\u001b[39m::\u001b[0mNothing, \u001b[90mverbosity\u001b[39m::\u001b[0mInt64, \u001b[90mforce\u001b[39m::\u001b[0mBool\u001b[0m\u001b[1m)\u001b[22m\n    \u001b[90m    @ \u001b[39m\u001b[35mMLJBase\u001b[39m \u001b[90m~/.julia/packages/MLJBase/pCiRR/src/\u001b[39m\u001b[90;4mmachines.jl:573\u001b[0m\n     [10] \u001b[0m\u001b[1mfit_only!\u001b[22m\u001b[0m\u001b[1m(\u001b[22m\u001b[90mmach\u001b[39m::\u001b[0mMachine\u001b[90m{MLJScikitLearnInterface.SVMClassifier, true}\u001b[39m, \u001b[90mwait_on_downstream\u001b[39m::\u001b[0mBool; \u001b[90mkwargs\u001b[39m::\u001b[0mBase.Iterators.Pairs\u001b[90m{Symbol, Int64, Tuple{Symbol}, NamedTuple{(:verbosity,), Tuple{Int64}}}\u001b[39m\u001b[0m\u001b[1m)\u001b[22m\n    \u001b[90m    @ \u001b[39m\u001b[35mMLJBase\u001b[39m \u001b[90m~/.julia/packages/MLJBase/pCiRR/src/\u001b[39m\u001b[90;4mmachines.jl:681\u001b[0m\n     [11] \u001b[0m\u001b[1m(::MLJBase.var\"#67#69\"{Base.Iterators.Pairs{Symbol, Int64, Tuple{Symbol}, NamedTuple{(:verbosity,), Tuple{Int64}}}, Machine{MLJScikitLearnInterface.SVMClassifier, true}})\u001b[22m\u001b[0m\u001b[1m(\u001b[22m\u001b[0m\u001b[1m)\u001b[22m\n    \u001b[90m    @ \u001b[39m\u001b[35mMLJBase\u001b[39m \u001b[90m./\u001b[39m\u001b[90;4mtask.jl:411\u001b[0m\n    \n    \u001b[91mcaused by: \u001b[39mMethodError: objects of type Matrix{Float32} are not callable\n    Use square brackets [] for indexing an Array.\n    Stacktrace:\n     [1] \u001b[0m\u001b[1m_apply\u001b[22m\u001b[0m\u001b[1m(\u001b[22m::\u001b[0mTuple\u001b[90m{Node{Nothing}}\u001b[39m; \u001b[90mkwargs\u001b[39m::\u001b[0mBase.Iterators.Pairs\u001b[90m{Symbol, Colon, Tuple{Symbol}, NamedTuple{(:rows,), Tuple{Colon}}}\u001b[39m\u001b[0m\u001b[1m)\u001b[22m\n    \u001b[90m   @ \u001b[39m\u001b[35mMLJBase\u001b[39m \u001b[90m~/.julia/packages/MLJBase/pCiRR/src/composition/learning_networks/\u001b[39m\u001b[90;4mnodes.jl:124\u001b[0m\n     [2] \u001b[0m\u001b[1m#_#59\u001b[22m\n    \u001b[90m   @ \u001b[39m\u001b[90m~/.julia/packages/MLJBase/pCiRR/src/composition/learning_networks/\u001b[39m\u001b[90;4mnodes.jl:114\u001b[0m\u001b[90m [inlined]\u001b[39m\n     [3] \u001b[0m\u001b[1mNode\u001b[22m\n    \u001b[90m   @ \u001b[39m\u001b[90m~/.julia/packages/MLJBase/pCiRR/src/composition/learning_networks/\u001b[39m\u001b[90;4mnodes.jl:114\u001b[0m\u001b[90m [inlined]\u001b[39m\n     [4] \u001b[0m\u001b[1m#52\u001b[22m\n    \u001b[90m   @ \u001b[39m\u001b[90m~/.julia/packages/MLJBase/pCiRR/src/\u001b[39m\u001b[90;4mmachines.jl:573\u001b[0m\u001b[90m [inlined]\u001b[39m\n     [5] \u001b[0m\u001b[1mmap\u001b[22m\u001b[0m\u001b[1m(\u001b[22m\u001b[90mf\u001b[39m::\u001b[0mMLJBase.var\"#52#54\", \u001b[90mt\u001b[39m::\u001b[0mTuple\u001b[90m{Node{Nothing}, MLJBase.Source}\u001b[39m\u001b[0m\u001b[1m)\u001b[22m\n    \u001b[90m   @ \u001b[39m\u001b[90mBase\u001b[39m \u001b[90m./\u001b[39m\u001b[90;4mtuple.jl:214\u001b[0m\n     [6] \u001b[0m\u001b[1mfit_only!\u001b[22m\u001b[0m\u001b[1m(\u001b[22m\u001b[90mmach\u001b[39m::\u001b[0mMachine\u001b[90m{MLJScikitLearnInterface.SVMClassifier, true}\u001b[39m; \u001b[90mrows\u001b[39m::\u001b[0mNothing, \u001b[90mverbosity\u001b[39m::\u001b[0mInt64, \u001b[90mforce\u001b[39m::\u001b[0mBool\u001b[0m\u001b[1m)\u001b[22m\n    \u001b[90m   @ \u001b[39m\u001b[35mMLJBase\u001b[39m \u001b[90m~/.julia/packages/MLJBase/pCiRR/src/\u001b[39m\u001b[90;4mmachines.jl:573\u001b[0m\n     [7] \u001b[0m\u001b[1mfit_only!\u001b[22m\u001b[0m\u001b[1m(\u001b[22m\u001b[90mmach\u001b[39m::\u001b[0mMachine\u001b[90m{MLJScikitLearnInterface.SVMClassifier, true}\u001b[39m, \u001b[90mwait_on_downstream\u001b[39m::\u001b[0mBool; \u001b[90mkwargs\u001b[39m::\u001b[0mBase.Iterators.Pairs\u001b[90m{Symbol, Int64, Tuple{Symbol}, NamedTuple{(:verbosity,), Tuple{Int64}}}\u001b[39m\u001b[0m\u001b[1m)\u001b[22m\n    \u001b[90m   @ \u001b[39m\u001b[35mMLJBase\u001b[39m \u001b[90m~/.julia/packages/MLJBase/pCiRR/src/\u001b[39m\u001b[90;4mmachines.jl:681\u001b[0m\n     [8] \u001b[0m\u001b[1m(::MLJBase.var\"#67#69\"{Base.Iterators.Pairs{Symbol, Int64, Tuple{Symbol}, NamedTuple{(:verbosity,), Tuple{Int64}}}, Machine{MLJScikitLearnInterface.SVMClassifier, true}})\u001b[22m\u001b[0m\u001b[1m(\u001b[22m\u001b[0m\u001b[1m)\u001b[22m\n    \u001b[90m   @ \u001b[39m\u001b[35mMLJBase\u001b[39m \u001b[90m./\u001b[39m\u001b[90;4mtask.jl:411\u001b[0m",
     "output_type": "error",
     "traceback": [
      "TaskFailedException\n\n\u001b[91m    nested task error: \u001b[39mtype Nothing has no field model\n    Stacktrace:\n     [1] \u001b[0m\u001b[1mfit_only!\u001b[22m\u001b[0m\u001b[1m(\u001b[22m\u001b[90mmach\u001b[39m::\u001b[0mMachine\u001b[90m{MLJScikitLearnInterface.SVMClassifier, true}\u001b[39m, \u001b[90mwait_on_downstream\u001b[39m::\u001b[0mBool; \u001b[90mkwargs\u001b[39m::\u001b[0mBase.Iterators.Pairs\u001b[90m{Symbol, Int64, Tuple{Symbol}, NamedTuple{(:verbosity,), Tuple{Int64}}}\u001b[39m\u001b[0m\u001b[1m)\u001b[22m\n    \u001b[90m   @ \u001b[39m\u001b[35mMLJBase\u001b[39m \u001b[90m~/.julia/packages/MLJBase/pCiRR/src/\u001b[39m\u001b[90;4mmachines.jl:685\u001b[0m\n     [2] \u001b[0m\u001b[1m(::MLJBase.var\"#67#69\"{Base.Iterators.Pairs{Symbol, Int64, Tuple{Symbol}, NamedTuple{(:verbosity,), Tuple{Int64}}}, Machine{MLJScikitLearnInterface.SVMClassifier, true}})\u001b[22m\u001b[0m\u001b[1m(\u001b[22m\u001b[0m\u001b[1m)\u001b[22m\n    \u001b[90m   @ \u001b[39m\u001b[35mMLJBase\u001b[39m \u001b[90m./\u001b[39m\u001b[90;4mtask.jl:411\u001b[0m\n    \n    \u001b[91mcaused by: \u001b[39mtype Nothing has no field model\n    Stacktrace:\n      [1] \u001b[0m\u001b[1mgetproperty\u001b[22m\u001b[0m\u001b[1m(\u001b[22m\u001b[90mx\u001b[39m::\u001b[0mNothing, \u001b[90mf\u001b[39m::\u001b[0mSymbol\u001b[0m\u001b[1m)\u001b[22m\n    \u001b[90m    @ \u001b[39m\u001b[90mBase\u001b[39m \u001b[90m./\u001b[39m\u001b[90;4mBase.jl:33\u001b[0m\n      [2] \u001b[0m\u001b[1mdiagnostics\u001b[22m\u001b[0m\u001b[1m(\u001b[22m::\u001b[0mNode\u001b[90m{Nothing}\u001b[39m; \u001b[90mkwargs\u001b[39m::\u001b[0mBase.Iterators.Pairs\u001b[90m{Symbol, Colon, Tuple{Symbol}, NamedTuple{(:rows,), Tuple{Colon}}}\u001b[39m\u001b[0m\u001b[1m)\u001b[22m\n    \u001b[90m    @ \u001b[39m\u001b[35mMLJBase\u001b[39m \u001b[90m~/.julia/packages/MLJBase/pCiRR/src/\u001b[39m\u001b[90;4msources.jl:79\u001b[0m\n      [3] \u001b[0m\u001b[1mmacro expansion\u001b[22m\n    \u001b[90m    @ \u001b[39m\u001b[90m./\u001b[39m\u001b[90;4mlogging.jl:340\u001b[0m\u001b[90m [inlined]\u001b[39m\n      [4] \u001b[0m\u001b[1m_apply\u001b[22m\u001b[0m\u001b[1m(\u001b[22m::\u001b[0mTuple\u001b[90m{Node{Nothing}}\u001b[39m; \u001b[90mkwargs\u001b[39m::\u001b[0mBase.Iterators.Pairs\u001b[90m{Symbol, Colon, Tuple{Symbol}, NamedTuple{(:rows,), Tuple{Colon}}}\u001b[39m\u001b[0m\u001b[1m)\u001b[22m\n    \u001b[90m    @ \u001b[39m\u001b[35mMLJBase\u001b[39m \u001b[90m~/.julia/packages/MLJBase/pCiRR/src/composition/learning_networks/\u001b[39m\u001b[90;4mnodes.jl:126\u001b[0m\n      [5] \u001b[0m\u001b[1m#_#59\u001b[22m\n    \u001b[90m    @ \u001b[39m\u001b[90m~/.julia/packages/MLJBase/pCiRR/src/composition/learning_networks/\u001b[39m\u001b[90;4mnodes.jl:114\u001b[0m\u001b[90m [inlined]\u001b[39m\n      [6] \u001b[0m\u001b[1mNode\u001b[22m\n    \u001b[90m    @ \u001b[39m\u001b[90m~/.julia/packages/MLJBase/pCiRR/src/composition/learning_networks/\u001b[39m\u001b[90;4mnodes.jl:114\u001b[0m\u001b[90m [inlined]\u001b[39m\n      [7] \u001b[0m\u001b[1m#52\u001b[22m\n    \u001b[90m    @ \u001b[39m\u001b[90m~/.julia/packages/MLJBase/pCiRR/src/\u001b[39m\u001b[90;4mmachines.jl:573\u001b[0m\u001b[90m [inlined]\u001b[39m\n      [8] \u001b[0m\u001b[1mmap\u001b[22m\u001b[0m\u001b[1m(\u001b[22m\u001b[90mf\u001b[39m::\u001b[0mMLJBase.var\"#52#54\", \u001b[90mt\u001b[39m::\u001b[0mTuple\u001b[90m{Node{Nothing}, MLJBase.Source}\u001b[39m\u001b[0m\u001b[1m)\u001b[22m\n    \u001b[90m    @ \u001b[39m\u001b[90mBase\u001b[39m \u001b[90m./\u001b[39m\u001b[90;4mtuple.jl:214\u001b[0m\n      [9] \u001b[0m\u001b[1mfit_only!\u001b[22m\u001b[0m\u001b[1m(\u001b[22m\u001b[90mmach\u001b[39m::\u001b[0mMachine\u001b[90m{MLJScikitLearnInterface.SVMClassifier, true}\u001b[39m; \u001b[90mrows\u001b[39m::\u001b[0mNothing, \u001b[90mverbosity\u001b[39m::\u001b[0mInt64, \u001b[90mforce\u001b[39m::\u001b[0mBool\u001b[0m\u001b[1m)\u001b[22m\n    \u001b[90m    @ \u001b[39m\u001b[35mMLJBase\u001b[39m \u001b[90m~/.julia/packages/MLJBase/pCiRR/src/\u001b[39m\u001b[90;4mmachines.jl:573\u001b[0m\n     [10] \u001b[0m\u001b[1mfit_only!\u001b[22m\u001b[0m\u001b[1m(\u001b[22m\u001b[90mmach\u001b[39m::\u001b[0mMachine\u001b[90m{MLJScikitLearnInterface.SVMClassifier, true}\u001b[39m, \u001b[90mwait_on_downstream\u001b[39m::\u001b[0mBool; \u001b[90mkwargs\u001b[39m::\u001b[0mBase.Iterators.Pairs\u001b[90m{Symbol, Int64, Tuple{Symbol}, NamedTuple{(:verbosity,), Tuple{Int64}}}\u001b[39m\u001b[0m\u001b[1m)\u001b[22m\n    \u001b[90m    @ \u001b[39m\u001b[35mMLJBase\u001b[39m \u001b[90m~/.julia/packages/MLJBase/pCiRR/src/\u001b[39m\u001b[90;4mmachines.jl:681\u001b[0m\n     [11] \u001b[0m\u001b[1m(::MLJBase.var\"#67#69\"{Base.Iterators.Pairs{Symbol, Int64, Tuple{Symbol}, NamedTuple{(:verbosity,), Tuple{Int64}}}, Machine{MLJScikitLearnInterface.SVMClassifier, true}})\u001b[22m\u001b[0m\u001b[1m(\u001b[22m\u001b[0m\u001b[1m)\u001b[22m\n    \u001b[90m    @ \u001b[39m\u001b[35mMLJBase\u001b[39m \u001b[90m./\u001b[39m\u001b[90;4mtask.jl:411\u001b[0m\n    \n    \u001b[91mcaused by: \u001b[39mMethodError: objects of type Matrix{Float32} are not callable\n    Use square brackets [] for indexing an Array.\n    Stacktrace:\n     [1] \u001b[0m\u001b[1m_apply\u001b[22m\u001b[0m\u001b[1m(\u001b[22m::\u001b[0mTuple\u001b[90m{Node{Nothing}}\u001b[39m; \u001b[90mkwargs\u001b[39m::\u001b[0mBase.Iterators.Pairs\u001b[90m{Symbol, Colon, Tuple{Symbol}, NamedTuple{(:rows,), Tuple{Colon}}}\u001b[39m\u001b[0m\u001b[1m)\u001b[22m\n    \u001b[90m   @ \u001b[39m\u001b[35mMLJBase\u001b[39m \u001b[90m~/.julia/packages/MLJBase/pCiRR/src/composition/learning_networks/\u001b[39m\u001b[90;4mnodes.jl:124\u001b[0m\n     [2] \u001b[0m\u001b[1m#_#59\u001b[22m\n    \u001b[90m   @ \u001b[39m\u001b[90m~/.julia/packages/MLJBase/pCiRR/src/composition/learning_networks/\u001b[39m\u001b[90;4mnodes.jl:114\u001b[0m\u001b[90m [inlined]\u001b[39m\n     [3] \u001b[0m\u001b[1mNode\u001b[22m\n    \u001b[90m   @ \u001b[39m\u001b[90m~/.julia/packages/MLJBase/pCiRR/src/composition/learning_networks/\u001b[39m\u001b[90;4mnodes.jl:114\u001b[0m\u001b[90m [inlined]\u001b[39m\n     [4] \u001b[0m\u001b[1m#52\u001b[22m\n    \u001b[90m   @ \u001b[39m\u001b[90m~/.julia/packages/MLJBase/pCiRR/src/\u001b[39m\u001b[90;4mmachines.jl:573\u001b[0m\u001b[90m [inlined]\u001b[39m\n     [5] \u001b[0m\u001b[1mmap\u001b[22m\u001b[0m\u001b[1m(\u001b[22m\u001b[90mf\u001b[39m::\u001b[0mMLJBase.var\"#52#54\", \u001b[90mt\u001b[39m::\u001b[0mTuple\u001b[90m{Node{Nothing}, MLJBase.Source}\u001b[39m\u001b[0m\u001b[1m)\u001b[22m\n    \u001b[90m   @ \u001b[39m\u001b[90mBase\u001b[39m \u001b[90m./\u001b[39m\u001b[90;4mtuple.jl:214\u001b[0m\n     [6] \u001b[0m\u001b[1mfit_only!\u001b[22m\u001b[0m\u001b[1m(\u001b[22m\u001b[90mmach\u001b[39m::\u001b[0mMachine\u001b[90m{MLJScikitLearnInterface.SVMClassifier, true}\u001b[39m; \u001b[90mrows\u001b[39m::\u001b[0mNothing, \u001b[90mverbosity\u001b[39m::\u001b[0mInt64, \u001b[90mforce\u001b[39m::\u001b[0mBool\u001b[0m\u001b[1m)\u001b[22m\n    \u001b[90m   @ \u001b[39m\u001b[35mMLJBase\u001b[39m \u001b[90m~/.julia/packages/MLJBase/pCiRR/src/\u001b[39m\u001b[90;4mmachines.jl:573\u001b[0m\n     [7] \u001b[0m\u001b[1mfit_only!\u001b[22m\u001b[0m\u001b[1m(\u001b[22m\u001b[90mmach\u001b[39m::\u001b[0mMachine\u001b[90m{MLJScikitLearnInterface.SVMClassifier, true}\u001b[39m, \u001b[90mwait_on_downstream\u001b[39m::\u001b[0mBool; \u001b[90mkwargs\u001b[39m::\u001b[0mBase.Iterators.Pairs\u001b[90m{Symbol, Int64, Tuple{Symbol}, NamedTuple{(:verbosity,), Tuple{Int64}}}\u001b[39m\u001b[0m\u001b[1m)\u001b[22m\n    \u001b[90m   @ \u001b[39m\u001b[35mMLJBase\u001b[39m \u001b[90m~/.julia/packages/MLJBase/pCiRR/src/\u001b[39m\u001b[90;4mmachines.jl:681\u001b[0m\n     [8] \u001b[0m\u001b[1m(::MLJBase.var\"#67#69\"{Base.Iterators.Pairs{Symbol, Int64, Tuple{Symbol}, NamedTuple{(:verbosity,), Tuple{Int64}}}, Machine{MLJScikitLearnInterface.SVMClassifier, true}})\u001b[22m\u001b[0m\u001b[1m(\u001b[22m\u001b[0m\u001b[1m)\u001b[22m\n    \u001b[90m   @ \u001b[39m\u001b[35mMLJBase\u001b[39m \u001b[90m./\u001b[39m\u001b[90;4mtask.jl:411\u001b[0m",
      "",
      "Stacktrace:",
      "  [1] sync_end(c::Channel{Any})",
      "    @ Base ./task.jl:369",
      "  [2] macro expansion",
      "    @ ./task.jl:388 [inlined]",
      "  [3] fit!(y::Node{Nothing}, ::CPU1{Nothing}; kwargs::Base.Iterators.Pairs{Symbol, Int64, Tuple{Symbol}, NamedTuple{(:verbosity,), Tuple{Int64}}})",
      "    @ MLJBase ~/.julia/packages/MLJBase/pCiRR/src/composition/learning_networks/nodes.jl:199",
      "  [4] #fit!#63",
      "    @ ~/.julia/packages/MLJBase/pCiRR/src/composition/learning_networks/nodes.jl:181 [inlined]",
      "  [5] fit!(mach::Machine{DeterministicSurrogate, false}; kwargs::Base.Iterators.Pairs{Symbol, Int64, Tuple{Symbol}, NamedTuple{(:verbosity,), Tuple{Int64}}})",
      "    @ MLJBase ~/.julia/packages/MLJBase/pCiRR/src/composition/learning_networks/machines.jl:253",
      "  [6] return!(mach::Machine{DeterministicSurrogate, false}, model::MLJBase.DeterministicPipeline{NamedTuple{(:pca, :standardizer, :f, :svm_classifier), Tuple{Unsupervised, Unsupervised, Any, Deterministic}}, MLJModelInterface.predict}, verbosity::Int64)",
      "    @ MLJBase ~/.julia/packages/MLJBase/pCiRR/src/composition/learning_networks/machines.jl:395",
      "  [7] fit(pipe::MLJBase.DeterministicPipeline{NamedTuple{(:pca, :standardizer, :f, :svm_classifier), Tuple{Unsupervised, Unsupervised, Any, Deterministic}}, MLJModelInterface.predict}, verbosity::Int64, arg0::DataFrame, args::CategoricalArrays.CategoricalVector{Int64, UInt32, Int64, CategoricalArrays.CategoricalValue{Int64, UInt32}, Union{}})",
      "    @ MLJBase ~/.julia/packages/MLJBase/pCiRR/src/composition/models/pipelines.jl:527",
      "  [8] fit_only!(mach::Machine{MLJBase.DeterministicPipeline{NamedTuple{(:pca, :standardizer, :f, :svm_classifier), Tuple{Unsupervised, Unsupervised, Any, Deterministic}}, MLJModelInterface.predict}, true}; rows::Nothing, verbosity::Int64, force::Bool)",
      "    @ MLJBase ~/.julia/packages/MLJBase/pCiRR/src/machines.jl:592",
      "  [9] fit_only!",
      "    @ ~/.julia/packages/MLJBase/pCiRR/src/machines.jl:545 [inlined]",
      " [10] #fit!#56",
      "    @ ~/.julia/packages/MLJBase/pCiRR/src/machines.jl:659 [inlined]",
      " [11] fit!",
      "    @ ~/.julia/packages/MLJBase/pCiRR/src/machines.jl:657 [inlined]",
      " [12] |>(x::Machine{MLJBase.DeterministicPipeline{NamedTuple{(:pca, :standardizer, :f, :svm_classifier), Tuple{Unsupervised, Unsupervised, Any, Deterministic}}, MLJModelInterface.predict}, true}, f::typeof(fit!))",
      "    @ Base ./operators.jl:858",
      " [13] top-level scope",
      "    @ In[25]:1",
      " [14] eval",
      "    @ ./boot.jl:360 [inlined]",
      " [15] include_string(mapexpr::typeof(REPL.softscope), mod::Module, code::String, filename::String)",
      "    @ Base ./loading.jl:1116"
     ]
    }
   ],
   "source": [
    "mach = MLJ.machine(pipe, X, y) |> fit!\n"
   ]
  },
  {
   "cell_type": "code",
   "execution_count": 23,
   "id": "dfb7a967",
   "metadata": {},
   "outputs": [
    {
     "ename": "LoadError",
     "evalue": "MethodError: no method matching fit(::Machine{MLJBase.DeterministicPipeline{NamedTuple{(:pca, :standardizer, :svm_classifier), Tuple{Unsupervised, Unsupervised, Deterministic}}, MLJModelInterface.predict}, true}, ::DataFrame)\n\u001b[0mClosest candidates are:\n\u001b[0m  fit(\u001b[91m::Union{MLJBase.TransformedTargetModelDeterministic, MLJBase.TransformedTargetModelDeterministicSupervisedDetector, MLJBase.TransformedTargetModelDeterministicUnsupervisedDetector, MLJBase.TransformedTargetModelInterval, MLJBase.TransformedTargetModelProbabilistic, MLJBase.TransformedTargetModelProbabilisticSupervisedDetector, MLJBase.TransformedTargetModelProbabilisticUnsupervisedDetector}\u001b[39m, ::Any, \u001b[91m::Any\u001b[39m, \u001b[91m::Any\u001b[39m, \u001b[91m::Any...\u001b[39m) at /home/ciro/.julia/packages/MLJBase/pCiRR/src/composition/models/transformed_target_model.jl:177\n\u001b[0m  fit(\u001b[91m::Union{MLJIteration.DeterministicIteratedModel{M}, MLJIteration.ProbabilisticIteratedModel{M}} where M\u001b[39m, ::Any, \u001b[91m::Any...\u001b[39m) at /home/ciro/.julia/packages/MLJIteration/Wc51L/src/core.jl:77\n\u001b[0m  fit(\u001b[91m::UnsupervisedAnnotator\u001b[39m, ::Any, \u001b[91m::Any\u001b[39m, \u001b[91m::Any\u001b[39m) at /home/ciro/.julia/packages/MLJModelInterface/GKiZ2/src/model_api.jl:21\n\u001b[0m  ...",
     "output_type": "error",
     "traceback": [
      "MethodError: no method matching fit(::Machine{MLJBase.DeterministicPipeline{NamedTuple{(:pca, :standardizer, :svm_classifier), Tuple{Unsupervised, Unsupervised, Deterministic}}, MLJModelInterface.predict}, true}, ::DataFrame)\n\u001b[0mClosest candidates are:\n\u001b[0m  fit(\u001b[91m::Union{MLJBase.TransformedTargetModelDeterministic, MLJBase.TransformedTargetModelDeterministicSupervisedDetector, MLJBase.TransformedTargetModelDeterministicUnsupervisedDetector, MLJBase.TransformedTargetModelInterval, MLJBase.TransformedTargetModelProbabilistic, MLJBase.TransformedTargetModelProbabilisticSupervisedDetector, MLJBase.TransformedTargetModelProbabilisticUnsupervisedDetector}\u001b[39m, ::Any, \u001b[91m::Any\u001b[39m, \u001b[91m::Any\u001b[39m, \u001b[91m::Any...\u001b[39m) at /home/ciro/.julia/packages/MLJBase/pCiRR/src/composition/models/transformed_target_model.jl:177\n\u001b[0m  fit(\u001b[91m::Union{MLJIteration.DeterministicIteratedModel{M}, MLJIteration.ProbabilisticIteratedModel{M}} where M\u001b[39m, ::Any, \u001b[91m::Any...\u001b[39m) at /home/ciro/.julia/packages/MLJIteration/Wc51L/src/core.jl:77\n\u001b[0m  fit(\u001b[91m::UnsupervisedAnnotator\u001b[39m, ::Any, \u001b[91m::Any\u001b[39m, \u001b[91m::Any\u001b[39m) at /home/ciro/.julia/packages/MLJModelInterface/GKiZ2/src/model_api.jl:21\n\u001b[0m  ...",
      "",
      "Stacktrace:",
      " [1] top-level scope",
      "   @ In[23]:1",
      " [2] eval",
      "   @ ./boot.jl:360 [inlined]",
      " [3] include_string(mapexpr::typeof(REPL.softscope), mod::Module, code::String, filename::String)",
      "   @ Base ./loading.jl:1116"
     ]
    }
   ],
   "source": [
    "ŷ = MLJ.fit(mach, X)\n",
    "first(ŷ, 5)\n"
   ]
  },
  {
   "cell_type": "code",
   "execution_count": null,
   "id": "d17d2db8",
   "metadata": {},
   "outputs": [],
   "source": []
  }
 ],
 "metadata": {
  "kernelspec": {
   "display_name": "Julia 1.6.5",
   "language": "julia",
   "name": "julia-1.6"
  },
  "language_info": {
   "file_extension": ".jl",
   "mimetype": "application/julia",
   "name": "julia",
   "version": "1.6.5"
  }
 },
 "nbformat": 4,
 "nbformat_minor": 5
}
