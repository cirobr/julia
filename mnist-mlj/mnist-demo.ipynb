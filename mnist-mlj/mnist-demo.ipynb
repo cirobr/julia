{
 "cells": [
  {
   "cell_type": "markdown",
   "id": "e00bf221",
   "metadata": {},
   "source": [
    "Libraries"
   ]
  },
  {
   "cell_type": "code",
   "execution_count": null,
   "id": "6b12a07d",
   "metadata": {},
   "outputs": [],
   "source": [
    "using MLDatasets        # mnist\n",
    "using Images"
   ]
  },
  {
   "cell_type": "markdown",
   "id": "1050cdfa",
   "metadata": {},
   "source": [
    "MNIST"
   ]
  },
  {
   "cell_type": "code",
   "execution_count": null,
   "id": "2b4bc10f",
   "metadata": {},
   "outputs": [],
   "source": [
    "dataset = MNIST(:train)"
   ]
  },
  {
   "cell_type": "code",
   "execution_count": null,
   "id": "f44d99ce",
   "metadata": {},
   "outputs": [],
   "source": [
    "MLDatasets.length(dataset)"
   ]
  },
  {
   "cell_type": "code",
   "execution_count": null,
   "id": "d969e351",
   "metadata": {},
   "outputs": [],
   "source": [
    "MLDatasets.convert2image(dataset, 1)"
   ]
  },
  {
   "cell_type": "code",
   "execution_count": null,
   "id": "08ce9e52",
   "metadata": {},
   "outputs": [],
   "source": [
    "X, y = MNIST(:train)[:];"
   ]
  },
  {
   "cell_type": "code",
   "execution_count": null,
   "id": "65110b7c",
   "metadata": {},
   "outputs": [],
   "source": [
    "X"
   ]
  },
  {
   "cell_type": "code",
   "execution_count": null,
   "id": "7774b266",
   "metadata": {},
   "outputs": [],
   "source": [
    "y'"
   ]
  },
  {
   "cell_type": "code",
   "execution_count": null,
   "id": "7ff2d825",
   "metadata": {},
   "outputs": [],
   "source": [
    "img  = X[:, :, 1:5]\n",
    "img2 = permutedims(img, (2, 1, 3))\n",
    "\n",
    "display(y[1:5]')\n",
    "mosaicview( Gray.(img2)  ; nrow=1)"
   ]
  }
 ],
 "metadata": {
  "kernelspec": {
   "display_name": "Julia 1.6.7",
   "language": "julia",
   "name": "julia-1.6"
  },
  "language_info": {
   "file_extension": ".jl",
   "mimetype": "application/julia",
   "name": "julia",
   "version": "1.6.7"
  }
 },
 "nbformat": 4,
 "nbformat_minor": 5
}
