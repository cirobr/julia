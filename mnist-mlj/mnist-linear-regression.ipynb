{
 "cells": [
  {
   "cell_type": "markdown",
   "id": "202c8c99",
   "metadata": {},
   "source": [
    "## Linear regression with MNIST\n"
   ]
  },
  {
   "cell_type": "markdown",
   "id": "e00bf221",
   "metadata": {},
   "source": [
    "### Libraries"
   ]
  },
  {
   "cell_type": "code",
   "execution_count": null,
   "id": "6b12a07d",
   "metadata": {},
   "outputs": [],
   "source": [
    "using MLJ               # make_blobs, rmse, confmat, categorical\n",
    "using MLDataUtils       # label, nlabel, labelfreq\n",
    "using MLDatasets        # mnist\n",
    "using GLM               # (lm works as regression; GLM not OK for categorical outcomes)\n",
    "using Metrics           # r2-score\n",
    "using Random\n",
    "using Plots; gr()\n",
    "using StatsPlots\n",
    "using Printf\n",
    "using DataFrames\n",
    "\n",
    "using libImageArrays;      ia = libImageArrays\n",
    "using PreprocessingArrays; pa = PreprocessingArrays"
   ]
  },
  {
   "cell_type": "markdown",
   "id": "52a99d2b",
   "metadata": {},
   "source": [
    "### Functions"
   ]
  },
  {
   "cell_type": "code",
   "execution_count": null,
   "id": "36f49f45",
   "metadata": {},
   "outputs": [],
   "source": [
    "# plotting function\n",
    "function categoryStratificationChart(trainY, testY)\n",
    "    # check for unique labels\n",
    "    l = label(trainY); sort!(l)\n",
    "    N = nlabel(trainY)\n",
    "\n",
    "    # trainset classes\n",
    "    d1 = labelfreq(trainY)\n",
    "    d1 = DataFrame([(k, v) for (k,v) in d1])\n",
    "    rename!(d1, [\"class\",\"trainset\"])\n",
    "\n",
    "    # testset classes\n",
    "    d2 = labelfreq(testY)\n",
    "    d2 = DataFrame([(k, v) for (k,v) in d2])\n",
    "    rename!(d2, [\"class\",\"testset\"])\n",
    "\n",
    "    # make a single df (df facilitates sorting)\n",
    "    df = leftjoin(d1, d2, on = :class)\n",
    "    sort!(df,[:class])\n",
    "\n",
    "    # make a matrix out of df (matrix facilitates plotting)\n",
    "    M = df |> Array\n",
    "    p1 = groupedbar(M[:, 2:3],\n",
    "        bar_position = :dodge,\n",
    "        size=(500,300),\n",
    "        xtick=(1:N, l),   # não é obvio chegar a esta configuração\n",
    "        legend=:outerright,\n",
    "        label=[\"trainset\" \"testset\"])\n",
    "    p1 = title!(\"Dataset stratification\", xlabel=\"categories\", ylabel=\"count\")\n",
    "end\n"
   ]
  },
  {
   "cell_type": "code",
   "execution_count": null,
   "id": "605dfe3f",
   "metadata": {},
   "outputs": [],
   "source": [
    "# functions for feature extraction\n",
    "meanIntensity(img) = mean(Float32.(img))\n",
    "\n",
    "function hSymmetry(img)\n",
    "    imgFloat = Float32.(img)\n",
    "    imgReverse = reverse(imgFloat, dims=1)\n",
    "    return -mean( abs.(imgFloat - imgReverse) )\n",
    "end\n"
   ]
  },
  {
   "cell_type": "markdown",
   "id": "1050cdfa",
   "metadata": {},
   "source": [
    "### MNIST data"
   ]
  },
  {
   "cell_type": "code",
   "execution_count": null,
   "id": "4d7603a2",
   "metadata": {},
   "outputs": [],
   "source": [
    "# load mnist from MLDatasets\n",
    "trainX_original,      trainY_original      = MNIST.traindata()\n",
    "validationX_original, validationY_original = MNIST.testdata();\n",
    "\n",
    "display([MNIST.convert2image(MNIST.traintensor(i)) for i in 1:5])\n",
    "trainY_original[1:5]'"
   ]
  },
  {
   "cell_type": "code",
   "execution_count": null,
   "id": "4ed0a62e",
   "metadata": {},
   "outputs": [],
   "source": [
    "# distribution of labels\n",
    "categoryStratificationChart(trainY_original, validationY_original)"
   ]
  },
  {
   "cell_type": "code",
   "execution_count": null,
   "id": "2ecbb1f6",
   "metadata": {},
   "outputs": [],
   "source": [
    "# split trainset, testset, validation set\n",
    "Random.seed!(1)\n",
    "(trainX, trainY), (testX, testY) = stratifiedobs((trainX_original, trainY_original), p = 0.7)\n",
    "validationX = copy(validationX_original); validationY = copy(validationY_original)\n",
    "\n",
    "size(trainX), size(testX), size(validationX)"
   ]
  },
  {
   "cell_type": "markdown",
   "id": "ce01302d",
   "metadata": {},
   "source": [
    "### Linear regression (two classes - two predictors)"
   ]
  },
  {
   "cell_type": "code",
   "execution_count": null,
   "id": "405e2db8",
   "metadata": {},
   "outputs": [],
   "source": [
    "# convert images to vectors\n",
    "trainX = ia.batchImage2Vector(trainX)\n",
    "trainY = trainY .|> Float32   # needed for lm\n",
    "typeof(trainX), typeof(trainY)"
   ]
  },
  {
   "cell_type": "code",
   "execution_count": null,
   "id": "66423da1",
   "metadata": {},
   "outputs": [],
   "source": [
    "# select classes for prediction\n",
    "c = (1, 5)\n",
    "\n",
    "# data selection from above classes and sizes\n",
    "trainX = vcat( trainX[trainY .== c[1] ], trainX[ trainY .== c[2] ] )\n",
    "trainY = vcat( trainY[trainY .== c[1] ], trainY[ trainY .== c[2] ] )\n",
    "display(levels(trainY))\n",
    "size(trainX), size(trainY)"
   ]
  },
  {
   "cell_type": "code",
   "execution_count": null,
   "id": "1bb53263",
   "metadata": {},
   "outputs": [],
   "source": [
    "# generate predictors\n",
    "N = size(trainX)[1]\n",
    "\n",
    "a = [meanIntensity(trainX[i]) for i in 1:N]\n",
    "b = [hSymmetry(trainX[i])     for i in 1:N]\n",
    "trainXLinear = hcat(a, b)\n",
    "trainXLinear = pa.rescaleByColumns(trainXLinear)\n",
    "display(size(trainXLinear))\n",
    "\n",
    "# generate outcome\n",
    "trainYLinear = copy(trainY);\n"
   ]
  },
  {
   "cell_type": "code",
   "execution_count": null,
   "id": "08b53bf4",
   "metadata": {},
   "outputs": [],
   "source": [
    "# fit the model\n",
    "lmFit = lm(trainXLinear, trainYLinear)\n",
    "\n",
    "# predict with trainset\n",
    "ŷ = GLM.predict(lmFit, trainXLinear)\n",
    "ŷ = Int32.(round.(ŷ))\n",
    "levels(ŷ)'"
   ]
  },
  {
   "cell_type": "code",
   "execution_count": null,
   "id": "df5ab8d5",
   "metadata": {},
   "outputs": [],
   "source": [
    "# metrics\n",
    "display(MLJ.rmse(ŷ, trainYLinear))\n"
   ]
  },
  {
   "cell_type": "code",
   "execution_count": null,
   "id": "d7715530",
   "metadata": {},
   "outputs": [],
   "source": [
    "# demonstration of prediction accuracy\n",
    "v = rand(1:N, 8)\n",
    "\n",
    "display([MNIST.convert2image(ia.vector2Image( trainX[i], 28, 28) ) for i in v])\n",
    "display(trainY[v]' .|> Int32)\n",
    "display(ŷ[v]')"
   ]
  }
 ],
 "metadata": {
  "kernelspec": {
   "display_name": "Julia 1.6.5",
   "language": "julia",
   "name": "julia-1.6"
  },
  "language_info": {
   "file_extension": ".jl",
   "mimetype": "application/julia",
   "name": "julia",
   "version": "1.6.5"
  }
 },
 "nbformat": 4,
 "nbformat_minor": 5
}
