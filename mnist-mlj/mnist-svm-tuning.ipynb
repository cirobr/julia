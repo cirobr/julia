{
 "cells": [
  {
   "cell_type": "markdown",
   "id": "e145f758",
   "metadata": {},
   "source": [
    "#### sklearn/SVM tuning with MNIST"
   ]
  },
  {
   "cell_type": "markdown",
   "id": "5f262ba3",
   "metadata": {},
   "source": [
    "##### Libraries"
   ]
  },
  {
   "cell_type": "code",
   "execution_count": 24,
   "id": "6b12a07d",
   "metadata": {},
   "outputs": [],
   "source": [
    "using MLDatasets           # mnist\n",
    "using Images\n",
    "using PreprocessingImages; pim = PreprocessingImages\n",
    "using PreprocessingArrays; pa  = PreprocessingArrays\n",
    "\n",
    "using MLJ                  # make_blobs, rmse, confmat, categorical\n",
    "using MLDataUtils          # label, nlabel, labelfreq\n",
    "using PyCall               # required by ScikitLearn\n",
    "\n",
    "using Metrics              # r2-score\n",
    "using Random\n",
    "using Plots; gr()\n",
    "using StatsPlots\n",
    "using DataFrames"
   ]
  },
  {
   "cell_type": "markdown",
   "id": "d53a09fe",
   "metadata": {},
   "source": [
    "##### Functions"
   ]
  },
  {
   "cell_type": "code",
   "execution_count": 25,
   "id": "66ccdfa6",
   "metadata": {},
   "outputs": [
    {
     "data": {
      "text/plain": [
       "printMetrics (generic function with 1 method)"
      ]
     },
     "metadata": {},
     "output_type": "display_data"
    }
   ],
   "source": [
    "# metrics\n",
    "function printMetrics(ŷ, y)\n",
    "    display(confmat(ŷ, y))\n",
    "    acc = accuracy(ŷ, y)\n",
    "    f1  = multiclass_f1score(ŷ, y)\n",
    "    println(\"accuracy: \", round(acc; digits=3))\n",
    "    println(\"f1-score: \", round(f1;  digits=3))\n",
    "    \n",
    "    return (acc, f1)\n",
    "end"
   ]
  },
  {
   "cell_type": "markdown",
   "id": "8903cf71",
   "metadata": {},
   "source": [
    "##### Dataset"
   ]
  },
  {
   "cell_type": "code",
   "execution_count": 26,
   "id": "4d7603a2",
   "metadata": {},
   "outputs": [
    {
     "data": {
      "text/plain": [
       "(28, 28, 60000)"
      ]
     },
     "metadata": {},
     "output_type": "display_data"
    },
    {
     "data": {
      "text/plain": [
       "1×5 adjoint(::Vector{Int64}) with eltype Int64:\n",
       " 5  0  4  1  9"
      ]
     },
     "metadata": {},
     "output_type": "display_data"
    },
    {
     "data": {
      "image/png": "[encoded data removed]",
      "text/html": [
       "<img src=\"data:image/png;base64,iVBORw0KGgoAAAANSUhEUgAAARgAAAA4CAAAAAADPrjSAAAABGdBTUEAALGPC/xhBQAAAAFzUkdCAK7OHOkAAAAgY0hSTQAAeiYAAICEAAD6AAAAgOgAAHUwAADqYAAAOpgAABdwnLpRPAAABPJJREFUaAXtwX2M1nUBAPDPc34HHjmOeOlgOUSNaKPggqHpCCheckgGUSIpiJW6UGQrmViXO6cwEvgDGE4nE+TFXS3CQ51DJnHGoJsn6pwEkTQccBGi58FF3vJ52rPjFnf3fV44tNX8fT5BIipIRAWJqCARFSSigkRUkIgKElHBJ2Kku8223ip7/X8KElFBDhcpk3W3Hoa4yzIz/dMSDyqswnY9Zcxygz66ZrxNxjrgfFR6UIlxal24IBEVdDBQN9carZfp2hyx0jSnvKFWYVfZrEzGKS36uMarWnQ2Rh9b5DZKvfMzx0JpZHwcgkRU0M5XvaRMe2mVmj3tmPcdkF8PI2w0QNZBj6i2yy8t1tk4g22RS4nLDZRyPi7TXfGuNssYQ3GvY75ugzrnChJRQTuHnVSmTZ1G39Big2I9bqY2I1yi1jhfETPbHrkNcLuN9iveBPOw3xTHFTbDCn2l7NTPUqT0dZNzBYmooJ33LDDFa1bidRM1G2q+Yo10vRRqPWepBq953zelxJTIZw0OKt5o65RhqcMKCUZ5Qg8ve8gu3f3GJNRrL0hEBR08Y4dThvuR5ZrxljsUp8J2PWW8YKaxKq1xwhvSrjfCXu0NUy6fMmxXvFsNwE7rFXaLNdhuhibMMAlHPKW9IBEVdNKED/Bj1dKK9UULlHlXg6ec9rzntSn1Mzdrb7JSuZW7HEcVq68fSmu0SGEPu1/Goyo1yfqFrHuc0F6QiAqiqow01gQvKk53y0x2ymz1SnU0UEdD8JZclin3Z6cUZ5DNslbZoZAH3K/FNvc5g4tNMlDKw2p0FCSigqhmt9vrCb9Xb7WMQkaYjO+oVbxXdNbTdW4xCQ9pVJzrDMNLViikl7kytpkq6ws2GYnfekRnQSIqyOFtc6w1yyyfsV6D/JZLqVWrsxJpKTG9tRquxHiX6uZmJc6o86HgVcWZagl2udUHCummL+7xObe5wZddIiNjo2adBYmoIKct/mK58Ra7zCJH5TZFhYytYtIyXtfRGRmP+bmsYVL+5R/2eVK9WscdUWq/YgyyWdYhxxXW4oR+/ioj65gmA7zrWTFBIirI4003+ra17jTYRLmV6ubvfq2j7qqww0IdzXXYtVq9o8Y+f9TmDv0cUpz7pGUtUYxGUz2nt7fVWOc91QaoFhckooK8Gm2wRjDGODvl86EG7XVXaYEjljuts1/JZTw2K0aFSbJqHFCcOv20GWOstEPigkRUkMcw3zNKwD4vy2+r9iosMEON6briGcV40WdRZ46uKJWWUS0uSEQFOQwxzzT9ZX2kQVpuKSlTzfcfP1WpzCazfZL6SGO107pim3yCRFQQ0d8P3GWQVvUW2SqfjIz+VnrSSV8zy3CXesc2j+qalMH2KGStElm7dc235BMkooIOyg21ype0qrNUjbTCLjLXdE0Gy9pjhwd0VUaJQipMlNZiteO65kr5BImo4By9Pa7CFVrtttw2ZxS2xytGob9ynFRtvgtzjXXy66UcR92rq/6gRFouQSIqOOtqC1zl81qdscJizYpzxHfdqVLWCo856MKk/De86aArXOmEmCARFZw1zTRZf/KsjyzT6Hw0qFLl4/GC7ytsv91GuzCLrbHIPPt0FiSigrMWWuh/wzrrFPY3Y12o37nJBFVu06yjIBEVfIo1udEiP1Fln46CRFTwqdZknnligkTUvwF5x1NZIErsDQAAAABJRU5ErkJg\">"
      ],
      "text/plain": [
       "28×140 MosaicView{Gray{Float32}, 4, Base.ReshapedArray{Gray{Float32}, 4, PaddedView{Gray{Float32}, 3, Tuple{Base.OneTo{Int64}, Base.OneTo{Int64}, Base.OneTo{Int64}}, Array{Gray{Float32}, 3}}, Tuple{Base.MultiplicativeInverses.SignedMultiplicativeInverse{Int64}, Base.MultiplicativeInverses.SignedMultiplicativeInverse{Int64}}}}:\n",
       " Gray{Float32}(0.0)  Gray{Float32}(0.0)  …  Gray{Float32}(0.0)\n",
       " Gray{Float32}(0.0)  Gray{Float32}(0.0)     Gray{Float32}(0.0)\n",
       " Gray{Float32}(0.0)  Gray{Float32}(0.0)     Gray{Float32}(0.0)\n",
       " Gray{Float32}(0.0)  Gray{Float32}(0.0)     Gray{Float32}(0.0)\n",
       " Gray{Float32}(0.0)  Gray{Float32}(0.0)     Gray{Float32}(0.0)\n",
       " Gray{Float32}(0.0)  Gray{Float32}(0.0)  …  Gray{Float32}(0.0)\n",
       " Gray{Float32}(0.0)  Gray{Float32}(0.0)     Gray{Float32}(0.0)\n",
       " Gray{Float32}(0.0)  Gray{Float32}(0.0)     Gray{Float32}(0.0)\n",
       " Gray{Float32}(0.0)  Gray{Float32}(0.0)     Gray{Float32}(0.0)\n",
       " Gray{Float32}(0.0)  Gray{Float32}(0.0)     Gray{Float32}(0.0)\n",
       " ⋮                                       ⋱  \n",
       " Gray{Float32}(0.0)  Gray{Float32}(0.0)     Gray{Float32}(0.0)\n",
       " Gray{Float32}(0.0)  Gray{Float32}(0.0)  …  Gray{Float32}(0.0)\n",
       " Gray{Float32}(0.0)  Gray{Float32}(0.0)     Gray{Float32}(0.0)\n",
       " Gray{Float32}(0.0)  Gray{Float32}(0.0)     Gray{Float32}(0.0)\n",
       " Gray{Float32}(0.0)  Gray{Float32}(0.0)     Gray{Float32}(0.0)\n",
       " Gray{Float32}(0.0)  Gray{Float32}(0.0)     Gray{Float32}(0.0)\n",
       " Gray{Float32}(0.0)  Gray{Float32}(0.0)  …  Gray{Float32}(0.0)\n",
       " Gray{Float32}(0.0)  Gray{Float32}(0.0)     Gray{Float32}(0.0)\n",
       " Gray{Float32}(0.0)  Gray{Float32}(0.0)     Gray{Float32}(0.0)"
      ]
     },
     "metadata": {},
     "output_type": "display_data"
    }
   ],
   "source": [
    "# load mnist\n",
    "datasetX,    datasetY    = MNIST(:train)[:]\n",
    "validationX, validationY = MNIST(:test)[:]\n",
    "\n",
    "display( size(datasetX) )\n",
    "\n",
    "img  = datasetX[:, :, 1:5]\n",
    "img2 = permutedims(img, (2, 1, 3))\n",
    "\n",
    "display(datasetY[1:5]')\n",
    "mosaicview( Gray.(img2) ; nrow=1)"
   ]
  },
  {
   "cell_type": "code",
   "execution_count": 27,
   "id": "2ecbb1f6",
   "metadata": {},
   "outputs": [
    {
     "data": {
      "text/plain": [
       "((28, 28, 42001), (28, 28, 17999), (28, 28, 10000))"
      ]
     },
     "metadata": {},
     "output_type": "display_data"
    }
   ],
   "source": [
    "# split trainset, testset from dataset\n",
    "Random.seed!(1)\n",
    "(trainX, trainY), (testX, testY) = stratifiedobs((datasetX, datasetY), p = 0.7)\n",
    "size(trainX), size(testX), size(validationX)"
   ]
  },
  {
   "cell_type": "markdown",
   "id": "b8b9c3b0",
   "metadata": {},
   "source": [
    "##### Preprocessing"
   ]
  },
  {
   "cell_type": "code",
   "execution_count": 28,
   "id": "f76c815d",
   "metadata": {},
   "outputs": [],
   "source": [
    "function preprocess(X, y)\n",
    "    newX = pim.batchImage2DF(X)\n",
    "    #coerce!(newX)   # no need, all scitypes are Continuous in this example\n",
    "    new_y = coerce(y, OrderedFactor)\n",
    "    \n",
    "    return (newX, new_y)\n",
    "end\n",
    "\n",
    "X, y = preprocess(trainX, trainY);"
   ]
  },
  {
   "cell_type": "code",
   "execution_count": 29,
   "id": "a82db1c6",
   "metadata": {},
   "outputs": [
    {
     "data": {
      "text/plain": [
       "Table{AbstractVector{Continuous}}"
      ]
     },
     "metadata": {},
     "output_type": "display_data"
    }
   ],
   "source": [
    "scitype(X)"
   ]
  },
  {
   "cell_type": "code",
   "execution_count": 30,
   "id": "4724874c",
   "metadata": {},
   "outputs": [
    {
     "data": {
      "text/plain": [
       "AbstractVector{OrderedFactor{10}} (alias for AbstractArray{OrderedFactor{10}, 1})"
      ]
     },
     "metadata": {},
     "output_type": "display_data"
    }
   ],
   "source": [
    "scitype(y)"
   ]
  },
  {
   "cell_type": "markdown",
   "id": "e26954e9",
   "metadata": {},
   "source": [
    "##### Pipe the model"
   ]
  },
  {
   "cell_type": "code",
   "execution_count": 31,
   "id": "84b424c5",
   "metadata": {
    "scrolled": true
   },
   "outputs": [
    {
     "data": {
      "text/plain": [
       "Pipeline280(\n",
       "  pca = PCA(\n",
       "        maxoutdim = 0, \n",
       "        method = :auto, \n",
       "        pratio = 0.9, \n",
       "        mean = nothing), \n",
       "  standardizer = Standardizer(\n",
       "        features = Symbol[], \n",
       "        ignore = false, \n",
       "        ordered_factor = false, \n",
       "        count = false), \n",
       "  svm_classifier = SVMClassifier(\n",
       "        C = 1.0, \n",
       "        kernel = \"rbf\", \n",
       "        degree = 3, \n",
       "        gamma = \"auto\", \n",
       "        coef0 = 0.0, \n",
       "        shrinking = true, \n",
       "        tol = 0.001, \n",
       "        cache_size = 200, \n",
       "        max_iter = -1, \n",
       "        decision_function_shape = \"ovr\", \n",
       "        random_state = nothing))"
      ]
     },
     "metadata": {},
     "output_type": "display_data"
    }
   ],
   "source": [
    "# standardize predictors\n",
    "std = Standardizer()\n",
    "\n",
    "# reduce predictors\n",
    "PCA = @load PCA pkg=MultivariateStats verbosity=0\n",
    "reducer = PCA(pratio = 0.9)\n",
    "\n",
    "# svm scikitlearn\n",
    "SVMClass = @load SVMClassifier pkg=\"ScikitLearn\" verbosity=0\n",
    "svm = SVMClass()\n",
    "\n",
    "pipe = @pipeline reducer std svm"
   ]
  },
  {
   "cell_type": "markdown",
   "id": "3dba2e5a",
   "metadata": {},
   "source": [
    "##### Train"
   ]
  },
  {
   "cell_type": "code",
   "execution_count": 32,
   "id": "f5f2780b",
   "metadata": {},
   "outputs": [
    {
     "name": "stderr",
     "output_type": "stream",
     "text": [
      "┌ Info: Training machine(Pipeline280(pca = PCA(maxoutdim = 0, …), …), …).\n",
      "└ @ MLJBase /home/ciro/.julia/packages/MLJBase/QZctr/src/machines.jl:487\n"
     ]
    },
    {
     "name": "stderr",
     "output_type": "stream",
     "text": [
      "┌ Info: Training machine(PCA(maxoutdim = 0, …), …).\n",
      "└ @ MLJBase /home/ciro/.julia/packages/MLJBase/QZctr/src/machines.jl:487\n"
     ]
    },
    {
     "name": "stderr",
     "output_type": "stream",
     "text": [
      "┌ Info: Training machine(Standardizer(features = Symbol[], …), …).\n",
      "└ @ MLJBase /home/ciro/.julia/packages/MLJBase/QZctr/src/machines.jl:487\n"
     ]
    },
    {
     "name": "stderr",
     "output_type": "stream",
     "text": [
      "┌ Info: Training machine(SVMClassifier(C = 1.0, …), …).\n",
      "└ @ MLJBase /home/ciro/.julia/packages/MLJBase/QZctr/src/machines.jl:487\n"
     ]
    },
    {
     "data": {
      "text/plain": [
       "Machine trained 1 time; caches data\n",
       "  model: Pipeline280(pca = PCA(maxoutdim = 0, …), …)\n",
       "  args: \n",
       "    1:\tSource @980 ⏎ `Table{AbstractVector{Continuous}}`\n",
       "    2:\tSource @127 ⏎ `AbstractVector{OrderedFactor{10}}`\n"
      ]
     },
     "metadata": {},
     "output_type": "display_data"
    }
   ],
   "source": [
    "mach = MLJ.machine(pipe, X, y) |> fit! #(acceleration=CPUProcesses())     # not supported yet"
   ]
  },
  {
   "cell_type": "code",
   "execution_count": 33,
   "id": "dfb7a967",
   "metadata": {},
   "outputs": [
    {
     "data": {
      "text/plain": [
       "5-element CategoricalArrays.CategoricalArray{Int64,1,UInt32}:\n",
       " 8\n",
       " 2\n",
       " 6\n",
       " 2\n",
       " 7"
      ]
     },
     "metadata": {},
     "output_type": "display_data"
    }
   ],
   "source": [
    "ŷ = MLJ.predict(mach, X);\n",
    "ŷ[1:5]"
   ]
  },
  {
   "cell_type": "code",
   "execution_count": 34,
   "id": "ba6932d3",
   "metadata": {},
   "outputs": [
    {
     "data": {
      "text/plain": [
       "10×10 Matrix{Int64}:\n",
       " 4141     1     2     0     0     2     2     1     0     2\n",
       "    0  4696     3     2     4     0     0    12     5     0\n",
       "    0    10  4155     6     1     1     0     4     4     0\n",
       "    0     1     0  4259     0     7     0     0     1     2\n",
       "    1     2     5     0  4063     1     2     6     2    14\n",
       "    0     0     0     7     0  3775     0     0     4     1\n",
       "    3     0     0     0     4     5  4137     0     0     0\n",
       "    0     4     3     9     1     0     0  4351     2    11\n",
       "    0     2     3     4     1     2     2     2  4075     1\n",
       "    1     3     0     5    15     2     0    10     3  4133"
      ]
     },
     "metadata": {},
     "output_type": "display_data"
    },
    {
     "name": "stdout",
     "output_type": "stream",
     "text": [
      "accuracy: 0.995\n",
      "f1-score: 0.995\n"
     ]
    }
   ],
   "source": [
    "accTrain, f1Train = printMetrics(ŷ, y);"
   ]
  },
  {
   "cell_type": "markdown",
   "id": "43d387be",
   "metadata": {},
   "source": [
    "##### Evaluate\n",
    "\n",
    "The machine model obtained is now evaluated for accuracy and f1 through cross-validdation with the trainset."
   ]
  },
  {
   "cell_type": "markdown",
   "id": "4c1cb6c2",
   "metadata": {},
   "source": [
    "##### Single parameter"
   ]
  },
  {
   "cell_type": "code",
   "execution_count": 35,
   "id": "1c4dfa8f",
   "metadata": {},
   "outputs": [
    {
     "data": {
      "text/plain": [
       "\u001b[35m`Accuracy` - accuracy type with instances `accuracy`. \u001b[39m\n",
       "(name = \"Accuracy\",\n",
       " instances = [\"accuracy\"],\n",
       " human_name = \"accuracy\",\n",
       " target_scitype = Union{AbstractArray{var\"#s1289\", N} where {var\"#s1289\"<:Union{Missing, Multiclass{N}}, N}, AbstractArray{var\"#s1288\", N} where {var\"#s1288\"<:Union{Missing, OrderedFactor{N}}, N}} where N,\n",
       " supports_weights = true,\n",
       " supports_class_weights = false,\n",
       " prediction_type = :deterministic,\n",
       " orientation = :score,\n",
       " reports_each_observation = false,\n",
       " aggregation = StatisticalTraits.Mean(),\n",
       " is_feature_dependent = false,\n",
       " docstring = \"`Accuracy` - accuracy type with instances `accuracy`. \",\n",
       " distribution_type = Unknown,)"
      ]
     },
     "metadata": {},
     "output_type": "display_data"
    }
   ],
   "source": [
    "measures(\"accuracy\")[1]"
   ]
  },
  {
   "cell_type": "code",
   "execution_count": 36,
   "id": "69f01f4e",
   "metadata": {},
   "outputs": [
    {
     "data": {
      "text/plain": [
       "CV(\n",
       "  nfolds = 3, \n",
       "  shuffle = false, \n",
       "  rng = Random._GLOBAL_RNG())"
      ]
     },
     "metadata": {},
     "output_type": "display_data"
    }
   ],
   "source": [
    "cv = CV(nfolds=3)"
   ]
  },
  {
   "cell_type": "code",
   "execution_count": 37,
   "id": "098d5c59",
   "metadata": {},
   "outputs": [
    {
     "data": {
      "text/plain": [
       "PerformanceEvaluation object with these fields:\n",
       "  measure, operation, measurement, per_fold,\n",
       "  per_observation, fitted_params_per_fold,\n",
       "  report_per_fold, train_test_rows\n",
       "Extract:\n",
       "┌────────────┬───────────┬─────────────┬─────────┬───────────────────────┐\n",
       "│\u001b[22m measure    \u001b[0m│\u001b[22m operation \u001b[0m│\u001b[22m measurement \u001b[0m│\u001b[22m 1.96*SE \u001b[0m│\u001b[22m per_fold              \u001b[0m│\n",
       "├────────────┼───────────┼─────────────┼─────────┼───────────────────────┤\n",
       "│ Accuracy() │ predict   │ 0.975       │ 0.00255 │ [0.973, 0.976, 0.976] │\n",
       "└────────────┴───────────┴─────────────┴─────────┴───────────────────────┘\n"
      ]
     },
     "metadata": {},
     "output_type": "display_data"
    }
   ],
   "source": [
    "evr = MLJ.evaluate(pipe, X, y,\n",
    "                   resampling=cv,\n",
    "                   measure=accuracy,\n",
    "                   acceleration=CPUProcesses(),\n",
    "                   verbosity=0)"
   ]
  },
  {
   "cell_type": "code",
   "execution_count": 38,
   "id": "061f7428",
   "metadata": {},
   "outputs": [
    {
     "data": {
      "text/plain": [
       "1-element Vector{Accuracy}:\n",
       " Accuracy()"
      ]
     },
     "metadata": {},
     "output_type": "display_data"
    }
   ],
   "source": [
    "evr.measure"
   ]
  },
  {
   "cell_type": "code",
   "execution_count": 39,
   "id": "d10f4ff6",
   "metadata": {},
   "outputs": [
    {
     "data": {
      "text/plain": [
       "1-element Vector{Vector{Float64}}:\n",
       " [0.9729305049639312, 0.9762142857142857, 0.976]"
      ]
     },
     "metadata": {},
     "output_type": "display_data"
    }
   ],
   "source": [
    "evr.per_fold"
   ]
  },
  {
   "cell_type": "markdown",
   "id": "ccd58cda",
   "metadata": {},
   "source": [
    "##### Multiple parameters"
   ]
  },
  {
   "cell_type": "code",
   "execution_count": 40,
   "id": "e455707e",
   "metadata": {},
   "outputs": [],
   "source": [
    "meas = [accuracy, multiclass_f1score]\n",
    "cv   = CV(nfolds=10)\n",
    "\n",
    "evaluationResult = MLJ.evaluate(pipe, X, y,\n",
    "                   resampling=cv,\n",
    "                   measure=meas,\n",
    "                   acceleration=CPUThreads(),\n",
    "                   verbosity=0)"
   ]
  },
  {
   "cell_type": "code",
   "execution_count": null,
   "id": "60097db3",
   "metadata": {},
   "outputs": [],
   "source": [
    "xs = 1:10\n",
    "\n",
    "# accuracy\n",
    "ys = repeat([accTrain], 10)\n",
    "ys = hcat(ys, evaluationResult.per_fold[1])\n",
    "p1 = plot(xs, ys, title=\"accuracy\")\n",
    "\n",
    "# f1\n",
    "ys = repeat([f1Train], 10)\n",
    "ys = hcat(ys, evaluationResult.per_fold[2])\n",
    "p2 = plot(xs, ys, title=\"f1-score\")\n",
    "     \n",
    "# plots\n",
    "plot(p1, p2, layout = (1, 2), size=(800,300),\n",
    "     label=[\"trainset\" \"evaluation\"],\n",
    "     xlabel=\"nfolds\",\n",
    "     linewidth=1.5,\n",
    "     markershape=:circle,\n",
    "     markersize=3,\n",
    "     legend=:outerbottom)"
   ]
  },
  {
   "cell_type": "markdown",
   "id": "8cd1ef06",
   "metadata": {},
   "source": [
    "### Tuning"
   ]
  },
  {
   "cell_type": "code",
   "execution_count": null,
   "id": "b7d62e05",
   "metadata": {},
   "outputs": [],
   "source": [
    "r = range(pipe, :(svm_classifier.C), lower=1e-3, upper=1.0, scale=:log)"
   ]
  },
  {
   "cell_type": "code",
   "execution_count": null,
   "id": "1e97ee5c",
   "metadata": {},
   "outputs": [],
   "source": [
    "cv   = CV(nfolds=3)\n",
    "\n",
    "selfTuningPipe = TunedModel(model=pipe,\n",
    "                            resampling=cv,\n",
    "                            tuning=Grid(resolution=3),\n",
    "                            range=r,\n",
    "                            measure=accuracy,\n",
    "                            acceleration=CPUThreads())"
   ]
  },
  {
   "cell_type": "code",
   "execution_count": null,
   "id": "05987366",
   "metadata": {},
   "outputs": [],
   "source": [
    "iterator(r, 5)"
   ]
  },
  {
   "cell_type": "code",
   "execution_count": null,
   "id": "b47c921c",
   "metadata": {
    "scrolled": true
   },
   "outputs": [],
   "source": [
    "mach = machine(selfTuningPipe, X, y) |> fit! #(acceleration=CPUProcesses())     # not supported yet\n"
   ]
  },
  {
   "cell_type": "code",
   "execution_count": null,
   "id": "c1c77a02",
   "metadata": {},
   "outputs": [],
   "source": [
    "# best parameter for the search\n",
    "println(\"Best C: \", fitted_params(mach).best_model.svm_classifier.C)"
   ]
  }
 ],
 "metadata": {
  "kernelspec": {
   "display_name": "Julia 1.6.6",
   "language": "julia",
   "name": "julia-1.6"
  },
  "language_info": {
   "file_extension": ".jl",
   "mimetype": "application/julia",
   "name": "julia",
   "version": "1.6.6"
  }
 },
 "nbformat": 4,
 "nbformat_minor": 5
}
