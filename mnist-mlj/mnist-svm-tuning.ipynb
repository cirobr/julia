{
 "cells": [
  {
   "cell_type": "markdown",
   "id": "e145f758",
   "metadata": {},
   "source": [
    "# sklearn/SVM tuning with MNIST"
   ]
  },
  {
   "cell_type": "markdown",
   "id": "5f262ba3",
   "metadata": {},
   "source": [
    "## Libraries"
   ]
  },
  {
   "cell_type": "code",
   "execution_count": 1,
   "id": "d63e87f2",
   "metadata": {},
   "outputs": [],
   "source": [
    "# libraries\n",
    "#using CUDA\n",
    "\n",
    "using Flux              # the julia ml library\n",
    "using Images            # image processing and machine vision for julia\n",
    "\n",
    "using MLJ               # make_blobs, rmse, confmat, f1score, coerce\n",
    "#using MLJFlux           # NeuralNetworkClassifier, CUDALibs\n",
    "using MLDataUtils       # label, nlabel, labelfreq, stratifiedobs\n",
    "using MLDatasets        # mnist\n",
    "\n",
    "#using LinearAlgebra     # pinv pseudo-inverse matrix\n",
    "#using Metrics           # r2-score\n",
    "using Random\n",
    "#using StatsBase         # standardize (normalization)\n",
    "#using Distributions\n",
    "\n",
    "using Plots; gr()\n",
    "using StatsPlots\n",
    "using Printf\n",
    "\n",
    "using CSV\n",
    "using DataFrames\n"
   ]
  },
  {
   "cell_type": "markdown",
   "id": "d53a09fe",
   "metadata": {},
   "source": [
    "## Functions"
   ]
  },
  {
   "cell_type": "code",
   "execution_count": 2,
   "id": "53255360",
   "metadata": {},
   "outputs": [
    {
     "data": {
      "text/plain": [
       "batchImage2DF (generic function with 1 method)"
      ]
     },
     "execution_count": 2,
     "metadata": {},
     "output_type": "execute_result"
    }
   ],
   "source": [
    "image2Vector(M) = vec( Float32.(M) )   # 32-bits is faster on GPU\n",
    "\n",
    "function batchImage2Vector(imagesArray3D)\n",
    "    h, v, N = size(imagesArray3D)\n",
    "    vectorOfImageVectors = [ image2Vector( imagesArray3D[:, :, i] ) for i in 1:N]\n",
    "end\n",
    "\n",
    "function batchImage2Matrix(imagesArray3D)\n",
    "    vectorOfImageVectors = batchImage2Vector(imagesArray3D)\n",
    "    M = reduce(hcat, vectorOfImageVectors)\n",
    "    M'\n",
    "end\n",
    "\n",
    "function batchImage2DF(imagesArray3D)\n",
    "    M = batchImage2Matrix(imagesArray3D)\n",
    "    DataFrame(M, :auto)\n",
    "end\n"
   ]
  },
  {
   "cell_type": "code",
   "execution_count": 3,
   "id": "66ccdfa6",
   "metadata": {},
   "outputs": [
    {
     "data": {
      "text/plain": [
       "printMetrics (generic function with 1 method)"
      ]
     },
     "execution_count": 3,
     "metadata": {},
     "output_type": "execute_result"
    }
   ],
   "source": [
    "# metrics\n",
    "function printMetrics(ŷ, y)\n",
    "    display(confmat(ŷ, y))\n",
    "    acc = accuracy(ŷ, y)\n",
    "    f1  = multiclass_f1score(ŷ, y)\n",
    "    println(\"accuracy: \", round(acc; digits=3))\n",
    "    println(\"f1-score: \", round(f1;  digits=3))\n",
    "    \n",
    "    return (acc, f1)\n",
    "end\n"
   ]
  },
  {
   "cell_type": "markdown",
   "id": "8903cf71",
   "metadata": {},
   "source": [
    "## Dataset"
   ]
  },
  {
   "cell_type": "code",
   "execution_count": 4,
   "id": "4bd90da6",
   "metadata": {},
   "outputs": [
    {
     "data": {
      "text/plain": [
       "((28, 28, 42001), (28, 28, 17999), (28, 28, 10000))"
      ]
     },
     "execution_count": 4,
     "metadata": {},
     "output_type": "execute_result"
    }
   ],
   "source": [
    "# load mnist from MLDatasets\n",
    "trainX_original,      trainY_original      = MNIST.traindata()\n",
    "validationX_original, validationY_original = MNIST.testdata()\n",
    "\n",
    "# split trainset, testset, validation set\n",
    "Random.seed!(1)\n",
    "(trainX, trainY), (testX, testY) = stratifiedobs((trainX_original, trainY_original), p = 0.7)\n",
    "validationX = copy(validationX_original); validationY = copy(validationY_original)\n",
    "\n",
    "size(trainX), size(testX), size(validationX)\n"
   ]
  },
  {
   "cell_type": "markdown",
   "id": "b8b9c3b0",
   "metadata": {},
   "source": [
    "## Preprocess\n"
   ]
  },
  {
   "cell_type": "code",
   "execution_count": 5,
   "id": "f76c815d",
   "metadata": {},
   "outputs": [],
   "source": [
    "function preprocess(X, y)\n",
    "    newX = batchImage2DF(X)\n",
    "    #coerce!(newX)   # no need, all scitypes are Continuous in this example\n",
    "    new_y = coerce(y, OrderedFactor)\n",
    "    \n",
    "    return (newX, new_y)\n",
    "end\n",
    "\n",
    "X, y = preprocess(trainX, trainY);"
   ]
  },
  {
   "cell_type": "code",
   "execution_count": 6,
   "id": "a82db1c6",
   "metadata": {},
   "outputs": [
    {
     "data": {
      "text/plain": [
       "Table{AbstractVector{Continuous}}"
      ]
     },
     "execution_count": 6,
     "metadata": {},
     "output_type": "execute_result"
    }
   ],
   "source": [
    "scitype(X)"
   ]
  },
  {
   "cell_type": "code",
   "execution_count": 7,
   "id": "4724874c",
   "metadata": {},
   "outputs": [
    {
     "data": {
      "text/plain": [
       "AbstractVector{OrderedFactor{10}} (alias for AbstractArray{OrderedFactor{10}, 1})"
      ]
     },
     "execution_count": 7,
     "metadata": {},
     "output_type": "execute_result"
    }
   ],
   "source": [
    "scitype(y)"
   ]
  },
  {
   "cell_type": "markdown",
   "id": "e26954e9",
   "metadata": {},
   "source": [
    "## Pipe the model"
   ]
  },
  {
   "cell_type": "code",
   "execution_count": 8,
   "id": "84b424c5",
   "metadata": {
    "scrolled": true
   },
   "outputs": [
    {
     "data": {
      "text/plain": [
       "Pipeline291(\n",
       "    pca = PCA(\n",
       "            maxoutdim = 0,\n",
       "            method = :auto,\n",
       "            pratio = 0.9,\n",
       "            mean = nothing),\n",
       "    standardizer = Standardizer(\n",
       "            features = Symbol[],\n",
       "            ignore = false,\n",
       "            ordered_factor = false,\n",
       "            count = false),\n",
       "    svm_classifier = SVMClassifier(\n",
       "            C = 1.0,\n",
       "            kernel = \"rbf\",\n",
       "            degree = 3,\n",
       "            gamma = \"auto\",\n",
       "            coef0 = 0.0,\n",
       "            shrinking = true,\n",
       "            tol = 0.001,\n",
       "            cache_size = 200,\n",
       "            max_iter = -1,\n",
       "            decision_function_shape = \"ovr\",\n",
       "            random_state = nothing))"
      ]
     },
     "execution_count": 8,
     "metadata": {},
     "output_type": "execute_result"
    }
   ],
   "source": [
    "# standardize predictors\n",
    "std = Standardizer()\n",
    "\n",
    "# reduce predictors\n",
    "PCA = @load PCA pkg=MultivariateStats verbosity=0\n",
    "reducer = PCA(pratio = 0.9)\n",
    "\n",
    "# svm scikitlearn\n",
    "SVMClass = @load SVMClassifier pkg=\"ScikitLearn\" verbosity=0\n",
    "svm = SVMClass()\n",
    "\n",
    "pipe = @pipeline reducer std svm\n"
   ]
  },
  {
   "cell_type": "markdown",
   "id": "3dba2e5a",
   "metadata": {},
   "source": [
    "### Train"
   ]
  },
  {
   "cell_type": "code",
   "execution_count": 9,
   "id": "f5f2780b",
   "metadata": {},
   "outputs": [
    {
     "name": "stderr",
     "output_type": "stream",
     "text": [
      "┌ Info: Training Machine{Pipeline291,…}.\n",
      "└ @ MLJBase /home/ciro/.julia/packages/MLJBase/pCiRR/src/machines.jl:464\n",
      "┌ Info: Training Machine{PCA,…}.\n",
      "└ @ MLJBase /home/ciro/.julia/packages/MLJBase/pCiRR/src/machines.jl:464\n",
      "┌ Info: Training Machine{Standardizer,…}.\n",
      "└ @ MLJBase /home/ciro/.julia/packages/MLJBase/pCiRR/src/machines.jl:464\n",
      "┌ Info: Training Machine{SVMClassifier,…}.\n",
      "└ @ MLJBase /home/ciro/.julia/packages/MLJBase/pCiRR/src/machines.jl:464\n"
     ]
    },
    {
     "data": {
      "text/plain": [
       "Machine{Pipeline291,…} trained 1 time; caches data\n",
       "  model: Pipeline291\n",
       "  args: \n",
       "    1:\tSource @169 ⏎ `Table{AbstractVector{Continuous}}`\n",
       "    2:\tSource @382 ⏎ `AbstractVector{OrderedFactor{10}}`\n"
      ]
     },
     "execution_count": 9,
     "metadata": {},
     "output_type": "execute_result"
    }
   ],
   "source": [
    "mach = MLJ.machine(pipe, X, y) |> fit! #(acceleration=CPUProcesses())     # not supported yet\n"
   ]
  },
  {
   "cell_type": "code",
   "execution_count": 10,
   "id": "dfb7a967",
   "metadata": {},
   "outputs": [
    {
     "data": {
      "text/plain": [
       "5-element CategoricalArrays.CategoricalArray{Int64,1,UInt32}:\n",
       " 8\n",
       " 2\n",
       " 6\n",
       " 2\n",
       " 7"
      ]
     },
     "execution_count": 10,
     "metadata": {},
     "output_type": "execute_result"
    }
   ],
   "source": [
    "ŷ = MLJ.predict(mach, X);\n",
    "ŷ[1:5]\n"
   ]
  },
  {
   "cell_type": "code",
   "execution_count": 11,
   "id": "ba6932d3",
   "metadata": {},
   "outputs": [
    {
     "data": {
      "text/plain": [
       "10×10 Matrix{Int64}:\n",
       " 4141     1     2     0     0     2     2     1     0     2\n",
       "    0  4696     3     2     4     0     0    12     5     0\n",
       "    0    10  4155     6     1     1     0     4     4     0\n",
       "    0     1     0  4259     0     7     0     0     1     2\n",
       "    1     2     5     0  4063     1     2     6     2    14\n",
       "    0     0     0     7     0  3775     0     0     4     1\n",
       "    3     0     0     0     4     5  4137     0     0     0\n",
       "    0     4     3     9     1     0     0  4351     2    11\n",
       "    0     2     3     4     1     2     2     2  4075     1\n",
       "    1     3     0     5    15     2     0    10     3  4133"
      ]
     },
     "metadata": {},
     "output_type": "display_data"
    },
    {
     "name": "stdout",
     "output_type": "stream",
     "text": [
      "accuracy: 0.995\n",
      "f1-score: 0.995\n"
     ]
    }
   ],
   "source": [
    "accTrain, f1Train = printMetrics(ŷ, y);\n"
   ]
  },
  {
   "cell_type": "markdown",
   "id": "43d387be",
   "metadata": {},
   "source": [
    "### Evaluate\n",
    "\n",
    "The machine model obtained is now evaluated for accuracy and f1 through cross-validdation with the trainset."
   ]
  },
  {
   "cell_type": "markdown",
   "id": "4c1cb6c2",
   "metadata": {},
   "source": [
    "#### Single parameter"
   ]
  },
  {
   "cell_type": "raw",
   "id": "1c4dfa8f",
   "metadata": {},
   "source": [
    "measures(\"accuracy\")[1]"
   ]
  },
  {
   "cell_type": "raw",
   "id": "69f01f4e",
   "metadata": {},
   "source": [
    "cv = CV(nfolds=3)"
   ]
  },
  {
   "cell_type": "raw",
   "id": "098d5c59",
   "metadata": {},
   "source": [
    "evr = MLJ.evaluate(pipe, X, y,\n",
    "                   resampling=cv,\n",
    "                   measure=accuracy,\n",
    "                   acceleration=CPUProcesses(),\n",
    "                   verbosity=0)"
   ]
  },
  {
   "cell_type": "raw",
   "id": "061f7428",
   "metadata": {},
   "source": [
    "evr.measure"
   ]
  },
  {
   "cell_type": "raw",
   "id": "d10f4ff6",
   "metadata": {},
   "source": [
    "evr.per_fold"
   ]
  },
  {
   "cell_type": "markdown",
   "id": "ccd58cda",
   "metadata": {},
   "source": [
    "#### Multiple parameters"
   ]
  },
  {
   "cell_type": "code",
   "execution_count": 12,
   "id": "e455707e",
   "metadata": {},
   "outputs": [
    {
     "data": {
      "text/plain": [
       "PerformanceEvaluation object with these fields:\n",
       "  measure, measurement, operation, per_fold,\n",
       "  per_observation, fitted_params_per_fold,\n",
       "  report_per_fold, train_test_pairs\n",
       "Extract:\n",
       "┌─────────────────────────────────────────────────────────────────────────┬─────\n",
       "│\u001b[22m measure                                                                 \u001b[0m│\u001b[22m me\u001b[0m ⋯\n",
       "├─────────────────────────────────────────────────────────────────────────┼─────\n",
       "│ Accuracy()                                                              │ 0. ⋯\n",
       "│ MulticlassFScore(β = 1.0,average = MacroAvg(),return_type = LittleDict) │ 0. ⋯\n",
       "└─────────────────────────────────────────────────────────────────────────┴─────\n",
       "\u001b[36m                                                               3 columns omitted\u001b[0m\n"
      ]
     },
     "execution_count": 12,
     "metadata": {},
     "output_type": "execute_result"
    }
   ],
   "source": [
    "meas = [accuracy, multiclass_f1score]\n",
    "cv   = CV(nfolds=10)\n",
    "\n",
    "evaluationResult = MLJ.evaluate(pipe, X, y,\n",
    "                   resampling=cv,\n",
    "                   measure=meas,\n",
    "                   acceleration=CPUThreads(),\n",
    "                   verbosity=0)"
   ]
  },
  {
   "cell_type": "code",
   "execution_count": 13,
   "id": "60097db3",
   "metadata": {},
   "outputs": [
    {
     "data": {
      "image/svg+xml": [
       "<?xml version=\"1.0\" encoding=\"utf-8\"?>\n",
       "<svg xmlns=\"http://www.w3.org/2000/svg\" xmlns:xlink=\"http://www.w3.org/1999/xlink\" width=\"800\" height=\"300\" viewBox=\"0 0 3200 1200\">\n",
       "<defs>\n",
       "  <clipPath id=\"clip690\">\n",
       "    <rect x=\"0\" y=\"0\" width=\"3200\" height=\"1200\"/>\n",
       "  </clipPath>\n",
       "</defs>\n",
       "<path clip-path=\"url(#clip690)\" d=\"\n",
       "M0 1200 L3200 1200 L3200 0 L0 0  Z\n",
       "  \" fill=\"#ffffff\" fill-rule=\"evenodd\" fill-opacity=\"1\"/>\n",
       "<defs>\n",
       "  <clipPath id=\"clip691\">\n",
       "    <rect x=\"640\" y=\"0\" width=\"2241\" height=\"1200\"/>\n",
       "  </clipPath>\n",
       "</defs>\n",
       "<path clip-path=\"url(#clip690)\" d=\"\n",
       "M224.436 752.247 L1552.76 752.247 L1552.76 97.0121 L224.436 97.0121  Z\n",
       "  \" fill=\"#ffffff\" fill-rule=\"evenodd\" fill-opacity=\"1\"/>\n",
       "<defs>\n",
       "  <clipPath id=\"clip692\">\n",
       "    <rect x=\"224\" y=\"97\" width=\"1329\" height=\"656\"/>\n",
       "  </clipPath>\n",
       "</defs>\n",
       "<polyline clip-path=\"url(#clip692)\" style=\"stroke:#000000; stroke-linecap:butt; stroke-linejoin:round; stroke-width:2; stroke-opacity:0.1; fill:none\" points=\"\n",
       "  401.267,752.247 401.267,97.0121 \n",
       "  \"/>\n",
       "<polyline clip-path=\"url(#clip692)\" style=\"stroke:#000000; stroke-linecap:butt; stroke-linejoin:round; stroke-width:2; stroke-opacity:0.1; fill:none\" points=\"\n",
       "  679.741,752.247 679.741,97.0121 \n",
       "  \"/>\n",
       "<polyline clip-path=\"url(#clip692)\" style=\"stroke:#000000; stroke-linecap:butt; stroke-linejoin:round; stroke-width:2; stroke-opacity:0.1; fill:none\" points=\"\n",
       "  958.214,752.247 958.214,97.0121 \n",
       "  \"/>\n",
       "<polyline clip-path=\"url(#clip692)\" style=\"stroke:#000000; stroke-linecap:butt; stroke-linejoin:round; stroke-width:2; stroke-opacity:0.1; fill:none\" points=\"\n",
       "  1236.69,752.247 1236.69,97.0121 \n",
       "  \"/>\n",
       "<polyline clip-path=\"url(#clip692)\" style=\"stroke:#000000; stroke-linecap:butt; stroke-linejoin:round; stroke-width:2; stroke-opacity:0.1; fill:none\" points=\"\n",
       "  1515.16,752.247 1515.16,97.0121 \n",
       "  \"/>\n",
       "<polyline clip-path=\"url(#clip690)\" style=\"stroke:#000000; stroke-linecap:butt; stroke-linejoin:round; stroke-width:4; stroke-opacity:1; fill:none\" points=\"\n",
       "  224.436,752.247 1552.76,752.247 \n",
       "  \"/>\n",
       "<polyline clip-path=\"url(#clip690)\" style=\"stroke:#000000; stroke-linecap:butt; stroke-linejoin:round; stroke-width:4; stroke-opacity:1; fill:none\" points=\"\n",
       "  401.267,752.247 401.267,739.43 \n",
       "  \"/>\n",
       "<polyline clip-path=\"url(#clip690)\" style=\"stroke:#000000; stroke-linecap:butt; stroke-linejoin:round; stroke-width:4; stroke-opacity:1; fill:none\" points=\"\n",
       "  679.741,752.247 679.741,739.43 \n",
       "  \"/>\n",
       "<polyline clip-path=\"url(#clip690)\" style=\"stroke:#000000; stroke-linecap:butt; stroke-linejoin:round; stroke-width:4; stroke-opacity:1; fill:none\" points=\"\n",
       "  958.214,752.247 958.214,739.43 \n",
       "  \"/>\n",
       "<polyline clip-path=\"url(#clip690)\" style=\"stroke:#000000; stroke-linecap:butt; stroke-linejoin:round; stroke-width:4; stroke-opacity:1; fill:none\" points=\"\n",
       "  1236.69,752.247 1236.69,739.43 \n",
       "  \"/>\n",
       "<polyline clip-path=\"url(#clip690)\" style=\"stroke:#000000; stroke-linecap:butt; stroke-linejoin:round; stroke-width:4; stroke-opacity:1; fill:none\" points=\"\n",
       "  1515.16,752.247 1515.16,739.43 \n",
       "  \"/>\n",
       "<path clip-path=\"url(#clip690)\" d=\"M395.92 817.112 L412.239 817.112 L412.239 821.047 L390.295 821.047 L390.295 817.112 Q392.957 814.357 397.54 809.728 Q402.146 805.075 403.327 803.733 Q405.572 801.209 406.452 799.473 Q407.355 797.714 407.355 796.024 Q407.355 793.27 405.41 791.534 Q403.489 789.797 400.387 789.797 Q398.188 789.797 395.734 790.561 Q393.304 791.325 390.526 792.876 L390.526 788.154 Q393.35 787.02 395.804 786.441 Q398.257 785.862 400.295 785.862 Q405.665 785.862 408.859 788.547 Q412.054 791.233 412.054 795.723 Q412.054 797.853 411.244 799.774 Q410.457 801.672 408.35 804.265 Q407.771 804.936 404.669 808.154 Q401.568 811.348 395.92 817.112 Z\" fill=\"#000000\" fill-rule=\"evenodd\" fill-opacity=\"1\" /><path clip-path=\"url(#clip690)\" d=\"M682.75 790.561 L670.944 809.01 L682.75 809.01 L682.75 790.561 M681.523 786.487 L687.403 786.487 L687.403 809.01 L692.333 809.01 L692.333 812.899 L687.403 812.899 L687.403 821.047 L682.75 821.047 L682.75 812.899 L667.148 812.899 L667.148 808.385 L681.523 786.487 Z\" fill=\"#000000\" fill-rule=\"evenodd\" fill-opacity=\"1\" /><path clip-path=\"url(#clip690)\" d=\"M958.619 801.904 Q955.471 801.904 953.619 804.057 Q951.791 806.209 951.791 809.959 Q951.791 813.686 953.619 815.862 Q955.471 818.015 958.619 818.015 Q961.768 818.015 963.596 815.862 Q965.448 813.686 965.448 809.959 Q965.448 806.209 963.596 804.057 Q961.768 801.904 958.619 801.904 M967.902 787.251 L967.902 791.51 Q966.143 790.677 964.337 790.237 Q962.555 789.797 960.795 789.797 Q956.166 789.797 953.712 792.922 Q951.282 796.047 950.934 802.367 Q952.3 800.353 954.36 799.288 Q956.42 798.2 958.897 798.2 Q964.106 798.2 967.115 801.371 Q970.147 804.52 970.147 809.959 Q970.147 815.283 966.999 818.501 Q963.851 821.719 958.619 821.719 Q952.624 821.719 949.453 817.135 Q946.282 812.529 946.282 803.802 Q946.282 795.608 950.17 790.746 Q954.059 785.862 960.61 785.862 Q962.369 785.862 964.152 786.209 Q965.957 786.557 967.902 787.251 Z\" fill=\"#000000\" fill-rule=\"evenodd\" fill-opacity=\"1\" /><path clip-path=\"url(#clip690)\" d=\"M1236.69 804.635 Q1233.35 804.635 1231.43 806.418 Q1229.54 808.2 1229.54 811.325 Q1229.54 814.45 1231.43 816.232 Q1233.35 818.015 1236.69 818.015 Q1240.02 818.015 1241.94 816.232 Q1243.86 814.427 1243.86 811.325 Q1243.86 808.2 1241.94 806.418 Q1240.04 804.635 1236.69 804.635 M1232.01 802.645 Q1229 801.904 1227.31 799.844 Q1225.65 797.783 1225.65 794.821 Q1225.65 790.677 1228.59 788.27 Q1231.55 785.862 1236.69 785.862 Q1241.85 785.862 1244.79 788.27 Q1247.73 790.677 1247.73 794.821 Q1247.73 797.783 1246.04 799.844 Q1244.37 801.904 1241.39 802.645 Q1244.77 803.432 1246.64 805.723 Q1248.54 808.015 1248.54 811.325 Q1248.54 816.348 1245.46 819.033 Q1242.41 821.719 1236.69 821.719 Q1230.97 821.719 1227.89 819.033 Q1224.84 816.348 1224.84 811.325 Q1224.84 808.015 1226.73 805.723 Q1228.63 803.432 1232.01 802.645 M1230.3 795.26 Q1230.3 797.946 1231.97 799.45 Q1233.66 800.955 1236.69 800.955 Q1239.7 800.955 1241.39 799.45 Q1243.1 797.946 1243.1 795.26 Q1243.1 792.575 1241.39 791.071 Q1239.7 789.566 1236.69 789.566 Q1233.66 789.566 1231.97 791.071 Q1230.3 792.575 1230.3 795.26 Z\" fill=\"#000000\" fill-rule=\"evenodd\" fill-opacity=\"1\" /><path clip-path=\"url(#clip690)\" d=\"M1489.85 817.112 L1497.49 817.112 L1497.49 790.746 L1489.18 792.413 L1489.18 788.154 L1497.44 786.487 L1502.12 786.487 L1502.12 817.112 L1509.76 817.112 L1509.76 821.047 L1489.85 821.047 L1489.85 817.112 Z\" fill=\"#000000\" fill-rule=\"evenodd\" fill-opacity=\"1\" /><path clip-path=\"url(#clip690)\" d=\"M1529.2 789.566 Q1525.59 789.566 1523.76 793.131 Q1521.96 796.672 1521.96 803.802 Q1521.96 810.908 1523.76 814.473 Q1525.59 818.015 1529.2 818.015 Q1532.84 818.015 1534.64 814.473 Q1536.47 810.908 1536.47 803.802 Q1536.47 796.672 1534.64 793.131 Q1532.84 789.566 1529.2 789.566 M1529.2 785.862 Q1535.01 785.862 1538.07 790.469 Q1541.15 795.052 1541.15 803.802 Q1541.15 812.529 1538.07 817.135 Q1535.01 821.719 1529.2 821.719 Q1523.39 821.719 1520.31 817.135 Q1517.26 812.529 1517.26 803.802 Q1517.26 795.052 1520.31 790.469 Q1523.39 785.862 1529.2 785.862 Z\" fill=\"#000000\" fill-rule=\"evenodd\" fill-opacity=\"1\" /><path clip-path=\"url(#clip690)\" d=\"M824.207 887.595 L824.207 909.111 L818.35 909.111 L818.35 887.786 Q818.35 882.725 816.377 880.211 Q814.404 877.696 810.457 877.696 Q805.714 877.696 802.977 880.72 Q800.24 883.744 800.24 888.964 L800.24 909.111 L794.352 909.111 L794.352 873.463 L800.24 873.463 L800.24 879.001 Q802.341 875.787 805.173 874.195 Q808.038 872.604 811.762 872.604 Q817.905 872.604 821.056 876.423 Q824.207 880.211 824.207 887.595 Z\" fill=\"#000000\" fill-rule=\"evenodd\" fill-opacity=\"1\" /><path clip-path=\"url(#clip690)\" d=\"M853.935 859.586 L853.935 864.456 L848.333 864.456 Q845.182 864.456 843.94 865.729 Q842.731 867.002 842.731 870.312 L842.731 873.463 L852.375 873.463 L852.375 878.015 L842.731 878.015 L842.731 909.111 L836.843 909.111 L836.843 878.015 L831.241 878.015 L831.241 873.463 L836.843 873.463 L836.843 870.981 Q836.843 865.029 839.612 862.323 Q842.381 859.586 848.396 859.586 L853.935 859.586 Z\" fill=\"#000000\" fill-rule=\"evenodd\" fill-opacity=\"1\" /><path clip-path=\"url(#clip690)\" d=\"M872.65 877.569 Q867.939 877.569 865.202 881.261 Q862.465 884.922 862.465 891.319 Q862.465 897.717 865.17 901.409 Q867.907 905.069 872.65 905.069 Q877.329 905.069 880.066 901.377 Q882.803 897.685 882.803 891.319 Q882.803 884.985 880.066 881.293 Q877.329 877.569 872.65 877.569 M872.65 872.604 Q880.289 872.604 884.649 877.569 Q889.01 882.534 889.01 891.319 Q889.01 900.072 884.649 905.069 Q880.289 910.034 872.65 910.034 Q864.979 910.034 860.619 905.069 Q856.29 900.072 856.29 891.319 Q856.29 882.534 860.619 877.569 Q864.979 872.604 872.65 872.604 Z\" fill=\"#000000\" fill-rule=\"evenodd\" fill-opacity=\"1\" /><path clip-path=\"url(#clip690)\" d=\"M898.717 859.586 L904.574 859.586 L904.574 909.111 L898.717 909.111 L898.717 859.586 Z\" fill=\"#000000\" fill-rule=\"evenodd\" fill-opacity=\"1\" /><path clip-path=\"url(#clip690)\" d=\"M940.285 878.874 L940.285 859.586 L946.142 859.586 L946.142 909.111 L940.285 909.111 L940.285 903.764 Q938.439 906.947 935.607 908.507 Q932.806 910.034 928.859 910.034 Q922.398 910.034 918.324 904.878 Q914.282 899.722 914.282 891.319 Q914.282 882.916 918.324 877.76 Q922.398 872.604 928.859 872.604 Q932.806 872.604 935.607 874.164 Q938.439 875.691 940.285 878.874 M920.329 891.319 Q920.329 897.78 922.971 901.472 Q925.644 905.133 930.291 905.133 Q934.938 905.133 937.612 901.472 Q940.285 897.78 940.285 891.319 Q940.285 884.858 937.612 881.198 Q934.938 877.506 930.291 877.506 Q925.644 877.506 922.971 881.198 Q920.329 884.858 920.329 891.319 Z\" fill=\"#000000\" fill-rule=\"evenodd\" fill-opacity=\"1\" /><path clip-path=\"url(#clip690)\" d=\"M980.93 874.514 L980.93 880.052 Q978.448 878.779 975.774 878.142 Q973.101 877.506 970.236 877.506 Q965.876 877.506 963.679 878.842 Q961.515 880.179 961.515 882.853 Q961.515 884.89 963.075 886.067 Q964.634 887.213 969.345 888.264 L971.35 888.709 Q977.588 890.046 980.198 892.497 Q982.84 894.916 982.84 899.276 Q982.84 904.241 978.893 907.138 Q974.979 910.034 968.104 910.034 Q965.239 910.034 962.12 909.461 Q959.032 908.92 955.595 907.806 L955.595 901.759 Q958.841 903.446 961.992 904.305 Q965.144 905.133 968.231 905.133 Q972.369 905.133 974.597 903.732 Q976.825 902.3 976.825 899.722 Q976.825 897.335 975.201 896.062 Q973.61 894.788 968.167 893.611 L966.13 893.133 Q960.688 891.988 958.269 889.632 Q955.85 887.245 955.85 883.107 Q955.85 878.078 959.414 875.341 Q962.979 872.604 969.536 872.604 Q972.782 872.604 975.647 873.081 Q978.511 873.559 980.93 874.514 Z\" fill=\"#000000\" fill-rule=\"evenodd\" fill-opacity=\"1\" /><polyline clip-path=\"url(#clip692)\" style=\"stroke:#000000; stroke-linecap:butt; stroke-linejoin:round; stroke-width:2; stroke-opacity:0.1; fill:none\" points=\"\n",
       "  224.436,712.417 1552.76,712.417 \n",
       "  \"/>\n",
       "<polyline clip-path=\"url(#clip692)\" style=\"stroke:#000000; stroke-linecap:butt; stroke-linejoin:round; stroke-width:2; stroke-opacity:0.1; fill:none\" points=\"\n",
       "  224.436,562.129 1552.76,562.129 \n",
       "  \"/>\n",
       "<polyline clip-path=\"url(#clip692)\" style=\"stroke:#000000; stroke-linecap:butt; stroke-linejoin:round; stroke-width:2; stroke-opacity:0.1; fill:none\" points=\"\n",
       "  224.436,411.842 1552.76,411.842 \n",
       "  \"/>\n",
       "<polyline clip-path=\"url(#clip692)\" style=\"stroke:#000000; stroke-linecap:butt; stroke-linejoin:round; stroke-width:2; stroke-opacity:0.1; fill:none\" points=\"\n",
       "  224.436,261.554 1552.76,261.554 \n",
       "  \"/>\n",
       "<polyline clip-path=\"url(#clip692)\" style=\"stroke:#000000; stroke-linecap:butt; stroke-linejoin:round; stroke-width:2; stroke-opacity:0.1; fill:none\" points=\"\n",
       "  224.436,111.266 1552.76,111.266 \n",
       "  \"/>\n",
       "<polyline clip-path=\"url(#clip690)\" style=\"stroke:#000000; stroke-linecap:butt; stroke-linejoin:round; stroke-width:4; stroke-opacity:1; fill:none\" points=\"\n",
       "  224.436,752.247 224.436,97.0121 \n",
       "  \"/>\n",
       "<polyline clip-path=\"url(#clip690)\" style=\"stroke:#000000; stroke-linecap:butt; stroke-linejoin:round; stroke-width:4; stroke-opacity:1; fill:none\" points=\"\n",
       "  224.436,712.417 243.334,712.417 \n",
       "  \"/>\n",
       "<polyline clip-path=\"url(#clip690)\" style=\"stroke:#000000; stroke-linecap:butt; stroke-linejoin:round; stroke-width:4; stroke-opacity:1; fill:none\" points=\"\n",
       "  224.436,562.129 243.334,562.129 \n",
       "  \"/>\n",
       "<polyline clip-path=\"url(#clip690)\" style=\"stroke:#000000; stroke-linecap:butt; stroke-linejoin:round; stroke-width:4; stroke-opacity:1; fill:none\" points=\"\n",
       "  224.436,411.842 243.334,411.842 \n",
       "  \"/>\n",
       "<polyline clip-path=\"url(#clip690)\" style=\"stroke:#000000; stroke-linecap:butt; stroke-linejoin:round; stroke-width:4; stroke-opacity:1; fill:none\" points=\"\n",
       "  224.436,261.554 243.334,261.554 \n",
       "  \"/>\n",
       "<polyline clip-path=\"url(#clip690)\" style=\"stroke:#000000; stroke-linecap:butt; stroke-linejoin:round; stroke-width:4; stroke-opacity:1; fill:none\" points=\"\n",
       "  224.436,111.266 243.334,111.266 \n",
       "  \"/>\n",
       "<path clip-path=\"url(#clip690)\" d=\"M59.9319 698.216 Q56.3208 698.216 54.4921 701.781 Q52.6865 705.322 52.6865 712.452 Q52.6865 719.558 54.4921 723.123 Q56.3208 726.665 59.9319 726.665 Q63.5661 726.665 65.3717 723.123 Q67.2004 719.558 67.2004 712.452 Q67.2004 705.322 65.3717 701.781 Q63.5661 698.216 59.9319 698.216 M59.9319 694.512 Q65.742 694.512 68.7976 699.119 Q71.8763 703.702 71.8763 712.452 Q71.8763 721.179 68.7976 725.785 Q65.742 730.368 59.9319 730.368 Q54.1217 730.368 51.043 725.785 Q47.9875 721.179 47.9875 712.452 Q47.9875 703.702 51.043 699.119 Q54.1217 694.512 59.9319 694.512 Z\" fill=\"#000000\" fill-rule=\"evenodd\" fill-opacity=\"1\" /><path clip-path=\"url(#clip690)\" d=\"M80.0938 723.818 L84.978 723.818 L84.978 729.697 L80.0938 729.697 L80.0938 723.818 Z\" fill=\"#000000\" fill-rule=\"evenodd\" fill-opacity=\"1\" /><path clip-path=\"url(#clip690)\" d=\"M95.3021 728.98 L95.3021 724.72 Q97.0613 725.554 98.8668 725.993 Q100.672 726.433 102.408 726.433 Q107.038 726.433 109.469 723.331 Q111.922 720.206 112.27 713.864 Q110.927 715.855 108.867 716.919 Q106.807 717.984 104.307 717.984 Q99.1215 717.984 96.0891 714.859 Q93.0798 711.711 93.0798 706.271 Q93.0798 700.947 96.228 697.73 Q99.3761 694.512 104.608 694.512 Q110.603 694.512 113.751 699.119 Q116.922 703.702 116.922 712.452 Q116.922 720.623 113.033 725.507 Q109.168 730.368 102.617 730.368 Q100.858 730.368 99.052 730.021 Q97.2465 729.674 95.3021 728.98 M104.608 714.327 Q107.756 714.327 109.584 712.174 Q111.436 710.021 111.436 706.271 Q111.436 702.545 109.584 700.392 Q107.756 698.216 104.608 698.216 Q101.459 698.216 99.6076 700.392 Q97.7789 702.545 97.7789 706.271 Q97.7789 710.021 99.6076 712.174 Q101.459 714.327 104.608 714.327 Z\" fill=\"#000000\" fill-rule=\"evenodd\" fill-opacity=\"1\" /><path clip-path=\"url(#clip690)\" d=\"M124.144 695.137 L146.367 695.137 L146.367 697.128 L133.82 729.697 L128.936 729.697 L140.742 699.072 L124.144 699.072 L124.144 695.137 Z\" fill=\"#000000\" fill-rule=\"evenodd\" fill-opacity=\"1\" /><path clip-path=\"url(#clip690)\" d=\"M155.533 695.137 L173.89 695.137 L173.89 699.072 L159.816 699.072 L159.816 707.545 Q160.834 707.197 161.853 707.035 Q162.871 706.85 163.89 706.85 Q169.677 706.85 173.056 710.021 Q176.436 713.193 176.436 718.609 Q176.436 724.188 172.964 727.29 Q169.491 730.368 163.172 730.368 Q160.996 730.368 158.728 729.998 Q156.482 729.628 154.075 728.887 L154.075 724.188 Q156.158 725.322 158.38 725.878 Q160.603 726.433 163.079 726.433 Q167.084 726.433 169.422 724.327 Q171.76 722.22 171.76 718.609 Q171.76 714.998 169.422 712.892 Q167.084 710.785 163.079 710.785 Q161.204 710.785 159.329 711.202 Q157.478 711.619 155.533 712.498 L155.533 695.137 Z\" fill=\"#000000\" fill-rule=\"evenodd\" fill-opacity=\"1\" /><path clip-path=\"url(#clip690)\" d=\"M58.9365 547.928 Q55.3254 547.928 53.4967 551.493 Q51.6912 555.035 51.6912 562.164 Q51.6912 569.271 53.4967 572.835 Q55.3254 576.377 58.9365 576.377 Q62.5707 576.377 64.3763 572.835 Q66.205 569.271 66.205 562.164 Q66.205 555.035 64.3763 551.493 Q62.5707 547.928 58.9365 547.928 M58.9365 544.224 Q64.7467 544.224 67.8022 548.831 Q70.8809 553.414 70.8809 562.164 Q70.8809 570.891 67.8022 575.497 Q64.7467 580.081 58.9365 580.081 Q53.1264 580.081 50.0477 575.497 Q46.9921 570.891 46.9921 562.164 Q46.9921 553.414 50.0477 548.831 Q53.1264 544.224 58.9365 544.224 Z\" fill=\"#000000\" fill-rule=\"evenodd\" fill-opacity=\"1\" /><path clip-path=\"url(#clip690)\" d=\"M79.0984 573.53 L83.9827 573.53 L83.9827 579.409 L79.0984 579.409 L79.0984 573.53 Z\" fill=\"#000000\" fill-rule=\"evenodd\" fill-opacity=\"1\" /><path clip-path=\"url(#clip690)\" d=\"M94.3067 578.692 L94.3067 574.433 Q96.0659 575.266 97.8715 575.706 Q99.677 576.146 101.413 576.146 Q106.043 576.146 108.473 573.044 Q110.927 569.919 111.274 563.576 Q109.932 565.567 107.871 566.632 Q105.811 567.697 103.311 567.697 Q98.1261 567.697 95.0937 564.572 Q92.0845 561.423 92.0845 555.984 Q92.0845 550.66 95.2326 547.442 Q98.3807 544.224 103.612 544.224 Q109.608 544.224 112.756 548.831 Q115.927 553.414 115.927 562.164 Q115.927 570.335 112.038 575.22 Q108.172 580.081 101.621 580.081 Q99.8622 580.081 98.0567 579.734 Q96.2511 579.386 94.3067 578.692 M103.612 564.039 Q106.76 564.039 108.589 561.886 Q110.441 559.734 110.441 555.984 Q110.441 552.257 108.589 550.104 Q106.76 547.928 103.612 547.928 Q100.464 547.928 98.6122 550.104 Q96.7835 552.257 96.7835 555.984 Q96.7835 559.734 98.6122 561.886 Q100.464 564.039 103.612 564.039 Z\" fill=\"#000000\" fill-rule=\"evenodd\" fill-opacity=\"1\" /><path clip-path=\"url(#clip690)\" d=\"M134.33 562.997 Q130.996 562.997 129.075 564.78 Q127.177 566.562 127.177 569.687 Q127.177 572.812 129.075 574.595 Q130.996 576.377 134.33 576.377 Q137.663 576.377 139.584 574.595 Q141.506 572.789 141.506 569.687 Q141.506 566.562 139.584 564.78 Q137.686 562.997 134.33 562.997 M129.654 561.007 Q126.644 560.266 124.955 558.206 Q123.288 556.146 123.288 553.183 Q123.288 549.039 126.228 546.632 Q129.191 544.224 134.33 544.224 Q139.492 544.224 142.431 546.632 Q145.371 549.039 145.371 553.183 Q145.371 556.146 143.681 558.206 Q142.015 560.266 139.029 561.007 Q142.408 561.794 144.283 564.085 Q146.181 566.377 146.181 569.687 Q146.181 574.71 143.103 577.396 Q140.047 580.081 134.33 580.081 Q128.612 580.081 125.533 577.396 Q122.478 574.71 122.478 569.687 Q122.478 566.377 124.376 564.085 Q126.274 561.794 129.654 561.007 M127.941 553.623 Q127.941 556.308 129.607 557.812 Q131.297 559.317 134.33 559.317 Q137.339 559.317 139.029 557.812 Q140.742 556.308 140.742 553.623 Q140.742 550.937 139.029 549.433 Q137.339 547.928 134.33 547.928 Q131.297 547.928 129.607 549.433 Q127.941 550.937 127.941 553.623 Z\" fill=\"#000000\" fill-rule=\"evenodd\" fill-opacity=\"1\" /><path clip-path=\"url(#clip690)\" d=\"M164.491 547.928 Q160.88 547.928 159.052 551.493 Q157.246 555.035 157.246 562.164 Q157.246 569.271 159.052 572.835 Q160.88 576.377 164.491 576.377 Q168.126 576.377 169.931 572.835 Q171.76 569.271 171.76 562.164 Q171.76 555.035 169.931 551.493 Q168.126 547.928 164.491 547.928 M164.491 544.224 Q170.302 544.224 173.357 548.831 Q176.436 553.414 176.436 562.164 Q176.436 570.891 173.357 575.497 Q170.302 580.081 164.491 580.081 Q158.681 580.081 155.603 575.497 Q152.547 570.891 152.547 562.164 Q152.547 553.414 155.603 548.831 Q158.681 544.224 164.491 544.224 Z\" fill=\"#000000\" fill-rule=\"evenodd\" fill-opacity=\"1\" /><path clip-path=\"url(#clip690)\" d=\"M59.9319 397.64 Q56.3208 397.64 54.4921 401.205 Q52.6865 404.747 52.6865 411.876 Q52.6865 418.983 54.4921 422.548 Q56.3208 426.089 59.9319 426.089 Q63.5661 426.089 65.3717 422.548 Q67.2004 418.983 67.2004 411.876 Q67.2004 404.747 65.3717 401.205 Q63.5661 397.64 59.9319 397.64 M59.9319 393.937 Q65.742 393.937 68.7976 398.543 Q71.8763 403.126 71.8763 411.876 Q71.8763 420.603 68.7976 425.21 Q65.742 429.793 59.9319 429.793 Q54.1217 429.793 51.043 425.21 Q47.9875 420.603 47.9875 411.876 Q47.9875 403.126 51.043 398.543 Q54.1217 393.937 59.9319 393.937 Z\" fill=\"#000000\" fill-rule=\"evenodd\" fill-opacity=\"1\" /><path clip-path=\"url(#clip690)\" d=\"M80.0938 423.242 L84.978 423.242 L84.978 429.122 L80.0938 429.122 L80.0938 423.242 Z\" fill=\"#000000\" fill-rule=\"evenodd\" fill-opacity=\"1\" /><path clip-path=\"url(#clip690)\" d=\"M95.3021 428.404 L95.3021 424.145 Q97.0613 424.978 98.8668 425.418 Q100.672 425.858 102.408 425.858 Q107.038 425.858 109.469 422.756 Q111.922 419.631 112.27 413.288 Q110.927 415.279 108.867 416.344 Q106.807 417.409 104.307 417.409 Q99.1215 417.409 96.0891 414.284 Q93.0798 411.136 93.0798 405.696 Q93.0798 400.372 96.228 397.154 Q99.3761 393.937 104.608 393.937 Q110.603 393.937 113.751 398.543 Q116.922 403.126 116.922 411.876 Q116.922 420.048 113.033 424.932 Q109.168 429.793 102.617 429.793 Q100.858 429.793 99.052 429.446 Q97.2465 429.099 95.3021 428.404 M104.608 413.751 Q107.756 413.751 109.584 411.599 Q111.436 409.446 111.436 405.696 Q111.436 401.969 109.584 399.816 Q107.756 397.64 104.608 397.64 Q101.459 397.64 99.6076 399.816 Q97.7789 401.969 97.7789 405.696 Q97.7789 409.446 99.6076 411.599 Q101.459 413.751 104.608 413.751 Z\" fill=\"#000000\" fill-rule=\"evenodd\" fill-opacity=\"1\" /><path clip-path=\"url(#clip690)\" d=\"M135.325 412.71 Q131.992 412.71 130.07 414.492 Q128.172 416.275 128.172 419.4 Q128.172 422.525 130.07 424.307 Q131.992 426.089 135.325 426.089 Q138.658 426.089 140.58 424.307 Q142.501 422.501 142.501 419.4 Q142.501 416.275 140.58 414.492 Q138.681 412.71 135.325 412.71 M130.649 410.719 Q127.64 409.978 125.95 407.918 Q124.283 405.858 124.283 402.895 Q124.283 398.752 127.223 396.344 Q130.186 393.937 135.325 393.937 Q140.487 393.937 143.427 396.344 Q146.367 398.752 146.367 402.895 Q146.367 405.858 144.677 407.918 Q143.01 409.978 140.024 410.719 Q143.404 411.506 145.279 413.798 Q147.177 416.089 147.177 419.4 Q147.177 424.423 144.098 427.108 Q141.043 429.793 135.325 429.793 Q129.607 429.793 126.529 427.108 Q123.473 424.423 123.473 419.4 Q123.473 416.089 125.371 413.798 Q127.269 411.506 130.649 410.719 M128.936 403.335 Q128.936 406.02 130.603 407.525 Q132.293 409.029 135.325 409.029 Q138.334 409.029 140.024 407.525 Q141.737 406.02 141.737 403.335 Q141.737 400.65 140.024 399.145 Q138.334 397.64 135.325 397.64 Q132.293 397.64 130.603 399.145 Q128.936 400.65 128.936 403.335 Z\" fill=\"#000000\" fill-rule=\"evenodd\" fill-opacity=\"1\" /><path clip-path=\"url(#clip690)\" d=\"M155.533 394.562 L173.89 394.562 L173.89 398.497 L159.816 398.497 L159.816 406.969 Q160.834 406.622 161.853 406.46 Q162.871 406.275 163.89 406.275 Q169.677 406.275 173.056 409.446 Q176.436 412.617 176.436 418.034 Q176.436 423.612 172.964 426.714 Q169.491 429.793 163.172 429.793 Q160.996 429.793 158.728 429.423 Q156.482 429.052 154.075 428.312 L154.075 423.612 Q156.158 424.747 158.38 425.302 Q160.603 425.858 163.079 425.858 Q167.084 425.858 169.422 423.751 Q171.76 421.645 171.76 418.034 Q171.76 414.423 169.422 412.316 Q167.084 410.21 163.079 410.21 Q161.204 410.21 159.329 410.626 Q157.478 411.043 155.533 411.923 L155.533 394.562 Z\" fill=\"#000000\" fill-rule=\"evenodd\" fill-opacity=\"1\" /><path clip-path=\"url(#clip690)\" d=\"M58.9365 247.353 Q55.3254 247.353 53.4967 250.917 Q51.6912 254.459 51.6912 261.589 Q51.6912 268.695 53.4967 272.26 Q55.3254 275.802 58.9365 275.802 Q62.5707 275.802 64.3763 272.26 Q66.205 268.695 66.205 261.589 Q66.205 254.459 64.3763 250.917 Q62.5707 247.353 58.9365 247.353 M58.9365 243.649 Q64.7467 243.649 67.8022 248.255 Q70.8809 252.839 70.8809 261.589 Q70.8809 270.316 67.8022 274.922 Q64.7467 279.505 58.9365 279.505 Q53.1264 279.505 50.0477 274.922 Q46.9921 270.316 46.9921 261.589 Q46.9921 252.839 50.0477 248.255 Q53.1264 243.649 58.9365 243.649 Z\" fill=\"#000000\" fill-rule=\"evenodd\" fill-opacity=\"1\" /><path clip-path=\"url(#clip690)\" d=\"M79.0984 272.954 L83.9827 272.954 L83.9827 278.834 L79.0984 278.834 L79.0984 272.954 Z\" fill=\"#000000\" fill-rule=\"evenodd\" fill-opacity=\"1\" /><path clip-path=\"url(#clip690)\" d=\"M94.3067 278.116 L94.3067 273.857 Q96.0659 274.69 97.8715 275.13 Q99.677 275.57 101.413 275.57 Q106.043 275.57 108.473 272.468 Q110.927 269.343 111.274 263.001 Q109.932 264.991 107.871 266.056 Q105.811 267.121 103.311 267.121 Q98.1261 267.121 95.0937 263.996 Q92.0845 260.848 92.0845 255.408 Q92.0845 250.084 95.2326 246.867 Q98.3807 243.649 103.612 243.649 Q109.608 243.649 112.756 248.255 Q115.927 252.839 115.927 261.589 Q115.927 269.76 112.038 274.644 Q108.172 279.505 101.621 279.505 Q99.8622 279.505 98.0567 279.158 Q96.2511 278.811 94.3067 278.116 M103.612 263.464 Q106.76 263.464 108.589 261.311 Q110.441 259.158 110.441 255.408 Q110.441 251.681 108.589 249.529 Q106.76 247.353 103.612 247.353 Q100.464 247.353 98.6122 249.529 Q96.7835 251.681 96.7835 255.408 Q96.7835 259.158 98.6122 261.311 Q100.464 263.464 103.612 263.464 Z\" fill=\"#000000\" fill-rule=\"evenodd\" fill-opacity=\"1\" /><path clip-path=\"url(#clip690)\" d=\"M124.469 278.116 L124.469 273.857 Q126.228 274.69 128.033 275.13 Q129.839 275.57 131.575 275.57 Q136.205 275.57 138.635 272.468 Q141.089 269.343 141.436 263.001 Q140.093 264.991 138.033 266.056 Q135.973 267.121 133.473 267.121 Q128.288 267.121 125.256 263.996 Q122.246 260.848 122.246 255.408 Q122.246 250.084 125.394 246.867 Q128.543 243.649 133.774 243.649 Q139.769 243.649 142.918 248.255 Q146.089 252.839 146.089 261.589 Q146.089 269.76 142.2 274.644 Q138.334 279.505 131.783 279.505 Q130.024 279.505 128.219 279.158 Q126.413 278.811 124.469 278.116 M133.774 263.464 Q136.922 263.464 138.751 261.311 Q140.603 259.158 140.603 255.408 Q140.603 251.681 138.751 249.529 Q136.922 247.353 133.774 247.353 Q130.626 247.353 128.774 249.529 Q126.945 251.681 126.945 255.408 Q126.945 259.158 128.774 261.311 Q130.626 263.464 133.774 263.464 Z\" fill=\"#000000\" fill-rule=\"evenodd\" fill-opacity=\"1\" /><path clip-path=\"url(#clip690)\" d=\"M164.491 247.353 Q160.88 247.353 159.052 250.917 Q157.246 254.459 157.246 261.589 Q157.246 268.695 159.052 272.26 Q160.88 275.802 164.491 275.802 Q168.126 275.802 169.931 272.26 Q171.76 268.695 171.76 261.589 Q171.76 254.459 169.931 250.917 Q168.126 247.353 164.491 247.353 M164.491 243.649 Q170.302 243.649 173.357 248.255 Q176.436 252.839 176.436 261.589 Q176.436 270.316 173.357 274.922 Q170.302 279.505 164.491 279.505 Q158.681 279.505 155.603 274.922 Q152.547 270.316 152.547 261.589 Q152.547 252.839 155.603 248.255 Q158.681 243.649 164.491 243.649 Z\" fill=\"#000000\" fill-rule=\"evenodd\" fill-opacity=\"1\" /><path clip-path=\"url(#clip690)\" d=\"M59.9319 97.0649 Q56.3208 97.0649 54.4921 100.63 Q52.6865 104.171 52.6865 111.301 Q52.6865 118.407 54.4921 121.972 Q56.3208 125.514 59.9319 125.514 Q63.5661 125.514 65.3717 121.972 Q67.2004 118.407 67.2004 111.301 Q67.2004 104.171 65.3717 100.63 Q63.5661 97.0649 59.9319 97.0649 M59.9319 93.3613 Q65.742 93.3613 68.7976 97.9677 Q71.8763 102.551 71.8763 111.301 Q71.8763 120.028 68.7976 124.634 Q65.742 129.218 59.9319 129.218 Q54.1217 129.218 51.043 124.634 Q47.9875 120.028 47.9875 111.301 Q47.9875 102.551 51.043 97.9677 Q54.1217 93.3613 59.9319 93.3613 Z\" fill=\"#000000\" fill-rule=\"evenodd\" fill-opacity=\"1\" /><path clip-path=\"url(#clip690)\" d=\"M80.0938 122.667 L84.978 122.667 L84.978 128.546 L80.0938 128.546 L80.0938 122.667 Z\" fill=\"#000000\" fill-rule=\"evenodd\" fill-opacity=\"1\" /><path clip-path=\"url(#clip690)\" d=\"M95.3021 127.829 L95.3021 123.569 Q97.0613 124.403 98.8668 124.843 Q100.672 125.282 102.408 125.282 Q107.038 125.282 109.469 122.181 Q111.922 119.056 112.27 112.713 Q110.927 114.704 108.867 115.769 Q106.807 116.833 104.307 116.833 Q99.1215 116.833 96.0891 113.708 Q93.0798 110.56 93.0798 105.12 Q93.0798 99.7964 96.228 96.5788 Q99.3761 93.3613 104.608 93.3613 Q110.603 93.3613 113.751 97.9677 Q116.922 102.551 116.922 111.301 Q116.922 119.472 113.033 124.356 Q109.168 129.218 102.617 129.218 Q100.858 129.218 99.052 128.87 Q97.2465 128.523 95.3021 127.829 M104.608 113.176 Q107.756 113.176 109.584 111.023 Q111.436 108.87 111.436 105.12 Q111.436 101.394 109.584 99.2409 Q107.756 97.0649 104.608 97.0649 Q101.459 97.0649 99.6076 99.2409 Q97.7789 101.394 97.7789 105.12 Q97.7789 108.87 99.6076 111.023 Q101.459 113.176 104.608 113.176 Z\" fill=\"#000000\" fill-rule=\"evenodd\" fill-opacity=\"1\" /><path clip-path=\"url(#clip690)\" d=\"M125.464 127.829 L125.464 123.569 Q127.223 124.403 129.029 124.843 Q130.834 125.282 132.57 125.282 Q137.2 125.282 139.631 122.181 Q142.084 119.056 142.431 112.713 Q141.089 114.704 139.029 115.769 Q136.968 116.833 134.469 116.833 Q129.283 116.833 126.251 113.708 Q123.242 110.56 123.242 105.12 Q123.242 99.7964 126.39 96.5788 Q129.538 93.3613 134.769 93.3613 Q140.765 93.3613 143.913 97.9677 Q147.084 102.551 147.084 111.301 Q147.084 119.472 143.195 124.356 Q139.33 129.218 132.779 129.218 Q131.019 129.218 129.214 128.87 Q127.408 128.523 125.464 127.829 M134.769 113.176 Q137.918 113.176 139.746 111.023 Q141.598 108.87 141.598 105.12 Q141.598 101.394 139.746 99.2409 Q137.918 97.0649 134.769 97.0649 Q131.621 97.0649 129.769 99.2409 Q127.941 101.394 127.941 105.12 Q127.941 108.87 129.769 111.023 Q131.621 113.176 134.769 113.176 Z\" fill=\"#000000\" fill-rule=\"evenodd\" fill-opacity=\"1\" /><path clip-path=\"url(#clip690)\" d=\"M155.533 93.9863 L173.89 93.9863 L173.89 97.9214 L159.816 97.9214 L159.816 106.394 Q160.834 106.046 161.853 105.884 Q162.871 105.699 163.89 105.699 Q169.677 105.699 173.056 108.87 Q176.436 112.042 176.436 117.458 Q176.436 123.037 172.964 126.139 Q169.491 129.218 163.172 129.218 Q160.996 129.218 158.728 128.847 Q156.482 128.477 154.075 127.736 L154.075 123.037 Q156.158 124.171 158.38 124.727 Q160.603 125.282 163.079 125.282 Q167.084 125.282 169.422 123.176 Q171.76 121.069 171.76 117.458 Q171.76 113.847 169.422 111.741 Q167.084 109.634 163.079 109.634 Q161.204 109.634 159.329 110.051 Q157.478 110.468 155.533 111.347 L155.533 93.9863 Z\" fill=\"#000000\" fill-rule=\"evenodd\" fill-opacity=\"1\" /><path clip-path=\"url(#clip690)\" d=\"M728.626 49.7694 Q719.592 49.7694 716.108 51.8354 Q712.625 53.9013 712.625 58.8839 Q712.625 62.8538 715.217 65.2034 Q717.85 67.5124 722.347 67.5124 Q728.545 67.5124 732.271 63.1374 Q736.039 58.7219 736.039 51.4303 L736.039 49.7694 L728.626 49.7694 M743.493 46.6907 L743.493 72.576 L736.039 72.576 L736.039 65.6895 Q733.487 69.8214 729.679 71.8063 Q725.871 73.7508 720.362 73.7508 Q713.394 73.7508 709.262 69.8619 Q705.171 65.9325 705.171 59.3701 Q705.171 51.7138 710.275 47.825 Q715.42 43.9361 725.588 43.9361 L736.039 43.9361 L736.039 43.2069 Q736.039 38.0623 732.636 35.2672 Q729.274 32.4315 723.157 32.4315 Q719.268 32.4315 715.582 33.3632 Q711.895 34.295 708.493 36.1584 L708.493 29.2718 Q712.584 27.692 716.432 26.9223 Q720.281 26.1121 723.927 26.1121 Q733.77 26.1121 738.631 31.2163 Q743.493 36.3204 743.493 46.6907 Z\" fill=\"#000000\" fill-rule=\"evenodd\" fill-opacity=\"1\" /><path clip-path=\"url(#clip690)\" d=\"M791.496 28.9478 L791.496 35.9153 Q788.336 34.1734 785.136 33.3227 Q781.976 32.4315 778.735 32.4315 Q771.484 32.4315 767.474 37.0496 Q763.463 41.6271 763.463 49.9314 Q763.463 58.2358 767.474 62.8538 Q771.484 67.4314 778.735 67.4314 Q781.976 67.4314 785.136 66.5807 Q788.336 65.6895 791.496 63.9476 L791.496 70.8341 Q788.377 72.2924 785.014 73.0216 Q781.693 73.7508 777.925 73.7508 Q767.676 73.7508 761.641 67.3098 Q755.605 60.8689 755.605 49.9314 Q755.605 38.832 761.681 32.472 Q767.798 26.1121 778.411 26.1121 Q781.855 26.1121 785.136 26.8413 Q788.417 27.5299 791.496 28.9478 Z\" fill=\"#000000\" fill-rule=\"evenodd\" fill-opacity=\"1\" /><path clip-path=\"url(#clip690)\" d=\"M837.109 28.9478 L837.109 35.9153 Q833.949 34.1734 830.749 33.3227 Q827.589 32.4315 824.349 32.4315 Q817.097 32.4315 813.087 37.0496 Q809.077 41.6271 809.077 49.9314 Q809.077 58.2358 813.087 62.8538 Q817.097 67.4314 824.349 67.4314 Q827.589 67.4314 830.749 66.5807 Q833.949 65.6895 837.109 63.9476 L837.109 70.8341 Q833.99 72.2924 830.627 73.0216 Q827.306 73.7508 823.538 73.7508 Q813.29 73.7508 807.254 67.3098 Q801.218 60.8689 801.218 49.9314 Q801.218 38.832 807.294 32.472 Q813.411 26.1121 824.024 26.1121 Q827.468 26.1121 830.749 26.8413 Q834.03 27.5299 837.109 28.9478 Z\" fill=\"#000000\" fill-rule=\"evenodd\" fill-opacity=\"1\" /><path clip-path=\"url(#clip690)\" d=\"M849.302 54.671 L849.302 27.2059 L856.756 27.2059 L856.756 54.3874 Q856.756 60.8284 859.267 64.0691 Q861.779 67.2693 866.802 67.2693 Q872.838 67.2693 876.322 63.421 Q879.846 59.5726 879.846 52.9291 L879.846 27.2059 L887.3 27.2059 L887.3 72.576 L879.846 72.576 L879.846 65.6084 Q877.132 69.7404 873.527 71.7658 Q869.962 73.7508 865.222 73.7508 Q857.404 73.7508 853.353 68.8897 Q849.302 64.0286 849.302 54.671 M868.058 26.1121 L868.058 26.1121 Z\" fill=\"#000000\" fill-rule=\"evenodd\" fill-opacity=\"1\" /><path clip-path=\"url(#clip690)\" d=\"M928.943 34.1734 Q927.687 33.4443 926.188 33.1202 Q924.73 32.7556 922.948 32.7556 Q916.628 32.7556 913.225 36.8875 Q909.863 40.9789 909.863 48.6757 L909.863 72.576 L902.369 72.576 L902.369 27.2059 L909.863 27.2059 L909.863 34.2544 Q912.213 30.1225 915.98 28.1376 Q919.747 26.1121 925.135 26.1121 Q925.905 26.1121 926.836 26.2337 Q927.768 26.3147 928.902 26.5172 L928.943 34.1734 Z\" fill=\"#000000\" fill-rule=\"evenodd\" fill-opacity=\"1\" /><path clip-path=\"url(#clip690)\" d=\"M957.38 49.7694 Q948.347 49.7694 944.863 51.8354 Q941.379 53.9013 941.379 58.8839 Q941.379 62.8538 943.972 65.2034 Q946.605 67.5124 951.101 67.5124 Q957.299 67.5124 961.026 63.1374 Q964.793 58.7219 964.793 51.4303 L964.793 49.7694 L957.38 49.7694 M972.247 46.6907 L972.247 72.576 L964.793 72.576 L964.793 65.6895 Q962.241 69.8214 958.433 71.8063 Q954.626 73.7508 949.116 73.7508 Q942.149 73.7508 938.017 69.8619 Q933.926 65.9325 933.926 59.3701 Q933.926 51.7138 939.03 47.825 Q944.174 43.9361 954.342 43.9361 L964.793 43.9361 L964.793 43.2069 Q964.793 38.0623 961.391 35.2672 Q958.028 32.4315 951.912 32.4315 Q948.023 32.4315 944.336 33.3632 Q940.65 34.295 937.247 36.1584 L937.247 29.2718 Q941.339 27.692 945.187 26.9223 Q949.035 26.1121 952.681 26.1121 Q962.525 26.1121 967.386 31.2163 Q972.247 36.3204 972.247 46.6907 Z\" fill=\"#000000\" fill-rule=\"evenodd\" fill-opacity=\"1\" /><path clip-path=\"url(#clip690)\" d=\"M1020.25 28.9478 L1020.25 35.9153 Q1017.09 34.1734 1013.89 33.3227 Q1010.73 32.4315 1007.49 32.4315 Q1000.24 32.4315 996.228 37.0496 Q992.218 41.6271 992.218 49.9314 Q992.218 58.2358 996.228 62.8538 Q1000.24 67.4314 1007.49 67.4314 Q1010.73 67.4314 1013.89 66.5807 Q1017.09 65.6895 1020.25 63.9476 L1020.25 70.8341 Q1017.13 72.2924 1013.77 73.0216 Q1010.45 73.7508 1006.68 73.7508 Q996.431 73.7508 990.395 67.3098 Q984.359 60.8689 984.359 49.9314 Q984.359 38.832 990.436 32.472 Q996.552 26.1121 1007.17 26.1121 Q1010.61 26.1121 1013.89 26.8413 Q1017.17 27.5299 1020.25 28.9478 Z\" fill=\"#000000\" fill-rule=\"evenodd\" fill-opacity=\"1\" /><path clip-path=\"url(#clip690)\" d=\"M1052.09 76.7889 Q1048.93 84.8907 1045.93 87.3618 Q1042.94 89.8329 1037.91 89.8329 L1031.96 89.8329 L1031.96 83.5945 L1036.33 83.5945 Q1039.41 83.5945 1041.11 82.1361 Q1042.81 80.6778 1044.88 75.2496 L1046.22 71.8468 L1027.87 27.2059 L1035.77 27.2059 L1049.94 62.6918 L1064.12 27.2059 L1072.02 27.2059 L1052.09 76.7889 Z\" fill=\"#000000\" fill-rule=\"evenodd\" fill-opacity=\"1\" /><polyline clip-path=\"url(#clip692)\" style=\"stroke:#009af9; stroke-linecap:butt; stroke-linejoin:round; stroke-width:6; stroke-opacity:1; fill:none\" points=\"\n",
       "  262.03,115.557 401.267,115.557 540.504,115.557 679.741,115.557 818.977,115.557 958.214,115.557 1097.45,115.557 1236.69,115.557 1375.93,115.557 1515.16,115.557 \n",
       "  \n",
       "  \"/>\n",
       "<circle clip-path=\"url(#clip692)\" cx=\"262.03\" cy=\"115.557\" r=\"10\" fill=\"#009af9\" fill-rule=\"evenodd\" fill-opacity=\"1\" stroke=\"#000000\" stroke-opacity=\"1\" stroke-width=\"2.4\"/>\n",
       "<circle clip-path=\"url(#clip692)\" cx=\"401.267\" cy=\"115.557\" r=\"10\" fill=\"#009af9\" fill-rule=\"evenodd\" fill-opacity=\"1\" stroke=\"#000000\" stroke-opacity=\"1\" stroke-width=\"2.4\"/>\n",
       "<circle clip-path=\"url(#clip692)\" cx=\"540.504\" cy=\"115.557\" r=\"10\" fill=\"#009af9\" fill-rule=\"evenodd\" fill-opacity=\"1\" stroke=\"#000000\" stroke-opacity=\"1\" stroke-width=\"2.4\"/>\n",
       "<circle clip-path=\"url(#clip692)\" cx=\"679.741\" cy=\"115.557\" r=\"10\" fill=\"#009af9\" fill-rule=\"evenodd\" fill-opacity=\"1\" stroke=\"#000000\" stroke-opacity=\"1\" stroke-width=\"2.4\"/>\n",
       "<circle clip-path=\"url(#clip692)\" cx=\"818.977\" cy=\"115.557\" r=\"10\" fill=\"#009af9\" fill-rule=\"evenodd\" fill-opacity=\"1\" stroke=\"#000000\" stroke-opacity=\"1\" stroke-width=\"2.4\"/>\n",
       "<circle clip-path=\"url(#clip692)\" cx=\"958.214\" cy=\"115.557\" r=\"10\" fill=\"#009af9\" fill-rule=\"evenodd\" fill-opacity=\"1\" stroke=\"#000000\" stroke-opacity=\"1\" stroke-width=\"2.4\"/>\n",
       "<circle clip-path=\"url(#clip692)\" cx=\"1097.45\" cy=\"115.557\" r=\"10\" fill=\"#009af9\" fill-rule=\"evenodd\" fill-opacity=\"1\" stroke=\"#000000\" stroke-opacity=\"1\" stroke-width=\"2.4\"/>\n",
       "<circle clip-path=\"url(#clip692)\" cx=\"1236.69\" cy=\"115.557\" r=\"10\" fill=\"#009af9\" fill-rule=\"evenodd\" fill-opacity=\"1\" stroke=\"#000000\" stroke-opacity=\"1\" stroke-width=\"2.4\"/>\n",
       "<circle clip-path=\"url(#clip692)\" cx=\"1375.93\" cy=\"115.557\" r=\"10\" fill=\"#009af9\" fill-rule=\"evenodd\" fill-opacity=\"1\" stroke=\"#000000\" stroke-opacity=\"1\" stroke-width=\"2.4\"/>\n",
       "<circle clip-path=\"url(#clip692)\" cx=\"1515.16\" cy=\"115.557\" r=\"10\" fill=\"#009af9\" fill-rule=\"evenodd\" fill-opacity=\"1\" stroke=\"#000000\" stroke-opacity=\"1\" stroke-width=\"2.4\"/>\n",
       "<polyline clip-path=\"url(#clip692)\" style=\"stroke:#e26f46; stroke-linecap:butt; stroke-linejoin:round; stroke-width:6; stroke-opacity:1; fill:none\" points=\"\n",
       "  262.03,733.703 401.267,662.321 540.504,633.695 679.741,562.129 818.977,597.912 958.214,712.417 1097.45,705.261 1236.69,590.756 1375.93,554.973 1515.16,648.008 \n",
       "  \n",
       "  \"/>\n",
       "<circle clip-path=\"url(#clip692)\" cx=\"262.03\" cy=\"733.703\" r=\"10\" fill=\"#e26f46\" fill-rule=\"evenodd\" fill-opacity=\"1\" stroke=\"#000000\" stroke-opacity=\"1\" stroke-width=\"2.4\"/>\n",
       "<circle clip-path=\"url(#clip692)\" cx=\"401.267\" cy=\"662.321\" r=\"10\" fill=\"#e26f46\" fill-rule=\"evenodd\" fill-opacity=\"1\" stroke=\"#000000\" stroke-opacity=\"1\" stroke-width=\"2.4\"/>\n",
       "<circle clip-path=\"url(#clip692)\" cx=\"540.504\" cy=\"633.695\" r=\"10\" fill=\"#e26f46\" fill-rule=\"evenodd\" fill-opacity=\"1\" stroke=\"#000000\" stroke-opacity=\"1\" stroke-width=\"2.4\"/>\n",
       "<circle clip-path=\"url(#clip692)\" cx=\"679.741\" cy=\"562.129\" r=\"10\" fill=\"#e26f46\" fill-rule=\"evenodd\" fill-opacity=\"1\" stroke=\"#000000\" stroke-opacity=\"1\" stroke-width=\"2.4\"/>\n",
       "<circle clip-path=\"url(#clip692)\" cx=\"818.977\" cy=\"597.912\" r=\"10\" fill=\"#e26f46\" fill-rule=\"evenodd\" fill-opacity=\"1\" stroke=\"#000000\" stroke-opacity=\"1\" stroke-width=\"2.4\"/>\n",
       "<circle clip-path=\"url(#clip692)\" cx=\"958.214\" cy=\"712.417\" r=\"10\" fill=\"#e26f46\" fill-rule=\"evenodd\" fill-opacity=\"1\" stroke=\"#000000\" stroke-opacity=\"1\" stroke-width=\"2.4\"/>\n",
       "<circle clip-path=\"url(#clip692)\" cx=\"1097.45\" cy=\"705.261\" r=\"10\" fill=\"#e26f46\" fill-rule=\"evenodd\" fill-opacity=\"1\" stroke=\"#000000\" stroke-opacity=\"1\" stroke-width=\"2.4\"/>\n",
       "<circle clip-path=\"url(#clip692)\" cx=\"1236.69\" cy=\"590.756\" r=\"10\" fill=\"#e26f46\" fill-rule=\"evenodd\" fill-opacity=\"1\" stroke=\"#000000\" stroke-opacity=\"1\" stroke-width=\"2.4\"/>\n",
       "<circle clip-path=\"url(#clip692)\" cx=\"1375.93\" cy=\"554.973\" r=\"10\" fill=\"#e26f46\" fill-rule=\"evenodd\" fill-opacity=\"1\" stroke=\"#000000\" stroke-opacity=\"1\" stroke-width=\"2.4\"/>\n",
       "<circle clip-path=\"url(#clip692)\" cx=\"1515.16\" cy=\"648.008\" r=\"10\" fill=\"#e26f46\" fill-rule=\"evenodd\" fill-opacity=\"1\" stroke=\"#000000\" stroke-opacity=\"1\" stroke-width=\"2.4\"/>\n",
       "<path clip-path=\"url(#clip690)\" d=\"\n",
       "M493.334 1063.09 L1056.04 1063.09 L1056.04 907.57 L493.334 907.57  Z\n",
       "  \" fill=\"#ffffff\" fill-rule=\"evenodd\" fill-opacity=\"1\"/>\n",
       "<polyline clip-path=\"url(#clip690)\" style=\"stroke:#000000; stroke-linecap:butt; stroke-linejoin:round; stroke-width:4; stroke-opacity:1; fill:none\" points=\"\n",
       "  493.334,1063.09 1056.04,1063.09 1056.04,907.57 493.334,907.57 493.334,1063.09 \n",
       "  \"/>\n",
       "<polyline clip-path=\"url(#clip690)\" style=\"stroke:#009af9; stroke-linecap:butt; stroke-linejoin:round; stroke-width:4; stroke-opacity:1; fill:none\" points=\"\n",
       "  525.334,959.41 717.334,959.41 \n",
       "  \"/>\n",
       "<circle clip-path=\"url(#clip690)\" cx=\"621.334\" cy=\"959.41\" r=\"23\" fill=\"#009af9\" fill-rule=\"evenodd\" fill-opacity=\"1\" stroke=\"#000000\" stroke-opacity=\"1\" stroke-width=\"5.12\"/>\n",
       "<path clip-path=\"url(#clip690)\" d=\"M756.742 943.403 L756.742 950.764 L765.515 950.764 L765.515 954.074 L756.742 954.074 L756.742 968.148 Q756.742 971.32 757.598 972.222 Q758.478 973.125 761.14 973.125 L765.515 973.125 L765.515 976.69 L761.14 976.69 Q756.209 976.69 754.334 974.861 Q752.459 973.009 752.459 968.148 L752.459 954.074 L749.334 954.074 L749.334 950.764 L752.459 950.764 L752.459 943.403 L756.742 943.403 Z\" fill=\"#000000\" fill-rule=\"evenodd\" fill-opacity=\"1\" /><path clip-path=\"url(#clip690)\" d=\"M786.14 954.746 Q785.422 954.329 784.565 954.144 Q783.732 953.935 782.714 953.935 Q779.103 953.935 777.158 956.296 Q775.237 958.634 775.237 963.033 L775.237 976.69 L770.954 976.69 L770.954 950.764 L775.237 950.764 L775.237 954.792 Q776.579 952.431 778.732 951.296 Q780.885 950.139 783.964 950.139 Q784.403 950.139 784.936 950.209 Q785.468 950.255 786.116 950.371 L786.14 954.746 Z\" fill=\"#000000\" fill-rule=\"evenodd\" fill-opacity=\"1\" /><path clip-path=\"url(#clip690)\" d=\"M802.389 963.658 Q797.227 963.658 795.237 964.838 Q793.246 966.019 793.246 968.866 Q793.246 971.134 794.727 972.477 Q796.232 973.796 798.802 973.796 Q802.343 973.796 804.473 971.296 Q806.626 968.773 806.626 964.607 L806.626 963.658 L802.389 963.658 M810.885 961.898 L810.885 976.69 L806.626 976.69 L806.626 972.755 Q805.167 975.116 802.991 976.25 Q800.815 977.361 797.667 977.361 Q793.686 977.361 791.325 975.139 Q788.987 972.894 788.987 969.144 Q788.987 964.769 791.903 962.546 Q794.843 960.324 800.653 960.324 L806.626 960.324 L806.626 959.908 Q806.626 956.968 804.681 955.371 Q802.76 953.75 799.264 953.75 Q797.042 953.75 794.936 954.283 Q792.829 954.815 790.885 955.88 L790.885 951.945 Q793.223 951.042 795.422 950.602 Q797.621 950.139 799.704 950.139 Q805.329 950.139 808.107 953.056 Q810.885 955.972 810.885 961.898 Z\" fill=\"#000000\" fill-rule=\"evenodd\" fill-opacity=\"1\" /><path clip-path=\"url(#clip690)\" d=\"M819.658 950.764 L823.917 950.764 L823.917 976.69 L819.658 976.69 L819.658 950.764 M819.658 940.672 L823.917 940.672 L823.917 946.065 L819.658 946.065 L819.658 940.672 Z\" fill=\"#000000\" fill-rule=\"evenodd\" fill-opacity=\"1\" /><path clip-path=\"url(#clip690)\" d=\"M854.38 961.042 L854.38 976.69 L850.121 976.69 L850.121 961.181 Q850.121 957.5 848.686 955.671 Q847.25 953.843 844.38 953.843 Q840.931 953.843 838.94 956.042 Q836.949 958.241 836.949 962.037 L836.949 976.69 L832.667 976.69 L832.667 950.764 L836.949 950.764 L836.949 954.792 Q838.477 952.454 840.537 951.296 Q842.621 950.139 845.329 950.139 Q849.797 950.139 852.088 952.917 Q854.38 955.671 854.38 961.042 Z\" fill=\"#000000\" fill-rule=\"evenodd\" fill-opacity=\"1\" /><path clip-path=\"url(#clip690)\" d=\"M879.403 951.528 L879.403 955.556 Q877.597 954.63 875.653 954.167 Q873.709 953.704 871.625 953.704 Q868.454 953.704 866.857 954.676 Q865.283 955.648 865.283 957.593 Q865.283 959.074 866.417 959.931 Q867.551 960.764 870.977 961.528 L872.435 961.852 Q876.972 962.824 878.871 964.607 Q880.792 966.366 880.792 969.537 Q880.792 973.148 877.921 975.255 Q875.074 977.361 870.074 977.361 Q867.991 977.361 865.722 976.944 Q863.477 976.551 860.977 975.741 L860.977 971.343 Q863.338 972.569 865.63 973.194 Q867.922 973.796 870.167 973.796 Q873.176 973.796 874.796 972.778 Q876.417 971.736 876.417 969.861 Q876.417 968.125 875.236 967.199 Q874.079 966.273 870.121 965.417 L868.639 965.07 Q864.681 964.236 862.922 962.523 Q861.162 960.787 861.162 957.778 Q861.162 954.121 863.755 952.13 Q866.347 950.139 871.116 950.139 Q873.477 950.139 875.56 950.486 Q877.644 950.833 879.403 951.528 Z\" fill=\"#000000\" fill-rule=\"evenodd\" fill-opacity=\"1\" /><path clip-path=\"url(#clip690)\" d=\"M909.75 962.662 L909.75 964.745 L890.167 964.745 Q890.445 969.144 892.806 971.458 Q895.19 973.75 899.426 973.75 Q901.88 973.75 904.171 973.148 Q906.486 972.546 908.755 971.343 L908.755 975.37 Q906.463 976.343 904.056 976.852 Q901.648 977.361 899.171 977.361 Q892.968 977.361 889.333 973.75 Q885.722 970.139 885.722 963.982 Q885.722 957.616 889.148 953.889 Q892.597 950.139 898.431 950.139 Q903.662 950.139 906.694 953.519 Q909.75 956.875 909.75 962.662 M905.491 961.412 Q905.444 957.917 903.523 955.833 Q901.625 953.75 898.477 953.75 Q894.912 953.75 892.759 955.764 Q890.63 957.778 890.306 961.435 L905.491 961.412 Z\" fill=\"#000000\" fill-rule=\"evenodd\" fill-opacity=\"1\" /><path clip-path=\"url(#clip690)\" d=\"M920.954 943.403 L920.954 950.764 L929.727 950.764 L929.727 954.074 L920.954 954.074 L920.954 968.148 Q920.954 971.32 921.81 972.222 Q922.69 973.125 925.352 973.125 L929.727 973.125 L929.727 976.69 L925.352 976.69 Q920.421 976.69 918.546 974.861 Q916.671 973.009 916.671 968.148 L916.671 954.074 L913.546 954.074 L913.546 950.764 L916.671 950.764 L916.671 943.403 L920.954 943.403 Z\" fill=\"#000000\" fill-rule=\"evenodd\" fill-opacity=\"1\" /><polyline clip-path=\"url(#clip690)\" style=\"stroke:#e26f46; stroke-linecap:butt; stroke-linejoin:round; stroke-width:4; stroke-opacity:1; fill:none\" points=\"\n",
       "  525.334,1011.25 717.334,1011.25 \n",
       "  \"/>\n",
       "<circle clip-path=\"url(#clip690)\" cx=\"621.334\" cy=\"1011.25\" r=\"23\" fill=\"#e26f46\" fill-rule=\"evenodd\" fill-opacity=\"1\" stroke=\"#000000\" stroke-opacity=\"1\" stroke-width=\"5.12\"/>\n",
       "<path clip-path=\"url(#clip690)\" d=\"M773.362 1014.5 L773.362 1016.59 L753.779 1016.59 Q754.056 1020.98 756.417 1023.3 Q758.802 1025.59 763.038 1025.59 Q765.492 1025.59 767.783 1024.99 Q770.098 1024.39 772.366 1023.18 L772.366 1027.21 Q770.075 1028.18 767.667 1028.69 Q765.26 1029.2 762.783 1029.2 Q756.58 1029.2 752.945 1025.59 Q749.334 1021.98 749.334 1015.82 Q749.334 1009.46 752.76 1005.73 Q756.209 1001.98 762.042 1001.98 Q767.274 1001.98 770.306 1005.36 Q773.362 1008.72 773.362 1014.5 M769.103 1013.25 Q769.056 1009.76 767.135 1007.67 Q765.237 1005.59 762.089 1005.59 Q758.524 1005.59 756.371 1007.6 Q754.242 1009.62 753.917 1013.28 L769.103 1013.25 Z\" fill=\"#000000\" fill-rule=\"evenodd\" fill-opacity=\"1\" /><path clip-path=\"url(#clip690)\" d=\"M777.297 1002.6 L781.811 1002.6 L789.913 1024.36 L798.014 1002.6 L802.528 1002.6 L792.806 1028.53 L787.019 1028.53 L777.297 1002.6 Z\" fill=\"#000000\" fill-rule=\"evenodd\" fill-opacity=\"1\" /><path clip-path=\"url(#clip690)\" d=\"M820.19 1015.5 Q815.028 1015.5 813.038 1016.68 Q811.047 1017.86 811.047 1020.71 Q811.047 1022.97 812.528 1024.32 Q814.033 1025.64 816.602 1025.64 Q820.144 1025.64 822.274 1023.14 Q824.426 1020.61 824.426 1016.45 L824.426 1015.5 L820.19 1015.5 M828.686 1013.74 L828.686 1028.53 L824.426 1028.53 L824.426 1024.59 Q822.968 1026.96 820.792 1028.09 Q818.616 1029.2 815.468 1029.2 Q811.487 1029.2 809.126 1026.98 Q806.788 1024.73 806.788 1020.98 Q806.788 1016.61 809.704 1014.39 Q812.644 1012.16 818.454 1012.16 L824.426 1012.16 L824.426 1011.75 Q824.426 1008.81 822.482 1007.21 Q820.561 1005.59 817.065 1005.59 Q814.843 1005.59 812.737 1006.12 Q810.63 1006.65 808.686 1007.72 L808.686 1003.78 Q811.024 1002.88 813.223 1002.44 Q815.422 1001.98 817.505 1001.98 Q823.13 1001.98 825.908 1004.9 Q828.686 1007.81 828.686 1013.74 Z\" fill=\"#000000\" fill-rule=\"evenodd\" fill-opacity=\"1\" /><path clip-path=\"url(#clip690)\" d=\"M837.459 992.512 L841.718 992.512 L841.718 1028.53 L837.459 1028.53 L837.459 992.512 Z\" fill=\"#000000\" fill-rule=\"evenodd\" fill-opacity=\"1\" /><path clip-path=\"url(#clip690)\" d=\"M850.19 1018.3 L850.19 1002.6 L854.449 1002.6 L854.449 1018.14 Q854.449 1021.82 855.885 1023.67 Q857.32 1025.5 860.19 1025.5 Q863.639 1025.5 865.63 1023.3 Q867.644 1021.1 867.644 1017.3 L867.644 1002.6 L871.903 1002.6 L871.903 1028.53 L867.644 1028.53 L867.644 1024.55 Q866.093 1026.91 864.033 1028.07 Q861.996 1029.2 859.287 1029.2 Q854.82 1029.2 852.505 1026.42 Q850.19 1023.65 850.19 1018.3 M860.908 1001.98 L860.908 1001.98 Z\" fill=\"#000000\" fill-rule=\"evenodd\" fill-opacity=\"1\" /><path clip-path=\"url(#clip690)\" d=\"M892.458 1015.5 Q887.296 1015.5 885.306 1016.68 Q883.315 1017.86 883.315 1020.71 Q883.315 1022.97 884.796 1024.32 Q886.301 1025.64 888.87 1025.64 Q892.412 1025.64 894.542 1023.14 Q896.695 1020.61 896.695 1016.45 L896.695 1015.5 L892.458 1015.5 M900.954 1013.74 L900.954 1028.53 L896.695 1028.53 L896.695 1024.59 Q895.236 1026.96 893.06 1028.09 Q890.884 1029.2 887.736 1029.2 Q883.755 1029.2 881.394 1026.98 Q879.056 1024.73 879.056 1020.98 Q879.056 1016.61 881.972 1014.39 Q884.912 1012.16 890.722 1012.16 L896.695 1012.16 L896.695 1011.75 Q896.695 1008.81 894.75 1007.21 Q892.829 1005.59 889.333 1005.59 Q887.111 1005.59 885.005 1006.12 Q882.898 1006.65 880.954 1007.72 L880.954 1003.78 Q883.292 1002.88 885.491 1002.44 Q887.69 1001.98 889.773 1001.98 Q895.398 1001.98 898.176 1004.9 Q900.954 1007.81 900.954 1013.74 Z\" fill=\"#000000\" fill-rule=\"evenodd\" fill-opacity=\"1\" /><path clip-path=\"url(#clip690)\" d=\"M913.94 995.243 L913.94 1002.6 L922.713 1002.6 L922.713 1005.91 L913.94 1005.91 L913.94 1019.99 Q913.94 1023.16 914.796 1024.06 Q915.676 1024.97 918.338 1024.97 L922.713 1024.97 L922.713 1028.53 L918.338 1028.53 Q913.407 1028.53 911.532 1026.7 Q909.657 1024.85 909.657 1019.99 L909.657 1005.91 L906.532 1005.91 L906.532 1002.6 L909.657 1002.6 L909.657 995.243 L913.94 995.243 Z\" fill=\"#000000\" fill-rule=\"evenodd\" fill-opacity=\"1\" /><path clip-path=\"url(#clip690)\" d=\"M928.315 1002.6 L932.574 1002.6 L932.574 1028.53 L928.315 1028.53 L928.315 1002.6 M928.315 992.512 L932.574 992.512 L932.574 997.905 L928.315 997.905 L928.315 992.512 Z\" fill=\"#000000\" fill-rule=\"evenodd\" fill-opacity=\"1\" /><path clip-path=\"url(#clip690)\" d=\"M951.532 1005.59 Q948.106 1005.59 946.116 1008.28 Q944.125 1010.94 944.125 1015.59 Q944.125 1020.24 946.092 1022.93 Q948.083 1025.59 951.532 1025.59 Q954.935 1025.59 956.926 1022.9 Q958.916 1020.22 958.916 1015.59 Q958.916 1010.98 956.926 1008.3 Q954.935 1005.59 951.532 1005.59 M951.532 1001.98 Q957.088 1001.98 960.259 1005.59 Q963.43 1009.2 963.43 1015.59 Q963.43 1021.96 960.259 1025.59 Q957.088 1029.2 951.532 1029.2 Q945.954 1029.2 942.782 1025.59 Q939.634 1021.96 939.634 1015.59 Q939.634 1009.2 942.782 1005.59 Q945.954 1001.98 951.532 1001.98 Z\" fill=\"#000000\" fill-rule=\"evenodd\" fill-opacity=\"1\" /><path clip-path=\"url(#clip690)\" d=\"M992.041 1012.88 L992.041 1028.53 L987.782 1028.53 L987.782 1013.02 Q987.782 1009.34 986.347 1007.51 Q984.912 1005.68 982.041 1005.68 Q978.592 1005.68 976.601 1007.88 Q974.611 1010.08 974.611 1013.88 L974.611 1028.53 L970.328 1028.53 L970.328 1002.6 L974.611 1002.6 L974.611 1006.63 Q976.139 1004.29 978.199 1003.14 Q980.282 1001.98 982.99 1001.98 Q987.458 1001.98 989.75 1004.76 Q992.041 1007.51 992.041 1012.88 Z\" fill=\"#000000\" fill-rule=\"evenodd\" fill-opacity=\"1\" /><path clip-path=\"url(#clip690)\" d=\"\n",
       "M1824.44 752.247 L3152.76 752.247 L3152.76 97.0121 L1824.44 97.0121  Z\n",
       "  \" fill=\"#ffffff\" fill-rule=\"evenodd\" fill-opacity=\"1\"/>\n",
       "<defs>\n",
       "  <clipPath id=\"clip693\">\n",
       "    <rect x=\"1824\" y=\"97\" width=\"1329\" height=\"656\"/>\n",
       "  </clipPath>\n",
       "</defs>\n",
       "<polyline clip-path=\"url(#clip693)\" style=\"stroke:#000000; stroke-linecap:butt; stroke-linejoin:round; stroke-width:2; stroke-opacity:0.1; fill:none\" points=\"\n",
       "  2001.27,752.247 2001.27,97.0121 \n",
       "  \"/>\n",
       "<polyline clip-path=\"url(#clip693)\" style=\"stroke:#000000; stroke-linecap:butt; stroke-linejoin:round; stroke-width:2; stroke-opacity:0.1; fill:none\" points=\"\n",
       "  2279.74,752.247 2279.74,97.0121 \n",
       "  \"/>\n",
       "<polyline clip-path=\"url(#clip693)\" style=\"stroke:#000000; stroke-linecap:butt; stroke-linejoin:round; stroke-width:2; stroke-opacity:0.1; fill:none\" points=\"\n",
       "  2558.21,752.247 2558.21,97.0121 \n",
       "  \"/>\n",
       "<polyline clip-path=\"url(#clip693)\" style=\"stroke:#000000; stroke-linecap:butt; stroke-linejoin:round; stroke-width:2; stroke-opacity:0.1; fill:none\" points=\"\n",
       "  2836.69,752.247 2836.69,97.0121 \n",
       "  \"/>\n",
       "<polyline clip-path=\"url(#clip693)\" style=\"stroke:#000000; stroke-linecap:butt; stroke-linejoin:round; stroke-width:2; stroke-opacity:0.1; fill:none\" points=\"\n",
       "  3115.16,752.247 3115.16,97.0121 \n",
       "  \"/>\n",
       "<polyline clip-path=\"url(#clip690)\" style=\"stroke:#000000; stroke-linecap:butt; stroke-linejoin:round; stroke-width:4; stroke-opacity:1; fill:none\" points=\"\n",
       "  1824.44,752.247 3152.76,752.247 \n",
       "  \"/>\n",
       "<polyline clip-path=\"url(#clip690)\" style=\"stroke:#000000; stroke-linecap:butt; stroke-linejoin:round; stroke-width:4; stroke-opacity:1; fill:none\" points=\"\n",
       "  2001.27,752.247 2001.27,739.43 \n",
       "  \"/>\n",
       "<polyline clip-path=\"url(#clip690)\" style=\"stroke:#000000; stroke-linecap:butt; stroke-linejoin:round; stroke-width:4; stroke-opacity:1; fill:none\" points=\"\n",
       "  2279.74,752.247 2279.74,739.43 \n",
       "  \"/>\n",
       "<polyline clip-path=\"url(#clip690)\" style=\"stroke:#000000; stroke-linecap:butt; stroke-linejoin:round; stroke-width:4; stroke-opacity:1; fill:none\" points=\"\n",
       "  2558.21,752.247 2558.21,739.43 \n",
       "  \"/>\n",
       "<polyline clip-path=\"url(#clip690)\" style=\"stroke:#000000; stroke-linecap:butt; stroke-linejoin:round; stroke-width:4; stroke-opacity:1; fill:none\" points=\"\n",
       "  2836.69,752.247 2836.69,739.43 \n",
       "  \"/>\n",
       "<polyline clip-path=\"url(#clip690)\" style=\"stroke:#000000; stroke-linecap:butt; stroke-linejoin:round; stroke-width:4; stroke-opacity:1; fill:none\" points=\"\n",
       "  3115.16,752.247 3115.16,739.43 \n",
       "  \"/>\n",
       "<path clip-path=\"url(#clip690)\" d=\"M1995.92 817.112 L2012.24 817.112 L2012.24 821.047 L1990.29 821.047 L1990.29 817.112 Q1992.96 814.357 1997.54 809.728 Q2002.15 805.075 2003.33 803.733 Q2005.57 801.209 2006.45 799.473 Q2007.35 797.714 2007.35 796.024 Q2007.35 793.27 2005.41 791.534 Q2003.49 789.797 2000.39 789.797 Q1998.19 789.797 1995.73 790.561 Q1993.3 791.325 1990.53 792.876 L1990.53 788.154 Q1993.35 787.02 1995.8 786.441 Q1998.26 785.862 2000.29 785.862 Q2005.66 785.862 2008.86 788.547 Q2012.05 791.233 2012.05 795.723 Q2012.05 797.853 2011.24 799.774 Q2010.46 801.672 2008.35 804.265 Q2007.77 804.936 2004.67 808.154 Q2001.57 811.348 1995.92 817.112 Z\" fill=\"#000000\" fill-rule=\"evenodd\" fill-opacity=\"1\" /><path clip-path=\"url(#clip690)\" d=\"M2282.75 790.561 L2270.94 809.01 L2282.75 809.01 L2282.75 790.561 M2281.52 786.487 L2287.4 786.487 L2287.4 809.01 L2292.33 809.01 L2292.33 812.899 L2287.4 812.899 L2287.4 821.047 L2282.75 821.047 L2282.75 812.899 L2267.15 812.899 L2267.15 808.385 L2281.52 786.487 Z\" fill=\"#000000\" fill-rule=\"evenodd\" fill-opacity=\"1\" /><path clip-path=\"url(#clip690)\" d=\"M2558.62 801.904 Q2555.47 801.904 2553.62 804.057 Q2551.79 806.209 2551.79 809.959 Q2551.79 813.686 2553.62 815.862 Q2555.47 818.015 2558.62 818.015 Q2561.77 818.015 2563.6 815.862 Q2565.45 813.686 2565.45 809.959 Q2565.45 806.209 2563.6 804.057 Q2561.77 801.904 2558.62 801.904 M2567.9 787.251 L2567.9 791.51 Q2566.14 790.677 2564.34 790.237 Q2562.55 789.797 2560.8 789.797 Q2556.17 789.797 2553.71 792.922 Q2551.28 796.047 2550.93 802.367 Q2552.3 800.353 2554.36 799.288 Q2556.42 798.2 2558.9 798.2 Q2564.11 798.2 2567.11 801.371 Q2570.15 804.52 2570.15 809.959 Q2570.15 815.283 2567 818.501 Q2563.85 821.719 2558.62 821.719 Q2552.62 821.719 2549.45 817.135 Q2546.28 812.529 2546.28 803.802 Q2546.28 795.608 2550.17 790.746 Q2554.06 785.862 2560.61 785.862 Q2562.37 785.862 2564.15 786.209 Q2565.96 786.557 2567.9 787.251 Z\" fill=\"#000000\" fill-rule=\"evenodd\" fill-opacity=\"1\" /><path clip-path=\"url(#clip690)\" d=\"M2836.69 804.635 Q2833.35 804.635 2831.43 806.418 Q2829.54 808.2 2829.54 811.325 Q2829.54 814.45 2831.43 816.232 Q2833.35 818.015 2836.69 818.015 Q2840.02 818.015 2841.94 816.232 Q2843.86 814.427 2843.86 811.325 Q2843.86 808.2 2841.94 806.418 Q2840.04 804.635 2836.69 804.635 M2832.01 802.645 Q2829 801.904 2827.31 799.844 Q2825.65 797.783 2825.65 794.821 Q2825.65 790.677 2828.59 788.27 Q2831.55 785.862 2836.69 785.862 Q2841.85 785.862 2844.79 788.27 Q2847.73 790.677 2847.73 794.821 Q2847.73 797.783 2846.04 799.844 Q2844.37 801.904 2841.39 802.645 Q2844.77 803.432 2846.64 805.723 Q2848.54 808.015 2848.54 811.325 Q2848.54 816.348 2845.46 819.033 Q2842.41 821.719 2836.69 821.719 Q2830.97 821.719 2827.89 819.033 Q2824.84 816.348 2824.84 811.325 Q2824.84 808.015 2826.73 805.723 Q2828.63 803.432 2832.01 802.645 M2830.3 795.26 Q2830.3 797.946 2831.97 799.45 Q2833.66 800.955 2836.69 800.955 Q2839.7 800.955 2841.39 799.45 Q2843.1 797.946 2843.1 795.26 Q2843.1 792.575 2841.39 791.071 Q2839.7 789.566 2836.69 789.566 Q2833.66 789.566 2831.97 791.071 Q2830.3 792.575 2830.3 795.26 Z\" fill=\"#000000\" fill-rule=\"evenodd\" fill-opacity=\"1\" /><path clip-path=\"url(#clip690)\" d=\"M3089.85 817.112 L3097.49 817.112 L3097.49 790.746 L3089.18 792.413 L3089.18 788.154 L3097.44 786.487 L3102.12 786.487 L3102.12 817.112 L3109.76 817.112 L3109.76 821.047 L3089.85 821.047 L3089.85 817.112 Z\" fill=\"#000000\" fill-rule=\"evenodd\" fill-opacity=\"1\" /><path clip-path=\"url(#clip690)\" d=\"M3129.2 789.566 Q3125.59 789.566 3123.76 793.131 Q3121.96 796.672 3121.96 803.802 Q3121.96 810.908 3123.76 814.473 Q3125.59 818.015 3129.2 818.015 Q3132.84 818.015 3134.64 814.473 Q3136.47 810.908 3136.47 803.802 Q3136.47 796.672 3134.64 793.131 Q3132.84 789.566 3129.2 789.566 M3129.2 785.862 Q3135.01 785.862 3138.07 790.469 Q3141.15 795.052 3141.15 803.802 Q3141.15 812.529 3138.07 817.135 Q3135.01 821.719 3129.2 821.719 Q3123.39 821.719 3120.31 817.135 Q3117.26 812.529 3117.26 803.802 Q3117.26 795.052 3120.31 790.469 Q3123.39 785.862 3129.2 785.862 Z\" fill=\"#000000\" fill-rule=\"evenodd\" fill-opacity=\"1\" /><path clip-path=\"url(#clip690)\" d=\"M2424.21 887.595 L2424.21 909.111 L2418.35 909.111 L2418.35 887.786 Q2418.35 882.725 2416.38 880.211 Q2414.4 877.696 2410.46 877.696 Q2405.71 877.696 2402.98 880.72 Q2400.24 883.744 2400.24 888.964 L2400.24 909.111 L2394.35 909.111 L2394.35 873.463 L2400.24 873.463 L2400.24 879.001 Q2402.34 875.787 2405.17 874.195 Q2408.04 872.604 2411.76 872.604 Q2417.9 872.604 2421.06 876.423 Q2424.21 880.211 2424.21 887.595 Z\" fill=\"#000000\" fill-rule=\"evenodd\" fill-opacity=\"1\" /><path clip-path=\"url(#clip690)\" d=\"M2453.93 859.586 L2453.93 864.456 L2448.33 864.456 Q2445.18 864.456 2443.94 865.729 Q2442.73 867.002 2442.73 870.312 L2442.73 873.463 L2452.38 873.463 L2452.38 878.015 L2442.73 878.015 L2442.73 909.111 L2436.84 909.111 L2436.84 878.015 L2431.24 878.015 L2431.24 873.463 L2436.84 873.463 L2436.84 870.981 Q2436.84 865.029 2439.61 862.323 Q2442.38 859.586 2448.4 859.586 L2453.93 859.586 Z\" fill=\"#000000\" fill-rule=\"evenodd\" fill-opacity=\"1\" /><path clip-path=\"url(#clip690)\" d=\"M2472.65 877.569 Q2467.94 877.569 2465.2 881.261 Q2462.46 884.922 2462.46 891.319 Q2462.46 897.717 2465.17 901.409 Q2467.91 905.069 2472.65 905.069 Q2477.33 905.069 2480.07 901.377 Q2482.8 897.685 2482.8 891.319 Q2482.8 884.985 2480.07 881.293 Q2477.33 877.569 2472.65 877.569 M2472.65 872.604 Q2480.29 872.604 2484.65 877.569 Q2489.01 882.534 2489.01 891.319 Q2489.01 900.072 2484.65 905.069 Q2480.29 910.034 2472.65 910.034 Q2464.98 910.034 2460.62 905.069 Q2456.29 900.072 2456.29 891.319 Q2456.29 882.534 2460.62 877.569 Q2464.98 872.604 2472.65 872.604 Z\" fill=\"#000000\" fill-rule=\"evenodd\" fill-opacity=\"1\" /><path clip-path=\"url(#clip690)\" d=\"M2498.72 859.586 L2504.57 859.586 L2504.57 909.111 L2498.72 909.111 L2498.72 859.586 Z\" fill=\"#000000\" fill-rule=\"evenodd\" fill-opacity=\"1\" /><path clip-path=\"url(#clip690)\" d=\"M2540.29 878.874 L2540.29 859.586 L2546.14 859.586 L2546.14 909.111 L2540.29 909.111 L2540.29 903.764 Q2538.44 906.947 2535.61 908.507 Q2532.81 910.034 2528.86 910.034 Q2522.4 910.034 2518.32 904.878 Q2514.28 899.722 2514.28 891.319 Q2514.28 882.916 2518.32 877.76 Q2522.4 872.604 2528.86 872.604 Q2532.81 872.604 2535.61 874.164 Q2538.44 875.691 2540.29 878.874 M2520.33 891.319 Q2520.33 897.78 2522.97 901.472 Q2525.64 905.133 2530.29 905.133 Q2534.94 905.133 2537.61 901.472 Q2540.29 897.78 2540.29 891.319 Q2540.29 884.858 2537.61 881.198 Q2534.94 877.506 2530.29 877.506 Q2525.64 877.506 2522.97 881.198 Q2520.33 884.858 2520.33 891.319 Z\" fill=\"#000000\" fill-rule=\"evenodd\" fill-opacity=\"1\" /><path clip-path=\"url(#clip690)\" d=\"M2580.93 874.514 L2580.93 880.052 Q2578.45 878.779 2575.77 878.142 Q2573.1 877.506 2570.24 877.506 Q2565.88 877.506 2563.68 878.842 Q2561.52 880.179 2561.52 882.853 Q2561.52 884.89 2563.07 886.067 Q2564.63 887.213 2569.34 888.264 L2571.35 888.709 Q2577.59 890.046 2580.2 892.497 Q2582.84 894.916 2582.84 899.276 Q2582.84 904.241 2578.89 907.138 Q2574.98 910.034 2568.1 910.034 Q2565.24 910.034 2562.12 909.461 Q2559.03 908.92 2555.59 907.806 L2555.59 901.759 Q2558.84 903.446 2561.99 904.305 Q2565.14 905.133 2568.23 905.133 Q2572.37 905.133 2574.6 903.732 Q2576.82 902.3 2576.82 899.722 Q2576.82 897.335 2575.2 896.062 Q2573.61 894.788 2568.17 893.611 L2566.13 893.133 Q2560.69 891.988 2558.27 889.632 Q2555.85 887.245 2555.85 883.107 Q2555.85 878.078 2559.41 875.341 Q2562.98 872.604 2569.54 872.604 Q2572.78 872.604 2575.65 873.081 Q2578.51 873.559 2580.93 874.514 Z\" fill=\"#000000\" fill-rule=\"evenodd\" fill-opacity=\"1\" /><polyline clip-path=\"url(#clip693)\" style=\"stroke:#000000; stroke-linecap:butt; stroke-linejoin:round; stroke-width:2; stroke-opacity:0.1; fill:none\" points=\"\n",
       "  1824.44,696.142 3152.76,696.142 \n",
       "  \"/>\n",
       "<polyline clip-path=\"url(#clip693)\" style=\"stroke:#000000; stroke-linecap:butt; stroke-linejoin:round; stroke-width:2; stroke-opacity:0.1; fill:none\" points=\"\n",
       "  1824.44,550.106 3152.76,550.106 \n",
       "  \"/>\n",
       "<polyline clip-path=\"url(#clip693)\" style=\"stroke:#000000; stroke-linecap:butt; stroke-linejoin:round; stroke-width:2; stroke-opacity:0.1; fill:none\" points=\"\n",
       "  1824.44,404.071 3152.76,404.071 \n",
       "  \"/>\n",
       "<polyline clip-path=\"url(#clip693)\" style=\"stroke:#000000; stroke-linecap:butt; stroke-linejoin:round; stroke-width:2; stroke-opacity:0.1; fill:none\" points=\"\n",
       "  1824.44,258.035 3152.76,258.035 \n",
       "  \"/>\n",
       "<polyline clip-path=\"url(#clip693)\" style=\"stroke:#000000; stroke-linecap:butt; stroke-linejoin:round; stroke-width:2; stroke-opacity:0.1; fill:none\" points=\"\n",
       "  1824.44,112 3152.76,112 \n",
       "  \"/>\n",
       "<polyline clip-path=\"url(#clip690)\" style=\"stroke:#000000; stroke-linecap:butt; stroke-linejoin:round; stroke-width:4; stroke-opacity:1; fill:none\" points=\"\n",
       "  1824.44,752.247 1824.44,97.0121 \n",
       "  \"/>\n",
       "<polyline clip-path=\"url(#clip690)\" style=\"stroke:#000000; stroke-linecap:butt; stroke-linejoin:round; stroke-width:4; stroke-opacity:1; fill:none\" points=\"\n",
       "  1824.44,696.142 1843.33,696.142 \n",
       "  \"/>\n",
       "<polyline clip-path=\"url(#clip690)\" style=\"stroke:#000000; stroke-linecap:butt; stroke-linejoin:round; stroke-width:4; stroke-opacity:1; fill:none\" points=\"\n",
       "  1824.44,550.106 1843.33,550.106 \n",
       "  \"/>\n",
       "<polyline clip-path=\"url(#clip690)\" style=\"stroke:#000000; stroke-linecap:butt; stroke-linejoin:round; stroke-width:4; stroke-opacity:1; fill:none\" points=\"\n",
       "  1824.44,404.071 1843.33,404.071 \n",
       "  \"/>\n",
       "<polyline clip-path=\"url(#clip690)\" style=\"stroke:#000000; stroke-linecap:butt; stroke-linejoin:round; stroke-width:4; stroke-opacity:1; fill:none\" points=\"\n",
       "  1824.44,258.035 1843.33,258.035 \n",
       "  \"/>\n",
       "<polyline clip-path=\"url(#clip690)\" style=\"stroke:#000000; stroke-linecap:butt; stroke-linejoin:round; stroke-width:4; stroke-opacity:1; fill:none\" points=\"\n",
       "  1824.44,112 1843.33,112 \n",
       "  \"/>\n",
       "<path clip-path=\"url(#clip690)\" d=\"M1659.93 681.94 Q1656.32 681.94 1654.49 685.505 Q1652.69 689.047 1652.69 696.176 Q1652.69 703.283 1654.49 706.848 Q1656.32 710.389 1659.93 710.389 Q1663.57 710.389 1665.37 706.848 Q1667.2 703.283 1667.2 696.176 Q1667.2 689.047 1665.37 685.505 Q1663.57 681.94 1659.93 681.94 M1659.93 678.237 Q1665.74 678.237 1668.8 682.843 Q1671.88 687.426 1671.88 696.176 Q1671.88 704.903 1668.8 709.51 Q1665.74 714.093 1659.93 714.093 Q1654.12 714.093 1651.04 709.51 Q1647.99 704.903 1647.99 696.176 Q1647.99 687.426 1651.04 682.843 Q1654.12 678.237 1659.93 678.237 Z\" fill=\"#000000\" fill-rule=\"evenodd\" fill-opacity=\"1\" /><path clip-path=\"url(#clip690)\" d=\"M1680.09 707.542 L1684.98 707.542 L1684.98 713.422 L1680.09 713.422 L1680.09 707.542 Z\" fill=\"#000000\" fill-rule=\"evenodd\" fill-opacity=\"1\" /><path clip-path=\"url(#clip690)\" d=\"M1695.3 712.704 L1695.3 708.445 Q1697.06 709.278 1698.87 709.718 Q1700.67 710.158 1702.41 710.158 Q1707.04 710.158 1709.47 707.056 Q1711.92 703.931 1712.27 697.588 Q1710.93 699.579 1708.87 700.644 Q1706.81 701.709 1704.31 701.709 Q1699.12 701.709 1696.09 698.584 Q1693.08 695.436 1693.08 689.996 Q1693.08 684.672 1696.23 681.454 Q1699.38 678.237 1704.61 678.237 Q1710.6 678.237 1713.75 682.843 Q1716.92 687.426 1716.92 696.176 Q1716.92 704.348 1713.03 709.232 Q1709.17 714.093 1702.62 714.093 Q1700.86 714.093 1699.05 713.746 Q1697.25 713.398 1695.3 712.704 M1704.61 698.051 Q1707.76 698.051 1709.58 695.899 Q1711.44 693.746 1711.44 689.996 Q1711.44 686.269 1709.58 684.116 Q1707.76 681.94 1704.61 681.94 Q1701.46 681.94 1699.61 684.116 Q1697.78 686.269 1697.78 689.996 Q1697.78 693.746 1699.61 695.899 Q1701.46 698.051 1704.61 698.051 Z\" fill=\"#000000\" fill-rule=\"evenodd\" fill-opacity=\"1\" /><path clip-path=\"url(#clip690)\" d=\"M1724.14 678.862 L1746.37 678.862 L1746.37 680.852 L1733.82 713.422 L1728.94 713.422 L1740.74 682.797 L1724.14 682.797 L1724.14 678.862 Z\" fill=\"#000000\" fill-rule=\"evenodd\" fill-opacity=\"1\" /><path clip-path=\"url(#clip690)\" d=\"M1755.53 678.862 L1773.89 678.862 L1773.89 682.797 L1759.82 682.797 L1759.82 691.269 Q1760.83 690.922 1761.85 690.76 Q1762.87 690.575 1763.89 690.575 Q1769.68 690.575 1773.06 693.746 Q1776.44 696.917 1776.44 702.334 Q1776.44 707.912 1772.96 711.014 Q1769.49 714.093 1763.17 714.093 Q1761 714.093 1758.73 713.723 Q1756.48 713.352 1754.07 712.611 L1754.07 707.912 Q1756.16 709.047 1758.38 709.602 Q1760.6 710.158 1763.08 710.158 Q1767.08 710.158 1769.42 708.051 Q1771.76 705.945 1771.76 702.334 Q1771.76 698.723 1769.42 696.616 Q1767.08 694.51 1763.08 694.51 Q1761.2 694.51 1759.33 694.926 Q1757.48 695.343 1755.53 696.223 L1755.53 678.862 Z\" fill=\"#000000\" fill-rule=\"evenodd\" fill-opacity=\"1\" /><path clip-path=\"url(#clip690)\" d=\"M1658.94 535.905 Q1655.33 535.905 1653.5 539.47 Q1651.69 543.011 1651.69 550.141 Q1651.69 557.247 1653.5 560.812 Q1655.33 564.354 1658.94 564.354 Q1662.57 564.354 1664.38 560.812 Q1666.2 557.247 1666.2 550.141 Q1666.2 543.011 1664.38 539.47 Q1662.57 535.905 1658.94 535.905 M1658.94 532.201 Q1664.75 532.201 1667.8 536.808 Q1670.88 541.391 1670.88 550.141 Q1670.88 558.868 1667.8 563.474 Q1664.75 568.057 1658.94 568.057 Q1653.13 568.057 1650.05 563.474 Q1646.99 558.868 1646.99 550.141 Q1646.99 541.391 1650.05 536.808 Q1653.13 532.201 1658.94 532.201 Z\" fill=\"#000000\" fill-rule=\"evenodd\" fill-opacity=\"1\" /><path clip-path=\"url(#clip690)\" d=\"M1679.1 561.507 L1683.98 561.507 L1683.98 567.386 L1679.1 567.386 L1679.1 561.507 Z\" fill=\"#000000\" fill-rule=\"evenodd\" fill-opacity=\"1\" /><path clip-path=\"url(#clip690)\" d=\"M1694.31 566.669 L1694.31 562.409 Q1696.07 563.243 1697.87 563.682 Q1699.68 564.122 1701.41 564.122 Q1706.04 564.122 1708.47 561.02 Q1710.93 557.895 1711.27 551.553 Q1709.93 553.544 1707.87 554.608 Q1705.81 555.673 1703.31 555.673 Q1698.13 555.673 1695.09 552.548 Q1692.08 549.4 1692.08 543.96 Q1692.08 538.636 1695.23 535.419 Q1698.38 532.201 1703.61 532.201 Q1709.61 532.201 1712.76 536.808 Q1715.93 541.391 1715.93 550.141 Q1715.93 558.312 1712.04 563.196 Q1708.17 568.057 1701.62 568.057 Q1699.86 568.057 1698.06 567.71 Q1696.25 567.363 1694.31 566.669 M1703.61 552.016 Q1706.76 552.016 1708.59 549.863 Q1710.44 547.71 1710.44 543.96 Q1710.44 540.234 1708.59 538.081 Q1706.76 535.905 1703.61 535.905 Q1700.46 535.905 1698.61 538.081 Q1696.78 540.234 1696.78 543.96 Q1696.78 547.71 1698.61 549.863 Q1700.46 552.016 1703.61 552.016 Z\" fill=\"#000000\" fill-rule=\"evenodd\" fill-opacity=\"1\" /><path clip-path=\"url(#clip690)\" d=\"M1734.33 550.974 Q1731 550.974 1729.08 552.757 Q1727.18 554.539 1727.18 557.664 Q1727.18 560.789 1729.08 562.571 Q1731 564.354 1734.33 564.354 Q1737.66 564.354 1739.58 562.571 Q1741.51 560.766 1741.51 557.664 Q1741.51 554.539 1739.58 552.757 Q1737.69 550.974 1734.33 550.974 M1729.65 548.984 Q1726.64 548.243 1724.95 546.183 Q1723.29 544.122 1723.29 541.159 Q1723.29 537.016 1726.23 534.609 Q1729.19 532.201 1734.33 532.201 Q1739.49 532.201 1742.43 534.609 Q1745.37 537.016 1745.37 541.159 Q1745.37 544.122 1743.68 546.183 Q1742.01 548.243 1739.03 548.984 Q1742.41 549.771 1744.28 552.062 Q1746.18 554.354 1746.18 557.664 Q1746.18 562.687 1743.1 565.372 Q1740.05 568.057 1734.33 568.057 Q1728.61 568.057 1725.53 565.372 Q1722.48 562.687 1722.48 557.664 Q1722.48 554.354 1724.38 552.062 Q1726.27 549.771 1729.65 548.984 M1727.94 541.599 Q1727.94 544.284 1729.61 545.789 Q1731.3 547.294 1734.33 547.294 Q1737.34 547.294 1739.03 545.789 Q1740.74 544.284 1740.74 541.599 Q1740.74 538.914 1739.03 537.409 Q1737.34 535.905 1734.33 535.905 Q1731.3 535.905 1729.61 537.409 Q1727.94 538.914 1727.94 541.599 Z\" fill=\"#000000\" fill-rule=\"evenodd\" fill-opacity=\"1\" /><path clip-path=\"url(#clip690)\" d=\"M1764.49 535.905 Q1760.88 535.905 1759.05 539.47 Q1757.25 543.011 1757.25 550.141 Q1757.25 557.247 1759.05 560.812 Q1760.88 564.354 1764.49 564.354 Q1768.13 564.354 1769.93 560.812 Q1771.76 557.247 1771.76 550.141 Q1771.76 543.011 1769.93 539.47 Q1768.13 535.905 1764.49 535.905 M1764.49 532.201 Q1770.3 532.201 1773.36 536.808 Q1776.44 541.391 1776.44 550.141 Q1776.44 558.868 1773.36 563.474 Q1770.3 568.057 1764.49 568.057 Q1758.68 568.057 1755.6 563.474 Q1752.55 558.868 1752.55 550.141 Q1752.55 541.391 1755.6 536.808 Q1758.68 532.201 1764.49 532.201 Z\" fill=\"#000000\" fill-rule=\"evenodd\" fill-opacity=\"1\" /><path clip-path=\"url(#clip690)\" d=\"M1659.93 389.869 Q1656.32 389.869 1654.49 393.434 Q1652.69 396.976 1652.69 404.105 Q1652.69 411.212 1654.49 414.777 Q1656.32 418.318 1659.93 418.318 Q1663.57 418.318 1665.37 414.777 Q1667.2 411.212 1667.2 404.105 Q1667.2 396.976 1665.37 393.434 Q1663.57 389.869 1659.93 389.869 M1659.93 386.166 Q1665.74 386.166 1668.8 390.772 Q1671.88 395.356 1671.88 404.105 Q1671.88 412.832 1668.8 417.439 Q1665.74 422.022 1659.93 422.022 Q1654.12 422.022 1651.04 417.439 Q1647.99 412.832 1647.99 404.105 Q1647.99 395.356 1651.04 390.772 Q1654.12 386.166 1659.93 386.166 Z\" fill=\"#000000\" fill-rule=\"evenodd\" fill-opacity=\"1\" /><path clip-path=\"url(#clip690)\" d=\"M1680.09 415.471 L1684.98 415.471 L1684.98 421.351 L1680.09 421.351 L1680.09 415.471 Z\" fill=\"#000000\" fill-rule=\"evenodd\" fill-opacity=\"1\" /><path clip-path=\"url(#clip690)\" d=\"M1695.3 420.633 L1695.3 416.374 Q1697.06 417.207 1698.87 417.647 Q1700.67 418.087 1702.41 418.087 Q1707.04 418.087 1709.47 414.985 Q1711.92 411.86 1712.27 405.517 Q1710.93 407.508 1708.87 408.573 Q1706.81 409.638 1704.31 409.638 Q1699.12 409.638 1696.09 406.513 Q1693.08 403.365 1693.08 397.925 Q1693.08 392.601 1696.23 389.383 Q1699.38 386.166 1704.61 386.166 Q1710.6 386.166 1713.75 390.772 Q1716.92 395.356 1716.92 404.105 Q1716.92 412.277 1713.03 417.161 Q1709.17 422.022 1702.62 422.022 Q1700.86 422.022 1699.05 421.675 Q1697.25 421.328 1695.3 420.633 M1704.61 405.98 Q1707.76 405.98 1709.58 403.828 Q1711.44 401.675 1711.44 397.925 Q1711.44 394.198 1709.58 392.045 Q1707.76 389.869 1704.61 389.869 Q1701.46 389.869 1699.61 392.045 Q1697.78 394.198 1697.78 397.925 Q1697.78 401.675 1699.61 403.828 Q1701.46 405.98 1704.61 405.98 Z\" fill=\"#000000\" fill-rule=\"evenodd\" fill-opacity=\"1\" /><path clip-path=\"url(#clip690)\" d=\"M1735.32 404.939 Q1731.99 404.939 1730.07 406.721 Q1728.17 408.504 1728.17 411.629 Q1728.17 414.754 1730.07 416.536 Q1731.99 418.318 1735.32 418.318 Q1738.66 418.318 1740.58 416.536 Q1742.5 414.73 1742.5 411.629 Q1742.5 408.504 1740.58 406.721 Q1738.68 404.939 1735.32 404.939 M1730.65 402.948 Q1727.64 402.207 1725.95 400.147 Q1724.28 398.087 1724.28 395.124 Q1724.28 390.981 1727.22 388.573 Q1730.19 386.166 1735.32 386.166 Q1740.49 386.166 1743.43 388.573 Q1746.37 390.981 1746.37 395.124 Q1746.37 398.087 1744.68 400.147 Q1743.01 402.207 1740.02 402.948 Q1743.4 403.735 1745.28 406.027 Q1747.18 408.318 1747.18 411.629 Q1747.18 416.652 1744.1 419.337 Q1741.04 422.022 1735.32 422.022 Q1729.61 422.022 1726.53 419.337 Q1723.47 416.652 1723.47 411.629 Q1723.47 408.318 1725.37 406.027 Q1727.27 403.735 1730.65 402.948 M1728.94 395.564 Q1728.94 398.249 1730.6 399.754 Q1732.29 401.258 1735.32 401.258 Q1738.33 401.258 1740.02 399.754 Q1741.74 398.249 1741.74 395.564 Q1741.74 392.879 1740.02 391.374 Q1738.33 389.869 1735.32 389.869 Q1732.29 389.869 1730.6 391.374 Q1728.94 392.879 1728.94 395.564 Z\" fill=\"#000000\" fill-rule=\"evenodd\" fill-opacity=\"1\" /><path clip-path=\"url(#clip690)\" d=\"M1755.53 386.791 L1773.89 386.791 L1773.89 390.726 L1759.82 390.726 L1759.82 399.198 Q1760.83 398.851 1761.85 398.689 Q1762.87 398.504 1763.89 398.504 Q1769.68 398.504 1773.06 401.675 Q1776.44 404.846 1776.44 410.263 Q1776.44 415.842 1772.96 418.943 Q1769.49 422.022 1763.17 422.022 Q1761 422.022 1758.73 421.652 Q1756.48 421.281 1754.07 420.541 L1754.07 415.842 Q1756.16 416.976 1758.38 417.531 Q1760.6 418.087 1763.08 418.087 Q1767.08 418.087 1769.42 415.98 Q1771.76 413.874 1771.76 410.263 Q1771.76 406.652 1769.42 404.545 Q1767.08 402.439 1763.08 402.439 Q1761.2 402.439 1759.33 402.855 Q1757.48 403.272 1755.53 404.152 L1755.53 386.791 Z\" fill=\"#000000\" fill-rule=\"evenodd\" fill-opacity=\"1\" /><path clip-path=\"url(#clip690)\" d=\"M1658.94 243.834 Q1655.33 243.834 1653.5 247.399 Q1651.69 250.94 1651.69 258.07 Q1651.69 265.176 1653.5 268.741 Q1655.33 272.283 1658.94 272.283 Q1662.57 272.283 1664.38 268.741 Q1666.2 265.176 1666.2 258.07 Q1666.2 250.94 1664.38 247.399 Q1662.57 243.834 1658.94 243.834 M1658.94 240.13 Q1664.75 240.13 1667.8 244.737 Q1670.88 249.32 1670.88 258.07 Q1670.88 266.797 1667.8 271.403 Q1664.75 275.987 1658.94 275.987 Q1653.13 275.987 1650.05 271.403 Q1646.99 266.797 1646.99 258.07 Q1646.99 249.32 1650.05 244.737 Q1653.13 240.13 1658.94 240.13 Z\" fill=\"#000000\" fill-rule=\"evenodd\" fill-opacity=\"1\" /><path clip-path=\"url(#clip690)\" d=\"M1679.1 269.436 L1683.98 269.436 L1683.98 275.315 L1679.1 275.315 L1679.1 269.436 Z\" fill=\"#000000\" fill-rule=\"evenodd\" fill-opacity=\"1\" /><path clip-path=\"url(#clip690)\" d=\"M1694.31 274.598 L1694.31 270.338 Q1696.07 271.172 1697.87 271.612 Q1699.68 272.051 1701.41 272.051 Q1706.04 272.051 1708.47 268.95 Q1710.93 265.825 1711.27 259.482 Q1709.93 261.473 1707.87 262.538 Q1705.81 263.602 1703.31 263.602 Q1698.13 263.602 1695.09 260.477 Q1692.08 257.329 1692.08 251.889 Q1692.08 246.565 1695.23 243.348 Q1698.38 240.13 1703.61 240.13 Q1709.61 240.13 1712.76 244.737 Q1715.93 249.32 1715.93 258.07 Q1715.93 266.241 1712.04 271.125 Q1708.17 275.987 1701.62 275.987 Q1699.86 275.987 1698.06 275.639 Q1696.25 275.292 1694.31 274.598 M1703.61 259.945 Q1706.76 259.945 1708.59 257.792 Q1710.44 255.639 1710.44 251.889 Q1710.44 248.163 1708.59 246.01 Q1706.76 243.834 1703.61 243.834 Q1700.46 243.834 1698.61 246.01 Q1696.78 248.163 1696.78 251.889 Q1696.78 255.639 1698.61 257.792 Q1700.46 259.945 1703.61 259.945 Z\" fill=\"#000000\" fill-rule=\"evenodd\" fill-opacity=\"1\" /><path clip-path=\"url(#clip690)\" d=\"M1724.47 274.598 L1724.47 270.338 Q1726.23 271.172 1728.03 271.612 Q1729.84 272.051 1731.58 272.051 Q1736.2 272.051 1738.64 268.95 Q1741.09 265.825 1741.44 259.482 Q1740.09 261.473 1738.03 262.538 Q1735.97 263.602 1733.47 263.602 Q1728.29 263.602 1725.26 260.477 Q1722.25 257.329 1722.25 251.889 Q1722.25 246.565 1725.39 243.348 Q1728.54 240.13 1733.77 240.13 Q1739.77 240.13 1742.92 244.737 Q1746.09 249.32 1746.09 258.07 Q1746.09 266.241 1742.2 271.125 Q1738.33 275.987 1731.78 275.987 Q1730.02 275.987 1728.22 275.639 Q1726.41 275.292 1724.47 274.598 M1733.77 259.945 Q1736.92 259.945 1738.75 257.792 Q1740.6 255.639 1740.6 251.889 Q1740.6 248.163 1738.75 246.01 Q1736.92 243.834 1733.77 243.834 Q1730.63 243.834 1728.77 246.01 Q1726.95 248.163 1726.95 251.889 Q1726.95 255.639 1728.77 257.792 Q1730.63 259.945 1733.77 259.945 Z\" fill=\"#000000\" fill-rule=\"evenodd\" fill-opacity=\"1\" /><path clip-path=\"url(#clip690)\" d=\"M1764.49 243.834 Q1760.88 243.834 1759.05 247.399 Q1757.25 250.94 1757.25 258.07 Q1757.25 265.176 1759.05 268.741 Q1760.88 272.283 1764.49 272.283 Q1768.13 272.283 1769.93 268.741 Q1771.76 265.176 1771.76 258.07 Q1771.76 250.94 1769.93 247.399 Q1768.13 243.834 1764.49 243.834 M1764.49 240.13 Q1770.3 240.13 1773.36 244.737 Q1776.44 249.32 1776.44 258.07 Q1776.44 266.797 1773.36 271.403 Q1770.3 275.987 1764.49 275.987 Q1758.68 275.987 1755.6 271.403 Q1752.55 266.797 1752.55 258.07 Q1752.55 249.32 1755.6 244.737 Q1758.68 240.13 1764.49 240.13 Z\" fill=\"#000000\" fill-rule=\"evenodd\" fill-opacity=\"1\" /><path clip-path=\"url(#clip690)\" d=\"M1659.93 97.7985 Q1656.32 97.7985 1654.49 101.363 Q1652.69 104.905 1652.69 112.035 Q1652.69 119.141 1654.49 122.706 Q1656.32 126.247 1659.93 126.247 Q1663.57 126.247 1665.37 122.706 Q1667.2 119.141 1667.2 112.035 Q1667.2 104.905 1665.37 101.363 Q1663.57 97.7985 1659.93 97.7985 M1659.93 94.0948 Q1665.74 94.0948 1668.8 98.7013 Q1671.88 103.285 1671.88 112.035 Q1671.88 120.761 1668.8 125.368 Q1665.74 129.951 1659.93 129.951 Q1654.12 129.951 1651.04 125.368 Q1647.99 120.761 1647.99 112.035 Q1647.99 103.285 1651.04 98.7013 Q1654.12 94.0948 1659.93 94.0948 Z\" fill=\"#000000\" fill-rule=\"evenodd\" fill-opacity=\"1\" /><path clip-path=\"url(#clip690)\" d=\"M1680.09 123.4 L1684.98 123.4 L1684.98 129.28 L1680.09 129.28 L1680.09 123.4 Z\" fill=\"#000000\" fill-rule=\"evenodd\" fill-opacity=\"1\" /><path clip-path=\"url(#clip690)\" d=\"M1695.3 128.562 L1695.3 124.303 Q1697.06 125.136 1698.87 125.576 Q1700.67 126.016 1702.41 126.016 Q1707.04 126.016 1709.47 122.914 Q1711.92 119.789 1712.27 113.447 Q1710.93 115.437 1708.87 116.502 Q1706.81 117.567 1704.31 117.567 Q1699.12 117.567 1696.09 114.442 Q1693.08 111.294 1693.08 105.854 Q1693.08 100.53 1696.23 97.3124 Q1699.38 94.0948 1704.61 94.0948 Q1710.6 94.0948 1713.75 98.7013 Q1716.92 103.285 1716.92 112.035 Q1716.92 120.206 1713.03 125.09 Q1709.17 129.951 1702.62 129.951 Q1700.86 129.951 1699.05 129.604 Q1697.25 129.257 1695.3 128.562 M1704.61 113.91 Q1707.76 113.91 1709.58 111.757 Q1711.44 109.604 1711.44 105.854 Q1711.44 102.127 1709.58 99.9744 Q1707.76 97.7985 1704.61 97.7985 Q1701.46 97.7985 1699.61 99.9744 Q1697.78 102.127 1697.78 105.854 Q1697.78 109.604 1699.61 111.757 Q1701.46 113.91 1704.61 113.91 Z\" fill=\"#000000\" fill-rule=\"evenodd\" fill-opacity=\"1\" /><path clip-path=\"url(#clip690)\" d=\"M1725.46 128.562 L1725.46 124.303 Q1727.22 125.136 1729.03 125.576 Q1730.83 126.016 1732.57 126.016 Q1737.2 126.016 1739.63 122.914 Q1742.08 119.789 1742.43 113.447 Q1741.09 115.437 1739.03 116.502 Q1736.97 117.567 1734.47 117.567 Q1729.28 117.567 1726.25 114.442 Q1723.24 111.294 1723.24 105.854 Q1723.24 100.53 1726.39 97.3124 Q1729.54 94.0948 1734.77 94.0948 Q1740.76 94.0948 1743.91 98.7013 Q1747.08 103.285 1747.08 112.035 Q1747.08 120.206 1743.2 125.09 Q1739.33 129.951 1732.78 129.951 Q1731.02 129.951 1729.21 129.604 Q1727.41 129.257 1725.46 128.562 M1734.77 113.91 Q1737.92 113.91 1739.75 111.757 Q1741.6 109.604 1741.6 105.854 Q1741.6 102.127 1739.75 99.9744 Q1737.92 97.7985 1734.77 97.7985 Q1731.62 97.7985 1729.77 99.9744 Q1727.94 102.127 1727.94 105.854 Q1727.94 109.604 1729.77 111.757 Q1731.62 113.91 1734.77 113.91 Z\" fill=\"#000000\" fill-rule=\"evenodd\" fill-opacity=\"1\" /><path clip-path=\"url(#clip690)\" d=\"M1755.53 94.7198 L1773.89 94.7198 L1773.89 98.655 L1759.82 98.655 L1759.82 107.127 Q1760.83 106.78 1761.85 106.618 Q1762.87 106.433 1763.89 106.433 Q1769.68 106.433 1773.06 109.604 Q1776.44 112.775 1776.44 118.192 Q1776.44 123.771 1772.96 126.872 Q1769.49 129.951 1763.17 129.951 Q1761 129.951 1758.73 129.581 Q1756.48 129.21 1754.07 128.47 L1754.07 123.771 Q1756.16 124.905 1758.38 125.46 Q1760.6 126.016 1763.08 126.016 Q1767.08 126.016 1769.42 123.909 Q1771.76 121.803 1771.76 118.192 Q1771.76 114.581 1769.42 112.474 Q1767.08 110.368 1763.08 110.368 Q1761.2 110.368 1759.33 110.785 Q1757.48 111.201 1755.53 112.081 L1755.53 94.7198 Z\" fill=\"#000000\" fill-rule=\"evenodd\" fill-opacity=\"1\" /><path clip-path=\"url(#clip690)\" d=\"M2353.21 9.54393 L2353.21 15.7418 L2346.09 15.7418 Q2342.07 15.7418 2340.49 17.3622 Q2338.96 18.9825 2338.96 23.1955 L2338.96 27.2059 L2351.23 27.2059 L2351.23 32.9987 L2338.96 32.9987 L2338.96 72.576 L2331.46 72.576 L2331.46 32.9987 L2324.33 32.9987 L2324.33 27.2059 L2331.46 27.2059 L2331.46 24.0462 Q2331.46 16.471 2334.99 13.0277 Q2338.51 9.54393 2346.17 9.54393 L2353.21 9.54393 Z\" fill=\"#000000\" fill-rule=\"evenodd\" fill-opacity=\"1\" /><path clip-path=\"url(#clip690)\" d=\"M2361.92 65.6895 L2375.29 65.6895 L2375.29 19.5497 L2360.75 22.4663 L2360.75 15.0127 L2375.21 12.096 L2383.39 12.096 L2383.39 65.6895 L2396.76 65.6895 L2396.76 72.576 L2361.92 72.576 L2361.92 65.6895 Z\" fill=\"#000000\" fill-rule=\"evenodd\" fill-opacity=\"1\" /><path clip-path=\"url(#clip690)\" d=\"M2408.47 46.5287 L2430.3 46.5287 L2430.3 53.1722 L2408.47 53.1722 L2408.47 46.5287 Z\" fill=\"#000000\" fill-rule=\"evenodd\" fill-opacity=\"1\" /><path clip-path=\"url(#clip690)\" d=\"M2471.1 28.5427 L2471.1 35.5912 Q2467.94 33.9709 2464.53 33.1607 Q2461.13 32.3505 2457.48 32.3505 Q2451.94 32.3505 2449.14 34.0519 Q2446.39 35.7533 2446.39 39.156 Q2446.39 41.7486 2448.37 43.2475 Q2450.36 44.7058 2456.35 46.0426 L2458.9 46.6097 Q2466.84 48.3111 2470.16 51.4303 Q2473.53 54.509 2473.53 60.0587 Q2473.53 66.3781 2468.5 70.0644 Q2463.52 73.7508 2454.77 73.7508 Q2451.13 73.7508 2447.16 73.0216 Q2443.23 72.3329 2438.85 70.9151 L2438.85 63.2184 Q2442.98 65.3654 2446.99 66.4591 Q2451 67.5124 2454.93 67.5124 Q2460.2 67.5124 2463.03 65.73 Q2465.87 63.9071 2465.87 60.6258 Q2465.87 57.5877 2463.8 55.9673 Q2461.78 54.3469 2454.85 52.8481 L2452.26 52.2405 Q2445.33 50.7821 2442.25 47.7845 Q2439.17 44.7463 2439.17 39.4801 Q2439.17 33.0797 2443.71 29.5959 Q2448.25 26.1121 2456.59 26.1121 Q2460.73 26.1121 2464.37 26.7198 Q2468.02 27.3274 2471.1 28.5427 Z\" fill=\"#000000\" fill-rule=\"evenodd\" fill-opacity=\"1\" /><path clip-path=\"url(#clip690)\" d=\"M2518.05 28.9478 L2518.05 35.9153 Q2514.89 34.1734 2511.69 33.3227 Q2508.53 32.4315 2505.29 32.4315 Q2498.03 32.4315 2494.02 37.0496 Q2490.01 41.6271 2490.01 49.9314 Q2490.01 58.2358 2494.02 62.8538 Q2498.03 67.4314 2505.29 67.4314 Q2508.53 67.4314 2511.69 66.5807 Q2514.89 65.6895 2518.05 63.9476 L2518.05 70.8341 Q2514.93 72.2924 2511.56 73.0216 Q2508.24 73.7508 2504.48 73.7508 Q2494.23 73.7508 2488.19 67.3098 Q2482.15 60.8689 2482.15 49.9314 Q2482.15 38.832 2488.23 32.472 Q2494.35 26.1121 2504.96 26.1121 Q2508.4 26.1121 2511.69 26.8413 Q2514.97 27.5299 2518.05 28.9478 Z\" fill=\"#000000\" fill-rule=\"evenodd\" fill-opacity=\"1\" /><path clip-path=\"url(#clip690)\" d=\"M2548.59 32.4315 Q2542.59 32.4315 2539.11 37.1306 Q2535.63 41.7891 2535.63 49.9314 Q2535.63 58.0738 2539.07 62.7728 Q2542.55 67.4314 2548.59 67.4314 Q2554.54 67.4314 2558.03 62.7323 Q2561.51 58.0333 2561.51 49.9314 Q2561.51 41.8701 2558.03 37.1711 Q2554.54 32.4315 2548.59 32.4315 M2548.59 26.1121 Q2558.31 26.1121 2563.86 32.4315 Q2569.41 38.7509 2569.41 49.9314 Q2569.41 61.0714 2563.86 67.4314 Q2558.31 73.7508 2548.59 73.7508 Q2538.83 73.7508 2533.28 67.4314 Q2527.77 61.0714 2527.77 49.9314 Q2527.77 38.7509 2533.28 32.4315 Q2538.83 26.1121 2548.59 26.1121 Z\" fill=\"#000000\" fill-rule=\"evenodd\" fill-opacity=\"1\" /><path clip-path=\"url(#clip690)\" d=\"M2608.06 34.1734 Q2606.8 33.4443 2605.3 33.1202 Q2603.84 32.7556 2602.06 32.7556 Q2595.74 32.7556 2592.34 36.8875 Q2588.98 40.9789 2588.98 48.6757 L2588.98 72.576 L2581.48 72.576 L2581.48 27.2059 L2588.98 27.2059 L2588.98 34.2544 Q2591.33 30.1225 2595.09 28.1376 Q2598.86 26.1121 2604.25 26.1121 Q2605.02 26.1121 2605.95 26.2337 Q2606.88 26.3147 2608.02 26.5172 L2608.06 34.1734 Z\" fill=\"#000000\" fill-rule=\"evenodd\" fill-opacity=\"1\" /><path clip-path=\"url(#clip690)\" d=\"M2652.86 48.0275 L2652.86 51.6733 L2618.59 51.6733 Q2619.08 59.3701 2623.21 63.421 Q2627.38 67.4314 2634.79 67.4314 Q2639.09 67.4314 2643.1 66.3781 Q2647.15 65.3249 2651.12 63.2184 L2651.12 70.267 Q2647.11 71.9684 2642.89 72.8596 Q2638.68 73.7508 2634.35 73.7508 Q2623.49 73.7508 2617.13 67.4314 Q2610.81 61.1119 2610.81 50.3365 Q2610.81 39.1965 2616.81 32.6746 Q2622.84 26.1121 2633.05 26.1121 Q2642.21 26.1121 2647.51 32.0264 Q2652.86 37.9003 2652.86 48.0275 M2645.41 45.84 Q2645.33 39.7232 2641.96 36.0774 Q2638.64 32.4315 2633.13 32.4315 Q2626.89 32.4315 2623.13 35.9558 Q2619.4 39.4801 2618.83 45.8805 L2645.41 45.84 Z\" fill=\"#000000\" fill-rule=\"evenodd\" fill-opacity=\"1\" /><polyline clip-path=\"url(#clip693)\" style=\"stroke:#009af9; stroke-linecap:butt; stroke-linejoin:round; stroke-width:6; stroke-opacity:1; fill:none\" points=\"\n",
       "  1862.03,115.557 2001.27,115.557 2140.5,115.557 2279.74,115.557 2418.98,115.557 2558.21,115.557 2697.45,115.557 2836.69,115.557 2975.93,115.557 3115.16,115.557 \n",
       "  \n",
       "  \"/>\n",
       "<circle clip-path=\"url(#clip693)\" cx=\"1862.03\" cy=\"115.557\" r=\"10\" fill=\"#009af9\" fill-rule=\"evenodd\" fill-opacity=\"1\" stroke=\"#000000\" stroke-opacity=\"1\" stroke-width=\"2.4\"/>\n",
       "<circle clip-path=\"url(#clip693)\" cx=\"2001.27\" cy=\"115.557\" r=\"10\" fill=\"#009af9\" fill-rule=\"evenodd\" fill-opacity=\"1\" stroke=\"#000000\" stroke-opacity=\"1\" stroke-width=\"2.4\"/>\n",
       "<circle clip-path=\"url(#clip693)\" cx=\"2140.5\" cy=\"115.557\" r=\"10\" fill=\"#009af9\" fill-rule=\"evenodd\" fill-opacity=\"1\" stroke=\"#000000\" stroke-opacity=\"1\" stroke-width=\"2.4\"/>\n",
       "<circle clip-path=\"url(#clip693)\" cx=\"2279.74\" cy=\"115.557\" r=\"10\" fill=\"#009af9\" fill-rule=\"evenodd\" fill-opacity=\"1\" stroke=\"#000000\" stroke-opacity=\"1\" stroke-width=\"2.4\"/>\n",
       "<circle clip-path=\"url(#clip693)\" cx=\"2418.98\" cy=\"115.557\" r=\"10\" fill=\"#009af9\" fill-rule=\"evenodd\" fill-opacity=\"1\" stroke=\"#000000\" stroke-opacity=\"1\" stroke-width=\"2.4\"/>\n",
       "<circle clip-path=\"url(#clip693)\" cx=\"2558.21\" cy=\"115.557\" r=\"10\" fill=\"#009af9\" fill-rule=\"evenodd\" fill-opacity=\"1\" stroke=\"#000000\" stroke-opacity=\"1\" stroke-width=\"2.4\"/>\n",
       "<circle clip-path=\"url(#clip693)\" cx=\"2697.45\" cy=\"115.557\" r=\"10\" fill=\"#009af9\" fill-rule=\"evenodd\" fill-opacity=\"1\" stroke=\"#000000\" stroke-opacity=\"1\" stroke-width=\"2.4\"/>\n",
       "<circle clip-path=\"url(#clip693)\" cx=\"2836.69\" cy=\"115.557\" r=\"10\" fill=\"#009af9\" fill-rule=\"evenodd\" fill-opacity=\"1\" stroke=\"#000000\" stroke-opacity=\"1\" stroke-width=\"2.4\"/>\n",
       "<circle clip-path=\"url(#clip693)\" cx=\"2975.93\" cy=\"115.557\" r=\"10\" fill=\"#009af9\" fill-rule=\"evenodd\" fill-opacity=\"1\" stroke=\"#000000\" stroke-opacity=\"1\" stroke-width=\"2.4\"/>\n",
       "<circle clip-path=\"url(#clip693)\" cx=\"3115.16\" cy=\"115.557\" r=\"10\" fill=\"#009af9\" fill-rule=\"evenodd\" fill-opacity=\"1\" stroke=\"#000000\" stroke-opacity=\"1\" stroke-width=\"2.4\"/>\n",
       "<polyline clip-path=\"url(#clip693)\" style=\"stroke:#e26f46; stroke-linecap:butt; stroke-linejoin:round; stroke-width:6; stroke-opacity:1; fill:none\" points=\"\n",
       "  1862.03,733.703 2001.27,649.146 2140.5,617.852 2279.74,557.329 2418.98,579.964 2558.21,698.024 2697.45,691.648 2836.69,587.995 2975.93,551.712 3115.16,644.846 \n",
       "  \n",
       "  \"/>\n",
       "<circle clip-path=\"url(#clip693)\" cx=\"1862.03\" cy=\"733.703\" r=\"10\" fill=\"#e26f46\" fill-rule=\"evenodd\" fill-opacity=\"1\" stroke=\"#000000\" stroke-opacity=\"1\" stroke-width=\"2.4\"/>\n",
       "<circle clip-path=\"url(#clip693)\" cx=\"2001.27\" cy=\"649.146\" r=\"10\" fill=\"#e26f46\" fill-rule=\"evenodd\" fill-opacity=\"1\" stroke=\"#000000\" stroke-opacity=\"1\" stroke-width=\"2.4\"/>\n",
       "<circle clip-path=\"url(#clip693)\" cx=\"2140.5\" cy=\"617.852\" r=\"10\" fill=\"#e26f46\" fill-rule=\"evenodd\" fill-opacity=\"1\" stroke=\"#000000\" stroke-opacity=\"1\" stroke-width=\"2.4\"/>\n",
       "<circle clip-path=\"url(#clip693)\" cx=\"2279.74\" cy=\"557.329\" r=\"10\" fill=\"#e26f46\" fill-rule=\"evenodd\" fill-opacity=\"1\" stroke=\"#000000\" stroke-opacity=\"1\" stroke-width=\"2.4\"/>\n",
       "<circle clip-path=\"url(#clip693)\" cx=\"2418.98\" cy=\"579.964\" r=\"10\" fill=\"#e26f46\" fill-rule=\"evenodd\" fill-opacity=\"1\" stroke=\"#000000\" stroke-opacity=\"1\" stroke-width=\"2.4\"/>\n",
       "<circle clip-path=\"url(#clip693)\" cx=\"2558.21\" cy=\"698.024\" r=\"10\" fill=\"#e26f46\" fill-rule=\"evenodd\" fill-opacity=\"1\" stroke=\"#000000\" stroke-opacity=\"1\" stroke-width=\"2.4\"/>\n",
       "<circle clip-path=\"url(#clip693)\" cx=\"2697.45\" cy=\"691.648\" r=\"10\" fill=\"#e26f46\" fill-rule=\"evenodd\" fill-opacity=\"1\" stroke=\"#000000\" stroke-opacity=\"1\" stroke-width=\"2.4\"/>\n",
       "<circle clip-path=\"url(#clip693)\" cx=\"2836.69\" cy=\"587.995\" r=\"10\" fill=\"#e26f46\" fill-rule=\"evenodd\" fill-opacity=\"1\" stroke=\"#000000\" stroke-opacity=\"1\" stroke-width=\"2.4\"/>\n",
       "<circle clip-path=\"url(#clip693)\" cx=\"2975.93\" cy=\"551.712\" r=\"10\" fill=\"#e26f46\" fill-rule=\"evenodd\" fill-opacity=\"1\" stroke=\"#000000\" stroke-opacity=\"1\" stroke-width=\"2.4\"/>\n",
       "<circle clip-path=\"url(#clip693)\" cx=\"3115.16\" cy=\"644.846\" r=\"10\" fill=\"#e26f46\" fill-rule=\"evenodd\" fill-opacity=\"1\" stroke=\"#000000\" stroke-opacity=\"1\" stroke-width=\"2.4\"/>\n",
       "<path clip-path=\"url(#clip690)\" d=\"\n",
       "M2093.33 1063.09 L2656.04 1063.09 L2656.04 907.57 L2093.33 907.57  Z\n",
       "  \" fill=\"#ffffff\" fill-rule=\"evenodd\" fill-opacity=\"1\"/>\n",
       "<polyline clip-path=\"url(#clip690)\" style=\"stroke:#000000; stroke-linecap:butt; stroke-linejoin:round; stroke-width:4; stroke-opacity:1; fill:none\" points=\"\n",
       "  2093.33,1063.09 2656.04,1063.09 2656.04,907.57 2093.33,907.57 2093.33,1063.09 \n",
       "  \"/>\n",
       "<polyline clip-path=\"url(#clip690)\" style=\"stroke:#009af9; stroke-linecap:butt; stroke-linejoin:round; stroke-width:4; stroke-opacity:1; fill:none\" points=\"\n",
       "  2125.33,959.41 2317.33,959.41 \n",
       "  \"/>\n",
       "<circle clip-path=\"url(#clip690)\" cx=\"2221.33\" cy=\"959.41\" r=\"23\" fill=\"#009af9\" fill-rule=\"evenodd\" fill-opacity=\"1\" stroke=\"#000000\" stroke-opacity=\"1\" stroke-width=\"5.12\"/>\n",
       "<path clip-path=\"url(#clip690)\" d=\"M2356.74 943.403 L2356.74 950.764 L2365.51 950.764 L2365.51 954.074 L2356.74 954.074 L2356.74 968.148 Q2356.74 971.32 2357.6 972.222 Q2358.48 973.125 2361.14 973.125 L2365.51 973.125 L2365.51 976.69 L2361.14 976.69 Q2356.21 976.69 2354.33 974.861 Q2352.46 973.009 2352.46 968.148 L2352.46 954.074 L2349.33 954.074 L2349.33 950.764 L2352.46 950.764 L2352.46 943.403 L2356.74 943.403 Z\" fill=\"#000000\" fill-rule=\"evenodd\" fill-opacity=\"1\" /><path clip-path=\"url(#clip690)\" d=\"M2386.14 954.746 Q2385.42 954.329 2384.57 954.144 Q2383.73 953.935 2382.71 953.935 Q2379.1 953.935 2377.16 956.296 Q2375.24 958.634 2375.24 963.033 L2375.24 976.69 L2370.95 976.69 L2370.95 950.764 L2375.24 950.764 L2375.24 954.792 Q2376.58 952.431 2378.73 951.296 Q2380.88 950.139 2383.96 950.139 Q2384.4 950.139 2384.94 950.209 Q2385.47 950.255 2386.12 950.371 L2386.14 954.746 Z\" fill=\"#000000\" fill-rule=\"evenodd\" fill-opacity=\"1\" /><path clip-path=\"url(#clip690)\" d=\"M2402.39 963.658 Q2397.23 963.658 2395.24 964.838 Q2393.25 966.019 2393.25 968.866 Q2393.25 971.134 2394.73 972.477 Q2396.23 973.796 2398.8 973.796 Q2402.34 973.796 2404.47 971.296 Q2406.63 968.773 2406.63 964.607 L2406.63 963.658 L2402.39 963.658 M2410.88 961.898 L2410.88 976.69 L2406.63 976.69 L2406.63 972.755 Q2405.17 975.116 2402.99 976.25 Q2400.82 977.361 2397.67 977.361 Q2393.69 977.361 2391.32 975.139 Q2388.99 972.894 2388.99 969.144 Q2388.99 964.769 2391.9 962.546 Q2394.84 960.324 2400.65 960.324 L2406.63 960.324 L2406.63 959.908 Q2406.63 956.968 2404.68 955.371 Q2402.76 953.75 2399.26 953.75 Q2397.04 953.75 2394.94 954.283 Q2392.83 954.815 2390.88 955.88 L2390.88 951.945 Q2393.22 951.042 2395.42 950.602 Q2397.62 950.139 2399.7 950.139 Q2405.33 950.139 2408.11 953.056 Q2410.88 955.972 2410.88 961.898 Z\" fill=\"#000000\" fill-rule=\"evenodd\" fill-opacity=\"1\" /><path clip-path=\"url(#clip690)\" d=\"M2419.66 950.764 L2423.92 950.764 L2423.92 976.69 L2419.66 976.69 L2419.66 950.764 M2419.66 940.672 L2423.92 940.672 L2423.92 946.065 L2419.66 946.065 L2419.66 940.672 Z\" fill=\"#000000\" fill-rule=\"evenodd\" fill-opacity=\"1\" /><path clip-path=\"url(#clip690)\" d=\"M2454.38 961.042 L2454.38 976.69 L2450.12 976.69 L2450.12 961.181 Q2450.12 957.5 2448.69 955.671 Q2447.25 953.843 2444.38 953.843 Q2440.93 953.843 2438.94 956.042 Q2436.95 958.241 2436.95 962.037 L2436.95 976.69 L2432.67 976.69 L2432.67 950.764 L2436.95 950.764 L2436.95 954.792 Q2438.48 952.454 2440.54 951.296 Q2442.62 950.139 2445.33 950.139 Q2449.8 950.139 2452.09 952.917 Q2454.38 955.671 2454.38 961.042 Z\" fill=\"#000000\" fill-rule=\"evenodd\" fill-opacity=\"1\" /><path clip-path=\"url(#clip690)\" d=\"M2479.4 951.528 L2479.4 955.556 Q2477.6 954.63 2475.65 954.167 Q2473.71 953.704 2471.63 953.704 Q2468.45 953.704 2466.86 954.676 Q2465.28 955.648 2465.28 957.593 Q2465.28 959.074 2466.42 959.931 Q2467.55 960.764 2470.98 961.528 L2472.44 961.852 Q2476.97 962.824 2478.87 964.607 Q2480.79 966.366 2480.79 969.537 Q2480.79 973.148 2477.92 975.255 Q2475.07 977.361 2470.07 977.361 Q2467.99 977.361 2465.72 976.944 Q2463.48 976.551 2460.98 975.741 L2460.98 971.343 Q2463.34 972.569 2465.63 973.194 Q2467.92 973.796 2470.17 973.796 Q2473.18 973.796 2474.8 972.778 Q2476.42 971.736 2476.42 969.861 Q2476.42 968.125 2475.24 967.199 Q2474.08 966.273 2470.12 965.417 L2468.64 965.07 Q2464.68 964.236 2462.92 962.523 Q2461.16 960.787 2461.16 957.778 Q2461.16 954.121 2463.75 952.13 Q2466.35 950.139 2471.12 950.139 Q2473.48 950.139 2475.56 950.486 Q2477.64 950.833 2479.4 951.528 Z\" fill=\"#000000\" fill-rule=\"evenodd\" fill-opacity=\"1\" /><path clip-path=\"url(#clip690)\" d=\"M2509.75 962.662 L2509.75 964.745 L2490.17 964.745 Q2490.44 969.144 2492.81 971.458 Q2495.19 973.75 2499.43 973.75 Q2501.88 973.75 2504.17 973.148 Q2506.49 972.546 2508.75 971.343 L2508.75 975.37 Q2506.46 976.343 2504.06 976.852 Q2501.65 977.361 2499.17 977.361 Q2492.97 977.361 2489.33 973.75 Q2485.72 970.139 2485.72 963.982 Q2485.72 957.616 2489.15 953.889 Q2492.6 950.139 2498.43 950.139 Q2503.66 950.139 2506.69 953.519 Q2509.75 956.875 2509.75 962.662 M2505.49 961.412 Q2505.44 957.917 2503.52 955.833 Q2501.63 953.75 2498.48 953.75 Q2494.91 953.75 2492.76 955.764 Q2490.63 957.778 2490.31 961.435 L2505.49 961.412 Z\" fill=\"#000000\" fill-rule=\"evenodd\" fill-opacity=\"1\" /><path clip-path=\"url(#clip690)\" d=\"M2520.95 943.403 L2520.95 950.764 L2529.73 950.764 L2529.73 954.074 L2520.95 954.074 L2520.95 968.148 Q2520.95 971.32 2521.81 972.222 Q2522.69 973.125 2525.35 973.125 L2529.73 973.125 L2529.73 976.69 L2525.35 976.69 Q2520.42 976.69 2518.55 974.861 Q2516.67 973.009 2516.67 968.148 L2516.67 954.074 L2513.55 954.074 L2513.55 950.764 L2516.67 950.764 L2516.67 943.403 L2520.95 943.403 Z\" fill=\"#000000\" fill-rule=\"evenodd\" fill-opacity=\"1\" /><polyline clip-path=\"url(#clip690)\" style=\"stroke:#e26f46; stroke-linecap:butt; stroke-linejoin:round; stroke-width:4; stroke-opacity:1; fill:none\" points=\"\n",
       "  2125.33,1011.25 2317.33,1011.25 \n",
       "  \"/>\n",
       "<circle clip-path=\"url(#clip690)\" cx=\"2221.33\" cy=\"1011.25\" r=\"23\" fill=\"#e26f46\" fill-rule=\"evenodd\" fill-opacity=\"1\" stroke=\"#000000\" stroke-opacity=\"1\" stroke-width=\"5.12\"/>\n",
       "<path clip-path=\"url(#clip690)\" d=\"M2373.36 1014.5 L2373.36 1016.59 L2353.78 1016.59 Q2354.06 1020.98 2356.42 1023.3 Q2358.8 1025.59 2363.04 1025.59 Q2365.49 1025.59 2367.78 1024.99 Q2370.1 1024.39 2372.37 1023.18 L2372.37 1027.21 Q2370.07 1028.18 2367.67 1028.69 Q2365.26 1029.2 2362.78 1029.2 Q2356.58 1029.2 2352.95 1025.59 Q2349.33 1021.98 2349.33 1015.82 Q2349.33 1009.46 2352.76 1005.73 Q2356.21 1001.98 2362.04 1001.98 Q2367.27 1001.98 2370.31 1005.36 Q2373.36 1008.72 2373.36 1014.5 M2369.1 1013.25 Q2369.06 1009.76 2367.14 1007.67 Q2365.24 1005.59 2362.09 1005.59 Q2358.52 1005.59 2356.37 1007.6 Q2354.24 1009.62 2353.92 1013.28 L2369.1 1013.25 Z\" fill=\"#000000\" fill-rule=\"evenodd\" fill-opacity=\"1\" /><path clip-path=\"url(#clip690)\" d=\"M2377.3 1002.6 L2381.81 1002.6 L2389.91 1024.36 L2398.01 1002.6 L2402.53 1002.6 L2392.81 1028.53 L2387.02 1028.53 L2377.3 1002.6 Z\" fill=\"#000000\" fill-rule=\"evenodd\" fill-opacity=\"1\" /><path clip-path=\"url(#clip690)\" d=\"M2420.19 1015.5 Q2415.03 1015.5 2413.04 1016.68 Q2411.05 1017.86 2411.05 1020.71 Q2411.05 1022.97 2412.53 1024.32 Q2414.03 1025.64 2416.6 1025.64 Q2420.14 1025.64 2422.27 1023.14 Q2424.43 1020.61 2424.43 1016.45 L2424.43 1015.5 L2420.19 1015.5 M2428.69 1013.74 L2428.69 1028.53 L2424.43 1028.53 L2424.43 1024.59 Q2422.97 1026.96 2420.79 1028.09 Q2418.62 1029.2 2415.47 1029.2 Q2411.49 1029.2 2409.13 1026.98 Q2406.79 1024.73 2406.79 1020.98 Q2406.79 1016.61 2409.7 1014.39 Q2412.64 1012.16 2418.45 1012.16 L2424.43 1012.16 L2424.43 1011.75 Q2424.43 1008.81 2422.48 1007.21 Q2420.56 1005.59 2417.07 1005.59 Q2414.84 1005.59 2412.74 1006.12 Q2410.63 1006.65 2408.69 1007.72 L2408.69 1003.78 Q2411.02 1002.88 2413.22 1002.44 Q2415.42 1001.98 2417.51 1001.98 Q2423.13 1001.98 2425.91 1004.9 Q2428.69 1007.81 2428.69 1013.74 Z\" fill=\"#000000\" fill-rule=\"evenodd\" fill-opacity=\"1\" /><path clip-path=\"url(#clip690)\" d=\"M2437.46 992.512 L2441.72 992.512 L2441.72 1028.53 L2437.46 1028.53 L2437.46 992.512 Z\" fill=\"#000000\" fill-rule=\"evenodd\" fill-opacity=\"1\" /><path clip-path=\"url(#clip690)\" d=\"M2450.19 1018.3 L2450.19 1002.6 L2454.45 1002.6 L2454.45 1018.14 Q2454.45 1021.82 2455.88 1023.67 Q2457.32 1025.5 2460.19 1025.5 Q2463.64 1025.5 2465.63 1023.3 Q2467.64 1021.1 2467.64 1017.3 L2467.64 1002.6 L2471.9 1002.6 L2471.9 1028.53 L2467.64 1028.53 L2467.64 1024.55 Q2466.09 1026.91 2464.03 1028.07 Q2462 1029.2 2459.29 1029.2 Q2454.82 1029.2 2452.5 1026.42 Q2450.19 1023.65 2450.19 1018.3 M2460.91 1001.98 L2460.91 1001.98 Z\" fill=\"#000000\" fill-rule=\"evenodd\" fill-opacity=\"1\" /><path clip-path=\"url(#clip690)\" d=\"M2492.46 1015.5 Q2487.3 1015.5 2485.31 1016.68 Q2483.31 1017.86 2483.31 1020.71 Q2483.31 1022.97 2484.8 1024.32 Q2486.3 1025.64 2488.87 1025.64 Q2492.41 1025.64 2494.54 1023.14 Q2496.69 1020.61 2496.69 1016.45 L2496.69 1015.5 L2492.46 1015.5 M2500.95 1013.74 L2500.95 1028.53 L2496.69 1028.53 L2496.69 1024.59 Q2495.24 1026.96 2493.06 1028.09 Q2490.88 1029.2 2487.74 1029.2 Q2483.75 1029.2 2481.39 1026.98 Q2479.06 1024.73 2479.06 1020.98 Q2479.06 1016.61 2481.97 1014.39 Q2484.91 1012.16 2490.72 1012.16 L2496.69 1012.16 L2496.69 1011.75 Q2496.69 1008.81 2494.75 1007.21 Q2492.83 1005.59 2489.33 1005.59 Q2487.11 1005.59 2485 1006.12 Q2482.9 1006.65 2480.95 1007.72 L2480.95 1003.78 Q2483.29 1002.88 2485.49 1002.44 Q2487.69 1001.98 2489.77 1001.98 Q2495.4 1001.98 2498.18 1004.9 Q2500.95 1007.81 2500.95 1013.74 Z\" fill=\"#000000\" fill-rule=\"evenodd\" fill-opacity=\"1\" /><path clip-path=\"url(#clip690)\" d=\"M2513.94 995.243 L2513.94 1002.6 L2522.71 1002.6 L2522.71 1005.91 L2513.94 1005.91 L2513.94 1019.99 Q2513.94 1023.16 2514.8 1024.06 Q2515.68 1024.97 2518.34 1024.97 L2522.71 1024.97 L2522.71 1028.53 L2518.34 1028.53 Q2513.41 1028.53 2511.53 1026.7 Q2509.66 1024.85 2509.66 1019.99 L2509.66 1005.91 L2506.53 1005.91 L2506.53 1002.6 L2509.66 1002.6 L2509.66 995.243 L2513.94 995.243 Z\" fill=\"#000000\" fill-rule=\"evenodd\" fill-opacity=\"1\" /><path clip-path=\"url(#clip690)\" d=\"M2528.31 1002.6 L2532.57 1002.6 L2532.57 1028.53 L2528.31 1028.53 L2528.31 1002.6 M2528.31 992.512 L2532.57 992.512 L2532.57 997.905 L2528.31 997.905 L2528.31 992.512 Z\" fill=\"#000000\" fill-rule=\"evenodd\" fill-opacity=\"1\" /><path clip-path=\"url(#clip690)\" d=\"M2551.53 1005.59 Q2548.11 1005.59 2546.12 1008.28 Q2544.12 1010.94 2544.12 1015.59 Q2544.12 1020.24 2546.09 1022.93 Q2548.08 1025.59 2551.53 1025.59 Q2554.93 1025.59 2556.93 1022.9 Q2558.92 1020.22 2558.92 1015.59 Q2558.92 1010.98 2556.93 1008.3 Q2554.93 1005.59 2551.53 1005.59 M2551.53 1001.98 Q2557.09 1001.98 2560.26 1005.59 Q2563.43 1009.2 2563.43 1015.59 Q2563.43 1021.96 2560.26 1025.59 Q2557.09 1029.2 2551.53 1029.2 Q2545.95 1029.2 2542.78 1025.59 Q2539.63 1021.96 2539.63 1015.59 Q2539.63 1009.2 2542.78 1005.59 Q2545.95 1001.98 2551.53 1001.98 Z\" fill=\"#000000\" fill-rule=\"evenodd\" fill-opacity=\"1\" /><path clip-path=\"url(#clip690)\" d=\"M2592.04 1012.88 L2592.04 1028.53 L2587.78 1028.53 L2587.78 1013.02 Q2587.78 1009.34 2586.35 1007.51 Q2584.91 1005.68 2582.04 1005.68 Q2578.59 1005.68 2576.6 1007.88 Q2574.61 1010.08 2574.61 1013.88 L2574.61 1028.53 L2570.33 1028.53 L2570.33 1002.6 L2574.61 1002.6 L2574.61 1006.63 Q2576.14 1004.29 2578.2 1003.14 Q2580.28 1001.98 2582.99 1001.98 Q2587.46 1001.98 2589.75 1004.76 Q2592.04 1007.51 2592.04 1012.88 Z\" fill=\"#000000\" fill-rule=\"evenodd\" fill-opacity=\"1\" /></svg>\n"
      ]
     },
     "execution_count": 13,
     "metadata": {},
     "output_type": "execute_result"
    }
   ],
   "source": [
    "xs = 1:10\n",
    "\n",
    "# accuracy\n",
    "ys = repeat([accTrain], 10)\n",
    "ys = hcat(ys, evaluationResult.per_fold[1])\n",
    "p1 = plot(xs, ys, title=\"accuracy\")\n",
    "\n",
    "# f1\n",
    "ys = repeat([f1Train], 10)\n",
    "ys = hcat(ys, evaluationResult.per_fold[2])\n",
    "p2 = plot(xs, ys, title=\"f1-score\")\n",
    "     \n",
    "# plots\n",
    "plot(p1, p2, layout = (1, 2), size=(800,300),\n",
    "     label=[\"trainset\" \"evaluation\"],\n",
    "     xlabel=\"nfolds\",\n",
    "     linewidth=1.5,\n",
    "     markershape=:circle,\n",
    "     markersize=3,\n",
    "     legend=:outerbottom)"
   ]
  },
  {
   "cell_type": "markdown",
   "id": "8cd1ef06",
   "metadata": {},
   "source": [
    "### Tuning"
   ]
  },
  {
   "cell_type": "code",
   "execution_count": 14,
   "id": "b7d62e05",
   "metadata": {},
   "outputs": [
    {
     "data": {
      "text/plain": [
       "NumericRange(0.001 ≤ svm_classifier.C ≤ 1.0; origin=0.5005, unit=0.4995) on log scale"
      ]
     },
     "execution_count": 14,
     "metadata": {},
     "output_type": "execute_result"
    }
   ],
   "source": [
    "r = range(pipe, :(svm_classifier.C), lower=1e-3, upper=1.0, scale=:log)"
   ]
  },
  {
   "cell_type": "code",
   "execution_count": 15,
   "id": "1e97ee5c",
   "metadata": {},
   "outputs": [
    {
     "data": {
      "text/plain": [
       "DeterministicTunedModel(\n",
       "    model = Pipeline291(\n",
       "            pca = PCA,\n",
       "            standardizer = Standardizer,\n",
       "            svm_classifier = SVMClassifier),\n",
       "    tuning = Grid(\n",
       "            goal = nothing,\n",
       "            resolution = 3,\n",
       "            shuffle = true,\n",
       "            rng = Random._GLOBAL_RNG()),\n",
       "    resampling = CV(\n",
       "            nfolds = 3,\n",
       "            shuffle = false,\n",
       "            rng = Random._GLOBAL_RNG()),\n",
       "    measure = Accuracy(),\n",
       "    weights = nothing,\n",
       "    operation = nothing,\n",
       "    range = NumericRange(0.001 ≤ svm_classifier.C ≤ 1.0; origin=0.5005, unit=0.4995) on log scale,\n",
       "    selection_heuristic = MLJTuning.NaiveSelection(nothing),\n",
       "    train_best = true,\n",
       "    repeats = 1,\n",
       "    n = nothing,\n",
       "    acceleration = CPUThreads{Int64}(1),\n",
       "    acceleration_resampling = CPU1{Nothing}(nothing),\n",
       "    check_measure = true,\n",
       "    cache = true)"
      ]
     },
     "execution_count": 15,
     "metadata": {},
     "output_type": "execute_result"
    }
   ],
   "source": [
    "cv   = CV(nfolds=3)\n",
    "\n",
    "selfTuningPipe = TunedModel(model=pipe,\n",
    "                            resampling=cv,\n",
    "                            tuning=Grid(resolution=3),\n",
    "                            range=r,\n",
    "                            measure=accuracy,\n",
    "                            acceleration=CPUThreads())"
   ]
  },
  {
   "cell_type": "raw",
   "id": "05987366",
   "metadata": {},
   "source": [
    "iterator(r, 5)"
   ]
  },
  {
   "cell_type": "code",
   "execution_count": 16,
   "id": "b47c921c",
   "metadata": {
    "scrolled": true
   },
   "outputs": [
    {
     "name": "stderr",
     "output_type": "stream",
     "text": [
      "┌ Info: Training Machine{DeterministicTunedModel{Grid,…},…}.\n",
      "└ @ MLJBase /home/ciro/.julia/packages/MLJBase/pCiRR/src/machines.jl:464\n",
      "┌ Info: Attempting to evaluate 3 models.\n",
      "└ @ MLJTuning /home/ciro/.julia/packages/MLJTuning/Al9yX/src/tuned_models.jl:680\n",
      "\u001b[33mEvaluating over 3 metamodels: 100%[=========================] Time: 0:14:27\u001b[39m\n"
     ]
    },
    {
     "data": {
      "text/plain": [
       "Machine{DeterministicTunedModel{Grid,…},…} trained 1 time; caches data\n",
       "  model: MLJTuning.DeterministicTunedModel{Grid, Pipeline291}\n",
       "  args: \n",
       "    1:\tSource @516 ⏎ `Table{AbstractVector{Continuous}}`\n",
       "    2:\tSource @218 ⏎ `AbstractVector{OrderedFactor{10}}`\n"
      ]
     },
     "execution_count": 16,
     "metadata": {},
     "output_type": "execute_result"
    }
   ],
   "source": [
    "mach = machine(selfTuningPipe, X, y) |> fit! #(acceleration=CPUProcesses())     # not supported yet\n"
   ]
  },
  {
   "cell_type": "code",
   "execution_count": 17,
   "id": "c1c77a02",
   "metadata": {},
   "outputs": [
    {
     "name": "stdout",
     "output_type": "stream",
     "text": [
      "Best C: 1.0\n"
     ]
    }
   ],
   "source": [
    "# best parameter for the search\n",
    "println(\"Best C: \", fitted_params(mach).best_model.svm_classifier.C)"
   ]
  },
  {
   "cell_type": "code",
   "execution_count": null,
   "id": "0432ca3b",
   "metadata": {},
   "outputs": [],
   "source": []
  }
 ],
 "metadata": {
  "kernelspec": {
   "display_name": "Julia 1.6.5",
   "language": "julia",
   "name": "julia-1.6"
  },
  "language_info": {
   "file_extension": ".jl",
   "mimetype": "application/julia",
   "name": "julia",
   "version": "1.6.5"
  }
 },
 "nbformat": 4,
 "nbformat_minor": 5
}
