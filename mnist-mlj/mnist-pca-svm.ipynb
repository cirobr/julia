{
 "cells": [
  {
   "cell_type": "markdown",
   "id": "e145f758",
   "metadata": {},
   "source": [
    "#### PCA + Standardizer + sklearn/SVM with MNIST"
   ]
  },
  {
   "cell_type": "markdown",
   "id": "5f262ba3",
   "metadata": {},
   "source": [
    "##### Libraries"
   ]
  },
  {
   "cell_type": "code",
   "execution_count": null,
   "id": "6b12a07d",
   "metadata": {},
   "outputs": [],
   "source": [
    "using MLDatasets           # mnist\n",
    "using Images\n",
    "using PreprocessingImages; pim = PreprocessingImages\n",
    "using PreprocessingArrays; pa  = PreprocessingArrays\n",
    "\n",
    "using MLJ                  # make_blobs, rmse, confmat, categorical\n",
    "using MLDataUtils          # label, nlabel, labelfreq\n",
    "using PyCall               # required by ScikitLearn\n",
    "\n",
    "using Metrics              # r2-score\n",
    "using Random\n",
    "using Plots; gr()\n",
    "using StatsPlots\n",
    "using DataFrames"
   ]
  },
  {
   "cell_type": "markdown",
   "id": "d53a09fe",
   "metadata": {},
   "source": [
    "##### Functions"
   ]
  },
  {
   "cell_type": "code",
   "execution_count": null,
   "id": "66ccdfa6",
   "metadata": {},
   "outputs": [],
   "source": [
    "# metrics\n",
    "function printMetrics(ŷ, y)\n",
    "    display(confmat(ŷ, y))\n",
    "    println(\"accuracy: \", round(accuracy(ŷ, y); digits=3))\n",
    "    println(\"f1-score: \", round(multiclass_f1score(ŷ, y); digits=3))\n",
    "end"
   ]
  },
  {
   "cell_type": "markdown",
   "id": "8903cf71",
   "metadata": {},
   "source": [
    "##### MNIST"
   ]
  },
  {
   "cell_type": "code",
   "execution_count": null,
   "id": "4d7603a2",
   "metadata": {},
   "outputs": [],
   "source": [
    "# load mnist\n",
    "datasetX,    datasetY    = MNIST(:train)[:]\n",
    "validationX, validationY = MNIST(:test)[:]\n",
    "\n",
    "display( size(datasetX) )\n",
    "\n",
    "img  = datasetX[:, :, 1:5]\n",
    "img2 = permutedims(img, (2, 1, 3))\n",
    "\n",
    "display(datasetY[1:5]')\n",
    "mosaicview( Gray.(img2)  ; nrow=1)"
   ]
  },
  {
   "cell_type": "code",
   "execution_count": null,
   "id": "2ecbb1f6",
   "metadata": {},
   "outputs": [],
   "source": [
    "# split trainset, testset from dataset\n",
    "Random.seed!(1)\n",
    "(trainX, trainY), (testX, testY) = stratifiedobs((datasetX, datasetY), p = 0.7)\n",
    "size(trainX), size(testX), size(validationX)"
   ]
  },
  {
   "cell_type": "markdown",
   "id": "b8b9c3b0",
   "metadata": {},
   "source": [
    "##### Preprocessing"
   ]
  },
  {
   "cell_type": "code",
   "execution_count": null,
   "id": "f76c815d",
   "metadata": {},
   "outputs": [],
   "source": [
    "function preprocess(X, y)\n",
    "    newX = pim.batchImage2DF(X)\n",
    "    #coerce!(newX)   # no need, all scitypes are Continuous in this example\n",
    "    new_y = coerce(y, OrderedFactor)\n",
    "    \n",
    "    return (newX, new_y)\n",
    "end\n",
    "\n",
    "X_tr, y_tr = preprocess(trainX, trainY);"
   ]
  },
  {
   "cell_type": "code",
   "execution_count": null,
   "id": "a82db1c6",
   "metadata": {},
   "outputs": [],
   "source": [
    "scitype(X_tr)"
   ]
  },
  {
   "cell_type": "code",
   "execution_count": null,
   "id": "4724874c",
   "metadata": {},
   "outputs": [],
   "source": [
    "scitype(y_tr)"
   ]
  },
  {
   "cell_type": "markdown",
   "id": "e26954e9",
   "metadata": {},
   "source": [
    "##### Pipe the model"
   ]
  },
  {
   "cell_type": "code",
   "execution_count": null,
   "id": "84b424c5",
   "metadata": {
    "scrolled": true
   },
   "outputs": [],
   "source": [
    "# reduce predictors\n",
    "PCA = @load PCA pkg=MultivariateStats verbosity=0\n",
    "reducer = PCA(pratio = 0.9)\n",
    "\n",
    "# standardize predictors\n",
    "std = Standardizer()\n",
    "\n",
    "# svm scikitlearn\n",
    "SVMClass = @load SVMClassifier pkg=\"ScikitLearn\" verbosity=0\n",
    "svm = SVMClass()\n",
    "\n",
    "pipe = @pipeline reducer std svm"
   ]
  },
  {
   "cell_type": "markdown",
   "id": "3dba2e5a",
   "metadata": {},
   "source": [
    "##### Training"
   ]
  },
  {
   "cell_type": "code",
   "execution_count": null,
   "id": "f5f2780b",
   "metadata": {},
   "outputs": [],
   "source": [
    "mach = MLJ.machine(pipe, X_tr, y_tr) |> fit!"
   ]
  },
  {
   "cell_type": "markdown",
   "id": "839c91db",
   "metadata": {},
   "source": [
    "##### Testing"
   ]
  },
  {
   "cell_type": "code",
   "execution_count": null,
   "id": "dfb7a967",
   "metadata": {},
   "outputs": [],
   "source": [
    "X_ts, y_ts = preprocess(testX, testY)\n",
    "ŷ = MLJ.predict(mach, X_ts)\n",
    "printMetrics(ŷ, y_ts)"
   ]
  },
  {
   "cell_type": "markdown",
   "id": "eb820eeb",
   "metadata": {},
   "source": [
    "##### Validation"
   ]
  },
  {
   "cell_type": "code",
   "execution_count": null,
   "id": "b2bfe503",
   "metadata": {},
   "outputs": [],
   "source": [
    "X_v, y_v = preprocess(validationX, validationY)\n",
    "ŷ = MLJ.predict(mach, X_v)\n",
    "printMetrics(ŷ, y_v)"
   ]
  }
 ],
 "metadata": {
  "kernelspec": {
   "display_name": "Julia 1.6.6",
   "language": "julia",
   "name": "julia-1.6"
  },
  "language_info": {
   "file_extension": ".jl",
   "mimetype": "application/julia",
   "name": "julia",
   "version": "1.6.6"
  }
 },
 "nbformat": 4,
 "nbformat_minor": 5
}
