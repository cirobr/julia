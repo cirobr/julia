{
 "cells": [
  {
   "cell_type": "markdown",
   "id": "e145f758",
   "metadata": {},
   "source": [
    "#### PCA + Neural Network Classifier with MNIST"
   ]
  },
  {
   "cell_type": "markdown",
   "id": "5f262ba3",
   "metadata": {},
   "source": [
    "##### Libraries"
   ]
  },
  {
   "cell_type": "code",
   "execution_count": null,
   "id": "6b12a07d",
   "metadata": {},
   "outputs": [],
   "source": [
    "using MLDatasets           # mnist\n",
    "using Images\n",
    "using PreprocessingImages; pim = PreprocessingImages\n",
    "using PreprocessingArrays; pa  = PreprocessingArrays\n",
    "\n",
    "using MLJ                  # make_blobs, rmse, confmat, categorical\n",
    "using MLDataUtils          # label, nlabel, labelfreq\n",
    "using MLJFlux\n",
    "\n",
    "using Metrics              # r2-score\n",
    "using Random\n",
    "using Plots; gr()\n",
    "using StatsPlots\n",
    "using DataFrames"
   ]
  },
  {
   "cell_type": "markdown",
   "id": "d53a09fe",
   "metadata": {},
   "source": [
    "##### Functions"
   ]
  },
  {
   "cell_type": "code",
   "execution_count": null,
   "id": "66ccdfa6",
   "metadata": {},
   "outputs": [],
   "source": [
    "# metrics\n",
    "function printMetrics(ŷ, y)\n",
    "    display(confmat(ŷ, y))\n",
    "    println(\"accuracy: \", round(accuracy(ŷ, y); digits=3))\n",
    "    println(\"f1-score: \", round(multiclass_f1score(ŷ, y); digits=3))\n",
    "end\n"
   ]
  },
  {
   "cell_type": "markdown",
   "id": "8903cf71",
   "metadata": {},
   "source": [
    "##### MNIST"
   ]
  },
  {
   "cell_type": "code",
   "execution_count": null,
   "id": "4d7603a2",
   "metadata": {},
   "outputs": [],
   "source": [
    "# load mnist\n",
    "datasetX,    datasetY    = MNIST(:train)[:]\n",
    "validationX, validationY = MNIST(:test)[:]\n",
    "\n",
    "display( size(datasetX) )\n",
    "\n",
    "img  = datasetX[:, :, 1:5]\n",
    "img2 = permutedims(img, (2, 1, 3))\n",
    "\n",
    "display(datasetY[1:5]')\n",
    "mosaicview( Gray.(img2)  ; nrow=1)"
   ]
  },
  {
   "cell_type": "code",
   "execution_count": null,
   "id": "2ecbb1f6",
   "metadata": {},
   "outputs": [],
   "source": [
    "# split trainset, testset from dataset\n",
    "Random.seed!(1)\n",
    "(trainX, trainY), (testX, testY) = stratifiedobs((datasetX, datasetY), p = 0.7)\n",
    "size(trainX), size(testX), size(validationX)"
   ]
  },
  {
   "cell_type": "markdown",
   "id": "b8b9c3b0",
   "metadata": {},
   "source": [
    "##### Preprocessing"
   ]
  },
  {
   "cell_type": "code",
   "execution_count": null,
   "id": "f76c815d",
   "metadata": {},
   "outputs": [],
   "source": [
    "function preprocess(X, y)\n",
    "    newX = pim.batchImage2DF(X)\n",
    "    #coerce!(newX)   # no need, all scitypes are Continuous in this example\n",
    "    new_y = coerce(y, OrderedFactor)\n",
    "    \n",
    "    return (newX, new_y)\n",
    "end\n",
    "\n",
    "X_tr, y_tr = preprocess(trainX, trainY);"
   ]
  },
  {
   "cell_type": "code",
   "execution_count": null,
   "id": "a82db1c6",
   "metadata": {},
   "outputs": [],
   "source": [
    "scitype(X_tr)"
   ]
  },
  {
   "cell_type": "code",
   "execution_count": null,
   "id": "4724874c",
   "metadata": {},
   "outputs": [],
   "source": [
    "scitype(y_tr)"
   ]
  },
  {
   "cell_type": "markdown",
   "id": "eb875eb7",
   "metadata": {},
   "source": [
    "##### Pipe the model"
   ]
  },
  {
   "cell_type": "code",
   "execution_count": null,
   "id": "a7f1e942",
   "metadata": {},
   "outputs": [],
   "source": [
    "models(\"PCA\")[2]"
   ]
  },
  {
   "cell_type": "code",
   "execution_count": null,
   "id": "84b424c5",
   "metadata": {},
   "outputs": [],
   "source": [
    "# reduce predictors\n",
    "PCA = @load PCA pkg=MultivariateStats verbosity=0\n",
    "reducer = PCA(pratio = 0.95)"
   ]
  },
  {
   "cell_type": "code",
   "execution_count": null,
   "id": "e5acd6c1",
   "metadata": {},
   "outputs": [],
   "source": [
    "# standardize predictors\n",
    "std = Standardizer();"
   ]
  },
  {
   "cell_type": "code",
   "execution_count": null,
   "id": "4a63d518",
   "metadata": {},
   "outputs": [],
   "source": [
    "models(\"Neural\")[2]"
   ]
  },
  {
   "cell_type": "markdown",
   "id": "31b3813e",
   "metadata": {},
   "source": [
    "Eventually, one might see next, the downloading of \"CUDA artifacts\" even if Pkg CUDA is installed in Julia and CUDA libraries are present on the computer. This is yet another disadvantage of MLJ over Flux."
   ]
  },
  {
   "cell_type": "code",
   "execution_count": null,
   "id": "da2ebd67",
   "metadata": {},
   "outputs": [],
   "source": [
    "# nnet\n",
    "NeuralNetworkClassifier = @load NeuralNetworkClassifier pkg=MLJFlux verbosity=0\n",
    "nnet = NeuralNetworkClassifier(acceleration=CUDALibs())"
   ]
  },
  {
   "cell_type": "code",
   "execution_count": null,
   "id": "ccbf397a",
   "metadata": {},
   "outputs": [],
   "source": [
    "pipe = @pipeline reducer std nnet"
   ]
  },
  {
   "cell_type": "markdown",
   "id": "ad11e62b",
   "metadata": {},
   "source": [
    "##### Training\n"
   ]
  },
  {
   "cell_type": "code",
   "execution_count": null,
   "id": "699df458",
   "metadata": {},
   "outputs": [],
   "source": [
    "pipe.neural_network_classifier.epochs = 1   # = 1 for debug, default = 10\n",
    "mach = MLJ.machine(pipe, X_tr, y_tr) |> fit!"
   ]
  },
  {
   "cell_type": "code",
   "execution_count": null,
   "id": "a5aa225d",
   "metadata": {},
   "outputs": [],
   "source": [
    "# # save model\n",
    "# MLJ.save(\"pca-nn-trained-model.jlso\", mach)"
   ]
  },
  {
   "cell_type": "code",
   "execution_count": null,
   "id": "06ac1b47",
   "metadata": {},
   "outputs": [],
   "source": [
    "# inspect model\n",
    "fp = fitted_params(mach);\n",
    "rp = report(mach);"
   ]
  },
  {
   "cell_type": "code",
   "execution_count": null,
   "id": "ca366c71",
   "metadata": {},
   "outputs": [],
   "source": [
    "losses = rp.neural_network_classifier.training_losses\n",
    "epochs = pipe.neural_network_classifier.epochs\n",
    "plot(0:epochs, losses, title=\"Error function\", size=(500,300), linewidth=2, legend=false)\n",
    "xlabel!(\"Epochs\")\n",
    "ylabel!(\"Cross-entropy loss\")"
   ]
  },
  {
   "cell_type": "markdown",
   "id": "0fb9b1f4",
   "metadata": {},
   "source": [
    "##### Testing"
   ]
  },
  {
   "cell_type": "code",
   "execution_count": null,
   "id": "b6ada58f",
   "metadata": {},
   "outputs": [],
   "source": [
    "X_ts, y_ts = preprocess(testX, testY);\n",
    "ŷ = predict_mode(mach, X_ts)\n",
    "printMetrics(ŷ, y_ts)"
   ]
  },
  {
   "cell_type": "markdown",
   "id": "5846c1f6",
   "metadata": {},
   "source": [
    "##### Validation"
   ]
  },
  {
   "cell_type": "code",
   "execution_count": null,
   "id": "41bd381d",
   "metadata": {},
   "outputs": [],
   "source": [
    "X_v, y_v = preprocess(validationX, validationY)\n",
    "ŷ = predict_mode(mach, X_v)\n",
    "printMetrics(ŷ, y_v)"
   ]
  }
 ],
 "metadata": {
  "kernelspec": {
   "display_name": "Julia 1.6.6",
   "language": "julia",
   "name": "julia-1.6"
  },
  "language_info": {
   "file_extension": ".jl",
   "mimetype": "application/julia",
   "name": "julia",
   "version": "1.6.6"
  }
 },
 "nbformat": 4,
 "nbformat_minor": 5
}
