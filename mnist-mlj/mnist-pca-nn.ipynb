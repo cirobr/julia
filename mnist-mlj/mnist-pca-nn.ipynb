{
 "cells": [
  {
   "cell_type": "markdown",
   "id": "e145f758",
   "metadata": {},
   "source": [
    "PCA + Neural Network Classifier with MNIST"
   ]
  },
  {
   "cell_type": "markdown",
   "id": "5f262ba3",
   "metadata": {},
   "source": [
    "Libraries"
   ]
  },
  {
   "cell_type": "code",
   "execution_count": 5,
   "id": "6b12a07d",
   "metadata": {},
   "outputs": [],
   "source": [
    "using MLDatasets           # mnist\n",
    "using Images\n",
    "using PreprocessingImages; pim = PreprocessingImages\n",
    "using PreprocessingArrays; pa  = PreprocessingArrays\n",
    "\n",
    "using MLJ                  # make_blobs, rmse, confmat, categorical\n",
    "using MLDataUtils          # label, nlabel, labelfreq\n",
    "using MLJFlux\n",
    "\n",
    "using Metrics              # r2-score\n",
    "using Random\n",
    "using Plots; gr()\n",
    "using StatsPlots\n",
    "using DataFrames"
   ]
  },
  {
   "cell_type": "markdown",
   "id": "d53a09fe",
   "metadata": {},
   "source": [
    "Functions"
   ]
  },
  {
   "cell_type": "code",
   "execution_count": 6,
   "id": "66ccdfa6",
   "metadata": {},
   "outputs": [
    {
     "data": {
      "text/plain": [
       "printMetrics (generic function with 1 method)"
      ]
     },
     "metadata": {},
     "output_type": "display_data"
    }
   ],
   "source": [
    "# metrics\n",
    "function printMetrics(ŷ, y)\n",
    "    display(confmat(ŷ, y))\n",
    "    println(\"accuracy: \", round(accuracy(ŷ, y); digits=3))\n",
    "    println(\"f1-score: \", round(multiclass_f1score(ŷ, y); digits=3))\n",
    "end\n"
   ]
  },
  {
   "cell_type": "markdown",
   "id": "8903cf71",
   "metadata": {},
   "source": [
    "MNIST"
   ]
  },
  {
   "cell_type": "code",
   "execution_count": 7,
   "id": "4d7603a2",
   "metadata": {},
   "outputs": [
    {
     "data": {
      "text/plain": [
       "(28, 28, 60000)"
      ]
     },
     "metadata": {},
     "output_type": "display_data"
    },
    {
     "data": {
      "text/plain": [
       "1×5 adjoint(::Vector{Int64}) with eltype Int64:\n",
       " 5  0  4  1  9"
      ]
     },
     "metadata": {},
     "output_type": "display_data"
    },
    {
     "data": {
      "image/png": "[encoded data removed]",
      "text/html": [
       "<img src=\"data:image/png;base64,iVBORw0KGgoAAAANSUhEUgAAARgAAAA4CAAAAAADPrjSAAAABGdBTUEAALGPC/xhBQAAAAFzUkdCAK7OHOkAAAAgY0hSTQAAeiYAAICEAAD6AAAAgOgAAHUwAADqYAAAOpgAABdwnLpRPAAABPJJREFUaAXtwX2M1nUBAPDPc34HHjmOeOlgOUSNaKPggqHpCCheckgGUSIpiJW6UGQrmViXO6cwEvgDGE4nE+TFXS3CQ51DJnHGoJsn6pwEkTQccBGi58FF3vJ52rPjFnf3fV44tNX8fT5BIipIRAWJqCARFSSigkRUkIgKElHBJ2Kku8223ip7/X8KElFBDhcpk3W3Hoa4yzIz/dMSDyqswnY9Zcxygz66ZrxNxjrgfFR6UIlxal24IBEVdDBQN9carZfp2hyx0jSnvKFWYVfZrEzGKS36uMarWnQ2Rh9b5DZKvfMzx0JpZHwcgkRU0M5XvaRMe2mVmj3tmPcdkF8PI2w0QNZBj6i2yy8t1tk4g22RS4nLDZRyPi7TXfGuNssYQ3GvY75ugzrnChJRQTuHnVSmTZ1G39Big2I9bqY2I1yi1jhfETPbHrkNcLuN9iveBPOw3xTHFTbDCn2l7NTPUqT0dZNzBYmooJ33LDDFa1bidRM1G2q+Yo10vRRqPWepBq953zelxJTIZw0OKt5o65RhqcMKCUZ5Qg8ve8gu3f3GJNRrL0hEBR08Y4dThvuR5ZrxljsUp8J2PWW8YKaxKq1xwhvSrjfCXu0NUy6fMmxXvFsNwE7rFXaLNdhuhibMMAlHPKW9IBEVdNKED/Bj1dKK9UULlHlXg6ec9rzntSn1Mzdrb7JSuZW7HEcVq68fSmu0SGEPu1/Goyo1yfqFrHuc0F6QiAqiqow01gQvKk53y0x2ymz1SnU0UEdD8JZclin3Z6cUZ5DNslbZoZAH3K/FNvc5g4tNMlDKw2p0FCSigqhmt9vrCb9Xb7WMQkaYjO+oVbxXdNbTdW4xCQ9pVJzrDMNLViikl7kytpkq6ws2GYnfekRnQSIqyOFtc6w1yyyfsV6D/JZLqVWrsxJpKTG9tRquxHiX6uZmJc6o86HgVcWZagl2udUHCummL+7xObe5wZddIiNjo2adBYmoIKct/mK58Ra7zCJH5TZFhYytYtIyXtfRGRmP+bmsYVL+5R/2eVK9WscdUWq/YgyyWdYhxxXW4oR+/ioj65gmA7zrWTFBIirI4003+ra17jTYRLmV6ubvfq2j7qqww0IdzXXYtVq9o8Y+f9TmDv0cUpz7pGUtUYxGUz2nt7fVWOc91QaoFhckooK8Gm2wRjDGODvl86EG7XVXaYEjljuts1/JZTw2K0aFSbJqHFCcOv20GWOstEPigkRUkMcw3zNKwD4vy2+r9iosMEON6briGcV40WdRZ46uKJWWUS0uSEQFOQwxzzT9ZX2kQVpuKSlTzfcfP1WpzCazfZL6SGO107pim3yCRFQQ0d8P3GWQVvUW2SqfjIz+VnrSSV8zy3CXesc2j+qalMH2KGStElm7dc235BMkooIOyg21ype0qrNUjbTCLjLXdE0Gy9pjhwd0VUaJQipMlNZiteO65kr5BImo4By9Pa7CFVrtttw2ZxS2xytGob9ynFRtvgtzjXXy66UcR92rq/6gRFouQSIqOOtqC1zl81qdscJizYpzxHfdqVLWCo856MKk/De86aArXOmEmCARFZw1zTRZf/KsjyzT6Hw0qFLl4/GC7ytsv91GuzCLrbHIPPt0FiSigrMWWuh/wzrrFPY3Y12o37nJBFVu06yjIBEVfIo1udEiP1Fln46CRFTwqdZknnligkTUvwF5x1NZIErsDQAAAABJRU5ErkJg\">"
      ],
      "text/plain": [
       "28×140 MosaicView{Gray{Float32}, 4, Base.ReshapedArray{Gray{Float32}, 4, PaddedView{Gray{Float32}, 3, Tuple{Base.OneTo{Int64}, Base.OneTo{Int64}, Base.OneTo{Int64}}, Array{Gray{Float32}, 3}}, Tuple{Base.MultiplicativeInverses.SignedMultiplicativeInverse{Int64}, Base.MultiplicativeInverses.SignedMultiplicativeInverse{Int64}}}}:\n",
       " Gray{Float32}(0.0)  Gray{Float32}(0.0)  …  Gray{Float32}(0.0)\n",
       " Gray{Float32}(0.0)  Gray{Float32}(0.0)     Gray{Float32}(0.0)\n",
       " Gray{Float32}(0.0)  Gray{Float32}(0.0)     Gray{Float32}(0.0)\n",
       " Gray{Float32}(0.0)  Gray{Float32}(0.0)     Gray{Float32}(0.0)\n",
       " Gray{Float32}(0.0)  Gray{Float32}(0.0)     Gray{Float32}(0.0)\n",
       " Gray{Float32}(0.0)  Gray{Float32}(0.0)  …  Gray{Float32}(0.0)\n",
       " Gray{Float32}(0.0)  Gray{Float32}(0.0)     Gray{Float32}(0.0)\n",
       " Gray{Float32}(0.0)  Gray{Float32}(0.0)     Gray{Float32}(0.0)\n",
       " Gray{Float32}(0.0)  Gray{Float32}(0.0)     Gray{Float32}(0.0)\n",
       " Gray{Float32}(0.0)  Gray{Float32}(0.0)     Gray{Float32}(0.0)\n",
       " ⋮                                       ⋱  \n",
       " Gray{Float32}(0.0)  Gray{Float32}(0.0)     Gray{Float32}(0.0)\n",
       " Gray{Float32}(0.0)  Gray{Float32}(0.0)  …  Gray{Float32}(0.0)\n",
       " Gray{Float32}(0.0)  Gray{Float32}(0.0)     Gray{Float32}(0.0)\n",
       " Gray{Float32}(0.0)  Gray{Float32}(0.0)     Gray{Float32}(0.0)\n",
       " Gray{Float32}(0.0)  Gray{Float32}(0.0)     Gray{Float32}(0.0)\n",
       " Gray{Float32}(0.0)  Gray{Float32}(0.0)     Gray{Float32}(0.0)\n",
       " Gray{Float32}(0.0)  Gray{Float32}(0.0)  …  Gray{Float32}(0.0)\n",
       " Gray{Float32}(0.0)  Gray{Float32}(0.0)     Gray{Float32}(0.0)\n",
       " Gray{Float32}(0.0)  Gray{Float32}(0.0)     Gray{Float32}(0.0)"
      ]
     },
     "metadata": {},
     "output_type": "display_data"
    }
   ],
   "source": [
    "# load mnist\n",
    "datasetX,    datasetY    = MNIST(:train)[:]\n",
    "validationX, validationY = MNIST(:test)[:]\n",
    "\n",
    "display( size(datasetX) )\n",
    "\n",
    "img  = datasetX[:, :, 1:5]\n",
    "img2 = permutedims(img, (2, 1, 3))\n",
    "\n",
    "display(datasetY[1:5]')\n",
    "mosaicview( Gray.(img2)  ; nrow=1)"
   ]
  },
  {
   "cell_type": "code",
   "execution_count": 8,
   "id": "2ecbb1f6",
   "metadata": {},
   "outputs": [
    {
     "data": {
      "text/plain": [
       "((28, 28, 42001), (28, 28, 17999), (28, 28, 10000))"
      ]
     },
     "metadata": {},
     "output_type": "display_data"
    }
   ],
   "source": [
    "# split trainset, testset from dataset\n",
    "Random.seed!(1)\n",
    "(trainX, trainY), (testX, testY) = stratifiedobs((datasetX, datasetY), p = 0.7)\n",
    "size(trainX), size(testX), size(validationX)"
   ]
  },
  {
   "cell_type": "markdown",
   "id": "b8b9c3b0",
   "metadata": {},
   "source": [
    "Preprocessing"
   ]
  },
  {
   "cell_type": "code",
   "execution_count": 27,
   "id": "f76c815d",
   "metadata": {},
   "outputs": [],
   "source": [
    "function preprocess(X, y)\n",
    "    newX = pim.batchImage2DF(X)\n",
    "    #coerce!(newX)   # no need, all scitypes are Continuous in this example\n",
    "    new_y = coerce(y, OrderedFactor)\n",
    "    \n",
    "    return (newX, new_y)\n",
    "end\n",
    "using CUDA\n",
    "using Flux\n",
    "X_tr, y_tr = preprocess(trainX, trainY) |> gpu\n",
    "# X_d = X_tr |> gpu;"
   ]
  },
  {
   "cell_type": "code",
   "execution_count": 28,
   "id": "a82db1c6",
   "metadata": {},
   "outputs": [
    {
     "data": {
      "text/plain": [
       "Table{AbstractVector{Continuous}}"
      ]
     },
     "metadata": {},
     "output_type": "display_data"
    }
   ],
   "source": [
    "scitype(X_tr)"
   ]
  },
  {
   "cell_type": "code",
   "execution_count": 29,
   "id": "4724874c",
   "metadata": {},
   "outputs": [
    {
     "data": {
      "text/plain": [
       "AbstractVector{OrderedFactor{10}} (alias for AbstractArray{OrderedFactor{10}, 1})"
      ]
     },
     "metadata": {},
     "output_type": "display_data"
    }
   ],
   "source": [
    "scitype(y_tr)"
   ]
  },
  {
   "cell_type": "markdown",
   "id": "eb875eb7",
   "metadata": {},
   "source": [
    "Pipe the model"
   ]
  },
  {
   "cell_type": "code",
   "execution_count": 30,
   "id": "a7f1e942",
   "metadata": {},
   "outputs": [
    {
     "data": {
      "text/plain": [
       "(name = \"PCA\",\n",
       " package_name = \"MultivariateStats\",\n",
       " is_supervised = false,\n",
       " abstract_type = Unsupervised,\n",
       " deep_properties = (),\n",
       " docstring = \"  Principal component analysis. Learns a linear tr...\",\n",
       " fit_data_scitype =\n",
       "     Tuple{Table{var\"#s9\"} where var\"#s9\"<:(AbstractVector{var\"#s8\"} where var\"#s8\"<:Continuous)},\n",
       " human_name = \"pca\",\n",
       " hyperparameter_ranges = (nothing, nothing, nothing, nothing),\n",
       " hyperparameter_types =\n",
       "     (\"Int64\", \"Symbol\", \"Float64\", \"Union{Nothing, Real, Vector{Float64}}\"),\n",
       " hyperparameters = (:maxoutdim, :method, :pratio, :mean),\n",
       " implemented_methods =\n",
       "     [:clean!, :fitted_params, :inverse_transform, :fit, :transform],\n",
       " inverse_transform_scitype =\n",
       "     Table{var\"#s9\"} where var\"#s9\"<:(AbstractVector{var\"#s8\"} where var\"#s8\"<:Continuous),\n",
       " is_pure_julia = true,\n",
       " is_wrapper = false,\n",
       " iteration_parameter = nothing,\n",
       " load_path = \"MLJMultivariateStatsInterface.PCA\",\n",
       " package_license = \"MIT\",\n",
       " package_url = \"https://github.com/JuliaStats/MultivariateStats.jl\",\n",
       " package_uuid = \"6f286f6a-111f-5878-ab1e-185364afe411\",\n",
       " predict_scitype = Unknown,\n",
       " prediction_type = :unknown,\n",
       " supports_class_weights = false,\n",
       " supports_online = false,\n",
       " supports_training_losses = false,\n",
       " supports_weights = false,\n",
       " transform_scitype =\n",
       "     Table{var\"#s9\"} where var\"#s9\"<:(AbstractVector{var\"#s8\"} where var\"#s8\"<:Continuous),\n",
       " input_scitype =\n",
       "     Table{var\"#s9\"} where var\"#s9\"<:(AbstractVector{var\"#s8\"} where var\"#s8\"<:Continuous),\n",
       " target_scitype = Unknown,\n",
       " output_scitype =\n",
       "     Table{var\"#s9\"} where var\"#s9\"<:(AbstractVector{var\"#s8\"} where var\"#s8\"<:Continuous))"
      ]
     },
     "metadata": {},
     "output_type": "display_data"
    }
   ],
   "source": [
    "models(\"PCA\")[2]"
   ]
  },
  {
   "cell_type": "code",
   "execution_count": 31,
   "id": "84b424c5",
   "metadata": {},
   "outputs": [
    {
     "data": {
      "text/plain": [
       "PCA(\n",
       "  maxoutdim = 0, \n",
       "  method = :auto, \n",
       "  pratio = 0.95, \n",
       "  mean = nothing)"
      ]
     },
     "metadata": {},
     "output_type": "display_data"
    }
   ],
   "source": [
    "# reduce predictors\n",
    "PCA = @load PCA pkg=MultivariateStats verbosity=0\n",
    "reducer = PCA(pratio = 0.95)"
   ]
  },
  {
   "cell_type": "code",
   "execution_count": 32,
   "id": "e5acd6c1",
   "metadata": {},
   "outputs": [],
   "source": [
    "# standardize predictors\n",
    "std = Standardizer();"
   ]
  },
  {
   "cell_type": "code",
   "execution_count": 33,
   "id": "4a63d518",
   "metadata": {},
   "outputs": [
    {
     "data": {
      "text/plain": [
       "(name = \"NeuralNetworkClassifier\",\n",
       " package_name = \"MLJFlux\",\n",
       " is_supervised = true,\n",
       " abstract_type = Probabilistic,\n",
       " deep_properties = (:optimiser, :builder),\n",
       " docstring = \"A neural network model for making probabilistic pr...\",\n",
       " fit_data_scitype =\n",
       "     Tuple{Table{var\"#s9\"} where var\"#s9\"<:(AbstractVector{var\"#s8\"} where var\"#s8\"<:Continuous), AbstractVector{var\"#s7\"} where var\"#s7\"<:Finite},\n",
       " human_name = \"neural network classifier\",\n",
       " hyperparameter_ranges = (nothing,\n",
       "                          nothing,\n",
       "                          nothing,\n",
       "                          nothing,\n",
       "                          nothing,\n",
       "                          nothing,\n",
       "                          nothing,\n",
       "                          nothing,\n",
       "                          nothing,\n",
       "                          nothing,\n",
       "                          nothing),\n",
       " hyperparameter_types = (\"Any\",\n",
       "                         \"Any\",\n",
       "                         \"Any\",\n",
       "                         \"Any\",\n",
       "                         \"Int64\",\n",
       "                         \"Int64\",\n",
       "                         \"Float64\",\n",
       "                         \"Float64\",\n",
       "                         \"Union{Int64, Random.AbstractRNG}\",\n",
       "                         \"Bool\",\n",
       "                         \"ComputationalResources.AbstractResource\"),\n",
       " hyperparameters = (:builder,\n",
       "                    :finaliser,\n",
       "                    :optimiser,\n",
       "                    :loss,\n",
       "                    :epochs,\n",
       "                    :batch_size,\n",
       "                    :lambda,\n",
       "                    :alpha,\n",
       "                    :rng,\n",
       "                    :optimiser_changes_trigger_retraining,\n",
       "                    :acceleration),\n",
       " implemented_methods = [:predict],\n",
       " inverse_transform_scitype = Unknown,\n",
       " is_pure_julia = true,\n",
       " is_wrapper = false,\n",
       " iteration_parameter = :epochs,\n",
       " load_path = \"MLJFlux.NeuralNetworkClassifier\",\n",
       " package_license = \"MIT\",\n",
       " package_url = \"https://github.com/alan-turing-institute/MLJFlux.jl\",\n",
       " package_uuid = \"094fc8d1-fd35-5302-93ea-dabda2abf845\",\n",
       " predict_scitype =\n",
       "     AbstractVector{ScientificTypesBase.Density{_s25} where _s25<:Finite},\n",
       " prediction_type = :probabilistic,\n",
       " supports_class_weights = false,\n",
       " supports_online = false,\n",
       " supports_training_losses = true,\n",
       " supports_weights = false,\n",
       " transform_scitype = Unknown,\n",
       " input_scitype =\n",
       "     Table{var\"#s9\"} where var\"#s9\"<:(AbstractVector{var\"#s8\"} where var\"#s8\"<:Continuous),\n",
       " target_scitype = AbstractVector{var\"#s9\"} where var\"#s9\"<:Finite,\n",
       " output_scitype = Unknown)"
      ]
     },
     "metadata": {},
     "output_type": "display_data"
    }
   ],
   "source": [
    "models(\"Neural\")[2]"
   ]
  },
  {
   "cell_type": "markdown",
   "id": "31b3813e",
   "metadata": {},
   "source": [
    "Eventually, one might see next, the downloading of \"CUDA artifacts\" even if Pkg CUDA is installed in Julia and CUDA libraries are present on the computer. This is yet another disadvantage of MLJ over Flux."
   ]
  },
  {
   "cell_type": "code",
   "execution_count": 34,
   "id": "da2ebd67",
   "metadata": {},
   "outputs": [
    {
     "data": {
      "text/plain": [
       "NeuralNetworkClassifier(\n",
       "  builder = Short(\n",
       "        n_hidden = 0, \n",
       "        dropout = 0.5, \n",
       "        σ = NNlib.σ), \n",
       "  finaliser = NNlib.softmax, \n",
       "  optimiser = ADAM(0.001, (0.9, 0.999), 1.0e-8, IdDict{Any, Any}()), \n",
       "  loss = Flux.Losses.crossentropy, \n",
       "  epochs = 10, \n",
       "  batch_size = 1, \n",
       "  lambda = 0.0, \n",
       "  alpha = 0.0, \n",
       "  rng = Random._GLOBAL_RNG(), \n",
       "  optimiser_changes_trigger_retraining = false, \n",
       "  acceleration = CUDALibs{Nothing}(nothing))"
      ]
     },
     "metadata": {},
     "output_type": "display_data"
    }
   ],
   "source": [
    "# nnet\n",
    "NeuralNetworkClassifier = @load NeuralNetworkClassifier pkg=MLJFlux verbosity=0\n",
    "nnet = NeuralNetworkClassifier(acceleration=CUDALibs())"
   ]
  },
  {
   "cell_type": "code",
   "execution_count": 35,
   "id": "ccbf397a",
   "metadata": {},
   "outputs": [
    {
     "data": {
      "text/plain": [
       "Pipeline777(\n",
       "  pca = PCA(\n",
       "        maxoutdim = 0, \n",
       "        method = :auto, \n",
       "        pratio = 0.95, \n",
       "        mean = nothing), \n",
       "  standardizer = Standardizer(\n",
       "        features = Symbol[], \n",
       "        ignore = false, \n",
       "        ordered_factor = false, \n",
       "        count = false), \n",
       "  neural_network_classifier = NeuralNetworkClassifier(\n",
       "        builder = Short(n_hidden = 0, …), \n",
       "        finaliser = NNlib.softmax, \n",
       "        optimiser = ADAM(0.001, (0.9, 0.999), 1.0e-8, IdDict{Any, Any}()), \n",
       "        loss = Flux.Losses.crossentropy, \n",
       "        epochs = 10, \n",
       "        batch_size = 1, \n",
       "        lambda = 0.0, \n",
       "        alpha = 0.0, \n",
       "        rng = Random._GLOBAL_RNG(), \n",
       "        optimiser_changes_trigger_retraining = false, \n",
       "        acceleration = CUDALibs{Nothing}(nothing)))"
      ]
     },
     "metadata": {},
     "output_type": "display_data"
    }
   ],
   "source": [
    "pipe = @pipeline reducer std nnet"
   ]
  },
  {
   "cell_type": "markdown",
   "id": "ad11e62b",
   "metadata": {},
   "source": [
    "Training\n"
   ]
  },
  {
   "cell_type": "code",
   "execution_count": 36,
   "id": "699df458",
   "metadata": {},
   "outputs": [
    {
     "name": "stderr",
     "output_type": "stream",
     "text": [
      "┌ Info: Training machine(Pipeline777(pca = PCA(maxoutdim = 0, …), …), …).\n",
      "└ @ MLJBase /home/ciro/.julia/packages/MLJBase/jcOVb/src/machines.jl:487\n"
     ]
    },
    {
     "name": "stderr",
     "output_type": "stream",
     "text": [
      "┌ Info: Training machine(PCA(maxoutdim = 0, …), …).\n",
      "└ @ MLJBase /home/ciro/.julia/packages/MLJBase/jcOVb/src/machines.jl:487\n"
     ]
    },
    {
     "name": "stderr",
     "output_type": "stream",
     "text": [
      "┌ Info: Training machine(Standardizer(features = Symbol[], …), …).\n",
      "└ @ MLJBase /home/ciro/.julia/packages/MLJBase/jcOVb/src/machines.jl:487\n"
     ]
    },
    {
     "name": "stderr",
     "output_type": "stream",
     "text": [
      "┌ Info: Training machine(NeuralNetworkClassifier(builder = Short(n_hidden = 0, …), …), …).\n",
      "└ @ MLJBase /home/ciro/.julia/packages/MLJBase/jcOVb/src/machines.jl:487\n"
     ]
    }
   ],
   "source": [
    "pipe.neural_network_classifier.epochs = 1   # = 1 for debug, default = 10\n",
    "mach = MLJ.machine(pipe, X_tr, y_tr) |> fit!"
   ]
  },
  {
   "cell_type": "code",
   "execution_count": null,
   "id": "a5aa225d",
   "metadata": {},
   "outputs": [],
   "source": [
    "# # save model\n",
    "# MLJ.save(\"pca-nn-trained-model.jlso\", mach)"
   ]
  },
  {
   "cell_type": "code",
   "execution_count": 20,
   "id": "06ac1b47",
   "metadata": {},
   "outputs": [],
   "source": [
    "# inspect model\n",
    "fp = fitted_params(mach);\n",
    "rp = report(mach);"
   ]
  },
  {
   "cell_type": "code",
   "execution_count": 21,
   "id": "ca366c71",
   "metadata": {},
   "outputs": [
    {
     "data": {
      "image/png": "[encoded data removed]",
      "image/svg+xml": "<?xml version=\"1.0\" encoding=\"utf-8\"?>\n<svg xmlns=\"http://www.w3.org/2000/svg\" xmlns:xlink=\"http://www.w3.org/1999/xlink\" width=\"500\" height=\"300\" viewBox=\"0 0 2000 1200\">\n<defs>\n  <clipPath id=\"clip630\">\n    <rect x=\"0\" y=\"0\" width=\"2000\" height=\"1200\"/>\n  </clipPath>\n</defs>\n<path clip-path=\"url(#clip630)\" d=\"\nM0 1200 L2000 1200 L2000 0 L0 0  Z\n  \" fill=\"#ffffff\" fill-rule=\"evenodd\" fill-opacity=\"1\"/>\n<defs>\n  <clipPath id=\"clip631\">\n    <rect x=\"400\" y=\"0\" width=\"1401\" height=\"1200\"/>\n  </clipPath>\n</defs>\n<path clip-path=\"url(#clip630)\" d=\"\nM210.281 1035.39 L1952.76 1035.39 L1952.76 117.424 L210.281 117.424  Z\n  \" fill=\"#ffffff\" fill-rule=\"evenodd\" fill-opacity=\"1\"/>\n<defs>\n  <clipPath id=\"clip632\">\n    <rect x=\"210\" y=\"117\" width=\"1743\" height=\"919\"/>\n  </clipPath>\n</defs>\n<polyline clip-path=\"url(#clip632)\" style=\"stroke:#000000; stroke-linecap:butt; stroke-linejoin:round; stroke-width:2; stroke-opacity:0.1; fill:none\" points=\"\n  259.596,1035.39 259.596,117.424 \n  \"/>\n<polyline clip-path=\"url(#clip632)\" style=\"stroke:#000000; stroke-linecap:butt; stroke-linejoin:round; stroke-width:2; stroke-opacity:0.1; fill:none\" points=\"\n  670.557,1035.39 670.557,117.424 \n  \"/>\n<polyline clip-path=\"url(#clip632)\" style=\"stroke:#000000; stroke-linecap:butt; stroke-linejoin:round; stroke-width:2; stroke-opacity:0.1; fill:none\" points=\"\n  1081.52,1035.39 1081.52,117.424 \n  \"/>\n<polyline clip-path=\"url(#clip632)\" style=\"stroke:#000000; stroke-linecap:butt; stroke-linejoin:round; stroke-width:2; stroke-opacity:0.1; fill:none\" points=\"\n  1492.48,1035.39 1492.48,117.424 \n  \"/>\n<polyline clip-path=\"url(#clip632)\" style=\"stroke:#000000; stroke-linecap:butt; stroke-linejoin:round; stroke-width:2; stroke-opacity:0.1; fill:none\" points=\"\n  1903.44,1035.39 1903.44,117.424 \n  \"/>\n<polyline clip-path=\"url(#clip630)\" style=\"stroke:#000000; stroke-linecap:butt; stroke-linejoin:round; stroke-width:4; stroke-opacity:1; fill:none\" points=\"\n  210.281,1035.39 1952.76,1035.39 \n  \"/>\n<polyline clip-path=\"url(#clip630)\" style=\"stroke:#000000; stroke-linecap:butt; stroke-linejoin:round; stroke-width:4; stroke-opacity:1; fill:none\" points=\"\n  259.596,1035.39 259.596,1016.49 \n  \"/>\n<polyline clip-path=\"url(#clip630)\" style=\"stroke:#000000; stroke-linecap:butt; stroke-linejoin:round; stroke-width:4; stroke-opacity:1; fill:none\" points=\"\n  670.557,1035.39 670.557,1016.49 \n  \"/>\n<polyline clip-path=\"url(#clip630)\" style=\"stroke:#000000; stroke-linecap:butt; stroke-linejoin:round; stroke-width:4; stroke-opacity:1; fill:none\" points=\"\n  1081.52,1035.39 1081.52,1016.49 \n  \"/>\n<polyline clip-path=\"url(#clip630)\" style=\"stroke:#000000; stroke-linecap:butt; stroke-linejoin:round; stroke-width:4; stroke-opacity:1; fill:none\" points=\"\n  1492.48,1035.39 1492.48,1016.49 \n  \"/>\n<polyline clip-path=\"url(#clip630)\" style=\"stroke:#000000; stroke-linecap:butt; stroke-linejoin:round; stroke-width:4; stroke-opacity:1; fill:none\" points=\"\n  1903.44,1035.39 1903.44,1016.49 \n  \"/>\n<path clip-path=\"url(#clip630)\" d=\"M221.9 1063.11 Q218.289 1063.11 216.46 1066.67 Q214.654 1070.21 214.654 1077.34 Q214.654 1084.45 216.46 1088.01 Q218.289 1091.56 221.9 1091.56 Q225.534 1091.56 227.339 1088.01 Q229.168 1084.45 229.168 1077.34 Q229.168 1070.21 227.339 1066.67 Q225.534 1063.11 221.9 1063.11 M221.9 1059.4 Q227.71 1059.4 230.765 1064.01 Q233.844 1068.59 233.844 1077.34 Q233.844 1086.07 230.765 1090.68 Q227.71 1095.26 221.9 1095.26 Q216.09 1095.26 213.011 1090.68 Q209.955 1086.07 209.955 1077.34 Q209.955 1068.59 213.011 1064.01 Q216.09 1059.4 221.9 1059.4 Z\" fill=\"#000000\" fill-rule=\"evenodd\" fill-opacity=\"1\" /><path clip-path=\"url(#clip630)\" d=\"M242.062 1088.71 L246.946 1088.71 L246.946 1094.59 L242.062 1094.59 L242.062 1088.71 Z\" fill=\"#000000\" fill-rule=\"evenodd\" fill-opacity=\"1\" /><path clip-path=\"url(#clip630)\" d=\"M267.131 1063.11 Q263.52 1063.11 261.691 1066.67 Q259.886 1070.21 259.886 1077.34 Q259.886 1084.45 261.691 1088.01 Q263.52 1091.56 267.131 1091.56 Q270.765 1091.56 272.571 1088.01 Q274.399 1084.45 274.399 1077.34 Q274.399 1070.21 272.571 1066.67 Q270.765 1063.11 267.131 1063.11 M267.131 1059.4 Q272.941 1059.4 275.997 1064.01 Q279.075 1068.59 279.075 1077.34 Q279.075 1086.07 275.997 1090.68 Q272.941 1095.26 267.131 1095.26 Q261.321 1095.26 258.242 1090.68 Q255.187 1086.07 255.187 1077.34 Q255.187 1068.59 258.242 1064.01 Q261.321 1059.4 267.131 1059.4 Z\" fill=\"#000000\" fill-rule=\"evenodd\" fill-opacity=\"1\" /><path clip-path=\"url(#clip630)\" d=\"M297.293 1063.11 Q293.682 1063.11 291.853 1066.67 Q290.047 1070.21 290.047 1077.34 Q290.047 1084.45 291.853 1088.01 Q293.682 1091.56 297.293 1091.56 Q300.927 1091.56 302.733 1088.01 Q304.561 1084.45 304.561 1077.34 Q304.561 1070.21 302.733 1066.67 Q300.927 1063.11 297.293 1063.11 M297.293 1059.4 Q303.103 1059.4 306.159 1064.01 Q309.237 1068.59 309.237 1077.34 Q309.237 1086.07 306.159 1090.68 Q303.103 1095.26 297.293 1095.26 Q291.483 1095.26 288.404 1090.68 Q285.348 1086.07 285.348 1077.34 Q285.348 1068.59 288.404 1064.01 Q291.483 1059.4 297.293 1059.4 Z\" fill=\"#000000\" fill-rule=\"evenodd\" fill-opacity=\"1\" /><path clip-path=\"url(#clip630)\" d=\"M633.358 1063.11 Q629.747 1063.11 627.919 1066.67 Q626.113 1070.21 626.113 1077.34 Q626.113 1084.45 627.919 1088.01 Q629.747 1091.56 633.358 1091.56 Q636.993 1091.56 638.798 1088.01 Q640.627 1084.45 640.627 1077.34 Q640.627 1070.21 638.798 1066.67 Q636.993 1063.11 633.358 1063.11 M633.358 1059.4 Q639.169 1059.4 642.224 1064.01 Q645.303 1068.59 645.303 1077.34 Q645.303 1086.07 642.224 1090.68 Q639.169 1095.26 633.358 1095.26 Q627.548 1095.26 624.47 1090.68 Q621.414 1086.07 621.414 1077.34 Q621.414 1068.59 624.47 1064.01 Q627.548 1059.4 633.358 1059.4 Z\" fill=\"#000000\" fill-rule=\"evenodd\" fill-opacity=\"1\" /><path clip-path=\"url(#clip630)\" d=\"M653.52 1088.71 L658.405 1088.71 L658.405 1094.59 L653.52 1094.59 L653.52 1088.71 Z\" fill=\"#000000\" fill-rule=\"evenodd\" fill-opacity=\"1\" /><path clip-path=\"url(#clip630)\" d=\"M672.618 1090.65 L688.937 1090.65 L688.937 1094.59 L666.993 1094.59 L666.993 1090.65 Q669.655 1087.9 674.238 1083.27 Q678.844 1078.62 680.025 1077.27 Q682.27 1074.75 683.15 1073.01 Q684.053 1071.25 684.053 1069.56 Q684.053 1066.81 682.108 1065.07 Q680.187 1063.34 677.085 1063.34 Q674.886 1063.34 672.432 1064.1 Q670.002 1064.87 667.224 1066.42 L667.224 1061.69 Q670.048 1060.56 672.502 1059.98 Q674.955 1059.4 676.992 1059.4 Q682.363 1059.4 685.557 1062.09 Q688.752 1064.77 688.752 1069.26 Q688.752 1071.39 687.942 1073.31 Q687.154 1075.21 685.048 1077.81 Q684.469 1078.48 681.367 1081.69 Q678.266 1084.89 672.618 1090.65 Z\" fill=\"#000000\" fill-rule=\"evenodd\" fill-opacity=\"1\" /><path clip-path=\"url(#clip630)\" d=\"M698.798 1060.03 L717.154 1060.03 L717.154 1063.96 L703.08 1063.96 L703.08 1072.44 Q704.099 1072.09 705.117 1071.93 Q706.136 1071.74 707.154 1071.74 Q712.941 1071.74 716.321 1074.91 Q719.701 1078.08 719.701 1083.5 Q719.701 1089.08 716.228 1092.18 Q712.756 1095.26 706.437 1095.26 Q704.261 1095.26 701.992 1094.89 Q699.747 1094.52 697.34 1093.78 L697.34 1089.08 Q699.423 1090.21 701.645 1090.77 Q703.867 1091.32 706.344 1091.32 Q710.349 1091.32 712.687 1089.22 Q715.025 1087.11 715.025 1083.5 Q715.025 1079.89 712.687 1077.78 Q710.349 1075.68 706.344 1075.68 Q704.469 1075.68 702.594 1076.09 Q700.742 1076.51 698.798 1077.39 L698.798 1060.03 Z\" fill=\"#000000\" fill-rule=\"evenodd\" fill-opacity=\"1\" /><path clip-path=\"url(#clip630)\" d=\"M1043.82 1063.11 Q1040.21 1063.11 1038.38 1066.67 Q1036.58 1070.21 1036.58 1077.34 Q1036.58 1084.45 1038.38 1088.01 Q1040.21 1091.56 1043.82 1091.56 Q1047.46 1091.56 1049.26 1088.01 Q1051.09 1084.45 1051.09 1077.34 Q1051.09 1070.21 1049.26 1066.67 Q1047.46 1063.11 1043.82 1063.11 M1043.82 1059.4 Q1049.63 1059.4 1052.69 1064.01 Q1055.77 1068.59 1055.77 1077.34 Q1055.77 1086.07 1052.69 1090.68 Q1049.63 1095.26 1043.82 1095.26 Q1038.01 1095.26 1034.93 1090.68 Q1031.88 1086.07 1031.88 1077.34 Q1031.88 1068.59 1034.93 1064.01 Q1038.01 1059.4 1043.82 1059.4 Z\" fill=\"#000000\" fill-rule=\"evenodd\" fill-opacity=\"1\" /><path clip-path=\"url(#clip630)\" d=\"M1063.98 1088.71 L1068.87 1088.71 L1068.87 1094.59 L1063.98 1094.59 L1063.98 1088.71 Z\" fill=\"#000000\" fill-rule=\"evenodd\" fill-opacity=\"1\" /><path clip-path=\"url(#clip630)\" d=\"M1079.1 1060.03 L1097.46 1060.03 L1097.46 1063.96 L1083.38 1063.96 L1083.38 1072.44 Q1084.4 1072.09 1085.42 1071.93 Q1086.44 1071.74 1087.46 1071.74 Q1093.24 1071.74 1096.62 1074.91 Q1100 1078.08 1100 1083.5 Q1100 1089.08 1096.53 1092.18 Q1093.06 1095.26 1086.74 1095.26 Q1084.56 1095.26 1082.29 1094.89 Q1080.05 1094.52 1077.64 1093.78 L1077.64 1089.08 Q1079.72 1090.21 1081.95 1090.77 Q1084.17 1091.32 1086.65 1091.32 Q1090.65 1091.32 1092.99 1089.22 Q1095.33 1087.11 1095.33 1083.5 Q1095.33 1079.89 1092.99 1077.78 Q1090.65 1075.68 1086.65 1075.68 Q1084.77 1075.68 1082.9 1076.09 Q1081.04 1076.51 1079.1 1077.39 L1079.1 1060.03 Z\" fill=\"#000000\" fill-rule=\"evenodd\" fill-opacity=\"1\" /><path clip-path=\"url(#clip630)\" d=\"M1119.21 1063.11 Q1115.6 1063.11 1113.78 1066.67 Q1111.97 1070.21 1111.97 1077.34 Q1111.97 1084.45 1113.78 1088.01 Q1115.6 1091.56 1119.21 1091.56 Q1122.85 1091.56 1124.65 1088.01 Q1126.48 1084.45 1126.48 1077.34 Q1126.48 1070.21 1124.65 1066.67 Q1122.85 1063.11 1119.21 1063.11 M1119.21 1059.4 Q1125.03 1059.4 1128.08 1064.01 Q1131.16 1068.59 1131.16 1077.34 Q1131.16 1086.07 1128.08 1090.68 Q1125.03 1095.26 1119.21 1095.26 Q1113.4 1095.26 1110.33 1090.68 Q1107.27 1086.07 1107.27 1077.34 Q1107.27 1068.59 1110.33 1064.01 Q1113.4 1059.4 1119.21 1059.4 Z\" fill=\"#000000\" fill-rule=\"evenodd\" fill-opacity=\"1\" /><path clip-path=\"url(#clip630)\" d=\"M1455.28 1063.11 Q1451.67 1063.11 1449.84 1066.67 Q1448.04 1070.21 1448.04 1077.34 Q1448.04 1084.45 1449.84 1088.01 Q1451.67 1091.56 1455.28 1091.56 Q1458.91 1091.56 1460.72 1088.01 Q1462.55 1084.45 1462.55 1077.34 Q1462.55 1070.21 1460.72 1066.67 Q1458.91 1063.11 1455.28 1063.11 M1455.28 1059.4 Q1461.09 1059.4 1464.15 1064.01 Q1467.23 1068.59 1467.23 1077.34 Q1467.23 1086.07 1464.15 1090.68 Q1461.09 1095.26 1455.28 1095.26 Q1449.47 1095.26 1446.39 1090.68 Q1443.34 1086.07 1443.34 1077.34 Q1443.34 1068.59 1446.39 1064.01 Q1449.47 1059.4 1455.28 1059.4 Z\" fill=\"#000000\" fill-rule=\"evenodd\" fill-opacity=\"1\" /><path clip-path=\"url(#clip630)\" d=\"M1475.44 1088.71 L1480.33 1088.71 L1480.33 1094.59 L1475.44 1094.59 L1475.44 1088.71 Z\" fill=\"#000000\" fill-rule=\"evenodd\" fill-opacity=\"1\" /><path clip-path=\"url(#clip630)\" d=\"M1489.33 1060.03 L1511.55 1060.03 L1511.55 1062.02 L1499.01 1094.59 L1494.12 1094.59 L1505.93 1063.96 L1489.33 1063.96 L1489.33 1060.03 Z\" fill=\"#000000\" fill-rule=\"evenodd\" fill-opacity=\"1\" /><path clip-path=\"url(#clip630)\" d=\"M1520.72 1060.03 L1539.08 1060.03 L1539.08 1063.96 L1525 1063.96 L1525 1072.44 Q1526.02 1072.09 1527.04 1071.93 Q1528.06 1071.74 1529.08 1071.74 Q1534.86 1071.74 1538.24 1074.91 Q1541.62 1078.08 1541.62 1083.5 Q1541.62 1089.08 1538.15 1092.18 Q1534.68 1095.26 1528.36 1095.26 Q1526.18 1095.26 1523.91 1094.89 Q1521.67 1094.52 1519.26 1093.78 L1519.26 1089.08 Q1521.35 1090.21 1523.57 1090.77 Q1525.79 1091.32 1528.27 1091.32 Q1532.27 1091.32 1534.61 1089.22 Q1536.95 1087.11 1536.95 1083.5 Q1536.95 1079.89 1534.61 1077.78 Q1532.27 1075.68 1528.27 1075.68 Q1526.39 1075.68 1524.52 1076.09 Q1522.66 1076.51 1520.72 1077.39 L1520.72 1060.03 Z\" fill=\"#000000\" fill-rule=\"evenodd\" fill-opacity=\"1\" /><path clip-path=\"url(#clip630)\" d=\"M1855.51 1090.65 L1863.15 1090.65 L1863.15 1064.29 L1854.84 1065.95 L1854.84 1061.69 L1863.11 1060.03 L1867.78 1060.03 L1867.78 1090.65 L1875.42 1090.65 L1875.42 1094.59 L1855.51 1094.59 L1855.51 1090.65 Z\" fill=\"#000000\" fill-rule=\"evenodd\" fill-opacity=\"1\" /><path clip-path=\"url(#clip630)\" d=\"M1884.86 1088.71 L1889.75 1088.71 L1889.75 1094.59 L1884.86 1094.59 L1884.86 1088.71 Z\" fill=\"#000000\" fill-rule=\"evenodd\" fill-opacity=\"1\" /><path clip-path=\"url(#clip630)\" d=\"M1909.93 1063.11 Q1906.32 1063.11 1904.49 1066.67 Q1902.69 1070.21 1902.69 1077.34 Q1902.69 1084.45 1904.49 1088.01 Q1906.32 1091.56 1909.93 1091.56 Q1913.57 1091.56 1915.37 1088.01 Q1917.2 1084.45 1917.2 1077.34 Q1917.2 1070.21 1915.37 1066.67 Q1913.57 1063.11 1909.93 1063.11 M1909.93 1059.4 Q1915.74 1059.4 1918.8 1064.01 Q1921.88 1068.59 1921.88 1077.34 Q1921.88 1086.07 1918.8 1090.68 Q1915.74 1095.26 1909.93 1095.26 Q1904.12 1095.26 1901.04 1090.68 Q1897.99 1086.07 1897.99 1077.34 Q1897.99 1068.59 1901.04 1064.01 Q1904.12 1059.4 1909.93 1059.4 Z\" fill=\"#000000\" fill-rule=\"evenodd\" fill-opacity=\"1\" /><path clip-path=\"url(#clip630)\" d=\"M1940.1 1063.11 Q1936.48 1063.11 1934.66 1066.67 Q1932.85 1070.21 1932.85 1077.34 Q1932.85 1084.45 1934.66 1088.01 Q1936.48 1091.56 1940.1 1091.56 Q1943.73 1091.56 1945.54 1088.01 Q1947.36 1084.45 1947.36 1077.34 Q1947.36 1070.21 1945.54 1066.67 Q1943.73 1063.11 1940.1 1063.11 M1940.1 1059.4 Q1945.91 1059.4 1948.96 1064.01 Q1952.04 1068.59 1952.04 1077.34 Q1952.04 1086.07 1948.96 1090.68 Q1945.91 1095.26 1940.1 1095.26 Q1934.29 1095.26 1931.21 1090.68 Q1928.15 1086.07 1928.15 1077.34 Q1928.15 1068.59 1931.21 1064.01 Q1934.29 1059.4 1940.1 1059.4 Z\" fill=\"#000000\" fill-rule=\"evenodd\" fill-opacity=\"1\" /><path clip-path=\"url(#clip630)\" d=\"M969.53 1126.73 L999.576 1126.73 L999.576 1132.14 L975.959 1132.14 L975.959 1146.21 L998.589 1146.21 L998.589 1151.62 L975.959 1151.62 L975.959 1168.84 L1000.15 1168.84 L1000.15 1174.25 L969.53 1174.25 L969.53 1126.73 Z\" fill=\"#000000\" fill-rule=\"evenodd\" fill-opacity=\"1\" /><path clip-path=\"url(#clip630)\" d=\"M1016.13 1168.9 L1016.13 1187.81 L1010.24 1187.81 L1010.24 1138.6 L1016.13 1138.6 L1016.13 1144.01 Q1017.97 1140.83 1020.77 1139.3 Q1023.61 1137.74 1027.52 1137.74 Q1034.01 1137.74 1038.06 1142.9 Q1042.13 1148.06 1042.13 1156.46 Q1042.13 1164.86 1038.06 1170.02 Q1034.01 1175.17 1027.52 1175.17 Q1023.61 1175.17 1020.77 1173.65 Q1017.97 1172.09 1016.13 1168.9 M1036.05 1156.46 Q1036.05 1150 1033.38 1146.34 Q1030.74 1142.65 1026.09 1142.65 Q1021.44 1142.65 1018.77 1146.34 Q1016.13 1150 1016.13 1156.46 Q1016.13 1162.92 1018.77 1166.61 Q1021.44 1170.27 1026.09 1170.27 Q1030.74 1170.27 1033.38 1166.61 Q1036.05 1162.92 1036.05 1156.46 Z\" fill=\"#000000\" fill-rule=\"evenodd\" fill-opacity=\"1\" /><path clip-path=\"url(#clip630)\" d=\"M1065.65 1142.71 Q1060.94 1142.71 1058.2 1146.4 Q1055.47 1150.06 1055.47 1156.46 Q1055.47 1162.86 1058.17 1166.55 Q1060.91 1170.21 1065.65 1170.21 Q1070.33 1170.21 1073.07 1166.52 Q1075.81 1162.83 1075.81 1156.46 Q1075.81 1150.13 1073.07 1146.43 Q1070.33 1142.71 1065.65 1142.71 M1065.65 1137.74 Q1073.29 1137.74 1077.65 1142.71 Q1082.01 1147.68 1082.01 1156.46 Q1082.01 1165.21 1077.65 1170.21 Q1073.29 1175.17 1065.65 1175.17 Q1057.98 1175.17 1053.62 1170.21 Q1049.29 1165.21 1049.29 1156.46 Q1049.29 1147.68 1053.62 1142.71 Q1057.98 1137.74 1065.65 1137.74 Z\" fill=\"#000000\" fill-rule=\"evenodd\" fill-opacity=\"1\" /><path clip-path=\"url(#clip630)\" d=\"M1117.37 1139.97 L1117.37 1145.45 Q1114.89 1144.08 1112.38 1143.41 Q1109.89 1142.71 1107.35 1142.71 Q1101.65 1142.71 1098.5 1146.34 Q1095.35 1149.93 1095.35 1156.46 Q1095.35 1162.98 1098.5 1166.61 Q1101.65 1170.21 1107.35 1170.21 Q1109.89 1170.21 1112.38 1169.54 Q1114.89 1168.84 1117.37 1167.47 L1117.37 1172.88 Q1114.92 1174.03 1112.28 1174.6 Q1109.67 1175.17 1106.71 1175.17 Q1098.66 1175.17 1093.92 1170.11 Q1089.17 1165.05 1089.17 1156.46 Q1089.17 1147.74 1093.95 1142.74 Q1098.75 1137.74 1107.09 1137.74 Q1109.8 1137.74 1112.38 1138.32 Q1114.95 1138.86 1117.37 1139.97 Z\" fill=\"#000000\" fill-rule=\"evenodd\" fill-opacity=\"1\" /><path clip-path=\"url(#clip630)\" d=\"M1157.19 1152.74 L1157.19 1174.25 L1151.33 1174.25 L1151.33 1152.93 Q1151.33 1147.87 1149.36 1145.35 Q1147.39 1142.84 1143.44 1142.84 Q1138.7 1142.84 1135.96 1145.86 Q1133.22 1148.88 1133.22 1154.1 L1133.22 1174.25 L1127.34 1174.25 L1127.34 1124.73 L1133.22 1124.73 L1133.22 1144.14 Q1135.32 1140.93 1138.16 1139.34 Q1141.02 1137.74 1144.75 1137.74 Q1150.89 1137.74 1154.04 1141.56 Q1157.19 1145.35 1157.19 1152.74 Z\" fill=\"#000000\" fill-rule=\"evenodd\" fill-opacity=\"1\" /><path clip-path=\"url(#clip630)\" d=\"M1191.6 1139.65 L1191.6 1145.19 Q1189.11 1143.92 1186.44 1143.28 Q1183.77 1142.65 1180.9 1142.65 Q1176.54 1142.65 1174.35 1143.98 Q1172.18 1145.32 1172.18 1147.99 Q1172.18 1150.03 1173.74 1151.21 Q1175.3 1152.35 1180.01 1153.4 L1182.02 1153.85 Q1188.26 1155.19 1190.87 1157.64 Q1193.51 1160.06 1193.51 1164.42 Q1193.51 1169.38 1189.56 1172.28 Q1185.65 1175.17 1178.77 1175.17 Q1175.91 1175.17 1172.79 1174.6 Q1169.7 1174.06 1166.26 1172.95 L1166.26 1166.9 Q1169.51 1168.59 1172.66 1169.45 Q1175.81 1170.27 1178.9 1170.27 Q1183.04 1170.27 1185.26 1168.87 Q1187.49 1167.44 1187.49 1164.86 Q1187.49 1162.48 1185.87 1161.2 Q1184.28 1159.93 1178.83 1158.75 L1176.8 1158.27 Q1171.35 1157.13 1168.94 1154.77 Q1166.52 1152.39 1166.52 1148.25 Q1166.52 1143.22 1170.08 1140.48 Q1173.65 1137.74 1180.2 1137.74 Q1183.45 1137.74 1186.31 1138.22 Q1189.18 1138.7 1191.6 1139.65 Z\" fill=\"#000000\" fill-rule=\"evenodd\" fill-opacity=\"1\" /><polyline clip-path=\"url(#clip632)\" style=\"stroke:#000000; stroke-linecap:butt; stroke-linejoin:round; stroke-width:2; stroke-opacity:0.1; fill:none\" points=\"\n  210.281,904.406 1952.76,904.406 \n  \"/>\n<polyline clip-path=\"url(#clip632)\" style=\"stroke:#000000; stroke-linecap:butt; stroke-linejoin:round; stroke-width:2; stroke-opacity:0.1; fill:none\" points=\"\n  210.281,669.47 1952.76,669.47 \n  \"/>\n<polyline clip-path=\"url(#clip632)\" style=\"stroke:#000000; stroke-linecap:butt; stroke-linejoin:round; stroke-width:2; stroke-opacity:0.1; fill:none\" points=\"\n  210.281,434.534 1952.76,434.534 \n  \"/>\n<polyline clip-path=\"url(#clip632)\" style=\"stroke:#000000; stroke-linecap:butt; stroke-linejoin:round; stroke-width:2; stroke-opacity:0.1; fill:none\" points=\"\n  210.281,199.597 1952.76,199.597 \n  \"/>\n<polyline clip-path=\"url(#clip630)\" style=\"stroke:#000000; stroke-linecap:butt; stroke-linejoin:round; stroke-width:4; stroke-opacity:1; fill:none\" points=\"\n  210.281,1035.39 210.281,117.424 \n  \"/>\n<polyline clip-path=\"url(#clip630)\" style=\"stroke:#000000; stroke-linecap:butt; stroke-linejoin:round; stroke-width:4; stroke-opacity:1; fill:none\" points=\"\n  210.281,904.406 229.179,904.406 \n  \"/>\n<polyline clip-path=\"url(#clip630)\" style=\"stroke:#000000; stroke-linecap:butt; stroke-linejoin:round; stroke-width:4; stroke-opacity:1; fill:none\" points=\"\n  210.281,669.47 229.179,669.47 \n  \"/>\n<polyline clip-path=\"url(#clip630)\" style=\"stroke:#000000; stroke-linecap:butt; stroke-linejoin:round; stroke-width:4; stroke-opacity:1; fill:none\" points=\"\n  210.281,434.534 229.179,434.534 \n  \"/>\n<polyline clip-path=\"url(#clip630)\" style=\"stroke:#000000; stroke-linecap:butt; stroke-linejoin:round; stroke-width:4; stroke-opacity:1; fill:none\" points=\"\n  210.281,199.597 229.179,199.597 \n  \"/>\n<path clip-path=\"url(#clip630)\" d=\"M113.916 917.751 L121.554 917.751 L121.554 891.385 L113.244 893.052 L113.244 888.793 L121.508 887.126 L126.184 887.126 L126.184 917.751 L133.823 917.751 L133.823 921.686 L113.916 921.686 L113.916 917.751 Z\" fill=\"#000000\" fill-rule=\"evenodd\" fill-opacity=\"1\" /><path clip-path=\"url(#clip630)\" d=\"M143.267 915.807 L148.151 915.807 L148.151 921.686 L143.267 921.686 L143.267 915.807 Z\" fill=\"#000000\" fill-rule=\"evenodd\" fill-opacity=\"1\" /><path clip-path=\"url(#clip630)\" d=\"M168.337 890.205 Q164.725 890.205 162.897 893.77 Q161.091 897.311 161.091 904.441 Q161.091 911.547 162.897 915.112 Q164.725 918.654 168.337 918.654 Q171.971 918.654 173.776 915.112 Q175.605 911.547 175.605 904.441 Q175.605 897.311 173.776 893.77 Q171.971 890.205 168.337 890.205 M168.337 886.501 Q174.147 886.501 177.202 891.108 Q180.281 895.691 180.281 904.441 Q180.281 913.168 177.202 917.774 Q174.147 922.357 168.337 922.357 Q162.526 922.357 159.448 917.774 Q156.392 913.168 156.392 904.441 Q156.392 895.691 159.448 891.108 Q162.526 886.501 168.337 886.501 Z\" fill=\"#000000\" fill-rule=\"evenodd\" fill-opacity=\"1\" /><path clip-path=\"url(#clip630)\" d=\"M114.911 682.815 L122.55 682.815 L122.55 656.449 L114.24 658.116 L114.24 653.857 L122.503 652.19 L127.179 652.19 L127.179 682.815 L134.818 682.815 L134.818 686.75 L114.911 686.75 L114.911 682.815 Z\" fill=\"#000000\" fill-rule=\"evenodd\" fill-opacity=\"1\" /><path clip-path=\"url(#clip630)\" d=\"M144.263 680.87 L149.147 680.87 L149.147 686.75 L144.263 686.75 L144.263 680.87 Z\" fill=\"#000000\" fill-rule=\"evenodd\" fill-opacity=\"1\" /><path clip-path=\"url(#clip630)\" d=\"M159.378 652.19 L177.735 652.19 L177.735 656.125 L163.661 656.125 L163.661 664.597 Q164.679 664.25 165.698 664.088 Q166.716 663.903 167.735 663.903 Q173.522 663.903 176.901 667.074 Q180.281 670.245 180.281 675.662 Q180.281 681.241 176.809 684.342 Q173.337 687.421 167.017 687.421 Q164.841 687.421 162.573 687.051 Q160.327 686.68 157.92 685.94 L157.92 681.241 Q160.003 682.375 162.225 682.93 Q164.448 683.486 166.925 683.486 Q170.929 683.486 173.267 681.38 Q175.605 679.273 175.605 675.662 Q175.605 672.051 173.267 669.944 Q170.929 667.838 166.925 667.838 Q165.05 667.838 163.175 668.255 Q161.323 668.671 159.378 669.551 L159.378 652.19 Z\" fill=\"#000000\" fill-rule=\"evenodd\" fill-opacity=\"1\" /><path clip-path=\"url(#clip630)\" d=\"M117.133 447.878 L133.452 447.878 L133.452 451.814 L111.508 451.814 L111.508 447.878 Q114.17 445.124 118.753 440.494 Q123.36 435.841 124.54 434.499 Q126.786 431.976 127.665 430.24 Q128.568 428.48 128.568 426.791 Q128.568 424.036 126.624 422.3 Q124.703 420.564 121.601 420.564 Q119.402 420.564 116.948 421.328 Q114.517 422.091 111.74 423.642 L111.74 418.92 Q114.564 417.786 117.017 417.207 Q119.471 416.629 121.508 416.629 Q126.878 416.629 130.073 419.314 Q133.267 421.999 133.267 426.49 Q133.267 428.619 132.457 430.541 Q131.67 432.439 129.564 435.031 Q128.985 435.703 125.883 438.92 Q122.781 442.115 117.133 447.878 Z\" fill=\"#000000\" fill-rule=\"evenodd\" fill-opacity=\"1\" /><path clip-path=\"url(#clip630)\" d=\"M143.267 445.934 L148.151 445.934 L148.151 451.814 L143.267 451.814 L143.267 445.934 Z\" fill=\"#000000\" fill-rule=\"evenodd\" fill-opacity=\"1\" /><path clip-path=\"url(#clip630)\" d=\"M168.337 420.332 Q164.725 420.332 162.897 423.897 Q161.091 427.439 161.091 434.568 Q161.091 441.675 162.897 445.239 Q164.725 448.781 168.337 448.781 Q171.971 448.781 173.776 445.239 Q175.605 441.675 175.605 434.568 Q175.605 427.439 173.776 423.897 Q171.971 420.332 168.337 420.332 M168.337 416.629 Q174.147 416.629 177.202 421.235 Q180.281 425.818 180.281 434.568 Q180.281 443.295 177.202 447.902 Q174.147 452.485 168.337 452.485 Q162.526 452.485 159.448 447.902 Q156.392 443.295 156.392 434.568 Q156.392 425.818 159.448 421.235 Q162.526 416.629 168.337 416.629 Z\" fill=\"#000000\" fill-rule=\"evenodd\" fill-opacity=\"1\" /><path clip-path=\"url(#clip630)\" d=\"M118.128 212.942 L134.448 212.942 L134.448 216.877 L112.504 216.877 L112.504 212.942 Q115.166 210.187 119.749 205.558 Q124.355 200.905 125.536 199.562 Q127.781 197.039 128.661 195.303 Q129.564 193.544 129.564 191.854 Q129.564 189.1 127.619 187.363 Q125.698 185.627 122.596 185.627 Q120.397 185.627 117.943 186.391 Q115.513 187.155 112.735 188.706 L112.735 183.984 Q115.559 182.85 118.013 182.271 Q120.466 181.692 122.503 181.692 Q127.874 181.692 131.068 184.377 Q134.263 187.063 134.263 191.553 Q134.263 193.683 133.452 195.604 Q132.665 197.502 130.559 200.095 Q129.98 200.766 126.878 203.984 Q123.777 207.178 118.128 212.942 Z\" fill=\"#000000\" fill-rule=\"evenodd\" fill-opacity=\"1\" /><path clip-path=\"url(#clip630)\" d=\"M144.263 210.998 L149.147 210.998 L149.147 216.877 L144.263 216.877 L144.263 210.998 Z\" fill=\"#000000\" fill-rule=\"evenodd\" fill-opacity=\"1\" /><path clip-path=\"url(#clip630)\" d=\"M159.378 182.317 L177.735 182.317 L177.735 186.252 L163.661 186.252 L163.661 194.725 Q164.679 194.377 165.698 194.215 Q166.716 194.03 167.735 194.03 Q173.522 194.03 176.901 197.201 Q180.281 200.373 180.281 205.789 Q180.281 211.368 176.809 214.47 Q173.337 217.549 167.017 217.549 Q164.841 217.549 162.573 217.178 Q160.327 216.808 157.92 216.067 L157.92 211.368 Q160.003 212.502 162.225 213.058 Q164.448 213.613 166.925 213.613 Q170.929 213.613 173.267 211.507 Q175.605 209.4 175.605 205.789 Q175.605 202.178 173.267 200.072 Q170.929 197.965 166.925 197.965 Q165.05 197.965 163.175 198.382 Q161.323 198.799 159.378 199.678 L159.378 182.317 Z\" fill=\"#000000\" fill-rule=\"evenodd\" fill-opacity=\"1\" /><path clip-path=\"url(#clip630)\" d=\"M23.3924 835.172 L30.1719 835.172 Q27.1482 838.418 25.6523 842.111 Q24.1563 845.771 24.1563 849.909 Q24.1563 858.057 29.1534 862.385 Q34.1187 866.714 43.5399 866.714 Q52.9293 866.714 57.9264 862.385 Q62.8916 858.057 62.8916 849.909 Q62.8916 845.771 61.3957 842.111 Q59.8998 838.418 56.8761 835.172 L63.5919 835.172 Q65.8835 838.546 67.0294 842.333 Q68.1752 846.089 68.1752 850.291 Q68.1752 861.08 61.5867 867.287 Q54.9663 873.494 43.5399 873.494 Q32.0816 873.494 25.4931 867.287 Q18.8728 861.08 18.8728 850.291 Q18.8728 846.025 20.0186 842.27 Q21.1326 838.482 23.3924 835.172 Z\" fill=\"#000000\" fill-rule=\"evenodd\" fill-opacity=\"1\" /><path clip-path=\"url(#clip630)\" d=\"M37.0787 804.839 Q36.5058 805.826 36.2512 807.004 Q35.9647 808.15 35.9647 809.55 Q35.9647 814.515 39.2112 817.189 Q42.4259 819.831 48.4733 819.831 L67.2522 819.831 L67.2522 825.719 L31.6042 825.719 L31.6042 819.831 L37.1424 819.831 Q33.8959 817.985 32.3363 815.024 Q30.7448 812.064 30.7448 807.831 Q30.7448 807.227 30.8403 806.494 Q30.904 805.762 31.0631 804.871 L37.0787 804.839 Z\" fill=\"#000000\" fill-rule=\"evenodd\" fill-opacity=\"1\" /><path clip-path=\"url(#clip630)\" d=\"M35.7101 786.315 Q35.7101 791.026 39.4022 793.763 Q43.0625 796.5 49.46 796.5 Q55.8575 796.5 59.5497 793.795 Q63.2099 791.058 63.2099 786.315 Q63.2099 781.636 59.5178 778.899 Q55.8257 776.162 49.46 776.162 Q43.1261 776.162 39.434 778.899 Q35.7101 781.636 35.7101 786.315 M30.7448 786.315 Q30.7448 778.676 35.7101 774.316 Q40.6753 769.955 49.46 769.955 Q58.2129 769.955 63.2099 774.316 Q68.1752 778.676 68.1752 786.315 Q68.1752 793.986 63.2099 798.346 Q58.2129 802.675 49.46 802.675 Q40.6753 802.675 35.7101 798.346 Q30.7448 793.986 30.7448 786.315 Z\" fill=\"#000000\" fill-rule=\"evenodd\" fill-opacity=\"1\" /><path clip-path=\"url(#clip630)\" d=\"M32.6545 737.522 L38.1927 737.522 Q36.9196 740.005 36.283 742.678 Q35.6464 745.352 35.6464 748.216 Q35.6464 752.577 36.9832 754.773 Q38.32 756.937 40.9936 756.937 Q43.0306 756.937 44.2083 755.378 Q45.3541 753.818 46.4045 749.108 L46.8501 747.102 Q48.1869 740.864 50.6377 738.254 Q53.0566 735.612 57.4171 735.612 Q62.3824 735.612 65.2788 739.559 Q68.1752 743.474 68.1752 750.349 Q68.1752 753.213 67.6023 756.333 Q67.0612 759.42 65.9472 762.858 L59.8998 762.858 Q61.5867 759.611 62.446 756.46 Q63.2736 753.309 63.2736 750.222 Q63.2736 746.084 61.8731 743.856 Q60.4409 741.628 57.8627 741.628 Q55.4756 741.628 54.2025 743.251 Q52.9293 744.843 51.7517 750.285 L51.2742 752.322 Q50.1284 757.765 47.7731 760.184 Q45.386 762.603 41.2482 762.603 Q36.2193 762.603 33.4821 759.038 Q30.7448 755.473 30.7448 748.917 Q30.7448 745.67 31.2223 742.806 Q31.6997 739.941 32.6545 737.522 Z\" fill=\"#000000\" fill-rule=\"evenodd\" fill-opacity=\"1\" /><path clip-path=\"url(#clip630)\" d=\"M32.6545 703.561 L38.1927 703.561 Q36.9196 706.044 36.283 708.717 Q35.6464 711.391 35.6464 714.255 Q35.6464 718.616 36.9832 720.812 Q38.32 722.976 40.9936 722.976 Q43.0306 722.976 44.2083 721.417 Q45.3541 719.857 46.4045 715.147 L46.8501 713.141 Q48.1869 706.903 50.6377 704.293 Q53.0566 701.651 57.4171 701.651 Q62.3824 701.651 65.2788 705.598 Q68.1752 709.513 68.1752 716.388 Q68.1752 719.252 67.6023 722.372 Q67.0612 725.459 65.9472 728.896 L59.8998 728.896 Q61.5867 725.65 62.446 722.499 Q63.2736 719.348 63.2736 716.261 Q63.2736 712.123 61.8731 709.895 Q60.4409 707.667 57.8627 707.667 Q55.4756 707.667 54.2025 709.29 Q52.9293 710.882 51.7517 716.324 L51.2742 718.361 Q50.1284 723.804 47.7731 726.223 Q45.386 728.642 41.2482 728.642 Q36.2193 728.642 33.4821 725.077 Q30.7448 721.512 30.7448 714.956 Q30.7448 711.709 31.2223 708.845 Q31.6997 705.98 32.6545 703.561 Z\" fill=\"#000000\" fill-rule=\"evenodd\" fill-opacity=\"1\" /><path clip-path=\"url(#clip630)\" d=\"M46.7864 695.286 L46.7864 678.13 L52.0063 678.13 L52.0063 695.286 L46.7864 695.286 Z\" fill=\"#000000\" fill-rule=\"evenodd\" fill-opacity=\"1\" /><path clip-path=\"url(#clip630)\" d=\"M47.9641 638.312 L50.8286 638.312 L50.8286 665.239 Q56.8761 664.857 60.0589 661.611 Q63.2099 658.333 63.2099 652.508 Q63.2099 649.134 62.3824 645.983 Q61.5549 642.8 59.8998 639.681 L65.4379 639.681 Q66.7747 642.832 67.475 646.142 Q68.1752 649.452 68.1752 652.858 Q68.1752 661.388 63.2099 666.385 Q58.2447 671.35 49.7783 671.35 Q41.0254 671.35 35.9011 666.64 Q30.7448 661.897 30.7448 653.877 Q30.7448 646.683 35.3918 642.514 Q40.0069 638.312 47.9641 638.312 M46.2453 644.169 Q41.4392 644.233 38.5746 646.874 Q35.7101 649.484 35.7101 653.813 Q35.7101 658.715 38.4792 661.675 Q41.2482 664.603 46.2772 665.048 L46.2453 644.169 Z\" fill=\"#000000\" fill-rule=\"evenodd\" fill-opacity=\"1\" /><path clip-path=\"url(#clip630)\" d=\"M45.7361 599.068 L67.2522 599.068 L67.2522 604.924 L45.927 604.924 Q40.8663 604.924 38.3518 606.898 Q35.8374 608.871 35.8374 612.818 Q35.8374 617.56 38.8611 620.298 Q41.8848 623.035 47.1047 623.035 L67.2522 623.035 L67.2522 628.923 L31.6042 628.923 L31.6042 623.035 L37.1424 623.035 Q33.9277 620.934 32.3363 618.101 Q30.7448 615.237 30.7448 611.513 Q30.7448 605.37 34.5643 602.219 Q38.3518 599.068 45.7361 599.068 Z\" fill=\"#000000\" fill-rule=\"evenodd\" fill-opacity=\"1\" /><path clip-path=\"url(#clip630)\" d=\"M21.4827 581.594 L31.6042 581.594 L31.6042 569.531 L36.1557 569.531 L36.1557 581.594 L55.5074 581.594 Q59.8679 581.594 61.1093 580.416 Q62.3506 579.207 62.3506 575.547 L62.3506 569.531 L67.2522 569.531 L67.2522 575.547 Q67.2522 582.326 64.7377 584.904 Q62.1914 587.482 55.5074 587.482 L36.1557 587.482 L36.1557 591.779 L31.6042 591.779 L31.6042 587.482 L21.4827 587.482 L21.4827 581.594 Z\" fill=\"#000000\" fill-rule=\"evenodd\" fill-opacity=\"1\" /><path clip-path=\"url(#clip630)\" d=\"M37.0787 541.172 Q36.5058 542.158 36.2512 543.336 Q35.9647 544.482 35.9647 545.882 Q35.9647 550.848 39.2112 553.521 Q42.4259 556.163 48.4733 556.163 L67.2522 556.163 L67.2522 562.051 L31.6042 562.051 L31.6042 556.163 L37.1424 556.163 Q33.8959 554.317 32.3363 551.357 Q30.7448 548.397 30.7448 544.164 Q30.7448 543.559 30.8403 542.827 Q30.904 542.095 31.0631 541.204 L37.0787 541.172 Z\" fill=\"#000000\" fill-rule=\"evenodd\" fill-opacity=\"1\" /><path clip-path=\"url(#clip630)\" d=\"M35.7101 522.648 Q35.7101 527.358 39.4022 530.095 Q43.0625 532.833 49.46 532.833 Q55.8575 532.833 59.5497 530.127 Q63.2099 527.39 63.2099 522.648 Q63.2099 517.969 59.5178 515.232 Q55.8257 512.494 49.46 512.494 Q43.1261 512.494 39.434 515.232 Q35.7101 517.969 35.7101 522.648 M30.7448 522.648 Q30.7448 515.009 35.7101 510.648 Q40.6753 506.288 49.46 506.288 Q58.2129 506.288 63.2099 510.648 Q68.1752 515.009 68.1752 522.648 Q68.1752 530.318 63.2099 534.679 Q58.2129 539.007 49.46 539.007 Q40.6753 539.007 35.7101 534.679 Q30.7448 530.318 30.7448 522.648 Z\" fill=\"#000000\" fill-rule=\"evenodd\" fill-opacity=\"1\" /><path clip-path=\"url(#clip630)\" d=\"M61.905 490.915 L80.8111 490.915 L80.8111 496.803 L31.6042 496.803 L31.6042 490.915 L37.0151 490.915 Q33.8322 489.068 32.3044 486.268 Q30.7448 483.435 30.7448 479.52 Q30.7448 473.027 35.9011 468.985 Q41.0573 464.911 49.46 464.911 Q57.8627 464.911 63.019 468.985 Q68.1752 473.027 68.1752 479.52 Q68.1752 483.435 66.6474 486.268 Q65.0878 489.068 61.905 490.915 M49.46 470.99 Q42.9988 470.99 39.3385 473.663 Q35.6464 476.305 35.6464 480.952 Q35.6464 485.599 39.3385 488.273 Q42.9988 490.915 49.46 490.915 Q55.9212 490.915 59.6133 488.273 Q63.2736 485.599 63.2736 480.952 Q63.2736 476.305 59.6133 473.663 Q55.9212 470.99 49.46 470.99 Z\" fill=\"#000000\" fill-rule=\"evenodd\" fill-opacity=\"1\" /><path clip-path=\"url(#clip630)\" d=\"M70.5623 440.371 Q76.928 442.853 78.8696 445.209 Q80.8111 447.564 80.8111 451.511 L80.8111 456.19 L75.9095 456.19 L75.9095 452.752 Q75.9095 450.333 74.7637 448.996 Q73.6179 447.66 69.3528 446.036 L66.6792 444.986 L31.6042 459.404 L31.6042 453.198 L59.486 442.058 L31.6042 430.918 L31.6042 424.711 L70.5623 440.371 Z\" fill=\"#000000\" fill-rule=\"evenodd\" fill-opacity=\"1\" /><path clip-path=\"url(#clip630)\" d=\"M17.727 395.906 L17.727 390.05 L67.2522 390.05 L67.2522 395.906 L17.727 395.906 Z\" fill=\"#000000\" fill-rule=\"evenodd\" fill-opacity=\"1\" /><path clip-path=\"url(#clip630)\" d=\"M35.7101 363.982 Q35.7101 368.693 39.4022 371.43 Q43.0625 374.167 49.46 374.167 Q55.8575 374.167 59.5497 371.462 Q63.2099 368.725 63.2099 363.982 Q63.2099 359.304 59.5178 356.566 Q55.8257 353.829 49.46 353.829 Q43.1261 353.829 39.434 356.566 Q35.7101 359.304 35.7101 363.982 M30.7448 363.982 Q30.7448 356.344 35.7101 351.983 Q40.6753 347.622 49.46 347.622 Q58.2129 347.622 63.2099 351.983 Q68.1752 356.344 68.1752 363.982 Q68.1752 371.653 63.2099 376.014 Q58.2129 380.342 49.46 380.342 Q40.6753 380.342 35.7101 376.014 Q30.7448 371.653 30.7448 363.982 Z\" fill=\"#000000\" fill-rule=\"evenodd\" fill-opacity=\"1\" /><path clip-path=\"url(#clip630)\" d=\"M32.6545 315.189 L38.1927 315.189 Q36.9196 317.672 36.283 320.345 Q35.6464 323.019 35.6464 325.884 Q35.6464 330.244 36.9832 332.44 Q38.32 334.605 40.9936 334.605 Q43.0306 334.605 44.2083 333.045 Q45.3541 331.485 46.4045 326.775 L46.8501 324.77 Q48.1869 318.531 50.6377 315.921 Q53.0566 313.28 57.4171 313.28 Q62.3824 313.28 65.2788 317.226 Q68.1752 321.141 68.1752 328.016 Q68.1752 330.881 67.6023 334 Q67.0612 337.087 65.9472 340.525 L59.8998 340.525 Q61.5867 337.278 62.446 334.127 Q63.2736 330.976 63.2736 327.889 Q63.2736 323.751 61.8731 321.523 Q60.4409 319.295 57.8627 319.295 Q55.4756 319.295 54.2025 320.918 Q52.9293 322.51 51.7517 327.952 L51.2742 329.989 Q50.1284 335.432 47.7731 337.851 Q45.386 340.27 41.2482 340.27 Q36.2193 340.27 33.4821 336.705 Q30.7448 333.141 30.7448 326.584 Q30.7448 323.337 31.2223 320.473 Q31.6997 317.608 32.6545 315.189 Z\" fill=\"#000000\" fill-rule=\"evenodd\" fill-opacity=\"1\" /><path clip-path=\"url(#clip630)\" d=\"M32.6545 281.228 L38.1927 281.228 Q36.9196 283.711 36.283 286.384 Q35.6464 289.058 35.6464 291.923 Q35.6464 296.283 36.9832 298.479 Q38.32 300.644 40.9936 300.644 Q43.0306 300.644 44.2083 299.084 Q45.3541 297.524 46.4045 292.814 L46.8501 290.809 Q48.1869 284.57 50.6377 281.96 Q53.0566 279.318 57.4171 279.318 Q62.3824 279.318 65.2788 283.265 Q68.1752 287.18 68.1752 294.055 Q68.1752 296.92 67.6023 300.039 Q67.0612 303.126 65.9472 306.564 L59.8998 306.564 Q61.5867 303.317 62.446 300.166 Q63.2736 297.015 63.2736 293.928 Q63.2736 289.79 61.8731 287.562 Q60.4409 285.334 57.8627 285.334 Q55.4756 285.334 54.2025 286.957 Q52.9293 288.549 51.7517 293.991 L51.2742 296.028 Q50.1284 301.471 47.7731 303.89 Q45.386 306.309 41.2482 306.309 Q36.2193 306.309 33.4821 302.744 Q30.7448 299.179 30.7448 292.623 Q30.7448 289.376 31.2223 286.512 Q31.6997 283.647 32.6545 281.228 Z\" fill=\"#000000\" fill-rule=\"evenodd\" fill-opacity=\"1\" /><path clip-path=\"url(#clip630)\" d=\"M805.368 12.096 L843.609 12.096 L843.609 18.9825 L813.551 18.9825 L813.551 36.8875 L842.353 36.8875 L842.353 43.7741 L813.551 43.7741 L813.551 65.6895 L844.338 65.6895 L844.338 72.576 L805.368 72.576 L805.368 12.096 Z\" fill=\"#000000\" fill-rule=\"evenodd\" fill-opacity=\"1\" /><path clip-path=\"url(#clip630)\" d=\"M883.753 34.1734 Q882.497 33.4443 880.999 33.1202 Q879.54 32.7556 877.758 32.7556 Q871.439 32.7556 868.036 36.8875 Q864.674 40.9789 864.674 48.6757 L864.674 72.576 L857.179 72.576 L857.179 27.2059 L864.674 27.2059 L864.674 34.2544 Q867.023 30.1225 870.79 28.1376 Q874.558 26.1121 879.945 26.1121 Q880.715 26.1121 881.647 26.2337 Q882.579 26.3147 883.713 26.5172 L883.753 34.1734 Z\" fill=\"#000000\" fill-rule=\"evenodd\" fill-opacity=\"1\" /><path clip-path=\"url(#clip630)\" d=\"M916.404 34.1734 Q915.148 33.4443 913.649 33.1202 Q912.191 32.7556 910.408 32.7556 Q904.089 32.7556 900.686 36.8875 Q897.324 40.9789 897.324 48.6757 L897.324 72.576 L889.83 72.576 L889.83 27.2059 L897.324 27.2059 L897.324 34.2544 Q899.673 30.1225 903.441 28.1376 Q907.208 26.1121 912.596 26.1121 Q913.365 26.1121 914.297 26.2337 Q915.229 26.3147 916.363 26.5172 L916.404 34.1734 Z\" fill=\"#000000\" fill-rule=\"evenodd\" fill-opacity=\"1\" /><path clip-path=\"url(#clip630)\" d=\"M939.98 32.4315 Q933.984 32.4315 930.501 37.1306 Q927.017 41.7891 927.017 49.9314 Q927.017 58.0738 930.46 62.7728 Q933.944 67.4314 939.98 67.4314 Q945.935 67.4314 949.418 62.7323 Q952.902 58.0333 952.902 49.9314 Q952.902 41.8701 949.418 37.1711 Q945.935 32.4315 939.98 32.4315 M939.98 26.1121 Q949.702 26.1121 955.252 32.4315 Q960.801 38.7509 960.801 49.9314 Q960.801 61.0714 955.252 67.4314 Q949.702 73.7508 939.98 73.7508 Q930.217 73.7508 924.667 67.4314 Q919.158 61.0714 919.158 49.9314 Q919.158 38.7509 924.667 32.4315 Q930.217 26.1121 939.98 26.1121 Z\" fill=\"#000000\" fill-rule=\"evenodd\" fill-opacity=\"1\" /><path clip-path=\"url(#clip630)\" d=\"M999.447 34.1734 Q998.191 33.4443 996.692 33.1202 Q995.234 32.7556 993.452 32.7556 Q987.132 32.7556 983.73 36.8875 Q980.367 40.9789 980.367 48.6757 L980.367 72.576 L972.873 72.576 L972.873 27.2059 L980.367 27.2059 L980.367 34.2544 Q982.717 30.1225 986.484 28.1376 Q990.252 26.1121 995.639 26.1121 Q996.409 26.1121 997.341 26.2337 Q998.272 26.3147 999.407 26.5172 L999.447 34.1734 Z\" fill=\"#000000\" fill-rule=\"evenodd\" fill-opacity=\"1\" /><path clip-path=\"url(#clip630)\" d=\"M1056.61 9.54393 L1056.61 15.7418 L1049.48 15.7418 Q1045.47 15.7418 1043.89 17.3622 Q1042.35 18.9825 1042.35 23.1955 L1042.35 27.2059 L1054.62 27.2059 L1054.62 32.9987 L1042.35 32.9987 L1042.35 72.576 L1034.85 72.576 L1034.85 32.9987 L1027.72 32.9987 L1027.72 27.2059 L1034.85 27.2059 L1034.85 24.0462 Q1034.85 16.471 1038.38 13.0277 Q1041.9 9.54393 1049.56 9.54393 L1056.61 9.54393 Z\" fill=\"#000000\" fill-rule=\"evenodd\" fill-opacity=\"1\" /><path clip-path=\"url(#clip630)\" d=\"M1062.07 54.671 L1062.07 27.2059 L1069.53 27.2059 L1069.53 54.3874 Q1069.53 60.8284 1072.04 64.0691 Q1074.55 67.2693 1079.57 67.2693 Q1085.61 67.2693 1089.09 63.421 Q1092.62 59.5726 1092.62 52.9291 L1092.62 27.2059 L1100.07 27.2059 L1100.07 72.576 L1092.62 72.576 L1092.62 65.6084 Q1089.9 69.7404 1086.3 71.7658 Q1082.73 73.7508 1077.99 73.7508 Q1070.18 73.7508 1066.12 68.8897 Q1062.07 64.0286 1062.07 54.671 M1080.83 26.1121 L1080.83 26.1121 Z\" fill=\"#000000\" fill-rule=\"evenodd\" fill-opacity=\"1\" /><path clip-path=\"url(#clip630)\" d=\"M1153.14 45.1919 L1153.14 72.576 L1145.68 72.576 L1145.68 45.4349 Q1145.68 38.994 1143.17 35.7938 Q1140.66 32.5936 1135.64 32.5936 Q1129.6 32.5936 1126.12 36.4419 Q1122.64 40.2903 1122.64 46.9338 L1122.64 72.576 L1115.14 72.576 L1115.14 27.2059 L1122.64 27.2059 L1122.64 34.2544 Q1125.31 30.163 1128.91 28.1376 Q1132.56 26.1121 1137.3 26.1121 Q1145.12 26.1121 1149.13 30.9732 Q1153.14 35.7938 1153.14 45.1919 Z\" fill=\"#000000\" fill-rule=\"evenodd\" fill-opacity=\"1\" /><path clip-path=\"url(#clip630)\" d=\"M1200.66 28.9478 L1200.66 35.9153 Q1197.5 34.1734 1194.3 33.3227 Q1191.14 32.4315 1187.9 32.4315 Q1180.64 32.4315 1176.63 37.0496 Q1172.62 41.6271 1172.62 49.9314 Q1172.62 58.2358 1176.63 62.8538 Q1180.64 67.4314 1187.9 67.4314 Q1191.14 67.4314 1194.3 66.5807 Q1197.5 65.6895 1200.66 63.9476 L1200.66 70.8341 Q1197.54 72.2924 1194.17 73.0216 Q1190.85 73.7508 1187.08 73.7508 Q1176.84 73.7508 1170.8 67.3098 Q1164.76 60.8689 1164.76 49.9314 Q1164.76 38.832 1170.84 32.472 Q1176.96 26.1121 1187.57 26.1121 Q1191.01 26.1121 1194.3 26.8413 Q1197.58 27.5299 1200.66 28.9478 Z\" fill=\"#000000\" fill-rule=\"evenodd\" fill-opacity=\"1\" /><path clip-path=\"url(#clip630)\" d=\"M1220.99 14.324 L1220.99 27.2059 L1236.34 27.2059 L1236.34 32.9987 L1220.99 32.9987 L1220.99 57.6282 Q1220.99 63.1779 1222.49 64.7578 Q1224.03 66.3376 1228.69 66.3376 L1236.34 66.3376 L1236.34 72.576 L1228.69 72.576 Q1220.06 72.576 1216.78 69.3758 Q1213.5 66.1351 1213.5 57.6282 L1213.5 32.9987 L1208.03 32.9987 L1208.03 27.2059 L1213.5 27.2059 L1213.5 14.324 L1220.99 14.324 Z\" fill=\"#000000\" fill-rule=\"evenodd\" fill-opacity=\"1\" /><path clip-path=\"url(#clip630)\" d=\"M1246.15 27.2059 L1253.6 27.2059 L1253.6 72.576 L1246.15 72.576 L1246.15 27.2059 M1246.15 9.54393 L1253.6 9.54393 L1253.6 18.9825 L1246.15 18.9825 L1246.15 9.54393 Z\" fill=\"#000000\" fill-rule=\"evenodd\" fill-opacity=\"1\" /><path clip-path=\"url(#clip630)\" d=\"M1286.78 32.4315 Q1280.78 32.4315 1277.3 37.1306 Q1273.81 41.7891 1273.81 49.9314 Q1273.81 58.0738 1277.26 62.7728 Q1280.74 67.4314 1286.78 67.4314 Q1292.73 67.4314 1296.22 62.7323 Q1299.7 58.0333 1299.7 49.9314 Q1299.7 41.8701 1296.22 37.1711 Q1292.73 32.4315 1286.78 32.4315 M1286.78 26.1121 Q1296.5 26.1121 1302.05 32.4315 Q1307.6 38.7509 1307.6 49.9314 Q1307.6 61.0714 1302.05 67.4314 Q1296.5 73.7508 1286.78 73.7508 Q1277.02 73.7508 1271.47 67.4314 Q1265.96 61.0714 1265.96 49.9314 Q1265.96 38.7509 1271.47 32.4315 Q1277.02 26.1121 1286.78 26.1121 Z\" fill=\"#000000\" fill-rule=\"evenodd\" fill-opacity=\"1\" /><path clip-path=\"url(#clip630)\" d=\"M1357.67 45.1919 L1357.67 72.576 L1350.21 72.576 L1350.21 45.4349 Q1350.21 38.994 1347.7 35.7938 Q1345.19 32.5936 1340.17 32.5936 Q1334.13 32.5936 1330.65 36.4419 Q1327.17 40.2903 1327.17 46.9338 L1327.17 72.576 L1319.67 72.576 L1319.67 27.2059 L1327.17 27.2059 L1327.17 34.2544 Q1329.84 30.163 1333.44 28.1376 Q1337.09 26.1121 1341.83 26.1121 Q1349.65 26.1121 1353.66 30.9732 Q1357.67 35.7938 1357.67 45.1919 Z\" fill=\"#000000\" fill-rule=\"evenodd\" fill-opacity=\"1\" /><polyline clip-path=\"url(#clip632)\" style=\"stroke:#009af9; stroke-linecap:butt; stroke-linejoin:round; stroke-width:8; stroke-opacity:1; fill:none\" points=\"\n  259.596,143.404 1903.44,1009.41 \n  \"/>\n</svg>\n",
      "text/html": [
       "<?xml version=\"1.0\" encoding=\"utf-8\"?>\n",
       "<svg xmlns=\"http://www.w3.org/2000/svg\" xmlns:xlink=\"http://www.w3.org/1999/xlink\" width=\"500\" height=\"300\" viewBox=\"0 0 2000 1200\">\n",
       "<defs>\n",
       "  <clipPath id=\"clip680\">\n",
       "    <rect x=\"0\" y=\"0\" width=\"2000\" height=\"1200\"/>\n",
       "  </clipPath>\n",
       "</defs>\n",
       "<path clip-path=\"url(#clip680)\" d=\"\n",
       "M0 1200 L2000 1200 L2000 0 L0 0  Z\n",
       "  \" fill=\"#ffffff\" fill-rule=\"evenodd\" fill-opacity=\"1\"/>\n",
       "<defs>\n",
       "  <clipPath id=\"clip681\">\n",
       "    <rect x=\"400\" y=\"0\" width=\"1401\" height=\"1200\"/>\n",
       "  </clipPath>\n",
       "</defs>\n",
       "<path clip-path=\"url(#clip680)\" d=\"\n",
       "M210.281 1035.39 L1952.76 1035.39 L1952.76 117.424 L210.281 117.424  Z\n",
       "  \" fill=\"#ffffff\" fill-rule=\"evenodd\" fill-opacity=\"1\"/>\n",
       "<defs>\n",
       "  <clipPath id=\"clip682\">\n",
       "    <rect x=\"210\" y=\"117\" width=\"1743\" height=\"919\"/>\n",
       "  </clipPath>\n",
       "</defs>\n",
       "<polyline clip-path=\"url(#clip682)\" style=\"stroke:#000000; stroke-linecap:butt; stroke-linejoin:round; stroke-width:2; stroke-opacity:0.1; fill:none\" points=\"\n",
       "  259.596,1035.39 259.596,117.424 \n",
       "  \"/>\n",
       "<polyline clip-path=\"url(#clip682)\" style=\"stroke:#000000; stroke-linecap:butt; stroke-linejoin:round; stroke-width:2; stroke-opacity:0.1; fill:none\" points=\"\n",
       "  670.557,1035.39 670.557,117.424 \n",
       "  \"/>\n",
       "<polyline clip-path=\"url(#clip682)\" style=\"stroke:#000000; stroke-linecap:butt; stroke-linejoin:round; stroke-width:2; stroke-opacity:0.1; fill:none\" points=\"\n",
       "  1081.52,1035.39 1081.52,117.424 \n",
       "  \"/>\n",
       "<polyline clip-path=\"url(#clip682)\" style=\"stroke:#000000; stroke-linecap:butt; stroke-linejoin:round; stroke-width:2; stroke-opacity:0.1; fill:none\" points=\"\n",
       "  1492.48,1035.39 1492.48,117.424 \n",
       "  \"/>\n",
       "<polyline clip-path=\"url(#clip682)\" style=\"stroke:#000000; stroke-linecap:butt; stroke-linejoin:round; stroke-width:2; stroke-opacity:0.1; fill:none\" points=\"\n",
       "  1903.44,1035.39 1903.44,117.424 \n",
       "  \"/>\n",
       "<polyline clip-path=\"url(#clip680)\" style=\"stroke:#000000; stroke-linecap:butt; stroke-linejoin:round; stroke-width:4; stroke-opacity:1; fill:none\" points=\"\n",
       "  210.281,1035.39 1952.76,1035.39 \n",
       "  \"/>\n",
       "<polyline clip-path=\"url(#clip680)\" style=\"stroke:#000000; stroke-linecap:butt; stroke-linejoin:round; stroke-width:4; stroke-opacity:1; fill:none\" points=\"\n",
       "  259.596,1035.39 259.596,1016.49 \n",
       "  \"/>\n",
       "<polyline clip-path=\"url(#clip680)\" style=\"stroke:#000000; stroke-linecap:butt; stroke-linejoin:round; stroke-width:4; stroke-opacity:1; fill:none\" points=\"\n",
       "  670.557,1035.39 670.557,1016.49 \n",
       "  \"/>\n",
       "<polyline clip-path=\"url(#clip680)\" style=\"stroke:#000000; stroke-linecap:butt; stroke-linejoin:round; stroke-width:4; stroke-opacity:1; fill:none\" points=\"\n",
       "  1081.52,1035.39 1081.52,1016.49 \n",
       "  \"/>\n",
       "<polyline clip-path=\"url(#clip680)\" style=\"stroke:#000000; stroke-linecap:butt; stroke-linejoin:round; stroke-width:4; stroke-opacity:1; fill:none\" points=\"\n",
       "  1492.48,1035.39 1492.48,1016.49 \n",
       "  \"/>\n",
       "<polyline clip-path=\"url(#clip680)\" style=\"stroke:#000000; stroke-linecap:butt; stroke-linejoin:round; stroke-width:4; stroke-opacity:1; fill:none\" points=\"\n",
       "  1903.44,1035.39 1903.44,1016.49 \n",
       "  \"/>\n",
       "<path clip-path=\"url(#clip680)\" d=\"M221.9 1063.11 Q218.289 1063.11 216.46 1066.67 Q214.654 1070.21 214.654 1077.34 Q214.654 1084.45 216.46 1088.01 Q218.289 1091.56 221.9 1091.56 Q225.534 1091.56 227.339 1088.01 Q229.168 1084.45 229.168 1077.34 Q229.168 1070.21 227.339 1066.67 Q225.534 1063.11 221.9 1063.11 M221.9 1059.4 Q227.71 1059.4 230.765 1064.01 Q233.844 1068.59 233.844 1077.34 Q233.844 1086.07 230.765 1090.68 Q227.71 1095.26 221.9 1095.26 Q216.09 1095.26 213.011 1090.68 Q209.955 1086.07 209.955 1077.34 Q209.955 1068.59 213.011 1064.01 Q216.09 1059.4 221.9 1059.4 Z\" fill=\"#000000\" fill-rule=\"evenodd\" fill-opacity=\"1\" /><path clip-path=\"url(#clip680)\" d=\"M242.062 1088.71 L246.946 1088.71 L246.946 1094.59 L242.062 1094.59 L242.062 1088.71 Z\" fill=\"#000000\" fill-rule=\"evenodd\" fill-opacity=\"1\" /><path clip-path=\"url(#clip680)\" d=\"M267.131 1063.11 Q263.52 1063.11 261.691 1066.67 Q259.886 1070.21 259.886 1077.34 Q259.886 1084.45 261.691 1088.01 Q263.52 1091.56 267.131 1091.56 Q270.765 1091.56 272.571 1088.01 Q274.399 1084.45 274.399 1077.34 Q274.399 1070.21 272.571 1066.67 Q270.765 1063.11 267.131 1063.11 M267.131 1059.4 Q272.941 1059.4 275.997 1064.01 Q279.075 1068.59 279.075 1077.34 Q279.075 1086.07 275.997 1090.68 Q272.941 1095.26 267.131 1095.26 Q261.321 1095.26 258.242 1090.68 Q255.187 1086.07 255.187 1077.34 Q255.187 1068.59 258.242 1064.01 Q261.321 1059.4 267.131 1059.4 Z\" fill=\"#000000\" fill-rule=\"evenodd\" fill-opacity=\"1\" /><path clip-path=\"url(#clip680)\" d=\"M297.293 1063.11 Q293.682 1063.11 291.853 1066.67 Q290.047 1070.21 290.047 1077.34 Q290.047 1084.45 291.853 1088.01 Q293.682 1091.56 297.293 1091.56 Q300.927 1091.56 302.733 1088.01 Q304.561 1084.45 304.561 1077.34 Q304.561 1070.21 302.733 1066.67 Q300.927 1063.11 297.293 1063.11 M297.293 1059.4 Q303.103 1059.4 306.159 1064.01 Q309.237 1068.59 309.237 1077.34 Q309.237 1086.07 306.159 1090.68 Q303.103 1095.26 297.293 1095.26 Q291.483 1095.26 288.404 1090.68 Q285.348 1086.07 285.348 1077.34 Q285.348 1068.59 288.404 1064.01 Q291.483 1059.4 297.293 1059.4 Z\" fill=\"#000000\" fill-rule=\"evenodd\" fill-opacity=\"1\" /><path clip-path=\"url(#clip680)\" d=\"M633.358 1063.11 Q629.747 1063.11 627.919 1066.67 Q626.113 1070.21 626.113 1077.34 Q626.113 1084.45 627.919 1088.01 Q629.747 1091.56 633.358 1091.56 Q636.993 1091.56 638.798 1088.01 Q640.627 1084.45 640.627 1077.34 Q640.627 1070.21 638.798 1066.67 Q636.993 1063.11 633.358 1063.11 M633.358 1059.4 Q639.169 1059.4 642.224 1064.01 Q645.303 1068.59 645.303 1077.34 Q645.303 1086.07 642.224 1090.68 Q639.169 1095.26 633.358 1095.26 Q627.548 1095.26 624.47 1090.68 Q621.414 1086.07 621.414 1077.34 Q621.414 1068.59 624.47 1064.01 Q627.548 1059.4 633.358 1059.4 Z\" fill=\"#000000\" fill-rule=\"evenodd\" fill-opacity=\"1\" /><path clip-path=\"url(#clip680)\" d=\"M653.52 1088.71 L658.405 1088.71 L658.405 1094.59 L653.52 1094.59 L653.52 1088.71 Z\" fill=\"#000000\" fill-rule=\"evenodd\" fill-opacity=\"1\" /><path clip-path=\"url(#clip680)\" d=\"M672.618 1090.65 L688.937 1090.65 L688.937 1094.59 L666.993 1094.59 L666.993 1090.65 Q669.655 1087.9 674.238 1083.27 Q678.844 1078.62 680.025 1077.27 Q682.27 1074.75 683.15 1073.01 Q684.053 1071.25 684.053 1069.56 Q684.053 1066.81 682.108 1065.07 Q680.187 1063.34 677.085 1063.34 Q674.886 1063.34 672.432 1064.1 Q670.002 1064.87 667.224 1066.42 L667.224 1061.69 Q670.048 1060.56 672.502 1059.98 Q674.955 1059.4 676.992 1059.4 Q682.363 1059.4 685.557 1062.09 Q688.752 1064.77 688.752 1069.26 Q688.752 1071.39 687.942 1073.31 Q687.154 1075.21 685.048 1077.81 Q684.469 1078.48 681.367 1081.69 Q678.266 1084.89 672.618 1090.65 Z\" fill=\"#000000\" fill-rule=\"evenodd\" fill-opacity=\"1\" /><path clip-path=\"url(#clip680)\" d=\"M698.798 1060.03 L717.154 1060.03 L717.154 1063.96 L703.08 1063.96 L703.08 1072.44 Q704.099 1072.09 705.117 1071.93 Q706.136 1071.74 707.154 1071.74 Q712.941 1071.74 716.321 1074.91 Q719.701 1078.08 719.701 1083.5 Q719.701 1089.08 716.228 1092.18 Q712.756 1095.26 706.437 1095.26 Q704.261 1095.26 701.992 1094.89 Q699.747 1094.52 697.34 1093.78 L697.34 1089.08 Q699.423 1090.21 701.645 1090.77 Q703.867 1091.32 706.344 1091.32 Q710.349 1091.32 712.687 1089.22 Q715.025 1087.11 715.025 1083.5 Q715.025 1079.89 712.687 1077.78 Q710.349 1075.68 706.344 1075.68 Q704.469 1075.68 702.594 1076.09 Q700.742 1076.51 698.798 1077.39 L698.798 1060.03 Z\" fill=\"#000000\" fill-rule=\"evenodd\" fill-opacity=\"1\" /><path clip-path=\"url(#clip680)\" d=\"M1043.82 1063.11 Q1040.21 1063.11 1038.38 1066.67 Q1036.58 1070.21 1036.58 1077.34 Q1036.58 1084.45 1038.38 1088.01 Q1040.21 1091.56 1043.82 1091.56 Q1047.46 1091.56 1049.26 1088.01 Q1051.09 1084.45 1051.09 1077.34 Q1051.09 1070.21 1049.26 1066.67 Q1047.46 1063.11 1043.82 1063.11 M1043.82 1059.4 Q1049.63 1059.4 1052.69 1064.01 Q1055.77 1068.59 1055.77 1077.34 Q1055.77 1086.07 1052.69 1090.68 Q1049.63 1095.26 1043.82 1095.26 Q1038.01 1095.26 1034.93 1090.68 Q1031.88 1086.07 1031.88 1077.34 Q1031.88 1068.59 1034.93 1064.01 Q1038.01 1059.4 1043.82 1059.4 Z\" fill=\"#000000\" fill-rule=\"evenodd\" fill-opacity=\"1\" /><path clip-path=\"url(#clip680)\" d=\"M1063.98 1088.71 L1068.87 1088.71 L1068.87 1094.59 L1063.98 1094.59 L1063.98 1088.71 Z\" fill=\"#000000\" fill-rule=\"evenodd\" fill-opacity=\"1\" /><path clip-path=\"url(#clip680)\" d=\"M1079.1 1060.03 L1097.46 1060.03 L1097.46 1063.96 L1083.38 1063.96 L1083.38 1072.44 Q1084.4 1072.09 1085.42 1071.93 Q1086.44 1071.74 1087.46 1071.74 Q1093.24 1071.74 1096.62 1074.91 Q1100 1078.08 1100 1083.5 Q1100 1089.08 1096.53 1092.18 Q1093.06 1095.26 1086.74 1095.26 Q1084.56 1095.26 1082.29 1094.89 Q1080.05 1094.52 1077.64 1093.78 L1077.64 1089.08 Q1079.72 1090.21 1081.95 1090.77 Q1084.17 1091.32 1086.65 1091.32 Q1090.65 1091.32 1092.99 1089.22 Q1095.33 1087.11 1095.33 1083.5 Q1095.33 1079.89 1092.99 1077.78 Q1090.65 1075.68 1086.65 1075.68 Q1084.77 1075.68 1082.9 1076.09 Q1081.04 1076.51 1079.1 1077.39 L1079.1 1060.03 Z\" fill=\"#000000\" fill-rule=\"evenodd\" fill-opacity=\"1\" /><path clip-path=\"url(#clip680)\" d=\"M1119.21 1063.11 Q1115.6 1063.11 1113.78 1066.67 Q1111.97 1070.21 1111.97 1077.34 Q1111.97 1084.45 1113.78 1088.01 Q1115.6 1091.56 1119.21 1091.56 Q1122.85 1091.56 1124.65 1088.01 Q1126.48 1084.45 1126.48 1077.34 Q1126.48 1070.21 1124.65 1066.67 Q1122.85 1063.11 1119.21 1063.11 M1119.21 1059.4 Q1125.03 1059.4 1128.08 1064.01 Q1131.16 1068.59 1131.16 1077.34 Q1131.16 1086.07 1128.08 1090.68 Q1125.03 1095.26 1119.21 1095.26 Q1113.4 1095.26 1110.33 1090.68 Q1107.27 1086.07 1107.27 1077.34 Q1107.27 1068.59 1110.33 1064.01 Q1113.4 1059.4 1119.21 1059.4 Z\" fill=\"#000000\" fill-rule=\"evenodd\" fill-opacity=\"1\" /><path clip-path=\"url(#clip680)\" d=\"M1455.28 1063.11 Q1451.67 1063.11 1449.84 1066.67 Q1448.04 1070.21 1448.04 1077.34 Q1448.04 1084.45 1449.84 1088.01 Q1451.67 1091.56 1455.28 1091.56 Q1458.91 1091.56 1460.72 1088.01 Q1462.55 1084.45 1462.55 1077.34 Q1462.55 1070.21 1460.72 1066.67 Q1458.91 1063.11 1455.28 1063.11 M1455.28 1059.4 Q1461.09 1059.4 1464.15 1064.01 Q1467.23 1068.59 1467.23 1077.34 Q1467.23 1086.07 1464.15 1090.68 Q1461.09 1095.26 1455.28 1095.26 Q1449.47 1095.26 1446.39 1090.68 Q1443.34 1086.07 1443.34 1077.34 Q1443.34 1068.59 1446.39 1064.01 Q1449.47 1059.4 1455.28 1059.4 Z\" fill=\"#000000\" fill-rule=\"evenodd\" fill-opacity=\"1\" /><path clip-path=\"url(#clip680)\" d=\"M1475.44 1088.71 L1480.33 1088.71 L1480.33 1094.59 L1475.44 1094.59 L1475.44 1088.71 Z\" fill=\"#000000\" fill-rule=\"evenodd\" fill-opacity=\"1\" /><path clip-path=\"url(#clip680)\" d=\"M1489.33 1060.03 L1511.55 1060.03 L1511.55 1062.02 L1499.01 1094.59 L1494.12 1094.59 L1505.93 1063.96 L1489.33 1063.96 L1489.33 1060.03 Z\" fill=\"#000000\" fill-rule=\"evenodd\" fill-opacity=\"1\" /><path clip-path=\"url(#clip680)\" d=\"M1520.72 1060.03 L1539.08 1060.03 L1539.08 1063.96 L1525 1063.96 L1525 1072.44 Q1526.02 1072.09 1527.04 1071.93 Q1528.06 1071.74 1529.08 1071.74 Q1534.86 1071.74 1538.24 1074.91 Q1541.62 1078.08 1541.62 1083.5 Q1541.62 1089.08 1538.15 1092.18 Q1534.68 1095.26 1528.36 1095.26 Q1526.18 1095.26 1523.91 1094.89 Q1521.67 1094.52 1519.26 1093.78 L1519.26 1089.08 Q1521.35 1090.21 1523.57 1090.77 Q1525.79 1091.32 1528.27 1091.32 Q1532.27 1091.32 1534.61 1089.22 Q1536.95 1087.11 1536.95 1083.5 Q1536.95 1079.89 1534.61 1077.78 Q1532.27 1075.68 1528.27 1075.68 Q1526.39 1075.68 1524.52 1076.09 Q1522.66 1076.51 1520.72 1077.39 L1520.72 1060.03 Z\" fill=\"#000000\" fill-rule=\"evenodd\" fill-opacity=\"1\" /><path clip-path=\"url(#clip680)\" d=\"M1855.51 1090.65 L1863.15 1090.65 L1863.15 1064.29 L1854.84 1065.95 L1854.84 1061.69 L1863.11 1060.03 L1867.78 1060.03 L1867.78 1090.65 L1875.42 1090.65 L1875.42 1094.59 L1855.51 1094.59 L1855.51 1090.65 Z\" fill=\"#000000\" fill-rule=\"evenodd\" fill-opacity=\"1\" /><path clip-path=\"url(#clip680)\" d=\"M1884.86 1088.71 L1889.75 1088.71 L1889.75 1094.59 L1884.86 1094.59 L1884.86 1088.71 Z\" fill=\"#000000\" fill-rule=\"evenodd\" fill-opacity=\"1\" /><path clip-path=\"url(#clip680)\" d=\"M1909.93 1063.11 Q1906.32 1063.11 1904.49 1066.67 Q1902.69 1070.21 1902.69 1077.34 Q1902.69 1084.45 1904.49 1088.01 Q1906.32 1091.56 1909.93 1091.56 Q1913.57 1091.56 1915.37 1088.01 Q1917.2 1084.45 1917.2 1077.34 Q1917.2 1070.21 1915.37 1066.67 Q1913.57 1063.11 1909.93 1063.11 M1909.93 1059.4 Q1915.74 1059.4 1918.8 1064.01 Q1921.88 1068.59 1921.88 1077.34 Q1921.88 1086.07 1918.8 1090.68 Q1915.74 1095.26 1909.93 1095.26 Q1904.12 1095.26 1901.04 1090.68 Q1897.99 1086.07 1897.99 1077.34 Q1897.99 1068.59 1901.04 1064.01 Q1904.12 1059.4 1909.93 1059.4 Z\" fill=\"#000000\" fill-rule=\"evenodd\" fill-opacity=\"1\" /><path clip-path=\"url(#clip680)\" d=\"M1940.1 1063.11 Q1936.48 1063.11 1934.66 1066.67 Q1932.85 1070.21 1932.85 1077.34 Q1932.85 1084.45 1934.66 1088.01 Q1936.48 1091.56 1940.1 1091.56 Q1943.73 1091.56 1945.54 1088.01 Q1947.36 1084.45 1947.36 1077.34 Q1947.36 1070.21 1945.54 1066.67 Q1943.73 1063.11 1940.1 1063.11 M1940.1 1059.4 Q1945.91 1059.4 1948.96 1064.01 Q1952.04 1068.59 1952.04 1077.34 Q1952.04 1086.07 1948.96 1090.68 Q1945.91 1095.26 1940.1 1095.26 Q1934.29 1095.26 1931.21 1090.68 Q1928.15 1086.07 1928.15 1077.34 Q1928.15 1068.59 1931.21 1064.01 Q1934.29 1059.4 1940.1 1059.4 Z\" fill=\"#000000\" fill-rule=\"evenodd\" fill-opacity=\"1\" /><path clip-path=\"url(#clip680)\" d=\"M969.53 1126.73 L999.576 1126.73 L999.576 1132.14 L975.959 1132.14 L975.959 1146.21 L998.589 1146.21 L998.589 1151.62 L975.959 1151.62 L975.959 1168.84 L1000.15 1168.84 L1000.15 1174.25 L969.53 1174.25 L969.53 1126.73 Z\" fill=\"#000000\" fill-rule=\"evenodd\" fill-opacity=\"1\" /><path clip-path=\"url(#clip680)\" d=\"M1016.13 1168.9 L1016.13 1187.81 L1010.24 1187.81 L1010.24 1138.6 L1016.13 1138.6 L1016.13 1144.01 Q1017.97 1140.83 1020.77 1139.3 Q1023.61 1137.74 1027.52 1137.74 Q1034.01 1137.74 1038.06 1142.9 Q1042.13 1148.06 1042.13 1156.46 Q1042.13 1164.86 1038.06 1170.02 Q1034.01 1175.17 1027.52 1175.17 Q1023.61 1175.17 1020.77 1173.65 Q1017.97 1172.09 1016.13 1168.9 M1036.05 1156.46 Q1036.05 1150 1033.38 1146.34 Q1030.74 1142.65 1026.09 1142.65 Q1021.44 1142.65 1018.77 1146.34 Q1016.13 1150 1016.13 1156.46 Q1016.13 1162.92 1018.77 1166.61 Q1021.44 1170.27 1026.09 1170.27 Q1030.74 1170.27 1033.38 1166.61 Q1036.05 1162.92 1036.05 1156.46 Z\" fill=\"#000000\" fill-rule=\"evenodd\" fill-opacity=\"1\" /><path clip-path=\"url(#clip680)\" d=\"M1065.65 1142.71 Q1060.94 1142.71 1058.2 1146.4 Q1055.47 1150.06 1055.47 1156.46 Q1055.47 1162.86 1058.17 1166.55 Q1060.91 1170.21 1065.65 1170.21 Q1070.33 1170.21 1073.07 1166.52 Q1075.81 1162.83 1075.81 1156.46 Q1075.81 1150.13 1073.07 1146.43 Q1070.33 1142.71 1065.65 1142.71 M1065.65 1137.74 Q1073.29 1137.74 1077.65 1142.71 Q1082.01 1147.68 1082.01 1156.46 Q1082.01 1165.21 1077.65 1170.21 Q1073.29 1175.17 1065.65 1175.17 Q1057.98 1175.17 1053.62 1170.21 Q1049.29 1165.21 1049.29 1156.46 Q1049.29 1147.68 1053.62 1142.71 Q1057.98 1137.74 1065.65 1137.74 Z\" fill=\"#000000\" fill-rule=\"evenodd\" fill-opacity=\"1\" /><path clip-path=\"url(#clip680)\" d=\"M1117.37 1139.97 L1117.37 1145.45 Q1114.89 1144.08 1112.38 1143.41 Q1109.89 1142.71 1107.35 1142.71 Q1101.65 1142.71 1098.5 1146.34 Q1095.35 1149.93 1095.35 1156.46 Q1095.35 1162.98 1098.5 1166.61 Q1101.65 1170.21 1107.35 1170.21 Q1109.89 1170.21 1112.38 1169.54 Q1114.89 1168.84 1117.37 1167.47 L1117.37 1172.88 Q1114.92 1174.03 1112.28 1174.6 Q1109.67 1175.17 1106.71 1175.17 Q1098.66 1175.17 1093.92 1170.11 Q1089.17 1165.05 1089.17 1156.46 Q1089.17 1147.74 1093.95 1142.74 Q1098.75 1137.74 1107.09 1137.74 Q1109.8 1137.74 1112.38 1138.32 Q1114.95 1138.86 1117.37 1139.97 Z\" fill=\"#000000\" fill-rule=\"evenodd\" fill-opacity=\"1\" /><path clip-path=\"url(#clip680)\" d=\"M1157.19 1152.74 L1157.19 1174.25 L1151.33 1174.25 L1151.33 1152.93 Q1151.33 1147.87 1149.36 1145.35 Q1147.39 1142.84 1143.44 1142.84 Q1138.7 1142.84 1135.96 1145.86 Q1133.22 1148.88 1133.22 1154.1 L1133.22 1174.25 L1127.34 1174.25 L1127.34 1124.73 L1133.22 1124.73 L1133.22 1144.14 Q1135.32 1140.93 1138.16 1139.34 Q1141.02 1137.74 1144.75 1137.74 Q1150.89 1137.74 1154.04 1141.56 Q1157.19 1145.35 1157.19 1152.74 Z\" fill=\"#000000\" fill-rule=\"evenodd\" fill-opacity=\"1\" /><path clip-path=\"url(#clip680)\" d=\"M1191.6 1139.65 L1191.6 1145.19 Q1189.11 1143.92 1186.44 1143.28 Q1183.77 1142.65 1180.9 1142.65 Q1176.54 1142.65 1174.35 1143.98 Q1172.18 1145.32 1172.18 1147.99 Q1172.18 1150.03 1173.74 1151.21 Q1175.3 1152.35 1180.01 1153.4 L1182.02 1153.85 Q1188.26 1155.19 1190.87 1157.64 Q1193.51 1160.06 1193.51 1164.42 Q1193.51 1169.38 1189.56 1172.28 Q1185.65 1175.17 1178.77 1175.17 Q1175.91 1175.17 1172.79 1174.6 Q1169.7 1174.06 1166.26 1172.95 L1166.26 1166.9 Q1169.51 1168.59 1172.66 1169.45 Q1175.81 1170.27 1178.9 1170.27 Q1183.04 1170.27 1185.26 1168.87 Q1187.49 1167.44 1187.49 1164.86 Q1187.49 1162.48 1185.87 1161.2 Q1184.28 1159.93 1178.83 1158.75 L1176.8 1158.27 Q1171.35 1157.13 1168.94 1154.77 Q1166.52 1152.39 1166.52 1148.25 Q1166.52 1143.22 1170.08 1140.48 Q1173.65 1137.74 1180.2 1137.74 Q1183.45 1137.74 1186.31 1138.22 Q1189.18 1138.7 1191.6 1139.65 Z\" fill=\"#000000\" fill-rule=\"evenodd\" fill-opacity=\"1\" /><polyline clip-path=\"url(#clip682)\" style=\"stroke:#000000; stroke-linecap:butt; stroke-linejoin:round; stroke-width:2; stroke-opacity:0.1; fill:none\" points=\"\n",
       "  210.281,904.406 1952.76,904.406 \n",
       "  \"/>\n",
       "<polyline clip-path=\"url(#clip682)\" style=\"stroke:#000000; stroke-linecap:butt; stroke-linejoin:round; stroke-width:2; stroke-opacity:0.1; fill:none\" points=\"\n",
       "  210.281,669.47 1952.76,669.47 \n",
       "  \"/>\n",
       "<polyline clip-path=\"url(#clip682)\" style=\"stroke:#000000; stroke-linecap:butt; stroke-linejoin:round; stroke-width:2; stroke-opacity:0.1; fill:none\" points=\"\n",
       "  210.281,434.534 1952.76,434.534 \n",
       "  \"/>\n",
       "<polyline clip-path=\"url(#clip682)\" style=\"stroke:#000000; stroke-linecap:butt; stroke-linejoin:round; stroke-width:2; stroke-opacity:0.1; fill:none\" points=\"\n",
       "  210.281,199.597 1952.76,199.597 \n",
       "  \"/>\n",
       "<polyline clip-path=\"url(#clip680)\" style=\"stroke:#000000; stroke-linecap:butt; stroke-linejoin:round; stroke-width:4; stroke-opacity:1; fill:none\" points=\"\n",
       "  210.281,1035.39 210.281,117.424 \n",
       "  \"/>\n",
       "<polyline clip-path=\"url(#clip680)\" style=\"stroke:#000000; stroke-linecap:butt; stroke-linejoin:round; stroke-width:4; stroke-opacity:1; fill:none\" points=\"\n",
       "  210.281,904.406 229.179,904.406 \n",
       "  \"/>\n",
       "<polyline clip-path=\"url(#clip680)\" style=\"stroke:#000000; stroke-linecap:butt; stroke-linejoin:round; stroke-width:4; stroke-opacity:1; fill:none\" points=\"\n",
       "  210.281,669.47 229.179,669.47 \n",
       "  \"/>\n",
       "<polyline clip-path=\"url(#clip680)\" style=\"stroke:#000000; stroke-linecap:butt; stroke-linejoin:round; stroke-width:4; stroke-opacity:1; fill:none\" points=\"\n",
       "  210.281,434.534 229.179,434.534 \n",
       "  \"/>\n",
       "<polyline clip-path=\"url(#clip680)\" style=\"stroke:#000000; stroke-linecap:butt; stroke-linejoin:round; stroke-width:4; stroke-opacity:1; fill:none\" points=\"\n",
       "  210.281,199.597 229.179,199.597 \n",
       "  \"/>\n",
       "<path clip-path=\"url(#clip680)\" d=\"M113.916 917.751 L121.554 917.751 L121.554 891.385 L113.244 893.052 L113.244 888.793 L121.508 887.126 L126.184 887.126 L126.184 917.751 L133.823 917.751 L133.823 921.686 L113.916 921.686 L113.916 917.751 Z\" fill=\"#000000\" fill-rule=\"evenodd\" fill-opacity=\"1\" /><path clip-path=\"url(#clip680)\" d=\"M143.267 915.807 L148.151 915.807 L148.151 921.686 L143.267 921.686 L143.267 915.807 Z\" fill=\"#000000\" fill-rule=\"evenodd\" fill-opacity=\"1\" /><path clip-path=\"url(#clip680)\" d=\"M168.337 890.205 Q164.725 890.205 162.897 893.77 Q161.091 897.311 161.091 904.441 Q161.091 911.547 162.897 915.112 Q164.725 918.654 168.337 918.654 Q171.971 918.654 173.776 915.112 Q175.605 911.547 175.605 904.441 Q175.605 897.311 173.776 893.77 Q171.971 890.205 168.337 890.205 M168.337 886.501 Q174.147 886.501 177.202 891.108 Q180.281 895.691 180.281 904.441 Q180.281 913.168 177.202 917.774 Q174.147 922.357 168.337 922.357 Q162.526 922.357 159.448 917.774 Q156.392 913.168 156.392 904.441 Q156.392 895.691 159.448 891.108 Q162.526 886.501 168.337 886.501 Z\" fill=\"#000000\" fill-rule=\"evenodd\" fill-opacity=\"1\" /><path clip-path=\"url(#clip680)\" d=\"M114.911 682.815 L122.55 682.815 L122.55 656.449 L114.24 658.116 L114.24 653.857 L122.503 652.19 L127.179 652.19 L127.179 682.815 L134.818 682.815 L134.818 686.75 L114.911 686.75 L114.911 682.815 Z\" fill=\"#000000\" fill-rule=\"evenodd\" fill-opacity=\"1\" /><path clip-path=\"url(#clip680)\" d=\"M144.263 680.87 L149.147 680.87 L149.147 686.75 L144.263 686.75 L144.263 680.87 Z\" fill=\"#000000\" fill-rule=\"evenodd\" fill-opacity=\"1\" /><path clip-path=\"url(#clip680)\" d=\"M159.378 652.19 L177.735 652.19 L177.735 656.125 L163.661 656.125 L163.661 664.597 Q164.679 664.25 165.698 664.088 Q166.716 663.903 167.735 663.903 Q173.522 663.903 176.901 667.074 Q180.281 670.245 180.281 675.662 Q180.281 681.241 176.809 684.342 Q173.337 687.421 167.017 687.421 Q164.841 687.421 162.573 687.051 Q160.327 686.68 157.92 685.94 L157.92 681.241 Q160.003 682.375 162.225 682.93 Q164.448 683.486 166.925 683.486 Q170.929 683.486 173.267 681.38 Q175.605 679.273 175.605 675.662 Q175.605 672.051 173.267 669.944 Q170.929 667.838 166.925 667.838 Q165.05 667.838 163.175 668.255 Q161.323 668.671 159.378 669.551 L159.378 652.19 Z\" fill=\"#000000\" fill-rule=\"evenodd\" fill-opacity=\"1\" /><path clip-path=\"url(#clip680)\" d=\"M117.133 447.878 L133.452 447.878 L133.452 451.814 L111.508 451.814 L111.508 447.878 Q114.17 445.124 118.753 440.494 Q123.36 435.841 124.54 434.499 Q126.786 431.976 127.665 430.24 Q128.568 428.48 128.568 426.791 Q128.568 424.036 126.624 422.3 Q124.703 420.564 121.601 420.564 Q119.402 420.564 116.948 421.328 Q114.517 422.091 111.74 423.642 L111.74 418.92 Q114.564 417.786 117.017 417.207 Q119.471 416.629 121.508 416.629 Q126.878 416.629 130.073 419.314 Q133.267 421.999 133.267 426.49 Q133.267 428.619 132.457 430.541 Q131.67 432.439 129.564 435.031 Q128.985 435.703 125.883 438.92 Q122.781 442.115 117.133 447.878 Z\" fill=\"#000000\" fill-rule=\"evenodd\" fill-opacity=\"1\" /><path clip-path=\"url(#clip680)\" d=\"M143.267 445.934 L148.151 445.934 L148.151 451.814 L143.267 451.814 L143.267 445.934 Z\" fill=\"#000000\" fill-rule=\"evenodd\" fill-opacity=\"1\" /><path clip-path=\"url(#clip680)\" d=\"M168.337 420.332 Q164.725 420.332 162.897 423.897 Q161.091 427.439 161.091 434.568 Q161.091 441.675 162.897 445.239 Q164.725 448.781 168.337 448.781 Q171.971 448.781 173.776 445.239 Q175.605 441.675 175.605 434.568 Q175.605 427.439 173.776 423.897 Q171.971 420.332 168.337 420.332 M168.337 416.629 Q174.147 416.629 177.202 421.235 Q180.281 425.818 180.281 434.568 Q180.281 443.295 177.202 447.902 Q174.147 452.485 168.337 452.485 Q162.526 452.485 159.448 447.902 Q156.392 443.295 156.392 434.568 Q156.392 425.818 159.448 421.235 Q162.526 416.629 168.337 416.629 Z\" fill=\"#000000\" fill-rule=\"evenodd\" fill-opacity=\"1\" /><path clip-path=\"url(#clip680)\" d=\"M118.128 212.942 L134.448 212.942 L134.448 216.877 L112.504 216.877 L112.504 212.942 Q115.166 210.187 119.749 205.558 Q124.355 200.905 125.536 199.562 Q127.781 197.039 128.661 195.303 Q129.564 193.544 129.564 191.854 Q129.564 189.1 127.619 187.363 Q125.698 185.627 122.596 185.627 Q120.397 185.627 117.943 186.391 Q115.513 187.155 112.735 188.706 L112.735 183.984 Q115.559 182.85 118.013 182.271 Q120.466 181.692 122.503 181.692 Q127.874 181.692 131.068 184.377 Q134.263 187.063 134.263 191.553 Q134.263 193.683 133.452 195.604 Q132.665 197.502 130.559 200.095 Q129.98 200.766 126.878 203.984 Q123.777 207.178 118.128 212.942 Z\" fill=\"#000000\" fill-rule=\"evenodd\" fill-opacity=\"1\" /><path clip-path=\"url(#clip680)\" d=\"M144.263 210.998 L149.147 210.998 L149.147 216.877 L144.263 216.877 L144.263 210.998 Z\" fill=\"#000000\" fill-rule=\"evenodd\" fill-opacity=\"1\" /><path clip-path=\"url(#clip680)\" d=\"M159.378 182.317 L177.735 182.317 L177.735 186.252 L163.661 186.252 L163.661 194.725 Q164.679 194.377 165.698 194.215 Q166.716 194.03 167.735 194.03 Q173.522 194.03 176.901 197.201 Q180.281 200.373 180.281 205.789 Q180.281 211.368 176.809 214.47 Q173.337 217.549 167.017 217.549 Q164.841 217.549 162.573 217.178 Q160.327 216.808 157.92 216.067 L157.92 211.368 Q160.003 212.502 162.225 213.058 Q164.448 213.613 166.925 213.613 Q170.929 213.613 173.267 211.507 Q175.605 209.4 175.605 205.789 Q175.605 202.178 173.267 200.072 Q170.929 197.965 166.925 197.965 Q165.05 197.965 163.175 198.382 Q161.323 198.799 159.378 199.678 L159.378 182.317 Z\" fill=\"#000000\" fill-rule=\"evenodd\" fill-opacity=\"1\" /><path clip-path=\"url(#clip680)\" d=\"M23.3924 835.172 L30.1719 835.172 Q27.1482 838.418 25.6523 842.111 Q24.1563 845.771 24.1563 849.909 Q24.1563 858.057 29.1534 862.385 Q34.1187 866.714 43.5399 866.714 Q52.9293 866.714 57.9264 862.385 Q62.8916 858.057 62.8916 849.909 Q62.8916 845.771 61.3957 842.111 Q59.8998 838.418 56.8761 835.172 L63.5919 835.172 Q65.8835 838.546 67.0294 842.333 Q68.1752 846.089 68.1752 850.291 Q68.1752 861.08 61.5867 867.287 Q54.9663 873.494 43.5399 873.494 Q32.0816 873.494 25.4931 867.287 Q18.8728 861.08 18.8728 850.291 Q18.8728 846.025 20.0186 842.27 Q21.1326 838.482 23.3924 835.172 Z\" fill=\"#000000\" fill-rule=\"evenodd\" fill-opacity=\"1\" /><path clip-path=\"url(#clip680)\" d=\"M37.0787 804.839 Q36.5058 805.826 36.2512 807.004 Q35.9647 808.15 35.9647 809.55 Q35.9647 814.515 39.2112 817.189 Q42.4259 819.831 48.4733 819.831 L67.2522 819.831 L67.2522 825.719 L31.6042 825.719 L31.6042 819.831 L37.1424 819.831 Q33.8959 817.985 32.3363 815.024 Q30.7448 812.064 30.7448 807.831 Q30.7448 807.227 30.8403 806.494 Q30.904 805.762 31.0631 804.871 L37.0787 804.839 Z\" fill=\"#000000\" fill-rule=\"evenodd\" fill-opacity=\"1\" /><path clip-path=\"url(#clip680)\" d=\"M35.7101 786.315 Q35.7101 791.026 39.4022 793.763 Q43.0625 796.5 49.46 796.5 Q55.8575 796.5 59.5497 793.795 Q63.2099 791.058 63.2099 786.315 Q63.2099 781.636 59.5178 778.899 Q55.8257 776.162 49.46 776.162 Q43.1261 776.162 39.434 778.899 Q35.7101 781.636 35.7101 786.315 M30.7448 786.315 Q30.7448 778.676 35.7101 774.316 Q40.6753 769.955 49.46 769.955 Q58.2129 769.955 63.2099 774.316 Q68.1752 778.676 68.1752 786.315 Q68.1752 793.986 63.2099 798.346 Q58.2129 802.675 49.46 802.675 Q40.6753 802.675 35.7101 798.346 Q30.7448 793.986 30.7448 786.315 Z\" fill=\"#000000\" fill-rule=\"evenodd\" fill-opacity=\"1\" /><path clip-path=\"url(#clip680)\" d=\"M32.6545 737.522 L38.1927 737.522 Q36.9196 740.005 36.283 742.678 Q35.6464 745.352 35.6464 748.216 Q35.6464 752.577 36.9832 754.773 Q38.32 756.937 40.9936 756.937 Q43.0306 756.937 44.2083 755.378 Q45.3541 753.818 46.4045 749.108 L46.8501 747.102 Q48.1869 740.864 50.6377 738.254 Q53.0566 735.612 57.4171 735.612 Q62.3824 735.612 65.2788 739.559 Q68.1752 743.474 68.1752 750.349 Q68.1752 753.213 67.6023 756.333 Q67.0612 759.42 65.9472 762.858 L59.8998 762.858 Q61.5867 759.611 62.446 756.46 Q63.2736 753.309 63.2736 750.222 Q63.2736 746.084 61.8731 743.856 Q60.4409 741.628 57.8627 741.628 Q55.4756 741.628 54.2025 743.251 Q52.9293 744.843 51.7517 750.285 L51.2742 752.322 Q50.1284 757.765 47.7731 760.184 Q45.386 762.603 41.2482 762.603 Q36.2193 762.603 33.4821 759.038 Q30.7448 755.473 30.7448 748.917 Q30.7448 745.67 31.2223 742.806 Q31.6997 739.941 32.6545 737.522 Z\" fill=\"#000000\" fill-rule=\"evenodd\" fill-opacity=\"1\" /><path clip-path=\"url(#clip680)\" d=\"M32.6545 703.561 L38.1927 703.561 Q36.9196 706.044 36.283 708.717 Q35.6464 711.391 35.6464 714.255 Q35.6464 718.616 36.9832 720.812 Q38.32 722.976 40.9936 722.976 Q43.0306 722.976 44.2083 721.417 Q45.3541 719.857 46.4045 715.147 L46.8501 713.141 Q48.1869 706.903 50.6377 704.293 Q53.0566 701.651 57.4171 701.651 Q62.3824 701.651 65.2788 705.598 Q68.1752 709.513 68.1752 716.388 Q68.1752 719.252 67.6023 722.372 Q67.0612 725.459 65.9472 728.896 L59.8998 728.896 Q61.5867 725.65 62.446 722.499 Q63.2736 719.348 63.2736 716.261 Q63.2736 712.123 61.8731 709.895 Q60.4409 707.667 57.8627 707.667 Q55.4756 707.667 54.2025 709.29 Q52.9293 710.882 51.7517 716.324 L51.2742 718.361 Q50.1284 723.804 47.7731 726.223 Q45.386 728.642 41.2482 728.642 Q36.2193 728.642 33.4821 725.077 Q30.7448 721.512 30.7448 714.956 Q30.7448 711.709 31.2223 708.845 Q31.6997 705.98 32.6545 703.561 Z\" fill=\"#000000\" fill-rule=\"evenodd\" fill-opacity=\"1\" /><path clip-path=\"url(#clip680)\" d=\"M46.7864 695.286 L46.7864 678.13 L52.0063 678.13 L52.0063 695.286 L46.7864 695.286 Z\" fill=\"#000000\" fill-rule=\"evenodd\" fill-opacity=\"1\" /><path clip-path=\"url(#clip680)\" d=\"M47.9641 638.312 L50.8286 638.312 L50.8286 665.239 Q56.8761 664.857 60.0589 661.611 Q63.2099 658.333 63.2099 652.508 Q63.2099 649.134 62.3824 645.983 Q61.5549 642.8 59.8998 639.681 L65.4379 639.681 Q66.7747 642.832 67.475 646.142 Q68.1752 649.452 68.1752 652.858 Q68.1752 661.388 63.2099 666.385 Q58.2447 671.35 49.7783 671.35 Q41.0254 671.35 35.9011 666.64 Q30.7448 661.897 30.7448 653.877 Q30.7448 646.683 35.3918 642.514 Q40.0069 638.312 47.9641 638.312 M46.2453 644.169 Q41.4392 644.233 38.5746 646.874 Q35.7101 649.484 35.7101 653.813 Q35.7101 658.715 38.4792 661.675 Q41.2482 664.603 46.2772 665.048 L46.2453 644.169 Z\" fill=\"#000000\" fill-rule=\"evenodd\" fill-opacity=\"1\" /><path clip-path=\"url(#clip680)\" d=\"M45.7361 599.068 L67.2522 599.068 L67.2522 604.924 L45.927 604.924 Q40.8663 604.924 38.3518 606.898 Q35.8374 608.871 35.8374 612.818 Q35.8374 617.56 38.8611 620.298 Q41.8848 623.035 47.1047 623.035 L67.2522 623.035 L67.2522 628.923 L31.6042 628.923 L31.6042 623.035 L37.1424 623.035 Q33.9277 620.934 32.3363 618.101 Q30.7448 615.237 30.7448 611.513 Q30.7448 605.37 34.5643 602.219 Q38.3518 599.068 45.7361 599.068 Z\" fill=\"#000000\" fill-rule=\"evenodd\" fill-opacity=\"1\" /><path clip-path=\"url(#clip680)\" d=\"M21.4827 581.594 L31.6042 581.594 L31.6042 569.531 L36.1557 569.531 L36.1557 581.594 L55.5074 581.594 Q59.8679 581.594 61.1093 580.416 Q62.3506 579.207 62.3506 575.547 L62.3506 569.531 L67.2522 569.531 L67.2522 575.547 Q67.2522 582.326 64.7377 584.904 Q62.1914 587.482 55.5074 587.482 L36.1557 587.482 L36.1557 591.779 L31.6042 591.779 L31.6042 587.482 L21.4827 587.482 L21.4827 581.594 Z\" fill=\"#000000\" fill-rule=\"evenodd\" fill-opacity=\"1\" /><path clip-path=\"url(#clip680)\" d=\"M37.0787 541.172 Q36.5058 542.158 36.2512 543.336 Q35.9647 544.482 35.9647 545.882 Q35.9647 550.848 39.2112 553.521 Q42.4259 556.163 48.4733 556.163 L67.2522 556.163 L67.2522 562.051 L31.6042 562.051 L31.6042 556.163 L37.1424 556.163 Q33.8959 554.317 32.3363 551.357 Q30.7448 548.397 30.7448 544.164 Q30.7448 543.559 30.8403 542.827 Q30.904 542.095 31.0631 541.204 L37.0787 541.172 Z\" fill=\"#000000\" fill-rule=\"evenodd\" fill-opacity=\"1\" /><path clip-path=\"url(#clip680)\" d=\"M35.7101 522.648 Q35.7101 527.358 39.4022 530.095 Q43.0625 532.833 49.46 532.833 Q55.8575 532.833 59.5497 530.127 Q63.2099 527.39 63.2099 522.648 Q63.2099 517.969 59.5178 515.232 Q55.8257 512.494 49.46 512.494 Q43.1261 512.494 39.434 515.232 Q35.7101 517.969 35.7101 522.648 M30.7448 522.648 Q30.7448 515.009 35.7101 510.648 Q40.6753 506.288 49.46 506.288 Q58.2129 506.288 63.2099 510.648 Q68.1752 515.009 68.1752 522.648 Q68.1752 530.318 63.2099 534.679 Q58.2129 539.007 49.46 539.007 Q40.6753 539.007 35.7101 534.679 Q30.7448 530.318 30.7448 522.648 Z\" fill=\"#000000\" fill-rule=\"evenodd\" fill-opacity=\"1\" /><path clip-path=\"url(#clip680)\" d=\"M61.905 490.915 L80.8111 490.915 L80.8111 496.803 L31.6042 496.803 L31.6042 490.915 L37.0151 490.915 Q33.8322 489.068 32.3044 486.268 Q30.7448 483.435 30.7448 479.52 Q30.7448 473.027 35.9011 468.985 Q41.0573 464.911 49.46 464.911 Q57.8627 464.911 63.019 468.985 Q68.1752 473.027 68.1752 479.52 Q68.1752 483.435 66.6474 486.268 Q65.0878 489.068 61.905 490.915 M49.46 470.99 Q42.9988 470.99 39.3385 473.663 Q35.6464 476.305 35.6464 480.952 Q35.6464 485.599 39.3385 488.273 Q42.9988 490.915 49.46 490.915 Q55.9212 490.915 59.6133 488.273 Q63.2736 485.599 63.2736 480.952 Q63.2736 476.305 59.6133 473.663 Q55.9212 470.99 49.46 470.99 Z\" fill=\"#000000\" fill-rule=\"evenodd\" fill-opacity=\"1\" /><path clip-path=\"url(#clip680)\" d=\"M70.5623 440.371 Q76.928 442.853 78.8696 445.209 Q80.8111 447.564 80.8111 451.511 L80.8111 456.19 L75.9095 456.19 L75.9095 452.752 Q75.9095 450.333 74.7637 448.996 Q73.6179 447.66 69.3528 446.036 L66.6792 444.986 L31.6042 459.404 L31.6042 453.198 L59.486 442.058 L31.6042 430.918 L31.6042 424.711 L70.5623 440.371 Z\" fill=\"#000000\" fill-rule=\"evenodd\" fill-opacity=\"1\" /><path clip-path=\"url(#clip680)\" d=\"M17.727 395.906 L17.727 390.05 L67.2522 390.05 L67.2522 395.906 L17.727 395.906 Z\" fill=\"#000000\" fill-rule=\"evenodd\" fill-opacity=\"1\" /><path clip-path=\"url(#clip680)\" d=\"M35.7101 363.982 Q35.7101 368.693 39.4022 371.43 Q43.0625 374.167 49.46 374.167 Q55.8575 374.167 59.5497 371.462 Q63.2099 368.725 63.2099 363.982 Q63.2099 359.304 59.5178 356.566 Q55.8257 353.829 49.46 353.829 Q43.1261 353.829 39.434 356.566 Q35.7101 359.304 35.7101 363.982 M30.7448 363.982 Q30.7448 356.344 35.7101 351.983 Q40.6753 347.622 49.46 347.622 Q58.2129 347.622 63.2099 351.983 Q68.1752 356.344 68.1752 363.982 Q68.1752 371.653 63.2099 376.014 Q58.2129 380.342 49.46 380.342 Q40.6753 380.342 35.7101 376.014 Q30.7448 371.653 30.7448 363.982 Z\" fill=\"#000000\" fill-rule=\"evenodd\" fill-opacity=\"1\" /><path clip-path=\"url(#clip680)\" d=\"M32.6545 315.189 L38.1927 315.189 Q36.9196 317.672 36.283 320.345 Q35.6464 323.019 35.6464 325.884 Q35.6464 330.244 36.9832 332.44 Q38.32 334.605 40.9936 334.605 Q43.0306 334.605 44.2083 333.045 Q45.3541 331.485 46.4045 326.775 L46.8501 324.77 Q48.1869 318.531 50.6377 315.921 Q53.0566 313.28 57.4171 313.28 Q62.3824 313.28 65.2788 317.226 Q68.1752 321.141 68.1752 328.016 Q68.1752 330.881 67.6023 334 Q67.0612 337.087 65.9472 340.525 L59.8998 340.525 Q61.5867 337.278 62.446 334.127 Q63.2736 330.976 63.2736 327.889 Q63.2736 323.751 61.8731 321.523 Q60.4409 319.295 57.8627 319.295 Q55.4756 319.295 54.2025 320.918 Q52.9293 322.51 51.7517 327.952 L51.2742 329.989 Q50.1284 335.432 47.7731 337.851 Q45.386 340.27 41.2482 340.27 Q36.2193 340.27 33.4821 336.705 Q30.7448 333.141 30.7448 326.584 Q30.7448 323.337 31.2223 320.473 Q31.6997 317.608 32.6545 315.189 Z\" fill=\"#000000\" fill-rule=\"evenodd\" fill-opacity=\"1\" /><path clip-path=\"url(#clip680)\" d=\"M32.6545 281.228 L38.1927 281.228 Q36.9196 283.711 36.283 286.384 Q35.6464 289.058 35.6464 291.923 Q35.6464 296.283 36.9832 298.479 Q38.32 300.644 40.9936 300.644 Q43.0306 300.644 44.2083 299.084 Q45.3541 297.524 46.4045 292.814 L46.8501 290.809 Q48.1869 284.57 50.6377 281.96 Q53.0566 279.318 57.4171 279.318 Q62.3824 279.318 65.2788 283.265 Q68.1752 287.18 68.1752 294.055 Q68.1752 296.92 67.6023 300.039 Q67.0612 303.126 65.9472 306.564 L59.8998 306.564 Q61.5867 303.317 62.446 300.166 Q63.2736 297.015 63.2736 293.928 Q63.2736 289.79 61.8731 287.562 Q60.4409 285.334 57.8627 285.334 Q55.4756 285.334 54.2025 286.957 Q52.9293 288.549 51.7517 293.991 L51.2742 296.028 Q50.1284 301.471 47.7731 303.89 Q45.386 306.309 41.2482 306.309 Q36.2193 306.309 33.4821 302.744 Q30.7448 299.179 30.7448 292.623 Q30.7448 289.376 31.2223 286.512 Q31.6997 283.647 32.6545 281.228 Z\" fill=\"#000000\" fill-rule=\"evenodd\" fill-opacity=\"1\" /><path clip-path=\"url(#clip680)\" d=\"M805.368 12.096 L843.609 12.096 L843.609 18.9825 L813.551 18.9825 L813.551 36.8875 L842.353 36.8875 L842.353 43.7741 L813.551 43.7741 L813.551 65.6895 L844.338 65.6895 L844.338 72.576 L805.368 72.576 L805.368 12.096 Z\" fill=\"#000000\" fill-rule=\"evenodd\" fill-opacity=\"1\" /><path clip-path=\"url(#clip680)\" d=\"M883.753 34.1734 Q882.497 33.4443 880.999 33.1202 Q879.54 32.7556 877.758 32.7556 Q871.439 32.7556 868.036 36.8875 Q864.674 40.9789 864.674 48.6757 L864.674 72.576 L857.179 72.576 L857.179 27.2059 L864.674 27.2059 L864.674 34.2544 Q867.023 30.1225 870.79 28.1376 Q874.558 26.1121 879.945 26.1121 Q880.715 26.1121 881.647 26.2337 Q882.579 26.3147 883.713 26.5172 L883.753 34.1734 Z\" fill=\"#000000\" fill-rule=\"evenodd\" fill-opacity=\"1\" /><path clip-path=\"url(#clip680)\" d=\"M916.404 34.1734 Q915.148 33.4443 913.649 33.1202 Q912.191 32.7556 910.408 32.7556 Q904.089 32.7556 900.686 36.8875 Q897.324 40.9789 897.324 48.6757 L897.324 72.576 L889.83 72.576 L889.83 27.2059 L897.324 27.2059 L897.324 34.2544 Q899.673 30.1225 903.441 28.1376 Q907.208 26.1121 912.596 26.1121 Q913.365 26.1121 914.297 26.2337 Q915.229 26.3147 916.363 26.5172 L916.404 34.1734 Z\" fill=\"#000000\" fill-rule=\"evenodd\" fill-opacity=\"1\" /><path clip-path=\"url(#clip680)\" d=\"M939.98 32.4315 Q933.984 32.4315 930.501 37.1306 Q927.017 41.7891 927.017 49.9314 Q927.017 58.0738 930.46 62.7728 Q933.944 67.4314 939.98 67.4314 Q945.935 67.4314 949.418 62.7323 Q952.902 58.0333 952.902 49.9314 Q952.902 41.8701 949.418 37.1711 Q945.935 32.4315 939.98 32.4315 M939.98 26.1121 Q949.702 26.1121 955.252 32.4315 Q960.801 38.7509 960.801 49.9314 Q960.801 61.0714 955.252 67.4314 Q949.702 73.7508 939.98 73.7508 Q930.217 73.7508 924.667 67.4314 Q919.158 61.0714 919.158 49.9314 Q919.158 38.7509 924.667 32.4315 Q930.217 26.1121 939.98 26.1121 Z\" fill=\"#000000\" fill-rule=\"evenodd\" fill-opacity=\"1\" /><path clip-path=\"url(#clip680)\" d=\"M999.447 34.1734 Q998.191 33.4443 996.692 33.1202 Q995.234 32.7556 993.452 32.7556 Q987.132 32.7556 983.73 36.8875 Q980.367 40.9789 980.367 48.6757 L980.367 72.576 L972.873 72.576 L972.873 27.2059 L980.367 27.2059 L980.367 34.2544 Q982.717 30.1225 986.484 28.1376 Q990.252 26.1121 995.639 26.1121 Q996.409 26.1121 997.341 26.2337 Q998.272 26.3147 999.407 26.5172 L999.447 34.1734 Z\" fill=\"#000000\" fill-rule=\"evenodd\" fill-opacity=\"1\" /><path clip-path=\"url(#clip680)\" d=\"M1056.61 9.54393 L1056.61 15.7418 L1049.48 15.7418 Q1045.47 15.7418 1043.89 17.3622 Q1042.35 18.9825 1042.35 23.1955 L1042.35 27.2059 L1054.62 27.2059 L1054.62 32.9987 L1042.35 32.9987 L1042.35 72.576 L1034.85 72.576 L1034.85 32.9987 L1027.72 32.9987 L1027.72 27.2059 L1034.85 27.2059 L1034.85 24.0462 Q1034.85 16.471 1038.38 13.0277 Q1041.9 9.54393 1049.56 9.54393 L1056.61 9.54393 Z\" fill=\"#000000\" fill-rule=\"evenodd\" fill-opacity=\"1\" /><path clip-path=\"url(#clip680)\" d=\"M1062.07 54.671 L1062.07 27.2059 L1069.53 27.2059 L1069.53 54.3874 Q1069.53 60.8284 1072.04 64.0691 Q1074.55 67.2693 1079.57 67.2693 Q1085.61 67.2693 1089.09 63.421 Q1092.62 59.5726 1092.62 52.9291 L1092.62 27.2059 L1100.07 27.2059 L1100.07 72.576 L1092.62 72.576 L1092.62 65.6084 Q1089.9 69.7404 1086.3 71.7658 Q1082.73 73.7508 1077.99 73.7508 Q1070.18 73.7508 1066.12 68.8897 Q1062.07 64.0286 1062.07 54.671 M1080.83 26.1121 L1080.83 26.1121 Z\" fill=\"#000000\" fill-rule=\"evenodd\" fill-opacity=\"1\" /><path clip-path=\"url(#clip680)\" d=\"M1153.14 45.1919 L1153.14 72.576 L1145.68 72.576 L1145.68 45.4349 Q1145.68 38.994 1143.17 35.7938 Q1140.66 32.5936 1135.64 32.5936 Q1129.6 32.5936 1126.12 36.4419 Q1122.64 40.2903 1122.64 46.9338 L1122.64 72.576 L1115.14 72.576 L1115.14 27.2059 L1122.64 27.2059 L1122.64 34.2544 Q1125.31 30.163 1128.91 28.1376 Q1132.56 26.1121 1137.3 26.1121 Q1145.12 26.1121 1149.13 30.9732 Q1153.14 35.7938 1153.14 45.1919 Z\" fill=\"#000000\" fill-rule=\"evenodd\" fill-opacity=\"1\" /><path clip-path=\"url(#clip680)\" d=\"M1200.66 28.9478 L1200.66 35.9153 Q1197.5 34.1734 1194.3 33.3227 Q1191.14 32.4315 1187.9 32.4315 Q1180.64 32.4315 1176.63 37.0496 Q1172.62 41.6271 1172.62 49.9314 Q1172.62 58.2358 1176.63 62.8538 Q1180.64 67.4314 1187.9 67.4314 Q1191.14 67.4314 1194.3 66.5807 Q1197.5 65.6895 1200.66 63.9476 L1200.66 70.8341 Q1197.54 72.2924 1194.17 73.0216 Q1190.85 73.7508 1187.08 73.7508 Q1176.84 73.7508 1170.8 67.3098 Q1164.76 60.8689 1164.76 49.9314 Q1164.76 38.832 1170.84 32.472 Q1176.96 26.1121 1187.57 26.1121 Q1191.01 26.1121 1194.3 26.8413 Q1197.58 27.5299 1200.66 28.9478 Z\" fill=\"#000000\" fill-rule=\"evenodd\" fill-opacity=\"1\" /><path clip-path=\"url(#clip680)\" d=\"M1220.99 14.324 L1220.99 27.2059 L1236.34 27.2059 L1236.34 32.9987 L1220.99 32.9987 L1220.99 57.6282 Q1220.99 63.1779 1222.49 64.7578 Q1224.03 66.3376 1228.69 66.3376 L1236.34 66.3376 L1236.34 72.576 L1228.69 72.576 Q1220.06 72.576 1216.78 69.3758 Q1213.5 66.1351 1213.5 57.6282 L1213.5 32.9987 L1208.03 32.9987 L1208.03 27.2059 L1213.5 27.2059 L1213.5 14.324 L1220.99 14.324 Z\" fill=\"#000000\" fill-rule=\"evenodd\" fill-opacity=\"1\" /><path clip-path=\"url(#clip680)\" d=\"M1246.15 27.2059 L1253.6 27.2059 L1253.6 72.576 L1246.15 72.576 L1246.15 27.2059 M1246.15 9.54393 L1253.6 9.54393 L1253.6 18.9825 L1246.15 18.9825 L1246.15 9.54393 Z\" fill=\"#000000\" fill-rule=\"evenodd\" fill-opacity=\"1\" /><path clip-path=\"url(#clip680)\" d=\"M1286.78 32.4315 Q1280.78 32.4315 1277.3 37.1306 Q1273.81 41.7891 1273.81 49.9314 Q1273.81 58.0738 1277.26 62.7728 Q1280.74 67.4314 1286.78 67.4314 Q1292.73 67.4314 1296.22 62.7323 Q1299.7 58.0333 1299.7 49.9314 Q1299.7 41.8701 1296.22 37.1711 Q1292.73 32.4315 1286.78 32.4315 M1286.78 26.1121 Q1296.5 26.1121 1302.05 32.4315 Q1307.6 38.7509 1307.6 49.9314 Q1307.6 61.0714 1302.05 67.4314 Q1296.5 73.7508 1286.78 73.7508 Q1277.02 73.7508 1271.47 67.4314 Q1265.96 61.0714 1265.96 49.9314 Q1265.96 38.7509 1271.47 32.4315 Q1277.02 26.1121 1286.78 26.1121 Z\" fill=\"#000000\" fill-rule=\"evenodd\" fill-opacity=\"1\" /><path clip-path=\"url(#clip680)\" d=\"M1357.67 45.1919 L1357.67 72.576 L1350.21 72.576 L1350.21 45.4349 Q1350.21 38.994 1347.7 35.7938 Q1345.19 32.5936 1340.17 32.5936 Q1334.13 32.5936 1330.65 36.4419 Q1327.17 40.2903 1327.17 46.9338 L1327.17 72.576 L1319.67 72.576 L1319.67 27.2059 L1327.17 27.2059 L1327.17 34.2544 Q1329.84 30.163 1333.44 28.1376 Q1337.09 26.1121 1341.83 26.1121 Q1349.65 26.1121 1353.66 30.9732 Q1357.67 35.7938 1357.67 45.1919 Z\" fill=\"#000000\" fill-rule=\"evenodd\" fill-opacity=\"1\" /><polyline clip-path=\"url(#clip682)\" style=\"stroke:#009af9; stroke-linecap:butt; stroke-linejoin:round; stroke-width:8; stroke-opacity:1; fill:none\" points=\"\n",
       "  259.596,143.404 1903.44,1009.41 \n",
       "  \"/>\n",
       "</svg>\n"
      ]
     },
     "metadata": {},
     "output_type": "display_data"
    }
   ],
   "source": [
    "losses = rp.neural_network_classifier.training_losses\n",
    "epochs = pipe.neural_network_classifier.epochs\n",
    "plot(0:epochs, losses, title=\"Error function\", size=(500,300), linewidth=2, legend=false)\n",
    "xlabel!(\"Epochs\")\n",
    "ylabel!(\"Cross-entropy loss\")"
   ]
  },
  {
   "cell_type": "markdown",
   "id": "0fb9b1f4",
   "metadata": {},
   "source": [
    "Testing"
   ]
  },
  {
   "cell_type": "code",
   "execution_count": 22,
   "id": "b6ada58f",
   "metadata": {},
   "outputs": [
    {
     "data": {
      "text/plain": [
       "10×10 Matrix{Int64}:\n",
       " 1715     0    14     9     3    31    12     7    10    11\n",
       "    0  1957    20     5     3     6     2    14    38     4\n",
       "    5    14  1607    55    12    10     8    25    28     1\n",
       "    2     4    23  1585     2    55     0    10    55    26\n",
       "    6     3    19     0  1640    27    14    21    12   100\n",
       "   18     9    10    96     3  1397    30     2    81    18\n",
       "   12     2    26     7    21    29  1699     0    21     0\n",
       "    5     6    27    35     6    11     3  1766    10    74\n",
       "   13    24    37    31    12    43     7     3  1470    11\n",
       "    1     4     4    16    51    17     0    31    30  1540"
      ]
     },
     "metadata": {},
     "output_type": "display_data"
    },
    {
     "name": "stdout",
     "output_type": "stream",
     "text": [
      "accuracy: 0.91\n",
      "f1-score: "
     ]
    },
    {
     "name": "stdout",
     "output_type": "stream",
     "text": [
      "0.908\n"
     ]
    }
   ],
   "source": [
    "X_ts, y_ts = preprocess(testX, testY);\n",
    "ŷ = predict_mode(mach, X_ts)\n",
    "printMetrics(ŷ, y_ts)"
   ]
  },
  {
   "cell_type": "markdown",
   "id": "5846c1f6",
   "metadata": {},
   "source": [
    "Validation"
   ]
  },
  {
   "cell_type": "code",
   "execution_count": null,
   "id": "41bd381d",
   "metadata": {},
   "outputs": [],
   "source": [
    "X_v, y_v = preprocess(validationX, validationY)\n",
    "ŷ = predict_mode(mach, X_v)\n",
    "printMetrics(ŷ, y_v)"
   ]
  }
 ],
 "metadata": {
  "kernelspec": {
   "display_name": "Julia 1.6.6",
   "language": "julia",
   "name": "julia-1.6"
  },
  "language_info": {
   "file_extension": ".jl",
   "mimetype": "application/julia",
   "name": "julia",
   "version": "1.6.6"
  }
 },
 "nbformat": 4,
 "nbformat_minor": 5
}
