{
 "cells": [
  {
   "cell_type": "markdown",
   "id": "e145f758",
   "metadata": {},
   "source": [
    "#### PCA + Standardizer with MNIST\n"
   ]
  },
  {
   "cell_type": "markdown",
   "id": "5f262ba3",
   "metadata": {},
   "source": [
    "##### Libraries"
   ]
  },
  {
   "cell_type": "code",
   "execution_count": 27,
   "id": "6b12a07d",
   "metadata": {},
   "outputs": [],
   "source": [
    "using MLDatasets           # mnist\n",
    "using Images\n",
    "using PreprocessingImages; pim = PreprocessingImages\n",
    "using PreprocessingArrays; pa  = PreprocessingArrays\n",
    "\n",
    "using MLJ                  # make_blobs, rmse, confmat, categorical\n",
    "using MLDataUtils          # label, nlabel, labelfreq\n",
    "\n",
    "using Metrics              # r2-score\n",
    "using Random\n",
    "using Plots; gr()\n",
    "using StatsPlots\n",
    "using DataFrames"
   ]
  },
  {
   "cell_type": "markdown",
   "id": "d53a09fe",
   "metadata": {},
   "source": [
    "##### Functions"
   ]
  },
  {
   "cell_type": "code",
   "execution_count": 28,
   "id": "66ccdfa6",
   "metadata": {},
   "outputs": [
    {
     "data": {
      "text/plain": [
       "printMetrics (generic function with 1 method)"
      ]
     },
     "metadata": {},
     "output_type": "display_data"
    }
   ],
   "source": [
    "# metrics\n",
    "function printMetrics(ŷ, y)\n",
    "    display(confmat(ŷ, y))\n",
    "    println(\"accuracy: \", round(accuracy(ŷ, y); digits=3))\n",
    "    println(\"f1-score: \", round(multiclass_f1score(ŷ, y); digits=3))\n",
    "end\n"
   ]
  },
  {
   "cell_type": "markdown",
   "id": "8903cf71",
   "metadata": {},
   "source": [
    "##### MNIST"
   ]
  },
  {
   "cell_type": "code",
   "execution_count": 29,
   "id": "4d7603a2",
   "metadata": {},
   "outputs": [
    {
     "data": {
      "text/plain": [
       "(28, 28, 60000)"
      ]
     },
     "metadata": {},
     "output_type": "display_data"
    },
    {
     "data": {
      "text/plain": [
       "1×5 adjoint(::Vector{Int64}) with eltype Int64:\n",
       " 5  0  4  1  9"
      ]
     },
     "metadata": {},
     "output_type": "display_data"
    },
    {
     "data": {
      "image/png": "[encoded data removed]",
      "text/html": [
       "<img src=\"data:image/png;base64,iVBORw0KGgoAAAANSUhEUgAAARgAAAA4CAAAAAADPrjSAAAABGdBTUEAALGPC/xhBQAAAAFzUkdCAK7OHOkAAAAgY0hSTQAAeiYAAICEAAD6AAAAgOgAAHUwAADqYAAAOpgAABdwnLpRPAAABPJJREFUaAXtwX2M1nUBAPDPc34HHjmOeOlgOUSNaKPggqHpCCheckgGUSIpiJW6UGQrmViXO6cwEvgDGE4nE+TFXS3CQ51DJnHGoJsn6pwEkTQccBGi58FF3vJ52rPjFnf3fV44tNX8fT5BIipIRAWJqCARFSSigkRUkIgKElHBJ2Kku8223ip7/X8KElFBDhcpk3W3Hoa4yzIz/dMSDyqswnY9Zcxygz66ZrxNxjrgfFR6UIlxal24IBEVdDBQN9carZfp2hyx0jSnvKFWYVfZrEzGKS36uMarWnQ2Rh9b5DZKvfMzx0JpZHwcgkRU0M5XvaRMe2mVmj3tmPcdkF8PI2w0QNZBj6i2yy8t1tk4g22RS4nLDZRyPi7TXfGuNssYQ3GvY75ugzrnChJRQTuHnVSmTZ1G39Big2I9bqY2I1yi1jhfETPbHrkNcLuN9iveBPOw3xTHFTbDCn2l7NTPUqT0dZNzBYmooJ33LDDFa1bidRM1G2q+Yo10vRRqPWepBq953zelxJTIZw0OKt5o65RhqcMKCUZ5Qg8ve8gu3f3GJNRrL0hEBR08Y4dThvuR5ZrxljsUp8J2PWW8YKaxKq1xwhvSrjfCXu0NUy6fMmxXvFsNwE7rFXaLNdhuhibMMAlHPKW9IBEVdNKED/Bj1dKK9UULlHlXg6ec9rzntSn1Mzdrb7JSuZW7HEcVq68fSmu0SGEPu1/Goyo1yfqFrHuc0F6QiAqiqow01gQvKk53y0x2ymz1SnU0UEdD8JZclin3Z6cUZ5DNslbZoZAH3K/FNvc5g4tNMlDKw2p0FCSigqhmt9vrCb9Xb7WMQkaYjO+oVbxXdNbTdW4xCQ9pVJzrDMNLViikl7kytpkq6ws2GYnfekRnQSIqyOFtc6w1yyyfsV6D/JZLqVWrsxJpKTG9tRquxHiX6uZmJc6o86HgVcWZagl2udUHCummL+7xObe5wZddIiNjo2adBYmoIKct/mK58Ra7zCJH5TZFhYytYtIyXtfRGRmP+bmsYVL+5R/2eVK9WscdUWq/YgyyWdYhxxXW4oR+/ioj65gmA7zrWTFBIirI4003+ra17jTYRLmV6ubvfq2j7qqww0IdzXXYtVq9o8Y+f9TmDv0cUpz7pGUtUYxGUz2nt7fVWOc91QaoFhckooK8Gm2wRjDGODvl86EG7XVXaYEjljuts1/JZTw2K0aFSbJqHFCcOv20GWOstEPigkRUkMcw3zNKwD4vy2+r9iosMEON6briGcV40WdRZ46uKJWWUS0uSEQFOQwxzzT9ZX2kQVpuKSlTzfcfP1WpzCazfZL6SGO107pim3yCRFQQ0d8P3GWQVvUW2SqfjIz+VnrSSV8zy3CXesc2j+qalMH2KGStElm7dc235BMkooIOyg21ype0qrNUjbTCLjLXdE0Gy9pjhwd0VUaJQipMlNZiteO65kr5BImo4By9Pa7CFVrtttw2ZxS2xytGob9ynFRtvgtzjXXy66UcR92rq/6gRFouQSIqOOtqC1zl81qdscJizYpzxHfdqVLWCo856MKk/De86aArXOmEmCARFZw1zTRZf/KsjyzT6Hw0qFLl4/GC7ytsv91GuzCLrbHIPPt0FiSigrMWWuh/wzrrFPY3Y12o37nJBFVu06yjIBEVfIo1udEiP1Fln46CRFTwqdZknnligkTUvwF5x1NZIErsDQAAAABJRU5ErkJg\">"
      ],
      "text/plain": [
       "28×140 MosaicView{Gray{Float32}, 4, Base.ReshapedArray{Gray{Float32}, 4, PaddedView{Gray{Float32}, 3, Tuple{Base.OneTo{Int64}, Base.OneTo{Int64}, Base.OneTo{Int64}}, Array{Gray{Float32}, 3}}, Tuple{Base.MultiplicativeInverses.SignedMultiplicativeInverse{Int64}, Base.MultiplicativeInverses.SignedMultiplicativeInverse{Int64}}}}:\n",
       " Gray{Float32}(0.0)  Gray{Float32}(0.0)  …  Gray{Float32}(0.0)\n",
       " Gray{Float32}(0.0)  Gray{Float32}(0.0)     Gray{Float32}(0.0)\n",
       " Gray{Float32}(0.0)  Gray{Float32}(0.0)     Gray{Float32}(0.0)\n",
       " Gray{Float32}(0.0)  Gray{Float32}(0.0)     Gray{Float32}(0.0)\n",
       " Gray{Float32}(0.0)  Gray{Float32}(0.0)     Gray{Float32}(0.0)\n",
       " Gray{Float32}(0.0)  Gray{Float32}(0.0)  …  Gray{Float32}(0.0)\n",
       " Gray{Float32}(0.0)  Gray{Float32}(0.0)     Gray{Float32}(0.0)\n",
       " Gray{Float32}(0.0)  Gray{Float32}(0.0)     Gray{Float32}(0.0)\n",
       " Gray{Float32}(0.0)  Gray{Float32}(0.0)     Gray{Float32}(0.0)\n",
       " Gray{Float32}(0.0)  Gray{Float32}(0.0)     Gray{Float32}(0.0)\n",
       " ⋮                                       ⋱  \n",
       " Gray{Float32}(0.0)  Gray{Float32}(0.0)     Gray{Float32}(0.0)\n",
       " Gray{Float32}(0.0)  Gray{Float32}(0.0)  …  Gray{Float32}(0.0)\n",
       " Gray{Float32}(0.0)  Gray{Float32}(0.0)     Gray{Float32}(0.0)\n",
       " Gray{Float32}(0.0)  Gray{Float32}(0.0)     Gray{Float32}(0.0)\n",
       " Gray{Float32}(0.0)  Gray{Float32}(0.0)     Gray{Float32}(0.0)\n",
       " Gray{Float32}(0.0)  Gray{Float32}(0.0)     Gray{Float32}(0.0)\n",
       " Gray{Float32}(0.0)  Gray{Float32}(0.0)  …  Gray{Float32}(0.0)\n",
       " Gray{Float32}(0.0)  Gray{Float32}(0.0)     Gray{Float32}(0.0)\n",
       " Gray{Float32}(0.0)  Gray{Float32}(0.0)     Gray{Float32}(0.0)"
      ]
     },
     "metadata": {},
     "output_type": "display_data"
    }
   ],
   "source": [
    "# load mnist\n",
    "datasetX,    datasetY    = MNIST(:train)[:]\n",
    "validationX, validationY = MNIST(:test)[:]\n",
    "\n",
    "display( size(datasetX) )\n",
    "\n",
    "img  = datasetX[:, :, 1:5]\n",
    "img2 = permutedims(img, (2, 1, 3))\n",
    "\n",
    "display(datasetY[1:5]')\n",
    "mosaicview( Gray.(img2)  ; nrow=1)"
   ]
  },
  {
   "cell_type": "code",
   "execution_count": 30,
   "id": "2ecbb1f6",
   "metadata": {},
   "outputs": [
    {
     "data": {
      "text/plain": [
       "((28, 28, 42001), (28, 28, 17999), (28, 28, 10000))"
      ]
     },
     "metadata": {},
     "output_type": "display_data"
    }
   ],
   "source": [
    "# split trainset, testset from dataset\n",
    "Random.seed!(1)\n",
    "(trainX, trainY), (testX, testY) = stratifiedobs((datasetX, datasetY), p = 0.7)\n",
    "size(trainX), size(testX), size(validationX)"
   ]
  },
  {
   "cell_type": "markdown",
   "id": "b8b9c3b0",
   "metadata": {},
   "source": [
    "##### Preprocessing\n"
   ]
  },
  {
   "cell_type": "code",
   "execution_count": 31,
   "id": "f76c815d",
   "metadata": {},
   "outputs": [],
   "source": [
    "function preprocess(X, y)\n",
    "    newX = pim.batchImage2DF(X)\n",
    "    #coerce!(newX)   # no need, all scitypes are Continuous in this example\n",
    "    new_y = coerce(y, OrderedFactor)\n",
    "    \n",
    "    return (newX, new_y)\n",
    "end\n",
    "\n",
    "X_tr, y_tr = preprocess(trainX, trainY);"
   ]
  },
  {
   "cell_type": "code",
   "execution_count": 32,
   "id": "a82db1c6",
   "metadata": {},
   "outputs": [
    {
     "data": {
      "text/plain": [
       "Table{AbstractVector{Continuous}}"
      ]
     },
     "metadata": {},
     "output_type": "display_data"
    }
   ],
   "source": [
    "scitype(X_tr)"
   ]
  },
  {
   "cell_type": "code",
   "execution_count": 33,
   "id": "4724874c",
   "metadata": {},
   "outputs": [
    {
     "data": {
      "text/plain": [
       "AbstractVector{OrderedFactor{10}} (alias for AbstractArray{OrderedFactor{10}, 1})"
      ]
     },
     "metadata": {},
     "output_type": "display_data"
    }
   ],
   "source": [
    "scitype(y_tr)"
   ]
  },
  {
   "cell_type": "markdown",
   "id": "e26954e9",
   "metadata": {},
   "source": [
    "##### Reduce dimensions and standardize"
   ]
  },
  {
   "cell_type": "code",
   "execution_count": 34,
   "id": "84b424c5",
   "metadata": {},
   "outputs": [
    {
     "name": "stderr",
     "output_type": "stream",
     "text": [
      "┌ Info: Training machine(Pipeline307(pca = PCA(maxoutdim = 0, …), …), …).\n",
      "└ @ MLJBase /home/ciro/.julia/packages/MLJBase/QZctr/src/machines.jl:487\n"
     ]
    },
    {
     "name": "stderr",
     "output_type": "stream",
     "text": [
      "┌ Info: Training machine(PCA(maxoutdim = 0, …), …).\n",
      "└ @ MLJBase /home/ciro/.julia/packages/MLJBase/QZctr/src/machines.jl:487\n"
     ]
    },
    {
     "name": "stderr",
     "output_type": "stream",
     "text": [
      "┌ Info: Training machine(Standardizer(features = Symbol[], …), …).\n",
      "└ @ MLJBase /home/ciro/.julia/packages/MLJBase/QZctr/src/machines.jl:487\n"
     ]
    },
    {
     "data": {
      "text/html": [
       "<div class=\"data-frame\"><p>5 rows × 87 columns (omitted printing of 79 columns)</p><table class=\"data-frame\"><thead><tr><th></th><th>x1</th><th>x2</th><th>x3</th><th>x4</th><th>x5</th><th>x6</th><th>x7</th><th>x8</th></tr><tr><th></th><th title=\"Float32\">Float32</th><th title=\"Float32\">Float32</th><th title=\"Float32\">Float32</th><th title=\"Float32\">Float32</th><th title=\"Float32\">Float32</th><th title=\"Float32\">Float32</th><th title=\"Float32\">Float32</th><th title=\"Float32\">Float32</th></tr></thead><tbody><tr><th>1</th><td>1.02553</td><td>0.364737</td><td>-0.304525</td><td>-0.98564</td><td>-1.25582</td><td>0.654737</td><td>0.517963</td><td>2.86921</td></tr><tr><th>2</th><td>1.26633</td><td>-0.2766</td><td>-1.84139</td><td>0.464359</td><td>-0.0501048</td><td>0.141543</td><td>0.672342</td><td>-0.192565</td></tr><tr><th>3</th><td>1.5935</td><td>-0.231705</td><td>-1.91622</td><td>0.777106</td><td>-2.09254</td><td>-1.47511</td><td>-1.23363</td><td>1.16235</td></tr><tr><th>4</th><td>0.0313314</td><td>-0.864217</td><td>-0.954639</td><td>1.03453</td><td>-1.16941</td><td>0.83675</td><td>2.1645</td><td>-0.267772</td></tr><tr><th>5</th><td>-0.824789</td><td>0.471452</td><td>0.22298</td><td>-0.530035</td><td>0.209059</td><td>1.48011</td><td>-1.07067</td><td>0.662547</td></tr></tbody></table></div>"
      ],
      "text/latex": [
       "\\begin{tabular}{r|ccccccccc}\n",
       "\t& x1 & x2 & x3 & x4 & x5 & x6 & x7 & x8 & \\\\\n",
       "\t\\hline\n",
       "\t& Float32 & Float32 & Float32 & Float32 & Float32 & Float32 & Float32 & Float32 & \\\\\n",
       "\t\\hline\n",
       "\t1 & 1.02553 & 0.364737 & -0.304525 & -0.98564 & -1.25582 & 0.654737 & 0.517963 & 2.86921 & $\\dots$ \\\\\n",
       "\t2 & 1.26633 & -0.2766 & -1.84139 & 0.464359 & -0.0501048 & 0.141543 & 0.672342 & -0.192565 & $\\dots$ \\\\\n",
       "\t3 & 1.5935 & -0.231705 & -1.91622 & 0.777106 & -2.09254 & -1.47511 & -1.23363 & 1.16235 & $\\dots$ \\\\\n",
       "\t4 & 0.0313314 & -0.864217 & -0.954639 & 1.03453 & -1.16941 & 0.83675 & 2.1645 & -0.267772 & $\\dots$ \\\\\n",
       "\t5 & -0.824789 & 0.471452 & 0.22298 & -0.530035 & 0.209059 & 1.48011 & -1.07067 & 0.662547 & $\\dots$ \\\\\n",
       "\\end{tabular}\n"
      ],
      "text/plain": [
       "\u001b[1m5×87 DataFrame\u001b[0m\n",
       "\u001b[1m Row \u001b[0m│\u001b[1m x1         \u001b[0m\u001b[1m x2        \u001b[0m\u001b[1m x3        \u001b[0m\u001b[1m x4        \u001b[0m\u001b[1m x5         \u001b[0m\u001b[1m x6        \u001b[0m\u001b[1m x7 \u001b[0m ⋯\n",
       "\u001b[1m     \u001b[0m│\u001b[90m Float32    \u001b[0m\u001b[90m Float32   \u001b[0m\u001b[90m Float32   \u001b[0m\u001b[90m Float32   \u001b[0m\u001b[90m Float32    \u001b[0m\u001b[90m Float32   \u001b[0m\u001b[90m Flo\u001b[0m ⋯\n",
       "─────┼──────────────────────────────────────────────────────────────────────────\n",
       "   1 │  1.02553     0.364737  -0.304525  -0.98564   -1.25582     0.654737   0. ⋯\n",
       "   2 │  1.26633    -0.2766    -1.84139    0.464359  -0.0501048   0.141543   0.\n",
       "   3 │  1.5935     -0.231705  -1.91622    0.777106  -2.09254    -1.47511   -1.\n",
       "   4 │  0.0313314  -0.864217  -0.954639   1.03453   -1.16941     0.83675    2.\n",
       "   5 │ -0.824789    0.471452   0.22298   -0.530035   0.209059    1.48011   -1. ⋯\n",
       "\u001b[36m                                                              81 columns omitted\u001b[0m"
      ]
     },
     "metadata": {},
     "output_type": "display_data"
    }
   ],
   "source": [
    "# reduce predictors\n",
    "PCA = @load PCA pkg=MultivariateStats verbosity=0\n",
    "reducer = PCA(pratio = 0.9)\n",
    "\n",
    "# standardize predictors\n",
    "std = Standardizer()\n",
    "\n",
    "pipe = @pipeline reducer std\n",
    "mach = MLJ.machine(pipe, X_tr) |> fit!\n",
    "X_df = MLJ.transform(mach, X_tr) .|> Float32   # ver o que faz\n",
    "\n",
    "first(X_df,5)"
   ]
  }
 ],
 "metadata": {
  "kernelspec": {
   "display_name": "Julia 1.6.6",
   "language": "julia",
   "name": "julia-1.6"
  },
  "language_info": {
   "file_extension": ".jl",
   "mimetype": "application/julia",
   "name": "julia",
   "version": "1.6.6"
  }
 },
 "nbformat": 4,
 "nbformat_minor": 5
}
