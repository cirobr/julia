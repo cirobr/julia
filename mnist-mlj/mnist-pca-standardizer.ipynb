{
 "cells": [
  {
   "cell_type": "markdown",
   "id": "e145f758",
   "metadata": {},
   "source": [
    "# PCA + Standardizer with MNIST\n"
   ]
  },
  {
   "cell_type": "markdown",
   "id": "5f262ba3",
   "metadata": {},
   "source": [
    "## Libraries"
   ]
  },
  {
   "cell_type": "code",
   "execution_count": 6,
   "id": "d63e87f2",
   "metadata": {},
   "outputs": [],
   "source": [
    "# libraries\n",
    "#using CUDA\n",
    "\n",
    "using Flux              # the julia ml library\n",
    "using Images            # image processing and machine vision for julia\n",
    "\n",
    "using MLJ               # make_blobs, rmse, confmat, f1score, coerce\n",
    "#using MLJFlux           # NeuralNetworkClassifier, CUDALibs\n",
    "using MLDataUtils       # label, nlabel, labelfreq, stratifiedobs\n",
    "using MLDatasets        # mnist\n",
    "\n",
    "#using LinearAlgebra     # pinv pseudo-inverse matrix\n",
    "#using Metrics           # r2-score\n",
    "using Random\n",
    "#using StatsBase         # standardize (normalization)\n",
    "#using Distributions\n",
    "\n",
    "using Plots; gr()\n",
    "using StatsPlots\n",
    "using Printf\n",
    "\n",
    "using CSV\n",
    "using DataFrames\n"
   ]
  },
  {
   "cell_type": "markdown",
   "id": "d53a09fe",
   "metadata": {},
   "source": [
    "## Functions"
   ]
  },
  {
   "cell_type": "code",
   "execution_count": 2,
   "id": "53255360",
   "metadata": {},
   "outputs": [
    {
     "data": {
      "text/plain": [
       "batchImage2DF (generic function with 1 method)"
      ]
     },
     "execution_count": 2,
     "metadata": {},
     "output_type": "execute_result"
    }
   ],
   "source": [
    "image2Vector(M) = vec( Float32.(M) )   # 32-bits is faster on GPU\n",
    "\n",
    "function batchImage2Vector(imagesArray3D)\n",
    "    h, v, N = size(imagesArray3D)\n",
    "    vectorOfImageVectors = [ image2Vector( imagesArray3D[:, :, i] ) for i in 1:N]\n",
    "end\n",
    "\n",
    "function batchImage2Matrix(imagesArray3D)\n",
    "    vectorOfImageVectors = batchImage2Vector(imagesArray3D)\n",
    "    M = reduce(hcat, vectorOfImageVectors)\n",
    "    M'\n",
    "end\n",
    "\n",
    "function batchImage2DF(imagesArray3D)\n",
    "    M = batchImage2Matrix(imagesArray3D)\n",
    "    DataFrame(M, :auto)\n",
    "end\n"
   ]
  },
  {
   "cell_type": "code",
   "execution_count": 3,
   "id": "66ccdfa6",
   "metadata": {},
   "outputs": [
    {
     "data": {
      "text/plain": [
       "printMetrics (generic function with 1 method)"
      ]
     },
     "execution_count": 3,
     "metadata": {},
     "output_type": "execute_result"
    }
   ],
   "source": [
    "# metrics\n",
    "function printMetrics(ŷ, y)\n",
    "    display(confmat(ŷ, y))\n",
    "    println(\"accuracy: \", round(accuracy(ŷ, y); digits=3))\n",
    "    println(\"f1-score: \", round(multiclass_f1score(ŷ, y); digits=3))\n",
    "end\n"
   ]
  },
  {
   "cell_type": "markdown",
   "id": "8903cf71",
   "metadata": {},
   "source": [
    "## Dataset"
   ]
  },
  {
   "cell_type": "code",
   "execution_count": 4,
   "id": "4bd90da6",
   "metadata": {},
   "outputs": [],
   "source": [
    "# load mnist from MLDatasets\n",
    "trainX_original,      trainY_original      = MNIST.traindata()\n",
    "validationX_original, validationY_original = MNIST.testdata();\n"
   ]
  },
  {
   "cell_type": "code",
   "execution_count": 7,
   "id": "7f2acc6e",
   "metadata": {},
   "outputs": [
    {
     "data": {
      "text/plain": [
       "((28, 28, 42001), (28, 28, 17999), (28, 28, 10000))"
      ]
     },
     "execution_count": 7,
     "metadata": {},
     "output_type": "execute_result"
    }
   ],
   "source": [
    "# split trainset, testset, validation set\n",
    "Random.seed!(1)\n",
    "(trainX, trainY), (testX, testY) = stratifiedobs((trainX_original, trainY_original), p = 0.7)\n",
    "validationX = copy(validationX_original); validationY = copy(validationY_original)\n",
    "\n",
    "size(trainX), size(testX), size(validationX)"
   ]
  },
  {
   "cell_type": "markdown",
   "id": "b8b9c3b0",
   "metadata": {},
   "source": [
    "## Preprocessing\n"
   ]
  },
  {
   "cell_type": "code",
   "execution_count": 8,
   "id": "f76c815d",
   "metadata": {},
   "outputs": [],
   "source": [
    "function preprocess(X, y)\n",
    "    newX = batchImage2DF(X)\n",
    "    #coerce!(newX)   # no need, all scitypes are Continuous in this example\n",
    "    new_y = coerce(y, OrderedFactor)\n",
    "    \n",
    "    return (newX, new_y)\n",
    "end\n",
    "\n",
    "X, y = preprocess(trainX, trainY);"
   ]
  },
  {
   "cell_type": "code",
   "execution_count": 9,
   "id": "a82db1c6",
   "metadata": {},
   "outputs": [
    {
     "data": {
      "text/plain": [
       "Table{AbstractVector{Continuous}}"
      ]
     },
     "execution_count": 9,
     "metadata": {},
     "output_type": "execute_result"
    }
   ],
   "source": [
    "scitype(X)"
   ]
  },
  {
   "cell_type": "code",
   "execution_count": 10,
   "id": "4724874c",
   "metadata": {},
   "outputs": [
    {
     "data": {
      "text/plain": [
       "AbstractVector{OrderedFactor{10}} (alias for AbstractArray{OrderedFactor{10}, 1})"
      ]
     },
     "execution_count": 10,
     "metadata": {},
     "output_type": "execute_result"
    }
   ],
   "source": [
    "scitype(y)"
   ]
  },
  {
   "cell_type": "markdown",
   "id": "e26954e9",
   "metadata": {},
   "source": [
    "## Reduce dimensions and standardize"
   ]
  },
  {
   "cell_type": "code",
   "execution_count": 11,
   "id": "84b424c5",
   "metadata": {},
   "outputs": [
    {
     "name": "stderr",
     "output_type": "stream",
     "text": [
      "┌ Info: Training Machine{Pipeline290,…}.\n",
      "└ @ MLJBase /home/ciro/.julia/packages/MLJBase/pCiRR/src/machines.jl:464\n",
      "┌ Info: Training Machine{PCA,…}.\n",
      "└ @ MLJBase /home/ciro/.julia/packages/MLJBase/pCiRR/src/machines.jl:464\n",
      "┌ Info: Training Machine{Standardizer,…}.\n",
      "└ @ MLJBase /home/ciro/.julia/packages/MLJBase/pCiRR/src/machines.jl:464\n"
     ]
    },
    {
     "data": {
      "text/html": [
       "<div class=\"data-frame\"><p>5 rows × 87 columns (omitted printing of 79 columns)</p><table class=\"data-frame\"><thead><tr><th></th><th>x1</th><th>x2</th><th>x3</th><th>x4</th><th>x5</th><th>x6</th><th>x7</th><th>x8</th></tr><tr><th></th><th title=\"Float64\">Float64</th><th title=\"Float64\">Float64</th><th title=\"Float64\">Float64</th><th title=\"Float64\">Float64</th><th title=\"Float64\">Float64</th><th title=\"Float64\">Float64</th><th title=\"Float64\">Float64</th><th title=\"Float64\">Float64</th></tr></thead><tbody><tr><th>1</th><td>1.02553</td><td>0.364737</td><td>-0.304525</td><td>-0.985644</td><td>1.25581</td><td>0.654737</td><td>0.517963</td><td>2.86921</td></tr><tr><th>2</th><td>1.26633</td><td>-0.276599</td><td>-1.84139</td><td>0.464359</td><td>0.050105</td><td>0.141544</td><td>0.672341</td><td>-0.192556</td></tr><tr><th>3</th><td>1.5935</td><td>-0.231705</td><td>-1.91622</td><td>0.777102</td><td>2.09254</td><td>-1.47511</td><td>-1.23363</td><td>1.16234</td></tr><tr><th>4</th><td>0.0313318</td><td>-0.864217</td><td>-0.95464</td><td>1.03453</td><td>1.16941</td><td>0.836753</td><td>2.1645</td><td>-0.267771</td></tr><tr><th>5</th><td>-0.824789</td><td>0.471452</td><td>0.222981</td><td>-0.530036</td><td>-0.209062</td><td>1.48011</td><td>-1.07067</td><td>0.662557</td></tr></tbody></table></div>"
      ],
      "text/latex": [
       "\\begin{tabular}{r|ccccccccc}\n",
       "\t& x1 & x2 & x3 & x4 & x5 & x6 & x7 & x8 & \\\\\n",
       "\t\\hline\n",
       "\t& Float64 & Float64 & Float64 & Float64 & Float64 & Float64 & Float64 & Float64 & \\\\\n",
       "\t\\hline\n",
       "\t1 & 1.02553 & 0.364737 & -0.304525 & -0.985644 & 1.25581 & 0.654737 & 0.517963 & 2.86921 & $\\dots$ \\\\\n",
       "\t2 & 1.26633 & -0.276599 & -1.84139 & 0.464359 & 0.050105 & 0.141544 & 0.672341 & -0.192556 & $\\dots$ \\\\\n",
       "\t3 & 1.5935 & -0.231705 & -1.91622 & 0.777102 & 2.09254 & -1.47511 & -1.23363 & 1.16234 & $\\dots$ \\\\\n",
       "\t4 & 0.0313318 & -0.864217 & -0.95464 & 1.03453 & 1.16941 & 0.836753 & 2.1645 & -0.267771 & $\\dots$ \\\\\n",
       "\t5 & -0.824789 & 0.471452 & 0.222981 & -0.530036 & -0.209062 & 1.48011 & -1.07067 & 0.662557 & $\\dots$ \\\\\n",
       "\\end{tabular}\n"
      ],
      "text/plain": [
       "\u001b[1m5×87 DataFrame\u001b[0m\n",
       "\u001b[1m Row \u001b[0m│\u001b[1m x1         \u001b[0m\u001b[1m x2        \u001b[0m\u001b[1m x3        \u001b[0m\u001b[1m x4        \u001b[0m\u001b[1m x5        \u001b[0m\u001b[1m x6        \u001b[0m\u001b[1m x7  \u001b[0m ⋯\n",
       "\u001b[1m     \u001b[0m│\u001b[90m Float64    \u001b[0m\u001b[90m Float64   \u001b[0m\u001b[90m Float64   \u001b[0m\u001b[90m Float64   \u001b[0m\u001b[90m Float64   \u001b[0m\u001b[90m Float64   \u001b[0m\u001b[90m Floa\u001b[0m ⋯\n",
       "─────┼──────────────────────────────────────────────────────────────────────────\n",
       "   1 │  1.02553     0.364737  -0.304525  -0.985644   1.25581    0.654737   0.5 ⋯\n",
       "   2 │  1.26633    -0.276599  -1.84139    0.464359   0.050105   0.141544   0.6\n",
       "   3 │  1.5935     -0.231705  -1.91622    0.777102   2.09254   -1.47511   -1.2\n",
       "   4 │  0.0313318  -0.864217  -0.95464    1.03453    1.16941    0.836753   2.1\n",
       "   5 │ -0.824789    0.471452   0.222981  -0.530036  -0.209062   1.48011   -1.0 ⋯\n",
       "\u001b[36m                                                              81 columns omitted\u001b[0m"
      ]
     },
     "execution_count": 11,
     "metadata": {},
     "output_type": "execute_result"
    }
   ],
   "source": [
    "# reduce predictors\n",
    "PCA = @load PCA pkg=MultivariateStats verbosity=0\n",
    "reducer = PCA(pratio = 0.9)\n",
    "\n",
    "# standardize predictors\n",
    "std = Standardizer()\n",
    "\n",
    "pipe = @pipeline reducer std\n",
    "mach = MLJ.machine(pipe, X) |> fit!\n",
    "X_til = MLJ.transform(mach, X)\n",
    "\n",
    "first(X_til,5)"
   ]
  }
 ],
 "metadata": {
  "kernelspec": {
   "display_name": "Julia 1.6.5",
   "language": "julia",
   "name": "julia-1.6"
  },
  "language_info": {
   "file_extension": ".jl",
   "mimetype": "application/julia",
   "name": "julia",
   "version": "1.6.5"
  }
 },
 "nbformat": 4,
 "nbformat_minor": 5
}
