{
 "cells": [
  {
   "cell_type": "markdown",
   "id": "7bf912b3",
   "metadata": {},
   "source": [
    "### sequences and vectors"
   ]
  },
  {
   "cell_type": "code",
   "execution_count": 1,
   "id": "75dff0c6",
   "metadata": {},
   "outputs": [
    {
     "data": {
      "text/plain": [
       "1-element Array{UnitRange{Int64},1}:\n",
       " 1:10"
      ]
     },
     "metadata": {},
     "output_type": "display_data"
    },
    {
     "data": {
      "text/plain": [
       "10-element Array{Int64,1}:\n",
       "  1\n",
       "  2\n",
       "  3\n",
       "  4\n",
       "  5\n",
       "  6\n",
       "  7\n",
       "  8\n",
       "  9\n",
       " 10"
      ]
     },
     "metadata": {},
     "output_type": "display_data"
    },
    {
     "name": "stdout",
     "output_type": "stream",
     "text": [
      "tamanho de x: (1,)\n",
      "tamanho de y: (10,)\n"
     ]
    },
    {
     "data": {
      "text/plain": [
       "false"
      ]
     },
     "execution_count": 1,
     "metadata": {},
     "output_type": "execute_result"
    }
   ],
   "source": [
    "x = [1:10]\n",
    "display(x)\n",
    "println(\"tamanho de x: \", size(x))\n",
    "\n",
    "y = [1:10;]\n",
    "display(y)\n",
    "println(\"tamanho de y: \", size(y))\n",
    "\n",
    "x == y"
   ]
  },
  {
   "cell_type": "code",
   "execution_count": 2,
   "id": "ec119522",
   "metadata": {},
   "outputs": [
    {
     "ename": "BoundsError",
     "evalue": "\u001b[91mBoundsError: attempt to access 1-element Array{UnitRange{Int64},1} at index [3]\u001b[39m",
     "output_type": "error",
     "traceback": [
      "\u001b[91mBoundsError: attempt to access 1-element Array{UnitRange{Int64},1} at index [3]\u001b[39m",
      "",
      "Stacktrace:",
      " [1] getindex(::Array{UnitRange{Int64},1}, ::Int64) at ./array.jl:788",
      " [2] top-level scope at In[2]:1"
     ]
    }
   ],
   "source": [
    "x[3] # erro"
   ]
  }
 ],
 "metadata": {
  "kernelspec": {
   "display_name": "Julia 1.4.1",
   "language": "julia",
   "name": "julia-1.4"
  },
  "language_info": {
   "file_extension": ".jl",
   "mimetype": "application/julia",
   "name": "julia",
   "version": "1.4.1"
  }
 },
 "nbformat": 4,
 "nbformat_minor": 5
}
