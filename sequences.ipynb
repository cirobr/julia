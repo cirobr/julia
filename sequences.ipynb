{
 "cells": [
  {
   "cell_type": "markdown",
   "id": "7bf912b3",
   "metadata": {},
   "source": [
    "sequences and vectors"
   ]
  },
  {
   "cell_type": "code",
   "execution_count": null,
   "id": "69a9a850",
   "metadata": {},
   "outputs": [],
   "source": [
    "x = 1:10"
   ]
  },
  {
   "cell_type": "code",
   "execution_count": null,
   "id": "75dff0c6",
   "metadata": {},
   "outputs": [],
   "source": [
    "x = [1:10]\n",
    "display(x)\n",
    "println(\"tamanho de x: \", size(x))\n",
    "\n",
    "y = [1:10;]\n",
    "display(y)\n",
    "println(\"tamanho de y: \", size(y))\n",
    "\n",
    "x == y"
   ]
  },
  {
   "cell_type": "code",
   "execution_count": null,
   "id": "ec119522",
   "metadata": {},
   "outputs": [],
   "source": [
    "x[3] # erro"
   ]
  },
  {
   "cell_type": "code",
   "execution_count": null,
   "id": "cf507c25",
   "metadata": {},
   "outputs": [],
   "source": [
    "range(1, 10; length=20)"
   ]
  }
 ],
 "metadata": {
  "kernelspec": {
   "display_name": "Julia 1.6.6",
   "language": "julia",
   "name": "julia-1.6"
  },
  "language_info": {
   "file_extension": ".jl",
   "mimetype": "application/julia",
   "name": "julia",
   "version": "1.6.6"
  }
 },
 "nbformat": 4,
 "nbformat_minor": 5
}
