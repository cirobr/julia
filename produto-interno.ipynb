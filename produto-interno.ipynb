{
 "cells": [
  {
   "cell_type": "markdown",
   "id": "6ddb24d5",
   "metadata": {},
   "source": [
    "Produto interno"
   ]
  },
  {
   "cell_type": "code",
   "execution_count": null,
   "id": "231836af",
   "metadata": {},
   "outputs": [],
   "source": [
    "x = (1, 2, 4)\n",
    "display(x)\n",
    "w = (5, 1, 2)"
   ]
  },
  {
   "cell_type": "code",
   "execution_count": null,
   "id": "ba735afc",
   "metadata": {},
   "outputs": [],
   "source": [
    "# produto elemento por elemento\n",
    "y = w .* x"
   ]
  },
  {
   "cell_type": "code",
   "execution_count": null,
   "id": "5e12891f",
   "metadata": {},
   "outputs": [],
   "source": [
    "# soma dos elementos\n",
    "sum(y)"
   ]
  },
  {
   "cell_type": "code",
   "execution_count": null,
   "id": "76670a0d",
   "metadata": {},
   "outputs": [],
   "source": [
    "\n",
    "# produto interno (w, x)\n",
    "sum(w .* x)"
   ]
  },
  {
   "cell_type": "code",
   "execution_count": null,
   "id": "f376a734",
   "metadata": {},
   "outputs": [],
   "source": [
    "w = [5 1 2]\n",
    "display(w)\n",
    "\n",
    "x = [1 2 4]\n",
    "display(x')\n",
    "\n",
    "# produto interno (w, x)\n",
    "println(\"produto interno: \", w * x')\n",
    "\n",
    "# produto elemento-por elemento\n",
    "println(\"produto elemento por elemento: \", w .* x)\n",
    "\n",
    "# produto interno\n",
    "println(\"produto interno-b: \", sum(w .* x))"
   ]
  }
 ],
 "metadata": {
  "kernelspec": {
   "display_name": "Julia 1.6.6",
   "language": "julia",
   "name": "julia-1.6"
  },
  "language_info": {
   "file_extension": ".jl",
   "mimetype": "application/julia",
   "name": "julia",
   "version": "1.6.6"
  }
 },
 "nbformat": 4,
 "nbformat_minor": 5
}
