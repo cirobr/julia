{
 "cells": [
  {
   "cell_type": "markdown",
   "id": "6ddb24d5",
   "metadata": {},
   "source": [
    "Produto interno"
   ]
  },
  {
   "cell_type": "code",
   "execution_count": 1,
   "id": "76670a0d",
   "metadata": {},
   "outputs": [
    {
     "data": {
      "text/plain": [
       "(1, 2, 4)"
      ]
     },
     "metadata": {},
     "output_type": "display_data"
    },
    {
     "data": {
      "text/plain": [
       "(5, 2, 8)"
      ]
     },
     "metadata": {},
     "output_type": "display_data"
    },
    {
     "data": {
      "text/plain": [
       "15"
      ]
     },
     "metadata": {},
     "output_type": "display_data"
    },
    {
     "data": {
      "text/plain": [
       "15"
      ]
     },
     "metadata": {},
     "output_type": "display_data"
    }
   ],
   "source": [
    "x = (1, 2, 4)\n",
    "display(x)\n",
    "w = (5, 1, 2)\n",
    "\n",
    "# produto elemento por elemento\n",
    "y = w .* x\n",
    "display(y)\n",
    "\n",
    "# soma dos elementos\n",
    "display(sum(y))\n",
    "\n",
    "# produto interno (w, x)\n",
    "display( sum(w .* x) )"
   ]
  },
  {
   "cell_type": "code",
   "execution_count": 2,
   "id": "f376a734",
   "metadata": {},
   "outputs": [
    {
     "data": {
      "text/plain": [
       "1×3 Array{Int64,2}:\n",
       " 5  1  2"
      ]
     },
     "metadata": {},
     "output_type": "display_data"
    },
    {
     "data": {
      "text/plain": [
       "3×1 LinearAlgebra.Adjoint{Int64,Array{Int64,2}}:\n",
       " 1\n",
       " 2\n",
       " 4"
      ]
     },
     "metadata": {},
     "output_type": "display_data"
    },
    {
     "name": "stdout",
     "output_type": "stream",
     "text": [
      "produto interno: [15]\n",
      "produto elemento por elemento: [5 2 8]\n",
      "produto interno-b: 15\n"
     ]
    }
   ],
   "source": [
    "w = [5 1 2]\n",
    "display(w)\n",
    "\n",
    "x = [1 2 4]\n",
    "display(x')\n",
    "\n",
    "# produto interno (w, x)\n",
    "println(\"produto interno: \", w * x')\n",
    "\n",
    "# produto elemento-por elemento\n",
    "println(\"produto elemento por elemento: \", w .* x)\n",
    "\n",
    "# produto interno\n",
    "println(\"produto interno-b: \", sum(w .* x))"
   ]
  },
  {
   "cell_type": "code",
   "execution_count": null,
   "id": "ad038c10",
   "metadata": {},
   "outputs": [],
   "source": []
  }
 ],
 "metadata": {
  "kernelspec": {
   "display_name": "Julia 1.4.1",
   "language": "julia",
   "name": "julia-1.4"
  },
  "language_info": {
   "file_extension": ".jl",
   "mimetype": "application/julia",
   "name": "julia",
   "version": "1.4.1"
  }
 },
 "nbformat": 4,
 "nbformat_minor": 5
}
