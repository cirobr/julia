{
 "cells": [
  {
   "cell_type": "markdown",
   "id": "6ddb24d5",
   "metadata": {},
   "source": [
    "Produto interno"
   ]
  },
  {
   "cell_type": "code",
   "execution_count": 1,
   "id": "76670a0d",
   "metadata": {},
   "outputs": [
    {
     "data": {
      "text/plain": [
       "(5, 1, 2)"
      ]
     },
     "execution_count": 1,
     "metadata": {},
     "output_type": "execute_result"
    }
   ],
   "source": [
    "x = (1, 2, 4)\n",
    "w = (5, 1, 2)"
   ]
  },
  {
   "cell_type": "code",
   "execution_count": 2,
   "id": "6843a661",
   "metadata": {},
   "outputs": [
    {
     "data": {
      "text/plain": [
       "(5, 2, 8)"
      ]
     },
     "execution_count": 2,
     "metadata": {},
     "output_type": "execute_result"
    }
   ],
   "source": [
    "# produto elemento por elemento\n",
    "y = w .* x"
   ]
  },
  {
   "cell_type": "code",
   "execution_count": 3,
   "id": "eeb02ee4",
   "metadata": {},
   "outputs": [
    {
     "data": {
      "text/plain": [
       "15"
      ]
     },
     "execution_count": 3,
     "metadata": {},
     "output_type": "execute_result"
    }
   ],
   "source": [
    "# soma dos elementos\n",
    "sum(y)"
   ]
  },
  {
   "cell_type": "code",
   "execution_count": 4,
   "id": "95831d7e",
   "metadata": {},
   "outputs": [
    {
     "data": {
      "text/plain": [
       "15"
      ]
     },
     "execution_count": 4,
     "metadata": {},
     "output_type": "execute_result"
    }
   ],
   "source": [
    "# produto interno (w, x)\n",
    "y_hat = sum(w .* x)"
   ]
  }
 ],
 "metadata": {
  "kernelspec": {
   "display_name": "Julia 1.4.1",
   "language": "julia",
   "name": "julia-1.4"
  },
  "language_info": {
   "file_extension": ".jl",
   "mimetype": "application/julia",
   "name": "julia",
   "version": "1.4.1"
  }
 },
 "nbformat": 4,
 "nbformat_minor": 5
}
