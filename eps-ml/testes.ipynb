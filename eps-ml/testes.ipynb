{
 "cells": [
  {
   "cell_type": "code",
   "execution_count": 1,
   "id": "ca0f90b4",
   "metadata": {},
   "outputs": [],
   "source": [
    "# libraries\n",
    "using Flux              # the julia ml library\n",
    "using Images            # image processing and machine vision for julia\n",
    "using MLJ               # make_blobs, rmse, confmat, categorical\n",
    "using MLDataUtils       # label, nlabel, labelfreq\n",
    "using MLDatasets        # mnist\n",
    "\n",
    "using GLM               # (lm works as regression; GLM not OK for categorical outcomes)\n",
    "using MLJLinearModels   # LogisticClassifier\n",
    "\n",
    "using LinearAlgebra     # pinv pseudo-inverse matrix\n",
    "using Metrics           # r2-score\n",
    "using Random\n",
    "using StatsBase         # standardize (normalization)\n",
    "using Distributions\n",
    "\n",
    "using Plots; gr()\n",
    "using StatsPlots\n",
    "using Printf\n",
    "\n",
    "using CSV\n",
    "using DataFrames\n"
   ]
  },
  {
   "cell_type": "code",
   "execution_count": 2,
   "id": "d9fba548",
   "metadata": {},
   "outputs": [
    {
     "data": {
      "text/plain": [
       "186-element Vector{NamedTuple{(:name, :package_name, :is_supervised, :abstract_type, :deep_properties, :docstring, :fit_data_scitype, :hyperparameter_ranges, :hyperparameter_types, :hyperparameters, :implemented_methods, :inverse_transform_scitype, :is_pure_julia, :is_wrapper, :iteration_parameter, :load_path, :package_license, :package_url, :package_uuid, :predict_scitype, :prediction_type, :supports_class_weights, :supports_online, :supports_training_losses, :supports_weights, :transform_scitype, :input_scitype, :target_scitype, :output_scitype), T} where T<:Tuple}:\n",
       " (name = ABODDetector, package_name = OutlierDetectionNeighbors, ... )\n",
       " (name = ABODDetector, package_name = OutlierDetectionPython, ... )\n",
       " (name = AEDetector, package_name = OutlierDetectionNetworks, ... )\n",
       " (name = ARDRegressor, package_name = ScikitLearn, ... )\n",
       " (name = AdaBoostClassifier, package_name = ScikitLearn, ... )\n",
       " (name = AdaBoostRegressor, package_name = ScikitLearn, ... )\n",
       " (name = AdaBoostStumpClassifier, package_name = DecisionTree, ... )\n",
       " (name = AffinityPropagation, package_name = ScikitLearn, ... )\n",
       " (name = AgglomerativeClustering, package_name = ScikitLearn, ... )\n",
       " (name = BM25Transformer, package_name = MLJText, ... )\n",
       " (name = BagOfWordsTransformer, package_name = MLJText, ... )\n",
       " (name = BaggingClassifier, package_name = ScikitLearn, ... )\n",
       " (name = BaggingRegressor, package_name = ScikitLearn, ... )\n",
       " ⋮\n",
       " (name = SubspaceLDA, package_name = MultivariateStats, ... )\n",
       " (name = TSVDTransformer, package_name = TSVD, ... )\n",
       " (name = TfidfTransformer, package_name = MLJText, ... )\n",
       " (name = TheilSenRegressor, package_name = ScikitLearn, ... )\n",
       " (name = UnivariateBoxCoxTransformer, package_name = MLJModels, ... )\n",
       " (name = UnivariateDiscretizer, package_name = MLJModels, ... )\n",
       " (name = UnivariateFillImputer, package_name = MLJModels, ... )\n",
       " (name = UnivariateStandardizer, package_name = MLJModels, ... )\n",
       " (name = UnivariateTimeTypeToContinuous, package_name = MLJModels, ... )\n",
       " (name = XGBoostClassifier, package_name = XGBoost, ... )\n",
       " (name = XGBoostCount, package_name = XGBoost, ... )\n",
       " (name = XGBoostRegressor, package_name = XGBoost, ... )"
      ]
     },
     "execution_count": 2,
     "metadata": {},
     "output_type": "execute_result"
    }
   ],
   "source": [
    "all_models = models()"
   ]
  },
  {
   "cell_type": "code",
   "execution_count": null,
   "id": "26fb3401",
   "metadata": {},
   "outputs": [],
   "source": []
  },
  {
   "cell_type": "code",
   "execution_count": 38,
   "id": "ecb983f1",
   "metadata": {},
   "outputs": [
    {
     "name": "stdout",
     "output_type": "stream",
     "text": [
      "import MLJFlux ✔"
     ]
    },
    {
     "name": "stderr",
     "output_type": "stream",
     "text": [
      "┌ Info: For silent loading, specify `verbosity=0`. \n",
      "└ @ Main /home/ciro/.julia/packages/MLJModels/Ci1zC/src/loading.jl:168\n"
     ]
    },
    {
     "name": "stdout",
     "output_type": "stream",
     "text": [
      "\n"
     ]
    },
    {
     "data": {
      "text/plain": [
       "MLJFlux.NeuralNetworkClassifier"
      ]
     },
     "execution_count": 38,
     "metadata": {},
     "output_type": "execute_result"
    }
   ],
   "source": [
    "model = @load NeuralNetworkClassifier"
   ]
  },
  {
   "cell_type": "code",
   "execution_count": 46,
   "id": "e226d35a",
   "metadata": {},
   "outputs": [
    {
     "data": {
      "text/plain": [
       "\u001b[35mClassifier corresponding to the loss function ``L(y, Xθ) + λ|θ|₂²/2 + γ|θ|₁`` where `L` is the logistic loss.\u001b[39m\n",
       "\u001b[35m→ based on [MLJLinearModels](https://github.com/alan-turing-institute/MLJLinearModels.jl)\u001b[39m\n",
       "\u001b[35m→ do `@load LogisticClassifier pkg=\"MLJLinearModels\" to use the model.`\u001b[39m\n",
       "\u001b[35m→ do `?LogisticClassifier` for documentation.\u001b[39m\n",
       "\u001b[35m→ based on [MLJLinearModels](https://github.com/alan-turing-institute/MLJLinearModels.jl).\u001b[39m\n",
       "\u001b[35m→ do `@load LogisticClassifier pkg=\"MLJLinearModels\"` to use the model.\u001b[39m\n",
       "\u001b[35m→ do `?LogisticClassifier` for documentation.\u001b[39m\n",
       "(name = \"LogisticClassifier\",\n",
       " package_name = \"MLJLinearModels\",\n",
       " is_supervised = true,\n",
       " abstract_type = Probabilistic,\n",
       " deep_properties = (),\n",
       " docstring =\n",
       "     \"\"\"\n",
       "     Classifier corresponding to the loss function ``L(y, Xθ) + λ|θ|₂²/2 + γ|θ|₁`` where `L` is the logistic loss.\n",
       "     → based on [MLJLinearModels](https://github.com/alan-turing-institute/MLJLinearModels.jl)\n",
       "     → do `@load LogisticClassifier pkg=\"MLJLinearModels\" to use the model.`\n",
       "     → do `?LogisticClassifier` for documentation.\n",
       "     → based on [MLJLinearModels](https://github.com/alan-turing-institute/MLJLinearModels.jl).\n",
       "     → do `@load LogisticClassifier pkg=\"MLJLinearModels\"` to use the model.\n",
       "     → do `?LogisticClassifier` for documentation.\"\"\",\n",
       " fit_data_scitype =\n",
       "     Tuple{Table{_s28} where _s28<:(AbstractVector{_s29} where _s29<:ScientificTypesBase.Continuous), AbstractVector{_s6605} where _s6605<:Finite},\n",
       " hyperparameter_ranges =\n",
       "     (nothing, nothing, nothing, nothing, nothing, nothing),\n",
       " hyperparameter_types = (\"Real\",\n",
       "                         \"Real\",\n",
       "                         \"Union{String, Symbol}\",\n",
       "                         \"Bool\",\n",
       "                         \"Bool\",\n",
       "                         \"Union{Nothing, MLJLinearModels.Solver}\"),\n",
       " hyperparameters =\n",
       "     (:lambda, :gamma, :penalty, :fit_intercept, :penalize_intercept, :solver),\n",
       " implemented_methods = [:fit, :fitted_params, :predict],\n",
       " inverse_transform_scitype = Unknown,\n",
       " is_pure_julia = true,\n",
       " is_wrapper = false,\n",
       " iteration_parameter = nothing,\n",
       " load_path = \"MLJLinearModels.LogisticClassifier\",\n",
       " package_license = \"MIT\",\n",
       " package_url = \"https://github.com/alan-turing-institute/MLJLinearModels.jl\",\n",
       " package_uuid = \"6ee0df7b-362f-4a72-a706-9e79364fb692\",\n",
       " predict_scitype =\n",
       "     AbstractVector{ScientificTypesBase.Density{_s25} where _s25<:Finite},\n",
       " prediction_type = :probabilistic,\n",
       " supports_class_weights = false,\n",
       " supports_online = false,\n",
       " supports_training_losses = false,\n",
       " supports_weights = false,\n",
       " transform_scitype = Unknown,\n",
       " input_scitype =\n",
       "     Table{_s28} where _s28<:(AbstractVector{_s29} where _s29<:ScientificTypesBase.Continuous),\n",
       " target_scitype = AbstractVector{_s6605} where _s6605<:Finite,\n",
       " output_scitype = Unknown)"
      ]
     },
     "execution_count": 46,
     "metadata": {},
     "output_type": "execute_result"
    }
   ],
   "source": [
    "models(\"Logistic\")[2]"
   ]
  }
 ],
 "metadata": {
  "kernelspec": {
   "display_name": "Julia 1.6.5",
   "language": "julia",
   "name": "julia-1.6"
  },
  "language_info": {
   "file_extension": ".jl",
   "mimetype": "application/julia",
   "name": "julia",
   "version": "1.6.5"
  }
 },
 "nbformat": 4,
 "nbformat_minor": 5
}
