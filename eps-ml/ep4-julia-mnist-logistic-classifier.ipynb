{
 "cells": [
  {
   "cell_type": "markdown",
   "id": "b439f11d",
   "metadata": {},
   "source": [
    "# Logistic regression with MNIST"
   ]
  },
  {
   "cell_type": "markdown",
   "id": "5f262ba3",
   "metadata": {},
   "source": [
    "## Libraries"
   ]
  },
  {
   "cell_type": "code",
   "execution_count": 1,
   "id": "d63e87f2",
   "metadata": {},
   "outputs": [],
   "source": [
    "# libraries\n",
    "using Flux              # the julia ml library\n",
    "using Images            # image processing and machine vision for julia\n",
    "using MLJ               # make_blobs, rmse, confmat, f1score, coerce\n",
    "using MLDataUtils       # label, nlabel, labelfreq\n",
    "using MLDatasets        # mnist\n",
    "\n",
    "using LinearAlgebra     # pinv pseudo-inverse matrix\n",
    "using Metrics           # r2-score\n",
    "using Random\n",
    "using StatsBase         # standardize (normalization)\n",
    "using Distributions\n",
    "\n",
    "using Plots; gr()\n",
    "using StatsPlots\n",
    "using Printf\n",
    "\n",
    "using CSV\n",
    "using DataFrames\n"
   ]
  },
  {
   "cell_type": "markdown",
   "id": "d53a09fe",
   "metadata": {},
   "source": [
    "## Functions"
   ]
  },
  {
   "cell_type": "code",
   "execution_count": 2,
   "id": "a5001966",
   "metadata": {},
   "outputs": [
    {
     "data": {
      "text/plain": [
       "hSymmetry (generic function with 1 method)"
      ]
     },
     "execution_count": 2,
     "metadata": {},
     "output_type": "execute_result"
    }
   ],
   "source": [
    "# functions for feature extraction\n",
    "meanIntensity(img) = mean(Float64.(img))\n",
    "\n",
    "function hSymmetry(img)\n",
    "    imgFloat = Float64.(img)\n",
    "    imgReverse = reverse(imgFloat, dims=1)\n",
    "    return -mean( abs.(imgFloat - imgReverse) )\n",
    "end"
   ]
  },
  {
   "cell_type": "code",
   "execution_count": 3,
   "id": "53255360",
   "metadata": {},
   "outputs": [
    {
     "data": {
      "text/plain": [
       "rescaleByColumns (generic function with 1 method)"
      ]
     },
     "execution_count": 3,
     "metadata": {},
     "output_type": "execute_result"
    }
   ],
   "source": [
    "# lib functions\n",
    "image2Vector(M) = vec(Float64.(M))\n",
    "\n",
    "function batchImage2Vector(imagesArray3D)\n",
    "    h, v, N = size(imagesArray3D)\n",
    "    vectorOfImageVectors = [ image2Vector( imagesArray3D[:, :, i] ) for i in 1:N]\n",
    "end\n",
    "\n",
    "vector2Image(vec, h, v) = reshape(Float64.(vec), (h, v))\n",
    "\n",
    "function rescaleByColumns(X)\n",
    "    # using StatsBase\n",
    "    X = Float64.(X)\n",
    "    dt = StatsBase.fit(ZScoreTransform, X; dims=1, center=true, scale=true)\n",
    "    rescaledX = StatsBase.transform(dt, X)\n",
    "end\n"
   ]
  },
  {
   "cell_type": "markdown",
   "id": "8903cf71",
   "metadata": {},
   "source": [
    "## Data loading"
   ]
  },
  {
   "cell_type": "code",
   "execution_count": 4,
   "id": "4bd90da6",
   "metadata": {},
   "outputs": [
    {
     "data": {
      "text/html": [
       "<table><tbody><tr><td style='text-align:center;vertical-align:middle; margin: 0.5em;border:1px #90999f solid;border-collapse:collapse'><img style='max-width: 100px; max-height:100px;display:inline' src=\"data:image/png;base64,iVBORw0KGgoAAAANSUhEUgAAAHAAAABwCAAAAADji6uXAAAABGdBTUEAALGPC/xhBQAAAAFzUkdCAK7OHOkAAAAgY0hSTQAAeiYAAICEAAD6AAAAgOgAAHUwAADqYAAAOpgAABdwnLpRPAAAAiVJREFUaAW9wT2IFgQABuAHemnI4aJFISgJwkDIIiqIsMLcajiKIEEIshosmgSHhhoUIW/IcIgCISHa+psKsp8hEKSSSAlyECon61Q+jMDT4RuO7w6/n5Pe54myKIuyKIuyKIuyKIuyKIuyKIuyKIuyKIuyKIuyKIsZ3YQ5y17FLdiE3TiI5/EvDuAto6IsyqIsJrgDN+MRPIpb8YzV/sAhzOMSTuI7q0VZlEVZjHE/vsac8ZbwBgb4CH/hH/xmtSiLsiiLMc7iPOasdhyLeAL/4ajpRFmURVmM8Tf24Cn8hEOGfsZ2DLAZr5telEVZlMUEn+IYLmELXsQCBoZ+xcumF2VRFmUxhYuGLhjahY+xZHZRFmVRFjN4Ew/gMTyJr8wuyqIsymIGA7yEH/E+vsEJHMZV04myKIuymNEZvIAj2ImdWIcPcc5kURZlURZr8Al+xwK2YT/uxD78abwoi7IoizX6Bc/haRzBK7gb240XZVEWZXEDFnEUHyDYisfxreuLsiiLslije/EsHkQMncL3xouyKIuymNEmvIZ5bLDsCs5hyXhRFmVRFlPagB3YjY1GncA+fG6yKIuyKIsJ1mMz3sU9Rh3H2/gMS6YTZVEWZXEdt+E93Ie7jPoBC/gSl80myqIsymKFh7EHD+F2oy7jHezHwNpEWZRFWawwj3nLTuMLXMFBLLoxURZlURYr7MVe/58oi7Ioi7Ioi7Ioi7Ioi7IouwZsVVgTmd3ynQAAAABJRU5ErkJg\"></td><td style='text-align:center;vertical-align:middle; margin: 0.5em;border:1px #90999f solid;border-collapse:collapse'><img style='max-width: 100px; max-height:100px;display:inline' src=\"data:image/png;base64,iVBORw0KGgoAAAANSUhEUgAAAHAAAABwCAAAAADji6uXAAAABGdBTUEAALGPC/xhBQAAAAFzUkdCAK7OHOkAAAAgY0hSTQAAeiYAAICEAAD6AAAAgOgAAHUwAADqYAAAOpgAABdwnLpRPAAAAjJJREFUaAW9wT1oHAQABtB3+mGISDN0sIK46SaGFEUnxbEVFTtIkWYVRCgoAYcomRzUDlYQBREUhTo4WCwihcKB0EGtOneTQkAtgu1ih5zDDRlyf0nley/KoizKoizKoizKoizKoizKoizKoizKoixuw1G8inV8jg9wxWxRFmVRFge0ios4hBFO4VkcNluURVmUxQE8hq+xghFu4BYO4wn8jFsmi7Ioi7LYh7uxhi9wn11X8Q7O4Qe8ibdNFmVRFmWxDx/jpL3WcA+GeAoPmy7KoizKYkFHcRwDY0N8i3exjV/wN57GwHRRFmVRFgtYxUUcwgjf4SSexCY+wZ/4DTs4jjVcsVeURVmUxRwPYQMr+Avb+Aw3cQEX7LWM1/GSvaIsyqIsZljCeziGG1jHT1g23wMmi7Ioi7KYYQ3HjD2HodsXZVEWZTHDGQwwxNBi7sAOBiaLsiiLspjiGaxihPMWt4MRfjVZlEVZlMUUy7gLf+Ar8y1hy9glvGGyKIuyKIs5/sW22ZawiQ1cwxncNFmURVmUxRznzbaKDbyIb3DCbFEWZVEWUwwwwPM4bbLXsIkVfIl180VZlEVZTDHCCEdwFp/iOh7HKTyC+/E7vseHFhNlURZlMcedeAUn8A8etOsyLuEti4uyKIuymOIyfsSjxo7gXmPXcQ6n7V+URVmUxRTX8AJexqZd7+MjXHUwURZlURYzbGMLW/4/URZlURZlURZlURZlURZlURZlURZlUfYfqPxYlL4fzGQAAAAASUVORK5C\"></td><td style='text-align:center;vertical-align:middle; margin: 0.5em;border:1px #90999f solid;border-collapse:collapse'><img style='max-width: 100px; max-height:100px;display:inline' src=\"data:image/png;base64,iVBORw0KGgoAAAANSUhEUgAAAHAAAABwCAAAAADji6uXAAAABGdBTUEAALGPC/xhBQAAAAFzUkdCAK7OHOkAAAAgY0hSTQAAeiYAAICEAAD6AAAAgOgAAHUwAADqYAAAOpgAABdwnLpRPAAAAbVJREFUaAW9wT2rDQAABuDnnN6UhSLdlNQdbrZrMjCgbkl2E9kY/ASrSfkBBukOjMJkMJkQRvJRihhsSpFSDGdw7nHP/Tid3ueJsiiLsiiLsiiLsiiLsiiLsiiLsiiLsiiLsiiLsiiLOVvBHZzAW/+LsiiLsphwHHtxz2yO4IXpoizKoiwmnMQS7tm+IRZxEAPri7Ioi7KYcAFPzGY/LuI23lhflEVZlMWEodndNPLedFEWZVEWY5axYHa7jTwyXZRFWZTFmDPYaTYLWDTyxXRRFmVRFmMOGXll+65jAe/w3XRRFmVRFut4bmt24TTO45SRq/hmuiiLsiiLdeyx1mEMsYID2IFzGOInnuEXgpc2FmVRFmUx5if+4Aau+GcZA/zGD7zGLbzAY3zFZ+zEGxuLsiiLshhzGR9xzFqf8ACv8dT/LmEfPthclEVZlMWEa7Zvxchdm4uyKIuymKP7NhdlURZlURZlURZlMScDLOGJjUVZlEVZzMkfDG0uyqIsymKOjmLVxqIsyqIs5mRga6IsyqIs5uAhztqaKIuyKIs5WMWqrYmyKIuyKIuyKIuyKIuyKIuyv/irMYSJ7ydGAAAAAElFTkSuQmCC\"></td><td style='text-align:center;vertical-align:middle; margin: 0.5em;border:1px #90999f solid;border-collapse:collapse'><img style='max-width: 100px; max-height:100px;display:inline' src=\"data:image/png;base64,iVBORw0KGgoAAAANSUhEUgAAAHAAAABwCAAAAADji6uXAAAABGdBTUEAALGPC/xhBQAAAAFzUkdCAK7OHOkAAAAgY0hSTQAAeiYAAICEAAD6AAAAgOgAAHUwAADqYAAAOpgAABdwnLpRPAAAAYtJREFUaAW9waFqVQEABuCP8YNRRUFM7glkDzDQoGIw+AYbdpugYcUgDEwiy4p9wSooCjLwDWYRDIJrCibD1XDCLc577rmX//uiLMqiLMqiLMqiLMqiLMqiLMqiLMqiLMqiLMqiLMpiTfbwGBu4jg/+LcqiLMpiDXbxCDODP04XZVEWZbEGV3DGOFEWZVEWK7qB+wbHuIMTp4uyKIuyWME2XuKswVN89X9RFmVRFivYwWWD93hlsSiLsiiLiS7iHmb4gSfGibIoi7KYYBOH5p7jnXGiLMqiLCa4jasGb/HMeFEWZVEWS7qLfYOP2MFP40VZlEVZLGETh+a+4MRyoizKoiyW8BAzc/uWF2VRFmUx0hZumXuNz5YXZVEWZTHSG5w3+IRd00RZlEVZjHQBM4MD/DJNlEVZlMUIL7Bh7sh0URZlURYLbOEmZviNA5yYLsqiLMpigXO4ZPAND6wmyqIsyqIsyqIsymKBYxxh23pEWZRFWSzwHdesT5RFWZRFWZRFWZRFWZRFWZT9BXYjLFSLepVZAAAAAElFTkSuQmCC\"></td><td style='text-align:center;vertical-align:middle; margin: 0.5em;border:1px #90999f solid;border-collapse:collapse'><img style='max-width: 100px; max-height:100px;display:inline' src=\"data:image/png;base64,iVBORw0KGgoAAAANSUhEUgAAAHAAAABwCAAAAADji6uXAAAABGdBTUEAALGPC/xhBQAAAAFzUkdCAK7OHOkAAAAgY0hSTQAAeiYAAICEAAD6AAAAgOgAAHUwAADqYAAAOpgAABdwnLpRPAAAAf5JREFUaAW9wT+I1QUAB/DPxRf7Q4PEXeDikG22STRlS1xbOHkOOTganFMQooSgNtTU0pJDosEhIogtR0uUi9AmuES1iMtFxAMJHO45/IYb5L177xd8P58oi7Ioi7Ioi7Ioi7Ioi7Ioi7Ioi7Ioi7Ioi7Ioi7Ioi7Ioi7Ioi7Ioi7JY0ns4jeM4avAZnuB93MADs0VZlEVZLGED32AVK/gZa/jaYAWrOGW2KIuyKIsFBO/iO7yGX3AZ9/EybmHd4DfzRVmURVks4BNcM/gJG5gYbGDd4DGumy/KoizKYh9XcB5TfIuLmNhzwZ5z2DFflEVZlMUcX+A8nmEbn+M/g1ewjsNYwRXctb8oi7IoixkO4lNMsY0T9ryNH3DM4Da+spgoi7IoixkOYNXgHN7EGXyMd/A6ppjiJp5aTJRFWZTFDM+wgzX8hak9TzDBIfyNexYXZVEWZTHDvziBH/EG/sBdfI9/sIVD2LKcKIuyKIs5HmDNi47jA+ziT8uJsiiLshjhVexiii3LibIoi7IYYdt4URZlURYjfGS8KIuyKIsRjhgvyqIsymKEX/ESdi0vyqIsymKEh/gdb+EIdiwuyqIsymKkL3ENV7GJRxYTZVEWZTHSHZzCh7iEM3hqf1EWZVEWI01wEldxFpfwyP6iLMqiLP6HCTaxaXFRFmVR9hxr7UyvfehgBAAAAABJRU5ErkJg\"></td></tr></tbody></table><div><small>(a vector displayed as a row to save space)</small></div>"
      ],
      "text/plain": [
       "5-element Vector{Base.ReinterpretArray{Gray{N0f8}, 2, N0f8, Matrix{N0f8}, true}}:\n",
       " [Gray{N0f8}(0.0) Gray{N0f8}(0.0) … Gray{N0f8}(0.0) Gray{N0f8}(0.0); Gray{N0f8}(0.0) Gray{N0f8}(0.0) … Gray{N0f8}(0.0) Gray{N0f8}(0.0); … ; Gray{N0f8}(0.0) Gray{N0f8}(0.0) … Gray{N0f8}(0.0) Gray{N0f8}(0.0); Gray{N0f8}(0.0) Gray{N0f8}(0.0) … Gray{N0f8}(0.0) Gray{N0f8}(0.0)]\n",
       " [Gray{N0f8}(0.0) Gray{N0f8}(0.0) … Gray{N0f8}(0.0) Gray{N0f8}(0.0); Gray{N0f8}(0.0) Gray{N0f8}(0.0) … Gray{N0f8}(0.0) Gray{N0f8}(0.0); … ; Gray{N0f8}(0.0) Gray{N0f8}(0.0) … Gray{N0f8}(0.0) Gray{N0f8}(0.0); Gray{N0f8}(0.0) Gray{N0f8}(0.0) … Gray{N0f8}(0.0) Gray{N0f8}(0.0)]\n",
       " [Gray{N0f8}(0.0) Gray{N0f8}(0.0) … Gray{N0f8}(0.0) Gray{N0f8}(0.0); Gray{N0f8}(0.0) Gray{N0f8}(0.0) … Gray{N0f8}(0.0) Gray{N0f8}(0.0); … ; Gray{N0f8}(0.0) Gray{N0f8}(0.0) … Gray{N0f8}(0.0) Gray{N0f8}(0.0); Gray{N0f8}(0.0) Gray{N0f8}(0.0) … Gray{N0f8}(0.0) Gray{N0f8}(0.0)]\n",
       " [Gray{N0f8}(0.0) Gray{N0f8}(0.0) … Gray{N0f8}(0.0) Gray{N0f8}(0.0); Gray{N0f8}(0.0) Gray{N0f8}(0.0) … Gray{N0f8}(0.0) Gray{N0f8}(0.0); … ; Gray{N0f8}(0.0) Gray{N0f8}(0.0) … Gray{N0f8}(0.0) Gray{N0f8}(0.0); Gray{N0f8}(0.0) Gray{N0f8}(0.0) … Gray{N0f8}(0.0) Gray{N0f8}(0.0)]\n",
       " [Gray{N0f8}(0.0) Gray{N0f8}(0.0) … Gray{N0f8}(0.0) Gray{N0f8}(0.0); Gray{N0f8}(0.0) Gray{N0f8}(0.0) … Gray{N0f8}(0.0) Gray{N0f8}(0.0); … ; Gray{N0f8}(0.0) Gray{N0f8}(0.0) … Gray{N0f8}(0.0) Gray{N0f8}(0.0); Gray{N0f8}(0.0) Gray{N0f8}(0.0) … Gray{N0f8}(0.0) Gray{N0f8}(0.0)]"
      ]
     },
     "metadata": {},
     "output_type": "display_data"
    },
    {
     "data": {
      "text/plain": [
       "1×5 adjoint(::Vector{Int64}) with eltype Int64:\n",
       " 5  0  4  1  9"
      ]
     },
     "execution_count": 4,
     "metadata": {},
     "output_type": "execute_result"
    }
   ],
   "source": [
    "# load mnist from MLDatasets\n",
    "trainX_original,      trainY_original      = MNIST.traindata()\n",
    "validationX_original, validationY_original = MNIST.testdata();\n",
    "\n",
    "display([MNIST.convert2image(MNIST.traintensor(i)) for i in 1:5])\n",
    "trainY_original[1:5]'"
   ]
  },
  {
   "cell_type": "code",
   "execution_count": 5,
   "id": "7f2acc6e",
   "metadata": {},
   "outputs": [
    {
     "data": {
      "text/plain": [
       "((28, 28, 42001), (28, 28, 17999), (28, 28, 10000))"
      ]
     },
     "execution_count": 5,
     "metadata": {},
     "output_type": "execute_result"
    }
   ],
   "source": [
    "# split trainset, testset, validation set\n",
    "Random.seed!(1)\n",
    "(trainX, trainY), (testX, testY) = stratifiedobs((trainX_original, trainY_original), p = 0.7)\n",
    "validationX = copy(validationX_original); validationY = copy(validationY_original)\n",
    "\n",
    "size(trainX), size(testX), size(validationX)"
   ]
  },
  {
   "cell_type": "markdown",
   "id": "b8b9c3b0",
   "metadata": {},
   "source": [
    "## Data preprocessing\n",
    "\n",
    "Data preprocessing depends on the data source, thus can widely vary from what is shown here."
   ]
  },
  {
   "cell_type": "code",
   "execution_count": 6,
   "id": "a75bf6b3",
   "metadata": {},
   "outputs": [
    {
     "data": {
      "text/plain": [
       "5-element Vector{Vector{Float64}}:\n",
       " [0.0, 0.0, 0.0, 0.0, 0.0, 0.0, 0.0, 0.0, 0.0, 0.0  …  0.0, 0.0, 0.0, 0.0, 0.0, 0.0, 0.0, 0.0, 0.0, 0.0]\n",
       " [0.0, 0.0, 0.0, 0.0, 0.0, 0.0, 0.0, 0.0, 0.0, 0.0  …  0.0, 0.0, 0.0, 0.0, 0.0, 0.0, 0.0, 0.0, 0.0, 0.0]\n",
       " [0.0, 0.0, 0.0, 0.0, 0.0, 0.0, 0.0, 0.0, 0.0, 0.0  …  0.0, 0.0, 0.0, 0.0, 0.0, 0.0, 0.0, 0.0, 0.0, 0.0]\n",
       " [0.0, 0.0, 0.0, 0.0, 0.0, 0.0, 0.0, 0.0, 0.0, 0.0  …  0.0, 0.0, 0.0, 0.0, 0.0, 0.0, 0.0, 0.0, 0.0, 0.0]\n",
       " [0.0, 0.0, 0.0, 0.0, 0.0, 0.0, 0.0, 0.0, 0.0, 0.0  …  0.0, 0.0, 0.0, 0.0, 0.0, 0.0, 0.0, 0.0, 0.0, 0.0]"
      ]
     },
     "execution_count": 6,
     "metadata": {},
     "output_type": "execute_result"
    }
   ],
   "source": [
    "# convert images to vectors\n",
    "trainX = batchImage2Vector(trainX)\n",
    "trainX[1:5]"
   ]
  },
  {
   "cell_type": "code",
   "execution_count": 7,
   "id": "0d182058",
   "metadata": {},
   "outputs": [
    {
     "data": {
      "text/plain": [
       "2-element Vector{Int64}:\n",
       " 1\n",
       " 5"
      ]
     },
     "metadata": {},
     "output_type": "display_data"
    },
    {
     "data": {
      "text/plain": [
       "((8514,), (8514,))"
      ]
     },
     "execution_count": 7,
     "metadata": {},
     "output_type": "execute_result"
    }
   ],
   "source": [
    "# select classes for prediction\n",
    "c = (1, 5)\n",
    "\n",
    "# data selection from above classes and sizes\n",
    "trainX = vcat( trainX[trainY .== c[1] ], trainX[ trainY .== c[2] ] )\n",
    "trainY = vcat( trainY[trainY .== c[1] ], trainY[ trainY .== c[2] ] )\n",
    "\n",
    "display(levels(trainY))\n",
    "size(trainX), size(trainY)"
   ]
  },
  {
   "cell_type": "code",
   "execution_count": 8,
   "id": "a941e91f",
   "metadata": {},
   "outputs": [],
   "source": [
    "# generate predictors and outcome\n",
    "function generatePredictors(X)\n",
    "    N = size(X)[1]\n",
    "    x1 = [meanIntensity(X[i]) for i in 1:N]\n",
    "    x2 = [hSymmetry(X[i])     for i in 1:N]\n",
    "    Xs = hcat(x1, x2)\n",
    "    Xs = rescaleByColumns(Xs)\n",
    "    \n",
    "    return Xs\n",
    "end\n",
    "\n",
    "trainXLog = generatePredictors(trainX)\n",
    "trainYLog = copy(trainY);\n"
   ]
  },
  {
   "cell_type": "code",
   "execution_count": 9,
   "id": "fbaf1f77",
   "metadata": {},
   "outputs": [],
   "source": [
    "# specific conversions for model to fit\n",
    "trainXLog = DataFrame(trainXLog, :auto)\n",
    "trainYLog = coerce(trainYLog, OrderedFactor);\n"
   ]
  },
  {
   "cell_type": "markdown",
   "id": "e26954e9",
   "metadata": {},
   "source": [
    "## Training, Testing, Validation"
   ]
  },
  {
   "cell_type": "markdown",
   "id": "eb875eb7",
   "metadata": {},
   "source": [
    "### Load the algorithm"
   ]
  },
  {
   "cell_type": "code",
   "execution_count": 10,
   "id": "88839a81",
   "metadata": {},
   "outputs": [
    {
     "data": {
      "text/plain": [
       "MLJLinearModels.LogisticClassifier"
      ]
     },
     "execution_count": 10,
     "metadata": {},
     "output_type": "execute_result"
    }
   ],
   "source": [
    "LogisticClassifier = @load LogisticClassifier pkg=MLJLinearModels verbosity=0"
   ]
  },
  {
   "cell_type": "markdown",
   "id": "ec9827ee",
   "metadata": {},
   "source": [
    "### Instantiate the model\n",
    "\n",
    "In the context of MLJ, \"model\" means just a container for hyper parameters.\n",
    "\n",
    "It is worth to note the output of the below command line, which is a list of the actual values assigned for each hyper parameters, including the default ones. This information can be useful, for exemple, for tuning the parameter at a later stage."
   ]
  },
  {
   "cell_type": "code",
   "execution_count": 11,
   "id": "7d2e528b",
   "metadata": {},
   "outputs": [
    {
     "data": {
      "text/plain": [
       "LogisticClassifier(\n",
       "    lambda = 1.0,\n",
       "    gamma = 0.0,\n",
       "    penalty = :l2,\n",
       "    fit_intercept = true,\n",
       "    penalize_intercept = false,\n",
       "    scale_penalty_with_samples = true,\n",
       "    solver = nothing)"
      ]
     },
     "execution_count": 11,
     "metadata": {},
     "output_type": "execute_result"
    }
   ],
   "source": [
    "model = LogisticClassifier()"
   ]
  },
  {
   "cell_type": "raw",
   "id": "a2b80462",
   "metadata": {},
   "source": [
    "info(LogisticClassifier)"
   ]
  },
  {
   "cell_type": "markdown",
   "id": "ad11e62b",
   "metadata": {},
   "source": [
    "### Creates a machine\n",
    "\n",
    "In MLJ, \"machine\" means an object with all learning parameters (i.e. hyper parameters + trainset)."
   ]
  },
  {
   "cell_type": "code",
   "execution_count": 12,
   "id": "ac360eb4",
   "metadata": {},
   "outputs": [
    {
     "data": {
      "text/plain": [
       "Machine{LogisticClassifier,…} trained 0 times; caches data\n",
       "  model: MLJLinearModels.LogisticClassifier\n",
       "  args: \n",
       "    1:\tSource @934 ⏎ `Table{AbstractVector{ScientificTypesBase.Continuous}}`\n",
       "    2:\tSource @197 ⏎ `AbstractVector{OrderedFactor{2}}`\n"
      ]
     },
     "execution_count": 12,
     "metadata": {},
     "output_type": "execute_result"
    }
   ],
   "source": [
    "mach = MLJ.machine(model, trainXLog, trainYLog)"
   ]
  },
  {
   "cell_type": "markdown",
   "id": "4b248fb7",
   "metadata": {},
   "source": [
    "### Train the machine\n",
    "\n",
    "The machine (or model) is trained according to the programmed hyper parameters and dataset:"
   ]
  },
  {
   "cell_type": "code",
   "execution_count": 13,
   "id": "f545d603",
   "metadata": {},
   "outputs": [
    {
     "name": "stderr",
     "output_type": "stream",
     "text": [
      "┌ Info: Training Machine{LogisticClassifier,…}.\n",
      "└ @ MLJBase /home/ciro/.julia/packages/MLJBase/CglMw/src/machines.jl:464\n"
     ]
    },
    {
     "data": {
      "text/plain": [
       "Machine{LogisticClassifier,…} trained 1 time; caches data\n",
       "  model: MLJLinearModels.LogisticClassifier\n",
       "  args: \n",
       "    1:\tSource @934 ⏎ `Table{AbstractVector{ScientificTypesBase.Continuous}}`\n",
       "    2:\tSource @197 ⏎ `AbstractVector{OrderedFactor{2}}`\n"
      ]
     },
     "execution_count": 13,
     "metadata": {},
     "output_type": "execute_result"
    }
   ],
   "source": [
    "fit!(mach,\n",
    "    # acceleration = CPUThreads(),   # https://alan-turing-institute.github.io/MLJ.jl/v0.7/acceleration_and_parallelism/\n",
    "    verbosity=2)"
   ]
  },
  {
   "cell_type": "markdown",
   "id": "86ed512e",
   "metadata": {},
   "source": [
    "After training, one can inspect the learning parameters:"
   ]
  },
  {
   "cell_type": "code",
   "execution_count": 14,
   "id": "75147513",
   "metadata": {},
   "outputs": [
    {
     "data": {
      "text/plain": [
       "(classes = CategoricalArrays.CategoricalValue{Int64, UInt32}[1, 5],\n",
       " coefs = [:x1 => 0.22327300773694728, :x2 => -0.27803815922822733],\n",
       " intercept = -0.22368399037741235,)"
      ]
     },
     "execution_count": 14,
     "metadata": {},
     "output_type": "execute_result"
    }
   ],
   "source": [
    "fitted_params(mach)"
   ]
  },
  {
   "cell_type": "markdown",
   "id": "7da0347c",
   "metadata": {},
   "source": [
    "Everything else, if any, the developer might be interested in, can be accesses from the training report:"
   ]
  },
  {
   "cell_type": "code",
   "execution_count": 15,
   "id": "aa670359",
   "metadata": {},
   "outputs": [
    {
     "data": {
      "text/plain": [
       "()"
      ]
     },
     "execution_count": 15,
     "metadata": {},
     "output_type": "execute_result"
    }
   ],
   "source": [
    "report(mach)"
   ]
  },
  {
   "cell_type": "markdown",
   "id": "4c248ab3",
   "metadata": {},
   "source": [
    "### Predict an outcome\n",
    "\n",
    "The trained machine/model, stored in the object created for that purpose, is now used to predict the outcome for the trainset:"
   ]
  },
  {
   "cell_type": "code",
   "execution_count": 16,
   "id": "6d929faa",
   "metadata": {},
   "outputs": [],
   "source": [
    "p = MLJ.predict(mach, trainXLog);\n"
   ]
  },
  {
   "cell_type": "markdown",
   "id": "25d9e558",
   "metadata": {},
   "source": [
    "We can inspect a few rows of the prediction, then just a single row."
   ]
  },
  {
   "cell_type": "code",
   "execution_count": 17,
   "id": "e149e3c5",
   "metadata": {},
   "outputs": [
    {
     "data": {
      "text/plain": [
       "5-element CategoricalDistributions.UnivariateFiniteArray{OrderedFactor{2}, Int64, UInt32, Float64, 1}:\n",
       " UnivariateFinite{OrderedFactor{2}}(1=>0.633, 5=>0.367)\n",
       " UnivariateFinite{OrderedFactor{2}}(1=>0.704, 5=>0.296)\n",
       " UnivariateFinite{OrderedFactor{2}}(1=>0.698, 5=>0.302)\n",
       " UnivariateFinite{OrderedFactor{2}}(1=>0.632, 5=>0.368)\n",
       " UnivariateFinite{OrderedFactor{2}}(1=>0.647, 5=>0.353)"
      ]
     },
     "metadata": {},
     "output_type": "display_data"
    },
    {
     "data": {
      "text/plain": [
       "         \u001b[1mUnivariateFinite{OrderedFactor{2}}\u001b[22m     \n",
       "     \u001b[90m┌                                        ┐\u001b[39m \n",
       "   \u001b[0m1 \u001b[90m┤\u001b[39m\u001b[38;5;2m■■■■■■■■■■■■■■■■■■■■\u001b[39m\u001b[0m 0.6330328095306961 \u001b[90m \u001b[39m \n",
       "   \u001b[0m5 \u001b[90m┤\u001b[39m\u001b[38;5;2m■■■■■■■■■■■■\u001b[39m\u001b[0m 0.36696719046930387        \u001b[90m \u001b[39m \n",
       "     \u001b[90m└                                        ┘\u001b[39m "
      ]
     },
     "execution_count": 17,
     "metadata": {},
     "output_type": "execute_result"
    }
   ],
   "source": [
    "display(p[1:5])\n",
    "p[1]"
   ]
  },
  {
   "cell_type": "markdown",
   "id": "2f980bed",
   "metadata": {},
   "source": [
    "For this particular model, the prediction is represented as probabilities for each of the classes. To translate that as the most likely class, we have:"
   ]
  },
  {
   "cell_type": "code",
   "execution_count": 18,
   "id": "1e709471",
   "metadata": {},
   "outputs": [
    {
     "data": {
      "text/plain": [
       "5-element CategoricalArrays.CategoricalArray{Int64,1,UInt32}:\n",
       " 1\n",
       " 1\n",
       " 1\n",
       " 1\n",
       " 1"
      ]
     },
     "execution_count": 18,
     "metadata": {},
     "output_type": "execute_result"
    }
   ],
   "source": [
    "ŷ = predict_mode(mach, trainXLog)\n",
    "ŷ[1:5]"
   ]
  },
  {
   "cell_type": "markdown",
   "id": "6a55afab",
   "metadata": {},
   "source": [
    "We can also extract relevant metrics as in the below example:"
   ]
  },
  {
   "cell_type": "code",
   "execution_count": 19,
   "id": "526a13d3",
   "metadata": {},
   "outputs": [
    {
     "data": {
      "text/plain": [
       "              ┌───────────────────────────┐\n",
       "              │       Ground Truth        │\n",
       "┌─────────────┼─────────────┬─────────────┤\n",
       "│  Predicted  │      1      │      5      │\n",
       "├─────────────┼─────────────┼─────────────┤\n",
       "│      1      │    4651     │    1281     │\n",
       "├─────────────┼─────────────┼─────────────┤\n",
       "│      5      │     68      │    2514     │\n",
       "└─────────────┴─────────────┴─────────────┘\n"
      ]
     },
     "metadata": {},
     "output_type": "display_data"
    },
    {
     "name": "stdout",
     "output_type": "stream",
     "text": [
      "accuracy: 0.8415550857411322\n",
      "f1-score: 0.7884585228163713\n"
     ]
    }
   ],
   "source": [
    "# metrics\n",
    "display(confmat(ŷ, trainYLog))\n",
    "println(\"accuracy: \", accuracy(ŷ, trainYLog))\n",
    "println(\"f1-score: \", f1score(ŷ, trainYLog))"
   ]
  },
  {
   "cell_type": "markdown",
   "id": "9771b6c9",
   "metadata": {},
   "source": [
    "### Evaluate the model"
   ]
  },
  {
   "cell_type": "markdown",
   "id": "f2c71f7c",
   "metadata": {},
   "source": [
    "(in progress)"
   ]
  },
  {
   "cell_type": "code",
   "execution_count": 20,
   "id": "b033362f",
   "metadata": {},
   "outputs": [
    {
     "name": "stderr",
     "output_type": "stream",
     "text": [
      "\u001b[33mEvaluating over 10 folds: 100%[=========================] Time: 0:00:02\u001b[39m\n"
     ]
    },
    {
     "data": {
      "text/plain": [
       "PerformanceEvaluation object with these fields:\n",
       "  measure, measurement, operation, per_fold,\n",
       "  per_observation, fitted_params_per_fold,\n",
       "  report_per_fold, train_test_pairs\n",
       "Extract:\n",
       "┌───────────────────────────────┬─────────────┬──────────────┬──────────────────\n",
       "│\u001b[22m measure                       \u001b[0m│\u001b[22m measurement \u001b[0m│\u001b[22m operation    \u001b[0m│\u001b[22m per_fold       \u001b[0m ⋯\n",
       "├───────────────────────────────┼─────────────┼──────────────┼──────────────────\n",
       "│ FScore(β = 1.0,rev = nothing) │ 0.32        │ predict_mode │ [0.0, 0.0, 0.0, ⋯\n",
       "└───────────────────────────────┴─────────────┴──────────────┴──────────────────\n",
       "\u001b[36m                                                                1 column omitted\u001b[0m\n"
      ]
     },
     "execution_count": 20,
     "metadata": {},
     "output_type": "execute_result"
    }
   ],
   "source": [
    "MLJ.evaluate!(mach,\n",
    "    resampling=CV(nfolds=10),\n",
    "    measures=[f1score])\n"
   ]
  },
  {
   "cell_type": "code",
   "execution_count": 21,
   "id": "1615552b",
   "metadata": {},
   "outputs": [
    {
     "data": {
      "text/plain": [
       "(classes = CategoricalArrays.CategoricalValue{Int64, UInt32}[1, 5],\n",
       " coefs = [:x1 => 0.21582891595986833, :x2 => -0.27099403237588676],\n",
       " intercept = -0.44226698487929345,)"
      ]
     },
     "execution_count": 21,
     "metadata": {},
     "output_type": "execute_result"
    }
   ],
   "source": [
    "fitted_params(mach)"
   ]
  },
  {
   "cell_type": "code",
   "execution_count": 22,
   "id": "26f2485a",
   "metadata": {},
   "outputs": [
    {
     "data": {
      "text/plain": [
       "              ┌───────────────────────────┐\n",
       "              │       Ground Truth        │\n",
       "┌─────────────┼─────────────┬─────────────┤\n",
       "│  Predicted  │      1      │      5      │\n",
       "├─────────────┼─────────────┼─────────────┤\n",
       "│      1      │    4701     │    2168     │\n",
       "├─────────────┼─────────────┼─────────────┤\n",
       "│      5      │     18      │    1627     │\n",
       "└─────────────┴─────────────┴─────────────┘\n"
      ]
     },
     "metadata": {},
     "output_type": "display_data"
    },
    {
     "name": "stdout",
     "output_type": "stream",
     "text": [
      "accuracy: 0.7432464176650223\n",
      "f1-score: 0.5981617647058823\n"
     ]
    }
   ],
   "source": [
    "ŷ = predict_mode(mach, trainXLog)\n",
    "\n",
    "display(confmat(ŷ, trainYLog))\n",
    "println(\"accuracy: \", accuracy(ŷ, trainYLog))\n",
    "println(\"f1-score: \", f1score(ŷ, trainYLog))"
   ]
  },
  {
   "cell_type": "markdown",
   "id": "e41338dc",
   "metadata": {},
   "source": [
    "### Testing"
   ]
  },
  {
   "cell_type": "raw",
   "id": "fd9934cf",
   "metadata": {},
   "source": [
    "# this function summarizes the steps taken during the preprocessing of the training dataset\n",
    "# once preprocessing steps are defined, it is created as to ease usage on the test and validation sets\n",
    "\n",
    "function preprocess(X, y)\n",
    "    X = batchImage2Vector(X)\n",
    "    \n",
    "    preprocessX = vcat( X[y .== c[1] ], X[ y .== c[2] ] )\n",
    "    preprocessY = vcat( y[y .== c[1] ], y[ y .== c[2] ] )\n",
    "\n",
    "    preprocessX = generatePredictors(preprocessX)\n",
    "    \n",
    "    preprocessX = DataFrame(preprocessX, :auto)\n",
    "    preprocessY = coerce(preprocessY, OrderedFactor)\n",
    "\n",
    "    return (preprocessX, preprocessY)\n",
    "end\n"
   ]
  },
  {
   "cell_type": "raw",
   "id": "1a75010f",
   "metadata": {},
   "source": [
    "testXLog, testYLog = preprocess(testX, testY)\n",
    "\n",
    "ŷ = predict_mode(mach, testXLog)\n",
    "\n",
    "display(confmat(ŷ, testYLog))\n",
    "println(\"accuracy: \", accuracy(ŷ, testYLog))\n",
    "println(\"f1-score: \", f1score(ŷ, testYLog))"
   ]
  },
  {
   "cell_type": "markdown",
   "id": "adec86d6",
   "metadata": {},
   "source": [
    "### Validation"
   ]
  },
  {
   "cell_type": "raw",
   "id": "65e9104a",
   "metadata": {},
   "source": [
    "validationXLog, validationYLog = preprocess(validationX, validationY)\n",
    "\n",
    "ŷ = predict_mode(mach, validationXLog)\n",
    "\n",
    "display(confmat(ŷ, validationYLog))\n",
    "println(\"accuracy: \", accuracy(ŷ, validationYLog))\n",
    "println(\"f1-score: \", f1score(ŷ, validationYLog))"
   ]
  },
  {
   "cell_type": "markdown",
   "id": "39bbcc29",
   "metadata": {},
   "source": [
    "## Demonstration of the prediction\n",
    "\n",
    "By pressing ENTER at the below cell several times, a randomly chosen slice of the actual outcome is compared to a correspondent slice of the predicted outcome. Due to the accuracy < 1 for the model, some of them will not match."
   ]
  },
  {
   "cell_type": "raw",
   "id": "becaa3dc",
   "metadata": {},
   "source": [
    "# demonstration of prediction accuracy\n",
    "N = size(trainX)[1]\n",
    "v = rand(1:N, 8)                            # select a random sample of images\n",
    "\n",
    "trainXLog = generatePredictors(trainX[v])   # convert images to predictors\n",
    "p = MLJ.predict(mach, trainXLog)            # predict outcome from sample images\n",
    "ŷ = predict_mode(mach, trainXLog)           # convert probability to classes\n",
    "\n",
    "display([MNIST.convert2image(vector2Image( trainX[i], 28, 28) ) for i in v])\n",
    "println(trainY[v])\n",
    "println(ŷ)"
   ]
  }
 ],
 "metadata": {
  "kernelspec": {
   "display_name": "Julia 1.6.5",
   "language": "julia",
   "name": "julia-1.6"
  },
  "language_info": {
   "file_extension": ".jl",
   "mimetype": "application/julia",
   "name": "julia",
   "version": "1.6.5"
  }
 },
 "nbformat": 4,
 "nbformat_minor": 5
}
