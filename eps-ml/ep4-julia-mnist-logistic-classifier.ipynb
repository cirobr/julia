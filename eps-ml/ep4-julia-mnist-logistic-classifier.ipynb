{
 "cells": [
  {
   "cell_type": "markdown",
   "id": "b439f11d",
   "metadata": {},
   "source": [
    "## Logistic regression with MNIST"
   ]
  },
  {
   "cell_type": "markdown",
   "id": "5f262ba3",
   "metadata": {},
   "source": [
    "### Libraries"
   ]
  },
  {
   "cell_type": "code",
   "execution_count": 1,
   "id": "d63e87f2",
   "metadata": {},
   "outputs": [],
   "source": [
    "# libraries\n",
    "using Flux              # the julia ml library\n",
    "using Images            # image processing and machine vision for julia\n",
    "using MLJ               # make_blobs, rmse, confmat, coerce\n",
    "using MLDataUtils       # label, nlabel, labelfreq\n",
    "using MLDatasets        # mnist\n",
    "\n",
    "using LinearAlgebra     # pinv pseudo-inverse matrix\n",
    "using Metrics           # r2-score\n",
    "using Random\n",
    "using StatsBase         # standardize (normalization)\n",
    "using Distributions\n",
    "\n",
    "using Plots; gr()\n",
    "using StatsPlots\n",
    "using Printf\n",
    "\n",
    "using CSV\n",
    "using DataFrames\n"
   ]
  },
  {
   "cell_type": "markdown",
   "id": "d53a09fe",
   "metadata": {},
   "source": [
    "### Functions"
   ]
  },
  {
   "cell_type": "code",
   "execution_count": 2,
   "id": "a5001966",
   "metadata": {},
   "outputs": [
    {
     "data": {
      "text/plain": [
       "hSymmetry (generic function with 1 method)"
      ]
     },
     "execution_count": 2,
     "metadata": {},
     "output_type": "execute_result"
    }
   ],
   "source": [
    "# functions for feature extraction\n",
    "meanIntensity(img) = mean(Float64.(img))\n",
    "\n",
    "function hSymmetry(img)\n",
    "    imgFloat = Float64.(img)\n",
    "    imgReverse = reverse(imgFloat, dims=1)\n",
    "    return -mean( abs.(imgFloat - imgReverse) )\n",
    "end"
   ]
  },
  {
   "cell_type": "code",
   "execution_count": 3,
   "id": "53255360",
   "metadata": {},
   "outputs": [
    {
     "data": {
      "text/plain": [
       "rescaleByColumns (generic function with 1 method)"
      ]
     },
     "execution_count": 3,
     "metadata": {},
     "output_type": "execute_result"
    }
   ],
   "source": [
    "# lib functions\n",
    "image2Vector(M) = vec(Float64.(M))\n",
    "\n",
    "function batchImage2Vector(imagesArray3D)\n",
    "    h, v, N = size(imagesArray3D)\n",
    "    vectorOfImageVectors = [ image2Vector( imagesArray3D[:, :, i] ) for i in 1:N]\n",
    "end\n",
    "\n",
    "vector2Image(vec, h, v) = reshape(Float64.(vec), (h, v))\n",
    "\n",
    "function rescaleByColumns(X)\n",
    "    # using StatsBase\n",
    "    X = Float64.(X)\n",
    "    dt = StatsBase.fit(ZScoreTransform, X; dims=1, center=true, scale=true)\n",
    "    rescaledX = StatsBase.transform(dt, X)\n",
    "end\n"
   ]
  },
  {
   "cell_type": "markdown",
   "id": "8903cf71",
   "metadata": {},
   "source": [
    "### Data loading"
   ]
  },
  {
   "cell_type": "code",
   "execution_count": 4,
   "id": "4bd90da6",
   "metadata": {},
   "outputs": [
    {
     "data": {
      "text/html": [
       "<table><tbody><tr><td style='text-align:center;vertical-align:middle; margin: 0.5em;border:1px #90999f solid;border-collapse:collapse'><img style='max-width: 100px; max-height:100px;display:inline' src=\"data:image/png;base64,iVBORw0KGgoAAAANSUhEUgAAAHAAAABwCAAAAADji6uXAAAABGdBTUEAALGPC/xhBQAAAAFzUkdCAK7OHOkAAAAgY0hSTQAAeiYAAICEAAD6AAAAgOgAAHUwAADqYAAAOpgAABdwnLpRPAAAAiVJREFUaAW9wT2IFgQABuAHemnI4aJFISgJwkDIIiqIsMLcajiKIEEIshosmgSHhhoUIW/IcIgCISHa+psKsp8hEKSSSAlyECon61Q+jMDT4RuO7w6/n5Pe54myKIuyKIuyKIuyKIuyKIuyKIuyKIuyKIuyKIuyKIsZ3YQ5y17FLdiE3TiI5/EvDuAto6IsyqIsJrgDN+MRPIpb8YzV/sAhzOMSTuI7q0VZlEVZjHE/vsac8ZbwBgb4CH/hH/xmtSiLsiiLMc7iPOasdhyLeAL/4ajpRFmURVmM8Tf24Cn8hEOGfsZ2DLAZr5telEVZlMUEn+IYLmELXsQCBoZ+xcumF2VRFmUxhYuGLhjahY+xZHZRFmVRFjN4Ew/gMTyJr8wuyqIsymIGA7yEH/E+vsEJHMZV04myKIuymNEZvIAj2ImdWIcPcc5kURZlURZr8Al+xwK2YT/uxD78abwoi7IoizX6Bc/haRzBK7gb240XZVEWZXEDFnEUHyDYisfxreuLsiiLslije/EsHkQMncL3xouyKIuymNEmvIZ5bLDsCs5hyXhRFmVRFlPagB3YjY1GncA+fG6yKIuyKIsJ1mMz3sU9Rh3H2/gMS6YTZVEWZXEdt+E93Ie7jPoBC/gSl80myqIsymKFh7EHD+F2oy7jHezHwNpEWZRFWawwj3nLTuMLXMFBLLoxURZlURYr7MVe/58oi7Ioi7Ioi7Ioi7Ioi7IouwZsVVgTmd3ynQAAAABJRU5ErkJg\"></td><td style='text-align:center;vertical-align:middle; margin: 0.5em;border:1px #90999f solid;border-collapse:collapse'><img style='max-width: 100px; max-height:100px;display:inline' src=\"data:image/png;base64,iVBORw0KGgoAAAANSUhEUgAAAHAAAABwCAAAAADji6uXAAAABGdBTUEAALGPC/xhBQAAAAFzUkdCAK7OHOkAAAAgY0hSTQAAeiYAAICEAAD6AAAAgOgAAHUwAADqYAAAOpgAABdwnLpRPAAAAjJJREFUaAW9wT1oHAQABtB3+mGISDN0sIK46SaGFEUnxbEVFTtIkWYVRCgoAYcomRzUDlYQBREUhTo4WCwihcKB0EGtOneTQkAtgu1ih5zDDRlyf0nley/KoizKoizKoizKoizKoizKoizKoizKoixuw1G8inV8jg9wxWxRFmVRFge0ios4hBFO4VkcNluURVmUxQE8hq+xghFu4BYO4wn8jFsmi7Ioi7LYh7uxhi9wn11X8Q7O4Qe8ibdNFmVRFmWxDx/jpL3WcA+GeAoPmy7KoizKYkFHcRwDY0N8i3exjV/wN57GwHRRFmVRFgtYxUUcwgjf4SSexCY+wZ/4DTs4jjVcsVeURVmUxRwPYQMr+Avb+Aw3cQEX7LWM1/GSvaIsyqIsZljCeziGG1jHT1g23wMmi7Ioi7KYYQ3HjD2HodsXZVEWZTHDGQwwxNBi7sAOBiaLsiiLspjiGaxihPMWt4MRfjVZlEVZlMUUy7gLf+Ar8y1hy9glvGGyKIuyKIs5/sW22ZawiQ1cwxncNFmURVmUxRznzbaKDbyIb3DCbFEWZVEWUwwwwPM4bbLXsIkVfIl180VZlEVZTDHCCEdwFp/iOh7HKTyC+/E7vseHFhNlURZlMcedeAUn8A8etOsyLuEti4uyKIuymOIyfsSjxo7gXmPXcQ6n7V+URVmUxRTX8AJexqZd7+MjXHUwURZlURYzbGMLW/4/URZlURZlURZlURZlURZlURZlURZlUfYfqPxYlL4fzGQAAAAASUVORK5C\"></td><td style='text-align:center;vertical-align:middle; margin: 0.5em;border:1px #90999f solid;border-collapse:collapse'><img style='max-width: 100px; max-height:100px;display:inline' src=\"data:image/png;base64,iVBORw0KGgoAAAANSUhEUgAAAHAAAABwCAAAAADji6uXAAAABGdBTUEAALGPC/xhBQAAAAFzUkdCAK7OHOkAAAAgY0hSTQAAeiYAAICEAAD6AAAAgOgAAHUwAADqYAAAOpgAABdwnLpRPAAAAbVJREFUaAW9wT2rDQAABuDnnN6UhSLdlNQdbrZrMjCgbkl2E9kY/ASrSfkBBukOjMJkMJkQRvJRihhsSpFSDGdw7nHP/Tid3ueJsiiLsiiLsiiLsiiLsiiLsiiLsiiLsiiLsiiLsiiLOVvBHZzAW/+LsiiLsphwHHtxz2yO4IXpoizKoiwmnMQS7tm+IRZxEAPri7Ioi7KYcAFPzGY/LuI23lhflEVZlMWEodndNPLedFEWZVEWY5axYHa7jTwyXZRFWZTFmDPYaTYLWDTyxXRRFmVRFmMOGXll+65jAe/w3XRRFmVRFut4bmt24TTO45SRq/hmuiiLsiiLdeyx1mEMsYID2IFzGOInnuEXgpc2FmVRFmUx5if+4Aau+GcZA/zGD7zGLbzAY3zFZ+zEGxuLsiiLshhzGR9xzFqf8ACv8dT/LmEfPthclEVZlMWEa7Zvxchdm4uyKIuymKP7NhdlURZlURZlURZlMScDLOGJjUVZlEVZzMkfDG0uyqIsymKOjmLVxqIsyqIs5mRga6IsyqIs5uAhztqaKIuyKIs5WMWqrYmyKIuyKIuyKIuyKIuyKIuyv/irMYSJ7ydGAAAAAElFTkSuQmCC\"></td><td style='text-align:center;vertical-align:middle; margin: 0.5em;border:1px #90999f solid;border-collapse:collapse'><img style='max-width: 100px; max-height:100px;display:inline' src=\"data:image/png;base64,iVBORw0KGgoAAAANSUhEUgAAAHAAAABwCAAAAADji6uXAAAABGdBTUEAALGPC/xhBQAAAAFzUkdCAK7OHOkAAAAgY0hSTQAAeiYAAICEAAD6AAAAgOgAAHUwAADqYAAAOpgAABdwnLpRPAAAAYtJREFUaAW9waFqVQEABuCP8YNRRUFM7glkDzDQoGIw+AYbdpugYcUgDEwiy4p9wSooCjLwDWYRDIJrCibD1XDCLc577rmX//uiLMqiLMqiLMqiLMqiLMqiLMqiLMqiLMqiLMqiLMpiTfbwGBu4jg/+LcqiLMpiDXbxCDODP04XZVEWZbEGV3DGOFEWZVEWK7qB+wbHuIMTp4uyKIuyWME2XuKswVN89X9RFmVRFivYwWWD93hlsSiLsiiLiS7iHmb4gSfGibIoi7KYYBOH5p7jnXGiLMqiLCa4jasGb/HMeFEWZVEWS7qLfYOP2MFP40VZlEVZLGETh+a+4MRyoizKoiyW8BAzc/uWF2VRFmUx0hZumXuNz5YXZVEWZTHSG5w3+IRd00RZlEVZjHQBM4MD/DJNlEVZlMUIL7Bh7sh0URZlURYLbOEmZviNA5yYLsqiLMpigXO4ZPAND6wmyqIsyqIsyqIsymKBYxxh23pEWZRFWSzwHdesT5RFWZRFWZRFWZRFWZRFWZT9BXYjLFSLepVZAAAAAElFTkSuQmCC\"></td><td style='text-align:center;vertical-align:middle; margin: 0.5em;border:1px #90999f solid;border-collapse:collapse'><img style='max-width: 100px; max-height:100px;display:inline' src=\"data:image/png;base64,iVBORw0KGgoAAAANSUhEUgAAAHAAAABwCAAAAADji6uXAAAABGdBTUEAALGPC/xhBQAAAAFzUkdCAK7OHOkAAAAgY0hSTQAAeiYAAICEAAD6AAAAgOgAAHUwAADqYAAAOpgAABdwnLpRPAAAAf5JREFUaAW9wT+I1QUAB/DPxRf7Q4PEXeDikG22STRlS1xbOHkOOTganFMQooSgNtTU0pJDosEhIogtR0uUi9AmuES1iMtFxAMJHO45/IYb5L177xd8P58oi7Ioi7Ioi7Ioi7Ioi7Ioi7Ioi7Ioi7Ioi7Ioi7Ioi7Ioi7Ioi7Ioi7JY0ns4jeM4avAZnuB93MADs0VZlEVZLGED32AVK/gZa/jaYAWrOGW2KIuyKIsFBO/iO7yGX3AZ9/EybmHd4DfzRVmURVks4BNcM/gJG5gYbGDd4DGumy/KoizKYh9XcB5TfIuLmNhzwZ5z2DFflEVZlMUcX+A8nmEbn+M/g1ewjsNYwRXctb8oi7IoixkO4lNMsY0T9ryNH3DM4Da+spgoi7IoixkOYNXgHN7EGXyMd/A6ppjiJp5aTJRFWZTFDM+wgzX8hak9TzDBIfyNexYXZVEWZTHDvziBH/EG/sBdfI9/sIVD2LKcKIuyKIs5HmDNi47jA+ziT8uJsiiLshjhVexiii3LibIoi7IYYdt4URZlURYjfGS8KIuyKIsRjhgvyqIsymKEX/ESdi0vyqIsymKEh/gdb+EIdiwuyqIsymKkL3ENV7GJRxYTZVEWZTHSHZzCh7iEM3hqf1EWZVEWI01wEldxFpfwyP6iLMqiLP6HCTaxaXFRFmVR9hxr7UyvfehgBAAAAABJRU5ErkJg\"></td></tr></tbody></table><div><small>(a vector displayed as a row to save space)</small></div>"
      ],
      "text/plain": [
       "5-element Vector{Base.ReinterpretArray{Gray{N0f8}, 2, N0f8, Matrix{N0f8}, true}}:\n",
       " [Gray{N0f8}(0.0) Gray{N0f8}(0.0) … Gray{N0f8}(0.0) Gray{N0f8}(0.0); Gray{N0f8}(0.0) Gray{N0f8}(0.0) … Gray{N0f8}(0.0) Gray{N0f8}(0.0); … ; Gray{N0f8}(0.0) Gray{N0f8}(0.0) … Gray{N0f8}(0.0) Gray{N0f8}(0.0); Gray{N0f8}(0.0) Gray{N0f8}(0.0) … Gray{N0f8}(0.0) Gray{N0f8}(0.0)]\n",
       " [Gray{N0f8}(0.0) Gray{N0f8}(0.0) … Gray{N0f8}(0.0) Gray{N0f8}(0.0); Gray{N0f8}(0.0) Gray{N0f8}(0.0) … Gray{N0f8}(0.0) Gray{N0f8}(0.0); … ; Gray{N0f8}(0.0) Gray{N0f8}(0.0) … Gray{N0f8}(0.0) Gray{N0f8}(0.0); Gray{N0f8}(0.0) Gray{N0f8}(0.0) … Gray{N0f8}(0.0) Gray{N0f8}(0.0)]\n",
       " [Gray{N0f8}(0.0) Gray{N0f8}(0.0) … Gray{N0f8}(0.0) Gray{N0f8}(0.0); Gray{N0f8}(0.0) Gray{N0f8}(0.0) … Gray{N0f8}(0.0) Gray{N0f8}(0.0); … ; Gray{N0f8}(0.0) Gray{N0f8}(0.0) … Gray{N0f8}(0.0) Gray{N0f8}(0.0); Gray{N0f8}(0.0) Gray{N0f8}(0.0) … Gray{N0f8}(0.0) Gray{N0f8}(0.0)]\n",
       " [Gray{N0f8}(0.0) Gray{N0f8}(0.0) … Gray{N0f8}(0.0) Gray{N0f8}(0.0); Gray{N0f8}(0.0) Gray{N0f8}(0.0) … Gray{N0f8}(0.0) Gray{N0f8}(0.0); … ; Gray{N0f8}(0.0) Gray{N0f8}(0.0) … Gray{N0f8}(0.0) Gray{N0f8}(0.0); Gray{N0f8}(0.0) Gray{N0f8}(0.0) … Gray{N0f8}(0.0) Gray{N0f8}(0.0)]\n",
       " [Gray{N0f8}(0.0) Gray{N0f8}(0.0) … Gray{N0f8}(0.0) Gray{N0f8}(0.0); Gray{N0f8}(0.0) Gray{N0f8}(0.0) … Gray{N0f8}(0.0) Gray{N0f8}(0.0); … ; Gray{N0f8}(0.0) Gray{N0f8}(0.0) … Gray{N0f8}(0.0) Gray{N0f8}(0.0); Gray{N0f8}(0.0) Gray{N0f8}(0.0) … Gray{N0f8}(0.0) Gray{N0f8}(0.0)]"
      ]
     },
     "metadata": {},
     "output_type": "display_data"
    },
    {
     "data": {
      "text/plain": [
       "1×5 adjoint(::Vector{Int64}) with eltype Int64:\n",
       " 5  0  4  1  9"
      ]
     },
     "execution_count": 4,
     "metadata": {},
     "output_type": "execute_result"
    }
   ],
   "source": [
    "# load mnist from MLDatasets\n",
    "trainX_original,      trainY_original      = MNIST.traindata()\n",
    "validationX_original, validationY_original = MNIST.testdata();\n",
    "\n",
    "display([MNIST.convert2image(MNIST.traintensor(i)) for i in 1:5])\n",
    "trainY_original[1:5]'"
   ]
  },
  {
   "cell_type": "code",
   "execution_count": 5,
   "id": "7f2acc6e",
   "metadata": {},
   "outputs": [
    {
     "data": {
      "text/plain": [
       "((28, 28, 42001), (28, 28, 17999), (28, 28, 10000))"
      ]
     },
     "execution_count": 5,
     "metadata": {},
     "output_type": "execute_result"
    }
   ],
   "source": [
    "# split trainset, testset, validation set\n",
    "Random.seed!(1)\n",
    "(trainX, trainY), (testX, testY) = stratifiedobs((trainX_original, trainY_original), p = 0.7)\n",
    "validationX = copy(validationX_original); validationY = copy(validationY_original)\n",
    "\n",
    "size(trainX), size(testX), size(validationX)"
   ]
  },
  {
   "cell_type": "markdown",
   "id": "b8b9c3b0",
   "metadata": {},
   "source": [
    "### Data preprocessing"
   ]
  },
  {
   "cell_type": "code",
   "execution_count": 6,
   "id": "a75bf6b3",
   "metadata": {},
   "outputs": [
    {
     "data": {
      "text/plain": [
       "5-element Vector{Vector{Float64}}:\n",
       " [0.0, 0.0, 0.0, 0.0, 0.0, 0.0, 0.0, 0.0, 0.0, 0.0  …  0.0, 0.0, 0.0, 0.0, 0.0, 0.0, 0.0, 0.0, 0.0, 0.0]\n",
       " [0.0, 0.0, 0.0, 0.0, 0.0, 0.0, 0.0, 0.0, 0.0, 0.0  …  0.0, 0.0, 0.0, 0.0, 0.0, 0.0, 0.0, 0.0, 0.0, 0.0]\n",
       " [0.0, 0.0, 0.0, 0.0, 0.0, 0.0, 0.0, 0.0, 0.0, 0.0  …  0.0, 0.0, 0.0, 0.0, 0.0, 0.0, 0.0, 0.0, 0.0, 0.0]\n",
       " [0.0, 0.0, 0.0, 0.0, 0.0, 0.0, 0.0, 0.0, 0.0, 0.0  …  0.0, 0.0, 0.0, 0.0, 0.0, 0.0, 0.0, 0.0, 0.0, 0.0]\n",
       " [0.0, 0.0, 0.0, 0.0, 0.0, 0.0, 0.0, 0.0, 0.0, 0.0  …  0.0, 0.0, 0.0, 0.0, 0.0, 0.0, 0.0, 0.0, 0.0, 0.0]"
      ]
     },
     "execution_count": 6,
     "metadata": {},
     "output_type": "execute_result"
    }
   ],
   "source": [
    "# convert images to vectors\n",
    "trainX = batchImage2Vector(trainX)\n",
    "testX  = batchImage2Vector(testX)\n",
    "trainX[1:5]"
   ]
  },
  {
   "cell_type": "code",
   "execution_count": 7,
   "id": "0d182058",
   "metadata": {},
   "outputs": [
    {
     "data": {
      "text/plain": [
       "2-element Vector{Int64}:\n",
       " 1\n",
       " 5"
      ]
     },
     "metadata": {},
     "output_type": "display_data"
    },
    {
     "data": {
      "text/plain": [
       "((8514,), (8514,))"
      ]
     },
     "execution_count": 7,
     "metadata": {},
     "output_type": "execute_result"
    }
   ],
   "source": [
    "# select classes for prediction\n",
    "c = (1, 5)\n",
    "\n",
    "# data selection from above classes and sizes\n",
    "trainX = vcat( trainX[trainY .== c[1] ], trainX[ trainY .== c[2] ] )\n",
    "trainY = vcat( trainY[trainY .== c[1] ], trainY[ trainY .== c[2] ] )\n",
    "testX  = vcat( testX[testY .== c[1] ], testX[ testY .== c[2] ] )\n",
    "testY  = vcat( testY[testY .== c[1] ], testY[ testY .== c[2] ] )\n",
    "\n",
    "display(levels(trainY))\n",
    "size(trainX), size(trainY)"
   ]
  },
  {
   "cell_type": "code",
   "execution_count": 8,
   "id": "a941e91f",
   "metadata": {},
   "outputs": [],
   "source": [
    "# generate predictors and outcome\n",
    "function generatePredictors(X)\n",
    "    N = size(X)[1]\n",
    "    x1 = [meanIntensity(X[i]) for i in 1:N]\n",
    "    x2 = [hSymmetry(X[i])     for i in 1:N]\n",
    "    Xs = hcat(x1, x2)\n",
    "    Xs = rescaleByColumns(Xs)\n",
    "    \n",
    "    return Xs\n",
    "end\n",
    "\n",
    "trainXLog = generatePredictors(trainX)\n",
    "trainYLog = copy(trainY);\n",
    "testXLog = generatePredictors(testX)\n",
    "testYLog = copy(testY);\n"
   ]
  },
  {
   "cell_type": "code",
   "execution_count": 9,
   "id": "fbaf1f77",
   "metadata": {},
   "outputs": [],
   "source": [
    "# specific conversions for model to fit\n",
    "trainXLog = DataFrame(trainXLog, :auto)\n",
    "trainYLog = coerce(trainYLog, OrderedFactor);\n",
    "testXLog = DataFrame(testXLog, :auto)\n",
    "testYLog = coerce(testYLog, OrderedFactor);"
   ]
  },
  {
   "cell_type": "markdown",
   "id": "e26954e9",
   "metadata": {},
   "source": [
    "### ML Training"
   ]
  },
  {
   "cell_type": "code",
   "execution_count": 10,
   "id": "88839a81",
   "metadata": {},
   "outputs": [
    {
     "data": {
      "text/plain": [
       "MLJLinearModels.LogisticClassifier"
      ]
     },
     "execution_count": 10,
     "metadata": {},
     "output_type": "execute_result"
    }
   ],
   "source": [
    "# load the algorithm\n",
    "LogisticClassifier = @load LogisticClassifier pkg=MLJLinearModels verbosity=0"
   ]
  },
  {
   "cell_type": "code",
   "execution_count": 11,
   "id": "7d2e528b",
   "metadata": {},
   "outputs": [
    {
     "data": {
      "text/plain": [
       "LogisticClassifier(\n",
       "    lambda = 1.0,\n",
       "    gamma = 0.0,\n",
       "    penalty = :l2,\n",
       "    fit_intercept = true,\n",
       "    penalize_intercept = false,\n",
       "    scale_penalty_with_samples = true,\n",
       "    solver = nothing)"
      ]
     },
     "execution_count": 11,
     "metadata": {},
     "output_type": "execute_result"
    }
   ],
   "source": [
    "# instantiate the model\n",
    "# in the context of MLJ, \"model\" means simply a container for hyper parameters\n",
    "model = LogisticClassifier()"
   ]
  },
  {
   "cell_type": "raw",
   "id": "a2b80462",
   "metadata": {},
   "source": [
    "info(LogisticClassifier)"
   ]
  },
  {
   "cell_type": "code",
   "execution_count": 12,
   "id": "ac360eb4",
   "metadata": {},
   "outputs": [
    {
     "data": {
      "text/plain": [
       "Machine{LogisticClassifier,…} trained 0 times; caches data\n",
       "  model: MLJLinearModels.LogisticClassifier\n",
       "  args: \n",
       "    1:\tSource @818 ⏎ `Table{AbstractVector{ScientificTypesBase.Continuous}}`\n",
       "    2:\tSource @842 ⏎ `AbstractVector{OrderedFactor{2}}`\n"
      ]
     },
     "execution_count": 12,
     "metadata": {},
     "output_type": "execute_result"
    }
   ],
   "source": [
    "# in MLJ, \"machine\" means the object with all learning parameters\n",
    "mach = MLJ.machine(model, trainXLog, trainYLog)"
   ]
  },
  {
   "cell_type": "code",
   "execution_count": 13,
   "id": "f545d603",
   "metadata": {},
   "outputs": [
    {
     "name": "stderr",
     "output_type": "stream",
     "text": [
      "┌ Info: Training Machine{LogisticClassifier,…}.\n",
      "└ @ MLJBase /home/ciro/.julia/packages/MLJBase/CglMw/src/machines.jl:464\n"
     ]
    },
    {
     "data": {
      "text/plain": [
       "Machine{LogisticClassifier,…} trained 1 time; caches data\n",
       "  model: MLJLinearModels.LogisticClassifier\n",
       "  args: \n",
       "    1:\tSource @818 ⏎ `Table{AbstractVector{ScientificTypesBase.Continuous}}`\n",
       "    2:\tSource @842 ⏎ `AbstractVector{OrderedFactor{2}}`\n"
      ]
     },
     "execution_count": 13,
     "metadata": {},
     "output_type": "execute_result"
    }
   ],
   "source": [
    "# train the machine\n",
    "fit!(mach)"
   ]
  },
  {
   "cell_type": "code",
   "execution_count": 14,
   "id": "6d929faa",
   "metadata": {},
   "outputs": [
    {
     "data": {
      "text/plain": [
       "5-element CategoricalDistributions.UnivariateFiniteArray{OrderedFactor{2}, Int64, UInt32, Float64, 1}:\n",
       " UnivariateFinite{OrderedFactor{2}}(1=>0.633, 5=>0.367)\n",
       " UnivariateFinite{OrderedFactor{2}}(1=>0.704, 5=>0.296)\n",
       " UnivariateFinite{OrderedFactor{2}}(1=>0.698, 5=>0.302)\n",
       " UnivariateFinite{OrderedFactor{2}}(1=>0.632, 5=>0.368)\n",
       " UnivariateFinite{OrderedFactor{2}}(1=>0.647, 5=>0.353)"
      ]
     },
     "execution_count": 14,
     "metadata": {},
     "output_type": "execute_result"
    }
   ],
   "source": [
    "# predict\n",
    "p = MLJ.predict(mach, trainXLog)\n",
    "p[1:5]"
   ]
  },
  {
   "cell_type": "code",
   "execution_count": 15,
   "id": "1a75ce01",
   "metadata": {},
   "outputs": [
    {
     "data": {
      "text/plain": [
       "         \u001b[1mUnivariateFinite{OrderedFactor{2}}\u001b[22m     \n",
       "     \u001b[90m┌                                        ┐\u001b[39m \n",
       "   \u001b[0m1 \u001b[90m┤\u001b[39m\u001b[38;5;2m■■■■■■■■■■■■■■■■■■■■\u001b[39m\u001b[0m 0.6330328095306961 \u001b[90m \u001b[39m \n",
       "   \u001b[0m5 \u001b[90m┤\u001b[39m\u001b[38;5;2m■■■■■■■■■■■■\u001b[39m\u001b[0m 0.36696719046930387        \u001b[90m \u001b[39m \n",
       "     \u001b[90m└                                        ┘\u001b[39m "
      ]
     },
     "execution_count": 15,
     "metadata": {},
     "output_type": "execute_result"
    }
   ],
   "source": [
    "p[1]"
   ]
  },
  {
   "cell_type": "code",
   "execution_count": 16,
   "id": "1e709471",
   "metadata": {},
   "outputs": [
    {
     "data": {
      "text/plain": [
       "5-element CategoricalArrays.CategoricalArray{Int64,1,UInt32}:\n",
       " 1\n",
       " 1\n",
       " 1\n",
       " 1\n",
       " 1"
      ]
     },
     "execution_count": 16,
     "metadata": {},
     "output_type": "execute_result"
    }
   ],
   "source": [
    "# convert probability to classes\n",
    "ŷ = predict_mode(mach, trainXLog)\n",
    "ŷ[1:5]"
   ]
  },
  {
   "cell_type": "code",
   "execution_count": 17,
   "id": "526a13d3",
   "metadata": {},
   "outputs": [
    {
     "data": {
      "text/plain": [
       "              ┌───────────────────────────┐\n",
       "              │       Ground Truth        │\n",
       "┌─────────────┼─────────────┬─────────────┤\n",
       "│  Predicted  │      1      │      5      │\n",
       "├─────────────┼─────────────┼─────────────┤\n",
       "│      1      │    4651     │    1281     │\n",
       "├─────────────┼─────────────┼─────────────┤\n",
       "│      5      │     68      │    2514     │\n",
       "└─────────────┴─────────────┴─────────────┘\n"
      ]
     },
     "metadata": {},
     "output_type": "display_data"
    },
    {
     "name": "stdout",
     "output_type": "stream",
     "text": [
      "accuracy: 0.8415550857411322\n",
      "f1-score: 0.7884585228163713\n"
     ]
    }
   ],
   "source": [
    "# metrics\n",
    "display(confmat(ŷ, trainYLog))\n",
    "println(\"accuracy: \", accuracy(ŷ, trainYLog))\n",
    "println(\"f1-score: \", f1score(ŷ, trainYLog))"
   ]
  },
  {
   "cell_type": "code",
   "execution_count": 21,
   "id": "572e36a0",
   "metadata": {},
   "outputs": [
    {
     "data": {
      "text/html": [
       "<table><tbody><tr><td style='text-align:center;vertical-align:middle; margin: 0.5em;border:1px #90999f solid;border-collapse:collapse'><img style='max-width: 100px; max-height:100px;display:inline' src=\"data:image/png;base64,iVBORw0KGgoAAAANSUhEUgAAAHAAAABwCAAAAADji6uXAAAABGdBTUEAALGPC/xhBQAAAAFzUkdCAK7OHOkAAAAgY0hSTQAAeiYAAICEAAD6AAAAgOgAAHUwAADqYAAAOpgAABdwnLpRPAAAASdJREFUaAW9wbHNiHsAh9FDnmhuovhEJLe4DVsIK0gkGoUBlFaxgErEGCygMIBSYgONW5jg/X/J75yMZSxjGctYxjKWsYxlLGMZy1jGMpaxHLqPD3jpmoxlLGM59AJPXZexjGUsh+46k7GMZSyH3jqTsYxlLGMZy1jGMpaxjGUsYxnLWMZy4AFunMlYxjKWA0/wGL9cl7GMZSxjGctYxnLglb8+uy5jGctYDjzy1w/XZSxjGctF/+AZvuK96zKWsYzlojf4D1/w23UZy1jGctFDt5OxjGUsB+44l7GMZSwXvcYffHQmYxnLWC66wXd8cyZjGctYLniO+3iHn85kLGMZywX/4p7byVjGMpYLPuGT28lYxjKWsYxlLGMZy1jGMpaxjGUsY/8DRCURu11QJX0AAAAASUVORK5C\"></td><td style='text-align:center;vertical-align:middle; margin: 0.5em;border:1px #90999f solid;border-collapse:collapse'><img style='max-width: 100px; max-height:100px;display:inline' src=\"data:image/png;base64,iVBORw0KGgoAAAANSUhEUgAAAHAAAABwCAAAAADji6uXAAAABGdBTUEAALGPC/xhBQAAAAFzUkdCAK7OHOkAAAAgY0hSTQAAeiYAAICEAAD6AAAAgOgAAHUwAADqYAAAOpgAABdwnLpRPAAAAj9JREFUaAW9wU/I3gMAB/CP+ebNDo5OSmltUkpklymSpN6FUFNrDg6vk7KDSZkcHGRRex3JgeRPrcmG9KpHK5y0lZRk1st72VsrqdH7Yq/Dc9DyPr/nfTd9P58oi7Ioi7Ioi7Ioi7Ioi7Ioi7Ioi7Ioi7Ioi7Ioi7Ioi7Ioi7L4n2zBNutbwu/GoizKoiw24ErM4wKexFUI7sUBrGELdrrYKv7CYTxnLMqiLMpiihksYBdWcC1uxQ3GrsAaFnHcv0b4CD+5WJRFWZTFFK9il7EZ3INFvI1T+BKnsYLzpouyKIuyGHA9HsMJfIUFnMGiSxdlURZlMWAGW3EjXsEXLl+URVmUxYBlfIxZHMVJHMIJnHVpoizKoiwG/IoHcScexv14D8v4DAfxi82JsiiLspjiAkYYYT/uwDz2YR/exREctTFRFmVRFpvwJ0a4GXvxLPZiN3bgJdNFWZRFWUzwAl7DOet7Bx/ibryJF3ENDuJvk0VZlEVZTLCKEXbjZ+s7j2O4C4fxDI7ha5NFWZRFWUzwBh7Bj9iP17Fqfd9hFqfxNB4yWZRFWZTFBMt4FAuYx1OYwzf4zX+t4C3cZ1iURVmUxYAfsBPHcQs+xxks4AhO4hy24jY8gU8Ni7Ioi7KY4ixuxx7swQOYw5yxT7Ad24y9bFiURVmUxQa9jw+wAwewHTdhFms4hefxrWFRFmVRFpuwhu/xuLHrcLWxJfxhuiiLsiiLy7Bk86IsyqIsyqIsyqIsyqIsyqIsyqIsyqLsHyrQZ2vLRCZ4AAAAAElFTkSuQmCC\"></td><td style='text-align:center;vertical-align:middle; margin: 0.5em;border:1px #90999f solid;border-collapse:collapse'><img style='max-width: 100px; max-height:100px;display:inline' src=\"data:image/png;base64,iVBORw0KGgoAAAANSUhEUgAAAHAAAABwCAAAAADji6uXAAAABGdBTUEAALGPC/xhBQAAAAFzUkdCAK7OHOkAAAAgY0hSTQAAeiYAAICEAAD6AAAAgOgAAHUwAADqYAAAOpgAABdwnLpRPAAAAcRJREFUaAW9wT2ojwsAB+AHvwzuhEWh1B3kK7qkWKw2Gc2SrsGgSGyoe8Vm8TEogyIWyYQkZTLcMziS0illYTE5hWswWHTe1zn/fs8TZVEWZVEWZVEWZVEWZVEWZVEWZVEWZVEWZVEWZVEWZVEWZVEWAxZhG65jK/7HNF76YQtW4jSuGhZlURZlMWA/7mAa/2CNnzZjLaYwa5woi7IoiwEb8RXfcAnvLUyURVmUxYBzeIpbOI5jFibKoizKYoSnuIl9OGZhoizKoixG+mwyoizKoixGWILtJiPKoizKYoQ/sAnfcAi7sBqPMIWH+GKcKIuyKIsRPmEGu3EFs5jBCazAXRzAF8OiLMqiLEaaxg5cxA28xgb8jcM4g1OGRVmURVmMdBLn8cZP0ziKtziLB3hmblEWZVEWI33ER7/2GP9iM56ZW5RFWZTFBPyHD9iLy+YWZVEWZTEhD7DOsCiLsiiLCVmPWcOiLMqiLCbgT/yF54ZFWZRFWUzAKizDNcOiLMqiLBZoOS7gFe4ZFmVRFmUxD2vwArexB0uxE58Ni7Ioi7KYh3c4iHt4giP4ZJwoi7Ioi3m6j8V+X5RFWZRFWZRFWZR9B5jhQM8By+mcAAAAAElFTkSuQmCC\"></td><td style='text-align:center;vertical-align:middle; margin: 0.5em;border:1px #90999f solid;border-collapse:collapse'><img style='max-width: 100px; max-height:100px;display:inline' src=\"data:image/png;base64,iVBORw0KGgoAAAANSUhEUgAAAHAAAABwCAAAAADji6uXAAAABGdBTUEAALGPC/xhBQAAAAFzUkdCAK7OHOkAAAAgY0hSTQAAeiYAAICEAAD6AAAAgOgAAHUwAADqYAAAOpgAABdwnLpRPAAAASpJREFUaAW9wbG1EGUAhcFZz9cBxJpiE6Qe+7AiQwgtgCKMXwwxhD5bcG3h7R/cmYxlLGMZy1jGMpaxjGUsYxnLWMYylrGMZSxjGctYxjKWsRz6C7/hd7x4u4xlLGM59AHv8AdevF3GMpaxHLrwE149k7GMZSyHbvyHL57JWMYylgO/4Gf8i1fPZCxjGcuB93iHC+/x3dtlLGMZy6ELP/DdMxnLWMZy6MY/ePVMxjKWsRz4iMuZjGUsYzlw43YmYxnLWA78jcuZjGUsYzl0O5OxjGUshy5nMpaxjOXQ7UzGMpaxHLrw2XMZy1jGcuh2JmMZy1gO/IoLl+cylrGM5cBX3Lg9l7GMZSwHXvAnPnkuYxnLWA59cyZjGctYDn1yJmMZy1jGMpaxjP0PBbgdnkYaoFAAAAAASUVORK5C\"></td><td style='text-align:center;vertical-align:middle; margin: 0.5em;border:1px #90999f solid;border-collapse:collapse'><img style='max-width: 100px; max-height:100px;display:inline' src=\"data:image/png;base64,iVBORw0KGgoAAAANSUhEUgAAAHAAAABwCAAAAADji6uXAAAABGdBTUEAALGPC/xhBQAAAAFzUkdCAK7OHOkAAAAgY0hSTQAAeiYAAICEAAD6AAAAgOgAAHUwAADqYAAAOpgAABdwnLpRPAAAAj5JREFUaAW9wT2I1wUABuBHfKmEDoIaGirQpKCGMGlpUGj1avGIoOGGIBIh6AuLIIIkG4SQIo7w4G5piRys41qU2hqyJTgIC7WhyyJyCyKw4Tccwf0/rjve54myKIuyKIuyKIuyKIuyKIuyKIuyKIuyKIuyKIuyKIst2I/n8T7WsRu34DbcanAYBzGH2zGPVRuiLMqiLKa0H6vYiwdxA8t4G/twt8GvWMJbWMGf/ivKoizKYkrvYq/BEYOn8RU+xzmDy7hqtCiLsiiLKbyHo7iJC1jHt7iINVsTZVEWZTHBw3jBYBnH8Lf/L8qiLMpijAdwETP4FM/ZviiLsiiLEe7Da7gTN3E/lnEV5/A7frF1URZlURYjvINnbXgUBwzexDUcw/dYN70oi7Ioi00cwhGs4wIW8BgOGuzD41jFzziJRdOJsiiLstjED1jEZZw1+MaGPXgC53EvPsAjeNFkURZlURabuI4TRvsLK9iNeSzgOL7DkvGiLMqiLLZpGcEZnMWS8aIsyqIsdsAinsQsXsVpo0VZlEVZ7JDPMIuXcdpoURZlURY7ZA1f4xBO4Q2bi7Ioi7KY4BO8hOvGu4SHEOwxWpRFWZTFBHfhFF7HbzY3g1nM4AbOGC3KoizKYoJ5fIgFLOAPXLLhBOZwANfwEa4YLcqiLMpignUcxVM4jsO4YrAL9+AOfIFX8JPxoizKoiymdB5rOIk5g11YwZf4GP+YLMqiLMpiC37EM7YnyqIsyqIsyqIsyqIsyqIsyv4FRDRcf6r15GQAAAAASUVORK5C\"></td><td style='text-align:center;vertical-align:middle; margin: 0.5em;border:1px #90999f solid;border-collapse:collapse'><img style='max-width: 100px; max-height:100px;display:inline' src=\"data:image/png;base64,iVBORw0KGgoAAAANSUhEUgAAAHAAAABwCAAAAADji6uXAAAABGdBTUEAALGPC/xhBQAAAAFzUkdCAK7OHOkAAAAgY0hSTQAAeiYAAICEAAD6AAAAgOgAAHUwAADqYAAAOpgAABdwnLpRPAAAAfhJREFUaAW9wTGLlwUAB+An+eVJoIMiEujQLrgcSJNdKDiZgng6KFLUF3CKBMEcJOwLiGLQIqIggmBDEag4BIEeuAiBeaCTTgXBnTrccBx34v99g9/zRFmURVmURVmURVmURVmURVmURVmURVmURVmURVmURVmURVmUxQjrMYM9eGOlv3AN/+C11aIsyqIsRjiFc/gAb6x2ET/jWzy3UpRFWZTFQAdw2vsdxzTO4IZlURZlURYDXcAGK/2Nx7hiyZfYhp04ixuWRVmURVlMaDN+xMeWPcVl/IR5y65b8jnWWynKoizKYkK7ccKSH3AbT/HMu/1mtSiLsiiLEX7BPeNEWZRFWUxoHi+xGQfxu3GiLMqiLCY0h0O4ha9wBF/gD8NEWZRFWQxwD7dwHB/hDrYYJsqiLMpioJOYwiw24lM8MLkoi7IoixHO4yCmMI0HJhdlURZlMcJD3MSs4aIsyqIsRprDrOGiLMqiLEbabpwoi7IoizX8iguYw7zVDuNr40RZlEVZrGEGn+EZXuIa7uMuPsH3WIc/cdUwURZlURZr+AYzOIod2IV/8RybsBWPsA+vDBNlURZlsYZLuIJT2IbvMI0n2I+H2ItXhouyKIuyeIdFvMALHMOHWMAUFvCfcaIsyqIsJrCIRUsW/D9RFmVRFmVRFmVR9hY2fEuC8Ss3OgAAAABJRU5ErkJg\"></td><td style='text-align:center;vertical-align:middle; margin: 0.5em;border:1px #90999f solid;border-collapse:collapse'><img style='max-width: 100px; max-height:100px;display:inline' src=\"data:image/png;base64,iVBORw0KGgoAAAANSUhEUgAAAHAAAABwCAAAAADji6uXAAAABGdBTUEAALGPC/xhBQAAAAFzUkdCAK7OHOkAAAAgY0hSTQAAeiYAAICEAAD6AAAAgOgAAHUwAADqYAAAOpgAABdwnLpRPAAAAb5JREFUaAW9wTGIzQEAB+AvfqFcyGShKF2Gs5CUktkiionFoJRdTEpyGAyUDCyKlMFuYrAbLCwi6WTgopSB4T+8ged5h9/3RVmURVmURVmURVmURVmURVmURVmURVmURVmURVmURVmURVmURVmURVmUxX+0B5vxCAsGURZlURb/0HbMYAdOYwOW4SzmDaIsyqIslmA1DmIjtmGXwSas8rP9mDeIsiiLspjSLB5i1p/5jHtGoizKoiymMIvdmPWz17iFZ3iFlwbf8dVIlEVZlMUEK3EKhzCHGSMXcddgAR9MFmVRFmUxwWFc8Wsr8dx0oizKoiwmuI8zWI+neIzVuIBjuIq3/lyURVmUxQTfsAtr8M5gr8EyLDedKIuyKIvf2ITX+IIvBltxzWARi6YTZVEWZTHGHezENiP7cBFzBvP4aDpRFmVRFmMcxU2DFTiPE1iLrziH26YXZVEWZTHGdxzFOuzEFoNPuI7LlibKoizKYow32IgjRhZxAE8sXZRFWZTFGHO4hON4jwe4gRf+TpRFWZTFGIs4iZP+rSiLsiiLsiiLsiiLsiiLsiiLsiiLsiiLsiiLsiiLsiiLsij7Aeg/N/o9cAklAAAAAElFTkSuQmCC\"></td><td style='text-align:center;vertical-align:middle; margin: 0.5em;border:1px #90999f solid;border-collapse:collapse'><img style='max-width: 100px; max-height:100px;display:inline' src=\"data:image/png;base64,iVBORw0KGgoAAAANSUhEUgAAAHAAAABwCAAAAADji6uXAAAABGdBTUEAALGPC/xhBQAAAAFzUkdCAK7OHOkAAAAgY0hSTQAAeiYAAICEAAD6AAAAgOgAAHUwAADqYAAAOpgAABdwnLpRPAAAAbZJREFUaAW9wbGLjgEAB+Dnvn6iGBRJUe5PuEluEdttFuy+iVI3kV1hsJCVgZViOyaLxXQ3oQw32hiubMdww5fO5X2/0+95oizKoizKoizKoizKoizKoizKoizKoizKoizKoizKYqQlPMYzu02xgKdYx7rdoizKoixGuoRlLGOCbX+a4BzuYt1uURZlURYjHMV5+xNlURZlMdBJPMd5M9/wyZ8W8AAf/V2URVmUxUAruGjmKV7gg3GiLMqiLEaY2PEe180nyqIsymKgLfzEQfwyvyiLsiiLgV7iFB5iEUtYN16URVmUxQhv8BBnsIYL+GycKIuyKIs5HcNtTI0TZVEWZTHCJq7gOQ7jGr7inuGiLMqiLEZ6jVt4YscU9wwXZVEWZTGHL+YXZVEWZbFPp7GKR4aJsiiLspjD1Mx3vDdclEVZlMUIR3AZK5hggnfYMFyURVmUxQDHsYIbOGvHNtawapwoi7Ioi39YxCssYdvMG7zAD+NEWZRFWezhEO7jKk6Y2cRb3MGW8aIsyqIs9nASN81M8Qsb2DC/KIuyKIs9bOKA/y/KoizKoizKoizKoizKoizKfgPcwjboPCIoFAAAAABJRU5ErkJg\"></td></tr></tbody></table><div><small>(a vector displayed as a row to save space)</small></div>"
      ],
      "text/plain": [
       "8-element Vector{Base.ReinterpretArray{Gray{Float64}, 2, Float64, Matrix{Float64}, true}}:\n",
       " [Gray{Float64}(0.0) Gray{Float64}(0.0) … Gray{Float64}(0.0) Gray{Float64}(0.0); Gray{Float64}(0.0) Gray{Float64}(0.0) … Gray{Float64}(0.0) Gray{Float64}(0.0); … ; Gray{Float64}(0.0) Gray{Float64}(0.0) … Gray{Float64}(0.0) Gray{Float64}(0.0); Gray{Float64}(0.0) Gray{Float64}(0.0) … Gray{Float64}(0.0) Gray{Float64}(0.0)]\n",
       " [Gray{Float64}(0.0) Gray{Float64}(0.0) … Gray{Float64}(0.0) Gray{Float64}(0.0); Gray{Float64}(0.0) Gray{Float64}(0.0) … Gray{Float64}(0.0) Gray{Float64}(0.0); … ; Gray{Float64}(0.0) Gray{Float64}(0.0) … Gray{Float64}(0.0) Gray{Float64}(0.0); Gray{Float64}(0.0) Gray{Float64}(0.0) … Gray{Float64}(0.0) Gray{Float64}(0.0)]\n",
       " [Gray{Float64}(0.0) Gray{Float64}(0.0) … Gray{Float64}(0.0) Gray{Float64}(0.0); Gray{Float64}(0.0) Gray{Float64}(0.0) … Gray{Float64}(0.0) Gray{Float64}(0.0); … ; Gray{Float64}(0.0) Gray{Float64}(0.0) … Gray{Float64}(0.0) Gray{Float64}(0.0); Gray{Float64}(0.0) Gray{Float64}(0.0) … Gray{Float64}(0.0) Gray{Float64}(0.0)]\n",
       " [Gray{Float64}(0.0) Gray{Float64}(0.0) … Gray{Float64}(0.0) Gray{Float64}(0.0); Gray{Float64}(0.0) Gray{Float64}(0.0) … Gray{Float64}(0.0) Gray{Float64}(0.0); … ; Gray{Float64}(0.0) Gray{Float64}(0.0) … Gray{Float64}(0.0) Gray{Float64}(0.0); Gray{Float64}(0.0) Gray{Float64}(0.0) … Gray{Float64}(0.0) Gray{Float64}(0.0)]\n",
       " [Gray{Float64}(0.0) Gray{Float64}(0.0) … Gray{Float64}(0.0) Gray{Float64}(0.0); Gray{Float64}(0.0) Gray{Float64}(0.0) … Gray{Float64}(0.0) Gray{Float64}(0.0); … ; Gray{Float64}(0.0) Gray{Float64}(0.0) … Gray{Float64}(0.0) Gray{Float64}(0.0); Gray{Float64}(0.0) Gray{Float64}(0.0) … Gray{Float64}(0.0) Gray{Float64}(0.0)]\n",
       " [Gray{Float64}(0.0) Gray{Float64}(0.0) … Gray{Float64}(0.0) Gray{Float64}(0.0); Gray{Float64}(0.0) Gray{Float64}(0.0) … Gray{Float64}(0.0) Gray{Float64}(0.0); … ; Gray{Float64}(0.0) Gray{Float64}(0.0) … Gray{Float64}(0.0) Gray{Float64}(0.0); Gray{Float64}(0.0) Gray{Float64}(0.0) … Gray{Float64}(0.0) Gray{Float64}(0.0)]\n",
       " [Gray{Float64}(0.0) Gray{Float64}(0.0) … Gray{Float64}(0.0) Gray{Float64}(0.0); Gray{Float64}(0.0) Gray{Float64}(0.0) … Gray{Float64}(0.0) Gray{Float64}(0.0); … ; Gray{Float64}(0.0) Gray{Float64}(0.0) … Gray{Float64}(0.0) Gray{Float64}(0.0); Gray{Float64}(0.0) Gray{Float64}(0.0) … Gray{Float64}(0.0) Gray{Float64}(0.0)]\n",
       " [Gray{Float64}(0.0) Gray{Float64}(0.0) … Gray{Float64}(0.0) Gray{Float64}(0.0); Gray{Float64}(0.0) Gray{Float64}(0.0) … Gray{Float64}(0.0) Gray{Float64}(0.0); … ; Gray{Float64}(0.0) Gray{Float64}(0.0) … Gray{Float64}(0.0) Gray{Float64}(0.0); Gray{Float64}(0.0) Gray{Float64}(0.0) … Gray{Float64}(0.0) Gray{Float64}(0.0)]"
      ]
     },
     "metadata": {},
     "output_type": "display_data"
    },
    {
     "data": {
      "text/plain": [
       "8-element Vector{Int64}:\n",
       " 1\n",
       " 5\n",
       " 5\n",
       " 1\n",
       " 5\n",
       " 5\n",
       " 5\n",
       " 5"
      ]
     },
     "metadata": {},
     "output_type": "display_data"
    },
    {
     "data": {
      "text/plain": [
       "8-element CategoricalArrays.CategoricalArray{Int64,1,UInt32}:\n",
       " 1\n",
       " 5\n",
       " 1\n",
       " 1\n",
       " 5\n",
       " 5\n",
       " 1\n",
       " 1"
      ]
     },
     "metadata": {},
     "output_type": "display_data"
    }
   ],
   "source": [
    "# demonstration of prediction accuracy\n",
    "N = size(trainX)[1]\n",
    "v = rand(1:N, 8)                            # select a random sample of images\n",
    "\n",
    "trainXLog = generatePredictors(trainX[v])   # convert images to predictors\n",
    "p = MLJ.predict(mach, trainXLog)            # predict outcome from sample images\n",
    "ŷ = predict_mode(mach, trainXLog)           # convert probability to classes\n",
    "\n",
    "display([MNIST.convert2image(vector2Image( trainX[i], 28, 28) ) for i in v])\n",
    "display(trainY[v])\n",
    "display(ŷ)"
   ]
  },
  {
   "cell_type": "markdown",
   "id": "e41338dc",
   "metadata": {},
   "source": [
    "### ML testing"
   ]
  },
  {
   "cell_type": "code",
   "execution_count": 20,
   "id": "4fc9bdf3",
   "metadata": {},
   "outputs": [
    {
     "data": {
      "text/plain": [
       "              ┌───────────────────────────┐\n",
       "              │       Ground Truth        │\n",
       "┌─────────────┼─────────────┬─────────────┤\n",
       "│  Predicted  │      1      │      5      │\n",
       "├─────────────┼─────────────┼─────────────┤\n",
       "│      1      │    2000     │     530     │\n",
       "├─────────────┼─────────────┼─────────────┤\n",
       "│      5      │     23      │    1096     │\n",
       "└─────────────┴─────────────┴─────────────┘\n"
      ]
     },
     "metadata": {},
     "output_type": "display_data"
    },
    {
     "name": "stdout",
     "output_type": "stream",
     "text": [
      "accuracy: 0.8484516305837215\n",
      "f1-score: 0.7985428051001822\n"
     ]
    }
   ],
   "source": [
    "p = MLJ.predict(mach, testXLog)\n",
    "ŷ = predict_mode(mach, testXLog)\n",
    "display(confmat(ŷ, testYLog))\n",
    "println(\"accuracy: \", accuracy(ŷ, testYLog))\n",
    "println(\"f1-score: \", f1score(ŷ, testYLog))"
   ]
  },
  {
   "cell_type": "markdown",
   "id": "adec86d6",
   "metadata": {},
   "source": [
    "### ML Validation"
   ]
  },
  {
   "cell_type": "code",
   "execution_count": null,
   "id": "7dc7fd05",
   "metadata": {},
   "outputs": [],
   "source": []
  }
 ],
 "metadata": {
  "kernelspec": {
   "display_name": "Julia 1.6.5",
   "language": "julia",
   "name": "julia-1.6"
  },
  "language_info": {
   "file_extension": ".jl",
   "mimetype": "application/julia",
   "name": "julia",
   "version": "1.6.5"
  }
 },
 "nbformat": 4,
 "nbformat_minor": 5
}
