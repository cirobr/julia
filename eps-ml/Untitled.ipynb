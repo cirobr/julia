{
 "cells": [
  {
   "cell_type": "code",
   "execution_count": 1,
   "id": "a273fcc6",
   "metadata": {},
   "outputs": [],
   "source": [
    "using Images"
   ]
  },
  {
   "cell_type": "code",
   "execution_count": 10,
   "id": "3753c857",
   "metadata": {},
   "outputs": [
    {
     "data": {
      "text/plain": [
       "4×3 Matrix{Float64}:\n",
       " 0.820447  0.218824  0.297673\n",
       " 0.127738  0.443317  0.24482\n",
       " 0.907182  0.739989  0.929931\n",
       " 0.351626  0.49347   0.492036"
      ]
     },
     "execution_count": 10,
     "metadata": {},
     "output_type": "execute_result"
    }
   ],
   "source": [
    "img=rand(4,3)"
   ]
  },
  {
   "cell_type": "code",
   "execution_count": 13,
   "id": "56f1848b",
   "metadata": {},
   "outputs": [
    {
     "data": {
      "image/png": "[encoded data removed]",
      "text/plain": [
       "4×3 Array{Gray{Float64},2} with eltype Gray{Float64}:\n",
       " Gray{Float64}(0.820447)  Gray{Float64}(0.218824)  Gray{Float64}(0.297673)\n",
       " Gray{Float64}(0.127738)  Gray{Float64}(0.443317)  Gray{Float64}(0.24482)\n",
       " Gray{Float64}(0.907182)  Gray{Float64}(0.739989)  Gray{Float64}(0.929931)\n",
       " Gray{Float64}(0.351626)  Gray{Float64}(0.49347)   Gray{Float64}(0.492036)"
      ]
     },
     "execution_count": 13,
     "metadata": {},
     "output_type": "execute_result"
    }
   ],
   "source": [
    "Gray.(img)"
   ]
  },
  {
   "cell_type": "code",
   "execution_count": 16,
   "id": "123be56e",
   "metadata": {},
   "outputs": [
    {
     "ename": "LoadError",
     "evalue": "UndefVarError: models not defined",
     "output_type": "error",
     "traceback": [
      "UndefVarError: models not defined",
      "",
      "Stacktrace:",
      " [1] top-level scope",
      "   @ In[16]:1",
      " [2] eval",
      "   @ ./boot.jl:360 [inlined]",
      " [3] include_string(mapexpr::typeof(REPL.softscope), mod::Module, code::String, filename::String)",
      "   @ Base ./loading.jl:1116"
     ]
    }
   ],
   "source": [
    "models()"
   ]
  },
  {
   "cell_type": "code",
   "execution_count": null,
   "id": "e562e036",
   "metadata": {},
   "outputs": [],
   "source": []
  }
 ],
 "metadata": {
  "kernelspec": {
   "display_name": "Julia 1.6.5",
   "language": "julia",
   "name": "julia-1.6"
  },
  "language_info": {
   "file_extension": ".jl",
   "mimetype": "application/julia",
   "name": "julia",
   "version": "1.6.5"
  }
 },
 "nbformat": 4,
 "nbformat_minor": 5
}
