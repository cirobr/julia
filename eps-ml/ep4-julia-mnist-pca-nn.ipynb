{
 "cells": [
  {
   "cell_type": "markdown",
   "id": "e145f758",
   "metadata": {},
   "source": [
    "# PCA + Neural Network Classifier with MNIST\n"
   ]
  },
  {
   "cell_type": "markdown",
   "id": "5f262ba3",
   "metadata": {},
   "source": [
    "## Libraries"
   ]
  },
  {
   "cell_type": "code",
   "execution_count": 1,
   "id": "d63e87f2",
   "metadata": {},
   "outputs": [],
   "source": [
    "# libraries\n",
    "#using Flux              # the julia ml library\n",
    "using Images            # image processing and machine vision for julia\n",
    "using MLJ               # make_blobs, rmse, confmat, f1score, coerce\n",
    "using MLJFlux           # NeuralNetworkClassifier, CUDALibs\n",
    "using MLDataUtils       # label, nlabel, labelfreq\n",
    "using MLDatasets        # mnist\n",
    "\n",
    "#using LinearAlgebra     # pinv pseudo-inverse matrix\n",
    "#using Metrics           # r2-score\n",
    "using Random\n",
    "using StatsBase         # standardize (normalization)\n",
    "#using Distributions\n",
    "\n",
    "using Plots; gr()\n",
    "#using StatsPlots\n",
    "using Printf\n",
    "\n",
    "#using CSV\n",
    "using DataFrames\n"
   ]
  },
  {
   "cell_type": "markdown",
   "id": "d53a09fe",
   "metadata": {},
   "source": [
    "## Functions"
   ]
  },
  {
   "cell_type": "code",
   "execution_count": 2,
   "id": "66ccdfa6",
   "metadata": {},
   "outputs": [
    {
     "data": {
      "text/plain": [
       "printMetrics (generic function with 1 method)"
      ]
     },
     "execution_count": 2,
     "metadata": {},
     "output_type": "execute_result"
    }
   ],
   "source": [
    "# metrics\n",
    "function printMetrics(ŷ, y)\n",
    "    display(confmat(ŷ, y))\n",
    "    println(\"accuracy: \", round(accuracy(ŷ, y); digits=3))\n",
    "    println(\"f1-score: \", round(multiclass_f1score(ŷ, y); digits=3))\n",
    "end\n"
   ]
  },
  {
   "cell_type": "code",
   "execution_count": 3,
   "id": "53255360",
   "metadata": {},
   "outputs": [
    {
     "data": {
      "text/plain": [
       "batchImage2DF (generic function with 1 method)"
      ]
     },
     "execution_count": 3,
     "metadata": {},
     "output_type": "execute_result"
    }
   ],
   "source": [
    "# lib functions\n",
    "image2Vector(M) = vec(Float64.(M))\n",
    "\n",
    "function batchImage2Vector(imagesArray3D)\n",
    "    h, v, N = size(imagesArray3D)\n",
    "    vectorOfImageVectors = [ image2Vector( imagesArray3D[:, :, i] ) for i in 1:N]\n",
    "end\n",
    "\n",
    "function batchImage2DF(imagesArray3D)\n",
    "    vectorOfImageVectors = batchImage2Vector(imagesArray3D)\n",
    "    M = reduce(hcat, vectorOfImageVectors)\n",
    "    DataFrame(M', :auto)\n",
    "end\n"
   ]
  },
  {
   "cell_type": "markdown",
   "id": "8903cf71",
   "metadata": {},
   "source": [
    "## Loading the data"
   ]
  },
  {
   "cell_type": "code",
   "execution_count": 4,
   "id": "4bd90da6",
   "metadata": {},
   "outputs": [
    {
     "data": {
      "text/html": [
       "<table><tbody><tr><td style='text-align:center;vertical-align:middle; margin: 0.5em;border:1px #90999f solid;border-collapse:collapse'><img style='max-width: 100px; max-height:100px;display:inline' src=\"data:image/png;base64,iVBORw0KGgoAAAANSUhEUgAAAHAAAABwCAAAAADji6uXAAAABGdBTUEAALGPC/xhBQAAAAFzUkdCAK7OHOkAAAAgY0hSTQAAeiYAAICEAAD6AAAAgOgAAHUwAADqYAAAOpgAABdwnLpRPAAAAiVJREFUaAW9wT2IFgQABuAHemnI4aJFISgJwkDIIiqIsMLcajiKIEEIshosmgSHhhoUIW/IcIgCISHa+psKsp8hEKSSSAlyECon61Q+jMDT4RuO7w6/n5Pe54myKIuyKIuyKIuyKIuyKIuyKIuyKIuyKIuyKIuyKIsZ3YQ5y17FLdiE3TiI5/EvDuAto6IsyqIsJrgDN+MRPIpb8YzV/sAhzOMSTuI7q0VZlEVZjHE/vsac8ZbwBgb4CH/hH/xmtSiLsiiLMc7iPOasdhyLeAL/4ajpRFmURVmM8Tf24Cn8hEOGfsZ2DLAZr5telEVZlMUEn+IYLmELXsQCBoZ+xcumF2VRFmUxhYuGLhjahY+xZHZRFmVRFjN4Ew/gMTyJr8wuyqIsymIGA7yEH/E+vsEJHMZV04myKIuymNEZvIAj2ImdWIcPcc5kURZlURZr8Al+xwK2YT/uxD78abwoi7IoizX6Bc/haRzBK7gb240XZVEWZXEDFnEUHyDYisfxreuLsiiLslije/EsHkQMncL3xouyKIuymNEmvIZ5bLDsCs5hyXhRFmVRFlPagB3YjY1GncA+fG6yKIuyKIsJ1mMz3sU9Rh3H2/gMS6YTZVEWZXEdt+E93Ie7jPoBC/gSl80myqIsymKFh7EHD+F2oy7jHezHwNpEWZRFWawwj3nLTuMLXMFBLLoxURZlURYr7MVe/58oi7Ioi7Ioi7Ioi7Ioi7IouwZsVVgTmd3ynQAAAABJRU5ErkJg\"></td><td style='text-align:center;vertical-align:middle; margin: 0.5em;border:1px #90999f solid;border-collapse:collapse'><img style='max-width: 100px; max-height:100px;display:inline' src=\"data:image/png;base64,iVBORw0KGgoAAAANSUhEUgAAAHAAAABwCAAAAADji6uXAAAABGdBTUEAALGPC/xhBQAAAAFzUkdCAK7OHOkAAAAgY0hSTQAAeiYAAICEAAD6AAAAgOgAAHUwAADqYAAAOpgAABdwnLpRPAAAAjJJREFUaAW9wT1oHAQABtB3+mGISDN0sIK46SaGFEUnxbEVFTtIkWYVRCgoAYcomRzUDlYQBREUhTo4WCwihcKB0EGtOneTQkAtgu1ih5zDDRlyf0nley/KoizKoizKoizKoizKoizKoizKoizKoixuw1G8inV8jg9wxWxRFmVRFge0ios4hBFO4VkcNluURVmUxQE8hq+xghFu4BYO4wn8jFsmi7Ioi7LYh7uxhi9wn11X8Q7O4Qe8ibdNFmVRFmWxDx/jpL3WcA+GeAoPmy7KoizKYkFHcRwDY0N8i3exjV/wN57GwHRRFmVRFgtYxUUcwgjf4SSexCY+wZ/4DTs4jjVcsVeURVmUxRwPYQMr+Avb+Aw3cQEX7LWM1/GSvaIsyqIsZljCeziGG1jHT1g23wMmi7Ioi7KYYQ3HjD2HodsXZVEWZTHDGQwwxNBi7sAOBiaLsiiLspjiGaxihPMWt4MRfjVZlEVZlMUUy7gLf+Ar8y1hy9glvGGyKIuyKIs5/sW22ZawiQ1cwxncNFmURVmUxRznzbaKDbyIb3DCbFEWZVEWUwwwwPM4bbLXsIkVfIl180VZlEVZTDHCCEdwFp/iOh7HKTyC+/E7vseHFhNlURZlMcedeAUn8A8etOsyLuEti4uyKIuymOIyfsSjxo7gXmPXcQ6n7V+URVmUxRTX8AJexqZd7+MjXHUwURZlURYzbGMLW/4/URZlURZlURZlURZlURZlURZlURZlUfYfqPxYlL4fzGQAAAAASUVORK5C\"></td><td style='text-align:center;vertical-align:middle; margin: 0.5em;border:1px #90999f solid;border-collapse:collapse'><img style='max-width: 100px; max-height:100px;display:inline' src=\"data:image/png;base64,iVBORw0KGgoAAAANSUhEUgAAAHAAAABwCAAAAADji6uXAAAABGdBTUEAALGPC/xhBQAAAAFzUkdCAK7OHOkAAAAgY0hSTQAAeiYAAICEAAD6AAAAgOgAAHUwAADqYAAAOpgAABdwnLpRPAAAAbVJREFUaAW9wT2rDQAABuDnnN6UhSLdlNQdbrZrMjCgbkl2E9kY/ASrSfkBBukOjMJkMJkQRvJRihhsSpFSDGdw7nHP/Tid3ueJsiiLsiiLsiiLsiiLsiiLsiiLsiiLsiiLsiiLsiiLOVvBHZzAW/+LsiiLsphwHHtxz2yO4IXpoizKoiwmnMQS7tm+IRZxEAPri7Ioi7KYcAFPzGY/LuI23lhflEVZlMWEodndNPLedFEWZVEWY5axYHa7jTwyXZRFWZTFmDPYaTYLWDTyxXRRFmVRFmMOGXll+65jAe/w3XRRFmVRFut4bmt24TTO45SRq/hmuiiLsiiLdeyx1mEMsYID2IFzGOInnuEXgpc2FmVRFmUx5if+4Aau+GcZA/zGD7zGLbzAY3zFZ+zEGxuLsiiLshhzGR9xzFqf8ACv8dT/LmEfPthclEVZlMWEa7Zvxchdm4uyKIuymKP7NhdlURZlURZlURZlMScDLOGJjUVZlEVZzMkfDG0uyqIsymKOjmLVxqIsyqIs5mRga6IsyqIs5uAhztqaKIuyKIs5WMWqrYmyKIuyKIuyKIuyKIuyKIuyv/irMYSJ7ydGAAAAAElFTkSuQmCC\"></td><td style='text-align:center;vertical-align:middle; margin: 0.5em;border:1px #90999f solid;border-collapse:collapse'><img style='max-width: 100px; max-height:100px;display:inline' src=\"data:image/png;base64,iVBORw0KGgoAAAANSUhEUgAAAHAAAABwCAAAAADji6uXAAAABGdBTUEAALGPC/xhBQAAAAFzUkdCAK7OHOkAAAAgY0hSTQAAeiYAAICEAAD6AAAAgOgAAHUwAADqYAAAOpgAABdwnLpRPAAAAYtJREFUaAW9waFqVQEABuCP8YNRRUFM7glkDzDQoGIw+AYbdpugYcUgDEwiy4p9wSooCjLwDWYRDIJrCibD1XDCLc577rmX//uiLMqiLMqiLMqiLMqiLMqiLMqiLMqiLMqiLMqiLMpiTfbwGBu4jg/+LcqiLMpiDXbxCDODP04XZVEWZbEGV3DGOFEWZVEWK7qB+wbHuIMTp4uyKIuyWME2XuKswVN89X9RFmVRFivYwWWD93hlsSiLsiiLiS7iHmb4gSfGibIoi7KYYBOH5p7jnXGiLMqiLCa4jasGb/HMeFEWZVEWS7qLfYOP2MFP40VZlEVZLGETh+a+4MRyoizKoiyW8BAzc/uWF2VRFmUx0hZumXuNz5YXZVEWZTHSG5w3+IRd00RZlEVZjHQBM4MD/DJNlEVZlMUIL7Bh7sh0URZlURYLbOEmZviNA5yYLsqiLMpigXO4ZPAND6wmyqIsyqIsyqIsymKBYxxh23pEWZRFWSzwHdesT5RFWZRFWZRFWZRFWZRFWZT9BXYjLFSLepVZAAAAAElFTkSuQmCC\"></td><td style='text-align:center;vertical-align:middle; margin: 0.5em;border:1px #90999f solid;border-collapse:collapse'><img style='max-width: 100px; max-height:100px;display:inline' src=\"data:image/png;base64,iVBORw0KGgoAAAANSUhEUgAAAHAAAABwCAAAAADji6uXAAAABGdBTUEAALGPC/xhBQAAAAFzUkdCAK7OHOkAAAAgY0hSTQAAeiYAAICEAAD6AAAAgOgAAHUwAADqYAAAOpgAABdwnLpRPAAAAf5JREFUaAW9wT+I1QUAB/DPxRf7Q4PEXeDikG22STRlS1xbOHkOOTganFMQooSgNtTU0pJDosEhIogtR0uUi9AmuES1iMtFxAMJHO45/IYb5L177xd8P58oi7Ioi7Ioi7Ioi7Ioi7Ioi7Ioi7Ioi7Ioi7Ioi7Ioi7Ioi7Ioi7Ioi7JY0ns4jeM4avAZnuB93MADs0VZlEVZLGED32AVK/gZa/jaYAWrOGW2KIuyKIsFBO/iO7yGX3AZ9/EybmHd4DfzRVmURVks4BNcM/gJG5gYbGDd4DGumy/KoizKYh9XcB5TfIuLmNhzwZ5z2DFflEVZlMUcX+A8nmEbn+M/g1ewjsNYwRXctb8oi7IoixkO4lNMsY0T9ryNH3DM4Da+spgoi7IoixkOYNXgHN7EGXyMd/A6ppjiJp5aTJRFWZTFDM+wgzX8hak9TzDBIfyNexYXZVEWZTHDvziBH/EG/sBdfI9/sIVD2LKcKIuyKIs5HmDNi47jA+ziT8uJsiiLshjhVexiii3LibIoi7IYYdt4URZlURYjfGS8KIuyKIsRjhgvyqIsymKEX/ESdi0vyqIsymKEh/gdb+EIdiwuyqIsymKkL3ENV7GJRxYTZVEWZTHSHZzCh7iEM3hqf1EWZVEWI01wEldxFpfwyP6iLMqiLP6HCTaxaXFRFmVR9hxr7UyvfehgBAAAAABJRU5ErkJg\"></td></tr></tbody></table><div><small>(a vector displayed as a row to save space)</small></div>"
      ],
      "text/plain": [
       "5-element Vector{Base.ReinterpretArray{Gray{N0f8}, 2, N0f8, Matrix{N0f8}, true}}:\n",
       " [Gray{N0f8}(0.0) Gray{N0f8}(0.0) … Gray{N0f8}(0.0) Gray{N0f8}(0.0); Gray{N0f8}(0.0) Gray{N0f8}(0.0) … Gray{N0f8}(0.0) Gray{N0f8}(0.0); … ; Gray{N0f8}(0.0) Gray{N0f8}(0.0) … Gray{N0f8}(0.0) Gray{N0f8}(0.0); Gray{N0f8}(0.0) Gray{N0f8}(0.0) … Gray{N0f8}(0.0) Gray{N0f8}(0.0)]\n",
       " [Gray{N0f8}(0.0) Gray{N0f8}(0.0) … Gray{N0f8}(0.0) Gray{N0f8}(0.0); Gray{N0f8}(0.0) Gray{N0f8}(0.0) … Gray{N0f8}(0.0) Gray{N0f8}(0.0); … ; Gray{N0f8}(0.0) Gray{N0f8}(0.0) … Gray{N0f8}(0.0) Gray{N0f8}(0.0); Gray{N0f8}(0.0) Gray{N0f8}(0.0) … Gray{N0f8}(0.0) Gray{N0f8}(0.0)]\n",
       " [Gray{N0f8}(0.0) Gray{N0f8}(0.0) … Gray{N0f8}(0.0) Gray{N0f8}(0.0); Gray{N0f8}(0.0) Gray{N0f8}(0.0) … Gray{N0f8}(0.0) Gray{N0f8}(0.0); … ; Gray{N0f8}(0.0) Gray{N0f8}(0.0) … Gray{N0f8}(0.0) Gray{N0f8}(0.0); Gray{N0f8}(0.0) Gray{N0f8}(0.0) … Gray{N0f8}(0.0) Gray{N0f8}(0.0)]\n",
       " [Gray{N0f8}(0.0) Gray{N0f8}(0.0) … Gray{N0f8}(0.0) Gray{N0f8}(0.0); Gray{N0f8}(0.0) Gray{N0f8}(0.0) … Gray{N0f8}(0.0) Gray{N0f8}(0.0); … ; Gray{N0f8}(0.0) Gray{N0f8}(0.0) … Gray{N0f8}(0.0) Gray{N0f8}(0.0); Gray{N0f8}(0.0) Gray{N0f8}(0.0) … Gray{N0f8}(0.0) Gray{N0f8}(0.0)]\n",
       " [Gray{N0f8}(0.0) Gray{N0f8}(0.0) … Gray{N0f8}(0.0) Gray{N0f8}(0.0); Gray{N0f8}(0.0) Gray{N0f8}(0.0) … Gray{N0f8}(0.0) Gray{N0f8}(0.0); … ; Gray{N0f8}(0.0) Gray{N0f8}(0.0) … Gray{N0f8}(0.0) Gray{N0f8}(0.0); Gray{N0f8}(0.0) Gray{N0f8}(0.0) … Gray{N0f8}(0.0) Gray{N0f8}(0.0)]"
      ]
     },
     "metadata": {},
     "output_type": "display_data"
    },
    {
     "data": {
      "text/plain": [
       "1×5 adjoint(::Vector{Int64}) with eltype Int64:\n",
       " 5  0  4  1  9"
      ]
     },
     "execution_count": 4,
     "metadata": {},
     "output_type": "execute_result"
    }
   ],
   "source": [
    "# load mnist from MLDatasets\n",
    "trainX_original,      trainY_original      = MNIST.traindata()\n",
    "validationX_original, validationY_original = MNIST.testdata();\n",
    "\n",
    "display([MNIST.convert2image(MNIST.traintensor(i)) for i in 1:5])\n",
    "trainY_original[1:5]'"
   ]
  },
  {
   "cell_type": "code",
   "execution_count": 5,
   "id": "7f2acc6e",
   "metadata": {},
   "outputs": [
    {
     "data": {
      "text/plain": [
       "((28, 28, 42001), (28, 28, 17999), (28, 28, 10000))"
      ]
     },
     "execution_count": 5,
     "metadata": {},
     "output_type": "execute_result"
    }
   ],
   "source": [
    "# split trainset, testset, validation set\n",
    "Random.seed!(1)\n",
    "(trainX, trainY), (testX, testY) = stratifiedobs((trainX_original, trainY_original), p = 0.7)\n",
    "validationX = copy(validationX_original); validationY = copy(validationY_original)\n",
    "\n",
    "size(trainX), size(testX), size(validationX)"
   ]
  },
  {
   "cell_type": "markdown",
   "id": "b8b9c3b0",
   "metadata": {},
   "source": [
    "## Data preprocessing\n",
    "\n",
    "Data preprocessing depends on the data source, thus can widely vary from what is shown here."
   ]
  },
  {
   "cell_type": "code",
   "execution_count": 6,
   "id": "f76c815d",
   "metadata": {},
   "outputs": [],
   "source": [
    "function preprocessing(X, y)\n",
    "    newX = batchImage2DF(X)\n",
    "    #coerce!(newX)   # no need, all scitypes are Continuous in this example\n",
    "    new_y = coerce(y, OrderedFactor)\n",
    "    \n",
    "    return (newX, new_y)\n",
    "end\n",
    "\n",
    "X, y = preprocessing(trainX, trainY);"
   ]
  },
  {
   "cell_type": "code",
   "execution_count": 7,
   "id": "a82db1c6",
   "metadata": {},
   "outputs": [
    {
     "data": {
      "text/plain": [
       "Table{AbstractVector{Continuous}}"
      ]
     },
     "execution_count": 7,
     "metadata": {},
     "output_type": "execute_result"
    }
   ],
   "source": [
    "scitype(X)"
   ]
  },
  {
   "cell_type": "code",
   "execution_count": 8,
   "id": "4724874c",
   "metadata": {},
   "outputs": [
    {
     "data": {
      "text/plain": [
       "AbstractVector{OrderedFactor{10}} (alias for AbstractArray{OrderedFactor{10}, 1})"
      ]
     },
     "execution_count": 8,
     "metadata": {},
     "output_type": "execute_result"
    }
   ],
   "source": [
    "scitype(y)"
   ]
  },
  {
   "cell_type": "markdown",
   "id": "e26954e9",
   "metadata": {},
   "source": [
    "## Training, Testing, Validation"
   ]
  },
  {
   "cell_type": "markdown",
   "id": "eb875eb7",
   "metadata": {},
   "source": [
    "### Load and pipe algorithms"
   ]
  },
  {
   "cell_type": "raw",
   "id": "a7f1e942",
   "metadata": {},
   "source": [
    "models(\"PCA\")[2]"
   ]
  },
  {
   "cell_type": "code",
   "execution_count": 9,
   "id": "84b424c5",
   "metadata": {},
   "outputs": [
    {
     "data": {
      "text/plain": [
       "PCA(\n",
       "    maxoutdim = 0,\n",
       "    method = :auto,\n",
       "    pratio = 0.95,\n",
       "    mean = nothing)"
      ]
     },
     "execution_count": 9,
     "metadata": {},
     "output_type": "execute_result"
    }
   ],
   "source": [
    "# reduce predictors\n",
    "PCA = @load PCA pkg=MultivariateStats verbosity=0\n",
    "reducer = PCA(pratio = 0.95)"
   ]
  },
  {
   "cell_type": "code",
   "execution_count": 10,
   "id": "e5acd6c1",
   "metadata": {},
   "outputs": [],
   "source": [
    "# standardize predictors\n",
    "stddize = Standardizer();"
   ]
  },
  {
   "cell_type": "raw",
   "id": "4a63d518",
   "metadata": {},
   "source": [
    "models(\"Neural\")[2]"
   ]
  },
  {
   "cell_type": "code",
   "execution_count": 11,
   "id": "da2ebd67",
   "metadata": {},
   "outputs": [
    {
     "data": {
      "text/plain": [
       "NeuralNetworkClassifier(\n",
       "    builder = Short(\n",
       "            n_hidden = 0,\n",
       "            dropout = 0.5,\n",
       "            σ = NNlib.σ),\n",
       "    finaliser = NNlib.softmax,\n",
       "    optimiser = Flux.Optimise.ADAM(0.001, (0.9, 0.999), 1.0e-8, IdDict{Any, Any}()),\n",
       "    loss = Flux.Losses.crossentropy,\n",
       "    epochs = 10,\n",
       "    batch_size = 1,\n",
       "    lambda = 0.0,\n",
       "    alpha = 0.0,\n",
       "    rng = Random._GLOBAL_RNG(),\n",
       "    optimiser_changes_trigger_retraining = false,\n",
       "    acceleration = CUDALibs{Nothing}(nothing))"
      ]
     },
     "execution_count": 11,
     "metadata": {},
     "output_type": "execute_result"
    }
   ],
   "source": [
    "# nnet\n",
    "NeuralNetworkClassifier = @load NeuralNetworkClassifier pkg=MLJFlux verbosity=0\n",
    "nnet = NeuralNetworkClassifier(acceleration=CUDALibs())"
   ]
  },
  {
   "cell_type": "code",
   "execution_count": 18,
   "id": "ca1e5b2d",
   "metadata": {},
   "outputs": [
    {
     "data": {
      "text/plain": [
       "Pipeline725(\n",
       "    pca = PCA(\n",
       "            maxoutdim = 0,\n",
       "            method = :auto,\n",
       "            pratio = 0.95,\n",
       "            mean = nothing),\n",
       "    standardizer = Standardizer(\n",
       "            features = Symbol[],\n",
       "            ignore = false,\n",
       "            ordered_factor = false,\n",
       "            count = false),\n",
       "    neural_network_classifier = NeuralNetworkClassifier(\n",
       "            builder = Short,\n",
       "            finaliser = NNlib.softmax,\n",
       "            optimiser = Flux.Optimise.ADAM(0.001, (0.9, 0.999), 1.0e-8, IdDict{Any, Any}()),\n",
       "            loss = Flux.Losses.crossentropy,\n",
       "            epochs = 1,\n",
       "            batch_size = 1,\n",
       "            lambda = 0.0,\n",
       "            alpha = 0.0,\n",
       "            rng = Random._GLOBAL_RNG(),\n",
       "            optimiser_changes_trigger_retraining = false,\n",
       "            acceleration = CUDALibs{Nothing}(nothing)))"
      ]
     },
     "execution_count": 18,
     "metadata": {},
     "output_type": "execute_result"
    }
   ],
   "source": [
    "pipe = @pipeline reducer stddize nnet"
   ]
  },
  {
   "cell_type": "markdown",
   "id": "ad11e62b",
   "metadata": {},
   "source": [
    "### Create and train the machine\n"
   ]
  },
  {
   "cell_type": "code",
   "execution_count": 26,
   "id": "f819d464",
   "metadata": {
    "scrolled": true
   },
   "outputs": [
    {
     "name": "stderr",
     "output_type": "stream",
     "text": [
      "┌ Info: Training Machine{Pipeline725,…}.\n",
      "└ @ MLJBase /home/ciro/.julia/packages/MLJBase/pCiRR/src/machines.jl:464\n",
      "┌ Info: Training Machine{PCA,…}.\n",
      "└ @ MLJBase /home/ciro/.julia/packages/MLJBase/pCiRR/src/machines.jl:464\n",
      "┌ Info: Training Machine{Standardizer,…}.\n",
      "└ @ MLJBase /home/ciro/.julia/packages/MLJBase/pCiRR/src/machines.jl:464\n",
      "┌ Info: Training Machine{NeuralNetworkClassifier{Short,…},…}.\n",
      "└ @ MLJBase /home/ciro/.julia/packages/MLJBase/pCiRR/src/machines.jl:464\n",
      "\u001b[33mOptimising neural net:100%[=========================] Time: 0:42:27\u001b[39m\n"
     ]
    }
   ],
   "source": [
    "pipe.neural_network_classifier.epochs=10\n",
    "mach = MLJ.machine(pipe, X, y) |> fit!;"
   ]
  },
  {
   "cell_type": "code",
   "execution_count": 27,
   "id": "f6fc48b9",
   "metadata": {},
   "outputs": [],
   "source": [
    "MLJ.save(\"mnist_pca_nn_machine_1.jlso\", mach)\n",
    "# mach = machine(\"mnist_pca_nn_machine_1.jlso\")"
   ]
  },
  {
   "cell_type": "code",
   "execution_count": 28,
   "id": "30bb17d4",
   "metadata": {},
   "outputs": [
    {
     "data": {
      "text/plain": [
       "(neural_network_classifier = (chain = Chain(Chain(Dense(154, 39, σ), Dropout(0.5), Dense(39, 10)), softmax),),\n",
       " standardizer = Dict(:x117 => (4.2124030666951964e-15, 0.19645279949987784), :x102 => (-7.794848867542752e-15, 0.22308703330484025), :x31 => (-2.2642512347556297e-14, 0.5883857664782468), :x61 => (1.1028714085300933e-14, 0.35707556582075994), :x153 => (2.763353329033441e-15, 0.15562966937952932), :x95 => (-7.103143524613034e-16, 0.24024410147002778), :x144 => (2.3554776746638784e-15, 0.1619956490190348), :x62 => (-1.72996119518173e-15, 0.35507514131490997), :x89 => (4.1094614094227456e-15, 0.2545385376572109), :x92 => (1.3347735018564297e-14, 0.2460047010627635)…),\n",
       " pca = (projection = [0.0 0.0 … 0.0 0.0; 0.0 0.0 … 0.0 0.0; … ; 0.0 0.0 … 0.0 0.0; 0.0 0.0 … 0.0 0.0],),\n",
       " machines = Machine[Machine{PCA,…}, Machine{Standardizer,…}, Machine{NeuralNetworkClassifier{Short,…},…}],\n",
       " fitted_params_given_machine = OrderedCollections.LittleDict{Any, Any, Vector{Any}, Vector{Any}}(Machine{PCA,…} => (projection = [0.0 0.0 … 0.0 0.0; 0.0 0.0 … 0.0 0.0; … ; 0.0 0.0 … 0.0 0.0; 0.0 0.0 … 0.0 0.0],), Machine{Standardizer,…} => Dict(:x117 => (4.2124030666951964e-15, 0.19645279949987784), :x102 => (-7.794848867542752e-15, 0.22308703330484025), :x31 => (-2.2642512347556297e-14, 0.5883857664782468), :x61 => (1.1028714085300933e-14, 0.35707556582075994), :x153 => (2.763353329033441e-15, 0.15562966937952932), :x95 => (-7.103143524613034e-16, 0.24024410147002778), :x144 => (2.3554776746638784e-15, 0.1619956490190348), :x62 => (-1.72996119518173e-15, 0.35507514131490997), :x89 => (4.1094614094227456e-15, 0.2545385376572109), :x92 => (1.3347735018564297e-14, 0.2460047010627635)…), Machine{NeuralNetworkClassifier{Short,…},…} => (chain = Chain(Chain(Dense(154, 39, σ), Dropout(0.5), Dense(39, 10)), softmax),)),)"
      ]
     },
     "execution_count": 28,
     "metadata": {},
     "output_type": "execute_result"
    }
   ],
   "source": [
    "fitted_params(mach)"
   ]
  },
  {
   "cell_type": "code",
   "execution_count": 29,
   "id": "382dd5b9",
   "metadata": {},
   "outputs": [
    {
     "data": {
      "text/plain": [
       "(neural_network_classifier = (training_losses = Float32[2.547956, 0.76196724, 0.49973807, 0.46279627, 0.4484085, 0.43480024, 0.427019, 0.4203657, 0.41513145, 0.39982224, 0.4081755],),\n",
       " standardizer = (features_fit = [:x117, :x102, :x31, :x61, :x153, :x95, :x144, :x62, :x89, :x92  …  :x83, :x80, :x25, :x51, :x149, :x54, :x147, :x140, :x52, :x73],),\n",
       " pca = (indim = 784,\n",
       "        outdim = 154,\n",
       "        tprincipalvar = 50.13565645180913,\n",
       "        tresidualvar = 2.6211613941773635,\n",
       "        tvar = 52.7568178459865,\n",
       "        mean = [0.0, 0.0, 0.0, 0.0, 0.0, 0.0, 0.0, 0.0, 0.0, 0.0  …  0.000832099702574775, 0.0003105434931287816, 0.00015648553652550755, 3.716064650188067e-5, 6.0876234972930156e-5, 1.1204215025692665e-5, 0.0, 0.0, 0.0, 0.0],\n",
       "        principalvars = [5.1349766284236145, 3.7508543189021277, 3.243843592702351, 2.8485035174654296, 2.589356628837157, 2.270673948756495, 1.7198907943325494, 1.513474012418908, 1.455340389069289, 1.2430477984050359  …  0.02619950344211495, 0.026009010657410205, 0.02571928513790871, 0.025420904929630495, 0.02503416792659247, 0.024776165464515346, 0.024672006972048584, 0.024377212764699552, 0.024220593991181563, 0.023837403843675154],),\n",
       " machines = Machine[Machine{PCA,…}, Machine{Standardizer,…}, Machine{NeuralNetworkClassifier{Short,…},…}],\n",
       " report_given_machine = OrderedCollections.LittleDict{Any, Any, Vector{Any}, Vector{Any}}(Machine{PCA,…} => (indim = 784, outdim = 154, tprincipalvar = 50.13565645180913, tresidualvar = 2.6211613941773635, tvar = 52.7568178459865, mean = [0.0, 0.0, 0.0, 0.0, 0.0, 0.0, 0.0, 0.0, 0.0, 0.0  …  0.000832099702574775, 0.0003105434931287816, 0.00015648553652550755, 3.716064650188067e-5, 6.0876234972930156e-5, 1.1204215025692665e-5, 0.0, 0.0, 0.0, 0.0], principalvars = [5.1349766284236145, 3.7508543189021277, 3.243843592702351, 2.8485035174654296, 2.589356628837157, 2.270673948756495, 1.7198907943325494, 1.513474012418908, 1.455340389069289, 1.2430477984050359  …  0.02619950344211495, 0.026009010657410205, 0.02571928513790871, 0.025420904929630495, 0.02503416792659247, 0.024776165464515346, 0.024672006972048584, 0.024377212764699552, 0.024220593991181563, 0.023837403843675154]), Machine{Standardizer,…} => (features_fit = [:x117, :x102, :x31, :x61, :x153, :x95, :x144, :x62, :x89, :x92  …  :x83, :x80, :x25, :x51, :x149, :x54, :x147, :x140, :x52, :x73],), Machine{NeuralNetworkClassifier{Short,…},…} => (training_losses = Float32[2.547956, 0.76196724, 0.49973807, 0.46279627, 0.4484085, 0.43480024, 0.427019, 0.4203657, 0.41513145, 0.39982224, 0.4081755],)),)"
      ]
     },
     "execution_count": 29,
     "metadata": {},
     "output_type": "execute_result"
    }
   ],
   "source": [
    "report(mach)"
   ]
  },
  {
   "cell_type": "code",
   "execution_count": 30,
   "id": "cb64cebe",
   "metadata": {},
   "outputs": [
    {
     "data": {
      "text/plain": [
       "Chain(\n",
       "  Chain(\n",
       "    Dense(154, 39, σ),                  \u001b[90m# 6_045 parameters\u001b[39m\n",
       "    Dropout(0.5),\n",
       "    Dense(39, 10),                      \u001b[90m# 400 parameters\u001b[39m\n",
       "  ),\n",
       "  NNlib.softmax,\n",
       ")\u001b[90m                   # Total: 4 arrays, \u001b[39m6_445 parameters, 25.535 KiB."
      ]
     },
     "execution_count": 30,
     "metadata": {},
     "output_type": "execute_result"
    }
   ],
   "source": [
    "fitted_params(mach).neural_network_classifier.chain"
   ]
  },
  {
   "cell_type": "code",
   "execution_count": 31,
   "id": "437009ee",
   "metadata": {},
   "outputs": [
    {
     "data": {
      "image/svg+xml": [
       "<?xml version=\"1.0\" encoding=\"utf-8\"?>\n",
       "<svg xmlns=\"http://www.w3.org/2000/svg\" xmlns:xlink=\"http://www.w3.org/1999/xlink\" width=\"500\" height=\"300\" viewBox=\"0 0 2000 1200\">\n",
       "<defs>\n",
       "  <clipPath id=\"clip410\">\n",
       "    <rect x=\"0\" y=\"0\" width=\"2000\" height=\"1200\"/>\n",
       "  </clipPath>\n",
       "</defs>\n",
       "<path clip-path=\"url(#clip410)\" d=\"\n",
       "M0 1200 L2000 1200 L2000 0 L0 0  Z\n",
       "  \" fill=\"#ffffff\" fill-rule=\"evenodd\" fill-opacity=\"1\"/>\n",
       "<defs>\n",
       "  <clipPath id=\"clip411\">\n",
       "    <rect x=\"400\" y=\"0\" width=\"1401\" height=\"1200\"/>\n",
       "  </clipPath>\n",
       "</defs>\n",
       "<path clip-path=\"url(#clip410)\" d=\"\n",
       "M210.281 1035.39 L1952.76 1035.39 L1952.76 117.424 L210.281 117.424  Z\n",
       "  \" fill=\"#ffffff\" fill-rule=\"evenodd\" fill-opacity=\"1\"/>\n",
       "<defs>\n",
       "  <clipPath id=\"clip412\">\n",
       "    <rect x=\"210\" y=\"117\" width=\"1743\" height=\"919\"/>\n",
       "  </clipPath>\n",
       "</defs>\n",
       "<polyline clip-path=\"url(#clip412)\" style=\"stroke:#000000; stroke-linecap:butt; stroke-linejoin:round; stroke-width:2; stroke-opacity:0.1; fill:none\" points=\"\n",
       "  259.596,1035.39 259.596,117.424 \n",
       "  \"/>\n",
       "<polyline clip-path=\"url(#clip412)\" style=\"stroke:#000000; stroke-linecap:butt; stroke-linejoin:round; stroke-width:2; stroke-opacity:0.1; fill:none\" points=\"\n",
       "  670.557,1035.39 670.557,117.424 \n",
       "  \"/>\n",
       "<polyline clip-path=\"url(#clip412)\" style=\"stroke:#000000; stroke-linecap:butt; stroke-linejoin:round; stroke-width:2; stroke-opacity:0.1; fill:none\" points=\"\n",
       "  1081.52,1035.39 1081.52,117.424 \n",
       "  \"/>\n",
       "<polyline clip-path=\"url(#clip412)\" style=\"stroke:#000000; stroke-linecap:butt; stroke-linejoin:round; stroke-width:2; stroke-opacity:0.1; fill:none\" points=\"\n",
       "  1492.48,1035.39 1492.48,117.424 \n",
       "  \"/>\n",
       "<polyline clip-path=\"url(#clip412)\" style=\"stroke:#000000; stroke-linecap:butt; stroke-linejoin:round; stroke-width:2; stroke-opacity:0.1; fill:none\" points=\"\n",
       "  1903.44,1035.39 1903.44,117.424 \n",
       "  \"/>\n",
       "<polyline clip-path=\"url(#clip410)\" style=\"stroke:#000000; stroke-linecap:butt; stroke-linejoin:round; stroke-width:4; stroke-opacity:1; fill:none\" points=\"\n",
       "  210.281,1035.39 1952.76,1035.39 \n",
       "  \"/>\n",
       "<polyline clip-path=\"url(#clip410)\" style=\"stroke:#000000; stroke-linecap:butt; stroke-linejoin:round; stroke-width:4; stroke-opacity:1; fill:none\" points=\"\n",
       "  259.596,1035.39 259.596,1016.49 \n",
       "  \"/>\n",
       "<polyline clip-path=\"url(#clip410)\" style=\"stroke:#000000; stroke-linecap:butt; stroke-linejoin:round; stroke-width:4; stroke-opacity:1; fill:none\" points=\"\n",
       "  670.557,1035.39 670.557,1016.49 \n",
       "  \"/>\n",
       "<polyline clip-path=\"url(#clip410)\" style=\"stroke:#000000; stroke-linecap:butt; stroke-linejoin:round; stroke-width:4; stroke-opacity:1; fill:none\" points=\"\n",
       "  1081.52,1035.39 1081.52,1016.49 \n",
       "  \"/>\n",
       "<polyline clip-path=\"url(#clip410)\" style=\"stroke:#000000; stroke-linecap:butt; stroke-linejoin:round; stroke-width:4; stroke-opacity:1; fill:none\" points=\"\n",
       "  1492.48,1035.39 1492.48,1016.49 \n",
       "  \"/>\n",
       "<polyline clip-path=\"url(#clip410)\" style=\"stroke:#000000; stroke-linecap:butt; stroke-linejoin:round; stroke-width:4; stroke-opacity:1; fill:none\" points=\"\n",
       "  1903.44,1035.39 1903.44,1016.49 \n",
       "  \"/>\n",
       "<path clip-path=\"url(#clip410)\" d=\"M236.981 1063.11 Q233.37 1063.11 231.541 1066.67 Q229.735 1070.21 229.735 1077.34 Q229.735 1084.45 231.541 1088.01 Q233.37 1091.56 236.981 1091.56 Q240.615 1091.56 242.42 1088.01 Q244.249 1084.45 244.249 1077.34 Q244.249 1070.21 242.42 1066.67 Q240.615 1063.11 236.981 1063.11 M236.981 1059.4 Q242.791 1059.4 245.846 1064.01 Q248.925 1068.59 248.925 1077.34 Q248.925 1086.07 245.846 1090.68 Q242.791 1095.26 236.981 1095.26 Q231.17 1095.26 228.092 1090.68 Q225.036 1086.07 225.036 1077.34 Q225.036 1068.59 228.092 1064.01 Q231.17 1059.4 236.981 1059.4 Z\" fill=\"#000000\" fill-rule=\"evenodd\" fill-opacity=\"1\" /><path clip-path=\"url(#clip410)\" d=\"M257.143 1088.71 L262.027 1088.71 L262.027 1094.59 L257.143 1094.59 L257.143 1088.71 Z\" fill=\"#000000\" fill-rule=\"evenodd\" fill-opacity=\"1\" /><path clip-path=\"url(#clip410)\" d=\"M282.212 1063.11 Q278.601 1063.11 276.772 1066.67 Q274.967 1070.21 274.967 1077.34 Q274.967 1084.45 276.772 1088.01 Q278.601 1091.56 282.212 1091.56 Q285.846 1091.56 287.652 1088.01 Q289.48 1084.45 289.48 1077.34 Q289.48 1070.21 287.652 1066.67 Q285.846 1063.11 282.212 1063.11 M282.212 1059.4 Q288.022 1059.4 291.078 1064.01 Q294.156 1068.59 294.156 1077.34 Q294.156 1086.07 291.078 1090.68 Q288.022 1095.26 282.212 1095.26 Q276.402 1095.26 273.323 1090.68 Q270.268 1086.07 270.268 1077.34 Q270.268 1068.59 273.323 1064.01 Q276.402 1059.4 282.212 1059.4 Z\" fill=\"#000000\" fill-rule=\"evenodd\" fill-opacity=\"1\" /><path clip-path=\"url(#clip410)\" d=\"M642.294 1090.65 L658.613 1090.65 L658.613 1094.59 L636.669 1094.59 L636.669 1090.65 Q639.331 1087.9 643.914 1083.27 Q648.52 1078.62 649.701 1077.27 Q651.946 1074.75 652.826 1073.01 Q653.729 1071.25 653.729 1069.56 Q653.729 1066.81 651.784 1065.07 Q649.863 1063.34 646.761 1063.34 Q644.562 1063.34 642.108 1064.1 Q639.678 1064.87 636.9 1066.42 L636.9 1061.69 Q639.724 1060.56 642.178 1059.98 Q644.632 1059.4 646.669 1059.4 Q652.039 1059.4 655.233 1062.09 Q658.428 1064.77 658.428 1069.26 Q658.428 1071.39 657.618 1073.31 Q656.831 1075.21 654.724 1077.81 Q654.145 1078.48 651.044 1081.69 Q647.942 1084.89 642.294 1090.65 Z\" fill=\"#000000\" fill-rule=\"evenodd\" fill-opacity=\"1\" /><path clip-path=\"url(#clip410)\" d=\"M668.428 1088.71 L673.312 1088.71 L673.312 1094.59 L668.428 1094.59 L668.428 1088.71 Z\" fill=\"#000000\" fill-rule=\"evenodd\" fill-opacity=\"1\" /><path clip-path=\"url(#clip410)\" d=\"M683.543 1060.03 L701.9 1060.03 L701.9 1063.96 L687.826 1063.96 L687.826 1072.44 Q688.844 1072.09 689.863 1071.93 Q690.881 1071.74 691.9 1071.74 Q697.687 1071.74 701.066 1074.91 Q704.446 1078.08 704.446 1083.5 Q704.446 1089.08 700.974 1092.18 Q697.502 1095.26 691.182 1095.26 Q689.006 1095.26 686.738 1094.89 Q684.492 1094.52 682.085 1093.78 L682.085 1089.08 Q684.168 1090.21 686.391 1090.77 Q688.613 1091.32 691.09 1091.32 Q695.094 1091.32 697.432 1089.22 Q699.77 1087.11 699.77 1083.5 Q699.77 1079.89 697.432 1077.78 Q695.094 1075.68 691.09 1075.68 Q689.215 1075.68 687.34 1076.09 Q685.488 1076.51 683.543 1077.39 L683.543 1060.03 Z\" fill=\"#000000\" fill-rule=\"evenodd\" fill-opacity=\"1\" /><path clip-path=\"url(#clip410)\" d=\"M1048.68 1060.03 L1067.04 1060.03 L1067.04 1063.96 L1052.97 1063.96 L1052.97 1072.44 Q1053.98 1072.09 1055 1071.93 Q1056.02 1071.74 1057.04 1071.74 Q1062.83 1071.74 1066.21 1074.91 Q1069.59 1078.08 1069.59 1083.5 Q1069.59 1089.08 1066.11 1092.18 Q1062.64 1095.26 1056.32 1095.26 Q1054.15 1095.26 1051.88 1094.89 Q1049.63 1094.52 1047.22 1093.78 L1047.22 1089.08 Q1049.31 1090.21 1051.53 1090.77 Q1053.75 1091.32 1056.23 1091.32 Q1060.23 1091.32 1062.57 1089.22 Q1064.91 1087.11 1064.91 1083.5 Q1064.91 1079.89 1062.57 1077.78 Q1060.23 1075.68 1056.23 1075.68 Q1054.35 1075.68 1052.48 1076.09 Q1050.63 1076.51 1048.68 1077.39 L1048.68 1060.03 Z\" fill=\"#000000\" fill-rule=\"evenodd\" fill-opacity=\"1\" /><path clip-path=\"url(#clip410)\" d=\"M1078.8 1088.71 L1083.68 1088.71 L1083.68 1094.59 L1078.8 1094.59 L1078.8 1088.71 Z\" fill=\"#000000\" fill-rule=\"evenodd\" fill-opacity=\"1\" /><path clip-path=\"url(#clip410)\" d=\"M1103.87 1063.11 Q1100.26 1063.11 1098.43 1066.67 Q1096.62 1070.21 1096.62 1077.34 Q1096.62 1084.45 1098.43 1088.01 Q1100.26 1091.56 1103.87 1091.56 Q1107.5 1091.56 1109.31 1088.01 Q1111.14 1084.45 1111.14 1077.34 Q1111.14 1070.21 1109.31 1066.67 Q1107.5 1063.11 1103.87 1063.11 M1103.87 1059.4 Q1109.68 1059.4 1112.73 1064.01 Q1115.81 1068.59 1115.81 1077.34 Q1115.81 1086.07 1112.73 1090.68 Q1109.68 1095.26 1103.87 1095.26 Q1098.06 1095.26 1094.98 1090.68 Q1091.92 1086.07 1091.92 1077.34 Q1091.92 1068.59 1094.98 1064.01 Q1098.06 1059.4 1103.87 1059.4 Z\" fill=\"#000000\" fill-rule=\"evenodd\" fill-opacity=\"1\" /><path clip-path=\"url(#clip410)\" d=\"M1458.8 1060.03 L1481.02 1060.03 L1481.02 1062.02 L1468.47 1094.59 L1463.59 1094.59 L1475.4 1063.96 L1458.8 1063.96 L1458.8 1060.03 Z\" fill=\"#000000\" fill-rule=\"evenodd\" fill-opacity=\"1\" /><path clip-path=\"url(#clip410)\" d=\"M1490.14 1088.71 L1495.03 1088.71 L1495.03 1094.59 L1490.14 1094.59 L1490.14 1088.71 Z\" fill=\"#000000\" fill-rule=\"evenodd\" fill-opacity=\"1\" /><path clip-path=\"url(#clip410)\" d=\"M1505.26 1060.03 L1523.61 1060.03 L1523.61 1063.96 L1509.54 1063.96 L1509.54 1072.44 Q1510.56 1072.09 1511.58 1071.93 Q1512.6 1071.74 1513.61 1071.74 Q1519.4 1071.74 1522.78 1074.91 Q1526.16 1078.08 1526.16 1083.5 Q1526.16 1089.08 1522.69 1092.18 Q1519.22 1095.26 1512.9 1095.26 Q1510.72 1095.26 1508.45 1094.89 Q1506.21 1094.52 1503.8 1093.78 L1503.8 1089.08 Q1505.88 1090.21 1508.1 1090.77 Q1510.33 1091.32 1512.8 1091.32 Q1516.81 1091.32 1519.15 1089.22 Q1521.48 1087.11 1521.48 1083.5 Q1521.48 1079.89 1519.15 1077.78 Q1516.81 1075.68 1512.8 1075.68 Q1510.93 1075.68 1509.05 1076.09 Q1507.2 1076.51 1505.26 1077.39 L1505.26 1060.03 Z\" fill=\"#000000\" fill-rule=\"evenodd\" fill-opacity=\"1\" /><path clip-path=\"url(#clip410)\" d=\"M1855.51 1090.65 L1863.15 1090.65 L1863.15 1064.29 L1854.84 1065.95 L1854.84 1061.69 L1863.11 1060.03 L1867.78 1060.03 L1867.78 1090.65 L1875.42 1090.65 L1875.42 1094.59 L1855.51 1094.59 L1855.51 1090.65 Z\" fill=\"#000000\" fill-rule=\"evenodd\" fill-opacity=\"1\" /><path clip-path=\"url(#clip410)\" d=\"M1894.86 1063.11 Q1891.25 1063.11 1889.42 1066.67 Q1887.62 1070.21 1887.62 1077.34 Q1887.62 1084.45 1889.42 1088.01 Q1891.25 1091.56 1894.86 1091.56 Q1898.5 1091.56 1900.3 1088.01 Q1902.13 1084.45 1902.13 1077.34 Q1902.13 1070.21 1900.3 1066.67 Q1898.5 1063.11 1894.86 1063.11 M1894.86 1059.4 Q1900.67 1059.4 1903.73 1064.01 Q1906.81 1068.59 1906.81 1077.34 Q1906.81 1086.07 1903.73 1090.68 Q1900.67 1095.26 1894.86 1095.26 Q1889.05 1095.26 1885.98 1090.68 Q1882.92 1086.07 1882.92 1077.34 Q1882.92 1068.59 1885.98 1064.01 Q1889.05 1059.4 1894.86 1059.4 Z\" fill=\"#000000\" fill-rule=\"evenodd\" fill-opacity=\"1\" /><path clip-path=\"url(#clip410)\" d=\"M1915.03 1088.71 L1919.91 1088.71 L1919.91 1094.59 L1915.03 1094.59 L1915.03 1088.71 Z\" fill=\"#000000\" fill-rule=\"evenodd\" fill-opacity=\"1\" /><path clip-path=\"url(#clip410)\" d=\"M1940.1 1063.11 Q1936.48 1063.11 1934.66 1066.67 Q1932.85 1070.21 1932.85 1077.34 Q1932.85 1084.45 1934.66 1088.01 Q1936.48 1091.56 1940.1 1091.56 Q1943.73 1091.56 1945.54 1088.01 Q1947.36 1084.45 1947.36 1077.34 Q1947.36 1070.21 1945.54 1066.67 Q1943.73 1063.11 1940.1 1063.11 M1940.1 1059.4 Q1945.91 1059.4 1948.96 1064.01 Q1952.04 1068.59 1952.04 1077.34 Q1952.04 1086.07 1948.96 1090.68 Q1945.91 1095.26 1940.1 1095.26 Q1934.29 1095.26 1931.21 1090.68 Q1928.15 1086.07 1928.15 1077.34 Q1928.15 1068.59 1931.21 1064.01 Q1934.29 1059.4 1940.1 1059.4 Z\" fill=\"#000000\" fill-rule=\"evenodd\" fill-opacity=\"1\" /><path clip-path=\"url(#clip410)\" d=\"M969.53 1126.73 L999.576 1126.73 L999.576 1132.14 L975.959 1132.14 L975.959 1146.21 L998.589 1146.21 L998.589 1151.62 L975.959 1151.62 L975.959 1168.84 L1000.15 1168.84 L1000.15 1174.25 L969.53 1174.25 L969.53 1126.73 Z\" fill=\"#000000\" fill-rule=\"evenodd\" fill-opacity=\"1\" /><path clip-path=\"url(#clip410)\" d=\"M1016.13 1168.9 L1016.13 1187.81 L1010.24 1187.81 L1010.24 1138.6 L1016.13 1138.6 L1016.13 1144.01 Q1017.97 1140.83 1020.77 1139.3 Q1023.61 1137.74 1027.52 1137.74 Q1034.01 1137.74 1038.06 1142.9 Q1042.13 1148.06 1042.13 1156.46 Q1042.13 1164.86 1038.06 1170.02 Q1034.01 1175.17 1027.52 1175.17 Q1023.61 1175.17 1020.77 1173.65 Q1017.97 1172.09 1016.13 1168.9 M1036.05 1156.46 Q1036.05 1150 1033.38 1146.34 Q1030.74 1142.65 1026.09 1142.65 Q1021.44 1142.65 1018.77 1146.34 Q1016.13 1150 1016.13 1156.46 Q1016.13 1162.92 1018.77 1166.61 Q1021.44 1170.27 1026.09 1170.27 Q1030.74 1170.27 1033.38 1166.61 Q1036.05 1162.92 1036.05 1156.46 Z\" fill=\"#000000\" fill-rule=\"evenodd\" fill-opacity=\"1\" /><path clip-path=\"url(#clip410)\" d=\"M1065.65 1142.71 Q1060.94 1142.71 1058.2 1146.4 Q1055.47 1150.06 1055.47 1156.46 Q1055.47 1162.86 1058.17 1166.55 Q1060.91 1170.21 1065.65 1170.21 Q1070.33 1170.21 1073.07 1166.52 Q1075.81 1162.83 1075.81 1156.46 Q1075.81 1150.13 1073.07 1146.43 Q1070.33 1142.71 1065.65 1142.71 M1065.65 1137.74 Q1073.29 1137.74 1077.65 1142.71 Q1082.01 1147.68 1082.01 1156.46 Q1082.01 1165.21 1077.65 1170.21 Q1073.29 1175.17 1065.65 1175.17 Q1057.98 1175.17 1053.62 1170.21 Q1049.29 1165.21 1049.29 1156.46 Q1049.29 1147.68 1053.62 1142.71 Q1057.98 1137.74 1065.65 1137.74 Z\" fill=\"#000000\" fill-rule=\"evenodd\" fill-opacity=\"1\" /><path clip-path=\"url(#clip410)\" d=\"M1117.37 1139.97 L1117.37 1145.45 Q1114.89 1144.08 1112.38 1143.41 Q1109.89 1142.71 1107.35 1142.71 Q1101.65 1142.71 1098.5 1146.34 Q1095.35 1149.93 1095.35 1156.46 Q1095.35 1162.98 1098.5 1166.61 Q1101.65 1170.21 1107.35 1170.21 Q1109.89 1170.21 1112.38 1169.54 Q1114.89 1168.84 1117.37 1167.47 L1117.37 1172.88 Q1114.92 1174.03 1112.28 1174.6 Q1109.67 1175.17 1106.71 1175.17 Q1098.66 1175.17 1093.92 1170.11 Q1089.17 1165.05 1089.17 1156.46 Q1089.17 1147.74 1093.95 1142.74 Q1098.75 1137.74 1107.09 1137.74 Q1109.8 1137.74 1112.38 1138.32 Q1114.95 1138.86 1117.37 1139.97 Z\" fill=\"#000000\" fill-rule=\"evenodd\" fill-opacity=\"1\" /><path clip-path=\"url(#clip410)\" d=\"M1157.19 1152.74 L1157.19 1174.25 L1151.33 1174.25 L1151.33 1152.93 Q1151.33 1147.87 1149.36 1145.35 Q1147.39 1142.84 1143.44 1142.84 Q1138.7 1142.84 1135.96 1145.86 Q1133.22 1148.88 1133.22 1154.1 L1133.22 1174.25 L1127.34 1174.25 L1127.34 1124.73 L1133.22 1124.73 L1133.22 1144.14 Q1135.32 1140.93 1138.16 1139.34 Q1141.02 1137.74 1144.75 1137.74 Q1150.89 1137.74 1154.04 1141.56 Q1157.19 1145.35 1157.19 1152.74 Z\" fill=\"#000000\" fill-rule=\"evenodd\" fill-opacity=\"1\" /><path clip-path=\"url(#clip410)\" d=\"M1191.6 1139.65 L1191.6 1145.19 Q1189.11 1143.92 1186.44 1143.28 Q1183.77 1142.65 1180.9 1142.65 Q1176.54 1142.65 1174.35 1143.98 Q1172.18 1145.32 1172.18 1147.99 Q1172.18 1150.03 1173.74 1151.21 Q1175.3 1152.35 1180.01 1153.4 L1182.02 1153.85 Q1188.26 1155.19 1190.87 1157.64 Q1193.51 1160.06 1193.51 1164.42 Q1193.51 1169.38 1189.56 1172.28 Q1185.65 1175.17 1178.77 1175.17 Q1175.91 1175.17 1172.79 1174.6 Q1169.7 1174.06 1166.26 1172.95 L1166.26 1166.9 Q1169.51 1168.59 1172.66 1169.45 Q1175.81 1170.27 1178.9 1170.27 Q1183.04 1170.27 1185.26 1168.87 Q1187.49 1167.44 1187.49 1164.86 Q1187.49 1162.48 1185.87 1161.2 Q1184.28 1159.93 1178.83 1158.75 L1176.8 1158.27 Q1171.35 1157.13 1168.94 1154.77 Q1166.52 1152.39 1166.52 1148.25 Q1166.52 1143.22 1170.08 1140.48 Q1173.65 1137.74 1180.2 1137.74 Q1183.45 1137.74 1186.31 1138.22 Q1189.18 1138.7 1191.6 1139.65 Z\" fill=\"#000000\" fill-rule=\"evenodd\" fill-opacity=\"1\" /><polyline clip-path=\"url(#clip412)\" style=\"stroke:#000000; stroke-linecap:butt; stroke-linejoin:round; stroke-width:2; stroke-opacity:0.1; fill:none\" points=\"\n",
       "  210.281,969.022 1952.76,969.022 \n",
       "  \"/>\n",
       "<polyline clip-path=\"url(#clip412)\" style=\"stroke:#000000; stroke-linecap:butt; stroke-linejoin:round; stroke-width:2; stroke-opacity:0.1; fill:none\" points=\"\n",
       "  210.281,767.451 1952.76,767.451 \n",
       "  \"/>\n",
       "<polyline clip-path=\"url(#clip412)\" style=\"stroke:#000000; stroke-linecap:butt; stroke-linejoin:round; stroke-width:2; stroke-opacity:0.1; fill:none\" points=\"\n",
       "  210.281,565.88 1952.76,565.88 \n",
       "  \"/>\n",
       "<polyline clip-path=\"url(#clip412)\" style=\"stroke:#000000; stroke-linecap:butt; stroke-linejoin:round; stroke-width:2; stroke-opacity:0.1; fill:none\" points=\"\n",
       "  210.281,364.308 1952.76,364.308 \n",
       "  \"/>\n",
       "<polyline clip-path=\"url(#clip412)\" style=\"stroke:#000000; stroke-linecap:butt; stroke-linejoin:round; stroke-width:2; stroke-opacity:0.1; fill:none\" points=\"\n",
       "  210.281,162.737 1952.76,162.737 \n",
       "  \"/>\n",
       "<polyline clip-path=\"url(#clip410)\" style=\"stroke:#000000; stroke-linecap:butt; stroke-linejoin:round; stroke-width:4; stroke-opacity:1; fill:none\" points=\"\n",
       "  210.281,1035.39 210.281,117.424 \n",
       "  \"/>\n",
       "<polyline clip-path=\"url(#clip410)\" style=\"stroke:#000000; stroke-linecap:butt; stroke-linejoin:round; stroke-width:4; stroke-opacity:1; fill:none\" points=\"\n",
       "  210.281,969.022 229.179,969.022 \n",
       "  \"/>\n",
       "<polyline clip-path=\"url(#clip410)\" style=\"stroke:#000000; stroke-linecap:butt; stroke-linejoin:round; stroke-width:4; stroke-opacity:1; fill:none\" points=\"\n",
       "  210.281,767.451 229.179,767.451 \n",
       "  \"/>\n",
       "<polyline clip-path=\"url(#clip410)\" style=\"stroke:#000000; stroke-linecap:butt; stroke-linejoin:round; stroke-width:4; stroke-opacity:1; fill:none\" points=\"\n",
       "  210.281,565.88 229.179,565.88 \n",
       "  \"/>\n",
       "<polyline clip-path=\"url(#clip410)\" style=\"stroke:#000000; stroke-linecap:butt; stroke-linejoin:round; stroke-width:4; stroke-opacity:1; fill:none\" points=\"\n",
       "  210.281,364.308 229.179,364.308 \n",
       "  \"/>\n",
       "<polyline clip-path=\"url(#clip410)\" style=\"stroke:#000000; stroke-linecap:butt; stroke-linejoin:round; stroke-width:4; stroke-opacity:1; fill:none\" points=\"\n",
       "  210.281,162.737 229.179,162.737 \n",
       "  \"/>\n",
       "<path clip-path=\"url(#clip410)\" d=\"M124.101 954.821 Q120.49 954.821 118.661 958.385 Q116.855 961.927 116.855 969.057 Q116.855 976.163 118.661 979.728 Q120.49 983.269 124.101 983.269 Q127.735 983.269 129.54 979.728 Q131.369 976.163 131.369 969.057 Q131.369 961.927 129.54 958.385 Q127.735 954.821 124.101 954.821 M124.101 951.117 Q129.911 951.117 132.966 955.723 Q136.045 960.307 136.045 969.057 Q136.045 977.783 132.966 982.39 Q129.911 986.973 124.101 986.973 Q118.291 986.973 115.212 982.39 Q112.156 977.783 112.156 969.057 Q112.156 960.307 115.212 955.723 Q118.291 951.117 124.101 951.117 Z\" fill=\"#000000\" fill-rule=\"evenodd\" fill-opacity=\"1\" /><path clip-path=\"url(#clip410)\" d=\"M144.263 980.422 L149.147 980.422 L149.147 986.302 L144.263 986.302 L144.263 980.422 Z\" fill=\"#000000\" fill-rule=\"evenodd\" fill-opacity=\"1\" /><path clip-path=\"url(#clip410)\" d=\"M159.378 951.742 L177.735 951.742 L177.735 955.677 L163.661 955.677 L163.661 964.149 Q164.679 963.802 165.698 963.64 Q166.716 963.455 167.735 963.455 Q173.522 963.455 176.901 966.626 Q180.281 969.797 180.281 975.214 Q180.281 980.793 176.809 983.894 Q173.337 986.973 167.017 986.973 Q164.841 986.973 162.573 986.603 Q160.327 986.232 157.92 985.492 L157.92 980.793 Q160.003 981.927 162.225 982.482 Q164.448 983.038 166.925 983.038 Q170.929 983.038 173.267 980.932 Q175.605 978.825 175.605 975.214 Q175.605 971.603 173.267 969.496 Q170.929 967.39 166.925 967.39 Q165.05 967.39 163.175 967.807 Q161.323 968.223 159.378 969.103 L159.378 951.742 Z\" fill=\"#000000\" fill-rule=\"evenodd\" fill-opacity=\"1\" /><path clip-path=\"url(#clip410)\" d=\"M113.916 780.796 L121.554 780.796 L121.554 754.43 L113.244 756.097 L113.244 751.837 L121.508 750.171 L126.184 750.171 L126.184 780.796 L133.823 780.796 L133.823 784.731 L113.916 784.731 L113.916 780.796 Z\" fill=\"#000000\" fill-rule=\"evenodd\" fill-opacity=\"1\" /><path clip-path=\"url(#clip410)\" d=\"M143.267 778.851 L148.151 778.851 L148.151 784.731 L143.267 784.731 L143.267 778.851 Z\" fill=\"#000000\" fill-rule=\"evenodd\" fill-opacity=\"1\" /><path clip-path=\"url(#clip410)\" d=\"M168.337 753.249 Q164.725 753.249 162.897 756.814 Q161.091 760.356 161.091 767.485 Q161.091 774.592 162.897 778.157 Q164.725 781.698 168.337 781.698 Q171.971 781.698 173.776 778.157 Q175.605 774.592 175.605 767.485 Q175.605 760.356 173.776 756.814 Q171.971 753.249 168.337 753.249 M168.337 749.546 Q174.147 749.546 177.202 754.152 Q180.281 758.735 180.281 767.485 Q180.281 776.212 177.202 780.819 Q174.147 785.402 168.337 785.402 Q162.526 785.402 159.448 780.819 Q156.392 776.212 156.392 767.485 Q156.392 758.735 159.448 754.152 Q162.526 749.546 168.337 749.546 Z\" fill=\"#000000\" fill-rule=\"evenodd\" fill-opacity=\"1\" /><path clip-path=\"url(#clip410)\" d=\"M114.911 579.224 L122.55 579.224 L122.55 552.859 L114.24 554.525 L114.24 550.266 L122.503 548.6 L127.179 548.6 L127.179 579.224 L134.818 579.224 L134.818 583.16 L114.911 583.16 L114.911 579.224 Z\" fill=\"#000000\" fill-rule=\"evenodd\" fill-opacity=\"1\" /><path clip-path=\"url(#clip410)\" d=\"M144.263 577.28 L149.147 577.28 L149.147 583.16 L144.263 583.16 L144.263 577.28 Z\" fill=\"#000000\" fill-rule=\"evenodd\" fill-opacity=\"1\" /><path clip-path=\"url(#clip410)\" d=\"M159.378 548.6 L177.735 548.6 L177.735 552.535 L163.661 552.535 L163.661 561.007 Q164.679 560.66 165.698 560.498 Q166.716 560.312 167.735 560.312 Q173.522 560.312 176.901 563.484 Q180.281 566.655 180.281 572.072 Q180.281 577.65 176.809 580.752 Q173.337 583.831 167.017 583.831 Q164.841 583.831 162.573 583.461 Q160.327 583.09 157.92 582.349 L157.92 577.65 Q160.003 578.785 162.225 579.34 Q164.448 579.896 166.925 579.896 Q170.929 579.896 173.267 577.789 Q175.605 575.683 175.605 572.072 Q175.605 568.461 173.267 566.354 Q170.929 564.248 166.925 564.248 Q165.05 564.248 163.175 564.664 Q161.323 565.081 159.378 565.961 L159.378 548.6 Z\" fill=\"#000000\" fill-rule=\"evenodd\" fill-opacity=\"1\" /><path clip-path=\"url(#clip410)\" d=\"M117.133 377.653 L133.452 377.653 L133.452 381.588 L111.508 381.588 L111.508 377.653 Q114.17 374.899 118.753 370.269 Q123.36 365.616 124.54 364.274 Q126.786 361.751 127.665 360.014 Q128.568 358.255 128.568 356.565 Q128.568 353.811 126.624 352.075 Q124.703 350.339 121.601 350.339 Q119.402 350.339 116.948 351.103 Q114.517 351.866 111.74 353.417 L111.74 348.695 Q114.564 347.561 117.017 346.982 Q119.471 346.403 121.508 346.403 Q126.878 346.403 130.073 349.089 Q133.267 351.774 133.267 356.265 Q133.267 358.394 132.457 360.315 Q131.67 362.214 129.564 364.806 Q128.985 365.477 125.883 368.695 Q122.781 371.889 117.133 377.653 Z\" fill=\"#000000\" fill-rule=\"evenodd\" fill-opacity=\"1\" /><path clip-path=\"url(#clip410)\" d=\"M143.267 375.709 L148.151 375.709 L148.151 381.588 L143.267 381.588 L143.267 375.709 Z\" fill=\"#000000\" fill-rule=\"evenodd\" fill-opacity=\"1\" /><path clip-path=\"url(#clip410)\" d=\"M168.337 350.107 Q164.725 350.107 162.897 353.672 Q161.091 357.214 161.091 364.343 Q161.091 371.45 162.897 375.014 Q164.725 378.556 168.337 378.556 Q171.971 378.556 173.776 375.014 Q175.605 371.45 175.605 364.343 Q175.605 357.214 173.776 353.672 Q171.971 350.107 168.337 350.107 M168.337 346.403 Q174.147 346.403 177.202 351.01 Q180.281 355.593 180.281 364.343 Q180.281 373.07 177.202 377.676 Q174.147 382.26 168.337 382.26 Q162.526 382.26 159.448 377.676 Q156.392 373.07 156.392 364.343 Q156.392 355.593 159.448 351.01 Q162.526 346.403 168.337 346.403 Z\" fill=\"#000000\" fill-rule=\"evenodd\" fill-opacity=\"1\" /><path clip-path=\"url(#clip410)\" d=\"M118.128 176.082 L134.448 176.082 L134.448 180.017 L112.504 180.017 L112.504 176.082 Q115.166 173.328 119.749 168.698 Q124.355 164.045 125.536 162.703 Q127.781 160.179 128.661 158.443 Q129.564 156.684 129.564 154.994 Q129.564 152.24 127.619 150.504 Q125.698 148.767 122.596 148.767 Q120.397 148.767 117.943 149.531 Q115.513 150.295 112.735 151.846 L112.735 147.124 Q115.559 145.99 118.013 145.411 Q120.466 144.832 122.503 144.832 Q127.874 144.832 131.068 147.517 Q134.263 150.203 134.263 154.693 Q134.263 156.823 133.452 158.744 Q132.665 160.642 130.559 163.235 Q129.98 163.906 126.878 167.124 Q123.777 170.318 118.128 176.082 Z\" fill=\"#000000\" fill-rule=\"evenodd\" fill-opacity=\"1\" /><path clip-path=\"url(#clip410)\" d=\"M144.263 174.138 L149.147 174.138 L149.147 180.017 L144.263 180.017 L144.263 174.138 Z\" fill=\"#000000\" fill-rule=\"evenodd\" fill-opacity=\"1\" /><path clip-path=\"url(#clip410)\" d=\"M159.378 145.457 L177.735 145.457 L177.735 149.392 L163.661 149.392 L163.661 157.865 Q164.679 157.517 165.698 157.355 Q166.716 157.17 167.735 157.17 Q173.522 157.17 176.901 160.341 Q180.281 163.513 180.281 168.929 Q180.281 174.508 176.809 177.61 Q173.337 180.689 167.017 180.689 Q164.841 180.689 162.573 180.318 Q160.327 179.948 157.92 179.207 L157.92 174.508 Q160.003 175.642 162.225 176.198 Q164.448 176.753 166.925 176.753 Q170.929 176.753 173.267 174.647 Q175.605 172.541 175.605 168.929 Q175.605 165.318 173.267 163.212 Q170.929 161.105 166.925 161.105 Q165.05 161.105 163.175 161.522 Q161.323 161.939 159.378 162.818 L159.378 145.457 Z\" fill=\"#000000\" fill-rule=\"evenodd\" fill-opacity=\"1\" /><path clip-path=\"url(#clip410)\" d=\"M23.3924 835.172 L30.1719 835.172 Q27.1482 838.418 25.6523 842.111 Q24.1563 845.771 24.1563 849.909 Q24.1563 858.057 29.1534 862.385 Q34.1187 866.714 43.5399 866.714 Q52.9293 866.714 57.9264 862.385 Q62.8916 858.057 62.8916 849.909 Q62.8916 845.771 61.3957 842.111 Q59.8998 838.418 56.8761 835.172 L63.5919 835.172 Q65.8835 838.546 67.0294 842.333 Q68.1752 846.089 68.1752 850.291 Q68.1752 861.08 61.5867 867.287 Q54.9663 873.494 43.5399 873.494 Q32.0816 873.494 25.4931 867.287 Q18.8728 861.08 18.8728 850.291 Q18.8728 846.025 20.0186 842.27 Q21.1326 838.482 23.3924 835.172 Z\" fill=\"#000000\" fill-rule=\"evenodd\" fill-opacity=\"1\" /><path clip-path=\"url(#clip410)\" d=\"M37.0787 804.839 Q36.5058 805.826 36.2512 807.004 Q35.9647 808.15 35.9647 809.55 Q35.9647 814.515 39.2112 817.189 Q42.4259 819.831 48.4733 819.831 L67.2522 819.831 L67.2522 825.719 L31.6042 825.719 L31.6042 819.831 L37.1424 819.831 Q33.8959 817.985 32.3363 815.024 Q30.7448 812.064 30.7448 807.831 Q30.7448 807.227 30.8403 806.494 Q30.904 805.762 31.0631 804.871 L37.0787 804.839 Z\" fill=\"#000000\" fill-rule=\"evenodd\" fill-opacity=\"1\" /><path clip-path=\"url(#clip410)\" d=\"M35.7101 786.315 Q35.7101 791.026 39.4022 793.763 Q43.0625 796.5 49.46 796.5 Q55.8575 796.5 59.5497 793.795 Q63.2099 791.058 63.2099 786.315 Q63.2099 781.636 59.5178 778.899 Q55.8257 776.162 49.46 776.162 Q43.1261 776.162 39.434 778.899 Q35.7101 781.636 35.7101 786.315 M30.7448 786.315 Q30.7448 778.676 35.7101 774.316 Q40.6753 769.955 49.46 769.955 Q58.2129 769.955 63.2099 774.316 Q68.1752 778.676 68.1752 786.315 Q68.1752 793.986 63.2099 798.346 Q58.2129 802.675 49.46 802.675 Q40.6753 802.675 35.7101 798.346 Q30.7448 793.986 30.7448 786.315 Z\" fill=\"#000000\" fill-rule=\"evenodd\" fill-opacity=\"1\" /><path clip-path=\"url(#clip410)\" d=\"M32.6545 737.522 L38.1927 737.522 Q36.9196 740.005 36.283 742.678 Q35.6464 745.352 35.6464 748.216 Q35.6464 752.577 36.9832 754.773 Q38.32 756.937 40.9936 756.937 Q43.0306 756.937 44.2083 755.378 Q45.3541 753.818 46.4045 749.108 L46.8501 747.102 Q48.1869 740.864 50.6377 738.254 Q53.0566 735.612 57.4171 735.612 Q62.3824 735.612 65.2788 739.559 Q68.1752 743.474 68.1752 750.349 Q68.1752 753.213 67.6023 756.333 Q67.0612 759.42 65.9472 762.858 L59.8998 762.858 Q61.5867 759.611 62.446 756.46 Q63.2736 753.309 63.2736 750.222 Q63.2736 746.084 61.8731 743.856 Q60.4409 741.628 57.8627 741.628 Q55.4756 741.628 54.2025 743.251 Q52.9293 744.843 51.7517 750.285 L51.2742 752.322 Q50.1284 757.765 47.7731 760.184 Q45.386 762.603 41.2482 762.603 Q36.2193 762.603 33.4821 759.038 Q30.7448 755.473 30.7448 748.917 Q30.7448 745.67 31.2223 742.806 Q31.6997 739.941 32.6545 737.522 Z\" fill=\"#000000\" fill-rule=\"evenodd\" fill-opacity=\"1\" /><path clip-path=\"url(#clip410)\" d=\"M32.6545 703.561 L38.1927 703.561 Q36.9196 706.044 36.283 708.717 Q35.6464 711.391 35.6464 714.255 Q35.6464 718.616 36.9832 720.812 Q38.32 722.976 40.9936 722.976 Q43.0306 722.976 44.2083 721.417 Q45.3541 719.857 46.4045 715.147 L46.8501 713.141 Q48.1869 706.903 50.6377 704.293 Q53.0566 701.651 57.4171 701.651 Q62.3824 701.651 65.2788 705.598 Q68.1752 709.513 68.1752 716.388 Q68.1752 719.252 67.6023 722.372 Q67.0612 725.459 65.9472 728.896 L59.8998 728.896 Q61.5867 725.65 62.446 722.499 Q63.2736 719.348 63.2736 716.261 Q63.2736 712.123 61.8731 709.895 Q60.4409 707.667 57.8627 707.667 Q55.4756 707.667 54.2025 709.29 Q52.9293 710.882 51.7517 716.324 L51.2742 718.361 Q50.1284 723.804 47.7731 726.223 Q45.386 728.642 41.2482 728.642 Q36.2193 728.642 33.4821 725.077 Q30.7448 721.512 30.7448 714.956 Q30.7448 711.709 31.2223 708.845 Q31.6997 705.98 32.6545 703.561 Z\" fill=\"#000000\" fill-rule=\"evenodd\" fill-opacity=\"1\" /><path clip-path=\"url(#clip410)\" d=\"M46.7864 695.286 L46.7864 678.13 L52.0063 678.13 L52.0063 695.286 L46.7864 695.286 Z\" fill=\"#000000\" fill-rule=\"evenodd\" fill-opacity=\"1\" /><path clip-path=\"url(#clip410)\" d=\"M47.9641 638.312 L50.8286 638.312 L50.8286 665.239 Q56.8761 664.857 60.0589 661.611 Q63.2099 658.333 63.2099 652.508 Q63.2099 649.134 62.3824 645.983 Q61.5549 642.8 59.8998 639.681 L65.4379 639.681 Q66.7747 642.832 67.475 646.142 Q68.1752 649.452 68.1752 652.858 Q68.1752 661.388 63.2099 666.385 Q58.2447 671.35 49.7783 671.35 Q41.0254 671.35 35.9011 666.64 Q30.7448 661.897 30.7448 653.877 Q30.7448 646.683 35.3918 642.514 Q40.0069 638.312 47.9641 638.312 M46.2453 644.169 Q41.4392 644.233 38.5746 646.874 Q35.7101 649.484 35.7101 653.813 Q35.7101 658.715 38.4792 661.675 Q41.2482 664.603 46.2772 665.048 L46.2453 644.169 Z\" fill=\"#000000\" fill-rule=\"evenodd\" fill-opacity=\"1\" /><path clip-path=\"url(#clip410)\" d=\"M45.7361 599.068 L67.2522 599.068 L67.2522 604.924 L45.927 604.924 Q40.8663 604.924 38.3518 606.898 Q35.8374 608.871 35.8374 612.818 Q35.8374 617.56 38.8611 620.298 Q41.8848 623.035 47.1047 623.035 L67.2522 623.035 L67.2522 628.923 L31.6042 628.923 L31.6042 623.035 L37.1424 623.035 Q33.9277 620.934 32.3363 618.101 Q30.7448 615.237 30.7448 611.513 Q30.7448 605.37 34.5643 602.219 Q38.3518 599.068 45.7361 599.068 Z\" fill=\"#000000\" fill-rule=\"evenodd\" fill-opacity=\"1\" /><path clip-path=\"url(#clip410)\" d=\"M21.4827 581.594 L31.6042 581.594 L31.6042 569.531 L36.1557 569.531 L36.1557 581.594 L55.5074 581.594 Q59.8679 581.594 61.1093 580.416 Q62.3506 579.207 62.3506 575.547 L62.3506 569.531 L67.2522 569.531 L67.2522 575.547 Q67.2522 582.326 64.7377 584.904 Q62.1914 587.482 55.5074 587.482 L36.1557 587.482 L36.1557 591.779 L31.6042 591.779 L31.6042 587.482 L21.4827 587.482 L21.4827 581.594 Z\" fill=\"#000000\" fill-rule=\"evenodd\" fill-opacity=\"1\" /><path clip-path=\"url(#clip410)\" d=\"M37.0787 541.172 Q36.5058 542.158 36.2512 543.336 Q35.9647 544.482 35.9647 545.882 Q35.9647 550.848 39.2112 553.521 Q42.4259 556.163 48.4733 556.163 L67.2522 556.163 L67.2522 562.051 L31.6042 562.051 L31.6042 556.163 L37.1424 556.163 Q33.8959 554.317 32.3363 551.357 Q30.7448 548.397 30.7448 544.164 Q30.7448 543.559 30.8403 542.827 Q30.904 542.095 31.0631 541.204 L37.0787 541.172 Z\" fill=\"#000000\" fill-rule=\"evenodd\" fill-opacity=\"1\" /><path clip-path=\"url(#clip410)\" d=\"M35.7101 522.648 Q35.7101 527.358 39.4022 530.095 Q43.0625 532.833 49.46 532.833 Q55.8575 532.833 59.5497 530.127 Q63.2099 527.39 63.2099 522.648 Q63.2099 517.969 59.5178 515.232 Q55.8257 512.494 49.46 512.494 Q43.1261 512.494 39.434 515.232 Q35.7101 517.969 35.7101 522.648 M30.7448 522.648 Q30.7448 515.009 35.7101 510.648 Q40.6753 506.288 49.46 506.288 Q58.2129 506.288 63.2099 510.648 Q68.1752 515.009 68.1752 522.648 Q68.1752 530.318 63.2099 534.679 Q58.2129 539.007 49.46 539.007 Q40.6753 539.007 35.7101 534.679 Q30.7448 530.318 30.7448 522.648 Z\" fill=\"#000000\" fill-rule=\"evenodd\" fill-opacity=\"1\" /><path clip-path=\"url(#clip410)\" d=\"M61.905 490.915 L80.8111 490.915 L80.8111 496.803 L31.6042 496.803 L31.6042 490.915 L37.0151 490.915 Q33.8322 489.068 32.3044 486.268 Q30.7448 483.435 30.7448 479.52 Q30.7448 473.027 35.9011 468.985 Q41.0573 464.911 49.46 464.911 Q57.8627 464.911 63.019 468.985 Q68.1752 473.027 68.1752 479.52 Q68.1752 483.435 66.6474 486.268 Q65.0878 489.068 61.905 490.915 M49.46 470.99 Q42.9988 470.99 39.3385 473.663 Q35.6464 476.305 35.6464 480.952 Q35.6464 485.599 39.3385 488.273 Q42.9988 490.915 49.46 490.915 Q55.9212 490.915 59.6133 488.273 Q63.2736 485.599 63.2736 480.952 Q63.2736 476.305 59.6133 473.663 Q55.9212 470.99 49.46 470.99 Z\" fill=\"#000000\" fill-rule=\"evenodd\" fill-opacity=\"1\" /><path clip-path=\"url(#clip410)\" d=\"M70.5623 440.371 Q76.928 442.853 78.8696 445.209 Q80.8111 447.564 80.8111 451.511 L80.8111 456.19 L75.9095 456.19 L75.9095 452.752 Q75.9095 450.333 74.7637 448.996 Q73.6179 447.66 69.3528 446.036 L66.6792 444.986 L31.6042 459.404 L31.6042 453.198 L59.486 442.058 L31.6042 430.918 L31.6042 424.711 L70.5623 440.371 Z\" fill=\"#000000\" fill-rule=\"evenodd\" fill-opacity=\"1\" /><path clip-path=\"url(#clip410)\" d=\"M17.727 395.906 L17.727 390.05 L67.2522 390.05 L67.2522 395.906 L17.727 395.906 Z\" fill=\"#000000\" fill-rule=\"evenodd\" fill-opacity=\"1\" /><path clip-path=\"url(#clip410)\" d=\"M35.7101 363.982 Q35.7101 368.693 39.4022 371.43 Q43.0625 374.167 49.46 374.167 Q55.8575 374.167 59.5497 371.462 Q63.2099 368.725 63.2099 363.982 Q63.2099 359.304 59.5178 356.566 Q55.8257 353.829 49.46 353.829 Q43.1261 353.829 39.434 356.566 Q35.7101 359.304 35.7101 363.982 M30.7448 363.982 Q30.7448 356.344 35.7101 351.983 Q40.6753 347.622 49.46 347.622 Q58.2129 347.622 63.2099 351.983 Q68.1752 356.344 68.1752 363.982 Q68.1752 371.653 63.2099 376.014 Q58.2129 380.342 49.46 380.342 Q40.6753 380.342 35.7101 376.014 Q30.7448 371.653 30.7448 363.982 Z\" fill=\"#000000\" fill-rule=\"evenodd\" fill-opacity=\"1\" /><path clip-path=\"url(#clip410)\" d=\"M32.6545 315.189 L38.1927 315.189 Q36.9196 317.672 36.283 320.345 Q35.6464 323.019 35.6464 325.884 Q35.6464 330.244 36.9832 332.44 Q38.32 334.605 40.9936 334.605 Q43.0306 334.605 44.2083 333.045 Q45.3541 331.485 46.4045 326.775 L46.8501 324.77 Q48.1869 318.531 50.6377 315.921 Q53.0566 313.28 57.4171 313.28 Q62.3824 313.28 65.2788 317.226 Q68.1752 321.141 68.1752 328.016 Q68.1752 330.881 67.6023 334 Q67.0612 337.087 65.9472 340.525 L59.8998 340.525 Q61.5867 337.278 62.446 334.127 Q63.2736 330.976 63.2736 327.889 Q63.2736 323.751 61.8731 321.523 Q60.4409 319.295 57.8627 319.295 Q55.4756 319.295 54.2025 320.918 Q52.9293 322.51 51.7517 327.952 L51.2742 329.989 Q50.1284 335.432 47.7731 337.851 Q45.386 340.27 41.2482 340.27 Q36.2193 340.27 33.4821 336.705 Q30.7448 333.141 30.7448 326.584 Q30.7448 323.337 31.2223 320.473 Q31.6997 317.608 32.6545 315.189 Z\" fill=\"#000000\" fill-rule=\"evenodd\" fill-opacity=\"1\" /><path clip-path=\"url(#clip410)\" d=\"M32.6545 281.228 L38.1927 281.228 Q36.9196 283.711 36.283 286.384 Q35.6464 289.058 35.6464 291.923 Q35.6464 296.283 36.9832 298.479 Q38.32 300.644 40.9936 300.644 Q43.0306 300.644 44.2083 299.084 Q45.3541 297.524 46.4045 292.814 L46.8501 290.809 Q48.1869 284.57 50.6377 281.96 Q53.0566 279.318 57.4171 279.318 Q62.3824 279.318 65.2788 283.265 Q68.1752 287.18 68.1752 294.055 Q68.1752 296.92 67.6023 300.039 Q67.0612 303.126 65.9472 306.564 L59.8998 306.564 Q61.5867 303.317 62.446 300.166 Q63.2736 297.015 63.2736 293.928 Q63.2736 289.79 61.8731 287.562 Q60.4409 285.334 57.8627 285.334 Q55.4756 285.334 54.2025 286.957 Q52.9293 288.549 51.7517 293.991 L51.2742 296.028 Q50.1284 301.471 47.7731 303.89 Q45.386 306.309 41.2482 306.309 Q36.2193 306.309 33.4821 302.744 Q30.7448 299.179 30.7448 292.623 Q30.7448 289.376 31.2223 286.512 Q31.6997 283.647 32.6545 281.228 Z\" fill=\"#000000\" fill-rule=\"evenodd\" fill-opacity=\"1\" /><path clip-path=\"url(#clip410)\" d=\"M805.368 12.096 L843.609 12.096 L843.609 18.9825 L813.551 18.9825 L813.551 36.8875 L842.353 36.8875 L842.353 43.7741 L813.551 43.7741 L813.551 65.6895 L844.338 65.6895 L844.338 72.576 L805.368 72.576 L805.368 12.096 Z\" fill=\"#000000\" fill-rule=\"evenodd\" fill-opacity=\"1\" /><path clip-path=\"url(#clip410)\" d=\"M883.753 34.1734 Q882.497 33.4443 880.999 33.1202 Q879.54 32.7556 877.758 32.7556 Q871.439 32.7556 868.036 36.8875 Q864.674 40.9789 864.674 48.6757 L864.674 72.576 L857.179 72.576 L857.179 27.2059 L864.674 27.2059 L864.674 34.2544 Q867.023 30.1225 870.79 28.1376 Q874.558 26.1121 879.945 26.1121 Q880.715 26.1121 881.647 26.2337 Q882.579 26.3147 883.713 26.5172 L883.753 34.1734 Z\" fill=\"#000000\" fill-rule=\"evenodd\" fill-opacity=\"1\" /><path clip-path=\"url(#clip410)\" d=\"M916.404 34.1734 Q915.148 33.4443 913.649 33.1202 Q912.191 32.7556 910.408 32.7556 Q904.089 32.7556 900.686 36.8875 Q897.324 40.9789 897.324 48.6757 L897.324 72.576 L889.83 72.576 L889.83 27.2059 L897.324 27.2059 L897.324 34.2544 Q899.673 30.1225 903.441 28.1376 Q907.208 26.1121 912.596 26.1121 Q913.365 26.1121 914.297 26.2337 Q915.229 26.3147 916.363 26.5172 L916.404 34.1734 Z\" fill=\"#000000\" fill-rule=\"evenodd\" fill-opacity=\"1\" /><path clip-path=\"url(#clip410)\" d=\"M939.98 32.4315 Q933.984 32.4315 930.501 37.1306 Q927.017 41.7891 927.017 49.9314 Q927.017 58.0738 930.46 62.7728 Q933.944 67.4314 939.98 67.4314 Q945.935 67.4314 949.418 62.7323 Q952.902 58.0333 952.902 49.9314 Q952.902 41.8701 949.418 37.1711 Q945.935 32.4315 939.98 32.4315 M939.98 26.1121 Q949.702 26.1121 955.252 32.4315 Q960.801 38.7509 960.801 49.9314 Q960.801 61.0714 955.252 67.4314 Q949.702 73.7508 939.98 73.7508 Q930.217 73.7508 924.667 67.4314 Q919.158 61.0714 919.158 49.9314 Q919.158 38.7509 924.667 32.4315 Q930.217 26.1121 939.98 26.1121 Z\" fill=\"#000000\" fill-rule=\"evenodd\" fill-opacity=\"1\" /><path clip-path=\"url(#clip410)\" d=\"M999.447 34.1734 Q998.191 33.4443 996.692 33.1202 Q995.234 32.7556 993.452 32.7556 Q987.132 32.7556 983.73 36.8875 Q980.367 40.9789 980.367 48.6757 L980.367 72.576 L972.873 72.576 L972.873 27.2059 L980.367 27.2059 L980.367 34.2544 Q982.717 30.1225 986.484 28.1376 Q990.252 26.1121 995.639 26.1121 Q996.409 26.1121 997.341 26.2337 Q998.272 26.3147 999.407 26.5172 L999.447 34.1734 Z\" fill=\"#000000\" fill-rule=\"evenodd\" fill-opacity=\"1\" /><path clip-path=\"url(#clip410)\" d=\"M1056.61 9.54393 L1056.61 15.7418 L1049.48 15.7418 Q1045.47 15.7418 1043.89 17.3622 Q1042.35 18.9825 1042.35 23.1955 L1042.35 27.2059 L1054.62 27.2059 L1054.62 32.9987 L1042.35 32.9987 L1042.35 72.576 L1034.85 72.576 L1034.85 32.9987 L1027.72 32.9987 L1027.72 27.2059 L1034.85 27.2059 L1034.85 24.0462 Q1034.85 16.471 1038.38 13.0277 Q1041.9 9.54393 1049.56 9.54393 L1056.61 9.54393 Z\" fill=\"#000000\" fill-rule=\"evenodd\" fill-opacity=\"1\" /><path clip-path=\"url(#clip410)\" d=\"M1062.07 54.671 L1062.07 27.2059 L1069.53 27.2059 L1069.53 54.3874 Q1069.53 60.8284 1072.04 64.0691 Q1074.55 67.2693 1079.57 67.2693 Q1085.61 67.2693 1089.09 63.421 Q1092.62 59.5726 1092.62 52.9291 L1092.62 27.2059 L1100.07 27.2059 L1100.07 72.576 L1092.62 72.576 L1092.62 65.6084 Q1089.9 69.7404 1086.3 71.7658 Q1082.73 73.7508 1077.99 73.7508 Q1070.18 73.7508 1066.12 68.8897 Q1062.07 64.0286 1062.07 54.671 M1080.83 26.1121 L1080.83 26.1121 Z\" fill=\"#000000\" fill-rule=\"evenodd\" fill-opacity=\"1\" /><path clip-path=\"url(#clip410)\" d=\"M1153.14 45.1919 L1153.14 72.576 L1145.68 72.576 L1145.68 45.4349 Q1145.68 38.994 1143.17 35.7938 Q1140.66 32.5936 1135.64 32.5936 Q1129.6 32.5936 1126.12 36.4419 Q1122.64 40.2903 1122.64 46.9338 L1122.64 72.576 L1115.14 72.576 L1115.14 27.2059 L1122.64 27.2059 L1122.64 34.2544 Q1125.31 30.163 1128.91 28.1376 Q1132.56 26.1121 1137.3 26.1121 Q1145.12 26.1121 1149.13 30.9732 Q1153.14 35.7938 1153.14 45.1919 Z\" fill=\"#000000\" fill-rule=\"evenodd\" fill-opacity=\"1\" /><path clip-path=\"url(#clip410)\" d=\"M1200.66 28.9478 L1200.66 35.9153 Q1197.5 34.1734 1194.3 33.3227 Q1191.14 32.4315 1187.9 32.4315 Q1180.64 32.4315 1176.63 37.0496 Q1172.62 41.6271 1172.62 49.9314 Q1172.62 58.2358 1176.63 62.8538 Q1180.64 67.4314 1187.9 67.4314 Q1191.14 67.4314 1194.3 66.5807 Q1197.5 65.6895 1200.66 63.9476 L1200.66 70.8341 Q1197.54 72.2924 1194.17 73.0216 Q1190.85 73.7508 1187.08 73.7508 Q1176.84 73.7508 1170.8 67.3098 Q1164.76 60.8689 1164.76 49.9314 Q1164.76 38.832 1170.84 32.472 Q1176.96 26.1121 1187.57 26.1121 Q1191.01 26.1121 1194.3 26.8413 Q1197.58 27.5299 1200.66 28.9478 Z\" fill=\"#000000\" fill-rule=\"evenodd\" fill-opacity=\"1\" /><path clip-path=\"url(#clip410)\" d=\"M1220.99 14.324 L1220.99 27.2059 L1236.34 27.2059 L1236.34 32.9987 L1220.99 32.9987 L1220.99 57.6282 Q1220.99 63.1779 1222.49 64.7578 Q1224.03 66.3376 1228.69 66.3376 L1236.34 66.3376 L1236.34 72.576 L1228.69 72.576 Q1220.06 72.576 1216.78 69.3758 Q1213.5 66.1351 1213.5 57.6282 L1213.5 32.9987 L1208.03 32.9987 L1208.03 27.2059 L1213.5 27.2059 L1213.5 14.324 L1220.99 14.324 Z\" fill=\"#000000\" fill-rule=\"evenodd\" fill-opacity=\"1\" /><path clip-path=\"url(#clip410)\" d=\"M1246.15 27.2059 L1253.6 27.2059 L1253.6 72.576 L1246.15 72.576 L1246.15 27.2059 M1246.15 9.54393 L1253.6 9.54393 L1253.6 18.9825 L1246.15 18.9825 L1246.15 9.54393 Z\" fill=\"#000000\" fill-rule=\"evenodd\" fill-opacity=\"1\" /><path clip-path=\"url(#clip410)\" d=\"M1286.78 32.4315 Q1280.78 32.4315 1277.3 37.1306 Q1273.81 41.7891 1273.81 49.9314 Q1273.81 58.0738 1277.26 62.7728 Q1280.74 67.4314 1286.78 67.4314 Q1292.73 67.4314 1296.22 62.7323 Q1299.7 58.0333 1299.7 49.9314 Q1299.7 41.8701 1296.22 37.1711 Q1292.73 32.4315 1286.78 32.4315 M1286.78 26.1121 Q1296.5 26.1121 1302.05 32.4315 Q1307.6 38.7509 1307.6 49.9314 Q1307.6 61.0714 1302.05 67.4314 Q1296.5 73.7508 1286.78 73.7508 Q1277.02 73.7508 1271.47 67.4314 Q1265.96 61.0714 1265.96 49.9314 Q1265.96 38.7509 1271.47 32.4315 Q1277.02 26.1121 1286.78 26.1121 Z\" fill=\"#000000\" fill-rule=\"evenodd\" fill-opacity=\"1\" /><path clip-path=\"url(#clip410)\" d=\"M1357.67 45.1919 L1357.67 72.576 L1350.21 72.576 L1350.21 45.4349 Q1350.21 38.994 1347.7 35.7938 Q1345.19 32.5936 1340.17 32.5936 Q1334.13 32.5936 1330.65 36.4419 Q1327.17 40.2903 1327.17 46.9338 L1327.17 72.576 L1319.67 72.576 L1319.67 27.2059 L1327.17 27.2059 L1327.17 34.2544 Q1329.84 30.163 1333.44 28.1376 Q1337.09 26.1121 1341.83 26.1121 Q1349.65 26.1121 1353.66 30.9732 Q1357.67 35.7938 1357.67 45.1919 Z\" fill=\"#000000\" fill-rule=\"evenodd\" fill-opacity=\"1\" /><polyline clip-path=\"url(#clip412)\" style=\"stroke:#009af9; stroke-linecap:butt; stroke-linejoin:round; stroke-width:8; stroke-opacity:1; fill:none\" points=\"\n",
       "  259.596,143.404 423.981,863.412 588.365,969.127 752.75,984.02 917.134,989.821 1081.52,995.307 1245.9,998.444 1410.29,1001.13 1574.67,1003.24 1739.06,1009.41 \n",
       "  1903.44,1006.04 \n",
       "  \"/>\n",
       "</svg>\n"
      ]
     },
     "execution_count": 31,
     "metadata": {},
     "output_type": "execute_result"
    }
   ],
   "source": [
    "losses = report(mach).neural_network_classifier.training_losses\n",
    "epochs = pipe.neural_network_classifier.epochs\n",
    "plot(0:epochs, losses, title=\"Error function\", size=(500,300), linewidth=2, legend=false)\n",
    "xlabel!(\"Epochs\")\n",
    "ylabel!(\"Cross-entropy loss\")"
   ]
  },
  {
   "cell_type": "code",
   "execution_count": 41,
   "id": "9271eadd",
   "metadata": {},
   "outputs": [
    {
     "data": {
      "text/plain": [
       "0.39982224f0"
      ]
     },
     "metadata": {},
     "output_type": "display_data"
    },
    {
     "data": {
      "text/plain": [
       "9"
      ]
     },
     "execution_count": 41,
     "metadata": {},
     "output_type": "execute_result"
    }
   ],
   "source": [
    "display(minimum(losses))\n",
    "best_epoch = argmin(losses) - 1"
   ]
  }
 ],
 "metadata": {
  "kernelspec": {
   "display_name": "Julia 1.6.5",
   "language": "julia",
   "name": "julia-1.6"
  },
  "language_info": {
   "file_extension": ".jl",
   "mimetype": "application/julia",
   "name": "julia",
   "version": "1.6.5"
  }
 },
 "nbformat": 4,
 "nbformat_minor": 5
}
