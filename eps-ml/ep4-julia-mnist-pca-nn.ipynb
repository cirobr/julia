{
 "cells": [
  {
   "cell_type": "markdown",
   "id": "e145f758",
   "metadata": {},
   "source": [
    "# PCA + Neural Network Classifier with MNIST\n"
   ]
  },
  {
   "cell_type": "markdown",
   "id": "5f262ba3",
   "metadata": {},
   "source": [
    "## Libraries"
   ]
  },
  {
   "cell_type": "code",
   "execution_count": 1,
   "id": "d63e87f2",
   "metadata": {},
   "outputs": [],
   "source": [
    "# libraries\n",
    "#using Flux              # the julia ml library\n",
    "using Images            # image processing and machine vision for julia\n",
    "using MLJ               # make_blobs, rmse, confmat, f1score, coerce\n",
    "using MLJFlux           # NeuralNetworkClassifier, CUDALibs\n",
    "using MLDataUtils       # label, nlabel, labelfreq\n",
    "using MLDatasets        # mnist\n",
    "\n",
    "#using LinearAlgebra     # pinv pseudo-inverse matrix\n",
    "#using Metrics           # r2-score\n",
    "using Random\n",
    "using StatsBase         # standardize (normalization)\n",
    "#using Distributions\n",
    "\n",
    "using Plots; gr()\n",
    "#using StatsPlots\n",
    "using Printf\n",
    "\n",
    "#using CSV\n",
    "using DataFrames\n"
   ]
  },
  {
   "cell_type": "markdown",
   "id": "d53a09fe",
   "metadata": {},
   "source": [
    "## Functions"
   ]
  },
  {
   "cell_type": "code",
   "execution_count": 2,
   "id": "53255360",
   "metadata": {},
   "outputs": [
    {
     "data": {
      "text/plain": [
       "batchImage2DF (generic function with 1 method)"
      ]
     },
     "execution_count": 2,
     "metadata": {},
     "output_type": "execute_result"
    }
   ],
   "source": [
    "# lib functions\n",
    "image2Vector(M) = vec(Float64.(M))\n",
    "\n",
    "function batchImage2Vector(imagesArray3D)\n",
    "    h, v, N = size(imagesArray3D)\n",
    "    vectorOfImageVectors = [ image2Vector( imagesArray3D[:, :, i] ) for i in 1:N]\n",
    "end\n",
    "\n",
    "function batchImage2DF(imagesArray3D)\n",
    "    vectorOfImageVectors = batchImage2Vector(imagesArray3D)\n",
    "    M = reduce(hcat, vectorOfImageVectors)\n",
    "    DataFrame(M', :auto)\n",
    "end\n"
   ]
  },
  {
   "cell_type": "code",
   "execution_count": 3,
   "id": "66ccdfa6",
   "metadata": {},
   "outputs": [
    {
     "data": {
      "text/plain": [
       "printMetrics (generic function with 1 method)"
      ]
     },
     "execution_count": 3,
     "metadata": {},
     "output_type": "execute_result"
    }
   ],
   "source": [
    "# metrics\n",
    "function printMetrics(ŷ, y)\n",
    "    display(confmat(ŷ, y))\n",
    "    println(\"accuracy: \", round(accuracy(ŷ, y); digits=3))\n",
    "    println(\"f1-score: \", round(multiclass_f1score(ŷ, y); digits=3))\n",
    "end\n"
   ]
  },
  {
   "cell_type": "markdown",
   "id": "8903cf71",
   "metadata": {},
   "source": [
    "## Loading the data"
   ]
  },
  {
   "cell_type": "code",
   "execution_count": 4,
   "id": "4bd90da6",
   "metadata": {},
   "outputs": [
    {
     "data": {
      "text/html": [
       "<table><tbody><tr><td style='text-align:center;vertical-align:middle; margin: 0.5em;border:1px #90999f solid;border-collapse:collapse'><img style='max-width: 100px; max-height:100px;display:inline' src=\"data:image/png;base64,iVBORw0KGgoAAAANSUhEUgAAAHAAAABwCAAAAADji6uXAAAABGdBTUEAALGPC/xhBQAAAAFzUkdCAK7OHOkAAAAgY0hSTQAAeiYAAICEAAD6AAAAgOgAAHUwAADqYAAAOpgAABdwnLpRPAAAAiVJREFUaAW9wT2IFgQABuAHemnI4aJFISgJwkDIIiqIsMLcajiKIEEIshosmgSHhhoUIW/IcIgCISHa+psKsp8hEKSSSAlyECon61Q+jMDT4RuO7w6/n5Pe54myKIuyKIuyKIuyKIuyKIuyKIuyKIuyKIuyKIuyKIsZ3YQ5y17FLdiE3TiI5/EvDuAto6IsyqIsJrgDN+MRPIpb8YzV/sAhzOMSTuI7q0VZlEVZjHE/vsac8ZbwBgb4CH/hH/xmtSiLsiiLMc7iPOasdhyLeAL/4ajpRFmURVmM8Tf24Cn8hEOGfsZ2DLAZr5telEVZlMUEn+IYLmELXsQCBoZ+xcumF2VRFmUxhYuGLhjahY+xZHZRFmVRFjN4Ew/gMTyJr8wuyqIsymIGA7yEH/E+vsEJHMZV04myKIuymNEZvIAj2ImdWIcPcc5kURZlURZr8Al+xwK2YT/uxD78abwoi7IoizX6Bc/haRzBK7gb240XZVEWZXEDFnEUHyDYisfxreuLsiiLslije/EsHkQMncL3xouyKIuymNEmvIZ5bLDsCs5hyXhRFmVRFlPagB3YjY1GncA+fG6yKIuyKIsJ1mMz3sU9Rh3H2/gMS6YTZVEWZXEdt+E93Ie7jPoBC/gSl80myqIsymKFh7EHD+F2oy7jHezHwNpEWZRFWawwj3nLTuMLXMFBLLoxURZlURYr7MVe/58oi7Ioi7Ioi7Ioi7Ioi7IouwZsVVgTmd3ynQAAAABJRU5ErkJg\"></td><td style='text-align:center;vertical-align:middle; margin: 0.5em;border:1px #90999f solid;border-collapse:collapse'><img style='max-width: 100px; max-height:100px;display:inline' src=\"data:image/png;base64,iVBORw0KGgoAAAANSUhEUgAAAHAAAABwCAAAAADji6uXAAAABGdBTUEAALGPC/xhBQAAAAFzUkdCAK7OHOkAAAAgY0hSTQAAeiYAAICEAAD6AAAAgOgAAHUwAADqYAAAOpgAABdwnLpRPAAAAjJJREFUaAW9wT1oHAQABtB3+mGISDN0sIK46SaGFEUnxbEVFTtIkWYVRCgoAYcomRzUDlYQBREUhTo4WCwihcKB0EGtOneTQkAtgu1ih5zDDRlyf0nley/KoizKoizKoizKoizKoizKoizKoizKoixuw1G8inV8jg9wxWxRFmVRFge0ios4hBFO4VkcNluURVmUxQE8hq+xghFu4BYO4wn8jFsmi7Ioi7LYh7uxhi9wn11X8Q7O4Qe8ibdNFmVRFmWxDx/jpL3WcA+GeAoPmy7KoizKYkFHcRwDY0N8i3exjV/wN57GwHRRFmVRFgtYxUUcwgjf4SSexCY+wZ/4DTs4jjVcsVeURVmUxRwPYQMr+Avb+Aw3cQEX7LWM1/GSvaIsyqIsZljCeziGG1jHT1g23wMmi7Ioi7KYYQ3HjD2HodsXZVEWZTHDGQwwxNBi7sAOBiaLsiiLspjiGaxihPMWt4MRfjVZlEVZlMUUy7gLf+Ar8y1hy9glvGGyKIuyKIs5/sW22ZawiQ1cwxncNFmURVmUxRznzbaKDbyIb3DCbFEWZVEWUwwwwPM4bbLXsIkVfIl180VZlEVZTDHCCEdwFp/iOh7HKTyC+/E7vseHFhNlURZlMcedeAUn8A8etOsyLuEti4uyKIuymOIyfsSjxo7gXmPXcQ6n7V+URVmUxRTX8AJexqZd7+MjXHUwURZlURYzbGMLW/4/URZlURZlURZlURZlURZlURZlURZlUfYfqPxYlL4fzGQAAAAASUVORK5C\"></td><td style='text-align:center;vertical-align:middle; margin: 0.5em;border:1px #90999f solid;border-collapse:collapse'><img style='max-width: 100px; max-height:100px;display:inline' src=\"data:image/png;base64,iVBORw0KGgoAAAANSUhEUgAAAHAAAABwCAAAAADji6uXAAAABGdBTUEAALGPC/xhBQAAAAFzUkdCAK7OHOkAAAAgY0hSTQAAeiYAAICEAAD6AAAAgOgAAHUwAADqYAAAOpgAABdwnLpRPAAAAbVJREFUaAW9wT2rDQAABuDnnN6UhSLdlNQdbrZrMjCgbkl2E9kY/ASrSfkBBukOjMJkMJkQRvJRihhsSpFSDGdw7nHP/Tid3ueJsiiLsiiLsiiLsiiLsiiLsiiLsiiLsiiLsiiLsiiLOVvBHZzAW/+LsiiLsphwHHtxz2yO4IXpoizKoiwmnMQS7tm+IRZxEAPri7Ioi7KYcAFPzGY/LuI23lhflEVZlMWEodndNPLedFEWZVEWY5axYHa7jTwyXZRFWZTFmDPYaTYLWDTyxXRRFmVRFmMOGXll+65jAe/w3XRRFmVRFut4bmt24TTO45SRq/hmuiiLsiiLdeyx1mEMsYID2IFzGOInnuEXgpc2FmVRFmUx5if+4Aau+GcZA/zGD7zGLbzAY3zFZ+zEGxuLsiiLshhzGR9xzFqf8ACv8dT/LmEfPthclEVZlMWEa7Zvxchdm4uyKIuymKP7NhdlURZlURZlURZlMScDLOGJjUVZlEVZzMkfDG0uyqIsymKOjmLVxqIsyqIs5mRga6IsyqIs5uAhztqaKIuyKIs5WMWqrYmyKIuyKIuyKIuyKIuyKIuyv/irMYSJ7ydGAAAAAElFTkSuQmCC\"></td><td style='text-align:center;vertical-align:middle; margin: 0.5em;border:1px #90999f solid;border-collapse:collapse'><img style='max-width: 100px; max-height:100px;display:inline' src=\"data:image/png;base64,iVBORw0KGgoAAAANSUhEUgAAAHAAAABwCAAAAADji6uXAAAABGdBTUEAALGPC/xhBQAAAAFzUkdCAK7OHOkAAAAgY0hSTQAAeiYAAICEAAD6AAAAgOgAAHUwAADqYAAAOpgAABdwnLpRPAAAAYtJREFUaAW9waFqVQEABuCP8YNRRUFM7glkDzDQoGIw+AYbdpugYcUgDEwiy4p9wSooCjLwDWYRDIJrCibD1XDCLc577rmX//uiLMqiLMqiLMqiLMqiLMqiLMqiLMqiLMqiLMqiLMpiTfbwGBu4jg/+LcqiLMpiDXbxCDODP04XZVEWZbEGV3DGOFEWZVEWK7qB+wbHuIMTp4uyKIuyWME2XuKswVN89X9RFmVRFivYwWWD93hlsSiLsiiLiS7iHmb4gSfGibIoi7KYYBOH5p7jnXGiLMqiLCa4jasGb/HMeFEWZVEWS7qLfYOP2MFP40VZlEVZLGETh+a+4MRyoizKoiyW8BAzc/uWF2VRFmUx0hZumXuNz5YXZVEWZTHSG5w3+IRd00RZlEVZjHQBM4MD/DJNlEVZlMUIL7Bh7sh0URZlURYLbOEmZviNA5yYLsqiLMpigXO4ZPAND6wmyqIsyqIsyqIsymKBYxxh23pEWZRFWSzwHdesT5RFWZRFWZRFWZRFWZRFWZT9BXYjLFSLepVZAAAAAElFTkSuQmCC\"></td><td style='text-align:center;vertical-align:middle; margin: 0.5em;border:1px #90999f solid;border-collapse:collapse'><img style='max-width: 100px; max-height:100px;display:inline' src=\"data:image/png;base64,iVBORw0KGgoAAAANSUhEUgAAAHAAAABwCAAAAADji6uXAAAABGdBTUEAALGPC/xhBQAAAAFzUkdCAK7OHOkAAAAgY0hSTQAAeiYAAICEAAD6AAAAgOgAAHUwAADqYAAAOpgAABdwnLpRPAAAAf5JREFUaAW9wT+I1QUAB/DPxRf7Q4PEXeDikG22STRlS1xbOHkOOTganFMQooSgNtTU0pJDosEhIogtR0uUi9AmuES1iMtFxAMJHO45/IYb5L177xd8P58oi7Ioi7Ioi7Ioi7Ioi7Ioi7Ioi7Ioi7Ioi7Ioi7Ioi7Ioi7Ioi7Ioi7JY0ns4jeM4avAZnuB93MADs0VZlEVZLGED32AVK/gZa/jaYAWrOGW2KIuyKIsFBO/iO7yGX3AZ9/EybmHd4DfzRVmURVks4BNcM/gJG5gYbGDd4DGumy/KoizKYh9XcB5TfIuLmNhzwZ5z2DFflEVZlMUcX+A8nmEbn+M/g1ewjsNYwRXctb8oi7IoixkO4lNMsY0T9ryNH3DM4Da+spgoi7IoixkOYNXgHN7EGXyMd/A6ppjiJp5aTJRFWZTFDM+wgzX8hak9TzDBIfyNexYXZVEWZTHDvziBH/EG/sBdfI9/sIVD2LKcKIuyKIs5HmDNi47jA+ziT8uJsiiLshjhVexiii3LibIoi7IYYdt4URZlURYjfGS8KIuyKIsRjhgvyqIsymKEX/ESdi0vyqIsymKEh/gdb+EIdiwuyqIsymKkL3ENV7GJRxYTZVEWZTHSHZzCh7iEM3hqf1EWZVEWI01wEldxFpfwyP6iLMqiLP6HCTaxaXFRFmVR9hxr7UyvfehgBAAAAABJRU5ErkJg\"></td></tr></tbody></table><div><small>(a vector displayed as a row to save space)</small></div>"
      ],
      "text/plain": [
       "5-element Vector{Base.ReinterpretArray{Gray{N0f8}, 2, N0f8, Matrix{N0f8}, true}}:\n",
       " [Gray{N0f8}(0.0) Gray{N0f8}(0.0) … Gray{N0f8}(0.0) Gray{N0f8}(0.0); Gray{N0f8}(0.0) Gray{N0f8}(0.0) … Gray{N0f8}(0.0) Gray{N0f8}(0.0); … ; Gray{N0f8}(0.0) Gray{N0f8}(0.0) … Gray{N0f8}(0.0) Gray{N0f8}(0.0); Gray{N0f8}(0.0) Gray{N0f8}(0.0) … Gray{N0f8}(0.0) Gray{N0f8}(0.0)]\n",
       " [Gray{N0f8}(0.0) Gray{N0f8}(0.0) … Gray{N0f8}(0.0) Gray{N0f8}(0.0); Gray{N0f8}(0.0) Gray{N0f8}(0.0) … Gray{N0f8}(0.0) Gray{N0f8}(0.0); … ; Gray{N0f8}(0.0) Gray{N0f8}(0.0) … Gray{N0f8}(0.0) Gray{N0f8}(0.0); Gray{N0f8}(0.0) Gray{N0f8}(0.0) … Gray{N0f8}(0.0) Gray{N0f8}(0.0)]\n",
       " [Gray{N0f8}(0.0) Gray{N0f8}(0.0) … Gray{N0f8}(0.0) Gray{N0f8}(0.0); Gray{N0f8}(0.0) Gray{N0f8}(0.0) … Gray{N0f8}(0.0) Gray{N0f8}(0.0); … ; Gray{N0f8}(0.0) Gray{N0f8}(0.0) … Gray{N0f8}(0.0) Gray{N0f8}(0.0); Gray{N0f8}(0.0) Gray{N0f8}(0.0) … Gray{N0f8}(0.0) Gray{N0f8}(0.0)]\n",
       " [Gray{N0f8}(0.0) Gray{N0f8}(0.0) … Gray{N0f8}(0.0) Gray{N0f8}(0.0); Gray{N0f8}(0.0) Gray{N0f8}(0.0) … Gray{N0f8}(0.0) Gray{N0f8}(0.0); … ; Gray{N0f8}(0.0) Gray{N0f8}(0.0) … Gray{N0f8}(0.0) Gray{N0f8}(0.0); Gray{N0f8}(0.0) Gray{N0f8}(0.0) … Gray{N0f8}(0.0) Gray{N0f8}(0.0)]\n",
       " [Gray{N0f8}(0.0) Gray{N0f8}(0.0) … Gray{N0f8}(0.0) Gray{N0f8}(0.0); Gray{N0f8}(0.0) Gray{N0f8}(0.0) … Gray{N0f8}(0.0) Gray{N0f8}(0.0); … ; Gray{N0f8}(0.0) Gray{N0f8}(0.0) … Gray{N0f8}(0.0) Gray{N0f8}(0.0); Gray{N0f8}(0.0) Gray{N0f8}(0.0) … Gray{N0f8}(0.0) Gray{N0f8}(0.0)]"
      ]
     },
     "metadata": {},
     "output_type": "display_data"
    },
    {
     "data": {
      "text/plain": [
       "1×5 adjoint(::Vector{Int64}) with eltype Int64:\n",
       " 5  0  4  1  9"
      ]
     },
     "execution_count": 4,
     "metadata": {},
     "output_type": "execute_result"
    }
   ],
   "source": [
    "# load mnist from MLDatasets\n",
    "trainX_original,      trainY_original      = MNIST.traindata()\n",
    "validationX_original, validationY_original = MNIST.testdata();\n",
    "\n",
    "display([MNIST.convert2image(MNIST.traintensor(i)) for i in 1:5])\n",
    "trainY_original[1:5]'"
   ]
  },
  {
   "cell_type": "code",
   "execution_count": 5,
   "id": "7f2acc6e",
   "metadata": {},
   "outputs": [
    {
     "data": {
      "text/plain": [
       "((28, 28, 42001), (28, 28, 17999), (28, 28, 10000))"
      ]
     },
     "execution_count": 5,
     "metadata": {},
     "output_type": "execute_result"
    }
   ],
   "source": [
    "# split trainset, testset, validation set\n",
    "Random.seed!(1)\n",
    "(trainX, trainY), (testX, testY) = stratifiedobs((trainX_original, trainY_original), p = 0.7)\n",
    "validationX = copy(validationX_original); validationY = copy(validationY_original)\n",
    "\n",
    "size(trainX), size(testX), size(validationX)"
   ]
  },
  {
   "cell_type": "markdown",
   "id": "b8b9c3b0",
   "metadata": {},
   "source": [
    "## Data preprocessing\n",
    "\n",
    "Data preprocessing depends on the data source, thus can widely vary from what is shown here."
   ]
  },
  {
   "cell_type": "code",
   "execution_count": 6,
   "id": "f76c815d",
   "metadata": {},
   "outputs": [],
   "source": [
    "function preprocessing(X, y)\n",
    "    newX = batchImage2DF(X)\n",
    "    #coerce!(newX)   # no need, all scitypes are Continuous in this example\n",
    "    new_y = coerce(y, OrderedFactor)\n",
    "    \n",
    "    return (newX, new_y)\n",
    "end\n",
    "\n",
    "X, y = preprocessing(trainX, trainY);"
   ]
  },
  {
   "cell_type": "code",
   "execution_count": 7,
   "id": "a82db1c6",
   "metadata": {},
   "outputs": [
    {
     "data": {
      "text/plain": [
       "Table{AbstractVector{Continuous}}"
      ]
     },
     "execution_count": 7,
     "metadata": {},
     "output_type": "execute_result"
    }
   ],
   "source": [
    "scitype(X)"
   ]
  },
  {
   "cell_type": "code",
   "execution_count": 8,
   "id": "4724874c",
   "metadata": {},
   "outputs": [
    {
     "data": {
      "text/plain": [
       "AbstractVector{OrderedFactor{10}} (alias for AbstractArray{OrderedFactor{10}, 1})"
      ]
     },
     "execution_count": 8,
     "metadata": {},
     "output_type": "execute_result"
    }
   ],
   "source": [
    "scitype(y)"
   ]
  },
  {
   "cell_type": "markdown",
   "id": "e26954e9",
   "metadata": {},
   "source": [
    "## Training, Testing, Validation"
   ]
  },
  {
   "cell_type": "markdown",
   "id": "eb875eb7",
   "metadata": {},
   "source": [
    "### Load and pipe algorithms"
   ]
  },
  {
   "cell_type": "raw",
   "id": "a7f1e942",
   "metadata": {},
   "source": [
    "models(\"PCA\")[2]"
   ]
  },
  {
   "cell_type": "code",
   "execution_count": 9,
   "id": "84b424c5",
   "metadata": {},
   "outputs": [
    {
     "data": {
      "text/plain": [
       "PCA(\n",
       "    maxoutdim = 0,\n",
       "    method = :auto,\n",
       "    pratio = 0.95,\n",
       "    mean = nothing)"
      ]
     },
     "execution_count": 9,
     "metadata": {},
     "output_type": "execute_result"
    }
   ],
   "source": [
    "# reduce predictors\n",
    "PCA = @load PCA pkg=MultivariateStats verbosity=0\n",
    "reducer = PCA(pratio = 0.95)"
   ]
  },
  {
   "cell_type": "code",
   "execution_count": 10,
   "id": "e5acd6c1",
   "metadata": {},
   "outputs": [],
   "source": [
    "# standardize predictors\n",
    "std = Standardizer();"
   ]
  },
  {
   "cell_type": "raw",
   "id": "4a63d518",
   "metadata": {},
   "source": [
    "models(\"Neural\")[2]"
   ]
  },
  {
   "cell_type": "code",
   "execution_count": 11,
   "id": "da2ebd67",
   "metadata": {},
   "outputs": [
    {
     "data": {
      "text/plain": [
       "NeuralNetworkClassifier(\n",
       "    builder = Short(\n",
       "            n_hidden = 0,\n",
       "            dropout = 0.5,\n",
       "            σ = NNlib.σ),\n",
       "    finaliser = NNlib.softmax,\n",
       "    optimiser = Flux.Optimise.ADAM(0.001, (0.9, 0.999), 1.0e-8, IdDict{Any, Any}()),\n",
       "    loss = Flux.Losses.crossentropy,\n",
       "    epochs = 10,\n",
       "    batch_size = 1,\n",
       "    lambda = 0.0,\n",
       "    alpha = 0.0,\n",
       "    rng = Random._GLOBAL_RNG(),\n",
       "    optimiser_changes_trigger_retraining = false,\n",
       "    acceleration = CUDALibs{Nothing}(nothing))"
      ]
     },
     "execution_count": 11,
     "metadata": {},
     "output_type": "execute_result"
    }
   ],
   "source": [
    "# nnet\n",
    "NeuralNetworkClassifier = @load NeuralNetworkClassifier pkg=MLJFlux verbosity=0\n",
    "nnet = NeuralNetworkClassifier(acceleration=CUDALibs())"
   ]
  },
  {
   "cell_type": "code",
   "execution_count": 12,
   "id": "ccbf397a",
   "metadata": {},
   "outputs": [
    {
     "data": {
      "text/plain": [
       "Pipeline294(\n",
       "    pca = PCA(\n",
       "            maxoutdim = 0,\n",
       "            method = :auto,\n",
       "            pratio = 0.95,\n",
       "            mean = nothing),\n",
       "    standardizer = Standardizer(\n",
       "            features = Symbol[],\n",
       "            ignore = false,\n",
       "            ordered_factor = false,\n",
       "            count = false),\n",
       "    neural_network_classifier = NeuralNetworkClassifier(\n",
       "            builder = Short,\n",
       "            finaliser = NNlib.softmax,\n",
       "            optimiser = Flux.Optimise.ADAM(0.001, (0.9, 0.999), 1.0e-8, IdDict{Any, Any}()),\n",
       "            loss = Flux.Losses.crossentropy,\n",
       "            epochs = 10,\n",
       "            batch_size = 1,\n",
       "            lambda = 0.0,\n",
       "            alpha = 0.0,\n",
       "            rng = Random._GLOBAL_RNG(),\n",
       "            optimiser_changes_trigger_retraining = false,\n",
       "            acceleration = CUDALibs{Nothing}(nothing)))"
      ]
     },
     "execution_count": 12,
     "metadata": {},
     "output_type": "execute_result"
    }
   ],
   "source": [
    "pipe = @pipeline reducer std nnet"
   ]
  },
  {
   "cell_type": "markdown",
   "id": "ad11e62b",
   "metadata": {},
   "source": [
    "### Create and train the machine\n"
   ]
  },
  {
   "cell_type": "code",
   "execution_count": 13,
   "id": "699df458",
   "metadata": {},
   "outputs": [
    {
     "name": "stderr",
     "output_type": "stream",
     "text": [
      "┌ Info: Training Machine{Pipeline294,…}.\n",
      "└ @ MLJBase /home/ciro/.julia/packages/MLJBase/pCiRR/src/machines.jl:464\n",
      "┌ Info: Training Machine{PCA,…}.\n",
      "└ @ MLJBase /home/ciro/.julia/packages/MLJBase/pCiRR/src/machines.jl:464\n",
      "┌ Info: Training Machine{Standardizer,…}.\n",
      "└ @ MLJBase /home/ciro/.julia/packages/MLJBase/pCiRR/src/machines.jl:464\n",
      "┌ Info: Training Machine{NeuralNetworkClassifier{Short,…},…}.\n",
      "└ @ MLJBase /home/ciro/.julia/packages/MLJBase/pCiRR/src/machines.jl:464\n"
     ]
    },
    {
     "data": {
      "text/plain": [
       "Machine{Pipeline294,…} trained 1 time; caches data\n",
       "  model: Pipeline294\n",
       "  args: \n",
       "    1:\tSource @691 ⏎ `Table{AbstractVector{Continuous}}`\n",
       "    2:\tSource @099 ⏎ `AbstractVector{OrderedFactor{10}}`\n"
      ]
     },
     "execution_count": 13,
     "metadata": {},
     "output_type": "execute_result"
    }
   ],
   "source": [
    "pipe.neural_network_classifier.epochs = 1   # = 1 for debug, default = 10\n",
    "mach = MLJ.machine(pipe, X, y) |> fit!\n"
   ]
  },
  {
   "cell_type": "code",
   "execution_count": 14,
   "id": "a5aa225d",
   "metadata": {},
   "outputs": [],
   "source": [
    "# save model\n",
    "MLJ.save(\"new-model-1-epochs.jlso\", mach)\n"
   ]
  },
  {
   "cell_type": "code",
   "execution_count": 15,
   "id": "06ac1b47",
   "metadata": {},
   "outputs": [],
   "source": [
    "# inspect model\n",
    "fp = fitted_params(mach);\n",
    "rp = report(mach);"
   ]
  },
  {
   "cell_type": "code",
   "execution_count": 16,
   "id": "ca366c71",
   "metadata": {},
   "outputs": [
    {
     "data": {
      "image/svg+xml": [
       "<?xml version=\"1.0\" encoding=\"utf-8\"?>\n",
       "<svg xmlns=\"http://www.w3.org/2000/svg\" xmlns:xlink=\"http://www.w3.org/1999/xlink\" width=\"500\" height=\"300\" viewBox=\"0 0 2000 1200\">\n",
       "<defs>\n",
       "  <clipPath id=\"clip710\">\n",
       "    <rect x=\"0\" y=\"0\" width=\"2000\" height=\"1200\"/>\n",
       "  </clipPath>\n",
       "</defs>\n",
       "<path clip-path=\"url(#clip710)\" d=\"\n",
       "M0 1200 L2000 1200 L2000 0 L0 0  Z\n",
       "  \" fill=\"#ffffff\" fill-rule=\"evenodd\" fill-opacity=\"1\"/>\n",
       "<defs>\n",
       "  <clipPath id=\"clip711\">\n",
       "    <rect x=\"400\" y=\"0\" width=\"1401\" height=\"1200\"/>\n",
       "  </clipPath>\n",
       "</defs>\n",
       "<path clip-path=\"url(#clip710)\" d=\"\n",
       "M210.281 1035.39 L1952.76 1035.39 L1952.76 117.424 L210.281 117.424  Z\n",
       "  \" fill=\"#ffffff\" fill-rule=\"evenodd\" fill-opacity=\"1\"/>\n",
       "<defs>\n",
       "  <clipPath id=\"clip712\">\n",
       "    <rect x=\"210\" y=\"117\" width=\"1743\" height=\"919\"/>\n",
       "  </clipPath>\n",
       "</defs>\n",
       "<polyline clip-path=\"url(#clip712)\" style=\"stroke:#000000; stroke-linecap:butt; stroke-linejoin:round; stroke-width:2; stroke-opacity:0.1; fill:none\" points=\"\n",
       "  259.596,1035.39 259.596,117.424 \n",
       "  \"/>\n",
       "<polyline clip-path=\"url(#clip712)\" style=\"stroke:#000000; stroke-linecap:butt; stroke-linejoin:round; stroke-width:2; stroke-opacity:0.1; fill:none\" points=\"\n",
       "  670.557,1035.39 670.557,117.424 \n",
       "  \"/>\n",
       "<polyline clip-path=\"url(#clip712)\" style=\"stroke:#000000; stroke-linecap:butt; stroke-linejoin:round; stroke-width:2; stroke-opacity:0.1; fill:none\" points=\"\n",
       "  1081.52,1035.39 1081.52,117.424 \n",
       "  \"/>\n",
       "<polyline clip-path=\"url(#clip712)\" style=\"stroke:#000000; stroke-linecap:butt; stroke-linejoin:round; stroke-width:2; stroke-opacity:0.1; fill:none\" points=\"\n",
       "  1492.48,1035.39 1492.48,117.424 \n",
       "  \"/>\n",
       "<polyline clip-path=\"url(#clip712)\" style=\"stroke:#000000; stroke-linecap:butt; stroke-linejoin:round; stroke-width:2; stroke-opacity:0.1; fill:none\" points=\"\n",
       "  1903.44,1035.39 1903.44,117.424 \n",
       "  \"/>\n",
       "<polyline clip-path=\"url(#clip710)\" style=\"stroke:#000000; stroke-linecap:butt; stroke-linejoin:round; stroke-width:4; stroke-opacity:1; fill:none\" points=\"\n",
       "  210.281,1035.39 1952.76,1035.39 \n",
       "  \"/>\n",
       "<polyline clip-path=\"url(#clip710)\" style=\"stroke:#000000; stroke-linecap:butt; stroke-linejoin:round; stroke-width:4; stroke-opacity:1; fill:none\" points=\"\n",
       "  259.596,1035.39 259.596,1016.49 \n",
       "  \"/>\n",
       "<polyline clip-path=\"url(#clip710)\" style=\"stroke:#000000; stroke-linecap:butt; stroke-linejoin:round; stroke-width:4; stroke-opacity:1; fill:none\" points=\"\n",
       "  670.557,1035.39 670.557,1016.49 \n",
       "  \"/>\n",
       "<polyline clip-path=\"url(#clip710)\" style=\"stroke:#000000; stroke-linecap:butt; stroke-linejoin:round; stroke-width:4; stroke-opacity:1; fill:none\" points=\"\n",
       "  1081.52,1035.39 1081.52,1016.49 \n",
       "  \"/>\n",
       "<polyline clip-path=\"url(#clip710)\" style=\"stroke:#000000; stroke-linecap:butt; stroke-linejoin:round; stroke-width:4; stroke-opacity:1; fill:none\" points=\"\n",
       "  1492.48,1035.39 1492.48,1016.49 \n",
       "  \"/>\n",
       "<polyline clip-path=\"url(#clip710)\" style=\"stroke:#000000; stroke-linecap:butt; stroke-linejoin:round; stroke-width:4; stroke-opacity:1; fill:none\" points=\"\n",
       "  1903.44,1035.39 1903.44,1016.49 \n",
       "  \"/>\n",
       "<path clip-path=\"url(#clip710)\" d=\"M221.9 1063.11 Q218.289 1063.11 216.46 1066.67 Q214.654 1070.21 214.654 1077.34 Q214.654 1084.45 216.46 1088.01 Q218.289 1091.56 221.9 1091.56 Q225.534 1091.56 227.339 1088.01 Q229.168 1084.45 229.168 1077.34 Q229.168 1070.21 227.339 1066.67 Q225.534 1063.11 221.9 1063.11 M221.9 1059.4 Q227.71 1059.4 230.765 1064.01 Q233.844 1068.59 233.844 1077.34 Q233.844 1086.07 230.765 1090.68 Q227.71 1095.26 221.9 1095.26 Q216.09 1095.26 213.011 1090.68 Q209.955 1086.07 209.955 1077.34 Q209.955 1068.59 213.011 1064.01 Q216.09 1059.4 221.9 1059.4 Z\" fill=\"#000000\" fill-rule=\"evenodd\" fill-opacity=\"1\" /><path clip-path=\"url(#clip710)\" d=\"M242.062 1088.71 L246.946 1088.71 L246.946 1094.59 L242.062 1094.59 L242.062 1088.71 Z\" fill=\"#000000\" fill-rule=\"evenodd\" fill-opacity=\"1\" /><path clip-path=\"url(#clip710)\" d=\"M267.131 1063.11 Q263.52 1063.11 261.691 1066.67 Q259.886 1070.21 259.886 1077.34 Q259.886 1084.45 261.691 1088.01 Q263.52 1091.56 267.131 1091.56 Q270.765 1091.56 272.571 1088.01 Q274.399 1084.45 274.399 1077.34 Q274.399 1070.21 272.571 1066.67 Q270.765 1063.11 267.131 1063.11 M267.131 1059.4 Q272.941 1059.4 275.997 1064.01 Q279.075 1068.59 279.075 1077.34 Q279.075 1086.07 275.997 1090.68 Q272.941 1095.26 267.131 1095.26 Q261.321 1095.26 258.242 1090.68 Q255.187 1086.07 255.187 1077.34 Q255.187 1068.59 258.242 1064.01 Q261.321 1059.4 267.131 1059.4 Z\" fill=\"#000000\" fill-rule=\"evenodd\" fill-opacity=\"1\" /><path clip-path=\"url(#clip710)\" d=\"M297.293 1063.11 Q293.682 1063.11 291.853 1066.67 Q290.047 1070.21 290.047 1077.34 Q290.047 1084.45 291.853 1088.01 Q293.682 1091.56 297.293 1091.56 Q300.927 1091.56 302.733 1088.01 Q304.561 1084.45 304.561 1077.34 Q304.561 1070.21 302.733 1066.67 Q300.927 1063.11 297.293 1063.11 M297.293 1059.4 Q303.103 1059.4 306.159 1064.01 Q309.237 1068.59 309.237 1077.34 Q309.237 1086.07 306.159 1090.68 Q303.103 1095.26 297.293 1095.26 Q291.483 1095.26 288.404 1090.68 Q285.348 1086.07 285.348 1077.34 Q285.348 1068.59 288.404 1064.01 Q291.483 1059.4 297.293 1059.4 Z\" fill=\"#000000\" fill-rule=\"evenodd\" fill-opacity=\"1\" /><path clip-path=\"url(#clip710)\" d=\"M633.358 1063.11 Q629.747 1063.11 627.919 1066.67 Q626.113 1070.21 626.113 1077.34 Q626.113 1084.45 627.919 1088.01 Q629.747 1091.56 633.358 1091.56 Q636.993 1091.56 638.798 1088.01 Q640.627 1084.45 640.627 1077.34 Q640.627 1070.21 638.798 1066.67 Q636.993 1063.11 633.358 1063.11 M633.358 1059.4 Q639.169 1059.4 642.224 1064.01 Q645.303 1068.59 645.303 1077.34 Q645.303 1086.07 642.224 1090.68 Q639.169 1095.26 633.358 1095.26 Q627.548 1095.26 624.47 1090.68 Q621.414 1086.07 621.414 1077.34 Q621.414 1068.59 624.47 1064.01 Q627.548 1059.4 633.358 1059.4 Z\" fill=\"#000000\" fill-rule=\"evenodd\" fill-opacity=\"1\" /><path clip-path=\"url(#clip710)\" d=\"M653.52 1088.71 L658.405 1088.71 L658.405 1094.59 L653.52 1094.59 L653.52 1088.71 Z\" fill=\"#000000\" fill-rule=\"evenodd\" fill-opacity=\"1\" /><path clip-path=\"url(#clip710)\" d=\"M672.618 1090.65 L688.937 1090.65 L688.937 1094.59 L666.993 1094.59 L666.993 1090.65 Q669.655 1087.9 674.238 1083.27 Q678.844 1078.62 680.025 1077.27 Q682.27 1074.75 683.15 1073.01 Q684.053 1071.25 684.053 1069.56 Q684.053 1066.81 682.108 1065.07 Q680.187 1063.34 677.085 1063.34 Q674.886 1063.34 672.432 1064.1 Q670.002 1064.87 667.224 1066.42 L667.224 1061.69 Q670.048 1060.56 672.502 1059.98 Q674.955 1059.4 676.992 1059.4 Q682.363 1059.4 685.557 1062.09 Q688.752 1064.77 688.752 1069.26 Q688.752 1071.39 687.942 1073.31 Q687.154 1075.21 685.048 1077.81 Q684.469 1078.48 681.367 1081.69 Q678.266 1084.89 672.618 1090.65 Z\" fill=\"#000000\" fill-rule=\"evenodd\" fill-opacity=\"1\" /><path clip-path=\"url(#clip710)\" d=\"M698.798 1060.03 L717.154 1060.03 L717.154 1063.96 L703.08 1063.96 L703.08 1072.44 Q704.099 1072.09 705.117 1071.93 Q706.136 1071.74 707.154 1071.74 Q712.941 1071.74 716.321 1074.91 Q719.701 1078.08 719.701 1083.5 Q719.701 1089.08 716.228 1092.18 Q712.756 1095.26 706.437 1095.26 Q704.261 1095.26 701.992 1094.89 Q699.747 1094.52 697.34 1093.78 L697.34 1089.08 Q699.423 1090.21 701.645 1090.77 Q703.867 1091.32 706.344 1091.32 Q710.349 1091.32 712.687 1089.22 Q715.025 1087.11 715.025 1083.5 Q715.025 1079.89 712.687 1077.78 Q710.349 1075.68 706.344 1075.68 Q704.469 1075.68 702.594 1076.09 Q700.742 1076.51 698.798 1077.39 L698.798 1060.03 Z\" fill=\"#000000\" fill-rule=\"evenodd\" fill-opacity=\"1\" /><path clip-path=\"url(#clip710)\" d=\"M1043.82 1063.11 Q1040.21 1063.11 1038.38 1066.67 Q1036.58 1070.21 1036.58 1077.34 Q1036.58 1084.45 1038.38 1088.01 Q1040.21 1091.56 1043.82 1091.56 Q1047.46 1091.56 1049.26 1088.01 Q1051.09 1084.45 1051.09 1077.34 Q1051.09 1070.21 1049.26 1066.67 Q1047.46 1063.11 1043.82 1063.11 M1043.82 1059.4 Q1049.63 1059.4 1052.69 1064.01 Q1055.77 1068.59 1055.77 1077.34 Q1055.77 1086.07 1052.69 1090.68 Q1049.63 1095.26 1043.82 1095.26 Q1038.01 1095.26 1034.93 1090.68 Q1031.88 1086.07 1031.88 1077.34 Q1031.88 1068.59 1034.93 1064.01 Q1038.01 1059.4 1043.82 1059.4 Z\" fill=\"#000000\" fill-rule=\"evenodd\" fill-opacity=\"1\" /><path clip-path=\"url(#clip710)\" d=\"M1063.98 1088.71 L1068.87 1088.71 L1068.87 1094.59 L1063.98 1094.59 L1063.98 1088.71 Z\" fill=\"#000000\" fill-rule=\"evenodd\" fill-opacity=\"1\" /><path clip-path=\"url(#clip710)\" d=\"M1079.1 1060.03 L1097.46 1060.03 L1097.46 1063.96 L1083.38 1063.96 L1083.38 1072.44 Q1084.4 1072.09 1085.42 1071.93 Q1086.44 1071.74 1087.46 1071.74 Q1093.24 1071.74 1096.62 1074.91 Q1100 1078.08 1100 1083.5 Q1100 1089.08 1096.53 1092.18 Q1093.06 1095.26 1086.74 1095.26 Q1084.56 1095.26 1082.29 1094.89 Q1080.05 1094.52 1077.64 1093.78 L1077.64 1089.08 Q1079.72 1090.21 1081.95 1090.77 Q1084.17 1091.32 1086.65 1091.32 Q1090.65 1091.32 1092.99 1089.22 Q1095.33 1087.11 1095.33 1083.5 Q1095.33 1079.89 1092.99 1077.78 Q1090.65 1075.68 1086.65 1075.68 Q1084.77 1075.68 1082.9 1076.09 Q1081.04 1076.51 1079.1 1077.39 L1079.1 1060.03 Z\" fill=\"#000000\" fill-rule=\"evenodd\" fill-opacity=\"1\" /><path clip-path=\"url(#clip710)\" d=\"M1119.21 1063.11 Q1115.6 1063.11 1113.78 1066.67 Q1111.97 1070.21 1111.97 1077.34 Q1111.97 1084.45 1113.78 1088.01 Q1115.6 1091.56 1119.21 1091.56 Q1122.85 1091.56 1124.65 1088.01 Q1126.48 1084.45 1126.48 1077.34 Q1126.48 1070.21 1124.65 1066.67 Q1122.85 1063.11 1119.21 1063.11 M1119.21 1059.4 Q1125.03 1059.4 1128.08 1064.01 Q1131.16 1068.59 1131.16 1077.34 Q1131.16 1086.07 1128.08 1090.68 Q1125.03 1095.26 1119.21 1095.26 Q1113.4 1095.26 1110.33 1090.68 Q1107.27 1086.07 1107.27 1077.34 Q1107.27 1068.59 1110.33 1064.01 Q1113.4 1059.4 1119.21 1059.4 Z\" fill=\"#000000\" fill-rule=\"evenodd\" fill-opacity=\"1\" /><path clip-path=\"url(#clip710)\" d=\"M1455.28 1063.11 Q1451.67 1063.11 1449.84 1066.67 Q1448.04 1070.21 1448.04 1077.34 Q1448.04 1084.45 1449.84 1088.01 Q1451.67 1091.56 1455.28 1091.56 Q1458.91 1091.56 1460.72 1088.01 Q1462.55 1084.45 1462.55 1077.34 Q1462.55 1070.21 1460.72 1066.67 Q1458.91 1063.11 1455.28 1063.11 M1455.28 1059.4 Q1461.09 1059.4 1464.15 1064.01 Q1467.23 1068.59 1467.23 1077.34 Q1467.23 1086.07 1464.15 1090.68 Q1461.09 1095.26 1455.28 1095.26 Q1449.47 1095.26 1446.39 1090.68 Q1443.34 1086.07 1443.34 1077.34 Q1443.34 1068.59 1446.39 1064.01 Q1449.47 1059.4 1455.28 1059.4 Z\" fill=\"#000000\" fill-rule=\"evenodd\" fill-opacity=\"1\" /><path clip-path=\"url(#clip710)\" d=\"M1475.44 1088.71 L1480.33 1088.71 L1480.33 1094.59 L1475.44 1094.59 L1475.44 1088.71 Z\" fill=\"#000000\" fill-rule=\"evenodd\" fill-opacity=\"1\" /><path clip-path=\"url(#clip710)\" d=\"M1489.33 1060.03 L1511.55 1060.03 L1511.55 1062.02 L1499.01 1094.59 L1494.12 1094.59 L1505.93 1063.96 L1489.33 1063.96 L1489.33 1060.03 Z\" fill=\"#000000\" fill-rule=\"evenodd\" fill-opacity=\"1\" /><path clip-path=\"url(#clip710)\" d=\"M1520.72 1060.03 L1539.08 1060.03 L1539.08 1063.96 L1525 1063.96 L1525 1072.44 Q1526.02 1072.09 1527.04 1071.93 Q1528.06 1071.74 1529.08 1071.74 Q1534.86 1071.74 1538.24 1074.91 Q1541.62 1078.08 1541.62 1083.5 Q1541.62 1089.08 1538.15 1092.18 Q1534.68 1095.26 1528.36 1095.26 Q1526.18 1095.26 1523.91 1094.89 Q1521.67 1094.52 1519.26 1093.78 L1519.26 1089.08 Q1521.35 1090.21 1523.57 1090.77 Q1525.79 1091.32 1528.27 1091.32 Q1532.27 1091.32 1534.61 1089.22 Q1536.95 1087.11 1536.95 1083.5 Q1536.95 1079.89 1534.61 1077.78 Q1532.27 1075.68 1528.27 1075.68 Q1526.39 1075.68 1524.52 1076.09 Q1522.66 1076.51 1520.72 1077.39 L1520.72 1060.03 Z\" fill=\"#000000\" fill-rule=\"evenodd\" fill-opacity=\"1\" /><path clip-path=\"url(#clip710)\" d=\"M1855.51 1090.65 L1863.15 1090.65 L1863.15 1064.29 L1854.84 1065.95 L1854.84 1061.69 L1863.11 1060.03 L1867.78 1060.03 L1867.78 1090.65 L1875.42 1090.65 L1875.42 1094.59 L1855.51 1094.59 L1855.51 1090.65 Z\" fill=\"#000000\" fill-rule=\"evenodd\" fill-opacity=\"1\" /><path clip-path=\"url(#clip710)\" d=\"M1884.86 1088.71 L1889.75 1088.71 L1889.75 1094.59 L1884.86 1094.59 L1884.86 1088.71 Z\" fill=\"#000000\" fill-rule=\"evenodd\" fill-opacity=\"1\" /><path clip-path=\"url(#clip710)\" d=\"M1909.93 1063.11 Q1906.32 1063.11 1904.49 1066.67 Q1902.69 1070.21 1902.69 1077.34 Q1902.69 1084.45 1904.49 1088.01 Q1906.32 1091.56 1909.93 1091.56 Q1913.57 1091.56 1915.37 1088.01 Q1917.2 1084.45 1917.2 1077.34 Q1917.2 1070.21 1915.37 1066.67 Q1913.57 1063.11 1909.93 1063.11 M1909.93 1059.4 Q1915.74 1059.4 1918.8 1064.01 Q1921.88 1068.59 1921.88 1077.34 Q1921.88 1086.07 1918.8 1090.68 Q1915.74 1095.26 1909.93 1095.26 Q1904.12 1095.26 1901.04 1090.68 Q1897.99 1086.07 1897.99 1077.34 Q1897.99 1068.59 1901.04 1064.01 Q1904.12 1059.4 1909.93 1059.4 Z\" fill=\"#000000\" fill-rule=\"evenodd\" fill-opacity=\"1\" /><path clip-path=\"url(#clip710)\" d=\"M1940.1 1063.11 Q1936.48 1063.11 1934.66 1066.67 Q1932.85 1070.21 1932.85 1077.34 Q1932.85 1084.45 1934.66 1088.01 Q1936.48 1091.56 1940.1 1091.56 Q1943.73 1091.56 1945.54 1088.01 Q1947.36 1084.45 1947.36 1077.34 Q1947.36 1070.21 1945.54 1066.67 Q1943.73 1063.11 1940.1 1063.11 M1940.1 1059.4 Q1945.91 1059.4 1948.96 1064.01 Q1952.04 1068.59 1952.04 1077.34 Q1952.04 1086.07 1948.96 1090.68 Q1945.91 1095.26 1940.1 1095.26 Q1934.29 1095.26 1931.21 1090.68 Q1928.15 1086.07 1928.15 1077.34 Q1928.15 1068.59 1931.21 1064.01 Q1934.29 1059.4 1940.1 1059.4 Z\" fill=\"#000000\" fill-rule=\"evenodd\" fill-opacity=\"1\" /><path clip-path=\"url(#clip710)\" d=\"M969.53 1126.73 L999.576 1126.73 L999.576 1132.14 L975.959 1132.14 L975.959 1146.21 L998.589 1146.21 L998.589 1151.62 L975.959 1151.62 L975.959 1168.84 L1000.15 1168.84 L1000.15 1174.25 L969.53 1174.25 L969.53 1126.73 Z\" fill=\"#000000\" fill-rule=\"evenodd\" fill-opacity=\"1\" /><path clip-path=\"url(#clip710)\" d=\"M1016.13 1168.9 L1016.13 1187.81 L1010.24 1187.81 L1010.24 1138.6 L1016.13 1138.6 L1016.13 1144.01 Q1017.97 1140.83 1020.77 1139.3 Q1023.61 1137.74 1027.52 1137.74 Q1034.01 1137.74 1038.06 1142.9 Q1042.13 1148.06 1042.13 1156.46 Q1042.13 1164.86 1038.06 1170.02 Q1034.01 1175.17 1027.52 1175.17 Q1023.61 1175.17 1020.77 1173.65 Q1017.97 1172.09 1016.13 1168.9 M1036.05 1156.46 Q1036.05 1150 1033.38 1146.34 Q1030.74 1142.65 1026.09 1142.65 Q1021.44 1142.65 1018.77 1146.34 Q1016.13 1150 1016.13 1156.46 Q1016.13 1162.92 1018.77 1166.61 Q1021.44 1170.27 1026.09 1170.27 Q1030.74 1170.27 1033.38 1166.61 Q1036.05 1162.92 1036.05 1156.46 Z\" fill=\"#000000\" fill-rule=\"evenodd\" fill-opacity=\"1\" /><path clip-path=\"url(#clip710)\" d=\"M1065.65 1142.71 Q1060.94 1142.71 1058.2 1146.4 Q1055.47 1150.06 1055.47 1156.46 Q1055.47 1162.86 1058.17 1166.55 Q1060.91 1170.21 1065.65 1170.21 Q1070.33 1170.21 1073.07 1166.52 Q1075.81 1162.83 1075.81 1156.46 Q1075.81 1150.13 1073.07 1146.43 Q1070.33 1142.71 1065.65 1142.71 M1065.65 1137.74 Q1073.29 1137.74 1077.65 1142.71 Q1082.01 1147.68 1082.01 1156.46 Q1082.01 1165.21 1077.65 1170.21 Q1073.29 1175.17 1065.65 1175.17 Q1057.98 1175.17 1053.62 1170.21 Q1049.29 1165.21 1049.29 1156.46 Q1049.29 1147.68 1053.62 1142.71 Q1057.98 1137.74 1065.65 1137.74 Z\" fill=\"#000000\" fill-rule=\"evenodd\" fill-opacity=\"1\" /><path clip-path=\"url(#clip710)\" d=\"M1117.37 1139.97 L1117.37 1145.45 Q1114.89 1144.08 1112.38 1143.41 Q1109.89 1142.71 1107.35 1142.71 Q1101.65 1142.71 1098.5 1146.34 Q1095.35 1149.93 1095.35 1156.46 Q1095.35 1162.98 1098.5 1166.61 Q1101.65 1170.21 1107.35 1170.21 Q1109.89 1170.21 1112.38 1169.54 Q1114.89 1168.84 1117.37 1167.47 L1117.37 1172.88 Q1114.92 1174.03 1112.28 1174.6 Q1109.67 1175.17 1106.71 1175.17 Q1098.66 1175.17 1093.92 1170.11 Q1089.17 1165.05 1089.17 1156.46 Q1089.17 1147.74 1093.95 1142.74 Q1098.75 1137.74 1107.09 1137.74 Q1109.8 1137.74 1112.38 1138.32 Q1114.95 1138.86 1117.37 1139.97 Z\" fill=\"#000000\" fill-rule=\"evenodd\" fill-opacity=\"1\" /><path clip-path=\"url(#clip710)\" d=\"M1157.19 1152.74 L1157.19 1174.25 L1151.33 1174.25 L1151.33 1152.93 Q1151.33 1147.87 1149.36 1145.35 Q1147.39 1142.84 1143.44 1142.84 Q1138.7 1142.84 1135.96 1145.86 Q1133.22 1148.88 1133.22 1154.1 L1133.22 1174.25 L1127.34 1174.25 L1127.34 1124.73 L1133.22 1124.73 L1133.22 1144.14 Q1135.32 1140.93 1138.16 1139.34 Q1141.02 1137.74 1144.75 1137.74 Q1150.89 1137.74 1154.04 1141.56 Q1157.19 1145.35 1157.19 1152.74 Z\" fill=\"#000000\" fill-rule=\"evenodd\" fill-opacity=\"1\" /><path clip-path=\"url(#clip710)\" d=\"M1191.6 1139.65 L1191.6 1145.19 Q1189.11 1143.92 1186.44 1143.28 Q1183.77 1142.65 1180.9 1142.65 Q1176.54 1142.65 1174.35 1143.98 Q1172.18 1145.32 1172.18 1147.99 Q1172.18 1150.03 1173.74 1151.21 Q1175.3 1152.35 1180.01 1153.4 L1182.02 1153.85 Q1188.26 1155.19 1190.87 1157.64 Q1193.51 1160.06 1193.51 1164.42 Q1193.51 1169.38 1189.56 1172.28 Q1185.65 1175.17 1178.77 1175.17 Q1175.91 1175.17 1172.79 1174.6 Q1169.7 1174.06 1166.26 1172.95 L1166.26 1166.9 Q1169.51 1168.59 1172.66 1169.45 Q1175.81 1170.27 1178.9 1170.27 Q1183.04 1170.27 1185.26 1168.87 Q1187.49 1167.44 1187.49 1164.86 Q1187.49 1162.48 1185.87 1161.2 Q1184.28 1159.93 1178.83 1158.75 L1176.8 1158.27 Q1171.35 1157.13 1168.94 1154.77 Q1166.52 1152.39 1166.52 1148.25 Q1166.52 1143.22 1170.08 1140.48 Q1173.65 1137.74 1180.2 1137.74 Q1183.45 1137.74 1186.31 1138.22 Q1189.18 1138.7 1191.6 1139.65 Z\" fill=\"#000000\" fill-rule=\"evenodd\" fill-opacity=\"1\" /><polyline clip-path=\"url(#clip712)\" style=\"stroke:#000000; stroke-linecap:butt; stroke-linejoin:round; stroke-width:2; stroke-opacity:0.1; fill:none\" points=\"\n",
       "  210.281,908.431 1952.76,908.431 \n",
       "  \"/>\n",
       "<polyline clip-path=\"url(#clip712)\" style=\"stroke:#000000; stroke-linecap:butt; stroke-linejoin:round; stroke-width:2; stroke-opacity:0.1; fill:none\" points=\"\n",
       "  210.281,672.96 1952.76,672.96 \n",
       "  \"/>\n",
       "<polyline clip-path=\"url(#clip712)\" style=\"stroke:#000000; stroke-linecap:butt; stroke-linejoin:round; stroke-width:2; stroke-opacity:0.1; fill:none\" points=\"\n",
       "  210.281,437.49 1952.76,437.49 \n",
       "  \"/>\n",
       "<polyline clip-path=\"url(#clip712)\" style=\"stroke:#000000; stroke-linecap:butt; stroke-linejoin:round; stroke-width:2; stroke-opacity:0.1; fill:none\" points=\"\n",
       "  210.281,202.019 1952.76,202.019 \n",
       "  \"/>\n",
       "<polyline clip-path=\"url(#clip710)\" style=\"stroke:#000000; stroke-linecap:butt; stroke-linejoin:round; stroke-width:4; stroke-opacity:1; fill:none\" points=\"\n",
       "  210.281,1035.39 210.281,117.424 \n",
       "  \"/>\n",
       "<polyline clip-path=\"url(#clip710)\" style=\"stroke:#000000; stroke-linecap:butt; stroke-linejoin:round; stroke-width:4; stroke-opacity:1; fill:none\" points=\"\n",
       "  210.281,908.431 229.179,908.431 \n",
       "  \"/>\n",
       "<polyline clip-path=\"url(#clip710)\" style=\"stroke:#000000; stroke-linecap:butt; stroke-linejoin:round; stroke-width:4; stroke-opacity:1; fill:none\" points=\"\n",
       "  210.281,672.96 229.179,672.96 \n",
       "  \"/>\n",
       "<polyline clip-path=\"url(#clip710)\" style=\"stroke:#000000; stroke-linecap:butt; stroke-linejoin:round; stroke-width:4; stroke-opacity:1; fill:none\" points=\"\n",
       "  210.281,437.49 229.179,437.49 \n",
       "  \"/>\n",
       "<polyline clip-path=\"url(#clip710)\" style=\"stroke:#000000; stroke-linecap:butt; stroke-linejoin:round; stroke-width:4; stroke-opacity:1; fill:none\" points=\"\n",
       "  210.281,202.019 229.179,202.019 \n",
       "  \"/>\n",
       "<path clip-path=\"url(#clip710)\" d=\"M113.916 921.775 L121.554 921.775 L121.554 895.41 L113.244 897.076 L113.244 892.817 L121.508 891.151 L126.184 891.151 L126.184 921.775 L133.823 921.775 L133.823 925.711 L113.916 925.711 L113.916 921.775 Z\" fill=\"#000000\" fill-rule=\"evenodd\" fill-opacity=\"1\" /><path clip-path=\"url(#clip710)\" d=\"M143.267 919.831 L148.151 919.831 L148.151 925.711 L143.267 925.711 L143.267 919.831 Z\" fill=\"#000000\" fill-rule=\"evenodd\" fill-opacity=\"1\" /><path clip-path=\"url(#clip710)\" d=\"M168.337 894.229 Q164.725 894.229 162.897 897.794 Q161.091 901.336 161.091 908.465 Q161.091 915.572 162.897 919.137 Q164.725 922.678 168.337 922.678 Q171.971 922.678 173.776 919.137 Q175.605 915.572 175.605 908.465 Q175.605 901.336 173.776 897.794 Q171.971 894.229 168.337 894.229 M168.337 890.526 Q174.147 890.526 177.202 895.132 Q180.281 899.715 180.281 908.465 Q180.281 917.192 177.202 921.799 Q174.147 926.382 168.337 926.382 Q162.526 926.382 159.448 921.799 Q156.392 917.192 156.392 908.465 Q156.392 899.715 159.448 895.132 Q162.526 890.526 168.337 890.526 Z\" fill=\"#000000\" fill-rule=\"evenodd\" fill-opacity=\"1\" /><path clip-path=\"url(#clip710)\" d=\"M114.911 686.305 L122.55 686.305 L122.55 659.939 L114.24 661.606 L114.24 657.347 L122.503 655.68 L127.179 655.68 L127.179 686.305 L134.818 686.305 L134.818 690.24 L114.911 690.24 L114.911 686.305 Z\" fill=\"#000000\" fill-rule=\"evenodd\" fill-opacity=\"1\" /><path clip-path=\"url(#clip710)\" d=\"M144.263 684.36 L149.147 684.36 L149.147 690.24 L144.263 690.24 L144.263 684.36 Z\" fill=\"#000000\" fill-rule=\"evenodd\" fill-opacity=\"1\" /><path clip-path=\"url(#clip710)\" d=\"M159.378 655.68 L177.735 655.68 L177.735 659.615 L163.661 659.615 L163.661 668.087 Q164.679 667.74 165.698 667.578 Q166.716 667.393 167.735 667.393 Q173.522 667.393 176.901 670.564 Q180.281 673.736 180.281 679.152 Q180.281 684.731 176.809 687.833 Q173.337 690.911 167.017 690.911 Q164.841 690.911 162.573 690.541 Q160.327 690.171 157.92 689.43 L157.92 684.731 Q160.003 685.865 162.225 686.421 Q164.448 686.976 166.925 686.976 Q170.929 686.976 173.267 684.87 Q175.605 682.763 175.605 679.152 Q175.605 675.541 173.267 673.435 Q170.929 671.328 166.925 671.328 Q165.05 671.328 163.175 671.745 Q161.323 672.161 159.378 673.041 L159.378 655.68 Z\" fill=\"#000000\" fill-rule=\"evenodd\" fill-opacity=\"1\" /><path clip-path=\"url(#clip710)\" d=\"M117.133 450.834 L133.452 450.834 L133.452 454.77 L111.508 454.77 L111.508 450.834 Q114.17 448.08 118.753 443.45 Q123.36 438.797 124.54 437.455 Q126.786 434.932 127.665 433.196 Q128.568 431.436 128.568 429.747 Q128.568 426.992 126.624 425.256 Q124.703 423.52 121.601 423.52 Q119.402 423.52 116.948 424.284 Q114.517 425.048 111.74 426.598 L111.74 421.876 Q114.564 420.742 117.017 420.163 Q119.471 419.585 121.508 419.585 Q126.878 419.585 130.073 422.27 Q133.267 424.955 133.267 429.446 Q133.267 431.575 132.457 433.497 Q131.67 435.395 129.564 437.987 Q128.985 438.659 125.883 441.876 Q122.781 445.071 117.133 450.834 Z\" fill=\"#000000\" fill-rule=\"evenodd\" fill-opacity=\"1\" /><path clip-path=\"url(#clip710)\" d=\"M143.267 448.89 L148.151 448.89 L148.151 454.77 L143.267 454.77 L143.267 448.89 Z\" fill=\"#000000\" fill-rule=\"evenodd\" fill-opacity=\"1\" /><path clip-path=\"url(#clip710)\" d=\"M168.337 423.288 Q164.725 423.288 162.897 426.853 Q161.091 430.395 161.091 437.524 Q161.091 444.631 162.897 448.196 Q164.725 451.737 168.337 451.737 Q171.971 451.737 173.776 448.196 Q175.605 444.631 175.605 437.524 Q175.605 430.395 173.776 426.853 Q171.971 423.288 168.337 423.288 M168.337 419.585 Q174.147 419.585 177.202 424.191 Q180.281 428.774 180.281 437.524 Q180.281 446.251 177.202 450.858 Q174.147 455.441 168.337 455.441 Q162.526 455.441 159.448 450.858 Q156.392 446.251 156.392 437.524 Q156.392 428.774 159.448 424.191 Q162.526 419.585 168.337 419.585 Z\" fill=\"#000000\" fill-rule=\"evenodd\" fill-opacity=\"1\" /><path clip-path=\"url(#clip710)\" d=\"M118.128 215.364 L134.448 215.364 L134.448 219.299 L112.504 219.299 L112.504 215.364 Q115.166 212.609 119.749 207.98 Q124.355 203.327 125.536 201.984 Q127.781 199.461 128.661 197.725 Q129.564 195.966 129.564 194.276 Q129.564 191.521 127.619 189.785 Q125.698 188.049 122.596 188.049 Q120.397 188.049 117.943 188.813 Q115.513 189.577 112.735 191.128 L112.735 186.406 Q115.559 185.272 118.013 184.693 Q120.466 184.114 122.503 184.114 Q127.874 184.114 131.068 186.799 Q134.263 189.484 134.263 193.975 Q134.263 196.105 133.452 198.026 Q132.665 199.924 130.559 202.517 Q129.98 203.188 126.878 206.406 Q123.777 209.6 118.128 215.364 Z\" fill=\"#000000\" fill-rule=\"evenodd\" fill-opacity=\"1\" /><path clip-path=\"url(#clip710)\" d=\"M144.263 213.42 L149.147 213.42 L149.147 219.299 L144.263 219.299 L144.263 213.42 Z\" fill=\"#000000\" fill-rule=\"evenodd\" fill-opacity=\"1\" /><path clip-path=\"url(#clip710)\" d=\"M159.378 184.739 L177.735 184.739 L177.735 188.674 L163.661 188.674 L163.661 197.146 Q164.679 196.799 165.698 196.637 Q166.716 196.452 167.735 196.452 Q173.522 196.452 176.901 199.623 Q180.281 202.795 180.281 208.211 Q180.281 213.79 176.809 216.892 Q173.337 219.97 167.017 219.97 Q164.841 219.97 162.573 219.6 Q160.327 219.23 157.92 218.489 L157.92 213.79 Q160.003 214.924 162.225 215.48 Q164.448 216.035 166.925 216.035 Q170.929 216.035 173.267 213.929 Q175.605 211.822 175.605 208.211 Q175.605 204.6 173.267 202.494 Q170.929 200.387 166.925 200.387 Q165.05 200.387 163.175 200.804 Q161.323 201.221 159.378 202.1 L159.378 184.739 Z\" fill=\"#000000\" fill-rule=\"evenodd\" fill-opacity=\"1\" /><path clip-path=\"url(#clip710)\" d=\"M23.3924 835.172 L30.1719 835.172 Q27.1482 838.418 25.6523 842.111 Q24.1563 845.771 24.1563 849.909 Q24.1563 858.057 29.1534 862.385 Q34.1187 866.714 43.5399 866.714 Q52.9293 866.714 57.9264 862.385 Q62.8916 858.057 62.8916 849.909 Q62.8916 845.771 61.3957 842.111 Q59.8998 838.418 56.8761 835.172 L63.5919 835.172 Q65.8835 838.546 67.0294 842.333 Q68.1752 846.089 68.1752 850.291 Q68.1752 861.08 61.5867 867.287 Q54.9663 873.494 43.5399 873.494 Q32.0816 873.494 25.4931 867.287 Q18.8728 861.08 18.8728 850.291 Q18.8728 846.025 20.0186 842.27 Q21.1326 838.482 23.3924 835.172 Z\" fill=\"#000000\" fill-rule=\"evenodd\" fill-opacity=\"1\" /><path clip-path=\"url(#clip710)\" d=\"M37.0787 804.839 Q36.5058 805.826 36.2512 807.004 Q35.9647 808.15 35.9647 809.55 Q35.9647 814.515 39.2112 817.189 Q42.4259 819.831 48.4733 819.831 L67.2522 819.831 L67.2522 825.719 L31.6042 825.719 L31.6042 819.831 L37.1424 819.831 Q33.8959 817.985 32.3363 815.024 Q30.7448 812.064 30.7448 807.831 Q30.7448 807.227 30.8403 806.494 Q30.904 805.762 31.0631 804.871 L37.0787 804.839 Z\" fill=\"#000000\" fill-rule=\"evenodd\" fill-opacity=\"1\" /><path clip-path=\"url(#clip710)\" d=\"M35.7101 786.315 Q35.7101 791.026 39.4022 793.763 Q43.0625 796.5 49.46 796.5 Q55.8575 796.5 59.5497 793.795 Q63.2099 791.058 63.2099 786.315 Q63.2099 781.636 59.5178 778.899 Q55.8257 776.162 49.46 776.162 Q43.1261 776.162 39.434 778.899 Q35.7101 781.636 35.7101 786.315 M30.7448 786.315 Q30.7448 778.676 35.7101 774.316 Q40.6753 769.955 49.46 769.955 Q58.2129 769.955 63.2099 774.316 Q68.1752 778.676 68.1752 786.315 Q68.1752 793.986 63.2099 798.346 Q58.2129 802.675 49.46 802.675 Q40.6753 802.675 35.7101 798.346 Q30.7448 793.986 30.7448 786.315 Z\" fill=\"#000000\" fill-rule=\"evenodd\" fill-opacity=\"1\" /><path clip-path=\"url(#clip710)\" d=\"M32.6545 737.522 L38.1927 737.522 Q36.9196 740.005 36.283 742.678 Q35.6464 745.352 35.6464 748.216 Q35.6464 752.577 36.9832 754.773 Q38.32 756.937 40.9936 756.937 Q43.0306 756.937 44.2083 755.378 Q45.3541 753.818 46.4045 749.108 L46.8501 747.102 Q48.1869 740.864 50.6377 738.254 Q53.0566 735.612 57.4171 735.612 Q62.3824 735.612 65.2788 739.559 Q68.1752 743.474 68.1752 750.349 Q68.1752 753.213 67.6023 756.333 Q67.0612 759.42 65.9472 762.858 L59.8998 762.858 Q61.5867 759.611 62.446 756.46 Q63.2736 753.309 63.2736 750.222 Q63.2736 746.084 61.8731 743.856 Q60.4409 741.628 57.8627 741.628 Q55.4756 741.628 54.2025 743.251 Q52.9293 744.843 51.7517 750.285 L51.2742 752.322 Q50.1284 757.765 47.7731 760.184 Q45.386 762.603 41.2482 762.603 Q36.2193 762.603 33.4821 759.038 Q30.7448 755.473 30.7448 748.917 Q30.7448 745.67 31.2223 742.806 Q31.6997 739.941 32.6545 737.522 Z\" fill=\"#000000\" fill-rule=\"evenodd\" fill-opacity=\"1\" /><path clip-path=\"url(#clip710)\" d=\"M32.6545 703.561 L38.1927 703.561 Q36.9196 706.044 36.283 708.717 Q35.6464 711.391 35.6464 714.255 Q35.6464 718.616 36.9832 720.812 Q38.32 722.976 40.9936 722.976 Q43.0306 722.976 44.2083 721.417 Q45.3541 719.857 46.4045 715.147 L46.8501 713.141 Q48.1869 706.903 50.6377 704.293 Q53.0566 701.651 57.4171 701.651 Q62.3824 701.651 65.2788 705.598 Q68.1752 709.513 68.1752 716.388 Q68.1752 719.252 67.6023 722.372 Q67.0612 725.459 65.9472 728.896 L59.8998 728.896 Q61.5867 725.65 62.446 722.499 Q63.2736 719.348 63.2736 716.261 Q63.2736 712.123 61.8731 709.895 Q60.4409 707.667 57.8627 707.667 Q55.4756 707.667 54.2025 709.29 Q52.9293 710.882 51.7517 716.324 L51.2742 718.361 Q50.1284 723.804 47.7731 726.223 Q45.386 728.642 41.2482 728.642 Q36.2193 728.642 33.4821 725.077 Q30.7448 721.512 30.7448 714.956 Q30.7448 711.709 31.2223 708.845 Q31.6997 705.98 32.6545 703.561 Z\" fill=\"#000000\" fill-rule=\"evenodd\" fill-opacity=\"1\" /><path clip-path=\"url(#clip710)\" d=\"M46.7864 695.286 L46.7864 678.13 L52.0063 678.13 L52.0063 695.286 L46.7864 695.286 Z\" fill=\"#000000\" fill-rule=\"evenodd\" fill-opacity=\"1\" /><path clip-path=\"url(#clip710)\" d=\"M47.9641 638.312 L50.8286 638.312 L50.8286 665.239 Q56.8761 664.857 60.0589 661.611 Q63.2099 658.333 63.2099 652.508 Q63.2099 649.134 62.3824 645.983 Q61.5549 642.8 59.8998 639.681 L65.4379 639.681 Q66.7747 642.832 67.475 646.142 Q68.1752 649.452 68.1752 652.858 Q68.1752 661.388 63.2099 666.385 Q58.2447 671.35 49.7783 671.35 Q41.0254 671.35 35.9011 666.64 Q30.7448 661.897 30.7448 653.877 Q30.7448 646.683 35.3918 642.514 Q40.0069 638.312 47.9641 638.312 M46.2453 644.169 Q41.4392 644.233 38.5746 646.874 Q35.7101 649.484 35.7101 653.813 Q35.7101 658.715 38.4792 661.675 Q41.2482 664.603 46.2772 665.048 L46.2453 644.169 Z\" fill=\"#000000\" fill-rule=\"evenodd\" fill-opacity=\"1\" /><path clip-path=\"url(#clip710)\" d=\"M45.7361 599.068 L67.2522 599.068 L67.2522 604.924 L45.927 604.924 Q40.8663 604.924 38.3518 606.898 Q35.8374 608.871 35.8374 612.818 Q35.8374 617.56 38.8611 620.298 Q41.8848 623.035 47.1047 623.035 L67.2522 623.035 L67.2522 628.923 L31.6042 628.923 L31.6042 623.035 L37.1424 623.035 Q33.9277 620.934 32.3363 618.101 Q30.7448 615.237 30.7448 611.513 Q30.7448 605.37 34.5643 602.219 Q38.3518 599.068 45.7361 599.068 Z\" fill=\"#000000\" fill-rule=\"evenodd\" fill-opacity=\"1\" /><path clip-path=\"url(#clip710)\" d=\"M21.4827 581.594 L31.6042 581.594 L31.6042 569.531 L36.1557 569.531 L36.1557 581.594 L55.5074 581.594 Q59.8679 581.594 61.1093 580.416 Q62.3506 579.207 62.3506 575.547 L62.3506 569.531 L67.2522 569.531 L67.2522 575.547 Q67.2522 582.326 64.7377 584.904 Q62.1914 587.482 55.5074 587.482 L36.1557 587.482 L36.1557 591.779 L31.6042 591.779 L31.6042 587.482 L21.4827 587.482 L21.4827 581.594 Z\" fill=\"#000000\" fill-rule=\"evenodd\" fill-opacity=\"1\" /><path clip-path=\"url(#clip710)\" d=\"M37.0787 541.172 Q36.5058 542.158 36.2512 543.336 Q35.9647 544.482 35.9647 545.882 Q35.9647 550.848 39.2112 553.521 Q42.4259 556.163 48.4733 556.163 L67.2522 556.163 L67.2522 562.051 L31.6042 562.051 L31.6042 556.163 L37.1424 556.163 Q33.8959 554.317 32.3363 551.357 Q30.7448 548.397 30.7448 544.164 Q30.7448 543.559 30.8403 542.827 Q30.904 542.095 31.0631 541.204 L37.0787 541.172 Z\" fill=\"#000000\" fill-rule=\"evenodd\" fill-opacity=\"1\" /><path clip-path=\"url(#clip710)\" d=\"M35.7101 522.648 Q35.7101 527.358 39.4022 530.095 Q43.0625 532.833 49.46 532.833 Q55.8575 532.833 59.5497 530.127 Q63.2099 527.39 63.2099 522.648 Q63.2099 517.969 59.5178 515.232 Q55.8257 512.494 49.46 512.494 Q43.1261 512.494 39.434 515.232 Q35.7101 517.969 35.7101 522.648 M30.7448 522.648 Q30.7448 515.009 35.7101 510.648 Q40.6753 506.288 49.46 506.288 Q58.2129 506.288 63.2099 510.648 Q68.1752 515.009 68.1752 522.648 Q68.1752 530.318 63.2099 534.679 Q58.2129 539.007 49.46 539.007 Q40.6753 539.007 35.7101 534.679 Q30.7448 530.318 30.7448 522.648 Z\" fill=\"#000000\" fill-rule=\"evenodd\" fill-opacity=\"1\" /><path clip-path=\"url(#clip710)\" d=\"M61.905 490.915 L80.8111 490.915 L80.8111 496.803 L31.6042 496.803 L31.6042 490.915 L37.0151 490.915 Q33.8322 489.068 32.3044 486.268 Q30.7448 483.435 30.7448 479.52 Q30.7448 473.027 35.9011 468.985 Q41.0573 464.911 49.46 464.911 Q57.8627 464.911 63.019 468.985 Q68.1752 473.027 68.1752 479.52 Q68.1752 483.435 66.6474 486.268 Q65.0878 489.068 61.905 490.915 M49.46 470.99 Q42.9988 470.99 39.3385 473.663 Q35.6464 476.305 35.6464 480.952 Q35.6464 485.599 39.3385 488.273 Q42.9988 490.915 49.46 490.915 Q55.9212 490.915 59.6133 488.273 Q63.2736 485.599 63.2736 480.952 Q63.2736 476.305 59.6133 473.663 Q55.9212 470.99 49.46 470.99 Z\" fill=\"#000000\" fill-rule=\"evenodd\" fill-opacity=\"1\" /><path clip-path=\"url(#clip710)\" d=\"M70.5623 440.371 Q76.928 442.853 78.8696 445.209 Q80.8111 447.564 80.8111 451.511 L80.8111 456.19 L75.9095 456.19 L75.9095 452.752 Q75.9095 450.333 74.7637 448.996 Q73.6179 447.66 69.3528 446.036 L66.6792 444.986 L31.6042 459.404 L31.6042 453.198 L59.486 442.058 L31.6042 430.918 L31.6042 424.711 L70.5623 440.371 Z\" fill=\"#000000\" fill-rule=\"evenodd\" fill-opacity=\"1\" /><path clip-path=\"url(#clip710)\" d=\"M17.727 395.906 L17.727 390.05 L67.2522 390.05 L67.2522 395.906 L17.727 395.906 Z\" fill=\"#000000\" fill-rule=\"evenodd\" fill-opacity=\"1\" /><path clip-path=\"url(#clip710)\" d=\"M35.7101 363.982 Q35.7101 368.693 39.4022 371.43 Q43.0625 374.167 49.46 374.167 Q55.8575 374.167 59.5497 371.462 Q63.2099 368.725 63.2099 363.982 Q63.2099 359.304 59.5178 356.566 Q55.8257 353.829 49.46 353.829 Q43.1261 353.829 39.434 356.566 Q35.7101 359.304 35.7101 363.982 M30.7448 363.982 Q30.7448 356.344 35.7101 351.983 Q40.6753 347.622 49.46 347.622 Q58.2129 347.622 63.2099 351.983 Q68.1752 356.344 68.1752 363.982 Q68.1752 371.653 63.2099 376.014 Q58.2129 380.342 49.46 380.342 Q40.6753 380.342 35.7101 376.014 Q30.7448 371.653 30.7448 363.982 Z\" fill=\"#000000\" fill-rule=\"evenodd\" fill-opacity=\"1\" /><path clip-path=\"url(#clip710)\" d=\"M32.6545 315.189 L38.1927 315.189 Q36.9196 317.672 36.283 320.345 Q35.6464 323.019 35.6464 325.884 Q35.6464 330.244 36.9832 332.44 Q38.32 334.605 40.9936 334.605 Q43.0306 334.605 44.2083 333.045 Q45.3541 331.485 46.4045 326.775 L46.8501 324.77 Q48.1869 318.531 50.6377 315.921 Q53.0566 313.28 57.4171 313.28 Q62.3824 313.28 65.2788 317.226 Q68.1752 321.141 68.1752 328.016 Q68.1752 330.881 67.6023 334 Q67.0612 337.087 65.9472 340.525 L59.8998 340.525 Q61.5867 337.278 62.446 334.127 Q63.2736 330.976 63.2736 327.889 Q63.2736 323.751 61.8731 321.523 Q60.4409 319.295 57.8627 319.295 Q55.4756 319.295 54.2025 320.918 Q52.9293 322.51 51.7517 327.952 L51.2742 329.989 Q50.1284 335.432 47.7731 337.851 Q45.386 340.27 41.2482 340.27 Q36.2193 340.27 33.4821 336.705 Q30.7448 333.141 30.7448 326.584 Q30.7448 323.337 31.2223 320.473 Q31.6997 317.608 32.6545 315.189 Z\" fill=\"#000000\" fill-rule=\"evenodd\" fill-opacity=\"1\" /><path clip-path=\"url(#clip710)\" d=\"M32.6545 281.228 L38.1927 281.228 Q36.9196 283.711 36.283 286.384 Q35.6464 289.058 35.6464 291.923 Q35.6464 296.283 36.9832 298.479 Q38.32 300.644 40.9936 300.644 Q43.0306 300.644 44.2083 299.084 Q45.3541 297.524 46.4045 292.814 L46.8501 290.809 Q48.1869 284.57 50.6377 281.96 Q53.0566 279.318 57.4171 279.318 Q62.3824 279.318 65.2788 283.265 Q68.1752 287.18 68.1752 294.055 Q68.1752 296.92 67.6023 300.039 Q67.0612 303.126 65.9472 306.564 L59.8998 306.564 Q61.5867 303.317 62.446 300.166 Q63.2736 297.015 63.2736 293.928 Q63.2736 289.79 61.8731 287.562 Q60.4409 285.334 57.8627 285.334 Q55.4756 285.334 54.2025 286.957 Q52.9293 288.549 51.7517 293.991 L51.2742 296.028 Q50.1284 301.471 47.7731 303.89 Q45.386 306.309 41.2482 306.309 Q36.2193 306.309 33.4821 302.744 Q30.7448 299.179 30.7448 292.623 Q30.7448 289.376 31.2223 286.512 Q31.6997 283.647 32.6545 281.228 Z\" fill=\"#000000\" fill-rule=\"evenodd\" fill-opacity=\"1\" /><path clip-path=\"url(#clip710)\" d=\"M805.368 12.096 L843.609 12.096 L843.609 18.9825 L813.551 18.9825 L813.551 36.8875 L842.353 36.8875 L842.353 43.7741 L813.551 43.7741 L813.551 65.6895 L844.338 65.6895 L844.338 72.576 L805.368 72.576 L805.368 12.096 Z\" fill=\"#000000\" fill-rule=\"evenodd\" fill-opacity=\"1\" /><path clip-path=\"url(#clip710)\" d=\"M883.753 34.1734 Q882.497 33.4443 880.999 33.1202 Q879.54 32.7556 877.758 32.7556 Q871.439 32.7556 868.036 36.8875 Q864.674 40.9789 864.674 48.6757 L864.674 72.576 L857.179 72.576 L857.179 27.2059 L864.674 27.2059 L864.674 34.2544 Q867.023 30.1225 870.79 28.1376 Q874.558 26.1121 879.945 26.1121 Q880.715 26.1121 881.647 26.2337 Q882.579 26.3147 883.713 26.5172 L883.753 34.1734 Z\" fill=\"#000000\" fill-rule=\"evenodd\" fill-opacity=\"1\" /><path clip-path=\"url(#clip710)\" d=\"M916.404 34.1734 Q915.148 33.4443 913.649 33.1202 Q912.191 32.7556 910.408 32.7556 Q904.089 32.7556 900.686 36.8875 Q897.324 40.9789 897.324 48.6757 L897.324 72.576 L889.83 72.576 L889.83 27.2059 L897.324 27.2059 L897.324 34.2544 Q899.673 30.1225 903.441 28.1376 Q907.208 26.1121 912.596 26.1121 Q913.365 26.1121 914.297 26.2337 Q915.229 26.3147 916.363 26.5172 L916.404 34.1734 Z\" fill=\"#000000\" fill-rule=\"evenodd\" fill-opacity=\"1\" /><path clip-path=\"url(#clip710)\" d=\"M939.98 32.4315 Q933.984 32.4315 930.501 37.1306 Q927.017 41.7891 927.017 49.9314 Q927.017 58.0738 930.46 62.7728 Q933.944 67.4314 939.98 67.4314 Q945.935 67.4314 949.418 62.7323 Q952.902 58.0333 952.902 49.9314 Q952.902 41.8701 949.418 37.1711 Q945.935 32.4315 939.98 32.4315 M939.98 26.1121 Q949.702 26.1121 955.252 32.4315 Q960.801 38.7509 960.801 49.9314 Q960.801 61.0714 955.252 67.4314 Q949.702 73.7508 939.98 73.7508 Q930.217 73.7508 924.667 67.4314 Q919.158 61.0714 919.158 49.9314 Q919.158 38.7509 924.667 32.4315 Q930.217 26.1121 939.98 26.1121 Z\" fill=\"#000000\" fill-rule=\"evenodd\" fill-opacity=\"1\" /><path clip-path=\"url(#clip710)\" d=\"M999.447 34.1734 Q998.191 33.4443 996.692 33.1202 Q995.234 32.7556 993.452 32.7556 Q987.132 32.7556 983.73 36.8875 Q980.367 40.9789 980.367 48.6757 L980.367 72.576 L972.873 72.576 L972.873 27.2059 L980.367 27.2059 L980.367 34.2544 Q982.717 30.1225 986.484 28.1376 Q990.252 26.1121 995.639 26.1121 Q996.409 26.1121 997.341 26.2337 Q998.272 26.3147 999.407 26.5172 L999.447 34.1734 Z\" fill=\"#000000\" fill-rule=\"evenodd\" fill-opacity=\"1\" /><path clip-path=\"url(#clip710)\" d=\"M1056.61 9.54393 L1056.61 15.7418 L1049.48 15.7418 Q1045.47 15.7418 1043.89 17.3622 Q1042.35 18.9825 1042.35 23.1955 L1042.35 27.2059 L1054.62 27.2059 L1054.62 32.9987 L1042.35 32.9987 L1042.35 72.576 L1034.85 72.576 L1034.85 32.9987 L1027.72 32.9987 L1027.72 27.2059 L1034.85 27.2059 L1034.85 24.0462 Q1034.85 16.471 1038.38 13.0277 Q1041.9 9.54393 1049.56 9.54393 L1056.61 9.54393 Z\" fill=\"#000000\" fill-rule=\"evenodd\" fill-opacity=\"1\" /><path clip-path=\"url(#clip710)\" d=\"M1062.07 54.671 L1062.07 27.2059 L1069.53 27.2059 L1069.53 54.3874 Q1069.53 60.8284 1072.04 64.0691 Q1074.55 67.2693 1079.57 67.2693 Q1085.61 67.2693 1089.09 63.421 Q1092.62 59.5726 1092.62 52.9291 L1092.62 27.2059 L1100.07 27.2059 L1100.07 72.576 L1092.62 72.576 L1092.62 65.6084 Q1089.9 69.7404 1086.3 71.7658 Q1082.73 73.7508 1077.99 73.7508 Q1070.18 73.7508 1066.12 68.8897 Q1062.07 64.0286 1062.07 54.671 M1080.83 26.1121 L1080.83 26.1121 Z\" fill=\"#000000\" fill-rule=\"evenodd\" fill-opacity=\"1\" /><path clip-path=\"url(#clip710)\" d=\"M1153.14 45.1919 L1153.14 72.576 L1145.68 72.576 L1145.68 45.4349 Q1145.68 38.994 1143.17 35.7938 Q1140.66 32.5936 1135.64 32.5936 Q1129.6 32.5936 1126.12 36.4419 Q1122.64 40.2903 1122.64 46.9338 L1122.64 72.576 L1115.14 72.576 L1115.14 27.2059 L1122.64 27.2059 L1122.64 34.2544 Q1125.31 30.163 1128.91 28.1376 Q1132.56 26.1121 1137.3 26.1121 Q1145.12 26.1121 1149.13 30.9732 Q1153.14 35.7938 1153.14 45.1919 Z\" fill=\"#000000\" fill-rule=\"evenodd\" fill-opacity=\"1\" /><path clip-path=\"url(#clip710)\" d=\"M1200.66 28.9478 L1200.66 35.9153 Q1197.5 34.1734 1194.3 33.3227 Q1191.14 32.4315 1187.9 32.4315 Q1180.64 32.4315 1176.63 37.0496 Q1172.62 41.6271 1172.62 49.9314 Q1172.62 58.2358 1176.63 62.8538 Q1180.64 67.4314 1187.9 67.4314 Q1191.14 67.4314 1194.3 66.5807 Q1197.5 65.6895 1200.66 63.9476 L1200.66 70.8341 Q1197.54 72.2924 1194.17 73.0216 Q1190.85 73.7508 1187.08 73.7508 Q1176.84 73.7508 1170.8 67.3098 Q1164.76 60.8689 1164.76 49.9314 Q1164.76 38.832 1170.84 32.472 Q1176.96 26.1121 1187.57 26.1121 Q1191.01 26.1121 1194.3 26.8413 Q1197.58 27.5299 1200.66 28.9478 Z\" fill=\"#000000\" fill-rule=\"evenodd\" fill-opacity=\"1\" /><path clip-path=\"url(#clip710)\" d=\"M1220.99 14.324 L1220.99 27.2059 L1236.34 27.2059 L1236.34 32.9987 L1220.99 32.9987 L1220.99 57.6282 Q1220.99 63.1779 1222.49 64.7578 Q1224.03 66.3376 1228.69 66.3376 L1236.34 66.3376 L1236.34 72.576 L1228.69 72.576 Q1220.06 72.576 1216.78 69.3758 Q1213.5 66.1351 1213.5 57.6282 L1213.5 32.9987 L1208.03 32.9987 L1208.03 27.2059 L1213.5 27.2059 L1213.5 14.324 L1220.99 14.324 Z\" fill=\"#000000\" fill-rule=\"evenodd\" fill-opacity=\"1\" /><path clip-path=\"url(#clip710)\" d=\"M1246.15 27.2059 L1253.6 27.2059 L1253.6 72.576 L1246.15 72.576 L1246.15 27.2059 M1246.15 9.54393 L1253.6 9.54393 L1253.6 18.9825 L1246.15 18.9825 L1246.15 9.54393 Z\" fill=\"#000000\" fill-rule=\"evenodd\" fill-opacity=\"1\" /><path clip-path=\"url(#clip710)\" d=\"M1286.78 32.4315 Q1280.78 32.4315 1277.3 37.1306 Q1273.81 41.7891 1273.81 49.9314 Q1273.81 58.0738 1277.26 62.7728 Q1280.74 67.4314 1286.78 67.4314 Q1292.73 67.4314 1296.22 62.7323 Q1299.7 58.0333 1299.7 49.9314 Q1299.7 41.8701 1296.22 37.1711 Q1292.73 32.4315 1286.78 32.4315 M1286.78 26.1121 Q1296.5 26.1121 1302.05 32.4315 Q1307.6 38.7509 1307.6 49.9314 Q1307.6 61.0714 1302.05 67.4314 Q1296.5 73.7508 1286.78 73.7508 Q1277.02 73.7508 1271.47 67.4314 Q1265.96 61.0714 1265.96 49.9314 Q1265.96 38.7509 1271.47 32.4315 Q1277.02 26.1121 1286.78 26.1121 Z\" fill=\"#000000\" fill-rule=\"evenodd\" fill-opacity=\"1\" /><path clip-path=\"url(#clip710)\" d=\"M1357.67 45.1919 L1357.67 72.576 L1350.21 72.576 L1350.21 45.4349 Q1350.21 38.994 1347.7 35.7938 Q1345.19 32.5936 1340.17 32.5936 Q1334.13 32.5936 1330.65 36.4419 Q1327.17 40.2903 1327.17 46.9338 L1327.17 72.576 L1319.67 72.576 L1319.67 27.2059 L1327.17 27.2059 L1327.17 34.2544 Q1329.84 30.163 1333.44 28.1376 Q1337.09 26.1121 1341.83 26.1121 Q1349.65 26.1121 1353.66 30.9732 Q1357.67 35.7938 1357.67 45.1919 Z\" fill=\"#000000\" fill-rule=\"evenodd\" fill-opacity=\"1\" /><polyline clip-path=\"url(#clip712)\" style=\"stroke:#009af9; stroke-linecap:butt; stroke-linejoin:round; stroke-width:8; stroke-opacity:1; fill:none\" points=\"\n",
       "  259.596,143.404 1903.44,1009.41 \n",
       "  \"/>\n",
       "</svg>\n"
      ]
     },
     "execution_count": 16,
     "metadata": {},
     "output_type": "execute_result"
    }
   ],
   "source": [
    "losses = rp.neural_network_classifier.training_losses\n",
    "epochs = pipe.neural_network_classifier.epochs\n",
    "plot(0:epochs, losses, title=\"Error function\", size=(500,300), linewidth=2, legend=false)\n",
    "xlabel!(\"Epochs\")\n",
    "ylabel!(\"Cross-entropy loss\")"
   ]
  },
  {
   "cell_type": "markdown",
   "id": "0fb9b1f4",
   "metadata": {},
   "source": [
    "### Predict"
   ]
  },
  {
   "cell_type": "code",
   "execution_count": 17,
   "id": "b6ada58f",
   "metadata": {},
   "outputs": [
    {
     "data": {
      "text/plain": [
       "10×10 Matrix{Int64}:\n",
       " 4004     1    26    13     8    55    25    20    24    23\n",
       "    0  4604    37    22    15    15    15    29    96     7\n",
       "   27    21  3763   118    38    28    32    53    84     9\n",
       "    8    20    67  3844     0   154     0    12   137    52\n",
       "    6     4    41     7  3823    34    17    42    30   231\n",
       "   51    17    14   144     6  3312    61     2   166    15\n",
       "   24     4    71    11    45    67  3975     5    32     3\n",
       "    8    15    61    57    18    26     3  4143    22   235\n",
       "   16    27    79    41    15    58    13     7  3430    23\n",
       "    2     6    12    35   121    46     2    73    75  3566"
      ]
     },
     "metadata": {},
     "output_type": "display_data"
    },
    {
     "name": "stdout",
     "output_type": "stream",
     "text": [
      "accuracy: 0.916\n",
      "f1-score: 0.914\n"
     ]
    }
   ],
   "source": [
    "ŷ = predict_mode(mach, X)\n",
    "printMetrics(ŷ, y)"
   ]
  },
  {
   "cell_type": "markdown",
   "id": "17a16b4c",
   "metadata": {},
   "source": [
    "### Tuning\n",
    "\n",
    "Single parameter (lambda)\n",
    "\n",
    "Remark: > 2h execution on a gamers computer"
   ]
  },
  {
   "cell_type": "code",
   "execution_count": 28,
   "id": "d5b85960",
   "metadata": {},
   "outputs": [
    {
     "name": "stdout",
     "output_type": "stream",
     "text": [
      "search: \u001b[0m\u001b[1ml\u001b[22m\u001b[0m\u001b[1me\u001b[22m\u001b[0m\u001b[1ma\u001b[22m\u001b[0m\u001b[1mr\u001b[22m\u001b[0m\u001b[1mn\u001b[22m\u001b[0m\u001b[1mi\u001b[22m\u001b[0m\u001b[1mn\u001b[22m\u001b[0m\u001b[1mg\u001b[22m\u001b[0m\u001b[1m_\u001b[22m\u001b[0m\u001b[1mc\u001b[22m\u001b[0m\u001b[1mu\u001b[22m\u001b[0m\u001b[1mr\u001b[22m\u001b[0m\u001b[1mv\u001b[22m\u001b[0m\u001b[1me\u001b[22m\u001b[0m\u001b[1m!\u001b[22m \u001b[0m\u001b[1ml\u001b[22m\u001b[0m\u001b[1me\u001b[22m\u001b[0m\u001b[1ma\u001b[22m\u001b[0m\u001b[1mr\u001b[22m\u001b[0m\u001b[1mn\u001b[22m\u001b[0m\u001b[1mi\u001b[22m\u001b[0m\u001b[1mn\u001b[22m\u001b[0m\u001b[1mg\u001b[22m\u001b[0m\u001b[1m_\u001b[22m\u001b[0m\u001b[1mc\u001b[22m\u001b[0m\u001b[1mu\u001b[22m\u001b[0m\u001b[1mr\u001b[22m\u001b[0m\u001b[1mv\u001b[22m\u001b[0m\u001b[1me\u001b[22m\n",
      "\n"
     ]
    },
    {
     "data": {
      "text/latex": [
       "No documentation found.\n",
       "\n",
       "\\texttt{MLJTuning.learning\\_curve!} is a \\texttt{Function}.\n",
       "\n",
       "\\begin{verbatim}\n",
       "# 1 method for generic function \"learning_curve!\":\n",
       "[1] learning_curve!(mach::Machine{var\"#s87\", C} where {var\"#s87\"<:Supervised, C}; kwargs...) in MLJTuning at /home/ciro/.julia/packages/MLJTuning/Al9yX/src/learning_curves.jl:96\n",
       "\\end{verbatim}\n"
      ],
      "text/markdown": [
       "No documentation found.\n",
       "\n",
       "`MLJTuning.learning_curve!` is a `Function`.\n",
       "\n",
       "```\n",
       "# 1 method for generic function \"learning_curve!\":\n",
       "[1] learning_curve!(mach::Machine{var\"#s87\", C} where {var\"#s87\"<:Supervised, C}; kwargs...) in MLJTuning at /home/ciro/.julia/packages/MLJTuning/Al9yX/src/learning_curves.jl:96\n",
       "```\n"
      ],
      "text/plain": [
       "  No documentation found.\n",
       "\n",
       "  \u001b[36mMLJTuning.learning_curve!\u001b[39m is a \u001b[36mFunction\u001b[39m.\n",
       "\n",
       "\u001b[36m  # 1 method for generic function \"learning_curve!\":\u001b[39m\n",
       "\u001b[36m  [1] learning_curve!(mach::Machine{var\"#s87\", C} where {var\"#s87\"<:Supervised, C}; kwargs...) in MLJTuning at /home/ciro/.julia/packages/MLJTuning/Al9yX/src/learning_curves.jl:96\u001b[39m"
      ]
     },
     "execution_count": 28,
     "metadata": {},
     "output_type": "execute_result"
    }
   ],
   "source": [
    "?learning_curve!"
   ]
  },
  {
   "cell_type": "code",
   "execution_count": 36,
   "id": "21bfe8aa",
   "metadata": {},
   "outputs": [
    {
     "name": "stderr",
     "output_type": "stream",
     "text": [
      "┌ Info: Training Machine{ProbabilisticTunedModel{Grid,…},…}.\n",
      "└ @ MLJBase /home/ciro/.julia/packages/MLJBase/pCiRR/src/machines.jl:464\n",
      "┌ Info: Attempting to evaluate 5 models.\n",
      "└ @ MLJTuning /home/ciro/.julia/packages/MLJTuning/Al9yX/src/tuned_models.jl:680\n",
      "\u001b[33mEvaluating over 5 metamodels: 100%[=========================] Time: 0:50:15\u001b[39m\n"
     ]
    },
    {
     "data": {
      "text/plain": [
       "(parameter_name = \"neural_network_classifier.lambda\",\n",
       " parameter_scale = :log10,\n",
       " parameter_values = [0.001, 0.0017782794100389228, 0.0031622776601683794, 0.005623413251903491, 0.01],\n",
       " measurements = [0.41041588178599503, 0.48238112501399444, 0.6024657185375627, 0.8028990583020618, 1.1582995940602745],)"
      ]
     },
     "execution_count": 36,
     "metadata": {},
     "output_type": "execute_result"
    }
   ],
   "source": [
    "r = range(pipe, :(neural_network_classifier.lambda), lower = 1e-3, upper=1e-2, scale=:log10)\n",
    "\n",
    "_, _, lambdas, losses = learning_curve(mach,\n",
    "                                       range=r,\n",
    "                                       resampling=CV(nfolds=3),\n",
    "                                       resolution=5, # default = 30\n",
    "                                       # acceleration=CPUProcesses() or acceleration=CPUThreads(),\n",
    "                                       measure=cross_entropy)"
   ]
  },
  {
   "cell_type": "code",
   "execution_count": 37,
   "id": "7ce123b3",
   "metadata": {},
   "outputs": [
    {
     "name": "stdout",
     "output_type": "stream",
     "text": [
      "Best lambda: 0.001\n"
     ]
    },
    {
     "data": {
      "image/svg+xml": [
       "<?xml version=\"1.0\" encoding=\"utf-8\"?>\n",
       "<svg xmlns=\"http://www.w3.org/2000/svg\" xmlns:xlink=\"http://www.w3.org/1999/xlink\" width=\"500\" height=\"300\" viewBox=\"0 0 2000 1200\">\n",
       "<defs>\n",
       "  <clipPath id=\"clip790\">\n",
       "    <rect x=\"0\" y=\"0\" width=\"2000\" height=\"1200\"/>\n",
       "  </clipPath>\n",
       "</defs>\n",
       "<path clip-path=\"url(#clip790)\" d=\"\n",
       "M0 1200 L2000 1200 L2000 0 L0 0  Z\n",
       "  \" fill=\"#ffffff\" fill-rule=\"evenodd\" fill-opacity=\"1\"/>\n",
       "<defs>\n",
       "  <clipPath id=\"clip791\">\n",
       "    <rect x=\"400\" y=\"0\" width=\"1401\" height=\"1200\"/>\n",
       "  </clipPath>\n",
       "</defs>\n",
       "<path clip-path=\"url(#clip790)\" d=\"\n",
       "M211.114 1035.39 L1952.76 1035.39 L1952.76 117.424 L211.114 117.424  Z\n",
       "  \" fill=\"#ffffff\" fill-rule=\"evenodd\" fill-opacity=\"1\"/>\n",
       "<defs>\n",
       "  <clipPath id=\"clip792\">\n",
       "    <rect x=\"211\" y=\"117\" width=\"1743\" height=\"919\"/>\n",
       "  </clipPath>\n",
       "</defs>\n",
       "<polyline clip-path=\"url(#clip792)\" style=\"stroke:#000000; stroke-linecap:butt; stroke-linejoin:round; stroke-width:2; stroke-opacity:0.1; fill:none\" points=\"\n",
       "  442.968,1035.39 442.968,117.424 \n",
       "  \"/>\n",
       "<polyline clip-path=\"url(#clip792)\" style=\"stroke:#000000; stroke-linecap:butt; stroke-linejoin:round; stroke-width:2; stroke-opacity:0.1; fill:none\" points=\"\n",
       "  808.092,1035.39 808.092,117.424 \n",
       "  \"/>\n",
       "<polyline clip-path=\"url(#clip792)\" style=\"stroke:#000000; stroke-linecap:butt; stroke-linejoin:round; stroke-width:2; stroke-opacity:0.1; fill:none\" points=\"\n",
       "  1173.22,1035.39 1173.22,117.424 \n",
       "  \"/>\n",
       "<polyline clip-path=\"url(#clip792)\" style=\"stroke:#000000; stroke-linecap:butt; stroke-linejoin:round; stroke-width:2; stroke-opacity:0.1; fill:none\" points=\"\n",
       "  1538.34,1035.39 1538.34,117.424 \n",
       "  \"/>\n",
       "<polyline clip-path=\"url(#clip792)\" style=\"stroke:#000000; stroke-linecap:butt; stroke-linejoin:round; stroke-width:2; stroke-opacity:0.1; fill:none\" points=\"\n",
       "  1903.46,1035.39 1903.46,117.424 \n",
       "  \"/>\n",
       "<polyline clip-path=\"url(#clip790)\" style=\"stroke:#000000; stroke-linecap:butt; stroke-linejoin:round; stroke-width:4; stroke-opacity:1; fill:none\" points=\"\n",
       "  211.114,1035.39 1952.76,1035.39 \n",
       "  \"/>\n",
       "<polyline clip-path=\"url(#clip790)\" style=\"stroke:#000000; stroke-linecap:butt; stroke-linejoin:round; stroke-width:4; stroke-opacity:1; fill:none\" points=\"\n",
       "  442.968,1035.39 442.968,1016.49 \n",
       "  \"/>\n",
       "<polyline clip-path=\"url(#clip790)\" style=\"stroke:#000000; stroke-linecap:butt; stroke-linejoin:round; stroke-width:4; stroke-opacity:1; fill:none\" points=\"\n",
       "  808.092,1035.39 808.092,1016.49 \n",
       "  \"/>\n",
       "<polyline clip-path=\"url(#clip790)\" style=\"stroke:#000000; stroke-linecap:butt; stroke-linejoin:round; stroke-width:4; stroke-opacity:1; fill:none\" points=\"\n",
       "  1173.22,1035.39 1173.22,1016.49 \n",
       "  \"/>\n",
       "<polyline clip-path=\"url(#clip790)\" style=\"stroke:#000000; stroke-linecap:butt; stroke-linejoin:round; stroke-width:4; stroke-opacity:1; fill:none\" points=\"\n",
       "  1538.34,1035.39 1538.34,1016.49 \n",
       "  \"/>\n",
       "<polyline clip-path=\"url(#clip790)\" style=\"stroke:#000000; stroke-linecap:butt; stroke-linejoin:round; stroke-width:4; stroke-opacity:1; fill:none\" points=\"\n",
       "  1903.46,1035.39 1903.46,1016.49 \n",
       "  \"/>\n",
       "<path clip-path=\"url(#clip790)\" d=\"M390.989 1063.11 Q387.378 1063.11 385.549 1066.67 Q383.744 1070.21 383.744 1077.34 Q383.744 1084.45 385.549 1088.01 Q387.378 1091.56 390.989 1091.56 Q394.623 1091.56 396.429 1088.01 Q398.258 1084.45 398.258 1077.34 Q398.258 1070.21 396.429 1066.67 Q394.623 1063.11 390.989 1063.11 M390.989 1059.4 Q396.799 1059.4 399.855 1064.01 Q402.934 1068.59 402.934 1077.34 Q402.934 1086.07 399.855 1090.68 Q396.799 1095.26 390.989 1095.26 Q385.179 1095.26 382.1 1090.68 Q379.045 1086.07 379.045 1077.34 Q379.045 1068.59 382.1 1064.01 Q385.179 1059.4 390.989 1059.4 Z\" fill=\"#000000\" fill-rule=\"evenodd\" fill-opacity=\"1\" /><path clip-path=\"url(#clip790)\" d=\"M411.151 1088.71 L416.035 1088.71 L416.035 1094.59 L411.151 1094.59 L411.151 1088.71 Z\" fill=\"#000000\" fill-rule=\"evenodd\" fill-opacity=\"1\" /><path clip-path=\"url(#clip790)\" d=\"M436.22 1063.11 Q432.609 1063.11 430.781 1066.67 Q428.975 1070.21 428.975 1077.34 Q428.975 1084.45 430.781 1088.01 Q432.609 1091.56 436.22 1091.56 Q439.855 1091.56 441.66 1088.01 Q443.489 1084.45 443.489 1077.34 Q443.489 1070.21 441.66 1066.67 Q439.855 1063.11 436.22 1063.11 M436.22 1059.4 Q442.031 1059.4 445.086 1064.01 Q448.165 1068.59 448.165 1077.34 Q448.165 1086.07 445.086 1090.68 Q442.031 1095.26 436.22 1095.26 Q430.41 1095.26 427.332 1090.68 Q424.276 1086.07 424.276 1077.34 Q424.276 1068.59 427.332 1064.01 Q430.41 1059.4 436.22 1059.4 Z\" fill=\"#000000\" fill-rule=\"evenodd\" fill-opacity=\"1\" /><path clip-path=\"url(#clip790)\" d=\"M466.382 1063.11 Q462.771 1063.11 460.942 1066.67 Q459.137 1070.21 459.137 1077.34 Q459.137 1084.45 460.942 1088.01 Q462.771 1091.56 466.382 1091.56 Q470.016 1091.56 471.822 1088.01 Q473.651 1084.45 473.651 1077.34 Q473.651 1070.21 471.822 1066.67 Q470.016 1063.11 466.382 1063.11 M466.382 1059.4 Q472.192 1059.4 475.248 1064.01 Q478.327 1068.59 478.327 1077.34 Q478.327 1086.07 475.248 1090.68 Q472.192 1095.26 466.382 1095.26 Q460.572 1095.26 457.493 1090.68 Q454.438 1086.07 454.438 1077.34 Q454.438 1068.59 457.493 1064.01 Q460.572 1059.4 466.382 1059.4 Z\" fill=\"#000000\" fill-rule=\"evenodd\" fill-opacity=\"1\" /><path clip-path=\"url(#clip790)\" d=\"M490.572 1090.65 L506.891 1090.65 L506.891 1094.59 L484.947 1094.59 L484.947 1090.65 Q487.609 1087.9 492.192 1083.27 Q496.799 1078.62 497.979 1077.27 Q500.225 1074.75 501.104 1073.01 Q502.007 1071.25 502.007 1069.56 Q502.007 1066.81 500.063 1065.07 Q498.141 1063.34 495.04 1063.34 Q492.84 1063.34 490.387 1064.1 Q487.956 1064.87 485.178 1066.42 L485.178 1061.69 Q488.003 1060.56 490.456 1059.98 Q492.91 1059.4 494.947 1059.4 Q500.317 1059.4 503.512 1062.09 Q506.706 1064.77 506.706 1069.26 Q506.706 1071.39 505.896 1073.31 Q505.109 1075.21 503.002 1077.81 Q502.424 1078.48 499.322 1081.69 Q496.22 1084.89 490.572 1090.65 Z\" fill=\"#000000\" fill-rule=\"evenodd\" fill-opacity=\"1\" /><path clip-path=\"url(#clip790)\" d=\"M755.072 1063.11 Q751.46 1063.11 749.632 1066.67 Q747.826 1070.21 747.826 1077.34 Q747.826 1084.45 749.632 1088.01 Q751.46 1091.56 755.072 1091.56 Q758.706 1091.56 760.511 1088.01 Q762.34 1084.45 762.34 1077.34 Q762.34 1070.21 760.511 1066.67 Q758.706 1063.11 755.072 1063.11 M755.072 1059.4 Q760.882 1059.4 763.937 1064.01 Q767.016 1068.59 767.016 1077.34 Q767.016 1086.07 763.937 1090.68 Q760.882 1095.26 755.072 1095.26 Q749.261 1095.26 746.183 1090.68 Q743.127 1086.07 743.127 1077.34 Q743.127 1068.59 746.183 1064.01 Q749.261 1059.4 755.072 1059.4 Z\" fill=\"#000000\" fill-rule=\"evenodd\" fill-opacity=\"1\" /><path clip-path=\"url(#clip790)\" d=\"M775.233 1088.71 L780.118 1088.71 L780.118 1094.59 L775.233 1094.59 L775.233 1088.71 Z\" fill=\"#000000\" fill-rule=\"evenodd\" fill-opacity=\"1\" /><path clip-path=\"url(#clip790)\" d=\"M800.303 1063.11 Q796.692 1063.11 794.863 1066.67 Q793.057 1070.21 793.057 1077.34 Q793.057 1084.45 794.863 1088.01 Q796.692 1091.56 800.303 1091.56 Q803.937 1091.56 805.743 1088.01 Q807.571 1084.45 807.571 1077.34 Q807.571 1070.21 805.743 1066.67 Q803.937 1063.11 800.303 1063.11 M800.303 1059.4 Q806.113 1059.4 809.168 1064.01 Q812.247 1068.59 812.247 1077.34 Q812.247 1086.07 809.168 1090.68 Q806.113 1095.26 800.303 1095.26 Q794.493 1095.26 791.414 1090.68 Q788.358 1086.07 788.358 1077.34 Q788.358 1068.59 791.414 1064.01 Q794.493 1059.4 800.303 1059.4 Z\" fill=\"#000000\" fill-rule=\"evenodd\" fill-opacity=\"1\" /><path clip-path=\"url(#clip790)\" d=\"M830.465 1063.11 Q826.854 1063.11 825.025 1066.67 Q823.219 1070.21 823.219 1077.34 Q823.219 1084.45 825.025 1088.01 Q826.854 1091.56 830.465 1091.56 Q834.099 1091.56 835.904 1088.01 Q837.733 1084.45 837.733 1077.34 Q837.733 1070.21 835.904 1066.67 Q834.099 1063.11 830.465 1063.11 M830.465 1059.4 Q836.275 1059.4 839.33 1064.01 Q842.409 1068.59 842.409 1077.34 Q842.409 1086.07 839.33 1090.68 Q836.275 1095.26 830.465 1095.26 Q824.654 1095.26 821.576 1090.68 Q818.52 1086.07 818.52 1077.34 Q818.52 1068.59 821.576 1064.01 Q824.654 1059.4 830.465 1059.4 Z\" fill=\"#000000\" fill-rule=\"evenodd\" fill-opacity=\"1\" /><path clip-path=\"url(#clip790)\" d=\"M863.474 1064.1 L851.668 1082.55 L863.474 1082.55 L863.474 1064.1 M862.247 1060.03 L868.126 1060.03 L868.126 1082.55 L873.057 1082.55 L873.057 1086.44 L868.126 1086.44 L868.126 1094.59 L863.474 1094.59 L863.474 1086.44 L847.872 1086.44 L847.872 1081.93 L862.247 1060.03 Z\" fill=\"#000000\" fill-rule=\"evenodd\" fill-opacity=\"1\" /><path clip-path=\"url(#clip790)\" d=\"M1120.36 1063.11 Q1116.75 1063.11 1114.92 1066.67 Q1113.11 1070.21 1113.11 1077.34 Q1113.11 1084.45 1114.92 1088.01 Q1116.75 1091.56 1120.36 1091.56 Q1123.99 1091.56 1125.8 1088.01 Q1127.63 1084.45 1127.63 1077.34 Q1127.63 1070.21 1125.8 1066.67 Q1123.99 1063.11 1120.36 1063.11 M1120.36 1059.4 Q1126.17 1059.4 1129.22 1064.01 Q1132.3 1068.59 1132.3 1077.34 Q1132.3 1086.07 1129.22 1090.68 Q1126.17 1095.26 1120.36 1095.26 Q1114.55 1095.26 1111.47 1090.68 Q1108.41 1086.07 1108.41 1077.34 Q1108.41 1068.59 1111.47 1064.01 Q1114.55 1059.4 1120.36 1059.4 Z\" fill=\"#000000\" fill-rule=\"evenodd\" fill-opacity=\"1\" /><path clip-path=\"url(#clip790)\" d=\"M1140.52 1088.71 L1145.4 1088.71 L1145.4 1094.59 L1140.52 1094.59 L1140.52 1088.71 Z\" fill=\"#000000\" fill-rule=\"evenodd\" fill-opacity=\"1\" /><path clip-path=\"url(#clip790)\" d=\"M1165.59 1063.11 Q1161.98 1063.11 1160.15 1066.67 Q1158.34 1070.21 1158.34 1077.34 Q1158.34 1084.45 1160.15 1088.01 Q1161.98 1091.56 1165.59 1091.56 Q1169.22 1091.56 1171.03 1088.01 Q1172.86 1084.45 1172.86 1077.34 Q1172.86 1070.21 1171.03 1066.67 Q1169.22 1063.11 1165.59 1063.11 M1165.59 1059.4 Q1171.4 1059.4 1174.45 1064.01 Q1177.53 1068.59 1177.53 1077.34 Q1177.53 1086.07 1174.45 1090.68 Q1171.4 1095.26 1165.59 1095.26 Q1159.78 1095.26 1156.7 1090.68 Q1153.64 1086.07 1153.64 1077.34 Q1153.64 1068.59 1156.7 1064.01 Q1159.78 1059.4 1165.59 1059.4 Z\" fill=\"#000000\" fill-rule=\"evenodd\" fill-opacity=\"1\" /><path clip-path=\"url(#clip790)\" d=\"M1195.75 1063.11 Q1192.14 1063.11 1190.31 1066.67 Q1188.51 1070.21 1188.51 1077.34 Q1188.51 1084.45 1190.31 1088.01 Q1192.14 1091.56 1195.75 1091.56 Q1199.38 1091.56 1201.19 1088.01 Q1203.02 1084.45 1203.02 1077.34 Q1203.02 1070.21 1201.19 1066.67 Q1199.38 1063.11 1195.75 1063.11 M1195.75 1059.4 Q1201.56 1059.4 1204.62 1064.01 Q1207.7 1068.59 1207.7 1077.34 Q1207.7 1086.07 1204.62 1090.68 Q1201.56 1095.26 1195.75 1095.26 Q1189.94 1095.26 1186.86 1090.68 Q1183.81 1086.07 1183.81 1077.34 Q1183.81 1068.59 1186.86 1064.01 Q1189.94 1059.4 1195.75 1059.4 Z\" fill=\"#000000\" fill-rule=\"evenodd\" fill-opacity=\"1\" /><path clip-path=\"url(#clip790)\" d=\"M1226.49 1075.44 Q1223.34 1075.44 1221.49 1077.6 Q1219.66 1079.75 1219.66 1083.5 Q1219.66 1087.23 1221.49 1089.4 Q1223.34 1091.56 1226.49 1091.56 Q1229.64 1091.56 1231.47 1089.4 Q1233.32 1087.23 1233.32 1083.5 Q1233.32 1079.75 1231.47 1077.6 Q1229.64 1075.44 1226.49 1075.44 M1235.77 1060.79 L1235.77 1065.05 Q1234.01 1064.22 1232.21 1063.78 Q1230.43 1063.34 1228.67 1063.34 Q1224.04 1063.34 1221.58 1066.46 Q1219.15 1069.59 1218.81 1075.91 Q1220.17 1073.89 1222.23 1072.83 Q1224.29 1071.74 1226.77 1071.74 Q1231.98 1071.74 1234.99 1074.91 Q1238.02 1078.06 1238.02 1083.5 Q1238.02 1088.82 1234.87 1092.04 Q1231.72 1095.26 1226.49 1095.26 Q1220.5 1095.26 1217.32 1090.68 Q1214.15 1086.07 1214.15 1077.34 Q1214.15 1069.15 1218.04 1064.29 Q1221.93 1059.4 1228.48 1059.4 Q1230.24 1059.4 1232.02 1059.75 Q1233.83 1060.1 1235.77 1060.79 Z\" fill=\"#000000\" fill-rule=\"evenodd\" fill-opacity=\"1\" /><path clip-path=\"url(#clip790)\" d=\"M1485.61 1063.11 Q1482 1063.11 1480.17 1066.67 Q1478.36 1070.21 1478.36 1077.34 Q1478.36 1084.45 1480.17 1088.01 Q1482 1091.56 1485.61 1091.56 Q1489.24 1091.56 1491.05 1088.01 Q1492.88 1084.45 1492.88 1077.34 Q1492.88 1070.21 1491.05 1066.67 Q1489.24 1063.11 1485.61 1063.11 M1485.61 1059.4 Q1491.42 1059.4 1494.47 1064.01 Q1497.55 1068.59 1497.55 1077.34 Q1497.55 1086.07 1494.47 1090.68 Q1491.42 1095.26 1485.61 1095.26 Q1479.8 1095.26 1476.72 1090.68 Q1473.66 1086.07 1473.66 1077.34 Q1473.66 1068.59 1476.72 1064.01 Q1479.8 1059.4 1485.61 1059.4 Z\" fill=\"#000000\" fill-rule=\"evenodd\" fill-opacity=\"1\" /><path clip-path=\"url(#clip790)\" d=\"M1505.77 1088.71 L1510.66 1088.71 L1510.66 1094.59 L1505.77 1094.59 L1505.77 1088.71 Z\" fill=\"#000000\" fill-rule=\"evenodd\" fill-opacity=\"1\" /><path clip-path=\"url(#clip790)\" d=\"M1530.84 1063.11 Q1527.23 1063.11 1525.4 1066.67 Q1523.59 1070.21 1523.59 1077.34 Q1523.59 1084.45 1525.4 1088.01 Q1527.23 1091.56 1530.84 1091.56 Q1534.47 1091.56 1536.28 1088.01 Q1538.11 1084.45 1538.11 1077.34 Q1538.11 1070.21 1536.28 1066.67 Q1534.47 1063.11 1530.84 1063.11 M1530.84 1059.4 Q1536.65 1059.4 1539.71 1064.01 Q1542.78 1068.59 1542.78 1077.34 Q1542.78 1086.07 1539.71 1090.68 Q1536.65 1095.26 1530.84 1095.26 Q1525.03 1095.26 1521.95 1090.68 Q1518.9 1086.07 1518.9 1077.34 Q1518.9 1068.59 1521.95 1064.01 Q1525.03 1059.4 1530.84 1059.4 Z\" fill=\"#000000\" fill-rule=\"evenodd\" fill-opacity=\"1\" /><path clip-path=\"url(#clip790)\" d=\"M1561 1063.11 Q1557.39 1063.11 1555.56 1066.67 Q1553.76 1070.21 1553.76 1077.34 Q1553.76 1084.45 1555.56 1088.01 Q1557.39 1091.56 1561 1091.56 Q1564.64 1091.56 1566.44 1088.01 Q1568.27 1084.45 1568.27 1077.34 Q1568.27 1070.21 1566.44 1066.67 Q1564.64 1063.11 1561 1063.11 M1561 1059.4 Q1566.81 1059.4 1569.87 1064.01 Q1572.95 1068.59 1572.95 1077.34 Q1572.95 1086.07 1569.87 1090.68 Q1566.81 1095.26 1561 1095.26 Q1555.19 1095.26 1552.11 1090.68 Q1549.06 1086.07 1549.06 1077.34 Q1549.06 1068.59 1552.11 1064.01 Q1555.19 1059.4 1561 1059.4 Z\" fill=\"#000000\" fill-rule=\"evenodd\" fill-opacity=\"1\" /><path clip-path=\"url(#clip790)\" d=\"M1591.16 1078.18 Q1587.83 1078.18 1585.91 1079.96 Q1584.01 1081.74 1584.01 1084.87 Q1584.01 1087.99 1585.91 1089.77 Q1587.83 1091.56 1591.16 1091.56 Q1594.5 1091.56 1596.42 1089.77 Q1598.34 1087.97 1598.34 1084.87 Q1598.34 1081.74 1596.42 1079.96 Q1594.52 1078.18 1591.16 1078.18 M1586.49 1076.19 Q1583.48 1075.44 1581.79 1073.38 Q1580.12 1071.32 1580.12 1068.36 Q1580.12 1064.22 1583.06 1061.81 Q1586.03 1059.4 1591.16 1059.4 Q1596.33 1059.4 1599.27 1061.81 Q1602.21 1064.22 1602.21 1068.36 Q1602.21 1071.32 1600.52 1073.38 Q1598.85 1075.44 1595.86 1076.19 Q1599.24 1076.97 1601.12 1079.26 Q1603.02 1081.56 1603.02 1084.87 Q1603.02 1089.89 1599.94 1092.57 Q1596.88 1095.26 1591.16 1095.26 Q1585.45 1095.26 1582.37 1092.57 Q1579.31 1089.89 1579.31 1084.87 Q1579.31 1081.56 1581.21 1079.26 Q1583.11 1076.97 1586.49 1076.19 M1584.78 1068.8 Q1584.78 1071.49 1586.44 1072.99 Q1588.13 1074.5 1591.16 1074.5 Q1594.17 1074.5 1595.86 1072.99 Q1597.58 1071.49 1597.58 1068.8 Q1597.58 1066.12 1595.86 1064.61 Q1594.17 1063.11 1591.16 1063.11 Q1588.13 1063.11 1586.44 1064.61 Q1584.78 1066.12 1584.78 1068.8 Z\" fill=\"#000000\" fill-rule=\"evenodd\" fill-opacity=\"1\" /><path clip-path=\"url(#clip790)\" d=\"M1850.69 1063.11 Q1847.08 1063.11 1845.25 1066.67 Q1843.44 1070.21 1843.44 1077.34 Q1843.44 1084.45 1845.25 1088.01 Q1847.08 1091.56 1850.69 1091.56 Q1854.32 1091.56 1856.13 1088.01 Q1857.96 1084.45 1857.96 1077.34 Q1857.96 1070.21 1856.13 1066.67 Q1854.32 1063.11 1850.69 1063.11 M1850.69 1059.4 Q1856.5 1059.4 1859.55 1064.01 Q1862.63 1068.59 1862.63 1077.34 Q1862.63 1086.07 1859.55 1090.68 Q1856.5 1095.26 1850.69 1095.26 Q1844.88 1095.26 1841.8 1090.68 Q1838.74 1086.07 1838.74 1077.34 Q1838.74 1068.59 1841.8 1064.01 Q1844.88 1059.4 1850.69 1059.4 Z\" fill=\"#000000\" fill-rule=\"evenodd\" fill-opacity=\"1\" /><path clip-path=\"url(#clip790)\" d=\"M1870.85 1088.71 L1875.73 1088.71 L1875.73 1094.59 L1870.85 1094.59 L1870.85 1088.71 Z\" fill=\"#000000\" fill-rule=\"evenodd\" fill-opacity=\"1\" /><path clip-path=\"url(#clip790)\" d=\"M1895.92 1063.11 Q1892.31 1063.11 1890.48 1066.67 Q1888.67 1070.21 1888.67 1077.34 Q1888.67 1084.45 1890.48 1088.01 Q1892.31 1091.56 1895.92 1091.56 Q1899.55 1091.56 1901.36 1088.01 Q1903.19 1084.45 1903.19 1077.34 Q1903.19 1070.21 1901.36 1066.67 Q1899.55 1063.11 1895.92 1063.11 M1895.92 1059.4 Q1901.73 1059.4 1904.78 1064.01 Q1907.86 1068.59 1907.86 1077.34 Q1907.86 1086.07 1904.78 1090.68 Q1901.73 1095.26 1895.92 1095.26 Q1890.11 1095.26 1887.03 1090.68 Q1883.97 1086.07 1883.97 1077.34 Q1883.97 1068.59 1887.03 1064.01 Q1890.11 1059.4 1895.92 1059.4 Z\" fill=\"#000000\" fill-rule=\"evenodd\" fill-opacity=\"1\" /><path clip-path=\"url(#clip790)\" d=\"M1916.89 1090.65 L1924.53 1090.65 L1924.53 1064.29 L1916.22 1065.95 L1916.22 1061.69 L1924.48 1060.03 L1929.16 1060.03 L1929.16 1090.65 L1936.8 1090.65 L1936.8 1094.59 L1916.89 1094.59 L1916.89 1090.65 Z\" fill=\"#000000\" fill-rule=\"evenodd\" fill-opacity=\"1\" /><path clip-path=\"url(#clip790)\" d=\"M1956.24 1063.11 Q1952.63 1063.11 1950.8 1066.67 Q1949 1070.21 1949 1077.34 Q1949 1084.45 1950.8 1088.01 Q1952.63 1091.56 1956.24 1091.56 Q1959.88 1091.56 1961.68 1088.01 Q1963.51 1084.45 1963.51 1077.34 Q1963.51 1070.21 1961.68 1066.67 Q1959.88 1063.11 1956.24 1063.11 M1956.24 1059.4 Q1962.05 1059.4 1965.11 1064.01 Q1968.19 1068.59 1968.19 1077.34 Q1968.19 1086.07 1965.11 1090.68 Q1962.05 1095.26 1956.24 1095.26 Q1950.43 1095.26 1947.35 1090.68 Q1944.3 1086.07 1944.3 1077.34 Q1944.3 1068.59 1947.35 1064.01 Q1950.43 1059.4 1956.24 1059.4 Z\" fill=\"#000000\" fill-rule=\"evenodd\" fill-opacity=\"1\" /><path clip-path=\"url(#clip790)\" d=\"M956.865 1126.73 L963.294 1126.73 L963.294 1168.84 L986.434 1168.84 L986.434 1174.25 L956.865 1174.25 L956.865 1126.73 Z\" fill=\"#000000\" fill-rule=\"evenodd\" fill-opacity=\"1\" /><path clip-path=\"url(#clip790)\" d=\"M1009.13 1156.33 Q1002.03 1156.33 999.292 1157.96 Q996.555 1159.58 996.555 1163.49 Q996.555 1166.61 998.592 1168.46 Q1000.66 1170.27 1004.19 1170.27 Q1009.06 1170.27 1011.99 1166.84 Q1014.95 1163.37 1014.95 1157.64 L1014.95 1156.33 L1009.13 1156.33 M1020.81 1153.91 L1020.81 1174.25 L1014.95 1174.25 L1014.95 1168.84 Q1012.95 1172.09 1009.95 1173.65 Q1006.96 1175.17 1002.63 1175.17 Q997.16 1175.17 993.913 1172.12 Q990.699 1169.03 990.699 1163.88 Q990.699 1157.86 994.709 1154.8 Q998.751 1151.75 1006.74 1151.75 L1014.95 1151.75 L1014.95 1151.18 Q1014.95 1147.13 1012.28 1144.94 Q1009.64 1142.71 1004.83 1142.71 Q1001.77 1142.71 998.879 1143.44 Q995.982 1144.17 993.309 1145.64 L993.309 1140.23 Q996.523 1138.99 999.547 1138.38 Q1002.57 1137.74 1005.44 1137.74 Q1013.17 1137.74 1016.99 1141.75 Q1020.81 1145.77 1020.81 1153.91 Z\" fill=\"#000000\" fill-rule=\"evenodd\" fill-opacity=\"1\" /><path clip-path=\"url(#clip790)\" d=\"M1060.63 1145.45 Q1062.82 1141.5 1065.88 1139.62 Q1068.93 1137.74 1073.07 1137.74 Q1078.64 1137.74 1081.66 1141.66 Q1084.69 1145.54 1084.69 1152.74 L1084.69 1174.25 L1078.8 1174.25 L1078.8 1152.93 Q1078.8 1147.8 1076.99 1145.32 Q1075.17 1142.84 1071.45 1142.84 Q1066.9 1142.84 1064.25 1145.86 Q1061.61 1148.88 1061.61 1154.1 L1061.61 1174.25 L1055.72 1174.25 L1055.72 1152.93 Q1055.72 1147.77 1053.91 1145.32 Q1052.1 1142.84 1048.31 1142.84 Q1043.82 1142.84 1041.18 1145.89 Q1038.54 1148.92 1038.54 1154.1 L1038.54 1174.25 L1032.65 1174.25 L1032.65 1138.6 L1038.54 1138.6 L1038.54 1144.14 Q1040.54 1140.86 1043.34 1139.3 Q1046.14 1137.74 1050 1137.74 Q1053.88 1137.74 1056.58 1139.72 Q1059.32 1141.69 1060.63 1145.45 Z\" fill=\"#000000\" fill-rule=\"evenodd\" fill-opacity=\"1\" /><path clip-path=\"url(#clip790)\" d=\"M1121.96 1156.46 Q1121.96 1150 1119.29 1146.34 Q1116.64 1142.65 1112 1142.65 Q1107.35 1142.65 1104.68 1146.34 Q1102.03 1150 1102.03 1156.46 Q1102.03 1162.92 1104.68 1166.61 Q1107.35 1170.27 1112 1170.27 Q1116.64 1170.27 1119.29 1166.61 Q1121.96 1162.92 1121.96 1156.46 M1102.03 1144.01 Q1103.88 1140.83 1106.68 1139.3 Q1109.51 1137.74 1113.43 1137.74 Q1119.92 1137.74 1123.96 1142.9 Q1128.04 1148.06 1128.04 1156.46 Q1128.04 1164.86 1123.96 1170.02 Q1119.92 1175.17 1113.43 1175.17 Q1109.51 1175.17 1106.68 1173.65 Q1103.88 1172.09 1102.03 1168.9 L1102.03 1174.25 L1096.15 1174.25 L1096.15 1124.73 L1102.03 1124.73 L1102.03 1144.01 Z\" fill=\"#000000\" fill-rule=\"evenodd\" fill-opacity=\"1\" /><path clip-path=\"url(#clip790)\" d=\"M1161.2 1144.01 L1161.2 1124.73 L1167.06 1124.73 L1167.06 1174.25 L1161.2 1174.25 L1161.2 1168.9 Q1159.36 1172.09 1156.53 1173.65 Q1153.72 1175.17 1149.78 1175.17 Q1143.32 1175.17 1139.24 1170.02 Q1135.2 1164.86 1135.2 1156.46 Q1135.2 1148.06 1139.24 1142.9 Q1143.32 1137.74 1149.78 1137.74 Q1153.72 1137.74 1156.53 1139.3 Q1159.36 1140.83 1161.2 1144.01 M1141.25 1156.46 Q1141.25 1162.92 1143.89 1166.61 Q1146.56 1170.27 1151.21 1170.27 Q1155.86 1170.27 1158.53 1166.61 Q1161.2 1162.92 1161.2 1156.46 Q1161.2 1150 1158.53 1146.34 Q1155.86 1142.65 1151.21 1142.65 Q1146.56 1142.65 1143.89 1146.34 Q1141.25 1150 1141.25 1156.46 Z\" fill=\"#000000\" fill-rule=\"evenodd\" fill-opacity=\"1\" /><path clip-path=\"url(#clip790)\" d=\"M1195.32 1156.33 Q1188.23 1156.33 1185.49 1157.96 Q1182.75 1159.58 1182.75 1163.49 Q1182.75 1166.61 1184.79 1168.46 Q1186.86 1170.27 1190.39 1170.27 Q1195.26 1170.27 1198.19 1166.84 Q1201.15 1163.37 1201.15 1157.64 L1201.15 1156.33 L1195.32 1156.33 M1207.01 1153.91 L1207.01 1174.25 L1201.15 1174.25 L1201.15 1168.84 Q1199.14 1172.09 1196.15 1173.65 Q1193.16 1175.17 1188.83 1175.17 Q1183.36 1175.17 1180.11 1172.12 Q1176.9 1169.03 1176.9 1163.88 Q1176.9 1157.86 1180.91 1154.8 Q1184.95 1151.75 1192.94 1151.75 L1201.15 1151.75 L1201.15 1151.18 Q1201.15 1147.13 1198.48 1144.94 Q1195.83 1142.71 1191.03 1142.71 Q1187.97 1142.71 1185.08 1143.44 Q1182.18 1144.17 1179.51 1145.64 L1179.51 1140.23 Q1182.72 1138.99 1185.74 1138.38 Q1188.77 1137.74 1191.63 1137.74 Q1199.37 1137.74 1203.19 1141.75 Q1207.01 1145.77 1207.01 1153.91 Z\" fill=\"#000000\" fill-rule=\"evenodd\" fill-opacity=\"1\" /><polyline clip-path=\"url(#clip792)\" style=\"stroke:#000000; stroke-linecap:butt; stroke-linejoin:round; stroke-width:2; stroke-opacity:0.1; fill:none\" points=\"\n",
       "  211.114,1021.47 1952.76,1021.47 \n",
       "  \"/>\n",
       "<polyline clip-path=\"url(#clip792)\" style=\"stroke:#000000; stroke-linecap:butt; stroke-linejoin:round; stroke-width:2; stroke-opacity:0.1; fill:none\" points=\"\n",
       "  211.114,789.881 1952.76,789.881 \n",
       "  \"/>\n",
       "<polyline clip-path=\"url(#clip792)\" style=\"stroke:#000000; stroke-linecap:butt; stroke-linejoin:round; stroke-width:2; stroke-opacity:0.1; fill:none\" points=\"\n",
       "  211.114,558.293 1952.76,558.293 \n",
       "  \"/>\n",
       "<polyline clip-path=\"url(#clip792)\" style=\"stroke:#000000; stroke-linecap:butt; stroke-linejoin:round; stroke-width:2; stroke-opacity:0.1; fill:none\" points=\"\n",
       "  211.114,326.705 1952.76,326.705 \n",
       "  \"/>\n",
       "<polyline clip-path=\"url(#clip790)\" style=\"stroke:#000000; stroke-linecap:butt; stroke-linejoin:round; stroke-width:4; stroke-opacity:1; fill:none\" points=\"\n",
       "  211.114,1035.39 211.114,117.424 \n",
       "  \"/>\n",
       "<polyline clip-path=\"url(#clip790)\" style=\"stroke:#000000; stroke-linecap:butt; stroke-linejoin:round; stroke-width:4; stroke-opacity:1; fill:none\" points=\"\n",
       "  211.114,1021.47 230.012,1021.47 \n",
       "  \"/>\n",
       "<polyline clip-path=\"url(#clip790)\" style=\"stroke:#000000; stroke-linecap:butt; stroke-linejoin:round; stroke-width:4; stroke-opacity:1; fill:none\" points=\"\n",
       "  211.114,789.881 230.012,789.881 \n",
       "  \"/>\n",
       "<polyline clip-path=\"url(#clip790)\" style=\"stroke:#000000; stroke-linecap:butt; stroke-linejoin:round; stroke-width:4; stroke-opacity:1; fill:none\" points=\"\n",
       "  211.114,558.293 230.012,558.293 \n",
       "  \"/>\n",
       "<polyline clip-path=\"url(#clip790)\" style=\"stroke:#000000; stroke-linecap:butt; stroke-linejoin:round; stroke-width:4; stroke-opacity:1; fill:none\" points=\"\n",
       "  211.114,326.705 230.012,326.705 \n",
       "  \"/>\n",
       "<path clip-path=\"url(#clip790)\" d=\"M123.453 1007.27 Q119.841 1007.27 118.013 1010.83 Q116.207 1014.37 116.207 1021.5 Q116.207 1028.61 118.013 1032.17 Q119.841 1035.72 123.453 1035.72 Q127.087 1035.72 128.892 1032.17 Q130.721 1028.61 130.721 1021.5 Q130.721 1014.37 128.892 1010.83 Q127.087 1007.27 123.453 1007.27 M123.453 1003.56 Q129.263 1003.56 132.318 1008.17 Q135.397 1012.75 135.397 1021.5 Q135.397 1030.23 132.318 1034.84 Q129.263 1039.42 123.453 1039.42 Q117.642 1039.42 114.564 1034.84 Q111.508 1030.23 111.508 1021.5 Q111.508 1012.75 114.564 1008.17 Q117.642 1003.56 123.453 1003.56 Z\" fill=\"#000000\" fill-rule=\"evenodd\" fill-opacity=\"1\" /><path clip-path=\"url(#clip790)\" d=\"M143.614 1032.87 L148.499 1032.87 L148.499 1038.75 L143.614 1038.75 L143.614 1032.87 Z\" fill=\"#000000\" fill-rule=\"evenodd\" fill-opacity=\"1\" /><path clip-path=\"url(#clip790)\" d=\"M171.531 1008.26 L159.725 1026.71 L171.531 1026.71 L171.531 1008.26 M170.304 1004.19 L176.184 1004.19 L176.184 1026.71 L181.114 1026.71 L181.114 1030.6 L176.184 1030.6 L176.184 1038.75 L171.531 1038.75 L171.531 1030.6 L155.929 1030.6 L155.929 1026.09 L170.304 1004.19 Z\" fill=\"#000000\" fill-rule=\"evenodd\" fill-opacity=\"1\" /><path clip-path=\"url(#clip790)\" d=\"M123.777 775.68 Q120.166 775.68 118.337 779.244 Q116.531 782.786 116.531 789.916 Q116.531 797.022 118.337 800.587 Q120.166 804.129 123.777 804.129 Q127.411 804.129 129.216 800.587 Q131.045 797.022 131.045 789.916 Q131.045 782.786 129.216 779.244 Q127.411 775.68 123.777 775.68 M123.777 771.976 Q129.587 771.976 132.642 776.582 Q135.721 781.166 135.721 789.916 Q135.721 798.642 132.642 803.249 Q129.587 807.832 123.777 807.832 Q117.966 807.832 114.888 803.249 Q111.832 798.642 111.832 789.916 Q111.832 781.166 114.888 776.582 Q117.966 771.976 123.777 771.976 Z\" fill=\"#000000\" fill-rule=\"evenodd\" fill-opacity=\"1\" /><path clip-path=\"url(#clip790)\" d=\"M143.939 801.281 L148.823 801.281 L148.823 807.161 L143.939 807.161 L143.939 801.281 Z\" fill=\"#000000\" fill-rule=\"evenodd\" fill-opacity=\"1\" /><path clip-path=\"url(#clip790)\" d=\"M169.587 788.018 Q166.438 788.018 164.587 790.17 Q162.758 792.323 162.758 796.073 Q162.758 799.8 164.587 801.976 Q166.438 804.129 169.587 804.129 Q172.735 804.129 174.563 801.976 Q176.415 799.8 176.415 796.073 Q176.415 792.323 174.563 790.17 Q172.735 788.018 169.587 788.018 M178.869 773.365 L178.869 777.624 Q177.11 776.791 175.304 776.351 Q173.522 775.911 171.762 775.911 Q167.133 775.911 164.679 779.036 Q162.249 782.161 161.901 788.48 Q163.267 786.467 165.327 785.402 Q167.387 784.314 169.864 784.314 Q175.073 784.314 178.082 787.485 Q181.114 790.633 181.114 796.073 Q181.114 801.397 177.966 804.615 Q174.818 807.832 169.587 807.832 Q163.591 807.832 160.42 803.249 Q157.249 798.642 157.249 789.916 Q157.249 781.721 161.138 776.86 Q165.026 771.976 171.577 771.976 Q173.337 771.976 175.119 772.323 Q176.924 772.67 178.869 773.365 Z\" fill=\"#000000\" fill-rule=\"evenodd\" fill-opacity=\"1\" /><path clip-path=\"url(#clip790)\" d=\"M124.031 544.092 Q120.42 544.092 118.591 547.657 Q116.786 551.198 116.786 558.328 Q116.786 565.434 118.591 568.999 Q120.42 572.541 124.031 572.541 Q127.665 572.541 129.471 568.999 Q131.3 565.434 131.3 558.328 Q131.3 551.198 129.471 547.657 Q127.665 544.092 124.031 544.092 M124.031 540.388 Q129.841 540.388 132.897 544.995 Q135.976 549.578 135.976 558.328 Q135.976 567.055 132.897 571.661 Q129.841 576.244 124.031 576.244 Q118.221 576.244 115.142 571.661 Q112.087 567.055 112.087 558.328 Q112.087 549.578 115.142 544.995 Q118.221 540.388 124.031 540.388 Z\" fill=\"#000000\" fill-rule=\"evenodd\" fill-opacity=\"1\" /><path clip-path=\"url(#clip790)\" d=\"M144.193 569.694 L149.077 569.694 L149.077 575.573 L144.193 575.573 L144.193 569.694 Z\" fill=\"#000000\" fill-rule=\"evenodd\" fill-opacity=\"1\" /><path clip-path=\"url(#clip790)\" d=\"M169.262 559.161 Q165.929 559.161 164.008 560.944 Q162.11 562.726 162.11 565.851 Q162.11 568.976 164.008 570.758 Q165.929 572.541 169.262 572.541 Q172.596 572.541 174.517 570.758 Q176.438 568.953 176.438 565.851 Q176.438 562.726 174.517 560.944 Q172.619 559.161 169.262 559.161 M164.587 557.171 Q161.577 556.43 159.888 554.37 Q158.221 552.309 158.221 549.346 Q158.221 545.203 161.161 542.796 Q164.124 540.388 169.262 540.388 Q174.424 540.388 177.364 542.796 Q180.304 545.203 180.304 549.346 Q180.304 552.309 178.614 554.37 Q176.948 556.43 173.962 557.171 Q177.341 557.958 179.216 560.249 Q181.114 562.541 181.114 565.851 Q181.114 570.874 178.036 573.559 Q174.98 576.244 169.262 576.244 Q163.545 576.244 160.466 573.559 Q157.411 570.874 157.411 565.851 Q157.411 562.541 159.309 560.249 Q161.207 557.958 164.587 557.171 M162.874 549.786 Q162.874 552.471 164.54 553.976 Q166.23 555.481 169.262 555.481 Q172.272 555.481 173.962 553.976 Q175.674 552.471 175.674 549.786 Q175.674 547.101 173.962 545.597 Q172.272 544.092 169.262 544.092 Q166.23 544.092 164.54 545.597 Q162.874 547.101 162.874 549.786 Z\" fill=\"#000000\" fill-rule=\"evenodd\" fill-opacity=\"1\" /><path clip-path=\"url(#clip790)\" d=\"M114.749 340.05 L122.388 340.05 L122.388 313.685 L114.078 315.351 L114.078 311.092 L122.341 309.425 L127.017 309.425 L127.017 340.05 L134.656 340.05 L134.656 343.985 L114.749 343.985 L114.749 340.05 Z\" fill=\"#000000\" fill-rule=\"evenodd\" fill-opacity=\"1\" /><path clip-path=\"url(#clip790)\" d=\"M144.101 338.106 L148.985 338.106 L148.985 343.985 L144.101 343.985 L144.101 338.106 Z\" fill=\"#000000\" fill-rule=\"evenodd\" fill-opacity=\"1\" /><path clip-path=\"url(#clip790)\" d=\"M169.17 312.504 Q165.559 312.504 163.73 316.069 Q161.925 319.611 161.925 326.74 Q161.925 333.847 163.73 337.411 Q165.559 340.953 169.17 340.953 Q172.804 340.953 174.61 337.411 Q176.438 333.847 176.438 326.74 Q176.438 319.611 174.61 316.069 Q172.804 312.504 169.17 312.504 M169.17 308.8 Q174.98 308.8 178.036 313.407 Q181.114 317.99 181.114 326.74 Q181.114 335.467 178.036 340.073 Q174.98 344.657 169.17 344.657 Q163.36 344.657 160.281 340.073 Q157.226 335.467 157.226 326.74 Q157.226 317.99 160.281 313.407 Q163.36 308.8 169.17 308.8 Z\" fill=\"#000000\" fill-rule=\"evenodd\" fill-opacity=\"1\" /><path clip-path=\"url(#clip790)\" d=\"M23.3924 835.172 L30.1719 835.172 Q27.1482 838.418 25.6523 842.111 Q24.1563 845.771 24.1563 849.909 Q24.1563 858.057 29.1534 862.385 Q34.1187 866.714 43.5399 866.714 Q52.9293 866.714 57.9264 862.385 Q62.8916 858.057 62.8916 849.909 Q62.8916 845.771 61.3957 842.111 Q59.8998 838.418 56.8761 835.172 L63.5919 835.172 Q65.8835 838.546 67.0294 842.333 Q68.1752 846.089 68.1752 850.291 Q68.1752 861.08 61.5867 867.287 Q54.9663 873.494 43.5399 873.494 Q32.0816 873.494 25.4931 867.287 Q18.8728 861.08 18.8728 850.291 Q18.8728 846.025 20.0186 842.27 Q21.1326 838.482 23.3924 835.172 Z\" fill=\"#000000\" fill-rule=\"evenodd\" fill-opacity=\"1\" /><path clip-path=\"url(#clip790)\" d=\"M37.0787 804.839 Q36.5058 805.826 36.2512 807.004 Q35.9647 808.15 35.9647 809.55 Q35.9647 814.515 39.2112 817.189 Q42.4259 819.831 48.4733 819.831 L67.2522 819.831 L67.2522 825.719 L31.6042 825.719 L31.6042 819.831 L37.1424 819.831 Q33.8959 817.985 32.3363 815.024 Q30.7448 812.064 30.7448 807.831 Q30.7448 807.227 30.8403 806.494 Q30.904 805.762 31.0631 804.871 L37.0787 804.839 Z\" fill=\"#000000\" fill-rule=\"evenodd\" fill-opacity=\"1\" /><path clip-path=\"url(#clip790)\" d=\"M35.7101 786.315 Q35.7101 791.026 39.4022 793.763 Q43.0625 796.5 49.46 796.5 Q55.8575 796.5 59.5497 793.795 Q63.2099 791.058 63.2099 786.315 Q63.2099 781.636 59.5178 778.899 Q55.8257 776.162 49.46 776.162 Q43.1261 776.162 39.434 778.899 Q35.7101 781.636 35.7101 786.315 M30.7448 786.315 Q30.7448 778.676 35.7101 774.316 Q40.6753 769.955 49.46 769.955 Q58.2129 769.955 63.2099 774.316 Q68.1752 778.676 68.1752 786.315 Q68.1752 793.986 63.2099 798.346 Q58.2129 802.675 49.46 802.675 Q40.6753 802.675 35.7101 798.346 Q30.7448 793.986 30.7448 786.315 Z\" fill=\"#000000\" fill-rule=\"evenodd\" fill-opacity=\"1\" /><path clip-path=\"url(#clip790)\" d=\"M32.6545 737.522 L38.1927 737.522 Q36.9196 740.005 36.283 742.678 Q35.6464 745.352 35.6464 748.216 Q35.6464 752.577 36.9832 754.773 Q38.32 756.937 40.9936 756.937 Q43.0306 756.937 44.2083 755.378 Q45.3541 753.818 46.4045 749.108 L46.8501 747.102 Q48.1869 740.864 50.6377 738.254 Q53.0566 735.612 57.4171 735.612 Q62.3824 735.612 65.2788 739.559 Q68.1752 743.474 68.1752 750.349 Q68.1752 753.213 67.6023 756.333 Q67.0612 759.42 65.9472 762.858 L59.8998 762.858 Q61.5867 759.611 62.446 756.46 Q63.2736 753.309 63.2736 750.222 Q63.2736 746.084 61.8731 743.856 Q60.4409 741.628 57.8627 741.628 Q55.4756 741.628 54.2025 743.251 Q52.9293 744.843 51.7517 750.285 L51.2742 752.322 Q50.1284 757.765 47.7731 760.184 Q45.386 762.603 41.2482 762.603 Q36.2193 762.603 33.4821 759.038 Q30.7448 755.473 30.7448 748.917 Q30.7448 745.67 31.2223 742.806 Q31.6997 739.941 32.6545 737.522 Z\" fill=\"#000000\" fill-rule=\"evenodd\" fill-opacity=\"1\" /><path clip-path=\"url(#clip790)\" d=\"M32.6545 703.561 L38.1927 703.561 Q36.9196 706.044 36.283 708.717 Q35.6464 711.391 35.6464 714.255 Q35.6464 718.616 36.9832 720.812 Q38.32 722.976 40.9936 722.976 Q43.0306 722.976 44.2083 721.417 Q45.3541 719.857 46.4045 715.147 L46.8501 713.141 Q48.1869 706.903 50.6377 704.293 Q53.0566 701.651 57.4171 701.651 Q62.3824 701.651 65.2788 705.598 Q68.1752 709.513 68.1752 716.388 Q68.1752 719.252 67.6023 722.372 Q67.0612 725.459 65.9472 728.896 L59.8998 728.896 Q61.5867 725.65 62.446 722.499 Q63.2736 719.348 63.2736 716.261 Q63.2736 712.123 61.8731 709.895 Q60.4409 707.667 57.8627 707.667 Q55.4756 707.667 54.2025 709.29 Q52.9293 710.882 51.7517 716.324 L51.2742 718.361 Q50.1284 723.804 47.7731 726.223 Q45.386 728.642 41.2482 728.642 Q36.2193 728.642 33.4821 725.077 Q30.7448 721.512 30.7448 714.956 Q30.7448 711.709 31.2223 708.845 Q31.6997 705.98 32.6545 703.561 Z\" fill=\"#000000\" fill-rule=\"evenodd\" fill-opacity=\"1\" /><path clip-path=\"url(#clip790)\" d=\"M46.7864 695.286 L46.7864 678.13 L52.0063 678.13 L52.0063 695.286 L46.7864 695.286 Z\" fill=\"#000000\" fill-rule=\"evenodd\" fill-opacity=\"1\" /><path clip-path=\"url(#clip790)\" d=\"M47.9641 638.312 L50.8286 638.312 L50.8286 665.239 Q56.8761 664.857 60.0589 661.611 Q63.2099 658.333 63.2099 652.508 Q63.2099 649.134 62.3824 645.983 Q61.5549 642.8 59.8998 639.681 L65.4379 639.681 Q66.7747 642.832 67.475 646.142 Q68.1752 649.452 68.1752 652.858 Q68.1752 661.388 63.2099 666.385 Q58.2447 671.35 49.7783 671.35 Q41.0254 671.35 35.9011 666.64 Q30.7448 661.897 30.7448 653.877 Q30.7448 646.683 35.3918 642.514 Q40.0069 638.312 47.9641 638.312 M46.2453 644.169 Q41.4392 644.233 38.5746 646.874 Q35.7101 649.484 35.7101 653.813 Q35.7101 658.715 38.4792 661.675 Q41.2482 664.603 46.2772 665.048 L46.2453 644.169 Z\" fill=\"#000000\" fill-rule=\"evenodd\" fill-opacity=\"1\" /><path clip-path=\"url(#clip790)\" d=\"M45.7361 599.068 L67.2522 599.068 L67.2522 604.924 L45.927 604.924 Q40.8663 604.924 38.3518 606.898 Q35.8374 608.871 35.8374 612.818 Q35.8374 617.56 38.8611 620.298 Q41.8848 623.035 47.1047 623.035 L67.2522 623.035 L67.2522 628.923 L31.6042 628.923 L31.6042 623.035 L37.1424 623.035 Q33.9277 620.934 32.3363 618.101 Q30.7448 615.237 30.7448 611.513 Q30.7448 605.37 34.5643 602.219 Q38.3518 599.068 45.7361 599.068 Z\" fill=\"#000000\" fill-rule=\"evenodd\" fill-opacity=\"1\" /><path clip-path=\"url(#clip790)\" d=\"M21.4827 581.594 L31.6042 581.594 L31.6042 569.531 L36.1557 569.531 L36.1557 581.594 L55.5074 581.594 Q59.8679 581.594 61.1093 580.416 Q62.3506 579.207 62.3506 575.547 L62.3506 569.531 L67.2522 569.531 L67.2522 575.547 Q67.2522 582.326 64.7377 584.904 Q62.1914 587.482 55.5074 587.482 L36.1557 587.482 L36.1557 591.779 L31.6042 591.779 L31.6042 587.482 L21.4827 587.482 L21.4827 581.594 Z\" fill=\"#000000\" fill-rule=\"evenodd\" fill-opacity=\"1\" /><path clip-path=\"url(#clip790)\" d=\"M37.0787 541.172 Q36.5058 542.158 36.2512 543.336 Q35.9647 544.482 35.9647 545.882 Q35.9647 550.848 39.2112 553.521 Q42.4259 556.163 48.4733 556.163 L67.2522 556.163 L67.2522 562.051 L31.6042 562.051 L31.6042 556.163 L37.1424 556.163 Q33.8959 554.317 32.3363 551.357 Q30.7448 548.397 30.7448 544.164 Q30.7448 543.559 30.8403 542.827 Q30.904 542.095 31.0631 541.204 L37.0787 541.172 Z\" fill=\"#000000\" fill-rule=\"evenodd\" fill-opacity=\"1\" /><path clip-path=\"url(#clip790)\" d=\"M35.7101 522.648 Q35.7101 527.358 39.4022 530.095 Q43.0625 532.833 49.46 532.833 Q55.8575 532.833 59.5497 530.127 Q63.2099 527.39 63.2099 522.648 Q63.2099 517.969 59.5178 515.232 Q55.8257 512.494 49.46 512.494 Q43.1261 512.494 39.434 515.232 Q35.7101 517.969 35.7101 522.648 M30.7448 522.648 Q30.7448 515.009 35.7101 510.648 Q40.6753 506.288 49.46 506.288 Q58.2129 506.288 63.2099 510.648 Q68.1752 515.009 68.1752 522.648 Q68.1752 530.318 63.2099 534.679 Q58.2129 539.007 49.46 539.007 Q40.6753 539.007 35.7101 534.679 Q30.7448 530.318 30.7448 522.648 Z\" fill=\"#000000\" fill-rule=\"evenodd\" fill-opacity=\"1\" /><path clip-path=\"url(#clip790)\" d=\"M61.905 490.915 L80.8111 490.915 L80.8111 496.803 L31.6042 496.803 L31.6042 490.915 L37.0151 490.915 Q33.8322 489.068 32.3044 486.268 Q30.7448 483.435 30.7448 479.52 Q30.7448 473.027 35.9011 468.985 Q41.0573 464.911 49.46 464.911 Q57.8627 464.911 63.019 468.985 Q68.1752 473.027 68.1752 479.52 Q68.1752 483.435 66.6474 486.268 Q65.0878 489.068 61.905 490.915 M49.46 470.99 Q42.9988 470.99 39.3385 473.663 Q35.6464 476.305 35.6464 480.952 Q35.6464 485.599 39.3385 488.273 Q42.9988 490.915 49.46 490.915 Q55.9212 490.915 59.6133 488.273 Q63.2736 485.599 63.2736 480.952 Q63.2736 476.305 59.6133 473.663 Q55.9212 470.99 49.46 470.99 Z\" fill=\"#000000\" fill-rule=\"evenodd\" fill-opacity=\"1\" /><path clip-path=\"url(#clip790)\" d=\"M70.5623 440.371 Q76.928 442.853 78.8696 445.209 Q80.8111 447.564 80.8111 451.511 L80.8111 456.19 L75.9095 456.19 L75.9095 452.752 Q75.9095 450.333 74.7637 448.996 Q73.6179 447.66 69.3528 446.036 L66.6792 444.986 L31.6042 459.404 L31.6042 453.198 L59.486 442.058 L31.6042 430.918 L31.6042 424.711 L70.5623 440.371 Z\" fill=\"#000000\" fill-rule=\"evenodd\" fill-opacity=\"1\" /><path clip-path=\"url(#clip790)\" d=\"M17.727 395.906 L17.727 390.05 L67.2522 390.05 L67.2522 395.906 L17.727 395.906 Z\" fill=\"#000000\" fill-rule=\"evenodd\" fill-opacity=\"1\" /><path clip-path=\"url(#clip790)\" d=\"M35.7101 363.982 Q35.7101 368.693 39.4022 371.43 Q43.0625 374.167 49.46 374.167 Q55.8575 374.167 59.5497 371.462 Q63.2099 368.725 63.2099 363.982 Q63.2099 359.304 59.5178 356.566 Q55.8257 353.829 49.46 353.829 Q43.1261 353.829 39.434 356.566 Q35.7101 359.304 35.7101 363.982 M30.7448 363.982 Q30.7448 356.344 35.7101 351.983 Q40.6753 347.622 49.46 347.622 Q58.2129 347.622 63.2099 351.983 Q68.1752 356.344 68.1752 363.982 Q68.1752 371.653 63.2099 376.014 Q58.2129 380.342 49.46 380.342 Q40.6753 380.342 35.7101 376.014 Q30.7448 371.653 30.7448 363.982 Z\" fill=\"#000000\" fill-rule=\"evenodd\" fill-opacity=\"1\" /><path clip-path=\"url(#clip790)\" d=\"M32.6545 315.189 L38.1927 315.189 Q36.9196 317.672 36.283 320.345 Q35.6464 323.019 35.6464 325.884 Q35.6464 330.244 36.9832 332.44 Q38.32 334.605 40.9936 334.605 Q43.0306 334.605 44.2083 333.045 Q45.3541 331.485 46.4045 326.775 L46.8501 324.77 Q48.1869 318.531 50.6377 315.921 Q53.0566 313.28 57.4171 313.28 Q62.3824 313.28 65.2788 317.226 Q68.1752 321.141 68.1752 328.016 Q68.1752 330.881 67.6023 334 Q67.0612 337.087 65.9472 340.525 L59.8998 340.525 Q61.5867 337.278 62.446 334.127 Q63.2736 330.976 63.2736 327.889 Q63.2736 323.751 61.8731 321.523 Q60.4409 319.295 57.8627 319.295 Q55.4756 319.295 54.2025 320.918 Q52.9293 322.51 51.7517 327.952 L51.2742 329.989 Q50.1284 335.432 47.7731 337.851 Q45.386 340.27 41.2482 340.27 Q36.2193 340.27 33.4821 336.705 Q30.7448 333.141 30.7448 326.584 Q30.7448 323.337 31.2223 320.473 Q31.6997 317.608 32.6545 315.189 Z\" fill=\"#000000\" fill-rule=\"evenodd\" fill-opacity=\"1\" /><path clip-path=\"url(#clip790)\" d=\"M32.6545 281.228 L38.1927 281.228 Q36.9196 283.711 36.283 286.384 Q35.6464 289.058 35.6464 291.923 Q35.6464 296.283 36.9832 298.479 Q38.32 300.644 40.9936 300.644 Q43.0306 300.644 44.2083 299.084 Q45.3541 297.524 46.4045 292.814 L46.8501 290.809 Q48.1869 284.57 50.6377 281.96 Q53.0566 279.318 57.4171 279.318 Q62.3824 279.318 65.2788 283.265 Q68.1752 287.18 68.1752 294.055 Q68.1752 296.92 67.6023 300.039 Q67.0612 303.126 65.9472 306.564 L59.8998 306.564 Q61.5867 303.317 62.446 300.166 Q63.2736 297.015 63.2736 293.928 Q63.2736 289.79 61.8731 287.562 Q60.4409 285.334 57.8627 285.334 Q55.4756 285.334 54.2025 286.957 Q52.9293 288.549 51.7517 293.991 L51.2742 296.028 Q50.1284 301.471 47.7731 303.89 Q45.386 306.309 41.2482 306.309 Q36.2193 306.309 33.4821 302.744 Q30.7448 299.179 30.7448 292.623 Q30.7448 289.376 31.2223 286.512 Q31.6997 283.647 32.6545 281.228 Z\" fill=\"#000000\" fill-rule=\"evenodd\" fill-opacity=\"1\" /><path clip-path=\"url(#clip790)\" d=\"M805.785 12.096 L844.025 12.096 L844.025 18.9825 L813.968 18.9825 L813.968 36.8875 L842.77 36.8875 L842.77 43.7741 L813.968 43.7741 L813.968 65.6895 L844.755 65.6895 L844.755 72.576 L805.785 72.576 L805.785 12.096 Z\" fill=\"#000000\" fill-rule=\"evenodd\" fill-opacity=\"1\" /><path clip-path=\"url(#clip790)\" d=\"M884.17 34.1734 Q882.914 33.4443 881.415 33.1202 Q879.957 32.7556 878.175 32.7556 Q871.855 32.7556 868.452 36.8875 Q865.09 40.9789 865.09 48.6757 L865.09 72.576 L857.596 72.576 L857.596 27.2059 L865.09 27.2059 L865.09 34.2544 Q867.44 30.1225 871.207 28.1376 Q874.974 26.1121 880.362 26.1121 Q881.132 26.1121 882.063 26.2337 Q882.995 26.3147 884.129 26.5172 L884.17 34.1734 Z\" fill=\"#000000\" fill-rule=\"evenodd\" fill-opacity=\"1\" /><path clip-path=\"url(#clip790)\" d=\"M916.82 34.1734 Q915.564 33.4443 914.066 33.1202 Q912.607 32.7556 910.825 32.7556 Q904.505 32.7556 901.103 36.8875 Q897.74 40.9789 897.74 48.6757 L897.74 72.576 L890.246 72.576 L890.246 27.2059 L897.74 27.2059 L897.74 34.2544 Q900.09 30.1225 903.857 28.1376 Q907.625 26.1121 913.012 26.1121 Q913.782 26.1121 914.714 26.2337 Q915.645 26.3147 916.78 26.5172 L916.82 34.1734 Z\" fill=\"#000000\" fill-rule=\"evenodd\" fill-opacity=\"1\" /><path clip-path=\"url(#clip790)\" d=\"M940.396 32.4315 Q934.401 32.4315 930.917 37.1306 Q927.434 41.7891 927.434 49.9314 Q927.434 58.0738 930.877 62.7728 Q934.361 67.4314 940.396 67.4314 Q946.351 67.4314 949.835 62.7323 Q953.319 58.0333 953.319 49.9314 Q953.319 41.8701 949.835 37.1711 Q946.351 32.4315 940.396 32.4315 M940.396 26.1121 Q950.119 26.1121 955.668 32.4315 Q961.218 38.7509 961.218 49.9314 Q961.218 61.0714 955.668 67.4314 Q950.119 73.7508 940.396 73.7508 Q930.634 73.7508 925.084 67.4314 Q919.575 61.0714 919.575 49.9314 Q919.575 38.7509 925.084 32.4315 Q930.634 26.1121 940.396 26.1121 Z\" fill=\"#000000\" fill-rule=\"evenodd\" fill-opacity=\"1\" /><path clip-path=\"url(#clip790)\" d=\"M999.864 34.1734 Q998.608 33.4443 997.109 33.1202 Q995.651 32.7556 993.868 32.7556 Q987.549 32.7556 984.146 36.8875 Q980.784 40.9789 980.784 48.6757 L980.784 72.576 L973.29 72.576 L973.29 27.2059 L980.784 27.2059 L980.784 34.2544 Q983.134 30.1225 986.901 28.1376 Q990.668 26.1121 996.056 26.1121 Q996.826 26.1121 997.757 26.2337 Q998.689 26.3147 999.823 26.5172 L999.864 34.1734 Z\" fill=\"#000000\" fill-rule=\"evenodd\" fill-opacity=\"1\" /><path clip-path=\"url(#clip790)\" d=\"M1057.02 9.54393 L1057.02 15.7418 L1049.89 15.7418 Q1045.88 15.7418 1044.3 17.3622 Q1042.76 18.9825 1042.76 23.1955 L1042.76 27.2059 L1055.04 27.2059 L1055.04 32.9987 L1042.76 32.9987 L1042.76 72.576 L1035.27 72.576 L1035.27 32.9987 L1028.14 32.9987 L1028.14 27.2059 L1035.27 27.2059 L1035.27 24.0462 Q1035.27 16.471 1038.79 13.0277 Q1042.32 9.54393 1049.97 9.54393 L1057.02 9.54393 Z\" fill=\"#000000\" fill-rule=\"evenodd\" fill-opacity=\"1\" /><path clip-path=\"url(#clip790)\" d=\"M1062.49 54.671 L1062.49 27.2059 L1069.94 27.2059 L1069.94 54.3874 Q1069.94 60.8284 1072.46 64.0691 Q1074.97 67.2693 1079.99 67.2693 Q1086.03 67.2693 1089.51 63.421 Q1093.03 59.5726 1093.03 52.9291 L1093.03 27.2059 L1100.49 27.2059 L1100.49 72.576 L1093.03 72.576 L1093.03 65.6084 Q1090.32 69.7404 1086.72 71.7658 Q1083.15 73.7508 1078.41 73.7508 Q1070.59 73.7508 1066.54 68.8897 Q1062.49 64.0286 1062.49 54.671 M1081.25 26.1121 L1081.25 26.1121 Z\" fill=\"#000000\" fill-rule=\"evenodd\" fill-opacity=\"1\" /><path clip-path=\"url(#clip790)\" d=\"M1153.56 45.1919 L1153.56 72.576 L1146.1 72.576 L1146.1 45.4349 Q1146.1 38.994 1143.59 35.7938 Q1141.08 32.5936 1136.06 32.5936 Q1130.02 32.5936 1126.54 36.4419 Q1123.05 40.2903 1123.05 46.9338 L1123.05 72.576 L1115.56 72.576 L1115.56 27.2059 L1123.05 27.2059 L1123.05 34.2544 Q1125.73 30.163 1129.33 28.1376 Q1132.98 26.1121 1137.72 26.1121 Q1145.53 26.1121 1149.54 30.9732 Q1153.56 35.7938 1153.56 45.1919 Z\" fill=\"#000000\" fill-rule=\"evenodd\" fill-opacity=\"1\" /><path clip-path=\"url(#clip790)\" d=\"M1201.07 28.9478 L1201.07 35.9153 Q1197.91 34.1734 1194.71 33.3227 Q1191.55 32.4315 1188.31 32.4315 Q1181.06 32.4315 1177.05 37.0496 Q1173.04 41.6271 1173.04 49.9314 Q1173.04 58.2358 1177.05 62.8538 Q1181.06 67.4314 1188.31 67.4314 Q1191.55 67.4314 1194.71 66.5807 Q1197.91 65.6895 1201.07 63.9476 L1201.07 70.8341 Q1197.95 72.2924 1194.59 73.0216 Q1191.27 73.7508 1187.5 73.7508 Q1177.25 73.7508 1171.22 67.3098 Q1165.18 60.8689 1165.18 49.9314 Q1165.18 38.832 1171.26 32.472 Q1177.37 26.1121 1187.99 26.1121 Q1191.43 26.1121 1194.71 26.8413 Q1197.99 27.5299 1201.07 28.9478 Z\" fill=\"#000000\" fill-rule=\"evenodd\" fill-opacity=\"1\" /><path clip-path=\"url(#clip790)\" d=\"M1221.41 14.324 L1221.41 27.2059 L1236.76 27.2059 L1236.76 32.9987 L1221.41 32.9987 L1221.41 57.6282 Q1221.41 63.1779 1222.91 64.7578 Q1224.45 66.3376 1229.1 66.3376 L1236.76 66.3376 L1236.76 72.576 L1229.1 72.576 Q1220.48 72.576 1217.19 69.3758 Q1213.91 66.1351 1213.91 57.6282 L1213.91 32.9987 L1208.44 32.9987 L1208.44 27.2059 L1213.91 27.2059 L1213.91 14.324 L1221.41 14.324 Z\" fill=\"#000000\" fill-rule=\"evenodd\" fill-opacity=\"1\" /><path clip-path=\"url(#clip790)\" d=\"M1246.56 27.2059 L1254.02 27.2059 L1254.02 72.576 L1246.56 72.576 L1246.56 27.2059 M1246.56 9.54393 L1254.02 9.54393 L1254.02 18.9825 L1246.56 18.9825 L1246.56 9.54393 Z\" fill=\"#000000\" fill-rule=\"evenodd\" fill-opacity=\"1\" /><path clip-path=\"url(#clip790)\" d=\"M1287.19 32.4315 Q1281.2 32.4315 1277.72 37.1306 Q1274.23 41.7891 1274.23 49.9314 Q1274.23 58.0738 1277.67 62.7728 Q1281.16 67.4314 1287.19 67.4314 Q1293.15 67.4314 1296.63 62.7323 Q1300.12 58.0333 1300.12 49.9314 Q1300.12 41.8701 1296.63 37.1711 Q1293.15 32.4315 1287.19 32.4315 M1287.19 26.1121 Q1296.92 26.1121 1302.47 32.4315 Q1308.02 38.7509 1308.02 49.9314 Q1308.02 61.0714 1302.47 67.4314 Q1296.92 73.7508 1287.19 73.7508 Q1277.43 73.7508 1271.88 67.4314 Q1266.37 61.0714 1266.37 49.9314 Q1266.37 38.7509 1271.88 32.4315 Q1277.43 26.1121 1287.19 26.1121 Z\" fill=\"#000000\" fill-rule=\"evenodd\" fill-opacity=\"1\" /><path clip-path=\"url(#clip790)\" d=\"M1358.09 45.1919 L1358.09 72.576 L1350.63 72.576 L1350.63 45.4349 Q1350.63 38.994 1348.12 35.7938 Q1345.61 32.5936 1340.59 32.5936 Q1334.55 32.5936 1331.07 36.4419 Q1327.58 40.2903 1327.58 46.9338 L1327.58 72.576 L1320.09 72.576 L1320.09 27.2059 L1327.58 27.2059 L1327.58 34.2544 Q1330.26 30.163 1333.86 28.1376 Q1337.51 26.1121 1342.25 26.1121 Q1350.06 26.1121 1354.07 30.9732 Q1358.09 35.7938 1358.09 45.1919 Z\" fill=\"#000000\" fill-rule=\"evenodd\" fill-opacity=\"1\" /><polyline clip-path=\"url(#clip792)\" style=\"stroke:#009af9; stroke-linecap:butt; stroke-linejoin:round; stroke-width:8; stroke-opacity:1; fill:none\" points=\"\n",
       "  260.406,1009.41 402.49,926.076 655.156,787.026 1104.47,554.936 1903.46,143.404 \n",
       "  \"/>\n",
       "</svg>\n"
      ]
     },
     "execution_count": 37,
     "metadata": {},
     "output_type": "execute_result"
    }
   ],
   "source": [
    "best_lambda = lambdas[argmin(losses)]\n",
    "println(\"Best lambda: \", best_lambda)\n",
    "\n",
    "plot(lambdas, losses, title=\"Error function\", size=(500,300), linewidth=2, legend=false)\n",
    "xlabel!(\"Lambda\")\n",
    "ylabel!(\"Cross-entropy loss\")\n"
   ]
  },
  {
   "cell_type": "code",
   "execution_count": 38,
   "id": "d0dea059",
   "metadata": {},
   "outputs": [
    {
     "name": "stderr",
     "output_type": "stream",
     "text": [
      "┌ Info: Training Machine{Pipeline294,…}.\n",
      "└ @ MLJBase /home/ciro/.julia/packages/MLJBase/pCiRR/src/machines.jl:464\n",
      "┌ Info: Training Machine{PCA,…}.\n",
      "└ @ MLJBase /home/ciro/.julia/packages/MLJBase/pCiRR/src/machines.jl:464\n",
      "┌ Info: Training Machine{Standardizer,…}.\n",
      "└ @ MLJBase /home/ciro/.julia/packages/MLJBase/pCiRR/src/machines.jl:464\n",
      "┌ Info: Training Machine{NeuralNetworkClassifier{Short,…},…}.\n",
      "└ @ MLJBase /home/ciro/.julia/packages/MLJBase/pCiRR/src/machines.jl:464\n"
     ]
    },
    {
     "data": {
      "text/plain": [
       "10×10 Matrix{Int64}:\n",
       " 4009     2    24    12     3    56    25    17    22    24\n",
       "    0  4570    27    26    14    12    15    35    99    12\n",
       "   22    30  3774   109    34    42    33    42    53    15\n",
       "    9    16    68  3793     0    99     1    14    99    49\n",
       "   10     5    53     8  3814    35    33    34    38   169\n",
       "   41    25    17   171     8  3332    57     6   121    28\n",
       "   34     1    62    17    45    62  3953     3    29     5\n",
       "    7    12    48    52     7    26     1  4128    10   138\n",
       "   13    55    93    68    20    88    25    13  3566    28\n",
       "    1     3     5    36   144    43     0    94    59  3696"
      ]
     },
     "metadata": {},
     "output_type": "display_data"
    },
    {
     "name": "stdout",
     "output_type": "stream",
     "text": [
      "accuracy: 0.92\n",
      "f1-score: 0.919\n"
     ]
    }
   ],
   "source": [
    "# update the machine with the best parameter\n",
    "pipe.neural_network_classifier.lambda = best_lambda\n",
    "fit!(mach)\n",
    "MLJ.save(\"new-model-2-lambdas.jlso\", mach)\n",
    "\n",
    "ŷ = predict_mode(mach, X)\n",
    "printMetrics(ŷ, y)"
   ]
  },
  {
   "cell_type": "raw",
   "id": "687dabb7",
   "metadata": {},
   "source": [
    "# recover model-1\n",
    "mach = machine(\"new-model-1-epochs.jlso\", X, y)\n"
   ]
  },
  {
   "cell_type": "markdown",
   "id": "53190dc5",
   "metadata": {},
   "source": [
    "### Self tuning\n",
    "\n",
    "Multiple parameters\n",
    "\n",
    "Remark: > xxxh execution on a gamers computer\n"
   ]
  }
 ],
 "metadata": {
  "kernelspec": {
   "display_name": "Julia 1.6.5",
   "language": "julia",
   "name": "julia-1.6"
  },
  "language_info": {
   "file_extension": ".jl",
   "mimetype": "application/julia",
   "name": "julia",
   "version": "1.6.5"
  }
 },
 "nbformat": 4,
 "nbformat_minor": 5
}
