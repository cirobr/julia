{
 "cells": [
  {
   "cell_type": "markdown",
   "id": "e145f758",
   "metadata": {},
   "source": [
    "# PCA + Neural Network Classifier with MNIST\n"
   ]
  },
  {
   "cell_type": "markdown",
   "id": "5f262ba3",
   "metadata": {},
   "source": [
    "## Libraries"
   ]
  },
  {
   "cell_type": "code",
   "execution_count": null,
   "id": "d63e87f2",
   "metadata": {},
   "outputs": [],
   "source": [
    "# libraries\n",
    "#using Flux              # the julia ml library\n",
    "using Images            # image processing and machine vision for julia\n",
    "using MLJ               # make_blobs, rmse, confmat, f1score, coerce\n",
    "using MLJFlux           # NeuralNetworkClassifier, CUDALibs\n",
    "using MLDataUtils       # label, nlabel, labelfreq\n",
    "using MLDatasets        # mnist\n",
    "\n",
    "#using LinearAlgebra     # pinv pseudo-inverse matrix\n",
    "#using Metrics           # r2-score\n",
    "using Random\n",
    "using StatsBase         # standardize (normalization)\n",
    "#using Distributions\n",
    "\n",
    "using Plots; gr()\n",
    "#using StatsPlots\n",
    "using Printf\n",
    "\n",
    "#using CSV\n",
    "using DataFrames\n"
   ]
  },
  {
   "cell_type": "markdown",
   "id": "d53a09fe",
   "metadata": {},
   "source": [
    "## Functions"
   ]
  },
  {
   "cell_type": "code",
   "execution_count": null,
   "id": "66ccdfa6",
   "metadata": {},
   "outputs": [],
   "source": [
    "# metrics\n",
    "function printMetrics(ŷ, y)\n",
    "    display(confmat(ŷ, y))\n",
    "    println(\"accuracy: \", round(accuracy(ŷ, y); digits=3))\n",
    "    println(\"f1-score: \", round(multiclass_f1score(ŷ, y); digits=3))\n",
    "end\n"
   ]
  },
  {
   "cell_type": "code",
   "execution_count": null,
   "id": "53255360",
   "metadata": {},
   "outputs": [],
   "source": [
    "# lib functions\n",
    "image2Vector(M) = vec(Float64.(M))\n",
    "\n",
    "function batchImage2Vector(imagesArray3D)\n",
    "    h, v, N = size(imagesArray3D)\n",
    "    vectorOfImageVectors = [ image2Vector( imagesArray3D[:, :, i] ) for i in 1:N]\n",
    "end\n",
    "\n",
    "function batchImage2DF(imagesArray3D)\n",
    "    vectorOfImageVectors = batchImage2Vector(imagesArray3D)\n",
    "    M = reduce(hcat, vectorOfImageVectors)\n",
    "    DataFrame(M', :auto)\n",
    "end\n"
   ]
  },
  {
   "cell_type": "markdown",
   "id": "8903cf71",
   "metadata": {},
   "source": [
    "## Loading the data"
   ]
  },
  {
   "cell_type": "code",
   "execution_count": null,
   "id": "4bd90da6",
   "metadata": {},
   "outputs": [],
   "source": [
    "# load mnist from MLDatasets\n",
    "trainX_original,      trainY_original      = MNIST.traindata()\n",
    "validationX_original, validationY_original = MNIST.testdata();\n",
    "\n",
    "display([MNIST.convert2image(MNIST.traintensor(i)) for i in 1:5])\n",
    "trainY_original[1:5]'"
   ]
  },
  {
   "cell_type": "code",
   "execution_count": null,
   "id": "7f2acc6e",
   "metadata": {},
   "outputs": [],
   "source": [
    "# split trainset, testset, validation set\n",
    "Random.seed!(1)\n",
    "(trainX, trainY), (testX, testY) = stratifiedobs((trainX_original, trainY_original), p = 0.7)\n",
    "validationX = copy(validationX_original); validationY = copy(validationY_original)\n",
    "\n",
    "size(trainX), size(testX), size(validationX)"
   ]
  },
  {
   "cell_type": "markdown",
   "id": "b8b9c3b0",
   "metadata": {},
   "source": [
    "## Data preprocessing\n",
    "\n",
    "Data preprocessing depends on the data source, thus can widely vary from what is shown here."
   ]
  },
  {
   "cell_type": "code",
   "execution_count": null,
   "id": "f76c815d",
   "metadata": {},
   "outputs": [],
   "source": [
    "function preprocessing(X, y)\n",
    "    newX = batchImage2DF(X)\n",
    "    #coerce!(newX)   # no need, all scitypes are Continuous in this example\n",
    "    new_y = coerce(y, OrderedFactor)\n",
    "    \n",
    "    return (newX, new_y)\n",
    "end\n",
    "\n",
    "X, y = preprocessing(trainX, trainY);"
   ]
  },
  {
   "cell_type": "code",
   "execution_count": null,
   "id": "a82db1c6",
   "metadata": {},
   "outputs": [],
   "source": [
    "scitype(X)"
   ]
  },
  {
   "cell_type": "code",
   "execution_count": null,
   "id": "4724874c",
   "metadata": {},
   "outputs": [],
   "source": [
    "scitype(y)"
   ]
  },
  {
   "cell_type": "markdown",
   "id": "e26954e9",
   "metadata": {},
   "source": [
    "## Training, Testing, Validation"
   ]
  },
  {
   "cell_type": "markdown",
   "id": "eb875eb7",
   "metadata": {},
   "source": [
    "### Load and pipe algorithms"
   ]
  },
  {
   "cell_type": "raw",
   "id": "a7f1e942",
   "metadata": {},
   "source": [
    "models(\"PCA\")[2]"
   ]
  },
  {
   "cell_type": "code",
   "execution_count": null,
   "id": "84b424c5",
   "metadata": {},
   "outputs": [],
   "source": [
    "# reduce predictors\n",
    "PCA = @load PCA pkg=MultivariateStats verbosity=0\n",
    "reducer = PCA(pratio = 0.95)"
   ]
  },
  {
   "cell_type": "code",
   "execution_count": null,
   "id": "e5acd6c1",
   "metadata": {},
   "outputs": [],
   "source": [
    "# standardize predictors\n",
    "std = Standardizer();"
   ]
  },
  {
   "cell_type": "raw",
   "id": "4a63d518",
   "metadata": {},
   "source": [
    "models(\"Neural\")[2]"
   ]
  },
  {
   "cell_type": "code",
   "execution_count": null,
   "id": "da2ebd67",
   "metadata": {},
   "outputs": [],
   "source": [
    "# nnet\n",
    "NeuralNetworkClassifier = @load NeuralNetworkClassifier pkg=MLJFlux verbosity=0\n",
    "nnet = NeuralNetworkClassifier(acceleration=CUDALibs())"
   ]
  },
  {
   "cell_type": "code",
   "execution_count": null,
   "id": "ccbf397a",
   "metadata": {},
   "outputs": [],
   "source": [
    "pipe = @pipeline reducer std nnet"
   ]
  },
  {
   "cell_type": "markdown",
   "id": "ad11e62b",
   "metadata": {},
   "source": [
    "### Create and train the machine\n"
   ]
  },
  {
   "cell_type": "code",
   "execution_count": null,
   "id": "4db27605",
   "metadata": {},
   "outputs": [],
   "source": [
    "pipe.neural_network_classifier.epochs=1\n",
    "mach = MLJ.machine(pipe, X, y) |> fit!;"
   ]
  },
  {
   "cell_type": "code",
   "execution_count": null,
   "id": "430f2840",
   "metadata": {},
   "outputs": [],
   "source": [
    "MLJ.save(\"mnist_pca_nn_machine_1.jlso\", mach)\n"
   ]
  },
  {
   "cell_type": "raw",
   "id": "e73b95e5",
   "metadata": {},
   "source": [
    "mach = MLJ.machine(\"mnist_pca_nn_machine_1.jlso\")"
   ]
  },
  {
   "cell_type": "raw",
   "id": "eef76a94",
   "metadata": {},
   "source": [
    "# inspect trained model\n",
    "fitted_params(mach)\n"
   ]
  },
  {
   "cell_type": "raw",
   "id": "0c3d5de1",
   "metadata": {},
   "source": [
    "report(mach)"
   ]
  },
  {
   "cell_type": "code",
   "execution_count": null,
   "id": "cb64cebe",
   "metadata": {},
   "outputs": [],
   "source": [
    "fitted_params(mach).neural_network_classifier.chain"
   ]
  },
  {
   "cell_type": "code",
   "execution_count": null,
   "id": "437009ee",
   "metadata": {},
   "outputs": [],
   "source": [
    "losses = report(mach).neural_network_classifier.training_losses\n",
    "epochs = pipe.neural_network_classifier.epochs\n",
    "plot(0:epochs, losses, title=\"Error function\", size=(500,300), linewidth=2, legend=false)\n",
    "xlabel!(\"Epochs\")\n",
    "ylabel!(\"Cross-entropy loss\")"
   ]
  },
  {
   "cell_type": "code",
   "execution_count": null,
   "id": "9271eadd",
   "metadata": {},
   "outputs": [],
   "source": [
    "display(minimum(losses))\n",
    "best_epoch = argmin(losses) - 1"
   ]
  },
  {
   "cell_type": "code",
   "execution_count": null,
   "id": "adbe286f",
   "metadata": {},
   "outputs": [],
   "source": [
    "# tuning single hyper-parameter\n",
    "r = range(pipe, :(neural_network_classifier.lambda), lower=0.01, upper=1.0, scale=:log)\n",
    "\n",
    "self_tuning_pipe = TunedModel(model=pipe,\n",
    "                              resampling=CV(nfolds=2),\n",
    "                              tuning=Grid(resolution=10),\n",
    "                              range=r,\n",
    "                              measure=cross_entropy,\n",
    "                              acceleration=CPUProcesses(),\n",
    "                              acceleration_resampling=CPUThreads())"
   ]
  },
  {
   "cell_type": "code",
   "execution_count": null,
   "id": "89b7534c",
   "metadata": {},
   "outputs": [],
   "source": [
    "mach = machine(self_tuning_pipe, X, y) |> fit!\n"
   ]
  },
  {
   "cell_type": "code",
   "execution_count": null,
   "id": "0c820e36",
   "metadata": {},
   "outputs": [],
   "source": [
    "ŷ = predict_mode(mach, X)\n",
    "ŷ[1:5]"
   ]
  },
  {
   "cell_type": "code",
   "execution_count": null,
   "id": "fd8581f7",
   "metadata": {},
   "outputs": [],
   "source": [
    "printMetrics(ŷ, y)"
   ]
  }
 ],
 "metadata": {
  "kernelspec": {
   "display_name": "Julia 1.6.5",
   "language": "julia",
   "name": "julia-1.6"
  },
  "language_info": {
   "file_extension": ".jl",
   "mimetype": "application/julia",
   "name": "julia",
   "version": "1.6.5"
  }
 },
 "nbformat": 4,
 "nbformat_minor": 5
}
