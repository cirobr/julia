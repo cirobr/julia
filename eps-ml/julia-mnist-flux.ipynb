{
 "cells": [
  {
   "cell_type": "markdown",
   "id": "e145f758",
   "metadata": {},
   "source": [
    "# PCA + Neural Network Classifier with MNIST\n"
   ]
  },
  {
   "cell_type": "markdown",
   "id": "5f262ba3",
   "metadata": {},
   "source": [
    "## Libraries"
   ]
  },
  {
   "cell_type": "code",
   "execution_count": 1,
   "id": "d63e87f2",
   "metadata": {},
   "outputs": [],
   "source": [
    "# libraries\n",
    "using Flux              # the julia ml library\n",
    "using Images            # image processing and machine vision for julia\n",
    "using MLJ               # make_blobs, rmse, confmat, f1score, coerce\n",
    "using MLJFlux           # NeuralNetworkClassifier, CUDALibs\n",
    "using MLDataUtils       # label, nlabel, labelfreq\n",
    "using MLDatasets        # mnist\n",
    "\n",
    "#using LinearAlgebra     # pinv pseudo-inverse matrix\n",
    "#using Metrics           # r2-score\n",
    "using Random\n",
    "using StatsBase         # standardize (normalization)\n",
    "#using Distributions\n",
    "\n",
    "using Plots; gr()\n",
    "#using StatsPlots\n",
    "using Printf\n",
    "\n",
    "#using CSV\n",
    "using DataFrames\n"
   ]
  },
  {
   "cell_type": "markdown",
   "id": "d53a09fe",
   "metadata": {},
   "source": [
    "## Functions"
   ]
  },
  {
   "cell_type": "code",
   "execution_count": 75,
   "id": "53255360",
   "metadata": {},
   "outputs": [
    {
     "data": {
      "text/plain": [
       "batchImage2DF (generic function with 1 method)"
      ]
     },
     "execution_count": 75,
     "metadata": {},
     "output_type": "execute_result"
    }
   ],
   "source": [
    "# lib functions\n",
    "image2Vector(M) = vec(Float64.(M))\n",
    "\n",
    "function batchImage2Vector(imagesArray3D)\n",
    "    h, v, N = size(imagesArray3D)\n",
    "    vectorOfImageVectors = [ image2Vector( imagesArray3D[:, :, i] ) for i in 1:N]\n",
    "end\n",
    "\n",
    "function batchImage2Matrix(imagesArray3D)\n",
    "    vectorOfImageVectors = batchImage2Vector(imagesArray3D)\n",
    "    M = reduce(hcat, vectorOfImageVectors)\n",
    "    M'\n",
    "end\n",
    "\n",
    "function batchImage2DF(imagesArray3D)\n",
    "    vectorOfImageVectors = batchImage2Vector(imagesArray3D)\n",
    "    M = reduce(hcat, vectorOfImageVectors)\n",
    "    DataFrame(M', :auto)\n",
    "end\n"
   ]
  },
  {
   "cell_type": "code",
   "execution_count": 76,
   "id": "66ccdfa6",
   "metadata": {},
   "outputs": [
    {
     "data": {
      "text/plain": [
       "printMetrics (generic function with 1 method)"
      ]
     },
     "execution_count": 76,
     "metadata": {},
     "output_type": "execute_result"
    }
   ],
   "source": [
    "# metrics\n",
    "function printMetrics(ŷ, y)\n",
    "    display(confmat(ŷ, y))\n",
    "    println(\"accuracy: \", round(accuracy(ŷ, y); digits=3))\n",
    "    println(\"f1-score: \", round(multiclass_f1score(ŷ, y); digits=3))\n",
    "end\n"
   ]
  },
  {
   "cell_type": "markdown",
   "id": "8903cf71",
   "metadata": {},
   "source": [
    "## Loading the data"
   ]
  },
  {
   "cell_type": "code",
   "execution_count": 77,
   "id": "4bd90da6",
   "metadata": {},
   "outputs": [
    {
     "data": {
      "text/html": [
       "<table><tbody><tr><td style='text-align:center;vertical-align:middle; margin: 0.5em;border:1px #90999f solid;border-collapse:collapse'><img style='max-width: 100px; max-height:100px;display:inline' src=\"data:image/png;base64,iVBORw0KGgoAAAANSUhEUgAAAHAAAABwCAAAAADji6uXAAAABGdBTUEAALGPC/xhBQAAAAFzUkdCAK7OHOkAAAAgY0hSTQAAeiYAAICEAAD6AAAAgOgAAHUwAADqYAAAOpgAABdwnLpRPAAAAiVJREFUaAW9wT2IFgQABuAHemnI4aJFISgJwkDIIiqIsMLcajiKIEEIshosmgSHhhoUIW/IcIgCISHa+psKsp8hEKSSSAlyECon61Q+jMDT4RuO7w6/n5Pe54myKIuyKIuyKIuyKIuyKIuyKIuyKIuyKIuyKIuyKIsZ3YQ5y17FLdiE3TiI5/EvDuAto6IsyqIsJrgDN+MRPIpb8YzV/sAhzOMSTuI7q0VZlEVZjHE/vsac8ZbwBgb4CH/hH/xmtSiLsiiLMc7iPOasdhyLeAL/4ajpRFmURVmM8Tf24Cn8hEOGfsZ2DLAZr5telEVZlMUEn+IYLmELXsQCBoZ+xcumF2VRFmUxhYuGLhjahY+xZHZRFmVRFjN4Ew/gMTyJr8wuyqIsymIGA7yEH/E+vsEJHMZV04myKIuymNEZvIAj2ImdWIcPcc5kURZlURZr8Al+xwK2YT/uxD78abwoi7IoizX6Bc/haRzBK7gb240XZVEWZXEDFnEUHyDYisfxreuLsiiLslije/EsHkQMncL3xouyKIuymNEmvIZ5bLDsCs5hyXhRFmVRFlPagB3YjY1GncA+fG6yKIuyKIsJ1mMz3sU9Rh3H2/gMS6YTZVEWZXEdt+E93Ie7jPoBC/gSl80myqIsymKFh7EHD+F2oy7jHezHwNpEWZRFWawwj3nLTuMLXMFBLLoxURZlURYr7MVe/58oi7Ioi7Ioi7Ioi7Ioi7IouwZsVVgTmd3ynQAAAABJRU5ErkJg\"></td><td style='text-align:center;vertical-align:middle; margin: 0.5em;border:1px #90999f solid;border-collapse:collapse'><img style='max-width: 100px; max-height:100px;display:inline' src=\"data:image/png;base64,iVBORw0KGgoAAAANSUhEUgAAAHAAAABwCAAAAADji6uXAAAABGdBTUEAALGPC/xhBQAAAAFzUkdCAK7OHOkAAAAgY0hSTQAAeiYAAICEAAD6AAAAgOgAAHUwAADqYAAAOpgAABdwnLpRPAAAAjJJREFUaAW9wT1oHAQABtB3+mGISDN0sIK46SaGFEUnxbEVFTtIkWYVRCgoAYcomRzUDlYQBREUhTo4WCwihcKB0EGtOneTQkAtgu1ih5zDDRlyf0nley/KoizKoizKoizKoizKoizKoizKoizKoixuw1G8inV8jg9wxWxRFmVRFge0ios4hBFO4VkcNluURVmUxQE8hq+xghFu4BYO4wn8jFsmi7Ioi7LYh7uxhi9wn11X8Q7O4Qe8ibdNFmVRFmWxDx/jpL3WcA+GeAoPmy7KoizKYkFHcRwDY0N8i3exjV/wN57GwHRRFmVRFgtYxUUcwgjf4SSexCY+wZ/4DTs4jjVcsVeURVmUxRwPYQMr+Avb+Aw3cQEX7LWM1/GSvaIsyqIsZljCeziGG1jHT1g23wMmi7Ioi7KYYQ3HjD2HodsXZVEWZTHDGQwwxNBi7sAOBiaLsiiLspjiGaxihPMWt4MRfjVZlEVZlMUUy7gLf+Ar8y1hy9glvGGyKIuyKIs5/sW22ZawiQ1cwxncNFmURVmUxRznzbaKDbyIb3DCbFEWZVEWUwwwwPM4bbLXsIkVfIl180VZlEVZTDHCCEdwFp/iOh7HKTyC+/E7vseHFhNlURZlMcedeAUn8A8etOsyLuEti4uyKIuymOIyfsSjxo7gXmPXcQ6n7V+URVmUxRTX8AJexqZd7+MjXHUwURZlURYzbGMLW/4/URZlURZlURZlURZlURZlURZlURZlUfYfqPxYlL4fzGQAAAAASUVORK5C\"></td><td style='text-align:center;vertical-align:middle; margin: 0.5em;border:1px #90999f solid;border-collapse:collapse'><img style='max-width: 100px; max-height:100px;display:inline' src=\"data:image/png;base64,iVBORw0KGgoAAAANSUhEUgAAAHAAAABwCAAAAADji6uXAAAABGdBTUEAALGPC/xhBQAAAAFzUkdCAK7OHOkAAAAgY0hSTQAAeiYAAICEAAD6AAAAgOgAAHUwAADqYAAAOpgAABdwnLpRPAAAAbVJREFUaAW9wT2rDQAABuDnnN6UhSLdlNQdbrZrMjCgbkl2E9kY/ASrSfkBBukOjMJkMJkQRvJRihhsSpFSDGdw7nHP/Tid3ueJsiiLsiiLsiiLsiiLsiiLsiiLsiiLsiiLsiiLsiiLOVvBHZzAW/+LsiiLsphwHHtxz2yO4IXpoizKoiwmnMQS7tm+IRZxEAPri7Ioi7KYcAFPzGY/LuI23lhflEVZlMWEodndNPLedFEWZVEWY5axYHa7jTwyXZRFWZTFmDPYaTYLWDTyxXRRFmVRFmMOGXll+65jAe/w3XRRFmVRFut4bmt24TTO45SRq/hmuiiLsiiLdeyx1mEMsYID2IFzGOInnuEXgpc2FmVRFmUx5if+4Aau+GcZA/zGD7zGLbzAY3zFZ+zEGxuLsiiLshhzGR9xzFqf8ACv8dT/LmEfPthclEVZlMWEa7Zvxchdm4uyKIuymKP7NhdlURZlURZlURZlMScDLOGJjUVZlEVZzMkfDG0uyqIsymKOjmLVxqIsyqIs5mRga6IsyqIs5uAhztqaKIuyKIs5WMWqrYmyKIuyKIuyKIuyKIuyKIuyv/irMYSJ7ydGAAAAAElFTkSuQmCC\"></td><td style='text-align:center;vertical-align:middle; margin: 0.5em;border:1px #90999f solid;border-collapse:collapse'><img style='max-width: 100px; max-height:100px;display:inline' src=\"data:image/png;base64,iVBORw0KGgoAAAANSUhEUgAAAHAAAABwCAAAAADji6uXAAAABGdBTUEAALGPC/xhBQAAAAFzUkdCAK7OHOkAAAAgY0hSTQAAeiYAAICEAAD6AAAAgOgAAHUwAADqYAAAOpgAABdwnLpRPAAAAYtJREFUaAW9waFqVQEABuCP8YNRRUFM7glkDzDQoGIw+AYbdpugYcUgDEwiy4p9wSooCjLwDWYRDIJrCibD1XDCLc577rmX//uiLMqiLMqiLMqiLMqiLMqiLMqiLMqiLMqiLMqiLMpiTfbwGBu4jg/+LcqiLMpiDXbxCDODP04XZVEWZbEGV3DGOFEWZVEWK7qB+wbHuIMTp4uyKIuyWME2XuKswVN89X9RFmVRFivYwWWD93hlsSiLsiiLiS7iHmb4gSfGibIoi7KYYBOH5p7jnXGiLMqiLCa4jasGb/HMeFEWZVEWS7qLfYOP2MFP40VZlEVZLGETh+a+4MRyoizKoiyW8BAzc/uWF2VRFmUx0hZumXuNz5YXZVEWZTHSG5w3+IRd00RZlEVZjHQBM4MD/DJNlEVZlMUIL7Bh7sh0URZlURYLbOEmZviNA5yYLsqiLMpigXO4ZPAND6wmyqIsyqIsyqIsymKBYxxh23pEWZRFWSzwHdesT5RFWZRFWZRFWZRFWZRFWZT9BXYjLFSLepVZAAAAAElFTkSuQmCC\"></td><td style='text-align:center;vertical-align:middle; margin: 0.5em;border:1px #90999f solid;border-collapse:collapse'><img style='max-width: 100px; max-height:100px;display:inline' src=\"data:image/png;base64,iVBORw0KGgoAAAANSUhEUgAAAHAAAABwCAAAAADji6uXAAAABGdBTUEAALGPC/xhBQAAAAFzUkdCAK7OHOkAAAAgY0hSTQAAeiYAAICEAAD6AAAAgOgAAHUwAADqYAAAOpgAABdwnLpRPAAAAf5JREFUaAW9wT+I1QUAB/DPxRf7Q4PEXeDikG22STRlS1xbOHkOOTganFMQooSgNtTU0pJDosEhIogtR0uUi9AmuES1iMtFxAMJHO45/IYb5L177xd8P58oi7Ioi7Ioi7Ioi7Ioi7Ioi7Ioi7Ioi7Ioi7Ioi7Ioi7Ioi7Ioi7Ioi7JY0ns4jeM4avAZnuB93MADs0VZlEVZLGED32AVK/gZa/jaYAWrOGW2KIuyKIsFBO/iO7yGX3AZ9/EybmHd4DfzRVmURVks4BNcM/gJG5gYbGDd4DGumy/KoizKYh9XcB5TfIuLmNhzwZ5z2DFflEVZlMUcX+A8nmEbn+M/g1ewjsNYwRXctb8oi7IoixkO4lNMsY0T9ryNH3DM4Da+spgoi7IoixkOYNXgHN7EGXyMd/A6ppjiJp5aTJRFWZTFDM+wgzX8hak9TzDBIfyNexYXZVEWZTHDvziBH/EG/sBdfI9/sIVD2LKcKIuyKIs5HmDNi47jA+ziT8uJsiiLshjhVexiii3LibIoi7IYYdt4URZlURYjfGS8KIuyKIsRjhgvyqIsymKEX/ESdi0vyqIsymKEh/gdb+EIdiwuyqIsymKkL3ENV7GJRxYTZVEWZTHSHZzCh7iEM3hqf1EWZVEWI01wEldxFpfwyP6iLMqiLP6HCTaxaXFRFmVR9hxr7UyvfehgBAAAAABJRU5ErkJg\"></td></tr></tbody></table><div><small>(a vector displayed as a row to save space)</small></div>"
      ],
      "text/plain": [
       "5-element Vector{Base.ReinterpretArray{Gray{N0f8}, 2, N0f8, Matrix{N0f8}, true}}:\n",
       " [Gray{N0f8}(0.0) Gray{N0f8}(0.0) … Gray{N0f8}(0.0) Gray{N0f8}(0.0); Gray{N0f8}(0.0) Gray{N0f8}(0.0) … Gray{N0f8}(0.0) Gray{N0f8}(0.0); … ; Gray{N0f8}(0.0) Gray{N0f8}(0.0) … Gray{N0f8}(0.0) Gray{N0f8}(0.0); Gray{N0f8}(0.0) Gray{N0f8}(0.0) … Gray{N0f8}(0.0) Gray{N0f8}(0.0)]\n",
       " [Gray{N0f8}(0.0) Gray{N0f8}(0.0) … Gray{N0f8}(0.0) Gray{N0f8}(0.0); Gray{N0f8}(0.0) Gray{N0f8}(0.0) … Gray{N0f8}(0.0) Gray{N0f8}(0.0); … ; Gray{N0f8}(0.0) Gray{N0f8}(0.0) … Gray{N0f8}(0.0) Gray{N0f8}(0.0); Gray{N0f8}(0.0) Gray{N0f8}(0.0) … Gray{N0f8}(0.0) Gray{N0f8}(0.0)]\n",
       " [Gray{N0f8}(0.0) Gray{N0f8}(0.0) … Gray{N0f8}(0.0) Gray{N0f8}(0.0); Gray{N0f8}(0.0) Gray{N0f8}(0.0) … Gray{N0f8}(0.0) Gray{N0f8}(0.0); … ; Gray{N0f8}(0.0) Gray{N0f8}(0.0) … Gray{N0f8}(0.0) Gray{N0f8}(0.0); Gray{N0f8}(0.0) Gray{N0f8}(0.0) … Gray{N0f8}(0.0) Gray{N0f8}(0.0)]\n",
       " [Gray{N0f8}(0.0) Gray{N0f8}(0.0) … Gray{N0f8}(0.0) Gray{N0f8}(0.0); Gray{N0f8}(0.0) Gray{N0f8}(0.0) … Gray{N0f8}(0.0) Gray{N0f8}(0.0); … ; Gray{N0f8}(0.0) Gray{N0f8}(0.0) … Gray{N0f8}(0.0) Gray{N0f8}(0.0); Gray{N0f8}(0.0) Gray{N0f8}(0.0) … Gray{N0f8}(0.0) Gray{N0f8}(0.0)]\n",
       " [Gray{N0f8}(0.0) Gray{N0f8}(0.0) … Gray{N0f8}(0.0) Gray{N0f8}(0.0); Gray{N0f8}(0.0) Gray{N0f8}(0.0) … Gray{N0f8}(0.0) Gray{N0f8}(0.0); … ; Gray{N0f8}(0.0) Gray{N0f8}(0.0) … Gray{N0f8}(0.0) Gray{N0f8}(0.0); Gray{N0f8}(0.0) Gray{N0f8}(0.0) … Gray{N0f8}(0.0) Gray{N0f8}(0.0)]"
      ]
     },
     "metadata": {},
     "output_type": "display_data"
    },
    {
     "data": {
      "text/plain": [
       "1×5 adjoint(::Vector{Int64}) with eltype Int64:\n",
       " 5  0  4  1  9"
      ]
     },
     "execution_count": 77,
     "metadata": {},
     "output_type": "execute_result"
    }
   ],
   "source": [
    "# load mnist from MLDatasets\n",
    "trainX_original,      trainY_original      = MNIST.traindata()\n",
    "validationX_original, validationY_original = MNIST.testdata();\n",
    "\n",
    "display([MNIST.convert2image(MNIST.traintensor(i)) for i in 1:5])\n",
    "trainY_original[1:5]'"
   ]
  },
  {
   "cell_type": "code",
   "execution_count": 78,
   "id": "7f2acc6e",
   "metadata": {},
   "outputs": [
    {
     "data": {
      "text/plain": [
       "((28, 28, 42001), (28, 28, 17999), (28, 28, 10000))"
      ]
     },
     "execution_count": 78,
     "metadata": {},
     "output_type": "execute_result"
    }
   ],
   "source": [
    "# split trainset, testset, validation set\n",
    "Random.seed!(1)\n",
    "(trainX, trainY), (testX, testY) = stratifiedobs((trainX_original, trainY_original), p = 0.7)\n",
    "validationX = copy(validationX_original); validationY = copy(validationY_original)\n",
    "\n",
    "size(trainX), size(testX), size(validationX)"
   ]
  },
  {
   "cell_type": "markdown",
   "id": "b8b9c3b0",
   "metadata": {},
   "source": [
    "## Data preprocessing\n",
    "\n",
    "Flux primarily works with matrices and vectors"
   ]
  },
  {
   "cell_type": "code",
   "execution_count": 111,
   "id": "f76c815d",
   "metadata": {},
   "outputs": [],
   "source": [
    "function preprocessing(X, y)\n",
    "    newX = batchImage2DF(X)\n",
    "    new_y = coerce(y, OrderedFactor)\n",
    "    \n",
    "    return (newX, new_y)\n",
    "end\n",
    "\n",
    "X, y = preprocessing(trainX, trainY);"
   ]
  },
  {
   "cell_type": "code",
   "execution_count": 112,
   "id": "04822ce9",
   "metadata": {},
   "outputs": [
    {
     "data": {
      "text/html": [
       "<div class=\"data-frame\"><p>42,001 rows × 784 columns (omitted printing of 775 columns)</p><table class=\"data-frame\"><thead><tr><th></th><th>x1</th><th>x2</th><th>x3</th><th>x4</th><th>x5</th><th>x6</th><th>x7</th><th>x8</th><th>x9</th></tr><tr><th></th><th title=\"Float64\">Float64</th><th title=\"Float64\">Float64</th><th title=\"Float64\">Float64</th><th title=\"Float64\">Float64</th><th title=\"Float64\">Float64</th><th title=\"Float64\">Float64</th><th title=\"Float64\">Float64</th><th title=\"Float64\">Float64</th><th title=\"Float64\">Float64</th></tr></thead><tbody><tr><th>1</th><td>0.0</td><td>0.0</td><td>0.0</td><td>0.0</td><td>0.0</td><td>0.0</td><td>0.0</td><td>0.0</td><td>0.0</td></tr><tr><th>2</th><td>0.0</td><td>0.0</td><td>0.0</td><td>0.0</td><td>0.0</td><td>0.0</td><td>0.0</td><td>0.0</td><td>0.0</td></tr><tr><th>3</th><td>0.0</td><td>0.0</td><td>0.0</td><td>0.0</td><td>0.0</td><td>0.0</td><td>0.0</td><td>0.0</td><td>0.0</td></tr><tr><th>4</th><td>0.0</td><td>0.0</td><td>0.0</td><td>0.0</td><td>0.0</td><td>0.0</td><td>0.0</td><td>0.0</td><td>0.0</td></tr><tr><th>5</th><td>0.0</td><td>0.0</td><td>0.0</td><td>0.0</td><td>0.0</td><td>0.0</td><td>0.0</td><td>0.0</td><td>0.0</td></tr><tr><th>6</th><td>0.0</td><td>0.0</td><td>0.0</td><td>0.0</td><td>0.0</td><td>0.0</td><td>0.0</td><td>0.0</td><td>0.0</td></tr><tr><th>7</th><td>0.0</td><td>0.0</td><td>0.0</td><td>0.0</td><td>0.0</td><td>0.0</td><td>0.0</td><td>0.0</td><td>0.0</td></tr><tr><th>8</th><td>0.0</td><td>0.0</td><td>0.0</td><td>0.0</td><td>0.0</td><td>0.0</td><td>0.0</td><td>0.0</td><td>0.0</td></tr><tr><th>9</th><td>0.0</td><td>0.0</td><td>0.0</td><td>0.0</td><td>0.0</td><td>0.0</td><td>0.0</td><td>0.0</td><td>0.0</td></tr><tr><th>10</th><td>0.0</td><td>0.0</td><td>0.0</td><td>0.0</td><td>0.0</td><td>0.0</td><td>0.0</td><td>0.0</td><td>0.0</td></tr><tr><th>11</th><td>0.0</td><td>0.0</td><td>0.0</td><td>0.0</td><td>0.0</td><td>0.0</td><td>0.0</td><td>0.0</td><td>0.0</td></tr><tr><th>12</th><td>0.0</td><td>0.0</td><td>0.0</td><td>0.0</td><td>0.0</td><td>0.0</td><td>0.0</td><td>0.0</td><td>0.0</td></tr><tr><th>13</th><td>0.0</td><td>0.0</td><td>0.0</td><td>0.0</td><td>0.0</td><td>0.0</td><td>0.0</td><td>0.0</td><td>0.0</td></tr><tr><th>14</th><td>0.0</td><td>0.0</td><td>0.0</td><td>0.0</td><td>0.0</td><td>0.0</td><td>0.0</td><td>0.0</td><td>0.0</td></tr><tr><th>15</th><td>0.0</td><td>0.0</td><td>0.0</td><td>0.0</td><td>0.0</td><td>0.0</td><td>0.0</td><td>0.0</td><td>0.0</td></tr><tr><th>16</th><td>0.0</td><td>0.0</td><td>0.0</td><td>0.0</td><td>0.0</td><td>0.0</td><td>0.0</td><td>0.0</td><td>0.0</td></tr><tr><th>17</th><td>0.0</td><td>0.0</td><td>0.0</td><td>0.0</td><td>0.0</td><td>0.0</td><td>0.0</td><td>0.0</td><td>0.0</td></tr><tr><th>18</th><td>0.0</td><td>0.0</td><td>0.0</td><td>0.0</td><td>0.0</td><td>0.0</td><td>0.0</td><td>0.0</td><td>0.0</td></tr><tr><th>19</th><td>0.0</td><td>0.0</td><td>0.0</td><td>0.0</td><td>0.0</td><td>0.0</td><td>0.0</td><td>0.0</td><td>0.0</td></tr><tr><th>20</th><td>0.0</td><td>0.0</td><td>0.0</td><td>0.0</td><td>0.0</td><td>0.0</td><td>0.0</td><td>0.0</td><td>0.0</td></tr><tr><th>21</th><td>0.0</td><td>0.0</td><td>0.0</td><td>0.0</td><td>0.0</td><td>0.0</td><td>0.0</td><td>0.0</td><td>0.0</td></tr><tr><th>22</th><td>0.0</td><td>0.0</td><td>0.0</td><td>0.0</td><td>0.0</td><td>0.0</td><td>0.0</td><td>0.0</td><td>0.0</td></tr><tr><th>23</th><td>0.0</td><td>0.0</td><td>0.0</td><td>0.0</td><td>0.0</td><td>0.0</td><td>0.0</td><td>0.0</td><td>0.0</td></tr><tr><th>24</th><td>0.0</td><td>0.0</td><td>0.0</td><td>0.0</td><td>0.0</td><td>0.0</td><td>0.0</td><td>0.0</td><td>0.0</td></tr><tr><th>25</th><td>0.0</td><td>0.0</td><td>0.0</td><td>0.0</td><td>0.0</td><td>0.0</td><td>0.0</td><td>0.0</td><td>0.0</td></tr><tr><th>26</th><td>0.0</td><td>0.0</td><td>0.0</td><td>0.0</td><td>0.0</td><td>0.0</td><td>0.0</td><td>0.0</td><td>0.0</td></tr><tr><th>27</th><td>0.0</td><td>0.0</td><td>0.0</td><td>0.0</td><td>0.0</td><td>0.0</td><td>0.0</td><td>0.0</td><td>0.0</td></tr><tr><th>28</th><td>0.0</td><td>0.0</td><td>0.0</td><td>0.0</td><td>0.0</td><td>0.0</td><td>0.0</td><td>0.0</td><td>0.0</td></tr><tr><th>29</th><td>0.0</td><td>0.0</td><td>0.0</td><td>0.0</td><td>0.0</td><td>0.0</td><td>0.0</td><td>0.0</td><td>0.0</td></tr><tr><th>30</th><td>0.0</td><td>0.0</td><td>0.0</td><td>0.0</td><td>0.0</td><td>0.0</td><td>0.0</td><td>0.0</td><td>0.0</td></tr><tr><th>&vellip;</th><td>&vellip;</td><td>&vellip;</td><td>&vellip;</td><td>&vellip;</td><td>&vellip;</td><td>&vellip;</td><td>&vellip;</td><td>&vellip;</td><td>&vellip;</td></tr></tbody></table></div>"
      ],
      "text/latex": [
       "\\begin{tabular}{r|cccccccccc}\n",
       "\t& x1 & x2 & x3 & x4 & x5 & x6 & x7 & x8 & x9 & \\\\\n",
       "\t\\hline\n",
       "\t& Float64 & Float64 & Float64 & Float64 & Float64 & Float64 & Float64 & Float64 & Float64 & \\\\\n",
       "\t\\hline\n",
       "\t1 & 0.0 & 0.0 & 0.0 & 0.0 & 0.0 & 0.0 & 0.0 & 0.0 & 0.0 & $\\dots$ \\\\\n",
       "\t2 & 0.0 & 0.0 & 0.0 & 0.0 & 0.0 & 0.0 & 0.0 & 0.0 & 0.0 & $\\dots$ \\\\\n",
       "\t3 & 0.0 & 0.0 & 0.0 & 0.0 & 0.0 & 0.0 & 0.0 & 0.0 & 0.0 & $\\dots$ \\\\\n",
       "\t4 & 0.0 & 0.0 & 0.0 & 0.0 & 0.0 & 0.0 & 0.0 & 0.0 & 0.0 & $\\dots$ \\\\\n",
       "\t5 & 0.0 & 0.0 & 0.0 & 0.0 & 0.0 & 0.0 & 0.0 & 0.0 & 0.0 & $\\dots$ \\\\\n",
       "\t6 & 0.0 & 0.0 & 0.0 & 0.0 & 0.0 & 0.0 & 0.0 & 0.0 & 0.0 & $\\dots$ \\\\\n",
       "\t7 & 0.0 & 0.0 & 0.0 & 0.0 & 0.0 & 0.0 & 0.0 & 0.0 & 0.0 & $\\dots$ \\\\\n",
       "\t8 & 0.0 & 0.0 & 0.0 & 0.0 & 0.0 & 0.0 & 0.0 & 0.0 & 0.0 & $\\dots$ \\\\\n",
       "\t9 & 0.0 & 0.0 & 0.0 & 0.0 & 0.0 & 0.0 & 0.0 & 0.0 & 0.0 & $\\dots$ \\\\\n",
       "\t10 & 0.0 & 0.0 & 0.0 & 0.0 & 0.0 & 0.0 & 0.0 & 0.0 & 0.0 & $\\dots$ \\\\\n",
       "\t11 & 0.0 & 0.0 & 0.0 & 0.0 & 0.0 & 0.0 & 0.0 & 0.0 & 0.0 & $\\dots$ \\\\\n",
       "\t12 & 0.0 & 0.0 & 0.0 & 0.0 & 0.0 & 0.0 & 0.0 & 0.0 & 0.0 & $\\dots$ \\\\\n",
       "\t13 & 0.0 & 0.0 & 0.0 & 0.0 & 0.0 & 0.0 & 0.0 & 0.0 & 0.0 & $\\dots$ \\\\\n",
       "\t14 & 0.0 & 0.0 & 0.0 & 0.0 & 0.0 & 0.0 & 0.0 & 0.0 & 0.0 & $\\dots$ \\\\\n",
       "\t15 & 0.0 & 0.0 & 0.0 & 0.0 & 0.0 & 0.0 & 0.0 & 0.0 & 0.0 & $\\dots$ \\\\\n",
       "\t16 & 0.0 & 0.0 & 0.0 & 0.0 & 0.0 & 0.0 & 0.0 & 0.0 & 0.0 & $\\dots$ \\\\\n",
       "\t17 & 0.0 & 0.0 & 0.0 & 0.0 & 0.0 & 0.0 & 0.0 & 0.0 & 0.0 & $\\dots$ \\\\\n",
       "\t18 & 0.0 & 0.0 & 0.0 & 0.0 & 0.0 & 0.0 & 0.0 & 0.0 & 0.0 & $\\dots$ \\\\\n",
       "\t19 & 0.0 & 0.0 & 0.0 & 0.0 & 0.0 & 0.0 & 0.0 & 0.0 & 0.0 & $\\dots$ \\\\\n",
       "\t20 & 0.0 & 0.0 & 0.0 & 0.0 & 0.0 & 0.0 & 0.0 & 0.0 & 0.0 & $\\dots$ \\\\\n",
       "\t21 & 0.0 & 0.0 & 0.0 & 0.0 & 0.0 & 0.0 & 0.0 & 0.0 & 0.0 & $\\dots$ \\\\\n",
       "\t22 & 0.0 & 0.0 & 0.0 & 0.0 & 0.0 & 0.0 & 0.0 & 0.0 & 0.0 & $\\dots$ \\\\\n",
       "\t23 & 0.0 & 0.0 & 0.0 & 0.0 & 0.0 & 0.0 & 0.0 & 0.0 & 0.0 & $\\dots$ \\\\\n",
       "\t24 & 0.0 & 0.0 & 0.0 & 0.0 & 0.0 & 0.0 & 0.0 & 0.0 & 0.0 & $\\dots$ \\\\\n",
       "\t25 & 0.0 & 0.0 & 0.0 & 0.0 & 0.0 & 0.0 & 0.0 & 0.0 & 0.0 & $\\dots$ \\\\\n",
       "\t26 & 0.0 & 0.0 & 0.0 & 0.0 & 0.0 & 0.0 & 0.0 & 0.0 & 0.0 & $\\dots$ \\\\\n",
       "\t27 & 0.0 & 0.0 & 0.0 & 0.0 & 0.0 & 0.0 & 0.0 & 0.0 & 0.0 & $\\dots$ \\\\\n",
       "\t28 & 0.0 & 0.0 & 0.0 & 0.0 & 0.0 & 0.0 & 0.0 & 0.0 & 0.0 & $\\dots$ \\\\\n",
       "\t29 & 0.0 & 0.0 & 0.0 & 0.0 & 0.0 & 0.0 & 0.0 & 0.0 & 0.0 & $\\dots$ \\\\\n",
       "\t30 & 0.0 & 0.0 & 0.0 & 0.0 & 0.0 & 0.0 & 0.0 & 0.0 & 0.0 & $\\dots$ \\\\\n",
       "\t$\\dots$ & $\\dots$ & $\\dots$ & $\\dots$ & $\\dots$ & $\\dots$ & $\\dots$ & $\\dots$ & $\\dots$ & $\\dots$ &  \\\\\n",
       "\\end{tabular}\n"
      ],
      "text/plain": [
       "\u001b[1m42001×784 DataFrame\u001b[0m\n",
       "\u001b[1m   Row \u001b[0m│\u001b[1m x1      \u001b[0m\u001b[1m x2      \u001b[0m\u001b[1m x3      \u001b[0m\u001b[1m x4      \u001b[0m\u001b[1m x5      \u001b[0m\u001b[1m x6      \u001b[0m\u001b[1m x7      \u001b[0m\u001b[1m x8    \u001b[0m ⋯\n",
       "\u001b[1m       \u001b[0m│\u001b[90m Float64 \u001b[0m\u001b[90m Float64 \u001b[0m\u001b[90m Float64 \u001b[0m\u001b[90m Float64 \u001b[0m\u001b[90m Float64 \u001b[0m\u001b[90m Float64 \u001b[0m\u001b[90m Float64 \u001b[0m\u001b[90m Float6\u001b[0m ⋯\n",
       "───────┼────────────────────────────────────────────────────────────────────────\n",
       "     1 │     0.0      0.0      0.0      0.0      0.0      0.0      0.0      0. ⋯\n",
       "     2 │     0.0      0.0      0.0      0.0      0.0      0.0      0.0      0.\n",
       "     3 │     0.0      0.0      0.0      0.0      0.0      0.0      0.0      0.\n",
       "     4 │     0.0      0.0      0.0      0.0      0.0      0.0      0.0      0.\n",
       "     5 │     0.0      0.0      0.0      0.0      0.0      0.0      0.0      0. ⋯\n",
       "     6 │     0.0      0.0      0.0      0.0      0.0      0.0      0.0      0.\n",
       "     7 │     0.0      0.0      0.0      0.0      0.0      0.0      0.0      0.\n",
       "     8 │     0.0      0.0      0.0      0.0      0.0      0.0      0.0      0.\n",
       "     9 │     0.0      0.0      0.0      0.0      0.0      0.0      0.0      0. ⋯\n",
       "    10 │     0.0      0.0      0.0      0.0      0.0      0.0      0.0      0.\n",
       "    11 │     0.0      0.0      0.0      0.0      0.0      0.0      0.0      0.\n",
       "   ⋮   │    ⋮        ⋮        ⋮        ⋮        ⋮        ⋮        ⋮        ⋮   ⋱\n",
       " 41992 │     0.0      0.0      0.0      0.0      0.0      0.0      0.0      0.\n",
       " 41993 │     0.0      0.0      0.0      0.0      0.0      0.0      0.0      0. ⋯\n",
       " 41994 │     0.0      0.0      0.0      0.0      0.0      0.0      0.0      0.\n",
       " 41995 │     0.0      0.0      0.0      0.0      0.0      0.0      0.0      0.\n",
       " 41996 │     0.0      0.0      0.0      0.0      0.0      0.0      0.0      0.\n",
       " 41997 │     0.0      0.0      0.0      0.0      0.0      0.0      0.0      0. ⋯\n",
       " 41998 │     0.0      0.0      0.0      0.0      0.0      0.0      0.0      0.\n",
       " 41999 │     0.0      0.0      0.0      0.0      0.0      0.0      0.0      0.\n",
       " 42000 │     0.0      0.0      0.0      0.0      0.0      0.0      0.0      0.\n",
       " 42001 │     0.0      0.0      0.0      0.0      0.0      0.0      0.0      0. ⋯\n",
       "\u001b[36m                                              777 columns and 41980 rows omitted\u001b[0m"
      ]
     },
     "execution_count": 112,
     "metadata": {},
     "output_type": "execute_result"
    }
   ],
   "source": [
    "X"
   ]
  },
  {
   "cell_type": "code",
   "execution_count": 113,
   "id": "a82db1c6",
   "metadata": {},
   "outputs": [
    {
     "data": {
      "text/plain": [
       "DataFrame"
      ]
     },
     "execution_count": 113,
     "metadata": {},
     "output_type": "execute_result"
    }
   ],
   "source": [
    "typeof(X)"
   ]
  },
  {
   "cell_type": "code",
   "execution_count": 114,
   "id": "4724874c",
   "metadata": {},
   "outputs": [
    {
     "data": {
      "text/plain": [
       "AbstractVector{OrderedFactor{10}} (alias for AbstractArray{OrderedFactor{10}, 1})"
      ]
     },
     "execution_count": 114,
     "metadata": {},
     "output_type": "execute_result"
    }
   ],
   "source": [
    "scitype(y)"
   ]
  },
  {
   "cell_type": "code",
   "execution_count": 115,
   "id": "74ab08c9",
   "metadata": {},
   "outputs": [
    {
     "data": {
      "text/plain": [
       "PCA(\n",
       "    maxoutdim = 0,\n",
       "    method = :auto,\n",
       "    pratio = 0.95,\n",
       "    mean = nothing)"
      ]
     },
     "execution_count": 115,
     "metadata": {},
     "output_type": "execute_result"
    }
   ],
   "source": [
    "# reduce predictors\n",
    "PCA = @load PCA pkg=MultivariateStats verbosity=0\n",
    "reducer = PCA(pratio = 0.95)"
   ]
  },
  {
   "cell_type": "code",
   "execution_count": 116,
   "id": "b8730420",
   "metadata": {},
   "outputs": [],
   "source": [
    "# standardize predictors\n",
    "std = Standardizer();"
   ]
  },
  {
   "cell_type": "code",
   "execution_count": 117,
   "id": "0b703fa5",
   "metadata": {},
   "outputs": [
    {
     "data": {
      "text/plain": [
       "Pipeline350(\n",
       "    pca = PCA(\n",
       "            maxoutdim = 0,\n",
       "            method = :auto,\n",
       "            pratio = 0.95,\n",
       "            mean = nothing),\n",
       "    standardizer = Standardizer(\n",
       "            features = Symbol[],\n",
       "            ignore = false,\n",
       "            ordered_factor = false,\n",
       "            count = false))"
      ]
     },
     "execution_count": 117,
     "metadata": {},
     "output_type": "execute_result"
    }
   ],
   "source": [
    "# pipeline preprocessing models\n",
    "reducerStdModel = @pipeline reducer std"
   ]
  },
  {
   "cell_type": "code",
   "execution_count": 119,
   "id": "601568f8",
   "metadata": {},
   "outputs": [
    {
     "name": "stderr",
     "output_type": "stream",
     "text": [
      "┌ Info: Training Machine{Pipeline350,…}.\n",
      "└ @ MLJBase /home/ciro/.julia/packages/MLJBase/pCiRR/src/machines.jl:464\n",
      "┌ Info: Training Machine{PCA,…}.\n",
      "└ @ MLJBase /home/ciro/.julia/packages/MLJBase/pCiRR/src/machines.jl:464\n",
      "┌ Info: Training Machine{Standardizer,…}.\n",
      "└ @ MLJBase /home/ciro/.julia/packages/MLJBase/pCiRR/src/machines.jl:464\n"
     ]
    },
    {
     "data": {
      "text/plain": [
       "Machine{Pipeline350,…} trained 1 time; caches data\n",
       "  model: Pipeline350\n",
       "  args: \n",
       "    1:\tSource @637 ⏎ `Table{AbstractVector{Continuous}}`\n"
      ]
     },
     "execution_count": 119,
     "metadata": {},
     "output_type": "execute_result"
    }
   ],
   "source": [
    "mach = MLJ.machine(reducerStdModel, X) |> fit!\n"
   ]
  },
  {
   "cell_type": "code",
   "execution_count": 120,
   "id": "2cd83279",
   "metadata": {},
   "outputs": [
    {
     "data": {
      "text/html": [
       "<div class=\"data-frame\"><p>5 rows × 154 columns (omitted printing of 146 columns)</p><table class=\"data-frame\"><thead><tr><th></th><th>x1</th><th>x2</th><th>x3</th><th>x4</th><th>x5</th><th>x6</th><th>x7</th><th>x8</th></tr><tr><th></th><th title=\"Float64\">Float64</th><th title=\"Float64\">Float64</th><th title=\"Float64\">Float64</th><th title=\"Float64\">Float64</th><th title=\"Float64\">Float64</th><th title=\"Float64\">Float64</th><th title=\"Float64\">Float64</th><th title=\"Float64\">Float64</th></tr></thead><tbody><tr><th>1</th><td>1.02553</td><td>0.364736</td><td>-0.304525</td><td>-0.985644</td><td>1.25581</td><td>0.654737</td><td>0.517962</td><td>2.86921</td></tr><tr><th>2</th><td>1.26633</td><td>-0.2766</td><td>-1.84139</td><td>0.46436</td><td>0.0501056</td><td>0.141543</td><td>0.672341</td><td>-0.192563</td></tr><tr><th>3</th><td>1.5935</td><td>-0.231705</td><td>-1.91622</td><td>0.7771</td><td>2.09254</td><td>-1.47511</td><td>-1.23363</td><td>1.16234</td></tr><tr><th>4</th><td>0.0313316</td><td>-0.864218</td><td>-0.954639</td><td>1.03453</td><td>1.16941</td><td>0.83675</td><td>2.1645</td><td>-0.26777</td></tr><tr><th>5</th><td>-0.824789</td><td>0.471452</td><td>0.222981</td><td>-0.530035</td><td>-0.209061</td><td>1.48011</td><td>-1.07067</td><td>0.662548</td></tr></tbody></table></div>"
      ],
      "text/latex": [
       "\\begin{tabular}{r|ccccccccc}\n",
       "\t& x1 & x2 & x3 & x4 & x5 & x6 & x7 & x8 & \\\\\n",
       "\t\\hline\n",
       "\t& Float64 & Float64 & Float64 & Float64 & Float64 & Float64 & Float64 & Float64 & \\\\\n",
       "\t\\hline\n",
       "\t1 & 1.02553 & 0.364736 & -0.304525 & -0.985644 & 1.25581 & 0.654737 & 0.517962 & 2.86921 & $\\dots$ \\\\\n",
       "\t2 & 1.26633 & -0.2766 & -1.84139 & 0.46436 & 0.0501056 & 0.141543 & 0.672341 & -0.192563 & $\\dots$ \\\\\n",
       "\t3 & 1.5935 & -0.231705 & -1.91622 & 0.7771 & 2.09254 & -1.47511 & -1.23363 & 1.16234 & $\\dots$ \\\\\n",
       "\t4 & 0.0313316 & -0.864218 & -0.954639 & 1.03453 & 1.16941 & 0.83675 & 2.1645 & -0.26777 & $\\dots$ \\\\\n",
       "\t5 & -0.824789 & 0.471452 & 0.222981 & -0.530035 & -0.209061 & 1.48011 & -1.07067 & 0.662548 & $\\dots$ \\\\\n",
       "\\end{tabular}\n"
      ],
      "text/plain": [
       "\u001b[1m5×154 DataFrame\u001b[0m\n",
       "\u001b[1m Row \u001b[0m│\u001b[1m x1         \u001b[0m\u001b[1m x2        \u001b[0m\u001b[1m x3        \u001b[0m\u001b[1m x4        \u001b[0m\u001b[1m x5         \u001b[0m\u001b[1m x6        \u001b[0m\u001b[1m x7 \u001b[0m ⋯\n",
       "\u001b[1m     \u001b[0m│\u001b[90m Float64    \u001b[0m\u001b[90m Float64   \u001b[0m\u001b[90m Float64   \u001b[0m\u001b[90m Float64   \u001b[0m\u001b[90m Float64    \u001b[0m\u001b[90m Float64   \u001b[0m\u001b[90m Flo\u001b[0m ⋯\n",
       "─────┼──────────────────────────────────────────────────────────────────────────\n",
       "   1 │  1.02553     0.364736  -0.304525  -0.985644   1.25581     0.654737   0. ⋯\n",
       "   2 │  1.26633    -0.2766    -1.84139    0.46436    0.0501056   0.141543   0.\n",
       "   3 │  1.5935     -0.231705  -1.91622    0.7771     2.09254    -1.47511   -1.\n",
       "   4 │  0.0313316  -0.864218  -0.954639   1.03453    1.16941     0.83675    2.\n",
       "   5 │ -0.824789    0.471452   0.222981  -0.530035  -0.209061    1.48011   -1. ⋯\n",
       "\u001b[36m                                                             148 columns omitted\u001b[0m"
      ]
     },
     "execution_count": 120,
     "metadata": {},
     "output_type": "execute_result"
    }
   ],
   "source": [
    "# MLJ.predict(mach, X)   # for SUPERVISED models\n",
    "X_til = MLJ.transform(mach, X)   # for UNsupervised models\n",
    "first(X_til, 5)\n"
   ]
  },
  {
   "cell_type": "markdown",
   "id": "a37a639d",
   "metadata": {},
   "source": [
    "### Exemplo preliminar DNN"
   ]
  },
  {
   "cell_type": "code",
   "execution_count": 121,
   "id": "7d4b4daf",
   "metadata": {},
   "outputs": [
    {
     "data": {
      "image/svg+xml": [
       "<?xml version=\"1.0\" encoding=\"utf-8\"?>\n",
       "<svg xmlns=\"http://www.w3.org/2000/svg\" xmlns:xlink=\"http://www.w3.org/1999/xlink\" width=\"400\" height=\"300\" viewBox=\"0 0 1600 1200\">\n",
       "<defs>\n",
       "  <clipPath id=\"clip680\">\n",
       "    <rect x=\"0\" y=\"0\" width=\"1600\" height=\"1200\"/>\n",
       "  </clipPath>\n",
       "</defs>\n",
       "<path clip-path=\"url(#clip680)\" d=\"\n",
       "M0 1200 L1600 1200 L1600 0 L0 0  Z\n",
       "  \" fill=\"#ffffff\" fill-rule=\"evenodd\" fill-opacity=\"1\"/>\n",
       "<defs>\n",
       "  <clipPath id=\"clip681\">\n",
       "    <rect x=\"320\" y=\"0\" width=\"1121\" height=\"1121\"/>\n",
       "  </clipPath>\n",
       "</defs>\n",
       "<path clip-path=\"url(#clip680)\" d=\"\n",
       "M178.274 1086.13 L1552.76 1086.13 L1552.76 47.2441 L178.274 47.2441  Z\n",
       "  \" fill=\"#ffffff\" fill-rule=\"evenodd\" fill-opacity=\"1\"/>\n",
       "<defs>\n",
       "  <clipPath id=\"clip682\">\n",
       "    <rect x=\"178\" y=\"47\" width=\"1375\" height=\"1040\"/>\n",
       "  </clipPath>\n",
       "</defs>\n",
       "<polyline clip-path=\"url(#clip682)\" style=\"stroke:#000000; stroke-linecap:butt; stroke-linejoin:round; stroke-width:2; stroke-opacity:0.1; fill:none\" points=\"\n",
       "  346.843,1086.13 346.843,47.2441 \n",
       "  \"/>\n",
       "<polyline clip-path=\"url(#clip682)\" style=\"stroke:#000000; stroke-linecap:butt; stroke-linejoin:round; stroke-width:2; stroke-opacity:0.1; fill:none\" points=\"\n",
       "  606.179,1086.13 606.179,47.2441 \n",
       "  \"/>\n",
       "<polyline clip-path=\"url(#clip682)\" style=\"stroke:#000000; stroke-linecap:butt; stroke-linejoin:round; stroke-width:2; stroke-opacity:0.1; fill:none\" points=\"\n",
       "  865.515,1086.13 865.515,47.2441 \n",
       "  \"/>\n",
       "<polyline clip-path=\"url(#clip682)\" style=\"stroke:#000000; stroke-linecap:butt; stroke-linejoin:round; stroke-width:2; stroke-opacity:0.1; fill:none\" points=\"\n",
       "  1124.85,1086.13 1124.85,47.2441 \n",
       "  \"/>\n",
       "<polyline clip-path=\"url(#clip682)\" style=\"stroke:#000000; stroke-linecap:butt; stroke-linejoin:round; stroke-width:2; stroke-opacity:0.1; fill:none\" points=\"\n",
       "  1384.19,1086.13 1384.19,47.2441 \n",
       "  \"/>\n",
       "<polyline clip-path=\"url(#clip680)\" style=\"stroke:#000000; stroke-linecap:butt; stroke-linejoin:round; stroke-width:4; stroke-opacity:1; fill:none\" points=\"\n",
       "  178.274,1086.13 1552.76,1086.13 \n",
       "  \"/>\n",
       "<polyline clip-path=\"url(#clip680)\" style=\"stroke:#000000; stroke-linecap:butt; stroke-linejoin:round; stroke-width:4; stroke-opacity:1; fill:none\" points=\"\n",
       "  346.843,1086.13 346.843,1067.23 \n",
       "  \"/>\n",
       "<polyline clip-path=\"url(#clip680)\" style=\"stroke:#000000; stroke-linecap:butt; stroke-linejoin:round; stroke-width:4; stroke-opacity:1; fill:none\" points=\"\n",
       "  606.179,1086.13 606.179,1067.23 \n",
       "  \"/>\n",
       "<polyline clip-path=\"url(#clip680)\" style=\"stroke:#000000; stroke-linecap:butt; stroke-linejoin:round; stroke-width:4; stroke-opacity:1; fill:none\" points=\"\n",
       "  865.515,1086.13 865.515,1067.23 \n",
       "  \"/>\n",
       "<polyline clip-path=\"url(#clip680)\" style=\"stroke:#000000; stroke-linecap:butt; stroke-linejoin:round; stroke-width:4; stroke-opacity:1; fill:none\" points=\"\n",
       "  1124.85,1086.13 1124.85,1067.23 \n",
       "  \"/>\n",
       "<polyline clip-path=\"url(#clip680)\" style=\"stroke:#000000; stroke-linecap:butt; stroke-linejoin:round; stroke-width:4; stroke-opacity:1; fill:none\" points=\"\n",
       "  1384.19,1086.13 1384.19,1067.23 \n",
       "  \"/>\n",
       "<path clip-path=\"url(#clip680)\" d=\"M341.495 1138.19 L357.815 1138.19 L357.815 1142.13 L335.87 1142.13 L335.87 1138.19 Q338.532 1135.44 343.116 1130.81 Q347.722 1126.16 348.903 1124.81 Q351.148 1122.29 352.028 1120.55 Q352.93 1118.79 352.93 1117.1 Q352.93 1114.35 350.986 1112.61 Q349.065 1110.88 345.963 1110.88 Q343.764 1110.88 341.31 1111.64 Q338.88 1112.41 336.102 1113.96 L336.102 1109.23 Q338.926 1108.1 341.38 1107.52 Q343.833 1106.94 345.87 1106.94 Q351.241 1106.94 354.435 1109.63 Q357.63 1112.31 357.63 1116.8 Q357.63 1118.93 356.819 1120.85 Q356.032 1122.75 353.926 1125.35 Q353.347 1126.02 350.245 1129.23 Q347.143 1132.43 341.495 1138.19 Z\" fill=\"#000000\" fill-rule=\"evenodd\" fill-opacity=\"1\" /><path clip-path=\"url(#clip680)\" d=\"M609.188 1111.64 L597.382 1130.09 L609.188 1130.09 L609.188 1111.64 M607.961 1107.57 L613.841 1107.57 L613.841 1130.09 L618.771 1130.09 L618.771 1133.98 L613.841 1133.98 L613.841 1142.13 L609.188 1142.13 L609.188 1133.98 L593.586 1133.98 L593.586 1129.47 L607.961 1107.57 Z\" fill=\"#000000\" fill-rule=\"evenodd\" fill-opacity=\"1\" /><path clip-path=\"url(#clip680)\" d=\"M865.92 1122.98 Q862.772 1122.98 860.92 1125.14 Q859.091 1127.29 859.091 1131.04 Q859.091 1134.77 860.92 1136.94 Q862.772 1139.1 865.92 1139.1 Q869.068 1139.1 870.897 1136.94 Q872.749 1134.77 872.749 1131.04 Q872.749 1127.29 870.897 1125.14 Q869.068 1122.98 865.92 1122.98 M875.202 1108.33 L875.202 1112.59 Q873.443 1111.76 871.638 1111.32 Q869.855 1110.88 868.096 1110.88 Q863.466 1110.88 861.013 1114 Q858.582 1117.13 858.235 1123.45 Q859.601 1121.43 861.661 1120.37 Q863.721 1119.28 866.198 1119.28 Q871.406 1119.28 874.415 1122.45 Q877.448 1125.6 877.448 1131.04 Q877.448 1136.36 874.3 1139.58 Q871.151 1142.8 865.92 1142.8 Q859.925 1142.8 856.753 1138.22 Q853.582 1133.61 853.582 1124.88 Q853.582 1116.69 857.471 1111.83 Q861.36 1106.94 867.911 1106.94 Q869.67 1106.94 871.452 1107.29 Q873.258 1107.64 875.202 1108.33 Z\" fill=\"#000000\" fill-rule=\"evenodd\" fill-opacity=\"1\" /><path clip-path=\"url(#clip680)\" d=\"M1124.85 1125.72 Q1121.52 1125.72 1119.6 1127.5 Q1117.7 1129.28 1117.7 1132.41 Q1117.7 1135.53 1119.6 1137.31 Q1121.52 1139.1 1124.85 1139.1 Q1128.18 1139.1 1130.11 1137.31 Q1132.03 1135.51 1132.03 1132.41 Q1132.03 1129.28 1130.11 1127.5 Q1128.21 1125.72 1124.85 1125.72 M1120.18 1123.73 Q1117.17 1122.98 1115.48 1120.92 Q1113.81 1118.86 1113.81 1115.9 Q1113.81 1111.76 1116.75 1109.35 Q1119.71 1106.94 1124.85 1106.94 Q1130.01 1106.94 1132.95 1109.35 Q1135.89 1111.76 1135.89 1115.9 Q1135.89 1118.86 1134.2 1120.92 Q1132.54 1122.98 1129.55 1123.73 Q1132.93 1124.51 1134.8 1126.8 Q1136.7 1129.1 1136.7 1132.41 Q1136.7 1137.43 1133.62 1140.11 Q1130.57 1142.8 1124.85 1142.8 Q1119.13 1142.8 1116.05 1140.11 Q1113 1137.43 1113 1132.41 Q1113 1129.1 1114.9 1126.8 Q1116.8 1124.51 1120.18 1123.73 M1118.46 1116.34 Q1118.46 1119.03 1120.13 1120.53 Q1121.82 1122.04 1124.85 1122.04 Q1127.86 1122.04 1129.55 1120.53 Q1131.26 1119.03 1131.26 1116.34 Q1131.26 1113.66 1129.55 1112.15 Q1127.86 1110.65 1124.85 1110.65 Q1121.82 1110.65 1120.13 1112.15 Q1118.46 1113.66 1118.46 1116.34 Z\" fill=\"#000000\" fill-rule=\"evenodd\" fill-opacity=\"1\" /><path clip-path=\"url(#clip680)\" d=\"M1358.88 1138.19 L1366.51 1138.19 L1366.51 1111.83 L1358.2 1113.49 L1358.2 1109.23 L1366.47 1107.57 L1371.14 1107.57 L1371.14 1138.19 L1378.78 1138.19 L1378.78 1142.13 L1358.88 1142.13 L1358.88 1138.19 Z\" fill=\"#000000\" fill-rule=\"evenodd\" fill-opacity=\"1\" /><path clip-path=\"url(#clip680)\" d=\"M1398.23 1110.65 Q1394.62 1110.65 1392.79 1114.21 Q1390.98 1117.75 1390.98 1124.88 Q1390.98 1131.99 1392.79 1135.55 Q1394.62 1139.1 1398.23 1139.1 Q1401.86 1139.1 1403.67 1135.55 Q1405.5 1131.99 1405.5 1124.88 Q1405.5 1117.75 1403.67 1114.21 Q1401.86 1110.65 1398.23 1110.65 M1398.23 1106.94 Q1404.04 1106.94 1407.09 1111.55 Q1410.17 1116.13 1410.17 1124.88 Q1410.17 1133.61 1407.09 1138.22 Q1404.04 1142.8 1398.23 1142.8 Q1392.42 1142.8 1389.34 1138.22 Q1386.28 1133.61 1386.28 1124.88 Q1386.28 1116.13 1389.34 1111.55 Q1392.42 1106.94 1398.23 1106.94 Z\" fill=\"#000000\" fill-rule=\"evenodd\" fill-opacity=\"1\" /><polyline clip-path=\"url(#clip682)\" style=\"stroke:#000000; stroke-linecap:butt; stroke-linejoin:round; stroke-width:2; stroke-opacity:0.1; fill:none\" points=\"\n",
       "  178.274,1063.37 1552.76,1063.37 \n",
       "  \"/>\n",
       "<polyline clip-path=\"url(#clip682)\" style=\"stroke:#000000; stroke-linecap:butt; stroke-linejoin:round; stroke-width:2; stroke-opacity:0.1; fill:none\" points=\"\n",
       "  178.274,815.03 1552.76,815.03 \n",
       "  \"/>\n",
       "<polyline clip-path=\"url(#clip682)\" style=\"stroke:#000000; stroke-linecap:butt; stroke-linejoin:round; stroke-width:2; stroke-opacity:0.1; fill:none\" points=\"\n",
       "  178.274,566.686 1552.76,566.686 \n",
       "  \"/>\n",
       "<polyline clip-path=\"url(#clip682)\" style=\"stroke:#000000; stroke-linecap:butt; stroke-linejoin:round; stroke-width:2; stroke-opacity:0.1; fill:none\" points=\"\n",
       "  178.274,318.342 1552.76,318.342 \n",
       "  \"/>\n",
       "<polyline clip-path=\"url(#clip682)\" style=\"stroke:#000000; stroke-linecap:butt; stroke-linejoin:round; stroke-width:2; stroke-opacity:0.1; fill:none\" points=\"\n",
       "  178.274,69.9979 1552.76,69.9979 \n",
       "  \"/>\n",
       "<polyline clip-path=\"url(#clip680)\" style=\"stroke:#000000; stroke-linecap:butt; stroke-linejoin:round; stroke-width:4; stroke-opacity:1; fill:none\" points=\"\n",
       "  178.274,1086.13 178.274,47.2441 \n",
       "  \"/>\n",
       "<polyline clip-path=\"url(#clip680)\" style=\"stroke:#000000; stroke-linecap:butt; stroke-linejoin:round; stroke-width:4; stroke-opacity:1; fill:none\" points=\"\n",
       "  178.274,1063.37 197.172,1063.37 \n",
       "  \"/>\n",
       "<polyline clip-path=\"url(#clip680)\" style=\"stroke:#000000; stroke-linecap:butt; stroke-linejoin:round; stroke-width:4; stroke-opacity:1; fill:none\" points=\"\n",
       "  178.274,815.03 197.172,815.03 \n",
       "  \"/>\n",
       "<polyline clip-path=\"url(#clip680)\" style=\"stroke:#000000; stroke-linecap:butt; stroke-linejoin:round; stroke-width:4; stroke-opacity:1; fill:none\" points=\"\n",
       "  178.274,566.686 197.172,566.686 \n",
       "  \"/>\n",
       "<polyline clip-path=\"url(#clip680)\" style=\"stroke:#000000; stroke-linecap:butt; stroke-linejoin:round; stroke-width:4; stroke-opacity:1; fill:none\" points=\"\n",
       "  178.274,318.342 197.172,318.342 \n",
       "  \"/>\n",
       "<polyline clip-path=\"url(#clip680)\" style=\"stroke:#000000; stroke-linecap:butt; stroke-linejoin:round; stroke-width:4; stroke-opacity:1; fill:none\" points=\"\n",
       "  178.274,69.9979 197.172,69.9979 \n",
       "  \"/>\n",
       "<path clip-path=\"url(#clip680)\" d=\"M66.9365 1049.17 Q63.3254 1049.17 61.4967 1052.74 Q59.6912 1056.28 59.6912 1063.41 Q59.6912 1070.52 61.4967 1074.08 Q63.3254 1077.62 66.9365 1077.62 Q70.5707 1077.62 72.3763 1074.08 Q74.205 1070.52 74.205 1063.41 Q74.205 1056.28 72.3763 1052.74 Q70.5707 1049.17 66.9365 1049.17 M66.9365 1045.47 Q72.7467 1045.47 75.8022 1050.08 Q78.8809 1054.66 78.8809 1063.41 Q78.8809 1072.14 75.8022 1076.74 Q72.7467 1081.33 66.9365 1081.33 Q61.1264 1081.33 58.0477 1076.74 Q54.9921 1072.14 54.9921 1063.41 Q54.9921 1054.66 58.0477 1050.08 Q61.1264 1045.47 66.9365 1045.47 Z\" fill=\"#000000\" fill-rule=\"evenodd\" fill-opacity=\"1\" /><path clip-path=\"url(#clip680)\" d=\"M87.0984 1074.77 L91.9827 1074.77 L91.9827 1080.65 L87.0984 1080.65 L87.0984 1074.77 Z\" fill=\"#000000\" fill-rule=\"evenodd\" fill-opacity=\"1\" /><path clip-path=\"url(#clip680)\" d=\"M112.168 1049.17 Q108.557 1049.17 106.728 1052.74 Q104.922 1056.28 104.922 1063.41 Q104.922 1070.52 106.728 1074.08 Q108.557 1077.62 112.168 1077.62 Q115.802 1077.62 117.608 1074.08 Q119.436 1070.52 119.436 1063.41 Q119.436 1056.28 117.608 1052.74 Q115.802 1049.17 112.168 1049.17 M112.168 1045.47 Q117.978 1045.47 121.033 1050.08 Q124.112 1054.66 124.112 1063.41 Q124.112 1072.14 121.033 1076.74 Q117.978 1081.33 112.168 1081.33 Q106.358 1081.33 103.279 1076.74 Q100.223 1072.14 100.223 1063.41 Q100.223 1054.66 103.279 1050.08 Q106.358 1045.47 112.168 1045.47 Z\" fill=\"#000000\" fill-rule=\"evenodd\" fill-opacity=\"1\" /><path clip-path=\"url(#clip680)\" d=\"M142.33 1049.17 Q138.719 1049.17 136.89 1052.74 Q135.084 1056.28 135.084 1063.41 Q135.084 1070.52 136.89 1074.08 Q138.719 1077.62 142.33 1077.62 Q145.964 1077.62 147.769 1074.08 Q149.598 1070.52 149.598 1063.41 Q149.598 1056.28 147.769 1052.74 Q145.964 1049.17 142.33 1049.17 M142.33 1045.47 Q148.14 1045.47 151.195 1050.08 Q154.274 1054.66 154.274 1063.41 Q154.274 1072.14 151.195 1076.74 Q148.14 1081.33 142.33 1081.33 Q136.519 1081.33 133.441 1076.74 Q130.385 1072.14 130.385 1063.41 Q130.385 1054.66 133.441 1050.08 Q136.519 1045.47 142.33 1045.47 Z\" fill=\"#000000\" fill-rule=\"evenodd\" fill-opacity=\"1\" /><path clip-path=\"url(#clip680)\" d=\"M67.9319 800.829 Q64.3208 800.829 62.4921 804.393 Q60.6865 807.935 60.6865 815.065 Q60.6865 822.171 62.4921 825.736 Q64.3208 829.278 67.9319 829.278 Q71.5661 829.278 73.3717 825.736 Q75.2004 822.171 75.2004 815.065 Q75.2004 807.935 73.3717 804.393 Q71.5661 800.829 67.9319 800.829 M67.9319 797.125 Q73.742 797.125 76.7976 801.731 Q79.8763 806.315 79.8763 815.065 Q79.8763 823.792 76.7976 828.398 Q73.742 832.981 67.9319 832.981 Q62.1217 832.981 59.043 828.398 Q55.9875 823.792 55.9875 815.065 Q55.9875 806.315 59.043 801.731 Q62.1217 797.125 67.9319 797.125 Z\" fill=\"#000000\" fill-rule=\"evenodd\" fill-opacity=\"1\" /><path clip-path=\"url(#clip680)\" d=\"M88.0938 826.43 L92.978 826.43 L92.978 832.31 L88.0938 832.31 L88.0938 826.43 Z\" fill=\"#000000\" fill-rule=\"evenodd\" fill-opacity=\"1\" /><path clip-path=\"url(#clip680)\" d=\"M107.191 828.375 L123.51 828.375 L123.51 832.31 L101.566 832.31 L101.566 828.375 Q104.228 825.62 108.811 820.991 Q113.418 816.338 114.598 814.995 Q116.844 812.472 117.723 810.736 Q118.626 808.977 118.626 807.287 Q118.626 804.532 116.682 802.796 Q114.76 801.06 111.658 801.06 Q109.459 801.06 107.006 801.824 Q104.575 802.588 101.797 804.139 L101.797 799.417 Q104.621 798.282 107.075 797.704 Q109.529 797.125 111.566 797.125 Q116.936 797.125 120.131 799.81 Q123.325 802.495 123.325 806.986 Q123.325 809.116 122.515 811.037 Q121.728 812.935 119.621 815.528 Q119.043 816.199 115.941 819.417 Q112.839 822.611 107.191 828.375 Z\" fill=\"#000000\" fill-rule=\"evenodd\" fill-opacity=\"1\" /><path clip-path=\"url(#clip680)\" d=\"M133.371 797.75 L151.728 797.75 L151.728 801.685 L137.654 801.685 L137.654 810.157 Q138.672 809.81 139.691 809.648 Q140.709 809.463 141.728 809.463 Q147.515 809.463 150.894 812.634 Q154.274 815.805 154.274 821.222 Q154.274 826.801 150.802 829.903 Q147.33 832.981 141.01 832.981 Q138.834 832.981 136.566 832.611 Q134.32 832.241 131.913 831.5 L131.913 826.801 Q133.996 827.935 136.219 828.491 Q138.441 829.046 140.918 829.046 Q144.922 829.046 147.26 826.94 Q149.598 824.833 149.598 821.222 Q149.598 817.611 147.26 815.505 Q144.922 813.398 140.918 813.398 Q139.043 813.398 137.168 813.815 Q135.316 814.231 133.371 815.111 L133.371 797.75 Z\" fill=\"#000000\" fill-rule=\"evenodd\" fill-opacity=\"1\" /><path clip-path=\"url(#clip680)\" d=\"M66.9365 552.485 Q63.3254 552.485 61.4967 556.049 Q59.6912 559.591 59.6912 566.721 Q59.6912 573.827 61.4967 577.392 Q63.3254 580.934 66.9365 580.934 Q70.5707 580.934 72.3763 577.392 Q74.205 573.827 74.205 566.721 Q74.205 559.591 72.3763 556.049 Q70.5707 552.485 66.9365 552.485 M66.9365 548.781 Q72.7467 548.781 75.8022 553.387 Q78.8809 557.971 78.8809 566.721 Q78.8809 575.448 75.8022 580.054 Q72.7467 584.637 66.9365 584.637 Q61.1264 584.637 58.0477 580.054 Q54.9921 575.448 54.9921 566.721 Q54.9921 557.971 58.0477 553.387 Q61.1264 548.781 66.9365 548.781 Z\" fill=\"#000000\" fill-rule=\"evenodd\" fill-opacity=\"1\" /><path clip-path=\"url(#clip680)\" d=\"M87.0984 578.086 L91.9827 578.086 L91.9827 583.966 L87.0984 583.966 L87.0984 578.086 Z\" fill=\"#000000\" fill-rule=\"evenodd\" fill-opacity=\"1\" /><path clip-path=\"url(#clip680)\" d=\"M102.214 549.406 L120.57 549.406 L120.57 553.341 L106.496 553.341 L106.496 561.813 Q107.515 561.466 108.534 561.304 Q109.552 561.119 110.571 561.119 Q116.358 561.119 119.737 564.29 Q123.117 567.461 123.117 572.878 Q123.117 578.457 119.645 581.559 Q116.172 584.637 109.853 584.637 Q107.677 584.637 105.409 584.267 Q103.163 583.897 100.756 583.156 L100.756 578.457 Q102.839 579.591 105.061 580.147 Q107.284 580.702 109.76 580.702 Q113.765 580.702 116.103 578.596 Q118.441 576.489 118.441 572.878 Q118.441 569.267 116.103 567.161 Q113.765 565.054 109.76 565.054 Q107.885 565.054 106.01 565.471 Q104.159 565.887 102.214 566.767 L102.214 549.406 Z\" fill=\"#000000\" fill-rule=\"evenodd\" fill-opacity=\"1\" /><path clip-path=\"url(#clip680)\" d=\"M142.33 552.485 Q138.719 552.485 136.89 556.049 Q135.084 559.591 135.084 566.721 Q135.084 573.827 136.89 577.392 Q138.719 580.934 142.33 580.934 Q145.964 580.934 147.769 577.392 Q149.598 573.827 149.598 566.721 Q149.598 559.591 147.769 556.049 Q145.964 552.485 142.33 552.485 M142.33 548.781 Q148.14 548.781 151.195 553.387 Q154.274 557.971 154.274 566.721 Q154.274 575.448 151.195 580.054 Q148.14 584.637 142.33 584.637 Q136.519 584.637 133.441 580.054 Q130.385 575.448 130.385 566.721 Q130.385 557.971 133.441 553.387 Q136.519 548.781 142.33 548.781 Z\" fill=\"#000000\" fill-rule=\"evenodd\" fill-opacity=\"1\" /><path clip-path=\"url(#clip680)\" d=\"M67.9319 304.141 Q64.3208 304.141 62.4921 307.705 Q60.6865 311.247 60.6865 318.377 Q60.6865 325.483 62.4921 329.048 Q64.3208 332.59 67.9319 332.59 Q71.5661 332.59 73.3717 329.048 Q75.2004 325.483 75.2004 318.377 Q75.2004 311.247 73.3717 307.705 Q71.5661 304.141 67.9319 304.141 M67.9319 300.437 Q73.742 300.437 76.7976 305.043 Q79.8763 309.627 79.8763 318.377 Q79.8763 327.103 76.7976 331.71 Q73.742 336.293 67.9319 336.293 Q62.1217 336.293 59.043 331.71 Q55.9875 327.103 55.9875 318.377 Q55.9875 309.627 59.043 305.043 Q62.1217 300.437 67.9319 300.437 Z\" fill=\"#000000\" fill-rule=\"evenodd\" fill-opacity=\"1\" /><path clip-path=\"url(#clip680)\" d=\"M88.0938 329.742 L92.978 329.742 L92.978 335.622 L88.0938 335.622 L88.0938 329.742 Z\" fill=\"#000000\" fill-rule=\"evenodd\" fill-opacity=\"1\" /><path clip-path=\"url(#clip680)\" d=\"M101.983 301.062 L124.205 301.062 L124.205 303.053 L111.658 335.622 L106.774 335.622 L118.58 304.997 L101.983 304.997 L101.983 301.062 Z\" fill=\"#000000\" fill-rule=\"evenodd\" fill-opacity=\"1\" /><path clip-path=\"url(#clip680)\" d=\"M133.371 301.062 L151.728 301.062 L151.728 304.997 L137.654 304.997 L137.654 313.469 Q138.672 313.122 139.691 312.96 Q140.709 312.775 141.728 312.775 Q147.515 312.775 150.894 315.946 Q154.274 319.117 154.274 324.534 Q154.274 330.113 150.802 333.215 Q147.33 336.293 141.01 336.293 Q138.834 336.293 136.566 335.923 Q134.32 335.553 131.913 334.812 L131.913 330.113 Q133.996 331.247 136.219 331.803 Q138.441 332.358 140.918 332.358 Q144.922 332.358 147.26 330.252 Q149.598 328.145 149.598 324.534 Q149.598 320.923 147.26 318.817 Q144.922 316.71 140.918 316.71 Q139.043 316.71 137.168 317.127 Q135.316 317.543 133.371 318.423 L133.371 301.062 Z\" fill=\"#000000\" fill-rule=\"evenodd\" fill-opacity=\"1\" /><path clip-path=\"url(#clip680)\" d=\"M57.7467 83.3428 L65.3856 83.3428 L65.3856 56.9772 L57.0754 58.6438 L57.0754 54.3846 L65.3393 52.7179 L70.0152 52.7179 L70.0152 83.3428 L77.654 83.3428 L77.654 87.2779 L57.7467 87.2779 L57.7467 83.3428 Z\" fill=\"#000000\" fill-rule=\"evenodd\" fill-opacity=\"1\" /><path clip-path=\"url(#clip680)\" d=\"M87.0984 81.3983 L91.9827 81.3983 L91.9827 87.2779 L87.0984 87.2779 L87.0984 81.3983 Z\" fill=\"#000000\" fill-rule=\"evenodd\" fill-opacity=\"1\" /><path clip-path=\"url(#clip680)\" d=\"M112.168 55.7966 Q108.557 55.7966 106.728 59.3614 Q104.922 62.9031 104.922 70.0327 Q104.922 77.1391 106.728 80.7039 Q108.557 84.2456 112.168 84.2456 Q115.802 84.2456 117.608 80.7039 Q119.436 77.1391 119.436 70.0327 Q119.436 62.9031 117.608 59.3614 Q115.802 55.7966 112.168 55.7966 M112.168 52.093 Q117.978 52.093 121.033 56.6994 Q124.112 61.2827 124.112 70.0327 Q124.112 78.7595 121.033 83.3659 Q117.978 87.9492 112.168 87.9492 Q106.358 87.9492 103.279 83.3659 Q100.223 78.7595 100.223 70.0327 Q100.223 61.2827 103.279 56.6994 Q106.358 52.093 112.168 52.093 Z\" fill=\"#000000\" fill-rule=\"evenodd\" fill-opacity=\"1\" /><path clip-path=\"url(#clip680)\" d=\"M142.33 55.7966 Q138.719 55.7966 136.89 59.3614 Q135.084 62.9031 135.084 70.0327 Q135.084 77.1391 136.89 80.7039 Q138.719 84.2456 142.33 84.2456 Q145.964 84.2456 147.769 80.7039 Q149.598 77.1391 149.598 70.0327 Q149.598 62.9031 147.769 59.3614 Q145.964 55.7966 142.33 55.7966 M142.33 52.093 Q148.14 52.093 151.195 56.6994 Q154.274 61.2827 154.274 70.0327 Q154.274 78.7595 151.195 83.3659 Q148.14 87.9492 142.33 87.9492 Q136.519 87.9492 133.441 83.3659 Q130.385 78.7595 130.385 70.0327 Q130.385 61.2827 133.441 56.6994 Q136.519 52.093 142.33 52.093 Z\" fill=\"#000000\" fill-rule=\"evenodd\" fill-opacity=\"1\" /><polyline clip-path=\"url(#clip682)\" style=\"stroke:#009af9; stroke-linecap:butt; stroke-linejoin:round; stroke-width:8; stroke-opacity:1; fill:none\" points=\"\n",
       "  217.174,1056.73 346.843,1045.51 476.511,1016.26 606.179,944.961 735.847,796.214 865.515,566.686 995.183,337.158 1124.85,188.411 1254.52,117.11 1384.19,87.865 \n",
       "  1513.86,76.6465 \n",
       "  \"/>\n",
       "</svg>\n"
      ]
     },
     "execution_count": 121,
     "metadata": {},
     "output_type": "execute_result"
    }
   ],
   "source": [
    "# built-in sigmoid function\n",
    "plot(σ.(-5:5), size=(400,300), linewidth=2, legend=false)"
   ]
  },
  {
   "cell_type": "code",
   "execution_count": 159,
   "id": "07395441",
   "metadata": {},
   "outputs": [
    {
     "data": {
      "text/plain": [
       "Dense(154, 9, σ)    \u001b[90m# 1_395 parameters\u001b[39m"
      ]
     },
     "execution_count": 159,
     "metadata": {},
     "output_type": "execute_result"
    }
   ],
   "source": [
    "N, d = size(X_til)\n",
    "model = Dense(d, 9, σ)"
   ]
  },
  {
   "cell_type": "code",
   "execution_count": 165,
   "id": "13f2b3df",
   "metadata": {},
   "outputs": [
    {
     "data": {
      "text/plain": [
       "9×154 Matrix{Float32}:\n",
       "  0.0222149  -0.0593532  -0.181666   …  -0.123737    -0.149022    0.0972907\n",
       " -0.16267    -0.133467   -0.048476       0.00542348   0.143198   -0.0269723\n",
       "  0.052691   -0.139339    0.132297      -0.0711848   -0.157632   -0.0271064\n",
       " -0.171137   -0.0057999   0.12815        0.162015    -0.0278823  -0.154353\n",
       "  0.0922938  -0.147933    0.137583      -0.071705    -0.17996    -0.0182612\n",
       " -0.0264148  -0.148549   -0.0422901  …  -0.102832     0.112628    0.0704227\n",
       "  0.113023   -0.13526     0.0189532     -0.13652      0.0341689   0.177747\n",
       "  0.0852661   0.115782    0.0356976     -0.0337282   -0.179284   -0.0458618\n",
       "  0.0770094  -0.0987856   0.155788      -0.113227    -0.0689776  -0.11275"
      ]
     },
     "execution_count": 165,
     "metadata": {},
     "output_type": "execute_result"
    }
   ],
   "source": [
    "model.weight"
   ]
  },
  {
   "cell_type": "code",
   "execution_count": 166,
   "id": "1b0c706c",
   "metadata": {},
   "outputs": [
    {
     "data": {
      "text/plain": [
       "9-element Vector{Float32}:\n",
       " 0.0\n",
       " 0.0\n",
       " 0.0\n",
       " 0.0\n",
       " 0.0\n",
       " 0.0\n",
       " 0.0\n",
       " 0.0\n",
       " 0.0"
      ]
     },
     "execution_count": 166,
     "metadata": {},
     "output_type": "execute_result"
    }
   ],
   "source": [
    "model.bias"
   ]
  },
  {
   "cell_type": "code",
   "execution_count": 167,
   "id": "1896fd94",
   "metadata": {},
   "outputs": [
    {
     "data": {
      "text/plain": [
       "9-element Vector{Float64}:\n",
       " 0.1069152380194064\n",
       " 0.09819904272813929\n",
       " 0.6196516524546882\n",
       " 0.3130901944983301\n",
       " 0.45980197000265377\n",
       " 0.7882733932090784\n",
       " 0.2405895056315691\n",
       " 0.5639437908126231\n",
       " 0.3485671751831652"
      ]
     },
     "execution_count": 167,
     "metadata": {},
     "output_type": "execute_result"
    }
   ],
   "source": [
    "x1 = X_til[1,:] |> Array\n",
    "model(x1)"
   ]
  },
  {
   "cell_type": "code",
   "execution_count": null,
   "id": "21102b86",
   "metadata": {},
   "outputs": [],
   "source": []
  },
  {
   "cell_type": "code",
   "execution_count": null,
   "id": "57d65169",
   "metadata": {},
   "outputs": [],
   "source": []
  }
 ],
 "metadata": {
  "kernelspec": {
   "display_name": "Julia 1.6.5",
   "language": "julia",
   "name": "julia-1.6"
  },
  "language_info": {
   "file_extension": ".jl",
   "mimetype": "application/julia",
   "name": "julia",
   "version": "1.6.5"
  }
 },
 "nbformat": 4,
 "nbformat_minor": 5
}
