{
 "cells": [
  {
   "cell_type": "markdown",
   "id": "e145f758",
   "metadata": {},
   "source": [
    "# Neural Network Classifier with MNIST\n"
   ]
  },
  {
   "cell_type": "markdown",
   "id": "e17c07d2",
   "metadata": {},
   "source": [
    "(Work in progress)"
   ]
  },
  {
   "cell_type": "markdown",
   "id": "5f262ba3",
   "metadata": {},
   "source": [
    "## Libraries"
   ]
  },
  {
   "cell_type": "code",
   "execution_count": 1,
   "id": "d63e87f2",
   "metadata": {},
   "outputs": [],
   "source": [
    "# libraries\n",
    "#using Flux              # the julia ml library\n",
    "using Images            # image processing and machine vision for julia\n",
    "using MLJ               # make_blobs, rmse, confmat, f1score, coerce\n",
    "using MLJFlux           # NeuralNetworkClassifier, CUDALibs\n",
    "using MLDataUtils       # label, nlabel, labelfreq\n",
    "using MLDatasets        # mnist\n",
    "\n",
    "#using LinearAlgebra     # pinv pseudo-inverse matrix\n",
    "#using Metrics           # r2-score\n",
    "using Random\n",
    "using StatsBase         # standardize (normalization)\n",
    "#using Distributions\n",
    "\n",
    "using Plots; gr()\n",
    "#using StatsPlots\n",
    "using Printf\n",
    "\n",
    "#using CSV\n",
    "using DataFrames\n"
   ]
  },
  {
   "cell_type": "markdown",
   "id": "d53a09fe",
   "metadata": {},
   "source": [
    "## Functions"
   ]
  },
  {
   "cell_type": "code",
   "execution_count": 2,
   "id": "66ccdfa6",
   "metadata": {},
   "outputs": [
    {
     "data": {
      "text/plain": [
       "printMetrics (generic function with 1 method)"
      ]
     },
     "execution_count": 2,
     "metadata": {},
     "output_type": "execute_result"
    }
   ],
   "source": [
    "# metrics\n",
    "function printMetrics(ŷ, y)\n",
    "    display(confmat(ŷ, y))\n",
    "    println(\"accuracy: \", round(accuracy(ŷ, y); digits=3))\n",
    "    println(\"f1-score: \", round(multiclass_f1score(ŷ, y); digits=3))\n",
    "end\n"
   ]
  },
  {
   "cell_type": "code",
   "execution_count": 3,
   "id": "53255360",
   "metadata": {},
   "outputs": [
    {
     "data": {
      "text/plain": [
       "batchImage2DF (generic function with 1 method)"
      ]
     },
     "execution_count": 3,
     "metadata": {},
     "output_type": "execute_result"
    }
   ],
   "source": [
    "# lib functions\n",
    "image2Vector(M) = vec(Float64.(M))\n",
    "\n",
    "function batchImage2Vector(imagesArray3D)\n",
    "    h, v, N = size(imagesArray3D)\n",
    "    vectorOfImageVectors = [ image2Vector( imagesArray3D[:, :, i] ) for i in 1:N]\n",
    "end\n",
    "\n",
    "function batchImage2DF(imagesArray3D)\n",
    "    vectorOfImageVectors = batchImage2Vector(imagesArray3D)\n",
    "    M = reduce(hcat, vectorOfImageVectors)\n",
    "    DataFrame(M', :auto)\n",
    "end\n"
   ]
  },
  {
   "cell_type": "markdown",
   "id": "8903cf71",
   "metadata": {},
   "source": [
    "## Loading the data"
   ]
  },
  {
   "cell_type": "code",
   "execution_count": 4,
   "id": "4bd90da6",
   "metadata": {},
   "outputs": [
    {
     "data": {
      "text/html": [
       "<table><tbody><tr><td style='text-align:center;vertical-align:middle; margin: 0.5em;border:1px #90999f solid;border-collapse:collapse'><img style='max-width: 100px; max-height:100px;display:inline' src=\"data:image/png;base64,iVBORw0KGgoAAAANSUhEUgAAAHAAAABwCAAAAADji6uXAAAABGdBTUEAALGPC/xhBQAAAAFzUkdCAK7OHOkAAAAgY0hSTQAAeiYAAICEAAD6AAAAgOgAAHUwAADqYAAAOpgAABdwnLpRPAAAAiVJREFUaAW9wT2IFgQABuAHemnI4aJFISgJwkDIIiqIsMLcajiKIEEIshosmgSHhhoUIW/IcIgCISHa+psKsp8hEKSSSAlyECon61Q+jMDT4RuO7w6/n5Pe54myKIuyKIuyKIuyKIuyKIuyKIuyKIuyKIuyKIuyKIsZ3YQ5y17FLdiE3TiI5/EvDuAto6IsyqIsJrgDN+MRPIpb8YzV/sAhzOMSTuI7q0VZlEVZjHE/vsac8ZbwBgb4CH/hH/xmtSiLsiiLMc7iPOasdhyLeAL/4ajpRFmURVmM8Tf24Cn8hEOGfsZ2DLAZr5telEVZlMUEn+IYLmELXsQCBoZ+xcumF2VRFmUxhYuGLhjahY+xZHZRFmVRFjN4Ew/gMTyJr8wuyqIsymIGA7yEH/E+vsEJHMZV04myKIuymNEZvIAj2ImdWIcPcc5kURZlURZr8Al+xwK2YT/uxD78abwoi7IoizX6Bc/haRzBK7gb240XZVEWZXEDFnEUHyDYisfxreuLsiiLslije/EsHkQMncL3xouyKIuymNEmvIZ5bLDsCs5hyXhRFmVRFlPagB3YjY1GncA+fG6yKIuyKIsJ1mMz3sU9Rh3H2/gMS6YTZVEWZXEdt+E93Ie7jPoBC/gSl80myqIsymKFh7EHD+F2oy7jHezHwNpEWZRFWawwj3nLTuMLXMFBLLoxURZlURYr7MVe/58oi7Ioi7Ioi7Ioi7Ioi7IouwZsVVgTmd3ynQAAAABJRU5ErkJg\"></td><td style='text-align:center;vertical-align:middle; margin: 0.5em;border:1px #90999f solid;border-collapse:collapse'><img style='max-width: 100px; max-height:100px;display:inline' src=\"data:image/png;base64,iVBORw0KGgoAAAANSUhEUgAAAHAAAABwCAAAAADji6uXAAAABGdBTUEAALGPC/xhBQAAAAFzUkdCAK7OHOkAAAAgY0hSTQAAeiYAAICEAAD6AAAAgOgAAHUwAADqYAAAOpgAABdwnLpRPAAAAjJJREFUaAW9wT1oHAQABtB3+mGISDN0sIK46SaGFEUnxbEVFTtIkWYVRCgoAYcomRzUDlYQBREUhTo4WCwihcKB0EGtOneTQkAtgu1ih5zDDRlyf0nley/KoizKoizKoizKoizKoizKoizKoizKoixuw1G8inV8jg9wxWxRFmVRFge0ios4hBFO4VkcNluURVmUxQE8hq+xghFu4BYO4wn8jFsmi7Ioi7LYh7uxhi9wn11X8Q7O4Qe8ibdNFmVRFmWxDx/jpL3WcA+GeAoPmy7KoizKYkFHcRwDY0N8i3exjV/wN57GwHRRFmVRFgtYxUUcwgjf4SSexCY+wZ/4DTs4jjVcsVeURVmUxRwPYQMr+Avb+Aw3cQEX7LWM1/GSvaIsyqIsZljCeziGG1jHT1g23wMmi7Ioi7KYYQ3HjD2HodsXZVEWZTHDGQwwxNBi7sAOBiaLsiiLspjiGaxihPMWt4MRfjVZlEVZlMUUy7gLf+Ar8y1hy9glvGGyKIuyKIs5/sW22ZawiQ1cwxncNFmURVmUxRznzbaKDbyIb3DCbFEWZVEWUwwwwPM4bbLXsIkVfIl180VZlEVZTDHCCEdwFp/iOh7HKTyC+/E7vseHFhNlURZlMcedeAUn8A8etOsyLuEti4uyKIuymOIyfsSjxo7gXmPXcQ6n7V+URVmUxRTX8AJexqZd7+MjXHUwURZlURYzbGMLW/4/URZlURZlURZlURZlURZlURZlURZlUfYfqPxYlL4fzGQAAAAASUVORK5C\"></td><td style='text-align:center;vertical-align:middle; margin: 0.5em;border:1px #90999f solid;border-collapse:collapse'><img style='max-width: 100px; max-height:100px;display:inline' src=\"data:image/png;base64,iVBORw0KGgoAAAANSUhEUgAAAHAAAABwCAAAAADji6uXAAAABGdBTUEAALGPC/xhBQAAAAFzUkdCAK7OHOkAAAAgY0hSTQAAeiYAAICEAAD6AAAAgOgAAHUwAADqYAAAOpgAABdwnLpRPAAAAbVJREFUaAW9wT2rDQAABuDnnN6UhSLdlNQdbrZrMjCgbkl2E9kY/ASrSfkBBukOjMJkMJkQRvJRihhsSpFSDGdw7nHP/Tid3ueJsiiLsiiLsiiLsiiLsiiLsiiLsiiLsiiLsiiLsiiLOVvBHZzAW/+LsiiLsphwHHtxz2yO4IXpoizKoiwmnMQS7tm+IRZxEAPri7Ioi7KYcAFPzGY/LuI23lhflEVZlMWEodndNPLedFEWZVEWY5axYHa7jTwyXZRFWZTFmDPYaTYLWDTyxXRRFmVRFmMOGXll+65jAe/w3XRRFmVRFut4bmt24TTO45SRq/hmuiiLsiiLdeyx1mEMsYID2IFzGOInnuEXgpc2FmVRFmUx5if+4Aau+GcZA/zGD7zGLbzAY3zFZ+zEGxuLsiiLshhzGR9xzFqf8ACv8dT/LmEfPthclEVZlMWEa7Zvxchdm4uyKIuymKP7NhdlURZlURZlURZlMScDLOGJjUVZlEVZzMkfDG0uyqIsymKOjmLVxqIsyqIs5mRga6IsyqIs5uAhztqaKIuyKIs5WMWqrYmyKIuyKIuyKIuyKIuyKIuyv/irMYSJ7ydGAAAAAElFTkSuQmCC\"></td><td style='text-align:center;vertical-align:middle; margin: 0.5em;border:1px #90999f solid;border-collapse:collapse'><img style='max-width: 100px; max-height:100px;display:inline' src=\"data:image/png;base64,iVBORw0KGgoAAAANSUhEUgAAAHAAAABwCAAAAADji6uXAAAABGdBTUEAALGPC/xhBQAAAAFzUkdCAK7OHOkAAAAgY0hSTQAAeiYAAICEAAD6AAAAgOgAAHUwAADqYAAAOpgAABdwnLpRPAAAAYtJREFUaAW9waFqVQEABuCP8YNRRUFM7glkDzDQoGIw+AYbdpugYcUgDEwiy4p9wSooCjLwDWYRDIJrCibD1XDCLc577rmX//uiLMqiLMqiLMqiLMqiLMqiLMqiLMqiLMqiLMqiLMpiTfbwGBu4jg/+LcqiLMpiDXbxCDODP04XZVEWZbEGV3DGOFEWZVEWK7qB+wbHuIMTp4uyKIuyWME2XuKswVN89X9RFmVRFivYwWWD93hlsSiLsiiLiS7iHmb4gSfGibIoi7KYYBOH5p7jnXGiLMqiLCa4jasGb/HMeFEWZVEWS7qLfYOP2MFP40VZlEVZLGETh+a+4MRyoizKoiyW8BAzc/uWF2VRFmUx0hZumXuNz5YXZVEWZTHSG5w3+IRd00RZlEVZjHQBM4MD/DJNlEVZlMUIL7Bh7sh0URZlURYLbOEmZviNA5yYLsqiLMpigXO4ZPAND6wmyqIsyqIsyqIsymKBYxxh23pEWZRFWSzwHdesT5RFWZRFWZRFWZRFWZRFWZT9BXYjLFSLepVZAAAAAElFTkSuQmCC\"></td><td style='text-align:center;vertical-align:middle; margin: 0.5em;border:1px #90999f solid;border-collapse:collapse'><img style='max-width: 100px; max-height:100px;display:inline' src=\"data:image/png;base64,iVBORw0KGgoAAAANSUhEUgAAAHAAAABwCAAAAADji6uXAAAABGdBTUEAALGPC/xhBQAAAAFzUkdCAK7OHOkAAAAgY0hSTQAAeiYAAICEAAD6AAAAgOgAAHUwAADqYAAAOpgAABdwnLpRPAAAAf5JREFUaAW9wT+I1QUAB/DPxRf7Q4PEXeDikG22STRlS1xbOHkOOTganFMQooSgNtTU0pJDosEhIogtR0uUi9AmuES1iMtFxAMJHO45/IYb5L177xd8P58oi7Ioi7Ioi7Ioi7Ioi7Ioi7Ioi7Ioi7Ioi7Ioi7Ioi7Ioi7Ioi7Ioi7JY0ns4jeM4avAZnuB93MADs0VZlEVZLGED32AVK/gZa/jaYAWrOGW2KIuyKIsFBO/iO7yGX3AZ9/EybmHd4DfzRVmURVks4BNcM/gJG5gYbGDd4DGumy/KoizKYh9XcB5TfIuLmNhzwZ5z2DFflEVZlMUcX+A8nmEbn+M/g1ewjsNYwRXctb8oi7IoixkO4lNMsY0T9ryNH3DM4Da+spgoi7IoixkOYNXgHN7EGXyMd/A6ppjiJp5aTJRFWZTFDM+wgzX8hak9TzDBIfyNexYXZVEWZTHDvziBH/EG/sBdfI9/sIVD2LKcKIuyKIs5HmDNi47jA+ziT8uJsiiLshjhVexiii3LibIoi7IYYdt4URZlURYjfGS8KIuyKIsRjhgvyqIsymKEX/ESdi0vyqIsymKEh/gdb+EIdiwuyqIsymKkL3ENV7GJRxYTZVEWZTHSHZzCh7iEM3hqf1EWZVEWI01wEldxFpfwyP6iLMqiLP6HCTaxaXFRFmVR9hxr7UyvfehgBAAAAABJRU5ErkJg\"></td></tr></tbody></table><div><small>(a vector displayed as a row to save space)</small></div>"
      ],
      "text/plain": [
       "5-element Vector{Base.ReinterpretArray{Gray{N0f8}, 2, N0f8, Matrix{N0f8}, true}}:\n",
       " [Gray{N0f8}(0.0) Gray{N0f8}(0.0) … Gray{N0f8}(0.0) Gray{N0f8}(0.0); Gray{N0f8}(0.0) Gray{N0f8}(0.0) … Gray{N0f8}(0.0) Gray{N0f8}(0.0); … ; Gray{N0f8}(0.0) Gray{N0f8}(0.0) … Gray{N0f8}(0.0) Gray{N0f8}(0.0); Gray{N0f8}(0.0) Gray{N0f8}(0.0) … Gray{N0f8}(0.0) Gray{N0f8}(0.0)]\n",
       " [Gray{N0f8}(0.0) Gray{N0f8}(0.0) … Gray{N0f8}(0.0) Gray{N0f8}(0.0); Gray{N0f8}(0.0) Gray{N0f8}(0.0) … Gray{N0f8}(0.0) Gray{N0f8}(0.0); … ; Gray{N0f8}(0.0) Gray{N0f8}(0.0) … Gray{N0f8}(0.0) Gray{N0f8}(0.0); Gray{N0f8}(0.0) Gray{N0f8}(0.0) … Gray{N0f8}(0.0) Gray{N0f8}(0.0)]\n",
       " [Gray{N0f8}(0.0) Gray{N0f8}(0.0) … Gray{N0f8}(0.0) Gray{N0f8}(0.0); Gray{N0f8}(0.0) Gray{N0f8}(0.0) … Gray{N0f8}(0.0) Gray{N0f8}(0.0); … ; Gray{N0f8}(0.0) Gray{N0f8}(0.0) … Gray{N0f8}(0.0) Gray{N0f8}(0.0); Gray{N0f8}(0.0) Gray{N0f8}(0.0) … Gray{N0f8}(0.0) Gray{N0f8}(0.0)]\n",
       " [Gray{N0f8}(0.0) Gray{N0f8}(0.0) … Gray{N0f8}(0.0) Gray{N0f8}(0.0); Gray{N0f8}(0.0) Gray{N0f8}(0.0) … Gray{N0f8}(0.0) Gray{N0f8}(0.0); … ; Gray{N0f8}(0.0) Gray{N0f8}(0.0) … Gray{N0f8}(0.0) Gray{N0f8}(0.0); Gray{N0f8}(0.0) Gray{N0f8}(0.0) … Gray{N0f8}(0.0) Gray{N0f8}(0.0)]\n",
       " [Gray{N0f8}(0.0) Gray{N0f8}(0.0) … Gray{N0f8}(0.0) Gray{N0f8}(0.0); Gray{N0f8}(0.0) Gray{N0f8}(0.0) … Gray{N0f8}(0.0) Gray{N0f8}(0.0); … ; Gray{N0f8}(0.0) Gray{N0f8}(0.0) … Gray{N0f8}(0.0) Gray{N0f8}(0.0); Gray{N0f8}(0.0) Gray{N0f8}(0.0) … Gray{N0f8}(0.0) Gray{N0f8}(0.0)]"
      ]
     },
     "metadata": {},
     "output_type": "display_data"
    },
    {
     "data": {
      "text/plain": [
       "1×5 adjoint(::Vector{Int64}) with eltype Int64:\n",
       " 5  0  4  1  9"
      ]
     },
     "execution_count": 4,
     "metadata": {},
     "output_type": "execute_result"
    }
   ],
   "source": [
    "# load mnist from MLDatasets\n",
    "trainX_original,      trainY_original      = MNIST.traindata()\n",
    "validationX_original, validationY_original = MNIST.testdata();\n",
    "\n",
    "display([MNIST.convert2image(MNIST.traintensor(i)) for i in 1:5])\n",
    "trainY_original[1:5]'"
   ]
  },
  {
   "cell_type": "code",
   "execution_count": 5,
   "id": "7f2acc6e",
   "metadata": {},
   "outputs": [
    {
     "data": {
      "text/plain": [
       "((28, 28, 42001), (28, 28, 17999), (28, 28, 10000))"
      ]
     },
     "execution_count": 5,
     "metadata": {},
     "output_type": "execute_result"
    }
   ],
   "source": [
    "# split trainset, testset, validation set\n",
    "Random.seed!(1)\n",
    "(trainX, trainY), (testX, testY) = stratifiedobs((trainX_original, trainY_original), p = 0.7)\n",
    "validationX = copy(validationX_original); validationY = copy(validationY_original)\n",
    "\n",
    "size(trainX), size(testX), size(validationX)"
   ]
  },
  {
   "cell_type": "markdown",
   "id": "b8b9c3b0",
   "metadata": {},
   "source": [
    "## Data preprocessing\n",
    "\n",
    "Data preprocessing depends on the data source, thus can widely vary from what is shown here."
   ]
  },
  {
   "cell_type": "code",
   "execution_count": 6,
   "id": "f76c815d",
   "metadata": {},
   "outputs": [],
   "source": [
    "function preprocessing(X, y)\n",
    "    newX = batchImage2DF(X)\n",
    "    #coerce!(newX)   # no need, all scitypes are Continuous in this example\n",
    "    new_y = coerce(y, OrderedFactor)\n",
    "    \n",
    "    return (newX, new_y)\n",
    "end\n",
    "\n",
    "X, y = preprocessing(trainX, trainY);"
   ]
  },
  {
   "cell_type": "code",
   "execution_count": 7,
   "id": "a82db1c6",
   "metadata": {},
   "outputs": [
    {
     "data": {
      "text/plain": [
       "Table{AbstractVector{Continuous}}"
      ]
     },
     "execution_count": 7,
     "metadata": {},
     "output_type": "execute_result"
    }
   ],
   "source": [
    "scitype(X)"
   ]
  },
  {
   "cell_type": "code",
   "execution_count": 8,
   "id": "4724874c",
   "metadata": {},
   "outputs": [
    {
     "data": {
      "text/plain": [
       "AbstractVector{OrderedFactor{10}} (alias for AbstractArray{OrderedFactor{10}, 1})"
      ]
     },
     "execution_count": 8,
     "metadata": {},
     "output_type": "execute_result"
    }
   ],
   "source": [
    "scitype(y)"
   ]
  },
  {
   "cell_type": "markdown",
   "id": "e26954e9",
   "metadata": {},
   "source": [
    "## Training, Testing, Validation"
   ]
  },
  {
   "cell_type": "markdown",
   "id": "eb875eb7",
   "metadata": {},
   "source": [
    "### Load the algorithm"
   ]
  },
  {
   "cell_type": "raw",
   "id": "009c36ac",
   "metadata": {},
   "source": [
    "models(\"Neural\")[2]"
   ]
  },
  {
   "cell_type": "code",
   "execution_count": 9,
   "id": "da2ebd67",
   "metadata": {},
   "outputs": [
    {
     "data": {
      "text/plain": [
       "MLJFlux.NeuralNetworkClassifier"
      ]
     },
     "execution_count": 9,
     "metadata": {},
     "output_type": "execute_result"
    }
   ],
   "source": [
    "NeuralNetworkClassifier = @load NeuralNetworkClassifier pkg=MLJFlux verbosity=0"
   ]
  },
  {
   "cell_type": "markdown",
   "id": "ec9827ee",
   "metadata": {},
   "source": [
    "### Instantiate the model\n"
   ]
  },
  {
   "cell_type": "code",
   "execution_count": 10,
   "id": "f5a09f1c",
   "metadata": {},
   "outputs": [
    {
     "data": {
      "text/plain": [
       "NeuralNetworkClassifier(\n",
       "    builder = Short(\n",
       "            n_hidden = 0,\n",
       "            dropout = 0.5,\n",
       "            σ = NNlib.σ),\n",
       "    finaliser = NNlib.softmax,\n",
       "    optimiser = Flux.Optimise.ADAM(0.001, (0.9, 0.999), 1.0e-8, IdDict{Any, Any}()),\n",
       "    loss = Flux.Losses.crossentropy,\n",
       "    epochs = 10,\n",
       "    batch_size = 1,\n",
       "    lambda = 0.0,\n",
       "    alpha = 0.0,\n",
       "    rng = Random._GLOBAL_RNG(),\n",
       "    optimiser_changes_trigger_retraining = false,\n",
       "    acceleration = CUDALibs{Nothing}(nothing))"
      ]
     },
     "execution_count": 10,
     "metadata": {},
     "output_type": "execute_result"
    }
   ],
   "source": [
    "model = NeuralNetworkClassifier(acceleration=CUDALibs())"
   ]
  },
  {
   "cell_type": "markdown",
   "id": "ad11e62b",
   "metadata": {},
   "source": [
    "### Create and train the machine\n"
   ]
  },
  {
   "cell_type": "code",
   "execution_count": 11,
   "id": "f819d464",
   "metadata": {},
   "outputs": [
    {
     "name": "stderr",
     "output_type": "stream",
     "text": [
      "┌ Info: Training Machine{NeuralNetworkClassifier{Short,…},…}.\n",
      "└ @ MLJBase /home/ciro/.julia/packages/MLJBase/pCiRR/src/machines.jl:464\n",
      "\u001b[33mOptimising neural net:100%[=========================] Time: 0:12:05\u001b[39m\n"
     ]
    }
   ],
   "source": [
    "model.epochs=3\n",
    "mach = MLJ.machine(model, X, y) |> fit!;"
   ]
  },
  {
   "cell_type": "code",
   "execution_count": 12,
   "id": "30bb17d4",
   "metadata": {},
   "outputs": [
    {
     "data": {
      "text/plain": [
       "(chain = Chain(Chain(Dense(784, 89, σ), Dropout(0.5), Dense(89, 10)), softmax),)"
      ]
     },
     "execution_count": 12,
     "metadata": {},
     "output_type": "execute_result"
    }
   ],
   "source": [
    "fitted_params(mach)"
   ]
  },
  {
   "cell_type": "code",
   "execution_count": 13,
   "id": "382dd5b9",
   "metadata": {},
   "outputs": [
    {
     "data": {
      "text/plain": [
       "(training_losses = Float32[2.4227393, 0.43211365, 0.27819902, 0.24491931],)"
      ]
     },
     "execution_count": 13,
     "metadata": {},
     "output_type": "execute_result"
    }
   ],
   "source": [
    "report(mach)"
   ]
  },
  {
   "cell_type": "code",
   "execution_count": 21,
   "id": "942e853b",
   "metadata": {},
   "outputs": [
    {
     "data": {
      "image/svg+xml": [
       "<?xml version=\"1.0\" encoding=\"utf-8\"?>\n",
       "<svg xmlns=\"http://www.w3.org/2000/svg\" xmlns:xlink=\"http://www.w3.org/1999/xlink\" width=\"500\" height=\"300\" viewBox=\"0 0 2000 1200\">\n",
       "<defs>\n",
       "  <clipPath id=\"clip830\">\n",
       "    <rect x=\"0\" y=\"0\" width=\"2000\" height=\"1200\"/>\n",
       "  </clipPath>\n",
       "</defs>\n",
       "<path clip-path=\"url(#clip830)\" d=\"\n",
       "M0 1200 L2000 1200 L2000 0 L0 0  Z\n",
       "  \" fill=\"#ffffff\" fill-rule=\"evenodd\" fill-opacity=\"1\"/>\n",
       "<defs>\n",
       "  <clipPath id=\"clip831\">\n",
       "    <rect x=\"400\" y=\"0\" width=\"1401\" height=\"1200\"/>\n",
       "  </clipPath>\n",
       "</defs>\n",
       "<path clip-path=\"url(#clip830)\" d=\"\n",
       "M210.281 1035.39 L1952.76 1035.39 L1952.76 117.424 L210.281 117.424  Z\n",
       "  \" fill=\"#ffffff\" fill-rule=\"evenodd\" fill-opacity=\"1\"/>\n",
       "<defs>\n",
       "  <clipPath id=\"clip832\">\n",
       "    <rect x=\"210\" y=\"117\" width=\"1743\" height=\"919\"/>\n",
       "  </clipPath>\n",
       "</defs>\n",
       "<polyline clip-path=\"url(#clip832)\" style=\"stroke:#000000; stroke-linecap:butt; stroke-linejoin:round; stroke-width:2; stroke-opacity:0.1; fill:none\" points=\"\n",
       "  259.596,1035.39 259.596,117.424 \n",
       "  \"/>\n",
       "<polyline clip-path=\"url(#clip832)\" style=\"stroke:#000000; stroke-linecap:butt; stroke-linejoin:round; stroke-width:2; stroke-opacity:0.1; fill:none\" points=\"\n",
       "  807.544,1035.39 807.544,117.424 \n",
       "  \"/>\n",
       "<polyline clip-path=\"url(#clip832)\" style=\"stroke:#000000; stroke-linecap:butt; stroke-linejoin:round; stroke-width:2; stroke-opacity:0.1; fill:none\" points=\"\n",
       "  1355.49,1035.39 1355.49,117.424 \n",
       "  \"/>\n",
       "<polyline clip-path=\"url(#clip832)\" style=\"stroke:#000000; stroke-linecap:butt; stroke-linejoin:round; stroke-width:2; stroke-opacity:0.1; fill:none\" points=\"\n",
       "  1903.44,1035.39 1903.44,117.424 \n",
       "  \"/>\n",
       "<polyline clip-path=\"url(#clip830)\" style=\"stroke:#000000; stroke-linecap:butt; stroke-linejoin:round; stroke-width:4; stroke-opacity:1; fill:none\" points=\"\n",
       "  210.281,1035.39 1952.76,1035.39 \n",
       "  \"/>\n",
       "<polyline clip-path=\"url(#clip830)\" style=\"stroke:#000000; stroke-linecap:butt; stroke-linejoin:round; stroke-width:4; stroke-opacity:1; fill:none\" points=\"\n",
       "  259.596,1035.39 259.596,1016.49 \n",
       "  \"/>\n",
       "<polyline clip-path=\"url(#clip830)\" style=\"stroke:#000000; stroke-linecap:butt; stroke-linejoin:round; stroke-width:4; stroke-opacity:1; fill:none\" points=\"\n",
       "  807.544,1035.39 807.544,1016.49 \n",
       "  \"/>\n",
       "<polyline clip-path=\"url(#clip830)\" style=\"stroke:#000000; stroke-linecap:butt; stroke-linejoin:round; stroke-width:4; stroke-opacity:1; fill:none\" points=\"\n",
       "  1355.49,1035.39 1355.49,1016.49 \n",
       "  \"/>\n",
       "<polyline clip-path=\"url(#clip830)\" style=\"stroke:#000000; stroke-linecap:butt; stroke-linejoin:round; stroke-width:4; stroke-opacity:1; fill:none\" points=\"\n",
       "  1903.44,1035.39 1903.44,1016.49 \n",
       "  \"/>\n",
       "<path clip-path=\"url(#clip830)\" d=\"M259.596 1063.11 Q255.985 1063.11 254.156 1066.67 Q252.351 1070.21 252.351 1077.34 Q252.351 1084.45 254.156 1088.01 Q255.985 1091.56 259.596 1091.56 Q263.231 1091.56 265.036 1088.01 Q266.865 1084.45 266.865 1077.34 Q266.865 1070.21 265.036 1066.67 Q263.231 1063.11 259.596 1063.11 M259.596 1059.4 Q265.406 1059.4 268.462 1064.01 Q271.541 1068.59 271.541 1077.34 Q271.541 1086.07 268.462 1090.68 Q265.406 1095.26 259.596 1095.26 Q253.786 1095.26 250.707 1090.68 Q247.652 1086.07 247.652 1077.34 Q247.652 1068.59 250.707 1064.01 Q253.786 1059.4 259.596 1059.4 Z\" fill=\"#000000\" fill-rule=\"evenodd\" fill-opacity=\"1\" /><path clip-path=\"url(#clip830)\" d=\"M797.926 1090.65 L805.565 1090.65 L805.565 1064.29 L797.255 1065.95 L797.255 1061.69 L805.519 1060.03 L810.195 1060.03 L810.195 1090.65 L817.834 1090.65 L817.834 1094.59 L797.926 1094.59 L797.926 1090.65 Z\" fill=\"#000000\" fill-rule=\"evenodd\" fill-opacity=\"1\" /><path clip-path=\"url(#clip830)\" d=\"M1350.15 1090.65 L1366.46 1090.65 L1366.46 1094.59 L1344.52 1094.59 L1344.52 1090.65 Q1347.18 1087.9 1351.77 1083.27 Q1356.37 1078.62 1357.55 1077.27 Q1359.8 1074.75 1360.68 1073.01 Q1361.58 1071.25 1361.58 1069.56 Q1361.58 1066.81 1359.64 1065.07 Q1357.71 1063.34 1354.61 1063.34 Q1352.41 1063.34 1349.96 1064.1 Q1347.53 1064.87 1344.75 1066.42 L1344.75 1061.69 Q1347.58 1060.56 1350.03 1059.98 Q1352.48 1059.4 1354.52 1059.4 Q1359.89 1059.4 1363.09 1062.09 Q1366.28 1064.77 1366.28 1069.26 Q1366.28 1071.39 1365.47 1073.31 Q1364.68 1075.21 1362.58 1077.81 Q1362 1078.48 1358.9 1081.69 Q1355.79 1084.89 1350.15 1090.65 Z\" fill=\"#000000\" fill-rule=\"evenodd\" fill-opacity=\"1\" /><path clip-path=\"url(#clip830)\" d=\"M1907.69 1075.95 Q1911.04 1076.67 1912.92 1078.94 Q1914.82 1081.21 1914.82 1084.54 Q1914.82 1089.66 1911.3 1092.46 Q1907.78 1095.26 1901.3 1095.26 Q1899.12 1095.26 1896.81 1094.82 Q1894.52 1094.4 1892.06 1093.55 L1892.06 1089.03 Q1894.01 1090.17 1896.32 1090.75 Q1898.64 1091.32 1901.16 1091.32 Q1905.56 1091.32 1907.85 1089.59 Q1910.17 1087.85 1910.17 1084.54 Q1910.17 1081.49 1908.01 1079.77 Q1905.88 1078.04 1902.06 1078.04 L1898.04 1078.04 L1898.04 1074.19 L1902.25 1074.19 Q1905.7 1074.19 1907.53 1072.83 Q1909.35 1071.44 1909.35 1068.85 Q1909.35 1066.19 1907.46 1064.77 Q1905.58 1063.34 1902.06 1063.34 Q1900.14 1063.34 1897.94 1063.75 Q1895.74 1064.17 1893.1 1065.05 L1893.1 1060.88 Q1895.77 1060.14 1898.08 1059.77 Q1900.42 1059.4 1902.48 1059.4 Q1907.8 1059.4 1910.91 1061.83 Q1914.01 1064.24 1914.01 1068.36 Q1914.01 1071.23 1912.36 1073.22 Q1910.72 1075.19 1907.69 1075.95 Z\" fill=\"#000000\" fill-rule=\"evenodd\" fill-opacity=\"1\" /><path clip-path=\"url(#clip830)\" d=\"M969.53 1126.73 L999.576 1126.73 L999.576 1132.14 L975.959 1132.14 L975.959 1146.21 L998.589 1146.21 L998.589 1151.62 L975.959 1151.62 L975.959 1168.84 L1000.15 1168.84 L1000.15 1174.25 L969.53 1174.25 L969.53 1126.73 Z\" fill=\"#000000\" fill-rule=\"evenodd\" fill-opacity=\"1\" /><path clip-path=\"url(#clip830)\" d=\"M1016.13 1168.9 L1016.13 1187.81 L1010.24 1187.81 L1010.24 1138.6 L1016.13 1138.6 L1016.13 1144.01 Q1017.97 1140.83 1020.77 1139.3 Q1023.61 1137.74 1027.52 1137.74 Q1034.01 1137.74 1038.06 1142.9 Q1042.13 1148.06 1042.13 1156.46 Q1042.13 1164.86 1038.06 1170.02 Q1034.01 1175.17 1027.52 1175.17 Q1023.61 1175.17 1020.77 1173.65 Q1017.97 1172.09 1016.13 1168.9 M1036.05 1156.46 Q1036.05 1150 1033.38 1146.34 Q1030.74 1142.65 1026.09 1142.65 Q1021.44 1142.65 1018.77 1146.34 Q1016.13 1150 1016.13 1156.46 Q1016.13 1162.92 1018.77 1166.61 Q1021.44 1170.27 1026.09 1170.27 Q1030.74 1170.27 1033.38 1166.61 Q1036.05 1162.92 1036.05 1156.46 Z\" fill=\"#000000\" fill-rule=\"evenodd\" fill-opacity=\"1\" /><path clip-path=\"url(#clip830)\" d=\"M1065.65 1142.71 Q1060.94 1142.71 1058.2 1146.4 Q1055.47 1150.06 1055.47 1156.46 Q1055.47 1162.86 1058.17 1166.55 Q1060.91 1170.21 1065.65 1170.21 Q1070.33 1170.21 1073.07 1166.52 Q1075.81 1162.83 1075.81 1156.46 Q1075.81 1150.13 1073.07 1146.43 Q1070.33 1142.71 1065.65 1142.71 M1065.65 1137.74 Q1073.29 1137.74 1077.65 1142.71 Q1082.01 1147.68 1082.01 1156.46 Q1082.01 1165.21 1077.65 1170.21 Q1073.29 1175.17 1065.65 1175.17 Q1057.98 1175.17 1053.62 1170.21 Q1049.29 1165.21 1049.29 1156.46 Q1049.29 1147.68 1053.62 1142.71 Q1057.98 1137.74 1065.65 1137.74 Z\" fill=\"#000000\" fill-rule=\"evenodd\" fill-opacity=\"1\" /><path clip-path=\"url(#clip830)\" d=\"M1117.37 1139.97 L1117.37 1145.45 Q1114.89 1144.08 1112.38 1143.41 Q1109.89 1142.71 1107.35 1142.71 Q1101.65 1142.71 1098.5 1146.34 Q1095.35 1149.93 1095.35 1156.46 Q1095.35 1162.98 1098.5 1166.61 Q1101.65 1170.21 1107.35 1170.21 Q1109.89 1170.21 1112.38 1169.54 Q1114.89 1168.84 1117.37 1167.47 L1117.37 1172.88 Q1114.92 1174.03 1112.28 1174.6 Q1109.67 1175.17 1106.71 1175.17 Q1098.66 1175.17 1093.92 1170.11 Q1089.17 1165.05 1089.17 1156.46 Q1089.17 1147.74 1093.95 1142.74 Q1098.75 1137.74 1107.09 1137.74 Q1109.8 1137.74 1112.38 1138.32 Q1114.95 1138.86 1117.37 1139.97 Z\" fill=\"#000000\" fill-rule=\"evenodd\" fill-opacity=\"1\" /><path clip-path=\"url(#clip830)\" d=\"M1157.19 1152.74 L1157.19 1174.25 L1151.33 1174.25 L1151.33 1152.93 Q1151.33 1147.87 1149.36 1145.35 Q1147.39 1142.84 1143.44 1142.84 Q1138.7 1142.84 1135.96 1145.86 Q1133.22 1148.88 1133.22 1154.1 L1133.22 1174.25 L1127.34 1174.25 L1127.34 1124.73 L1133.22 1124.73 L1133.22 1144.14 Q1135.32 1140.93 1138.16 1139.34 Q1141.02 1137.74 1144.75 1137.74 Q1150.89 1137.74 1154.04 1141.56 Q1157.19 1145.35 1157.19 1152.74 Z\" fill=\"#000000\" fill-rule=\"evenodd\" fill-opacity=\"1\" /><path clip-path=\"url(#clip830)\" d=\"M1191.6 1139.65 L1191.6 1145.19 Q1189.11 1143.92 1186.44 1143.28 Q1183.77 1142.65 1180.9 1142.65 Q1176.54 1142.65 1174.35 1143.98 Q1172.18 1145.32 1172.18 1147.99 Q1172.18 1150.03 1173.74 1151.21 Q1175.3 1152.35 1180.01 1153.4 L1182.02 1153.85 Q1188.26 1155.19 1190.87 1157.64 Q1193.51 1160.06 1193.51 1164.42 Q1193.51 1169.38 1189.56 1172.28 Q1185.65 1175.17 1178.77 1175.17 Q1175.91 1175.17 1172.79 1174.6 Q1169.7 1174.06 1166.26 1172.95 L1166.26 1166.9 Q1169.51 1168.59 1172.66 1169.45 Q1175.81 1170.27 1178.9 1170.27 Q1183.04 1170.27 1185.26 1168.87 Q1187.49 1167.44 1187.49 1164.86 Q1187.49 1162.48 1185.87 1161.2 Q1184.28 1159.93 1178.83 1158.75 L1176.8 1158.27 Q1171.35 1157.13 1168.94 1154.77 Q1166.52 1152.39 1166.52 1148.25 Q1166.52 1143.22 1170.08 1140.48 Q1173.65 1137.74 1180.2 1137.74 Q1183.45 1137.74 1186.31 1138.22 Q1189.18 1138.7 1191.6 1139.65 Z\" fill=\"#000000\" fill-rule=\"evenodd\" fill-opacity=\"1\" /><polyline clip-path=\"url(#clip832)\" style=\"stroke:#000000; stroke-linecap:butt; stroke-linejoin:round; stroke-width:2; stroke-opacity:0.1; fill:none\" points=\"\n",
       "  210.281,907.976 1952.76,907.976 \n",
       "  \"/>\n",
       "<polyline clip-path=\"url(#clip832)\" style=\"stroke:#000000; stroke-linecap:butt; stroke-linejoin:round; stroke-width:2; stroke-opacity:0.1; fill:none\" points=\"\n",
       "  210.281,709.152 1952.76,709.152 \n",
       "  \"/>\n",
       "<polyline clip-path=\"url(#clip832)\" style=\"stroke:#000000; stroke-linecap:butt; stroke-linejoin:round; stroke-width:2; stroke-opacity:0.1; fill:none\" points=\"\n",
       "  210.281,510.329 1952.76,510.329 \n",
       "  \"/>\n",
       "<polyline clip-path=\"url(#clip832)\" style=\"stroke:#000000; stroke-linecap:butt; stroke-linejoin:round; stroke-width:2; stroke-opacity:0.1; fill:none\" points=\"\n",
       "  210.281,311.505 1952.76,311.505 \n",
       "  \"/>\n",
       "<polyline clip-path=\"url(#clip830)\" style=\"stroke:#000000; stroke-linecap:butt; stroke-linejoin:round; stroke-width:4; stroke-opacity:1; fill:none\" points=\"\n",
       "  210.281,1035.39 210.281,117.424 \n",
       "  \"/>\n",
       "<polyline clip-path=\"url(#clip830)\" style=\"stroke:#000000; stroke-linecap:butt; stroke-linejoin:round; stroke-width:4; stroke-opacity:1; fill:none\" points=\"\n",
       "  210.281,907.976 229.179,907.976 \n",
       "  \"/>\n",
       "<polyline clip-path=\"url(#clip830)\" style=\"stroke:#000000; stroke-linecap:butt; stroke-linejoin:round; stroke-width:4; stroke-opacity:1; fill:none\" points=\"\n",
       "  210.281,709.152 229.179,709.152 \n",
       "  \"/>\n",
       "<polyline clip-path=\"url(#clip830)\" style=\"stroke:#000000; stroke-linecap:butt; stroke-linejoin:round; stroke-width:4; stroke-opacity:1; fill:none\" points=\"\n",
       "  210.281,510.329 229.179,510.329 \n",
       "  \"/>\n",
       "<polyline clip-path=\"url(#clip830)\" style=\"stroke:#000000; stroke-linecap:butt; stroke-linejoin:round; stroke-width:4; stroke-opacity:1; fill:none\" points=\"\n",
       "  210.281,311.505 229.179,311.505 \n",
       "  \"/>\n",
       "<path clip-path=\"url(#clip830)\" d=\"M124.101 893.774 Q120.49 893.774 118.661 897.339 Q116.855 900.881 116.855 908.01 Q116.855 915.117 118.661 918.682 Q120.49 922.223 124.101 922.223 Q127.735 922.223 129.54 918.682 Q131.369 915.117 131.369 908.01 Q131.369 900.881 129.54 897.339 Q127.735 893.774 124.101 893.774 M124.101 890.071 Q129.911 890.071 132.966 894.677 Q136.045 899.26 136.045 908.01 Q136.045 916.737 132.966 921.344 Q129.911 925.927 124.101 925.927 Q118.291 925.927 115.212 921.344 Q112.156 916.737 112.156 908.01 Q112.156 899.26 115.212 894.677 Q118.291 890.071 124.101 890.071 Z\" fill=\"#000000\" fill-rule=\"evenodd\" fill-opacity=\"1\" /><path clip-path=\"url(#clip830)\" d=\"M144.263 919.376 L149.147 919.376 L149.147 925.256 L144.263 925.256 L144.263 919.376 Z\" fill=\"#000000\" fill-rule=\"evenodd\" fill-opacity=\"1\" /><path clip-path=\"url(#clip830)\" d=\"M159.378 890.696 L177.735 890.696 L177.735 894.631 L163.661 894.631 L163.661 903.103 Q164.679 902.756 165.698 902.594 Q166.716 902.409 167.735 902.409 Q173.522 902.409 176.901 905.58 Q180.281 908.751 180.281 914.168 Q180.281 919.746 176.809 922.848 Q173.337 925.927 167.017 925.927 Q164.841 925.927 162.573 925.557 Q160.327 925.186 157.92 924.445 L157.92 919.746 Q160.003 920.881 162.225 921.436 Q164.448 921.992 166.925 921.992 Q170.929 921.992 173.267 919.885 Q175.605 917.779 175.605 914.168 Q175.605 910.557 173.267 908.45 Q170.929 906.344 166.925 906.344 Q165.05 906.344 163.175 906.76 Q161.323 907.177 159.378 908.057 L159.378 890.696 Z\" fill=\"#000000\" fill-rule=\"evenodd\" fill-opacity=\"1\" /><path clip-path=\"url(#clip830)\" d=\"M113.916 722.497 L121.554 722.497 L121.554 696.131 L113.244 697.798 L113.244 693.539 L121.508 691.872 L126.184 691.872 L126.184 722.497 L133.823 722.497 L133.823 726.432 L113.916 726.432 L113.916 722.497 Z\" fill=\"#000000\" fill-rule=\"evenodd\" fill-opacity=\"1\" /><path clip-path=\"url(#clip830)\" d=\"M143.267 720.553 L148.151 720.553 L148.151 726.432 L143.267 726.432 L143.267 720.553 Z\" fill=\"#000000\" fill-rule=\"evenodd\" fill-opacity=\"1\" /><path clip-path=\"url(#clip830)\" d=\"M168.337 694.951 Q164.725 694.951 162.897 698.516 Q161.091 702.057 161.091 709.187 Q161.091 716.293 162.897 719.858 Q164.725 723.4 168.337 723.4 Q171.971 723.4 173.776 719.858 Q175.605 716.293 175.605 709.187 Q175.605 702.057 173.776 698.516 Q171.971 694.951 168.337 694.951 M168.337 691.247 Q174.147 691.247 177.202 695.854 Q180.281 700.437 180.281 709.187 Q180.281 717.914 177.202 722.52 Q174.147 727.103 168.337 727.103 Q162.526 727.103 159.448 722.52 Q156.392 717.914 156.392 709.187 Q156.392 700.437 159.448 695.854 Q162.526 691.247 168.337 691.247 Z\" fill=\"#000000\" fill-rule=\"evenodd\" fill-opacity=\"1\" /><path clip-path=\"url(#clip830)\" d=\"M114.911 523.674 L122.55 523.674 L122.55 497.308 L114.24 498.975 L114.24 494.715 L122.503 493.049 L127.179 493.049 L127.179 523.674 L134.818 523.674 L134.818 527.609 L114.911 527.609 L114.911 523.674 Z\" fill=\"#000000\" fill-rule=\"evenodd\" fill-opacity=\"1\" /><path clip-path=\"url(#clip830)\" d=\"M144.263 521.729 L149.147 521.729 L149.147 527.609 L144.263 527.609 L144.263 521.729 Z\" fill=\"#000000\" fill-rule=\"evenodd\" fill-opacity=\"1\" /><path clip-path=\"url(#clip830)\" d=\"M159.378 493.049 L177.735 493.049 L177.735 496.984 L163.661 496.984 L163.661 505.456 Q164.679 505.109 165.698 504.947 Q166.716 504.762 167.735 504.762 Q173.522 504.762 176.901 507.933 Q180.281 511.104 180.281 516.521 Q180.281 522.099 176.809 525.201 Q173.337 528.28 167.017 528.28 Q164.841 528.28 162.573 527.91 Q160.327 527.539 157.92 526.799 L157.92 522.099 Q160.003 523.234 162.225 523.789 Q164.448 524.345 166.925 524.345 Q170.929 524.345 173.267 522.238 Q175.605 520.132 175.605 516.521 Q175.605 512.91 173.267 510.803 Q170.929 508.697 166.925 508.697 Q165.05 508.697 163.175 509.113 Q161.323 509.53 159.378 510.41 L159.378 493.049 Z\" fill=\"#000000\" fill-rule=\"evenodd\" fill-opacity=\"1\" /><path clip-path=\"url(#clip830)\" d=\"M117.133 324.85 L133.452 324.85 L133.452 328.785 L111.508 328.785 L111.508 324.85 Q114.17 322.095 118.753 317.466 Q123.36 312.813 124.54 311.47 Q126.786 308.947 127.665 307.211 Q128.568 305.452 128.568 303.762 Q128.568 301.008 126.624 299.271 Q124.703 297.535 121.601 297.535 Q119.402 297.535 116.948 298.299 Q114.517 299.063 111.74 300.614 L111.74 295.892 Q114.564 294.758 117.017 294.179 Q119.471 293.6 121.508 293.6 Q126.878 293.6 130.073 296.285 Q133.267 298.971 133.267 303.461 Q133.267 305.591 132.457 307.512 Q131.67 309.41 129.564 312.003 Q128.985 312.674 125.883 315.892 Q122.781 319.086 117.133 324.85 Z\" fill=\"#000000\" fill-rule=\"evenodd\" fill-opacity=\"1\" /><path clip-path=\"url(#clip830)\" d=\"M143.267 322.906 L148.151 322.906 L148.151 328.785 L143.267 328.785 L143.267 322.906 Z\" fill=\"#000000\" fill-rule=\"evenodd\" fill-opacity=\"1\" /><path clip-path=\"url(#clip830)\" d=\"M168.337 297.304 Q164.725 297.304 162.897 300.869 Q161.091 304.41 161.091 311.54 Q161.091 318.646 162.897 322.211 Q164.725 325.753 168.337 325.753 Q171.971 325.753 173.776 322.211 Q175.605 318.646 175.605 311.54 Q175.605 304.41 173.776 300.869 Q171.971 297.304 168.337 297.304 M168.337 293.6 Q174.147 293.6 177.202 298.207 Q180.281 302.79 180.281 311.54 Q180.281 320.267 177.202 324.873 Q174.147 329.457 168.337 329.457 Q162.526 329.457 159.448 324.873 Q156.392 320.267 156.392 311.54 Q156.392 302.79 159.448 298.207 Q162.526 293.6 168.337 293.6 Z\" fill=\"#000000\" fill-rule=\"evenodd\" fill-opacity=\"1\" /><path clip-path=\"url(#clip830)\" d=\"M23.3924 835.172 L30.1719 835.172 Q27.1482 838.418 25.6523 842.111 Q24.1563 845.771 24.1563 849.909 Q24.1563 858.057 29.1534 862.385 Q34.1187 866.714 43.5399 866.714 Q52.9293 866.714 57.9264 862.385 Q62.8916 858.057 62.8916 849.909 Q62.8916 845.771 61.3957 842.111 Q59.8998 838.418 56.8761 835.172 L63.5919 835.172 Q65.8835 838.546 67.0294 842.333 Q68.1752 846.089 68.1752 850.291 Q68.1752 861.08 61.5867 867.287 Q54.9663 873.494 43.5399 873.494 Q32.0816 873.494 25.4931 867.287 Q18.8728 861.08 18.8728 850.291 Q18.8728 846.025 20.0186 842.27 Q21.1326 838.482 23.3924 835.172 Z\" fill=\"#000000\" fill-rule=\"evenodd\" fill-opacity=\"1\" /><path clip-path=\"url(#clip830)\" d=\"M37.0787 804.839 Q36.5058 805.826 36.2512 807.004 Q35.9647 808.15 35.9647 809.55 Q35.9647 814.515 39.2112 817.189 Q42.4259 819.831 48.4733 819.831 L67.2522 819.831 L67.2522 825.719 L31.6042 825.719 L31.6042 819.831 L37.1424 819.831 Q33.8959 817.985 32.3363 815.024 Q30.7448 812.064 30.7448 807.831 Q30.7448 807.227 30.8403 806.494 Q30.904 805.762 31.0631 804.871 L37.0787 804.839 Z\" fill=\"#000000\" fill-rule=\"evenodd\" fill-opacity=\"1\" /><path clip-path=\"url(#clip830)\" d=\"M35.7101 786.315 Q35.7101 791.026 39.4022 793.763 Q43.0625 796.5 49.46 796.5 Q55.8575 796.5 59.5497 793.795 Q63.2099 791.058 63.2099 786.315 Q63.2099 781.636 59.5178 778.899 Q55.8257 776.162 49.46 776.162 Q43.1261 776.162 39.434 778.899 Q35.7101 781.636 35.7101 786.315 M30.7448 786.315 Q30.7448 778.676 35.7101 774.316 Q40.6753 769.955 49.46 769.955 Q58.2129 769.955 63.2099 774.316 Q68.1752 778.676 68.1752 786.315 Q68.1752 793.986 63.2099 798.346 Q58.2129 802.675 49.46 802.675 Q40.6753 802.675 35.7101 798.346 Q30.7448 793.986 30.7448 786.315 Z\" fill=\"#000000\" fill-rule=\"evenodd\" fill-opacity=\"1\" /><path clip-path=\"url(#clip830)\" d=\"M32.6545 737.522 L38.1927 737.522 Q36.9196 740.005 36.283 742.678 Q35.6464 745.352 35.6464 748.216 Q35.6464 752.577 36.9832 754.773 Q38.32 756.937 40.9936 756.937 Q43.0306 756.937 44.2083 755.378 Q45.3541 753.818 46.4045 749.108 L46.8501 747.102 Q48.1869 740.864 50.6377 738.254 Q53.0566 735.612 57.4171 735.612 Q62.3824 735.612 65.2788 739.559 Q68.1752 743.474 68.1752 750.349 Q68.1752 753.213 67.6023 756.333 Q67.0612 759.42 65.9472 762.858 L59.8998 762.858 Q61.5867 759.611 62.446 756.46 Q63.2736 753.309 63.2736 750.222 Q63.2736 746.084 61.8731 743.856 Q60.4409 741.628 57.8627 741.628 Q55.4756 741.628 54.2025 743.251 Q52.9293 744.843 51.7517 750.285 L51.2742 752.322 Q50.1284 757.765 47.7731 760.184 Q45.386 762.603 41.2482 762.603 Q36.2193 762.603 33.4821 759.038 Q30.7448 755.473 30.7448 748.917 Q30.7448 745.67 31.2223 742.806 Q31.6997 739.941 32.6545 737.522 Z\" fill=\"#000000\" fill-rule=\"evenodd\" fill-opacity=\"1\" /><path clip-path=\"url(#clip830)\" d=\"M32.6545 703.561 L38.1927 703.561 Q36.9196 706.044 36.283 708.717 Q35.6464 711.391 35.6464 714.255 Q35.6464 718.616 36.9832 720.812 Q38.32 722.976 40.9936 722.976 Q43.0306 722.976 44.2083 721.417 Q45.3541 719.857 46.4045 715.147 L46.8501 713.141 Q48.1869 706.903 50.6377 704.293 Q53.0566 701.651 57.4171 701.651 Q62.3824 701.651 65.2788 705.598 Q68.1752 709.513 68.1752 716.388 Q68.1752 719.252 67.6023 722.372 Q67.0612 725.459 65.9472 728.896 L59.8998 728.896 Q61.5867 725.65 62.446 722.499 Q63.2736 719.348 63.2736 716.261 Q63.2736 712.123 61.8731 709.895 Q60.4409 707.667 57.8627 707.667 Q55.4756 707.667 54.2025 709.29 Q52.9293 710.882 51.7517 716.324 L51.2742 718.361 Q50.1284 723.804 47.7731 726.223 Q45.386 728.642 41.2482 728.642 Q36.2193 728.642 33.4821 725.077 Q30.7448 721.512 30.7448 714.956 Q30.7448 711.709 31.2223 708.845 Q31.6997 705.98 32.6545 703.561 Z\" fill=\"#000000\" fill-rule=\"evenodd\" fill-opacity=\"1\" /><path clip-path=\"url(#clip830)\" d=\"M46.7864 695.286 L46.7864 678.13 L52.0063 678.13 L52.0063 695.286 L46.7864 695.286 Z\" fill=\"#000000\" fill-rule=\"evenodd\" fill-opacity=\"1\" /><path clip-path=\"url(#clip830)\" d=\"M47.9641 638.312 L50.8286 638.312 L50.8286 665.239 Q56.8761 664.857 60.0589 661.611 Q63.2099 658.333 63.2099 652.508 Q63.2099 649.134 62.3824 645.983 Q61.5549 642.8 59.8998 639.681 L65.4379 639.681 Q66.7747 642.832 67.475 646.142 Q68.1752 649.452 68.1752 652.858 Q68.1752 661.388 63.2099 666.385 Q58.2447 671.35 49.7783 671.35 Q41.0254 671.35 35.9011 666.64 Q30.7448 661.897 30.7448 653.877 Q30.7448 646.683 35.3918 642.514 Q40.0069 638.312 47.9641 638.312 M46.2453 644.169 Q41.4392 644.233 38.5746 646.874 Q35.7101 649.484 35.7101 653.813 Q35.7101 658.715 38.4792 661.675 Q41.2482 664.603 46.2772 665.048 L46.2453 644.169 Z\" fill=\"#000000\" fill-rule=\"evenodd\" fill-opacity=\"1\" /><path clip-path=\"url(#clip830)\" d=\"M45.7361 599.068 L67.2522 599.068 L67.2522 604.924 L45.927 604.924 Q40.8663 604.924 38.3518 606.898 Q35.8374 608.871 35.8374 612.818 Q35.8374 617.56 38.8611 620.298 Q41.8848 623.035 47.1047 623.035 L67.2522 623.035 L67.2522 628.923 L31.6042 628.923 L31.6042 623.035 L37.1424 623.035 Q33.9277 620.934 32.3363 618.101 Q30.7448 615.237 30.7448 611.513 Q30.7448 605.37 34.5643 602.219 Q38.3518 599.068 45.7361 599.068 Z\" fill=\"#000000\" fill-rule=\"evenodd\" fill-opacity=\"1\" /><path clip-path=\"url(#clip830)\" d=\"M21.4827 581.594 L31.6042 581.594 L31.6042 569.531 L36.1557 569.531 L36.1557 581.594 L55.5074 581.594 Q59.8679 581.594 61.1093 580.416 Q62.3506 579.207 62.3506 575.547 L62.3506 569.531 L67.2522 569.531 L67.2522 575.547 Q67.2522 582.326 64.7377 584.904 Q62.1914 587.482 55.5074 587.482 L36.1557 587.482 L36.1557 591.779 L31.6042 591.779 L31.6042 587.482 L21.4827 587.482 L21.4827 581.594 Z\" fill=\"#000000\" fill-rule=\"evenodd\" fill-opacity=\"1\" /><path clip-path=\"url(#clip830)\" d=\"M37.0787 541.172 Q36.5058 542.158 36.2512 543.336 Q35.9647 544.482 35.9647 545.882 Q35.9647 550.848 39.2112 553.521 Q42.4259 556.163 48.4733 556.163 L67.2522 556.163 L67.2522 562.051 L31.6042 562.051 L31.6042 556.163 L37.1424 556.163 Q33.8959 554.317 32.3363 551.357 Q30.7448 548.397 30.7448 544.164 Q30.7448 543.559 30.8403 542.827 Q30.904 542.095 31.0631 541.204 L37.0787 541.172 Z\" fill=\"#000000\" fill-rule=\"evenodd\" fill-opacity=\"1\" /><path clip-path=\"url(#clip830)\" d=\"M35.7101 522.648 Q35.7101 527.358 39.4022 530.095 Q43.0625 532.833 49.46 532.833 Q55.8575 532.833 59.5497 530.127 Q63.2099 527.39 63.2099 522.648 Q63.2099 517.969 59.5178 515.232 Q55.8257 512.494 49.46 512.494 Q43.1261 512.494 39.434 515.232 Q35.7101 517.969 35.7101 522.648 M30.7448 522.648 Q30.7448 515.009 35.7101 510.648 Q40.6753 506.288 49.46 506.288 Q58.2129 506.288 63.2099 510.648 Q68.1752 515.009 68.1752 522.648 Q68.1752 530.318 63.2099 534.679 Q58.2129 539.007 49.46 539.007 Q40.6753 539.007 35.7101 534.679 Q30.7448 530.318 30.7448 522.648 Z\" fill=\"#000000\" fill-rule=\"evenodd\" fill-opacity=\"1\" /><path clip-path=\"url(#clip830)\" d=\"M61.905 490.915 L80.8111 490.915 L80.8111 496.803 L31.6042 496.803 L31.6042 490.915 L37.0151 490.915 Q33.8322 489.068 32.3044 486.268 Q30.7448 483.435 30.7448 479.52 Q30.7448 473.027 35.9011 468.985 Q41.0573 464.911 49.46 464.911 Q57.8627 464.911 63.019 468.985 Q68.1752 473.027 68.1752 479.52 Q68.1752 483.435 66.6474 486.268 Q65.0878 489.068 61.905 490.915 M49.46 470.99 Q42.9988 470.99 39.3385 473.663 Q35.6464 476.305 35.6464 480.952 Q35.6464 485.599 39.3385 488.273 Q42.9988 490.915 49.46 490.915 Q55.9212 490.915 59.6133 488.273 Q63.2736 485.599 63.2736 480.952 Q63.2736 476.305 59.6133 473.663 Q55.9212 470.99 49.46 470.99 Z\" fill=\"#000000\" fill-rule=\"evenodd\" fill-opacity=\"1\" /><path clip-path=\"url(#clip830)\" d=\"M70.5623 440.371 Q76.928 442.853 78.8696 445.209 Q80.8111 447.564 80.8111 451.511 L80.8111 456.19 L75.9095 456.19 L75.9095 452.752 Q75.9095 450.333 74.7637 448.996 Q73.6179 447.66 69.3528 446.036 L66.6792 444.986 L31.6042 459.404 L31.6042 453.198 L59.486 442.058 L31.6042 430.918 L31.6042 424.711 L70.5623 440.371 Z\" fill=\"#000000\" fill-rule=\"evenodd\" fill-opacity=\"1\" /><path clip-path=\"url(#clip830)\" d=\"M17.727 395.906 L17.727 390.05 L67.2522 390.05 L67.2522 395.906 L17.727 395.906 Z\" fill=\"#000000\" fill-rule=\"evenodd\" fill-opacity=\"1\" /><path clip-path=\"url(#clip830)\" d=\"M35.7101 363.982 Q35.7101 368.693 39.4022 371.43 Q43.0625 374.167 49.46 374.167 Q55.8575 374.167 59.5497 371.462 Q63.2099 368.725 63.2099 363.982 Q63.2099 359.304 59.5178 356.566 Q55.8257 353.829 49.46 353.829 Q43.1261 353.829 39.434 356.566 Q35.7101 359.304 35.7101 363.982 M30.7448 363.982 Q30.7448 356.344 35.7101 351.983 Q40.6753 347.622 49.46 347.622 Q58.2129 347.622 63.2099 351.983 Q68.1752 356.344 68.1752 363.982 Q68.1752 371.653 63.2099 376.014 Q58.2129 380.342 49.46 380.342 Q40.6753 380.342 35.7101 376.014 Q30.7448 371.653 30.7448 363.982 Z\" fill=\"#000000\" fill-rule=\"evenodd\" fill-opacity=\"1\" /><path clip-path=\"url(#clip830)\" d=\"M32.6545 315.189 L38.1927 315.189 Q36.9196 317.672 36.283 320.345 Q35.6464 323.019 35.6464 325.884 Q35.6464 330.244 36.9832 332.44 Q38.32 334.605 40.9936 334.605 Q43.0306 334.605 44.2083 333.045 Q45.3541 331.485 46.4045 326.775 L46.8501 324.77 Q48.1869 318.531 50.6377 315.921 Q53.0566 313.28 57.4171 313.28 Q62.3824 313.28 65.2788 317.226 Q68.1752 321.141 68.1752 328.016 Q68.1752 330.881 67.6023 334 Q67.0612 337.087 65.9472 340.525 L59.8998 340.525 Q61.5867 337.278 62.446 334.127 Q63.2736 330.976 63.2736 327.889 Q63.2736 323.751 61.8731 321.523 Q60.4409 319.295 57.8627 319.295 Q55.4756 319.295 54.2025 320.918 Q52.9293 322.51 51.7517 327.952 L51.2742 329.989 Q50.1284 335.432 47.7731 337.851 Q45.386 340.27 41.2482 340.27 Q36.2193 340.27 33.4821 336.705 Q30.7448 333.141 30.7448 326.584 Q30.7448 323.337 31.2223 320.473 Q31.6997 317.608 32.6545 315.189 Z\" fill=\"#000000\" fill-rule=\"evenodd\" fill-opacity=\"1\" /><path clip-path=\"url(#clip830)\" d=\"M32.6545 281.228 L38.1927 281.228 Q36.9196 283.711 36.283 286.384 Q35.6464 289.058 35.6464 291.923 Q35.6464 296.283 36.9832 298.479 Q38.32 300.644 40.9936 300.644 Q43.0306 300.644 44.2083 299.084 Q45.3541 297.524 46.4045 292.814 L46.8501 290.809 Q48.1869 284.57 50.6377 281.96 Q53.0566 279.318 57.4171 279.318 Q62.3824 279.318 65.2788 283.265 Q68.1752 287.18 68.1752 294.055 Q68.1752 296.92 67.6023 300.039 Q67.0612 303.126 65.9472 306.564 L59.8998 306.564 Q61.5867 303.317 62.446 300.166 Q63.2736 297.015 63.2736 293.928 Q63.2736 289.79 61.8731 287.562 Q60.4409 285.334 57.8627 285.334 Q55.4756 285.334 54.2025 286.957 Q52.9293 288.549 51.7517 293.991 L51.2742 296.028 Q50.1284 301.471 47.7731 303.89 Q45.386 306.309 41.2482 306.309 Q36.2193 306.309 33.4821 302.744 Q30.7448 299.179 30.7448 292.623 Q30.7448 289.376 31.2223 286.512 Q31.6997 283.647 32.6545 281.228 Z\" fill=\"#000000\" fill-rule=\"evenodd\" fill-opacity=\"1\" /><path clip-path=\"url(#clip830)\" d=\"M805.368 12.096 L843.609 12.096 L843.609 18.9825 L813.551 18.9825 L813.551 36.8875 L842.353 36.8875 L842.353 43.7741 L813.551 43.7741 L813.551 65.6895 L844.338 65.6895 L844.338 72.576 L805.368 72.576 L805.368 12.096 Z\" fill=\"#000000\" fill-rule=\"evenodd\" fill-opacity=\"1\" /><path clip-path=\"url(#clip830)\" d=\"M883.753 34.1734 Q882.497 33.4443 880.999 33.1202 Q879.54 32.7556 877.758 32.7556 Q871.439 32.7556 868.036 36.8875 Q864.674 40.9789 864.674 48.6757 L864.674 72.576 L857.179 72.576 L857.179 27.2059 L864.674 27.2059 L864.674 34.2544 Q867.023 30.1225 870.79 28.1376 Q874.558 26.1121 879.945 26.1121 Q880.715 26.1121 881.647 26.2337 Q882.579 26.3147 883.713 26.5172 L883.753 34.1734 Z\" fill=\"#000000\" fill-rule=\"evenodd\" fill-opacity=\"1\" /><path clip-path=\"url(#clip830)\" d=\"M916.404 34.1734 Q915.148 33.4443 913.649 33.1202 Q912.191 32.7556 910.408 32.7556 Q904.089 32.7556 900.686 36.8875 Q897.324 40.9789 897.324 48.6757 L897.324 72.576 L889.83 72.576 L889.83 27.2059 L897.324 27.2059 L897.324 34.2544 Q899.673 30.1225 903.441 28.1376 Q907.208 26.1121 912.596 26.1121 Q913.365 26.1121 914.297 26.2337 Q915.229 26.3147 916.363 26.5172 L916.404 34.1734 Z\" fill=\"#000000\" fill-rule=\"evenodd\" fill-opacity=\"1\" /><path clip-path=\"url(#clip830)\" d=\"M939.98 32.4315 Q933.984 32.4315 930.501 37.1306 Q927.017 41.7891 927.017 49.9314 Q927.017 58.0738 930.46 62.7728 Q933.944 67.4314 939.98 67.4314 Q945.935 67.4314 949.418 62.7323 Q952.902 58.0333 952.902 49.9314 Q952.902 41.8701 949.418 37.1711 Q945.935 32.4315 939.98 32.4315 M939.98 26.1121 Q949.702 26.1121 955.252 32.4315 Q960.801 38.7509 960.801 49.9314 Q960.801 61.0714 955.252 67.4314 Q949.702 73.7508 939.98 73.7508 Q930.217 73.7508 924.667 67.4314 Q919.158 61.0714 919.158 49.9314 Q919.158 38.7509 924.667 32.4315 Q930.217 26.1121 939.98 26.1121 Z\" fill=\"#000000\" fill-rule=\"evenodd\" fill-opacity=\"1\" /><path clip-path=\"url(#clip830)\" d=\"M999.447 34.1734 Q998.191 33.4443 996.692 33.1202 Q995.234 32.7556 993.452 32.7556 Q987.132 32.7556 983.73 36.8875 Q980.367 40.9789 980.367 48.6757 L980.367 72.576 L972.873 72.576 L972.873 27.2059 L980.367 27.2059 L980.367 34.2544 Q982.717 30.1225 986.484 28.1376 Q990.252 26.1121 995.639 26.1121 Q996.409 26.1121 997.341 26.2337 Q998.272 26.3147 999.407 26.5172 L999.447 34.1734 Z\" fill=\"#000000\" fill-rule=\"evenodd\" fill-opacity=\"1\" /><path clip-path=\"url(#clip830)\" d=\"M1056.61 9.54393 L1056.61 15.7418 L1049.48 15.7418 Q1045.47 15.7418 1043.89 17.3622 Q1042.35 18.9825 1042.35 23.1955 L1042.35 27.2059 L1054.62 27.2059 L1054.62 32.9987 L1042.35 32.9987 L1042.35 72.576 L1034.85 72.576 L1034.85 32.9987 L1027.72 32.9987 L1027.72 27.2059 L1034.85 27.2059 L1034.85 24.0462 Q1034.85 16.471 1038.38 13.0277 Q1041.9 9.54393 1049.56 9.54393 L1056.61 9.54393 Z\" fill=\"#000000\" fill-rule=\"evenodd\" fill-opacity=\"1\" /><path clip-path=\"url(#clip830)\" d=\"M1062.07 54.671 L1062.07 27.2059 L1069.53 27.2059 L1069.53 54.3874 Q1069.53 60.8284 1072.04 64.0691 Q1074.55 67.2693 1079.57 67.2693 Q1085.61 67.2693 1089.09 63.421 Q1092.62 59.5726 1092.62 52.9291 L1092.62 27.2059 L1100.07 27.2059 L1100.07 72.576 L1092.62 72.576 L1092.62 65.6084 Q1089.9 69.7404 1086.3 71.7658 Q1082.73 73.7508 1077.99 73.7508 Q1070.18 73.7508 1066.12 68.8897 Q1062.07 64.0286 1062.07 54.671 M1080.83 26.1121 L1080.83 26.1121 Z\" fill=\"#000000\" fill-rule=\"evenodd\" fill-opacity=\"1\" /><path clip-path=\"url(#clip830)\" d=\"M1153.14 45.1919 L1153.14 72.576 L1145.68 72.576 L1145.68 45.4349 Q1145.68 38.994 1143.17 35.7938 Q1140.66 32.5936 1135.64 32.5936 Q1129.6 32.5936 1126.12 36.4419 Q1122.64 40.2903 1122.64 46.9338 L1122.64 72.576 L1115.14 72.576 L1115.14 27.2059 L1122.64 27.2059 L1122.64 34.2544 Q1125.31 30.163 1128.91 28.1376 Q1132.56 26.1121 1137.3 26.1121 Q1145.12 26.1121 1149.13 30.9732 Q1153.14 35.7938 1153.14 45.1919 Z\" fill=\"#000000\" fill-rule=\"evenodd\" fill-opacity=\"1\" /><path clip-path=\"url(#clip830)\" d=\"M1200.66 28.9478 L1200.66 35.9153 Q1197.5 34.1734 1194.3 33.3227 Q1191.14 32.4315 1187.9 32.4315 Q1180.64 32.4315 1176.63 37.0496 Q1172.62 41.6271 1172.62 49.9314 Q1172.62 58.2358 1176.63 62.8538 Q1180.64 67.4314 1187.9 67.4314 Q1191.14 67.4314 1194.3 66.5807 Q1197.5 65.6895 1200.66 63.9476 L1200.66 70.8341 Q1197.54 72.2924 1194.17 73.0216 Q1190.85 73.7508 1187.08 73.7508 Q1176.84 73.7508 1170.8 67.3098 Q1164.76 60.8689 1164.76 49.9314 Q1164.76 38.832 1170.84 32.472 Q1176.96 26.1121 1187.57 26.1121 Q1191.01 26.1121 1194.3 26.8413 Q1197.58 27.5299 1200.66 28.9478 Z\" fill=\"#000000\" fill-rule=\"evenodd\" fill-opacity=\"1\" /><path clip-path=\"url(#clip830)\" d=\"M1220.99 14.324 L1220.99 27.2059 L1236.34 27.2059 L1236.34 32.9987 L1220.99 32.9987 L1220.99 57.6282 Q1220.99 63.1779 1222.49 64.7578 Q1224.03 66.3376 1228.69 66.3376 L1236.34 66.3376 L1236.34 72.576 L1228.69 72.576 Q1220.06 72.576 1216.78 69.3758 Q1213.5 66.1351 1213.5 57.6282 L1213.5 32.9987 L1208.03 32.9987 L1208.03 27.2059 L1213.5 27.2059 L1213.5 14.324 L1220.99 14.324 Z\" fill=\"#000000\" fill-rule=\"evenodd\" fill-opacity=\"1\" /><path clip-path=\"url(#clip830)\" d=\"M1246.15 27.2059 L1253.6 27.2059 L1253.6 72.576 L1246.15 72.576 L1246.15 27.2059 M1246.15 9.54393 L1253.6 9.54393 L1253.6 18.9825 L1246.15 18.9825 L1246.15 9.54393 Z\" fill=\"#000000\" fill-rule=\"evenodd\" fill-opacity=\"1\" /><path clip-path=\"url(#clip830)\" d=\"M1286.78 32.4315 Q1280.78 32.4315 1277.3 37.1306 Q1273.81 41.7891 1273.81 49.9314 Q1273.81 58.0738 1277.26 62.7728 Q1280.74 67.4314 1286.78 67.4314 Q1292.73 67.4314 1296.22 62.7323 Q1299.7 58.0333 1299.7 49.9314 Q1299.7 41.8701 1296.22 37.1711 Q1292.73 32.4315 1286.78 32.4315 M1286.78 26.1121 Q1296.5 26.1121 1302.05 32.4315 Q1307.6 38.7509 1307.6 49.9314 Q1307.6 61.0714 1302.05 67.4314 Q1296.5 73.7508 1286.78 73.7508 Q1277.02 73.7508 1271.47 67.4314 Q1265.96 61.0714 1265.96 49.9314 Q1265.96 38.7509 1271.47 32.4315 Q1277.02 26.1121 1286.78 26.1121 Z\" fill=\"#000000\" fill-rule=\"evenodd\" fill-opacity=\"1\" /><path clip-path=\"url(#clip830)\" d=\"M1357.67 45.1919 L1357.67 72.576 L1350.21 72.576 L1350.21 45.4349 Q1350.21 38.994 1347.7 35.7938 Q1345.19 32.5936 1340.17 32.5936 Q1334.13 32.5936 1330.65 36.4419 Q1327.17 40.2903 1327.17 46.9338 L1327.17 72.576 L1319.67 72.576 L1319.67 27.2059 L1327.17 27.2059 L1327.17 34.2544 Q1329.84 30.163 1333.44 28.1376 Q1337.09 26.1121 1341.83 26.1121 Q1349.65 26.1121 1353.66 30.9732 Q1357.67 35.7938 1357.67 45.1919 Z\" fill=\"#000000\" fill-rule=\"evenodd\" fill-opacity=\"1\" /><polyline clip-path=\"url(#clip832)\" style=\"stroke:#009af9; stroke-linecap:butt; stroke-linejoin:round; stroke-width:8; stroke-opacity:1; fill:none\" points=\"\n",
       "  259.596,143.404 807.544,934.97 1355.49,996.174 1903.44,1009.41 \n",
       "  \"/>\n",
       "</svg>\n"
      ]
     },
     "execution_count": 21,
     "metadata": {},
     "output_type": "execute_result"
    }
   ],
   "source": [
    "losses = report(mach)[1]\n",
    "epochs = model.epochs\n",
    "plot(0:epochs, losses, title=\"Error function\", size=(500,300), linewidth=2, legend=false)\n",
    "xlabel!(\"Epochs\")\n",
    "ylabel!(\"Cross-entropy loss\")"
   ]
  },
  {
   "cell_type": "markdown",
   "id": "4c248ab3",
   "metadata": {},
   "source": [
    "### Predict the outcome\n"
   ]
  },
  {
   "cell_type": "code",
   "execution_count": 15,
   "id": "2545bb5c",
   "metadata": {},
   "outputs": [
    {
     "data": {
      "text/plain": [
       "5-element CategoricalArrays.CategoricalArray{Int64,1,UInt32}:\n",
       " 8\n",
       " 2\n",
       " 6\n",
       " 2\n",
       " 7"
      ]
     },
     "execution_count": 15,
     "metadata": {},
     "output_type": "execute_result"
    }
   ],
   "source": [
    "ŷ = predict_mode(mach, X)\n",
    "ŷ[1:5]"
   ]
  },
  {
   "cell_type": "code",
   "execution_count": 16,
   "id": "b0b75dbf",
   "metadata": {},
   "outputs": [
    {
     "data": {
      "text/plain": [
       "10×10 Matrix{Int64}:\n",
       " 4092     1    15     8     2    18    17    10    16    17\n",
       "    0  4616     6     9     9     5     7     7    30     4\n",
       "    1    17  4019    44     8    11     4    18    18     2\n",
       "    4    24    22  4071     3    43     1     1    32    36\n",
       "    5     6    30     1  3934     9     5    22    11    73\n",
       "    2     5     7    70     3  3622    15     0    30    11\n",
       "   23     2    20     8    39    43  4091     2    29     3\n",
       "    3    14    30    36     9     5     0  4312     7    75\n",
       "   15    29    21    27     8    21     3     4  3903    20\n",
       "    1     5     1    18    74    18     0    10    20  3923"
      ]
     },
     "metadata": {},
     "output_type": "display_data"
    },
    {
     "name": "stdout",
     "output_type": "stream",
     "text": [
      "accuracy: 0.966\n",
      "f1-score: 0.966\n"
     ]
    }
   ],
   "source": [
    "printMetrics(ŷ, y)"
   ]
  },
  {
   "cell_type": "markdown",
   "id": "abea1906",
   "metadata": {},
   "source": [
    "### Evaluate"
   ]
  },
  {
   "cell_type": "code",
   "execution_count": null,
   "id": "ca3446e4",
   "metadata": {},
   "outputs": [
    {
     "name": "stderr",
     "output_type": "stream",
     "text": [
      "\r",
      "\u001b[33mEvaluating over 10 folds:  20%[=====>                   ]  ETA: 1:17:58\u001b[39m"
     ]
    }
   ],
   "source": [
    "MLJ.evaluate!(mach,\n",
    "    resampling=CV(nfolds=10),\n",
    "    measures=[cross_entropy])\n"
   ]
  },
  {
   "cell_type": "code",
   "execution_count": null,
   "id": "565ce406",
   "metadata": {},
   "outputs": [],
   "source": []
  }
 ],
 "metadata": {
  "kernelspec": {
   "display_name": "Julia 1.6.5",
   "language": "julia",
   "name": "julia-1.6"
  },
  "language_info": {
   "file_extension": ".jl",
   "mimetype": "application/julia",
   "name": "julia",
   "version": "1.6.5"
  }
 },
 "nbformat": 4,
 "nbformat_minor": 5
}
