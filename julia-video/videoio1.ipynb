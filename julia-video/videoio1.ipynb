{
 "cells": [
  {
   "cell_type": "markdown",
   "id": "417f0150",
   "metadata": {},
   "source": [
    "## VideoIO read/play"
   ]
  },
  {
   "cell_type": "code",
   "execution_count": 1,
   "id": "c98c6618",
   "metadata": {},
   "outputs": [
    {
     "data": {
      "text/plain": [
       "AVInput(/home/ciro/.julia/packages/VideoIO/3LUls/src/../videos/annie_oakley.ogg, ...), with\n",
       "  1 video stream(s)\n"
      ]
     },
     "metadata": {},
     "output_type": "display_data"
    }
   ],
   "source": [
    "using GLMakie\n",
    "using VideoIO\n",
    "\n",
    "f = VideoIO.testvideo(\"annie_oakley\")  # downloaded if not available"
   ]
  },
  {
   "cell_type": "code",
   "execution_count": 2,
   "id": "b8b3b8aa",
   "metadata": {},
   "outputs": [
    {
     "ename": "ErrorException",
     "evalue": "setting show_axis for scene via plot attribute not supported anymore",
     "output_type": "error",
     "traceback": [
      "setting show_axis for scene via plot attribute not supported anymore\n",
      "\n",
      "Stacktrace:\n",
      "  [1] error(s::String)\n",
      "    @ Base ./error.jl:33\n",
      "  [2] plot!(scene::Scene, P::Type{Image{Tuple{UnitRange{Int64}, UnitRange{Int64}, PermutedDimsArray{ColorTypes.RGB{FixedPointNumbers.N0f8}, 2, (2, 1), (2, 1), Matrix{ColorTypes.RGB{FixedPointNumbers.N0f8}}}}}}, attributes::Attributes, input::Tuple{Observable{UnitRange{Int64}}, Observable{UnitRange{Int64}}, Observable{PermutedDimsArray{ColorTypes.RGB{FixedPointNumbers.N0f8}, 2, (2, 1), (2, 1), Matrix{ColorTypes.RGB{FixedPointNumbers.N0f8}}}}}, args::Observable{Tuple{Vector{Float32}, Vector{Float32}, Matrix{ColorTypes.RGB{Float32}}}})\n",
      "    @ Makie ~/.julia/packages/Makie/vwpRo/src/interfaces.jl:398\n",
      "  [3] plot!(::Scene, ::Type{Image{ArgType} where ArgType}, ::Attributes, ::UnitRange{Int64}, ::Vararg{Any, N} where N; kw_attributes::Base.Iterators.Pairs{Union{}, Union{}, Tuple{}, NamedTuple{(), Tuple{}}})\n",
      "    @ Makie ~/.julia/packages/Makie/vwpRo/src/interfaces.jl:319\n",
      "  [4] plot!\n",
      "    @ ~/.julia/packages/Makie/vwpRo/src/interfaces.jl:287 [inlined]\n",
      "  [5] #plot!#148\n",
      "    @ ~/.julia/packages/Makie/vwpRo/src/interfaces.jl:270 [inlined]\n",
      "  [6] #image!#14\n",
      "    @ ~/.julia/packages/MakieCore/A0hGm/src/recipes.jl:37 [inlined]\n",
      "  [7] play(f::VideoIO.VideoReader{true, VideoIO.SwsTransform, String}; flipx::Bool, flipy::Bool, pixelaspectratio::Nothing)\n",
      "    @ VideoIO ~/.julia/packages/VideoIO/3LUls/src/VideoIO.jl:136\n",
      "  [8] playvideo(video::VideoIO.AVInput{String}; flipx::Bool, flipy::Bool, pixelaspectratio::Nothing)\n",
      "    @ VideoIO ~/.julia/packages/VideoIO/3LUls/src/VideoIO.jl:154\n",
      "  [9] playvideo(video::VideoIO.AVInput{String})\n",
      "    @ VideoIO ~/.julia/packages/VideoIO/3LUls/src/VideoIO.jl:153\n",
      " [10] top-level scope\n",
      "    @ ~/projects/julia/julia-video/videoio1.ipynb:1\n",
      " [11] eval\n",
      "    @ ./boot.jl:360 [inlined]\n",
      " [12] include_string(mapexpr::typeof(REPL.softscope), mod::Module, code::String, filename::String)\n",
      "    @ Base ./loading.jl:1116\n",
      " [13] #invokelatest#2\n",
      "    @ ./essentials.jl:708 [inlined]\n",
      " [14] invokelatest\n",
      "    @ ./essentials.jl:706 [inlined]\n",
      " [15] (::VSCodeServer.var\"#146#147\"{VSCodeServer.NotebookRunCellArguments, String})()\n",
      "    @ VSCodeServer ~/.vscode/extensions/julialang.language-julia-1.5.11/scripts/packages/VSCodeServer/src/serve_notebook.jl:18\n",
      " [16] withpath(f::VSCodeServer.var\"#146#147\"{VSCodeServer.NotebookRunCellArguments, String}, path::String)\n",
      "    @ VSCodeServer ~/.vscode/extensions/julialang.language-julia-1.5.11/scripts/packages/VSCodeServer/src/repl.jl:185\n",
      " [17] notebook_runcell_request(conn::VSCodeServer.JSONRPC.JSONRPCEndpoint{Base.PipeEndpoint, Base.PipeEndpoint}, params::VSCodeServer.NotebookRunCellArguments)\n",
      "    @ VSCodeServer ~/.vscode/extensions/julialang.language-julia-1.5.11/scripts/packages/VSCodeServer/src/serve_notebook.jl:14\n",
      " [18] dispatch_msg(x::VSCodeServer.JSONRPC.JSONRPCEndpoint{Base.PipeEndpoint, Base.PipeEndpoint}, dispatcher::VSCodeServer.JSONRPC.MsgDispatcher, msg::Dict{String, Any})\n",
      "    @ VSCodeServer.JSONRPC ~/.vscode/extensions/julialang.language-julia-1.5.11/scripts/packages/JSONRPC/src/typed.jl:67\n",
      " [19] serve_notebook(pipename::String; crashreporting_pipename::String)\n",
      "    @ VSCodeServer ~/.vscode/extensions/julialang.language-julia-1.5.11/scripts/packages/VSCodeServer/src/serve_notebook.jl:94\n",
      " [20] top-level scope\n",
      "    @ ~/.vscode/extensions/julialang.language-julia-1.5.11/scripts/notebook/notebook.jl:12\n",
      " [21] include(mod::Module, _path::String)\n",
      "    @ Base ./Base.jl:384\n",
      " [22] exec_options(opts::Base.JLOptions)\n",
      "    @ Base ./client.jl:285\n",
      " [23] _start()\n",
      "    @ Base ./client.jl:485"
     ]
    }
   ],
   "source": [
    "VideoIO.playvideo(f)  # no sound"
   ]
  }
 ],
 "metadata": {
  "kernelspec": {
   "display_name": "Julia 1.6.5",
   "language": "julia",
   "name": "julia-1.6"
  },
  "language_info": {
   "file_extension": ".jl",
   "mimetype": "application/julia",
   "name": "julia",
   "version": "1.6.5"
  }
 },
 "nbformat": 4,
 "nbformat_minor": 5
}
