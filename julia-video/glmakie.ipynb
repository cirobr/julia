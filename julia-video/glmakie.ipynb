{
 "cells": [
  {
   "cell_type": "markdown",
   "id": "417f0150",
   "metadata": {},
   "source": [
    "## glmakie"
   ]
  },
  {
   "cell_type": "code",
   "execution_count": null,
   "id": "1a385f59",
   "metadata": {},
   "outputs": [],
   "source": [
    "using ImageView, Images"
   ]
  },
  {
   "cell_type": "code",
   "execution_count": null,
   "id": "bc0ebfd2",
   "metadata": {},
   "outputs": [],
   "source": [
    "function filesWithinFolder(folder, prefix, ext)\n",
    "    cutoffName = length(prefix) + 1\n",
    "    files = readdir(folder)\n",
    "    extFiles = [file for file in files if occursin( ext, file )]\n",
    "    sortedExtFiles = sort( [ parse(Int, file[cutoffName : end-4])  for file in extFiles ] )\n",
    "    sortedExtFiles = string.(folder, \"/\", prefix, sortedExtFiles, ext)\n",
    "end"
   ]
  },
  {
   "cell_type": "code",
   "execution_count": null,
   "id": "fa05ff2f",
   "metadata": {},
   "outputs": [],
   "source": [
    "folder  = \"../../bags/video\"\n",
    "pngFile = \"img1.png\"\n",
    "fullPath = string.(folder, \"/\", pngFile)\n",
    "img = Images.load(fullPath)\n",
    "Images.imresize(img, ratio=1/3)"
   ]
  },
  {
   "cell_type": "code",
   "execution_count": null,
   "id": "e1632d1c",
   "metadata": {},
   "outputs": [],
   "source": [
    "filenames = filesWithinFolder(folder, \"img\", \".png\")\n",
    "buffer = [ load(filename)  for filename in filenames ];"
   ]
  },
  {
   "cell_type": "code",
   "execution_count": null,
   "id": "91cb0cd4",
   "metadata": {},
   "outputs": [],
   "source": [
    "imshow(buffer[1])"
   ]
  }
 ],
 "metadata": {
  "kernelspec": {
   "display_name": "Julia 1.6.5",
   "language": "julia",
   "name": "julia-1.6"
  },
  "language_info": {
   "file_extension": ".jl",
   "mimetype": "application/julia",
   "name": "julia",
   "version": "1.6.5"
  }
 },
 "nbformat": 4,
 "nbformat_minor": 5
}
