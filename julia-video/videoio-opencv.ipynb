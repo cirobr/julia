{
 "cells": [
  {
   "cell_type": "code",
   "execution_count": null,
   "id": "05cbfefe",
   "metadata": {},
   "outputs": [],
   "source": [
    "using Images\n",
    "# using GLMakie   # not needed, VideoIO.playvideo not working\n",
    "using VideoIO\n",
    "using OpenCV; const cv = OpenCV"
   ]
  },
  {
   "cell_type": "code",
   "execution_count": null,
   "id": "52863e66",
   "metadata": {},
   "outputs": [],
   "source": [
    "img_CHW(img) = Images.channelview(img)\n",
    "img_HWC(img) = Images.permutedims(img_CHW(img), (2, 3, 1))\n",
    "img_CWH(img) = Images.permutedims(img_CHW(img), (1, 3, 2))\n"
   ]
  },
  {
   "cell_type": "code",
   "execution_count": null,
   "id": "07c580f6",
   "metadata": {},
   "outputs": [],
   "source": [
    "function filesWithinFolder(folder, prefix, ext)\n",
    "    cutoffName = length(prefix) + 1\n",
    "    files = readdir(folder)\n",
    "    extFiles = [file for file in files if occursin( ext, file )]\n",
    "    sortedExtFiles = sort( [ parse(Int, file[cutoffName : end-4])  for file in extFiles ] )\n",
    "    sortedExtFiles = string.(folder, \"/\", prefix, sortedExtFiles, ext)\n",
    "end"
   ]
  },
  {
   "cell_type": "code",
   "execution_count": null,
   "id": "ebec4f5a",
   "metadata": {},
   "outputs": [],
   "source": [
    "# get files for processing\n",
    "folder  = \"../../bags/video\"\n",
    "pngFiles = filesWithinFolder(folder, \"img\",\".png\");"
   ]
  },
  {
   "cell_type": "code",
   "execution_count": null,
   "id": "33d1c866",
   "metadata": {},
   "outputs": [],
   "source": [
    "# load image sequence on an array stack\n",
    "imgStack = [ Images.load(imgname) for imgname in pngFiles ];\n",
    "typeof(imgStack[1])"
   ]
  },
  {
   "cell_type": "code",
   "execution_count": null,
   "id": "a7266274",
   "metadata": {},
   "outputs": [],
   "source": [
    "# https://trac.ffmpeg.org/wiki/Encode/H.264\n",
    "# https://docs.juliahub.com/VideoIO/tZxJ7/1.0.0/writing/#Encoder-Options\n",
    "encoderOptions = (crf=23,\n",
    "                  preset=\"medium\")"
   ]
  },
  {
   "cell_type": "code",
   "execution_count": null,
   "id": "080588a9",
   "metadata": {},
   "outputs": [],
   "source": [
    "# save image stack as video\n",
    "VideoIO.save(\"video.mp4\", imgStack;\n",
    "             #codec_name=\"libx264\",\n",
    "             framerate=25,\n",
    "             encoder_options=encoderOptions)"
   ]
  },
  {
   "cell_type": "code",
   "execution_count": null,
   "id": "ad8947b2",
   "metadata": {},
   "outputs": [],
   "source": [
    "# load video\n",
    "v = VideoIO.load(\"video.mp4\")\n",
    "numberOfFrames = length(v)"
   ]
  },
  {
   "cell_type": "code",
   "execution_count": null,
   "id": "4837b8f0",
   "metadata": {},
   "outputs": [],
   "source": [
    "# playing with VideoIO not working, question placed at forums\n",
    "# VideoIO.playvideo(v)"
   ]
  },
  {
   "cell_type": "code",
   "execution_count": null,
   "id": "4a7374d6",
   "metadata": {},
   "outputs": [],
   "source": [
    "fps = 30\n",
    "frame_ms = round(1 / fps * 1000) |> Int32"
   ]
  },
  {
   "cell_type": "code",
   "execution_count": null,
   "id": "3d9d10e1",
   "metadata": {},
   "outputs": [],
   "source": [
    "# play video with opencv\n",
    "for i in 1:numberOfFrames\n",
    "    cv.imshow(\"vaquinha\", Float32.(img_CWH( v[i] )))\n",
    "    cv.waitKey(frame_ms)\n",
    "end\n",
    "cv.destroyWindow(\"vaquinha\")"
   ]
  }
 ],
 "metadata": {
  "kernelspec": {
   "display_name": "Julia 1.6.5",
   "language": "julia",
   "name": "julia-1.6"
  },
  "language_info": {
   "file_extension": ".jl",
   "mimetype": "application/julia",
   "name": "julia",
   "version": "1.6.5"
  }
 },
 "nbformat": 4,
 "nbformat_minor": 5
}
