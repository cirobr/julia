{
 "cells": [
  {
   "cell_type": "markdown",
   "id": "f199b238",
   "metadata": {},
   "source": [
    "### Images"
   ]
  },
  {
   "cell_type": "code",
   "execution_count": null,
   "id": "c98c6618",
   "metadata": {},
   "outputs": [],
   "source": [
    "using Images"
   ]
  },
  {
   "cell_type": "code",
   "execution_count": null,
   "id": "fa05ff2f",
   "metadata": {},
   "outputs": [],
   "source": [
    "folder  = \"../../bags/video\"\n",
    "pngFile = \"img1.png\"\n",
    "fullPath = string.(folder, \"/\", pngFile)"
   ]
  },
  {
   "cell_type": "code",
   "execution_count": null,
   "id": "74fd5fa2",
   "metadata": {},
   "outputs": [],
   "source": [
    "img = Images.load(fullPath)\n",
    "size(img), typeof(img)"
   ]
  },
  {
   "cell_type": "code",
   "execution_count": null,
   "id": "3d539f46",
   "metadata": {},
   "outputs": [],
   "source": [
    "Images.imresize(img, ratio=1/3)"
   ]
  },
  {
   "cell_type": "code",
   "execution_count": null,
   "id": "aaa25b22",
   "metadata": {},
   "outputs": [],
   "source": [
    "mosaicview(Gray.(img), img, Gray.(red.(img)); nrow=1)"
   ]
  }
 ],
 "metadata": {
  "kernelspec": {
   "display_name": "Julia 1.6.5",
   "language": "julia",
   "name": "julia-1.6"
  },
  "language_info": {
   "file_extension": ".jl",
   "mimetype": "application/julia",
   "name": "julia",
   "version": "1.6.5"
  }
 },
 "nbformat": 4,
 "nbformat_minor": 5
}
