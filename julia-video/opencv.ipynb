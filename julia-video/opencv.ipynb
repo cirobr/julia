{
 "cells": [
  {
   "cell_type": "code",
   "execution_count": null,
   "id": "05cbfefe",
   "metadata": {},
   "outputs": [],
   "source": [
    "using Images\n",
    "using OpenCV; const cv = OpenCV"
   ]
  },
  {
   "cell_type": "code",
   "execution_count": null,
   "id": "52863e66",
   "metadata": {},
   "outputs": [],
   "source": [
    "rgb2CHW(img) = Images.channelview(img)\n",
    "rgb2HWC(img) = Images.permutedims(rgb2CHW(img), (2, 3, 1))\n",
    "rgb2CWH(img) = Images.permutedims(rgb2CHW(img), (1, 3, 2))\n"
   ]
  },
  {
   "cell_type": "code",
   "execution_count": null,
   "id": "e7df404a",
   "metadata": {},
   "outputs": [],
   "source": [
    "function rgb2opencv(img)\n",
    "    img2 = rgb2CWH(img)\n",
    "    img2 = Float32.(img2)\n",
    "    #img2 = cv.Mat(img2)\n",
    "end"
   ]
  },
  {
   "cell_type": "code",
   "execution_count": null,
   "id": "07c580f6",
   "metadata": {},
   "outputs": [],
   "source": [
    "function filesWithinFolder(folder, prefix, ext)\n",
    "    cutoffName = length(prefix) + 1\n",
    "    files = readdir(folder)\n",
    "    extFiles = [file for file in files if occursin( ext, file )]\n",
    "    sortedExtFiles = sort( [ parse(Int, file[cutoffName : end-4])  for file in extFiles ] )\n",
    "    sortedExtFiles = string.(folder, \"/\", prefix, sortedExtFiles, ext)\n",
    "end"
   ]
  },
  {
   "cell_type": "code",
   "execution_count": null,
   "id": "491abc8a",
   "metadata": {},
   "outputs": [],
   "source": [
    "function cvShowImage(imageFullPath, windowName)\n",
    "    img = cv.imread(imageFullPath)   # no need to convert file, read with OpenCV\n",
    "    cv.imshow(windowName, img)\n",
    "    cv.waitKey(Int32(0))\n",
    "    cv.destroyWindow(windowName)\n",
    "end"
   ]
  },
  {
   "cell_type": "code",
   "execution_count": null,
   "id": "3c289639",
   "metadata": {},
   "outputs": [],
   "source": [
    "function cvPlayImageBuffer(imageBuffer, windowName, framesPerSecond)\n",
    "    frameInterval_ms = trunc( Int32, Float32(1.0 / framesPerSecond * 1000.0) )\n",
    "\n",
    "    for img in imageBuffer\n",
    "        img = rgb2opencv(img)\n",
    "        cv.imshow(windowName, img)\n",
    "        cv.waitKey(frameInterval_ms)\n",
    "    end\n",
    "    cv.destroyWindow(windowName)\n",
    "end"
   ]
  },
  {
   "cell_type": "code",
   "execution_count": null,
   "id": "ebec4f5a",
   "metadata": {},
   "outputs": [],
   "source": [
    "# get file names for processing\n",
    "folder  = \"../../bags/video\"\n",
    "pngFiles = filesWithinFolder(folder, \"img\",\".png\");"
   ]
  },
  {
   "cell_type": "code",
   "execution_count": null,
   "id": "33d1c866",
   "metadata": {},
   "outputs": [],
   "source": [
    "# load image sequence on array stack\n",
    "imgBuffer = [ Images.load(filename) for filename in pngFiles ];\n",
    "typeof(imgBuffer[1])"
   ]
  },
  {
   "cell_type": "code",
   "execution_count": null,
   "id": "87d7befb",
   "metadata": {},
   "outputs": [],
   "source": [
    "windowName = \"vaquinha\"\n",
    "img = imgBuffer[1]\n",
    "cvShowImage(pngFiles[1], windowName)"
   ]
  },
  {
   "cell_type": "code",
   "execution_count": null,
   "id": "02f26412",
   "metadata": {},
   "outputs": [],
   "source": [
    "windowName = \"vaquinha\"\n",
    "framesPerSecond = 10\n",
    "cvPlayImageBuffer(imgBuffer, windowName, framesPerSecond)"
   ]
  }
 ],
 "metadata": {
  "kernelspec": {
   "display_name": "Julia 1.6.5",
   "language": "julia",
   "name": "julia-1.6"
  },
  "language_info": {
   "file_extension": ".jl",
   "mimetype": "application/julia",
   "name": "julia",
   "version": "1.6.5"
  }
 },
 "nbformat": 4,
 "nbformat_minor": 5
}
