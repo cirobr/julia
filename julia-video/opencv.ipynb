{
 "cells": [
  {
   "cell_type": "code",
   "execution_count": 9,
   "id": "05cbfefe",
   "metadata": {},
   "outputs": [],
   "source": [
    "using Images\n",
    "using libImageArrays"
   ]
  },
  {
   "cell_type": "code",
   "execution_count": 10,
   "id": "07c580f6",
   "metadata": {},
   "outputs": [
    {
     "data": {
      "text/plain": [
       "filesWithinFolder (generic function with 1 method)"
      ]
     },
     "metadata": {},
     "output_type": "display_data"
    }
   ],
   "source": [
    "function filesWithinFolder(folder, prefix, ext)\n",
    "    cutoffName = length(prefix) + 1\n",
    "    files = readdir(folder)\n",
    "    extFiles = [file for file in files if occursin( ext, file )]\n",
    "    sortedExtFiles = sort( [ parse(Int, file[cutoffName : end-4])  for file in extFiles ] )\n",
    "    sortedExtFiles = string.(folder, \"/\", prefix, sortedExtFiles, ext)\n",
    "end"
   ]
  },
  {
   "cell_type": "code",
   "execution_count": 11,
   "id": "ebec4f5a",
   "metadata": {},
   "outputs": [],
   "source": [
    "# get file names for processing\n",
    "folder  = \"../../bags/video\"\n",
    "pngFiles = filesWithinFolder(folder, \"img\",\".png\");"
   ]
  },
  {
   "cell_type": "code",
   "execution_count": 12,
   "id": "33d1c866",
   "metadata": {},
   "outputs": [
    {
     "data": {
      "text/plain": [
       "Matrix{RGB{N0f8}} (alias for Array{RGB{Normed{UInt8, 8}}, 2})"
      ]
     },
     "metadata": {},
     "output_type": "display_data"
    }
   ],
   "source": [
    "# load image sequence on array stack\n",
    "imgBuffer = [ Images.load(filename) for filename in pngFiles ];\n",
    "typeof(imgBuffer[1])"
   ]
  },
  {
   "cell_type": "code",
   "execution_count": 13,
   "id": "87d7befb",
   "metadata": {},
   "outputs": [],
   "source": [
    "windowName = \"vaquinha\"\n",
    "img = imgBuffer[1]\n",
    "libImageArrays.cvShowImage(pngFiles[1], windowName)"
   ]
  },
  {
   "cell_type": "code",
   "execution_count": 14,
   "id": "02f26412",
   "metadata": {},
   "outputs": [],
   "source": [
    "windowName = \"vaquinha movendo\"\n",
    "framesPerSecond = 10\n",
    "libImageArrays.cvPlayImageBuffer(imgBuffer, windowName, framesPerSecond)"
   ]
  }
 ],
 "metadata": {
  "kernelspec": {
   "display_name": "Julia 1.6.5",
   "language": "julia",
   "name": "julia-1.6"
  },
  "language_info": {
   "file_extension": ".jl",
   "mimetype": "application/julia",
   "name": "julia",
   "version": "1.6.5"
  }
 },
 "nbformat": 4,
 "nbformat_minor": 5
}
