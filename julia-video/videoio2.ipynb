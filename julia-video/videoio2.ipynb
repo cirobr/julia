{
 "cells": [
  {
   "cell_type": "code",
   "execution_count": 1,
   "id": "05cbfefe",
   "metadata": {},
   "outputs": [],
   "source": [
    "using Images\n",
    "using VideoIO"
   ]
  },
  {
   "cell_type": "code",
   "execution_count": 2,
   "id": "07c580f6",
   "metadata": {},
   "outputs": [
    {
     "data": {
      "text/plain": [
       "filesWithinFolder (generic function with 1 method)"
      ]
     },
     "execution_count": 2,
     "metadata": {},
     "output_type": "execute_result"
    }
   ],
   "source": [
    "function filesWithinFolder(folder, ext)\n",
    "    files = readdir(folder)\n",
    "    extFiles = [file for file in files if occursin( ext, file )]\n",
    "    extFiles = string.(folder, \"/\", extFiles)\n",
    "end"
   ]
  },
  {
   "cell_type": "code",
   "execution_count": 3,
   "id": "ebec4f5a",
   "metadata": {},
   "outputs": [],
   "source": [
    "# get files for processing\n",
    "folder  = \"../../bags/video\"\n",
    "pngFiles = filesWithinFolder(folder, \".png\");\n"
   ]
  },
  {
   "cell_type": "code",
   "execution_count": 4,
   "id": "33d1c866",
   "metadata": {},
   "outputs": [
    {
     "data": {
      "text/plain": [
       "Matrix{RGB{N0f8}} (alias for Array{RGB{Normed{UInt8, 8}}, 2})"
      ]
     },
     "execution_count": 4,
     "metadata": {},
     "output_type": "execute_result"
    }
   ],
   "source": [
    "imgStack = [ Images.load(imgname) for imgname in pngFiles ];\n",
    "typeof(imgStack[1])"
   ]
  },
  {
   "cell_type": "code",
   "execution_count": 6,
   "id": "080588a9",
   "metadata": {},
   "outputs": [],
   "source": [
    "encoder_options = (crf=23, preset=\"medium\")\n",
    "VideoIO.save(\"video.mp4\", imgStack; framerate=10, encoder_options=encoder_options)"
   ]
  },
  {
   "cell_type": "code",
   "execution_count": null,
   "id": "32892516",
   "metadata": {},
   "outputs": [],
   "source": []
  }
 ],
 "metadata": {
  "kernelspec": {
   "display_name": "Julia 1.6.5",
   "language": "julia",
   "name": "julia-1.6"
  },
  "language_info": {
   "file_extension": ".jl",
   "mimetype": "application/julia",
   "name": "julia",
   "version": "1.6.5"
  }
 },
 "nbformat": 4,
 "nbformat_minor": 5
}
