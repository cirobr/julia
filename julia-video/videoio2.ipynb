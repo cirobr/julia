{
 "cells": [
  {
   "cell_type": "code",
   "execution_count": null,
   "id": "05cbfefe",
   "metadata": {},
   "outputs": [],
   "source": [
    "using Images\n",
    "using GLMakie\n",
    "using VideoIO\n",
    "using OpenCV; const cv = OpenCV"
   ]
  },
  {
   "cell_type": "code",
   "execution_count": null,
   "id": "07c580f6",
   "metadata": {},
   "outputs": [],
   "source": [
    "function filesWithinFolder(folder, ext)\n",
    "    files = readdir(folder)\n",
    "    extFiles = [file for file in files if occursin( ext, file )]\n",
    "    extFiles = string.(folder, \"/\", extFiles)\n",
    "end"
   ]
  },
  {
   "cell_type": "code",
   "execution_count": null,
   "id": "ebec4f5a",
   "metadata": {},
   "outputs": [],
   "source": [
    "# get files for processing\n",
    "folder  = \"../../bags/video\"\n",
    "pngFiles = filesWithinFolder(folder, \".png\");\n"
   ]
  },
  {
   "cell_type": "code",
   "execution_count": null,
   "id": "33d1c866",
   "metadata": {},
   "outputs": [],
   "source": [
    "imgStack = [ Images.load(imgname) for imgname in pngFiles ];\n",
    "typeof(imgStack[1])"
   ]
  },
  {
   "cell_type": "code",
   "execution_count": null,
   "id": "a7266274",
   "metadata": {},
   "outputs": [],
   "source": [
    "# https://trac.ffmpeg.org/wiki/Encode/H.264\n",
    "# https://docs.juliahub.com/VideoIO/tZxJ7/1.0.0/writing/#Encoder-Options\n",
    "encoderOptions = (crf=23,\n",
    "                  preset=\"medium\")"
   ]
  },
  {
   "cell_type": "code",
   "execution_count": null,
   "id": "080588a9",
   "metadata": {},
   "outputs": [],
   "source": [
    "VideoIO.save(\"video.mp4\", imgStack;\n",
    "             #codec_name=\"libx264\",\n",
    "             framerate=25,\n",
    "             encoder_options=encoderOptions)"
   ]
  },
  {
   "cell_type": "code",
   "execution_count": null,
   "id": "32892516",
   "metadata": {},
   "outputs": [],
   "source": [
    "v = VideoIO.load(\"video.mp4\");"
   ]
  },
  {
   "cell_type": "code",
   "execution_count": null,
   "id": "046792e0",
   "metadata": {},
   "outputs": [],
   "source": [
    "size(v)[1], typeof(v[1])"
   ]
  },
  {
   "cell_type": "code",
   "execution_count": null,
   "id": "889cb8ab",
   "metadata": {},
   "outputs": [],
   "source": [
    "VideoIO.playvideo(v)"
   ]
  }
 ],
 "metadata": {
  "kernelspec": {
   "display_name": "Julia 1.6.5",
   "language": "julia",
   "name": "julia-1.6"
  },
  "language_info": {
   "file_extension": ".jl",
   "mimetype": "application/julia",
   "name": "julia",
   "version": "1.6.5"
  }
 },
 "nbformat": 4,
 "nbformat_minor": 5
}
