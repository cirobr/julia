{
 "cells": [
  {
   "cell_type": "code",
   "execution_count": 49,
   "id": "05cbfefe",
   "metadata": {},
   "outputs": [
    {
     "data": {
      "text/plain": [
       "OpenCV"
      ]
     },
     "metadata": {},
     "output_type": "display_data"
    }
   ],
   "source": [
    "using Images\n",
    "using GLMakie\n",
    "using VideoIO\n",
    "using OpenCV; const cv = OpenCV"
   ]
  },
  {
   "cell_type": "code",
   "execution_count": 50,
   "id": "52863e66",
   "metadata": {},
   "outputs": [
    {
     "data": {
      "text/plain": [
       "img_CWH (generic function with 1 method)"
      ]
     },
     "metadata": {},
     "output_type": "display_data"
    }
   ],
   "source": [
    "img_CHW(img) = Images.channelview(img)\n",
    "img_HWC(img) = Images.permutedims(img_CHW(img), (2, 3, 1))\n",
    "img_CWH(img) = Images.permutedims(img_CHW(img), (1, 3, 2))"
   ]
  },
  {
   "cell_type": "code",
   "execution_count": 51,
   "id": "07c580f6",
   "metadata": {},
   "outputs": [
    {
     "data": {
      "text/plain": [
       "filesWithinFolder (generic function with 1 method)"
      ]
     },
     "metadata": {},
     "output_type": "display_data"
    }
   ],
   "source": [
    "function filesWithinFolder(folder, prefix, ext)\n",
    "    cutoffName = length(prefix) + 1\n",
    "    files = readdir(folder)\n",
    "    extFiles = [file for file in files if occursin( ext, file )]\n",
    "    sortedExtFiles = sort( [ parse(Int, file[cutoffName : end-4])  for file in extFiles ] )\n",
    "    sortedExtFiles = string.(folder, \"/\", prefix, sortedExtFiles, ext)\n",
    "end"
   ]
  },
  {
   "cell_type": "code",
   "execution_count": 52,
   "id": "ebec4f5a",
   "metadata": {},
   "outputs": [],
   "source": [
    "# get files for processing\n",
    "folder  = \"../../bags/video\"\n",
    "pngFiles = filesWithinFolder(folder, \"img\",\".png\");\n"
   ]
  },
  {
   "cell_type": "code",
   "execution_count": 53,
   "id": "33d1c866",
   "metadata": {},
   "outputs": [
    {
     "data": {
      "text/plain": [
       "Matrix{RGB{N0f8}} (alias for Array{RGB{Normed{UInt8, 8}}, 2})"
      ]
     },
     "metadata": {},
     "output_type": "display_data"
    }
   ],
   "source": [
    "imgStack = [ Images.load(imgname) for imgname in pngFiles ];\n",
    "typeof(imgStack[1])"
   ]
  },
  {
   "cell_type": "code",
   "execution_count": 54,
   "id": "a7266274",
   "metadata": {},
   "outputs": [
    {
     "data": {
      "text/plain": [
       "(crf = 23, preset = \"medium\")"
      ]
     },
     "metadata": {},
     "output_type": "display_data"
    }
   ],
   "source": [
    "# https://trac.ffmpeg.org/wiki/Encode/H.264\n",
    "# https://docs.juliahub.com/VideoIO/tZxJ7/1.0.0/writing/#Encoder-Options\n",
    "encoderOptions = (crf=23,\n",
    "                  preset=\"medium\")"
   ]
  },
  {
   "cell_type": "code",
   "execution_count": 55,
   "id": "080588a9",
   "metadata": {},
   "outputs": [],
   "source": [
    "VideoIO.save(\"video.mp4\", imgStack;\n",
    "             #codec_name=\"libx264\",\n",
    "             framerate=25,\n",
    "             encoder_options=encoderOptions)"
   ]
  },
  {
   "cell_type": "code",
   "execution_count": 56,
   "id": "ad8947b2",
   "metadata": {},
   "outputs": [
    {
     "data": {
      "text/plain": [
       "114"
      ]
     },
     "metadata": {},
     "output_type": "display_data"
    }
   ],
   "source": [
    "v = VideoIO.load(\"video.mp4\")\n",
    "numberOfFrames = length(v)\n",
    "# VideoIO.playvideo(v)"
   ]
  },
  {
   "cell_type": "code",
   "execution_count": 57,
   "id": "3eaa49bb",
   "metadata": {},
   "outputs": [],
   "source": [
    "cv.imshow(\"vaquinha\", Float32.(img_CWH(v[1])))\n",
    "cv.waitKey(Int32(10000))\n",
    "cv.destroyWindow(\"vaquinha\")"
   ]
  },
  {
   "cell_type": "code",
   "execution_count": 58,
   "id": "4a7374d6",
   "metadata": {},
   "outputs": [
    {
     "data": {
      "text/plain": [
       "33"
      ]
     },
     "metadata": {},
     "output_type": "display_data"
    }
   ],
   "source": [
    "fps = 30\n",
    "frame_ms = round(1 / fps * 1000) |> Int32"
   ]
  },
  {
   "cell_type": "code",
   "execution_count": 59,
   "id": "3d9d10e1",
   "metadata": {},
   "outputs": [],
   "source": [
    "for i in 1:numberOfFrames\n",
    "    cv.imshow(\"vaquinha\", Float32.(img_CWH(v[i])))\n",
    "    cv.waitKey(frame_ms)\n",
    "end\n",
    "cv.destroyWindow(\"vaquinha\")"
   ]
  }
 ],
 "metadata": {
  "kernelspec": {
   "display_name": "Julia 1.6.5",
   "language": "julia",
   "name": "julia-1.6"
  },
  "language_info": {
   "file_extension": ".jl",
   "mimetype": "application/julia",
   "name": "julia",
   "version": "1.6.5"
  }
 },
 "nbformat": 4,
 "nbformat_minor": 5
}
