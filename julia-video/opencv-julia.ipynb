{
 "cells": [
  {
   "cell_type": "code",
   "execution_count": null,
   "metadata": {},
   "outputs": [],
   "source": [
    "using OpenCV;      cv = OpenCV\n",
    "using ImageArrays; im = ImageArrays"
   ]
  },
  {
   "cell_type": "code",
   "execution_count": null,
   "metadata": {},
   "outputs": [],
   "source": [
    "function filesWithinFolder(folder, prefix, ext)\n",
    "    cutoffName = length(prefix) + 1\n",
    "    files = readdir(folder)\n",
    "    extFiles = [file for file in files if occursin( ext, file )]\n",
    "    sortedExtFiles = sort( [ parse(Int, file[cutoffName : end-4])  for file in extFiles ] )\n",
    "    sortedExtFiles = string.(folder, \"/\", prefix, sortedExtFiles, ext)\n",
    "end"
   ]
  },
  {
   "cell_type": "code",
   "execution_count": null,
   "metadata": {},
   "outputs": [],
   "source": [
    "folder  = \"../../bags/video\"\n",
    "pngFile = \"img1.png\"\n",
    "fullPath = string.(folder, \"/\", pngFile)"
   ]
  },
  {
   "cell_type": "code",
   "execution_count": null,
   "metadata": {},
   "outputs": [],
   "source": [
    "windowName = \"vaquinha\"\n",
    "im.cvShowImage(fullPath, \"windowName\")"
   ]
  },
  {
   "cell_type": "code",
   "execution_count": null,
   "metadata": {},
   "outputs": [],
   "source": [
    "folder  = \"../../bags/video\"\n",
    "bufferFileNames = filesWithinFolder(folder, \"img\", \".png\")\n",
    "imgBuffer = [ cv.imread(filename) for filename in bufferFileNames ]\n",
    "windowName = \"vaquinha andando\"\n",
    "framesPerSecond = 10\n",
    "\n",
    "im.cvPlayImageBuffer(imgBuffer, windowName, framesPerSecond)"
   ]
  }
 ],
 "metadata": {
  "kernelspec": {
   "display_name": "Julia 1.6.6",
   "language": "julia",
   "name": "julia-1.6"
  },
  "language_info": {
   "file_extension": ".jl",
   "mimetype": "application/julia",
   "name": "julia",
   "version": "1.6.6"
  }
 },
 "nbformat": 4,
 "nbformat_minor": 2
}
