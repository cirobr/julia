{
 "cells": [
  {
   "cell_type": "code",
   "execution_count": null,
   "metadata": {},
   "outputs": [],
   "source": [
    "using PyCall\n",
    "cv2 = pyimport(\"cv2\")"
   ]
  },
  {
   "cell_type": "code",
   "execution_count": null,
   "metadata": {},
   "outputs": [],
   "source": [
    "function filesWithinFolder(folder, prefix, ext)\n",
    "    cutoffName = length(prefix) + 1\n",
    "    files = readdir(folder)\n",
    "    extFiles = [file for file in files if occursin( ext, file )]\n",
    "    sortedExtFiles = sort( [ parse(Int, file[cutoffName : end-4])  for file in extFiles ] )\n",
    "    sortedExtFiles = string.(folder, \"/\", prefix, sortedExtFiles, ext)\n",
    "end\n",
    "\n",
    "function cv2ShowImage(imageFullPath, windowName)\n",
    "    img = cv2.imread(imageFullPath)\n",
    "    cv2.imshow(windowName, img)\n",
    "    cv2.waitKey(Int32(0))\n",
    "    cv2.destroyWindow(windowName)\n",
    "end\n",
    "\n",
    "function cv2PlayImageBuffer(imageBuffer, windowName, framesPerSecond)\n",
    "    frameInterval_ms = trunc( Int16, Float32(1.0 / framesPerSecond * 1000.0) )\n",
    "\n",
    "    for img in imageBuffer\n",
    "        cv2.imshow(windowName, img)\n",
    "        cv2.waitKey(frameInterval_ms)\n",
    "    end\n",
    "    cv2.destroyWindow(windowName);\n",
    "end"
   ]
  },
  {
   "cell_type": "code",
   "execution_count": null,
   "metadata": {},
   "outputs": [],
   "source": [
    "folder  = \"../../bags/video\"\n",
    "pngFile = \"img1.png\"\n",
    "fullPath = string.(folder, \"/\", pngFile)"
   ]
  },
  {
   "cell_type": "code",
   "execution_count": null,
   "metadata": {},
   "outputs": [],
   "source": [
    "windowName = \"vaquinha\"\n",
    "cv2ShowImage(fullPath, \"windowName\")"
   ]
  },
  {
   "cell_type": "code",
   "execution_count": null,
   "metadata": {},
   "outputs": [],
   "source": [
    "folder  = \"../../bags/video\"\n",
    "bufferFileNames = filesWithinFolder(folder, \"img\", \".png\")\n",
    "imgBuffer = [ cv2.imread(filename) for filename in bufferFileNames ]\n",
    "windowName = \"vaquinha andando\"\n",
    "framesPerSecond = 5\n",
    "\n",
    "cv2PlayImageBuffer(imgBuffer, windowName, framesPerSecond)"
   ]
  }
 ],
 "metadata": {
  "kernelspec": {
   "display_name": "Julia 1.6.5",
   "language": "julia",
   "name": "julia-1.6"
  },
  "language_info": {
   "file_extension": ".jl",
   "mimetype": "application/julia",
   "name": "julia",
   "version": "1.6.5"
  }
 },
 "nbformat": 4,
 "nbformat_minor": 2
}
