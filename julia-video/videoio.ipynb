{
 "cells": [
  {
   "cell_type": "markdown",
   "id": "417f0150",
   "metadata": {},
   "source": [
    "## VideoIO read/play"
   ]
  },
  {
   "cell_type": "code",
   "execution_count": 1,
   "id": "c98c6618",
   "metadata": {},
   "outputs": [
    {
     "data": {
      "text/plain": [
       "AVInput(/home/ciro/.julia/packages/VideoIO/3LUls/src/../videos/annie_oakley.ogg, ...), with\n",
       "  1 video stream(s)\n"
      ]
     },
     "execution_count": 1,
     "metadata": {},
     "output_type": "execute_result"
    }
   ],
   "source": [
    "using GLMakie\n",
    "using VideoIO\n",
    "\n",
    "f = VideoIO.testvideo(\"annie_oakley\")  # downloaded if not available"
   ]
  },
  {
   "cell_type": "code",
   "execution_count": 2,
   "id": "b8b3b8aa",
   "metadata": {},
   "outputs": [
    {
     "ename": "LoadError",
     "evalue": "setting show_axis for scene via plot attribute not supported anymore",
     "output_type": "error",
     "traceback": [
      "setting show_axis for scene via plot attribute not supported anymore",
      "",
      "Stacktrace:",
      "  [1] error(s::String)",
      "    @ Base ./error.jl:33",
      "  [2] plot!(scene::Scene, P::Type{Image{Tuple{UnitRange{Int64}, UnitRange{Int64}, PermutedDimsArray{ColorTypes.RGB{FixedPointNumbers.N0f8}, 2, (2, 1), (2, 1), Matrix{ColorTypes.RGB{FixedPointNumbers.N0f8}}}}}}, attributes::Attributes, input::Tuple{Observable{UnitRange{Int64}}, Observable{UnitRange{Int64}}, Observable{PermutedDimsArray{ColorTypes.RGB{FixedPointNumbers.N0f8}, 2, (2, 1), (2, 1), Matrix{ColorTypes.RGB{FixedPointNumbers.N0f8}}}}}, args::Observable{Tuple{Vector{Float32}, Vector{Float32}, Matrix{ColorTypes.RGB{Float32}}}})",
      "    @ Makie ~/.julia/packages/Makie/vwpRo/src/interfaces.jl:398",
      "  [3] plot!(::Scene, ::Type{Image{ArgType} where ArgType}, ::Attributes, ::UnitRange{Int64}, ::Vararg{Any, N} where N; kw_attributes::Base.Iterators.Pairs{Union{}, Union{}, Tuple{}, NamedTuple{(), Tuple{}}})",
      "    @ Makie ~/.julia/packages/Makie/vwpRo/src/interfaces.jl:319",
      "  [4] plot!",
      "    @ ~/.julia/packages/Makie/vwpRo/src/interfaces.jl:287 [inlined]",
      "  [5] #plot!#148",
      "    @ ~/.julia/packages/Makie/vwpRo/src/interfaces.jl:270 [inlined]",
      "  [6] #image!#14",
      "    @ ~/.julia/packages/MakieCore/A0hGm/src/recipes.jl:37 [inlined]",
      "  [7] play(f::VideoIO.VideoReader{true, VideoIO.SwsTransform, String}; flipx::Bool, flipy::Bool, pixelaspectratio::Nothing)",
      "    @ VideoIO ~/.julia/packages/VideoIO/3LUls/src/VideoIO.jl:136",
      "  [8] playvideo(video::VideoIO.AVInput{String}; flipx::Bool, flipy::Bool, pixelaspectratio::Nothing)",
      "    @ VideoIO ~/.julia/packages/VideoIO/3LUls/src/VideoIO.jl:154",
      "  [9] playvideo(video::VideoIO.AVInput{String})",
      "    @ VideoIO ~/.julia/packages/VideoIO/3LUls/src/VideoIO.jl:153",
      " [10] top-level scope",
      "    @ In[2]:1",
      " [11] eval",
      "    @ ./boot.jl:360 [inlined]",
      " [12] include_string(mapexpr::typeof(REPL.softscope), mod::Module, code::String, filename::String)",
      "    @ Base ./loading.jl:1116"
     ]
    }
   ],
   "source": [
    "VideoIO.playvideo(f)  # no sound"
   ]
  }
 ],
 "metadata": {
  "kernelspec": {
   "display_name": "Julia 1.6.5",
   "language": "julia",
   "name": "julia-1.6"
  },
  "language_info": {
   "file_extension": ".jl",
   "mimetype": "application/julia",
   "name": "julia",
   "version": "1.6.5"
  }
 },
 "nbformat": 4,
 "nbformat_minor": 5
}
