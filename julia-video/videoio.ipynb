{
 "cells": [
  {
   "cell_type": "markdown",
   "id": "417f0150",
   "metadata": {},
   "source": [
    "## VideoIO read/play"
   ]
  },
  {
   "cell_type": "code",
   "execution_count": null,
   "id": "c98c6618",
   "metadata": {},
   "outputs": [],
   "source": [
    "using GLMakie\n",
    "using VideoIO\n",
    "\n",
    "f = VideoIO.testvideo(\"annie_oakley\")  # downloaded if not available"
   ]
  },
  {
   "cell_type": "code",
   "execution_count": null,
   "id": "b8b3b8aa",
   "metadata": {},
   "outputs": [],
   "source": [
    "VideoIO.playvideo(f)  # no sound"
   ]
  }
 ],
 "metadata": {
  "kernelspec": {
   "display_name": "Julia 1.6.5",
   "language": "julia",
   "name": "julia-1.6"
  },
  "language_info": {
   "file_extension": ".jl",
   "mimetype": "application/julia",
   "name": "julia",
   "version": "1.6.5"
  }
 },
 "nbformat": 4,
 "nbformat_minor": 5
}
