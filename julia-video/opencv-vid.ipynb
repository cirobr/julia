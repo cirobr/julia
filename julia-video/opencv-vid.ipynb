{
 "cells": [
  {
   "cell_type": "code",
   "execution_count": 13,
   "metadata": {},
   "outputs": [
    {
     "data": {
      "text/plain": [
       "OpenCV"
      ]
     },
     "execution_count": 13,
     "metadata": {},
     "output_type": "execute_result"
    }
   ],
   "source": [
    "using OpenCV; const cv = OpenCV"
   ]
  },
  {
   "cell_type": "code",
   "execution_count": 14,
   "metadata": {},
   "outputs": [
    {
     "data": {
      "text/plain": [
       "filesWithinFolder (generic function with 1 method)"
      ]
     },
     "execution_count": 14,
     "metadata": {},
     "output_type": "execute_result"
    }
   ],
   "source": [
    "function filesWithinFolder(folder, ext)\n",
    "    files = readdir(folder)\n",
    "    extFiles = [file for file in files if occursin( ext, file )]\n",
    "    extFiles = string.(folder, \"/\", extFiles)\n",
    "end"
   ]
  },
  {
   "cell_type": "code",
   "execution_count": 16,
   "metadata": {},
   "outputs": [],
   "source": [
    "# get files for processing\n",
    "folder  = \"../../bags/video\"\n",
    "pngFiles = filesWithinFolder(folder, \".png\");\n"
   ]
  },
  {
   "cell_type": "code",
   "execution_count": 17,
   "metadata": {},
   "outputs": [
    {
     "ename": "LoadError",
     "evalue": "syntax: \"*\" is not a unary operator",
     "output_type": "error",
     "traceback": [
      "syntax: \"*\" is not a unary operator",
      "",
      "Stacktrace:",
      " [1] top-level scope",
      "   @ In[17]:2",
      " [2] eval",
      "   @ ./boot.jl:360 [inlined]",
      " [3] include_string(mapexpr::typeof(REPL.softscope), mod::Module, code::String, filename::String)",
      "   @ Base ./loading.jl:1116"
     ]
    }
   ],
   "source": [
    "# choose codec according to format needed\n",
    "fourcc = cv.VideoWriter_fourcc(*'XVID')   # *'XVID'\n"
   ]
  },
  {
   "cell_type": "code",
   "execution_count": 18,
   "metadata": {},
   "outputs": [
    {
     "ename": "LoadError",
     "evalue": "UndefVarError: XVID not defined",
     "output_type": "error",
     "traceback": [
      "UndefVarError: XVID not defined",
      "",
      "Stacktrace:",
      " [1] top-level scope",
      "   @ In[18]:1",
      " [2] eval",
      "   @ ./boot.jl:360 [inlined]",
      " [3] include_string(mapexpr::typeof(REPL.softscope), mod::Module, code::String, filename::String)",
      "   @ Base ./loading.jl:1116"
     ]
    }
   ],
   "source": [
    "fourcc = cv.VideoWriter_fourcc(XVID)"
   ]
  },
  {
   "cell_type": "code",
   "execution_count": 19,
   "metadata": {},
   "outputs": [
    {
     "ename": "LoadError",
     "evalue": "syntax: character literal contains multiple characters",
     "output_type": "error",
     "traceback": [
      "syntax: character literal contains multiple characters",
      "",
      "Stacktrace:",
      " [1] top-level scope",
      "   @ In[19]:1",
      " [2] eval",
      "   @ ./boot.jl:360 [inlined]",
      " [3] include_string(mapexpr::typeof(REPL.softscope), mod::Module, code::String, filename::String)",
      "   @ Base ./loading.jl:1116"
     ]
    }
   ],
   "source": [
    "fourcc = cv.VideoWriter_fourcc('XVID')"
   ]
  },
  {
   "cell_type": "code",
   "execution_count": 22,
   "metadata": {},
   "outputs": [
    {
     "ename": "LoadError",
     "evalue": "MethodError: no method matching VideoWriter_fourcc(::String)\n\u001b[0mClosest candidates are:\n\u001b[0m  VideoWriter_fourcc(\u001b[91m::Char\u001b[39m, \u001b[91m::Char\u001b[39m, \u001b[91m::Char\u001b[39m, \u001b[91m::Char\u001b[39m) at /home/ciro/.julia/artifacts/7f7ecae944127299b78b8a360c8b5a5f94df8b2f/OpenCV/src/cv_cxx_wrap.jl:1015",
     "output_type": "error",
     "traceback": [
      "MethodError: no method matching VideoWriter_fourcc(::String)\n\u001b[0mClosest candidates are:\n\u001b[0m  VideoWriter_fourcc(\u001b[91m::Char\u001b[39m, \u001b[91m::Char\u001b[39m, \u001b[91m::Char\u001b[39m, \u001b[91m::Char\u001b[39m) at /home/ciro/.julia/artifacts/7f7ecae944127299b78b8a360c8b5a5f94df8b2f/OpenCV/src/cv_cxx_wrap.jl:1015",
      "",
      "Stacktrace:",
      " [1] top-level scope",
      "   @ In[22]:1",
      " [2] eval",
      "   @ ./boot.jl:360 [inlined]",
      " [3] include_string(mapexpr::typeof(REPL.softscope), mod::Module, code::String, filename::String)",
      "   @ Base ./loading.jl:1116"
     ]
    }
   ],
   "source": [
    "fourcc = cv.VideoWriter_fourcc(\"XVID\")"
   ]
  },
  {
   "cell_type": "code",
   "execution_count": 25,
   "metadata": {},
   "outputs": [
    {
     "ename": "LoadError",
     "evalue": "MethodError: no method matching VideoWriter_fourcc()\n\u001b[0mClosest candidates are:\n\u001b[0m  VideoWriter_fourcc(\u001b[91m::Char\u001b[39m, \u001b[91m::Char\u001b[39m, \u001b[91m::Char\u001b[39m, \u001b[91m::Char\u001b[39m) at /home/ciro/.julia/artifacts/7f7ecae944127299b78b8a360c8b5a5f94df8b2f/OpenCV/src/cv_cxx_wrap.jl:1015",
     "output_type": "error",
     "traceback": [
      "MethodError: no method matching VideoWriter_fourcc()\n\u001b[0mClosest candidates are:\n\u001b[0m  VideoWriter_fourcc(\u001b[91m::Char\u001b[39m, \u001b[91m::Char\u001b[39m, \u001b[91m::Char\u001b[39m, \u001b[91m::Char\u001b[39m) at /home/ciro/.julia/artifacts/7f7ecae944127299b78b8a360c8b5a5f94df8b2f/OpenCV/src/cv_cxx_wrap.jl:1015",
      "",
      "Stacktrace:",
      " [1] top-level scope",
      "   @ In[25]:1",
      " [2] eval",
      "   @ ./boot.jl:360 [inlined]",
      " [3] include_string(mapexpr::typeof(REPL.softscope), mod::Module, code::String, filename::String)",
      "   @ Base ./loading.jl:1116"
     ]
    }
   ],
   "source": [
    "fourcc = cv.VideoWriter_fourcc()"
   ]
  },
  {
   "cell_type": "code",
   "execution_count": 26,
   "metadata": {},
   "outputs": [
    {
     "ename": "LoadError",
     "evalue": "MethodError: no method matching Char(::String)\n\u001b[0mClosest candidates are:\n\u001b[0m  (::Type{T})(\u001b[91m::T\u001b[39m) where T<:AbstractChar at char.jl:51\n\u001b[0m  (::Type{T})(\u001b[91m::AbstractChar\u001b[39m) where T<:Union{AbstractChar, Number} at char.jl:50\n\u001b[0m  Char(\u001b[91m::UInt32\u001b[39m) at char.jl:158\n\u001b[0m  ...",
     "output_type": "error",
     "traceback": [
      "MethodError: no method matching Char(::String)\n\u001b[0mClosest candidates are:\n\u001b[0m  (::Type{T})(\u001b[91m::T\u001b[39m) where T<:AbstractChar at char.jl:51\n\u001b[0m  (::Type{T})(\u001b[91m::AbstractChar\u001b[39m) where T<:Union{AbstractChar, Number} at char.jl:50\n\u001b[0m  Char(\u001b[91m::UInt32\u001b[39m) at char.jl:158\n\u001b[0m  ...",
      "",
      "Stacktrace:",
      " [1] top-level scope",
      "   @ In[26]:1",
      " [2] eval",
      "   @ ./boot.jl:360 [inlined]",
      " [3] include_string(mapexpr::typeof(REPL.softscope), mod::Module, code::String, filename::String)",
      "   @ Base ./loading.jl:1116"
     ]
    }
   ],
   "source": [
    "Char(\"XVID\")"
   ]
  },
  {
   "cell_type": "raw",
   "metadata": {},
   "source": [
    "video  = cv.VideoWriter(\"video-cv.avi\", fourcc, 20.0, (640, 480))\n",
    "\n",
    "for file in pngFiles\n",
    "   img = cv2.imread(file)\n",
    "   video.write(img)\n",
    "end\n",
    "\n",
    "cv.destroyAllWindows()\n",
    "cv.release(video)"
   ]
  },
  {
   "cell_type": "code",
   "execution_count": 10,
   "metadata": {},
   "outputs": [
    {
     "data": {
      "text/latex": [
       "No documentation found.\n",
       "\n",
       "\\texttt{OpenCV.VideoWriter\\_fourcc} is a \\texttt{Function}.\n",
       "\n",
       "\\begin{verbatim}\n",
       "# 1 method for generic function \"VideoWriter_fourcc\":\n",
       "[1] VideoWriter_fourcc(c1::Char, c2::Char, c3::Char, c4::Char) in OpenCV at /home/ciro/.julia/artifacts/7f7ecae944127299b78b8a360c8b5a5f94df8b2f/OpenCV/src/cv_cxx_wrap.jl:1015\n",
       "\\end{verbatim}\n"
      ],
      "text/markdown": [
       "No documentation found.\n",
       "\n",
       "`OpenCV.VideoWriter_fourcc` is a `Function`.\n",
       "\n",
       "```\n",
       "# 1 method for generic function \"VideoWriter_fourcc\":\n",
       "[1] VideoWriter_fourcc(c1::Char, c2::Char, c3::Char, c4::Char) in OpenCV at /home/ciro/.julia/artifacts/7f7ecae944127299b78b8a360c8b5a5f94df8b2f/OpenCV/src/cv_cxx_wrap.jl:1015\n",
       "```\n"
      ],
      "text/plain": [
       "  No documentation found.\n",
       "\n",
       "  \u001b[36mOpenCV.VideoWriter_fourcc\u001b[39m is a \u001b[36mFunction\u001b[39m.\n",
       "\n",
       "\u001b[36m  # 1 method for generic function \"VideoWriter_fourcc\":\u001b[39m\n",
       "\u001b[36m  [1] VideoWriter_fourcc(c1::Char, c2::Char, c3::Char, c4::Char) in OpenCV at /home/ciro/.julia/artifacts/7f7ecae944127299b78b8a360c8b5a5f94df8b2f/OpenCV/src/cv_cxx_wrap.jl:1015\u001b[39m"
      ]
     },
     "execution_count": 10,
     "metadata": {},
     "output_type": "execute_result"
    }
   ],
   "source": [
    "?cv.VideoWriter_fourcc()"
   ]
  }
 ],
 "metadata": {
  "kernelspec": {
   "display_name": "Julia 1.6.5",
   "language": "julia",
   "name": "julia-1.6"
  },
  "language_info": {
   "file_extension": ".jl",
   "mimetype": "application/julia",
   "name": "julia",
   "version": "1.6.5"
  }
 },
 "nbformat": 4,
 "nbformat_minor": 2
}
