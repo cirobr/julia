{
 "cells": [
  {
   "cell_type": "code",
   "execution_count": null,
   "metadata": {},
   "outputs": [],
   "source": [
    "using OpenCV; const cv = OpenCV"
   ]
  },
  {
   "cell_type": "code",
   "execution_count": null,
   "metadata": {},
   "outputs": [],
   "source": [
    "folder  = \"../../bags/video\"\n",
    "pngFile = \"img1.png\"\n",
    "bagFile = \"video.bag\"\n",
    "fullPath = string.(folder, \"/\", pngFile)"
   ]
  },
  {
   "cell_type": "code",
   "execution_count": null,
   "metadata": {},
   "outputs": [],
   "source": [
    "# get files for processing\n",
    "files = readdir(folder)\n",
    "pngFiles = [file for file in files if occursin( \".png\", file )]\n",
    "pngFiles = string.(folder, \"/\", pngFiles);\n"
   ]
  },
  {
   "cell_type": "code",
   "execution_count": null,
   "metadata": {},
   "outputs": [],
   "source": [
    "# choose codec according to format needed\n",
    "fourcc = cv.VideoWriter_fourcc(*'XVID') \n"
   ]
  },
  {
   "cell_type": "code",
   "execution_count": null,
   "metadata": {},
   "outputs": [],
   "source": [
    "video  = cv.VideoWriter(\"video-cv.avi\", fourcc, 20.0, (640, 480))\n",
    "\n",
    "for file in pngFiles\n",
    "   img = cv2.imread(file)\n",
    "   video.write(img)\n",
    "end\n",
    "\n",
    "cv.destroyAllWindows()\n",
    "cv.release(video)"
   ]
  }
 ],
 "metadata": {
  "kernelspec": {
   "display_name": "Julia 1.6.5",
   "language": "julia",
   "name": "julia-1.6"
  },
  "language_info": {
   "file_extension": ".jl",
   "mimetype": "application/julia",
   "name": "julia",
   "version": "1.6.5"
  }
 },
 "nbformat": 4,
 "nbformat_minor": 2
}
