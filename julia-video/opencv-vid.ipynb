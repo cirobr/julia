{
 "cells": [
  {
   "cell_type": "code",
   "execution_count": 16,
   "metadata": {},
   "outputs": [
    {
     "data": {
      "text/plain": [
       "OpenCV"
      ]
     },
     "metadata": {},
     "output_type": "display_data"
    }
   ],
   "source": [
    "using OpenCV; const cv = OpenCV"
   ]
  },
  {
   "cell_type": "code",
   "execution_count": 17,
   "metadata": {},
   "outputs": [
    {
     "data": {
      "text/plain": [
       "3"
      ]
     },
     "metadata": {},
     "output_type": "display_data"
    }
   ],
   "source": [
    "prefix=\"img\"\n",
    "length(prefix)"
   ]
  },
  {
   "cell_type": "code",
   "execution_count": 18,
   "metadata": {},
   "outputs": [
    {
     "data": {
      "text/plain": [
       "filesWithinFolder (generic function with 1 method)"
      ]
     },
     "metadata": {},
     "output_type": "display_data"
    }
   ],
   "source": [
    "function filesWithinFolder(folder, prefix, ext)\n",
    "    cutoffName = length(prefix) + 1\n",
    "    files = readdir(folder)\n",
    "    extFiles = [file for file in files if occursin( ext, file )]\n",
    "    sortedExtFiles = sort( [ parse(Int, file[cutoffName : end-4])  for file in extFiles ] )\n",
    "    sortedExtFiles = string.(folder, \"/\", prefix, sortedExtFiles, ext)\n",
    "end"
   ]
  },
  {
   "cell_type": "code",
   "execution_count": 19,
   "metadata": {},
   "outputs": [],
   "source": [
    "# get files for processing\n",
    "folder  = \"../../bags/video\"\n",
    "pngFiles = filesWithinFolder(folder, \"img\",\".png\");\n"
   ]
  },
  {
   "cell_type": "code",
   "execution_count": 20,
   "metadata": {},
   "outputs": [],
   "source": [
    "# choose codec according to format needed\n",
    "#fourcc = cv.VideoWriter_fourcc(*'XVID')   # *'XVID'"
   ]
  },
  {
   "cell_type": "code",
   "execution_count": 21,
   "metadata": {},
   "outputs": [],
   "source": [
    "# video  = cv.VideoWriter(\"video-cv.avi\", fourcc, 20.0, (640, 480))\n",
    "\n",
    "# for file in pngFiles\n",
    "#    img = cv.imread(file)\n",
    "#    video.write(img)\n",
    "# end\n",
    "\n",
    "# cv.destroyAllWindows()\n",
    "# cv.release(video)"
   ]
  },
  {
   "cell_type": "code",
   "execution_count": 22,
   "metadata": {},
   "outputs": [
    {
     "data": {
      "text/plain": [
       "33"
      ]
     },
     "metadata": {},
     "output_type": "display_data"
    }
   ],
   "source": [
    "fps = 30\n",
    "frame_ms = round(1 / fps * 1000) |> Int32"
   ]
  },
  {
   "cell_type": "code",
   "execution_count": 25,
   "metadata": {},
   "outputs": [],
   "source": [
    "for file in pngFiles\n",
    "    img = cv.imread(file);\n",
    "    cv.imshow(\"vaquinha\", img)\n",
    "    cv.waitKey(frame_ms)\n",
    "end\n",
    "cv.destroyWindow(\"vaquinha\")"
   ]
  }
 ],
 "metadata": {
  "kernelspec": {
   "display_name": "Julia 1.6.5",
   "language": "julia",
   "name": "julia-1.6"
  },
  "language_info": {
   "file_extension": ".jl",
   "mimetype": "application/julia",
   "name": "julia",
   "version": "1.6.5"
  }
 },
 "nbformat": 4,
 "nbformat_minor": 2
}
