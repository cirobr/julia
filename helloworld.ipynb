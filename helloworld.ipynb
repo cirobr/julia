{
 "cells": [
  {
   "cell_type": "code",
   "execution_count": 1,
   "id": "aa0b00df",
   "metadata": {},
   "outputs": [
    {
     "name": "stdout",
     "output_type": "stream",
     "text": [
      "5\n",
      "x igual a: 5\n",
      "Hello World ! \n"
     ]
    }
   ],
   "source": [
    "x=1\n",
    "x=x+4\n",
    "print(x, \"\\n\")\n",
    "print(\"x igual a: \", x, \"\\n\")\n",
    "print(\"Hello World ! \\n\")"
   ]
  },
  {
   "cell_type": "code",
   "execution_count": null,
   "id": "2efc3fd9",
   "metadata": {},
   "outputs": [],
   "source": []
  }
 ],
 "metadata": {
  "kernelspec": {
   "display_name": "Julia 1.4.1",
   "language": "julia",
   "name": "julia-1.4"
  },
  "language_info": {
   "file_extension": ".jl",
   "mimetype": "application/julia",
   "name": "julia",
   "version": "1.4.1"
  }
 },
 "nbformat": 4,
 "nbformat_minor": 5
}
