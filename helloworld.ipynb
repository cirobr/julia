{
 "cells": [
  {
   "cell_type": "markdown",
   "id": "ff3f591f",
   "metadata": {},
   "source": [
    "https://datatofish.com/add-julia-to-jupyter/"
   ]
  },
  {
   "cell_type": "code",
   "execution_count": 1,
   "id": "aa0b00df",
   "metadata": {},
   "outputs": [
    {
     "name": "stdout",
     "output_type": "stream",
     "text": [
      "5\n",
      "x igual a: 5\n",
      "\n",
      "Hello World !"
     ]
    }
   ],
   "source": [
    "x=1\n",
    "x=x+4\n",
    "println(x)\n",
    "println(\"x igual a: \", x)\n",
    "print(\"\\nHello World !\")"
   ]
  },
  {
   "cell_type": "code",
   "execution_count": null,
   "id": "2efc3fd9",
   "metadata": {},
   "outputs": [],
   "source": []
  }
 ],
 "metadata": {
  "kernelspec": {
   "display_name": "Julia 1.4.1",
   "language": "julia",
   "name": "julia-1.4"
  },
  "language_info": {
   "file_extension": ".jl",
   "mimetype": "application/julia",
   "name": "julia",
   "version": "1.4.1"
  }
 },
 "nbformat": 4,
 "nbformat_minor": 5
}
