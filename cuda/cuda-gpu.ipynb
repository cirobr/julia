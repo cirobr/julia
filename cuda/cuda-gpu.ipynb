{
 "cells": [
  {
   "cell_type": "markdown",
   "id": "150b2716",
   "metadata": {},
   "source": [
    "## CUDA example"
   ]
  },
  {
   "cell_type": "code",
   "execution_count": 1,
   "id": "193561d7",
   "metadata": {},
   "outputs": [],
   "source": [
    "using CUDA\n",
    "using Random\n"
   ]
  },
  {
   "cell_type": "code",
   "execution_count": 5,
   "id": "b223d7a6",
   "metadata": {},
   "outputs": [
    {
     "data": {
      "text/plain": [
       "CuArray{Float32, 2, CUDA.Mem.DeviceBuffer}"
      ]
     },
     "execution_count": 5,
     "metadata": {},
     "output_type": "execute_result"
    }
   ],
   "source": [
    "N = 10000\n",
    "a_d = CuArray{Float32}(undef, (N, N))\n",
    "b_d = CuArray{Float32}(undef, (N, N))\n",
    "c_d = CuArray{Float32}(undef, (N, N))\n",
    "\n",
    "typeof(c_d)"
   ]
  },
  {
   "cell_type": "code",
   "execution_count": 3,
   "id": "63af20fe",
   "metadata": {},
   "outputs": [],
   "source": [
    "Random.seed!(1)\n",
    "\n",
    "for i in 1:10\n",
    "    randn!(a_d)\n",
    "    randn!(b_d)\n",
    "\n",
    "    global c_d = a_d * b_d\n",
    "    \n",
    "end\n"
   ]
  },
  {
   "cell_type": "code",
   "execution_count": 4,
   "id": "8efbb974",
   "metadata": {},
   "outputs": [],
   "source": [
    "global a_d = nothing\n",
    "global b_d = nothing\n",
    "global c_d = nothing\n",
    "GC.gc()\n"
   ]
  }
 ],
 "metadata": {
  "kernelspec": {
   "display_name": "Julia 1.6.5",
   "language": "julia",
   "name": "julia-1.6"
  },
  "language_info": {
   "file_extension": ".jl",
   "mimetype": "application/julia",
   "name": "julia",
   "version": "1.6.5"
  }
 },
 "nbformat": 4,
 "nbformat_minor": 5
}
