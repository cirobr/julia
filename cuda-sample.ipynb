{
 "cells": [
  {
   "cell_type": "markdown",
   "id": "a063f505",
   "metadata": {},
   "source": [
    "CUDA sample code"
   ]
  },
  {
   "cell_type": "code",
   "execution_count": 1,
   "id": "40679232",
   "metadata": {},
   "outputs": [],
   "source": [
    "using CUDA\n"
   ]
  },
  {
   "cell_type": "code",
   "execution_count": 2,
   "id": "491ccb1c",
   "metadata": {},
   "outputs": [
    {
     "data": {
      "text/plain": [
       "2-element CuArray{Float32,1}:\n",
       " 0.9352221\n",
       " 0.20026818"
      ]
     },
     "execution_count": 2,
     "metadata": {},
     "output_type": "execute_result"
    }
   ],
   "source": [
    "W = cu(rand(2, 5)) # a 2×5 CuArray\n",
    "b = cu(rand(2))\n"
   ]
  },
  {
   "cell_type": "code",
   "execution_count": 4,
   "id": "4d07f4d8",
   "metadata": {},
   "outputs": [
    {
     "ename": "LLVM.LLVMException",
     "evalue": "\u001b[91mLLVM error: Cannot cast between two non-generic address spaces\u001b[39m",
     "output_type": "error",
     "traceback": [
      "\u001b[91mLLVM error: Cannot cast between two non-generic address spaces\u001b[39m",
      "",
      "Stacktrace:",
      " [1] handle_error(::Cstring) at /home/ciro/.julia/packages/LLVM/T8ZBA/src/core/context.jl:105",
      " [2] macro expansion at /home/ciro/.julia/packages/LLVM/T8ZBA/src/util.jl:109 [inlined]",
      " [3] LLVMTargetMachineEmitToMemoryBuffer(::LLVM.TargetMachine, ::LLVM.Module, ::LLVM.API.LLVMCodeGenFileType, ::Base.RefValue{Cstring}, ::Base.RefValue{Ptr{LLVM.API.LLVMOpaqueMemoryBuffer}}) at /home/ciro/.julia/packages/LLVM/T8ZBA/lib/libLLVM_h.jl:3512",
      " [4] emit(::LLVM.TargetMachine, ::LLVM.Module, ::LLVM.API.LLVMCodeGenFileType) at /home/ciro/.julia/packages/LLVM/T8ZBA/src/targetmachine.jl:43",
      " [5] mcgen at /home/ciro/.julia/packages/GPUCompiler/GKp4B/src/mcgen.jl:73 [inlined]",
      " [6] macro expansion at /home/ciro/.julia/packages/TimerOutputs/SSeq1/src/TimerOutput.jl:252 [inlined]",
      " [7] macro expansion at /home/ciro/.julia/packages/GPUCompiler/GKp4B/src/driver.jl:254 [inlined]",
      " [8] macro expansion at /home/ciro/.julia/packages/TimerOutputs/SSeq1/src/TimerOutput.jl:252 [inlined]",
      " [9] codegen(::Symbol, ::GPUCompiler.CompilerJob{GPUCompiler.PTXCompilerTarget,CUDA.CUDACompilerParams}; libraries::Bool, deferred_codegen::Bool, optimize::Bool, strip::Bool, validate::Bool, only_entry::Bool) at /home/ciro/.julia/packages/GPUCompiler/GKp4B/src/driver.jl:250",
      " [10] compile(::Symbol, ::GPUCompiler.CompilerJob{GPUCompiler.PTXCompilerTarget,CUDA.CUDACompilerParams}; libraries::Bool, deferred_codegen::Bool, optimize::Bool, strip::Bool, validate::Bool, only_entry::Bool) at /home/ciro/.julia/packages/GPUCompiler/GKp4B/src/driver.jl:39",
      " [11] compile at /home/ciro/.julia/packages/GPUCompiler/GKp4B/src/driver.jl:35 [inlined]",
      " [12] _cufunction(::GPUCompiler.FunctionSpec{GPUArrays.var\"#broadcast_kernel#14\",Tuple{CUDA.CuKernelContext,CuDeviceArray{Float32,1,CUDA.AS.Global},Base.Broadcast.Broadcasted{Nothing,Tuple{Base.OneTo{Int64}},typeof(+),Tuple{Base.Broadcast.Extruded{CuDeviceArray{Float32,1,CUDA.AS.Global},Tuple{Bool},Tuple{Int64}},Base.Broadcast.Extruded{CuDeviceArray{Float32,1,CUDA.AS.Global},Tuple{Bool},Tuple{Int64}}}},Int64}}; kwargs::Base.Iterators.Pairs{Union{},Union{},Tuple{},NamedTuple{(),Tuple{}}}) at /home/ciro/.julia/packages/CUDA/dZvbp/src/compiler/execution.jl:310",
      " [13] _cufunction at /home/ciro/.julia/packages/CUDA/dZvbp/src/compiler/execution.jl:304 [inlined]",
      " [14] check_cache(::typeof(CUDA._cufunction), ::GPUCompiler.FunctionSpec{GPUArrays.var\"#broadcast_kernel#14\",Tuple{CUDA.CuKernelContext,CuDeviceArray{Float32,1,CUDA.AS.Global},Base.Broadcast.Broadcasted{Nothing,Tuple{Base.OneTo{Int64}},typeof(+),Tuple{Base.Broadcast.Extruded{CuDeviceArray{Float32,1,CUDA.AS.Global},Tuple{Bool},Tuple{Int64}},Base.Broadcast.Extruded{CuDeviceArray{Float32,1,CUDA.AS.Global},Tuple{Bool},Tuple{Int64}}}},Int64}}, ::UInt64; kwargs::Base.Iterators.Pairs{Union{},Union{},Tuple{},NamedTuple{(),Tuple{}}}) at /home/ciro/.julia/packages/GPUCompiler/GKp4B/src/cache.jl:24",
      " [15] broadcast_kernel at /home/ciro/.julia/packages/GPUArrays/uaFZh/src/host/broadcast.jl:60 [inlined]",
      " [16] cached_compilation(::typeof(CUDA._cufunction), ::GPUCompiler.FunctionSpec{GPUArrays.var\"#broadcast_kernel#14\",Tuple{CUDA.CuKernelContext,CuDeviceArray{Float32,1,CUDA.AS.Global},Base.Broadcast.Broadcasted{Nothing,Tuple{Base.OneTo{Int64}},typeof(+),Tuple{Base.Broadcast.Extruded{CuDeviceArray{Float32,1,CUDA.AS.Global},Tuple{Bool},Tuple{Int64}},Base.Broadcast.Extruded{CuDeviceArray{Float32,1,CUDA.AS.Global},Tuple{Bool},Tuple{Int64}}}},Int64}}, ::UInt64; kwargs::Base.Iterators.Pairs{Union{},Union{},Tuple{},NamedTuple{(),Tuple{}}}) at /home/ciro/.julia/packages/GPUCompiler/GKp4B/src/cache.jl:0",
      " [17] cached_compilation at /home/ciro/.julia/packages/GPUCompiler/GKp4B/src/cache.jl:44 [inlined]",
      " [18] cufunction(::GPUArrays.var\"#broadcast_kernel#14\", ::Type{Tuple{CUDA.CuKernelContext,CuDeviceArray{Float32,1,CUDA.AS.Global},Base.Broadcast.Broadcasted{Nothing,Tuple{Base.OneTo{Int64}},typeof(+),Tuple{Base.Broadcast.Extruded{CuDeviceArray{Float32,1,CUDA.AS.Global},Tuple{Bool},Tuple{Int64}},Base.Broadcast.Extruded{CuDeviceArray{Float32,1,CUDA.AS.Global},Tuple{Bool},Tuple{Int64}}}},Int64}}; name::Nothing, kwargs::Base.Iterators.Pairs{Union{},Union{},Tuple{},NamedTuple{(),Tuple{}}}) at /home/ciro/.julia/packages/CUDA/dZvbp/src/compiler/execution.jl:298",
      " [19] cufunction at /home/ciro/.julia/packages/CUDA/dZvbp/src/compiler/execution.jl:293 [inlined]",
      " [20] #launch_heuristic#838 at /home/ciro/.julia/packages/CUDA/dZvbp/src/gpuarrays.jl:19 [inlined]",
      " [21] launch_heuristic at /home/ciro/.julia/packages/CUDA/dZvbp/src/gpuarrays.jl:17 [inlined]",
      " [22] copyto! at /home/ciro/.julia/packages/GPUArrays/uaFZh/src/host/broadcast.jl:66 [inlined]",
      " [23] copyto! at ./broadcast.jl:864 [inlined]",
      " [24] copy at ./broadcast.jl:840 [inlined]",
      " [25] materialize(::Base.Broadcast.Broadcasted{CUDA.CuArrayStyle{1},Nothing,typeof(+),Tuple{CuArray{Float32,1},CuArray{Float32,1}}}) at ./broadcast.jl:820",
      " [26] predict(::CuArray{Float32,1}) at ./In[4]:1",
      " [27] loss(::CuArray{Float32,1}, ::CuArray{Float32,1}) at ./In[4]:2",
      " [28] top-level scope at In[4]:5"
     ]
    }
   ],
   "source": [
    "predict(x) = W*x .+ b\n",
    "loss(x, y) = sum((predict(x) .- y).^2)\n",
    "\n",
    "x, y = cu(rand(5)), cu(rand(2)) # Dummy data\n",
    "loss(x, y) # ~ 3"
   ]
  },
  {
   "cell_type": "code",
   "execution_count": null,
   "id": "67765872",
   "metadata": {},
   "outputs": [],
   "source": []
  }
 ],
 "metadata": {
  "kernelspec": {
   "display_name": "Julia 1.4.1",
   "language": "julia",
   "name": "julia-1.4"
  },
  "language_info": {
   "file_extension": ".jl",
   "mimetype": "application/julia",
   "name": "julia",
   "version": "1.4.1"
  }
 },
 "nbformat": 4,
 "nbformat_minor": 5
}
