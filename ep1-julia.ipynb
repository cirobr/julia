{
 "cells": [
  {
   "cell_type": "markdown",
   "id": "25f5560d",
   "metadata": {},
   "source": [
    "ep1"
   ]
  },
  {
   "cell_type": "code",
   "execution_count": 1,
   "id": "c7d2106e",
   "metadata": {},
   "outputs": [],
   "source": [
    "# libraries\n",
    "using Plots"
   ]
  },
  {
   "cell_type": "code",
   "execution_count": 2,
   "id": "248673f3",
   "metadata": {},
   "outputs": [
    {
     "data": {
      "text/plain": [
       "5×2 Array{Float64,2}:\n",
       " 1.3  -0.2\n",
       " 0.0   0.0\n",
       " 0.0   1.0\n",
       " 1.0   0.0\n",
       " 1.0   1.0"
      ]
     },
     "metadata": {},
     "output_type": "display_data"
    },
    {
     "name": "stdout",
     "output_type": "stream",
     "text": [
      "Shape of array X: (5, 2)\n",
      "Number of examples: 5\n"
     ]
    }
   ],
   "source": [
    "# Create an array with N points\n",
    "xmin = ymin = -1\n",
    "xmax = ymax = 2\n",
    "\n",
    "X = [1.3 -0.2;     # cada linha equivale a um ponto\n",
    "    0 0;\n",
    "    0 1;\n",
    "    1 0;\n",
    "    1 1]\n",
    "\n",
    "display(X)\n",
    "println(\"Shape of array X: \", size(X))\n",
    "\n",
    "N = size(X)[1]\n",
    "println(\"Number of examples: \", N)\n"
   ]
  },
  {
   "cell_type": "code",
   "execution_count": 3,
   "id": "7df5a6d2",
   "metadata": {},
   "outputs": [
    {
     "data": {
      "text/plain": [
       "5×3 Array{Float64,2}:\n",
       " 1.0  1.3  -0.2\n",
       " 1.0  0.0   0.0\n",
       " 1.0  0.0   1.0\n",
       " 1.0  1.0   0.0\n",
       " 1.0  1.0   1.0"
      ]
     },
     "metadata": {},
     "output_type": "display_data"
    },
    {
     "name": "stdout",
     "output_type": "stream",
     "text": [
      "Shape of array Xe: (5, 3)\n"
     ]
    }
   ],
   "source": [
    "# add X leftmost column with 1's\n",
    "add_column_of_ones(X) = hcat(ones(N), X)\n",
    "\n",
    "Xe = add_column_of_ones(X)\n",
    "display(Xe)\n",
    "println(\"Shape of array Xe: \", size(Xe))\n"
   ]
  },
  {
   "cell_type": "code",
   "execution_count": 4,
   "id": "f3397373",
   "metadata": {},
   "outputs": [
    {
     "data": {
      "text/plain": [
       "3-element Array{Float64,1}:\n",
       "  0.5\n",
       " -1.0\n",
       "  1.0"
      ]
     },
     "metadata": {},
     "output_type": "display_data"
    },
    {
     "name": "stdout",
     "output_type": "stream",
     "text": [
      "Shape of array w_target: (3,)\n"
     ]
    }
   ],
   "source": [
    "# define a target weight vector\n",
    "w_target = [0.5; -1; 1]\n",
    "display(w_target)\n",
    "println(\"Shape of array w_target: \", size(w_target))\n"
   ]
  },
  {
   "cell_type": "code",
   "execution_count": 5,
   "id": "f91ac66f",
   "metadata": {},
   "outputs": [
    {
     "data": {
      "text/plain": [
       "5-element Array{Float64,1}:\n",
       " -1.0\n",
       "  1.0\n",
       "  1.0\n",
       " -1.0\n",
       "  1.0"
      ]
     },
     "metadata": {},
     "output_type": "display_data"
    },
    {
     "name": "stdout",
     "output_type": "stream",
     "text": [
      "Shape of array y: (5,)\n"
     ]
    }
   ],
   "source": [
    "# define y (class) values, based on the line defined by the target weight vector\n",
    "y = Xe * w_target            # produto matricial (crossproduct)\n",
    "#display(y)\n",
    "\n",
    "y = sign.(Xe * w_target)     # sign broadcasted\n",
    "display(y)\n",
    "println(\"Shape of array y: \", size(y))\n"
   ]
  },
  {
   "cell_type": "code",
   "execution_count": 6,
   "id": "6b14cdf0",
   "metadata": {},
   "outputs": [
    {
     "name": "stdout",
     "output_type": "stream",
     "text": [
      "[\"red\", \"blue\", \"blue\", \"red\", \"blue\"]\n"
     ]
    },
    {
     "data": {
      "image/svg+xml": [
       "<?xml version=\"1.0\" encoding=\"utf-8\"?>\n",
       "<svg xmlns=\"http://www.w3.org/2000/svg\" xmlns:xlink=\"http://www.w3.org/1999/xlink\" width=\"300\" height=\"300\" viewBox=\"0 0 1200 1200\">\n",
       "<defs>\n",
       "  <clipPath id=\"clip720\">\n",
       "    <rect x=\"0\" y=\"0\" width=\"1200\" height=\"1200\"/>\n",
       "  </clipPath>\n",
       "</defs>\n",
       "<path clip-path=\"url(#clip720)\" d=\"\n",
       "M0 1200 L1200 1200 L1200 0 L0 0  Z\n",
       "  \" fill=\"#ffffff\" fill-rule=\"evenodd\" fill-opacity=\"1\"/>\n",
       "<defs>\n",
       "  <clipPath id=\"clip721\">\n",
       "    <rect x=\"240\" y=\"120\" width=\"841\" height=\"841\"/>\n",
       "  </clipPath>\n",
       "</defs>\n",
       "<path clip-path=\"url(#clip720)\" d=\"\n",
       "M130.455 1073.17 L1152.76 1073.17 L1152.76 47.2441 L130.455 47.2441  Z\n",
       "  \" fill=\"#ffffff\" fill-rule=\"evenodd\" fill-opacity=\"1\"/>\n",
       "<defs>\n",
       "  <clipPath id=\"clip722\">\n",
       "    <rect x=\"130\" y=\"47\" width=\"1023\" height=\"1027\"/>\n",
       "  </clipPath>\n",
       "</defs>\n",
       "<polyline clip-path=\"url(#clip722)\" style=\"stroke:#000000; stroke-width:2; stroke-opacity:0.1; fill:none\" points=\"\n",
       "  130.455,1073.17 130.455,47.2441 \n",
       "  \"/>\n",
       "<polyline clip-path=\"url(#clip722)\" style=\"stroke:#000000; stroke-width:2; stroke-opacity:0.1; fill:none\" points=\"\n",
       "  471.222,1073.17 471.222,47.2441 \n",
       "  \"/>\n",
       "<polyline clip-path=\"url(#clip722)\" style=\"stroke:#000000; stroke-width:2; stroke-opacity:0.1; fill:none\" points=\"\n",
       "  811.989,1073.17 811.989,47.2441 \n",
       "  \"/>\n",
       "<polyline clip-path=\"url(#clip722)\" style=\"stroke:#000000; stroke-width:2; stroke-opacity:0.1; fill:none\" points=\"\n",
       "  1152.76,1073.17 1152.76,47.2441 \n",
       "  \"/>\n",
       "<polyline clip-path=\"url(#clip720)\" style=\"stroke:#000000; stroke-width:4; stroke-opacity:1; fill:none\" points=\"\n",
       "  130.455,1073.17 1152.76,1073.17 \n",
       "  \"/>\n",
       "<polyline clip-path=\"url(#clip720)\" style=\"stroke:#000000; stroke-width:4; stroke-opacity:1; fill:none\" points=\"\n",
       "  130.455,1073.17 130.455,1060.86 \n",
       "  \"/>\n",
       "<polyline clip-path=\"url(#clip720)\" style=\"stroke:#000000; stroke-width:4; stroke-opacity:1; fill:none\" points=\"\n",
       "  471.222,1073.17 471.222,1060.86 \n",
       "  \"/>\n",
       "<polyline clip-path=\"url(#clip720)\" style=\"stroke:#000000; stroke-width:4; stroke-opacity:1; fill:none\" points=\"\n",
       "  811.989,1073.17 811.989,1060.86 \n",
       "  \"/>\n",
       "<polyline clip-path=\"url(#clip720)\" style=\"stroke:#000000; stroke-width:4; stroke-opacity:1; fill:none\" points=\"\n",
       "  1152.76,1073.17 1152.76,1060.86 \n",
       "  \"/>\n",
       "<path clip-path=\"url(#clip720)\" d=\"M 0 0 M102.723 1107.41 L132.399 1107.41 L132.399 1111.35 L102.723 1111.35 L102.723 1107.41 Z\" fill=\"#000000\" fill-rule=\"evenodd\" fill-opacity=\"1\" /><path clip-path=\"url(#clip720)\" d=\"M 0 0 M138.279 1120.3 L145.918 1120.3 L145.918 1093.94 L137.608 1095.61 L137.608 1091.35 L145.871 1089.68 L150.547 1089.68 L150.547 1120.3 L158.186 1120.3 L158.186 1124.24 L138.279 1124.24 L138.279 1120.3 Z\" fill=\"#000000\" fill-rule=\"evenodd\" fill-opacity=\"1\" /><path clip-path=\"url(#clip720)\" d=\"M 0 0 M471.222 1092.76 Q467.611 1092.76 465.782 1096.32 Q463.976 1099.87 463.976 1106.99 Q463.976 1114.1 465.782 1117.67 Q467.611 1121.21 471.222 1121.21 Q474.856 1121.21 476.662 1117.67 Q478.49 1114.1 478.49 1106.99 Q478.49 1099.87 476.662 1096.32 Q474.856 1092.76 471.222 1092.76 M471.222 1089.05 Q477.032 1089.05 480.088 1093.66 Q483.166 1098.24 483.166 1106.99 Q483.166 1115.72 480.088 1120.33 Q477.032 1124.91 471.222 1124.91 Q465.412 1124.91 462.333 1120.33 Q459.277 1115.72 459.277 1106.99 Q459.277 1098.24 462.333 1093.66 Q465.412 1089.05 471.222 1089.05 Z\" fill=\"#000000\" fill-rule=\"evenodd\" fill-opacity=\"1\" /><path clip-path=\"url(#clip720)\" d=\"M 0 0 M802.371 1120.3 L810.01 1120.3 L810.01 1093.94 L801.7 1095.61 L801.7 1091.35 L809.963 1089.68 L814.639 1089.68 L814.639 1120.3 L822.278 1120.3 L822.278 1124.24 L802.371 1124.24 L802.371 1120.3 Z\" fill=\"#000000\" fill-rule=\"evenodd\" fill-opacity=\"1\" /><path clip-path=\"url(#clip720)\" d=\"M 0 0 M1147.41 1120.3 L1163.73 1120.3 L1163.73 1124.24 L1141.78 1124.24 L1141.78 1120.3 Q1144.45 1117.55 1149.03 1112.92 Q1153.64 1108.27 1154.82 1106.93 Q1157.06 1104.4 1157.94 1102.67 Q1158.84 1100.91 1158.84 1099.22 Q1158.84 1096.46 1156.9 1094.73 Q1154.98 1092.99 1151.88 1092.99 Q1149.68 1092.99 1147.22 1093.75 Q1144.79 1094.52 1142.02 1096.07 L1142.02 1091.35 Q1144.84 1090.21 1147.29 1089.63 Q1149.75 1089.05 1151.78 1089.05 Q1157.15 1089.05 1160.35 1091.74 Q1163.54 1094.43 1163.54 1098.92 Q1163.54 1101.05 1162.73 1102.97 Q1161.95 1104.86 1159.84 1107.46 Q1159.26 1108.13 1156.16 1111.35 Q1153.06 1114.54 1147.41 1120.3 Z\" fill=\"#000000\" fill-rule=\"evenodd\" fill-opacity=\"1\" /><polyline clip-path=\"url(#clip722)\" style=\"stroke:#000000; stroke-width:2; stroke-opacity:0.1; fill:none\" points=\"\n",
       "  130.455,1073.17 1152.76,1073.17 \n",
       "  \"/>\n",
       "<polyline clip-path=\"url(#clip722)\" style=\"stroke:#000000; stroke-width:2; stroke-opacity:0.1; fill:none\" points=\"\n",
       "  130.455,731.193 1152.76,731.193 \n",
       "  \"/>\n",
       "<polyline clip-path=\"url(#clip722)\" style=\"stroke:#000000; stroke-width:2; stroke-opacity:0.1; fill:none\" points=\"\n",
       "  130.455,389.219 1152.76,389.219 \n",
       "  \"/>\n",
       "<polyline clip-path=\"url(#clip722)\" style=\"stroke:#000000; stroke-width:2; stroke-opacity:0.1; fill:none\" points=\"\n",
       "  130.455,47.2441 1152.76,47.2441 \n",
       "  \"/>\n",
       "<polyline clip-path=\"url(#clip720)\" style=\"stroke:#000000; stroke-width:4; stroke-opacity:1; fill:none\" points=\"\n",
       "  130.455,1073.17 130.455,47.2441 \n",
       "  \"/>\n",
       "<polyline clip-path=\"url(#clip720)\" style=\"stroke:#000000; stroke-width:4; stroke-opacity:1; fill:none\" points=\"\n",
       "  130.455,1073.17 142.722,1073.17 \n",
       "  \"/>\n",
       "<polyline clip-path=\"url(#clip720)\" style=\"stroke:#000000; stroke-width:4; stroke-opacity:1; fill:none\" points=\"\n",
       "  130.455,731.193 142.722,731.193 \n",
       "  \"/>\n",
       "<polyline clip-path=\"url(#clip720)\" style=\"stroke:#000000; stroke-width:4; stroke-opacity:1; fill:none\" points=\"\n",
       "  130.455,389.219 142.722,389.219 \n",
       "  \"/>\n",
       "<polyline clip-path=\"url(#clip720)\" style=\"stroke:#000000; stroke-width:4; stroke-opacity:1; fill:none\" points=\"\n",
       "  130.455,47.2441 142.722,47.2441 \n",
       "  \"/>\n",
       "<path clip-path=\"url(#clip720)\" d=\"M 0 0 M56.9921 1073.62 L86.6679 1073.62 L86.6679 1077.55 L56.9921 1077.55 L56.9921 1073.62 Z\" fill=\"#000000\" fill-rule=\"evenodd\" fill-opacity=\"1\" /><path clip-path=\"url(#clip720)\" d=\"M 0 0 M92.5475 1086.51 L100.186 1086.51 L100.186 1060.15 L91.8762 1061.81 L91.8762 1057.55 L100.14 1055.89 L104.816 1055.89 L104.816 1086.51 L112.455 1086.51 L112.455 1090.45 L92.5475 1090.45 L92.5475 1086.51 Z\" fill=\"#000000\" fill-rule=\"evenodd\" fill-opacity=\"1\" /><path clip-path=\"url(#clip720)\" d=\"M 0 0 M100.51 716.992 Q96.8993 716.992 95.0706 720.557 Q93.2651 724.098 93.2651 731.228 Q93.2651 738.334 95.0706 741.899 Q96.8993 745.441 100.51 745.441 Q104.145 745.441 105.95 741.899 Q107.779 738.334 107.779 731.228 Q107.779 724.098 105.95 720.557 Q104.145 716.992 100.51 716.992 M100.51 713.288 Q106.321 713.288 109.376 717.895 Q112.455 722.478 112.455 731.228 Q112.455 739.955 109.376 744.561 Q106.321 749.145 100.51 749.145 Q94.7003 749.145 91.6216 744.561 Q88.566 739.955 88.566 731.228 Q88.566 722.478 91.6216 717.895 Q94.7003 713.288 100.51 713.288 Z\" fill=\"#000000\" fill-rule=\"evenodd\" fill-opacity=\"1\" /><path clip-path=\"url(#clip720)\" d=\"M 0 0 M92.5475 402.564 L100.186 402.564 L100.186 376.198 L91.8762 377.865 L91.8762 373.605 L100.14 371.939 L104.816 371.939 L104.816 402.564 L112.455 402.564 L112.455 406.499 L92.5475 406.499 L92.5475 402.564 Z\" fill=\"#000000\" fill-rule=\"evenodd\" fill-opacity=\"1\" /><path clip-path=\"url(#clip720)\" d=\"M 0 0 M96.1354 60.5889 L112.455 60.5889 L112.455 64.5241 L90.5105 64.5241 L90.5105 60.5889 Q93.1725 57.8343 97.7558 53.2047 Q102.362 48.552 103.543 47.2094 Q105.788 44.6862 106.668 42.9501 Q107.571 41.1909 107.571 39.5011 Q107.571 36.7465 105.626 35.0104 Q103.705 33.2743 100.603 33.2743 Q98.4039 33.2743 95.9503 34.0381 Q93.5197 34.802 90.7419 36.3529 L90.7419 31.6308 Q93.566 30.4965 96.0197 29.9178 Q98.4734 29.3391 100.51 29.3391 Q105.881 29.3391 109.075 32.0243 Q112.27 34.7094 112.27 39.2002 Q112.27 41.3298 111.459 43.2511 Q110.672 45.1492 108.566 47.7418 Q107.987 48.4131 104.885 51.6306 Q101.784 54.8251 96.1354 60.5889 Z\" fill=\"#000000\" fill-rule=\"evenodd\" fill-opacity=\"1\" /><polyline clip-path=\"url(#clip722)\" style=\"stroke:#009af9; stroke-width:4; stroke-opacity:1; fill:none\" points=\"\n",
       "  130.455,1244.16 151.318,1223.22 172.181,1202.28 193.045,1181.34 213.908,1160.41 234.771,1139.47 255.635,1118.53 276.498,1097.59 297.361,1076.66 318.224,1055.72 \n",
       "  339.088,1034.78 359.951,1013.85 380.814,992.909 401.678,971.971 422.541,951.034 443.404,930.097 464.267,909.16 485.131,888.222 505.994,867.285 526.857,846.348 \n",
       "  547.721,825.411 568.584,804.474 589.447,783.536 610.31,762.599 631.174,741.662 652.037,720.725 672.9,699.787 693.764,678.85 714.627,657.913 735.49,636.976 \n",
       "  756.353,616.039 777.217,595.101 798.08,574.164 818.943,553.227 839.807,532.29 860.67,511.352 881.533,490.415 902.396,469.478 923.26,448.541 944.123,427.604 \n",
       "  964.986,406.666 985.85,385.729 1006.71,364.792 1027.58,343.855 1048.44,322.917 1069.3,301.98 1090.17,281.043 1111.03,260.106 1131.89,239.169 1152.76,218.231 \n",
       "  \n",
       "  \"/>\n",
       "<circle clip-path=\"url(#clip722)\" cx=\"914.219\" cy=\"799.588\" r=\"14\" fill=\"#ff0000\" fill-rule=\"evenodd\" fill-opacity=\"1\" stroke=\"#000000\" stroke-opacity=\"1\" stroke-width=\"2.4\"/>\n",
       "<circle clip-path=\"url(#clip722)\" cx=\"471.222\" cy=\"731.193\" r=\"14\" fill=\"#0000ff\" fill-rule=\"evenodd\" fill-opacity=\"1\" stroke=\"#000000\" stroke-opacity=\"1\" stroke-width=\"2.4\"/>\n",
       "<circle clip-path=\"url(#clip722)\" cx=\"471.222\" cy=\"389.219\" r=\"14\" fill=\"#0000ff\" fill-rule=\"evenodd\" fill-opacity=\"1\" stroke=\"#000000\" stroke-opacity=\"1\" stroke-width=\"2.4\"/>\n",
       "<circle clip-path=\"url(#clip722)\" cx=\"811.989\" cy=\"731.193\" r=\"14\" fill=\"#ff0000\" fill-rule=\"evenodd\" fill-opacity=\"1\" stroke=\"#000000\" stroke-opacity=\"1\" stroke-width=\"2.4\"/>\n",
       "<circle clip-path=\"url(#clip722)\" cx=\"811.989\" cy=\"389.219\" r=\"14\" fill=\"#0000ff\" fill-rule=\"evenodd\" fill-opacity=\"1\" stroke=\"#000000\" stroke-opacity=\"1\" stroke-width=\"2.4\"/>\n",
       "</svg>\n"
      ]
     },
     "execution_count": 6,
     "metadata": {},
     "output_type": "execute_result"
    }
   ],
   "source": [
    "# plot the line\n",
    "a = -w_target[2] / w_target[3] # slope\n",
    "b = -w_target[1] / w_target[3] # intercept\n",
    "x_l = range(xmin, xmax; length=50)\n",
    "y_l = a * x_l .+ b\n",
    "\n",
    "gr()\n",
    "plot(x_l, y_l, lims=(xmin, xmax), size=(300,300), legend=false)\n",
    "\n",
    "# plot the data points\n",
    "colors = map( (y -> y == 1 ? \"blue\" : \"red\") , y )\n",
    "println(colors)\n",
    "scatter!(X[:, 1], X[:, 2], markercolor = colors)"
   ]
  },
  {
   "cell_type": "markdown",
   "id": "c153f58c",
   "metadata": {},
   "source": [
    "Color the classification: blue (positive) and red (negative)\n",
    "\n",
    "Mark data points: dot (correct classification) and cross (incorrect classification)"
   ]
  },
  {
   "cell_type": "code",
   "execution_count": 7,
   "id": "f4d3d485",
   "metadata": {},
   "outputs": [
    {
     "data": {
      "image/svg+xml": [
       "<?xml version=\"1.0\" encoding=\"utf-8\"?>\n",
       "<svg xmlns=\"http://www.w3.org/2000/svg\" xmlns:xlink=\"http://www.w3.org/1999/xlink\" width=\"300\" height=\"300\" viewBox=\"0 0 1200 1200\">\n",
       "<defs>\n",
       "  <clipPath id=\"clip760\">\n",
       "    <rect x=\"0\" y=\"0\" width=\"1200\" height=\"1200\"/>\n",
       "  </clipPath>\n",
       "</defs>\n",
       "<path clip-path=\"url(#clip760)\" d=\"\n",
       "M0 1200 L1200 1200 L1200 0 L0 0  Z\n",
       "  \" fill=\"#ffffff\" fill-rule=\"evenodd\" fill-opacity=\"1\"/>\n",
       "<defs>\n",
       "  <clipPath id=\"clip761\">\n",
       "    <rect x=\"240\" y=\"120\" width=\"841\" height=\"841\"/>\n",
       "  </clipPath>\n",
       "</defs>\n",
       "<path clip-path=\"url(#clip760)\" d=\"\n",
       "M130.455 1073.17 L1152.76 1073.17 L1152.76 47.2441 L130.455 47.2441  Z\n",
       "  \" fill=\"#ffffff\" fill-rule=\"evenodd\" fill-opacity=\"1\"/>\n",
       "<defs>\n",
       "  <clipPath id=\"clip762\">\n",
       "    <rect x=\"130\" y=\"47\" width=\"1023\" height=\"1027\"/>\n",
       "  </clipPath>\n",
       "</defs>\n",
       "<polyline clip-path=\"url(#clip762)\" style=\"stroke:#000000; stroke-width:2; stroke-opacity:0.1; fill:none\" points=\"\n",
       "  130.455,1073.17 130.455,47.2441 \n",
       "  \"/>\n",
       "<polyline clip-path=\"url(#clip762)\" style=\"stroke:#000000; stroke-width:2; stroke-opacity:0.1; fill:none\" points=\"\n",
       "  471.222,1073.17 471.222,47.2441 \n",
       "  \"/>\n",
       "<polyline clip-path=\"url(#clip762)\" style=\"stroke:#000000; stroke-width:2; stroke-opacity:0.1; fill:none\" points=\"\n",
       "  811.989,1073.17 811.989,47.2441 \n",
       "  \"/>\n",
       "<polyline clip-path=\"url(#clip762)\" style=\"stroke:#000000; stroke-width:2; stroke-opacity:0.1; fill:none\" points=\"\n",
       "  1152.76,1073.17 1152.76,47.2441 \n",
       "  \"/>\n",
       "<polyline clip-path=\"url(#clip760)\" style=\"stroke:#000000; stroke-width:4; stroke-opacity:1; fill:none\" points=\"\n",
       "  130.455,1073.17 1152.76,1073.17 \n",
       "  \"/>\n",
       "<polyline clip-path=\"url(#clip760)\" style=\"stroke:#000000; stroke-width:4; stroke-opacity:1; fill:none\" points=\"\n",
       "  130.455,1073.17 130.455,1060.86 \n",
       "  \"/>\n",
       "<polyline clip-path=\"url(#clip760)\" style=\"stroke:#000000; stroke-width:4; stroke-opacity:1; fill:none\" points=\"\n",
       "  471.222,1073.17 471.222,1060.86 \n",
       "  \"/>\n",
       "<polyline clip-path=\"url(#clip760)\" style=\"stroke:#000000; stroke-width:4; stroke-opacity:1; fill:none\" points=\"\n",
       "  811.989,1073.17 811.989,1060.86 \n",
       "  \"/>\n",
       "<polyline clip-path=\"url(#clip760)\" style=\"stroke:#000000; stroke-width:4; stroke-opacity:1; fill:none\" points=\"\n",
       "  1152.76,1073.17 1152.76,1060.86 \n",
       "  \"/>\n",
       "<path clip-path=\"url(#clip760)\" d=\"M 0 0 M102.723 1107.41 L132.399 1107.41 L132.399 1111.35 L102.723 1111.35 L102.723 1107.41 Z\" fill=\"#000000\" fill-rule=\"evenodd\" fill-opacity=\"1\" /><path clip-path=\"url(#clip760)\" d=\"M 0 0 M138.279 1120.3 L145.918 1120.3 L145.918 1093.94 L137.608 1095.61 L137.608 1091.35 L145.871 1089.68 L150.547 1089.68 L150.547 1120.3 L158.186 1120.3 L158.186 1124.24 L138.279 1124.24 L138.279 1120.3 Z\" fill=\"#000000\" fill-rule=\"evenodd\" fill-opacity=\"1\" /><path clip-path=\"url(#clip760)\" d=\"M 0 0 M471.222 1092.76 Q467.611 1092.76 465.782 1096.32 Q463.976 1099.87 463.976 1106.99 Q463.976 1114.1 465.782 1117.67 Q467.611 1121.21 471.222 1121.21 Q474.856 1121.21 476.662 1117.67 Q478.49 1114.1 478.49 1106.99 Q478.49 1099.87 476.662 1096.32 Q474.856 1092.76 471.222 1092.76 M471.222 1089.05 Q477.032 1089.05 480.088 1093.66 Q483.166 1098.24 483.166 1106.99 Q483.166 1115.72 480.088 1120.33 Q477.032 1124.91 471.222 1124.91 Q465.412 1124.91 462.333 1120.33 Q459.277 1115.72 459.277 1106.99 Q459.277 1098.24 462.333 1093.66 Q465.412 1089.05 471.222 1089.05 Z\" fill=\"#000000\" fill-rule=\"evenodd\" fill-opacity=\"1\" /><path clip-path=\"url(#clip760)\" d=\"M 0 0 M802.371 1120.3 L810.01 1120.3 L810.01 1093.94 L801.7 1095.61 L801.7 1091.35 L809.963 1089.68 L814.639 1089.68 L814.639 1120.3 L822.278 1120.3 L822.278 1124.24 L802.371 1124.24 L802.371 1120.3 Z\" fill=\"#000000\" fill-rule=\"evenodd\" fill-opacity=\"1\" /><path clip-path=\"url(#clip760)\" d=\"M 0 0 M1147.41 1120.3 L1163.73 1120.3 L1163.73 1124.24 L1141.78 1124.24 L1141.78 1120.3 Q1144.45 1117.55 1149.03 1112.92 Q1153.64 1108.27 1154.82 1106.93 Q1157.06 1104.4 1157.94 1102.67 Q1158.84 1100.91 1158.84 1099.22 Q1158.84 1096.46 1156.9 1094.73 Q1154.98 1092.99 1151.88 1092.99 Q1149.68 1092.99 1147.22 1093.75 Q1144.79 1094.52 1142.02 1096.07 L1142.02 1091.35 Q1144.84 1090.21 1147.29 1089.63 Q1149.75 1089.05 1151.78 1089.05 Q1157.15 1089.05 1160.35 1091.74 Q1163.54 1094.43 1163.54 1098.92 Q1163.54 1101.05 1162.73 1102.97 Q1161.95 1104.86 1159.84 1107.46 Q1159.26 1108.13 1156.16 1111.35 Q1153.06 1114.54 1147.41 1120.3 Z\" fill=\"#000000\" fill-rule=\"evenodd\" fill-opacity=\"1\" /><polyline clip-path=\"url(#clip762)\" style=\"stroke:#000000; stroke-width:2; stroke-opacity:0.1; fill:none\" points=\"\n",
       "  130.455,1073.17 1152.76,1073.17 \n",
       "  \"/>\n",
       "<polyline clip-path=\"url(#clip762)\" style=\"stroke:#000000; stroke-width:2; stroke-opacity:0.1; fill:none\" points=\"\n",
       "  130.455,731.193 1152.76,731.193 \n",
       "  \"/>\n",
       "<polyline clip-path=\"url(#clip762)\" style=\"stroke:#000000; stroke-width:2; stroke-opacity:0.1; fill:none\" points=\"\n",
       "  130.455,389.219 1152.76,389.219 \n",
       "  \"/>\n",
       "<polyline clip-path=\"url(#clip762)\" style=\"stroke:#000000; stroke-width:2; stroke-opacity:0.1; fill:none\" points=\"\n",
       "  130.455,47.2441 1152.76,47.2441 \n",
       "  \"/>\n",
       "<polyline clip-path=\"url(#clip760)\" style=\"stroke:#000000; stroke-width:4; stroke-opacity:1; fill:none\" points=\"\n",
       "  130.455,1073.17 130.455,47.2441 \n",
       "  \"/>\n",
       "<polyline clip-path=\"url(#clip760)\" style=\"stroke:#000000; stroke-width:4; stroke-opacity:1; fill:none\" points=\"\n",
       "  130.455,1073.17 142.722,1073.17 \n",
       "  \"/>\n",
       "<polyline clip-path=\"url(#clip760)\" style=\"stroke:#000000; stroke-width:4; stroke-opacity:1; fill:none\" points=\"\n",
       "  130.455,731.193 142.722,731.193 \n",
       "  \"/>\n",
       "<polyline clip-path=\"url(#clip760)\" style=\"stroke:#000000; stroke-width:4; stroke-opacity:1; fill:none\" points=\"\n",
       "  130.455,389.219 142.722,389.219 \n",
       "  \"/>\n",
       "<polyline clip-path=\"url(#clip760)\" style=\"stroke:#000000; stroke-width:4; stroke-opacity:1; fill:none\" points=\"\n",
       "  130.455,47.2441 142.722,47.2441 \n",
       "  \"/>\n",
       "<path clip-path=\"url(#clip760)\" d=\"M 0 0 M56.9921 1073.62 L86.6679 1073.62 L86.6679 1077.55 L56.9921 1077.55 L56.9921 1073.62 Z\" fill=\"#000000\" fill-rule=\"evenodd\" fill-opacity=\"1\" /><path clip-path=\"url(#clip760)\" d=\"M 0 0 M92.5475 1086.51 L100.186 1086.51 L100.186 1060.15 L91.8762 1061.81 L91.8762 1057.55 L100.14 1055.89 L104.816 1055.89 L104.816 1086.51 L112.455 1086.51 L112.455 1090.45 L92.5475 1090.45 L92.5475 1086.51 Z\" fill=\"#000000\" fill-rule=\"evenodd\" fill-opacity=\"1\" /><path clip-path=\"url(#clip760)\" d=\"M 0 0 M100.51 716.992 Q96.8993 716.992 95.0706 720.557 Q93.2651 724.098 93.2651 731.228 Q93.2651 738.334 95.0706 741.899 Q96.8993 745.441 100.51 745.441 Q104.145 745.441 105.95 741.899 Q107.779 738.334 107.779 731.228 Q107.779 724.098 105.95 720.557 Q104.145 716.992 100.51 716.992 M100.51 713.288 Q106.321 713.288 109.376 717.895 Q112.455 722.478 112.455 731.228 Q112.455 739.955 109.376 744.561 Q106.321 749.145 100.51 749.145 Q94.7003 749.145 91.6216 744.561 Q88.566 739.955 88.566 731.228 Q88.566 722.478 91.6216 717.895 Q94.7003 713.288 100.51 713.288 Z\" fill=\"#000000\" fill-rule=\"evenodd\" fill-opacity=\"1\" /><path clip-path=\"url(#clip760)\" d=\"M 0 0 M92.5475 402.564 L100.186 402.564 L100.186 376.198 L91.8762 377.865 L91.8762 373.605 L100.14 371.939 L104.816 371.939 L104.816 402.564 L112.455 402.564 L112.455 406.499 L92.5475 406.499 L92.5475 402.564 Z\" fill=\"#000000\" fill-rule=\"evenodd\" fill-opacity=\"1\" /><path clip-path=\"url(#clip760)\" d=\"M 0 0 M96.1354 60.5889 L112.455 60.5889 L112.455 64.5241 L90.5105 64.5241 L90.5105 60.5889 Q93.1725 57.8343 97.7558 53.2047 Q102.362 48.552 103.543 47.2094 Q105.788 44.6862 106.668 42.9501 Q107.571 41.1909 107.571 39.5011 Q107.571 36.7465 105.626 35.0104 Q103.705 33.2743 100.603 33.2743 Q98.4039 33.2743 95.9503 34.0381 Q93.5197 34.802 90.7419 36.3529 L90.7419 31.6308 Q93.566 30.4965 96.0197 29.9178 Q98.4734 29.3391 100.51 29.3391 Q105.881 29.3391 109.075 32.0243 Q112.27 34.7094 112.27 39.2002 Q112.27 41.3298 111.459 43.2511 Q110.672 45.1492 108.566 47.7418 Q107.987 48.4131 104.885 51.6306 Q101.784 54.8251 96.1354 60.5889 Z\" fill=\"#000000\" fill-rule=\"evenodd\" fill-opacity=\"1\" /><polyline clip-path=\"url(#clip762)\" style=\"stroke:#009af9; stroke-width:8; stroke-opacity:1; fill:none\" points=\"\n",
       "  130.455,218.231 151.318,239.169 172.181,260.106 193.045,281.043 213.908,301.98 234.771,322.917 255.635,343.855 276.498,364.792 297.361,385.729 318.224,406.666 \n",
       "  339.088,427.604 359.951,448.541 380.814,469.478 401.678,490.415 422.541,511.352 443.404,532.29 464.267,553.227 485.131,574.164 505.994,595.101 526.857,616.039 \n",
       "  547.721,636.976 568.584,657.913 589.447,678.85 610.31,699.787 631.174,720.725 652.037,741.662 672.9,762.599 693.764,783.536 714.627,804.474 735.49,825.411 \n",
       "  756.353,846.348 777.217,867.285 798.08,888.222 818.943,909.16 839.807,930.097 860.67,951.034 881.533,971.971 902.396,992.909 923.26,1013.85 944.123,1034.78 \n",
       "  964.986,1055.72 985.85,1076.66 1006.71,1097.59 1027.58,1118.53 1048.44,1139.47 1069.3,1160.41 1090.17,1181.34 1111.03,1202.28 1131.89,1223.22 1152.76,1244.16 \n",
       "  \n",
       "  \"/>\n",
       "<path clip-path=\"url(#clip762)\" d=\"M471.222 405.219 L459.91 400.531 L455.222 389.219 L459.91 377.907 L471.222 373.219 L482.534 377.907 L487.222 389.219 L482.534 400.531 Z\" fill=\"#0000ff\" fill-rule=\"evenodd\" fill-opacity=\"1\" stroke=\"#000000\" stroke-opacity=\"1\" stroke-width=\"2.4\"/>\n",
       "<path clip-path=\"url(#clip762)\" d=\"M811.989 405.219 L800.677 400.531 L795.989 389.219 L800.677 377.907 L811.989 373.219 L823.301 377.907 L827.989 389.219 L823.301 400.531 Z\" fill=\"#0000ff\" fill-rule=\"evenodd\" fill-opacity=\"1\" stroke=\"#000000\" stroke-opacity=\"1\" stroke-width=\"2.4\"/>\n",
       "<line clip-path=\"url(#clip762)\" x1=\"914.219\" y1=\"799.588\" x2=\"898.219\" y2=\"783.588\" style=\"stroke:#ff0000; stroke-width:2.4; stroke-opacity:1\"/>\n",
       "<line clip-path=\"url(#clip762)\" x1=\"914.219\" y1=\"799.588\" x2=\"898.219\" y2=\"815.588\" style=\"stroke:#ff0000; stroke-width:2.4; stroke-opacity:1\"/>\n",
       "<line clip-path=\"url(#clip762)\" x1=\"914.219\" y1=\"799.588\" x2=\"930.219\" y2=\"815.588\" style=\"stroke:#ff0000; stroke-width:2.4; stroke-opacity:1\"/>\n",
       "<line clip-path=\"url(#clip762)\" x1=\"914.219\" y1=\"799.588\" x2=\"930.219\" y2=\"783.588\" style=\"stroke:#ff0000; stroke-width:2.4; stroke-opacity:1\"/>\n",
       "<line clip-path=\"url(#clip762)\" x1=\"471.222\" y1=\"731.193\" x2=\"455.222\" y2=\"715.193\" style=\"stroke:#0000ff; stroke-width:2.4; stroke-opacity:1\"/>\n",
       "<line clip-path=\"url(#clip762)\" x1=\"471.222\" y1=\"731.193\" x2=\"455.222\" y2=\"747.193\" style=\"stroke:#0000ff; stroke-width:2.4; stroke-opacity:1\"/>\n",
       "<line clip-path=\"url(#clip762)\" x1=\"471.222\" y1=\"731.193\" x2=\"487.222\" y2=\"747.193\" style=\"stroke:#0000ff; stroke-width:2.4; stroke-opacity:1\"/>\n",
       "<line clip-path=\"url(#clip762)\" x1=\"471.222\" y1=\"731.193\" x2=\"487.222\" y2=\"715.193\" style=\"stroke:#0000ff; stroke-width:2.4; stroke-opacity:1\"/>\n",
       "<line clip-path=\"url(#clip762)\" x1=\"811.989\" y1=\"731.193\" x2=\"795.989\" y2=\"715.193\" style=\"stroke:#ff0000; stroke-width:2.4; stroke-opacity:1\"/>\n",
       "<line clip-path=\"url(#clip762)\" x1=\"811.989\" y1=\"731.193\" x2=\"795.989\" y2=\"747.193\" style=\"stroke:#ff0000; stroke-width:2.4; stroke-opacity:1\"/>\n",
       "<line clip-path=\"url(#clip762)\" x1=\"811.989\" y1=\"731.193\" x2=\"827.989\" y2=\"747.193\" style=\"stroke:#ff0000; stroke-width:2.4; stroke-opacity:1\"/>\n",
       "<line clip-path=\"url(#clip762)\" x1=\"811.989\" y1=\"731.193\" x2=\"827.989\" y2=\"715.193\" style=\"stroke:#ff0000; stroke-width:2.4; stroke-opacity:1\"/>\n",
       "</svg>\n"
      ]
     },
     "execution_count": 7,
     "metadata": {},
     "output_type": "execute_result"
    }
   ],
   "source": [
    "function plot_state(Xe, w, xmin, xmax, ymin, ymax)\n",
    "    ŷ = sign.(Xe * w)                 # predict classification\n",
    "    correct = (y .== ŷ)               # vector of correct classification data\n",
    "    misclassified = (y .!= ŷ)         # vector of misclassified data\n",
    "    \n",
    "    colors_o = [y[i]==1 ? \"blue\" : \"red\" for i in findall(correct)]\n",
    "    colors_x = [y[i]==1 ? \"blue\" : \"red\" for i in findall(misclassified)]\n",
    "    \n",
    "    #ploting perceptron line\n",
    "    a = -w[2] / w[3] # slope\n",
    "    b = -w[1] / w[3] # intercept\n",
    "    x_l = range(xmin, xmax; length=50)\n",
    "    y_l = a * x_l .+ b\n",
    "    gr()\n",
    "    plot(x_l, y_l, lims=(xmin, xmax), size=(300,300), linewidth = 2, legend=false)\n",
    "    \n",
    "    #plotting data\n",
    "    scatter!(X[correct, 1],       X[correct, 2],       markershape = :o, markercolor = colors_o)\n",
    "    scatter!(X[misclassified, 1], X[misclassified, 2], markershape = :x, markercolor = colors_x, msalpha = 1)\n",
    "end\n",
    "\n",
    "#w0 = [0.5; -1; 1]\n",
    "w0 = [-0.5; 1; 1]\n",
    "\n",
    "plot_state(Xe, w0, xmin, xmax, ymin, ymax)"
   ]
  },
  {
   "cell_type": "code",
   "execution_count": 11,
   "id": "b47e747e",
   "metadata": {},
   "outputs": [
    {
     "data": {
      "text/plain": [
       "5"
      ]
     },
     "metadata": {},
     "output_type": "display_data"
    },
    {
     "data": {
      "text/plain": [
       "5-element Array{Float64,1}:\n",
       " -1.0\n",
       "  1.0\n",
       "  1.0\n",
       " -1.0\n",
       "  1.0"
      ]
     },
     "metadata": {},
     "output_type": "display_data"
    },
    {
     "data": {
      "text/plain": [
       "5×3 Array{Float64,2}:\n",
       " 1.0  1.3  -0.2\n",
       " 1.0  0.0   0.0\n",
       " 1.0  0.0   1.0\n",
       " 1.0  1.0   0.0\n",
       " 1.0  1.0   1.0"
      ]
     },
     "metadata": {},
     "output_type": "display_data"
    },
    {
     "ename": "DimensionMismatch",
     "evalue": "\u001b[91mDimensionMismatch(\"A has dimensions (5,1) but B has dimensions (5,3)\")\u001b[39m",
     "output_type": "error",
     "traceback": [
      "\u001b[91mDimensionMismatch(\"A has dimensions (5,1) but B has dimensions (5,3)\")\u001b[39m",
      "",
      "Stacktrace:",
      " [1] gemm_wrapper!(::Array{Float64,2}, ::Char, ::Char, ::Array{Float64,2}, ::Array{Float64,2}, ::LinearAlgebra.MulAddMul{true,true,Bool,Bool}) at /build/julia-98cBbp/julia-1.4.1+dfsg/usr/share/julia/stdlib/v1.4/LinearAlgebra/src/matmul.jl:569",
      " [2] mul! at /build/julia-98cBbp/julia-1.4.1+dfsg/usr/share/julia/stdlib/v1.4/LinearAlgebra/src/matmul.jl:169 [inlined]",
      " [3] mul! at /build/julia-98cBbp/julia-1.4.1+dfsg/usr/share/julia/stdlib/v1.4/LinearAlgebra/src/matmul.jl:208 [inlined]",
      " [4] * at /build/julia-98cBbp/julia-1.4.1+dfsg/usr/share/julia/stdlib/v1.4/LinearAlgebra/src/matmul.jl:160 [inlined]",
      " [5] * at /build/julia-98cBbp/julia-1.4.1+dfsg/usr/share/julia/stdlib/v1.4/LinearAlgebra/src/matmul.jl:63 [inlined]",
      " [6] perceptron(::Array{Float64,2}, ::Array{Float64,1}, ::Array{Float64,1}, ::Bool) at ./In[11]:17",
      " [7] perceptron(::Array{Float64,2}, ::Array{Float64,1}, ::Array{Float64,1}) at ./In[11]:2",
      " [8] top-level scope at In[11]:23"
     ]
    }
   ],
   "source": [
    "function perceptron(Xe, y, w0, plot=false)\n",
    "    w = copy(w0)\n",
    "    \n",
    "    while true\n",
    "        ŷ = sign.(Xe * w)\n",
    "        correct = (y .== ŷ)\n",
    "        misclassified = (y .!= ŷ)\n",
    "        \n",
    "        display(size(misclassified)[1])\n",
    "        if size(misclassified)[1]==0\n",
    "            break\n",
    "        end\n",
    "        \n",
    "        # w(t+1) = w(t) + y(t) * x(t)\n",
    "        display(y)\n",
    "        display(Xe)\n",
    "        w = w + y * Xe\n",
    "        \n",
    "        break\n",
    "\n",
    "    end\n",
    "end\n",
    "    \n",
    "perceptron(Xe, y, w0)"
   ]
  }
 ],
 "metadata": {
  "kernelspec": {
   "display_name": "Julia 1.4.1",
   "language": "julia",
   "name": "julia-1.4"
  },
  "language_info": {
   "file_extension": ".jl",
   "mimetype": "application/julia",
   "name": "julia",
   "version": "1.4.1"
  }
 },
 "nbformat": 4,
 "nbformat_minor": 5
}
