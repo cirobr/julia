{
 "cells": [
  {
   "cell_type": "markdown",
   "id": "25f5560d",
   "metadata": {},
   "source": [
    "ep1"
   ]
  },
  {
   "cell_type": "code",
   "execution_count": 1,
   "id": "c7d2106e",
   "metadata": {},
   "outputs": [],
   "source": [
    "# libraries\n"
   ]
  },
  {
   "cell_type": "code",
   "execution_count": 1,
   "id": "248673f3",
   "metadata": {},
   "outputs": [
    {
     "name": "stdout",
     "output_type": "stream",
     "text": [
      "Shape of array X: (5,)\n",
      "Number of samples: 5\n",
      "Dimension of X vector: (2,)\n"
     ]
    }
   ],
   "source": [
    "# Create an array with N points\n",
    "xmin = ymin = -1\n",
    "xmax = ymax = 2\n",
    "\n",
    "X = [[1.3, -0.2],\n",
    "     [0,0],\n",
    "     [0,1],\n",
    "     [1,0],\n",
    "     [1,1]]\n",
    "println(\"Shape of array X: \", size(X))\n",
    "N = size(X)[1]\n",
    "d = size(X[1])\n",
    "println(\"Number of samples: \", N)\n",
    "println(\"Dimension of X vector: \", d)"
   ]
  },
  {
   "cell_type": "code",
   "execution_count": 17,
   "id": "909b63c3",
   "metadata": {},
   "outputs": [
    {
     "name": "stdout",
     "output_type": "stream",
     "text": [
      "(5,)\n",
      "[1.3, -0.2]\n"
     ]
    }
   ],
   "source": [
    "println(size(X))\n",
    "println(X[1])"
   ]
  },
  {
   "cell_type": "code",
   "execution_count": 3,
   "id": "2902521e",
   "metadata": {},
   "outputs": [
    {
     "data": {
      "text/plain": [
       "-0.2"
      ]
     },
     "execution_count": 3,
     "metadata": {},
     "output_type": "execute_result"
    }
   ],
   "source": [
    "X[1][2]"
   ]
  },
  {
   "cell_type": "code",
   "execution_count": null,
   "id": "7df5a6d2",
   "metadata": {},
   "outputs": [],
   "source": [
    "# add a left column with 1's into X -- X extended,\n",
    "# that way Xi has the same number of elements of the weight array\n",
    "def add_column_of_ones(X):\n",
    "    return np.hstack(( np.ones((X.shape[0],1)), X ) )\n",
    "Xe = add_column_of_ones(X)\n",
    "print(\"Shape of array Xe: \", Xe.shape)\n"
   ]
  }
 ],
 "metadata": {
  "kernelspec": {
   "display_name": "Julia 1.4.1",
   "language": "julia",
   "name": "julia-1.4"
  },
  "language_info": {
   "file_extension": ".jl",
   "mimetype": "application/julia",
   "name": "julia",
   "version": "1.4.1"
  }
 },
 "nbformat": 4,
 "nbformat_minor": 5
}
