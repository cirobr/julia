{
 "cells": [
  {
   "cell_type": "markdown",
   "id": "91995805",
   "metadata": {},
   "source": [
    "### Demonstration of GLM with MNIST\n",
    "\n",
    "Superseeded by MLJ version. Solved problems:\n",
    "* Factorization of categorical outcome\n",
    "* Flexibility for tuning/optimization"
   ]
  },
  {
   "cell_type": "markdown",
   "id": "35c27c62",
   "metadata": {},
   "source": [
    "#### Get the data"
   ]
  },
  {
   "cell_type": "code",
   "execution_count": null,
   "id": "e3ac7efa",
   "metadata": {},
   "outputs": [],
   "source": [
    "# libraries\n",
    "using Flux             # the julia ml library\n",
    "using Images           # image processing and machine vision for julia\n",
    "using MLJ              # make_blobs, rmse, ConfusionMatrix\n",
    "using MLDataUtils      # label, nlabel, labelfreq\n",
    "using MLDatasets       # mnist\n",
    "\n",
    "using GLM              # lm, glm, predict\n",
    "\n",
    "using LinearAlgebra    # pinv pseudo-inverse matrix\n",
    "using Metrics          # r2-score\n",
    "using Random\n",
    "using StatsBase        # standardize (normalization)\n",
    "using Distributions\n",
    "\n",
    "using Plots; gr()\n",
    "using StatsPlots\n",
    "using Printf\n",
    "\n",
    "using CSV\n",
    "using DataFrames\n",
    "using CategoricalArrays   # advised by GLM docs\n"
   ]
  },
  {
   "cell_type": "code",
   "execution_count": null,
   "id": "e44c4aa3",
   "metadata": {},
   "outputs": [],
   "source": [
    "# load mnist from MLDatasets\n",
    "trainX_original,      trainY_original      = MNIST.traindata()\n",
    "validationX_original, validationY_original = MNIST.testdata();\n",
    "\n",
    "display([MNIST.convert2image(MNIST.traintensor(i)) for i in 1:5])\n",
    "trainY_original[1:5]'"
   ]
  },
  {
   "cell_type": "code",
   "execution_count": null,
   "id": "24e46d4d",
   "metadata": {},
   "outputs": [],
   "source": [
    "# trainset, testset, validation set\n",
    "Random.seed!(1)\n",
    "(trainX, trainY), (testX, testY) = stratifiedobs((trainX_original, trainY_original), p = 0.7)\n",
    "validationX = copy(validationX_original); validationY = copy(validationY_original)\n",
    "\n",
    "size(trainX), size(testX), size(validationX)"
   ]
  },
  {
   "cell_type": "code",
   "execution_count": null,
   "id": "629a3d62",
   "metadata": {},
   "outputs": [],
   "source": [
    "# functions for feature extraction\n",
    "meanIntensity(img) = mean(Float64.(img))\n",
    "\n",
    "function hSymmetry(img)\n",
    "    imgFloat = Float64.(img)\n",
    "    imgReverse = reverse(imgFloat, dims=1)\n",
    "    return -mean( abs.(imgFloat - imgReverse) )\n",
    "end"
   ]
  },
  {
   "cell_type": "code",
   "execution_count": null,
   "id": "2f85524c",
   "metadata": {},
   "outputs": [],
   "source": [
    "h, v, N = size(trainX)\n",
    "a = [meanIntensity( trainX[:, :, i] ) for i in 1:N]\n",
    "b = [hSymmetry( trainX[:, :, i] )     for i in 1:N]\n",
    "trainX = hcat(a, b)\n",
    "display(size(trainX))\n"
   ]
  },
  {
   "cell_type": "code",
   "execution_count": null,
   "id": "f02e36f3",
   "metadata": {},
   "outputs": [],
   "source": [
    "# rescale predictors\n",
    "function rescaleByColumns(X)\n",
    "    # using StatsBase\n",
    "    X = Float64.(X)\n",
    "    dt = fit(ZScoreTransform, X; dims=1, center=true, scale=true)\n",
    "    rescaledX = StatsBase.transform(dt, X)\n",
    "end\n",
    "\n",
    "trainX = rescaleByColumns(trainX)\n",
    "mean(trainX, dims=1)"
   ]
  },
  {
   "cell_type": "code",
   "execution_count": null,
   "id": "7aac60a9",
   "metadata": {},
   "outputs": [],
   "source": [
    "# select two classes\n",
    "P = 5   # positive class\n",
    "N = 1   # negative class\n",
    "\n",
    "# data selection from above classes and sizes\n",
    "trainX = vcat( trainX[trainY .== P, :], trainX[trainY .== N, :] )\n",
    "trainY = vcat( trainY[trainY .== P],    trainY[trainY .== N] )\n",
    "levels(trainY)"
   ]
  },
  {
   "cell_type": "code",
   "execution_count": null,
   "id": "124b71ae",
   "metadata": {},
   "outputs": [],
   "source": [
    "# rename Y classes\n",
    "trainY = [i == N ? 0 : 1 for i in trainY]\n",
    "levels(trainY)"
   ]
  },
  {
   "cell_type": "markdown",
   "id": "4e5cac25",
   "metadata": {},
   "source": [
    "### Fit the model"
   ]
  },
  {
   "cell_type": "code",
   "execution_count": null,
   "id": "53ae28a6",
   "metadata": {},
   "outputs": [],
   "source": [
    "# fit the model\n",
    "glmFit = glm(trainX, trainY, Binomial())\n",
    "p = GLM.predict(glmFit)   # predict with trainset (no need to declare it)\n",
    "ŷ = [i > 0.5 ? 1 : 0 for i in p]\n",
    "\n",
    "# metrics\n",
    "display(MLJ.rmse(ŷ, trainY))\n",
    "MLJ.confmat(ŷ, trainY)"
   ]
  },
  {
   "cell_type": "code",
   "execution_count": null,
   "id": "e2dc2e7e",
   "metadata": {},
   "outputs": [],
   "source": []
  }
 ],
 "metadata": {
  "kernelspec": {
   "display_name": "Julia 1.6.5",
   "language": "julia",
   "name": "julia-1.6"
  },
  "language_info": {
   "file_extension": ".jl",
   "mimetype": "application/julia",
   "name": "julia",
   "version": "1.6.5"
  }
 },
 "nbformat": 4,
 "nbformat_minor": 5
}
