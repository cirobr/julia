{
 "cells": [
  {
   "cell_type": "markdown",
   "id": "17894191",
   "metadata": {},
   "source": [
    "Plots"
   ]
  },
  {
   "cell_type": "code",
   "execution_count": null,
   "id": "36a2c350",
   "metadata": {},
   "outputs": [],
   "source": [
    "using Plots; gr()   # gr backend"
   ]
  },
  {
   "cell_type": "code",
   "execution_count": null,
   "id": "a794f6fd",
   "metadata": {},
   "outputs": [],
   "source": [
    "x = 1:10\n",
    "f(x) = x^2 - 7x\n",
    "y = f.(x)\n",
    "y'"
   ]
  },
  {
   "cell_type": "code",
   "execution_count": null,
   "id": "40ce9e3d",
   "metadata": {},
   "outputs": [],
   "source": [
    "plot(x, y, label=\"line\", title=\"Equação de Parábola\")   # plot a line\n",
    "scatter!(x, y, label=\"points\")                          # mutate previous plot (!) and add points at same chart\n",
    "xlabel!(\"Eixo x\")\n",
    "ylabel!(\"f(x)\")"
   ]
  }
 ],
 "metadata": {
  "kernelspec": {
   "display_name": "Julia 1.6.6",
   "language": "julia",
   "name": "julia-1.6"
  },
  "language_info": {
   "file_extension": ".jl",
   "mimetype": "application/julia",
   "name": "julia",
   "version": "1.6.6"
  }
 },
 "nbformat": 4,
 "nbformat_minor": 5
}
