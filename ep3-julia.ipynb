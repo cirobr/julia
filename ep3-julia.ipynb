{
 "cells": [
  {
   "cell_type": "code",
   "execution_count": 1,
   "id": "dab29adf",
   "metadata": {},
   "outputs": [],
   "source": [
    "# libraries\n",
    "using Metrics          # r2-score\n",
    "using Random\n",
    "using Distributions\n",
    "using Plots; gr()\n",
    "using Printf\n",
    "\n",
    "using CSV\n",
    "using DataFrames"
   ]
  },
  {
   "cell_type": "code",
   "execution_count": 2,
   "id": "7fe0ab62",
   "metadata": {},
   "outputs": [
    {
     "data": {
      "text/plain": [
       "cross_entropy_loss (generic function with 1 method)"
      ]
     },
     "execution_count": 2,
     "metadata": {},
     "output_type": "execute_result"
    }
   ],
   "source": [
    "function cross_entropy_loss(w, X, y)\n",
    "    xpn = -y .* (w' * X)\n",
    "    res = log( 1 + exp(xpn) )\n",
    "    loss = mean(res)\n",
    "end"
   ]
  },
  {
   "cell_type": "code",
   "execution_count": 3,
   "id": "1f023c70",
   "metadata": {},
   "outputs": [
    {
     "data": {
      "text/plain": [
       "cross_entropy_gradient (generic function with 1 method)"
      ]
     },
     "execution_count": 3,
     "metadata": {},
     "output_type": "execute_result"
    }
   ],
   "source": [
    "function cross_entropy_gradient(w, X, y)\n",
    "    xpn = -y .* (w' * X)\n",
    "\n",
    "    numerator = y .* x\n",
    "    denominator = log( 1 + exp(xpn) )\n",
    "    res = numerator ./ denominator\n",
    "    grad = -mean(res, dims=1)   # média por coluna\n",
    "end"
   ]
  }
 ],
 "metadata": {
  "kernelspec": {
   "display_name": "Julia 1.4.1",
   "language": "julia",
   "name": "julia-1.4"
  },
  "language_info": {
   "file_extension": ".jl",
   "mimetype": "application/julia",
   "name": "julia",
   "version": "1.4.1"
  }
 },
 "nbformat": 4,
 "nbformat_minor": 5
}
